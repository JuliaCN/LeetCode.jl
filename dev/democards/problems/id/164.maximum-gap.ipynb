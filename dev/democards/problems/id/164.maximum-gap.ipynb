{
 "cells": [
  {
   "cell_type": "markdown",
   "source": [
    "@lc app=leetcode id=164 lang=python3\n",
    "\n",
    "[164] Maximum Gap"
   ],
   "metadata": {}
  },
  {
   "outputs": [
    {
     "output_type": "execute_result",
     "data": {
      "text/plain": "\"Given an unsorted array, find the maximum difference between the successive elements in its sorted form.\\n\\nReturn 0 if the array contains less than 2 elements.\\n\\nExample 1:\\n\\nInput: [3,6,9,1]\\nOutput: 3\\nExplanation: The sorted form of the array is [1,3,6,9], either\\n             (3,6) or (6,9) has the maximum difference 3.\\nExample 2:\\n\\nInput: [10]\\nOutput: 0\\nExplanation: The array contains less than 2 elements, therefore return 0.\\nNote:\\n\\nYou may assume all elements in the array are non-negative integers and fit in the 32-bit signed integer range.\\nTry to solve it in linear time/space.\\n\""
     },
     "metadata": {},
     "execution_count": 1
    }
   ],
   "cell_type": "code",
   "source": [
    "\"\"\"\n",
    "Given an unsorted array, find the maximum difference between the successive elements in its sorted form.\n",
    "\n",
    "Return 0 if the array contains less than 2 elements.\n",
    "\n",
    "Example 1:\n",
    "\n",
    "Input: [3,6,9,1]\n",
    "Output: 3\n",
    "Explanation: The sorted form of the array is [1,3,6,9], either\n",
    "             (3,6) or (6,9) has the maximum difference 3.\n",
    "Example 2:\n",
    "\n",
    "Input: [10]\n",
    "Output: 0\n",
    "Explanation: The array contains less than 2 elements, therefore return 0.\n",
    "Note:\n",
    "\n",
    "You may assume all elements in the array are non-negative integers and fit in the 32-bit signed integer range.\n",
    "Try to solve it in linear time/space.\n",
    "\"\"\""
   ],
   "metadata": {},
   "execution_count": 1
  },
  {
   "cell_type": "markdown",
   "source": [
    "@lc code=start"
   ],
   "metadata": {}
  },
  {
   "outputs": [
    {
     "output_type": "execute_result",
     "data": {
      "text/plain": "maximum_gap (generic function with 1 method)"
     },
     "metadata": {},
     "execution_count": 2
    }
   ],
   "cell_type": "code",
   "source": [
    "function maximum_gap(nums::Vector{Int})::Int\n",
    "    sort!(nums)\n",
    "    return length(nums) < 2 ? 0 : maximum(@view(nums[2:end]) - @view(nums[1:(end - 1)]))\n",
    "end"
   ],
   "metadata": {},
   "execution_count": 2
  },
  {
   "cell_type": "markdown",
   "source": [
    "@lc code=end"
   ],
   "metadata": {}
  },
  {
   "cell_type": "markdown",
   "source": [
    "---\n",
    "\n",
    "*This notebook was generated using [Literate.jl](https://github.com/fredrikekre/Literate.jl).*"
   ],
   "metadata": {}
  }
 ],
 "nbformat_minor": 3,
 "metadata": {
  "language_info": {
   "file_extension": ".jl",
   "mimetype": "application/julia",
   "name": "julia",
   "version": "1.5.3"
  },
  "kernelspec": {
   "name": "julia-1.5",
   "display_name": "Julia 1.5.3",
   "language": "julia"
  }
 },
 "nbformat": 4
}
