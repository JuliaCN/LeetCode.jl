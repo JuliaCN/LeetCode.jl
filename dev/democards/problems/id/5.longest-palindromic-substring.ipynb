{
 "cells": [
  {
   "outputs": [
    {
     "output_type": "execute_result",
     "data": {
      "text/plain": "_longest_palindrome (generic function with 1 method)"
     },
     "metadata": {},
     "execution_count": 1
    }
   ],
   "cell_type": "code",
   "source": [
    "\"\"\"\n",
    "\n",
    "@lc app=leetcode id=5 lang=python3\n",
    "\n",
    "[5] Longest Palindromic Substring\n",
    "\n",
    "https://leetcode.com/problems/longest-palindromic-substring/description/\n",
    "\n",
    "algorithms\n",
    "Medium (28.55%)\n",
    "Likes:    7706\n",
    "Dislikes: 565\n",
    "Total Accepted:    1M\n",
    "Total Submissions: 3.4M\n",
    "Testcase Example:  '\"babad\"'\n",
    "\n",
    "Given a string s, find the longest palindromic substring in s. You may assume\n",
    "that the maximum length of s is 1000.\n",
    "\n",
    "Example 1:\n",
    "\n",
    "\n",
    "Input: \"babad\"\n",
    "Output: \"bab\"\n",
    "Note: \"aba\" is also a valid answer.\n",
    "\n",
    "\n",
    "Example 2:\n",
    "\n",
    "\n",
    "Input: \"cbbd\"\n",
    "Output: \"bb\"\n",
    "\n",
    "\n",
    "\n",
    "\n",
    "@lc code=start\n",
    "\"\"\"\n",
    "function longest_palindrome(s::String)::AbstractString\n",
    "    res = \"\"\n",
    "    for i in 1:length(s)\n",
    "        s_odd = _longest_palindrome(s, i, i)\n",
    "        if length(s_odd) > length(res)\n",
    "            res = s_odd\n",
    "        end\n",
    "        s_even = _longest_palindrome(s, i, i + 1)\n",
    "        if length(s_even) > length(res)\n",
    "            res = s_even\n",
    "        end\n",
    "    end\n",
    "    return res\n",
    "end\n",
    "\n",
    "function _longest_palindrome(s, l, r)\n",
    "    while l >= 1 && r <= length(s) && s[l] == s[r]\n",
    "        l -= 1\n",
    "        r += 1\n",
    "    end\n",
    "    return SubString(s, l + 1, r - 1)\n",
    "end"
   ],
   "metadata": {},
   "execution_count": 1
  },
  {
   "cell_type": "markdown",
   "source": [
    "---\n",
    "\n",
    "*This notebook was generated using [Literate.jl](https://github.com/fredrikekre/Literate.jl).*"
   ],
   "metadata": {}
  }
 ],
 "nbformat_minor": 3,
 "metadata": {
  "language_info": {
   "file_extension": ".jl",
   "mimetype": "application/julia",
   "name": "julia",
   "version": "1.5.3"
  },
  "kernelspec": {
   "name": "julia-1.5",
   "display_name": "Julia 1.5.3",
   "language": "julia"
  }
 },
 "nbformat": 4
}
