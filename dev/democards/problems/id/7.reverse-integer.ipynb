{
 "cells": [
  {
   "outputs": [
    {
     "output_type": "execute_result",
     "data": {
      "text/plain": "Main.##272.reverse_integer"
     },
     "metadata": {},
     "execution_count": 1
    }
   ],
   "cell_type": "code",
   "source": [
    "\"\"\"\n",
    "@lc app=leetcode id=7 lang=python3\n",
    "\n",
    "[7] Reverse Integer\n",
    "\n",
    "https://leetcode.com/problems/reverse-integer/description/\n",
    "\n",
    "algorithms\n",
    "Easy (25.60%)\n",
    "Likes:    2755\n",
    "Dislikes: 4283\n",
    "Total Accepted:    916.1K\n",
    "Total Submissions: 3.6M\n",
    "Testcase Example:  '123'\n",
    "\n",
    "Given a 32-bit signed integer, reverse digits of an integer.\n",
    "\n",
    "Example 1:\n",
    "\n",
    "\n",
    "Input: 123\n",
    "Output: 321\n",
    "\n",
    "\n",
    "Example 2:\n",
    "\n",
    "\n",
    "Input: -123\n",
    "Output: -321\n",
    "\n",
    "\n",
    "Example 3:\n",
    "\n",
    "\n",
    "Input: 120\n",
    "Output: 21\n",
    "\n",
    "\n",
    "Note:\n",
    "Assume we are dealing with an environment which could only store integers\n",
    "within the 32-bit signed integer range: [−2^31,  2^31 − 1]. For the purpose\n",
    "of this problem, assume that your function returns 0 when the reversed\n",
    "integer overflows.\n",
    "\n",
    "\n",
    "\n",
    "@lc code=start\n",
    "\"\"\"\n",
    "function reverse_integer(x::Int32)::Int\n",
    "    s = sign(x)\n",
    "    r = parse(Int, reverse(string(s * x)))\n",
    "    return r <= typemax(Int32) ? s * r : 0\n",
    "end"
   ],
   "metadata": {},
   "execution_count": 1
  },
  {
   "cell_type": "markdown",
   "source": [
    "---\n",
    "\n",
    "*This notebook was generated using [Literate.jl](https://github.com/fredrikekre/Literate.jl).*"
   ],
   "metadata": {}
  }
 ],
 "nbformat_minor": 3,
 "metadata": {
  "language_info": {
   "file_extension": ".jl",
   "mimetype": "application/julia",
   "name": "julia",
   "version": "1.5.3"
  },
  "kernelspec": {
   "name": "julia-1.5",
   "display_name": "Julia 1.5.3",
   "language": "julia"
  }
 },
 "nbformat": 4
}
