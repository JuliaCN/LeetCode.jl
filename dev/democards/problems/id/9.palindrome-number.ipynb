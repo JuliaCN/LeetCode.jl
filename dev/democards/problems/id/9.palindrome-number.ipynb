{
 "cells": [
  {
   "outputs": [
    {
     "output_type": "execute_result",
     "data": {
      "text/plain": "Main.##278.is_palindrome"
     },
     "metadata": {},
     "execution_count": 1
    }
   ],
   "cell_type": "code",
   "source": [
    "\"\"\"\n",
    "@lc app=leetcode id=9 lang=python3\n",
    "\n",
    "[9] Palindrome Number\n",
    "\n",
    "https://leetcode.com/problems/palindrome-number/description/\n",
    "\n",
    "algorithms\n",
    "Easy (46.22%)\n",
    "Likes:    1841\n",
    "Dislikes: 1457\n",
    "Total Accepted:    771.5K\n",
    "Total Submissions: 1.7M\n",
    "Testcase Example:  '121'\n",
    "\n",
    "Determine whether an integer is a palindrome. An integer is a palindrome when\n",
    "it reads the same backward as forward.\n",
    "\n",
    "Example 1:\n",
    "\n",
    "\n",
    "Input: 121\n",
    "Output: true\n",
    "\n",
    "\n",
    "Example 2:\n",
    "\n",
    "\n",
    "Input: -121\n",
    "Output: false\n",
    "Explanation: From left to right, it reads -121. From right to left, it\n",
    "becomes 121-. Therefore it is not a palindrome.\n",
    "\n",
    "\n",
    "Example 3:\n",
    "\n",
    "\n",
    "Input: 10\n",
    "Output: false\n",
    "Explanation: Reads 01 from right to left. Therefore it is not a palindrome.\n",
    "\n",
    "\n",
    "Follow up:\n",
    "\n",
    "Coud you solve it without converting the integer to a string?\n",
    "\n",
    "\n",
    "\n",
    "@lc code=start\n",
    "\"\"\"\n",
    "function is_palindrome(x::Int)::Bool\n",
    "    if x < 0\n",
    "        false\n",
    "    else\n",
    "        y = x\n",
    "        y_reverse = 0\n",
    "        while y > 0\n",
    "            y, n = divrem(y, 10)\n",
    "            y_reverse = y_reverse * 10 + n\n",
    "        end\n",
    "        x == y_reverse\n",
    "    end\n",
    "end"
   ],
   "metadata": {},
   "execution_count": 1
  },
  {
   "cell_type": "markdown",
   "source": [
    "---\n",
    "\n",
    "*This notebook was generated using [Literate.jl](https://github.com/fredrikekre/Literate.jl).*"
   ],
   "metadata": {}
  }
 ],
 "nbformat_minor": 3,
 "metadata": {
  "language_info": {
   "file_extension": ".jl",
   "mimetype": "application/julia",
   "name": "julia",
   "version": "1.5.3"
  },
  "kernelspec": {
   "name": "julia-1.5",
   "display_name": "Julia 1.5.3",
   "language": "julia"
  }
 },
 "nbformat": 4
}
