{
 "cells": [
  {
   "cell_type": "markdown",
   "source": [
    "@lc app=leetcode id=514 lang=python3\n",
    "\n",
    "[514] Freedom Trail\n",
    "\n",
    "In the video game Fallout 4, the quest \"Road to Freedom\" requires players to reach a metal dial called the \"Freedom Trail Ring\", and use the dial to spell a specific keyword in order to open the door.\n",
    "\n",
    "Given a string ring, which represents the code engraved on the outer ring and another string key, which represents the keyword needs to be spelled. You need to find the minimum number of steps in order to spell all the characters in the keyword.\n",
    "\n",
    "Initially, the first character of the ring is aligned at 12:00 direction. You need to spell all the characters in the string key one by one by rotating the ring clockwise or anticlockwise to make each character of the string key aligned at 12:00 direction and then by pressing the center button.\n",
    "\n",
    "At the stage of rotating the ring to spell the key character key[i]:\n",
    "\n",
    "You can rotate the ring clockwise or anticlockwise one place, which counts as 1 step. The final purpose of the rotation is to align one of the string ring's characters at the 12:00 direction, where this character must equal to the character key[i].\n",
    "If the character key[i] has been aligned at the 12:00 direction, you need to press the center button to spell, which also counts as 1 step. After the pressing, you could begin to spell the next character in the key (next stage), otherwise, you've finished all the spelling.\n",
    "Example:\n",
    "\n",
    "\n",
    "Input: ring = \"godding\", key = \"gd\"\n",
    "Output: 4\n",
    "Explanation:\n",
    "For the first key character 'g', since it is already in place, we just need 1 step to spell this character.\n",
    "For the second key character 'd', we need to rotate the ring \"godding\" anticlockwise by two steps to make it become \"ddinggo\".\n",
    "Also, we need 1 more step for spelling.\n",
    "So the final output is 4.\n",
    "Note:\n",
    "\n",
    "Length of both ring and key will be in range 1 to 100.\n",
    "There are only lowercase letters in both strings and might be some duplcate characters in both strings.\n",
    "It's guaranteed that string key could always be spelled by rotating the string ring.\n",
    "@lc code=start"
   ],
   "metadata": {}
  },
  {
   "outputs": [
    {
     "output_type": "execute_result",
     "data": {
      "text/plain": "find_rotate_steps (generic function with 1 method)"
     },
     "metadata": {},
     "execution_count": 1
    }
   ],
   "cell_type": "code",
   "source": [
    "function find_rotate_steps(ring::String, key::String)\n",
    "    lenr, lenk = length(ring), length(key)\n",
    "    dp1 = fill(typemax(Int), lenr)\n",
    "    dp2 = dp1[:]\n",
    "    mp = [Int[] for i in 1:26]\n",
    "    for i in 1:lenr\n",
    "        push!(mp[ring[i] - 'a' + 1], i)\n",
    "    end\n",
    "    for idx in mp[key[1] - 'a' + 1]\n",
    "        dp1[idx] = min(idx - 1, lenr - idx)\n",
    "    end\n",
    "    for i in 2:lenk\n",
    "        for idx1 in mp[key[i] - 'a' + 1]\n",
    "            for idx2 in mp[key[i - 1] - 'a' + 1]\n",
    "                dp2[idx1] = min(\n",
    "                    dp2[idx1], dp1[idx2] + min(abs(idx2 - idx1), lenr - abs(idx2 - idx1))\n",
    "                )\n",
    "            end\n",
    "        end\n",
    "        dp1, dp2 = dp2, dp1\n",
    "        dp2 .= typemax(Int)\n",
    "    end\n",
    "    return minimum(dp1) + lenk\n",
    "end"
   ],
   "metadata": {},
   "execution_count": 1
  },
  {
   "cell_type": "markdown",
   "source": [
    "@lc code=end"
   ],
   "metadata": {}
  },
  {
   "cell_type": "markdown",
   "source": [
    "---\n",
    "\n",
    "*This notebook was generated using [Literate.jl](https://github.com/fredrikekre/Literate.jl).*"
   ],
   "metadata": {}
  }
 ],
 "nbformat_minor": 3,
 "metadata": {
  "language_info": {
   "file_extension": ".jl",
   "mimetype": "application/julia",
   "name": "julia",
   "version": "1.5.3"
  },
  "kernelspec": {
   "name": "julia-1.5",
   "display_name": "Julia 1.5.3",
   "language": "julia"
  }
 },
 "nbformat": 4
}
