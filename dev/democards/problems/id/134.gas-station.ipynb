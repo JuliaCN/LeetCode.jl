{
 "cells": [
  {
   "cell_type": "markdown",
   "source": [
    "@lc app=leetcode id=134 lang=python3\n",
    "\n",
    "[134] Gas Station"
   ],
   "metadata": {}
  },
  {
   "outputs": [
    {
     "output_type": "execute_result",
     "data": {
      "text/plain": "\"There are N gas stations along a circular route, where the amount of gas at station i is gas[i].\\n\\nYou have a car with an unlimited gas tank and it costs cost[i] of gas to travel from station i to its next station (i+1). You begin the journey with an empty tank at one of the gas stations.\\n\\nReturn the starting gas station's index if you can travel around the circuit once in the clockwise direction, otherwise return -1.\\n\\nNote:\\n\\nIf there exists a solution, it is guaranteed to be unique.\\nBoth input arrays are non-empty and have the same length.\\nEach element in the input arrays is a non-negative integer.\\nExample 1:\\n```\\nInput:\\ngas  = [1,2,3,4,5]\\ncost = [3,4,5,1,2]\\n\\nOutput: 3\\n\\nExplanation:\\nStart at station 3 (index 3) and fill up with 4 unit of gas. Your tank = 0 + 4 = 4\\nTravel to station 4. Your tank = 4 - 1 + 5 = 8\\nTravel to station 0. Your tank = 8 - 2 + 1 = 7\\nTravel to station 1. Your tank = 7 - 3 + 2 = 6\\nTravel to station 2. Your tank = 6 - 4 + 3 = 5\\nTravel to station 3. The cost is 5. Your gas is just enough to travel back to station 3.\\nTherefore, return 3 as the starting index.\\n```\\nExample 2:\\n```\\nInput:\\ngas  = [2,3,4]\\ncost = [3,4,3]\\n\\nOutput: -1\\n\\nExplanation:\\nYou can't start at station 0 or 1, as there is not enough gas to travel to the next station.\\nLet's start at station 2 and fill up with 4 unit of gas. Your tank = 0 + 4 = 4\\nTravel to station 0. Your tank = 4 - 3 + 2 = 3\\nTravel to station 1. Your tank = 3 - 3 + 3 = 3\\nYou cannot travel back to station 2, as it requires 4 unit of gas but you only have 3.\\nTherefore, you can't travel around the circuit once no matter where you start.\\n```\\n\""
     },
     "metadata": {},
     "execution_count": 1
    }
   ],
   "cell_type": "code",
   "source": [
    "\"\"\"\n",
    "There are N gas stations along a circular route, where the amount of gas at station i is gas[i].\n",
    "\n",
    "You have a car with an unlimited gas tank and it costs cost[i] of gas to travel from station i to its next station (i+1). You begin the journey with an empty tank at one of the gas stations.\n",
    "\n",
    "Return the starting gas station's index if you can travel around the circuit once in the clockwise direction, otherwise return -1.\n",
    "\n",
    "Note:\n",
    "\n",
    "If there exists a solution, it is guaranteed to be unique.\n",
    "Both input arrays are non-empty and have the same length.\n",
    "Each element in the input arrays is a non-negative integer.\n",
    "Example 1:\n",
    "```\n",
    "Input:\n",
    "gas  = [1,2,3,4,5]\n",
    "cost = [3,4,5,1,2]\n",
    "\n",
    "Output: 3\n",
    "\n",
    "Explanation:\n",
    "Start at station 3 (index 3) and fill up with 4 unit of gas. Your tank = 0 + 4 = 4\n",
    "Travel to station 4. Your tank = 4 - 1 + 5 = 8\n",
    "Travel to station 0. Your tank = 8 - 2 + 1 = 7\n",
    "Travel to station 1. Your tank = 7 - 3 + 2 = 6\n",
    "Travel to station 2. Your tank = 6 - 4 + 3 = 5\n",
    "Travel to station 3. The cost is 5. Your gas is just enough to travel back to station 3.\n",
    "Therefore, return 3 as the starting index.\n",
    "```\n",
    "Example 2:\n",
    "```\n",
    "Input:\n",
    "gas  = [2,3,4]\n",
    "cost = [3,4,3]\n",
    "\n",
    "Output: -1\n",
    "\n",
    "Explanation:\n",
    "You can't start at station 0 or 1, as there is not enough gas to travel to the next station.\n",
    "Let's start at station 2 and fill up with 4 unit of gas. Your tank = 0 + 4 = 4\n",
    "Travel to station 0. Your tank = 4 - 3 + 2 = 3\n",
    "Travel to station 1. Your tank = 3 - 3 + 3 = 3\n",
    "You cannot travel back to station 2, as it requires 4 unit of gas but you only have 3.\n",
    "Therefore, you can't travel around the circuit once no matter where you start.\n",
    "```\n",
    "\"\"\""
   ],
   "metadata": {},
   "execution_count": 1
  },
  {
   "cell_type": "markdown",
   "source": [
    "@lc code=start"
   ],
   "metadata": {}
  },
  {
   "outputs": [
    {
     "output_type": "execute_result",
     "data": {
      "text/plain": "can_complete_circuit (generic function with 1 method)"
     },
     "metadata": {},
     "execution_count": 2
    }
   ],
   "cell_type": "code",
   "source": [
    "function can_complete_circuit(gas::Vector{Int}, cost::Vector{Int})\n",
    "    gas .-= cost\n",
    "    accumulate!(+, gas, gas)\n",
    "    if gas[end] < 0\n",
    "        return -1\n",
    "    end\n",
    "    return argmin(gas) % length(gas)\n",
    "end"
   ],
   "metadata": {},
   "execution_count": 2
  },
  {
   "cell_type": "markdown",
   "source": [
    "@lc code=end"
   ],
   "metadata": {}
  },
  {
   "cell_type": "markdown",
   "source": [
    "---\n",
    "\n",
    "*This notebook was generated using [Literate.jl](https://github.com/fredrikekre/Literate.jl).*"
   ],
   "metadata": {}
  }
 ],
 "nbformat_minor": 3,
 "metadata": {
  "language_info": {
   "file_extension": ".jl",
   "mimetype": "application/julia",
   "name": "julia",
   "version": "1.5.3"
  },
  "kernelspec": {
   "name": "julia-1.5",
   "display_name": "Julia 1.5.3",
   "language": "julia"
  }
 },
 "nbformat": 4
}
