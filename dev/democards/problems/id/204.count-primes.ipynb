{
 "cells": [
  {
   "cell_type": "markdown",
   "source": [
    "@lc app=leetcode id=204 lang=python3\n",
    "\n",
    "[204] Count Primes"
   ],
   "metadata": {}
  },
  {
   "outputs": [
    {
     "output_type": "execute_result",
     "data": {
      "text/plain": "\"Count the number of prime numbers less than a non-negative number, n.\\n\\n\\n\\nExample 1:\\n\\nInput: n = 10\\nOutput: 4\\nExplanation: There are 4 prime numbers less than 10, they are 2, 3, 5, 7.\\nExample 2:\\n\\nInput: n = 0\\nOutput: 0\\nExample 3:\\n\\nInput: n = 1\\nOutput: 0\\n\\n\\nConstraints:\\n\\n0 <= n <= 5 * 106\\n\""
     },
     "metadata": {},
     "execution_count": 1
    }
   ],
   "cell_type": "code",
   "source": [
    "\"\"\"\n",
    "Count the number of prime numbers less than a non-negative number, n.\n",
    "\n",
    "\n",
    "\n",
    "Example 1:\n",
    "\n",
    "Input: n = 10\n",
    "Output: 4\n",
    "Explanation: There are 4 prime numbers less than 10, they are 2, 3, 5, 7.\n",
    "Example 2:\n",
    "\n",
    "Input: n = 0\n",
    "Output: 0\n",
    "Example 3:\n",
    "\n",
    "Input: n = 1\n",
    "Output: 0\n",
    "\n",
    "\n",
    "Constraints:\n",
    "\n",
    "0 <= n <= 5 * 106\n",
    "\"\"\""
   ],
   "metadata": {},
   "execution_count": 1
  },
  {
   "cell_type": "markdown",
   "source": [
    "@lc code=start"
   ],
   "metadata": {}
  },
  {
   "outputs": [
    {
     "output_type": "execute_result",
     "data": {
      "text/plain": "count_primes (generic function with 1 method)"
     },
     "metadata": {},
     "execution_count": 2
    }
   ],
   "cell_type": "code",
   "source": [
    "function count_primes(n::Int)\n",
    "    if n <= 1\n",
    "        return 0\n",
    "    end\n",
    "    arr = fill(true, n - 1)\n",
    "    for i in 2 : n - 1\n",
    "        for j in i ^ 2 : i : (n - 1)\n",
    "            arr[j] = false\n",
    "        end\n",
    "    end\n",
    "    return sum(arr) - 1\n",
    "end"
   ],
   "metadata": {},
   "execution_count": 2
  },
  {
   "cell_type": "markdown",
   "source": [
    "@lc code=end"
   ],
   "metadata": {}
  },
  {
   "cell_type": "markdown",
   "source": [
    "---\n",
    "\n",
    "*This notebook was generated using [Literate.jl](https://github.com/fredrikekre/Literate.jl).*"
   ],
   "metadata": {}
  }
 ],
 "nbformat_minor": 3,
 "metadata": {
  "language_info": {
   "file_extension": ".jl",
   "mimetype": "application/julia",
   "name": "julia",
   "version": "1.5.3"
  },
  "kernelspec": {
   "name": "julia-1.5",
   "display_name": "Julia 1.5.3",
   "language": "julia"
  }
 },
 "nbformat": 4
}
