{
 "cells": [
  {
   "outputs": [
    {
     "output_type": "execute_result",
     "data": {
      "text/plain": "Main.##287.merge_sorted_array"
     },
     "metadata": {},
     "execution_count": 1
    }
   ],
   "cell_type": "code",
   "source": [
    "\"\"\"\n",
    "@lc app=leetcode id=88 lang=python3\n",
    "\n",
    "[88] Merge Sorted Array\n",
    "\n",
    "https://leetcode.com/problems/merge-sorted-array/description/\n",
    "\n",
    "algorithms\n",
    "Easy (37.77%)\n",
    "Likes:    2885\n",
    "Dislikes: 4635\n",
    "Total Accepted:    713K\n",
    "Total Submissions: 1.8M\n",
    "Testcase Example:  '[1,2,3,0,0,0]\\n3\\n[2,5,6]\\n3'\n",
    "\n",
    "Given two sorted integer arrays nums1 and nums2, merge nums2 into nums1 as\n",
    "one sorted array.\n",
    "\n",
    "Note:\n",
    "\n",
    "\n",
    "The number of elements initialized in nums1 and nums2 are m and n\n",
    "respectively.\n",
    "You may assume that nums1 has enough space (size that is equal to m + n) to\n",
    "hold additional elements from nums2.\n",
    "\n",
    "\n",
    "Example:\n",
    "\n",
    "\n",
    "Input:\n",
    "nums1 = [1,2,3,0,0,0], m = 3\n",
    "nums2 = [2,5,6],       n = 3\n",
    "\n",
    "Output: [1,2,2,3,5,6]\n",
    "\n",
    "\n",
    "\n",
    "Constraints:\n",
    "\n",
    "\n",
    "-10^9 <= nums1[i], nums2[i] <= 10^9\n",
    "nums1.length == m + n\n",
    "nums2.length == n\n",
    "\n",
    "\n",
    "\n",
    "\n",
    "@lc code=start\n",
    "\"\"\"\n",
    "function merge_sorted_array(\n",
    "    nums1::AbstractVector{Int}, m::Int, nums2::AbstractVector{Int}, n::Int\n",
    ")::Nothing\n",
    "    i = m + n\n",
    "    while m > 0 && n > 0\n",
    "        if nums1[m] > nums2[n]\n",
    "            nums1[i] = nums1[m]\n",
    "            m -= 1\n",
    "        else\n",
    "            nums1[i] = nums2[n]\n",
    "            n -= 1\n",
    "        end\n",
    "        i -= 1\n",
    "    end\n",
    "\n",
    "    while n > 0\n",
    "        nums1[i] = nums2[n]\n",
    "        n -= 1\n",
    "    end\n",
    "\n",
    "    return nothing\n",
    "end"
   ],
   "metadata": {},
   "execution_count": 1
  },
  {
   "cell_type": "markdown",
   "source": [
    "@lc code=end"
   ],
   "metadata": {}
  },
  {
   "cell_type": "markdown",
   "source": [
    "---\n",
    "\n",
    "*This notebook was generated using [Literate.jl](https://github.com/fredrikekre/Literate.jl).*"
   ],
   "metadata": {}
  }
 ],
 "nbformat_minor": 3,
 "metadata": {
  "language_info": {
   "file_extension": ".jl",
   "mimetype": "application/julia",
   "name": "julia",
   "version": "1.5.3"
  },
  "kernelspec": {
   "name": "julia-1.5",
   "display_name": "Julia 1.5.3",
   "language": "julia"
  }
 },
 "nbformat": 4
}
