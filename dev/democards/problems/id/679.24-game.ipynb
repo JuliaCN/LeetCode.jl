{
 "cells": [
  {
   "outputs": [
    {
     "output_type": "execute_result",
     "data": {
      "text/plain": "Main.##347.judgePoint24"
     },
     "metadata": {},
     "execution_count": 1
    }
   ],
   "cell_type": "code",
   "source": [
    "\"\"\"\n",
    "@lc app=leetcode id=679 lang=python3\n",
    "\n",
    "[679] 24 Game\n",
    "\n",
    "https://leetcode.com/problems/24-game/description/\n",
    "\n",
    "algorithms\n",
    "Hard (44.65%)\n",
    "Likes:    750\n",
    "Dislikes: 151\n",
    "Total Accepted:    42K\n",
    "Total Submissions: 90.2K\n",
    "Testcase Example:  '[4,1,8,7]'\n",
    "\n",
    "\n",
    "You have 4 cards each containing a number from 1 to 9.  You need to judge\n",
    "whether they could operated through *, /, +, -, (, ) to get the value of\n",
    "24.\n",
    "\n",
    "\n",
    "Example 1:\n",
    "\n",
    "Input: [4, 1, 8, 7]\n",
    "Output: True\n",
    "Explanation: (8-4) * (7-1) = 24\n",
    "\n",
    "\n",
    "\n",
    "Example 2:\n",
    "\n",
    "Input: [1, 2, 1, 2]\n",
    "Output: False\n",
    "\n",
    "\n",
    "\n",
    "Note:\n",
    "\n",
    "The division operator / represents real division, not integer division.  For\n",
    "example, 4 / (1 - 2/3) = 12.\n",
    "Every operation done is between two numbers.  In particular, we cannot use -\n",
    "as a unary operator.  For example, with [1, 1, 1, 1] as input, the expression\n",
    "-1 - 1 - 1 - 1 is not allowed.\n",
    "You cannot concatenate numbers together.  For example, if the input is [1, 2,\n",
    "1, 2], we cannot write this as 12 + 12.\n",
    "\n",
    "\n",
    "\n",
    "\n",
    "\n",
    "@lc code=start\n",
    "\"\"\"\n",
    "function judgePoint24(nums::Vector)::Bool\n",
    "    n = length(nums)\n",
    "    if n == 1\n",
    "        return nums[1] == 24\n",
    "    else\n",
    "        for i in 1:n\n",
    "            for j in 1:n\n",
    "                if j != i\n",
    "                    rest = [nums[k] for k in 1:n if k != i && k != j]\n",
    "                    if judgePoint24([rest..., nums[i] + nums[j]]) ||\n",
    "                       judgePoint24([rest..., nums[i] - nums[j]]) ||\n",
    "                       judgePoint24([rest..., nums[j] - nums[i]]) ||\n",
    "                       judgePoint24([rest..., nums[i] * nums[j]]) ||\n",
    "                       (!iszero(nums[j]) && judgePoint24([rest..., nums[i]//nums[j]])) ||\n",
    "                       (!iszero(nums[i]) && judgePoint24([rest..., nums[j]//nums[i]]))\n",
    "                        return true\n",
    "                    end\n",
    "                end\n",
    "            end\n",
    "        end\n",
    "        false\n",
    "    end\n",
    "end"
   ],
   "metadata": {},
   "execution_count": 1
  },
  {
   "cell_type": "markdown",
   "source": [
    "---\n",
    "\n",
    "*This notebook was generated using [Literate.jl](https://github.com/fredrikekre/Literate.jl).*"
   ],
   "metadata": {}
  }
 ],
 "nbformat_minor": 3,
 "metadata": {
  "language_info": {
   "file_extension": ".jl",
   "mimetype": "application/julia",
   "name": "julia",
   "version": "1.5.3"
  },
  "kernelspec": {
   "name": "julia-1.5",
   "display_name": "Julia 1.5.3",
   "language": "julia"
  }
 },
 "nbformat": 4
}
