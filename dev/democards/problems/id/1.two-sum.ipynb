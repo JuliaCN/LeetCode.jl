{
 "cells": [
  {
   "outputs": [
    {
     "output_type": "execute_result",
     "data": {
      "text/plain": "Main.##254.two_sum"
     },
     "metadata": {},
     "execution_count": 1
    }
   ],
   "cell_type": "code",
   "source": [
    "\"\"\"\n",
    "@lc app=leetcode id=1 lang=python\n",
    "\n",
    "[1] Two Sum\n",
    "\n",
    "https://leetcode.com/problems/two-sum/description/\n",
    "\n",
    "algorithms\n",
    "Easy (44.95%)\n",
    "Total Accepted:    2.5M\n",
    "Total Submissions: 5.5M\n",
    "Testcase Example:  '[2,7,11,15]\\n9'\n",
    "\n",
    "<p>Given an array of integers, return <strong>indices</strong> of the two\n",
    "numbers such that they add up to a specific target.</p>\n",
    "\n",
    "<p>You may assume that each input would have\n",
    "<strong><em>exactly</em></strong> one solution, and you may not use the\n",
    "<em>same</em> element twice.</p>\n",
    "\n",
    "<p><strong>Example:</strong></p>\n",
    "\n",
    "<pre>\n",
    "Given nums = [2, 7, 11, 15], target = 9,\n",
    "\n",
    "Because nums[<strong>0</strong>] + nums[<strong>1</strong>] = 2 + 7 = 9,\n",
    "return [<strong>0</strong>, <strong>1</strong>].\n",
    "</pre>\n",
    "\n",
    "\"\"\"\n",
    "function two_sum(nums::Vector{Int}, target::Int)::Union{Nothing,Tuple{Int,Int}}\n",
    "    seen = Dict{Int,Int}()\n",
    "    for (i, n) in enumerate(nums)\n",
    "        m = target - n\n",
    "        if haskey(seen, m)\n",
    "            return seen[m], i\n",
    "        else\n",
    "            seen[n] = i\n",
    "        end\n",
    "    end\n",
    "end"
   ],
   "metadata": {},
   "execution_count": 1
  },
  {
   "cell_type": "markdown",
   "source": [
    "---\n",
    "\n",
    "*This notebook was generated using [Literate.jl](https://github.com/fredrikekre/Literate.jl).*"
   ],
   "metadata": {}
  }
 ],
 "nbformat_minor": 3,
 "metadata": {
  "language_info": {
   "file_extension": ".jl",
   "mimetype": "application/julia",
   "name": "julia",
   "version": "1.5.3"
  },
  "kernelspec": {
   "name": "julia-1.5",
   "display_name": "Julia 1.5.3",
   "language": "julia"
  }
 },
 "nbformat": 4
}
