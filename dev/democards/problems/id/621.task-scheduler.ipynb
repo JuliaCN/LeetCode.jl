{
 "cells": [
  {
   "cell_type": "markdown",
   "source": [
    "@lc app=leetcode id=621 lang=Julia\n",
    "\n",
    "[621] Task Scheduler"
   ],
   "metadata": {}
  },
  {
   "outputs": [
    {
     "output_type": "execute_result",
     "data": {
      "text/plain": "\"Given a characters array tasks, representing the tasks a CPU needs to do, where each letter represents a different task. Tasks could be done in any order. Each task is done in one unit of time. For each unit of time, the CPU could complete either one task or just be idle.\\n\\nHowever, there is a non-negative integer n that represents the cooldown period between two same tasks (the same letter in the array), that is that there must be at least n units of time between any two same tasks.\\n\\nReturn the least number of units of times that the CPU will take to finish all the given tasks.\\n\\n\\n\\nExample 1:\\n\\nInput: tasks = [\\\"A\\\",\\\"A\\\",\\\"A\\\",\\\"B\\\",\\\"B\\\",\\\"B\\\"], n = 2\\nOutput: 8\\nExplanation:\\nA -> B -> idle -> A -> B -> idle -> A -> B\\nThere is at least 2 units of time between any two same tasks.\\nExample 2:\\n\\nInput: tasks = [\\\"A\\\",\\\"A\\\",\\\"A\\\",\\\"B\\\",\\\"B\\\",\\\"B\\\"], n = 0\\nOutput: 6\\nExplanation: On this case any permutation of size 6 would work since n = 0.\\n[\\\"A\\\",\\\"A\\\",\\\"A\\\",\\\"B\\\",\\\"B\\\",\\\"B\\\"]\\n[\\\"A\\\",\\\"B\\\",\\\"A\\\",\\\"B\\\",\\\"A\\\",\\\"B\\\"]\\n[\\\"B\\\",\\\"B\\\",\\\"B\\\",\\\"A\\\",\\\"A\\\",\\\"A\\\"]\\n...\\nAnd so on.\\nExample 3:\\n\\nInput: tasks = [\\\"A\\\",\\\"A\\\",\\\"A\\\",\\\"A\\\",\\\"A\\\",\\\"A\\\",\\\"B\\\",\\\"C\\\",\\\"D\\\",\\\"E\\\",\\\"F\\\",\\\"G\\\"], n = 2\\nOutput: 16\\nExplanation:\\nOne possible solution is\\nA -> B -> C -> A -> D -> E -> A -> F -> G -> A -> idle -> idle -> A -> idle -> idle -> A\\n\\n\\nConstraints:\\n\\n1 <= task.length <= 104\\ntasks[i] is upper-case English letter.\\nThe integer n is in the range [0, 100].\\n\""
     },
     "metadata": {},
     "execution_count": 1
    }
   ],
   "cell_type": "code",
   "source": [
    "\"\"\"\n",
    "Given a characters array tasks, representing the tasks a CPU needs to do, where each letter represents a different task. Tasks could be done in any order. Each task is done in one unit of time. For each unit of time, the CPU could complete either one task or just be idle.\n",
    "\n",
    "However, there is a non-negative integer n that represents the cooldown period between two same tasks (the same letter in the array), that is that there must be at least n units of time between any two same tasks.\n",
    "\n",
    "Return the least number of units of times that the CPU will take to finish all the given tasks.\n",
    "\n",
    "\n",
    "\n",
    "Example 1:\n",
    "\n",
    "Input: tasks = [\"A\",\"A\",\"A\",\"B\",\"B\",\"B\"], n = 2\n",
    "Output: 8\n",
    "Explanation:\n",
    "A -> B -> idle -> A -> B -> idle -> A -> B\n",
    "There is at least 2 units of time between any two same tasks.\n",
    "Example 2:\n",
    "\n",
    "Input: tasks = [\"A\",\"A\",\"A\",\"B\",\"B\",\"B\"], n = 0\n",
    "Output: 6\n",
    "Explanation: On this case any permutation of size 6 would work since n = 0.\n",
    "[\"A\",\"A\",\"A\",\"B\",\"B\",\"B\"]\n",
    "[\"A\",\"B\",\"A\",\"B\",\"A\",\"B\"]\n",
    "[\"B\",\"B\",\"B\",\"A\",\"A\",\"A\"]\n",
    "...\n",
    "And so on.\n",
    "Example 3:\n",
    "\n",
    "Input: tasks = [\"A\",\"A\",\"A\",\"A\",\"A\",\"A\",\"B\",\"C\",\"D\",\"E\",\"F\",\"G\"], n = 2\n",
    "Output: 16\n",
    "Explanation:\n",
    "One possible solution is\n",
    "A -> B -> C -> A -> D -> E -> A -> F -> G -> A -> idle -> idle -> A -> idle -> idle -> A\n",
    "\n",
    "\n",
    "Constraints:\n",
    "\n",
    "1 <= task.length <= 104\n",
    "tasks[i] is upper-case English letter.\n",
    "The integer n is in the range [0, 100].\n",
    "\"\"\""
   ],
   "metadata": {},
   "execution_count": 1
  },
  {
   "cell_type": "markdown",
   "source": [
    "@lc code=start"
   ],
   "metadata": {}
  },
  {
   "outputs": [
    {
     "output_type": "execute_result",
     "data": {
      "text/plain": "8"
     },
     "metadata": {},
     "execution_count": 2
    }
   ],
   "cell_type": "code",
   "source": [
    "function least_interval(tasks::Vector{Char}, n::Int)::Int\n",
    "    counter = fill(0, 26)\n",
    "    for ch in tasks\n",
    "        counter[UInt8(ch) - 0x40] += 1\n",
    "    end\n",
    "    sort!(counter, rev = true)\n",
    "    res = (n + 1) * counter[1] - n\n",
    "    for i in 2:26\n",
    "        if counter[i] == counter[i - 1]\n",
    "            res += 1\n",
    "        else\n",
    "            break\n",
    "        end\n",
    "    end\n",
    "    return max(length(tasks), res)\n",
    "end\n",
    "least_interval(['A','A','A','B','B','B'], 2)"
   ],
   "metadata": {},
   "execution_count": 2
  },
  {
   "cell_type": "markdown",
   "source": [
    "@lc code=end"
   ],
   "metadata": {}
  },
  {
   "cell_type": "markdown",
   "source": [
    "---\n",
    "\n",
    "*This notebook was generated using [Literate.jl](https://github.com/fredrikekre/Literate.jl).*"
   ],
   "metadata": {}
  }
 ],
 "nbformat_minor": 3,
 "metadata": {
  "language_info": {
   "file_extension": ".jl",
   "mimetype": "application/julia",
   "name": "julia",
   "version": "1.5.3"
  },
  "kernelspec": {
   "name": "julia-1.5",
   "display_name": "Julia 1.5.3",
   "language": "julia"
  }
 },
 "nbformat": 4
}
