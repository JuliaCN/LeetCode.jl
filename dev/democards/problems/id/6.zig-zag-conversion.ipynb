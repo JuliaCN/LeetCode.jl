{
 "cells": [
  {
   "outputs": [
    {
     "output_type": "execute_result",
     "data": {
      "text/plain": "Main.##269.zig_zag_convert"
     },
     "metadata": {},
     "execution_count": 1
    }
   ],
   "cell_type": "code",
   "source": [
    "\"\"\"\n",
    "@lc app=leetcode id=6 lang=python3\n",
    "\n",
    "[6] ZigZag Conversion\n",
    "\n",
    "https://leetcode.com/problems/zigzag-conversion/description/\n",
    "\n",
    "algorithms\n",
    "Medium (34.34%)\n",
    "Likes:    1799\n",
    "Dislikes: 4839\n",
    "Total Accepted:    481.5K\n",
    "Total Submissions: 1.3M\n",
    "Testcase Example:  '\"PAYPALISHIRING\"\\n3'\n",
    "\n",
    "The string \"PAYPALISHIRING\" is written in a zigzag pattern on a given number\n",
    "of rows like this: (you may want to display this pattern in a fixed font for\n",
    "better legibility)\n",
    "\n",
    "\n",
    "P   A   H   N\n",
    "A P L S I I G\n",
    "Y   I   R\n",
    "\n",
    "\n",
    "And then read line by line: \"PAHNAPLSIIGYIR\"\n",
    "\n",
    "Write the code that will take a string and make this conversion given a\n",
    "number of rows:\n",
    "\n",
    "\n",
    "string convert(string s, int numRows);\n",
    "\n",
    "Example 1:\n",
    "\n",
    "\n",
    "Input: s = \"PAYPALISHIRING\", numRows = 3\n",
    "Output: \"PAHNAPLSIIGYIR\"\n",
    "\n",
    "\n",
    "Example 2:\n",
    "\n",
    "\n",
    "Input: s = \"PAYPALISHIRING\", numRows = 4\n",
    "Output: \"PINALSIGYAHRPI\"\n",
    "Explanation:\n",
    "\n",
    "P     I    N\n",
    "A   L S  I G\n",
    "Y A   H R\n",
    "P     I\n",
    "\n",
    "\n",
    "\n",
    "@lc code=start\n",
    "\"\"\"\n",
    "function zig_zag_convert(s::String, num_rows::Int)::String\n",
    "    if num_rows == 1 || num_rows >= length(s)\n",
    "        s\n",
    "    else\n",
    "        table = [Char[] for _ in 1:num_rows]\n",
    "        i, dir = 1, 1\n",
    "        for x in s\n",
    "            push!(table[i], x)\n",
    "            if i == 1\n",
    "                dir = 1\n",
    "            elseif i == num_rows\n",
    "                dir = -1\n",
    "            end\n",
    "            i += dir\n",
    "        end\n",
    "        join(Iterators.flatten(table))\n",
    "    end\n",
    "end"
   ],
   "metadata": {},
   "execution_count": 1
  },
  {
   "cell_type": "markdown",
   "source": [
    "---\n",
    "\n",
    "*This notebook was generated using [Literate.jl](https://github.com/fredrikekre/Literate.jl).*"
   ],
   "metadata": {}
  }
 ],
 "nbformat_minor": 3,
 "metadata": {
  "language_info": {
   "file_extension": ".jl",
   "mimetype": "application/julia",
   "name": "julia",
   "version": "1.5.3"
  },
  "kernelspec": {
   "name": "julia-1.5",
   "display_name": "Julia 1.5.3",
   "language": "julia"
  }
 },
 "nbformat": 4
}
