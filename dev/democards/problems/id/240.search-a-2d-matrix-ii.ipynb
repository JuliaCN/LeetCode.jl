{
 "cells": [
  {
   "outputs": [
    {
     "output_type": "execute_result",
     "data": {
      "text/plain": "Main.##317.search_matrix"
     },
     "metadata": {},
     "execution_count": 1
    }
   ],
   "cell_type": "code",
   "source": [
    "\"\"\"\n",
    "[240] Medium [Search a 2D Matrix II](https://leetcode.com/problems/search-a-2d-matrix-ii/description/)\n",
    "\n",
    "Write an efficient algorithm that searches for a value in an *m* x *n* matrix. This matrix has the following properties:\n",
    "\n",
    "+ Integers in each row are sorted in ascending from left to right.\n",
    "+ Integers in each column are sorted in ascending from top to bottom.\n",
    "\n",
    "# Example:\n",
    "\n",
    "Consider the following matrix:\n",
    "\n",
    "```\n",
    "[\n",
    "    [1,   4,  7, 11, 15],\n",
    "    [2,   5,  8, 12, 19],\n",
    "    [3,   6,  9, 16, 22],\n",
    "    [10, 13, 14, 17, 24],\n",
    "    [18, 21, 23, 26, 30]\n",
    "]\n",
    "```\n",
    "\n",
    "Given target = `5`, return `true`.\n",
    "\n",
    "Given target = `20`, return `false`.\n",
    "\"\"\"\n",
    "function search_matrix(matrix::Matrix{Int}, target::Int)::Bool\n",
    "    row, col = size(matrix)\n",
    "    i, j = row, 1\n",
    "\n",
    "    while (i > 0 && j <= col)\n",
    "        last = matrix[i, j]\n",
    "\n",
    "        if (last == target)\n",
    "            return true\n",
    "        elseif last > target\n",
    "            i -= 1\n",
    "        else\n",
    "            j += 1\n",
    "        end\n",
    "    end\n",
    "\n",
    "    return false\n",
    "end"
   ],
   "metadata": {},
   "execution_count": 1
  },
  {
   "cell_type": "markdown",
   "source": [
    "---\n",
    "\n",
    "*This notebook was generated using [Literate.jl](https://github.com/fredrikekre/Literate.jl).*"
   ],
   "metadata": {}
  }
 ],
 "nbformat_minor": 3,
 "metadata": {
  "language_info": {
   "file_extension": ".jl",
   "mimetype": "application/julia",
   "name": "julia",
   "version": "1.5.3"
  },
  "kernelspec": {
   "name": "julia-1.5",
   "display_name": "Julia 1.5.3",
   "language": "julia"
  }
 },
 "nbformat": 4
}
