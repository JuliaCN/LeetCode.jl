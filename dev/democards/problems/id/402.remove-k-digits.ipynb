{
 "cells": [
  {
   "cell_type": "markdown",
   "source": [
    "@lc app=leetcode id=402 lang=julia\n",
    "\n",
    "[402] Remove K Digits"
   ],
   "metadata": {}
  },
  {
   "outputs": [
    {
     "output_type": "execute_result",
     "data": {
      "text/plain": "\"Given a non-negative integer num represented as a string, remove k digits from the number so that the new number is the smallest possible.\\n\\nNote:\\nThe length of num is less than 10002 and will be ≥ k.\\nThe given num does not contain any leading zero.\\nExample 1:\\n\\nInput: num = \\\"1432219\\\", k = 3\\nOutput: \\\"1219\\\"\\nExplanation: Remove the three digits 4, 3, and 2 to form the new number 1219 which is the smallest.\\nExample 2:\\n\\nInput: num = \\\"10200\\\", k = 1\\nOutput: \\\"200\\\"\\nExplanation: Remove the leading 1 and the number is 200. Note that the output must not contain leading zeroes.\\nExample 3:\\n\\nInput: num = \\\"10\\\", k = 2\\nOutput: \\\"0\\\"\\nExplanation: Remove all the digits from the number and it is left with nothing which is 0.\\n\""
     },
     "metadata": {},
     "execution_count": 1
    }
   ],
   "cell_type": "code",
   "source": [
    "\"\"\"\n",
    "Given a non-negative integer num represented as a string, remove k digits from the number so that the new number is the smallest possible.\n",
    "\n",
    "Note:\n",
    "The length of num is less than 10002 and will be ≥ k.\n",
    "The given num does not contain any leading zero.\n",
    "Example 1:\n",
    "\n",
    "Input: num = \"1432219\", k = 3\n",
    "Output: \"1219\"\n",
    "Explanation: Remove the three digits 4, 3, and 2 to form the new number 1219 which is the smallest.\n",
    "Example 2:\n",
    "\n",
    "Input: num = \"10200\", k = 1\n",
    "Output: \"200\"\n",
    "Explanation: Remove the leading 1 and the number is 200. Note that the output must not contain leading zeroes.\n",
    "Example 3:\n",
    "\n",
    "Input: num = \"10\", k = 2\n",
    "Output: \"0\"\n",
    "Explanation: Remove all the digits from the number and it is left with nothing which is 0.\n",
    "\"\"\""
   ],
   "metadata": {},
   "execution_count": 1
  },
  {
   "cell_type": "markdown",
   "source": [
    "@lc code=start"
   ],
   "metadata": {}
  },
  {
   "outputs": [
    {
     "output_type": "execute_result",
     "data": {
      "text/plain": "remove_kdigits (generic function with 1 method)"
     },
     "metadata": {},
     "execution_count": 2
    }
   ],
   "cell_type": "code",
   "source": [
    "function remove_kdigits(num::String, k::Int)::String\n",
    "    num_code = codeunits(num)\n",
    "    stk = UInt8[]\n",
    "    for ch in num_code\n",
    "        if k == 0 || isempty(stk)\n",
    "            push!(stk, ch)\n",
    "        else\n",
    "            while !isempty(stk) && stk[end] > ch && k > 0\n",
    "                pop!(stk)\n",
    "                k -= 1\n",
    "            end\n",
    "            push!(stk, ch)\n",
    "        end\n",
    "    end\n",
    "    idx = findfirst(x -> x != UInt8('0'), stk)\n",
    "    if idx === nothing\n",
    "        return \"0\"\n",
    "    end\n",
    "    return String(@view stk[idx:(end - k)])\n",
    "end"
   ],
   "metadata": {},
   "execution_count": 2
  },
  {
   "cell_type": "markdown",
   "source": [
    "@lc code=end"
   ],
   "metadata": {}
  },
  {
   "cell_type": "markdown",
   "source": [
    "---\n",
    "\n",
    "*This notebook was generated using [Literate.jl](https://github.com/fredrikekre/Literate.jl).*"
   ],
   "metadata": {}
  }
 ],
 "nbformat_minor": 3,
 "metadata": {
  "language_info": {
   "file_extension": ".jl",
   "mimetype": "application/julia",
   "name": "julia",
   "version": "1.5.3"
  },
  "kernelspec": {
   "name": "julia-1.5",
   "display_name": "Julia 1.5.3",
   "language": "julia"
  }
 },
 "nbformat": 4
}
