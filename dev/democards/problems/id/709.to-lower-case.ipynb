{
 "cells": [
  {
   "outputs": [
    {
     "output_type": "execute_result",
     "data": {
      "text/plain": "Main.##347.toLowerCase"
     },
     "metadata": {},
     "execution_count": 1
    }
   ],
   "cell_type": "code",
   "source": [
    "\"\"\"\n",
    "@lc app=leetcode id=709 lang=python3\n",
    "\n",
    "[709] To Lower Case\n",
    "\n",
    "https://leetcode.com/problems/to-lower-case/description/\n",
    "\n",
    "algorithms\n",
    "Easy (78.27%)\n",
    "Likes:    562\n",
    "Dislikes: 1692\n",
    "Total Accepted:    234K\n",
    "Total Submissions: 293.3K\n",
    "Testcase Example:  '\"Hello\"'\n",
    "\n",
    "Implement function ToLowerCase() that has a string parameter str, and returns\n",
    "the same string in lowercase.\n",
    "\n",
    "\n",
    "\n",
    "\n",
    "Example 1:\n",
    "\n",
    "\n",
    "Input: \"Hello\"\n",
    "Output: \"hello\"\n",
    "\n",
    "\n",
    "\n",
    "Example 2:\n",
    "\n",
    "\n",
    "Input: \"here\"\n",
    "Output: \"here\"\n",
    "\n",
    "\n",
    "\n",
    "Example 3:\n",
    "\n",
    "\n",
    "Input: \"LOVELY\"\n",
    "Output: \"lovely\"\n",
    "\n",
    "\n",
    "\n",
    "\n",
    "\n",
    "\n",
    "@lc code=start\n",
    "\"\"\"\n",
    "function toLowerCase(s::String)::String\n",
    "    return lowercase(s)\n",
    "end"
   ],
   "metadata": {},
   "execution_count": 1
  },
  {
   "cell_type": "markdown",
   "source": [
    "@lc code=end"
   ],
   "metadata": {}
  },
  {
   "cell_type": "markdown",
   "source": [
    "---\n",
    "\n",
    "*This notebook was generated using [Literate.jl](https://github.com/fredrikekre/Literate.jl).*"
   ],
   "metadata": {}
  }
 ],
 "nbformat_minor": 3,
 "metadata": {
  "language_info": {
   "file_extension": ".jl",
   "mimetype": "application/julia",
   "name": "julia",
   "version": "1.5.3"
  },
  "kernelspec": {
   "name": "julia-1.5",
   "display_name": "Julia 1.5.3",
   "language": "julia"
  }
 },
 "nbformat": 4
}
