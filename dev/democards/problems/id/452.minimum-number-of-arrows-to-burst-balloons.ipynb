{
 "cells": [
  {
   "cell_type": "markdown",
   "source": [
    "@lc app=leetcode id=452 lang=julia\n",
    "\n",
    "[452] Minimum Number of Arrows to Burst Balloons"
   ],
   "metadata": {}
  },
  {
   "outputs": [
    {
     "output_type": "execute_result",
     "data": {
      "text/plain": "\"There are some spherical balloons spread in two-dimensional space. For each balloon, provided input is the start and end coordinates of the horizontal diameter. Since it's horizontal, y-coordinates don't matter, and hence the x-coordinates of start and end of the diameter suffice. The start is always smaller than the end.\\n\\nAn arrow can be shot up exactly vertically from different points along the x-axis. A balloon with xstart and xend bursts by an arrow shot at x if xstart ≤ x ≤ xend. There is no limit to the number of arrows that can be shot. An arrow once shot keeps traveling up infinitely.\\n\\nGiven an array points where points[i] = [xstart, xend], return the minimum number of arrows that must be shot to burst all balloons.\\n\\n\\n\\nExample 1:\\n\\nInput: points = [[10,16],[2,8],[1,6],[7,12]]\\nOutput: 2\\nExplanation: One way is to shoot one arrow for example at x = 6 (bursting the balloons [2,8] and [1,6]) and another arrow at x = 11 (bursting the other two balloons).\\nExample 2:\\n\\nInput: points = [[1,2],[3,4],[5,6],[7,8]]\\nOutput: 4\\nExample 3:\\n\\nInput: points = [[1,2],[2,3],[3,4],[4,5]]\\nOutput: 2\\nExample 4:\\n\\nInput: points = [[1,2]]\\nOutput: 1\\nExample 5:\\n\\nInput: points = [[2,3],[2,3]]\\nOutput: 1\\n\\n\\nConstraints:\\n\\n0 <= points.length <= 104\\npoints[i].length == 2\\n-231 <= xstart < xend <= 231 - 1\\n\\n\""
     },
     "metadata": {},
     "execution_count": 1
    }
   ],
   "cell_type": "code",
   "source": [
    "\"\"\"\n",
    "There are some spherical balloons spread in two-dimensional space. For each balloon, provided input is the start and end coordinates of the horizontal diameter. Since it's horizontal, y-coordinates don't matter, and hence the x-coordinates of start and end of the diameter suffice. The start is always smaller than the end.\n",
    "\n",
    "An arrow can be shot up exactly vertically from different points along the x-axis. A balloon with xstart and xend bursts by an arrow shot at x if xstart ≤ x ≤ xend. There is no limit to the number of arrows that can be shot. An arrow once shot keeps traveling up infinitely.\n",
    "\n",
    "Given an array points where points[i] = [xstart, xend], return the minimum number of arrows that must be shot to burst all balloons.\n",
    "\n",
    "\n",
    "\n",
    "Example 1:\n",
    "\n",
    "Input: points = [[10,16],[2,8],[1,6],[7,12]]\n",
    "Output: 2\n",
    "Explanation: One way is to shoot one arrow for example at x = 6 (bursting the balloons [2,8] and [1,6]) and another arrow at x = 11 (bursting the other two balloons).\n",
    "Example 2:\n",
    "\n",
    "Input: points = [[1,2],[3,4],[5,6],[7,8]]\n",
    "Output: 4\n",
    "Example 3:\n",
    "\n",
    "Input: points = [[1,2],[2,3],[3,4],[4,5]]\n",
    "Output: 2\n",
    "Example 4:\n",
    "\n",
    "Input: points = [[1,2]]\n",
    "Output: 1\n",
    "Example 5:\n",
    "\n",
    "Input: points = [[2,3],[2,3]]\n",
    "Output: 1\n",
    "\n",
    "\n",
    "Constraints:\n",
    "\n",
    "0 <= points.length <= 104\n",
    "points[i].length == 2\n",
    "-231 <= xstart < xend <= 231 - 1\n",
    "\n",
    "\"\"\""
   ],
   "metadata": {},
   "execution_count": 1
  },
  {
   "cell_type": "markdown",
   "source": [
    "@lc code=start"
   ],
   "metadata": {}
  },
  {
   "outputs": [
    {
     "output_type": "execute_result",
     "data": {
      "text/plain": "find_min_arrow_shots (generic function with 1 method)"
     },
     "metadata": {},
     "execution_count": 2
    }
   ],
   "cell_type": "code",
   "source": [
    "function find_min_arrow_shots(points::Vector{Vector{Int}})::Int\n",
    "    if isempty(points)\n",
    "        return 0\n",
    "    end\n",
    "    sort!(points; by=x -> x[2])\n",
    "    ed, res = points[1][2], 1\n",
    "    for point in points\n",
    "        if point[1] > ed\n",
    "            res += 1\n",
    "            ed = point[2]\n",
    "        end\n",
    "    end\n",
    "    return res\n",
    "end"
   ],
   "metadata": {},
   "execution_count": 2
  },
  {
   "cell_type": "markdown",
   "source": [
    "@lc code=end"
   ],
   "metadata": {}
  },
  {
   "cell_type": "markdown",
   "source": [
    "---\n",
    "\n",
    "*This notebook was generated using [Literate.jl](https://github.com/fredrikekre/Literate.jl).*"
   ],
   "metadata": {}
  }
 ],
 "nbformat_minor": 3,
 "metadata": {
  "language_info": {
   "file_extension": ".jl",
   "mimetype": "application/julia",
   "name": "julia",
   "version": "1.5.3"
  },
  "kernelspec": {
   "name": "julia-1.5",
   "display_name": "Julia 1.5.3",
   "language": "julia"
  }
 },
 "nbformat": 4
}
