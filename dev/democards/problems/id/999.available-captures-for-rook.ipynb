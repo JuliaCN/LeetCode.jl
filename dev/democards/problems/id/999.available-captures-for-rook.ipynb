{
 "cells": [
  {
   "outputs": [
    {
     "output_type": "execute_result",
     "data": {
      "text/plain": "Main.##365.num_rook_captures"
     },
     "metadata": {},
     "execution_count": 1
    }
   ],
   "cell_type": "code",
   "source": [
    "\"\"\"\n",
    "@lc app=leetcode id=999 lang=python3\n",
    "\n",
    "[999] Available Captures for Rook\n",
    "\n",
    "https://leetcode.com/problems/available-captures-for-rook/description/\n",
    "\n",
    "algorithms\n",
    "Easy (65.89%)\n",
    "Likes:    256\n",
    "Dislikes: 443\n",
    "Total Accepted:    33.4K\n",
    "Total Submissions: 50K\n",
    "Testcase Example:  '[[\".\",\".\",\".\",\".\",\".\",\".\",\".\",\".\"],[\".\",\".\",\".\",\"p\",\".\",\".\",\".\",\".\"],[\".\",\".\",\".\",\"R\",\".\",\".\",\".\",\"p\"],[\".\",\".\",\".\",\".\",\".\",\".\",\".\",\".\"],[\".\",\".\",\".\",\".\",\".\",\".\",\".\",\".\"],[\".\",\".\",\".\",\"p\",\".\",\".\",\".\",\".\"],[\".\",\".\",\".\",\".\",\".\",\".\",\".\",\".\"],[\".\",\".\",\".\",\".\",\".\",\".\",\".\",\".\"]]'\n",
    "\n",
    "On an 8 x 8 chessboard, there is one white rook.  There also may be empty\n",
    "squares, white bishops, and black pawns.  These are given as characters 'R',\n",
    "'.', 'B', and 'p' respectively. Uppercase characters represent white pieces,\n",
    "and lowercase characters represent black pieces.\n",
    "\n",
    "The rook moves as in the rules of Chess: it chooses one of four cardinal\n",
    "directions (north, east, west, and south), then moves in that direction until\n",
    "it chooses to stop, reaches the edge of the board, or captures an opposite\n",
    "colored pawn by moving to the same square it occupies.  Also, rooks cannot\n",
    "move into the same square as other friendly bishops.\n",
    "\n",
    "Return the number of pawns the rook can capture in one move.\n",
    "\n",
    "\n",
    "\n",
    "Example 1:\n",
    "\n",
    "\n",
    "\n",
    "\n",
    "Input:\n",
    "[[\".\",\".\",\".\",\".\",\".\",\".\",\".\",\".\"],[\".\",\".\",\".\",\"p\",\".\",\".\",\".\",\".\"],[\".\",\".\",\".\",\"R\",\".\",\".\",\".\",\"p\"],[\".\",\".\",\".\",\".\",\".\",\".\",\".\",\".\"],[\".\",\".\",\".\",\".\",\".\",\".\",\".\",\".\"],[\".\",\".\",\".\",\"p\",\".\",\".\",\".\",\".\"],[\".\",\".\",\".\",\".\",\".\",\".\",\".\",\".\"],[\".\",\".\",\".\",\".\",\".\",\".\",\".\",\".\"]]\n",
    "Output: 3\n",
    "Explanation:\n",
    "In this example the rook is able to capture all the pawns.\n",
    "\n",
    "\n",
    "Example 2:\n",
    "\n",
    "\n",
    "\n",
    "\n",
    "Input:\n",
    "[[\".\",\".\",\".\",\".\",\".\",\".\",\".\",\".\"],[\".\",\"p\",\"p\",\"p\",\"p\",\"p\",\".\",\".\"],[\".\",\"p\",\"p\",\"B\",\"p\",\"p\",\".\",\".\"],[\".\",\"p\",\"B\",\"R\",\"B\",\"p\",\".\",\".\"],[\".\",\"p\",\"p\",\"B\",\"p\",\"p\",\".\",\".\"],[\".\",\"p\",\"p\",\"p\",\"p\",\"p\",\".\",\".\"],[\".\",\".\",\".\",\".\",\".\",\".\",\".\",\".\"],[\".\",\".\",\".\",\".\",\".\",\".\",\".\",\".\"]]\n",
    "Output: 0\n",
    "Explanation:\n",
    "Bishops are blocking the rook to capture any pawn.\n",
    "\n",
    "\n",
    "Example 3:\n",
    "\n",
    "\n",
    "\n",
    "\n",
    "Input:\n",
    "[[\".\",\".\",\".\",\".\",\".\",\".\",\".\",\".\"],[\".\",\".\",\".\",\"p\",\".\",\".\",\".\",\".\"],[\".\",\".\",\".\",\"p\",\".\",\".\",\".\",\".\"],[\"p\",\"p\",\".\",\"R\",\".\",\"p\",\"B\",\".\"],[\".\",\".\",\".\",\".\",\".\",\".\",\".\",\".\"],[\".\",\".\",\".\",\"B\",\".\",\".\",\".\",\".\"],[\".\",\".\",\".\",\"p\",\".\",\".\",\".\",\".\"],[\".\",\".\",\".\",\".\",\".\",\".\",\".\",\".\"]]\n",
    "Output: 3\n",
    "Explanation:\n",
    "The rook can capture the pawns at positions b5, d6 and f5.\n",
    "\n",
    "\n",
    "\n",
    "\n",
    "Note:\n",
    "\n",
    "\n",
    "board.length == board[i].length == 8\n",
    "board[i][j] is either 'R', '.', 'B', or 'p'\n",
    "There is exactly one cell with board[i][j] == 'R'\n",
    "\n",
    "\n",
    "\n",
    "\n",
    "@lc code=start\n",
    "\"\"\"\n",
    "function num_rook_captures(board::Matrix{Char})::Int\n",
    "    res = 0\n",
    "    i, j = findfirst(==('R'), board).I\n",
    "\n",
    "    for v in (\n",
    "        @view(board[i, (j + 1):end]),  # right\n",
    "        @view(board[i, (j - 1):-1:1]),    # left\n",
    "        @view(board[(i - 1):-1:1, j]),    # up\n",
    "        @view(board[(i + 1):end, j]),  # down\n",
    "    )\n",
    "        x_ind = findfirst(!=('.'), v)\n",
    "        if !isnothing(x_ind) && v[x_ind] == 'p'\n",
    "            res += 1\n",
    "        end\n",
    "    end\n",
    "    return res\n",
    "end"
   ],
   "metadata": {},
   "execution_count": 1
  },
  {
   "cell_type": "markdown",
   "source": [
    "@lc code=end"
   ],
   "metadata": {}
  },
  {
   "cell_type": "markdown",
   "source": [
    "---\n",
    "\n",
    "*This notebook was generated using [Literate.jl](https://github.com/fredrikekre/Literate.jl).*"
   ],
   "metadata": {}
  }
 ],
 "nbformat_minor": 3,
 "metadata": {
  "language_info": {
   "file_extension": ".jl",
   "mimetype": "application/julia",
   "name": "julia",
   "version": "1.5.3"
  },
  "kernelspec": {
   "name": "julia-1.5",
   "display_name": "Julia 1.5.3",
   "language": "julia"
  }
 },
 "nbformat": 4
}
