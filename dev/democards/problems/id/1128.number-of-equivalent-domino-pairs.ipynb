{
 "cells": [
  {
   "outputs": [
    {
     "output_type": "execute_result",
     "data": {
      "text/plain": "Main.##368.num_equiv_domino_pairs"
     },
     "metadata": {},
     "execution_count": 1
    }
   ],
   "cell_type": "code",
   "source": [
    "\"\"\"\n",
    "@lc app=leetcode id=1128 lang=python3\n",
    "\n",
    "[1128] Number of Equivalent Domino Pairs\n",
    "\n",
    "https://leetcode.com/problems/number-of-equivalent-domino-pairs/description/\n",
    "\n",
    "algorithms\n",
    "Easy (46.56%)\n",
    "Likes:    216\n",
    "Dislikes: 123\n",
    "Total Accepted:    25.2K\n",
    "Total Submissions: 53.3K\n",
    "Testcase Example:  '[[1,2],[2,1],[3,4],[5,6]]'\n",
    "\n",
    "Given a list of dominoes, dominoes[i] = [a, b] is equivalent to dominoes[j] =\n",
    "[c, d] if and only if either (a==c and b==d), or (a==d and b==c) - that is,\n",
    "one domino can be rotated to be equal to another domino.\n",
    "\n",
    "Return the number of pairs (i, j) for which 0 <= i < j < dominoes.length, and\n",
    "dominoes[i] is equivalent to dominoes[j].\n",
    "\n",
    "\n",
    "Example 1:\n",
    "Input: dominoes = [[1,2],[2,1],[3,4],[5,6]]\n",
    "Output: 1\n",
    "\n",
    "\n",
    "Constraints:\n",
    "\n",
    "\n",
    "1 <= dominoes.length <= 40000\n",
    "1 <= dominoes[i][j] <= 9\n",
    "\n",
    "\n",
    "\n",
    "@lc code=start\n",
    "\"\"\"\n",
    "function num_equiv_domino_pairs(dominoes::Vector{Tuple{Int,Int}})::Int\n",
    "    counts = Dict{Tuple{Int,Int},Int}()\n",
    "    n = 0\n",
    "    for (k, v) in dominoes\n",
    "        p = minmax(k, v)\n",
    "        if haskey(counts, p)\n",
    "            n += counts[p]\n",
    "            counts[p] += 1\n",
    "        else\n",
    "            counts[p] = 1\n",
    "        end\n",
    "    end\n",
    "    return n\n",
    "end"
   ],
   "metadata": {},
   "execution_count": 1
  },
  {
   "cell_type": "markdown",
   "source": [
    "---\n",
    "\n",
    "*This notebook was generated using [Literate.jl](https://github.com/fredrikekre/Literate.jl).*"
   ],
   "metadata": {}
  }
 ],
 "nbformat_minor": 3,
 "metadata": {
  "language_info": {
   "file_extension": ".jl",
   "mimetype": "application/julia",
   "name": "julia",
   "version": "1.5.3"
  },
  "kernelspec": {
   "name": "julia-1.5",
   "display_name": "Julia 1.5.3",
   "language": "julia"
  }
 },
 "nbformat": 4
}
