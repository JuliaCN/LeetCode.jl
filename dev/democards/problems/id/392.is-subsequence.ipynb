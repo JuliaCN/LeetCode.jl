{
 "cells": [
  {
   "outputs": [
    {
     "output_type": "execute_result",
     "data": {
      "text/plain": "Main.##320.is_subsequence"
     },
     "metadata": {},
     "execution_count": 1
    }
   ],
   "cell_type": "code",
   "source": [
    "\"\"\"\n",
    "@lc app=leetcode id=392 lang=python3\n",
    "\n",
    "[392] Is Subsequence\n",
    "\n",
    "https://leetcode.com/problems/is-subsequence/description/\n",
    "\n",
    "algorithms\n",
    "Easy (47.83%)\n",
    "Likes:    1910\n",
    "Dislikes: 218\n",
    "Total Accepted:    249.5K\n",
    "Total Submissions: 504.8K\n",
    "Testcase Example:  '\"abc\"\\n\"ahbgdc\"'\n",
    "\n",
    "Given a string s and a string t, check if s is subsequence of t.\n",
    "\n",
    "A subsequence of a string is a new string which is formed from the original\n",
    "string by deleting some (can be none) of the characters without disturbing\n",
    "the relative positions of the remaining characters. (ie, \"ace\" is a\n",
    "subsequence of \"abcde\" while \"aec\" is not).\n",
    "\n",
    "Follow up:\n",
    "If there are lots of incoming S, say S1, S2, ... , Sk where k >= 1B, and you\n",
    "want to check one by one to see if T has its subsequence. In this scenario,\n",
    "how would you change your code?\n",
    "\n",
    "Credits:\n",
    "Special thanks to @pbrother for adding this problem and creating all test\n",
    "cases.\n",
    "\n",
    "\n",
    "Example 1:\n",
    "Input: s = \"abc\", t = \"ahbgdc\"\n",
    "Output: true\n",
    "Example 2:\n",
    "Input: s = \"axc\", t = \"ahbgdc\"\n",
    "Output: false\n",
    "\n",
    "\n",
    "Constraints:\n",
    "\n",
    "\n",
    "0 <= s.length <= 100\n",
    "0 <= t.length <= 10^4\n",
    "Both strings consists only of lowercase characters.\n",
    "\n",
    "\n",
    "\n",
    "\n",
    "@lc code=start\n",
    "\"\"\"\n",
    "function is_subsequence(s::String, t::String)::Bool\n",
    "    if length(s) == 0\n",
    "        true\n",
    "    else\n",
    "        i, j = 1, 1\n",
    "        while j <= length(t)\n",
    "            if s[i] == t[j]\n",
    "                i += 1\n",
    "                if i > length(s)\n",
    "                    return true\n",
    "                end\n",
    "            end\n",
    "            j += 1\n",
    "        end\n",
    "        false\n",
    "    end\n",
    "end"
   ],
   "metadata": {},
   "execution_count": 1
  },
  {
   "cell_type": "markdown",
   "source": [
    "@lc code=end"
   ],
   "metadata": {}
  },
  {
   "cell_type": "markdown",
   "source": [
    "---\n",
    "\n",
    "*This notebook was generated using [Literate.jl](https://github.com/fredrikekre/Literate.jl).*"
   ],
   "metadata": {}
  }
 ],
 "nbformat_minor": 3,
 "metadata": {
  "language_info": {
   "file_extension": ".jl",
   "mimetype": "application/julia",
   "name": "julia",
   "version": "1.5.3"
  },
  "kernelspec": {
   "name": "julia-1.5",
   "display_name": "Julia 1.5.3",
   "language": "julia"
  }
 },
 "nbformat": 4
}
