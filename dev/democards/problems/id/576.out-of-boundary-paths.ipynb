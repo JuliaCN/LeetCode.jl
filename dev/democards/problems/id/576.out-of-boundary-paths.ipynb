{
 "cells": [
  {
   "outputs": [
    {
     "output_type": "execute_result",
     "data": {
      "text/plain": "Main.##341.find_paths"
     },
     "metadata": {},
     "execution_count": 1
    }
   ],
   "cell_type": "code",
   "source": [
    "\"\"\"\n",
    "@lc app=leetcode id=576 lang=python3\n",
    "\n",
    "[576] Out of Boundary Paths\n",
    "\n",
    "https://leetcode.com/problems/out-of-boundary-paths/description/\n",
    "\n",
    "algorithms\n",
    "Medium (33.50%)\n",
    "Likes:    619\n",
    "Dislikes: 139\n",
    "Total Accepted:    31K\n",
    "Total Submissions: 87.5K\n",
    "Testcase Example:  '2\\n2\\n2\\n0\\n0'\n",
    "\n",
    "There is an m by n grid with a ball. Given the start coordinate (i,j) of the\n",
    "ball, you can move the ball to adjacent cell or cross the grid boundary in\n",
    "four directions (up, down, left, right). However, you can at most move N\n",
    "times. Find out the number of paths to move the ball out of grid boundary.\n",
    "The answer may be very large, return it after mod 10^9 + 7.\n",
    "\n",
    "\n",
    "\n",
    "Example 1:\n",
    "\n",
    "\n",
    "Input: m = 2, n = 2, N = 2, i = 0, j = 0\n",
    "Output: 6\n",
    "Explanation:\n",
    "\n",
    "\n",
    "\n",
    "Example 2:\n",
    "\n",
    "\n",
    "Input: m = 1, n = 3, N = 3, i = 0, j = 1\n",
    "Output: 12\n",
    "Explanation:\n",
    "\n",
    "\n",
    "\n",
    "\n",
    "\n",
    "Note:\n",
    "\n",
    "\n",
    "Once you move the ball out of boundary, you cannot move it back.\n",
    "The length and height of the grid is in range [1,50].\n",
    "N is in range [0,50].\n",
    "\n",
    "\n",
    "\n",
    "\n",
    "@lc code=start\n",
    "\"\"\"\n",
    "function find_paths(m, n, N, i, j)\n",
    "    dp = zeros(Int, m, n)\n",
    "\n",
    "    for _ in 1:N\n",
    "        t = copy(dp)\n",
    "        inds = CartesianIndices(t)\n",
    "        for x in inds\n",
    "            v = 0\n",
    "            for dir in ((0, -1), (0, 1), (1, 0), (-1, 0))\n",
    "                p = x + CartesianIndex(dir)\n",
    "                v += p ∈ inds ? t[p] : 1\n",
    "            end\n",
    "            dp[x] = v\n",
    "        end\n",
    "    end\n",
    "    return dp[i, j] % (10^9 + 7)\n",
    "end"
   ],
   "metadata": {},
   "execution_count": 1
  },
  {
   "cell_type": "markdown",
   "source": [
    "---\n",
    "\n",
    "*This notebook was generated using [Literate.jl](https://github.com/fredrikekre/Literate.jl).*"
   ],
   "metadata": {}
  }
 ],
 "nbformat_minor": 3,
 "metadata": {
  "language_info": {
   "file_extension": ".jl",
   "mimetype": "application/julia",
   "name": "julia",
   "version": "1.5.3"
  },
  "kernelspec": {
   "name": "julia-1.5",
   "display_name": "Julia 1.5.3",
   "language": "julia"
  }
 },
 "nbformat": 4
}
