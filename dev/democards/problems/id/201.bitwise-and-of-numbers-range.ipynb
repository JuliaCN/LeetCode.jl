{
 "cells": [
  {
   "outputs": [
    {
     "output_type": "execute_result",
     "data": {
      "text/plain": "Main.##311.range_bitwise_and"
     },
     "metadata": {},
     "execution_count": 1
    }
   ],
   "cell_type": "code",
   "source": [
    "\"\"\"\n",
    "@lc app=leetcode id=201 lang=python3\n",
    "\n",
    "[201] Bitwise AND of Numbers Range\n",
    "\n",
    "https://leetcode.com/problems/bitwise-and-of-numbers-range/description/\n",
    "\n",
    "algorithms\n",
    "Medium (36.95%)\n",
    "Likes:    1092\n",
    "Dislikes: 128\n",
    "Total Accepted:    158.1K\n",
    "Total Submissions: 401.2K\n",
    "Testcase Example:  '5\\n7'\n",
    "\n",
    "Given a range [m, n] where 0 <= m <= n <= 2147483647, return the bitwise AND\n",
    "of all numbers in this range, inclusive.\n",
    "\n",
    "Example 1:\n",
    "\n",
    "\n",
    "Input: [5,7]\n",
    "Output: 4\n",
    "\n",
    "\n",
    "Example 2:\n",
    "\n",
    "\n",
    "Input: [0,1]\n",
    "Output: 0\n",
    "\n",
    "\n",
    "@lc code=start\n",
    "\"\"\"\n",
    "function range_bitwise_and(m::Int, n::Int)::Int\n",
    "    i = 0\n",
    "    while m != n\n",
    "        m >>= 1\n",
    "        n >>= 1\n",
    "        i += 1\n",
    "    end\n",
    "    return n << i\n",
    "end"
   ],
   "metadata": {},
   "execution_count": 1
  },
  {
   "cell_type": "markdown",
   "source": [
    "---\n",
    "\n",
    "*This notebook was generated using [Literate.jl](https://github.com/fredrikekre/Literate.jl).*"
   ],
   "metadata": {}
  }
 ],
 "nbformat_minor": 3,
 "metadata": {
  "language_info": {
   "file_extension": ".jl",
   "mimetype": "application/julia",
   "name": "julia",
   "version": "1.5.3"
  },
  "kernelspec": {
   "name": "julia-1.5",
   "display_name": "Julia 1.5.3",
   "language": "julia"
  }
 },
 "nbformat": 4
}
