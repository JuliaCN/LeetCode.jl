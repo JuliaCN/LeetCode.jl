{
 "cells": [
  {
   "outputs": [
    {
     "output_type": "execute_result",
     "data": {
      "text/plain": "Main.##371.shift_grid"
     },
     "metadata": {},
     "execution_count": 1
    }
   ],
   "cell_type": "code",
   "source": [
    "\"\"\"\n",
    "@lc app=leetcode id=1260 lang=python3\n",
    "\n",
    "[1260] Shift 2D Grid\n",
    "\n",
    "https://leetcode.com/problems/shift-2d-grid/description/\n",
    "\n",
    "algorithms\n",
    "Easy (59.85%)\n",
    "Likes:    262\n",
    "Dislikes: 97\n",
    "Total Accepted:    21.1K\n",
    "Total Submissions: 34.3K\n",
    "Testcase Example:  '[[1,2,3],[4,5,6],[7,8,9]]\\n1'\n",
    "\n",
    "Given a 2D grid of size m x n and an integer k. You need to shift the grid k\n",
    "times.\n",
    "\n",
    "In one shift operation:\n",
    "\n",
    "\n",
    "Element at grid[i][j] moves to grid[i][j + 1].\n",
    "Element at grid[i][n - 1] moves to grid[i + 1][0].\n",
    "Element at grid[m - 1][n - 1] moves to grid[0][0].\n",
    "\n",
    "\n",
    "Return the 2D grid after applying shift operation k times.\n",
    "\n",
    "\n",
    "Example 1:\n",
    "\n",
    "\n",
    "Input: grid = [[1,2,3],[4,5,6],[7,8,9]], k = 1\n",
    "Output: [[9,1,2],[3,4,5],[6,7,8]]\n",
    "\n",
    "\n",
    "Example 2:\n",
    "\n",
    "\n",
    "Input: grid = [[3,8,1,9],[19,7,2,5],[4,6,11,10],[12,0,21,13]], k = 4\n",
    "Output: [[12,0,21,13],[3,8,1,9],[19,7,2,5],[4,6,11,10]]\n",
    "\n",
    "\n",
    "Example 3:\n",
    "\n",
    "\n",
    "Input: grid = [[1,2,3],[4,5,6],[7,8,9]], k = 9\n",
    "Output: [[1,2,3],[4,5,6],[7,8,9]]\n",
    "\n",
    "\n",
    "\n",
    "Constraints:\n",
    "\n",
    "\n",
    "m == grid.length\n",
    "n == grid[i].length\n",
    "1 <= m <= 50\n",
    "1 <= n <= 50\n",
    "-1000 <= grid[i][j] <= 1000\n",
    "0 <= k <= 100\n",
    "\n",
    "\n",
    "\n",
    "\n",
    "@lc code=start\n",
    "\"\"\"\n",
    "function shift_grid(grid::Matrix{Int}, k::Int)::Matrix{Int}\n",
    "    A = grid'\n",
    "    res = Matrix(undef, size(A)...)\n",
    "    LI = LinearIndices(A)\n",
    "\n",
    "    for i in LI\n",
    "        i′ = mod1(i + k, length(LI))\n",
    "        res[i′] = A[i]\n",
    "    end\n",
    "    return res'\n",
    "end"
   ],
   "metadata": {},
   "execution_count": 1
  },
  {
   "cell_type": "markdown",
   "source": [
    "@lc code=end"
   ],
   "metadata": {}
  },
  {
   "cell_type": "markdown",
   "source": [
    "---\n",
    "\n",
    "*This notebook was generated using [Literate.jl](https://github.com/fredrikekre/Literate.jl).*"
   ],
   "metadata": {}
  }
 ],
 "nbformat_minor": 3,
 "metadata": {
  "language_info": {
   "file_extension": ".jl",
   "mimetype": "application/julia",
   "name": "julia",
   "version": "1.5.3"
  },
  "kernelspec": {
   "name": "julia-1.5",
   "display_name": "Julia 1.5.3",
   "language": "julia"
  }
 },
 "nbformat": 4
}
