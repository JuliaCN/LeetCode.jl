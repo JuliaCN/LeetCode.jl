{
 "cells": [
  {
   "cell_type": "markdown",
   "source": [
    "Given a string `S`, count the number of distinct, non-empty subsequences of\n",
    "`S` .\n",
    "\n",
    "Since the result may be large, **return the answer modulo`10^9 + 7`**.\n",
    "\n",
    "\n",
    "\n",
    "**Example 1:**\n",
    "\n",
    "\n",
    "\n",
    "    Input: \"abc\"\n",
    "    Output: 7\n",
    "    **Explanation** : The 7 distinct subsequences are \"a\", \"b\", \"c\", \"ab\", \"ac\", \"bc\", and \"abc\".\n",
    "\n",
    "\n",
    "**Example 2:**\n",
    "\n",
    "\n",
    "\n",
    "    Input: \"aba\"\n",
    "    Output: 6\n",
    "    **Explanation** : The 6 distinct subsequences are \"a\", \"b\", \"ab\", \"ba\", \"aa\" and \"aba\".\n",
    "\n",
    "\n",
    "**Example 3:**\n",
    "\n",
    "\n",
    "\n",
    "    Input: \"aaa\"\n",
    "    Output: 3\n",
    "    **Explanation** : The 3 distinct subsequences are \"a\", \"aa\" and \"aaa\".\n",
    "\n",
    "\n",
    "\n",
    "\n",
    "\n",
    "\n",
    "**Note:**\n",
    "\n",
    "  1. `S` contains only lowercase letters.\n",
    "  2. `1 <= S.length <= 2000`"
   ],
   "metadata": {}
  },
  {
   "outputs": [
    {
     "output_type": "execute_result",
     "data": {
      "text/plain": "distinct_subseq2 (generic function with 1 method)"
     },
     "metadata": {},
     "execution_count": 1
    }
   ],
   "cell_type": "code",
   "source": [
    "# @lc code=start\n",
    "using LeetCode\n",
    "\n",
    "function distinct_subseq2(s::String)\n",
    "    arr = zeros(Int, 26)\n",
    "    for c in codeunits(s)\n",
    "        arr[c - UInt8('a' - 1)] = (sum(arr) + 1) % 1_000_000_007\n",
    "    end\n",
    "    return sum(arr) % 1_000_000_007\n",
    "end\n",
    "# @lc code=end"
   ],
   "metadata": {},
   "execution_count": 1
  },
  {
   "cell_type": "markdown",
   "source": [
    "---\n",
    "\n",
    "*This notebook was generated using [Literate.jl](https://github.com/fredrikekre/Literate.jl).*"
   ],
   "metadata": {}
  }
 ],
 "nbformat_minor": 3,
 "metadata": {
  "language_info": {
   "file_extension": ".jl",
   "mimetype": "application/julia",
   "name": "julia",
   "version": "1.8.2"
  },
  "kernelspec": {
   "name": "julia-1.8",
   "display_name": "Julia 1.8.2",
   "language": "julia"
  }
 },
 "nbformat": 4
}
