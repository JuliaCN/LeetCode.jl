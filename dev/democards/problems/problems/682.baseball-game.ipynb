{
 "cells": [
  {
   "cell_type": "markdown",
   "source": [
    "You are keeping score for a baseball game with strange rules. The game\n",
    "consists of several rounds, where the scores of past rounds may affect future\n",
    "rounds' scores.\n",
    "\n",
    "At the beginning of the game, you start with an empty record. You are given a\n",
    "list of strings `ops`, where `ops[i]` is the `ith` operation you must apply to\n",
    "the record and is one of the following:\n",
    "\n",
    "  1. An integer `x` \\- Record a new score of `x`.\n",
    "  2. `\"+\"` \\- Record a new score that is the sum of the previous two scores. It is guaranteed there will always be two previous scores.\n",
    "  3. `\"D\"` \\- Record a new score that is double the previous score. It is guaranteed there will always be a previous score.\n",
    "  4. `\"C\"` \\- Invalidate the previous score, removing it from the record. It is guaranteed there will always be a previous score.\n",
    "\n",
    "Return _the sum of all the scores on the record_.\n",
    "\n",
    "\n",
    "\n",
    "**Example 1:**\n",
    "\n",
    "\n",
    "\n",
    "    Input: ops = [\"5\",\"2\",\"C\",\"D\",\"+\"]\n",
    "    Output: 30\n",
    "    Explanation:\n",
    "    \"5\" - Add 5 to the record, record is now [5].\n",
    "    \"2\" - Add 2 to the record, record is now [5, 2].\n",
    "    \"C\" - Invalidate and remove the previous score, record is now [5].\n",
    "    \"D\" - Add 2 * 5 = 10 to the record, record is now [5, 10].\n",
    "    \"+\" - Add 5 + 10 = 15 to the record, record is now [5, 10, 15].\n",
    "    The total sum is 5 + 10 + 15 = 30.\n",
    "\n",
    "\n",
    "**Example 2:**\n",
    "\n",
    "\n",
    "\n",
    "    Input: ops = [\"5\",\"-2\",\"4\",\"C\",\"D\",\"9\",\"+\",\"+\"]\n",
    "    Output: 27\n",
    "    Explanation:\n",
    "    \"5\" - Add 5 to the record, record is now [5].\n",
    "    \"-2\" - Add -2 to the record, record is now [5, -2].\n",
    "    \"4\" - Add 4 to the record, record is now [5, -2, 4].\n",
    "    \"C\" - Invalidate and remove the previous score, record is now [5, -2].\n",
    "    \"D\" - Add 2 * -2 = -4 to the record, record is now [5, -2, -4].\n",
    "    \"9\" - Add 9 to the record, record is now [5, -2, -4, 9].\n",
    "    \"+\" - Add -4 + 9 = 5 to the record, record is now [5, -2, -4, 9, 5].\n",
    "    \"+\" - Add 9 + 5 = 14 to the record, record is now [5, -2, -4, 9, 5, 14].\n",
    "    The total sum is 5 + -2 + -4 + 9 + 5 + 14 = 27.\n",
    "\n",
    "\n",
    "**Example 3:**\n",
    "\n",
    "\n",
    "\n",
    "    Input: ops = [\"1\"]\n",
    "    Output: 1\n",
    "\n",
    "\n",
    "\n",
    "\n",
    "**Constraints:**\n",
    "\n",
    "  * `1 <= ops.length <= 1000`\n",
    "  * `ops[i]` is `\"C\"`, `\"D\"`, `\"+\"`, or a string representing an integer in the range `[-3 * 104, 3 * 104]`.\n",
    "  * For operation `\"+\"`, there will always be at least two previous scores on the record.\n",
    "  * For operations `\"C\"` and `\"D\"`, there will always be at least one previous score on the record."
   ],
   "metadata": {}
  },
  {
   "outputs": [
    {
     "output_type": "execute_result",
     "data": {
      "text/plain": "calculate_points (generic function with 1 method)"
     },
     "metadata": {},
     "execution_count": 1
    }
   ],
   "cell_type": "code",
   "source": [
    "# @lc code=start\n",
    "using LeetCode\n",
    "\n",
    "function calculate_points(ops::Vector{String})::Int\n",
    "    scores = Int[]\n",
    "    for op in ops\n",
    "        if op == \"+\"\n",
    "            push!(scores, last(scores) + scores[end - 1])\n",
    "        elseif op == \"D\"\n",
    "            push!(scores, last(scores) * 2)\n",
    "        elseif op == \"C\"\n",
    "            pop!(scores)\n",
    "        else\n",
    "            push!(scores, parse(Int, op))\n",
    "        end\n",
    "    end\n",
    "    return sum(scores)\n",
    "end\n",
    "\n",
    "# @lc code=end"
   ],
   "metadata": {},
   "execution_count": 1
  },
  {
   "cell_type": "markdown",
   "source": [
    "---\n",
    "\n",
    "*This notebook was generated using [Literate.jl](https://github.com/fredrikekre/Literate.jl).*"
   ],
   "metadata": {}
  }
 ],
 "nbformat_minor": 3,
 "metadata": {
  "language_info": {
   "file_extension": ".jl",
   "mimetype": "application/julia",
   "name": "julia",
   "version": "1.7.3"
  },
  "kernelspec": {
   "name": "julia-1.7",
   "display_name": "Julia 1.7.3",
   "language": "julia"
  }
 },
 "nbformat": 4
}
