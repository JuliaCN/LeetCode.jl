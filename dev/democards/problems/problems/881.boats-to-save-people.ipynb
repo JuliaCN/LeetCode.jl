{
 "cells": [
  {
   "cell_type": "markdown",
   "source": [
    "The `i`-th person has weight `people[i]`, and each boat can carry a maximum\n",
    "weight of `limit`.\n",
    "\n",
    "Each boat carries at most 2 people at the same time, provided the sum of the\n",
    "weight of those people is at most `limit`.\n",
    "\n",
    "Return the minimum number of boats to carry every given person.  (It is\n",
    "guaranteed each person can be carried by a boat.)\n",
    "\n",
    "\n",
    "\n",
    "**Example 1:**\n",
    "\n",
    "\n",
    "\n",
    "    Input: people = [1,2], limit = 3\n",
    "    Output: 1\n",
    "    Explanation: 1 boat (1, 2)\n",
    "\n",
    "\n",
    "**Example 2:**\n",
    "\n",
    "\n",
    "\n",
    "    Input: people = [3,2,2,1], limit = 3\n",
    "    Output: 3\n",
    "    **Explanation** : 3 boats (1, 2), (2) and (3)\n",
    "\n",
    "\n",
    "**Example 3:**\n",
    "\n",
    "\n",
    "\n",
    "    Input: people = [3,5,3,4], limit = 5\n",
    "    Output: 4\n",
    "    **Explanation** : 4 boats (3), (3), (4), (5)\n",
    "\n",
    "**Note** :\n",
    "\n",
    "  * `1 <= people.length <= 50000`\n",
    "  * `1 <= people[i] <= limit <= 30000`"
   ],
   "metadata": {}
  },
  {
   "outputs": [
    {
     "output_type": "execute_result",
     "data": {
      "text/plain": "num_rescue_boats (generic function with 1 method)"
     },
     "metadata": {},
     "execution_count": 1
    }
   ],
   "cell_type": "code",
   "source": [
    "# @lc code=start\n",
    "using LeetCode\n",
    "\n",
    "function num_rescue_boats(people::Vector{Int}, limit::Int)\n",
    "    sort!(people)\n",
    "    a, b = 1, length(people)\n",
    "    res = 0\n",
    "    while a <= b\n",
    "        res += 1\n",
    "        a == b && break\n",
    "        b -= 1\n",
    "        (people[a] + people[b] <= limit) && (a += 1)\n",
    "    end\n",
    "    res\n",
    "end\n",
    "# @lc code=end"
   ],
   "metadata": {},
   "execution_count": 1
  },
  {
   "cell_type": "markdown",
   "source": [
    "---\n",
    "\n",
    "*This notebook was generated using [Literate.jl](https://github.com/fredrikekre/Literate.jl).*"
   ],
   "metadata": {}
  }
 ],
 "nbformat_minor": 3,
 "metadata": {
  "language_info": {
   "file_extension": ".jl",
   "mimetype": "application/julia",
   "name": "julia",
   "version": "1.6.3"
  },
  "kernelspec": {
   "name": "julia-1.6",
   "display_name": "Julia 1.6.3",
   "language": "julia"
  }
 },
 "nbformat": 4
}
