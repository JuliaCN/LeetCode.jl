{
 "cells": [
  {
   "cell_type": "markdown",
   "source": [
    "You are given the `root` of a binary tree where each node has a value `0` or\n",
    "`1`.  Each root-to-leaf path represents a binary number starting with the most\n",
    "significant bit.  For example, if the path is `0 -> 1 -> 1 -> 0 -> 1`, then\n",
    "this could represent `01101` in binary, which is `13`.\n",
    "\n",
    "For all leaves in the tree, consider the numbers represented by the path from\n",
    "the root to that leaf.\n",
    "\n",
    "Return _the sum of these numbers_. The answer is **guaranteed** to fit in a\n",
    "**32-bits** integer.\n",
    "\n",
    "\n",
    "\n",
    "**Example 1:**\n",
    "\n",
    "![](https://assets.leetcode.com/uploads/2019/04/04/sum-of-root-to-leaf-binary-\n",
    "numbers.png)\n",
    "\n",
    "\n",
    "\n",
    "    Input: root = [1,0,1,0,1,0,1]\n",
    "    Output: 22\n",
    "    Explanation: (100) + (101) + (110) + (111) = 4 + 5 + 6 + 7 = 22\n",
    "\n",
    "\n",
    "**Example 2:**\n",
    "\n",
    "\n",
    "\n",
    "    Input: root = [0]\n",
    "    Output: 0\n",
    "\n",
    "\n",
    "**Example 3:**\n",
    "\n",
    "\n",
    "\n",
    "    Input: root = [1]\n",
    "    Output: 1\n",
    "\n",
    "\n",
    "**Example 4:**\n",
    "\n",
    "\n",
    "\n",
    "    Input: root = [1,1]\n",
    "    Output: 3\n",
    "\n",
    "\n",
    "\n",
    "\n",
    "**Constraints:**\n",
    "\n",
    "  * The number of nodes in the tree is in the range `[1, 1000]`.\n",
    "  * `Node.val` is `0` or `1`."
   ],
   "metadata": {}
  },
  {
   "outputs": [
    {
     "output_type": "execute_result",
     "data": {
      "text/plain": "sum_root_to_leaf_bfs (generic function with 1 method)"
     },
     "metadata": {},
     "execution_count": 1
    }
   ],
   "cell_type": "code",
   "source": [
    "# @lc code=start\n",
    "using LeetCode\n",
    "\n",
    "_sum_root_to_leaf(::Nothing) = (0, 0)\n",
    "function _sum_root_to_leaf(root::TreeNode{Int})\n",
    "    lft, rgt = _sum_root_to_leaf(root.left), _sum_root_to_leaf(root.right)\n",
    "    tms = max(1, lft[2] + rgt[2])\n",
    "    return (lft[1] + rgt[1]) + tms * root.val, tms * 2\n",
    "end\n",
    "\n",
    "sum_root_to_leaf(root::TreeNode{Int}) = _sum_root_to_leaf(root)[1]\n",
    "\n",
    "# BFS Algorithm\n",
    "# sum_root_to_leaf_bfs(::Nothing) = 0 # unnecessary\n",
    "function sum_root_to_leaf_bfs(root::TreeNode)\n",
    "    queue, res = [(root.val, root)], 0\n",
    "    while !isempty(queue)\n",
    "        for _ in 1:length(queue)\n",
    "            val, node = popfirst!(queue)\n",
    "            if isnothing(node.left) && isnothing(node.right)\n",
    "                res += val\n",
    "            else\n",
    "                !isnothing(node.left) && push!(queue, (val << 1 + node.left.val, node.left))\n",
    "                !isnothing(node.right) &&\n",
    "                    push!(queue, (val << 1 + node.right.val, node.right))\n",
    "            end\n",
    "        end\n",
    "    end\n",
    "    return res\n",
    "end\n",
    "\n",
    "# @lc code=end"
   ],
   "metadata": {},
   "execution_count": 1
  },
  {
   "cell_type": "markdown",
   "source": [
    "---\n",
    "\n",
    "*This notebook was generated using [Literate.jl](https://github.com/fredrikekre/Literate.jl).*"
   ],
   "metadata": {}
  }
 ],
 "nbformat_minor": 3,
 "metadata": {
  "language_info": {
   "file_extension": ".jl",
   "mimetype": "application/julia",
   "name": "julia",
   "version": "1.10.1"
  },
  "kernelspec": {
   "name": "julia-1.10",
   "display_name": "Julia 1.10.1",
   "language": "julia"
  }
 },
 "nbformat": 4
}
