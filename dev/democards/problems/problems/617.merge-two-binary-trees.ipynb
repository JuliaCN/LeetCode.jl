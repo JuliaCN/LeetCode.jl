{
 "cells": [
  {
   "cell_type": "markdown",
   "source": [
    "Given two binary trees and imagine that when you put one of them to cover the\n",
    "other, some nodes of the two trees are overlapped while the others are not.\n",
    "\n",
    "You need to merge them into a new binary tree. The merge rule is that if two\n",
    "nodes overlap, then sum node values up as the new value of the merged node.\n",
    "Otherwise, the NOT null node will be used as the node of new tree.\n",
    "\n",
    "**Example 1:**\n",
    "\n",
    "\n",
    "\n",
    "    Input:\n",
    "    \tTree 1                     Tree 2\n",
    "              1                         2\n",
    "             / \\                       / \\\n",
    "            3   2                     1   3\n",
    "           /                           \\   \\\n",
    "          5                             4   7\n",
    "    Output:\n",
    "    Merged tree:\n",
    "    \t     3\n",
    "    \t    / \\\n",
    "    \t   4   5\n",
    "    \t  / \\   \\\n",
    "    \t 5   4   7\n",
    "\n",
    "\n",
    "\n",
    "\n",
    "**Note:** The merging process must start from the root nodes of both trees."
   ],
   "metadata": {}
  },
  {
   "outputs": [
    {
     "output_type": "execute_result",
     "data": {
      "text/plain": "merge_trees (generic function with 4 methods)"
     },
     "metadata": {},
     "execution_count": 1
    }
   ],
   "cell_type": "code",
   "source": [
    "# @lc code=start\n",
    "using LeetCode\n",
    "\n",
    "merge_trees(::Nothing, ::Nothing) = nothing\n",
    "merge_trees(::Nothing, root2::TreeNode) = root2\n",
    "merge_trees(root1::TreeNode, ::Nothing) = root1\n",
    "function merge_trees(root1::TreeNode, root2::TreeNode)::TreeNode\n",
    "    root = TreeNode(root1.val + root2.val)\n",
    "    root.left = merge_trees(root1.left, root2.left)\n",
    "    root.right = merge_trees(root1.right, root2.right)\n",
    "    return root\n",
    "end\n",
    "# @lc code=end"
   ],
   "metadata": {},
   "execution_count": 1
  },
  {
   "cell_type": "markdown",
   "source": [
    "---\n",
    "\n",
    "*This notebook was generated using [Literate.jl](https://github.com/fredrikekre/Literate.jl).*"
   ],
   "metadata": {}
  }
 ],
 "nbformat_minor": 3,
 "metadata": {
  "language_info": {
   "file_extension": ".jl",
   "mimetype": "application/julia",
   "name": "julia",
   "version": "1.9.1"
  },
  "kernelspec": {
   "name": "julia-1.9",
   "display_name": "Julia 1.9.1",
   "language": "julia"
  }
 },
 "nbformat": 4
}
