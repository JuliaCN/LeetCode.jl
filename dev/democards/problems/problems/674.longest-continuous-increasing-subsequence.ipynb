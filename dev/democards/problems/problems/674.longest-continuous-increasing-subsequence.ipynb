{
 "cells": [
  {
   "cell_type": "markdown",
   "source": [
    "Given an unsorted array of integers `nums`, return _the length of the longest\n",
    "**continuous increasing subsequence** (i.e. subarray)_. The subsequence must\n",
    "be **strictly** increasing.\n",
    "\n",
    "A **continuous increasing subsequence** is defined by two indices `l` and `r`\n",
    "(`l < r`) such that it is `[nums[l], nums[l + 1], ..., nums[r - 1], nums[r]]`\n",
    "and for each `l <= i < r`, `nums[i] < nums[i + 1]`.\n",
    "\n",
    "\n",
    "\n",
    "**Example 1:**\n",
    "\n",
    "\n",
    "\n",
    "    Input: nums = [1,3,5,4,7]\n",
    "    Output: 3\n",
    "    Explanation: The longest continuous increasing subsequence is [1,3,5] with length 3.\n",
    "    Even though [1,3,5,7] is an increasing subsequence, it is not continuous as elements 5 and 7 are separated by element\n",
    "    4.\n",
    "\n",
    "\n",
    "**Example 2:**\n",
    "\n",
    "\n",
    "\n",
    "    Input: nums = [2,2,2,2,2]\n",
    "    Output: 1\n",
    "    Explanation: The longest continuous increasing subsequence is [2] with length 1. Note that it must be strictly\n",
    "    increasing.\n",
    "\n",
    "\n",
    "\n",
    "\n",
    "**Constraints:**\n",
    "\n",
    "  * `0 <= nums.length <= 104`\n",
    "  * `-109 <= nums[i] <= 109`"
   ],
   "metadata": {}
  },
  {
   "outputs": [
    {
     "output_type": "execute_result",
     "data": {
      "text/plain": "find_length_of_lcis (generic function with 1 method)"
     },
     "metadata": {},
     "execution_count": 1
    }
   ],
   "cell_type": "code",
   "source": [
    "# @lc code=start\n",
    "using LeetCode\n",
    "\n",
    "function find_length_of_lcis(nums::Vector{Int})\n",
    "    res, tmp = 0, 1\n",
    "    for i in 2:length(nums)\n",
    "        if nums[i] > nums[i - 1]\n",
    "            tmp += 1\n",
    "        else\n",
    "            res = max(res, tmp)\n",
    "            tmp = 1\n",
    "        end\n",
    "    end\n",
    "    min(max(tmp, res), length(nums))\n",
    "end\n",
    "# @lc code=end"
   ],
   "metadata": {},
   "execution_count": 1
  },
  {
   "cell_type": "markdown",
   "source": [
    "---\n",
    "\n",
    "*This notebook was generated using [Literate.jl](https://github.com/fredrikekre/Literate.jl).*"
   ],
   "metadata": {}
  }
 ],
 "nbformat_minor": 3,
 "metadata": {
  "language_info": {
   "file_extension": ".jl",
   "mimetype": "application/julia",
   "name": "julia",
   "version": "1.6.0"
  },
  "kernelspec": {
   "name": "julia-1.6",
   "display_name": "Julia 1.6.0",
   "language": "julia"
  }
 },
 "nbformat": 4
}
