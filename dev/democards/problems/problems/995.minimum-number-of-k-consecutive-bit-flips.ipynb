{
 "cells": [
  {
   "cell_type": "markdown",
   "source": [
    "In an array `A` containing only 0s and 1s, a _`K`-bit flip _consists of\n",
    "choosing a (contiguous) subarray of length `K` and simultaneously changing\n",
    "every 0 in the subarray to 1, and every 1 in the subarray to 0.\n",
    "\n",
    "Return the minimum number of `K`-bit flips required so that there is no 0 in\n",
    "the array.  If it is not possible, return `-1`.\n",
    "\n",
    "\n",
    "\n",
    "**Example 1:**\n",
    "\n",
    "\n",
    "\n",
    "    Input: A = [0,1,0], K = 1\n",
    "    Output: 2\n",
    "    Explanation: Flip A[0], then flip A[2].\n",
    "\n",
    "\n",
    "**Example 2:**\n",
    "\n",
    "\n",
    "\n",
    "    Input: A = [1,1,0], K = 2\n",
    "    Output: -1\n",
    "    Explanation:  No matter how we flip subarrays of size 2, we can't make the array become [1,1,1].\n",
    "\n",
    "\n",
    "**Example 3:**\n",
    "\n",
    "\n",
    "\n",
    "    Input: A = [0,0,0,1,0,1,1,0], K = 3\n",
    "    Output: 3\n",
    "    Explanation:\n",
    "    Flip A[0],A[1],A[2]: A becomes [1,1,1,1,0,1,1,0]\n",
    "    Flip A[4],A[5],A[6]: A becomes [1,1,1,1,1,0,0,0]\n",
    "    Flip A[5],A[6],A[7]: A becomes [1,1,1,1,1,1,1,1]\n",
    "\n",
    "\n",
    "\n",
    "\n",
    "**Note:**\n",
    "\n",
    "  1. `1 <= A.length <= 30000`\n",
    "  2. `1 <= K <= A.length`"
   ],
   "metadata": {}
  },
  {
   "outputs": [
    {
     "output_type": "execute_result",
     "data": {
      "text/plain": "min_k_bit_flips (generic function with 1 method)"
     },
     "metadata": {},
     "execution_count": 1
    }
   ],
   "cell_type": "code",
   "source": [
    "# @lc code=start\n",
    "using LeetCode, DataStructures\n",
    "\n",
    "function min_k_bit_flips(A::Vector{Int}, K::Int)\n",
    "    len, res = length(A), 0\n",
    "    q = Queue{Int}()\n",
    "    for i in 1:len\n",
    "        (!isempty(q) && first(q) <= i - K) && dequeue!(q)\n",
    "\n",
    "        if (length(q) & 1) == A[i]\n",
    "            (i + K - 1 > len) && return -1\n",
    "            enqueue!(q, i)\n",
    "            res += 1\n",
    "        end\n",
    "    end\n",
    "    res\n",
    "end\n",
    "# @lc code=end"
   ],
   "metadata": {},
   "execution_count": 1
  },
  {
   "cell_type": "markdown",
   "source": [
    "---\n",
    "\n",
    "*This notebook was generated using [Literate.jl](https://github.com/fredrikekre/Literate.jl).*"
   ],
   "metadata": {}
  }
 ],
 "nbformat_minor": 3,
 "metadata": {
  "language_info": {
   "file_extension": ".jl",
   "mimetype": "application/julia",
   "name": "julia",
   "version": "1.5.4"
  },
  "kernelspec": {
   "name": "julia-1.5",
   "display_name": "Julia 1.5.4",
   "language": "julia"
  }
 },
 "nbformat": 4
}
