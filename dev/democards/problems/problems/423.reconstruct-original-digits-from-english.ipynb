{
 "cells": [
  {
   "cell_type": "markdown",
   "source": [
    "Given a **non-empty** string containing an out-of-order English representation\n",
    "of digits `0-9`, output the digits in ascending order.\n",
    "\n",
    "**Note:**\n",
    "\n",
    "  1. Input contains only lowercase English letters.\n",
    "  2. Input is guaranteed to be valid and can be transformed to its original digits. That means invalid inputs such as \"abc\" or \"zerone\" are not permitted.\n",
    "  3. Input length is less than 50,000.\n",
    "\n",
    "**Example 1:**\n",
    "\n",
    "\n",
    "\n",
    "    Input: \"owoztneoer\"\n",
    "\n",
    "    Output: \"012\"\n",
    "\n",
    "\n",
    "**Example 2:**\n",
    "\n",
    "\n",
    "\n",
    "    Input: \"fviefuro\"\n",
    "\n",
    "    Output: \"45\""
   ],
   "metadata": {}
  },
  {
   "outputs": [
    {
     "output_type": "execute_result",
     "data": {
      "text/plain": "original_digits (generic function with 1 method)"
     },
     "metadata": {},
     "execution_count": 1
    }
   ],
   "cell_type": "code",
   "source": [
    "# @lc code=start\n",
    "using LeetCode\n",
    "\n",
    "function original_digits(s::String)\n",
    "    cnt = counter(s)\n",
    "    n0 = cnt['z']\n",
    "    n2 = cnt['w']\n",
    "    n8 = cnt['g']\n",
    "    n6 = cnt['x']\n",
    "    n3 = cnt['t'] - n2 - n8\n",
    "    n4 = cnt['r'] - n3 - n0\n",
    "    n7 = cnt['s'] - n6\n",
    "    n1 = cnt['o'] - n4 - n2 - n0\n",
    "    n5 = cnt['v'] - n7\n",
    "    n9 = cnt['i'] - n8 - n6 - n5\n",
    "    ns = (n0, n1, n2, n3, n4, n5, n6, n7, n8, n9)\n",
    "    return join(string(i - 1)^n for (i, n) in enumerate(ns))\n",
    "end\n",
    "# @lc code=end"
   ],
   "metadata": {},
   "execution_count": 1
  },
  {
   "cell_type": "markdown",
   "source": [
    "---\n",
    "\n",
    "*This notebook was generated using [Literate.jl](https://github.com/fredrikekre/Literate.jl).*"
   ],
   "metadata": {}
  }
 ],
 "nbformat_minor": 3,
 "metadata": {
  "language_info": {
   "file_extension": ".jl",
   "mimetype": "application/julia",
   "name": "julia",
   "version": "1.6.2"
  },
  "kernelspec": {
   "name": "julia-1.6",
   "display_name": "Julia 1.6.2",
   "language": "julia"
  }
 },
 "nbformat": 4
}
