{
 "cells": [
  {
   "cell_type": "markdown",
   "source": [
    "Given an array of integers `nums` sorted in ascending order, find the starting\n",
    "and ending position of a given `target` value.\n",
    "\n",
    "If `target` is not found in the array, return `[-1, -1]`.\n",
    "\n",
    "**Follow up:**  Could you write an algorithm with `O(log n)` runtime\n",
    "complexity?\n",
    "\n",
    "\n",
    "\n",
    "**Example 1:**\n",
    "\n",
    "\n",
    "\n",
    "    Input: nums = [5,7,7,8,8,10], target = 8\n",
    "    Output: [3,4]\n",
    "\n",
    "\n",
    "**Example 2:**\n",
    "\n",
    "\n",
    "\n",
    "    Input: nums = [5,7,7,8,8,10], target = 6\n",
    "    Output: [-1,-1]\n",
    "\n",
    "\n",
    "**Example 3:**\n",
    "\n",
    "\n",
    "\n",
    "    Input: nums = [], target = 0\n",
    "    Output: [-1,-1]\n",
    "\n",
    "\n",
    "\n",
    "\n",
    "**Constraints:**\n",
    "\n",
    "  * `0 <= nums.length <= 105`\n",
    "  * `-109 <= nums[i] <= 109`\n",
    "  * `nums` is a non-decreasing array.\n",
    "  * `-109 <= target <= 109`"
   ],
   "metadata": {}
  },
  {
   "outputs": [
    {
     "output_type": "execute_result",
     "data": {
      "text/plain": "search_range (generic function with 1 method)"
     },
     "metadata": {},
     "execution_count": 1
    }
   ],
   "cell_type": "code",
   "source": [
    "# @lc code=start\n",
    "using LeetCode\n",
    "\n",
    "function search_range(nums::Vector{Int}, target::Int)::Vector{Int}\n",
    "    function get_left_border(target)\n",
    "        left, right = 1, n\n",
    "        while left <= right\n",
    "            mid = (left + right) >> 1\n",
    "            if nums[mid] >= target\n",
    "                right = mid - 1\n",
    "            else\n",
    "                left = mid + 1\n",
    "            end\n",
    "        end\n",
    "        return left\n",
    "    end\n",
    "    n = length(nums)\n",
    "    left_border = get_left_border(target)\n",
    "    (left_border > n || nums[left_border] != target) && return [-1, -1]\n",
    "    return [left_border - 1, get_left_border(target + 1) - 2]\n",
    "end\n",
    "# @lc code=end"
   ],
   "metadata": {},
   "execution_count": 1
  },
  {
   "cell_type": "markdown",
   "source": [
    "---\n",
    "\n",
    "*This notebook was generated using [Literate.jl](https://github.com/fredrikekre/Literate.jl).*"
   ],
   "metadata": {}
  }
 ],
 "nbformat_minor": 3,
 "metadata": {
  "language_info": {
   "file_extension": ".jl",
   "mimetype": "application/julia",
   "name": "julia",
   "version": "1.8.2"
  },
  "kernelspec": {
   "name": "julia-1.8",
   "display_name": "Julia 1.8.2",
   "language": "julia"
  }
 },
 "nbformat": 4
}
