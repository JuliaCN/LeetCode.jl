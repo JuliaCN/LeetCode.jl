{
 "cells": [
  {
   "cell_type": "markdown",
   "source": [
    "Given two strings `s` and `t`, find the number of ways you can choose a non-\n",
    "empty substring of `s` and replace a **single character** by a different\n",
    "character such that the resulting substring is a substring of `t`. In other\n",
    "words, find the number of substrings in `s` that differ from some substring in\n",
    "`t` by **exactly** one character.\n",
    "\n",
    "For example, the underlined substrings in `\" _compute_ r\"` and `\" _computa_\n",
    "tion\"` only differ by the `'e'`/`'a'`, so this is a valid way.\n",
    "\n",
    "Return _the number of substrings that satisfy the condition above._\n",
    "\n",
    "A **substring** is a contiguous sequence of characters within a string.\n",
    "\n",
    "\n",
    "\n",
    "**Example 1:**\n",
    "\n",
    "\n",
    "\n",
    "    Input: s = \"aba\", t = \"baba\"\n",
    "    Output: 6\n",
    "    Explanation: The following are the pairs of substrings from s and t that differ by exactly 1 character:\n",
    "    (\" _a_ ba\", \" _b_ aba\")\n",
    "    (\" _a_ ba\", \"ba _b_ a\")\n",
    "    (\"ab _a_ \", \" _b_ aba\")\n",
    "    (\"ab _a_ \", \"ba _b_ a\")\n",
    "    (\"a _b_ a\", \"b _a_ ba\")\n",
    "    (\"a _b_ a\", \"bab _a_ \")\n",
    "    The underlined portions are the substrings that are chosen from s and t.\n",
    "\n",
    "\n",
    "​​ **Example 2:**\n",
    "\n",
    "\n",
    "\n",
    "    Input: s = \"ab\", t = \"bb\"\n",
    "    Output: 3\n",
    "    Explanation: The following are the pairs of substrings from s and t that differ by 1 character:\n",
    "    (\" _a_ b\", \" _b_ b\")\n",
    "    (\" _a_ b\", \"b _b_ \")\n",
    "    (\" _ab_ \", \" _bb_ \")\n",
    "    ​​​​The underlined portions are the substrings that are chosen from s and t.\n",
    "\n",
    "\n",
    "**Example 3:**\n",
    "\n",
    "\n",
    "\n",
    "    Input: s = \"a\", t = \"a\"\n",
    "    Output: 0\n",
    "\n",
    "\n",
    "**Example 4:**\n",
    "\n",
    "\n",
    "\n",
    "    Input: s = \"abe\", t = \"bbc\"\n",
    "    Output: 10\n",
    "\n",
    "\n",
    "\n",
    "\n",
    "**Constraints:**\n",
    "\n",
    "  * `1 <= s.length, t.length <= 100`\n",
    "  * `s` and `t` consist of lowercase English letters only."
   ],
   "metadata": {}
  },
  {
   "outputs": [
    {
     "output_type": "execute_result",
     "data": {
      "text/plain": "count_substrings (generic function with 1 method)"
     },
     "metadata": {},
     "execution_count": 1
    }
   ],
   "cell_type": "code",
   "source": [
    "# @lc code=start\n",
    "using LeetCode\n",
    "\n",
    "function count_substrings(s::String, t::String)\n",
    "    function count_substr(s::SubString{String}, t::String)\n",
    "        res, len_s, len_t = 0, length(s), length(t)\n",
    "        for i in 1:len_t\n",
    "            j, k, diff = 1, i, 0\n",
    "            while diff < 2 && j <= len_s && k <= len_t\n",
    "                res += diff\n",
    "                diff += (s[j] != t[k])\n",
    "                j += 1; k += 1;\n",
    "            end\n",
    "            res += (diff == 1)\n",
    "        end\n",
    "        res\n",
    "    end\n",
    "    res = 0\n",
    "    for i in 1:length(s)\n",
    "        res += count_substr(SubString(s, i), t)\n",
    "    end\n",
    "    return res\n",
    "end\n",
    "# @lc code=end"
   ],
   "metadata": {},
   "execution_count": 1
  },
  {
   "cell_type": "markdown",
   "source": [
    "---\n",
    "\n",
    "*This notebook was generated using [Literate.jl](https://github.com/fredrikekre/Literate.jl).*"
   ],
   "metadata": {}
  }
 ],
 "nbformat_minor": 3,
 "metadata": {
  "language_info": {
   "file_extension": ".jl",
   "mimetype": "application/julia",
   "name": "julia",
   "version": "1.5.4"
  },
  "kernelspec": {
   "name": "julia-1.5",
   "display_name": "Julia 1.5.4",
   "language": "julia"
  }
 },
 "nbformat": 4
}
