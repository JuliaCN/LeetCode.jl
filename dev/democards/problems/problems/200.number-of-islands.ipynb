{
 "cells": [
  {
   "cell_type": "markdown",
   "source": [
    "Given an `m x n` 2d `grid` map of `'1'`s (land) and `'0'`s (water), return\n",
    "_the number of islands_.\n",
    "\n",
    "An **island** is surrounded by water and is formed by connecting adjacent\n",
    "lands horizontally or vertically. You may assume all four edges of the grid\n",
    "are all surrounded by water.\n",
    "\n",
    "\n",
    "\n",
    "**Example 1:**\n",
    "\n",
    "\n",
    "\n",
    "    Input: grid = [\n",
    "      [\"1\",\"1\",\"1\",\"1\",\"0\"],\n",
    "      [\"1\",\"1\",\"0\",\"1\",\"0\"],\n",
    "      [\"1\",\"1\",\"0\",\"0\",\"0\"],\n",
    "      [\"0\",\"0\",\"0\",\"0\",\"0\"]\n",
    "    ]\n",
    "    Output: 1\n",
    "\n",
    "\n",
    "**Example 2:**\n",
    "\n",
    "\n",
    "\n",
    "    Input: grid = [\n",
    "      [\"1\",\"1\",\"0\",\"0\",\"0\"],\n",
    "      [\"1\",\"1\",\"0\",\"0\",\"0\"],\n",
    "      [\"0\",\"0\",\"1\",\"0\",\"0\"],\n",
    "      [\"0\",\"0\",\"0\",\"1\",\"1\"]\n",
    "    ]\n",
    "    Output: 3\n",
    "\n",
    "\n",
    "\n",
    "\n",
    "**Constraints:**\n",
    "\n",
    "  * `m == grid.length`\n",
    "  * `n == grid[i].length`\n",
    "  * `1 <= m, n <= 300`\n",
    "  * `grid[i][j]` is `'0'` or `'1'`."
   ],
   "metadata": {}
  },
  {
   "outputs": [
    {
     "output_type": "execute_result",
     "data": {
      "text/plain": "lands_num (generic function with 1 method)"
     },
     "metadata": {},
     "execution_count": 1
    }
   ],
   "cell_type": "code",
   "source": [
    "# @lc code=start\n",
    "using LeetCode\n",
    "\n",
    "function lands_num(grid::Vector{Vector{String}})\n",
    "    nr, nc = length(grid), length(grid[1])\n",
    "    function dfs(grid::Vector{Vector{String}}, r, c)\n",
    "        grid[r][c] = \"0\"\n",
    "        (r + 1 <= nr) && grid[r+1][c] == \"1\" && dfs(grid, r+1, c)\n",
    "        (r - 1 > 0) && grid[r-1][c] == \"1\" && dfs(grid, r-1, c)\n",
    "        (c + 1 <= nc) && grid[r][c+1] == \"1\" && dfs(grid, r, c+1)\n",
    "        (c - 1 > 0) && grid[r][c-1] == \"1\" && dfs(grid, r, c-1)\n",
    "        nothing\n",
    "    end\n",
    "    res = 0\n",
    "    for i in 1:nr\n",
    "        for j in 1:nc\n",
    "            if grid[i][j] == \"1\"\n",
    "                res += 1\n",
    "                dfs(grid, i, j)\n",
    "            end\n",
    "        end\n",
    "    end\n",
    "    res\n",
    "end\n",
    "# @lc code=end"
   ],
   "metadata": {},
   "execution_count": 1
  },
  {
   "cell_type": "markdown",
   "source": [
    "---\n",
    "\n",
    "*This notebook was generated using [Literate.jl](https://github.com/fredrikekre/Literate.jl).*"
   ],
   "metadata": {}
  }
 ],
 "nbformat_minor": 3,
 "metadata": {
  "language_info": {
   "file_extension": ".jl",
   "mimetype": "application/julia",
   "name": "julia",
   "version": "1.10.1"
  },
  "kernelspec": {
   "name": "julia-1.10",
   "display_name": "Julia 1.10.1",
   "language": "julia"
  }
 },
 "nbformat": 4
}
