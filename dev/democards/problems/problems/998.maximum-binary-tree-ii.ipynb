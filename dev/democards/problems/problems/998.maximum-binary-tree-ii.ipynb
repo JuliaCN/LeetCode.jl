{
 "cells": [
  {
   "cell_type": "markdown",
   "source": [
    "We are given the `root` node of a _maximum tree:_ a tree where every node has\n",
    "a value greater than any other value in its subtree.\n",
    "\n",
    "Just as in the [previous problem](https://leetcode.comhttps://leetcode.com/problems/maximum-\n",
    "binary-tree/), the given tree was constructed from an list `A` (`root =\n",
    "Construct(A)`) recursively with the following `Construct(A)` routine:\n",
    "\n",
    "  * If `A` is empty, return `null`.\n",
    "  * Otherwise, let `A[i]` be the largest element of `A`.  Create a `root` node with value `A[i]`.\n",
    "  * The left child of `root` will be `Construct([A[0], A[1], ..., A[i-1]])`\n",
    "  * The right child of `root` will be `Construct([A[i+1], A[i+2], ..., A[A.length - 1]])`\n",
    "  * Return `root`.\n",
    "\n",
    "Note that we were not given A directly, only a root node `root =\n",
    "Construct(A)`.\n",
    "\n",
    "Suppose `B` is a copy of `A` with the value `val` appended to it.  It is\n",
    "guaranteed that `B` has unique values.\n",
    "\n",
    "Return `Construct(B)`.\n",
    "\n",
    "\n",
    "\n",
    "**Example 1:**\n",
    "\n",
    "**![](https://assets.leetcode.com/uploads/2019/02/21/maximum-binary-\n",
    "tree-1-1.png)![](https://assets.leetcode.com/uploads/2019/02/21/maximum-\n",
    "binary-tree-1-2.png)**\n",
    "\n",
    "\n",
    "\n",
    "    Input: root = [4,1,3,null,null,2], val = 5\n",
    "    Output: [5,4,null,1,3,null,null,2]\n",
    "    Explanation: A = [1,4,2,3], B = [1,4,2,3,5]\n",
    "\n",
    "\n",
    "**Example 2:**\n",
    "\n",
    "**![](https://assets.leetcode.com/uploads/2019/02/21/maximum-binary-\n",
    "tree-2-1.png)![](https://assets.leetcode.com/uploads/2019/02/21/maximum-\n",
    "binary-tree-2-2.png)**\n",
    "\n",
    "\n",
    "\n",
    "    Input: root = [5,2,4,null,1], val = 3\n",
    "    Output: [5,2,4,null,1,null,3]\n",
    "    Explanation: A = [2,1,5,4], B = [2,1,5,4,3]\n",
    "\n",
    "\n",
    "**Example 3:**\n",
    "\n",
    "**![](https://assets.leetcode.com/uploads/2019/02/21/maximum-binary-\n",
    "tree-3-1.png)![](https://assets.leetcode.com/uploads/2019/02/21/maximum-\n",
    "binary-tree-3-2.png)**\n",
    "\n",
    "\n",
    "\n",
    "    Input: root = [5,2,3,null,1], val = 4\n",
    "    Output: [5,2,4,null,1,3]\n",
    "    Explanation: A = [2,1,5,3], B = [2,1,5,3,4]\n",
    "\n",
    "\n",
    "\n",
    "\n",
    "**Constraints:**\n",
    "\n",
    "  * `1 <= B.length <= 100`"
   ],
   "metadata": {}
  },
  {
   "outputs": [
    {
     "output_type": "execute_result",
     "data": {
      "text/plain": "insert_into_max_tree (generic function with 2 methods)"
     },
     "metadata": {},
     "execution_count": 1
    }
   ],
   "cell_type": "code",
   "source": [
    "# @lc code=start\n",
    "using LeetCode\n",
    "\n",
    "function insert_into_max_tree(root::TreeNode{Int}, val::Int)\n",
    "    tmp = TreeNode(val)\n",
    "    if val > root.val\n",
    "        tmp.left = root\n",
    "        return tmp\n",
    "    end\n",
    "    root.right = insert_into_max_tree(root.right, val)\n",
    "    return root\n",
    "end\n",
    "insert_into_max_tree(::Nothing, val::Int) = TreeNode(val)\n",
    "# @lc code=end"
   ],
   "metadata": {},
   "execution_count": 1
  },
  {
   "cell_type": "markdown",
   "source": [
    "---\n",
    "\n",
    "*This notebook was generated using [Literate.jl](https://github.com/fredrikekre/Literate.jl).*"
   ],
   "metadata": {}
  }
 ],
 "nbformat_minor": 3,
 "metadata": {
  "language_info": {
   "file_extension": ".jl",
   "mimetype": "application/julia",
   "name": "julia",
   "version": "1.8.0"
  },
  "kernelspec": {
   "name": "julia-1.8",
   "display_name": "Julia 1.8.0",
   "language": "julia"
  }
 },
 "nbformat": 4
}
