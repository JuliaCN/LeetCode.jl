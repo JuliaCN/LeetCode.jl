{
 "cells": [
  {
   "cell_type": "markdown",
   "source": [
    "Given a string `s` which represents an expression, _evaluate this expression\n",
    "and return its value_.\n",
    "\n",
    "The integer division should truncate toward zero.\n",
    "\n",
    "\n",
    "\n",
    "**Example 1:**\n",
    "\n",
    "\n",
    "\n",
    "    Input: s = \"3+2*2\"\n",
    "    Output: 7\n",
    "\n",
    "\n",
    "**Example 2:**\n",
    "\n",
    "\n",
    "\n",
    "    Input: s = \" 3/2 \"\n",
    "    Output: 1\n",
    "\n",
    "\n",
    "**Example 3:**\n",
    "\n",
    "\n",
    "\n",
    "    Input: s = \" 3+5 / 2 \"\n",
    "    Output: 5\n",
    "\n",
    "\n",
    "\n",
    "\n",
    "**Constraints:**\n",
    "\n",
    "  * `1 <= s.length <= 3 * 105`\n",
    "  * `s` consists of integers and operators `('+', '-', '*', '/')` separated by some number of spaces.\n",
    "  * `s` represents **a valid expression**.\n",
    "  * All the integers in the expression are non-negative integers in the range `[0, 231 - 1]`.\n",
    "  * The answer is **guaranteed** to fit in a **32-bit integer**."
   ],
   "metadata": {}
  },
  {
   "outputs": [
    {
     "output_type": "execute_result",
     "data": {
      "text/plain": "calculate_ii (generic function with 1 method)"
     },
     "metadata": {},
     "execution_count": 1
    }
   ],
   "cell_type": "code",
   "source": [
    "# @lc code=start\n",
    "using LeetCode\n",
    "\n",
    "function calculate_ii(s::String)::Int\n",
    "    num, stk, sign = 0, Int64[], '+'\n",
    "\n",
    "    for (i, c) in enumerate(s)\n",
    "        isdigit(c) && (num = 10 * num + parse(Int, c))\n",
    "        if c in ['-', '+', '/', '*'] || i == length(s)\n",
    "            if sign == '+'\n",
    "                push!(stk, num)\n",
    "            elseif sign == '-'\n",
    "                push!(stk, -num)\n",
    "            elseif sign == '*'\n",
    "                push!(stk, pop!(stk) * num)\n",
    "            elseif sign == '/'\n",
    "                push!(stk, pop!(stk) ÷ num)\n",
    "            end\n",
    "\n",
    "            num = 0\n",
    "            sign = c\n",
    "        end\n",
    "    end\n",
    "\n",
    "    return sum(stk)\n",
    "end\n",
    "\n",
    "# @lc code=end"
   ],
   "metadata": {},
   "execution_count": 1
  },
  {
   "cell_type": "markdown",
   "source": [
    "---\n",
    "\n",
    "*This notebook was generated using [Literate.jl](https://github.com/fredrikekre/Literate.jl).*"
   ],
   "metadata": {}
  }
 ],
 "nbformat_minor": 3,
 "metadata": {
  "language_info": {
   "file_extension": ".jl",
   "mimetype": "application/julia",
   "name": "julia",
   "version": "1.6.1"
  },
  "kernelspec": {
   "name": "julia-1.6",
   "display_name": "Julia 1.6.1",
   "language": "julia"
  }
 },
 "nbformat": 4
}
