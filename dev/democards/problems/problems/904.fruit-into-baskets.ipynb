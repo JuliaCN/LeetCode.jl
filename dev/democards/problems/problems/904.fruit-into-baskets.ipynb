{
 "cells": [
  {
   "cell_type": "markdown",
   "source": [
    "In a row of trees, the `i`-th tree produces fruit with type `tree[i]`.\n",
    "\n",
    "You **start at any tree  of your choice**, then repeatedly perform the\n",
    "following steps:\n",
    "\n",
    "  1. Add one piece of fruit from this tree to your baskets.  If you cannot, stop.\n",
    "  2. Move to the next tree to the right of the current tree.  If there is no tree to the right, stop.\n",
    "\n",
    "Note that you do not have any choice after the initial choice of starting\n",
    "tree: you must perform step 1, then step 2, then back to step 1, then step 2,\n",
    "and so on until you stop.\n",
    "\n",
    "You have two baskets, and each basket can carry any quantity of fruit, but you\n",
    "want each basket to only carry one type of fruit each.\n",
    "\n",
    "What is the total amount of fruit you can collect with this procedure?\n",
    "\n",
    "\n",
    "\n",
    "**Example 1:**\n",
    "\n",
    "\n",
    "\n",
    "    Input: [1,2,1]\n",
    "    Output: 3\n",
    "    Explanation: We can collect [1,2,1].\n",
    "\n",
    "\n",
    "**Example 2:**\n",
    "\n",
    "\n",
    "\n",
    "    Input: [0,1,2,2]\n",
    "    Output: 3\n",
    "    Explanation: We can collect [1,2,2].\n",
    "    If we started at the first tree, we would only collect [0, 1].\n",
    "\n",
    "\n",
    "**Example 3:**\n",
    "\n",
    "\n",
    "\n",
    "    Input: [1,2,3,2,2]\n",
    "    Output: 4\n",
    "    Explanation: We can collect [2,3,2,2].\n",
    "    If we started at the first tree, we would only collect [1, 2].\n",
    "\n",
    "\n",
    "**Example 4:**\n",
    "\n",
    "\n",
    "\n",
    "    Input: [3,3,3,1,2,1,1,2,3,3,4]\n",
    "    Output: 5\n",
    "    Explanation: We can collect [1,2,1,1,2].\n",
    "    If we started at the first tree or the eighth tree, we would only collect 4 fruits.\n",
    "\n",
    "\n",
    "\n",
    "\n",
    "**Note:**\n",
    "\n",
    "  1. `1 <= tree.length <= 40000`\n",
    "  2. `0 <= tree[i] < tree.length`"
   ],
   "metadata": {}
  },
  {
   "outputs": [
    {
     "output_type": "execute_result",
     "data": {
      "text/plain": "total_fruit (generic function with 1 method)"
     },
     "metadata": {},
     "execution_count": 1
    }
   ],
   "cell_type": "code",
   "source": [
    "# @lc code=start\n",
    "using LeetCode\n",
    "\n",
    "function total_fruit(fruits::Vector{Int})\n",
    "    fruits .+= 1\n",
    "    n = length(fruits)\n",
    "    cnt = fill(0, n)\n",
    "    type_cnt = 0\n",
    "    res = 0\n",
    "    j = 1\n",
    "    for i in 1:n\n",
    "        if (cnt[fruits[i]] += 1) == 1\n",
    "            type_cnt += 1\n",
    "        end\n",
    "        while type_cnt > 2\n",
    "            if (cnt[fruits[j]] -= 1) == 0\n",
    "                type_cnt -= 1\n",
    "            end\n",
    "            j += 1\n",
    "        end\n",
    "        res = max(res, i - j + 1)\n",
    "    end\n",
    "    return res\n",
    "end\n",
    "# @lc code=end"
   ],
   "metadata": {},
   "execution_count": 1
  },
  {
   "cell_type": "markdown",
   "source": [
    "---\n",
    "\n",
    "*This notebook was generated using [Literate.jl](https://github.com/fredrikekre/Literate.jl).*"
   ],
   "metadata": {}
  }
 ],
 "nbformat_minor": 3,
 "metadata": {
  "language_info": {
   "file_extension": ".jl",
   "mimetype": "application/julia",
   "name": "julia",
   "version": "1.9.1"
  },
  "kernelspec": {
   "name": "julia-1.9",
   "display_name": "Julia 1.9.1",
   "language": "julia"
  }
 },
 "nbformat": 4
}
