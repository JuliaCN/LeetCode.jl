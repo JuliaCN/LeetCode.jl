{
 "cells": [
  {
   "cell_type": "markdown",
   "source": [
    "Given a string `S`, return the \"reversed\" string where all characters that are\n",
    "not a letter stay in the same place, and all letters reverse their positions.\n",
    "\n",
    "\n",
    "\n",
    "**Example 1:**\n",
    "\n",
    "\n",
    "\n",
    "    Input: \"ab-cd\"\n",
    "    Output: \"dc-ba\"\n",
    "\n",
    "\n",
    "**Example 2:**\n",
    "\n",
    "\n",
    "\n",
    "    Input: \"a-bC-dEf-ghIj\"\n",
    "    Output: \"j-Ih-gfE-dCba\"\n",
    "\n",
    "\n",
    "**Example 3:**\n",
    "\n",
    "\n",
    "\n",
    "    Input: \"Test1ng-Leet=code-Q!\"\n",
    "    Output: \"Qedo1ct-eeLg=ntse-T!\"\n",
    "\n",
    "\n",
    "\n",
    "\n",
    "**Note:**\n",
    "\n",
    "  1. `S.length <= 100`\n",
    "  2. `33 <= S[i].ASCIIcode <= 122`\n",
    "  3. `S` doesn't contain `\\` or `\"`"
   ],
   "metadata": {}
  },
  {
   "outputs": [
    {
     "output_type": "execute_result",
     "data": {
      "text/plain": "reverse_only_letters (generic function with 1 method)"
     },
     "metadata": {},
     "execution_count": 1
    }
   ],
   "cell_type": "code",
   "source": [
    "# @lc code=start\n",
    "using LeetCode\n",
    "\n",
    "function reverse_only_letters(s::String)\n",
    "    chars = codeunits(s)[:]\n",
    "    letters = @view(chars[isletter.(Char.(chars))])\n",
    "    reverse!(letters)\n",
    "    return String(chars)\n",
    "end\n",
    "# @lc code=end"
   ],
   "metadata": {},
   "execution_count": 1
  },
  {
   "cell_type": "markdown",
   "source": [
    "---\n",
    "\n",
    "*This notebook was generated using [Literate.jl](https://github.com/fredrikekre/Literate.jl).*"
   ],
   "metadata": {}
  }
 ],
 "nbformat_minor": 3,
 "metadata": {
  "language_info": {
   "file_extension": ".jl",
   "mimetype": "application/julia",
   "name": "julia",
   "version": "1.8.0"
  },
  "kernelspec": {
   "name": "julia-1.8",
   "display_name": "Julia 1.8.0",
   "language": "julia"
  }
 },
 "nbformat": 4
}
