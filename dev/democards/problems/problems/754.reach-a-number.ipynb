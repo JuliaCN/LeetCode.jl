{
 "cells": [
  {
   "cell_type": "markdown",
   "source": [
    "You are standing at position `0` on an infinite number line. There is a goal\n",
    "at position `target`.\n",
    "\n",
    "On each move, you can either go left or right. During the _n_ -th move\n",
    "(starting from 1), you take _n_ steps.\n",
    "\n",
    "Return the minimum number of steps required to reach the destination.\n",
    "\n",
    "**Example 1:**\n",
    "\n",
    "\n",
    "\n",
    "    Input: target = 3\n",
    "    Output: 2\n",
    "    Explanation:\n",
    "    On the first move we step from 0 to 1.\n",
    "    On the second step we step from 1 to 3.\n",
    "\n",
    "\n",
    "**Example 2:**\n",
    "\n",
    "\n",
    "\n",
    "    Input: target = 2\n",
    "    Output: 3\n",
    "    Explanation:\n",
    "    On the first move we step from 0 to 1.\n",
    "    On the second move we step  from 1 to -1.\n",
    "    On the third move we step from -1 to 2.\n",
    "\n",
    "\n",
    "**Note:**\n",
    "\n",
    "* `target` will be a non-zero integer in the range `[-10^9, 10^9]`."
   ],
   "metadata": {}
  },
  {
   "outputs": [
    {
     "output_type": "execute_result",
     "data": {
      "text/plain": "reach_number (generic function with 1 method)"
     },
     "metadata": {},
     "execution_count": 1
    }
   ],
   "cell_type": "code",
   "source": [
    "# @lc code=start\n",
    "using LeetCode\n",
    "\n",
    "function reach_number(target::Integer)\n",
    "    target = abs(target)\n",
    "    k = 0\n",
    "    while target > 0\n",
    "        k += 1\n",
    "        target = target - k\n",
    "    end\n",
    "    return iseven(target) ? k : k + 1 + k % 2\n",
    "end\n",
    "# @lc code=end"
   ],
   "metadata": {},
   "execution_count": 1
  },
  {
   "cell_type": "markdown",
   "source": [
    "---\n",
    "\n",
    "*This notebook was generated using [Literate.jl](https://github.com/fredrikekre/Literate.jl).*"
   ],
   "metadata": {}
  }
 ],
 "nbformat_minor": 3,
 "metadata": {
  "language_info": {
   "file_extension": ".jl",
   "mimetype": "application/julia",
   "name": "julia",
   "version": "1.10.1"
  },
  "kernelspec": {
   "name": "julia-1.10",
   "display_name": "Julia 1.10.1",
   "language": "julia"
  }
 },
 "nbformat": 4
}
