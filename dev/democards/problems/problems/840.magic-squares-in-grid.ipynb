{
 "cells": [
  {
   "cell_type": "markdown",
   "source": [
    "A `3 x 3` magic square is a `3 x 3` grid filled with distinct numbers\n",
    "**from**`1` **to**`9` such that each row, column, and both diagonals all have\n",
    "the same sum.\n",
    "\n",
    "Given a `row x col` `grid` of integers, how many `3 x 3` \"magic square\"\n",
    "subgrids are there?  (Each subgrid is contiguous).\n",
    "\n",
    "\n",
    "\n",
    "**Example 1:**\n",
    "\n",
    "![](https://assets.leetcode.com/uploads/2020/09/11/magic_main.jpg)\n",
    "\n",
    "\n",
    "\n",
    "    Input: grid = [[4,3,8,4],[9,5,1,9],[2,7,6,2]]\n",
    "    Output: 1\n",
    "    Explanation:\n",
    "    The following subgrid is a 3 x 3 magic square:\n",
    "    ![](https://assets.leetcode.com/uploads/2020/09/11/magic_valid.jpg)\n",
    "    while this one is not:\n",
    "    ![](https://assets.leetcode.com/uploads/2020/09/11/magic_invalid.jpg)\n",
    "    In total, there is only one magic square inside the given grid.\n",
    "\n",
    "\n",
    "**Example 2:**\n",
    "\n",
    "\n",
    "\n",
    "    Input: grid = [[8]]\n",
    "    Output: 0\n",
    "\n",
    "\n",
    "**Example 3:**\n",
    "\n",
    "\n",
    "\n",
    "    Input: grid = [[4,4],[3,3]]\n",
    "    Output: 0\n",
    "\n",
    "\n",
    "**Example 4:**\n",
    "\n",
    "\n",
    "\n",
    "    Input: grid = [[4,7,8],[9,5,1],[2,3,6]]\n",
    "    Output: 0\n",
    "\n",
    "\n",
    "\n",
    "\n",
    "**Constraints:**\n",
    "\n",
    "  * `row == grid.length`\n",
    "  * `col == grid[i].length`\n",
    "  * `1 <= row, col <= 10`\n",
    "  * `0 <= grid[i][j] <= 15`"
   ],
   "metadata": {}
  },
  {
   "outputs": [
    {
     "output_type": "execute_result",
     "data": {
      "text/plain": "num_magic_squares_inside (generic function with 1 method)"
     },
     "metadata": {},
     "execution_count": 1
    }
   ],
   "cell_type": "code",
   "source": [
    "# @lc code=start\n",
    "using LeetCode\n",
    "\n",
    "function num_magic_squares_inside(grid::Matrix{Int})::Int\n",
    "    r = [15, 15, 15]\n",
    "    function is_magic_square(grid::AbstractMatrix{Int})\n",
    "        sum(grid; dims=1) != reshape(r, 1, 3) && return false\n",
    "        sum(grid; dims=2) != reshape(r, 3, 1) && return false\n",
    "        sum(grid[i, i] for i in 1:3) == sum(grid[i, 4 - i] for i in 1:3) == 15 && return true\n",
    "        return false\n",
    "    end\n",
    "    res = 0\n",
    "    for j in 1:size(grid,2)-2, i in 1:size(grid,1)-2\n",
    "        sub_mat = @view(grid[CartesianIndex(i, j):CartesianIndex(i+2, j+2)])\n",
    "        all(x -> x in sub_mat, 1:9) && is_magic_square(sub_mat) && (res += 1)\n",
    "    end\n",
    "    return res\n",
    "end\n",
    "# @lc code=end"
   ],
   "metadata": {},
   "execution_count": 1
  },
  {
   "cell_type": "markdown",
   "source": [
    "---\n",
    "\n",
    "*This notebook was generated using [Literate.jl](https://github.com/fredrikekre/Literate.jl).*"
   ],
   "metadata": {}
  }
 ],
 "nbformat_minor": 3,
 "metadata": {
  "language_info": {
   "file_extension": ".jl",
   "mimetype": "application/julia",
   "name": "julia",
   "version": "1.7.3"
  },
  "kernelspec": {
   "name": "julia-1.7",
   "display_name": "Julia 1.7.3",
   "language": "julia"
  }
 },
 "nbformat": 4
}
