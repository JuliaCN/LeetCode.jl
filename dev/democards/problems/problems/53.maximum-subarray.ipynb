{
 "cells": [
  {
   "cell_type": "markdown",
   "source": [
    "Given an integer array `nums`, find the contiguous subarray (containing at\n",
    "least one number) which has the largest sum and return _its sum_.\n",
    "\n",
    "**Follow up:**  If you have figured out the `O(n)` solution, try coding\n",
    "another solution using the **divide and conquer** approach, which is more\n",
    "subtle.\n",
    "\n",
    "\n",
    "\n",
    "**Example 1:**\n",
    "\n",
    "\n",
    "\n",
    "    Input: nums = [-2,1,-3,4,-1,2,1,-5,4]\n",
    "    Output: 6\n",
    "    Explanation: [4,-1,2,1] has the largest sum = 6.\n",
    "\n",
    "\n",
    "**Example 2:**\n",
    "\n",
    "\n",
    "\n",
    "    Input: nums = [1]\n",
    "    Output: 1\n",
    "\n",
    "\n",
    "**Example 3:**\n",
    "\n",
    "\n",
    "\n",
    "    Input: nums = [0]\n",
    "    Output: 0\n",
    "\n",
    "\n",
    "**Example 4:**\n",
    "\n",
    "\n",
    "\n",
    "    Input: nums = [-1]\n",
    "    Output: -1\n",
    "\n",
    "\n",
    "**Example 5:**\n",
    "\n",
    "\n",
    "\n",
    "    Input: nums = [-2147483647]\n",
    "    Output: -2147483647\n",
    "\n",
    "\n",
    "\n",
    "\n",
    "**Constraints:**\n",
    "\n",
    "  * `1 <= nums.length <= 2 * 104`\n",
    "  * `-231 <= nums[i] <= 231 - 1`"
   ],
   "metadata": {}
  },
  {
   "outputs": [
    {
     "output_type": "execute_result",
     "data": {
      "text/plain": "maximum_subarray (generic function with 1 method)"
     },
     "metadata": {},
     "execution_count": 1
    }
   ],
   "cell_type": "code",
   "source": [
    "# @lc code=start\n",
    "using LeetCode\n",
    "\n",
    "function maximum_subarray(nums::Vector{Int})::Int\n",
    "    pre, max_res = 0, nums[1]\n",
    "    for num in nums\n",
    "        pre = max(pre + num, num)\n",
    "        max_res = max(pre, max_res)\n",
    "    end\n",
    "    return max_res\n",
    "end\n",
    "\n",
    "# @lc code=end"
   ],
   "metadata": {},
   "execution_count": 1
  },
  {
   "cell_type": "markdown",
   "source": [
    "---\n",
    "\n",
    "*This notebook was generated using [Literate.jl](https://github.com/fredrikekre/Literate.jl).*"
   ],
   "metadata": {}
  }
 ],
 "nbformat_minor": 3,
 "metadata": {
  "language_info": {
   "file_extension": ".jl",
   "mimetype": "application/julia",
   "name": "julia",
   "version": "1.8.2"
  },
  "kernelspec": {
   "name": "julia-1.8",
   "display_name": "Julia 1.8.2",
   "language": "julia"
  }
 },
 "nbformat": 4
}
