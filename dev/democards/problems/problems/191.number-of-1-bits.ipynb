{
 "cells": [
  {
   "cell_type": "markdown",
   "source": [
    "Write a function that takes an unsigned integer and returns the number of '1'\n",
    "bits it has (also known as the [Hamming\n",
    "weight](http://en.wikipedia.org/wiki/Hamming_weight)).\n",
    "\n",
    "**Note:**\n",
    "\n",
    "  * Note that in some languages such as Java, there is no unsigned integer type. In this case, the input will be given as a signed integer type. It should not affect your implementation, as the integer's internal binary representation is the same, whether it is signed or unsigned.\n",
    "  * In Java, the compiler represents the signed integers using [2's complement notation](https://en.wikipedia.org/wiki/Two%27s_complement). Therefore, in **Example 3**  above, the input represents the signed integer. `-3`.\n",
    "\n",
    "**Follow up** : If this function is called many times, how would you optimize\n",
    "it?\n",
    "\n",
    "\n",
    "\n",
    "**Example 1:**\n",
    "\n",
    "\n",
    "\n",
    "    Input: n = 00000000000000000000000000001011\n",
    "    Output: 3\n",
    "    Explanation: The input binary string **00000000000000000000000000001011** has a total of three '1' bits.\n",
    "\n",
    "\n",
    "**Example 2:**\n",
    "\n",
    "\n",
    "\n",
    "    Input: n = 00000000000000000000000010000000\n",
    "    Output: 1\n",
    "    Explanation: The input binary string **00000000000000000000000010000000** has a total of one '1' bit.\n",
    "\n",
    "\n",
    "**Example 3:**\n",
    "\n",
    "\n",
    "\n",
    "    Input: n = 11111111111111111111111111111101\n",
    "    Output: 31\n",
    "    Explanation: The input binary string **11111111111111111111111111111101** has a total of thirty one '1' bits.\n",
    "\n",
    "\n",
    "\n",
    "\n",
    "**Constraints:**\n",
    "\n",
    "  * The input must be a **binary string** of length `32`"
   ],
   "metadata": {}
  },
  {
   "outputs": [
    {
     "output_type": "execute_result",
     "data": {
      "text/plain": "hamming_weight (generic function with 1 method)"
     },
     "metadata": {},
     "execution_count": 1
    }
   ],
   "cell_type": "code",
   "source": [
    "# @lc code=start\n",
    "using LeetCode\n",
    "\n",
    "function hamming_weight(n::UInt32)::Int\n",
    "    count = 0\n",
    "    while n > 0\n",
    "        n &= n - 1\n",
    "        count += 1\n",
    "    end\n",
    "\n",
    "    return count\n",
    "end\n",
    "# @lc code=end"
   ],
   "metadata": {},
   "execution_count": 1
  },
  {
   "cell_type": "markdown",
   "source": [
    "---\n",
    "\n",
    "*This notebook was generated using [Literate.jl](https://github.com/fredrikekre/Literate.jl).*"
   ],
   "metadata": {}
  }
 ],
 "nbformat_minor": 3,
 "metadata": {
  "language_info": {
   "file_extension": ".jl",
   "mimetype": "application/julia",
   "name": "julia",
   "version": "1.7.0"
  },
  "kernelspec": {
   "name": "julia-1.7",
   "display_name": "Julia 1.7.0",
   "language": "julia"
  }
 },
 "nbformat": 4
}
