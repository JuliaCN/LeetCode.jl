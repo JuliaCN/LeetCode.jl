{
 "cells": [
  {
   "cell_type": "markdown",
   "source": [
    "Given an integer array with no duplicates. A maximum tree building on this\n",
    "array is defined as follow:\n",
    "\n",
    "  1. The root is the maximum number in the array.\n",
    "  2. The left subtree is the maximum tree constructed from left part subarray divided by the maximum number.\n",
    "  3. The right subtree is the maximum tree constructed from right part subarray divided by the maximum number.\n",
    "\n",
    "Construct the maximum tree by the given array and output the root node of this\n",
    "tree.\n",
    "\n",
    "**Example 1:**\n",
    "\n",
    "\n",
    "\n",
    "    Input: [3,2,1,6,0,5]\n",
    "    Output: return the tree root node representing the following tree:\n",
    "\n",
    "          6\n",
    "        /   \\\n",
    "       3     5\n",
    "        \\    /\n",
    "         2  0\n",
    "           \\\n",
    "            1\n",
    "\n",
    "\n",
    "**Note:**\n",
    "\n",
    "  1. The size of the given array will be in the range [1,1000]."
   ],
   "metadata": {}
  },
  {
   "outputs": [
    {
     "output_type": "execute_result",
     "data": {
      "text/plain": "construct_maximum_binary_tree (generic function with 1 method)"
     },
     "metadata": {},
     "execution_count": 1
    }
   ],
   "cell_type": "code",
   "source": [
    "# @lc code=start\n",
    "using LeetCode\n",
    "\n",
    "function construct_maximum_binary_tree(nums::AbstractVector{Int})\n",
    "    isempty(nums) && return nothing\n",
    "    max_idx = argmax(nums)\n",
    "    return TreeNode(nums[max_idx],\n",
    "                    construct_maximum_binary_tree(@view(nums[1:(max_idx - 1)])),\n",
    "                    construct_maximum_binary_tree(@view(nums[(max_idx + 1):end])))\n",
    "end\n",
    "# @lc code=end"
   ],
   "metadata": {},
   "execution_count": 1
  },
  {
   "cell_type": "markdown",
   "source": [
    "---\n",
    "\n",
    "*This notebook was generated using [Literate.jl](https://github.com/fredrikekre/Literate.jl).*"
   ],
   "metadata": {}
  }
 ],
 "nbformat_minor": 3,
 "metadata": {
  "language_info": {
   "file_extension": ".jl",
   "mimetype": "application/julia",
   "name": "julia",
   "version": "1.6.2"
  },
  "kernelspec": {
   "name": "julia-1.6",
   "display_name": "Julia 1.6.2",
   "language": "julia"
  }
 },
 "nbformat": 4
}
