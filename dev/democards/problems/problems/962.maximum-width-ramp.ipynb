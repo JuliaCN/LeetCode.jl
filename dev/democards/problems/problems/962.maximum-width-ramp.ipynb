{
 "cells": [
  {
   "cell_type": "markdown",
   "source": [
    "Given an array `A` of integers, a _ramp_  is a tuple `(i, j)` for which `i <\n",
    "j` and `A[i] <= A[j]`.  The width of such a ramp is `j - i`.\n",
    "\n",
    "Find the maximum width of a ramp in `A`.  If one doesn't exist, return 0.\n",
    "\n",
    "\n",
    "\n",
    "**Example 1:**\n",
    "\n",
    "\n",
    "\n",
    "    Input: [6,0,8,2,1,5]\n",
    "    Output: 4\n",
    "    Explanation:\n",
    "    The maximum width ramp is achieved at (i, j) = (1, 5): A[1] = 0 and A[5] = 5.\n",
    "\n",
    "\n",
    "**Example 2:**\n",
    "\n",
    "\n",
    "\n",
    "    Input: [9,8,1,0,1,9,4,0,4,1]\n",
    "    Output: 7\n",
    "    Explanation:\n",
    "    The maximum width ramp is achieved at (i, j) = (2, 9): A[2] = 1 and A[9] = 1.\n",
    "\n",
    "\n",
    "\n",
    "\n",
    "**Note:**\n",
    "\n",
    "  1. `2 <= A.length <= 50000`\n",
    "  2. `0 <= A[i] <= 50000`"
   ],
   "metadata": {}
  },
  {
   "outputs": [
    {
     "output_type": "execute_result",
     "data": {
      "text/plain": "max_width_ramp (generic function with 1 method)"
     },
     "metadata": {},
     "execution_count": 1
    }
   ],
   "cell_type": "code",
   "source": [
    "# @lc code=start\n",
    "using LeetCode\n",
    "\n",
    "function max_width_ramp(A::Vector{Int})\n",
    "    res = 0\n",
    "    stk = [1]\n",
    "    for i in 2:length(A)\n",
    "        (A[i] < A[stk[end]]) && (push!(stk, i))\n",
    "    end\n",
    "    for i in length(A):-1:2\n",
    "        idx = i\n",
    "        while !isempty(stk) && A[stk[end]] <= A[i]\n",
    "            idx = pop!(stk)\n",
    "        end\n",
    "        res = max(i - idx, res)\n",
    "    end\n",
    "    return res\n",
    "end\n",
    "# @lc code=end"
   ],
   "metadata": {},
   "execution_count": 1
  },
  {
   "cell_type": "markdown",
   "source": [
    "---\n",
    "\n",
    "*This notebook was generated using [Literate.jl](https://github.com/fredrikekre/Literate.jl).*"
   ],
   "metadata": {}
  }
 ],
 "nbformat_minor": 3,
 "metadata": {
  "language_info": {
   "file_extension": ".jl",
   "mimetype": "application/julia",
   "name": "julia",
   "version": "1.7.0"
  },
  "kernelspec": {
   "name": "julia-1.7",
   "display_name": "Julia 1.7.0",
   "language": "julia"
  }
 },
 "nbformat": 4
}
