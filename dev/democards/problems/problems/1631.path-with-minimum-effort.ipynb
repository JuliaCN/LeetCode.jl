{
 "cells": [
  {
   "cell_type": "markdown",
   "source": [
    "You are a hiker preparing for an upcoming hike. You are given `heights`, a 2D\n",
    "array of size `rows x columns`, where `heights[row][col]` represents the\n",
    "height of cell `(row, col)`. You are situated in the top-left cell, `(0, 0)`,\n",
    "and you hope to travel to the bottom-right cell, `(rows-1, columns-1)` (i.e.,\n",
    "**0-indexed** ). You can move **up** , **down** , **left** , or **right** ,\n",
    "and you wish to find a route that requires the minimum **effort**.\n",
    "\n",
    "A route's **effort** is the **maximum absolute difference** **** in heights\n",
    "between two consecutive cells of the route.\n",
    "\n",
    "Return _the minimum **effort** required to travel from the top-left cell to\n",
    "the bottom-right cell._\n",
    "\n",
    "\n",
    "\n",
    "**Example 1:**\n",
    "\n",
    "![](https://assets.leetcode.com/uploads/2020/10/04/ex1.png)\n",
    "\n",
    "\n",
    "\n",
    "    Input: heights = [[1,2,2],[3,8,2],[5,3,5]]\n",
    "    Output: 2\n",
    "    Explanation: The route of [1,3,5,3,5] has a maximum absolute difference of 2 in consecutive cells.\n",
    "    This is better than the route of [1,2,2,2,5], where the maximum absolute difference is 3.\n",
    "\n",
    "\n",
    "**Example 2:**\n",
    "\n",
    "![](https://assets.leetcode.com/uploads/2020/10/04/ex2.png)\n",
    "\n",
    "\n",
    "\n",
    "    Input: heights = [[1,2,3],[3,8,4],[5,3,5]]\n",
    "    Output: 1\n",
    "    Explanation: The route of [1,2,3,4,5] has a maximum absolute difference of 1 in consecutive cells, which is better than route [1,3,5,3,5].\n",
    "\n",
    "\n",
    "**Example 3:**\n",
    "\n",
    "![](https://assets.leetcode.com/uploads/2020/10/04/ex3.png)\n",
    "\n",
    "\n",
    "\n",
    "    Input: heights = [[1,2,1,1,1],[1,2,1,2,1],[1,2,1,2,1],[1,2,1,2,1],[1,1,1,2,1]]\n",
    "    Output: 0\n",
    "    Explanation: This route does not require any effort.\n",
    "\n",
    "\n",
    "\n",
    "\n",
    "**Constraints:**\n",
    "\n",
    "  * `rows == heights.length`\n",
    "  * `columns == heights[i].length`\n",
    "  * `1 <= rows, columns <= 100`\n",
    "  * `1 <= heights[i][j] <= 106`"
   ],
   "metadata": {}
  },
  {
   "outputs": [
    {
     "output_type": "execute_result",
     "data": {
      "text/plain": "minimum_effort_path (generic function with 1 method)"
     },
     "metadata": {},
     "execution_count": 1
    }
   ],
   "cell_type": "code",
   "source": [
    "# @lc code=start\n",
    "using LeetCode\n",
    "\n",
    "function minimum_effort_path(heights::Vector{Vector{Int}})\n",
    "    m, n = length(heights), length(heights[1])\n",
    "    ds = IntDisjointSets(m * n)\n",
    "    map = SortedMultiDict{Int, Pair{Int, Int}}()\n",
    "    for i in 1:m-1\n",
    "        for j in 1:n-1\n",
    "            insert!(map, abs(heights[i][j] - heights[i+1][j]), Pair((i - 1) * n + j, i * n + j))\n",
    "            insert!(map, abs(heights[i][j] - heights[i][j+1]), Pair((i - 1) * n + j, (i - 1) * n + j + 1))\n",
    "        end\n",
    "    end\n",
    "    for i in 1:m-1\n",
    "        insert!(map, abs(heights[i][n] - heights[i+1][n]), Pair(i * n, (i + 1) * n))\n",
    "    end\n",
    "    for j in 1:n-1\n",
    "        insert!(map, abs(heights[m][j] - heights[m][j+1]), Pair((m-1) * n + j, (m-1) * n + j + 1))\n",
    "    end\n",
    "    for (dist, edge) in map\n",
    "        union!(ds, edge.first, edge.second)\n",
    "        if in_same_set(ds, 1, m * n)\n",
    "            return dist\n",
    "        end\n",
    "    end\n",
    "end\n",
    "# @lc code=end"
   ],
   "metadata": {},
   "execution_count": 1
  },
  {
   "cell_type": "markdown",
   "source": [
    "---\n",
    "\n",
    "*This notebook was generated using [Literate.jl](https://github.com/fredrikekre/Literate.jl).*"
   ],
   "metadata": {}
  }
 ],
 "nbformat_minor": 3,
 "metadata": {
  "language_info": {
   "file_extension": ".jl",
   "mimetype": "application/julia",
   "name": "julia",
   "version": "1.6.3"
  },
  "kernelspec": {
   "name": "julia-1.6",
   "display_name": "Julia 1.6.3",
   "language": "julia"
  }
 },
 "nbformat": 4
}
