{
 "cells": [
  {
   "cell_type": "markdown",
   "source": [
    "Alice has a `hand` of cards, given as an array of integers.\n",
    "\n",
    "Now she wants to rearrange the cards into groups so that each group is size\n",
    "`W`, and consists of `W` consecutive cards.\n",
    "\n",
    "Return `true` if and only if she can.\n",
    "\n",
    "**Note:** This question is the same as 1296:\n",
    "<https://leetcode.comhttps://leetcode.com/problems/divide-array-in-sets-of-k-consecutive-numbers/>\n",
    "\n",
    "\n",
    "\n",
    "**Example 1:**\n",
    "\n",
    "\n",
    "\n",
    "    Input: hand = [1,2,3,6,2,3,4,7,8], W = 3\n",
    "    Output: true\n",
    "    Explanation: Alice's hand can be rearranged as [1,2,3],[2,3,4],[6,7,8]\n",
    "\n",
    "\n",
    "**Example 2:**\n",
    "\n",
    "\n",
    "\n",
    "    Input: hand = [1,2,3,4,5], W = 4\n",
    "    Output: false\n",
    "    Explanation: Alice's hand can't be rearranged into groups of 4.\n",
    "\n",
    "\n",
    "\n",
    "\n",
    "\n",
    "**Constraints:**\n",
    "\n",
    "  * `1 <= hand.length <= 10000`\n",
    "  * `0 <= hand[i] <= 10^9`\n",
    "  * `1 <= W <= hand.length`"
   ],
   "metadata": {}
  },
  {
   "outputs": [
    {
     "output_type": "execute_result",
     "data": {
      "text/plain": "is_n_straight_hand (generic function with 1 method)"
     },
     "metadata": {},
     "execution_count": 1
    }
   ],
   "cell_type": "code",
   "source": [
    "# @lc code=start\n",
    "using LeetCode\n",
    "\n",
    "function is_n_straight_hand(hand::Vector{Int}, group_size::Integer)::Bool\n",
    "    length(hand) % group_size == 0 || return false\n",
    "    cntr = counter(hand)\n",
    "    while !isempty(cntr)\n",
    "        k = minimum(keys(cntr))\n",
    "        v = cntr[k]\n",
    "        for i in (0:group_size-1) .+ k\n",
    "            cntr[i] -= v\n",
    "            cntr[i] < 0 && return false\n",
    "            cntr[i] == 0 && pop!(cntr.map, i)\n",
    "        end\n",
    "    end\n",
    "    return true\n",
    "end\n",
    "# @lc code=end"
   ],
   "metadata": {},
   "execution_count": 1
  },
  {
   "cell_type": "markdown",
   "source": [
    "---\n",
    "\n",
    "*This notebook was generated using [Literate.jl](https://github.com/fredrikekre/Literate.jl).*"
   ],
   "metadata": {}
  }
 ],
 "nbformat_minor": 3,
 "metadata": {
  "language_info": {
   "file_extension": ".jl",
   "mimetype": "application/julia",
   "name": "julia",
   "version": "1.8.0"
  },
  "kernelspec": {
   "name": "julia-1.8",
   "display_name": "Julia 1.8.0",
   "language": "julia"
  }
 },
 "nbformat": 4
}
