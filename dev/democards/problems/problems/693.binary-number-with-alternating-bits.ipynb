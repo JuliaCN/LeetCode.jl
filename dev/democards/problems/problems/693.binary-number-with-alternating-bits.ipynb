{
 "cells": [
  {
   "cell_type": "markdown",
   "source": [
    "Given a positive integer, check whether it has alternating bits: namely, if\n",
    "two adjacent bits will always have different values.\n",
    "\n",
    "\n",
    "\n",
    "**Example 1:**\n",
    "\n",
    "\n",
    "\n",
    "    Input: n = 5\n",
    "    Output: true\n",
    "    Explanation: The binary representation of 5 is: 101\n",
    "\n",
    "\n",
    "**Example 2:**\n",
    "\n",
    "\n",
    "\n",
    "    Input: n = 7\n",
    "    Output: false\n",
    "    Explanation: The binary representation of 7 is: 111.\n",
    "\n",
    "**Example 3:**\n",
    "\n",
    "\n",
    "\n",
    "    Input: n = 11\n",
    "    Output: false\n",
    "    Explanation: The binary representation of 11 is: 1011.\n",
    "\n",
    "**Example 4:**\n",
    "\n",
    "\n",
    "\n",
    "    Input: n = 10\n",
    "    Output: true\n",
    "    Explanation: The binary representation of 10 is: 1010.\n",
    "\n",
    "**Example 5:**\n",
    "\n",
    "\n",
    "\n",
    "    Input: n = 3\n",
    "    Output: false\n",
    "\n",
    "\n",
    "\n",
    "\n",
    "**Constraints:**\n",
    "\n",
    "  * `1 <= n <= 231 - 1`"
   ],
   "metadata": {}
  },
  {
   "outputs": [
    {
     "output_type": "execute_result",
     "data": {
      "text/plain": "has_alternating_bits (generic function with 1 method)"
     },
     "metadata": {},
     "execution_count": 1
    }
   ],
   "cell_type": "code",
   "source": [
    "# @lc code=start\n",
    "using LeetCode\n",
    "\n",
    "function has_alternating_bits(n::Int)::Bool\n",
    "    a = (n >> 1) ⊻ n\n",
    "    return a & (a + 1) == 0\n",
    "end\n",
    "\n",
    "# @lc code=end"
   ],
   "metadata": {},
   "execution_count": 1
  },
  {
   "cell_type": "markdown",
   "source": [
    "---\n",
    "\n",
    "*This notebook was generated using [Literate.jl](https://github.com/fredrikekre/Literate.jl).*"
   ],
   "metadata": {}
  }
 ],
 "nbformat_minor": 3,
 "metadata": {
  "language_info": {
   "file_extension": ".jl",
   "mimetype": "application/julia",
   "name": "julia",
   "version": "1.7.3"
  },
  "kernelspec": {
   "name": "julia-1.7",
   "display_name": "Julia 1.7.3",
   "language": "julia"
  }
 },
 "nbformat": 4
}
