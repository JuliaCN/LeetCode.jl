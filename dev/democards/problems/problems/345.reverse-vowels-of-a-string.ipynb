{
 "cells": [
  {
   "cell_type": "markdown",
   "source": [
    "Write a function that takes a string as input and reverse only the vowels of a\n",
    "string.\n",
    "\n",
    "**Example 1:**\n",
    "\n",
    "\n",
    "\n",
    "    Input: \"hello\"\n",
    "    Output: \"holle\"\n",
    "\n",
    "\n",
    "**Example 2:**\n",
    "\n",
    "\n",
    "\n",
    "    Input: \"leetcode\"\n",
    "    Output: \"leotcede\"\n",
    "\n",
    "**Note:**\n",
    "The vowels does not include the letter \"y\"."
   ],
   "metadata": {}
  },
  {
   "outputs": [
    {
     "output_type": "execute_result",
     "data": {
      "text/plain": "reverse_vowels (generic function with 1 method)"
     },
     "metadata": {},
     "execution_count": 1
    }
   ],
   "cell_type": "code",
   "source": [
    "# @lc code=start\n",
    "using LeetCode\n",
    "\n",
    "function reverse_vowels(s::String)\n",
    "    in_chars = codeunits(s)[:]\n",
    "    indices = Int[]\n",
    "    vowels = Set(['a', 'e', 'i', 'o', 'u'])\n",
    "    for i in 1:length(s)\n",
    "        s[i] ∈ vowels && push!(indices, i)\n",
    "    end\n",
    "    reverse!(@view(in_chars[indices]))\n",
    "    in_chars |> pointer |> unsafe_string\n",
    "end\n",
    "# @lc code=end"
   ],
   "metadata": {},
   "execution_count": 1
  },
  {
   "cell_type": "markdown",
   "source": [
    "---\n",
    "\n",
    "*This notebook was generated using [Literate.jl](https://github.com/fredrikekre/Literate.jl).*"
   ],
   "metadata": {}
  }
 ],
 "nbformat_minor": 3,
 "metadata": {
  "language_info": {
   "file_extension": ".jl",
   "mimetype": "application/julia",
   "name": "julia",
   "version": "1.10.1"
  },
  "kernelspec": {
   "name": "julia-1.10",
   "display_name": "Julia 1.10.1",
   "language": "julia"
  }
 },
 "nbformat": 4
}
