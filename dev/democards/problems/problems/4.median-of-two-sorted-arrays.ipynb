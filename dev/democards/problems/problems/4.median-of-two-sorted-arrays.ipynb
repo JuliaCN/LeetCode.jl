{
 "cells": [
  {
   "cell_type": "markdown",
   "source": [
    "Given two sorted arrays `nums1` and `nums2` of size `m` and `n` respectively,\n",
    "return **the median** of the two sorted arrays.\n",
    "\n",
    "**Follow up:** The overall run time complexity should be `O(log (m+n))`.\n",
    "\n",
    "\n",
    "\n",
    "**Example 1:**\n",
    "\n",
    "\n",
    "\n",
    "    Input: nums1 = [1,3], nums2 = [2]\n",
    "    Output: 2.00000\n",
    "    Explanation: merged array = [1,2,3] and median is 2.\n",
    "\n",
    "\n",
    "**Example 2:**\n",
    "\n",
    "\n",
    "\n",
    "    Input: nums1 = [1,2], nums2 = [3,4]\n",
    "    Output: 2.50000\n",
    "    Explanation: merged array = [1,2,3,4] and median is (2 + 3) / 2 = 2.5.\n",
    "\n",
    "\n",
    "**Example 3:**\n",
    "\n",
    "\n",
    "\n",
    "    Input: nums1 = [0,0], nums2 = [0,0]\n",
    "    Output: 0.00000\n",
    "\n",
    "\n",
    "**Example 4:**\n",
    "\n",
    "\n",
    "\n",
    "    Input: nums1 = [], nums2 = [1]\n",
    "    Output: 1.00000\n",
    "\n",
    "\n",
    "**Example 5:**\n",
    "\n",
    "\n",
    "\n",
    "    Input: nums1 = [2], nums2 = []\n",
    "    Output: 2.00000\n",
    "\n",
    "\n",
    "\n",
    "\n",
    "**Constraints:**\n",
    "\n",
    "  * `nums1.length == m`\n",
    "  * `nums2.length == n`\n",
    "  * `0 <= m <= 1000`\n",
    "  * `0 <= n <= 1000`\n",
    "  * `1 <= m + n <= 2000`\n",
    "  * `-106 <= nums1[i], nums2[i] <= 106`"
   ],
   "metadata": {}
  },
  {
   "outputs": [
    {
     "output_type": "execute_result",
     "data": {
      "text/plain": "nth (generic function with 1 method)"
     },
     "metadata": {},
     "execution_count": 1
    }
   ],
   "cell_type": "code",
   "source": [
    "# @lc code=start\n",
    "using LeetCode\n",
    "\n",
    "function find_median_sorted_arrays(nums1::Vector{Int}, nums2::Vector{Int})::Float64\n",
    "    n = length(nums1) + length(nums2)\n",
    "    isodd(n) ? nth(nums1, nums2, n ÷ 2 + 1) :\n",
    "    (nth(nums1, nums2, n ÷ 2) + nth(nums1, nums2, n ÷ 2 + 1)) / 2\n",
    "end\n",
    "\n",
    "function nth(a, b, k)\n",
    "    isempty(a) && return b[k]\n",
    "    isempty(b) && return a[k]\n",
    "    ia, ib = cld(length(a), 2), cld(length(b), 2)\n",
    "    ma, mb = a[ia], b[ib]\n",
    "    if ia + ib <= k\n",
    "        ma > mb ? nth(a, @view(b[(ib + 1):end]), k - ib) : ## we can safely ignore the first half in b\n",
    "        nth(@view(a[(ia + 1):end]), b, k - ia)\n",
    "    else\n",
    "        ma > mb ? nth(@view(a[1:(ia - 1)]), b, k) : nth(a, @view(b[1:(ib - 1)]), k)\n",
    "    end\n",
    "end\n",
    "# @lc code=end"
   ],
   "metadata": {},
   "execution_count": 1
  },
  {
   "cell_type": "markdown",
   "source": [
    "---\n",
    "\n",
    "*This notebook was generated using [Literate.jl](https://github.com/fredrikekre/Literate.jl).*"
   ],
   "metadata": {}
  }
 ],
 "nbformat_minor": 3,
 "metadata": {
  "language_info": {
   "file_extension": ".jl",
   "mimetype": "application/julia",
   "name": "julia",
   "version": "1.6.4"
  },
  "kernelspec": {
   "name": "julia-1.6",
   "display_name": "Julia 1.6.4",
   "language": "julia"
  }
 },
 "nbformat": 4
}
