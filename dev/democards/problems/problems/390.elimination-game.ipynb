{
 "cells": [
  {
   "cell_type": "markdown",
   "source": [
    "There is a list of sorted integers from 1 to _n_. Starting from left to right,\n",
    "remove the first number and every other number afterward until you reach the\n",
    "end of the list.\n",
    "\n",
    "Repeat the previous step again, but this time from right to left, remove the\n",
    "right most number and every other number from the remaining numbers.\n",
    "\n",
    "We keep repeating the steps again, alternating left to right and right to\n",
    "left, until a single number remains.\n",
    "\n",
    "Find the last number that remains starting with a list of length _n_.\n",
    "\n",
    "**Example:**\n",
    "\n",
    "\n",
    "\n",
    "    Input:\n",
    "    n = 9,\n",
    "    _1_ 2 _3_ 4 _5_ 6 _7_ 8 _9_\n",
    "    2 _4_ 6 _8_\n",
    "    _2_ 6\n",
    "    6\n",
    "\n",
    "    Output:\n",
    "    6"
   ],
   "metadata": {}
  },
  {
   "outputs": [
    {
     "output_type": "execute_result",
     "data": {
      "text/plain": "last_remaining (generic function with 1 method)"
     },
     "metadata": {},
     "execution_count": 1
    }
   ],
   "cell_type": "code",
   "source": [
    "# @lc code=start\n",
    "using LeetCode\n",
    "\n",
    "last_remaining(n::Int)::Int = n == 1 ? 1 : 2 * (n ÷ 2 + 1 - last_remaining(n ÷ 2))\n",
    "\n",
    "# @lc code=end"
   ],
   "metadata": {},
   "execution_count": 1
  },
  {
   "cell_type": "markdown",
   "source": [
    "---\n",
    "\n",
    "*This notebook was generated using [Literate.jl](https://github.com/fredrikekre/Literate.jl).*"
   ],
   "metadata": {}
  }
 ],
 "nbformat_minor": 3,
 "metadata": {
  "language_info": {
   "file_extension": ".jl",
   "mimetype": "application/julia",
   "name": "julia",
   "version": "1.8.0"
  },
  "kernelspec": {
   "name": "julia-1.8",
   "display_name": "Julia 1.8.0",
   "language": "julia"
  }
 },
 "nbformat": 4
}
