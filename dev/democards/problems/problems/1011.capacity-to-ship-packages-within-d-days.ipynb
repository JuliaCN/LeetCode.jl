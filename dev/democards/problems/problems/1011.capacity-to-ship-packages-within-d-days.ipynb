{
 "cells": [
  {
   "cell_type": "markdown",
   "source": [
    "A conveyor belt has packages that must be shipped from one port to another\n",
    "within `D` days.\n",
    "\n",
    "The `i`-th package on the conveyor belt has a weight of `weights[i]`.  Each\n",
    "day, we load the ship with packages on the conveyor belt (in the order given\n",
    "by `weights`). We may not load more weight than the maximum weight capacity of\n",
    "the ship.\n",
    "\n",
    "Return the least weight capacity of the ship that will result in all the\n",
    "packages on the conveyor belt being shipped within `D` days.\n",
    "\n",
    "\n",
    "\n",
    "**Example 1:**\n",
    "\n",
    "\n",
    "\n",
    "    Input: weights = [1,2,3,4,5,6,7,8,9,10], D = 5\n",
    "    Output: 15\n",
    "    Explanation:\n",
    "    A ship capacity of 15 is the minimum to ship all the packages in 5 days like this:\n",
    "    1st day: 1, 2, 3, 4, 5\n",
    "    2nd day: 6, 7\n",
    "    3rd day: 8\n",
    "    4th day: 9\n",
    "    5th day: 10\n",
    "\n",
    "    Note that the cargo must be shipped in the order given, so using a ship of capacity 14 and splitting the packages into parts like (2, 3, 4, 5), (1, 6, 7), (8), (9), (10) is not allowed.\n",
    "\n",
    "\n",
    "**Example 2:**\n",
    "\n",
    "\n",
    "\n",
    "    Input: weights = [3,2,2,4,1,4], D = 3\n",
    "    Output: 6\n",
    "    Explanation:\n",
    "    A ship capacity of 6 is the minimum to ship all the packages in 3 days like this:\n",
    "    1st day: 3, 2\n",
    "    2nd day: 2, 4\n",
    "    3rd day: 1, 4\n",
    "\n",
    "\n",
    "**Example 3:**\n",
    "\n",
    "\n",
    "\n",
    "    Input: weights = [1,2,3,1,1], D = 4\n",
    "    Output: 3\n",
    "    Explanation:\n",
    "    1st day: 1\n",
    "    2nd day: 2\n",
    "    3rd day: 3\n",
    "    4th day: 1, 1\n",
    "\n",
    "\n",
    "\n",
    "\n",
    "**Constraints:**\n",
    "\n",
    "  * `1 <= D <= weights.length <= 50000`\n",
    "  * `1 <= weights[i] <= 500`"
   ],
   "metadata": {}
  },
  {
   "outputs": [
    {
     "output_type": "execute_result",
     "data": {
      "text/plain": "ship_within_days (generic function with 1 method)"
     },
     "metadata": {},
     "execution_count": 1
    }
   ],
   "cell_type": "code",
   "source": [
    "# @lc code=start\n",
    "using LeetCode\n",
    "\n",
    "function ship_within_days(weights::Vector{Int}, D::Int)\n",
    "    lo, hi = maximum(weights), sum(weights)\n",
    "    while lo < hi\n",
    "        mid = (lo + hi) ÷ 2\n",
    "        cnt = 1\n",
    "        tt = 0\n",
    "        for w in weights\n",
    "            tt += w\n",
    "            if tt > mid\n",
    "                cnt += 1\n",
    "                tt = w\n",
    "            end\n",
    "        end\n",
    "        cnt > D ? (lo = mid + 1) : (hi = mid)\n",
    "    end\n",
    "    return lo\n",
    "end\n",
    "# @lc code=end"
   ],
   "metadata": {},
   "execution_count": 1
  },
  {
   "cell_type": "markdown",
   "source": [
    "---\n",
    "\n",
    "*This notebook was generated using [Literate.jl](https://github.com/fredrikekre/Literate.jl).*"
   ],
   "metadata": {}
  }
 ],
 "nbformat_minor": 3,
 "metadata": {
  "language_info": {
   "file_extension": ".jl",
   "mimetype": "application/julia",
   "name": "julia",
   "version": "1.10.1"
  },
  "kernelspec": {
   "name": "julia-1.10",
   "display_name": "Julia 1.10.1",
   "language": "julia"
  }
 },
 "nbformat": 4
}
