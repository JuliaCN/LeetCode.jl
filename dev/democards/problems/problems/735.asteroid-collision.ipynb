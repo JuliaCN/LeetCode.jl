{
 "cells": [
  {
   "cell_type": "markdown",
   "source": [
    "We are given an array `asteroids` of integers representing asteroids in a row.\n",
    "\n",
    "For each asteroid, the absolute value represents its size, and the sign\n",
    "represents its direction (positive meaning right, negative meaning left). Each\n",
    "asteroid moves at the same speed.\n",
    "\n",
    "Find out the state of the asteroids after all collisions. If two asteroids\n",
    "meet, the smaller one will explode. If both are the same size, both will\n",
    "explode. Two asteroids moving in the same direction will never meet.\n",
    "\n",
    "\n",
    "\n",
    "**Example 1:**\n",
    "\n",
    "\n",
    "\n",
    "    Input: asteroids = [5,10,-5]\n",
    "    Output: [5,10]\n",
    "    Explanation: The 10 and -5 collide resulting in 10.  The 5 and 10 never collide.\n",
    "\n",
    "\n",
    "**Example 2:**\n",
    "\n",
    "\n",
    "\n",
    "    Input: asteroids = [8,-8]\n",
    "    Output: []\n",
    "    Explanation: The 8 and -8 collide exploding each other.\n",
    "\n",
    "\n",
    "**Example 3:**\n",
    "\n",
    "\n",
    "\n",
    "    Input: asteroids = [10,2,-5]\n",
    "    Output: [10]\n",
    "    Explanation: The 2 and -5 collide resulting in -5. The 10 and -5 collide resulting in 10.\n",
    "\n",
    "\n",
    "**Example 4:**\n",
    "\n",
    "\n",
    "\n",
    "    Input: asteroids = [-2,-1,1,2]\n",
    "    Output: [-2,-1,1,2]\n",
    "    Explanation: The -2 and -1 are moving left, while the 1 and 2 are moving right. Asteroids moving the same direction never meet, so no asteroids will meet each other.\n",
    "\n",
    "\n",
    "\n",
    "\n",
    "**Constraints:**\n",
    "\n",
    "  * `1 <= asteroids <= 104`\n",
    "  * `-1000 <= asteroids[i] <= 1000`\n",
    "  * `asteroids[i] != 0`"
   ],
   "metadata": {}
  },
  {
   "outputs": [
    {
     "output_type": "execute_result",
     "data": {
      "text/plain": "asteroid_collision (generic function with 1 method)"
     },
     "metadata": {},
     "execution_count": 1
    }
   ],
   "cell_type": "code",
   "source": [
    "# @lc code=start\n",
    "using LeetCode\n",
    "\n",
    "function asteroid_collision(asteroids::Vector{Int})\n",
    "    res = Int[]\n",
    "    for ast in asteroids\n",
    "        ast > 0 && (push!(res, ast); continue)\n",
    "        flg = true\n",
    "        while !isempty(res) && res[end] > 0\n",
    "            cmp = res[end] + ast\n",
    "            if cmp < 0\n",
    "                pop!(res)\n",
    "            elseif cmp == 0\n",
    "                pop!(res)\n",
    "                flg = false\n",
    "            else\n",
    "                flg = false\n",
    "                break\n",
    "            end\n",
    "        end\n",
    "        flg && push!(res, ast)\n",
    "    end\n",
    "    return res\n",
    "end\n",
    "# @lc code=end"
   ],
   "metadata": {},
   "execution_count": 1
  },
  {
   "cell_type": "markdown",
   "source": [
    "---\n",
    "\n",
    "*This notebook was generated using [Literate.jl](https://github.com/fredrikekre/Literate.jl).*"
   ],
   "metadata": {}
  }
 ],
 "nbformat_minor": 3,
 "metadata": {
  "language_info": {
   "file_extension": ".jl",
   "mimetype": "application/julia",
   "name": "julia",
   "version": "1.6.4"
  },
  "kernelspec": {
   "name": "julia-1.6",
   "display_name": "Julia 1.6.4",
   "language": "julia"
  }
 },
 "nbformat": 4
}
