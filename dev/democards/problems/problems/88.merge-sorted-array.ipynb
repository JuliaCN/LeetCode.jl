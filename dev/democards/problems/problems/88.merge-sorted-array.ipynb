{
 "cells": [
  {
   "cell_type": "markdown",
   "source": [
    "Given two sorted integer arrays _nums1_ and _nums2_ , merge _nums2_ into\n",
    "_nums1_ as one sorted array.\n",
    "\n",
    "**Note:**\n",
    "\n",
    "  * The number of elements initialized in _nums1_ and _nums2_ are _m_ and _n_ respectively.\n",
    "  * You may assume that _nums1_ has enough space (size that is  **equal** to _m_ \\+ _n_ ) to hold additional elements from _nums2_.\n",
    "\n",
    "**Example:**\n",
    "\n",
    "\n",
    "\n",
    "    Input:\n",
    "    nums1 = [1,2,3,0,0,0], m = 3\n",
    "    nums2 = [2,5,6],       n = 3\n",
    "\n",
    "    Output:  [1,2,2,3,5,6]\n",
    "\n",
    "\n",
    "\n",
    "\n",
    "**Constraints:**\n",
    "\n",
    "  * `-10^9 <= nums1[i], nums2[i] <= 10^9`\n",
    "  * `nums1.length == m + n`\n",
    "  * `nums2.length == n`"
   ],
   "metadata": {}
  },
  {
   "outputs": [
    {
     "output_type": "execute_result",
     "data": {
      "text/plain": "merge_sorted_array (generic function with 1 method)"
     },
     "metadata": {},
     "execution_count": 1
    }
   ],
   "cell_type": "code",
   "source": [
    "# @lc code=start\n",
    "using LeetCode\n",
    "\n",
    "function merge_sorted_array(\n",
    "    nums1::AbstractVector{Int}, m::Int, nums2::AbstractVector{Int}, n::Int\n",
    ")::Nothing\n",
    "    i = m + n\n",
    "    while m > 0 && n > 0\n",
    "        if nums1[m] > nums2[n]\n",
    "            nums1[i] = nums1[m]\n",
    "            m -= 1\n",
    "        else\n",
    "            nums1[i] = nums2[n]\n",
    "            n -= 1\n",
    "        end\n",
    "        i -= 1\n",
    "    end\n",
    "\n",
    "    while n > 0\n",
    "        nums1[i] = nums2[n]\n",
    "        n -= 1\n",
    "        i -= 1\n",
    "    end\n",
    "\n",
    "    return nothing\n",
    "end\n",
    "# @lc code=end"
   ],
   "metadata": {},
   "execution_count": 1
  },
  {
   "cell_type": "markdown",
   "source": [
    "---\n",
    "\n",
    "*This notebook was generated using [Literate.jl](https://github.com/fredrikekre/Literate.jl).*"
   ],
   "metadata": {}
  }
 ],
 "nbformat_minor": 3,
 "metadata": {
  "language_info": {
   "file_extension": ".jl",
   "mimetype": "application/julia",
   "name": "julia",
   "version": "1.6.3"
  },
  "kernelspec": {
   "name": "julia-1.6",
   "display_name": "Julia 1.6.3",
   "language": "julia"
  }
 },
 "nbformat": 4
}
