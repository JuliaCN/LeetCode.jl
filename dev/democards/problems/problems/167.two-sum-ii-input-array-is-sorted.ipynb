{
 "cells": [
  {
   "cell_type": "markdown",
   "source": [
    "Given an array of integers that is already **_sorted in ascending order_** ,\n",
    "find two numbers such that they add up to a specific target number.\n",
    "\n",
    "The function twoSum should return indices of the two numbers such that they\n",
    "add up to the target, where index1 must be less than index2.\n",
    "\n",
    "**Note:**\n",
    "\n",
    "  * Your returned answers (both index1 and index2) are not zero-based.\n",
    "  * You may assume that each input would have _exactly_ one solution and you may not use the _same_ element twice.\n",
    "\n",
    "\n",
    "\n",
    "**Example 1:**\n",
    "\n",
    "\n",
    "\n",
    "    Input: numbers = [2,7,11,15], target = 9\n",
    "    Output: [1,2]\n",
    "    Explanation: The sum of 2 and 7 is 9. Therefore index1 = 1, index2 = 2.\n",
    "\n",
    "\n",
    "**Example 2:**\n",
    "\n",
    "\n",
    "\n",
    "    Input: numbers = [2,3,4], target = 6\n",
    "    Output: [1,3]\n",
    "\n",
    "\n",
    "**Example 3:**\n",
    "\n",
    "\n",
    "\n",
    "    Input: numbers = [-1,0], target = -1\n",
    "    Output: [1,2]\n",
    "\n",
    "\n",
    "\n",
    "\n",
    "**Constraints:**\n",
    "\n",
    "  * `2 <= nums.length <= 3 * 104`\n",
    "  * `-1000 <= nums[i] <= 1000`\n",
    "  * `nums` is sorted in **increasing order**.\n",
    "  * `-1000 <= target <= 1000`"
   ],
   "metadata": {}
  },
  {
   "outputs": [
    {
     "output_type": "execute_result",
     "data": {
      "text/plain": "two_sum_167 (generic function with 1 method)"
     },
     "metadata": {},
     "execution_count": 1
    }
   ],
   "cell_type": "code",
   "source": [
    "# @lc code=start\n",
    "using LeetCode\n",
    "\n",
    "# using double pointers\n",
    "function two_sum_167(numbers::Vector{Int}, target::Int)::Vector{Int}\n",
    "    left, right = 1, length(numbers)\n",
    "    while left < right\n",
    "        num = numbers[left] + numbers[right]\n",
    "        if num > target\n",
    "            right -= 1\n",
    "        elseif num < target\n",
    "            left += 1\n",
    "        else\n",
    "            return [left, right]\n",
    "        end\n",
    "    end\n",
    "    [-1, -1]\n",
    "end\n",
    "\n",
    "# @lc code=end"
   ],
   "metadata": {},
   "execution_count": 1
  },
  {
   "cell_type": "markdown",
   "source": [
    "---\n",
    "\n",
    "*This notebook was generated using [Literate.jl](https://github.com/fredrikekre/Literate.jl).*"
   ],
   "metadata": {}
  }
 ],
 "nbformat_minor": 3,
 "metadata": {
  "language_info": {
   "file_extension": ".jl",
   "mimetype": "application/julia",
   "name": "julia",
   "version": "1.8.0"
  },
  "kernelspec": {
   "name": "julia-1.8",
   "display_name": "Julia 1.8.0",
   "language": "julia"
  }
 },
 "nbformat": 4
}
