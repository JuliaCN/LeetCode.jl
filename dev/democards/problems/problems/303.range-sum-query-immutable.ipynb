{
 "cells": [
  {
   "cell_type": "markdown",
   "source": [
    "Given an integer array `nums`, find the sum of the elements between indices\n",
    "`i` and `j` `(i ≤ j)`, inclusive.\n",
    "\n",
    "Implement the `NumArray` class:\n",
    "\n",
    "  * `NumArray(int[] nums)` Initializes the object with the integer array `nums`.\n",
    "  * `int sumRange(int i, int j)` Return the sum of the elements of the `nums` array in the range `[i, j]` inclusive (i.e., `sum(nums[i], nums[i + 1], ... , nums[j])`)\n",
    "\n",
    "\n",
    "\n",
    "**Example 1:**\n",
    "\n",
    "\n",
    "\n",
    "    **Input**\n",
    "    [\"NumArray\", \"sumRange\", \"sumRange\", \"sumRange\"]\n",
    "    [[[-2, 0, 3, -5, 2, -1]], [0, 2], [2, 5], [0, 5]]\n",
    "    **Output**\n",
    "    [null, 1, -1, -3]\n",
    "\n",
    "    **Explanation**\n",
    "    NumArray numArray = new NumArray([-2, 0, 3, -5, 2, -1]);\n",
    "    numArray.sumRange(0, 2); // return 1 ((-2) + 0 + 3)\n",
    "    numArray.sumRange(2, 5); // return -1 (3 + (-5) + 2 + (-1))\n",
    "    numArray.sumRange(0, 5); // return -3 ((-2) + 0 + 3 + (-5) + 2 + (-1))\n",
    "\n",
    "\n",
    "\n",
    "\n",
    "**Constraints:**\n",
    "\n",
    "  * `0 <= nums.length <= 104`\n",
    "  * `-105 <= nums[i] <= 105`\n",
    "  * `0 <= i <= j < nums.length`\n",
    "  * At most `104` calls will be made to `sumRange`."
   ],
   "metadata": {}
  },
  {
   "outputs": [
    {
     "output_type": "execute_result",
     "data": {
      "text/plain": "sum_range (generic function with 1 method)"
     },
     "metadata": {},
     "execution_count": 1
    }
   ],
   "cell_type": "code",
   "source": [
    "# @lc code=start\n",
    "using LeetCode\n",
    "\n",
    "struct NumArray\n",
    "    sums::Vector\n",
    "    function NumArray(nums::Vector)\n",
    "        n = length(nums)\n",
    "        sums = nums[:]\n",
    "\n",
    "        for i = 2:n\n",
    "            sums[i] = sums[i-1] + nums[i]\n",
    "        end\n",
    "        new(sums)\n",
    "    end\n",
    "end\n",
    "\n",
    "function sum_range(nums::NumArray, i::Int, j::Int)\n",
    "    i == j && return 0\n",
    "    i == 1 && return nums.sums[j]\n",
    "    return nums.sums[j] - nums.sums[i-1]\n",
    "end\n",
    "# @lc code=end"
   ],
   "metadata": {},
   "execution_count": 1
  },
  {
   "cell_type": "markdown",
   "source": [
    "---\n",
    "\n",
    "*This notebook was generated using [Literate.jl](https://github.com/fredrikekre/Literate.jl).*"
   ],
   "metadata": {}
  }
 ],
 "nbformat_minor": 3,
 "metadata": {
  "language_info": {
   "file_extension": ".jl",
   "mimetype": "application/julia",
   "name": "julia",
   "version": "1.6.1"
  },
  "kernelspec": {
   "name": "julia-1.6",
   "display_name": "Julia 1.6.1",
   "language": "julia"
  }
 },
 "nbformat": 4
}
