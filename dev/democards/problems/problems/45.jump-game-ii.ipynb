{
 "cells": [
  {
   "cell_type": "markdown",
   "source": [
    "Given an array of non-negative integers `nums`, you are initially positioned\n",
    "at the first index of the array.\n",
    "\n",
    "Each element in the array represents your maximum jump length at that\n",
    "position.\n",
    "\n",
    "Your goal is to reach the last index in the minimum number of jumps.\n",
    "\n",
    "You can assume that you can always reach the last index.\n",
    "\n",
    "\n",
    "\n",
    "**Example 1:**\n",
    "\n",
    "\n",
    "\n",
    "    Input: nums = [2,3,1,1,4]\n",
    "    Output: 2\n",
    "    Explanation: The minimum number of jumps to reach the last index is 2. Jump 1 step from index 0 to 1, then 3 steps to the last index.\n",
    "\n",
    "\n",
    "**Example 2:**\n",
    "\n",
    "\n",
    "\n",
    "    Input: nums = [2,3,0,1,4]\n",
    "    Output: 2\n",
    "\n",
    "\n",
    "\n",
    "\n",
    "**Constraints:**\n",
    "\n",
    "  * `1 <= nums.length <= 3 * 104`\n",
    "  * `0 <= nums[i] <= 105`"
   ],
   "metadata": {}
  },
  {
   "outputs": [
    {
     "output_type": "execute_result",
     "data": {
      "text/plain": "jump45 (generic function with 1 method)"
     },
     "metadata": {},
     "execution_count": 1
    }
   ],
   "cell_type": "code",
   "source": [
    "# @lc code=start\n",
    "using LeetCode\n",
    "\n",
    "function jump45(nums::Vector{Int})\n",
    "    max_pos, len, ed, step = 1, length(nums), 1, 0\n",
    "    for i in 1:(len - 1)\n",
    "        max_pos = max(max_pos, i + nums[i])\n",
    "        if i == ed\n",
    "            ed = max_pos\n",
    "            step += 1\n",
    "        end\n",
    "    end\n",
    "    return step\n",
    "end\n",
    "\n",
    "# @lc code=end"
   ],
   "metadata": {},
   "execution_count": 1
  },
  {
   "cell_type": "markdown",
   "source": [
    "---\n",
    "\n",
    "*This notebook was generated using [Literate.jl](https://github.com/fredrikekre/Literate.jl).*"
   ],
   "metadata": {}
  }
 ],
 "nbformat_minor": 3,
 "metadata": {
  "language_info": {
   "file_extension": ".jl",
   "mimetype": "application/julia",
   "name": "julia",
   "version": "1.10.4"
  },
  "kernelspec": {
   "name": "julia-1.10",
   "display_name": "Julia 1.10.4",
   "language": "julia"
  }
 },
 "nbformat": 4
}
