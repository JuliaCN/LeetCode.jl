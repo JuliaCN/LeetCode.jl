{
 "cells": [
  {
   "cell_type": "markdown",
   "source": [
    "Given a string containing just the characters `'('` and `')'`, find the length\n",
    "of the longest valid (well-formed) parentheses substring.\n",
    "\n",
    "\n",
    "\n",
    "**Example 1:**\n",
    "\n",
    "\n",
    "\n",
    "    Input: s = \"(()\"\n",
    "    Output: 2\n",
    "    Explanation: The longest valid parentheses substring is \"()\".\n",
    "\n",
    "\n",
    "**Example 2:**\n",
    "\n",
    "\n",
    "\n",
    "    Input: s = \")()())\"\n",
    "    Output: 4\n",
    "    Explanation: The longest valid parentheses substring is \"()()\".\n",
    "\n",
    "\n",
    "**Example 3:**\n",
    "\n",
    "\n",
    "\n",
    "    Input: s = \"\"\n",
    "    Output: 0\n",
    "\n",
    "\n",
    "\n",
    "\n",
    "**Constraints:**\n",
    "\n",
    "  * `0 <= s.length <= 3 * 104`\n",
    "  * `s[i]` is `'('`, or `')'`."
   ],
   "metadata": {}
  },
  {
   "outputs": [
    {
     "output_type": "execute_result",
     "data": {
      "text/plain": "longest_valid_parentheses (generic function with 1 method)"
     },
     "metadata": {},
     "execution_count": 1
    }
   ],
   "cell_type": "code",
   "source": [
    "# @lc code=start\n",
    "using LeetCode\n",
    "\n",
    "function longest_valid_parentheses(s::String)::Int\n",
    "    dp = zeros(Int, length(s))\n",
    "    n = 0\n",
    "    for i in 2:length(s)\n",
    "        if s[i] == ')'\n",
    "            if s[i - 1] == '('\n",
    "                # case 1: ()()\n",
    "                dp[i] = i == 2 ? 2 : dp[i - 2] + 2\n",
    "            else\n",
    "                # case 2: (())\n",
    "                i₍ = i - dp[i - 1] - 1\n",
    "                if i₍ >= 1 && s[i₍] == '('\n",
    "                    if dp[i - 1] > 0\n",
    "                        dp[i] = dp[i - 1] + 2 + (i₍ == 1 ? 0 : dp[i₍ - 1])\n",
    "                    end\n",
    "                end\n",
    "            end\n",
    "            n = max(n, dp[i])\n",
    "        end\n",
    "    end\n",
    "    return n\n",
    "end\n",
    "# @lc code=end"
   ],
   "metadata": {},
   "execution_count": 1
  },
  {
   "cell_type": "markdown",
   "source": [
    "---\n",
    "\n",
    "*This notebook was generated using [Literate.jl](https://github.com/fredrikekre/Literate.jl).*"
   ],
   "metadata": {}
  }
 ],
 "nbformat_minor": 3,
 "metadata": {
  "language_info": {
   "file_extension": ".jl",
   "mimetype": "application/julia",
   "name": "julia",
   "version": "1.8.0"
  },
  "kernelspec": {
   "name": "julia-1.8",
   "display_name": "Julia 1.8.0",
   "language": "julia"
  }
 },
 "nbformat": 4
}
