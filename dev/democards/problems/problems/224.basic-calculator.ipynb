{
 "cells": [
  {
   "cell_type": "markdown",
   "source": [
    "Implement a basic calculator to evaluate a simple expression string.\n",
    "\n",
    "The expression string may contain open `(` and closing parentheses `)`, the\n",
    "plus `+` or minus sign `-`, **non-negative** integers and empty spaces ` `.\n",
    "\n",
    "**Example 1:**\n",
    "\n",
    "\n",
    "\n",
    "    Input: \"1 + 1\"\n",
    "    Output: 2\n",
    "\n",
    "\n",
    "**Example 2:**\n",
    "\n",
    "\n",
    "\n",
    "    Input: \" 2-1 + 2 \"\n",
    "    Output: 3\n",
    "\n",
    "**Example 3:**\n",
    "\n",
    "\n",
    "\n",
    "    Input: \"(1+(4+5+2)-3)+(6+8)\"\n",
    "    Output: 23\n",
    "\n",
    "**Note:**\n",
    "\n",
    "  * You may assume that the given expression is always valid.\n",
    "  * **Do not** use the `eval` built-in library function."
   ],
   "metadata": {}
  },
  {
   "outputs": [
    {
     "output_type": "execute_result",
     "data": {
      "text/plain": "calculate (generic function with 1 method)"
     },
     "metadata": {},
     "execution_count": 1
    }
   ],
   "cell_type": "code",
   "source": [
    "# @lc code=start\n",
    "using LeetCode\n",
    "\n",
    "function calculate(s::String)::Int\n",
    "    res, num, sign, stk = 0, 0, 1, []\n",
    "    for c in s\n",
    "        if isdigit(c)\n",
    "            num = 10 * num + parse(Int, c)\n",
    "        elseif c in ['-', '+']\n",
    "            res += num * sign\n",
    "            num = 0\n",
    "            sign = (c == '-') ? -1 : 1\n",
    "        elseif c == '('\n",
    "            push!(stk, res)\n",
    "            push!(stk, sign)\n",
    "            res, sign = 0, 1\n",
    "        elseif c == ')'\n",
    "            res += num * sign\n",
    "            res *= pop!(stk)\n",
    "            res += pop!(stk)\n",
    "            num = 0\n",
    "        end\n",
    "    end\n",
    "\n",
    "    return res + num * sign\n",
    "end\n",
    "# @lc code=end"
   ],
   "metadata": {},
   "execution_count": 1
  },
  {
   "cell_type": "markdown",
   "source": [
    "---\n",
    "\n",
    "*This notebook was generated using [Literate.jl](https://github.com/fredrikekre/Literate.jl).*"
   ],
   "metadata": {}
  }
 ],
 "nbformat_minor": 3,
 "metadata": {
  "language_info": {
   "file_extension": ".jl",
   "mimetype": "application/julia",
   "name": "julia",
   "version": "1.7.0"
  },
  "kernelspec": {
   "name": "julia-1.7",
   "display_name": "Julia 1.7.0",
   "language": "julia"
  }
 },
 "nbformat": 4
}
