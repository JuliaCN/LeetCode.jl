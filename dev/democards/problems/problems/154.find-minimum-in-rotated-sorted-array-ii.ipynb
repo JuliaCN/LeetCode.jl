{
 "cells": [
  {
   "cell_type": "markdown",
   "source": [
    "Suppose an array sorted in ascending order is rotated at some pivot unknown to\n",
    "you beforehand.\n",
    "\n",
    "(i.e.,  `[0,1,2,4,5,6,7]` might become  `[4,5,6,7,0,1,2]`).\n",
    "\n",
    "Find the minimum element.\n",
    "\n",
    "The array may contain duplicates.\n",
    "\n",
    "**Example 1:**\n",
    "\n",
    "\n",
    "\n",
    "    Input: [1,3,5]\n",
    "    Output: 1\n",
    "\n",
    "**Example 2:**\n",
    "\n",
    "\n",
    "\n",
    "    Input: [2,2,2,0,1]\n",
    "    Output: 0\n",
    "\n",
    "**Note:**\n",
    "\n",
    "  * This is a follow up problem to [Find Minimum in Rotated Sorted Array](https://leetcode.comhttps://leetcode.com/problems/find-minimum-in-rotated-sorted-array/description/).\n",
    "  * Would allow duplicates affect the run-time complexity? How and why?"
   ],
   "metadata": {}
  },
  {
   "outputs": [
    {
     "output_type": "execute_result",
     "data": {
      "text/plain": "find_min_154 (generic function with 1 method)"
     },
     "metadata": {},
     "execution_count": 1
    }
   ],
   "cell_type": "code",
   "source": [
    "# @lc code=start\n",
    "using LeetCode\n",
    "function find_min_154(nums::Vector{Int})\n",
    "    left, right = 1, length(nums)\n",
    "    while left < right\n",
    "        mid = (left + right) ÷ 2\n",
    "        if nums[mid] > nums[right]\n",
    "            left = mid + 1\n",
    "        elseif nums[mid] < nums[right]\n",
    "            right = mid\n",
    "        else\n",
    "            right -= 1\n",
    "        end\n",
    "    end\n",
    "    nums[left]\n",
    "end\n",
    "# @lc code=end"
   ],
   "metadata": {},
   "execution_count": 1
  },
  {
   "cell_type": "markdown",
   "source": [
    "---\n",
    "\n",
    "*This notebook was generated using [Literate.jl](https://github.com/fredrikekre/Literate.jl).*"
   ],
   "metadata": {}
  }
 ],
 "nbformat_minor": 3,
 "metadata": {
  "language_info": {
   "file_extension": ".jl",
   "mimetype": "application/julia",
   "name": "julia",
   "version": "1.6.4"
  },
  "kernelspec": {
   "name": "julia-1.6",
   "display_name": "Julia 1.6.4",
   "language": "julia"
  }
 },
 "nbformat": 4
}
