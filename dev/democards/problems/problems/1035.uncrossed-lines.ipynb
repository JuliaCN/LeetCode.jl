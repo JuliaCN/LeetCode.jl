{
 "cells": [
  {
   "cell_type": "markdown",
   "source": [
    "We write the integers of `A` and `B` (in the order they are given) on two\n",
    "separate horizontal lines.\n",
    "\n",
    "Now, we may draw _connecting lines_ : a straight line connecting two numbers\n",
    "`A[i]` and `B[j]` such that:\n",
    "\n",
    "  * `A[i] == B[j]`;\n",
    "  * The line we draw does not intersect any other connecting (non-horizontal) line.\n",
    "\n",
    "Note that a connecting lines cannot intersect even at the endpoints: each\n",
    "number can only belong to one connecting line.\n",
    "\n",
    "Return the maximum number of connecting lines we can draw in this way.\n",
    "\n",
    "\n",
    "\n",
    "**Example 1:**\n",
    "\n",
    "![](https://assets.leetcode.com/uploads/2019/04/26/142.png)\n",
    "\n",
    "\n",
    "\n",
    "    Input: A = [1,4,2], B = [1,2,4]\n",
    "    Output: 2\n",
    "    Explanation: We can draw 2 uncrossed lines as in the diagram.\n",
    "    We cannot draw 3 uncrossed lines, because the line from A[1]=4 to B[2]=4 will intersect the line from A[2]=2 to B[1]=2.\n",
    "\n",
    "\n",
    "**Example 2:**\n",
    "\n",
    "\n",
    "\n",
    "    Input: A = [2,5,1,2,5], B = [10,5,2,1,5,2]\n",
    "    Output: 3\n",
    "\n",
    "\n",
    "**Example 3:**\n",
    "\n",
    "\n",
    "\n",
    "    Input: A = [1,3,7,1,7,5], B = [1,9,2,5,1]\n",
    "    Output: 2\n",
    "\n",
    "\n",
    "\n",
    "**Note:**\n",
    "\n",
    "  1. `1 <= A.length <= 500`\n",
    "  2. `1 <= B.length <= 500`\n",
    "  3. `1 <= A[i], B[i] <= 2000`"
   ],
   "metadata": {}
  },
  {
   "outputs": [
    {
     "output_type": "execute_result",
     "data": {
      "text/plain": "max_uncrossed_lines (generic function with 1 method)"
     },
     "metadata": {},
     "execution_count": 1
    }
   ],
   "cell_type": "code",
   "source": [
    "# @lc code=start\n",
    "using LeetCode\n",
    "\n",
    "max_uncrossed_lines(nums1::Vector{Int}, nums2::Vector{Int}) =\n",
    "    longest_common_subsequence(nums1, nums2)\n",
    "# @lc code=end"
   ],
   "metadata": {},
   "execution_count": 1
  },
  {
   "cell_type": "markdown",
   "source": [
    "---\n",
    "\n",
    "*This notebook was generated using [Literate.jl](https://github.com/fredrikekre/Literate.jl).*"
   ],
   "metadata": {}
  }
 ],
 "nbformat_minor": 3,
 "metadata": {
  "language_info": {
   "file_extension": ".jl",
   "mimetype": "application/julia",
   "name": "julia",
   "version": "1.7.2"
  },
  "kernelspec": {
   "name": "julia-1.7",
   "display_name": "Julia 1.7.2",
   "language": "julia"
  }
 },
 "nbformat": 4
}
