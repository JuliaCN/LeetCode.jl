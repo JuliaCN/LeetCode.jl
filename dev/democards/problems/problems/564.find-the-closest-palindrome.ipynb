{
 "cells": [
  {
   "cell_type": "markdown",
   "source": [
    "Given an integer n, find the closest integer (not including itself), which is\n",
    "a palindrome.\n",
    "\n",
    "The 'closest' is defined as absolute difference minimized between two\n",
    "integers.\n",
    "\n",
    "**Example 1:**\n",
    "\n",
    "\n",
    "\n",
    "    Input: \"123\"\n",
    "    Output: \"121\"\n",
    "\n",
    "\n",
    "**Note:**\n",
    "\n",
    "  1. The input **n** is a positive integer represented by string, whose length will not exceed 18.\n",
    "  2. If there is a tie, return the smaller one as answer."
   ],
   "metadata": {}
  },
  {
   "outputs": [
    {
     "output_type": "execute_result",
     "data": {
      "text/plain": "nearest_palindromic (generic function with 1 method)"
     },
     "metadata": {},
     "execution_count": 1
    }
   ],
   "cell_type": "code",
   "source": [
    "# @lc code=start\n",
    "using LeetCode\n",
    "\n",
    "function nearest_palindromic(num::String)::String\n",
    "    function remove!(data::Vector{T}, target::T) where {T}\n",
    "        return deleteat!(data, findall(==(target), data))\n",
    "    end\n",
    "    target_num, n = parse(Int, num), length(num)\n",
    "    half_num = parse(Int, num[1:cld(n, 2)])\n",
    "    nums = [half_num + i for i in -1:1] ## integers\n",
    "    nums = [s * reverse(s[1:(n ÷ 2)]) for s in string.(nums)] ## strings\n",
    "    nums = [parse(Int, i) for i in nums] ## integers\n",
    "    if n > 1 ## special cases\n",
    "        push!(nums, foldl((i, j) -> 10 * i + j, fill(9, n - 1))) ## 99...9\n",
    "        push!(nums, foldl((i, j) -> 10 * i + j, (1, fill(0, n - 1)..., 1))) ## 10...01\n",
    "    end\n",
    "    sort!(remove!(nums, target_num))\n",
    "    return string(nums[argmin([abs(i - target_num) for i in nums])])\n",
    "end\n",
    "# @lc code=end"
   ],
   "metadata": {},
   "execution_count": 1
  },
  {
   "cell_type": "markdown",
   "source": [
    "---\n",
    "\n",
    "*This notebook was generated using [Literate.jl](https://github.com/fredrikekre/Literate.jl).*"
   ],
   "metadata": {}
  }
 ],
 "nbformat_minor": 3,
 "metadata": {
  "language_info": {
   "file_extension": ".jl",
   "mimetype": "application/julia",
   "name": "julia",
   "version": "1.8.2"
  },
  "kernelspec": {
   "name": "julia-1.8",
   "display_name": "Julia 1.8.2",
   "language": "julia"
  }
 },
 "nbformat": 4
}
