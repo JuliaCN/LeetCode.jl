{
 "cells": [
  {
   "cell_type": "markdown",
   "source": [
    "Given a string s, find the longest palindromic subsequence's length in s. You\n",
    "may assume that the maximum length of s is 1000.\n",
    "\n",
    "**Example 1:**\n",
    "Input:\n",
    "\n",
    "\n",
    "\n",
    "    \"bbbab\"\n",
    "\n",
    "\n",
    "Output:\n",
    "\n",
    "\n",
    "\n",
    "    4\n",
    "\n",
    "\n",
    "One possible longest palindromic subsequence is \"bbbb\".\n",
    "\n",
    "\n",
    "\n",
    "**Example 2:**\n",
    "Input:\n",
    "\n",
    "\n",
    "\n",
    "    \"cbbd\"\n",
    "\n",
    "\n",
    "Output:\n",
    "\n",
    "\n",
    "\n",
    "    2\n",
    "\n",
    "\n",
    "One possible longest palindromic subsequence is \"bb\".\n",
    "\n",
    "\n",
    "\n",
    "**Constraints:**\n",
    "\n",
    "  * `1 <= s.length <= 1000`\n",
    "  * `s` consists only of lowercase English letters."
   ],
   "metadata": {}
  },
  {
   "outputs": [
    {
     "output_type": "execute_result",
     "data": {
      "text/plain": "longest_palindrome_subseq (generic function with 1 method)"
     },
     "metadata": {},
     "execution_count": 1
    }
   ],
   "cell_type": "code",
   "source": [
    "# @lc code=start\n",
    "using LeetCode\n",
    "\n",
    "function longest_palindrome_subseq(s::String)\n",
    "    len = length(s)\n",
    "    dp = fill(0, len, len)\n",
    "    for i in len:-1:1\n",
    "        dp[i, i] = 1\n",
    "        for j in i+1:len\n",
    "            dp[i, j] = (s[i] == s[j]) ? dp[i + 1, j - 1] + 2 : max(dp[i + 1, j], dp[i, j - 1])\n",
    "        end\n",
    "    end\n",
    "    return dp[1, len]\n",
    "end\n",
    "# @lc code=end"
   ],
   "metadata": {},
   "execution_count": 1
  },
  {
   "cell_type": "markdown",
   "source": [
    "---\n",
    "\n",
    "*This notebook was generated using [Literate.jl](https://github.com/fredrikekre/Literate.jl).*"
   ],
   "metadata": {}
  }
 ],
 "nbformat_minor": 3,
 "metadata": {
  "language_info": {
   "file_extension": ".jl",
   "mimetype": "application/julia",
   "name": "julia",
   "version": "1.11.6"
  },
  "kernelspec": {
   "name": "julia-1.11",
   "display_name": "Julia 1.11.6",
   "language": "julia"
  }
 },
 "nbformat": 4
}
