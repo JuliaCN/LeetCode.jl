{
 "cells": [
  {
   "cell_type": "markdown",
   "source": [
    "You are given `n` pairs of numbers. In every pair, the first number is always\n",
    "smaller than the second number.\n",
    "\n",
    "Now, we define a pair `(c, d)` can follow another pair `(a, b)` if and only if\n",
    "`b < c`. Chain of pairs can be formed in this fashion.\n",
    "\n",
    "Given a set of pairs, find the length longest chain which can be formed. You\n",
    "needn't use up all the given pairs. You can select pairs in any order.\n",
    "\n",
    "**Example 1:**\n",
    "\n",
    "\n",
    "\n",
    "    Input: [[1,2], [2,3], [3,4]]\n",
    "    Output: 2\n",
    "    Explanation: The longest chain is [1,2] -> [3,4]\n",
    "\n",
    "\n",
    "**Note:**\n",
    "\n",
    "  1. The number of given pairs will be in the range [1, 1000]."
   ],
   "metadata": {}
  },
  {
   "outputs": [
    {
     "output_type": "execute_result",
     "data": {
      "text/plain": "find_longest_chain (generic function with 1 method)"
     },
     "metadata": {},
     "execution_count": 1
    }
   ],
   "cell_type": "code",
   "source": [
    "# @lc code=start\n",
    "using LeetCode\n",
    "\n",
    "function find_longest_chain(intervals::Vector{Tuple{Int,Int}})\n",
    "    isempty(intervals) && return 0\n",
    "    sort!(intervals; by=x -> x[2])\n",
    "    lst, res = intervals[1][2], 1\n",
    "    for intv in intervals\n",
    "        intv[1] <= lst && continue\n",
    "        res += 1\n",
    "        lst = intv[2]\n",
    "    end\n",
    "    return res\n",
    "end\n",
    "# @lc code=end"
   ],
   "metadata": {},
   "execution_count": 1
  },
  {
   "cell_type": "markdown",
   "source": [
    "---\n",
    "\n",
    "*This notebook was generated using [Literate.jl](https://github.com/fredrikekre/Literate.jl).*"
   ],
   "metadata": {}
  }
 ],
 "nbformat_minor": 3,
 "metadata": {
  "language_info": {
   "file_extension": ".jl",
   "mimetype": "application/julia",
   "name": "julia",
   "version": "1.6.1"
  },
  "kernelspec": {
   "name": "julia-1.6",
   "display_name": "Julia 1.6.1",
   "language": "julia"
  }
 },
 "nbformat": 4
}
