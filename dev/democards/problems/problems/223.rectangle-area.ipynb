{
 "cells": [
  {
   "cell_type": "markdown",
   "source": [
    "Find the total area covered by two **rectilinear** rectangles in a **2D**\n",
    "plane.\n",
    "\n",
    "Each rectangle is defined by its bottom left corner and top right corner as\n",
    "shown in the figure.\n",
    "\n",
    "![Rectangle\n",
    "Area](https://assets.leetcode.com/uploads/2018/10/22/rectangle_area.png)\n",
    "\n",
    "**Example:**\n",
    "\n",
    "\n",
    "\n",
    "    Input: A = -3, B = 0, C = 3, D = 4, E = 0, F = -1, G = 9, H = 2\n",
    "    Output: 45\n",
    "\n",
    "**Note:**\n",
    "\n",
    "Assume that the total area is never beyond the maximum possible value of\n",
    "**int**."
   ],
   "metadata": {}
  },
  {
   "outputs": [
    {
     "output_type": "execute_result",
     "data": {
      "text/plain": "compute_area (generic function with 1 method)"
     },
     "metadata": {},
     "execution_count": 1
    }
   ],
   "cell_type": "code",
   "source": [
    "# @lc code=start\n",
    "using LeetCode\n",
    "\n",
    "function compute_area(coord::Vector{Int})\n",
    "    if coord[1] > coord[5]\n",
    "        coord[1:4], coord[5:8] = coord[5:8], coord[1:4]\n",
    "    end\n",
    "    if coord[8] <= coord[2] || coord[6] >= coord[4] || coord[5] >= coord[3]\n",
    "        return 0\n",
    "    end\n",
    "    return (coord[3] - coord[1]) * (coord[4] - coord[2]) +\n",
    "            (coord[7] - coord[5]) * (coord[8] - coord[6]) -\n",
    "            (min(coord[3], coord[7]) - coord[5]) * (min(coord[8], coord[4]) - max(coord[2], coord[6]))\n",
    "end\n",
    "# @lc code=end"
   ],
   "metadata": {},
   "execution_count": 1
  },
  {
   "cell_type": "markdown",
   "source": [
    "---\n",
    "\n",
    "*This notebook was generated using [Literate.jl](https://github.com/fredrikekre/Literate.jl).*"
   ],
   "metadata": {}
  }
 ],
 "nbformat_minor": 3,
 "metadata": {
  "language_info": {
   "file_extension": ".jl",
   "mimetype": "application/julia",
   "name": "julia",
   "version": "1.8.0"
  },
  "kernelspec": {
   "name": "julia-1.8",
   "display_name": "Julia 1.8.0",
   "language": "julia"
  }
 },
 "nbformat": 4
}
