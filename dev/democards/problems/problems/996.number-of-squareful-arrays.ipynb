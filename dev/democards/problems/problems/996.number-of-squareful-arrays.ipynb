{
 "cells": [
  {
   "cell_type": "markdown",
   "source": [
    "Given an array `A` of non-negative integers, the array is _squareful_ if for\n",
    "every pair of adjacent elements, their sum is a perfect square.\n",
    "\n",
    "Return the number of permutations of A that are squareful.  Two permutations\n",
    "`A1` and `A2` differ if and only if there is some index `i` such that `A1[i]\n",
    "!= A2[i]`.\n",
    "\n",
    "\n",
    "\n",
    "**Example 1:**\n",
    "\n",
    "\n",
    "\n",
    "    Input: [1,17,8]\n",
    "    Output: 2\n",
    "    Explanation:\n",
    "    [1,8,17] and [17,8,1] are the valid permutations.\n",
    "\n",
    "\n",
    "**Example 2:**\n",
    "\n",
    "\n",
    "\n",
    "    Input: [2,2,2]\n",
    "    Output: 1\n",
    "\n",
    "\n",
    "\n",
    "\n",
    "**Note:**\n",
    "\n",
    "  1. `1 <= A.length <= 12`\n",
    "  2. `0 <= A[i] <= 1e9`"
   ],
   "metadata": {}
  },
  {
   "outputs": [
    {
     "output_type": "execute_result",
     "data": {
      "text/plain": "num_squareful_perms (generic function with 1 method)"
     },
     "metadata": {},
     "execution_count": 1
    }
   ],
   "cell_type": "code",
   "source": [
    "# @lc code=start\n",
    "using LeetCode\n",
    "\n",
    "function can_adj(u, v)\n",
    "    sq = isqrt(u + v)\n",
    "    return sq * sq == u + v\n",
    "end\n",
    "\n",
    "function num_squareful_perms(nums::Vector{Int})\n",
    "    ctr = counter(nums)\n",
    "    adj_set = Set{Tuple{Int, Int}}()\n",
    "    for i1 in 1:length(nums), i2 in i1:length(nums)\n",
    "        n1, n2 = nums[i1], nums[i2]\n",
    "        if can_adj(n1, n2)\n",
    "            push!(adj_set, (n1, n2))\n",
    "            push!(adj_set, (n2, n1))\n",
    "        end\n",
    "    end\n",
    "    function gen_perms(ctr, lst = nothing)\n",
    "        sum(ctr) == 0 && return 1\n",
    "        res = 0\n",
    "        for k in keys(ctr)\n",
    "            (ctr[k] == 0 || !isnothing(lst) && (lst, k) ∉ adj_set) && continue\n",
    "            ctr[k] -= 1\n",
    "            res += gen_perms(ctr, k)\n",
    "            ctr[k] += 1\n",
    "        end\n",
    "        res\n",
    "    end\n",
    "    gen_perms(ctr)\n",
    "end\n",
    "# @lc code=end"
   ],
   "metadata": {},
   "execution_count": 1
  },
  {
   "cell_type": "markdown",
   "source": [
    "---\n",
    "\n",
    "*This notebook was generated using [Literate.jl](https://github.com/fredrikekre/Literate.jl).*"
   ],
   "metadata": {}
  }
 ],
 "nbformat_minor": 3,
 "metadata": {
  "language_info": {
   "file_extension": ".jl",
   "mimetype": "application/julia",
   "name": "julia",
   "version": "1.8.2"
  },
  "kernelspec": {
   "name": "julia-1.8",
   "display_name": "Julia 1.8.2",
   "language": "julia"
  }
 },
 "nbformat": 4
}
