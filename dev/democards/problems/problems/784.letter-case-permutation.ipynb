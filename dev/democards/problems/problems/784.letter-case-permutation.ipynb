{
 "cells": [
  {
   "cell_type": "markdown",
   "source": [
    "Given a string S, we can transform every letter individually to be lowercase\n",
    "or uppercase to create another string.\n",
    "\n",
    "Return _a list of all possible strings we could create_. You can return the\n",
    "output in **any order**.\n",
    "\n",
    "\n",
    "\n",
    "**Example 1:**\n",
    "\n",
    "\n",
    "\n",
    "    Input: S = \"a1b2\"\n",
    "    Output: [\"a1b2\",\"a1B2\",\"A1b2\",\"A1B2\"]\n",
    "\n",
    "\n",
    "**Example 2:**\n",
    "\n",
    "\n",
    "\n",
    "    Input: S = \"3z4\"\n",
    "    Output: [\"3z4\",\"3Z4\"]\n",
    "\n",
    "\n",
    "**Example 3:**\n",
    "\n",
    "\n",
    "\n",
    "    Input: S = \"12345\"\n",
    "    Output: [\"12345\"]\n",
    "\n",
    "\n",
    "**Example 4:**\n",
    "\n",
    "\n",
    "\n",
    "    Input: S = \"0\"\n",
    "    Output: [\"0\"]\n",
    "\n",
    "\n",
    "\n",
    "\n",
    "**Constraints:**\n",
    "\n",
    "  * `S` will be a string with length between `1` and `12`.\n",
    "  * `S` will consist only of letters or digits."
   ],
   "metadata": {}
  },
  {
   "outputs": [
    {
     "output_type": "execute_result",
     "data": {
      "text/plain": "letter_case_permutation (generic function with 1 method)"
     },
     "metadata": {},
     "execution_count": 1
    }
   ],
   "cell_type": "code",
   "source": [
    "# @lc code=start\n",
    "using LeetCode\n",
    "\n",
    "function letter_case_permutation(s::String)\n",
    "    ans = [\"\"]\n",
    "    for i in s\n",
    "        if isletter(i)\n",
    "            tmp = ans[:]\n",
    "            ans .*= lowercase(i)\n",
    "            tmp .*= uppercase(i)\n",
    "            append!(ans, tmp)\n",
    "        else\n",
    "            ans .*= i\n",
    "        end\n",
    "    end\n",
    "    ans\n",
    "end\n",
    "# @lc code=end"
   ],
   "metadata": {},
   "execution_count": 1
  },
  {
   "cell_type": "markdown",
   "source": [
    "---\n",
    "\n",
    "*This notebook was generated using [Literate.jl](https://github.com/fredrikekre/Literate.jl).*"
   ],
   "metadata": {}
  }
 ],
 "nbformat_minor": 3,
 "metadata": {
  "language_info": {
   "file_extension": ".jl",
   "mimetype": "application/julia",
   "name": "julia",
   "version": "1.7.3"
  },
  "kernelspec": {
   "name": "julia-1.7",
   "display_name": "Julia 1.7.3",
   "language": "julia"
  }
 },
 "nbformat": 4
}
