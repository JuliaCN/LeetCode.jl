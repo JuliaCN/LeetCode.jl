{
 "cells": [
  {
   "cell_type": "markdown",
   "source": [
    "Given an array of scores that are non-negative integers. Player 1 picks one of\n",
    "the numbers from either end of the array followed by the player 2 and then\n",
    "player 1 and so on. Each time a player picks a number, that number will not be\n",
    "available for the next player. This continues until all the scores have been\n",
    "chosen. The player with the maximum score wins.\n",
    "\n",
    "Given an array of scores, predict whether player 1 is the winner. You can\n",
    "assume each player plays to maximize his score.\n",
    "\n",
    "**Example 1:**\n",
    "\n",
    "\n",
    "\n",
    "    Input: [1, 5, 2]\n",
    "    Output: False\n",
    "    Explanation: Initially, player 1 can choose between 1 and 2.\n",
    "    If he chooses 2 (or 1), then player 2 can choose from 1 (or 2) and 5. If player 2 chooses 5, then player 1 will be left with 1 (or 2).\n",
    "    So, final score of player 1 is 1 + 2 = 3, and player 2 is 5.\n",
    "    Hence, player 1 will never be the winner and you need to return False.\n",
    "\n",
    "\n",
    "\n",
    "\n",
    "**Example 2:**\n",
    "\n",
    "\n",
    "\n",
    "    Input: [1, 5, 233, 7]\n",
    "    Output: True\n",
    "    Explanation: Player 1 first chooses 1. Then player 2 have to choose between 5 and 7. No matter which number player 2 choose, player 1 can choose 233.\n",
    "    Finally, player 1 has more score (234) than player 2 (12), so you need to return True representing player1 can win.\n",
    "\n",
    "\n",
    "\n",
    "\n",
    "**Constraints:**\n",
    "\n",
    "  * 1 <= length of the array <= 20.\n",
    "  * Any scores in the given array are non-negative integers and will not exceed 10,000,000.\n",
    "  * If the scores of both players are equal, then player 1 is still the winner."
   ],
   "metadata": {}
  },
  {
   "outputs": [
    {
     "output_type": "execute_result",
     "data": {
      "text/plain": "valid_ip_address (generic function with 1 method)"
     },
     "metadata": {},
     "execution_count": 1
    }
   ],
   "cell_type": "code",
   "source": [
    "# @lc code=start\n",
    "using LeetCode\n",
    "function is_ipv4(text::String)\n",
    "    data = split(text, '.')\n",
    "    length(data) != 4 && return false\n",
    "    any(length(x) > 1 && first(x) == '0' for x in data) && return false\n",
    "    try\n",
    "        all(0 <= parse(Int, x) <= 255 for x in data)\n",
    "    catch\n",
    "        return false\n",
    "    end\n",
    "end\n",
    "\n",
    "function is_ipv6(text::String)\n",
    "    data = split(text, ':')\n",
    "    length(data) != 8 && return false\n",
    "    any(length(x) > 4 for x in data) && return false\n",
    "    return all(all.(isxdigit, data))\n",
    "end\n",
    "\n",
    "function valid_ip_address(query_ip::String)::String\n",
    "    is_ipv4(query_ip) && return \"IPv4\"\n",
    "    is_ipv6(query_ip) && return \"IPv6\"\n",
    "    return \"Neither\"\n",
    "end\n",
    "\n",
    "# @lc code=end"
   ],
   "metadata": {},
   "execution_count": 1
  },
  {
   "cell_type": "markdown",
   "source": [
    "---\n",
    "\n",
    "*This notebook was generated using [Literate.jl](https://github.com/fredrikekre/Literate.jl).*"
   ],
   "metadata": {}
  }
 ],
 "nbformat_minor": 3,
 "metadata": {
  "language_info": {
   "file_extension": ".jl",
   "mimetype": "application/julia",
   "name": "julia",
   "version": "1.10.1"
  },
  "kernelspec": {
   "name": "julia-1.10",
   "display_name": "Julia 1.10.1",
   "language": "julia"
  }
 },
 "nbformat": 4
}
