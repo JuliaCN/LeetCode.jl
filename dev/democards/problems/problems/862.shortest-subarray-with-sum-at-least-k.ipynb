{
 "cells": [
  {
   "cell_type": "markdown",
   "source": [
    "Return the **length** of the shortest, non-empty, contiguous subarray of `A`\n",
    "with sum at least `K`.\n",
    "\n",
    "If there is no non-empty subarray with sum at least `K`, return `-1`.\n",
    "\n",
    "\n",
    "\n",
    "**Example 1:**\n",
    "\n",
    "\n",
    "\n",
    "    Input: A = [1], K = 1\n",
    "    Output: 1\n",
    "\n",
    "\n",
    "**Example 2:**\n",
    "\n",
    "\n",
    "\n",
    "    Input: A = [1,2], K = 4\n",
    "    Output: -1\n",
    "\n",
    "\n",
    "**Example 3:**\n",
    "\n",
    "\n",
    "\n",
    "    Input: A = [2,-1,2], K = 3\n",
    "    Output: 3\n",
    "\n",
    "\n",
    "\n",
    "\n",
    "**Note:**\n",
    "\n",
    "  1. `1 <= A.length <= 50000`\n",
    "  2. `-10 ^ 5 <= A[i] <= 10 ^ 5`\n",
    "  3. `1 <= K <= 10 ^ 9`"
   ],
   "metadata": {}
  },
  {
   "outputs": [
    {
     "output_type": "execute_result",
     "data": {
      "text/plain": "shortest_subarray (generic function with 1 method)"
     },
     "metadata": {},
     "execution_count": 1
    }
   ],
   "cell_type": "code",
   "source": [
    "# @lc code=start\n",
    "using LeetCode\n",
    "\n",
    "function shortest_subarray(A::Vector{Int}, K::Int)\n",
    "    dq = Deque{Int}()\n",
    "    prex = fill(0, length(A) + 1)\n",
    "    cumsum!(@view(prex[2:end]), A)\n",
    "    res = typemax(Int)\n",
    "    for i in 1:length(prex)\n",
    "        while !isempty(dq) && prex[i] - prex[first(dq)] ≥ K\n",
    "            res = min(res, i - first(dq))\n",
    "            popfirst!(dq)\n",
    "        end\n",
    "        while !isempty(dq) && prex[i] ≤ prex[last(dq)]\n",
    "            pop!(dq)\n",
    "        end\n",
    "        push!(dq, i)\n",
    "    end\n",
    "    res == typemax(Int) ? -1 : res\n",
    "end\n",
    "# @lc code=end"
   ],
   "metadata": {},
   "execution_count": 1
  },
  {
   "cell_type": "markdown",
   "source": [
    "---\n",
    "\n",
    "*This notebook was generated using [Literate.jl](https://github.com/fredrikekre/Literate.jl).*"
   ],
   "metadata": {}
  }
 ],
 "nbformat_minor": 3,
 "metadata": {
  "language_info": {
   "file_extension": ".jl",
   "mimetype": "application/julia",
   "name": "julia",
   "version": "1.5.4"
  },
  "kernelspec": {
   "name": "julia-1.5",
   "display_name": "Julia 1.5.4",
   "language": "julia"
  }
 },
 "nbformat": 4
}
