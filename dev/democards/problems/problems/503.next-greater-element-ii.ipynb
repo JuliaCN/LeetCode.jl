{
 "cells": [
  {
   "cell_type": "markdown",
   "source": [
    "Given a circular array (the next element of the last element is the first\n",
    "element of the array), print the Next Greater Number for every element. The\n",
    "Next Greater Number of a number x is the first greater number to its\n",
    "traversing-order next in the array, which means you could search circularly to\n",
    "find its next greater number. If it doesn't exist, output -1 for this number.\n",
    "\n",
    "**Example 1:**\n",
    "\n",
    "\n",
    "\n",
    "    Input: [1,2,1]\n",
    "    Output: [2,-1,2]\n",
    "    Explanation: The first 1's next greater number is 2; The number 2 can't find next greater number; The second 1's next greater number needs to search circularly, which is also 2.\n",
    "\n",
    "\n",
    "**Note:** The length of given array won't exceed 10000."
   ],
   "metadata": {}
  },
  {
   "outputs": [
    {
     "output_type": "execute_result",
     "data": {
      "text/plain": "next_greater_elements (generic function with 1 method)"
     },
     "metadata": {},
     "execution_count": 1
    }
   ],
   "cell_type": "code",
   "source": [
    "# @lc code=start\n",
    "using LeetCode\n",
    "\n",
    "function next_greater_elements(nums::Vector{Int})\n",
    "    stk = Int[]\n",
    "    res = fill(-1, size(nums))\n",
    "    for rd in 1:2, (idx, num) in enumerate(nums)\n",
    "        while !isempty(stk) && nums[stk[end]] < num\n",
    "            res[pop!(stk)] = num\n",
    "        end\n",
    "        (rd == 1) && push!(stk, idx)\n",
    "    end\n",
    "    return res\n",
    "end\n",
    "# @lc code=end"
   ],
   "metadata": {},
   "execution_count": 1
  },
  {
   "cell_type": "markdown",
   "source": [
    "---\n",
    "\n",
    "*This notebook was generated using [Literate.jl](https://github.com/fredrikekre/Literate.jl).*"
   ],
   "metadata": {}
  }
 ],
 "nbformat_minor": 3,
 "metadata": {
  "language_info": {
   "file_extension": ".jl",
   "mimetype": "application/julia",
   "name": "julia",
   "version": "1.8.2"
  },
  "kernelspec": {
   "name": "julia-1.8",
   "display_name": "Julia 1.8.2",
   "language": "julia"
  }
 },
 "nbformat": 4
}
