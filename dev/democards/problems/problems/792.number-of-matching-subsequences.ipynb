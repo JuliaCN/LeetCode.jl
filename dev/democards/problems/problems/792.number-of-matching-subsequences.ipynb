{
 "cells": [
  {
   "cell_type": "markdown",
   "source": [
    "Given string `S` and a dictionary of words `words`, find the number of\n",
    "`words[i]` that is a subsequence of `S`.\n",
    "\n",
    "\n",
    "\n",
    "    **Example :**\n",
    "    Input:\n",
    "    S = \"abcde\"\n",
    "    words = [\"a\", \"bb\", \"acd\", \"ace\"]\n",
    "    Output: 3\n",
    "    Explanation: There are three words in words that are a subsequence of S: \"a\", \"acd\", \"ace\".\n",
    "\n",
    "\n",
    "**Note:**\n",
    "\n",
    "  * All words in `words` and `S` will only consists of lowercase letters.\n",
    "  * The length of `S` will be in the range of `[1, 50000]`.\n",
    "  * The length of `words` will be in the range of `[1, 5000]`.\n",
    "  * The length of `words[i]` will be in the range of `[1, 50]`."
   ],
   "metadata": {}
  },
  {
   "outputs": [
    {
     "output_type": "execute_result",
     "data": {
      "text/plain": "num_matching_subseq (generic function with 1 method)"
     },
     "metadata": {},
     "execution_count": 1
    }
   ],
   "cell_type": "code",
   "source": [
    "# @lc code=start\n",
    "using LeetCode\n",
    "\n",
    "function num_matching_subseq(S::String, words::Vector{String})\n",
    "    map = Dict{Char, Vector{String}}((ch, []) for ch in 'a':'z')\n",
    "    for w in words\n",
    "        push!(map[w[1]], w[2:end])\n",
    "    end\n",
    "    res = 0\n",
    "    for ch in S\n",
    "        wds = String[]\n",
    "        wds, map[ch] = map[ch], wds\n",
    "        for w in wds\n",
    "            if w == \"\"\n",
    "                res += 1\n",
    "            else\n",
    "                push!(map[w[1]], w[2:end])\n",
    "            end\n",
    "        end\n",
    "    end\n",
    "    res\n",
    "end\n",
    "# @lc code=end"
   ],
   "metadata": {},
   "execution_count": 1
  },
  {
   "cell_type": "markdown",
   "source": [
    "---\n",
    "\n",
    "*This notebook was generated using [Literate.jl](https://github.com/fredrikekre/Literate.jl).*"
   ],
   "metadata": {}
  }
 ],
 "nbformat_minor": 3,
 "metadata": {
  "language_info": {
   "file_extension": ".jl",
   "mimetype": "application/julia",
   "name": "julia",
   "version": "1.6.3"
  },
  "kernelspec": {
   "name": "julia-1.6",
   "display_name": "Julia 1.6.3",
   "language": "julia"
  }
 },
 "nbformat": 4
}
