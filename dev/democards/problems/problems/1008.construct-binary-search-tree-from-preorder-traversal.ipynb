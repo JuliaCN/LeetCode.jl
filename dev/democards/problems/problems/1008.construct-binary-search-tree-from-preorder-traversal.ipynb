{
 "cells": [
  {
   "cell_type": "markdown",
   "source": [
    "Return the root node of a binary **search** tree that matches the given\n",
    "`preorder` traversal.\n",
    "\n",
    "_(Recall that a binary search tree  is a binary tree where for every node, any\n",
    "descendant of `node.left` has a value `<` `node.val`, and any descendant of\n",
    "`node.right` has a value `>` `node.val`.  Also recall that a preorder\n",
    "traversal displays the value of the `node` first, then traverses `node.left`,\n",
    "then traverses `node.right`.)_\n",
    "\n",
    "It's guaranteed that for the given test cases there is always possible to find\n",
    "a binary search tree with the given requirements.\n",
    "\n",
    "**Example 1:**\n",
    "\n",
    "\n",
    "\n",
    "    Input: [8,5,1,7,10,12]\n",
    "    Output: [8,5,10,1,7,null,12]\n",
    "    ![](https://assets.leetcode.com/uploads/2019/03/06/1266.png)\n",
    "\n",
    "\n",
    "\n",
    "\n",
    "**Constraints:**\n",
    "\n",
    "  * `1 <= preorder.length <= 100`\n",
    "  * `1 <= preorder[i] <= 10^8`\n",
    "  * The values of `preorder` are distinct."
   ],
   "metadata": {}
  },
  {
   "outputs": [
    {
     "output_type": "execute_result",
     "data": {
      "text/plain": "bst_from_preorder (generic function with 1 method)"
     },
     "metadata": {},
     "execution_count": 1
    }
   ],
   "cell_type": "code",
   "source": [
    "# @lc code=start\n",
    "using LeetCode\n",
    "\n",
    "function bst_from_preorder(preorder::AbstractVector{Int})\n",
    "    if isempty(preorder)\n",
    "        return nothing\n",
    "    end\n",
    "    i, f = 2, preorder[1]\n",
    "    root = TreeNode(f)\n",
    "    while i <= length(preorder) && preorder[i] < f\n",
    "        i += 1\n",
    "    end\n",
    "    i -= 1\n",
    "    root.left = bst_from_preorder(@view preorder[2:i])\n",
    "    root.right = bst_from_preorder(@view preorder[i+1:end])\n",
    "    root\n",
    "end\n",
    "# @lc code=end"
   ],
   "metadata": {},
   "execution_count": 1
  },
  {
   "cell_type": "markdown",
   "source": [
    "---\n",
    "\n",
    "*This notebook was generated using [Literate.jl](https://github.com/fredrikekre/Literate.jl).*"
   ],
   "metadata": {}
  }
 ],
 "nbformat_minor": 3,
 "metadata": {
  "language_info": {
   "file_extension": ".jl",
   "mimetype": "application/julia",
   "name": "julia",
   "version": "1.6.1"
  },
  "kernelspec": {
   "name": "julia-1.6",
   "display_name": "Julia 1.6.1",
   "language": "julia"
  }
 },
 "nbformat": 4
}
