{
 "cells": [
  {
   "cell_type": "markdown",
   "source": [
    "Given the `head` of a linked list, rotate the list to the right by `k` places.\n",
    "\n",
    "\n",
    "\n",
    "**Example 1:**\n",
    "\n",
    "![](https://assets.leetcode.com/uploads/2020/11/13/rotate1.jpg)\n",
    "\n",
    "\n",
    "\n",
    "    Input: head = [1,2,3,4,5], k = 2\n",
    "    Output: [4,5,1,2,3]\n",
    "\n",
    "\n",
    "**Example 2:**\n",
    "\n",
    "![](https://assets.leetcode.com/uploads/2020/11/13/roate2.jpg)\n",
    "\n",
    "\n",
    "\n",
    "    Input: head = [0,1,2], k = 4\n",
    "    Output: [2,0,1]\n",
    "\n",
    "\n",
    "\n",
    "\n",
    "**Constraints:**\n",
    "\n",
    "  * The number of nodes in the list is in the range `[0, 500]`.\n",
    "  * `-100 <= Node.val <= 100`\n",
    "  * `0 <= k <= 2 * 109`"
   ],
   "metadata": {}
  },
  {
   "outputs": [
    {
     "output_type": "execute_result",
     "data": {
      "text/plain": "rotate_right (generic function with 1 method)"
     },
     "metadata": {},
     "execution_count": 1
    }
   ],
   "cell_type": "code",
   "source": [
    "# @lc code=start\n",
    "using LeetCode\n",
    "\n",
    "function rotate_right(head::ListNode, k::Int)::ListNode\n",
    "    isnothing(head) && return head\n",
    "\n",
    "    last_element, length = head, 1\n",
    "    while !isnothing(next(last_element))\n",
    "        last_element = next(last_element)\n",
    "        length += 1\n",
    "    end\n",
    "\n",
    "    k = k % length\n",
    "    next!(last_element, head)\n",
    "\n",
    "    temp_element = head\n",
    "    for _ = 0:(length-k-2)\n",
    "        temp_element = next(temp_element)\n",
    "    end\n",
    "\n",
    "    answer = next(temp_element)\n",
    "    next!(temp_element, nothing)\n",
    "\n",
    "    return answer\n",
    "end\n",
    "# @lc code=end"
   ],
   "metadata": {},
   "execution_count": 1
  },
  {
   "cell_type": "markdown",
   "source": [
    "---\n",
    "\n",
    "*This notebook was generated using [Literate.jl](https://github.com/fredrikekre/Literate.jl).*"
   ],
   "metadata": {}
  }
 ],
 "nbformat_minor": 3,
 "metadata": {
  "language_info": {
   "file_extension": ".jl",
   "mimetype": "application/julia",
   "name": "julia",
   "version": "1.7.2"
  },
  "kernelspec": {
   "name": "julia-1.7",
   "display_name": "Julia 1.7.2",
   "language": "julia"
  }
 },
 "nbformat": 4
}
