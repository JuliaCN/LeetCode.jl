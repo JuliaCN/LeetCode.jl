{
 "cells": [
  {
   "cell_type": "markdown",
   "source": [
    "Return the lexicographically smallest subsequence of `s` that contains all the\n",
    "distinct characters of `s` exactly once.\n",
    "\n",
    "**Note:** This question is the same as 316:\n",
    "<https://leetcode.comhttps://leetcode.com/problems/remove-duplicate-letters/>\n",
    "\n",
    "\n",
    "\n",
    "**Example 1:**\n",
    "\n",
    "\n",
    "\n",
    "    Input: s = \"bcabc\"\n",
    "    Output: \"abc\"\n",
    "\n",
    "\n",
    "**Example 2:**\n",
    "\n",
    "\n",
    "\n",
    "    Input: s = \"cbacdcbc\"\n",
    "    Output: \"acdb\"\n",
    "\n",
    "\n",
    "\n",
    "\n",
    "**Constraints:**\n",
    "\n",
    "  * `1 <= s.length <= 1000`\n",
    "  * `s` consists of lowercase English letters."
   ],
   "metadata": {}
  },
  {
   "outputs": [
    {
     "output_type": "execute_result",
     "data": {
      "text/plain": "smallest_subsequence (generic function with 1 method)"
     },
     "metadata": {},
     "execution_count": 1
    }
   ],
   "cell_type": "code",
   "source": [
    "# @lc code=start\n",
    "using LeetCode\n",
    "\n",
    "function smallest_subsequence(s::String)\n",
    "    sascii = codeunits(s)[:] .- Int8('a' - 1)\n",
    "    scnt = fill(0, 26)\n",
    "    cur_cnt = fill(false, 26)\n",
    "    cur = UInt8[]\n",
    "    for c in sascii\n",
    "        scnt[c] += 1\n",
    "    end\n",
    "    for c in sascii\n",
    "        scnt[c] -= 1\n",
    "        cur_cnt[c] && continue\n",
    "        while !isempty(cur) && cur[end] > c && scnt[cur[end]] > 0\n",
    "            cur_cnt[pop!(cur)] = false\n",
    "        end\n",
    "        push!(cur, c)\n",
    "        cur_cnt[c] = true\n",
    "    end\n",
    "    return join(cur .+ ('a' - 1))\n",
    "end\n",
    "# @lc code=end"
   ],
   "metadata": {},
   "execution_count": 1
  },
  {
   "cell_type": "markdown",
   "source": [
    "---\n",
    "\n",
    "*This notebook was generated using [Literate.jl](https://github.com/fredrikekre/Literate.jl).*"
   ],
   "metadata": {}
  }
 ],
 "nbformat_minor": 3,
 "metadata": {
  "language_info": {
   "file_extension": ".jl",
   "mimetype": "application/julia",
   "name": "julia",
   "version": "1.10.4"
  },
  "kernelspec": {
   "name": "julia-1.10",
   "display_name": "Julia 1.10.4",
   "language": "julia"
  }
 },
 "nbformat": 4
}
