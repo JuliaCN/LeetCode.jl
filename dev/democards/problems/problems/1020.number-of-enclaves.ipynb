{
 "cells": [
  {
   "cell_type": "markdown",
   "source": [
    "Given a 2D array `A`, each cell is 0 (representing sea) or 1 (representing\n",
    "land)\n",
    "\n",
    "A move consists of walking from one land square 4-directionally to another\n",
    "land square, or off the boundary of the grid.\n",
    "\n",
    "Return the number of land squares in the grid for which we **cannot** walk off\n",
    "the boundary of the grid in any number of moves.\n",
    "\n",
    "\n",
    "\n",
    "**Example 1:**\n",
    "\n",
    "\n",
    "\n",
    "    Input: [[0,0,0,0],[1,0,1,0],[0,1,1,0],[0,0,0,0]]\n",
    "    Output: 3\n",
    "    Explanation:\n",
    "    There are three 1s that are enclosed by 0s, and one 1 that isn't enclosed because its on the boundary.\n",
    "\n",
    "**Example 2:**\n",
    "\n",
    "\n",
    "\n",
    "    Input: [[0,1,1,0],[0,0,1,0],[0,0,1,0],[0,0,0,0]]\n",
    "    Output: 0\n",
    "    Explanation:\n",
    "    All 1s are either on the boundary or can reach the boundary.\n",
    "\n",
    "\n",
    "\n",
    "\n",
    "**Note:**\n",
    "\n",
    "  1. `1 <= A.length <= 500`\n",
    "  2. `1 <= A[i].length <= 500`\n",
    "  3. `0 <= A[i][j] <= 1`\n",
    "  4. All rows have the same size."
   ],
   "metadata": {}
  },
  {
   "outputs": [
    {
     "output_type": "execute_result",
     "data": {
      "text/plain": "num_of_enclaves_bfs (generic function with 1 method)"
     },
     "metadata": {},
     "execution_count": 1
    }
   ],
   "cell_type": "code",
   "source": [
    "# @lc code=start\n",
    "using LeetCode\n",
    "\n",
    "# BFS algorithm\n",
    "function num_of_enclaves_bfs(grid::Vector{Vector{Int}})::Int\n",
    "    m, n, queue = length(grid), length(grid[1]), Tuple{Int,Int}[]\n",
    "    (m <= 2 || n <= 2) && return 0\n",
    "    for i in 1:m ## left and right border\n",
    "        grid[i][1] == 1 && push!(queue, (i, 1))\n",
    "        grid[i][n] == 1 && push!(queue, (i, n))\n",
    "    end\n",
    "    for i in 2:(n - 1)\n",
    "        grid[1][i] == 1 && push!(queue, (1, i))\n",
    "        grid[m][i] == 1 && push!(queue, (m, i))\n",
    "    end\n",
    "    walkoff = copy(queue)\n",
    "    while length(queue) != 0\n",
    "        i, j = popfirst!(queue)\n",
    "        for (a, b) in [(i - 1, j), (i + 1, j), (i, j - 1), (i, j + 1)]\n",
    "            if a >= 1 &&\n",
    "                b >= 1 &&\n",
    "                a <= m &&\n",
    "                b <= n &&\n",
    "                grid[a][b] != 0 &&\n",
    "                !((a, b) in walkoff)\n",
    "                push!(walkoff, (a, b))\n",
    "                push!(queue, (a, b))\n",
    "            end\n",
    "        end\n",
    "    end\n",
    "    return sum(sum(line) for line in grid) - length(walkoff)\n",
    "end\n",
    "# @lc code=end"
   ],
   "metadata": {},
   "execution_count": 1
  },
  {
   "cell_type": "markdown",
   "source": [
    "---\n",
    "\n",
    "*This notebook was generated using [Literate.jl](https://github.com/fredrikekre/Literate.jl).*"
   ],
   "metadata": {}
  }
 ],
 "nbformat_minor": 3,
 "metadata": {
  "language_info": {
   "file_extension": ".jl",
   "mimetype": "application/julia",
   "name": "julia",
   "version": "1.8.0"
  },
  "kernelspec": {
   "name": "julia-1.8",
   "display_name": "Julia 1.8.0",
   "language": "julia"
  }
 },
 "nbformat": 4
}
