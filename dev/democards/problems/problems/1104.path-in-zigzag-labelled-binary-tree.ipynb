{
 "cells": [
  {
   "cell_type": "markdown",
   "source": [
    "In an infinite binary tree where every node has two children, the nodes are\n",
    "labelled in row order.\n",
    "\n",
    "In the odd numbered rows (ie., the first, third, fifth,...), the labelling is\n",
    "left to right, while in the even numbered rows (second, fourth, sixth,...),\n",
    "the labelling is right to left.\n",
    "\n",
    "![](https://assets.leetcode.com/uploads/2019/06/24/tree.png)\n",
    "\n",
    "Given the `label` of a node in this tree, return the labels in the path from\n",
    "the root of the tree to the node with that `label`.\n",
    "\n",
    "\n",
    "\n",
    "**Example 1:**\n",
    "\n",
    "\n",
    "\n",
    "    Input: label = 14\n",
    "    Output: [1,3,4,14]\n",
    "\n",
    "\n",
    "**Example 2:**\n",
    "\n",
    "\n",
    "\n",
    "    Input: label = 26\n",
    "    Output: [1,2,6,10,26]\n",
    "\n",
    "\n",
    "\n",
    "\n",
    "**Constraints:**\n",
    "\n",
    "  * `1 <= label <= 10^6`"
   ],
   "metadata": {}
  },
  {
   "outputs": [
    {
     "output_type": "execute_result",
     "data": {
      "text/plain": "path_in_zig_zag_tree (generic function with 1 method)"
     },
     "metadata": {},
     "execution_count": 1
    }
   ],
   "cell_type": "code",
   "source": [
    "# @lc code=start\n",
    "using LeetCode\n",
    "\n",
    "function path_in_zig_zag_tree(n::Int)\n",
    "    res = Int[]\n",
    "    layer = floor(Int, log2(n)) + 1\n",
    "    while layer != 0\n",
    "        push!(res, n)\n",
    "        b = (1 << layer) + (1 << (layer - 1)) - 1\n",
    "        iseven(layer) && (n = b - n)\n",
    "        n >>= 1\n",
    "        layer -= 1\n",
    "        iseven(layer) && (n = (b >> 1) - n)\n",
    "    end\n",
    "    reverse!(res)\n",
    "    return res\n",
    "end\n",
    "# @lc code=end"
   ],
   "metadata": {},
   "execution_count": 1
  },
  {
   "cell_type": "markdown",
   "source": [
    "---\n",
    "\n",
    "*This notebook was generated using [Literate.jl](https://github.com/fredrikekre/Literate.jl).*"
   ],
   "metadata": {}
  }
 ],
 "nbformat_minor": 3,
 "metadata": {
  "language_info": {
   "file_extension": ".jl",
   "mimetype": "application/julia",
   "name": "julia",
   "version": "1.7.2"
  },
  "kernelspec": {
   "name": "julia-1.7",
   "display_name": "Julia 1.7.2",
   "language": "julia"
  }
 },
 "nbformat": 4
}
