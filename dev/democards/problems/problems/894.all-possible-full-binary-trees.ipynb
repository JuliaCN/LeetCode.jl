{
 "cells": [
  {
   "cell_type": "markdown",
   "source": [
    "A _full binary tree_  is a binary tree where each node has exactly 0 or 2\n",
    "children.\n",
    "\n",
    "Return a list of all possible full binary trees with `N` nodes.  Each element\n",
    "of the answer is the root node of one possible tree.\n",
    "\n",
    "Each `node` of each tree in the answer **must** have `node.val = 0`.\n",
    "\n",
    "You may return the final list of trees in any order.\n",
    "\n",
    "\n",
    "\n",
    "**Example 1:**\n",
    "\n",
    "\n",
    "\n",
    "    Input: 7\n",
    "    Output: [[0,0,0,null,null,0,0,null,null,0,0],[0,0,0,null,null,0,0,0,0],[0,0,0,0,0,0,0],[0,0,0,0,0,null,null,null,null,0,0],[0,0,0,0,0,null,null,0,0]]\n",
    "    Explanation:\n",
    "    ![](https://s3-lc-upload.s3.amazonaws.com/uploads/2018/08/22/fivetrees.png)\n",
    "\n",
    "\n",
    "\n",
    "\n",
    "**Note:**\n",
    "\n",
    "  * `1 <= N <= 20`"
   ],
   "metadata": {}
  },
  {
   "outputs": [
    {
     "output_type": "execute_result",
     "data": {
      "text/plain": "all_possible_fbt (generic function with 1 method)"
     },
     "metadata": {},
     "execution_count": 1
    }
   ],
   "cell_type": "code",
   "source": [
    "# @lc code=start\n",
    "using LeetCode\n",
    "\n",
    "function all_possible_fbt(N::Int)\n",
    "    cache_res = [TreeNode{Int}[] for i in 1:N]\n",
    "    cache_res[1] = [TreeNode(0)]\n",
    "    if N % 2 == 0\n",
    "        return TreeNode{Int}[]\n",
    "    end\n",
    "    for n in 3:2:N\n",
    "        for i in 1:2:n-1\n",
    "            lres = cache_res[i]\n",
    "            rres = cache_res[n-i-1]\n",
    "            append!(cache_res[n], TreeNode(0, lr, rr) for lr in lres for rr in rres)\n",
    "        end\n",
    "    end\n",
    "    return cache_res[N]\n",
    "end\n",
    "# @lc code=end"
   ],
   "metadata": {},
   "execution_count": 1
  },
  {
   "cell_type": "markdown",
   "source": [
    "---\n",
    "\n",
    "*This notebook was generated using [Literate.jl](https://github.com/fredrikekre/Literate.jl).*"
   ],
   "metadata": {}
  }
 ],
 "nbformat_minor": 3,
 "metadata": {
  "language_info": {
   "file_extension": ".jl",
   "mimetype": "application/julia",
   "name": "julia",
   "version": "1.7.0"
  },
  "kernelspec": {
   "name": "julia-1.7",
   "display_name": "Julia 1.7.0",
   "language": "julia"
  }
 },
 "nbformat": 4
}
