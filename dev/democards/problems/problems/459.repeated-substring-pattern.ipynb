{
 "cells": [
  {
   "cell_type": "markdown",
   "source": [
    "Given a non-empty string check if it can be constructed by taking a substring\n",
    "of it and appending multiple copies of the substring together. You may assume\n",
    "the given string consists of lowercase English letters only and its length\n",
    "will not exceed 10000.\n",
    "\n",
    "\n",
    "\n",
    "**Example 1:**\n",
    "\n",
    "\n",
    "\n",
    "    Input: \"abab\"\n",
    "    Output: True\n",
    "    Explanation: It's the substring \"ab\" twice.\n",
    "\n",
    "\n",
    "**Example 2:**\n",
    "\n",
    "\n",
    "\n",
    "    Input: \"aba\"\n",
    "    Output: False\n",
    "\n",
    "\n",
    "**Example 3:**\n",
    "\n",
    "\n",
    "\n",
    "    Input: \"abcabcabcabc\"\n",
    "    Output: True\n",
    "    Explanation: It's the substring \"abc\" four times. (And the substring \"abcabc\" twice.)"
   ],
   "metadata": {}
  },
  {
   "outputs": [
    {
     "output_type": "execute_result",
     "data": {
      "text/plain": "repeated_substring_pattern (generic function with 1 method)"
     },
     "metadata": {},
     "execution_count": 1
    }
   ],
   "cell_type": "code",
   "source": [
    "# @lc code=start\n",
    "using LeetCode\n",
    "\n",
    "function repeated_substring_pattern(s::String)\n",
    "    findnext(s, s^2, 2) != length(s) + 1 : 2 * length(s)\n",
    "end\n",
    "# @lc code=end"
   ],
   "metadata": {},
   "execution_count": 1
  },
  {
   "cell_type": "markdown",
   "source": [
    "---\n",
    "\n",
    "*This notebook was generated using [Literate.jl](https://github.com/fredrikekre/Literate.jl).*"
   ],
   "metadata": {}
  }
 ],
 "nbformat_minor": 3,
 "metadata": {
  "language_info": {
   "file_extension": ".jl",
   "mimetype": "application/julia",
   "name": "julia",
   "version": "1.8.2"
  },
  "kernelspec": {
   "name": "julia-1.8",
   "display_name": "Julia 1.8.2",
   "language": "julia"
  }
 },
 "nbformat": 4
}
