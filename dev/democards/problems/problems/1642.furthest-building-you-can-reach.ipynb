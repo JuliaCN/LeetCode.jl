{
 "cells": [
  {
   "cell_type": "markdown",
   "source": [
    "You are given an integer array `heights` representing the heights of\n",
    "buildings, some `bricks`, and some `ladders`.\n",
    "\n",
    "You start your journey from building `0` and move to the next building by\n",
    "possibly using bricks or ladders.\n",
    "\n",
    "While moving from building `i` to building `i+1` ( **0-indexed** ),\n",
    "\n",
    "  * If the current building's height is **greater than or equal** to the next building's height, you do **not** need a ladder or bricks.\n",
    "  * If the current building's height is **less than** the next building's height, you can either use **one ladder** or `(h[i+1] - h[i])` **bricks**.\n",
    "\n",
    "_Return the furthest building index (0-indexed) you can reach if you use the\n",
    "given ladders and bricks optimally._\n",
    "\n",
    "\n",
    "\n",
    "**Example 1:**\n",
    "\n",
    "![](https://assets.leetcode.com/uploads/2020/10/27/q4.gif)\n",
    "\n",
    "\n",
    "\n",
    "    Input: heights = [4,2,7,6,9,14,12], bricks = 5, ladders = 1\n",
    "    Output: 4\n",
    "    Explanation: Starting at building 0, you can follow these steps:\n",
    "    - Go to building 1 without using ladders nor bricks since 4 >= 2.\n",
    "    - Go to building 2 using 5 bricks. You must use either bricks or ladders because 2 < 7.\n",
    "    - Go to building 3 without using ladders nor bricks since 7 >= 6.\n",
    "    - Go to building 4 using your only ladder. You must use either bricks or ladders because 6 < 9.\n",
    "    It is impossible to go beyond building 4 because you do not have any more bricks or ladders.\n",
    "\n",
    "\n",
    "**Example 2:**\n",
    "\n",
    "\n",
    "\n",
    "    Input: heights = [4,12,2,7,3,18,20,3,19], bricks = 10, ladders = 2\n",
    "    Output: 7\n",
    "\n",
    "\n",
    "**Example 3:**\n",
    "\n",
    "\n",
    "\n",
    "    Input: heights = [14,3,19,3], bricks = 17, ladders = 0\n",
    "    Output: 3\n",
    "\n",
    "\n",
    "\n",
    "\n",
    "**Constraints:**\n",
    "\n",
    "  * `1 <= heights.length <= 105`\n",
    "  * `1 <= heights[i] <= 106`\n",
    "  * `0 <= bricks <= 109`\n",
    "  * `0 <= ladders <= heights.length`"
   ],
   "metadata": {}
  },
  {
   "outputs": [
    {
     "output_type": "execute_result",
     "data": {
      "text/plain": "furthest_building (generic function with 1 method)"
     },
     "metadata": {},
     "execution_count": 1
    }
   ],
   "cell_type": "code",
   "source": [
    "# @lc code=start\n",
    "using LeetCode\n",
    "using DataStructures\n",
    "\n",
    "function furthest_building(heights::Vector{Int}, bricks::Int, ladders::Int)\n",
    "    q = Int[]\n",
    "    for i in 1:(length(heights) - 1)\n",
    "        diff = heights[i + 1] - heights[i]\n",
    "        if diff > 0\n",
    "            if diff > bricks && ladders == 0\n",
    "                return i - 1\n",
    "            end\n",
    "            if bricks >= diff\n",
    "                heappush!(q, diff)\n",
    "                bricks -= diff\n",
    "            else\n",
    "                if !isempty(q) && q[1] > diff\n",
    "                    bricks += heappop!(q) - diff\n",
    "                    heappush!(q, diff)\n",
    "                end\n",
    "                ladders -= 1\n",
    "            end\n",
    "        end\n",
    "    end\n",
    "    return length(heights) - 1\n",
    "end\n",
    "# @lc code=end"
   ],
   "metadata": {},
   "execution_count": 1
  },
  {
   "cell_type": "markdown",
   "source": [
    "---\n",
    "\n",
    "*This notebook was generated using [Literate.jl](https://github.com/fredrikekre/Literate.jl).*"
   ],
   "metadata": {}
  }
 ],
 "nbformat_minor": 3,
 "metadata": {
  "language_info": {
   "file_extension": ".jl",
   "mimetype": "application/julia",
   "name": "julia",
   "version": "1.5.3"
  },
  "kernelspec": {
   "name": "julia-1.5",
   "display_name": "Julia 1.5.3",
   "language": "julia"
  }
 },
 "nbformat": 4
}
