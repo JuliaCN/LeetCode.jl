{
 "cells": [
  {
   "cell_type": "markdown",
   "source": [
    "Validate if a given string can be interpreted as a decimal number.\n",
    "\n",
    "Some examples:\n",
    "`\"0\"` => `true`\n",
    "`\" 0.1 \"` => `true`\n",
    "`\"abc\"` => `false`\n",
    "`\"1 a\"` => `false`\n",
    "`\"2e10\"` => `true`\n",
    "`\" -90e3   \"` => `true`\n",
    "`\" 1e\"` => `false`\n",
    "`\"e3\"` => `false`\n",
    "`\" 6e-1\"` => `true`\n",
    "`\" 99e2.5 \"` => `false`\n",
    "`\"53.5e93\"` => `true`\n",
    "`\" --6 \"` => `false`\n",
    "`\"-+3\"` => `false`\n",
    "`\"95a54e53\"` => `false`\n",
    "\n",
    "**Note:** It is intended for the problem statement to be ambiguous. It would\n",
    "be best if you gathered all requirements up front before implementing one.\n",
    "However, here is a list of characters that can be in a valid decimal number:\n",
    "\n",
    "  * Numbers 0-9\n",
    "  * Exponent - \"e\"\n",
    "  * Positive/negative sign - \"+\"/\"-\"\n",
    "  * Decimal point - \".\"\n",
    "\n",
    "Of course, the context of these characters also matters in the input.\n",
    "\n",
    "\n",
    "\n",
    "**Example 1:**\n",
    "\n",
    "\n",
    "\n",
    "    Input: s = \"0\"\n",
    "    Output: true\n",
    "\n",
    "\n",
    "**Example 2:**\n",
    "\n",
    "\n",
    "\n",
    "    Input: s = \"3\"\n",
    "    Output: true\n",
    "\n",
    "\n",
    "\n",
    "\n",
    "**Constraints:**\n",
    "\n",
    "  * `1 <= s.length <= 20`\n",
    "  * `s` consists of only English letters, digits, space `' '`, plus `'+'`, minus `'-'`, or dot `'.'`."
   ],
   "metadata": {}
  },
  {
   "outputs": [
    {
     "output_type": "execute_result",
     "data": {
      "text/plain": "is_number_65 (generic function with 1 method)"
     },
     "metadata": {},
     "execution_count": 1
    }
   ],
   "cell_type": "code",
   "source": [
    "# @lc code=start\n",
    "using LeetCode\n",
    "\n",
    "# Automation\n",
    "function is_number_65(s::String)::Bool\n",
    "    # initialize state\n",
    "    state = \"start\"\n",
    "    # recognize input state\n",
    "    function switch(c::Char)::Int\n",
    "        isdigit(c) && return 1\n",
    "        c == '.' && return 2\n",
    "        c in \"eE\" && return 3\n",
    "        c in \"+-\" && return 4\n",
    "        return 5\n",
    "    end\n",
    "    state_shift = Dict{String,Vector{String}}(\n",
    "        \"start\" => [\"num\", \"dot_part\", \"error\", \"sign\", \"error\"],\n",
    "        \"num\" => [\"num\", \"dot_num\", \"e_part\", \"error\", \"error\"],\n",
    "        \"dot_num\" => [\"dot_num\", \"error\", \"e_part\", \"error\", \"error\"],\n",
    "        \"e_num\" => [\"e_num\", \"error\", \"error\", \"error\", \"error\"],\n",
    "        \"sign\" => [\"num\", \"dot_part\", \"error\", \"error\", \"error\"],\n",
    "        \"dot_part\" => [\"dot_num\", \"error\", \"error\", \"error\", \"error\"],\n",
    "        \"e_part\" => [\"e_num\", \"error\", \"error\", \"e_sign\", \"error\"],\n",
    "        \"e_sign\" => [\"e_num\", \"error\", \"error\", \"error\", \"error\"],\n",
    "    )\n",
    "    for c in s\n",
    "        state = state_shift[state][switch(c)]\n",
    "        state == \"error\" && return false\n",
    "    end\n",
    "    return state in [\"num\", \"dot_num\", \"e_num\"]\n",
    "end\n",
    "# @lc code=end"
   ],
   "metadata": {},
   "execution_count": 1
  },
  {
   "cell_type": "markdown",
   "source": [
    "---\n",
    "\n",
    "*This notebook was generated using [Literate.jl](https://github.com/fredrikekre/Literate.jl).*"
   ],
   "metadata": {}
  }
 ],
 "nbformat_minor": 3,
 "metadata": {
  "language_info": {
   "file_extension": ".jl",
   "mimetype": "application/julia",
   "name": "julia",
   "version": "1.7.2"
  },
  "kernelspec": {
   "name": "julia-1.7",
   "display_name": "Julia 1.7.2",
   "language": "julia"
  }
 },
 "nbformat": 4
}
