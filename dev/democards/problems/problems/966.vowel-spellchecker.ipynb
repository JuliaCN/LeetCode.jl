{
 "cells": [
  {
   "cell_type": "markdown",
   "source": [
    "Given a `wordlist`, we want to implement a spellchecker that converts a query\n",
    "word into a correct word.\n",
    "\n",
    "For a given `query` word, the spell checker handles two categories of spelling\n",
    "mistakes:\n",
    "\n",
    "  * Capitalization: If the query matches a word in the wordlist ( **case-insensitive** ), then the query word is returned with the same case as the case in the wordlist.\n",
    "    * Example: `wordlist = [\"yellow\"]`, `query = \"YellOw\"`: `correct = \"yellow\"`\n",
    "    * Example: `wordlist = [\"Yellow\"]`, `query = \"yellow\"`: `correct = \"Yellow\"`\n",
    "    * Example: `wordlist = [\"yellow\"]`, `query = \"yellow\"`: `correct = \"yellow\"`\n",
    "  * Vowel Errors: If after replacing the vowels ('a', 'e', 'i', 'o', 'u') of the query word with any vowel individually, it matches a word in the wordlist ( **case-insensitive** ), then the query word is returned with the same case as the match in the wordlist.\n",
    "    * Example: `wordlist = [\"YellOw\"]`, `query = \"yollow\"`: `correct = \"YellOw\"`\n",
    "    * Example: `wordlist = [\"YellOw\"]`, `query = \"yeellow\"`: `correct = \"\"` (no match)\n",
    "    * Example: `wordlist = [\"YellOw\"]`, `query = \"yllw\"`: `correct = \"\"` (no match)\n",
    "\n",
    "In addition, the spell checker operates under the following precedence rules:\n",
    "\n",
    "  * When the query exactly matches a word in the wordlist ( **case-sensitive** ), you should return the same word back.\n",
    "  * When the query matches a word up to capitlization, you should return the first such match in the wordlist.\n",
    "  * When the query matches a word up to vowel errors, you should return the first such match in the wordlist.\n",
    "  * If the query has no matches in the wordlist, you should return the empty string.\n",
    "\n",
    "Given some `queries`, return a list of words `answer`, where `answer[i]` is\n",
    "the correct word for `query = queries[i]`.\n",
    "\n",
    "\n",
    "\n",
    "**Example 1:**\n",
    "\n",
    "\n",
    "\n",
    "    Input: wordlist = [\"KiTe\",\"kite\",\"hare\",\"Hare\"], queries = [\"kite\",\"Kite\",\"KiTe\",\"Hare\",\"HARE\",\"Hear\",\"hear\",\"keti\",\"keet\",\"keto\"]\n",
    "    Output: [\"kite\",\"KiTe\",\"KiTe\",\"Hare\",\"hare\",\"\",\"\",\"KiTe\",\"\",\"KiTe\"]\n",
    "\n",
    "\n",
    "\n",
    "**Note:**\n",
    "\n",
    "  * `1 <= wordlist.length <= 5000`\n",
    "  * `1 <= queries.length <= 5000`\n",
    "  * `1 <= wordlist[i].length <= 7`\n",
    "  * `1 <= queries[i].length <= 7`\n",
    "  * All strings in `wordlist` and `queries` consist only of **english**  letters."
   ],
   "metadata": {}
  },
  {
   "outputs": [
    {
     "output_type": "execute_result",
     "data": {
      "text/plain": "spellchecker (generic function with 1 method)"
     },
     "metadata": {},
     "execution_count": 1
    }
   ],
   "cell_type": "code",
   "source": [
    "# @lc code=start\n",
    "using LeetCode\n",
    "\n",
    "function spellchecker(wordlist::Vector{String}, queries::Vector{String})\n",
    "    wls = Set(wordlist)\n",
    "    d1 = DefaultDict{String,Vector{Int}}(Vector{Int})\n",
    "    d2 = deepcopy(d1)\n",
    "    for (idx, word) in enumerate(wordlist)\n",
    "        lc = lowercase(word)\n",
    "        push!(d1[lc], idx)\n",
    "        push!(d2[replace(lc, r\"[eiou]\" => \"a\")], idx)\n",
    "    end\n",
    "    len = length(wordlist)\n",
    "    res = fill(\"\", length(queries))\n",
    "    for (idx, q) in enumerate(queries)\n",
    "        lc = lowercase(q)\n",
    "        lcy = replace(lc, r\"[eiou]\" => \"a\")\n",
    "        if q ∈ wls\n",
    "            res[idx] = q\n",
    "            continue\n",
    "        elseif get(d1, lc, nothing) !== nothing\n",
    "            res[idx] = wordlist[d1[lc][1]]\n",
    "        elseif get(d2, lcy, nothing) !== nothing\n",
    "            res[idx] = wordlist[d2[lcy][1]]\n",
    "        end\n",
    "    end\n",
    "    return res\n",
    "end\n",
    "# @lc code=end"
   ],
   "metadata": {},
   "execution_count": 1
  },
  {
   "cell_type": "markdown",
   "source": [
    "---\n",
    "\n",
    "*This notebook was generated using [Literate.jl](https://github.com/fredrikekre/Literate.jl).*"
   ],
   "metadata": {}
  }
 ],
 "nbformat_minor": 3,
 "metadata": {
  "language_info": {
   "file_extension": ".jl",
   "mimetype": "application/julia",
   "name": "julia",
   "version": "1.6.2"
  },
  "kernelspec": {
   "name": "julia-1.6",
   "display_name": "Julia 1.6.2",
   "language": "julia"
  }
 },
 "nbformat": 4
}
