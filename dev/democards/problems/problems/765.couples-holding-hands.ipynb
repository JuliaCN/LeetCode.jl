{
 "cells": [
  {
   "cell_type": "markdown",
   "source": [
    "N couples sit in 2N seats arranged in a row and want to hold hands. We want to\n",
    "know the minimum number of swaps so that every couple is sitting side by side.\n",
    "A _swap_ consists of choosing **any** two people, then they stand up and\n",
    "switch seats.\n",
    "\n",
    "The people and seats are represented by an integer from `0` to `2N-1`, the\n",
    "couples are numbered in order, the first couple being `(0, 1)`, the second\n",
    "couple being `(2, 3)`, and so on with the last couple being `(2N-2, 2N-1)`.\n",
    "\n",
    "The couples' initial seating is given by `row[i]` being the value of the\n",
    "person who is initially sitting in the i-th seat.\n",
    "\n",
    "**Example 1:**\n",
    "\n",
    "\n",
    "\n",
    "    Input: row = [0, 2, 1, 3]\n",
    "    Output: 1\n",
    "    Explanation: We only need to swap the second (row[1]) and third (row[2]) person.\n",
    "\n",
    "\n",
    "**Example 2:**\n",
    "\n",
    "\n",
    "\n",
    "    Input: row = [3, 2, 0, 1]\n",
    "    Output: 0\n",
    "    Explanation: All couples are already seated side by side.\n",
    "\n",
    "\n",
    "**Note:**\n",
    "\n",
    "  1. `len(row)` is even and in the range of `[4, 60]`.\n",
    "  2. `row` is guaranteed to be a permutation of `0...len(row)-1`."
   ],
   "metadata": {}
  },
  {
   "outputs": [
    {
     "output_type": "execute_result",
     "data": {
      "text/plain": "min_swaps_couples (generic function with 1 method)"
     },
     "metadata": {},
     "execution_count": 1
    }
   ],
   "cell_type": "code",
   "source": [
    "# @lc code=start\n",
    "using LeetCode\n",
    "\n",
    "function min_swaps_couples(row::Vector{Int})\n",
    "    len, ps, res = length(row), length(row) ÷ 2, 0\n",
    "    grp = [Set{Int}() for i in 1:ps]\n",
    "    for i in 1:2:len\n",
    "        l, r = row[i] ÷ 2 + 1, row[i + 1] ÷ 2 + 1\n",
    "        (l != r) && (push!(grp[l], r); push!(grp[r], l))\n",
    "    end\n",
    "    visited = fill(false, ps)\n",
    "    q = Queue{Int}()\n",
    "    for i in 1:ps\n",
    "        visited[i] && continue\n",
    "        enqueue!(q, i)\n",
    "        visited[i] = true\n",
    "        cnt = 0\n",
    "        while !isempty(q)\n",
    "            frt = dequeue!(q)\n",
    "            cnt += 1\n",
    "            for neighbor in grp[frt]\n",
    "                visited[neighbor] && continue\n",
    "                enqueue!(q, neighbor)\n",
    "                visited[neighbor] = true\n",
    "            end\n",
    "        end\n",
    "        res += cnt - 1\n",
    "    end\n",
    "    res\n",
    "end\n",
    "# @lc code=end"
   ],
   "metadata": {},
   "execution_count": 1
  },
  {
   "cell_type": "markdown",
   "source": [
    "---\n",
    "\n",
    "*This notebook was generated using [Literate.jl](https://github.com/fredrikekre/Literate.jl).*"
   ],
   "metadata": {}
  }
 ],
 "nbformat_minor": 3,
 "metadata": {
  "language_info": {
   "file_extension": ".jl",
   "mimetype": "application/julia",
   "name": "julia",
   "version": "1.8.2"
  },
  "kernelspec": {
   "name": "julia-1.8",
   "display_name": "Julia 1.8.2",
   "language": "julia"
  }
 },
 "nbformat": 4
}
