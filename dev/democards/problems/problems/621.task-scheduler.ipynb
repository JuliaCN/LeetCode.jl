{
 "cells": [
  {
   "cell_type": "markdown",
   "source": [
    "Given a characters array `tasks`, representing the tasks a CPU needs to do,\n",
    "where each letter represents a different task. Tasks could be done in any\n",
    "order. Each task is done in one unit of time. For each unit of time, the CPU\n",
    "could complete either one task or just be idle.\n",
    "\n",
    "However, there is a non-negative integer `n` that represents the cooldown\n",
    "period between two **same tasks**  (the same letter in the array), that is\n",
    "that there must be at least `n` units of time between any two same tasks.\n",
    "\n",
    "Return _the least number of units of times that the CPU will take to finish\n",
    "all the given tasks_.\n",
    "\n",
    "\n",
    "\n",
    "**Example 1:**\n",
    "\n",
    "\n",
    "\n",
    "    Input: tasks = [\"A\",\"A\",\"A\",\"B\",\"B\",\"B\"], n = 2\n",
    "    Output: 8\n",
    "    Explanation:\n",
    "    A -> B -> idle -> A -> B -> idle -> A -> B\n",
    "    There is at least 2 units of time between any two same tasks.\n",
    "\n",
    "\n",
    "**Example 2:**\n",
    "\n",
    "\n",
    "\n",
    "    Input: tasks = [\"A\",\"A\",\"A\",\"B\",\"B\",\"B\"], n = 0\n",
    "    Output: 6\n",
    "    Explanation: On this case any permutation of size 6 would work since n = 0.\n",
    "    [\"A\",\"A\",\"A\",\"B\",\"B\",\"B\"]\n",
    "    [\"A\",\"B\",\"A\",\"B\",\"A\",\"B\"]\n",
    "    [\"B\",\"B\",\"B\",\"A\",\"A\",\"A\"]\n",
    "    ...\n",
    "    And so on.\n",
    "\n",
    "\n",
    "**Example 3:**\n",
    "\n",
    "\n",
    "\n",
    "    Input: tasks = [\"A\",\"A\",\"A\",\"A\",\"A\",\"A\",\"B\",\"C\",\"D\",\"E\",\"F\",\"G\"], n = 2\n",
    "    Output: 16\n",
    "    Explanation:\n",
    "    One possible solution is\n",
    "    A -> B -> C -> A -> D -> E -> A -> F -> G -> A -> idle -> idle -> A -> idle -> idle -> A\n",
    "\n",
    "\n",
    "\n",
    "\n",
    "**Constraints:**\n",
    "\n",
    "  * `1 <= task.length <= 104`\n",
    "  * `tasks[i]` is upper-case English letter.\n",
    "  * The integer `n` is in the range `[0, 100]`."
   ],
   "metadata": {}
  },
  {
   "outputs": [
    {
     "output_type": "execute_result",
     "data": {
      "text/plain": "8"
     },
     "metadata": {},
     "execution_count": 1
    }
   ],
   "cell_type": "code",
   "source": [
    "# @lc code=start\n",
    "using LeetCode\n",
    "\n",
    "function least_interval(tasks::Vector{Char}, n::Int)::Int\n",
    "    counter = fill(0, 26)\n",
    "    for ch in tasks\n",
    "        counter[UInt8(ch) - 0x40] += 1\n",
    "    end\n",
    "    sort!(counter, rev = true)\n",
    "    res = (n + 1) * counter[1] - n\n",
    "    for i in 2:26\n",
    "        if counter[i] == counter[i - 1]\n",
    "            res += 1\n",
    "        else\n",
    "            break\n",
    "        end\n",
    "    end\n",
    "    return max(length(tasks), res)\n",
    "end\n",
    "least_interval(['A','A','A','B','B','B'], 2)\n",
    "# @lc code=end"
   ],
   "metadata": {},
   "execution_count": 1
  },
  {
   "cell_type": "markdown",
   "source": [
    "---\n",
    "\n",
    "*This notebook was generated using [Literate.jl](https://github.com/fredrikekre/Literate.jl).*"
   ],
   "metadata": {}
  }
 ],
 "nbformat_minor": 3,
 "metadata": {
  "language_info": {
   "file_extension": ".jl",
   "mimetype": "application/julia",
   "name": "julia",
   "version": "1.6.1"
  },
  "kernelspec": {
   "name": "julia-1.6",
   "display_name": "Julia 1.6.1",
   "language": "julia"
  }
 },
 "nbformat": 4
}
