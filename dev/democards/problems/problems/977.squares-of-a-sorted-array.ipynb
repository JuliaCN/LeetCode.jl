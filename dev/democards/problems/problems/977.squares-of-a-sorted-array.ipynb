{
 "cells": [
  {
   "cell_type": "markdown",
   "source": [
    "Given an integer array `nums` sorted in **non-decreasing** order, return _an\n",
    "array of **the squares of each number**  sorted in non-decreasing order_.\n",
    "\n",
    "\n",
    "\n",
    "**Example 1:**\n",
    "\n",
    "\n",
    "\n",
    "    Input: nums = [-4,-1,0,3,10]\n",
    "    Output: [0,1,9,16,100]\n",
    "    Explanation: After squaring, the array becomes [16,1,0,9,100].\n",
    "    After sorting, it becomes [0,1,9,16,100].\n",
    "\n",
    "\n",
    "**Example 2:**\n",
    "\n",
    "\n",
    "\n",
    "    Input: nums = [-7,-3,2,3,11]\n",
    "    Output: [4,9,9,49,121]\n",
    "\n",
    "\n",
    "\n",
    "\n",
    "**Constraints:**\n",
    "\n",
    "  * `1 <= nums.length <= 104`\n",
    "  * `-104 <= nums[i] <= 104`\n",
    "  * `nums` is sorted in **non-decreasing** order."
   ],
   "metadata": {}
  },
  {
   "outputs": [
    {
     "output_type": "execute_result",
     "data": {
      "text/plain": "squares_of_a_sorted_array (generic function with 1 method)"
     },
     "metadata": {},
     "execution_count": 1
    }
   ],
   "cell_type": "code",
   "source": [
    "# @lc code=start\n",
    "using LeetCode\n",
    "\n",
    "# binary search + merge sort\n",
    "function squares_of_a_sorted_array(nums::Vector{Int})::Vector{Int}\n",
    "    n = length(nums)\n",
    "    # binary search\n",
    "    left, right = 1, n\n",
    "    while left <= right\n",
    "        mid = (right + left) >> 1\n",
    "        if nums[mid] < 0\n",
    "            left = mid + 1\n",
    "        else\n",
    "            right = mid - 1\n",
    "        end\n",
    "    end\n",
    "    # merge sort\n",
    "    i, j, res = right, left, Int[]\n",
    "    while i >= 1 && j <= n\n",
    "        if nums[i]^2 < nums[j]^2\n",
    "            push!(res, nums[i]^2)\n",
    "            i -= 1\n",
    "        else\n",
    "            push!(res, nums[j]^2)\n",
    "            j += 1\n",
    "        end\n",
    "    end\n",
    "    return vcat(res, (i == 0) ? nums[j:end] .^ 2 : nums[i:-1:1] .^ 2)\n",
    "end\n",
    "\n",
    "# @lc code=end"
   ],
   "metadata": {},
   "execution_count": 1
  },
  {
   "cell_type": "markdown",
   "source": [
    "---\n",
    "\n",
    "*This notebook was generated using [Literate.jl](https://github.com/fredrikekre/Literate.jl).*"
   ],
   "metadata": {}
  }
 ],
 "nbformat_minor": 3,
 "metadata": {
  "language_info": {
   "file_extension": ".jl",
   "mimetype": "application/julia",
   "name": "julia",
   "version": "1.8.0"
  },
  "kernelspec": {
   "name": "julia-1.8",
   "display_name": "Julia 1.8.0",
   "language": "julia"
  }
 },
 "nbformat": 4
}
