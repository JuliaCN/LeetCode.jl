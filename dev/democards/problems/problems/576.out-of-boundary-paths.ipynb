{
 "cells": [
  {
   "cell_type": "markdown",
   "source": [
    "There is an **m** by **n** grid with a ball. Given the start coordinate\n",
    "**(i,j)** of the ball, you can move the ball to **adjacent** cell or cross the\n",
    "grid boundary in four directions (up, down, left, right). However, you can\n",
    "**at most** move **N** times. Find out the number of paths to move the ball\n",
    "out of grid boundary. The answer may be very large, return it after mod 109 \\+\n",
    "7.\n",
    "\n",
    "\n",
    "\n",
    "**Example 1:**\n",
    "\n",
    "\n",
    "\n",
    "    Input: m = 2, n = 2, N = 2, i = 0, j = 0\n",
    "    Output: 6\n",
    "    Explanation:\n",
    "    ![](https://assets.leetcode.com/uploads/2018/10/13/out_of_boundary_paths_1.png)\n",
    "\n",
    "\n",
    "**Example 2:**\n",
    "\n",
    "\n",
    "\n",
    "    Input: m = 1, n = 3, N = 3, i = 0, j = 1\n",
    "    Output: 12\n",
    "    Explanation:\n",
    "    ![](https://assets.leetcode.com/uploads/2018/10/12/out_of_boundary_paths_2.png)\n",
    "\n",
    "\n",
    "\n",
    "\n",
    "**Note:**\n",
    "\n",
    "  1. Once you move the ball out of boundary, you cannot move it back.\n",
    "  2. The length and height of the grid is in range [1,50].\n",
    "  3. N is in range [0,50]."
   ],
   "metadata": {}
  },
  {
   "outputs": [
    {
     "output_type": "execute_result",
     "data": {
      "text/plain": "find_paths (generic function with 1 method)"
     },
     "metadata": {},
     "execution_count": 1
    }
   ],
   "cell_type": "code",
   "source": [
    "# @lc code=start\n",
    "using LeetCode\n",
    "\n",
    "function find_paths(m, n, N, i, j)\n",
    "    dp = zeros(Int, m, n)\n",
    "    t = copy(dp)\n",
    "    for _ in 1:N\n",
    "        inds = CartesianIndices(t)\n",
    "        for x in inds\n",
    "            v = 0\n",
    "            for dir in ((0, -1), (0, 1), (1, 0), (-1, 0))\n",
    "                p = x + CartesianIndex(dir)\n",
    "                v += p ∈ inds ? t[p] : 1\n",
    "            end\n",
    "            dp[x] = v\n",
    "        end\n",
    "        dp, t = t, dp\n",
    "    end\n",
    "    return t[i, j] % (10^9 + 7)\n",
    "end\n",
    "# @lc code=end"
   ],
   "metadata": {},
   "execution_count": 1
  },
  {
   "cell_type": "markdown",
   "source": [
    "---\n",
    "\n",
    "*This notebook was generated using [Literate.jl](https://github.com/fredrikekre/Literate.jl).*"
   ],
   "metadata": {}
  }
 ],
 "nbformat_minor": 3,
 "metadata": {
  "language_info": {
   "file_extension": ".jl",
   "mimetype": "application/julia",
   "name": "julia",
   "version": "1.6.3"
  },
  "kernelspec": {
   "name": "julia-1.6",
   "display_name": "Julia 1.6.3",
   "language": "julia"
  }
 },
 "nbformat": 4
}
