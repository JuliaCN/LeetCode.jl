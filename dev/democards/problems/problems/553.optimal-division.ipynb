{
 "cells": [
  {
   "cell_type": "markdown",
   "source": [
    "Given a list of **positive integers** , the adjacent integers will perform the\n",
    "float division. For example, [2,3,4] -> 2 / 3 / 4.\n",
    "\n",
    "However, you can add any number of parenthesis at any position to change the\n",
    "priority of operations. You should find out how to add parenthesis to get the\n",
    "**maximum** result, and return the corresponding expression in string format.\n",
    "**Your expression should NOT contain redundant parenthesis.**\n",
    "\n",
    "**Example:**\n",
    "\n",
    "\n",
    "\n",
    "    Input: [1000,100,10,2]\n",
    "    Output: \"1000/(100/10/2)\"\n",
    "    Explanation:\n",
    "    1000/(100/10/2) = 1000/((100/10)/2) = 200\n",
    "    However, the bold parenthesis in \"1000/( **(** 100/10 **)** /2)\" are redundant,\n",
    "    since they don't influence the operation priority. So you should return \"1000/(100/10/2)\".\n",
    "\n",
    "    Other cases:\n",
    "    1000/(100/10)/2 = 50\n",
    "    1000/(100/(10/2)) = 50\n",
    "    1000/100/10/2 = 0.5\n",
    "    1000/100/(10/2) = 2\n",
    "\n",
    "\n",
    "**Note:**\n",
    "\n",
    "  1. The length of the input array is [1, 10].\n",
    "  2. Elements in the given array will be in range [2, 1000].\n",
    "  3. There is only one optimal division for each test case."
   ],
   "metadata": {}
  },
  {
   "outputs": [
    {
     "output_type": "execute_result",
     "data": {
      "text/plain": "optimal_division (generic function with 1 method)"
     },
     "metadata": {},
     "execution_count": 1
    }
   ],
   "cell_type": "code",
   "source": [
    "# @lc code=start\n",
    "using LeetCode\n",
    "\n",
    "function optimal_division(nums::Vector{Int})\n",
    "    (length(nums) == 1) && return string(nums[1])\n",
    "    (length(nums) == 2) && return string(nums[1]) * \"/\" * string(nums[1])\n",
    "    res = \"$(nums[1])/($(nums[2])\"\n",
    "    for i in 3:length(nums)\n",
    "        res *= \"/$(nums[i])\"\n",
    "    end\n",
    "    return res * \")\"\n",
    "end\n",
    "# @lc code=end"
   ],
   "metadata": {},
   "execution_count": 1
  },
  {
   "cell_type": "markdown",
   "source": [
    "---\n",
    "\n",
    "*This notebook was generated using [Literate.jl](https://github.com/fredrikekre/Literate.jl).*"
   ],
   "metadata": {}
  }
 ],
 "nbformat_minor": 3,
 "metadata": {
  "language_info": {
   "file_extension": ".jl",
   "mimetype": "application/julia",
   "name": "julia",
   "version": "1.7.2"
  },
  "kernelspec": {
   "name": "julia-1.7",
   "display_name": "Julia 1.7.2",
   "language": "julia"
  }
 },
 "nbformat": 4
}
