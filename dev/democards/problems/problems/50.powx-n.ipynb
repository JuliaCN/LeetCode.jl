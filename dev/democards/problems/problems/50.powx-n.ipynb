{
 "cells": [
  {
   "cell_type": "markdown",
   "source": [
    "Implement [pow( _x_ , _n_\n",
    ")](http://www.cplusplus.com/reference/valarray/pow/), which calculates  _x_\n",
    "raised to the power _n_ (i.e. xn).\n",
    "\n",
    "\n",
    "\n",
    "**Example 1:**\n",
    "\n",
    "\n",
    "\n",
    "    Input: x = 2.00000, n = 10\n",
    "    Output: 1024.00000\n",
    "\n",
    "\n",
    "**Example 2:**\n",
    "\n",
    "\n",
    "\n",
    "    Input: x = 2.10000, n = 3\n",
    "    Output: 9.26100\n",
    "\n",
    "\n",
    "**Example 3:**\n",
    "\n",
    "\n",
    "\n",
    "    Input: x = 2.00000, n = -2\n",
    "    Output: 0.25000\n",
    "    Explanation: 2-2 = 1/22 = 1/4 = 0.25\n",
    "\n",
    "\n",
    "\n",
    "\n",
    "**Constraints:**\n",
    "\n",
    "  * `-100.0 < x < 100.0`\n",
    "  * `-231 <= n <= 231-1`\n",
    "  * `-104 <= xn <= 104`"
   ],
   "metadata": {}
  },
  {
   "outputs": [
    {
     "output_type": "execute_result",
     "data": {
      "text/plain": "my_pow (generic function with 1 method)"
     },
     "metadata": {},
     "execution_count": 1
    }
   ],
   "cell_type": "code",
   "source": [
    "# @lc code=start\n",
    "using LeetCode\n",
    "\n",
    "function my_pow(x::Float64, n::Int)::Float64\n",
    "    n == 0 && return 1\n",
    "    if n < 0\n",
    "        x, n = 1 / x, -n\n",
    "    end\n",
    "    res, extra = x, 1\n",
    "    while n > 1\n",
    "        n & 1 == 1 && (extra *= res)\n",
    "        res *= res\n",
    "        n >>= 1\n",
    "    end\n",
    "    return res * extra\n",
    "end\n",
    "# @lc code=end"
   ],
   "metadata": {},
   "execution_count": 1
  },
  {
   "cell_type": "markdown",
   "source": [
    "---\n",
    "\n",
    "*This notebook was generated using [Literate.jl](https://github.com/fredrikekre/Literate.jl).*"
   ],
   "metadata": {}
  }
 ],
 "nbformat_minor": 3,
 "metadata": {
  "language_info": {
   "file_extension": ".jl",
   "mimetype": "application/julia",
   "name": "julia",
   "version": "1.7.3"
  },
  "kernelspec": {
   "name": "julia-1.7",
   "display_name": "Julia 1.7.3",
   "language": "julia"
  }
 },
 "nbformat": 4
}
