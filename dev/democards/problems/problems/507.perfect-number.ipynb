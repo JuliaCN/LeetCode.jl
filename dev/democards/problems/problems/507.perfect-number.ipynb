{
 "cells": [
  {
   "cell_type": "markdown",
   "source": [
    "A [**perfect number**](https://en.wikipedia.org/wiki/Perfect_number) is a\n",
    "**positive integer** that is equal to the sum of its **positive divisors** ,\n",
    "excluding the number itself. A **divisor** of an integer `x` is an integer\n",
    "that can divide `x` evenly.\n",
    "\n",
    "Given an integer `n`, return `true` _if_`n` _is a perfect number, otherwise\n",
    "return_`false`.\n",
    "\n",
    "\n",
    "\n",
    "**Example 1:**\n",
    "\n",
    "\n",
    "\n",
    "    Input: num = 28\n",
    "    Output: true\n",
    "    Explanation: 28 = 1 + 2 + 4 + 7 + 14\n",
    "    1, 2, 4, 7, and 14 are all divisors of 28.\n",
    "\n",
    "\n",
    "**Example 2:**\n",
    "\n",
    "\n",
    "\n",
    "    Input: num = 6\n",
    "    Output: true\n",
    "\n",
    "\n",
    "**Example 3:**\n",
    "\n",
    "\n",
    "\n",
    "    Input: num = 496\n",
    "    Output: true\n",
    "\n",
    "\n",
    "**Example 4:**\n",
    "\n",
    "\n",
    "\n",
    "    Input: num = 8128\n",
    "    Output: true\n",
    "\n",
    "\n",
    "**Example 5:**\n",
    "\n",
    "\n",
    "\n",
    "    Input: num = 2\n",
    "    Output: false\n",
    "\n",
    "\n",
    "\n",
    "\n",
    "**Constraints:**\n",
    "\n",
    "  * `1 <= num <= 108`"
   ],
   "metadata": {}
  },
  {
   "outputs": [
    {
     "output_type": "execute_result",
     "data": {
      "text/plain": "perfect_number (generic function with 1 method)"
     },
     "metadata": {},
     "execution_count": 1
    }
   ],
   "cell_type": "code",
   "source": [
    "# @lc code=start\n",
    "using LeetCode\n",
    "\n",
    "perfect_number(num::Int) = num in [6, 28, 496, 8128, 33550336]\n",
    "\n",
    "# @lc code=end"
   ],
   "metadata": {},
   "execution_count": 1
  },
  {
   "cell_type": "markdown",
   "source": [
    "---\n",
    "\n",
    "*This notebook was generated using [Literate.jl](https://github.com/fredrikekre/Literate.jl).*"
   ],
   "metadata": {}
  }
 ],
 "nbformat_minor": 3,
 "metadata": {
  "language_info": {
   "file_extension": ".jl",
   "mimetype": "application/julia",
   "name": "julia",
   "version": "1.9.1"
  },
  "kernelspec": {
   "name": "julia-1.9",
   "display_name": "Julia 1.9.1",
   "language": "julia"
  }
 },
 "nbformat": 4
}
