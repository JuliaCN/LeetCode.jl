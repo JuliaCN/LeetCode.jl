{
 "cells": [
  {
   "cell_type": "markdown",
   "source": [
    "Given a binary tree and a sum, find all root-to-leaf paths where each path's\n",
    "sum equals the given sum.\n",
    "\n",
    "**Note:**  A leaf is a node with no children.\n",
    "\n",
    "**Example:**\n",
    "\n",
    "Given the below binary tree and `sum = 22`,\n",
    "\n",
    "\n",
    "\n",
    "          **5**\n",
    "         **/ \\**\n",
    "        **4   8**\n",
    "       **/**   / **\\**\n",
    "      **11**  13  **4**\n",
    "     /  **\\**    **/** \\\n",
    "    7    **2**  **5**   1\n",
    "\n",
    "\n",
    "Return:\n",
    "\n",
    "\n",
    "\n",
    "    [\n",
    "       [5,4,11,2],\n",
    "       [5,8,4,5]\n",
    "    ]"
   ],
   "metadata": {}
  },
  {
   "outputs": [
    {
     "output_type": "execute_result",
     "data": {
      "text/plain": "path_sum_113 (generic function with 1 method)"
     },
     "metadata": {},
     "execution_count": 1
    }
   ],
   "cell_type": "code",
   "source": [
    "# @lc code=start\n",
    "using LeetCode\n",
    "\n",
    "function path_sum_113(node::Union{Nothing,TreeNode}, target::Int)::Vector{Vector{Int}}\n",
    "    isnothing(node) && return Vector{Vector{Int}}[]\n",
    "    isnothing(node.left) &&\n",
    "        isnothing(node.right) &&\n",
    "        return node.val != target ? Vector{Vector{Int}}[] : [[target]]\n",
    "    paths = path_sum_113(node.left, target - node.val)\n",
    "    paths = vcat(paths, path_sum_113(node.right, target - node.val))\n",
    "    for path in paths\n",
    "        pushfirst!(path, node.val)\n",
    "    end\n",
    "    return paths\n",
    "end\n",
    "\n",
    "# @lc code=end"
   ],
   "metadata": {},
   "execution_count": 1
  },
  {
   "cell_type": "markdown",
   "source": [
    "---\n",
    "\n",
    "*This notebook was generated using [Literate.jl](https://github.com/fredrikekre/Literate.jl).*"
   ],
   "metadata": {}
  }
 ],
 "nbformat_minor": 3,
 "metadata": {
  "language_info": {
   "file_extension": ".jl",
   "mimetype": "application/julia",
   "name": "julia",
   "version": "1.7.2"
  },
  "kernelspec": {
   "name": "julia-1.7",
   "display_name": "Julia 1.7.2",
   "language": "julia"
  }
 },
 "nbformat": 4
}
