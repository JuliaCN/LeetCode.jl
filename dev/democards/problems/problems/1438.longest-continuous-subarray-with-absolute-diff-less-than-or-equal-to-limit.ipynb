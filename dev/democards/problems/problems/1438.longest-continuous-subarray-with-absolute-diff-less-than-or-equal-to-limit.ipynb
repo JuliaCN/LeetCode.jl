{
 "cells": [
  {
   "cell_type": "markdown",
   "source": [
    "Given an array of integers `nums` and an integer `limit`, return the size of\n",
    "the longest **non-empty** subarray such that the absolute difference between\n",
    "any two elements of this subarray is less than or equal to `limit` _._\n",
    "\n",
    "\n",
    "\n",
    "**Example 1:**\n",
    "\n",
    "\n",
    "\n",
    "    Input: nums = [8,2,4,7], limit = 4\n",
    "    Output: 2\n",
    "    Explanation: All subarrays are:\n",
    "    [8] with maximum absolute diff |8-8| = 0 <= 4.\n",
    "    [8,2] with maximum absolute diff |8-2| = 6 > 4.\n",
    "    [8,2,4] with maximum absolute diff |8-2| = 6 > 4.\n",
    "    [8,2,4,7] with maximum absolute diff |8-2| = 6 > 4.\n",
    "    [2] with maximum absolute diff |2-2| = 0 <= 4.\n",
    "    [2,4] with maximum absolute diff |2-4| = 2 <= 4.\n",
    "    [2,4,7] with maximum absolute diff |2-7| = 5 > 4.\n",
    "    [4] with maximum absolute diff |4-4| = 0 <= 4.\n",
    "    [4,7] with maximum absolute diff |4-7| = 3 <= 4.\n",
    "    [7] with maximum absolute diff |7-7| = 0 <= 4.\n",
    "    Therefore, the size of the longest subarray is 2.\n",
    "\n",
    "\n",
    "**Example 2:**\n",
    "\n",
    "\n",
    "\n",
    "    Input: nums = [10,1,2,4,7,2], limit = 5\n",
    "    Output: 4\n",
    "    Explanation: The subarray [2,4,7,2] is the longest since the maximum absolute diff is |2-7| = 5 <= 5.\n",
    "\n",
    "\n",
    "**Example 3:**\n",
    "\n",
    "\n",
    "\n",
    "    Input: nums = [4,2,2,2,4,4,2,2], limit = 0\n",
    "    Output: 3\n",
    "\n",
    "\n",
    "\n",
    "\n",
    "**Constraints:**\n",
    "\n",
    "  * `1 <= nums.length <= 10^5`\n",
    "  * `1 <= nums[i] <= 10^9`\n",
    "  * `0 <= limit <= 10^9`"
   ],
   "metadata": {}
  },
  {
   "outputs": [
    {
     "output_type": "execute_result",
     "data": {
      "text/plain": "longest_subarray (generic function with 1 method)"
     },
     "metadata": {},
     "execution_count": 1
    }
   ],
   "cell_type": "code",
   "source": [
    "# @lc code=start\n",
    "\n",
    "using LeetCode\n",
    "\n",
    "function longest_subarray(nums::Vector{Int}, limit::Int)\n",
    "    queMin, queMax = Deque{Int}(), Deque{Int}()\n",
    "    n = length(nums)\n",
    "    left = right = 1\n",
    "    res = 0\n",
    "\n",
    "    while right <= n\n",
    "        while !isempty(queMin) && !isempty(queMax) && last(queMax) < nums[right]\n",
    "            pop!(queMax)\n",
    "        end\n",
    "        while !isempty(queMin) && !isempty(queMax) && last(queMin) > nums[right]\n",
    "            pop!(queMin)\n",
    "        end\n",
    "        push!(queMax, nums[right])\n",
    "        push!(queMin, nums[right])\n",
    "\n",
    "        while !isempty(queMin) && !isempty(queMax) && first(queMax) - first(queMin) > limit\n",
    "            if nums[left] == first(queMin)\n",
    "                popfirst!(queMin)\n",
    "            end\n",
    "            if nums[left] == first(queMax)\n",
    "                popfirst!(queMax)\n",
    "            end\n",
    "            left += 1\n",
    "        end\n",
    "\n",
    "        res = max(res, right - left + 1)\n",
    "        right += 1\n",
    "\n",
    "    end\n",
    "\n",
    "    return res\n",
    "end\n",
    "# @lc code=end"
   ],
   "metadata": {},
   "execution_count": 1
  },
  {
   "cell_type": "markdown",
   "source": [
    "---\n",
    "\n",
    "*This notebook was generated using [Literate.jl](https://github.com/fredrikekre/Literate.jl).*"
   ],
   "metadata": {}
  }
 ],
 "nbformat_minor": 3,
 "metadata": {
  "language_info": {
   "file_extension": ".jl",
   "mimetype": "application/julia",
   "name": "julia",
   "version": "1.7.3"
  },
  "kernelspec": {
   "name": "julia-1.7",
   "display_name": "Julia 1.7.3",
   "language": "julia"
  }
 },
 "nbformat": 4
}
