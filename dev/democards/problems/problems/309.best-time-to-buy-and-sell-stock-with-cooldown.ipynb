{
 "cells": [
  {
   "cell_type": "markdown",
   "source": [
    "Say you have an array for which the _i_ th element is the price of a given\n",
    "stock on day _i_.\n",
    "\n",
    "Design an algorithm to find the maximum profit. You may complete as many\n",
    "transactions as you like (ie, buy one and sell one share of the stock multiple\n",
    "times) with the following restrictions:\n",
    "\n",
    "  * You may not engage in multiple transactions at the same time (ie, you must sell the stock before you buy again).\n",
    "  * After you sell your stock, you cannot buy stock on next day. (ie, cooldown 1 day)\n",
    "\n",
    "**Example:**\n",
    "\n",
    "\n",
    "\n",
    "    Input: [1,2,3,0,2]\n",
    "    Output: 3\n",
    "    Explanation: transactions = [buy, sell, cooldown, buy, sell]"
   ],
   "metadata": {}
  },
  {
   "outputs": [
    {
     "output_type": "execute_result",
     "data": {
      "text/plain": "max_profit_309 (generic function with 1 method)"
     },
     "metadata": {},
     "execution_count": 1
    }
   ],
   "cell_type": "code",
   "source": [
    "# @lc code=start\n",
    "using LeetCode\n",
    "\n",
    "function max_profit_309(prices)\n",
    "    isempty(prices) && return 0\n",
    "    # f0: this day I have a stock\n",
    "    # f1: this day I sell a stock\n",
    "    # f2: this day I can buy the stock\n",
    "    f0, f1, f2 = -first(prices), 0, 0\n",
    "    for price in @view(prices[2:end])\n",
    "        f0, f1, f2 = max(f2 - price, f0), f0 + price, max(f1, f2)\n",
    "    end\n",
    "    return max(f1, f2)\n",
    "end\n",
    "# @lc code=end"
   ],
   "metadata": {},
   "execution_count": 1
  },
  {
   "cell_type": "markdown",
   "source": [
    "---\n",
    "\n",
    "*This notebook was generated using [Literate.jl](https://github.com/fredrikekre/Literate.jl).*"
   ],
   "metadata": {}
  }
 ],
 "nbformat_minor": 3,
 "metadata": {
  "language_info": {
   "file_extension": ".jl",
   "mimetype": "application/julia",
   "name": "julia",
   "version": "1.6.4"
  },
  "kernelspec": {
   "name": "julia-1.6",
   "display_name": "Julia 1.6.4",
   "language": "julia"
  }
 },
 "nbformat": 4
}
