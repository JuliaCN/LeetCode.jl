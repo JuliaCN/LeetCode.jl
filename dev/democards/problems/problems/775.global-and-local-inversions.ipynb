{
 "cells": [
  {
   "cell_type": "markdown",
   "source": [
    "We have some permutation `A` of `[0, 1, ..., N - 1]`, where `N` is the length\n",
    "of `A`.\n",
    "\n",
    "The number of (global) inversions is the number of `i < j` with `0 <= i < j <\n",
    "N` and `A[i] > A[j]`.\n",
    "\n",
    "The number of local inversions is the number of `i` with `0 <= i < N` and\n",
    "`A[i] > A[i+1]`.\n",
    "\n",
    "Return `true` if and only if the number of global inversions is equal to the\n",
    "number of local inversions.\n",
    "\n",
    "**Example 1:**\n",
    "\n",
    "\n",
    "\n",
    "    Input: A = [1,0,2]\n",
    "    Output: true\n",
    "    Explanation: There is 1 global inversion, and 1 local inversion.\n",
    "\n",
    "\n",
    "**Example 2:**\n",
    "\n",
    "\n",
    "\n",
    "    Input: A = [1,2,0]\n",
    "    Output: false\n",
    "    Explanation: There are 2 global inversions, and 1 local inversion.\n",
    "\n",
    "\n",
    "**Note:**\n",
    "\n",
    "  * `A` will be a permutation of `[0, 1, ..., A.length - 1]`.\n",
    "  * `A` will have length in range `[1, 5000]`.\n",
    "  * The time limit for this problem has been reduced."
   ],
   "metadata": {}
  },
  {
   "outputs": [
    {
     "output_type": "execute_result",
     "data": {
      "text/plain": "is_ideal_permutation (generic function with 1 method)"
     },
     "metadata": {},
     "execution_count": 1
    }
   ],
   "cell_type": "code",
   "source": [
    "# @lc code=start\n",
    "using LeetCode\n",
    "\n",
    "function is_ideal_permutation(A::Vector{Int})\n",
    "    m = A[end]\n",
    "    for i in length(A):-1:3\n",
    "        m = min(m, A[i])\n",
    "        if A[i - 2] > m\n",
    "            return false\n",
    "        end\n",
    "    end\n",
    "    return true\n",
    "end\n",
    "# @lc code=end"
   ],
   "metadata": {},
   "execution_count": 1
  },
  {
   "cell_type": "markdown",
   "source": [
    "---\n",
    "\n",
    "*This notebook was generated using [Literate.jl](https://github.com/fredrikekre/Literate.jl).*"
   ],
   "metadata": {}
  }
 ],
 "nbformat_minor": 3,
 "metadata": {
  "language_info": {
   "file_extension": ".jl",
   "mimetype": "application/julia",
   "name": "julia",
   "version": "1.6.3"
  },
  "kernelspec": {
   "name": "julia-1.6",
   "display_name": "Julia 1.6.3",
   "language": "julia"
  }
 },
 "nbformat": 4
}
