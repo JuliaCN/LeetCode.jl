{
 "cells": [
  {
   "cell_type": "markdown",
   "source": [
    "Given two strings `word1` and `word2`, return _the minimum number of\n",
    "operations required to convert`word1` to `word2`_.\n",
    "\n",
    "You have the following three operations permitted on a word:\n",
    "\n",
    "  * Insert a character\n",
    "  * Delete a character\n",
    "  * Replace a character\n",
    "\n",
    "\n",
    "\n",
    "**Example 1:**\n",
    "\n",
    "\n",
    "\n",
    "    Input: word1 = \"horse\", word2 = \"ros\"\n",
    "    Output: 3\n",
    "    Explanation:\n",
    "    horse -> rorse (replace 'h' with 'r')\n",
    "    rorse -> rose (remove 'r')\n",
    "    rose -> ros (remove 'e')\n",
    "\n",
    "\n",
    "**Example 2:**\n",
    "\n",
    "\n",
    "\n",
    "    Input: word1 = \"intention\", word2 = \"execution\"\n",
    "    Output: 5\n",
    "    Explanation:\n",
    "    intention -> inention (remove 't')\n",
    "    inention -> enention (replace 'i' with 'e')\n",
    "    enention -> exention (replace 'n' with 'x')\n",
    "    exention -> exection (replace 'n' with 'c')\n",
    "    exection -> execution (insert 'u')\n",
    "\n",
    "\n",
    "\n",
    "\n",
    "**Constraints:**\n",
    "\n",
    "  * `0 <= word1.length, word2.length <= 500`\n",
    "  * `word1` and `word2` consist of lowercase English letters."
   ],
   "metadata": {}
  },
  {
   "outputs": [
    {
     "output_type": "execute_result",
     "data": {
      "text/plain": "min_distance (generic function with 1 method)"
     },
     "metadata": {},
     "execution_count": 1
    }
   ],
   "cell_type": "code",
   "source": [
    "# @lc code=start\n",
    "using LeetCode\n",
    "\n",
    "function min_distance(word1::String, word2::String)::Int32\n",
    "    m, n = length(word1) + 1, length(word2) + 1\n",
    "    dp = fill(0, m, n)\n",
    "\n",
    "    for i = 1:m\n",
    "        dp[i, 1] = i - 1\n",
    "    end\n",
    "\n",
    "    for j = 1:n\n",
    "        dp[1, j] = j - 1\n",
    "    end\n",
    "\n",
    "    for i = 2:m, j = 2:n\n",
    "        if word1[i-1] == word2[j-1]\n",
    "            dp[i, j] = dp[i-1, j-1]\n",
    "        else\n",
    "            dp[i, j] = min(dp[i-1, j-1], dp[i, j-1], dp[i-1, j]) + 1\n",
    "        end\n",
    "    end\n",
    "\n",
    "    return dp[m, n]\n",
    "end\n",
    "\n",
    "# @lc code=end"
   ],
   "metadata": {},
   "execution_count": 1
  },
  {
   "cell_type": "markdown",
   "source": [
    "---\n",
    "\n",
    "*This notebook was generated using [Literate.jl](https://github.com/fredrikekre/Literate.jl).*"
   ],
   "metadata": {}
  }
 ],
 "nbformat_minor": 3,
 "metadata": {
  "language_info": {
   "file_extension": ".jl",
   "mimetype": "application/julia",
   "name": "julia",
   "version": "1.6.1"
  },
  "kernelspec": {
   "name": "julia-1.6",
   "display_name": "Julia 1.6.1",
   "language": "julia"
  }
 },
 "nbformat": 4
}
