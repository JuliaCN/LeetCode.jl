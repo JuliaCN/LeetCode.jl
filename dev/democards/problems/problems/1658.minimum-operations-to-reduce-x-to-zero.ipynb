{
 "cells": [
  {
   "cell_type": "markdown",
   "source": [
    "You are given an integer array `nums` and an integer `x`. In one operation,\n",
    "you can either remove the leftmost or the rightmost element from the array\n",
    "`nums` and subtract its value from `x`. Note that this **modifies** the array\n",
    "for future operations.\n",
    "\n",
    "Return _the **minimum number** of operations to reduce _`x` _to **exactly**_\n",
    "`0` _if it 's possible_ _, otherwise, return_`-1`.\n",
    "\n",
    "\n",
    "\n",
    "**Example 1:**\n",
    "\n",
    "\n",
    "\n",
    "    Input: nums = [1,1,4,2,3], x = 5\n",
    "    Output: 2\n",
    "    Explanation: The optimal solution is to remove the last two elements to reduce x to zero.\n",
    "\n",
    "\n",
    "**Example 2:**\n",
    "\n",
    "\n",
    "\n",
    "    Input: nums = [5,6,7,8,9], x = 4\n",
    "    Output: -1\n",
    "\n",
    "\n",
    "**Example 3:**\n",
    "\n",
    "\n",
    "\n",
    "    Input: nums = [3,2,20,1,1,3], x = 10\n",
    "    Output: 5\n",
    "    Explanation: The optimal solution is to remove the last three elements and the first two elements (5 operations in total) to reduce x to zero.\n",
    "\n",
    "\n",
    "\n",
    "\n",
    "**Constraints:**\n",
    "\n",
    "  * `1 <= nums.length <= 105`\n",
    "  * `1 <= nums[i] <= 104`\n",
    "  * `1 <= x <= 109`"
   ],
   "metadata": {}
  },
  {
   "outputs": [
    {
     "output_type": "execute_result",
     "data": {
      "text/plain": "min_operations (generic function with 1 method)"
     },
     "metadata": {},
     "execution_count": 1
    }
   ],
   "cell_type": "code",
   "source": [
    "# @lc code=start\n",
    "using LeetCode\n",
    "\n",
    "function min_operations(nums::Vector{Int}, x::Int)\n",
    "    target = sum(nums) - x\n",
    "    target < 0 && return -1\n",
    "    println(target)\n",
    "    left, right, maxn = 0, 0, -1\n",
    "    len = length(nums)\n",
    "    while right < len\n",
    "        target -= nums[right += 1]\n",
    "        while target < 0\n",
    "            target += nums[left += 1]\n",
    "        end\n",
    "        (target == 0) && (maxn = max(maxn, right - left))\n",
    "    end\n",
    "    maxn == -1 ? maxn : len - maxn\n",
    "end\n",
    "# @lc code=end"
   ],
   "metadata": {},
   "execution_count": 1
  },
  {
   "cell_type": "markdown",
   "source": [
    "---\n",
    "\n",
    "*This notebook was generated using [Literate.jl](https://github.com/fredrikekre/Literate.jl).*"
   ],
   "metadata": {}
  }
 ],
 "nbformat_minor": 3,
 "metadata": {
  "language_info": {
   "file_extension": ".jl",
   "mimetype": "application/julia",
   "name": "julia",
   "version": "1.7.3"
  },
  "kernelspec": {
   "name": "julia-1.7",
   "display_name": "Julia 1.7.3",
   "language": "julia"
  }
 },
 "nbformat": 4
}
