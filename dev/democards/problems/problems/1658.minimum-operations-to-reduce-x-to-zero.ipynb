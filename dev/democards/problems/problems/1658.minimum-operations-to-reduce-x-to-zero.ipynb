{
 "cells": [
  {
   "cell_type": "markdown",
   "source": [
    "You are given an integer array `nums` and an integer `x`. In one operation,\n",
    "you can either remove the leftmost or the rightmost element from the array\n",
    "`nums` and subtract its value from `x`. Note that this **modifies** the array\n",
    "for future operations.\n",
    "\n",
    "Return _the **minimum number** of operations to reduce _`x` _to **exactly**_\n",
    "`0` _if it 's possible_ _, otherwise, return_`-1`.\n",
    "\n",
    "\n",
    "\n",
    "**Example 1:**\n",
    "\n",
    "\n",
    "\n",
    "    Input: nums = [1,1,4,2,3], x = 5\n",
    "    Output: 2\n",
    "    Explanation: The optimal solution is to remove the last two elements to reduce x to zero.\n",
    "\n",
    "\n",
    "**Example 2:**\n",
    "\n",
    "\n",
    "\n",
    "    Input: nums = [5,6,7,8,9], x = 4\n",
    "    Output: -1\n",
    "\n",
    "\n",
    "**Example 3:**\n",
    "\n",
    "\n",
    "\n",
    "    Input: nums = [3,2,20,1,1,3], x = 10\n",
    "    Output: 5\n",
    "    Explanation: The optimal solution is to remove the last three elements and the first two elements (5 operations in total) to reduce x to zero.\n",
    "\n",
    "\n",
    "\n",
    "\n",
    "**Constraints:**\n",
    "\n",
    "  * `1 <= nums.length <= 105`\n",
    "  * `1 <= nums[i] <= 104`\n",
    "  * `1 <= x <= 109`"
   ],
   "metadata": {}
  },
  {
   "outputs": [
    {
     "output_type": "execute_result",
     "data": {
      "text/plain": "min_operations (generic function with 1 method)"
     },
     "metadata": {},
     "execution_count": 1
    }
   ],
   "cell_type": "code",
   "source": [
    "# @lc code=start\n",
    "using LeetCode\n",
    "\n",
    "function min_operations(nums::Vector{Int}, x::Int)\n",
    "    rnums = reverse(nums)\n",
    "    if nums[1] > x && rnums[1] > x\n",
    "        return -1\n",
    "    end\n",
    "    len = length(nums)\n",
    "    rlm, llm, res = len, len, len\n",
    "    for i in 1:(len - 1)\n",
    "        if ((nums[i + 1] += nums[i]) > x)\n",
    "            rlm = i\n",
    "            break\n",
    "        end\n",
    "    end\n",
    "    if rm == len\n",
    "        if nums[end] < x\n",
    "            return -1\n",
    "        else\n",
    "            return len\n",
    "        end\n",
    "    end\n",
    "    for i in 1:(len - 1)\n",
    "        if ((rnums[i + 1] += rnums[i]) > x)\n",
    "            llm = i\n",
    "            break\n",
    "        end\n",
    "    end\n",
    "    i, j = 1, llm\n",
    "    while i <= rlm && j > 0\n",
    "        if nums[i] == x\n",
    "            res = min(i, res)\n",
    "            i += 1\n",
    "        elseif rnums[j] == x\n",
    "            res = min(j, res)\n",
    "            j -= 1\n",
    "        else\n",
    "            sm = nums[i] + rnums[j]\n",
    "            # println(i,\" \", j,\" \", sm)\n",
    "            if sm == x\n",
    "                res = min(i + j, res)\n",
    "                i += 1\n",
    "                j -= 1\n",
    "            elseif sm > x\n",
    "                j -= 1\n",
    "            else\n",
    "                i += 1\n",
    "            end\n",
    "        end\n",
    "    end\n",
    "    return res\n",
    "end\n",
    "# @lc code=end"
   ],
   "metadata": {},
   "execution_count": 1
  },
  {
   "cell_type": "markdown",
   "source": [
    "---\n",
    "\n",
    "*This notebook was generated using [Literate.jl](https://github.com/fredrikekre/Literate.jl).*"
   ],
   "metadata": {}
  }
 ],
 "nbformat_minor": 3,
 "metadata": {
  "language_info": {
   "file_extension": ".jl",
   "mimetype": "application/julia",
   "name": "julia",
   "version": "1.6.1"
  },
  "kernelspec": {
   "name": "julia-1.6",
   "display_name": "Julia 1.6.1",
   "language": "julia"
  }
 },
 "nbformat": 4
}
