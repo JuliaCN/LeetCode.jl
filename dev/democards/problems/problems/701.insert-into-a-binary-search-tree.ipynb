{
 "cells": [
  {
   "cell_type": "markdown",
   "source": [
    "You are given the `root` node of a binary search tree (BST) and a `value` to\n",
    "insert into the tree. Return _the root node of the BST after the insertion_.\n",
    "It is **guaranteed** that the new value does not exist in the original BST.\n",
    "\n",
    "**Notice**  that there may exist multiple valid ways for the insertion, as\n",
    "long as the tree remains a BST after insertion. You can return **any of\n",
    "them**.\n",
    "\n",
    "\n",
    "\n",
    "**Example 1:**\n",
    "\n",
    "![](https://assets.leetcode.com/uploads/2020/10/05/insertbst.jpg)\n",
    "\n",
    "\n",
    "\n",
    "    Input: root = [4,2,7,1,3], val = 5\n",
    "    Output: [4,2,7,1,3,5]\n",
    "    Explanation: Another accepted tree is:\n",
    "    ![](https://assets.leetcode.com/uploads/2020/10/05/bst.jpg)\n",
    "\n",
    "\n",
    "**Example 2:**\n",
    "\n",
    "\n",
    "\n",
    "    Input: root = [40,20,60,10,30,50,70], val = 25\n",
    "    Output: [40,20,60,10,30,50,70,null,null,25]\n",
    "\n",
    "\n",
    "**Example 3:**\n",
    "\n",
    "\n",
    "\n",
    "    Input: root = [4,2,7,1,3,null,null,null,null,null,null], val = 5\n",
    "    Output: [4,2,7,1,3,5]\n",
    "\n",
    "\n",
    "\n",
    "\n",
    "**Constraints:**\n",
    "\n",
    "  * The number of nodes in the tree will be in the range `[0, 104]`.\n",
    "  * `-108 <= Node.val <= 108`\n",
    "  * All the values `Node.val` are **unique**.\n",
    "  * `-108 <= val <= 108`\n",
    "  * It's **guaranteed** that `val` does not exist in the original BST."
   ],
   "metadata": {}
  },
  {
   "outputs": [
    {
     "output_type": "execute_result",
     "data": {
      "text/plain": "insert_into_bst (generic function with 2 methods)"
     },
     "metadata": {},
     "execution_count": 1
    }
   ],
   "cell_type": "code",
   "source": [
    "# @lc code=start\n",
    "using LeetCode\n",
    "\n",
    "insert_into_bst(::Nothing, val::Int) = TreeNode(val)\n",
    "function insert_into_bst(root::TreeNode, val::Int)::TreeNode\n",
    "    if root.val > val\n",
    "        root.left = insert_into_bst(root.left, val)\n",
    "    else\n",
    "        root.right = insert_into_bst(root.right, val)\n",
    "    end\n",
    "    return root\n",
    "end\n",
    "\n",
    "# @lc code=end"
   ],
   "metadata": {},
   "execution_count": 1
  },
  {
   "cell_type": "markdown",
   "source": [
    "---\n",
    "\n",
    "*This notebook was generated using [Literate.jl](https://github.com/fredrikekre/Literate.jl).*"
   ],
   "metadata": {}
  }
 ],
 "nbformat_minor": 3,
 "metadata": {
  "language_info": {
   "file_extension": ".jl",
   "mimetype": "application/julia",
   "name": "julia",
   "version": "1.10.1"
  },
  "kernelspec": {
   "name": "julia-1.10",
   "display_name": "Julia 1.10.1",
   "language": "julia"
  }
 },
 "nbformat": 4
}
