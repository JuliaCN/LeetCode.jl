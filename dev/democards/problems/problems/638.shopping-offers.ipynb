{
 "cells": [
  {
   "cell_type": "markdown",
   "source": [
    "In LeetCode Store, there are some kinds of items to sell. Each item has a\n",
    "price.\n",
    "\n",
    "However, there are some special offers, and a special offer consists of one or\n",
    "more different kinds of items with a sale price.\n",
    "\n",
    "You are given the each item's price, a set of special offers, and the number\n",
    "we need to buy for each item. The job is to output the lowest price you have\n",
    "to pay for **exactly** certain items as given, where you could make optimal\n",
    "use of the special offers.\n",
    "\n",
    "Each special offer is represented in the form of an array, the last number\n",
    "represents the price you need to pay for this special offer, other numbers\n",
    "represents how many specific items you could get if you buy this offer.\n",
    "\n",
    "You could use any of special offers as many times as you want.\n",
    "\n",
    "**Example 1:**\n",
    "\n",
    "\n",
    "\n",
    "    Input: [2,5], [[3,0,5],[1,2,10]], [3,2]\n",
    "    Output: 14\n",
    "    Explanation:\n",
    "    There are two kinds of items, A and B. Their prices are /$/2 and /$/5 respectively.\n",
    "    In special offer 1, you can pay /$/5 for 3A and 0B\n",
    "    In special offer 2, you can pay /$/10 for 1A and 2B.\n",
    "    You need to buy 3A and 2B, so you may pay /$/10 for 1A and 2B (special offer #2), and /$/4 for 2A.\n",
    "\n",
    "\n",
    "**Example 2:**\n",
    "\n",
    "\n",
    "\n",
    "    Input: [2,3,4], [[1,1,0,4],[2,2,1,9]], [1,2,1]\n",
    "    Output: 11\n",
    "    Explanation:\n",
    "    The price of A is /$/2, and /$/3 for B, /$/4 for C.\n",
    "    You may pay /$/4 for 1A and 1B, and /$/9 for 2A ,2B and 1C.\n",
    "    You need to buy 1A ,2B and 1C, so you may pay /$/4 for 1A and 1B (special offer #1), and /$/3 for 1B, /$/4 for 1C.\n",
    "    You cannot add more items, though only /$/9 for 2A ,2B and 1C.\n",
    "\n",
    "\n",
    "**Note:**\n",
    "\n",
    "  1. There are at most 6 kinds of items, 100 special offers.\n",
    "  2. For each item, you need to buy at most 6 of them.\n",
    "  3. You are **not** allowed to buy more items than you want, even if that would lower the overall price."
   ],
   "metadata": {}
  },
  {
   "outputs": [
    {
     "output_type": "execute_result",
     "data": {
      "text/plain": "shopping_offers (generic function with 1 method)"
     },
     "metadata": {},
     "execution_count": 1
    }
   ],
   "cell_type": "code",
   "source": [
    "# @lc code=start\n",
    "using LeetCode\n",
    "\n",
    "function shopping_offers(price::Vector{Int}, special::Vector{Vector{Int}},\n",
    "                         needs::Vector{Int})\n",
    "    mp = Dict{NTuple{length(needs),Int},Int}()\n",
    "    function rec_search(needs::Vector{Int})\n",
    "        k = (needs...,)\n",
    "        mp[k] = price' * needs\n",
    "        for s in special\n",
    "            new_need = needs - @view(s[1:(end - 1)])\n",
    "            any(<(0), new_need) && continue\n",
    "            mp[k] = min(mp[k], rec_search(new_need) + s[end])\n",
    "        end\n",
    "        return mp[k]\n",
    "    end\n",
    "    return rec_search(needs)\n",
    "end\n",
    "# @lc code=end"
   ],
   "metadata": {},
   "execution_count": 1
  },
  {
   "cell_type": "markdown",
   "source": [
    "---\n",
    "\n",
    "*This notebook was generated using [Literate.jl](https://github.com/fredrikekre/Literate.jl).*"
   ],
   "metadata": {}
  }
 ],
 "nbformat_minor": 3,
 "metadata": {
  "language_info": {
   "file_extension": ".jl",
   "mimetype": "application/julia",
   "name": "julia",
   "version": "1.10.4"
  },
  "kernelspec": {
   "name": "julia-1.10",
   "display_name": "Julia 1.10.4",
   "language": "julia"
  }
 },
 "nbformat": 4
}
