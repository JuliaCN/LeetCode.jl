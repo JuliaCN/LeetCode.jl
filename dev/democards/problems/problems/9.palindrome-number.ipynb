{
 "cells": [
  {
   "cell_type": "markdown",
   "source": [
    "Determine whether an integer is a palindrome. An integer is a palindrome when\n",
    "it reads the same backward as forward.\n",
    "\n",
    "**Follow up:** Could you solve it without converting the integer to a string?\n",
    "\n",
    "\n",
    "\n",
    "**Example 1:**\n",
    "\n",
    "\n",
    "\n",
    "    Input: x = 121\n",
    "    Output: true\n",
    "\n",
    "\n",
    "**Example 2:**\n",
    "\n",
    "\n",
    "\n",
    "    Input: x = -121\n",
    "    Output: false\n",
    "    Explanation: From left to right, it reads -121. From right to left, it becomes 121-. Therefore it is not a palindrome.\n",
    "\n",
    "\n",
    "**Example 3:**\n",
    "\n",
    "\n",
    "\n",
    "    Input: x = 10\n",
    "    Output: false\n",
    "    Explanation: Reads 01 from right to left. Therefore it is not a palindrome.\n",
    "\n",
    "\n",
    "**Example 4:**\n",
    "\n",
    "\n",
    "\n",
    "    Input: x = -101\n",
    "    Output: false\n",
    "\n",
    "\n",
    "\n",
    "\n",
    "**Constraints:**\n",
    "\n",
    "  * `-231 <= x <= 231 - 1`"
   ],
   "metadata": {}
  },
  {
   "outputs": [
    {
     "output_type": "execute_result",
     "data": {
      "text/plain": "is_palindrome (generic function with 1 method)"
     },
     "metadata": {},
     "execution_count": 1
    }
   ],
   "cell_type": "code",
   "source": [
    "# @lc code=start\n",
    "using LeetCode\n",
    "\n",
    "function is_palindrome(x::Int)::Bool\n",
    "    if x < 0\n",
    "        false\n",
    "    else\n",
    "        y = x\n",
    "        y_reverse = 0\n",
    "        while y > 0\n",
    "            y, n = divrem(y, 10)\n",
    "            y_reverse = y_reverse * 10 + n\n",
    "        end\n",
    "        x == y_reverse\n",
    "    end\n",
    "end\n",
    "# @lc code=end"
   ],
   "metadata": {},
   "execution_count": 1
  },
  {
   "cell_type": "markdown",
   "source": [
    "---\n",
    "\n",
    "*This notebook was generated using [Literate.jl](https://github.com/fredrikekre/Literate.jl).*"
   ],
   "metadata": {}
  }
 ],
 "nbformat_minor": 3,
 "metadata": {
  "language_info": {
   "file_extension": ".jl",
   "mimetype": "application/julia",
   "name": "julia",
   "version": "1.7.2"
  },
  "kernelspec": {
   "name": "julia-1.7",
   "display_name": "Julia 1.7.2",
   "language": "julia"
  }
 },
 "nbformat": 4
}
