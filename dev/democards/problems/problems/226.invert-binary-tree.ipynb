{
 "cells": [
  {
   "cell_type": "markdown",
   "source": [
    "Invert a binary tree.\n",
    "\n",
    "**Example:**\n",
    "\n",
    "Input:\n",
    "\n",
    "\n",
    "\n",
    "         4\n",
    "       /   \\\n",
    "      2     7\n",
    "     / \\   / \\\n",
    "    1   3 6   9\n",
    "\n",
    "Output:\n",
    "\n",
    "\n",
    "\n",
    "         4\n",
    "       /   \\\n",
    "      7     2\n",
    "     / \\   / \\\n",
    "    9   6 3   1\n",
    "\n",
    "**Trivia:**\n",
    "This problem was inspired by [this original\n",
    "tweet](https://twitter.com/mxcl/status/608682016205344768) by [Max\n",
    "Howell](https://twitter.com/mxcl):\n",
    "\n",
    "> Google: 90% of our engineers use the software you wrote (Homebrew), but you\n",
    "> can't invert a binary tree on a whiteboard so f*** off."
   ],
   "metadata": {}
  },
  {
   "outputs": [
    {
     "output_type": "execute_result",
     "data": {
      "text/plain": "invert_tree! (generic function with 1 method)"
     },
     "metadata": {},
     "execution_count": 1
    }
   ],
   "cell_type": "code",
   "source": [
    "# @lc code=start\n",
    "using LeetCode\n",
    "\n",
    "function invert_tree!(root::Union{TreeNode{Int},Nothing})::Union{TreeNode,Nothing}\n",
    "    isnothing(root) && return nothing\n",
    "    queue = [root]\n",
    "    while !isempty(queue)\n",
    "        node = popfirst!(queue)\n",
    "        if !isnothing(node.left)\n",
    "            push!(queue, node.left)\n",
    "        end\n",
    "        if !isnothing(node.right)\n",
    "            push!(queue, node.right)\n",
    "        end\n",
    "        node.left, node.right = node.right, node.left\n",
    "    end\n",
    "    return root\n",
    "end\n",
    "# @lc code=end"
   ],
   "metadata": {},
   "execution_count": 1
  },
  {
   "cell_type": "markdown",
   "source": [
    "---\n",
    "\n",
    "*This notebook was generated using [Literate.jl](https://github.com/fredrikekre/Literate.jl).*"
   ],
   "metadata": {}
  }
 ],
 "nbformat_minor": 3,
 "metadata": {
  "language_info": {
   "file_extension": ".jl",
   "mimetype": "application/julia",
   "name": "julia",
   "version": "1.8.2"
  },
  "kernelspec": {
   "name": "julia-1.8",
   "display_name": "Julia 1.8.2",
   "language": "julia"
  }
 },
 "nbformat": 4
}
