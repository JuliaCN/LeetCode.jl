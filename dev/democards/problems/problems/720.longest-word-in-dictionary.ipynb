{
 "cells": [
  {
   "cell_type": "markdown",
   "source": [
    "Given a list of strings `words` representing an English Dictionary, find the\n",
    "longest word in `words` that can be built one character at a time by other\n",
    "words in `words`. If there is more than one possible answer, return the\n",
    "longest word with the smallest lexicographical order.\n",
    "\n",
    "If there is no answer, return the empty string.\n",
    "\n",
    "**Example 1:**\n",
    "\n",
    "\n",
    "\n",
    "    Input:\n",
    "    words = [\"w\",\"wo\",\"wor\",\"worl\", \"world\"]\n",
    "    Output: \"world\"\n",
    "    Explanation:\n",
    "    The word \"world\" can be built one character at a time by \"w\", \"wo\", \"wor\", and \"worl\".\n",
    "\n",
    "\n",
    "**Example 2:**\n",
    "\n",
    "\n",
    "\n",
    "    Input:\n",
    "    words = [\"a\", \"banana\", \"app\", \"appl\", \"ap\", \"apply\", \"apple\"]\n",
    "    Output: \"apple\"\n",
    "    Explanation:\n",
    "    Both \"apply\" and \"apple\" can be built from other words in the dictionary. However, \"apple\" is lexicographically smaller than \"apply\".\n",
    "\n",
    "\n",
    "**Note:**\n",
    "\n",
    "* All the strings in the input will only contain lowercase letters.\n",
    "* The length of `words` will be in the range `[1, 1000]`.\n",
    "* The length of `words[i]` will be in the range `[1, 30]`."
   ],
   "metadata": {}
  },
  {
   "outputs": [
    {
     "output_type": "execute_result",
     "data": {
      "text/plain": "longest_common_word! (generic function with 1 method)"
     },
     "metadata": {},
     "execution_count": 1
    }
   ],
   "cell_type": "code",
   "source": [
    "# @lc code=start\n",
    "using LeetCode\n",
    "\n",
    "# use Trie\n",
    "longest_common_word(words::Vector{String}) = longest_common_word!(words)\n",
    "function longest_common_word!(words::Vector{String})::String\n",
    "    root, res = Dict{Char,Dict}(), \"\"\n",
    "    for word in sort!(words; by=length)\n",
    "        node, n = root, length(word)\n",
    "        for (i, c) in enumerate(word)\n",
    "            if haskey(node, c)\n",
    "                node = node[c]\n",
    "            elseif i == n\n",
    "                node[c] = Dict{Char,Dict}() ## add new child\n",
    "                res = word\n",
    "            else\n",
    "                break\n",
    "            end\n",
    "        end\n",
    "    end\n",
    "    return res\n",
    "end\n",
    "\n",
    "# @lc code=end"
   ],
   "metadata": {},
   "execution_count": 1
  },
  {
   "cell_type": "markdown",
   "source": [
    "---\n",
    "\n",
    "*This notebook was generated using [Literate.jl](https://github.com/fredrikekre/Literate.jl).*"
   ],
   "metadata": {}
  }
 ],
 "nbformat_minor": 3,
 "metadata": {
  "language_info": {
   "file_extension": ".jl",
   "mimetype": "application/julia",
   "name": "julia",
   "version": "1.7.2"
  },
  "kernelspec": {
   "name": "julia-1.7",
   "display_name": "Julia 1.7.2",
   "language": "julia"
  }
 },
 "nbformat": 4
}
