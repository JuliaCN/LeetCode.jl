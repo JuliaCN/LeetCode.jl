{
 "cells": [
  {
   "cell_type": "markdown",
   "source": [
    "Given an integer, return its base 7 string representation.\n",
    "\n",
    "**Example 1:**\n",
    "\n",
    "\n",
    "\n",
    "    Input: 100\n",
    "    Output: \"202\"\n",
    "\n",
    "\n",
    "**Example 2:**\n",
    "\n",
    "\n",
    "\n",
    "    Input: -7\n",
    "    Output: \"-10\"\n",
    "\n",
    "\n",
    "**Note:** The input will be in range of [-1e7, 1e7]."
   ],
   "metadata": {}
  },
  {
   "outputs": [
    {
     "output_type": "execute_result",
     "data": {
      "text/plain": "convert_to_base7 (generic function with 1 method)"
     },
     "metadata": {},
     "execution_count": 1
    }
   ],
   "cell_type": "code",
   "source": [
    "# @lc code=start\n",
    "using LeetCode\n",
    "\n",
    "function convert_to_base7(num::Int)::String\n",
    "    num == 0 && return \"0\"\n",
    "    sign = num < 0 ? -1 : 1\n",
    "    num *= sign\n",
    "    res = Int[]\n",
    "    while num > 0\n",
    "        push!(res, num % 7)\n",
    "        num ÷= 7\n",
    "    end\n",
    "    reverse!(res)\n",
    "    return sign != -1 ? join(res) : \"-\" * join(res)\n",
    "end\n",
    "\n",
    "# @lc code=end"
   ],
   "metadata": {},
   "execution_count": 1
  },
  {
   "cell_type": "markdown",
   "source": [
    "---\n",
    "\n",
    "*This notebook was generated using [Literate.jl](https://github.com/fredrikekre/Literate.jl).*"
   ],
   "metadata": {}
  }
 ],
 "nbformat_minor": 3,
 "metadata": {
  "language_info": {
   "file_extension": ".jl",
   "mimetype": "application/julia",
   "name": "julia",
   "version": "1.8.0"
  },
  "kernelspec": {
   "name": "julia-1.8",
   "display_name": "Julia 1.8.0",
   "language": "julia"
  }
 },
 "nbformat": 4
}
