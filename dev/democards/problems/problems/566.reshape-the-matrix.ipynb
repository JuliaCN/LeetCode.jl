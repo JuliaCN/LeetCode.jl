{
 "cells": [
  {
   "cell_type": "markdown",
   "source": [
    "In MATLAB, there is a very useful function called 'reshape', which can reshape\n",
    "a matrix into a new one with different size but keep its original data.\n",
    "\n",
    "You're given a matrix represented by a two-dimensional array, and two\n",
    "**positive** integers **r** and **c** representing the **row** number and\n",
    "**column** number of the wanted reshaped matrix, respectively.\n",
    "\n",
    "The reshaped matrix need to be filled with all the elements of the original\n",
    "matrix in the same **row-traversing** order as they were.\n",
    "\n",
    "If the 'reshape' operation with given parameters is possible and legal, output\n",
    "the new reshaped matrix; Otherwise, output the original matrix.\n",
    "\n",
    "**Example 1:**\n",
    "\n",
    "\n",
    "\n",
    "    Input:\n",
    "    nums =\n",
    "    [[1,2],\n",
    "     [3,4]]\n",
    "    r = 1, c = 4\n",
    "    Output:\n",
    "    [[1,2,3,4]]\n",
    "    Explanation:\n",
    "     The **row-traversing** of nums is [1,2,3,4]. The new reshaped matrix is a 1 * 4 matrix, fill it row by row by using the previous list.\n",
    "\n",
    "\n",
    "**Example 2:**\n",
    "\n",
    "\n",
    "\n",
    "    Input:\n",
    "    nums =\n",
    "    [[1,2],\n",
    "     [3,4]]\n",
    "    r = 2, c = 4\n",
    "    Output:\n",
    "    [[1,2],\n",
    "     [3,4]]\n",
    "    Explanation:\n",
    "     There is no way to reshape a 2 * 2 matrix to a 2 * 4 matrix. So output the original matrix.\n",
    "\n",
    "\n",
    "**Note:**\n",
    "\n",
    "  1. The height and width of the given matrix is in range [1, 100].\n",
    "  2. The given r and c are all positive."
   ],
   "metadata": {}
  },
  {
   "outputs": [
    {
     "output_type": "execute_result",
     "data": {
      "text/plain": "matrixReshape (generic function with 1 method)"
     },
     "metadata": {},
     "execution_count": 1
    }
   ],
   "cell_type": "code",
   "source": [
    "# @lc code=start\n",
    "using LeetCode\n",
    "\n",
    "function matrixReshape(nums::Vector{Vector{Int}}, r::Int, c::Int)\n",
    "    m, n = length(nums), length(nums[1])\n",
    "\n",
    "    m * n != r * c && return nums\n",
    "\n",
    "    ans = [[0 for _ in 1:c] for _ in 1:r]\n",
    "\n",
    "    for x in 0:(m * n - 1)\n",
    "        ans[x ÷ c + 1][(x % c) + 1] = nums[x ÷ n + 1][(x % n) + 1]\n",
    "    end\n",
    "\n",
    "    return ans\n",
    "end\n",
    "\n",
    "# @lc code=end"
   ],
   "metadata": {},
   "execution_count": 1
  },
  {
   "cell_type": "markdown",
   "source": [
    "---\n",
    "\n",
    "*This notebook was generated using [Literate.jl](https://github.com/fredrikekre/Literate.jl).*"
   ],
   "metadata": {}
  }
 ],
 "nbformat_minor": 3,
 "metadata": {
  "language_info": {
   "file_extension": ".jl",
   "mimetype": "application/julia",
   "name": "julia",
   "version": "1.8.0"
  },
  "kernelspec": {
   "name": "julia-1.8",
   "display_name": "Julia 1.8.0",
   "language": "julia"
  }
 },
 "nbformat": 4
}
