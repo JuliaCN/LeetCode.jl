{
 "cells": [
  {
   "cell_type": "markdown",
   "source": [
    "You have a long flowerbed in which some of the plots are planted, and some are\n",
    "not. However, flowers cannot be planted in **adjacent** plots.\n",
    "\n",
    "Given an integer array `flowerbed` containing `0`'s and `1`'s, where `0` means\n",
    "empty and `1` means not empty, and an integer `n`, return _if_ `n` new flowers\n",
    "can be planted in the `flowerbed` without violating the no-adjacent-flowers\n",
    "rule.\n",
    "\n",
    "\n",
    "\n",
    "**Example 1:**\n",
    "\n",
    "\n",
    "\n",
    "    Input: flowerbed = [1,0,0,0,1], n = 1\n",
    "    Output: true\n",
    "\n",
    "\n",
    "**Example 2:**\n",
    "\n",
    "\n",
    "\n",
    "    Input: flowerbed = [1,0,0,0,1], n = 2\n",
    "    Output: false\n",
    "\n",
    "\n",
    "\n",
    "\n",
    "**Constraints:**\n",
    "\n",
    "  * `1 <= flowerbed.length <= 2 * 104`\n",
    "  * `flowerbed[i]` is `0` or `1`.\n",
    "  * There are no two adjacent flowers in `flowerbed`.\n",
    "  * `0 <= n <= flowerbed.length`"
   ],
   "metadata": {}
  },
  {
   "outputs": [
    {
     "output_type": "execute_result",
     "data": {
      "text/plain": "min_startvalue (generic function with 1 method)"
     },
     "metadata": {},
     "execution_count": 1
    }
   ],
   "cell_type": "code",
   "source": [
    "# @lc code=start\n",
    "using LeetCode\n",
    "\n",
    "function min_startvalue(nums::Vector{Int})\n",
    "    total = mintotal = 0\n",
    "    for num in nums\n",
    "        total += num\n",
    "        mintotal = min(mintotal, total)\n",
    "    end\n",
    "    return 1 - min(0, mintotal)\n",
    "end\n",
    "# @lc code=end"
   ],
   "metadata": {},
   "execution_count": 1
  },
  {
   "cell_type": "markdown",
   "source": [
    "---\n",
    "\n",
    "*This notebook was generated using [Literate.jl](https://github.com/fredrikekre/Literate.jl).*"
   ],
   "metadata": {}
  }
 ],
 "nbformat_minor": 3,
 "metadata": {
  "language_info": {
   "file_extension": ".jl",
   "mimetype": "application/julia",
   "name": "julia",
   "version": "1.8.0"
  },
  "kernelspec": {
   "name": "julia-1.8",
   "display_name": "Julia 1.8.0",
   "language": "julia"
  }
 },
 "nbformat": 4
}
