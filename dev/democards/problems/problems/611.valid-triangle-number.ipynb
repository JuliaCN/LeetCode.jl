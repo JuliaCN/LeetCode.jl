{
 "cells": [
  {
   "cell_type": "markdown",
   "source": [
    "Given an array consists of non-negative integers, your task is to count the\n",
    "number of triplets chosen from the array that can make triangles if we take\n",
    "them as side lengths of a triangle.\n",
    "\n",
    "**Example 1:**\n",
    "\n",
    "\n",
    "\n",
    "    Input: [2,2,3,4]\n",
    "    Output: 3\n",
    "    Explanation:\n",
    "    Valid combinations are:\n",
    "    2,3,4 (using the first 2)\n",
    "    2,3,4 (using the second 2)\n",
    "    2,2,3\n",
    "\n",
    "\n",
    "**Note:**\n",
    "\n",
    "  1. The length of the given array won't exceed 1000.\n",
    "  2. The integers in the given array are in the range of [0, 1000]."
   ],
   "metadata": {}
  },
  {
   "outputs": [
    {
     "output_type": "execute_result",
     "data": {
      "text/plain": "triangle_number (generic function with 1 method)"
     },
     "metadata": {},
     "execution_count": 1
    }
   ],
   "cell_type": "code",
   "source": [
    "# @lc code=start\n",
    "using LeetCode\n",
    "\n",
    "function triangle_number(nums::Vector{Int})\n",
    "    res, len = 0, length(nums)\n",
    "    sort!(nums)\n",
    "    @inbounds for i in 1:len-2\n",
    "        nums[i] == 0 && continue\n",
    "        k = i + 2\n",
    "        for j in i+1:len-1\n",
    "            while k <= len && nums[i] + nums[j] > nums[k]; k += 1; end\n",
    "            res += k - j - 1\n",
    "        end\n",
    "    end\n",
    "    return res\n",
    "end\n",
    "# @lc code=end"
   ],
   "metadata": {},
   "execution_count": 1
  },
  {
   "cell_type": "markdown",
   "source": [
    "---\n",
    "\n",
    "*This notebook was generated using [Literate.jl](https://github.com/fredrikekre/Literate.jl).*"
   ],
   "metadata": {}
  }
 ],
 "nbformat_minor": 3,
 "metadata": {
  "language_info": {
   "file_extension": ".jl",
   "mimetype": "application/julia",
   "name": "julia",
   "version": "1.8.2"
  },
  "kernelspec": {
   "name": "julia-1.8",
   "display_name": "Julia 1.8.2",
   "language": "julia"
  }
 },
 "nbformat": 4
}
