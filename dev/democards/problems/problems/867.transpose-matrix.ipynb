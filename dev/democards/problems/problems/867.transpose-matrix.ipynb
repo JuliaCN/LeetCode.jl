{
 "cells": [
  {
   "cell_type": "markdown",
   "source": [
    "Given a matrix `A`, return the transpose of `A`.\n",
    "\n",
    "The transpose of a matrix is the matrix flipped over it's main diagonal,\n",
    "switching the row and column indices of the matrix.\n",
    "\n",
    "\n",
    "![](https://assets.leetcode.com/uploads/2019/10/20/hint_transpose.png)\n",
    "\n",
    "\n",
    "\n",
    "**Example 1:**\n",
    "\n",
    "\n",
    "\n",
    "    Input: [[1,2,3],[4,5,6],[7,8,9]]\n",
    "    Output: [[1,4,7],[2,5,8],[3,6,9]]\n",
    "\n",
    "\n",
    "**Example 2:**\n",
    "\n",
    "\n",
    "\n",
    "    Input: [[1,2,3],[4,5,6]]\n",
    "    Output: [[1,4],[2,5],[3,6]]\n",
    "\n",
    "\n",
    "\n",
    "\n",
    "**Note:**\n",
    "\n",
    "  1. `1 <= A.length <= 1000`\n",
    "  2. `1 <= A[0].length <= 1000`"
   ],
   "metadata": {}
  },
  {
   "outputs": [
    {
     "output_type": "execute_result",
     "data": {
      "text/plain": "transpose_matrix (generic function with 1 method)"
     },
     "metadata": {},
     "execution_count": 1
    }
   ],
   "cell_type": "code",
   "source": [
    "# @lc code=start\n",
    "using LeetCode\n",
    "\n",
    "function transpose_matrix(matrix::Vector{Vector{Int}})::Vector{Vector{Int}}\n",
    "    m, n = length(matrix), length(matrix[1])\n",
    "\n",
    "    transpose_mat = [[0 for _ = 1:m] for _ = 1:n]\n",
    "\n",
    "    for i = 1:m, j = 1:n\n",
    "        transpose_mat[j][i] = matrix[i][j]\n",
    "    end\n",
    "\n",
    "    return transpose_mat\n",
    "end\n",
    "# @lc code=end"
   ],
   "metadata": {},
   "execution_count": 1
  },
  {
   "cell_type": "markdown",
   "source": [
    "---\n",
    "\n",
    "*This notebook was generated using [Literate.jl](https://github.com/fredrikekre/Literate.jl).*"
   ],
   "metadata": {}
  }
 ],
 "nbformat_minor": 3,
 "metadata": {
  "language_info": {
   "file_extension": ".jl",
   "mimetype": "application/julia",
   "name": "julia",
   "version": "1.6.1"
  },
  "kernelspec": {
   "name": "julia-1.6",
   "display_name": "Julia 1.6.1",
   "language": "julia"
  }
 },
 "nbformat": 4
}
