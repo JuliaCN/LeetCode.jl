{
 "cells": [
  {
   "cell_type": "markdown",
   "source": [
    "Given a collection of numbers, `nums`, that might contain duplicates, return\n",
    "_all possible unique permutations **in any order**._\n",
    "\n",
    "\n",
    "\n",
    "**Example 1:**\n",
    "\n",
    "\n",
    "\n",
    "    Input: nums = [1,1,2]\n",
    "    Output:\n",
    "    [[1,1,2],\n",
    "     [1,2,1],\n",
    "     [2,1,1]]\n",
    "\n",
    "\n",
    "**Example 2:**\n",
    "\n",
    "\n",
    "\n",
    "    Input: nums = [1,2,3]\n",
    "    Output: [[1,2,3],[1,3,2],[2,1,3],[2,3,1],[3,1,2],[3,2,1]]\n",
    "\n",
    "\n",
    "\n",
    "\n",
    "**Constraints:**\n",
    "\n",
    "  * `1 <= nums.length <= 8`\n",
    "  * `-10 <= nums[i] <= 10`"
   ],
   "metadata": {}
  },
  {
   "outputs": [
    {
     "output_type": "execute_result",
     "data": {
      "text/plain": "permutationII (generic function with 1 method)"
     },
     "metadata": {},
     "execution_count": 1
    }
   ],
   "cell_type": "code",
   "source": [
    "# @lc code=start\n",
    "using LeetCode\n",
    "\n",
    "function permutationII(nums::Vector{Int})::Vector{Vector{Int}}\n",
    "    res = Vector{Vector{Int}}()\n",
    "    n = length(nums)\n",
    "    function dfs(nums::Vector{Int}, path::Vector{Int}, used::Vector{Bool})\n",
    "        if length(path) == n\n",
    "            push!(res, copy(path))\n",
    "            return nothing\n",
    "        end\n",
    "        @inbounds for i in 1:n\n",
    "            if used[i] || (i > 1 && nums[i] == nums[i - 1] && !used[i - 1])\n",
    "                continue\n",
    "            end\n",
    "            push!(path, nums[i])\n",
    "            used[i] = true\n",
    "            dfs(nums, path, used)\n",
    "            pop!(path)\n",
    "            used[i] = false\n",
    "        end\n",
    "    end\n",
    "    sort!(nums)\n",
    "    dfs(nums, Vector{Int}(), fill(false, n))\n",
    "    return res\n",
    "end\n",
    "# @lc code=end"
   ],
   "metadata": {},
   "execution_count": 1
  },
  {
   "cell_type": "markdown",
   "source": [
    "---\n",
    "\n",
    "*This notebook was generated using [Literate.jl](https://github.com/fredrikekre/Literate.jl).*"
   ],
   "metadata": {}
  }
 ],
 "nbformat_minor": 3,
 "metadata": {
  "language_info": {
   "file_extension": ".jl",
   "mimetype": "application/julia",
   "name": "julia",
   "version": "1.10.4"
  },
  "kernelspec": {
   "name": "julia-1.10",
   "display_name": "Julia 1.10.4",
   "language": "julia"
  }
 },
 "nbformat": 4
}
