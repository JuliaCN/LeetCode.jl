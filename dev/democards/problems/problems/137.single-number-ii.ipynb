{
 "cells": [
  {
   "cell_type": "markdown",
   "source": [
    "Given an integer array `nums` where every element appears **three times**\n",
    "except for one, which appears **exactly once**. _Find the single element and\n",
    "return it_.\n",
    "\n",
    "\n",
    "\n",
    "**Example 1:**\n",
    "\n",
    "\n",
    "\n",
    "    Input: nums = [2,2,3,2]\n",
    "    Output: 3\n",
    "\n",
    "\n",
    "**Example 2:**\n",
    "\n",
    "\n",
    "\n",
    "    Input: nums = [0,1,0,1,0,1,99]\n",
    "    Output: 99\n",
    "\n",
    "\n",
    "\n",
    "\n",
    "**Constraints:**\n",
    "\n",
    "  * `1 <= nums.length <= 3 * 104`\n",
    "  * `-231 <= nums[i] <= 231 - 1`\n",
    "  * Each element in `nums` appears exactly **three times** except for one element which appears **once**.\n",
    "\n",
    "\n",
    "\n",
    "**Follow up:**  Your algorithm should have a linear runtime complexity. Could\n",
    "you implement it without using extra memory?"
   ],
   "metadata": {}
  },
  {
   "outputs": [
    {
     "output_type": "execute_result",
     "data": {
      "text/plain": "single_number (generic function with 1 method)"
     },
     "metadata": {},
     "execution_count": 1
    }
   ],
   "cell_type": "code",
   "source": [
    "# @lc code=start\n",
    "using LeetCode\n",
    "\n",
    "function single_number(nums::Vector{Int})::Int\n",
    "    a, b = 0, 0\n",
    "    for num in nums\n",
    "        b = (b ⊻ num) & ~a\n",
    "        a = (a ⊻ num) & ~b\n",
    "    end\n",
    "    return b\n",
    "end\n",
    "# @lc code=end"
   ],
   "metadata": {},
   "execution_count": 1
  },
  {
   "cell_type": "markdown",
   "source": [
    "---\n",
    "\n",
    "*This notebook was generated using [Literate.jl](https://github.com/fredrikekre/Literate.jl).*"
   ],
   "metadata": {}
  }
 ],
 "nbformat_minor": 3,
 "metadata": {
  "language_info": {
   "file_extension": ".jl",
   "mimetype": "application/julia",
   "name": "julia",
   "version": "1.10.4"
  },
  "kernelspec": {
   "name": "julia-1.10",
   "display_name": "Julia 1.10.4",
   "language": "julia"
  }
 },
 "nbformat": 4
}
