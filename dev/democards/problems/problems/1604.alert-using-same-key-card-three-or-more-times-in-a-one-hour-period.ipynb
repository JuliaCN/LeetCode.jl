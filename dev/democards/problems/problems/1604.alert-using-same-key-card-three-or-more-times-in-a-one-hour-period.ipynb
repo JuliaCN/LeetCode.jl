{
 "cells": [
  {
   "cell_type": "markdown",
   "source": [
    "LeetCode company workers use key-cards to unlock office doors. Each time a\n",
    "worker uses their key-card, the security system saves the worker's name and\n",
    "the time when it was used. The system emits an **alert** if any worker uses\n",
    "the key-card **three or more times** in a one-hour period.\n",
    "\n",
    "You are given a list of strings `keyName` and `keyTime` where `[keyName[i],\n",
    "keyTime[i]]` corresponds to a person's name and the time when their key-card\n",
    "was used **in a** **single day**.\n",
    "\n",
    "Access times are given in the **24-hour time format \"HH:MM\"**, such as\n",
    "`\"23:51\"` and `\"09:49\"`.\n",
    "\n",
    "Return a _list of unique worker names who received an alert for frequent\n",
    "keycard use_. Sort the names in **ascending order alphabetically**.\n",
    "\n",
    "Notice that `\"10:00\"` \\- `\"11:00\"` is considered to be within a one-hour\n",
    "period, while `\"22:51\"` \\- `\"23:52\"` is not considered to be within a one-hour\n",
    "period.\n",
    "\n",
    "\n",
    "\n",
    "**Example 1:**\n",
    "\n",
    "\n",
    "\n",
    "    Input: keyName = [\"daniel\",\"daniel\",\"daniel\",\"luis\",\"luis\",\"luis\",\"luis\"], keyTime = [\"10:00\",\"10:40\",\"11:00\",\"09:00\",\"11:00\",\"13:00\",\"15:00\"]\n",
    "    Output: [\"daniel\"]\n",
    "    Explanation: \"daniel\" used the keycard 3 times in a one-hour period (\"10:00\",\"10:40\", \"11:00\").\n",
    "\n",
    "\n",
    "**Example 2:**\n",
    "\n",
    "\n",
    "\n",
    "    Input: keyName = [\"alice\",\"alice\",\"alice\",\"bob\",\"bob\",\"bob\",\"bob\"], keyTime = [\"12:01\",\"12:00\",\"18:00\",\"21:00\",\"21:20\",\"21:30\",\"23:00\"]\n",
    "    Output: [\"bob\"]\n",
    "    Explanation: \"bob\" used the keycard 3 times in a one-hour period (\"21:00\",\"21:20\", \"21:30\").\n",
    "\n",
    "\n",
    "**Example 3:**\n",
    "\n",
    "\n",
    "\n",
    "    Input: keyName = [\"john\",\"john\",\"john\"], keyTime = [\"23:58\",\"23:59\",\"00:01\"]\n",
    "    Output: []\n",
    "\n",
    "\n",
    "**Example 4:**\n",
    "\n",
    "\n",
    "\n",
    "    Input: keyName = [\"leslie\",\"leslie\",\"leslie\",\"clare\",\"clare\",\"clare\",\"clare\"], keyTime = [\"13:00\",\"13:20\",\"14:00\",\"18:00\",\"18:51\",\"19:30\",\"19:49\"]\n",
    "    Output: [\"clare\",\"leslie\"]\n",
    "\n",
    "\n",
    "\n",
    "\n",
    "**Constraints:**\n",
    "\n",
    "  * `1 <= keyName.length, keyTime.length <= 105`\n",
    "  * `keyName.length == keyTime.length`\n",
    "  * `keyTime[i]` is in the format **\" HH:MM\"**.\n",
    "  * `[keyName[i], keyTime[i]]` is **unique**.\n",
    "  * `1 <= keyName[i].length <= 10`\n",
    "  * `keyName[i] contains only lowercase English letters.`"
   ],
   "metadata": {}
  },
  {
   "outputs": [
    {
     "output_type": "execute_result",
     "data": {
      "text/plain": "alert_names (generic function with 1 method)"
     },
     "metadata": {},
     "execution_count": 1
    }
   ],
   "cell_type": "code",
   "source": [
    "# @lc code=start\n",
    "using LeetCode\n",
    "using Dates\n",
    "\n",
    "function alert_names(key_name::Vector{String}, key_time::Vector{String})\n",
    "    res = Vector{String}()\n",
    "    mp = Dict{String,Vector{Time}}()\n",
    "    for (idx, name) in enumerate(key_name)\n",
    "        if !haskey(mp, name)\n",
    "            mp[name] = String[]\n",
    "        end\n",
    "        push!(mp[name], Time(key_time[idx]))\n",
    "    end\n",
    "    for (name, time) in mp\n",
    "        sort!(time)\n",
    "        for idx in 1:(length(time) - 2)\n",
    "            time1h = time[idx] + Hour(1)\n",
    "            if time[idx + 1] <= time1h && time[idx + 2] <= time1h\n",
    "                push!(res, name)\n",
    "                break\n",
    "            end\n",
    "        end\n",
    "    end\n",
    "    return sort!(res)\n",
    "end\n",
    "\n",
    "# add your code here:\n",
    "# @lc code=end"
   ],
   "metadata": {},
   "execution_count": 1
  },
  {
   "cell_type": "markdown",
   "source": [
    "---\n",
    "\n",
    "*This notebook was generated using [Literate.jl](https://github.com/fredrikekre/Literate.jl).*"
   ],
   "metadata": {}
  }
 ],
 "nbformat_minor": 3,
 "metadata": {
  "language_info": {
   "file_extension": ".jl",
   "mimetype": "application/julia",
   "name": "julia",
   "version": "1.7.0"
  },
  "kernelspec": {
   "name": "julia-1.7",
   "display_name": "Julia 1.7.0",
   "language": "julia"
  }
 },
 "nbformat": 4
}
