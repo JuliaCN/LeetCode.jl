{
 "cells": [
  {
   "cell_type": "markdown",
   "source": [
    "Return the result of evaluating a given boolean `expression`, represented as a\n",
    "string.\n",
    "\n",
    "An expression can either be:\n",
    "\n",
    "  * `\"t\"`, evaluating to `True`;\n",
    "  * `\"f\"`, evaluating to `False`;\n",
    "  * `\"!(expr)\"`, evaluating to the logical NOT of the inner expression `expr`;\n",
    "  * `\"&(expr1,expr2,...)\"`, evaluating to the logical AND of 2 or more inner expressions `expr1, expr2, ...`;\n",
    "  * `\"|(expr1,expr2,...)\"`, evaluating to the logical OR of 2 or more inner expressions `expr1, expr2, ...`\n",
    "\n",
    "\n",
    "\n",
    "**Example 1:**\n",
    "\n",
    "\n",
    "\n",
    "    Input: expression = \"!(f)\"\n",
    "    Output: true\n",
    "\n",
    "\n",
    "**Example 2:**\n",
    "\n",
    "\n",
    "\n",
    "    Input: expression = \"|(f,t)\"\n",
    "    Output: true\n",
    "\n",
    "\n",
    "**Example 3:**\n",
    "\n",
    "\n",
    "\n",
    "    Input: expression = \"&(t,f)\"\n",
    "    Output: false\n",
    "\n",
    "\n",
    "**Example 4:**\n",
    "\n",
    "\n",
    "\n",
    "    Input: expression = \"|(&(t,f,t),!(t))\"\n",
    "    Output: false\n",
    "\n",
    "\n",
    "\n",
    "\n",
    "**Constraints:**\n",
    "\n",
    "  * `1 <= expression.length <= 20000`\n",
    "  * `expression[i]` consists of characters in `{'(', ')', '&', '|', '!', 't', 'f', ','}`.\n",
    "  * `expression` is a valid expression representing a boolean, as given in the description."
   ],
   "metadata": {}
  },
  {
   "outputs": [
    {
     "output_type": "execute_result",
     "data": {
      "text/plain": "parse_bool_expr (generic function with 1 method)"
     },
     "metadata": {},
     "execution_count": 1
    }
   ],
   "cell_type": "code",
   "source": [
    "# @lc code=start\n",
    "using LeetCode\n",
    "\n",
    "function parse_bool_expr(expr::String)\n",
    "    operations = Char[]\n",
    "    operands = Char[]\n",
    "    for ch in expr\n",
    "        if ch == '!' || ch == '&' || ch == '|'\n",
    "            push!(operations, ch)\n",
    "        elseif ch == ')'\n",
    "            cur_oprs = Char[]\n",
    "            while operands[end] != '('\n",
    "                push!(cur_oprs, pop!(operands))\n",
    "            end\n",
    "            pop!(operands)\n",
    "            op = pop!(operations)\n",
    "            rs = true\n",
    "            if op == '|'\n",
    "                rs = any(==('t'), cur_oprs)\n",
    "            elseif op == '&'\n",
    "                rs = all(==('t'), cur_oprs)\n",
    "            else\n",
    "                rs = cur_oprs[1] != 't'\n",
    "            end\n",
    "            push!(operands, rs ? 't' : 'f')\n",
    "        elseif ch != ','\n",
    "            push!(operands, ch)\n",
    "        end\n",
    "    end\n",
    "    return operands[1] == 't' ? true : false\n",
    "end\n",
    "# @lc code=end"
   ],
   "metadata": {},
   "execution_count": 1
  },
  {
   "cell_type": "markdown",
   "source": [
    "---\n",
    "\n",
    "*This notebook was generated using [Literate.jl](https://github.com/fredrikekre/Literate.jl).*"
   ],
   "metadata": {}
  }
 ],
 "nbformat_minor": 3,
 "metadata": {
  "language_info": {
   "file_extension": ".jl",
   "mimetype": "application/julia",
   "name": "julia",
   "version": "1.8.2"
  },
  "kernelspec": {
   "name": "julia-1.8",
   "display_name": "Julia 1.8.2",
   "language": "julia"
  }
 },
 "nbformat": 4
}
