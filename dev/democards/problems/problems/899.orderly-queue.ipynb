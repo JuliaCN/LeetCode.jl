{
 "cells": [
  {
   "cell_type": "markdown",
   "source": [
    "A string `S` of lowercase letters is given.  Then, we may make any number of\n",
    "_moves_.\n",
    "\n",
    "In each move, we choose one of the first `K` letters (starting from the left),\n",
    "remove it, and place it at the end of the string.\n",
    "\n",
    "Return the lexicographically smallest string we could have after any number of\n",
    "moves.\n",
    "\n",
    "\n",
    "\n",
    "**Example 1:**\n",
    "\n",
    "\n",
    "\n",
    "    Input: S = \"cba\", K = 1\n",
    "    Output: \"acb\"\n",
    "    Explanation:\n",
    "    In the first move, we move the 1st character (\"c\") to the end, obtaining the string \"bac\".\n",
    "    In the second move, we move the 1st character (\"b\") to the end, obtaining the final result \"acb\".\n",
    "\n",
    "\n",
    "**Example 2:**\n",
    "\n",
    "\n",
    "\n",
    "    Input: S = \"baaca\", K = 3\n",
    "    Output: \"aaabc\"\n",
    "    Explanation:\n",
    "    In the first move, we move the 1st character (\"b\") to the end, obtaining the string \"aacab\".\n",
    "    In the second move, we move the 3rd character (\"c\") to the end, obtaining the final result \"aaabc\".\n",
    "\n",
    "\n",
    "\n",
    "\n",
    "**Note:**\n",
    "\n",
    "  1. `1 <= K <= S.length <= 1000`\n",
    "  2. `S` consists of lowercase letters only."
   ],
   "metadata": {}
  },
  {
   "outputs": [
    {
     "output_type": "execute_result",
     "data": {
      "text/plain": "orderly_queue (generic function with 1 method)"
     },
     "metadata": {},
     "execution_count": 1
    }
   ],
   "cell_type": "code",
   "source": [
    "# @lc code=start\n",
    "using LeetCode\n",
    "\n",
    "function orderly_queue(S::String, K::Int)\n",
    "    if K == 1\n",
    "        res = S\n",
    "        for i in 2:length(S)\n",
    "            res = min(res, S[i:end] * S[1:i-1])\n",
    "        end\n",
    "        return res\n",
    "    end\n",
    "    c_units = codeunits(S)[:]\n",
    "    return c_units |> sort! |> String\n",
    "end\n",
    "# @lc code=end"
   ],
   "metadata": {},
   "execution_count": 1
  },
  {
   "cell_type": "markdown",
   "source": [
    "---\n",
    "\n",
    "*This notebook was generated using [Literate.jl](https://github.com/fredrikekre/Literate.jl).*"
   ],
   "metadata": {}
  }
 ],
 "nbformat_minor": 3,
 "metadata": {
  "language_info": {
   "file_extension": ".jl",
   "mimetype": "application/julia",
   "name": "julia",
   "version": "1.5.3"
  },
  "kernelspec": {
   "name": "julia-1.5",
   "display_name": "Julia 1.5.3",
   "language": "julia"
  }
 },
 "nbformat": 4
}
