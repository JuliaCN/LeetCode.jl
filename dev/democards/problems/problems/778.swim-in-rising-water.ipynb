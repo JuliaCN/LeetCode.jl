{
 "cells": [
  {
   "cell_type": "markdown",
   "source": [
    "On an N x N `grid`, each square `grid[i][j]` represents the elevation at that\n",
    "point `(i,j)`.\n",
    "\n",
    "Now rain starts to fall. At time `t`, the depth of the water everywhere is\n",
    "`t`. You can swim from a square to another 4-directionally adjacent square if\n",
    "and only if the elevation of both squares individually are at most `t`. You\n",
    "can swim infinite distance in zero time. Of course, you must stay within the\n",
    "boundaries of the grid during your swim.\n",
    "\n",
    "You start at the top left square `(0, 0)`. What is the least time until you\n",
    "can reach the bottom right square `(N-1, N-1)`?\n",
    "\n",
    "**Example 1:**\n",
    "\n",
    "\n",
    "\n",
    "    Input: [[0,2],[1,3]]\n",
    "    Output: 3\n",
    "    Explanation:\n",
    "    At time 0, you are in grid location (0, 0).\n",
    "    You cannot go anywhere else because 4-directionally adjacent neighbors have a higher elevation than t = 0.\n",
    "\n",
    "    You cannot reach point (1, 1) until time 3.\n",
    "    When the depth of water is 3, we can swim anywhere inside the grid.\n",
    "\n",
    "\n",
    "**Example 2:**\n",
    "\n",
    "\n",
    "\n",
    "    Input: [[0,1,2,3,4],[24,23,22,21,5],[12,13,14,15,16],[11,17,18,19,20],[10,9,8,7,6]]\n",
    "    Output: 16\n",
    "    Explanation:\n",
    "    **0  1  2  3  4**\n",
    "    24 23 22 21  **5**\n",
    "    **12 13 14 15 16**\n",
    "    **11** 17 18 19 20\n",
    "    **10  9  8  7  6**\n",
    "\n",
    "    The final route is marked in bold.\n",
    "    We need to wait until time 16 so that (0, 0) and (4, 4) are connected.\n",
    "\n",
    "\n",
    "**Note:**\n",
    "\n",
    "  1. `2 <= N <= 50`.\n",
    "  2. grid[i][j] is a permutation of [0, ..., N*N - 1]."
   ],
   "metadata": {}
  },
  {
   "outputs": [
    {
     "output_type": "execute_result",
     "data": {
      "text/plain": "swim_in_water (generic function with 1 method)"
     },
     "metadata": {},
     "execution_count": 1
    }
   ],
   "cell_type": "code",
   "source": [
    "# @lc code=start\n",
    "using LeetCode\n",
    "\n",
    "function swim_in_water(grid::Vector{Vector{Int}})\n",
    "    function neighbors(pos, len)\n",
    "        res = Tuple{Int, Int}[]\n",
    "        (pos[1] > 1) && (push!(res, (pos[1] - 1, pos[2])))\n",
    "        (pos[1] < len) && (push!(res, (pos[1] + 1, pos[2])))\n",
    "        (pos[2] > 1) && (push!(res, (pos[1], pos[2] - 1)))\n",
    "        (pos[2] < len) && (push!(res, (pos[1], pos[2] + 1)))\n",
    "        res\n",
    "    end\n",
    "    len = length(grid)\n",
    "    visited = fill(false, len, len)\n",
    "    pq = PriorityQueue{Tuple{Int, Int}, Int}()\n",
    "    pq[(1, 1)] = grid[1][1]\n",
    "    while !isempty(pq)\n",
    "        pos, cost = dequeue_pair!(pq)\n",
    "        visited[pos[1], pos[2]] = true\n",
    "        if pos == (len, len)\n",
    "            return cost\n",
    "        end\n",
    "        for neighbor in neighbors(pos, len)\n",
    "            if !visited[neighbor[1], neighbor[2]]\n",
    "                pq[neighbor] = min(max(grid[neighbor[1]][neighbor[2]], cost), get(pq, neighbor, typemax(Int)))\n",
    "            end\n",
    "        end\n",
    "    end\n",
    "    # return 0\n",
    "end\n",
    "\n",
    "# @lc code=end"
   ],
   "metadata": {},
   "execution_count": 1
  },
  {
   "cell_type": "markdown",
   "source": [
    "---\n",
    "\n",
    "*This notebook was generated using [Literate.jl](https://github.com/fredrikekre/Literate.jl).*"
   ],
   "metadata": {}
  }
 ],
 "nbformat_minor": 3,
 "metadata": {
  "language_info": {
   "file_extension": ".jl",
   "mimetype": "application/julia",
   "name": "julia",
   "version": "1.6.4"
  },
  "kernelspec": {
   "name": "julia-1.6",
   "display_name": "Julia 1.6.4",
   "language": "julia"
  }
 },
 "nbformat": 4
}
