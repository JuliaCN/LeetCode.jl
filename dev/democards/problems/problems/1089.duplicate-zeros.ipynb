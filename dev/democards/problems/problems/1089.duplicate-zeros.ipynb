{
 "cells": [
  {
   "cell_type": "markdown",
   "source": [
    "Given a fixed length array `arr` of integers, duplicate each occurrence of\n",
    "zero, shifting the remaining elements to the right.\n",
    "\n",
    "Note that elements beyond the length of the original array are not written.\n",
    "\n",
    "Do the above modifications to the input array **in place** , do not return\n",
    "anything from your function.\n",
    "\n",
    "\n",
    "\n",
    "**Example 1:**\n",
    "\n",
    "\n",
    "\n",
    "    Input: [1,0,2,3,0,4,5,0]\n",
    "    Output: null\n",
    "    Explanation: After calling your function, the **input** array is modified to: [1,0,0,2,3,0,0,4]\n",
    "\n",
    "\n",
    "**Example 2:**\n",
    "\n",
    "\n",
    "\n",
    "    Input: [1,2,3]\n",
    "    Output: null\n",
    "    Explanation: After calling your function, the **input** array is modified to: [1,2,3]\n",
    "\n",
    "\n",
    "\n",
    "\n",
    "**Note:**\n",
    "\n",
    "  1. `1 <= arr.length <= 10000`\n",
    "  2. `0 <= arr[i] <= 9`"
   ],
   "metadata": {}
  },
  {
   "outputs": [
    {
     "output_type": "execute_result",
     "data": {
      "text/plain": "duplicate_zeros! (generic function with 1 method)"
     },
     "metadata": {},
     "execution_count": 1
    }
   ],
   "cell_type": "code",
   "source": [
    "# @lc code=start\n",
    "using LeetCode\n",
    "\n",
    "function duplicate_zeros!(arr::Vector{Int})\n",
    "    len = length(arr)\n",
    "    for i in reverse(eachindex(arr))\n",
    "        iszero(arr[i]) && insert!(arr, i, 0)\n",
    "    end\n",
    "    resize!(arr, len)\n",
    "    nothing\n",
    "end\n",
    "\n",
    "# add your code here:\n",
    "# @lc code=end"
   ],
   "metadata": {},
   "execution_count": 1
  },
  {
   "cell_type": "markdown",
   "source": [
    "---\n",
    "\n",
    "*This notebook was generated using [Literate.jl](https://github.com/fredrikekre/Literate.jl).*"
   ],
   "metadata": {}
  }
 ],
 "nbformat_minor": 3,
 "metadata": {
  "language_info": {
   "file_extension": ".jl",
   "mimetype": "application/julia",
   "name": "julia",
   "version": "1.6.4"
  },
  "kernelspec": {
   "name": "julia-1.6",
   "display_name": "Julia 1.6.4",
   "language": "julia"
  }
 },
 "nbformat": 4
}
