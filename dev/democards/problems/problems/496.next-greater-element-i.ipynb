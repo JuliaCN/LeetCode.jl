{
 "cells": [
  {
   "cell_type": "markdown",
   "source": [
    "You are given two arrays **(without duplicates)** `nums1` and `nums2` where\n",
    "`nums1`’s elements are subset of `nums2`. Find all the next greater numbers\n",
    "for `nums1`'s elements in the corresponding places of `nums2`.\n",
    "\n",
    "The Next Greater Number of a number **x** in `nums1` is the first greater\n",
    "number to its right in `nums2`. If it does not exist, output -1 for this\n",
    "number.\n",
    "\n",
    "**Example 1:**\n",
    "\n",
    "\n",
    "\n",
    "    Input: **nums1** = [4,1,2], **nums2** = [1,3,4,2].\n",
    "    Output: [-1,3,-1]\n",
    "    Explanation:\n",
    "        For number 4 in the first array, you cannot find the next greater number for it in the second array, so output -1.\n",
    "        For number 1 in the first array, the next greater number for it in the second array is 3.\n",
    "        For number 2 in the first array, there is no next greater number for it in the second array, so output -1.\n",
    "\n",
    "\n",
    "**Example 2:**\n",
    "\n",
    "\n",
    "\n",
    "    Input: **nums1** = [2,4], **nums2** = [1,2,3,4].\n",
    "    Output: [3,-1]\n",
    "    Explanation:\n",
    "        For number 2 in the first array, the next greater number for it in the second array is 3.\n",
    "        For number 4 in the first array, there is no next greater number for it in the second array, so output -1.\n",
    "\n",
    "\n",
    "**Note:**\n",
    "\n",
    "  1. All elements in `nums1` and `nums2` are unique.\n",
    "  2. The length of both `nums1` and `nums2` would not exceed 1000."
   ],
   "metadata": {}
  },
  {
   "outputs": [
    {
     "output_type": "execute_result",
     "data": {
      "text/plain": "next_greater_element (generic function with 1 method)"
     },
     "metadata": {},
     "execution_count": 1
    }
   ],
   "cell_type": "code",
   "source": [
    "# @lc code=start\n",
    "using LeetCode\n",
    "\n",
    "function next_greater_element(num1::Vector{Int}, num2::Vector{Int})\n",
    "    stk = Int[]\n",
    "    res = fill(-1, length(num2))\n",
    "    inv_idx = Dict{Int,Int}()\n",
    "    for i in length(num2):-1:1\n",
    "        inv_idx[num2[i]] = i\n",
    "        while !isempty(stk) && stk[end] <= num2[i]\n",
    "            pop!(stk)\n",
    "        end\n",
    "        res[i] = isempty(stk) ? -1 : stk[end]\n",
    "        push!(stk, num2[i])\n",
    "    end\n",
    "    return [res[inv_idx[item]] for item in num1]\n",
    "end\n",
    "# @lc code=end"
   ],
   "metadata": {},
   "execution_count": 1
  },
  {
   "cell_type": "markdown",
   "source": [
    "---\n",
    "\n",
    "*This notebook was generated using [Literate.jl](https://github.com/fredrikekre/Literate.jl).*"
   ],
   "metadata": {}
  }
 ],
 "nbformat_minor": 3,
 "metadata": {
  "language_info": {
   "file_extension": ".jl",
   "mimetype": "application/julia",
   "name": "julia",
   "version": "1.7.2"
  },
  "kernelspec": {
   "name": "julia-1.7",
   "display_name": "Julia 1.7.2",
   "language": "julia"
  }
 },
 "nbformat": 4
}
