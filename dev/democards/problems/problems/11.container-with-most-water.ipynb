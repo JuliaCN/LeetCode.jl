{
 "cells": [
  {
   "cell_type": "markdown",
   "source": [
    "Given `n` non-negative integers `a1, a2, ..., an` , where each represents a\n",
    "point at coordinate `(i, ai)`. `n` vertical lines are drawn such that the two\n",
    "endpoints of the line `i` is at `(i, ai)` and `(i, 0)`. Find two lines, which,\n",
    "together with the x-axis forms a container, such that the container contains\n",
    "the most water.\n",
    "\n",
    "**Notice**  that you may not slant the container.\n",
    "\n",
    "\n",
    "\n",
    "**Example 1:**\n",
    "\n",
    "![](https://s3-lc-upload.s3.amazonaws.com/uploads/2018/07/17/question_11.jpg)\n",
    "\n",
    "\n",
    "\n",
    "    Input: height = [1,8,6,2,5,4,8,3,7]\n",
    "    Output: 49\n",
    "    Explanation: The above vertical lines are represented by array [1,8,6,2,5,4,8,3,7]. In this case, the max area of water (blue section) the container can contain is 49.\n",
    "\n",
    "\n",
    "**Example 2:**\n",
    "\n",
    "\n",
    "\n",
    "    Input: height = [1,1]\n",
    "    Output: 1\n",
    "\n",
    "\n",
    "**Example 3:**\n",
    "\n",
    "\n",
    "\n",
    "    Input: height = [4,3,2,1,4]\n",
    "    Output: 16\n",
    "\n",
    "\n",
    "**Example 4:**\n",
    "\n",
    "\n",
    "\n",
    "    Input: height = [1,2,1]\n",
    "    Output: 2\n",
    "\n",
    "\n",
    "\n",
    "\n",
    "**Constraints:**\n",
    "\n",
    "  * `n = height.length`\n",
    "  * `2 <= n <= 3 * 104`\n",
    "  * `0 <= height[i] <= 3 * 104`"
   ],
   "metadata": {}
  },
  {
   "outputs": [
    {
     "output_type": "execute_result",
     "data": {
      "text/plain": "max_area_of_container (generic function with 1 method)"
     },
     "metadata": {},
     "execution_count": 1
    }
   ],
   "cell_type": "code",
   "source": [
    "# @lc code=start\n",
    "using LeetCode\n",
    "\n",
    "function max_area_of_container(height::Vector{Int})::Int\n",
    "    i, j, res = 1, length(height), 0\n",
    "    while i < j\n",
    "        res = max(res, min(height[i], height[j]) * (j - i))\n",
    "        height[i] < height[j] ? (i += 1) : (j -= 1)\n",
    "    end\n",
    "    return res\n",
    "end\n",
    "# @lc code=end"
   ],
   "metadata": {},
   "execution_count": 1
  },
  {
   "cell_type": "markdown",
   "source": [
    "---\n",
    "\n",
    "*This notebook was generated using [Literate.jl](https://github.com/fredrikekre/Literate.jl).*"
   ],
   "metadata": {}
  }
 ],
 "nbformat_minor": 3,
 "metadata": {
  "language_info": {
   "file_extension": ".jl",
   "mimetype": "application/julia",
   "name": "julia",
   "version": "1.11.6"
  },
  "kernelspec": {
   "name": "julia-1.11",
   "display_name": "Julia 1.11.6",
   "language": "julia"
  }
 },
 "nbformat": 4
}
