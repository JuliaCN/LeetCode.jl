{
 "cells": [
  {
   "cell_type": "markdown",
   "source": [
    "Given an integer `n`, return a list of all **simplified** fractions between 0\n",
    "and 1 (exclusive) such that the denominator is less-than-or-equal-to `n`. The\n",
    "fractions can be in **any** order.\n",
    "\n",
    "\n",
    "\n",
    "**Example 1:**\n",
    "\n",
    "\n",
    "\n",
    "    Input: n = 2\n",
    "    Output: [\"1/2\"]\n",
    "    Explanation: \"1/2\" is the only unique fraction with a denominator less-than-or-equal-to 2.\n",
    "\n",
    "**Example 2:**\n",
    "\n",
    "\n",
    "\n",
    "    Input: n = 3\n",
    "    Output: [\"1/2\",\"1/3\",\"2/3\"]\n",
    "\n",
    "\n",
    "**Example 3:**\n",
    "\n",
    "\n",
    "\n",
    "    Input: n = 4\n",
    "    Output: [\"1/2\",\"1/3\",\"1/4\",\"2/3\",\"3/4\"]\n",
    "    Explanation: \"2/4\" is not a simplified fraction because it can be simplified to \"1/2\".\n",
    "\n",
    "**Example 4:**\n",
    "\n",
    "\n",
    "\n",
    "    Input: n = 1\n",
    "    Output: []\n",
    "\n",
    "\n",
    "\n",
    "\n",
    "**Constraints:**\n",
    "\n",
    "  * `1 <= n <= 100`"
   ],
   "metadata": {}
  },
  {
   "outputs": [
    {
     "output_type": "execute_result",
     "data": {
      "text/plain": "simplified_fractions (generic function with 1 method)"
     },
     "metadata": {},
     "execution_count": 1
    }
   ],
   "cell_type": "code",
   "source": [
    "# @lc code=start\n",
    "using LeetCode\n",
    "\n",
    "simplified_fractions(n::Int) = [\"$p/$q\" for q in 2:n for p in 1:(q - 1) if gcd(p, q) == 1]\n",
    "# @lc code=end"
   ],
   "metadata": {},
   "execution_count": 1
  },
  {
   "cell_type": "markdown",
   "source": [
    "---\n",
    "\n",
    "*This notebook was generated using [Literate.jl](https://github.com/fredrikekre/Literate.jl).*"
   ],
   "metadata": {}
  }
 ],
 "nbformat_minor": 3,
 "metadata": {
  "language_info": {
   "file_extension": ".jl",
   "mimetype": "application/julia",
   "name": "julia",
   "version": "1.8.2"
  },
  "kernelspec": {
   "name": "julia-1.8",
   "display_name": "Julia 1.8.2",
   "language": "julia"
  }
 },
 "nbformat": 4
}
