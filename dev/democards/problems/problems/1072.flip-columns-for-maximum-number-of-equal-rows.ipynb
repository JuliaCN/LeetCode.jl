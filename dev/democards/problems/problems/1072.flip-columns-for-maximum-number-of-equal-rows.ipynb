{
 "cells": [
  {
   "cell_type": "markdown",
   "source": [
    "Given a `matrix` consisting of 0s and 1s, we may choose any number of columns\n",
    "in the matrix and flip **every**  cell in that column.  Flipping a cell\n",
    "changes the value of that cell from 0 to 1 or from 1 to 0.\n",
    "\n",
    "Return the maximum number of rows that have all values equal after some number\n",
    "of flips.\n",
    "\n",
    "\n",
    "\n",
    "**Example 1:**\n",
    "\n",
    "\n",
    "\n",
    "    Input: [[0,1],[1,1]]\n",
    "    Output: 1\n",
    "    Explanation: After flipping no values, 1 row has all values equal.\n",
    "\n",
    "\n",
    "**Example 2:**\n",
    "\n",
    "\n",
    "\n",
    "    Input: [[0,1],[1,0]]\n",
    "    Output: 2\n",
    "    Explanation: After flipping values in the first column, both rows have equal values.\n",
    "\n",
    "\n",
    "**Example 3:**\n",
    "\n",
    "\n",
    "\n",
    "    Input: [[0,0,0],[0,0,1],[1,1,0]]\n",
    "    Output: 2\n",
    "    Explanation: After flipping values in the first two columns, the last two rows have equal values.\n",
    "\n",
    "\n",
    "\n",
    "\n",
    "**Note:**\n",
    "\n",
    "  1. `1 <= matrix.length <= 300`\n",
    "  2. `1 <= matrix[i].length <= 300`\n",
    "  3. All `matrix[i].length`'s are equal\n",
    "  4. `matrix[i][j]` is `0` or `1`"
   ],
   "metadata": {}
  },
  {
   "outputs": [
    {
     "output_type": "execute_result",
     "data": {
      "text/plain": "max_equal_rows_after_flips (generic function with 1 method)"
     },
     "metadata": {},
     "execution_count": 1
    }
   ],
   "cell_type": "code",
   "source": [
    "# @lc code=start\n",
    "using LeetCode\n",
    "\n",
    "function max_equal_rows_after_flips(mat::Matrix{Int})\n",
    "    mp = Dict{Vector{Int}, Int}()\n",
    "    for row in eachrow(mat)\n",
    "        row[1] == 1 && (row .= 1 .- row)\n",
    "        mp[row] = get(mp, row, 0) + 1\n",
    "    end\n",
    "    return maximum(values(mp))\n",
    "end\n",
    "# @lc code=end"
   ],
   "metadata": {},
   "execution_count": 1
  },
  {
   "cell_type": "markdown",
   "source": [
    "---\n",
    "\n",
    "*This notebook was generated using [Literate.jl](https://github.com/fredrikekre/Literate.jl).*"
   ],
   "metadata": {}
  }
 ],
 "nbformat_minor": 3,
 "metadata": {
  "language_info": {
   "file_extension": ".jl",
   "mimetype": "application/julia",
   "name": "julia",
   "version": "1.9.1"
  },
  "kernelspec": {
   "name": "julia-1.9",
   "display_name": "Julia 1.9.1",
   "language": "julia"
  }
 },
 "nbformat": 4
}
