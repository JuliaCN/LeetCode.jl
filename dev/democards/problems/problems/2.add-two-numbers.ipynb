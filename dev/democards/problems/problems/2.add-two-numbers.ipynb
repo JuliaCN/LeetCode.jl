{
 "cells": [
  {
   "cell_type": "markdown",
   "source": [
    "You are given two **non-empty** linked lists representing two non-negative\n",
    "integers. The digits are stored in **reverse order** , and each of their nodes\n",
    "contains a single digit. Add the two numbers and return the sum as a linked\n",
    "list.\n",
    "\n",
    "You may assume the two numbers do not contain any leading zero, except the\n",
    "number 0 itself.\n",
    "\n",
    "\n",
    "\n",
    "**Example 1:**\n",
    "\n",
    "![](https://assets.leetcode.com/uploads/2020/10/02/addtwonumber1.jpg)\n",
    "\n",
    "\n",
    "\n",
    "    Input: l1 = [2,4,3], l2 = [5,6,4]\n",
    "    Output: [7,0,8]\n",
    "    Explanation: 342 + 465 = 807.\n",
    "\n",
    "\n",
    "**Example 2:**\n",
    "\n",
    "\n",
    "\n",
    "    Input: l1 = [0], l2 = [0]\n",
    "    Output: [0]\n",
    "\n",
    "\n",
    "**Example 3:**\n",
    "\n",
    "\n",
    "\n",
    "    Input: l1 = [9,9,9,9,9,9,9], l2 = [9,9,9,9]\n",
    "    Output: [8,9,9,9,0,0,0,1]\n",
    "\n",
    "\n",
    "\n",
    "\n",
    "**Constraints:**\n",
    "\n",
    "  * The number of nodes in each linked list is in the range `[1, 100]`.\n",
    "  * `0 <= Node.val <= 9`\n",
    "  * It is guaranteed that the list represents a number that does not have leading zeros."
   ],
   "metadata": {}
  },
  {
   "outputs": [
    {
     "output_type": "execute_result",
     "data": {
      "text/plain": "add_two_numbers (generic function with 1 method)"
     },
     "metadata": {},
     "execution_count": 1
    }
   ],
   "cell_type": "code",
   "source": [
    "# @lc code=start\n",
    "using LeetCode\n",
    "\n",
    "function add_two_numbers(l1::ListNode, l2::ListNode)::ListNode\n",
    "    carry = 0\n",
    "    fake_head = cur = ListNode()\n",
    "\n",
    "    while !isnothing(l1) || !isnothing(l2) || !iszero(carry)\n",
    "        v1, v2 = 0, 0\n",
    "\n",
    "        if !isnothing(l1)\n",
    "            v1 = val(l1)\n",
    "            l1 = next(l1)\n",
    "        end\n",
    "\n",
    "        if !isnothing(l2)\n",
    "            v2 = val(l2)\n",
    "            l2 = next(l2)\n",
    "        end\n",
    "\n",
    "        carry, v = divrem(v1 + v2 + carry, 10)\n",
    "        next!(cur, ListNode(v))\n",
    "        cur = next(cur)\n",
    "        val!(cur, v)\n",
    "    end\n",
    "    return next(fake_head)\n",
    "end\n",
    "# @lc code=end"
   ],
   "metadata": {},
   "execution_count": 1
  },
  {
   "cell_type": "markdown",
   "source": [
    "---\n",
    "\n",
    "*This notebook was generated using [Literate.jl](https://github.com/fredrikekre/Literate.jl).*"
   ],
   "metadata": {}
  }
 ],
 "nbformat_minor": 3,
 "metadata": {
  "language_info": {
   "file_extension": ".jl",
   "mimetype": "application/julia",
   "name": "julia",
   "version": "1.7.3"
  },
  "kernelspec": {
   "name": "julia-1.7",
   "display_name": "Julia 1.7.3",
   "language": "julia"
  }
 },
 "nbformat": 4
}
