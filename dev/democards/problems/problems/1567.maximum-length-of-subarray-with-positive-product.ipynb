{
 "cells": [
  {
   "cell_type": "markdown",
   "source": [
    "Given an array of integers `nums`, find the maximum length of a subarray where\n",
    "the product of all its elements is positive.\n",
    "\n",
    "A subarray of an array is a consecutive sequence of zero or more values taken\n",
    "out of that array.\n",
    "\n",
    "Return  _the maximum length of a subarray with positive product_.\n",
    "\n",
    "\n",
    "\n",
    "**Example 1:**\n",
    "\n",
    "\n",
    "\n",
    "    Input: nums = [1,-2,-3,4]\n",
    "    Output: 4\n",
    "    Explanation: The array nums already has a positive product of 24.\n",
    "\n",
    "\n",
    "**Example 2:**\n",
    "\n",
    "\n",
    "\n",
    "    Input: nums = [0,1,-2,-3,-4]\n",
    "    Output: 3\n",
    "    Explanation: The longest subarray with positive product is [1,-2,-3] which has a product of 6.\n",
    "    Notice that we cannot include 0 in the subarray since that'll make the product 0 which is not positive.\n",
    "\n",
    "**Example 3:**\n",
    "\n",
    "\n",
    "\n",
    "    Input: nums = [-1,-2,-3,0,1]\n",
    "    Output: 2\n",
    "    Explanation: The longest subarray with positive product is [-1,-2] or [-2,-3].\n",
    "\n",
    "\n",
    "**Example 4:**\n",
    "\n",
    "\n",
    "\n",
    "    Input: nums = [-1,2]\n",
    "    Output: 1\n",
    "\n",
    "\n",
    "**Example 5:**\n",
    "\n",
    "\n",
    "\n",
    "    Input: nums = [1,2,3,5,-6,4,0,10]\n",
    "    Output: 4\n",
    "\n",
    "\n",
    "\n",
    "\n",
    "**Constraints:**\n",
    "\n",
    "  * `1 <= nums.length <= 10^5`\n",
    "  * `-10^9 <= nums[i] <= 10^9`"
   ],
   "metadata": {}
  },
  {
   "outputs": [
    {
     "output_type": "execute_result",
     "data": {
      "text/plain": "get_max_len (generic function with 1 method)"
     },
     "metadata": {},
     "execution_count": 1
    }
   ],
   "cell_type": "code",
   "source": [
    "# @lc code=start\n",
    "using LeetCode\n",
    "\n",
    "function get_max_len(nums::Vector{Int})::Int\n",
    "    pos_pre = neg_pre = max_ans = 0\n",
    "    for num in nums\n",
    "        if num == 0\n",
    "            pos_pre = neg_pre = 0\n",
    "        elseif num > 0\n",
    "            pos_pre = pos_pre + 1\n",
    "            neg_pre = neg_pre != 0 ? neg_pre + 1 : 0\n",
    "        else\n",
    "            neg_tmp = neg_pre\n",
    "            neg_pre = pos_pre != 0 ? pos_pre + 1 : 1\n",
    "            pos_pre = neg_tmp != 0 ? neg_tmp + 1 : 0\n",
    "        end\n",
    "        max_ans = max(max_ans, pos_pre)\n",
    "    end\n",
    "    return max_ans\n",
    "end\n",
    "\n",
    "# @lc code=end"
   ],
   "metadata": {},
   "execution_count": 1
  },
  {
   "cell_type": "markdown",
   "source": [
    "---\n",
    "\n",
    "*This notebook was generated using [Literate.jl](https://github.com/fredrikekre/Literate.jl).*"
   ],
   "metadata": {}
  }
 ],
 "nbformat_minor": 3,
 "metadata": {
  "language_info": {
   "file_extension": ".jl",
   "mimetype": "application/julia",
   "name": "julia",
   "version": "1.10.4"
  },
  "kernelspec": {
   "name": "julia-1.10",
   "display_name": "Julia 1.10.4",
   "language": "julia"
  }
 },
 "nbformat": 4
}
