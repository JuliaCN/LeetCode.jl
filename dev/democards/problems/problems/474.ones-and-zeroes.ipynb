{
 "cells": [
  {
   "cell_type": "markdown",
   "source": [
    "You are given an array of binary strings `strs` and two integers `m` and `n`.\n",
    "\n",
    "Return _the size of the largest subset of`strs` such that there are **at\n",
    "most** _`m` __`0` _' s and _`n` __`1` _' s in the subset_.\n",
    "\n",
    "A set `x` is a **subset** of a set `y` if all elements of `x` are also\n",
    "elements of `y`.\n",
    "\n",
    "\n",
    "\n",
    "**Example 1:**\n",
    "\n",
    "\n",
    "\n",
    "    Input: strs = [\"10\",\"0001\",\"111001\",\"1\",\"0\"], m = 5, n = 3\n",
    "    Output: 4\n",
    "    Explanation: The largest subset with at most 5 0's and 3 1's is {\"10\", \"0001\", \"1\", \"0\"}, so the answer is 4.\n",
    "    Other valid but smaller subsets include {\"0001\", \"1\"} and {\"10\", \"1\", \"0\"}.\n",
    "    {\"111001\"} is an invalid subset because it contains 4 1's, greater than the maximum of 3.\n",
    "\n",
    "\n",
    "**Example 2:**\n",
    "\n",
    "\n",
    "\n",
    "    Input: strs = [\"10\",\"0\",\"1\"], m = 1, n = 1\n",
    "    Output: 2\n",
    "    Explanation: The largest subset is {\"0\", \"1\"}, so the answer is 2.\n",
    "\n",
    "\n",
    "\n",
    "\n",
    "**Constraints:**\n",
    "\n",
    "  * `1 <= strs.length <= 600`\n",
    "  * `1 <= strs[i].length <= 100`\n",
    "  * `strs[i]` consists only of digits `'0'` and `'1'`.\n",
    "  * `1 <= m, n <= 100`"
   ],
   "metadata": {}
  },
  {
   "outputs": [
    {
     "output_type": "execute_result",
     "data": {
      "text/plain": "find_max_form (generic function with 1 method)"
     },
     "metadata": {},
     "execution_count": 1
    }
   ],
   "cell_type": "code",
   "source": [
    "# @lc code=start\n",
    "using LeetCode\n",
    "\n",
    "function find_max_form(strs::Vector{String}, m::Int, n::Int)\n",
    "    dp = OffsetArray(fill(0, m + 1, n + 1), -1, -1)\n",
    "    for str in strs\n",
    "        o = count(==('1'), str)\n",
    "        z = length(str) - o\n",
    "        for j in m:-1:z, k in n:-1:o\n",
    "            dp[j, k] = max(dp[j, k], dp[j - z, k - o] + 1)\n",
    "        end\n",
    "    end\n",
    "    return dp[end]\n",
    "end\n",
    "# @lc code=end"
   ],
   "metadata": {},
   "execution_count": 1
  },
  {
   "cell_type": "markdown",
   "source": [
    "---\n",
    "\n",
    "*This notebook was generated using [Literate.jl](https://github.com/fredrikekre/Literate.jl).*"
   ],
   "metadata": {}
  }
 ],
 "nbformat_minor": 3,
 "metadata": {
  "language_info": {
   "file_extension": ".jl",
   "mimetype": "application/julia",
   "name": "julia",
   "version": "1.9.1"
  },
  "kernelspec": {
   "name": "julia-1.9",
   "display_name": "Julia 1.9.1",
   "language": "julia"
  }
 },
 "nbformat": 4
}
