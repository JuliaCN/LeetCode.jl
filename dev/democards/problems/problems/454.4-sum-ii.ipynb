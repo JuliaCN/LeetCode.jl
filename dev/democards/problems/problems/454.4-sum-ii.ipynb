{
 "cells": [
  {
   "cell_type": "markdown",
   "source": [
    "Given four lists A, B, C, D of integer values, compute how many tuples `(i, j,\n",
    "k, l)` there are such that `A[i] + B[j] + C[k] + D[l]` is zero.\n",
    "\n",
    "To make problem a bit easier, all A, B, C, D have same length of N where 0 ≤ N\n",
    "≤ 500\\. All integers are in the range of -228 to 228 \\- 1 and the result is\n",
    "guaranteed to be at most 231 \\- 1.\n",
    "\n",
    "**Example:**\n",
    "\n",
    "\n",
    "\n",
    "    Input:\n",
    "    A = [ 1, 2]\n",
    "    B = [-2,-1]\n",
    "    C = [-1, 2]\n",
    "    D = [ 0, 2]\n",
    "\n",
    "    Output:\n",
    "    2\n",
    "\n",
    "    Explanation:\n",
    "    The two tuples are:\n",
    "    1. (0, 0, 0, 1) -> A[0] + B[0] + C[0] + D[1] = 1 + (-2) + (-1) + 2 = 0\n",
    "    2. (1, 1, 0, 0) -> A[1] + B[1] + C[0] + D[0] = 2 + (-1) + (-1) + 0 = 0"
   ],
   "metadata": {}
  },
  {
   "outputs": [
    {
     "output_type": "execute_result",
     "data": {
      "text/plain": "four_sum_count (generic function with 1 method)"
     },
     "metadata": {},
     "execution_count": 1
    }
   ],
   "cell_type": "code",
   "source": [
    "# @lc code=start\n",
    "using LeetCode\n",
    "\n",
    "function four_sum_count(A::Vector{Int}, B::Vector{Int}, C::Vector{Int}, D::Vector{Int})::Int\n",
    "    dic = counter([a + b for a in A for b in B])\n",
    "    return sum(get(dic, -c - d, 0) for c in C for d in D)\n",
    "end\n",
    "# @lc code=end"
   ],
   "metadata": {},
   "execution_count": 1
  },
  {
   "cell_type": "markdown",
   "source": [
    "---\n",
    "\n",
    "*This notebook was generated using [Literate.jl](https://github.com/fredrikekre/Literate.jl).*"
   ],
   "metadata": {}
  }
 ],
 "nbformat_minor": 3,
 "metadata": {
  "language_info": {
   "file_extension": ".jl",
   "mimetype": "application/julia",
   "name": "julia",
   "version": "1.6.4"
  },
  "kernelspec": {
   "name": "julia-1.6",
   "display_name": "Julia 1.6.4",
   "language": "julia"
  }
 },
 "nbformat": 4
}
