{
 "cells": [
  {
   "cell_type": "markdown",
   "source": [
    "Write a program to find the node at which the intersection of two singly\n",
    "linked lists begins.\n",
    "\n",
    "For example, the following two linked lists:\n",
    "\n",
    "[![](https://assets.leetcode.com/uploads/2018/12/13/160_statement.png)](https://assets.leetcode.com/uploads/2018/12/13/160_statement.png)\n",
    "\n",
    "begin to intersect at node c1.\n",
    "\n",
    "\n",
    "\n",
    "**Example 1:**\n",
    "\n",
    "[![](https://assets.leetcode.com/uploads/2020/06/29/160_example_1_1.png)](https://assets.leetcode.com/uploads/2020/06/29/160_example_1_1.png)\n",
    "\n",
    "\n",
    "\n",
    "    Input: intersectVal = 8, listA = [4,1,8,4,5], listB = [5,6,1,8,4,5], skipA = 2, skipB = 3\n",
    "    Output: Reference of the node with value = 8\n",
    "    **Input Explanation:** The intersected node's value is 8 (note that this must not be 0 if the two lists intersect). From the head of A, it reads as [4,1,8,4,5]. From the head of B, it reads as [5,6,1,8,4,5]. There are 2 nodes before the intersected node in A; There are 3 nodes before the intersected node in B.\n",
    "\n",
    "\n",
    "\n",
    "**Example 2:**\n",
    "\n",
    "[![](https://assets.leetcode.com/uploads/2020/06/29/160_example_2.png)](https://assets.leetcode.com/uploads/2020/06/29/160_example_2.png)\n",
    "\n",
    "\n",
    "\n",
    "    Input: intersectVal = 2, listA = [1,9,1,2,4], listB = [3,2,4], skipA = 3, skipB = 1\n",
    "    Output: Reference of the node with value = 2\n",
    "    **Input Explanation:**  The intersected node's value is 2 (note that this must not be 0 if the two lists intersect). From the head of A, it reads as [1,9,1,2,4]. From the head of B, it reads as [3,2,4]. There are 3 nodes before the intersected node in A; There are 1 node before the intersected node in B.\n",
    "\n",
    "\n",
    "\n",
    "\n",
    "**Example 3:**\n",
    "\n",
    "[![](https://assets.leetcode.com/uploads/2018/12/13/160_example_3.png)](https://assets.leetcode.com/uploads/2018/12/13/160_example_3.png)\n",
    "\n",
    "\n",
    "\n",
    "    Input: intersectVal = 0, listA = [2,6,4], listB = [1,5], skipA = 3, skipB = 2\n",
    "    Output: null\n",
    "    **Input Explanation:** From the head of A, it reads as [2,6,4]. From the head of B, it reads as [1,5]. Since the two lists do not intersect, intersectVal must be 0, while skipA and skipB can be arbitrary values.\n",
    "    Explanation: The two lists do not intersect, so return null.\n",
    "\n",
    "\n",
    "\n",
    "\n",
    "**Notes:**\n",
    "\n",
    "  * If the two linked lists have no intersection at all, return `null`.\n",
    "  * The linked lists must retain their original structure after the function returns.\n",
    "  * You may assume there are no cycles anywhere in the entire linked structure.\n",
    "  * Each value on each linked list is in the range `[1, 10^9]`.\n",
    "  * Your code should preferably run in O(n) time and use only O(1) memory."
   ],
   "metadata": {}
  },
  {
   "outputs": [
    {
     "output_type": "execute_result",
     "data": {
      "text/plain": "get_intersection_node (generic function with 1 method)"
     },
     "metadata": {},
     "execution_count": 1
    }
   ],
   "cell_type": "code",
   "source": [
    "# @lc code=start\n",
    "using LeetCode\n",
    "\n",
    "function get_intersection_node(head_a::ListNode, head_b::ListNode)::Union{ListNode,Nothing}\n",
    "    isnothing(head_a) || isnothing(head_b) && return nothing\n",
    "    pa, pb = head_a, head_b\n",
    "\n",
    "    while pa != pb\n",
    "        pa = isnothing(pa) ? head_b : pa.next\n",
    "        pb = isnothing(pb) ? head_a : pb.next\n",
    "    end\n",
    "\n",
    "    return pa\n",
    "end\n",
    "# @lc code=end"
   ],
   "metadata": {},
   "execution_count": 1
  },
  {
   "cell_type": "markdown",
   "source": [
    "---\n",
    "\n",
    "*This notebook was generated using [Literate.jl](https://github.com/fredrikekre/Literate.jl).*"
   ],
   "metadata": {}
  }
 ],
 "nbformat_minor": 3,
 "metadata": {
  "language_info": {
   "file_extension": ".jl",
   "mimetype": "application/julia",
   "name": "julia",
   "version": "1.6.3"
  },
  "kernelspec": {
   "name": "julia-1.6",
   "display_name": "Julia 1.6.3",
   "language": "julia"
  }
 },
 "nbformat": 4
}
