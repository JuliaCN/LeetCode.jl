{
 "cells": [
  {
   "cell_type": "markdown",
   "source": [
    "Given an integer `rowIndex`, return the `rowIndexth` row of the Pascal's\n",
    "triangle.\n",
    "\n",
    "Notice that the row index starts from  **0**.\n",
    "\n",
    "![](https://upload.wikimedia.org/wikipedia/commons/0/0d/PascalTriangleAnimated2.gif)\n",
    "In Pascal's triangle, each number is the sum of the two numbers directly above\n",
    "it.\n",
    "\n",
    "**Follow up:**\n",
    "\n",
    "Could you optimize your algorithm to use only _O_ ( _k_ ) extra space?\n",
    "\n",
    "\n",
    "\n",
    "**Example 1:**\n",
    "\n",
    "\n",
    "\n",
    "    Input: rowIndex = 3\n",
    "    Output: [1,3,3,1]\n",
    "\n",
    "\n",
    "**Example 2:**\n",
    "\n",
    "\n",
    "\n",
    "    Input: rowIndex = 0\n",
    "    Output: [1]\n",
    "\n",
    "\n",
    "**Example 3:**\n",
    "\n",
    "\n",
    "\n",
    "    Input: rowIndex = 1\n",
    "    Output: [1,1]\n",
    "\n",
    "\n",
    "\n",
    "\n",
    "**Constraints:**\n",
    "\n",
    "  * `0 <= rowIndex <= 33`"
   ],
   "metadata": {}
  },
  {
   "outputs": [
    {
     "output_type": "execute_result",
     "data": {
      "text/plain": "get_pascal_row (generic function with 1 method)"
     },
     "metadata": {},
     "execution_count": 1
    }
   ],
   "cell_type": "code",
   "source": [
    "# @lc code=start\n",
    "using LeetCode\n",
    "\n",
    "function get_pascal_row(row_index::Int)\n",
    "    res = fill(1, row_index + 1)\n",
    "    for i in 2:row_index\n",
    "        res[2:i] .= @view(res[1:(i - 1)]) + @view(res[2:i])\n",
    "    end\n",
    "    res\n",
    "end\n",
    "# @lc code=end"
   ],
   "metadata": {},
   "execution_count": 1
  },
  {
   "cell_type": "markdown",
   "source": [
    "---\n",
    "\n",
    "*This notebook was generated using [Literate.jl](https://github.com/fredrikekre/Literate.jl).*"
   ],
   "metadata": {}
  }
 ],
 "nbformat_minor": 3,
 "metadata": {
  "language_info": {
   "file_extension": ".jl",
   "mimetype": "application/julia",
   "name": "julia",
   "version": "1.6.2"
  },
  "kernelspec": {
   "name": "julia-1.6",
   "display_name": "Julia 1.6.2",
   "language": "julia"
  }
 },
 "nbformat": 4
}
