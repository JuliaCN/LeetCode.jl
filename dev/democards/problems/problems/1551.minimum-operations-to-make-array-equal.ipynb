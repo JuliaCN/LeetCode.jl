{
 "cells": [
  {
   "cell_type": "markdown",
   "source": [
    "You have an array `arr` of length `n` where `arr[i] = (2 * i) + 1` for all\n",
    "valid values of `i` (i.e. `0 <= i < n`).\n",
    "\n",
    "In one operation, you can select two indices `x` and `y` where `0 <= x, y < n`\n",
    "and subtract `1` from `arr[x]` and add `1` to `arr[y]` (i.e. perform `arr[x]\n",
    "-=1 `and `arr[y] += 1`). The goal is to make all the elements of the array\n",
    "**equal**. It is **guaranteed** that all the elements of the array can be made\n",
    "equal using some operations.\n",
    "\n",
    "Given an integer `n`, the length of the array. Return _the minimum number of\n",
    "operations_ needed to make all the elements of arr equal.\n",
    "\n",
    "\n",
    "\n",
    "**Example 1:**\n",
    "\n",
    "\n",
    "\n",
    "    Input: n = 3\n",
    "    Output: 2\n",
    "    Explanation: arr = [1, 3, 5]\n",
    "    First operation choose x = 2 and y = 0, this leads arr to be [2, 3, 4]\n",
    "    In the second operation choose x = 2 and y = 0 again, thus arr = [3, 3, 3].\n",
    "\n",
    "\n",
    "**Example 2:**\n",
    "\n",
    "\n",
    "\n",
    "    Input: n = 6\n",
    "    Output: 9\n",
    "\n",
    "\n",
    "\n",
    "\n",
    "**Constraints:**\n",
    "\n",
    "  * `1 <= n <= 10^4`"
   ],
   "metadata": {}
  },
  {
   "outputs": [
    {
     "output_type": "execute_result",
     "data": {
      "text/plain": "min_operations_1551 (generic function with 1 method)"
     },
     "metadata": {},
     "execution_count": 1
    }
   ],
   "cell_type": "code",
   "source": [
    "# @lc code=start\n",
    "using LeetCode\n",
    "\n",
    "function min_operations_1551(n::Int)\n",
    "    return 2 * sum(1 : (n - 1) ÷ 2) + (n & 1 == 0) * (n ÷ 2)\n",
    "end\n",
    "# @lc code=end"
   ],
   "metadata": {},
   "execution_count": 1
  },
  {
   "cell_type": "markdown",
   "source": [
    "---\n",
    "\n",
    "*This notebook was generated using [Literate.jl](https://github.com/fredrikekre/Literate.jl).*"
   ],
   "metadata": {}
  }
 ],
 "nbformat_minor": 3,
 "metadata": {
  "language_info": {
   "file_extension": ".jl",
   "mimetype": "application/julia",
   "name": "julia",
   "version": "1.5.3"
  },
  "kernelspec": {
   "name": "julia-1.5",
   "display_name": "Julia 1.5.3",
   "language": "julia"
  }
 },
 "nbformat": 4
}
