{
 "cells": [
  {
   "cell_type": "markdown",
   "source": [
    "There are _N_ children standing in a line. Each child is assigned a rating\n",
    "value.\n",
    "\n",
    "You are giving candies to these children subjected to the following\n",
    "requirements:\n",
    "\n",
    "  * Each child must have at least one candy.\n",
    "  * Children with a higher rating get more candies than their neighbors.\n",
    "\n",
    "What is the minimum candies you must give?\n",
    "\n",
    "**Example 1:**\n",
    "\n",
    "\n",
    "\n",
    "    Input: [1,0,2]\n",
    "    Output: 5\n",
    "    Explanation: You can allocate to the first, second and third child with 2, 1, 2 candies respectively.\n",
    "\n",
    "\n",
    "**Example 2:**\n",
    "\n",
    "\n",
    "\n",
    "    Input: [1,2,2]\n",
    "    Output: 4\n",
    "    Explanation: You can allocate to the first, second and third child with 1, 2, 1 candies respectively.\n",
    "                 The third child gets 1 candy because it satisfies the above two conditions."
   ],
   "metadata": {}
  },
  {
   "outputs": [
    {
     "output_type": "execute_result",
     "data": {
      "text/plain": "candy (generic function with 1 method)"
     },
     "metadata": {},
     "execution_count": 1
    }
   ],
   "cell_type": "code",
   "source": [
    "# @lc code=start\n",
    "using LeetCode\n",
    "\n",
    "function candy(ratings::Vector{Int})::Int\n",
    "    sizes = length(ratings)\n",
    "    if sizes < 2\n",
    "        return sizes\n",
    "    end\n",
    "\n",
    "    nums = ones(Int, sizes)\n",
    "    # from left to right\n",
    "    for i in 2: sizes\n",
    "        if ratings[i] > ratings[i - 1]\n",
    "            nums[i] = nums[i - 1] + 1\n",
    "        end\n",
    "    end\n",
    "\n",
    "    # from right to left\n",
    "    for i in sizes: -1: 2\n",
    "        if ratings[i] < ratings[i - 1]\n",
    "            nums[i - 1] = max(nums[i - 1], nums[i] + 1)\n",
    "        end\n",
    "    end\n",
    "\n",
    "    return sum(nums)\n",
    "end\n",
    "# @lc code=end"
   ],
   "metadata": {},
   "execution_count": 1
  },
  {
   "cell_type": "markdown",
   "source": [
    "---\n",
    "\n",
    "*This notebook was generated using [Literate.jl](https://github.com/fredrikekre/Literate.jl).*"
   ],
   "metadata": {}
  }
 ],
 "nbformat_minor": 3,
 "metadata": {
  "language_info": {
   "file_extension": ".jl",
   "mimetype": "application/julia",
   "name": "julia",
   "version": "1.8.2"
  },
  "kernelspec": {
   "name": "julia-1.8",
   "display_name": "Julia 1.8.2",
   "language": "julia"
  }
 },
 "nbformat": 4
}
