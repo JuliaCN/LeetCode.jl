{
 "cells": [
  {
   "cell_type": "markdown",
   "source": [
    "You're given strings `J` representing the types of stones that are jewels, and\n",
    "`S` representing the stones you have.  Each character in `S` is a type of\n",
    "stone you have.  You want to know how many of the stones you have are also\n",
    "jewels.\n",
    "\n",
    "The letters in `J` are guaranteed distinct, and all characters in `J` and `S`\n",
    "are letters. Letters are case sensitive, so `\"a\"` is considered a different\n",
    "type of stone from `\"A\"`.\n",
    "\n",
    "**Example 1:**\n",
    "\n",
    "\n",
    "\n",
    "    Input: J = \"aA\", S = \"aAAbbbb\"\n",
    "    Output: 3\n",
    "\n",
    "\n",
    "**Example 2:**\n",
    "\n",
    "\n",
    "\n",
    "    Input: J = \"z\", S = \"ZZ\"\n",
    "    Output: 0\n",
    "\n",
    "\n",
    "**Note:**\n",
    "\n",
    "  * `S` and `J` will consist of letters and have length at most 50.\n",
    "  * The characters in `J` are distinct."
   ],
   "metadata": {}
  },
  {
   "outputs": [
    {
     "output_type": "execute_result",
     "data": {
      "text/plain": "num_jewels_in_stones (generic function with 1 method)"
     },
     "metadata": {},
     "execution_count": 1
    }
   ],
   "cell_type": "code",
   "source": [
    "# @lc code=start\n",
    "using LeetCode\n",
    "\n",
    "function num_jewels_in_stones(jewels::String, stones::String)\n",
    "    mp = fill(0, 128)\n",
    "    for i in codeunits(jewels)\n",
    "        mp[i] = 1\n",
    "    end\n",
    "    sum(mp[i] for i in codeunits(stones))\n",
    "end\n",
    "# @lc code=end"
   ],
   "metadata": {},
   "execution_count": 1
  },
  {
   "cell_type": "markdown",
   "source": [
    "---\n",
    "\n",
    "*This notebook was generated using [Literate.jl](https://github.com/fredrikekre/Literate.jl).*"
   ],
   "metadata": {}
  }
 ],
 "nbformat_minor": 3,
 "metadata": {
  "language_info": {
   "file_extension": ".jl",
   "mimetype": "application/julia",
   "name": "julia",
   "version": "1.7.3"
  },
  "kernelspec": {
   "name": "julia-1.7",
   "display_name": "Julia 1.7.3",
   "language": "julia"
  }
 },
 "nbformat": 4
}
