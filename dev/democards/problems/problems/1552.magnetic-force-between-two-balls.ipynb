{
 "cells": [
  {
   "cell_type": "markdown",
   "source": [
    "In universe Earth C-137, Rick discovered a special form of magnetic force\n",
    "between two balls if they are put in his new invented basket. Rick has `n`\n",
    "empty baskets, the `ith` basket is at `position[i]`, Morty has `m` balls and\n",
    "needs to distribute the balls into the baskets such that the **minimum\n",
    "magnetic force** between any two balls is **maximum**.\n",
    "\n",
    "Rick stated that magnetic force between two different balls at positions `x`\n",
    "and `y` is `|x - y|`.\n",
    "\n",
    "Given the integer array `position` and the integer `m`. Return _the required\n",
    "force_.\n",
    "\n",
    "\n",
    "\n",
    "**Example 1:**\n",
    "\n",
    "![](https://assets.leetcode.com/uploads/2020/08/11/q3v1.jpg)\n",
    "\n",
    "\n",
    "\n",
    "    Input: position = [1,2,3,4,7], m = 3\n",
    "    Output: 3\n",
    "    Explanation: Distributing the 3 balls into baskets 1, 4 and 7 will make the magnetic force between ball pairs [3, 3, 6]. The minimum magnetic force is 3. We cannot achieve a larger minimum magnetic force than 3.\n",
    "\n",
    "\n",
    "**Example 2:**\n",
    "\n",
    "\n",
    "\n",
    "    Input: position = [5,4,3,2,1,1000000000], m = 2\n",
    "    Output: 999999999\n",
    "    Explanation: We can use baskets 1 and 1000000000.\n",
    "\n",
    "\n",
    "\n",
    "\n",
    "**Constraints:**\n",
    "\n",
    "  * `n == position.length`\n",
    "  * `2 <= n <= 10^5`\n",
    "  * `1 <= position[i] <= 10^9`\n",
    "  * All integers in `position` are **distinct**.\n",
    "  * `2 <= m <= position.length`"
   ],
   "metadata": {}
  },
  {
   "outputs": [
    {
     "output_type": "execute_result",
     "data": {
      "text/plain": "max_distance (generic function with 1 method)"
     },
     "metadata": {},
     "execution_count": 1
    }
   ],
   "cell_type": "code",
   "source": [
    "# @lc code=start\n",
    "using LeetCode\n",
    "\n",
    "function max_distance(position::Vector{Int}, m::Int)\n",
    "    sort!(position)\n",
    "    lowest, highest = 1, position[end] - position[1]\n",
    "    while lowest < highest\n",
    "        mid = (highest + lowest + 1) ÷ 2\n",
    "        left_pos = position[1]\n",
    "        left_num = m - 1\n",
    "        for pos in position\n",
    "            if pos - left_pos >= mid\n",
    "                left_pos = pos\n",
    "                left_num -= 1\n",
    "                if left_num == 0\n",
    "                    break\n",
    "                end\n",
    "            end\n",
    "        end\n",
    "        if left_num == 0\n",
    "            lowest = mid\n",
    "        else\n",
    "            highest = mid - 1\n",
    "        end\n",
    "    end\n",
    "    lowest\n",
    "end\n",
    "# @lc code=end"
   ],
   "metadata": {},
   "execution_count": 1
  },
  {
   "cell_type": "markdown",
   "source": [
    "---\n",
    "\n",
    "*This notebook was generated using [Literate.jl](https://github.com/fredrikekre/Literate.jl).*"
   ],
   "metadata": {}
  }
 ],
 "nbformat_minor": 3,
 "metadata": {
  "language_info": {
   "file_extension": ".jl",
   "mimetype": "application/julia",
   "name": "julia",
   "version": "1.10.1"
  },
  "kernelspec": {
   "name": "julia-1.10",
   "display_name": "Julia 1.10.1",
   "language": "julia"
  }
 },
 "nbformat": 4
}
