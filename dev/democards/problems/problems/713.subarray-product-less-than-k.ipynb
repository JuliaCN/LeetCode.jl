{
 "cells": [
  {
   "cell_type": "markdown",
   "source": [
    "Your are given an array of positive integers `nums`.\n",
    "\n",
    "Count and print the number of (contiguous) subarrays where the product of all\n",
    "the elements in the subarray is less than `k`.\n",
    "\n",
    "**Example 1:**\n",
    "\n",
    "\n",
    "\n",
    "    Input: nums = [10, 5, 2, 6], k = 100\n",
    "    Output: 8\n",
    "    Explanation: The 8 subarrays that have product less than 100 are: [10], [5], [2], [6], [10, 5], [5, 2], [2, 6], [5, 2, 6].\n",
    "    Note that [10, 5, 2] is not included as the product of 100 is not strictly less than k.\n",
    "\n",
    "\n",
    "**Note:**\n",
    "\n",
    "* `0 < nums.length <= 50000`.\n",
    "* `0 < nums[i] < 1000`.\n",
    "* `0 <= k < 10^6`."
   ],
   "metadata": {}
  },
  {
   "outputs": [
    {
     "output_type": "execute_result",
     "data": {
      "text/plain": "num_subarray_productLess_than_k (generic function with 1 method)"
     },
     "metadata": {},
     "execution_count": 1
    }
   ],
   "cell_type": "code",
   "source": [
    "# @lc code=start\n",
    "using LeetCode\n",
    "\n",
    "function num_subarray_productLess_than_k(nums::Vector{Int}, k::Int)\n",
    "    k <= 1 && return 0\n",
    "    res, left = 0, 1\n",
    "    p = 1\n",
    "    for (right, val) in enumerate(nums)\n",
    "        p *= val\n",
    "        while p >= k\n",
    "            p ÷= nums[left]\n",
    "            left += 1\n",
    "        end\n",
    "        res += right - left + 1\n",
    "    end\n",
    "    return res\n",
    "end\n",
    "# @lc code=end"
   ],
   "metadata": {},
   "execution_count": 1
  },
  {
   "cell_type": "markdown",
   "source": [
    "---\n",
    "\n",
    "*This notebook was generated using [Literate.jl](https://github.com/fredrikekre/Literate.jl).*"
   ],
   "metadata": {}
  }
 ],
 "nbformat_minor": 3,
 "metadata": {
  "language_info": {
   "file_extension": ".jl",
   "mimetype": "application/julia",
   "name": "julia",
   "version": "1.7.0"
  },
  "kernelspec": {
   "name": "julia-1.7",
   "display_name": "Julia 1.7.0",
   "language": "julia"
  }
 },
 "nbformat": 4
}
