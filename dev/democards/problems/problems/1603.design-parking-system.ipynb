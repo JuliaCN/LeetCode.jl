{
 "cells": [
  {
   "cell_type": "markdown",
   "source": [
    "Design a parking system for a parking lot. The parking lot has three kinds of\n",
    "parking spaces: big, medium, and small, with a fixed number of slots for each\n",
    "size.\n",
    "\n",
    "Implement the `ParkingSystem` class:\n",
    "\n",
    "  * `ParkingSystem(int big, int medium, int small)` Initializes object of the `ParkingSystem` class. The number of slots for each parking space are given as part of the constructor.\n",
    "  * `bool addCar(int carType)` Checks whether there is a parking space of `carType` for the car that wants to get into the parking lot. `carType` can be of three kinds: big, medium, or small, which are represented by `1`, `2`, and `3` respectively. **A car can only park in a parking space of its**`carType`. If there is no space available, return `false`, else park the car in that size space and return `true`.\n",
    "\n",
    "\n",
    "\n",
    "**Example 1:**\n",
    "\n",
    "\n",
    "\n",
    "    **Input**\n",
    "    [\"ParkingSystem\", \"addCar\", \"addCar\", \"addCar\", \"addCar\"]\n",
    "    [[1, 1, 0], [1], [2], [3], [1]]\n",
    "    **Output**\n",
    "    [null, true, true, false, false]\n",
    "\n",
    "    **Explanation**\n",
    "    ParkingSystem parkingSystem = new ParkingSystem(1, 1, 0);\n",
    "    parkingSystem.addCar(1); // return true because there is 1 available slot for a big car\n",
    "    parkingSystem.addCar(2); // return true because there is 1 available slot for a medium car\n",
    "    parkingSystem.addCar(3); // return false because there is no available slot for a small car\n",
    "    parkingSystem.addCar(1); // return false because there is no available slot for a big car. It is already occupied.\n",
    "\n",
    "\n",
    "\n",
    "\n",
    "**Constraints:**\n",
    "\n",
    "  * `0 <= big, medium, small <= 1000`\n",
    "  * `carType` is `1`, `2`, or `3`\n",
    "  * At most `1000` calls will be made to `addCar`"
   ],
   "metadata": {}
  },
  {
   "outputs": [
    {
     "output_type": "execute_result",
     "data": {
      "text/plain": "add_car (generic function with 1 method)"
     },
     "metadata": {},
     "execution_count": 1
    }
   ],
   "cell_type": "code",
   "source": [
    "# @lc code=start\n",
    "using LeetCode\n",
    "\n",
    "struct ParkingSystem\n",
    "    A::Vector{Int}\n",
    "    ParkingSystem(big, median, small) = new([big, median, small])\n",
    "end\n",
    "\n",
    "function add_car(parking::ParkingSystem, car_type::Int)::Bool\n",
    "    parking.A[car_type] -= 1\n",
    "    return parking.A[car_type] >= 0\n",
    "end\n",
    "# @lc code=end"
   ],
   "metadata": {},
   "execution_count": 1
  },
  {
   "cell_type": "markdown",
   "source": [
    "---\n",
    "\n",
    "*This notebook was generated using [Literate.jl](https://github.com/fredrikekre/Literate.jl).*"
   ],
   "metadata": {}
  }
 ],
 "nbformat_minor": 3,
 "metadata": {
  "language_info": {
   "file_extension": ".jl",
   "mimetype": "application/julia",
   "name": "julia",
   "version": "1.6.3"
  },
  "kernelspec": {
   "name": "julia-1.6",
   "display_name": "Julia 1.6.3",
   "language": "julia"
  }
 },
 "nbformat": 4
}
