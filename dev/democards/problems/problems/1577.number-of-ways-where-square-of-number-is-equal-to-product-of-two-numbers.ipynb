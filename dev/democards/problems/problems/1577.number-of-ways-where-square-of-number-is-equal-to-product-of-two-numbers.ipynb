{
 "cells": [
  {
   "cell_type": "markdown",
   "source": [
    "Given two arrays of integers `nums1` and `nums2`, return the number of\n",
    "triplets formed (type 1 and type 2) under the following rules:\n",
    "\n",
    "  * Type 1: Triplet (i, j, k) if `nums1[i]2 == nums2[j] * nums2[k]` where `0 <= i < nums1.length` and `0 <= j < k < nums2.length`.\n",
    "  * Type 2: Triplet (i, j, k) if `nums2[i]2 == nums1[j] * nums1[k]` where `0 <= i < nums2.length` and `0 <= j < k < nums1.length`.\n",
    "\n",
    "\n",
    "\n",
    "**Example 1:**\n",
    "\n",
    "\n",
    "\n",
    "    Input: nums1 = [7,4], nums2 = [5,2,8,9]\n",
    "    Output: 1\n",
    "    Explanation: Type 1: (1,1,2), nums1[1]^2 = nums2[1] * nums2[2]. (4^2 = 2 * 8).\n",
    "\n",
    "\n",
    "**Example 2:**\n",
    "\n",
    "\n",
    "\n",
    "    Input: nums1 = [1,1], nums2 = [1,1,1]\n",
    "    Output: 9\n",
    "    Explanation: All Triplets are valid, because 1^2 = 1 * 1.\n",
    "    Type 1: (0,0,1), (0,0,2), (0,1,2), (1,0,1), (1,0,2), (1,1,2).  nums1[i]^2 = nums2[j] * nums2[k].\n",
    "    Type 2: (0,0,1), (1,0,1), (2,0,1). nums2[i]^2 = nums1[j] * nums1[k].\n",
    "\n",
    "\n",
    "**Example 3:**\n",
    "\n",
    "\n",
    "\n",
    "    Input: nums1 = [7,7,8,3], nums2 = [1,2,9,7]\n",
    "    Output: 2\n",
    "    Explanation: There are 2 valid triplets.\n",
    "    Type 1: (3,0,2).  nums1[3]^2 = nums2[0] * nums2[2].\n",
    "    Type 2: (3,0,1).  nums2[3]^2 = nums1[0] * nums1[1].\n",
    "\n",
    "\n",
    "**Example 4:**\n",
    "\n",
    "\n",
    "\n",
    "    Input: nums1 = [4,7,9,11,23], nums2 = [3,5,1024,12,18]\n",
    "    Output: 0\n",
    "    Explanation: There are no valid triplets.\n",
    "\n",
    "\n",
    "\n",
    "\n",
    "**Constraints:**\n",
    "\n",
    "  * `1 <= nums1.length, nums2.length <= 1000`\n",
    "  * `1 <= nums1[i], nums2[i] <= 10^5`"
   ],
   "metadata": {}
  },
  {
   "outputs": [
    {
     "output_type": "execute_result",
     "data": {
      "text/plain": "num_triplets (generic function with 1 method)"
     },
     "metadata": {},
     "execution_count": 1
    }
   ],
   "cell_type": "code",
   "source": [
    "# @lc code=start\n",
    "using LeetCode\n",
    "\n",
    "function num_triplets(nums1::Vector{Int}, nums2::Vector{Int})\n",
    "    cnt1 = counter(nums1)\n",
    "    cnt2 = counter(nums2)\n",
    "    sqr_cnt1 = Dict(k ^ 2 => v for (k, v) in cnt1)\n",
    "    sqr_cnt2 = Dict(k ^ 2 => v for (k, v) in cnt2)\n",
    "    res = 0\n",
    "    for (k1, v1) in cnt1\n",
    "        for (k2, v2) in sqr_cnt2\n",
    "            if k1 ^ 2 == k2\n",
    "                res += (v1 - 1) * v1 * v2\n",
    "            else\n",
    "                res += cnt1[k2 ÷ k1] * v1 * v2\n",
    "            end\n",
    "        end\n",
    "    end\n",
    "    for (k1, v1) in cnt2\n",
    "        for (k2, v2) in sqr_cnt1\n",
    "            if k2 % k1 == 0\n",
    "                if k1 ^ 2 == k2\n",
    "                    res += (v1 - 1) * v1 * v2\n",
    "                else\n",
    "                    res += cnt2[k2 ÷ k1] * v1 * v2\n",
    "                end\n",
    "            end\n",
    "        end\n",
    "    end\n",
    "    res ÷ 2\n",
    "end\n",
    "# @lc code=end"
   ],
   "metadata": {},
   "execution_count": 1
  },
  {
   "cell_type": "markdown",
   "source": [
    "---\n",
    "\n",
    "*This notebook was generated using [Literate.jl](https://github.com/fredrikekre/Literate.jl).*"
   ],
   "metadata": {}
  }
 ],
 "nbformat_minor": 3,
 "metadata": {
  "language_info": {
   "file_extension": ".jl",
   "mimetype": "application/julia",
   "name": "julia",
   "version": "1.8.2"
  },
  "kernelspec": {
   "name": "julia-1.8",
   "display_name": "Julia 1.8.2",
   "language": "julia"
  }
 },
 "nbformat": 4
}
