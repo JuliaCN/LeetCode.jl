{
 "cells": [
  {
   "cell_type": "markdown",
   "source": [
    "Given an array of numbers `arr`. A sequence of numbers is called an arithmetic\n",
    "progression if the difference between any two consecutive elements is the\n",
    "same.\n",
    "\n",
    "Return `true` if the array can be rearranged to form an arithmetic\n",
    "progression, otherwise, return `false`.\n",
    "\n",
    "\n",
    "\n",
    "**Example 1:**\n",
    "\n",
    "\n",
    "\n",
    "    Input: arr = [3,5,1]\n",
    "    Output: true\n",
    "    Explanation: We can reorder the elements as [1,3,5] or [5,3,1] with differences 2 and -2 respectively, between each consecutive elements.\n",
    "\n",
    "\n",
    "**Example 2:**\n",
    "\n",
    "\n",
    "\n",
    "    Input: arr = [1,2,4]\n",
    "    Output: false\n",
    "    Explanation: There is no way to reorder the elements to obtain an arithmetic progression.\n",
    "\n",
    "\n",
    "\n",
    "\n",
    "**Constraints:**\n",
    "\n",
    "  * `2 <= arr.length <= 1000`\n",
    "  * `-10^6 <= arr[i] <= 10^6`"
   ],
   "metadata": {}
  },
  {
   "outputs": [
    {
     "output_type": "execute_result",
     "data": {
      "text/plain": "can_make_arith (generic function with 1 method)"
     },
     "metadata": {},
     "execution_count": 1
    }
   ],
   "cell_type": "code",
   "source": [
    "# @lc code=start\n",
    "using LeetCode\n",
    "\n",
    "can_make_arith(arr::Vector{Int})::Bool = length(unique!(diff(sort(arr)))) == 1\n",
    "\n",
    "# @lc code=end"
   ],
   "metadata": {},
   "execution_count": 1
  },
  {
   "cell_type": "markdown",
   "source": [
    "---\n",
    "\n",
    "*This notebook was generated using [Literate.jl](https://github.com/fredrikekre/Literate.jl).*"
   ],
   "metadata": {}
  }
 ],
 "nbformat_minor": 3,
 "metadata": {
  "language_info": {
   "file_extension": ".jl",
   "mimetype": "application/julia",
   "name": "julia",
   "version": "1.10.1"
  },
  "kernelspec": {
   "name": "julia-1.10",
   "display_name": "Julia 1.10.1",
   "language": "julia"
  }
 },
 "nbformat": 4
}
