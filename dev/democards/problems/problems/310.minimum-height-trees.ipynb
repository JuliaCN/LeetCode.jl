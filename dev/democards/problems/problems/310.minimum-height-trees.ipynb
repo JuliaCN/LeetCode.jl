{
 "cells": [
  {
   "cell_type": "markdown",
   "source": [
    "A tree is an undirected graph in which any two vertices are connected by\n",
    "_exactly_  one path. In other words, any connected graph without simple cycles\n",
    "is a tree.\n",
    "\n",
    "Given a tree of `n` nodes labelled from `0` to `n - 1`, and an array of `n -\n",
    "1` `edges` where `edges[i] = [ai, bi]` indicates that there is an undirected\n",
    "edge between the two nodes `ai` and `bi` in the tree, you can choose any node\n",
    "of the tree as the root. When you select a node `x` as the root, the result\n",
    "tree has height `h`. Among all possible rooted trees, those with minimum\n",
    "height (i.e. `min(h)`)  are called **minimum height trees** (MHTs).\n",
    "\n",
    "Return _a list of all **MHTs '** root labels_. You can return the answer in\n",
    "**any order**.\n",
    "\n",
    "The **height** of a rooted tree is the number of edges on the longest downward\n",
    "path between the root and a leaf.\n",
    "\n",
    "\n",
    "\n",
    "**Example 1:**\n",
    "\n",
    "![](https://assets.leetcode.com/uploads/2020/09/01/e1.jpg)\n",
    "\n",
    "\n",
    "\n",
    "    Input: n = 4, edges = [[1,0],[1,2],[1,3]]\n",
    "    Output: [1]\n",
    "    Explanation: As shown, the height of the tree is 1 when the root is the node with label 1 which is the only MHT.\n",
    "\n",
    "\n",
    "**Example 2:**\n",
    "\n",
    "![](https://assets.leetcode.com/uploads/2020/09/01/e2.jpg)\n",
    "\n",
    "\n",
    "\n",
    "    Input: n = 6, edges = [[3,0],[3,1],[3,2],[3,4],[5,4]]\n",
    "    Output: [3,4]\n",
    "\n",
    "\n",
    "**Example 3:**\n",
    "\n",
    "\n",
    "\n",
    "    Input: n = 1, edges = []\n",
    "    Output: [0]\n",
    "\n",
    "\n",
    "**Example 4:**\n",
    "\n",
    "\n",
    "\n",
    "    Input: n = 2, edges = [[0,1]]\n",
    "    Output: [0,1]\n",
    "\n",
    "\n",
    "\n",
    "\n",
    "**Constraints:**\n",
    "\n",
    "  * `1 <= n <= 2 * 104`\n",
    "  * `edges.length == n - 1`\n",
    "  * `0 <= ai, bi < n`\n",
    "  * `ai != bi`\n",
    "  * All the pairs `(ai, bi)` are distinct.\n",
    "  * The given input is **guaranteed** to be a tree and there will be **no repeated** edges."
   ],
   "metadata": {}
  },
  {
   "outputs": [
    {
     "output_type": "execute_result",
     "data": {
      "text/plain": "find_min_height_trees (generic function with 1 method)"
     },
     "metadata": {},
     "execution_count": 1
    }
   ],
   "cell_type": "code",
   "source": [
    "# @lc code=start\n",
    "using LeetCode\n",
    "\n",
    "function find_min_height_trees(n::Int, edges::Vector{Vector{Int}})\n",
    "    (n == 1) && return [1]\n",
    "    neighbor = [Set{Int}() for i in 1:n]\n",
    "    for (u, v) in edges\n",
    "        push!(neighbor[u], v)\n",
    "        push!(neighbor[v], u)\n",
    "    end\n",
    "    q = [i for i in 1:n if length(neighbor[i]) == 1]\n",
    "    dep_q = ones(Int, size(q))\n",
    "    m_dep = 1\n",
    "    visited = fill(false, n)\n",
    "    visited[q] .= true\n",
    "    res = q[:]\n",
    "    while !isempty(q)\n",
    "        u, dep = popfirst!(q), popfirst!(dep_q)\n",
    "        for nei in neighbor[u]\n",
    "            visited[nei] && continue\n",
    "            visited[nei] = true\n",
    "            push!(q, nei)\n",
    "            push!(dep_q, dep + 1)\n",
    "        end\n",
    "        if dep > m_dep\n",
    "            m_dep = dep\n",
    "            res = [u; q]\n",
    "        end\n",
    "    end\n",
    "    return res\n",
    "end\n",
    "# @lc code=end"
   ],
   "metadata": {},
   "execution_count": 1
  },
  {
   "cell_type": "markdown",
   "source": [
    "---\n",
    "\n",
    "*This notebook was generated using [Literate.jl](https://github.com/fredrikekre/Literate.jl).*"
   ],
   "metadata": {}
  }
 ],
 "nbformat_minor": 3,
 "metadata": {
  "language_info": {
   "file_extension": ".jl",
   "mimetype": "application/julia",
   "name": "julia",
   "version": "1.7.0"
  },
  "kernelspec": {
   "name": "julia-1.7",
   "display_name": "Julia 1.7.0",
   "language": "julia"
  }
 },
 "nbformat": 4
}
