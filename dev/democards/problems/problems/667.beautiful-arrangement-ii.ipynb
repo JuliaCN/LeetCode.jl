{
 "cells": [
  {
   "cell_type": "markdown",
   "source": [
    "Given two integers `n` and `k`, you need to construct a list which contains\n",
    "`n` different positive integers ranging from `1` to `n` and obeys the\n",
    "following requirement:\n",
    "Suppose this list is [a1, a2, a3, ... , an], then the list [|a1 \\- a2|, |a2 \\-\n",
    "a3|, |a3 \\- a4|, ... , |an-1 \\- an|] has exactly `k` distinct integers.\n",
    "\n",
    "If there are multiple answers, print any of them.\n",
    "\n",
    "**Example 1:**\n",
    "\n",
    "\n",
    "\n",
    "    Input: n = 3, k = 1\n",
    "    Output: [1, 2, 3]\n",
    "    Explanation: The [1, 2, 3] has three different positive integers ranging from 1 to 3, and the [1, 1] has exactly 1 distinct integer: 1.\n",
    "\n",
    "\n",
    "**Example 2:**\n",
    "\n",
    "\n",
    "\n",
    "    Input: n = 3, k = 2\n",
    "    Output: [1, 3, 2]\n",
    "    Explanation: The [1, 3, 2] has three different positive integers ranging from 1 to 3, and the [2, 1] has exactly 2 distinct integers: 1 and 2.\n",
    "\n",
    "\n",
    "**Note:**\n",
    "\n",
    "  1. The `n` and `k` are in the range 1 <= k < n <= 104."
   ],
   "metadata": {}
  },
  {
   "outputs": [
    {
     "output_type": "execute_result",
     "data": {
      "text/plain": "beautiful_arrangement (generic function with 1 method)"
     },
     "metadata": {},
     "execution_count": 1
    }
   ],
   "cell_type": "code",
   "source": [
    "# @lc code=start\n",
    "using LeetCode\n",
    "\n",
    "function beautiful_arrangement(n, k)\n",
    "    res = [1:(n-k);]\n",
    "    i = res[end] + 1\n",
    "    j = n\n",
    "    while i < j\n",
    "        push!(res, j)\n",
    "        j -= 1\n",
    "        push!(res, i)\n",
    "        i += 1\n",
    "    end\n",
    "    i == j && push!(res, i)\n",
    "    return res\n",
    "end\n",
    "# @lc code=end"
   ],
   "metadata": {},
   "execution_count": 1
  },
  {
   "cell_type": "markdown",
   "source": [
    "---\n",
    "\n",
    "*This notebook was generated using [Literate.jl](https://github.com/fredrikekre/Literate.jl).*"
   ],
   "metadata": {}
  }
 ],
 "nbformat_minor": 3,
 "metadata": {
  "language_info": {
   "file_extension": ".jl",
   "mimetype": "application/julia",
   "name": "julia",
   "version": "1.7.0"
  },
  "kernelspec": {
   "name": "julia-1.7",
   "display_name": "Julia 1.7.0",
   "language": "julia"
  }
 },
 "nbformat": 4
}
