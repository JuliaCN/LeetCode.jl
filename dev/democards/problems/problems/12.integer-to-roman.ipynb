{
 "cells": [
  {
   "cell_type": "markdown",
   "source": [
    "Roman numerals are represented by seven different symbols: `I`, `V`, `X`, `L`,\n",
    "`C`, `D` and `M`.\n",
    "\n",
    "\n",
    "\n",
    "    **Symbol**       **Value**\n",
    "    I             1\n",
    "    V             5\n",
    "    X             10\n",
    "    L             50\n",
    "    C             100\n",
    "    D             500\n",
    "    M             1000\n",
    "\n",
    "For example, `2` is written as `II` in Roman numeral, just two one's added\n",
    "together. `12` is written as `XII`, which is simply `X + II`. The number `27`\n",
    "is written as `XXVII`, which is `XX + V + II`.\n",
    "\n",
    "Roman numerals are usually written largest to smallest from left to right.\n",
    "However, the numeral for four is not `IIII`. Instead, the number four is\n",
    "written as `IV`. Because the one is before the five we subtract it making\n",
    "four. The same principle applies to the number nine, which is written as `IX`.\n",
    "There are six instances where subtraction is used:\n",
    "\n",
    "  * `I` can be placed before `V` (5) and `X` (10) to make 4 and 9.\n",
    "  * `X` can be placed before `L` (50) and `C` (100) to make 40 and 90.\n",
    "  * `C` can be placed before `D` (500) and `M` (1000) to make 400 and 900.\n",
    "\n",
    "Given an integer, convert it to a roman numeral.\n",
    "\n",
    "\n",
    "\n",
    "**Example 1:**\n",
    "\n",
    "\n",
    "\n",
    "    Input: num = 3\n",
    "    Output: \"III\"\n",
    "\n",
    "\n",
    "**Example 2:**\n",
    "\n",
    "\n",
    "\n",
    "    Input: num = 4\n",
    "    Output: \"IV\"\n",
    "\n",
    "\n",
    "**Example 3:**\n",
    "\n",
    "\n",
    "\n",
    "    Input: num = 9\n",
    "    Output: \"IX\"\n",
    "\n",
    "\n",
    "**Example 4:**\n",
    "\n",
    "\n",
    "\n",
    "    Input: num = 58\n",
    "    Output: \"LVIII\"\n",
    "    Explanation: L = 50, V = 5, III = 3.\n",
    "\n",
    "\n",
    "**Example 5:**\n",
    "\n",
    "\n",
    "\n",
    "    Input: num = 1994\n",
    "    Output: \"MCMXCIV\"\n",
    "    Explanation: M = 1000, CM = 900, XC = 90 and IV = 4.\n",
    "\n",
    "\n",
    "\n",
    "\n",
    "**Constraints:**\n",
    "\n",
    "  * `1 <= num <= 3999`"
   ],
   "metadata": {}
  },
  {
   "outputs": [
    {
     "output_type": "execute_result",
     "data": {
      "text/plain": "int_to_roman (generic function with 1 method)"
     },
     "metadata": {},
     "execution_count": 1
    }
   ],
   "cell_type": "code",
   "source": [
    "# @lc code=start\n",
    "using LeetCode\n",
    "function int_to_roman(num::Int)::String\n",
    "    table = (\"IVX\", \"XLC\", \"CDM\", \"M--\")\n",
    "    function get_num(n::Int, st::String)::String\n",
    "        I, V, X = st\n",
    "        0 <= n <= 3 && return I^n\n",
    "        n == 4 && return I * V\n",
    "        5 <= n <= 8 && return V * I^(n - 5)\n",
    "        return I * X\n",
    "    end\n",
    "    return join(reverse!([get_num(n, table[i]) for (i, n) in enumerate(digits(num))]))\n",
    "end\n",
    "\n",
    "# @lc code=end"
   ],
   "metadata": {},
   "execution_count": 1
  },
  {
   "cell_type": "markdown",
   "source": [
    "---\n",
    "\n",
    "*This notebook was generated using [Literate.jl](https://github.com/fredrikekre/Literate.jl).*"
   ],
   "metadata": {}
  }
 ],
 "nbformat_minor": 3,
 "metadata": {
  "language_info": {
   "file_extension": ".jl",
   "mimetype": "application/julia",
   "name": "julia",
   "version": "1.8.2"
  },
  "kernelspec": {
   "name": "julia-1.8",
   "display_name": "Julia 1.8.2",
   "language": "julia"
  }
 },
 "nbformat": 4
}
