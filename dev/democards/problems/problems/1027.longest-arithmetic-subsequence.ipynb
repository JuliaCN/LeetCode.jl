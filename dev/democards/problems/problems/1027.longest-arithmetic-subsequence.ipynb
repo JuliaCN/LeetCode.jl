{
 "cells": [
  {
   "cell_type": "markdown",
   "source": [
    "Given an array `A` of integers, return the **length** of the longest\n",
    "arithmetic subsequence in `A`.\n",
    "\n",
    "Recall that a _subsequence_ of `A` is a list `A[i_1], A[i_2], ..., A[i_k]`\n",
    "with `0 <= i_1 < i_2 < ... < i_k <= A.length - 1`, and that a sequence `B` is\n",
    "_arithmetic_ if `B[i+1] - B[i]` are all the same value (for `0 <= i < B.length\n",
    "- 1`).\n",
    "\n",
    "\n",
    "\n",
    "**Example 1:**\n",
    "\n",
    "\n",
    "\n",
    "    Input: A = [3,6,9,12]\n",
    "    Output: 4\n",
    "    Explanation:\n",
    "    The whole array is an arithmetic sequence with steps of length = 3.\n",
    "\n",
    "\n",
    "**Example 2:**\n",
    "\n",
    "\n",
    "\n",
    "    Input: A = [9,4,7,2,10]\n",
    "    Output: 3\n",
    "    Explanation:\n",
    "    The longest arithmetic subsequence is [4,7,10].\n",
    "\n",
    "\n",
    "**Example 3:**\n",
    "\n",
    "\n",
    "\n",
    "    Input: A = [20,1,15,3,10,5,8]\n",
    "    Output: 4\n",
    "    Explanation:\n",
    "    The longest arithmetic subsequence is [20,15,10,5].\n",
    "\n",
    "\n",
    "\n",
    "\n",
    "**Constraints:**\n",
    "\n",
    "  * `2 <= A.length <= 1000`\n",
    "  * `0 <= A[i] <= 500`"
   ],
   "metadata": {}
  },
  {
   "outputs": [
    {
     "output_type": "execute_result",
     "data": {
      "text/plain": "longest_arith_seq_length (generic function with 1 method)"
     },
     "metadata": {},
     "execution_count": 1
    }
   ],
   "cell_type": "code",
   "source": [
    "# @lc code=start\n",
    "using LeetCode\n",
    "\n",
    "function longest_arith_seq_length(nums::Vector{Int})\n",
    "    len = length(nums)\n",
    "    len == 1 && return 0\n",
    "    dp = fill(0, len, 1001)\n",
    "    res = 0\n",
    "    for i in 1:len, j in 1:(i - 1)\n",
    "        d = nums[i] - nums[j] + 501\n",
    "        dp[i, d] = max(dp[i, d], dp[j, d] + 1)\n",
    "        res = max(res, dp[i, d])\n",
    "    end\n",
    "    return res + 1\n",
    "end\n",
    "# @lc code=end"
   ],
   "metadata": {},
   "execution_count": 1
  },
  {
   "cell_type": "markdown",
   "source": [
    "---\n",
    "\n",
    "*This notebook was generated using [Literate.jl](https://github.com/fredrikekre/Literate.jl).*"
   ],
   "metadata": {}
  }
 ],
 "nbformat_minor": 3,
 "metadata": {
  "language_info": {
   "file_extension": ".jl",
   "mimetype": "application/julia",
   "name": "julia",
   "version": "1.7.2"
  },
  "kernelspec": {
   "name": "julia-1.7",
   "display_name": "Julia 1.7.2",
   "language": "julia"
  }
 },
 "nbformat": 4
}
