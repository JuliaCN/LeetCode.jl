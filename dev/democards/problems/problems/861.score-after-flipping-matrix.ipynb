{
 "cells": [
  {
   "cell_type": "markdown",
   "source": [
    "We have a two dimensional matrix `A` where each value is `0` or `1`.\n",
    "\n",
    "A move consists of choosing any row or column, and toggling each value in that\n",
    "row or column: changing all `0`s to `1`s, and all `1`s to `0`s.\n",
    "\n",
    "After making any number of moves, every row of this matrix is interpreted as a\n",
    "binary number, and the score of the matrix is the sum of these numbers.\n",
    "\n",
    "Return the highest possible score.\n",
    "\n",
    "\n",
    "\n",
    "**Example 1:**\n",
    "\n",
    "\n",
    "\n",
    "    Input: [[0,0,1,1],[1,0,1,0],[1,1,0,0]]\n",
    "    Output: 39\n",
    "    Explanation: Toggled to [[1,1,1,1],[1,0,0,1],[1,1,1,1]].\n",
    "    0b1111 + 0b1001 + 0b1111 = 15 + 9 + 15 = 39\n",
    "\n",
    "\n",
    "\n",
    "**Note:**\n",
    "\n",
    "  1. `1 <= A.length <= 20`\n",
    "  2. `1 <= A[0].length <= 20`\n",
    "  3. `A[i][j]` is `0` or `1`."
   ],
   "metadata": {}
  },
  {
   "outputs": [
    {
     "output_type": "execute_result",
     "data": {
      "text/plain": "matrix_score (generic function with 1 method)"
     },
     "metadata": {},
     "execution_count": 1
    }
   ],
   "cell_type": "code",
   "source": [
    "# @lc code=start\n",
    "using LeetCode\n",
    "\n",
    "function matrix_score(A::Vector{Vector{Int}})::Int\n",
    "    for vec in A\n",
    "        vec .⊻= 0 ⊻ vec[1]  ## the first column are all converted to 1\n",
    "    end\n",
    "    w, h, res = length(A[1]), length(A), 0\n",
    "    # res = h << (w - 1)\n",
    "    for i in 1:w\n",
    "        temp_cnt = 0\n",
    "        for j in 1:h\n",
    "            temp_cnt += A[j][i]\n",
    "        end\n",
    "        res += max(temp_cnt, h - temp_cnt) << (w - i)\n",
    "    end\n",
    "    return res\n",
    "end\n",
    "# @lc code=end"
   ],
   "metadata": {},
   "execution_count": 1
  },
  {
   "cell_type": "markdown",
   "source": [
    "---\n",
    "\n",
    "*This notebook was generated using [Literate.jl](https://github.com/fredrikekre/Literate.jl).*"
   ],
   "metadata": {}
  }
 ],
 "nbformat_minor": 3,
 "metadata": {
  "language_info": {
   "file_extension": ".jl",
   "mimetype": "application/julia",
   "name": "julia",
   "version": "1.6.1"
  },
  "kernelspec": {
   "name": "julia-1.6",
   "display_name": "Julia 1.6.1",
   "language": "julia"
  }
 },
 "nbformat": 4
}
