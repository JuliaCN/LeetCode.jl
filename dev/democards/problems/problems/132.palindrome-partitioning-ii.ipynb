{
 "cells": [
  {
   "cell_type": "markdown",
   "source": [
    "Given a string `s`, partition `s` such that every substring of the partition\n",
    "is a palindrome.\n",
    "\n",
    "Return _the minimum cuts needed_ for a palindrome partitioning of `s`.\n",
    "\n",
    "\n",
    "\n",
    "**Example 1:**\n",
    "\n",
    "\n",
    "\n",
    "    Input: s = \"aab\"\n",
    "    Output: 1\n",
    "    Explanation: The palindrome partitioning [\"aa\",\"b\"] could be produced using 1 cut.\n",
    "\n",
    "\n",
    "**Example 2:**\n",
    "\n",
    "\n",
    "\n",
    "    Input: s = \"a\"\n",
    "    Output: 0\n",
    "\n",
    "\n",
    "**Example 3:**\n",
    "\n",
    "\n",
    "\n",
    "    Input: s = \"ab\"\n",
    "    Output: 1\n",
    "\n",
    "\n",
    "\n",
    "\n",
    "**Constraints:**\n",
    "\n",
    "  * `1 <= s.length <= 2000`\n",
    "  * `s` consists of lower-case English letters only."
   ],
   "metadata": {}
  },
  {
   "outputs": [
    {
     "output_type": "execute_result",
     "data": {
      "text/plain": "partition_ps132 (generic function with 1 method)"
     },
     "metadata": {},
     "execution_count": 1
    }
   ],
   "cell_type": "code",
   "source": [
    "# @lc code=start\n",
    "using LeetCode\n",
    "\n",
    "function partition_ps132(s::String)\n",
    "    len = length(s)\n",
    "    is_ps = fill(true, len, len)\n",
    "    dp = fill(typemax(Int) >> 4, len)\n",
    "    dp[1] = 0\n",
    "    for i in len:-1:1, j in (i + 1):len\n",
    "        is_ps[i, j] = (s[i] == s[j]) && is_ps[i + 1, j - 1]\n",
    "    end\n",
    "    for i in 2:len\n",
    "        if is_ps[1, i]\n",
    "            dp[i] = 0\n",
    "        else\n",
    "            for j in 2:i\n",
    "                (is_ps[j, i]) && (dp[i] = min(dp[i], dp[j - 1] + 1))\n",
    "            end\n",
    "        end\n",
    "    end\n",
    "    return dp[end]\n",
    "end\n",
    "# @lc code=end"
   ],
   "metadata": {},
   "execution_count": 1
  },
  {
   "cell_type": "markdown",
   "source": [
    "---\n",
    "\n",
    "*This notebook was generated using [Literate.jl](https://github.com/fredrikekre/Literate.jl).*"
   ],
   "metadata": {}
  }
 ],
 "nbformat_minor": 3,
 "metadata": {
  "language_info": {
   "file_extension": ".jl",
   "mimetype": "application/julia",
   "name": "julia",
   "version": "1.6.0"
  },
  "kernelspec": {
   "name": "julia-1.6",
   "display_name": "Julia 1.6.0",
   "language": "julia"
  }
 },
 "nbformat": 4
}
