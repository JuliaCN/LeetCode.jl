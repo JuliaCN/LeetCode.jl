{
 "cells": [
  {
   "cell_type": "markdown",
   "source": [
    "A peak element is an element that is strictly greater than its neighbors.\n",
    "\n",
    "Given an integer array `nums`, find a peak element, and return its index. If\n",
    "the array contains multiple peaks, return the index to **any of the peaks**.\n",
    "\n",
    "You may imagine that `nums[-1] = nums[n] = -∞`.\n",
    "\n",
    "\n",
    "\n",
    "**Example 1:**\n",
    "\n",
    "\n",
    "\n",
    "    Input: nums = [1,2,3,1]\n",
    "    Output: 2\n",
    "    Explanation: 3 is a peak element and your function should return the index number 2.\n",
    "\n",
    "**Example 2:**\n",
    "\n",
    "\n",
    "\n",
    "    Input: nums = [1,2,1,3,5,6,4]\n",
    "    Output: 5\n",
    "    Explanation: Your function can return either index number 1 where the peak element is 2, or index number 5 where the peak element is 6.\n",
    "\n",
    "\n",
    "\n",
    "**Constraints:**\n",
    "\n",
    "  * `1 <= nums.length <= 1000`\n",
    "  * `-231 <= nums[i] <= 231 - 1`\n",
    "  * `nums[i] != nums[i + 1]` for all valid `i`.\n",
    "\n",
    "\n",
    "\n",
    "**Follow up:**  Could you implement a solution with logarithmic complexity?"
   ],
   "metadata": {}
  },
  {
   "outputs": [
    {
     "output_type": "execute_result",
     "data": {
      "text/plain": "find_peak_element (generic function with 1 method)"
     },
     "metadata": {},
     "execution_count": 1
    }
   ],
   "cell_type": "code",
   "source": [
    "# @lc code=start\n",
    "using LeetCode\n",
    "\n",
    "find_peak_element(nums::Vector{Int}) = argmax(nums) - 1\n",
    "\n",
    "# @lc code=end"
   ],
   "metadata": {},
   "execution_count": 1
  },
  {
   "cell_type": "markdown",
   "source": [
    "---\n",
    "\n",
    "*This notebook was generated using [Literate.jl](https://github.com/fredrikekre/Literate.jl).*"
   ],
   "metadata": {}
  }
 ],
 "nbformat_minor": 3,
 "metadata": {
  "language_info": {
   "file_extension": ".jl",
   "mimetype": "application/julia",
   "name": "julia",
   "version": "1.10.1"
  },
  "kernelspec": {
   "name": "julia-1.10",
   "display_name": "Julia 1.10.1",
   "language": "julia"
  }
 },
 "nbformat": 4
}
