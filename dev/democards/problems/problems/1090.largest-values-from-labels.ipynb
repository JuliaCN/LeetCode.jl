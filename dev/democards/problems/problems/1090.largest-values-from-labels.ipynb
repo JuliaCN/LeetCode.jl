{
 "cells": [
  {
   "cell_type": "markdown",
   "source": [
    "We have a set of items: the `i`-th item has value `values[i]` and label\n",
    "`labels[i]`.\n",
    "\n",
    "Then, we choose a subset `S` of these items, such that:\n",
    "\n",
    "  * `|S| <= num_wanted`\n",
    "  * For every label `L`, the number of items in `S` with label `L` is `<= use_limit`.\n",
    "\n",
    "Return the largest possible sum of the subset `S`.\n",
    "\n",
    "\n",
    "\n",
    "**Example 1:**\n",
    "\n",
    "\n",
    "\n",
    "    Input: values = [5,4,3,2,1], labels = [1,1,2,2,3], num_wanted = 3, use_limit = 1\n",
    "    Output: 9\n",
    "    Explanation: The subset chosen is the first, third, and fifth item.\n",
    "\n",
    "\n",
    "**Example 2:**\n",
    "\n",
    "\n",
    "\n",
    "    Input: values = [5,4,3,2,1], labels = [1,3,3,3,2], num_wanted = 3, use_limit = 2\n",
    "    Output: 12\n",
    "    Explanation: The subset chosen is the first, second, and third item.\n",
    "\n",
    "\n",
    "**Example 3:**\n",
    "\n",
    "\n",
    "\n",
    "    Input: values = [9,8,8,7,6], labels = [0,0,0,1,1], num_wanted = 3, use_limit = 1\n",
    "    Output:  16\n",
    "    Explanation: The subset chosen is the first and fourth item.\n",
    "\n",
    "\n",
    "**Example 4:**\n",
    "\n",
    "\n",
    "\n",
    "    Input: values = [9,8,8,7,6], labels = [0,0,0,1,1], num_wanted = 3, use_limit = 2\n",
    "    Output: 24\n",
    "    Explanation: The subset chosen is the first, second, and fourth item.\n",
    "\n",
    "\n",
    "\n",
    "\n",
    "**Note:**\n",
    "\n",
    "  1. `1 <= values.length == labels.length <= 20000`\n",
    "  2. `0 <= values[i], labels[i] <= 20000`\n",
    "  3. `1 <= num_wanted, use_limit <= values.length`"
   ],
   "metadata": {}
  },
  {
   "outputs": [
    {
     "output_type": "execute_result",
     "data": {
      "text/plain": "largest_vals_from_labels (generic function with 1 method)"
     },
     "metadata": {},
     "execution_count": 1
    }
   ],
   "cell_type": "code",
   "source": [
    "# @lc code=start\n",
    "using LeetCode\n",
    "\n",
    "function largest_vals_from_labels(\n",
    "    vals::Vector{Int}, labels::Vector{Int}, num_wanted::Int, use_limit::Int\n",
    ")\n",
    "    dc = Dict{Int,Vector{Int}}()\n",
    "    for (idx, label) in enumerate(labels)\n",
    "        v = get!(dc, label, Int[])\n",
    "        push!(v, vals[idx])\n",
    "    end\n",
    "    res = Int[]\n",
    "    for v in values(dc)\n",
    "        sort!(v; rev=true)\n",
    "        append!(res, @view(v[1:min(use_limit, end)]))\n",
    "    end\n",
    "    sort!(res; rev=true)\n",
    "    return sum(res[1:min(num_wanted, end)])\n",
    "end\n",
    "# @lc code=end"
   ],
   "metadata": {},
   "execution_count": 1
  },
  {
   "cell_type": "markdown",
   "source": [
    "---\n",
    "\n",
    "*This notebook was generated using [Literate.jl](https://github.com/fredrikekre/Literate.jl).*"
   ],
   "metadata": {}
  }
 ],
 "nbformat_minor": 3,
 "metadata": {
  "language_info": {
   "file_extension": ".jl",
   "mimetype": "application/julia",
   "name": "julia",
   "version": "1.10.1"
  },
  "kernelspec": {
   "name": "julia-1.10",
   "display_name": "Julia 1.10.1",
   "language": "julia"
  }
 },
 "nbformat": 4
}
