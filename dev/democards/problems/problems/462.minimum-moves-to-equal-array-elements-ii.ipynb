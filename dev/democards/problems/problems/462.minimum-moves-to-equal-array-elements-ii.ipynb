{
 "cells": [
  {
   "cell_type": "markdown",
   "source": [
    "Given a **non-empty** integer array, find the minimum number of moves required\n",
    "to make all array elements equal, where a move is incrementing a selected\n",
    "element by 1 or decrementing a selected element by 1.\n",
    "\n",
    "You may assume the array's length is at most 10,000.\n",
    "\n",
    "**Example:**\n",
    "\n",
    "\n",
    "\n",
    "    Input:\n",
    "    [1,2,3]\n",
    "\n",
    "    Output:\n",
    "    2\n",
    "\n",
    "    Explanation:\n",
    "    Only two moves are needed (remember each move increments or decrements one element):\n",
    "\n",
    "    [1,2,3]  =>  [2,2,3]  =>  [2,2,2]"
   ],
   "metadata": {}
  },
  {
   "outputs": [
    {
     "output_type": "execute_result",
     "data": {
      "text/plain": "min_moves2 (generic function with 1 method)"
     },
     "metadata": {},
     "execution_count": 1
    }
   ],
   "cell_type": "code",
   "source": [
    "# @lc code=start\n",
    "using LeetCode\n",
    "\n",
    "function min_moves2(nums::Vector{Int})\n",
    "    median = partialsort!(nums, (length(nums) + 1) ÷ 2)\n",
    "    return sum(abs, num - median for num in nums)\n",
    "end\n",
    "# @lc code=end"
   ],
   "metadata": {},
   "execution_count": 1
  },
  {
   "cell_type": "markdown",
   "source": [
    "---\n",
    "\n",
    "*This notebook was generated using [Literate.jl](https://github.com/fredrikekre/Literate.jl).*"
   ],
   "metadata": {}
  }
 ],
 "nbformat_minor": 3,
 "metadata": {
  "language_info": {
   "file_extension": ".jl",
   "mimetype": "application/julia",
   "name": "julia",
   "version": "1.7.2"
  },
  "kernelspec": {
   "name": "julia-1.7",
   "display_name": "Julia 1.7.2",
   "language": "julia"
  }
 },
 "nbformat": 4
}
