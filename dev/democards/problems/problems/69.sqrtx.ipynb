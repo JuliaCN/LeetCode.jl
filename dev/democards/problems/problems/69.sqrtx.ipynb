{
 "cells": [
  {
   "cell_type": "markdown",
   "source": [
    "Given a non-negative integer `x`, compute and return _the square root of_ `x`.\n",
    "\n",
    "Since the return type is an integer, the decimal digits are **truncated** ,\n",
    "and only **the integer part** of the result is returned.\n",
    "\n",
    "\n",
    "\n",
    "**Example 1:**\n",
    "\n",
    "\n",
    "\n",
    "    Input: x = 4\n",
    "    Output: 2\n",
    "\n",
    "\n",
    "**Example 2:**\n",
    "\n",
    "\n",
    "\n",
    "    Input: x = 8\n",
    "    Output: 2\n",
    "    Explanation: The square root of 8 is 2.82842..., and since the decimal part is truncated, 2 is returned.\n",
    "\n",
    "\n",
    "\n",
    "**Constraints:**\n",
    "\n",
    "  * `0 <= x <= 231 - 1`"
   ],
   "metadata": {}
  },
  {
   "outputs": [
    {
     "output_type": "execute_result",
     "data": {
      "text/plain": "mysqrt (generic function with 1 method)"
     },
     "metadata": {},
     "execution_count": 1
    }
   ],
   "cell_type": "code",
   "source": [
    "# @lc code=start\n",
    "using LeetCode\n",
    "\n",
    "my_sqrt = isqrt\n",
    "function mysqrt(x::Int)::Int\n",
    "    x < 0 && throw(DomainError(x))\n",
    "    left, right = 0, x\n",
    "    while left <= right\n",
    "        mid = left + ((right - left) >> 1)\n",
    "        if mid^2 > x\n",
    "            right = mid - 1\n",
    "        else\n",
    "            left = mid + 1\n",
    "        end\n",
    "    end\n",
    "    return right\n",
    "end\n",
    "# @lc code=end"
   ],
   "metadata": {},
   "execution_count": 1
  },
  {
   "cell_type": "markdown",
   "source": [
    "---\n",
    "\n",
    "*This notebook was generated using [Literate.jl](https://github.com/fredrikekre/Literate.jl).*"
   ],
   "metadata": {}
  }
 ],
 "nbformat_minor": 3,
 "metadata": {
  "language_info": {
   "file_extension": ".jl",
   "mimetype": "application/julia",
   "name": "julia",
   "version": "1.8.2"
  },
  "kernelspec": {
   "name": "julia-1.8",
   "display_name": "Julia 1.8.2",
   "language": "julia"
  }
 },
 "nbformat": 4
}
