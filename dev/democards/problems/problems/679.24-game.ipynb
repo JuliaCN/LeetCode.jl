{
 "cells": [
  {
   "cell_type": "markdown",
   "source": [
    "You have 4 cards each containing a number from 1 to 9. You need to judge\n",
    "whether they could operated through `*`, `/`, `+`, `-`, `(`, `)` to get the\n",
    "value of 24.\n",
    "\n",
    "**Example 1:**\n",
    "\n",
    "\n",
    "\n",
    "    Input: [4, 1, 8, 7]\n",
    "    Output: True\n",
    "    Explanation: (8-4) * (7-1) = 24\n",
    "\n",
    "\n",
    "**Example 2:**\n",
    "\n",
    "\n",
    "\n",
    "    Input: [1, 2, 1, 2]\n",
    "    Output: False\n",
    "\n",
    "\n",
    "**Note:**\n",
    "\n",
    "  1. The division operator `/` represents real division, not integer division. For example, 4 / (1 - 2/3) = 12.\n",
    "  2. Every operation done is between two numbers. In particular, we cannot use `-` as a unary operator. For example, with `[1, 1, 1, 1]` as input, the expression `-1 - 1 - 1 - 1` is not allowed.\n",
    "  3. You cannot concatenate numbers together. For example, if the input is `[1, 2, 1, 2]`, we cannot write this as 12 + 12."
   ],
   "metadata": {}
  },
  {
   "outputs": [
    {
     "output_type": "execute_result",
     "data": {
      "text/plain": "judgePoint24 (generic function with 1 method)"
     },
     "metadata": {},
     "execution_count": 1
    }
   ],
   "cell_type": "code",
   "source": [
    "# @lc code=start\n",
    "using LeetCode\n",
    "\n",
    "function judgePoint24(nums::Vector)::Bool\n",
    "    n = length(nums)\n",
    "    if n == 1\n",
    "        return nums[1] == 24\n",
    "    else\n",
    "        for i in 1:n\n",
    "            for j in 1:n\n",
    "                if j != i\n",
    "                    rest = [nums[k] for k in 1:n if k != i && k != j]\n",
    "                    if judgePoint24([rest..., nums[i] + nums[j]]) ||\n",
    "                       judgePoint24([rest..., nums[i] - nums[j]]) ||\n",
    "                       judgePoint24([rest..., nums[j] - nums[i]]) ||\n",
    "                       judgePoint24([rest..., nums[i] * nums[j]]) ||\n",
    "                       (!iszero(nums[j]) && judgePoint24([rest..., nums[i]//nums[j]])) ||\n",
    "                       (!iszero(nums[i]) && judgePoint24([rest..., nums[j]//nums[i]]))\n",
    "                        return true\n",
    "                    end\n",
    "                end\n",
    "            end\n",
    "        end\n",
    "        false\n",
    "    end\n",
    "end\n",
    "# @lc code=end"
   ],
   "metadata": {},
   "execution_count": 1
  },
  {
   "cell_type": "markdown",
   "source": [
    "---\n",
    "\n",
    "*This notebook was generated using [Literate.jl](https://github.com/fredrikekre/Literate.jl).*"
   ],
   "metadata": {}
  }
 ],
 "nbformat_minor": 3,
 "metadata": {
  "language_info": {
   "file_extension": ".jl",
   "mimetype": "application/julia",
   "name": "julia",
   "version": "1.10.1"
  },
  "kernelspec": {
   "name": "julia-1.10",
   "display_name": "Julia 1.10.1",
   "language": "julia"
  }
 },
 "nbformat": 4
}
