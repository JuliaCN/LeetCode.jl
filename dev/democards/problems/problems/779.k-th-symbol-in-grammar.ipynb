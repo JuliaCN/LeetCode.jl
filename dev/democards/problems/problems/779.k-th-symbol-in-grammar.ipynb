{
 "cells": [
  {
   "cell_type": "markdown",
   "source": [
    "On the first row, we write a `0`. Now in every subsequent row, we look at the\n",
    "previous row and replace each occurrence of `0` with `01`, and each occurrence\n",
    "of `1` with `10`.\n",
    "\n",
    "Given row `N` and index `K`, return the `K`-th indexed symbol in row `N`. (The\n",
    "values of `K` are 1-indexed.) (1 indexed).\n",
    "\n",
    "\n",
    "\n",
    "    **Examples:**\n",
    "    Input: N = 1, K = 1\n",
    "    Output: 0\n",
    "\n",
    "    Input: N = 2, K = 1\n",
    "    Output: 0\n",
    "\n",
    "    Input: N = 2, K = 2\n",
    "    Output: 1\n",
    "\n",
    "    Input: N = 4, K = 5\n",
    "    Output: 1\n",
    "\n",
    "    Explanation:\n",
    "    row 1: 0\n",
    "    row 2: 01\n",
    "    row 3: 0110\n",
    "    row 4: 01101001\n",
    "\n",
    "\n",
    "**Note:**\n",
    "\n",
    "  1. `N` will be an integer in the range `[1, 30]`.\n",
    "  2. `K` will be an integer in the range `[1, 2^(N-1)]`."
   ],
   "metadata": {}
  },
  {
   "outputs": [
    {
     "output_type": "execute_result",
     "data": {
      "text/plain": "kth_grammar (generic function with 1 method)"
     },
     "metadata": {},
     "execution_count": 1
    }
   ],
   "cell_type": "code",
   "source": [
    "# @lc code=start\n",
    "using LeetCode\n",
    "\n",
    "function kth_grammar(N::Int, K::Int)\n",
    "    res = false\n",
    "    for i in 1:N\n",
    "        iseven(K) && (res = !res)\n",
    "        K = (K + 1) >> 1\n",
    "    end\n",
    "    res\n",
    "end\n",
    "# @lc code=end"
   ],
   "metadata": {},
   "execution_count": 1
  },
  {
   "cell_type": "markdown",
   "source": [
    "---\n",
    "\n",
    "*This notebook was generated using [Literate.jl](https://github.com/fredrikekre/Literate.jl).*"
   ],
   "metadata": {}
  }
 ],
 "nbformat_minor": 3,
 "metadata": {
  "language_info": {
   "file_extension": ".jl",
   "mimetype": "application/julia",
   "name": "julia",
   "version": "1.7.2"
  },
  "kernelspec": {
   "name": "julia-1.7",
   "display_name": "Julia 1.7.2",
   "language": "julia"
  }
 },
 "nbformat": 4
}
