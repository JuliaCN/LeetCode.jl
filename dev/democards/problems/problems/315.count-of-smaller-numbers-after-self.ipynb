{
 "cells": [
  {
   "cell_type": "markdown",
   "source": [
    "You are given an integer array _nums_ and you have to return a new _counts_\n",
    "array. The _counts_ array has the property where `counts[i]` is the number of\n",
    "smaller elements to the right of `nums[i]`.\n",
    "\n",
    "\n",
    "\n",
    "**Example 1:**\n",
    "\n",
    "\n",
    "\n",
    "    Input: nums = [5,2,6,1]\n",
    "    Output: [2,1,1,0]\n",
    "    Explanation:\n",
    "    To the right of 5 there are **2** smaller elements (2 and 1).\n",
    "    To the right of 2 there is only **1** smaller element (1).\n",
    "    To the right of 6 there is **1** smaller element (1).\n",
    "    To the right of 1 there is **0** smaller element.\n",
    "\n",
    "\n",
    "\n",
    "\n",
    "**Constraints:**\n",
    "\n",
    "  * `0 <= nums.length <= 10^5`\n",
    "  * `-10^4 <= nums[i] <= 10^4`"
   ],
   "metadata": {}
  },
  {
   "outputs": [
    {
     "output_type": "execute_result",
     "data": {
      "text/plain": "count_smaller_method2 (generic function with 1 method)"
     },
     "metadata": {},
     "execution_count": 1
    }
   ],
   "cell_type": "code",
   "source": [
    "# @lc code=start\n",
    "using LeetCode\n",
    "\n",
    "# method 1: using merge sort\n",
    "function count_smaller_method1(arr::Vector{Int})::Vector{Int}\n",
    "    res = fill(0, length(arr))\n",
    "    function merge_sort(arr::AbstractVector)::AbstractVector\n",
    "        # arr = [(idx1, num1), ...]\n",
    "        (n = length(arr)) == 1 && return arr\n",
    "        mid = n >> 1\n",
    "        lpart = merge_sort(@view(arr[1:mid]))\n",
    "        rpart = merge_sort(@view(arr[(mid + 1):end]))\n",
    "        return merge_sorted(lpart, rpart)\n",
    "    end\n",
    "    function merge_sorted(\n",
    "        lpart::AbstractVector, rpart::AbstractVector\n",
    "    )::Vector{Tuple{Int,Int}}\n",
    "        l1, l2 = length(lpart), length(rpart)\n",
    "        combined = Vector{Tuple{Int,Int}}(undef, l1 + l2)\n",
    "        p1 = p2 = 1\n",
    "        for pos in eachindex(combined)\n",
    "            if p2 > l2 || p1 <= l1 && lpart[p1][2] <= rpart[p2][2]\n",
    "                combined[pos] = lpart[p1]\n",
    "                res[lpart[p1][1]] += (p2 - 1)\n",
    "                p1 += 1\n",
    "            else\n",
    "                combined[pos] = rpart[p2]\n",
    "                p2 += 1\n",
    "            end\n",
    "        end\n",
    "        return combined\n",
    "    end\n",
    "\n",
    "    merge_sort(collect(enumerate(arr)))\n",
    "    return res\n",
    "end\n",
    "\n",
    "# method 2: using binary search\n",
    "# require function \"search_left_border\" from solution 33\n",
    "function count_smaller_method2(arr::Vector{Int})::Vector{Int}\n",
    "    queue, res = Int[], Array{Int}(undef, length(reverse!(arr)))\n",
    "    for (i, num) in enumerate(arr)\n",
    "        loc = search_left_border(1, length(queue), x -> queue[x] >= num)\n",
    "        res[i] = loc - 1\n",
    "        insert!(queue, loc, num)\n",
    "    end\n",
    "    reverse!(arr)\n",
    "    return reverse!(res)\n",
    "end\n",
    "# @lc code=end"
   ],
   "metadata": {},
   "execution_count": 1
  },
  {
   "cell_type": "markdown",
   "source": [
    "---\n",
    "\n",
    "*This notebook was generated using [Literate.jl](https://github.com/fredrikekre/Literate.jl).*"
   ],
   "metadata": {}
  }
 ],
 "nbformat_minor": 3,
 "metadata": {
  "language_info": {
   "file_extension": ".jl",
   "mimetype": "application/julia",
   "name": "julia",
   "version": "1.7.2"
  },
  "kernelspec": {
   "name": "julia-1.7",
   "display_name": "Julia 1.7.2",
   "language": "julia"
  }
 },
 "nbformat": 4
}
