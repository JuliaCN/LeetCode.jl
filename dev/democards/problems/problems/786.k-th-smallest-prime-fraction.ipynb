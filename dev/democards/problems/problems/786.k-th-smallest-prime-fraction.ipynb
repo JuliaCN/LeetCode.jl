{
 "cells": [
  {
   "cell_type": "markdown",
   "source": [
    "A sorted list `A` contains 1, plus some number of primes.  Then, for every p <\n",
    "q in the list, we consider the fraction p/q.\n",
    "\n",
    "What is the `K`-th smallest fraction considered?  Return your answer as an\n",
    "array of ints, where `answer[0] = p` and `answer[1] = q`.\n",
    "\n",
    "\n",
    "\n",
    "    **Examples:**\n",
    "    Input: A = [1, 2, 3, 5], K = 3\n",
    "    Output: [2, 5]\n",
    "    Explanation:\n",
    "    The fractions to be considered in sorted order are:\n",
    "    1/5, 1/3, 2/5, 1/2, 3/5, 2/3.\n",
    "    The third fraction is 2/5.\n",
    "\n",
    "    Input: A = [1, 7], K = 1\n",
    "    Output: [1, 7]\n",
    "\n",
    "\n",
    "**Note:**\n",
    "\n",
    "  * `A` will have length between `2` and `2000`.\n",
    "  * Each `A[i]` will be between `1` and `30000`.\n",
    "  * `K` will be between `1` and `A.length * (A.length - 1) / 2`."
   ],
   "metadata": {}
  },
  {
   "outputs": [
    {
     "output_type": "execute_result",
     "data": {
      "text/plain": "kth_smallest_prime_fraction (generic function with 1 method)"
     },
     "metadata": {},
     "execution_count": 1
    }
   ],
   "cell_type": "code",
   "source": [
    "# @lc code=start\n",
    "using LeetCode\n",
    "\n",
    "function kth_smallest_prime_fraction(arr::Vector{Int}, k::Int)\n",
    "    hp = BinaryMinHeap(1 .// arr[2:end])\n",
    "    next_prime = Dict((arr[i], arr[i+1]) for i in 1:length(arr)-1)\n",
    "    while (k -= 1) > 0\n",
    "        tp = pop!(hp)\n",
    "        if next_prime[tp.num] < tp.den\n",
    "            push!(hp, next_prime[tp.num] // tp.den)\n",
    "        end\n",
    "    end\n",
    "    return first(hp)\n",
    "end\n",
    "# @lc code=end"
   ],
   "metadata": {},
   "execution_count": 1
  },
  {
   "cell_type": "markdown",
   "source": [
    "---\n",
    "\n",
    "*This notebook was generated using [Literate.jl](https://github.com/fredrikekre/Literate.jl).*"
   ],
   "metadata": {}
  }
 ],
 "nbformat_minor": 3,
 "metadata": {
  "language_info": {
   "file_extension": ".jl",
   "mimetype": "application/julia",
   "name": "julia",
   "version": "1.6.4"
  },
  "kernelspec": {
   "name": "julia-1.6",
   "display_name": "Julia 1.6.4",
   "language": "julia"
  }
 },
 "nbformat": 4
}
