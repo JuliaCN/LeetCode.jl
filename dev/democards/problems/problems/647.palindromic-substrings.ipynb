{
 "cells": [
  {
   "cell_type": "markdown",
   "source": [
    "Given a string, your task is to count how many palindromic substrings in this\n",
    "string.\n",
    "\n",
    "The substrings with different start indexes or end indexes are counted as\n",
    "different substrings even they consist of same characters.\n",
    "\n",
    "**Example 1:**\n",
    "\n",
    "\n",
    "\n",
    "    Input: \"abc\"\n",
    "    Output: 3\n",
    "    Explanation: Three palindromic strings: \"a\", \"b\", \"c\".\n",
    "\n",
    "\n",
    "\n",
    "\n",
    "**Example 2:**\n",
    "\n",
    "\n",
    "\n",
    "    Input: \"aaa\"\n",
    "    Output: 6\n",
    "    Explanation: Six palindromic strings: \"a\", \"a\", \"a\", \"aa\", \"aa\", \"aaa\".\n",
    "\n",
    "\n",
    "\n",
    "\n",
    "**Note:**\n",
    "\n",
    "  1. The input string length won't exceed 1000."
   ],
   "metadata": {}
  },
  {
   "outputs": [
    {
     "output_type": "execute_result",
     "data": {
      "text/plain": "count_substrings (generic function with 1 method)"
     },
     "metadata": {},
     "execution_count": 1
    }
   ],
   "cell_type": "code",
   "source": [
    "# @lc code=start\n",
    "using LeetCode\n",
    "\n",
    "function count_substrings(s::String)\n",
    "    len, res = length(s), 0\n",
    "    cu = codeunits(s)\n",
    "    for i in 1:len, j in (0, 1)\n",
    "        l, r = i, i + j\n",
    "        while l >= 1 && r <= len && cu[l] == cu[r]\n",
    "            res += 1\n",
    "            l -= 1\n",
    "            r += 1\n",
    "        end\n",
    "    end\n",
    "    return res\n",
    "end\n",
    "# @lc code=end"
   ],
   "metadata": {},
   "execution_count": 1
  },
  {
   "cell_type": "markdown",
   "source": [
    "---\n",
    "\n",
    "*This notebook was generated using [Literate.jl](https://github.com/fredrikekre/Literate.jl).*"
   ],
   "metadata": {}
  }
 ],
 "nbformat_minor": 3,
 "metadata": {
  "language_info": {
   "file_extension": ".jl",
   "mimetype": "application/julia",
   "name": "julia",
   "version": "1.7.3"
  },
  "kernelspec": {
   "name": "julia-1.7",
   "display_name": "Julia 1.7.3",
   "language": "julia"
  }
 },
 "nbformat": 4
}
