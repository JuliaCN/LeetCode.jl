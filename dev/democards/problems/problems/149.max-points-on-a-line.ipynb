{
 "cells": [
  {
   "cell_type": "markdown",
   "source": [
    "Given _n_ points on a 2D plane, find the maximum number of points that lie on\n",
    "the same straight line.\n",
    "\n",
    "**Example 1:**\n",
    "\n",
    "\n",
    "\n",
    "    Input: [[1,1],[2,2],[3,3]]\n",
    "    Output: 3\n",
    "    Explanation:\n",
    "    ^\n",
    "    |\n",
    "    |        o\n",
    "    |     o\n",
    "    |  o\n",
    "    +------------->\n",
    "    0  1  2  3  4\n",
    "\n",
    "\n",
    "**Example 2:**\n",
    "\n",
    "\n",
    "\n",
    "    Input: [[1,1],[3,2],[5,3],[4,1],[2,3],[1,4]]\n",
    "    Output: 4\n",
    "    Explanation:\n",
    "    ^\n",
    "    |\n",
    "    |  o\n",
    "    |     o        o\n",
    "    |        o\n",
    "    |  o        o\n",
    "    +------------------->\n",
    "    0  1  2  3  4  5  6\n",
    "\n",
    "\n",
    "**NOTE:**  input types have been changed on April 15, 2019. Please reset to\n",
    "default code definition to get new method signature."
   ],
   "metadata": {}
  },
  {
   "outputs": [
    {
     "output_type": "execute_result",
     "data": {
      "text/plain": "max_points (generic function with 1 method)"
     },
     "metadata": {},
     "execution_count": 1
    }
   ],
   "cell_type": "code",
   "source": [
    "# @lc code=start\n",
    "using LeetCode\n",
    "function max_points(points::Vector{Vector{Int}})\n",
    "    res = 0\n",
    "    for i in 1:length(points)\n",
    "        if res > length(points) - i\n",
    "            return res\n",
    "        end\n",
    "        cnt = DefaultDict{Rational, Int}(1)\n",
    "        for j in i+1:length(points)\n",
    "            cnt[(points[i][2] - points[j][2]) // (points[i][1] - points[j][1])] += 1\n",
    "        end\n",
    "        res = max(res, maximum(p.second for p in cnt))\n",
    "    end\n",
    "    res\n",
    "end\n",
    "# @lc code=end"
   ],
   "metadata": {},
   "execution_count": 1
  },
  {
   "cell_type": "markdown",
   "source": [
    "---\n",
    "\n",
    "*This notebook was generated using [Literate.jl](https://github.com/fredrikekre/Literate.jl).*"
   ],
   "metadata": {}
  }
 ],
 "nbformat_minor": 3,
 "metadata": {
  "language_info": {
   "file_extension": ".jl",
   "mimetype": "application/julia",
   "name": "julia",
   "version": "1.5.3"
  },
  "kernelspec": {
   "name": "julia-1.5",
   "display_name": "Julia 1.5.3",
   "language": "julia"
  }
 },
 "nbformat": 4
}
