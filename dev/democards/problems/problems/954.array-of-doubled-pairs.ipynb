{
 "cells": [
  {
   "cell_type": "markdown",
   "source": [
    "Given an array of integers `A` with even length, return `true` if and only if\n",
    "it is possible to reorder it such that `A[2 * i + 1] = 2 * A[2 * i]` for every\n",
    "`0 <= i < len(A) / 2`.\n",
    "\n",
    "\n",
    "\n",
    "**Example 1:**\n",
    "\n",
    "\n",
    "\n",
    "    Input: A = [3,1,3,6]\n",
    "    Output: false\n",
    "\n",
    "\n",
    "**Example 2:**\n",
    "\n",
    "\n",
    "\n",
    "    Input: A = [2,1,2,6]\n",
    "    Output: false\n",
    "\n",
    "\n",
    "**Example 3:**\n",
    "\n",
    "\n",
    "\n",
    "    Input: A = [4,-2,2,-4]\n",
    "    Output: true\n",
    "    Explanation: We can take two groups, [-2,-4] and [2,4] to form [-2,-4,2,4] or [2,4,-2,-4].\n",
    "\n",
    "\n",
    "**Example 4:**\n",
    "\n",
    "\n",
    "\n",
    "    Input: A = [1,2,4,16,8,4]\n",
    "    Output: false\n",
    "\n",
    "\n",
    "\n",
    "\n",
    "**Constraints:**\n",
    "\n",
    "  * `0 <= A.length <= 3 * 104`\n",
    "  * `A.length` is even.\n",
    "  * `-105 <= A[i] <= 105`"
   ],
   "metadata": {}
  },
  {
   "outputs": [
    {
     "output_type": "execute_result",
     "data": {
      "text/plain": "can_reorder_doubled (generic function with 1 method)"
     },
     "metadata": {},
     "execution_count": 1
    }
   ],
   "cell_type": "code",
   "source": [
    "# @lc code=start\n",
    "using LeetCode\n",
    "\n",
    "# add your code here:\n",
    "function can_reorder_doubled(arr::Vector{Int})::Bool\n",
    "    cnt = counter(arr)\n",
    "    for a in sort!(arr; by=abs)\n",
    "        cnt[a] == 0 && continue\n",
    "        cnt[2a] == 0 && return false\n",
    "        cnt[2a] -= 1\n",
    "        cnt[a] -= 1\n",
    "    end\n",
    "    return true\n",
    "end\n",
    "# @lc code=end"
   ],
   "metadata": {},
   "execution_count": 1
  },
  {
   "cell_type": "markdown",
   "source": [
    "---\n",
    "\n",
    "*This notebook was generated using [Literate.jl](https://github.com/fredrikekre/Literate.jl).*"
   ],
   "metadata": {}
  }
 ],
 "nbformat_minor": 3,
 "metadata": {
  "language_info": {
   "file_extension": ".jl",
   "mimetype": "application/julia",
   "name": "julia",
   "version": "1.8.0"
  },
  "kernelspec": {
   "name": "julia-1.8",
   "display_name": "Julia 1.8.0",
   "language": "julia"
  }
 },
 "nbformat": 4
}
