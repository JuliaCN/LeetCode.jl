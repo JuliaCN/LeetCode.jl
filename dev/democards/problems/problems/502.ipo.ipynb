{
 "cells": [
  {
   "cell_type": "markdown",
   "source": [
    "Suppose LeetCode will start its IPO soon. In order to sell a good price of its\n",
    "shares to Venture Capital, LeetCode would like to work on some projects to\n",
    "increase its capital before the IPO. Since it has limited resources, it can\n",
    "only finish at most **k** distinct projects before the IPO. Help LeetCode\n",
    "design the best way to maximize its total capital after finishing at most\n",
    "**k** distinct projects.\n",
    "\n",
    "You are given several projects. For each project **i** , it has a pure profit\n",
    "**P i** and a minimum capital of **C i** is needed to start the corresponding\n",
    "project. Initially, you have **W** capital. When you finish a project, you\n",
    "will obtain its pure profit and the profit will be added to your total\n",
    "capital.\n",
    "\n",
    "To sum up, pick a list of at most **k** distinct projects from given projects\n",
    "to maximize your final capital, and output your final maximized capital.\n",
    "\n",
    "**Example 1:**\n",
    "\n",
    "\n",
    "\n",
    "    Input: k=2, W=0, Profits=[1,2,3], Capital=[0,1,1].\n",
    "\n",
    "    Output: 4\n",
    "\n",
    "    Explanation: Since your initial capital is 0, you can only start the project indexed 0.\n",
    "                 After finishing it you will obtain profit 1 and your capital becomes 1.\n",
    "                 With capital 1, you can either start the project indexed 1 or the project indexed 2.\n",
    "                 Since you can choose at most 2 projects, you need to finish the project indexed 2 to get the maximum capital.\n",
    "                 Therefore, output the final maximized capital, which is 0 + 1 + 3 = 4.\n",
    "\n",
    "\n",
    "**Note:**\n",
    "\n",
    "  1. You may assume all numbers in the input are non-negative integers.\n",
    "  2. The length of Profits array and Capital array will not exceed 50,000.\n",
    "  3. The answer is guaranteed to fit in a 32-bit signed integer."
   ],
   "metadata": {}
  },
  {
   "outputs": [
    {
     "output_type": "execute_result",
     "data": {
      "text/plain": "find_maximized_capital (generic function with 1 method)"
     },
     "metadata": {},
     "execution_count": 1
    }
   ],
   "cell_type": "code",
   "source": [
    "# @lc code=start\n",
    "using LeetCode\n",
    "\n",
    "function find_maximized_capital(k::Int, w::Int, profits::Vector{Int}, capital::Vector{Int})\n",
    "    arr = @view(collect(zip(capital, profits))[:])\n",
    "    sort!(arr)\n",
    "    hp = Int[]\n",
    "    for _ in 1:k\n",
    "        idx = searchsortedlast(arr, (w + 1, -1))\n",
    "        for item in @view(arr[1:idx])\n",
    "            heappush!(hp, -item[2])\n",
    "        end\n",
    "        arr = @view(arr[idx+1:end])\n",
    "        w -= isempty(hp) ? 0 : hp[1]\n",
    "    end\n",
    "    w\n",
    "end\n",
    "# @lc code=end"
   ],
   "metadata": {},
   "execution_count": 1
  },
  {
   "cell_type": "markdown",
   "source": [
    "---\n",
    "\n",
    "*This notebook was generated using [Literate.jl](https://github.com/fredrikekre/Literate.jl).*"
   ],
   "metadata": {}
  }
 ],
 "nbformat_minor": 3,
 "metadata": {
  "language_info": {
   "file_extension": ".jl",
   "mimetype": "application/julia",
   "name": "julia",
   "version": "1.7.0"
  },
  "kernelspec": {
   "name": "julia-1.7",
   "display_name": "Julia 1.7.0",
   "language": "julia"
  }
 },
 "nbformat": 4
}
