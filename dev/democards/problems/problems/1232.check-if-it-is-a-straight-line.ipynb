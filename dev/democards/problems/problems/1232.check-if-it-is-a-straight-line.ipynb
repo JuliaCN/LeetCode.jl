{
 "cells": [
  {
   "cell_type": "markdown",
   "source": [
    "You are given an array `coordinates`, `coordinates[i] = [x, y]`, where `[x,\n",
    "y]` represents the coordinate of a point. Check if these points make a\n",
    "straight line in the XY plane.\n",
    "\n",
    "\n",
    "\n",
    "\n",
    "\n",
    "**Example 1:**\n",
    "\n",
    "![](https://assets.leetcode.com/uploads/2019/10/15/untitled-diagram-2.jpg)\n",
    "\n",
    "\n",
    "\n",
    "    Input: coordinates = [[1,2],[2,3],[3,4],[4,5],[5,6],[6,7]]\n",
    "    Output: true\n",
    "\n",
    "\n",
    "**Example 2:**\n",
    "\n",
    "**![](https://assets.leetcode.com/uploads/2019/10/09/untitled-diagram-1.jpg)**\n",
    "\n",
    "\n",
    "\n",
    "    Input: coordinates = [[1,1],[2,2],[3,4],[4,5],[5,6],[7,7]]\n",
    "    Output: false\n",
    "\n",
    "\n",
    "\n",
    "\n",
    "**Constraints:**\n",
    "\n",
    "  * `2 <= coordinates.length <= 1000`\n",
    "  * `coordinates[i].length == 2`\n",
    "  * `-10^4 <= coordinates[i][0], coordinates[i][1] <= 10^4`\n",
    "  * `coordinates` contains no duplicate point."
   ],
   "metadata": {}
  },
  {
   "outputs": [
    {
     "output_type": "execute_result",
     "data": {
      "text/plain": "check_straight_line (generic function with 1 method)"
     },
     "metadata": {},
     "execution_count": 1
    }
   ],
   "cell_type": "code",
   "source": [
    "# @lc code=start\n",
    "using LeetCode\n",
    "\n",
    "function check_straight_line(coordinates::Vector{Vector{Int}})::Bool\n",
    "    coordinates .-= Ref(coordinates[1])\n",
    "    slope = coordinates[2][1]//coordinates[2][2]\n",
    "    for i in 3:length(coordinates)\n",
    "        (coordinates[i][1]//coordinates[i][2] != slope) && (return false)\n",
    "    end\n",
    "    return true\n",
    "end\n",
    "# @lc code=end"
   ],
   "metadata": {},
   "execution_count": 1
  },
  {
   "cell_type": "markdown",
   "source": [
    "---\n",
    "\n",
    "*This notebook was generated using [Literate.jl](https://github.com/fredrikekre/Literate.jl).*"
   ],
   "metadata": {}
  }
 ],
 "nbformat_minor": 3,
 "metadata": {
  "language_info": {
   "file_extension": ".jl",
   "mimetype": "application/julia",
   "name": "julia",
   "version": "1.5.3"
  },
  "kernelspec": {
   "name": "julia-1.5",
   "display_name": "Julia 1.5.3",
   "language": "julia"
  }
 },
 "nbformat": 4
}
