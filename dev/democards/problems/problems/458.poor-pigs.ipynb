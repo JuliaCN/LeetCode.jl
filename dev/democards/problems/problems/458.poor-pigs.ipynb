{
 "cells": [
  {
   "cell_type": "markdown",
   "source": [
    "There are `buckets` buckets of liquid, where **exactly one** of the buckets is\n",
    "poisonous. To figure out which one is poisonous, you feed some number of\n",
    "(poor) pigs the liquid to see whether they will die or not. Unfortunately, you\n",
    "only have `minutesToTest` minutes to determine which bucket is poisonous.\n",
    "\n",
    "You can feed the pigs according to these steps:\n",
    "\n",
    "  1. Choose some live pigs to feed.\n",
    "  2. For each pig, choose which buckets to feed it. The pig will consume all the chosen buckets simultaneously and will take no time.\n",
    "  3. Wait for `minutesToDie` minutes. You may **not** feed any other pigs during this time.\n",
    "  4. After `minutesToDie` minutes have passed, any pigs that have been fed the poisonous bucket will die, and all others will survive.\n",
    "  5. Repeat this process until you run out of time.\n",
    "\n",
    "Given `buckets`, `minutesToDie`, and `minutesToTest`, return _the **minimum**\n",
    "number of pigs needed to figure out which bucket is poisonous within the\n",
    "allotted time_.\n",
    "\n",
    "\n",
    "\n",
    "**Example 1:**\n",
    "\n",
    "\n",
    "\n",
    "    Input: buckets = 1000, minutesToDie = 15, minutesToTest = 60\n",
    "    Output: 5\n",
    "\n",
    "\n",
    "**Example 2:**\n",
    "\n",
    "\n",
    "\n",
    "    Input: buckets = 4, minutesToDie = 15, minutesToTest = 15\n",
    "    Output: 2\n",
    "\n",
    "\n",
    "**Example 3:**\n",
    "\n",
    "\n",
    "\n",
    "    Input: buckets = 4, minutesToDie = 15, minutesToTest = 30\n",
    "    Output: 2\n",
    "\n",
    "\n",
    "\n",
    "\n",
    "**Constraints:**\n",
    "\n",
    "  * `1 <= buckets <= 1000`\n",
    "  * `1 <= minutesToDie <= minutesToTest <= 100`"
   ],
   "metadata": {}
  },
  {
   "outputs": [
    {
     "output_type": "execute_result",
     "data": {
      "text/plain": "poor_pigs (generic function with 1 method)"
     },
     "metadata": {},
     "execution_count": 1
    }
   ],
   "cell_type": "code",
   "source": [
    "# @lc code=start\n",
    "using LeetCode\n",
    "\n",
    "function poor_pigs(buckets::Int, minutesToDie::Int, minutesToTest::Int)\n",
    "    state = minutesToTest ÷ minutesToDie + 1\n",
    "    return ceil(Int, log(buckets) / log(state))\n",
    "end\n",
    "# @lc code=end"
   ],
   "metadata": {},
   "execution_count": 1
  },
  {
   "cell_type": "markdown",
   "source": [
    "---\n",
    "\n",
    "*This notebook was generated using [Literate.jl](https://github.com/fredrikekre/Literate.jl).*"
   ],
   "metadata": {}
  }
 ],
 "nbformat_minor": 3,
 "metadata": {
  "language_info": {
   "file_extension": ".jl",
   "mimetype": "application/julia",
   "name": "julia",
   "version": "1.7.3"
  },
  "kernelspec": {
   "name": "julia-1.7",
   "display_name": "Julia 1.7.3",
   "language": "julia"
  }
 },
 "nbformat": 4
}
