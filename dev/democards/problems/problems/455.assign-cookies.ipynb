{
 "cells": [
  {
   "cell_type": "markdown",
   "source": [
    "Assume you are an awesome parent and want to give your children some cookies.\n",
    "But, you should give each child at most one cookie.\n",
    "\n",
    "Each child `i` has a greed factor `g[i]`, which is the minimum size of a\n",
    "cookie that the child will be content with; and each cookie `j` has a size\n",
    "`s[j]`. If `s[j] >= g[i]`, we can assign the cookie `j` to the child `i`, and\n",
    "the child `i` will be content. Your goal is to maximize the number of your\n",
    "content children and output the maximum number.\n",
    "\n",
    "\n",
    "\n",
    "\n",
    "\n",
    "**Example 1:**\n",
    "\n",
    "\n",
    "\n",
    "    Input: g = [1,2,3], s = [1,1]\n",
    "    Output: 1\n",
    "    Explanation: You have 3 children and 2 cookies. The greed factors of 3 children are 1, 2, 3.\n",
    "    And even though you have 2 cookies, since their size is both 1, you could only make the child whose greed factor is 1 content.\n",
    "    You need to output 1.\n",
    "\n",
    "\n",
    "**Example 2:**\n",
    "\n",
    "\n",
    "\n",
    "    Input: g = [1,2], s = [1,2,3]\n",
    "    Output: 2\n",
    "    Explanation: You have 2 children and 3 cookies. The greed factors of 2 children are 1, 2.\n",
    "    You have 3 cookies and their sizes are big enough to gratify all of the children,\n",
    "    You need to output 2.\n",
    "\n",
    "\n",
    "\n",
    "\n",
    "**Constraints:**\n",
    "\n",
    "  * `1 <= g.length <= 3 * 104`\n",
    "  * `0 <= s.length <= 3 * 104`\n",
    "  * `1 <= g[i], s[j] <= 231 - 1`"
   ],
   "metadata": {}
  },
  {
   "outputs": [
    {
     "output_type": "execute_result",
     "data": {
      "text/plain": "findContentChildren (generic function with 1 method)"
     },
     "metadata": {},
     "execution_count": 1
    }
   ],
   "cell_type": "code",
   "source": [
    "# @lc code=start\n",
    "using LeetCode\n",
    "\n",
    "function findContentChildren(g::Vector{Int}, s::Vector{Int})::Int\n",
    "    sort!(g)\n",
    "    sort!(s)\n",
    "\n",
    "    child, cookie = 1, 1\n",
    "\n",
    "    while child <= length(g) && cookie <= length(s)\n",
    "        if g[child] <= s[cookie]\n",
    "            child += 1\n",
    "        end\n",
    "        cookie += 1\n",
    "    end\n",
    "\n",
    "    return child - 1\n",
    "end\n",
    "# @lc code=end"
   ],
   "metadata": {},
   "execution_count": 1
  },
  {
   "cell_type": "markdown",
   "source": [
    "---\n",
    "\n",
    "*This notebook was generated using [Literate.jl](https://github.com/fredrikekre/Literate.jl).*"
   ],
   "metadata": {}
  }
 ],
 "nbformat_minor": 3,
 "metadata": {
  "language_info": {
   "file_extension": ".jl",
   "mimetype": "application/julia",
   "name": "julia",
   "version": "1.6.2"
  },
  "kernelspec": {
   "name": "julia-1.6",
   "display_name": "Julia 1.6.2",
   "language": "julia"
  }
 },
 "nbformat": 4
}
