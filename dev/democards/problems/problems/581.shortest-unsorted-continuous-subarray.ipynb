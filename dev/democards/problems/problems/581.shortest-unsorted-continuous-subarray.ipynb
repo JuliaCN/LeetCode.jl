{
 "cells": [
  {
   "cell_type": "markdown",
   "source": [
    "Given an integer array `nums`, you need to find one **continuous subarray**\n",
    "that if you only sort this subarray in ascending order, then the whole array\n",
    "will be sorted in ascending order.\n",
    "\n",
    "Return  _the shortest such subarray and output its length_.\n",
    "\n",
    "\n",
    "\n",
    "**Example 1:**\n",
    "\n",
    "\n",
    "\n",
    "    Input: nums = [2,6,4,8,10,9,15]\n",
    "    Output: 5\n",
    "    Explanation: You need to sort [6, 4, 8, 10, 9] in ascending order to make the whole array sorted in ascending order.\n",
    "\n",
    "\n",
    "**Example 2:**\n",
    "\n",
    "\n",
    "\n",
    "    Input: nums = [1,2,3,4]\n",
    "    Output: 0\n",
    "\n",
    "\n",
    "**Example 3:**\n",
    "\n",
    "\n",
    "\n",
    "    Input: nums = [1]\n",
    "    Output: 0\n",
    "\n",
    "\n",
    "\n",
    "\n",
    "**Constraints:**\n",
    "\n",
    "  * `1 <= nums.length <= 104`\n",
    "  * `-105 <= nums[i] <= 105`"
   ],
   "metadata": {}
  },
  {
   "outputs": [
    {
     "output_type": "execute_result",
     "data": {
      "text/plain": "find_unsorted_subarray (generic function with 1 method)"
     },
     "metadata": {},
     "execution_count": 1
    }
   ],
   "cell_type": "code",
   "source": [
    "# @lc code=start\n",
    "using LeetCode\n",
    "\n",
    "function find_unsorted_subarray(nums::Vector{Int})\n",
    "    stk = Int[]\n",
    "    l, r = length(nums) + 1, 1\n",
    "    for i in eachindex(nums)\n",
    "        while !isempty(stk) && nums[stk[end]] > nums[i]\n",
    "            l = min(l, pop!(stk))\n",
    "        end\n",
    "        push!(stk, i)\n",
    "    end\n",
    "    empty!(stk)\n",
    "    for i in length(nums):-1:1\n",
    "        while !isempty(stk) && nums[stk[end]] < nums[i]\n",
    "            r = max(r, pop!(stk))\n",
    "        end\n",
    "        push!(stk, i)\n",
    "    end\n",
    "    return r - l > 0 ? r - l + 1 : 0\n",
    "end\n",
    "# @lc code=end"
   ],
   "metadata": {},
   "execution_count": 1
  },
  {
   "cell_type": "markdown",
   "source": [
    "---\n",
    "\n",
    "*This notebook was generated using [Literate.jl](https://github.com/fredrikekre/Literate.jl).*"
   ],
   "metadata": {}
  }
 ],
 "nbformat_minor": 3,
 "metadata": {
  "language_info": {
   "file_extension": ".jl",
   "mimetype": "application/julia",
   "name": "julia",
   "version": "1.7.2"
  },
  "kernelspec": {
   "name": "julia-1.7",
   "display_name": "Julia 1.7.2",
   "language": "julia"
  }
 },
 "nbformat": 4
}
