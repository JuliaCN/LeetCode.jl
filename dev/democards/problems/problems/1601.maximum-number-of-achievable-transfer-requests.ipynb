{
 "cells": [
  {
   "cell_type": "markdown",
   "source": [
    "We have `n` buildings numbered from `0` to `n - 1`. Each building has a number\n",
    "of employees. It's transfer season, and some employees want to change the\n",
    "building they reside in.\n",
    "\n",
    "You are given an array `requests` where `requests[i] = [fromi, toi]`\n",
    "represents an employee's request to transfer from building `fromi` to building\n",
    "`toi`.\n",
    "\n",
    "**All buildings are full** , so a list of requests is achievable only if for\n",
    "each building, the **net change in employee transfers is zero**. This means\n",
    "the number of employees **leaving** is **equal** to the number of employees\n",
    "**moving in**. For example if `n = 3` and two employees are leaving building\n",
    "`0`, one is leaving building `1`, and one is leaving building `2`, there\n",
    "should be two employees moving to building `0`, one employee moving to\n",
    "building `1`, and one employee moving to building `2`.\n",
    "\n",
    "Return _the maximum number of achievable requests_.\n",
    "\n",
    "\n",
    "\n",
    "**Example 1:**\n",
    "\n",
    "![](https://assets.leetcode.com/uploads/2020/09/10/move1.jpg)\n",
    "\n",
    "\n",
    "\n",
    "    Input: n = 5, requests = [[0,1],[1,0],[0,1],[1,2],[2,0],[3,4]]\n",
    "    Output: 5\n",
    "    **Explantion:** Let's see the requests:\n",
    "    From building 0 we have employees x and y and both want to move to building 1.\n",
    "    From building 1 we have employees a and b and they want to move to buildings 2 and 0 respectively.\n",
    "    From building 2 we have employee z and they want to move to building 0.\n",
    "    From building 3 we have employee c and they want to move to building 4.\n",
    "    From building 4 we don't have any requests.\n",
    "    We can achieve the requests of users x and b by swapping their places.\n",
    "    We can achieve the requests of users y, a and z by swapping the places in the 3 buildings.\n",
    "\n",
    "\n",
    "**Example 2:**\n",
    "\n",
    "![](https://assets.leetcode.com/uploads/2020/09/10/move2.jpg)\n",
    "\n",
    "\n",
    "\n",
    "    Input: n = 3, requests = [[0,0],[1,2],[2,1]]\n",
    "    Output: 3\n",
    "    **Explantion:** Let's see the requests:\n",
    "    From building 0 we have employee x and they want to stay in the same building 0.\n",
    "    From building 1 we have employee y and they want to move to building 2.\n",
    "    From building 2 we have employee z and they want to move to building 1.\n",
    "    We can achieve all the requests.\n",
    "\n",
    "**Example 3:**\n",
    "\n",
    "\n",
    "\n",
    "    Input: n = 4, requests = [[0,3],[3,1],[1,2],[2,0]]\n",
    "    Output: 4\n",
    "\n",
    "\n",
    "\n",
    "\n",
    "**Constraints:**\n",
    "\n",
    "  * `1 <= n <= 20`\n",
    "  * `1 <= requests.length <= 16`\n",
    "  * `requests[i].length == 2`\n",
    "  * `0 <= fromi, toi < n`"
   ],
   "metadata": {}
  },
  {
   "outputs": [
    {
     "output_type": "execute_result",
     "data": {
      "text/plain": "maximum_requests (generic function with 1 method)"
     },
     "metadata": {},
     "execution_count": 1
    }
   ],
   "cell_type": "code",
   "source": [
    "# @lc code=start\n",
    "using LeetCode\n",
    "\n",
    "using DataStructures\n",
    "function maximum_requests(::Int, requests::Vector{Vector{Int}})::Int\n",
    "    function is_valid_request(req)\n",
    "        return counter(requests[i][1] for i in req) == counter(requests[i][2] for i in req)\n",
    "    end\n",
    "    ans, m = 0, length(requests)\n",
    "    for k in 1:(1 << m)\n",
    "        req = filter(i -> isodd(k >> (i - 1)), 1:m)\n",
    "        ans = length(req) > ans && is_valid_request(req) ? length(req) : ans\n",
    "    end\n",
    "    return ans\n",
    "end\n",
    "# @lc code=end"
   ],
   "metadata": {},
   "execution_count": 1
  },
  {
   "cell_type": "markdown",
   "source": [
    "---\n",
    "\n",
    "*This notebook was generated using [Literate.jl](https://github.com/fredrikekre/Literate.jl).*"
   ],
   "metadata": {}
  }
 ],
 "nbformat_minor": 3,
 "metadata": {
  "language_info": {
   "file_extension": ".jl",
   "mimetype": "application/julia",
   "name": "julia",
   "version": "1.7.2"
  },
  "kernelspec": {
   "name": "julia-1.7",
   "display_name": "Julia 1.7.2",
   "language": "julia"
  }
 },
 "nbformat": 4
}
