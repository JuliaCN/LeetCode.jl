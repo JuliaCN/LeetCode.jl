{
 "cells": [
  {
   "cell_type": "markdown",
   "source": [
    "Given a binary tree with `N` nodes, each node has a different value from `{1,\n",
    "..., N}`.\n",
    "\n",
    "A node in this binary tree can be _flipped_  by swapping the left child and\n",
    "the right child of that node.\n",
    "\n",
    "Consider the sequence of `N` values reported by a preorder traversal starting\n",
    "from the root.  Call such a sequence of `N` values the  _voyage_  of the tree.\n",
    "\n",
    "(Recall that a _preorder traversal_  of a node means we report the current\n",
    "node's value, then preorder-traverse the left child, then preorder-traverse\n",
    "the right child.)\n",
    "\n",
    "Our goal is to flip the **least number** of nodes in the tree so that the\n",
    "voyage of the tree matches the `voyage` we are given.\n",
    "\n",
    "If we can do so, then return a list of the values of all nodes flipped.  You\n",
    "may return the answer in any order.\n",
    "\n",
    "If we cannot do so, then return the list `[-1]`.\n",
    "\n",
    "\n",
    "\n",
    "**Example 1:**\n",
    "\n",
    "**![](https://assets.leetcode.com/uploads/2019/01/02/1219-01.png)**\n",
    "\n",
    "\n",
    "\n",
    "    Input: root = [1,2], voyage = [2,1]\n",
    "    Output: [-1]\n",
    "\n",
    "\n",
    "**Example 2:**\n",
    "\n",
    "**![](https://assets.leetcode.com/uploads/2019/01/02/1219-02.png)**\n",
    "\n",
    "\n",
    "\n",
    "    Input: root = [1,2,3], voyage = [1,3,2]\n",
    "    Output: [1]\n",
    "\n",
    "\n",
    "**Example 3:**\n",
    "\n",
    "**![](https://assets.leetcode.com/uploads/2019/01/02/1219-02.png)**\n",
    "\n",
    "\n",
    "\n",
    "    Input: root = [1,2,3], voyage = [1,2,3]\n",
    "    Output: []\n",
    "\n",
    "\n",
    "\n",
    "\n",
    "**Note:**\n",
    "\n",
    "  1. `1 <= N <= 100`"
   ],
   "metadata": {}
  },
  {
   "outputs": [
    {
     "output_type": "execute_result",
     "data": {
      "text/plain": "flip_match_voyage (generic function with 1 method)"
     },
     "metadata": {},
     "execution_count": 1
    }
   ],
   "cell_type": "code",
   "source": [
    "# @lc code=start\n",
    "using LeetCode\n",
    "\n",
    "function flip_match_voyage(root::TreeNode, voyage::Vector{Int})\n",
    "    res = Int[]\n",
    "    i = 1\n",
    "    dfs(::Nothing) = nothing\n",
    "    function dfs(node::TreeNode)\n",
    "        if node.val != voyage[i]\n",
    "            res = [-1]\n",
    "            return\n",
    "        end\n",
    "        i += 1\n",
    "        if i ≤ length(voyage) && node.left !== nothing && node.left.val != voyage[i]\n",
    "            push!(res, node.val)\n",
    "            dfs(node.right)\n",
    "            dfs(node.left)\n",
    "        else\n",
    "            dfs(node.left)\n",
    "            dfs(node.right)\n",
    "        end\n",
    "    end\n",
    "    dfs(root)\n",
    "    return (!isempty(res) && res[1] == -1) ? [-1] : res\n",
    "end\n",
    "# @lc code=end"
   ],
   "metadata": {},
   "execution_count": 1
  },
  {
   "cell_type": "markdown",
   "source": [
    "---\n",
    "\n",
    "*This notebook was generated using [Literate.jl](https://github.com/fredrikekre/Literate.jl).*"
   ],
   "metadata": {}
  }
 ],
 "nbformat_minor": 3,
 "metadata": {
  "language_info": {
   "file_extension": ".jl",
   "mimetype": "application/julia",
   "name": "julia",
   "version": "1.6.4"
  },
  "kernelspec": {
   "name": "julia-1.6",
   "display_name": "Julia 1.6.4",
   "language": "julia"
  }
 },
 "nbformat": 4
}
