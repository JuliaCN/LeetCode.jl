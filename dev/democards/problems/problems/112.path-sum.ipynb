{
 "cells": [
  {
   "cell_type": "markdown",
   "source": [
    "Given a binary tree and a sum, determine if the tree has a root-to-leaf path\n",
    "such that adding up all the values along the path equals the given sum.\n",
    "\n",
    "**Note:**  A leaf is a node with no children.\n",
    "\n",
    "**Example:**\n",
    "\n",
    "Given the below binary tree and `sum = 22`,\n",
    "\n",
    "\n",
    "\n",
    "          **5**\n",
    "         **/** \\\n",
    "        **4**   8\n",
    "       **/**   / \\\n",
    "      **11**  13  4\n",
    "     /  **\\**      \\\n",
    "    7    **2**      1\n",
    "\n",
    "\n",
    "return true, as there exist a root-to-leaf path `5->4->11->2` which sum is 22."
   ],
   "metadata": {}
  },
  {
   "outputs": [
    {
     "output_type": "execute_result",
     "data": {
      "text/plain": "has_path_sum (generic function with 2 methods)"
     },
     "metadata": {},
     "execution_count": 1
    }
   ],
   "cell_type": "code",
   "source": [
    "# @lc code=start\n",
    "using LeetCode\n",
    "\n",
    "has_path_sum(::Nothing, ::Int) = false\n",
    "function has_path_sum(root::TreeNode, target_sum::Int)::Bool\n",
    "    root.val == target_sum && isnothing(root.left) && isnothing(root.right) && return true\n",
    "    return any(has_path_sum.([root.left, root.right], target_sum - root.val))\n",
    "end\n",
    "\n",
    "# @lc code=end"
   ],
   "metadata": {},
   "execution_count": 1
  },
  {
   "cell_type": "markdown",
   "source": [
    "---\n",
    "\n",
    "*This notebook was generated using [Literate.jl](https://github.com/fredrikekre/Literate.jl).*"
   ],
   "metadata": {}
  }
 ],
 "nbformat_minor": 3,
 "metadata": {
  "language_info": {
   "file_extension": ".jl",
   "mimetype": "application/julia",
   "name": "julia",
   "version": "1.11.6"
  },
  "kernelspec": {
   "name": "julia-1.11",
   "display_name": "Julia 1.11.6",
   "language": "julia"
  }
 },
 "nbformat": 4
}
