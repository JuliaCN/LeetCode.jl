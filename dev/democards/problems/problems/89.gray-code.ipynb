{
 "cells": [
  {
   "cell_type": "markdown",
   "source": [
    "The gray code is a binary numeral system where two successive values differ in\n",
    "only one bit.\n",
    "\n",
    "Given a non-negative integer _n_ representing the total number of bits in the\n",
    "code, print the sequence of gray code. A gray code sequence must begin with 0.\n",
    "\n",
    "**Example 1:**\n",
    "\n",
    "\n",
    "\n",
    "    Input:  2\n",
    "    Output:  [0,1,3,2]\n",
    "    Explanation:\n",
    "    00 - 0\n",
    "    01 - 1\n",
    "    11 - 3\n",
    "    10 - 2\n",
    "\n",
    "    For a given  _n_ , a gray code sequence may not be uniquely defined.\n",
    "    For example, [0,2,3,1] is also a valid gray code sequence.\n",
    "\n",
    "    00 - 0\n",
    "    10 - 2\n",
    "    11 - 3\n",
    "    01 - 1\n",
    "\n",
    "\n",
    "**Example 2:**\n",
    "\n",
    "\n",
    "\n",
    "    Input:  0\n",
    "    Output:  [0]\n",
    "    Explanation: We define the gray code sequence to begin with 0.\n",
    "                 A gray code sequence of _n_ has size = 2n, which for _n_ = 0 the size is 20 = 1.\n",
    "                 Therefore, for _n_ = 0 the gray code sequence is [0]."
   ],
   "metadata": {}
  },
  {
   "outputs": [
    {
     "output_type": "execute_result",
     "data": {
      "text/plain": "gray_code (generic function with 1 method)"
     },
     "metadata": {},
     "execution_count": 1
    }
   ],
   "cell_type": "code",
   "source": [
    "# @lc code=start\n",
    "using LeetCode\n",
    "\n",
    "function gray_code(N::Int)\n",
    "    powN = 1 << N\n",
    "    res = Array{Int}(undef, powN)\n",
    "    for i in 0:powN-1\n",
    "        res[i + 1] = i ⊻ (i >> 1);\n",
    "    end\n",
    "    res\n",
    "end\n",
    "# @lc code=end"
   ],
   "metadata": {},
   "execution_count": 1
  },
  {
   "cell_type": "markdown",
   "source": [
    "---\n",
    "\n",
    "*This notebook was generated using [Literate.jl](https://github.com/fredrikekre/Literate.jl).*"
   ],
   "metadata": {}
  }
 ],
 "nbformat_minor": 3,
 "metadata": {
  "language_info": {
   "file_extension": ".jl",
   "mimetype": "application/julia",
   "name": "julia",
   "version": "1.11.6"
  },
  "kernelspec": {
   "name": "julia-1.11",
   "display_name": "Julia 1.11.6",
   "language": "julia"
  }
 },
 "nbformat": 4
}
