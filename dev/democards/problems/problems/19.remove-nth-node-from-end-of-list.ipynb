{
 "cells": [
  {
   "cell_type": "markdown",
   "source": [
    "Given the `head` of a linked list, remove the `nth` node from the end of the\n",
    "list and return its head.\n",
    "\n",
    "**Follow up:**  Could you do this in one pass?\n",
    "\n",
    "\n",
    "\n",
    "**Example 1:**\n",
    "\n",
    "![](https://assets.leetcode.com/uploads/2020/10/03/remove_ex1.jpg)\n",
    "\n",
    "\n",
    "\n",
    "    Input: head = [1,2,3,4,5], n = 2\n",
    "    Output: [1,2,3,5]\n",
    "\n",
    "\n",
    "**Example 2:**\n",
    "\n",
    "\n",
    "\n",
    "    Input: head = [1], n = 1\n",
    "    Output: []\n",
    "\n",
    "\n",
    "**Example 3:**\n",
    "\n",
    "\n",
    "\n",
    "    Input: head = [1,2], n = 1\n",
    "    Output: [1]\n",
    "\n",
    "\n",
    "\n",
    "\n",
    "**Constraints:**\n",
    "\n",
    "  * The number of nodes in the list is `sz`.\n",
    "  * `1 <= sz <= 30`\n",
    "  * `0 <= Node.val <= 100`\n",
    "  * `1 <= n <= sz`"
   ],
   "metadata": {}
  },
  {
   "outputs": [
    {
     "output_type": "execute_result",
     "data": {
      "text/plain": "remove_nth_from_end_by_double_pointers! (generic function with 1 method)"
     },
     "metadata": {},
     "execution_count": 1
    }
   ],
   "cell_type": "code",
   "source": [
    "# @lc code=start\n",
    "using LeetCode\n",
    "\n",
    "# Double Pointers\n",
    "function remove_nth_from_end_by_double_pointers!(\n",
    "    head::ListNode, n::Int\n",
    ")::Union{Nothing,ListNode}\n",
    "    p1 = p2 = head\n",
    "    for _ in 1:n\n",
    "        p2 = next(p2)\n",
    "    end\n",
    "    # remove the first node\n",
    "    isnothing(p2) && return next(head)\n",
    "    p2 = p2.next ## let distance(p1, p2) = n + 1\n",
    "    while !isnothing(p2)\n",
    "        p1, p2 = next(p1), next(p2)\n",
    "    end\n",
    "    p1.next = p1.next.next ## remove one node\n",
    "    return head\n",
    "end\n",
    "# @lc code=end"
   ],
   "metadata": {},
   "execution_count": 1
  },
  {
   "cell_type": "markdown",
   "source": [
    "---\n",
    "\n",
    "*This notebook was generated using [Literate.jl](https://github.com/fredrikekre/Literate.jl).*"
   ],
   "metadata": {}
  }
 ],
 "nbformat_minor": 3,
 "metadata": {
  "language_info": {
   "file_extension": ".jl",
   "mimetype": "application/julia",
   "name": "julia",
   "version": "1.8.0"
  },
  "kernelspec": {
   "name": "julia-1.8",
   "display_name": "Julia 1.8.0",
   "language": "julia"
  }
 },
 "nbformat": 4
}
