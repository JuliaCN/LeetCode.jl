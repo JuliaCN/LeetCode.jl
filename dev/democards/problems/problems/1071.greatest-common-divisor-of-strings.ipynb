{
 "cells": [
  {
   "cell_type": "markdown",
   "source": [
    "For two strings `s` and `t`, we say \"`t` divides `s`\" if and only if `s = t +\n",
    "... + t`  (`t` concatenated with itself 1 or more times)\n",
    "\n",
    "Given two strings str1 and str2, return the largest string `x` such that `x`\n",
    "divides both `str1` and `str2`.\n",
    "\n",
    "\n",
    "\n",
    "**Example 1:**\n",
    "\n",
    "\n",
    "\n",
    "    Input: str1 = \"ABCABC\", str2 = \"ABC\"\n",
    "    Output: \"ABC\"\n",
    "\n",
    "\n",
    "**Example 2:**\n",
    "\n",
    "\n",
    "\n",
    "    Input: str1 = \"ABABAB\", str2 = \"ABAB\"\n",
    "    Output: \"AB\"\n",
    "\n",
    "\n",
    "**Example 3:**\n",
    "\n",
    "\n",
    "\n",
    "    Input: str1 = \"LEET\", str2 = \"CODE\"\n",
    "    Output: \"\"\n",
    "\n",
    "\n",
    "**Example 4:**\n",
    "\n",
    "\n",
    "\n",
    "    Input: str1 = \"ABCDEF\", str2 = \"ABC\"\n",
    "    Output: \"\"\n",
    "\n",
    "\n",
    "\n",
    "\n",
    "**Constraints:**\n",
    "\n",
    "  * `1 <= str1.length <= 1000`\n",
    "  * `1 <= str2.length <= 1000`\n",
    "  * `str1` and `str2` consist of English uppercase letters."
   ],
   "metadata": {}
  },
  {
   "outputs": [
    {
     "output_type": "execute_result",
     "data": {
      "text/plain": "gcd_of_strings (generic function with 1 method)"
     },
     "metadata": {},
     "execution_count": 1
    }
   ],
   "cell_type": "code",
   "source": [
    "# @lc code=start\n",
    "using LeetCode\n",
    "\n",
    "function gcd_of_strings(str1::String, str2::String)\n",
    "    return str1 * str2 == str2 * str1 ? str1[1:gcd(length(str1), length(str2))] : \"\"\n",
    "end\n",
    "# @lc code=end"
   ],
   "metadata": {},
   "execution_count": 1
  },
  {
   "cell_type": "markdown",
   "source": [
    "---\n",
    "\n",
    "*This notebook was generated using [Literate.jl](https://github.com/fredrikekre/Literate.jl).*"
   ],
   "metadata": {}
  }
 ],
 "nbformat_minor": 3,
 "metadata": {
  "language_info": {
   "file_extension": ".jl",
   "mimetype": "application/julia",
   "name": "julia",
   "version": "1.10.4"
  },
  "kernelspec": {
   "name": "julia-1.10",
   "display_name": "Julia 1.10.4",
   "language": "julia"
  }
 },
 "nbformat": 4
}
