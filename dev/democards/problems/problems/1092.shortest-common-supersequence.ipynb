{
 "cells": [
  {
   "cell_type": "markdown",
   "source": [
    "Given two strings `str1` and `str2`, return the shortest string that has both\n",
    "`str1` and `str2` as subsequences.  If multiple answers exist, you may return\n",
    "any of them.\n",
    "\n",
    "_(A string S is a subsequence of string T if deleting some number of\n",
    "characters from T (possibly 0, and the characters are chosen _anywhere_ from\n",
    "T) results in the string S.)_\n",
    "\n",
    "\n",
    "\n",
    "**Example 1:**\n",
    "\n",
    "\n",
    "\n",
    "    Input: str1 = \"abac\", str2 = \"cab\"\n",
    "    Output: \"cabac\"\n",
    "    Explanation:\n",
    "    str1 = \"abac\" is a subsequence of \"cabac\" because we can delete the first \"c\".\n",
    "    str2 = \"cab\" is a subsequence of \"cabac\" because we can delete the last \"ac\".\n",
    "    The answer provided is the shortest such string that satisfies these properties.\n",
    "\n",
    "\n",
    "\n",
    "\n",
    "**Note:**\n",
    "\n",
    "  1. `1 <= str1.length, str2.length <= 1000`\n",
    "  2. `str1` and `str2` consist of lowercase English letters."
   ],
   "metadata": {}
  },
  {
   "outputs": [
    {
     "output_type": "execute_result",
     "data": {
      "text/plain": "shortest_common_supersequence (generic function with 1 method)"
     },
     "metadata": {},
     "execution_count": 1
    }
   ],
   "cell_type": "code",
   "source": [
    "# @lc code=start\n",
    "using LeetCode\n",
    "\n",
    "function shortest_common_supersequence(str1::String, str2::String)\n",
    "    m, n = length(str1), length(str2)\n",
    "    dp = OffsetArray(fill(0, m + 1, n + 1), -1, -1)\n",
    "    for i in 1:m, j in 1:n\n",
    "        dp[i, j] = max(\n",
    "            dp[i - 1, j], dp[i, j - 1], dp[i - 1, j - 1] + Int(str1[i] == str2[j])\n",
    "        )\n",
    "    end\n",
    "    res = \"\"\n",
    "    coord = CartesianIndex(m, n)\n",
    "    while coord != CartesianIndex(0, 0)\n",
    "        c1 = coord - CartesianIndex(1, 0)\n",
    "        c2 = coord - CartesianIndex(0, 1)\n",
    "        if c1 ∈ CartesianIndices(dp) && dp[coord] == dp[c1]\n",
    "            res *= str1[coord[1]]\n",
    "            coord -= CartesianIndex(1, 0)\n",
    "        elseif c2 ∈ CartesianIndices(dp) && dp[coord] == dp[c2]\n",
    "            res *= str2[coord[2]]\n",
    "            coord -= CartesianIndex(0, 1)\n",
    "        else\n",
    "            res *= str1[coord[1]]\n",
    "            coord -= CartesianIndex(1, 1)\n",
    "        end\n",
    "    end\n",
    "    return reverse(res)\n",
    "end\n",
    "# @lc code=end"
   ],
   "metadata": {},
   "execution_count": 1
  },
  {
   "cell_type": "markdown",
   "source": [
    "---\n",
    "\n",
    "*This notebook was generated using [Literate.jl](https://github.com/fredrikekre/Literate.jl).*"
   ],
   "metadata": {}
  }
 ],
 "nbformat_minor": 3,
 "metadata": {
  "language_info": {
   "file_extension": ".jl",
   "mimetype": "application/julia",
   "name": "julia",
   "version": "1.11.6"
  },
  "kernelspec": {
   "name": "julia-1.11",
   "display_name": "Julia 1.11.6",
   "language": "julia"
  }
 },
 "nbformat": 4
}
