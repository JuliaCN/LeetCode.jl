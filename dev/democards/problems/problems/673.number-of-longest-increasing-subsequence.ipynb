{
 "cells": [
  {
   "cell_type": "markdown",
   "source": [
    "Given an integer array `nums`, return _the number of longest increasing\n",
    "subsequences._\n",
    "\n",
    "**Notice** that the sequence has to be **strictly** increasing.\n",
    "\n",
    "\n",
    "\n",
    "**Example 1:**\n",
    "\n",
    "\n",
    "\n",
    "    Input: nums = [1,3,5,4,7]\n",
    "    Output: 2\n",
    "    Explanation: The two longest increasing subsequences are [1, 3, 4, 7] and [1, 3, 5, 7].\n",
    "\n",
    "\n",
    "**Example 2:**\n",
    "\n",
    "\n",
    "\n",
    "    Input: nums = [2,2,2,2,2]\n",
    "    Output: 5\n",
    "    Explanation: The length of longest continuous increasing subsequence is 1, and there are 5 subsequences' length is 1, so output 5.\n",
    "\n",
    "\n",
    "\n",
    "\n",
    "\n",
    "**Constraints:**\n",
    "\n",
    "  * `1 <= nums.length <= 2000`\n",
    "  * `-106 <= nums[i] <= 106`"
   ],
   "metadata": {}
  },
  {
   "outputs": [
    {
     "output_type": "execute_result",
     "data": {
      "text/plain": "find_number_of_LIS (generic function with 1 method)"
     },
     "metadata": {},
     "execution_count": 1
    }
   ],
   "cell_type": "code",
   "source": [
    "# @lc code=start\n",
    "using LeetCode\n",
    "\n",
    "function find_number_of_LIS(nums::Vector{Int})\n",
    "    len = length(nums)\n",
    "    len <= 1 && return len\n",
    "    dp = fill(1, len)\n",
    "    cnt = copy(dp)\n",
    "    for i in 2:len, j in 1:(i - 1)\n",
    "        nums[i] <= nums[j] && continue\n",
    "        if dp[i] <= dp[j]\n",
    "            dp[i] = dp[j] + 1\n",
    "            cnt[i] = cnt[j]\n",
    "        elseif dp[i] == dp[j] + 1\n",
    "            cnt[i] += cnt[j]\n",
    "        end\n",
    "    end\n",
    "    max_len = maximum(dp)\n",
    "    return sum(c for (idx, c) in enumerate(cnt) if dp[idx] == max_len)\n",
    "end\n",
    "# @lc code=end"
   ],
   "metadata": {},
   "execution_count": 1
  },
  {
   "cell_type": "markdown",
   "source": [
    "---\n",
    "\n",
    "*This notebook was generated using [Literate.jl](https://github.com/fredrikekre/Literate.jl).*"
   ],
   "metadata": {}
  }
 ],
 "nbformat_minor": 3,
 "metadata": {
  "language_info": {
   "file_extension": ".jl",
   "mimetype": "application/julia",
   "name": "julia",
   "version": "1.7.2"
  },
  "kernelspec": {
   "name": "julia-1.7",
   "display_name": "Julia 1.7.2",
   "language": "julia"
  }
 },
 "nbformat": 4
}
