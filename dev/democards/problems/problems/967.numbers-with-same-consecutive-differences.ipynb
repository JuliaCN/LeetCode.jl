{
 "cells": [
  {
   "cell_type": "markdown",
   "source": [
    "Return all **non-negative** integers of length `n` such that the absolute\n",
    "difference between every two consecutive digits is `k`.\n",
    "\n",
    "Note that **every** number in the answer **must not** have leading zeros\n",
    "**except** for the number `0` itself. For example, `01` has one leading zero\n",
    "and is invalid, but `0` is valid.\n",
    "\n",
    "You may return the answer in **any order**.\n",
    "\n",
    "\n",
    "\n",
    "**Example 1:**\n",
    "\n",
    "\n",
    "\n",
    "    Input: n = 3, k = 7\n",
    "    Output: [181,292,707,818,929]\n",
    "    Explanation: Note that 070 is not a valid number, because it has leading zeroes.\n",
    "\n",
    "\n",
    "**Example 2:**\n",
    "\n",
    "\n",
    "\n",
    "    Input: n = 2, k = 1\n",
    "    Output: [10,12,21,23,32,34,43,45,54,56,65,67,76,78,87,89,98]\n",
    "\n",
    "\n",
    "**Example 3:**\n",
    "\n",
    "\n",
    "\n",
    "    Input: n = 2, k = 0\n",
    "    Output: [11,22,33,44,55,66,77,88,99]\n",
    "\n",
    "\n",
    "**Example 4:**\n",
    "\n",
    "\n",
    "\n",
    "    Input: n = 2, k = 1\n",
    "    Output: [10,12,21,23,32,34,43,45,54,56,65,67,76,78,87,89,98]\n",
    "\n",
    "\n",
    "**Example 5:**\n",
    "\n",
    "\n",
    "\n",
    "    Input: n = 2, k = 2\n",
    "    Output: [13,20,24,31,35,42,46,53,57,64,68,75,79,86,97]\n",
    "\n",
    "\n",
    "\n",
    "\n",
    "**Constraints:**\n",
    "\n",
    "  * `2 <= n <= 9`\n",
    "  * `0 <= k <= 9`"
   ],
   "metadata": {}
  },
  {
   "outputs": [
    {
     "output_type": "execute_result",
     "data": {
      "text/plain": "nums_same_consec_diff (generic function with 1 method)"
     },
     "metadata": {},
     "execution_count": 1
    }
   ],
   "cell_type": "code",
   "source": [
    "# @lc code=start\n",
    "using LeetCode\n",
    "\n",
    "function nums_same_consec_diff(n::Int, k::Int)\n",
    "    (k == 0) && return [(10 ^ n - 1) ÷ 9 * i for i in 1:9]\n",
    "    function nums_same_consec_diff(n::Int, k::Int, pre::Int)\n",
    "        (pre < 0 || pre > 9) && return String[]\n",
    "        (n == 0) && return [\"\"]\n",
    "        n1, n2 = pre - k, pre + k\n",
    "        r1 = nums_same_consec_diff(n - 1, k, n1)\n",
    "        r2 = nums_same_consec_diff(n - 1, k, n2)\n",
    "        [[string(n1) * r for r in r1]; [string(n2) * r for r in r2]]\n",
    "    end\n",
    "    res = Int[]\n",
    "    for i in 1:9\n",
    "        tmp = nums_same_consec_diff(n - 1, k, i)\n",
    "        append!(res, parse(Int, string(i) * t) for t in tmp)\n",
    "    end\n",
    "    res\n",
    "end\n",
    "# @lc code=end"
   ],
   "metadata": {},
   "execution_count": 1
  },
  {
   "cell_type": "markdown",
   "source": [
    "---\n",
    "\n",
    "*This notebook was generated using [Literate.jl](https://github.com/fredrikekre/Literate.jl).*"
   ],
   "metadata": {}
  }
 ],
 "nbformat_minor": 3,
 "metadata": {
  "language_info": {
   "file_extension": ".jl",
   "mimetype": "application/julia",
   "name": "julia",
   "version": "1.9.1"
  },
  "kernelspec": {
   "name": "julia-1.9",
   "display_name": "Julia 1.9.1",
   "language": "julia"
  }
 },
 "nbformat": 4
}
