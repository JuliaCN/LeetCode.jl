{
 "cells": [
  {
   "cell_type": "markdown",
   "source": [
    "In a row of dominoes, `A[i]` and `B[i]` represent the top and bottom halves of\n",
    "the `ith` domino.  (A domino is a tile with two numbers from 1 to 6 - one on\n",
    "each half of the tile.)\n",
    "\n",
    "We may rotate the `ith` domino, so that `A[i]` and `B[i]` swap values.\n",
    "\n",
    "Return the minimum number of rotations so that all the values in `A` are the\n",
    "same, or all the values in `B` are the same.\n",
    "\n",
    "If it cannot be done, return `-1`.\n",
    "\n",
    "\n",
    "\n",
    "**Example 1:**\n",
    "\n",
    "![](https://assets.leetcode.com/uploads/2019/03/08/domino.png)\n",
    "\n",
    "\n",
    "\n",
    "    Input: A = [2,1,2,4,2,2], B = [5,2,6,2,3,2]\n",
    "    Output: 2\n",
    "    Explanation:\n",
    "    The first figure represents the dominoes as given by A and B: before we do any rotations.\n",
    "    If we rotate the second and fourth dominoes, we can make every value in the top row equal to 2, as indicated by the second figure.\n",
    "\n",
    "\n",
    "**Example 2:**\n",
    "\n",
    "\n",
    "\n",
    "    Input: A = [3,5,1,2,3], B = [3,6,3,3,4]\n",
    "    Output: -1\n",
    "    Explanation:\n",
    "    In this case, it is not possible to rotate the dominoes to make one row of values equal.\n",
    "\n",
    "\n",
    "\n",
    "\n",
    "**Constraints:**\n",
    "\n",
    "  * `2 <= A.length == B.length <= 2 * 104`\n",
    "  * `1 <= A[i], B[i] <= 6`"
   ],
   "metadata": {}
  },
  {
   "outputs": [
    {
     "output_type": "execute_result",
     "data": {
      "text/plain": "min_domino_rotations (generic function with 1 method)"
     },
     "metadata": {},
     "execution_count": 1
    }
   ],
   "cell_type": "code",
   "source": [
    "# @lc code=start\n",
    "using LeetCode\n",
    "\n",
    "function min_domino_rotations(A::Vector{Int}, B::Vector{Int})\n",
    "    base1, base2 = A[1], B[1]\n",
    "    cnt1, cnt2 = 0, 0\n",
    "    for i = 1:length(A)\n",
    "        !(base1 in (A[i], B[i])) && (base1 = 0)\n",
    "        !(base2 in (A[i], B[i])) && (base2 = 0)\n",
    "        if base1 == base2 == 0\n",
    "            return -1\n",
    "        end\n",
    "        (base1 != 0 && A[i] != base1) && (cnt1 += 1)\n",
    "        (base2 != 0 && A[i] != base2) && (cnt2 += 1)\n",
    "    end\n",
    "    res = length(A)\n",
    "    (base1 != 0) && (res = min(base1, length(A) - base1))\n",
    "    (base2 != 0) && (res = min(res, base2, length(A) - base2))\n",
    "    res\n",
    "end\n",
    "# @lc code=end"
   ],
   "metadata": {},
   "execution_count": 1
  },
  {
   "cell_type": "markdown",
   "source": [
    "---\n",
    "\n",
    "*This notebook was generated using [Literate.jl](https://github.com/fredrikekre/Literate.jl).*"
   ],
   "metadata": {}
  }
 ],
 "nbformat_minor": 3,
 "metadata": {
  "language_info": {
   "file_extension": ".jl",
   "mimetype": "application/julia",
   "name": "julia",
   "version": "1.5.4"
  },
  "kernelspec": {
   "name": "julia-1.5",
   "display_name": "Julia 1.5.4",
   "language": "julia"
  }
 },
 "nbformat": 4
}
