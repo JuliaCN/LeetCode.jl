{
 "cells": [
  {
   "cell_type": "markdown",
   "source": [
    "Merge two sorted linked lists and return it as a new **sorted** list. The new\n",
    "list should be made by splicing together the nodes of the first two lists.\n",
    "\n",
    "\n",
    "\n",
    "**Example 1:**\n",
    "\n",
    "![](https://assets.leetcode.com/uploads/2020/10/03/merge_ex1.jpg)\n",
    "\n",
    "\n",
    "\n",
    "    Input: l1 = [1,2,4], l2 = [1,3,4]\n",
    "    Output: [1,1,2,3,4,4]\n",
    "\n",
    "\n",
    "**Example 2:**\n",
    "\n",
    "\n",
    "\n",
    "    Input: l1 = [], l2 = []\n",
    "    Output: []\n",
    "\n",
    "\n",
    "**Example 3:**\n",
    "\n",
    "\n",
    "\n",
    "    Input: l1 = [], l2 = [0]\n",
    "    Output: [0]\n",
    "\n",
    "\n",
    "\n",
    "\n",
    "**Constraints:**\n",
    "\n",
    "  * The number of nodes in both lists is in the range `[0, 50]`.\n",
    "  * `-100 <= Node.val <= 100`\n",
    "  * Both `l1` and `l2` are sorted in **non-decreasing** order."
   ],
   "metadata": {}
  },
  {
   "outputs": [
    {
     "output_type": "execute_result",
     "data": {
      "text/plain": "merge_two_lists (generic function with 1 method)"
     },
     "metadata": {},
     "execution_count": 1
    }
   ],
   "cell_type": "code",
   "source": [
    "# @lc code=start\n",
    "using LeetCode\n",
    "\n",
    "function merge_two_lists(\n",
    "    list1::Union{ListNode,Nothing}, list2::Union{ListNode,Nothing}\n",
    ")::Union{ListNode,Nothing}\n",
    "    isnothing(list1) && isnothing(list2) && return nothing\n",
    "    node = fake_head = ListNode()\n",
    "    while !isnothing(list1) && !isnothing(list2)\n",
    "        node.next = ListNode()\n",
    "        node = next(node)\n",
    "        if val(list1) < val(list2)\n",
    "            node.val = list1.val\n",
    "            list1 = next(list1)\n",
    "        else\n",
    "            node.val = list2.val\n",
    "            list2 = next(list2)\n",
    "        end\n",
    "    end\n",
    "    l = isnothing(list2) ? list1 : list2\n",
    "    while !isnothing(l)\n",
    "        node.next = ListNode()\n",
    "        node = next(node)\n",
    "        node.val = l.val\n",
    "        l = next(l)\n",
    "    end\n",
    "    return next(fake_head)\n",
    "end\n",
    "\n",
    "# @lc code=end"
   ],
   "metadata": {},
   "execution_count": 1
  },
  {
   "cell_type": "markdown",
   "source": [
    "---\n",
    "\n",
    "*This notebook was generated using [Literate.jl](https://github.com/fredrikekre/Literate.jl).*"
   ],
   "metadata": {}
  }
 ],
 "nbformat_minor": 3,
 "metadata": {
  "language_info": {
   "file_extension": ".jl",
   "mimetype": "application/julia",
   "name": "julia",
   "version": "1.10.4"
  },
  "kernelspec": {
   "name": "julia-1.10",
   "display_name": "Julia 1.10.4",
   "language": "julia"
  }
 },
 "nbformat": 4
}
