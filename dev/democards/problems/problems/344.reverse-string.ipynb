{
 "cells": [
  {
   "cell_type": "markdown",
   "source": [
    "Write a function that reverses a string. The input string is given as an array\n",
    "of characters `char[]`.\n",
    "\n",
    "Do not allocate extra space for another array, you must do this by **modifying\n",
    "the input array  [in-place](https://en.wikipedia.org/wiki/In-\n",
    "place_algorithm)** with O(1) extra memory.\n",
    "\n",
    "You may assume all the characters consist of [printable ascii\n",
    "characters](https://en.wikipedia.org/wiki/ASCII#Printable_characters).\n",
    "\n",
    "\n",
    "\n",
    "**Example 1:**\n",
    "\n",
    "\n",
    "\n",
    "    Input: [\"h\",\"e\",\"l\",\"l\",\"o\"]\n",
    "    Output: [\"o\",\"l\",\"l\",\"e\",\"h\"]\n",
    "\n",
    "\n",
    "**Example 2:**\n",
    "\n",
    "\n",
    "\n",
    "    Input: [\"H\",\"a\",\"n\",\"n\",\"a\",\"h\"]\n",
    "    Output: [\"h\",\"a\",\"n\",\"n\",\"a\",\"H\"]"
   ],
   "metadata": {}
  },
  {
   "outputs": [
    {
     "output_type": "execute_result",
     "data": {
      "text/plain": "reverse_string! (generic function with 1 method)"
     },
     "metadata": {},
     "execution_count": 1
    }
   ],
   "cell_type": "code",
   "source": [
    "# @lc code=start\n",
    "using LeetCode\n",
    "\n",
    "function reverse_string!(s::Vector{Char})::Nothing\n",
    "    n = length(s)\n",
    "    for i in 1:(n ÷ 2)\n",
    "        s[i], s[end - i + 1] = s[end - i + 1], s[i]\n",
    "    end\n",
    "    return nothing\n",
    "end\n",
    "\n",
    "# @lc code=end"
   ],
   "metadata": {},
   "execution_count": 1
  },
  {
   "cell_type": "markdown",
   "source": [
    "---\n",
    "\n",
    "*This notebook was generated using [Literate.jl](https://github.com/fredrikekre/Literate.jl).*"
   ],
   "metadata": {}
  }
 ],
 "nbformat_minor": 3,
 "metadata": {
  "language_info": {
   "file_extension": ".jl",
   "mimetype": "application/julia",
   "name": "julia",
   "version": "1.8.2"
  },
  "kernelspec": {
   "name": "julia-1.8",
   "display_name": "Julia 1.8.2",
   "language": "julia"
  }
 },
 "nbformat": 4
}
