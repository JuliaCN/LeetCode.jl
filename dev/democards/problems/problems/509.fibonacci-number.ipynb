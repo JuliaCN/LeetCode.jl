{
 "cells": [
  {
   "cell_type": "markdown",
   "source": [
    "The  **Fibonacci numbers** , commonly denoted `F(n)` form a sequence, called\n",
    "the  **Fibonacci sequence** , such that each number is the sum of the two\n",
    "preceding ones, starting from `0` and `1`. That is,\n",
    "\n",
    "\n",
    "\n",
    "    F(0) = 0,   F(1) = 1\n",
    "    F(N) = F(N - 1) + F(N - 2), for N > 1.\n",
    "\n",
    "\n",
    "Given `N`, calculate `F(N)`.\n",
    "\n",
    "\n",
    "\n",
    "**Example 1:**\n",
    "\n",
    "\n",
    "\n",
    "    Input: 2\n",
    "    Output: 1\n",
    "    Explanation: F(2) = F(1) + F(0) = 1 + 0 = 1.\n",
    "\n",
    "\n",
    "**Example 2:**\n",
    "\n",
    "\n",
    "\n",
    "    Input: 3\n",
    "    Output: 2\n",
    "    Explanation: F(3) = F(2) + F(1) = 1 + 1 = 2.\n",
    "\n",
    "\n",
    "**Example 3:**\n",
    "\n",
    "\n",
    "\n",
    "    Input: 4\n",
    "    Output: 3\n",
    "    Explanation: F(4) = F(3) + F(2) = 2 + 1 = 3.\n",
    "\n",
    "\n",
    "\n",
    "\n",
    "**Note:**\n",
    "\n",
    "0 ≤ `N` ≤ 30."
   ],
   "metadata": {}
  },
  {
   "outputs": [
    {
     "output_type": "execute_result",
     "data": {
      "text/plain": "fib (generic function with 1 method)"
     },
     "metadata": {},
     "execution_count": 1
    }
   ],
   "cell_type": "code",
   "source": [
    "# @lc code=start\n",
    "using LeetCode\n",
    "\n",
    "function fib(n::Int)\n",
    "    [1, 1, 2, 3, 5, 8, 13, 21, 34, 55, 89, 144, 233, 377, 610, 987, 1597, 2584, 4181, 6765, 10946, 17711, 28657, 46368, 75025, 121393, 196418, 317811, 514229, 832040][n]\n",
    "end\n",
    "# @lc code=end"
   ],
   "metadata": {},
   "execution_count": 1
  },
  {
   "cell_type": "markdown",
   "source": [
    "---\n",
    "\n",
    "*This notebook was generated using [Literate.jl](https://github.com/fredrikekre/Literate.jl).*"
   ],
   "metadata": {}
  }
 ],
 "nbformat_minor": 3,
 "metadata": {
  "language_info": {
   "file_extension": ".jl",
   "mimetype": "application/julia",
   "name": "julia",
   "version": "1.7.0"
  },
  "kernelspec": {
   "name": "julia-1.7",
   "display_name": "Julia 1.7.0",
   "language": "julia"
  }
 },
 "nbformat": 4
}
