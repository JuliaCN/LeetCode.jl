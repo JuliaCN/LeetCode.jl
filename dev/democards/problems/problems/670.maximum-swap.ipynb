{
 "cells": [
  {
   "cell_type": "markdown",
   "source": [
    "Given a non-negative integer, you could swap two digits **at most** once to\n",
    "get the maximum valued number. Return the maximum valued number you could get.\n",
    "\n",
    "**Example 1:**\n",
    "\n",
    "\n",
    "\n",
    "    Input: 2736\n",
    "    Output: 7236\n",
    "    Explanation: Swap the number 2 and the number 7.\n",
    "\n",
    "\n",
    "**Example 2:**\n",
    "\n",
    "\n",
    "\n",
    "    Input: 9973\n",
    "    Output: 9973\n",
    "    Explanation: No swap.\n",
    "\n",
    "\n",
    "**Note:**\n",
    "\n",
    "  1. The given number is in the range [0, 108]"
   ],
   "metadata": {}
  },
  {
   "outputs": [
    {
     "output_type": "execute_result",
     "data": {
      "text/plain": "maximum_swap670 (generic function with 1 method)"
     },
     "metadata": {},
     "execution_count": 1
    }
   ],
   "cell_type": "code",
   "source": [
    "# @lc code=start\n",
    "using LeetCode\n",
    "\n",
    "function maximum_swap670(nums::Int)\n",
    "    dgs = digits(nums)\n",
    "    for i in 1:length(dgs)\n",
    "        cur = @view(dgs[i:end])\n",
    "        max_idx = argmax(cur)\n",
    "        max_idx == lastindex(cur) && continue\n",
    "        dgs[end], dgs[max_idx] = dgs[max_idx], dgs[end]\n",
    "        break\n",
    "    end\n",
    "    return [10 .^ (0:length(dgs)-1);]' * dgs\n",
    "end\n",
    "# @lc code=end"
   ],
   "metadata": {},
   "execution_count": 1
  },
  {
   "cell_type": "markdown",
   "source": [
    "---\n",
    "\n",
    "*This notebook was generated using [Literate.jl](https://github.com/fredrikekre/Literate.jl).*"
   ],
   "metadata": {}
  }
 ],
 "nbformat_minor": 3,
 "metadata": {
  "language_info": {
   "file_extension": ".jl",
   "mimetype": "application/julia",
   "name": "julia",
   "version": "1.6.4"
  },
  "kernelspec": {
   "name": "julia-1.6",
   "display_name": "Julia 1.6.4",
   "language": "julia"
  }
 },
 "nbformat": 4
}
