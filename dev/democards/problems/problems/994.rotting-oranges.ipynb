{
 "cells": [
  {
   "cell_type": "markdown",
   "source": [
    "In a given grid, each cell can have one of three values:\n",
    "\n",
    "  * the value `0` representing an empty cell;\n",
    "  * the value `1` representing a fresh orange;\n",
    "  * the value `2` representing a rotten orange.\n",
    "\n",
    "Every minute, any fresh orange that is adjacent (4-directionally) to a rotten\n",
    "orange becomes rotten.\n",
    "\n",
    "Return the minimum number of minutes that must elapse until no cell has a\n",
    "fresh orange.  If this is impossible, return `-1` instead.\n",
    "\n",
    "\n",
    "\n",
    "**Example 1:**\n",
    "\n",
    "**![](https://assets.leetcode.com/uploads/2019/02/16/oranges.png)**\n",
    "\n",
    "\n",
    "\n",
    "    Input: [[2,1,1],[1,1,0],[0,1,1]]\n",
    "    Output: 4\n",
    "\n",
    "\n",
    "**Example 2:**\n",
    "\n",
    "\n",
    "\n",
    "    Input: [[2,1,1],[0,1,1],[1,0,1]]\n",
    "    Output: -1\n",
    "    Explanation: The orange in the bottom left corner (row 2, column 0) is never rotten, because rotting only happens 4-directionally.\n",
    "\n",
    "\n",
    "**Example 3:**\n",
    "\n",
    "\n",
    "\n",
    "    Input: [[0,2]]\n",
    "    Output: 0\n",
    "    Explanation: Since there are already no fresh oranges at minute 0, the answer is just 0.\n",
    "\n",
    "\n",
    "\n",
    "\n",
    "**Note:**\n",
    "\n",
    "  1. `1 <= grid.length <= 10`\n",
    "  2. `1 <= grid[0].length <= 10`\n",
    "  3. `grid[i][j]` is only `0`, `1`, or `2`."
   ],
   "metadata": {}
  },
  {
   "outputs": [
    {
     "output_type": "execute_result",
     "data": {
      "text/plain": "oranges_rotting (generic function with 1 method)"
     },
     "metadata": {},
     "execution_count": 1
    }
   ],
   "cell_type": "code",
   "source": [
    "# @lc code=start\n",
    "using LeetCode, DataStructures\n",
    "\n",
    "function oranges_rotting(grid::Vector{Vector{Int}})\n",
    "    nr, nc = length(grid), length(grid[1])\n",
    "    visited = fill(false, nr, nc)\n",
    "    q = Queue{Tuple{Int,Int,Int}}()\n",
    "    left, res = 0, 0\n",
    "    for r in 1:nr, c in 1:nc\n",
    "        if grid[r][c] == 2\n",
    "            enqueue!(q, (r, c, 0))\n",
    "        elseif grid[r][c] == 1\n",
    "            left += 1\n",
    "        end\n",
    "    end\n",
    "    dirs = [(0, 1), (1, 0), (0, -1), (-1, 0)]\n",
    "    while !isempty(q)\n",
    "        tp = dequeue!(q)\n",
    "        for dir in dirs\n",
    "            nb = (tp[1] + dir[1], tp[2] + dir[2], tp[3] + 1)\n",
    "            if 0 < nb[1] ≤ nr &&\n",
    "               0 < nb[2] ≤ nc &&\n",
    "               !visited[nb[1], nb[2]] &&\n",
    "               grid[nb[1]][nb[2]] == 1\n",
    "                left -= 1\n",
    "                visited[nb[1], nb[2]] = true\n",
    "                enqueue!(q, nb)\n",
    "            end\n",
    "        end\n",
    "        res = tp[3]\n",
    "    end\n",
    "    left == 0 ? res : -1\n",
    "end\n",
    "# @lc code=end"
   ],
   "metadata": {},
   "execution_count": 1
  },
  {
   "cell_type": "markdown",
   "source": [
    "---\n",
    "\n",
    "*This notebook was generated using [Literate.jl](https://github.com/fredrikekre/Literate.jl).*"
   ],
   "metadata": {}
  }
 ],
 "nbformat_minor": 3,
 "metadata": {
  "language_info": {
   "file_extension": ".jl",
   "mimetype": "application/julia",
   "name": "julia",
   "version": "1.11.6"
  },
  "kernelspec": {
   "name": "julia-1.11",
   "display_name": "Julia 1.11.6",
   "language": "julia"
  }
 },
 "nbformat": 4
}
