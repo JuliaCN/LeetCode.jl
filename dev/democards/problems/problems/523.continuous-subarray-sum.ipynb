{
 "cells": [
  {
   "cell_type": "markdown",
   "source": [
    "Given a list of **non-negative** numbers and a target **integer** k, write a\n",
    "function to check if the array has a continuous subarray of size at least 2\n",
    "that sums up to a multiple of **k** , that is, sums up to n*k where n is also\n",
    "an **integer**.\n",
    "\n",
    "\n",
    "\n",
    "**Example 1:**\n",
    "\n",
    "\n",
    "\n",
    "    Input: [23, 2, 4, 6, 7],  k=6\n",
    "    Output: True\n",
    "    Explanation: Because [2, 4] is a continuous subarray of size 2 and sums up to 6.\n",
    "\n",
    "\n",
    "**Example 2:**\n",
    "\n",
    "\n",
    "\n",
    "    Input: [23, 2, 6, 4, 7],  k=6\n",
    "    Output: True\n",
    "    Explanation: Because [23, 2, 6, 4, 7] is an continuous subarray of size 5 and sums up to 42.\n",
    "\n",
    "\n",
    "\n",
    "\n",
    "**Constraints:**\n",
    "\n",
    "  * The length of the array won't exceed 10,000.\n",
    "  * You may assume the sum of all the numbers is in the range of a signed 32-bit integer."
   ],
   "metadata": {}
  },
  {
   "outputs": [
    {
     "output_type": "execute_result",
     "data": {
      "text/plain": "check_subarray_sum (generic function with 1 method)"
     },
     "metadata": {},
     "execution_count": 1
    }
   ],
   "cell_type": "code",
   "source": [
    "# @lc code=start\n",
    "using LeetCode\n",
    "\n",
    "function check_subarray_sum(nums::Vector{Int}, k::Int)\n",
    "    pushfirst!(nums, 0)\n",
    "    cumsum!(nums, nums)\n",
    "    nums .%= k\n",
    "    st = Set{Int}()\n",
    "    len = length(nums)\n",
    "    for i in 3:len\n",
    "        nums[i] ∈ st && return true\n",
    "        push!(st, nums[i - 1])\n",
    "    end\n",
    "    return false\n",
    "end\n",
    "# @lc code=end"
   ],
   "metadata": {},
   "execution_count": 1
  },
  {
   "cell_type": "markdown",
   "source": [
    "---\n",
    "\n",
    "*This notebook was generated using [Literate.jl](https://github.com/fredrikekre/Literate.jl).*"
   ],
   "metadata": {}
  }
 ],
 "nbformat_minor": 3,
 "metadata": {
  "language_info": {
   "file_extension": ".jl",
   "mimetype": "application/julia",
   "name": "julia",
   "version": "1.8.0"
  },
  "kernelspec": {
   "name": "julia-1.8",
   "display_name": "Julia 1.8.0",
   "language": "julia"
  }
 },
 "nbformat": 4
}
