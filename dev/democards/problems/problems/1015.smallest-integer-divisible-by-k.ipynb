{
 "cells": [
  {
   "cell_type": "markdown",
   "source": [
    "Given a positive integer `K`, you need to find the **length** of the\n",
    "**smallest** positive integer `N` such that `N` is divisible by `K`, and `N`\n",
    "only contains the digit `1`.\n",
    "\n",
    "Return _the **length** of _`N`. If there is no such `N`, return -1.\n",
    "\n",
    "**Note:** `N` may not fit in a 64-bit signed integer.\n",
    "\n",
    "\n",
    "\n",
    "**Example 1:**\n",
    "\n",
    "\n",
    "\n",
    "    Input: K = 1\n",
    "    Output: 1\n",
    "    Explanation: The smallest answer is N = 1, which has length 1.\n",
    "\n",
    "\n",
    "**Example 2:**\n",
    "\n",
    "\n",
    "\n",
    "    Input: K = 2\n",
    "    Output: -1\n",
    "    Explanation: There is no such positive integer N divisible by 2.\n",
    "\n",
    "\n",
    "**Example 3:**\n",
    "\n",
    "\n",
    "\n",
    "    Input: K = 3\n",
    "    Output: 3\n",
    "    Explanation: The smallest answer is N = 111, which has length 3.\n",
    "\n",
    "\n",
    "\n",
    "\n",
    "**Constraints:**\n",
    "\n",
    "  * `1 <= K <= 105`"
   ],
   "metadata": {}
  },
  {
   "outputs": [
    {
     "output_type": "execute_result",
     "data": {
      "text/plain": "smallest_repunit_div_by_k (generic function with 1 method)"
     },
     "metadata": {},
     "execution_count": 1
    }
   ],
   "cell_type": "code",
   "source": [
    "# @lc code=start\n",
    "using LeetCode\n",
    "\n",
    "function smallest_repunit_div_by_k(K::Int)\n",
    "    (K % 2 == 0 || K % 5 == 0) && (return -1)\n",
    "    r, len = 0, 1\n",
    "    while true\n",
    "        r = (10 * r % K + 1) % K\n",
    "        r == 0 && return len\n",
    "        len += 1\n",
    "    end\n",
    "    return len\n",
    "end\n",
    "# @lc code=end"
   ],
   "metadata": {},
   "execution_count": 1
  },
  {
   "cell_type": "markdown",
   "source": [
    "---\n",
    "\n",
    "*This notebook was generated using [Literate.jl](https://github.com/fredrikekre/Literate.jl).*"
   ],
   "metadata": {}
  }
 ],
 "nbformat_minor": 3,
 "metadata": {
  "language_info": {
   "file_extension": ".jl",
   "mimetype": "application/julia",
   "name": "julia",
   "version": "1.6.1"
  },
  "kernelspec": {
   "name": "julia-1.6",
   "display_name": "Julia 1.6.1",
   "language": "julia"
  }
 },
 "nbformat": 4
}
