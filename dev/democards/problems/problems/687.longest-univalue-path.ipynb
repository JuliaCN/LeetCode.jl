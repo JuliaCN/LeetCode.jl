{
 "cells": [
  {
   "cell_type": "markdown",
   "source": [
    "Given the `root` of a binary tree, return _the length of the longest path,\n",
    "where each node in the path has the same value_. This path may or may not pass\n",
    "through the root.\n",
    "\n",
    "**The length of the path** between two nodes is represented by the number of\n",
    "edges between them.\n",
    "\n",
    "\n",
    "\n",
    "**Example 1:**\n",
    "\n",
    "![](https://assets.leetcode.com/uploads/2020/10/13/ex1.jpg)\n",
    "\n",
    "\n",
    "\n",
    "    Input: root = [5,4,5,1,1,5]\n",
    "    Output: 2\n",
    "\n",
    "\n",
    "**Example 2:**\n",
    "\n",
    "![](https://assets.leetcode.com/uploads/2020/10/13/ex2.jpg)\n",
    "\n",
    "\n",
    "\n",
    "    Input: root = [1,4,5,4,4,5]\n",
    "    Output: 2\n",
    "\n",
    "\n",
    "\n",
    "\n",
    "**Constraints:**\n",
    "\n",
    "  * The number of nodes in the tree is in the range `[0, 104]`.\n",
    "  * `-1000 <= Node.val <= 1000`\n",
    "  * The depth of the tree will not exceed `1000`."
   ],
   "metadata": {}
  },
  {
   "outputs": [
    {
     "output_type": "execute_result",
     "data": {
      "text/plain": "longest_univalue_path (generic function with 1 method)"
     },
     "metadata": {},
     "execution_count": 1
    }
   ],
   "cell_type": "code",
   "source": [
    "# @lc code=start\n",
    "using LeetCode\n",
    "\n",
    "function longest_univalue_path(root::TreeNode{Int})\n",
    "    res = 0\n",
    "    function lup(root::TreeNode{Int})\n",
    "        r2 = 1\n",
    "        rl = lup(root.left)\n",
    "        rr = lup(root.right)\n",
    "        r = max(rl, rr) + 1\n",
    "        if rl != 0 && root.val == root.left.val\n",
    "            r2 += rl\n",
    "        end\n",
    "        if rr != 0 && root.val == root.right.val\n",
    "            r2 += rr\n",
    "        end\n",
    "        res = max(r, res)\n",
    "        return r\n",
    "    end\n",
    "    lup(::Nothing) = 0\n",
    "    lup(root)\n",
    "    return res - 1\n",
    "end\n",
    "# @lc code=end"
   ],
   "metadata": {},
   "execution_count": 1
  },
  {
   "cell_type": "markdown",
   "source": [
    "---\n",
    "\n",
    "*This notebook was generated using [Literate.jl](https://github.com/fredrikekre/Literate.jl).*"
   ],
   "metadata": {}
  }
 ],
 "nbformat_minor": 3,
 "metadata": {
  "language_info": {
   "file_extension": ".jl",
   "mimetype": "application/julia",
   "name": "julia",
   "version": "1.10.1"
  },
  "kernelspec": {
   "name": "julia-1.10",
   "display_name": "Julia 1.10.1",
   "language": "julia"
  }
 },
 "nbformat": 4
}
