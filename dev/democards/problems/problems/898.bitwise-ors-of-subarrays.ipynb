{
 "cells": [
  {
   "cell_type": "markdown",
   "source": [
    "We have an array `A` of non-negative integers.\n",
    "\n",
    "For every (contiguous) subarray `B = [A[i], A[i+1], ..., A[j]]` (with `i <=\n",
    "j`), we take the bitwise OR of all the elements in `B`, obtaining a result\n",
    "`A[i] | A[i+1] | ... | A[j]`.\n",
    "\n",
    "Return the number of possible results.  (Results that occur more than once are\n",
    "only counted once in the final answer.)\n",
    "\n",
    "\n",
    "\n",
    "**Example 1:**\n",
    "\n",
    "\n",
    "\n",
    "    Input: [0]\n",
    "    Output: 1\n",
    "    Explanation:\n",
    "    There is only one possible result: 0.\n",
    "\n",
    "\n",
    "**Example 2:**\n",
    "\n",
    "\n",
    "\n",
    "    Input: [1,1,2]\n",
    "    Output: 3\n",
    "    Explanation:\n",
    "    The possible subarrays are [1], [1], [2], [1, 1], [1, 2], [1, 1, 2].\n",
    "    These yield the results 1, 1, 2, 1, 3, 3.\n",
    "    There are 3 unique values, so the answer is 3.\n",
    "\n",
    "\n",
    "**Example 3:**\n",
    "\n",
    "\n",
    "\n",
    "    Input: [1,2,4]\n",
    "    Output: 6\n",
    "    Explanation:\n",
    "    The possible results are 1, 2, 3, 4, 6, and 7.\n",
    "\n",
    "\n",
    "\n",
    "\n",
    "**Note:**\n",
    "\n",
    "  1. `1 <= A.length <= 50000`\n",
    "  2. `0 <= A[i] <= 10^9`"
   ],
   "metadata": {}
  },
  {
   "outputs": [
    {
     "output_type": "execute_result",
     "data": {
      "text/plain": "subarray_bitwise_ors (generic function with 1 method)"
     },
     "metadata": {},
     "execution_count": 1
    }
   ],
   "cell_type": "code",
   "source": [
    "# @lc code=start\n",
    "using LeetCode\n",
    "\n",
    "function subarray_bitwise_ors(A::Vector{Int})\n",
    "    res = Set{Int}()\n",
    "    cur = Set{Int}()\n",
    "    for num in A\n",
    "        cur2 = Set{Int}()\n",
    "        for n in cur\n",
    "            push!(cur2, n | num)\n",
    "        end\n",
    "        push!(cur2, num)\n",
    "        cur = cur2\n",
    "        union!(res, cur)\n",
    "    end\n",
    "    return length(res)\n",
    "end\n",
    "# @lc code=end"
   ],
   "metadata": {},
   "execution_count": 1
  },
  {
   "cell_type": "markdown",
   "source": [
    "---\n",
    "\n",
    "*This notebook was generated using [Literate.jl](https://github.com/fredrikekre/Literate.jl).*"
   ],
   "metadata": {}
  }
 ],
 "nbformat_minor": 3,
 "metadata": {
  "language_info": {
   "file_extension": ".jl",
   "mimetype": "application/julia",
   "name": "julia",
   "version": "1.6.0"
  },
  "kernelspec": {
   "name": "julia-1.6",
   "display_name": "Julia 1.6.0",
   "language": "julia"
  }
 },
 "nbformat": 4
}
