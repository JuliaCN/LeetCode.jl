{
 "cells": [
  {
   "cell_type": "markdown",
   "source": [
    "Given alphanumeric string `s`. ( **Alphanumeric string** is a string\n",
    "consisting of lowercase English letters and digits).\n",
    "\n",
    "You have to find a permutation of the string where no letter is followed by\n",
    "another letter and no digit is followed by another digit. That is, no two\n",
    "adjacent characters have the same type.\n",
    "\n",
    "Return _the reformatted string_ or return **an empty string** if it is\n",
    "impossible to reformat the string.\n",
    "\n",
    "\n",
    "\n",
    "**Example 1:**\n",
    "\n",
    "\n",
    "\n",
    "    Input: s = \"a0b1c2\"\n",
    "    Output: \"0a1b2c\"\n",
    "    Explanation: No two adjacent characters have the same type in \"0a1b2c\". \"a0b1c2\", \"0a1b2c\", \"0c2a1b\" are also valid permutations.\n",
    "\n",
    "\n",
    "**Example 2:**\n",
    "\n",
    "\n",
    "\n",
    "    Input: s = \"leetcode\"\n",
    "    Output: \"\"\n",
    "    Explanation: \"leetcode\" has only characters so we cannot separate them by digits.\n",
    "\n",
    "\n",
    "**Example 3:**\n",
    "\n",
    "\n",
    "\n",
    "    Input: s = \"1229857369\"\n",
    "    Output: \"\"\n",
    "    Explanation: \"1229857369\" has only digits so we cannot separate them by characters.\n",
    "\n",
    "\n",
    "**Example 4:**\n",
    "\n",
    "\n",
    "\n",
    "    Input: s = \"covid2019\"\n",
    "    Output: \"c2o0v1i9d\"\n",
    "\n",
    "\n",
    "**Example 5:**\n",
    "\n",
    "\n",
    "\n",
    "    Input: s = \"ab123\"\n",
    "    Output: \"1a2b3\"\n",
    "\n",
    "\n",
    "\n",
    "\n",
    "**Constraints:**\n",
    "\n",
    "  * `1 <= s.length <= 500`\n",
    "  * `s` consists of only lowercase English letters and/or digits."
   ],
   "metadata": {}
  },
  {
   "outputs": [
    {
     "output_type": "execute_result",
     "data": {
      "text/plain": "reformatstr (generic function with 1 method)"
     },
     "metadata": {},
     "execution_count": 1
    }
   ],
   "cell_type": "code",
   "source": [
    "# @lc code=start\n",
    "using LeetCode\n",
    "\n",
    "# double pointer\n",
    "function reformatstr(s::AbstractString)\n",
    "    n = length(s) + 1\n",
    "    res = Vector{Char}(undef, n)\n",
    "    odd, even = 1, 2\n",
    "    for c in s\n",
    "        if isdigit(c)\n",
    "            odd > n && return \"\"\n",
    "            res[odd] = c\n",
    "            odd += 2\n",
    "        else\n",
    "            even > n && return \"\"\n",
    "            res[even] = c\n",
    "            even += 2\n",
    "        end\n",
    "    end\n",
    "    abs(even - 1 - odd) > 2 && return \"\"\n",
    "    max(odd, even) < n + 2 && return join(@view(res[1:(end - 1)]))\n",
    "    return last(res) * join(@view(res[1:(end - 2)]))\n",
    "end\n",
    "\n",
    "# @lc code=end"
   ],
   "metadata": {},
   "execution_count": 1
  },
  {
   "cell_type": "markdown",
   "source": [
    "---\n",
    "\n",
    "*This notebook was generated using [Literate.jl](https://github.com/fredrikekre/Literate.jl).*"
   ],
   "metadata": {}
  }
 ],
 "nbformat_minor": 3,
 "metadata": {
  "language_info": {
   "file_extension": ".jl",
   "mimetype": "application/julia",
   "name": "julia",
   "version": "1.10.1"
  },
  "kernelspec": {
   "name": "julia-1.10",
   "display_name": "Julia 1.10.1",
   "language": "julia"
  }
 },
 "nbformat": 4
}
