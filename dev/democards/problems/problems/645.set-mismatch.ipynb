{
 "cells": [
  {
   "cell_type": "markdown",
   "source": [
    "The set `S` originally contains numbers from 1 to `n`. But unfortunately, due\n",
    "to the data error, one of the numbers in the set got duplicated to **another**\n",
    "number in the set, which results in repetition of one number and loss of\n",
    "another number.\n",
    "\n",
    "Given an array `nums` representing the data status of this set after the\n",
    "error. Your task is to firstly find the number occurs twice and then find the\n",
    "number that is missing. Return them in the form of an array.\n",
    "\n",
    "**Example 1:**\n",
    "\n",
    "\n",
    "\n",
    "    Input: nums = [1,2,2,4]\n",
    "    Output: [2,3]\n",
    "\n",
    "\n",
    "**Note:**\n",
    "\n",
    "  1. The given array size will in the range [2, 10000].\n",
    "  2. The given array's numbers won't have any order."
   ],
   "metadata": {}
  },
  {
   "outputs": [
    {
     "output_type": "execute_result",
     "data": {
      "text/plain": "find_error_nums (generic function with 1 method)"
     },
     "metadata": {},
     "execution_count": 1
    }
   ],
   "cell_type": "code",
   "source": [
    "# @lc code=start\n",
    "using LeetCode\n",
    "\n",
    "function find_error_nums(nums::Vector{Int})\n",
    "    cnt = fill(0x0, length(nums))\n",
    "    for num in nums\n",
    "        cnt[num] += 1\n",
    "    end\n",
    "    return findfirst(==(0x2), cnt), findfirst(==(0x0), cnt)\n",
    "end\n",
    "# @lc code=end"
   ],
   "metadata": {},
   "execution_count": 1
  },
  {
   "cell_type": "markdown",
   "source": [
    "---\n",
    "\n",
    "*This notebook was generated using [Literate.jl](https://github.com/fredrikekre/Literate.jl).*"
   ],
   "metadata": {}
  }
 ],
 "nbformat_minor": 3,
 "metadata": {
  "language_info": {
   "file_extension": ".jl",
   "mimetype": "application/julia",
   "name": "julia",
   "version": "1.10.1"
  },
  "kernelspec": {
   "name": "julia-1.10",
   "display_name": "Julia 1.10.1",
   "language": "julia"
  }
 },
 "nbformat": 4
}
