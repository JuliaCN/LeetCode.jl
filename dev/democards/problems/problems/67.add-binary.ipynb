{
 "cells": [
  {
   "cell_type": "markdown",
   "source": [
    "Given two binary strings `a` and `b`, return _their sum as a binary string_.\n",
    "\n",
    "\n",
    "\n",
    "**Example 1:**\n",
    "\n",
    "\n",
    "\n",
    "    Input: a = \"11\", b = \"1\"\n",
    "    Output: \"100\"\n",
    "\n",
    "\n",
    "**Example 2:**\n",
    "\n",
    "\n",
    "\n",
    "    Input: a = \"1010\", b = \"1011\"\n",
    "    Output: \"10101\"\n",
    "\n",
    "\n",
    "\n",
    "\n",
    "**Constraints:**\n",
    "\n",
    "  * `1 <= a.length, b.length <= 104`\n",
    "  * `a` and `b` consist only of `'0'` or `'1'` characters.\n",
    "  * Each string does not contain leading zeros except for the zero itself."
   ],
   "metadata": {}
  },
  {
   "outputs": [
    {
     "output_type": "execute_result",
     "data": {
      "text/plain": "add_binary (generic function with 1 method)"
     },
     "metadata": {},
     "execution_count": 1
    }
   ],
   "cell_type": "code",
   "source": [
    "# @lc code=start\n",
    "using LeetCode\n",
    "\n",
    "function add_binary(a::String, b::String)\n",
    "\n",
    "    num1 = parse(Int64, a; base=2)\n",
    "    num2 = parse(Int64, b; base=2)\n",
    "\n",
    "    sum = num1 + num2\n",
    "\n",
    "    return string(sum, base=2)\n",
    "\n",
    "end\n",
    "\n",
    "\n",
    "# add your code here:\n",
    "# @lc code=end"
   ],
   "metadata": {},
   "execution_count": 1
  },
  {
   "cell_type": "markdown",
   "source": [
    "---\n",
    "\n",
    "*This notebook was generated using [Literate.jl](https://github.com/fredrikekre/Literate.jl).*"
   ],
   "metadata": {}
  }
 ],
 "nbformat_minor": 3,
 "metadata": {
  "language_info": {
   "file_extension": ".jl",
   "mimetype": "application/julia",
   "name": "julia",
   "version": "1.11.6"
  },
  "kernelspec": {
   "name": "julia-1.11",
   "display_name": "Julia 1.11.6",
   "language": "julia"
  }
 },
 "nbformat": 4
}
