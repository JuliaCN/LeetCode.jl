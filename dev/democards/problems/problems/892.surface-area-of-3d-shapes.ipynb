{
 "cells": [
  {
   "cell_type": "markdown",
   "source": [
    "On a `N * N` grid, we place some `1 * 1 * 1 `cubes.\n",
    "\n",
    "Each value `v = grid[i][j]` represents a tower of `v` cubes placed on top of\n",
    "grid cell `(i, j)`.\n",
    "\n",
    "Return the total surface area of the resulting shapes.\n",
    "\n",
    "\n",
    "\n",
    "**Example 1:**\n",
    "\n",
    "\n",
    "\n",
    "    Input: [[2]]\n",
    "    Output: 10\n",
    "\n",
    "\n",
    "**Example 2:**\n",
    "\n",
    "\n",
    "\n",
    "    Input: [[1,2],[3,4]]\n",
    "    Output: 34\n",
    "\n",
    "\n",
    "**Example 3:**\n",
    "\n",
    "\n",
    "\n",
    "    Input: [[1,0],[0,2]]\n",
    "    Output: 16\n",
    "\n",
    "\n",
    "**Example 4:**\n",
    "\n",
    "\n",
    "\n",
    "    Input: [[1,1,1],[1,0,1],[1,1,1]]\n",
    "    Output: 32\n",
    "\n",
    "\n",
    "**Example 5:**\n",
    "\n",
    "\n",
    "\n",
    "    Input: [[2,2,2],[2,1,2],[2,2,2]]\n",
    "    Output: 46\n",
    "\n",
    "\n",
    "\n",
    "\n",
    "**Note:**\n",
    "\n",
    "  * `1 <= N <= 50`\n",
    "  * `0 <= grid[i][j] <= 50`"
   ],
   "metadata": {}
  },
  {
   "outputs": [
    {
     "output_type": "execute_result",
     "data": {
      "text/plain": "surface_area (generic function with 2 methods)"
     },
     "metadata": {},
     "execution_count": 1
    }
   ],
   "cell_type": "code",
   "source": [
    "# @lc code=start\n",
    "using LeetCode\n",
    "\n",
    "function surface_area(grid::Vector{Vector{Int}})\n",
    "    res = 2 * sum(sum(1 for i in row if i != 0) for row in grid)\n",
    "    res += sum(row[1] + row[end] + sum(abs, diff(row)) for row in grid)\n",
    "    return res += sum(grid[1][i] +\n",
    "                      grid[end][i] +\n",
    "                      ((length(grid) > 1) ?\n",
    "                       (sum(abs(grid[row][i] - grid[row - 1][i]) for row in 2:length(grid))) :\n",
    "                       0) for i in 1:length(grid[1]))\n",
    "end\n",
    "function surface_area(grid::Matrix{Int})\n",
    "    res = 2 * sum(sum(1 for i in row if i != 0) for row in grid)\n",
    "    res += sum(row[1] + row[end] + sum(abs, diff(row)) for row in eachrow(grid))\n",
    "    res += sum(col[1] + col[end] + sum(abs, diff(col)) for col in eachcol(grid))\n",
    "    res\n",
    "end\n",
    "# @lc code=end"
   ],
   "metadata": {},
   "execution_count": 1
  },
  {
   "cell_type": "markdown",
   "source": [
    "---\n",
    "\n",
    "*This notebook was generated using [Literate.jl](https://github.com/fredrikekre/Literate.jl).*"
   ],
   "metadata": {}
  }
 ],
 "nbformat_minor": 3,
 "metadata": {
  "language_info": {
   "file_extension": ".jl",
   "mimetype": "application/julia",
   "name": "julia",
   "version": "1.10.1"
  },
  "kernelspec": {
   "name": "julia-1.10",
   "display_name": "Julia 1.10.1",
   "language": "julia"
  }
 },
 "nbformat": 4
}
