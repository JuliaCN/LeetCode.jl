{
 "cells": [
  {
   "cell_type": "markdown",
   "source": [
    "Your task is to calculate `ab` mod `1337` where `a` is a positive integer and\n",
    "`b` is an extremely large positive integer given in the form of an array.\n",
    "\n",
    "\n",
    "\n",
    "**Example 1:**\n",
    "\n",
    "\n",
    "\n",
    "    Input: a = 2, b = [3]\n",
    "    Output: 8\n",
    "\n",
    "\n",
    "**Example 2:**\n",
    "\n",
    "\n",
    "\n",
    "    Input: a = 2, b = [1,0]\n",
    "    Output: 1024\n",
    "\n",
    "\n",
    "**Example 3:**\n",
    "\n",
    "\n",
    "\n",
    "    Input: a = 1, b = [4,3,3,8,5,2]\n",
    "    Output: 1\n",
    "\n",
    "\n",
    "**Example 4:**\n",
    "\n",
    "\n",
    "\n",
    "    Input: a = 2147483647, b = [2,0,0]\n",
    "    Output: 1198\n",
    "\n",
    "\n",
    "\n",
    "\n",
    "**Constraints:**\n",
    "\n",
    "  * `1 <= a <= 231 - 1`\n",
    "  * `1 <= b.length <= 2000`\n",
    "  * `0 <= b[i] <= 9`\n",
    "  * `b` doesn't contain leading zeros."
   ],
   "metadata": {}
  },
  {
   "outputs": [
    {
     "output_type": "execute_result",
     "data": {
      "text/plain": "super_pow (generic function with 1 method)"
     },
     "metadata": {},
     "execution_count": 1
    }
   ],
   "cell_type": "code",
   "source": [
    "# @lc code=start\n",
    "using LeetCode\n",
    "\n",
    "function super_pow(a::Int, b::Vector{Int})\n",
    "    md, ϕ = 1337, 1140\n",
    "    n = length(b)\n",
    "    n == 0 && return 1\n",
    "    e = 0\n",
    "    a %= md\n",
    "    for digit in b\n",
    "        e = (10 * e + digit) % ϕ\n",
    "    end\n",
    "    powermod(a, e, md)\n",
    "end\n",
    "# @lc code=end"
   ],
   "metadata": {},
   "execution_count": 1
  },
  {
   "cell_type": "markdown",
   "source": [
    "---\n",
    "\n",
    "*This notebook was generated using [Literate.jl](https://github.com/fredrikekre/Literate.jl).*"
   ],
   "metadata": {}
  }
 ],
 "nbformat_minor": 3,
 "metadata": {
  "language_info": {
   "file_extension": ".jl",
   "mimetype": "application/julia",
   "name": "julia",
   "version": "1.7.2"
  },
  "kernelspec": {
   "name": "julia-1.7",
   "display_name": "Julia 1.7.2",
   "language": "julia"
  }
 },
 "nbformat": 4
}
