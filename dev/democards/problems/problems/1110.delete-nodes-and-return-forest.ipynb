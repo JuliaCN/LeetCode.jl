{
 "cells": [
  {
   "cell_type": "markdown",
   "source": [
    "Given the `root` of a binary tree, each node in the tree has a distinct value.\n",
    "\n",
    "After deleting all nodes with a value in `to_delete`, we are left with a\n",
    "forest (a disjoint union of trees).\n",
    "\n",
    "Return the roots of the trees in the remaining forest.  You may return the\n",
    "result in any order.\n",
    "\n",
    "\n",
    "\n",
    "**Example 1:**\n",
    "\n",
    "**![](https://assets.leetcode.com/uploads/2019/07/01/screen-\n",
    "shot-2019-07-01-at-53836-pm.png)**\n",
    "\n",
    "\n",
    "\n",
    "    Input: root = [1,2,3,4,5,6,7], to_delete = [3,5]\n",
    "    Output: [[1,2,null,4],[6],[7]]\n",
    "\n",
    "\n",
    "\n",
    "\n",
    "**Constraints:**\n",
    "\n",
    "  * The number of nodes in the given tree is at most `1000`.\n",
    "  * Each node has a distinct value between `1` and `1000`.\n",
    "  * `to_delete.length <= 1000`\n",
    "  * `to_delete` contains distinct values between `1` and `1000`."
   ],
   "metadata": {}
  },
  {
   "outputs": [
    {
     "output_type": "execute_result",
     "data": {
      "text/plain": "del_nodes1110 (generic function with 1 method)"
     },
     "metadata": {},
     "execution_count": 1
    }
   ],
   "cell_type": "code",
   "source": [
    "# @lc code=start\n",
    "using LeetCode\n",
    "\n",
    "function del_nodes1110(node::TreeNode{Int}, to_delete::Vector{Int})\n",
    "    to_deletes = Set(to_delete)\n",
    "    res = TreeNode{Int}[]\n",
    "    queue = [(node, true)]\n",
    "\n",
    "    while !isempty(queue)\n",
    "        root, flg = popfirst!(queue)\n",
    "        if root.val ∈ to_deletes\n",
    "            !isnothing(root.left) && push!(queue, (root.left, true))\n",
    "            !isnothing(root.right) && push!(queue, (root.right, true))\n",
    "            continue\n",
    "        end\n",
    "        for child in (:left, :right)\n",
    "            isnothing(getproperty(root, child)) && continue\n",
    "            if getproperty(root, child).val ∈ to_deletes\n",
    "                !isnothing(getproperty(root, child).left) &&\n",
    "                    push!(queue, (getproperty(root, child).left, true))\n",
    "                !isnothing(getproperty(root, child).right) &&\n",
    "                    push!(queue, (getproperty(root, child).right, true))\n",
    "                setproperty!(root, child, nothing)\n",
    "            else\n",
    "                push!(queue, (getproperty(root, child), false))\n",
    "            end\n",
    "        end\n",
    "        flg && push!(res, root)\n",
    "    end\n",
    "    return res\n",
    "end\n",
    "# @lc code=end"
   ],
   "metadata": {},
   "execution_count": 1
  },
  {
   "cell_type": "markdown",
   "source": [
    "---\n",
    "\n",
    "*This notebook was generated using [Literate.jl](https://github.com/fredrikekre/Literate.jl).*"
   ],
   "metadata": {}
  }
 ],
 "nbformat_minor": 3,
 "metadata": {
  "language_info": {
   "file_extension": ".jl",
   "mimetype": "application/julia",
   "name": "julia",
   "version": "1.8.0"
  },
  "kernelspec": {
   "name": "julia-1.8",
   "display_name": "Julia 1.8.0",
   "language": "julia"
  }
 },
 "nbformat": 4
}
