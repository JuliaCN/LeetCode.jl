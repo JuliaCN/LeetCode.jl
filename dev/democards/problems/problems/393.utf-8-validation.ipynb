{
 "cells": [
  {
   "cell_type": "markdown",
   "source": [
    "A character in UTF8 can be from **1 to 4 bytes** long, subjected to the\n",
    "following rules:\n",
    "\n",
    "  1. For 1-byte character, the first bit is a 0, followed by its unicode code.\n",
    "  2. For n-bytes character, the first n-bits are all one's, the n+1 bit is 0, followed by n-1 bytes with most significant 2 bits being 10.\n",
    "\n",
    "This is how the UTF-8 encoding would work:\n",
    "\n",
    "\n",
    "\n",
    "       Char. number range  |        UTF-8 octet sequence\n",
    "          (hexadecimal)    |              (binary)\n",
    "       --------------------+---------------------------------------------\n",
    "       0000 0000-0000 007F | 0xxxxxxx\n",
    "       0000 0080-0000 07FF | 110xxxxx 10xxxxxx\n",
    "       0000 0800-0000 FFFF | 1110xxxx 10xxxxxx 10xxxxxx\n",
    "       0001 0000-0010 FFFF | 11110xxx 10xxxxxx 10xxxxxx 10xxxxxx\n",
    "\n",
    "\n",
    "Given an array of integers representing the data, return whether it is a valid\n",
    "utf-8 encoding.\n",
    "\n",
    "**Note:**\n",
    "The input is an array of integers. Only the **least significant 8 bits** of\n",
    "each integer is used to store the data. This means each integer represents\n",
    "only 1 byte of data.\n",
    "\n",
    "**Example 1:**\n",
    "\n",
    "\n",
    "\n",
    "    data = [197, 130, 1], which represents the octet sequence: **11000101 10000010 00000001**.\n",
    "\n",
    "    Return **true**.\n",
    "    It is a valid utf-8 encoding for a 2-bytes character followed by a 1-byte character.\n",
    "\n",
    "\n",
    "**Example 2:**\n",
    "\n",
    "\n",
    "\n",
    "    data = [235, 140, 4], which represented the octet sequence: **11101011 10001100 00000100**.\n",
    "\n",
    "    Return **false**.\n",
    "    The first 3 bits are all one's and the 4th bit is 0 means it is a 3-bytes character.\n",
    "    The next byte is a continuation byte which starts with 10 and that's correct.\n",
    "    But the second continuation byte does not start with 10, so it is invalid."
   ],
   "metadata": {}
  },
  {
   "outputs": [
    {
     "output_type": "execute_result",
     "data": {
      "text/plain": "valid_utf8 (generic function with 1 method)"
     },
     "metadata": {},
     "execution_count": 1
    }
   ],
   "cell_type": "code",
   "source": [
    "# @lc code=start\n",
    "using LeetCode\n",
    "\n",
    "# Automation\n",
    "function valid_utf8(data::Vector{Int})::Bool\n",
    "    # 1 represents 0xxx.., 2 represents 10xx.., 3,4,5 similarly, 6 represents error\n",
    "    switch(num::Int) = num >= 248 ? 6 : findfirst('0', bitstring(Int16(num))[(end - 7):end])\n",
    "    # 1 represents start, 2 represents 2-byte(need one more byte), 3, 4 similarly, 5 represents fail\n",
    "    state = 1\n",
    "    state_shift = Dict{Int,Vector{Int}}(1 => [1, 5, 2, 3, 4, 5])\n",
    "    for i in 2:4\n",
    "        state_shift[i] = [5, i - 1, 5, 5, 5, 5]\n",
    "    end\n",
    "    for num in data\n",
    "        state = state_shift[state][switch(num)] ## new state\n",
    "        state == 5 && return false\n",
    "    end\n",
    "    return state == 1\n",
    "end\n",
    "# @lc code=end"
   ],
   "metadata": {},
   "execution_count": 1
  },
  {
   "cell_type": "markdown",
   "source": [
    "---\n",
    "\n",
    "*This notebook was generated using [Literate.jl](https://github.com/fredrikekre/Literate.jl).*"
   ],
   "metadata": {}
  }
 ],
 "nbformat_minor": 3,
 "metadata": {
  "language_info": {
   "file_extension": ".jl",
   "mimetype": "application/julia",
   "name": "julia",
   "version": "1.7.3"
  },
  "kernelspec": {
   "name": "julia-1.7",
   "display_name": "Julia 1.7.3",
   "language": "julia"
  }
 },
 "nbformat": 4
}
