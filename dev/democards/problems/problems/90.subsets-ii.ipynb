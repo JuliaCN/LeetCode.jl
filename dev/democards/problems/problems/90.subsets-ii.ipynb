{
 "cells": [
  {
   "cell_type": "markdown",
   "source": [
    "Given a collection of integers that might contain duplicates, **_nums_** ,\n",
    "return all possible subsets (the power set).\n",
    "\n",
    "**Note:** The solution set must not contain duplicate subsets.\n",
    "\n",
    "**Example:**\n",
    "\n",
    "\n",
    "\n",
    "    Input: [1,2,2]\n",
    "    Output:\n",
    "    [\n",
    "      [2],\n",
    "      [1],\n",
    "      [1,2,2],\n",
    "      [2,2],\n",
    "      [1,2],\n",
    "      []\n",
    "    ]"
   ],
   "metadata": {}
  },
  {
   "outputs": [
    {
     "output_type": "execute_result",
     "data": {
      "text/plain": "subsets_with_dup (generic function with 1 method)"
     },
     "metadata": {},
     "execution_count": 1
    }
   ],
   "cell_type": "code",
   "source": [
    "# @lc code=start\n",
    "using LeetCode\n",
    "\n",
    "function subsets_with_dup(nums::Vector{Int})::Vector{Vector{Int}}\n",
    "    sort!(nums)\n",
    "    res = Vector{Int}[Int[]]\n",
    "\n",
    "    n = 0\n",
    "    for (i, x) in enumerate(nums)\n",
    "        if i == 1\n",
    "            n = 1\n",
    "        elseif nums[i] != nums[i - 1]\n",
    "            n = length(res)\n",
    "            # n is used to record how many sets to skip in case nums[i+1] == nums[i]\n",
    "        end\n",
    "\n",
    "        if n == length(res)\n",
    "            for j in 1:n\n",
    "                push!(res, [res[j]..., nums[i]])\n",
    "            end\n",
    "        else\n",
    "            for j in (length(res) - n + 1):length(res)\n",
    "                push!(res, [res[j]..., nums[i]])\n",
    "            end\n",
    "        end\n",
    "    end\n",
    "    return res\n",
    "end\n",
    "# @lc code=end"
   ],
   "metadata": {},
   "execution_count": 1
  },
  {
   "cell_type": "markdown",
   "source": [
    "---\n",
    "\n",
    "*This notebook was generated using [Literate.jl](https://github.com/fredrikekre/Literate.jl).*"
   ],
   "metadata": {}
  }
 ],
 "nbformat_minor": 3,
 "metadata": {
  "language_info": {
   "file_extension": ".jl",
   "mimetype": "application/julia",
   "name": "julia",
   "version": "1.6.0"
  },
  "kernelspec": {
   "name": "julia-1.6",
   "display_name": "Julia 1.6.0",
   "language": "julia"
  }
 },
 "nbformat": 4
}
