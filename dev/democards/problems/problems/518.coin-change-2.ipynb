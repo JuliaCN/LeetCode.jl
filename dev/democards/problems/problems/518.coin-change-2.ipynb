{
 "cells": [
  {
   "cell_type": "markdown",
   "source": [
    "You are given coins of different denominations and a total amount of money.\n",
    "Write a function to compute the number of combinations that make up that\n",
    "amount. You may assume that you have infinite number of each kind of coin.\n",
    "\n",
    "\n",
    "\n",
    "**Example 1:**\n",
    "\n",
    "\n",
    "\n",
    "    Input: amount = 5, coins = [1, 2, 5]\n",
    "    Output: 4\n",
    "    Explanation: there are four ways to make up the amount:\n",
    "    5=5\n",
    "    5=2+2+1\n",
    "    5=2+1+1+1\n",
    "    5=1+1+1+1+1\n",
    "\n",
    "\n",
    "**Example 2:**\n",
    "\n",
    "\n",
    "\n",
    "    Input: amount = 3, coins = [2]\n",
    "    Output: 0\n",
    "    Explanation: the amount of 3 cannot be made up just with coins of 2.\n",
    "\n",
    "\n",
    "**Example 3:**\n",
    "\n",
    "\n",
    "\n",
    "    Input: amount = 10, coins = [10]\n",
    "    Output: 1\n",
    "\n",
    "\n",
    "\n",
    "\n",
    "**Note:**\n",
    "\n",
    "You can assume that\n",
    "\n",
    "  * 0 <= amount <= 5000\n",
    "  * 1 <= coin <= 5000\n",
    "  * the number of coins is less than 500\n",
    "  * the answer is guaranteed to fit into signed 32-bit integer"
   ],
   "metadata": {}
  },
  {
   "outputs": [
    {
     "output_type": "execute_result",
     "data": {
      "text/plain": "change (generic function with 1 method)"
     },
     "metadata": {},
     "execution_count": 1
    }
   ],
   "cell_type": "code",
   "source": [
    "# @lc code=start\n",
    "using LeetCode\n",
    "\n",
    "function change(amount::Int, coins::Vector{Int})::Int\n",
    "    dp = fill(0, amount)\n",
    "\n",
    "    for coin in coins, x in coin:amount\n",
    "        dp[x] += (x == coin) ? 1 : dp[x - coin]\n",
    "    end\n",
    "\n",
    "    return dp[amount]\n",
    "end\n",
    "\n",
    "# @lc code=end"
   ],
   "metadata": {},
   "execution_count": 1
  },
  {
   "cell_type": "markdown",
   "source": [
    "---\n",
    "\n",
    "*This notebook was generated using [Literate.jl](https://github.com/fredrikekre/Literate.jl).*"
   ],
   "metadata": {}
  }
 ],
 "nbformat_minor": 3,
 "metadata": {
  "language_info": {
   "file_extension": ".jl",
   "mimetype": "application/julia",
   "name": "julia",
   "version": "1.5.3"
  },
  "kernelspec": {
   "name": "julia-1.5",
   "display_name": "Julia 1.5.3",
   "language": "julia"
  }
 },
 "nbformat": 4
}
