{
 "cells": [
  {
   "cell_type": "markdown",
   "source": [
    "_This question is the same as \"Max Chunks to Make Sorted\" except the integers\n",
    "of the given array are not necessarily distinct, the input array could be up\n",
    "to length `2000`, and the elements could be up to `10**8`._\n",
    "\n",
    "* * *\n",
    "\n",
    "Given an array `arr` of integers ( **not necessarily distinct** ), we split\n",
    "the array into some number of \"chunks\" (partitions), and individually sort\n",
    "each chunk.  After concatenating them, the result equals the sorted array.\n",
    "\n",
    "What is the most number of chunks we could have made?\n",
    "\n",
    "**Example 1:**\n",
    "\n",
    "\n",
    "\n",
    "    Input: arr = [5,4,3,2,1]\n",
    "    Output: 1\n",
    "    Explanation:\n",
    "    Splitting into two or more chunks will not return the required result.\n",
    "    For example, splitting into [5, 4], [3, 2, 1] will result in [4, 5, 1, 2, 3], which isn't sorted.\n",
    "\n",
    "\n",
    "**Example 2:**\n",
    "\n",
    "\n",
    "\n",
    "    Input: arr = [2,1,3,4,4]\n",
    "    Output: 4\n",
    "    Explanation:\n",
    "    We can split into two chunks, such as [2, 1], [3, 4, 4].\n",
    "    However, splitting into [2, 1], [3], [4], [4] is the highest number of chunks possible.\n",
    "\n",
    "\n",
    "**Note:**\n",
    "\n",
    "  * `arr` will have length in range `[1, 2000]`.\n",
    "  * `arr[i]` will be an integer in range `[0, 10**8]`."
   ],
   "metadata": {}
  },
  {
   "outputs": [
    {
     "output_type": "execute_result",
     "data": {
      "text/plain": "max_chunks_to_sorted (generic function with 1 method)"
     },
     "metadata": {},
     "execution_count": 1
    }
   ],
   "cell_type": "code",
   "source": [
    "# @lc code=start\n",
    "using LeetCode\n",
    "\n",
    "function max_chunks_to_sorted(arr::Vector{Int})::Int\n",
    "    ##count = DefaultDict(1)\n",
    "    ##non_zeros, res = 0, 0\n",
    "    res = s1 = s2 = 0\n",
    "    for (a, b) in zip(arr, sort(arr))\n",
    "        s1 += a\n",
    "        s2 += b\n",
    "        (s1 == s2) && (res += 1)\n",
    "        # count[a] += 1\n",
    "        # if count[a] == 0\n",
    "        #     non_zeros -= 1\n",
    "        # elseif count[a] == 1\n",
    "        #     non_zeros += 1\n",
    "        # end\n",
    "        # count[b] -= 1\n",
    "        # if count[b] == 0\n",
    "        #     non_zeros -= 1\n",
    "        # elseif count[b] == -1\n",
    "        #     non_zeros += 1\n",
    "        # end\n",
    "        # (non_zeros == 0) && (res += 1)\n",
    "    end\n",
    "\n",
    "    return res\n",
    "end\n",
    "\n",
    "# @lc code=end"
   ],
   "metadata": {},
   "execution_count": 1
  },
  {
   "cell_type": "markdown",
   "source": [
    "---\n",
    "\n",
    "*This notebook was generated using [Literate.jl](https://github.com/fredrikekre/Literate.jl).*"
   ],
   "metadata": {}
  }
 ],
 "nbformat_minor": 3,
 "metadata": {
  "language_info": {
   "file_extension": ".jl",
   "mimetype": "application/julia",
   "name": "julia",
   "version": "1.6.2"
  },
  "kernelspec": {
   "name": "julia-1.6",
   "display_name": "Julia 1.6.2",
   "language": "julia"
  }
 },
 "nbformat": 4
}
