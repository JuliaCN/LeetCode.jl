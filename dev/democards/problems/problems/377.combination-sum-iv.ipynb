{
 "cells": [
  {
   "cell_type": "markdown",
   "source": [
    "Given an integer array with all positive numbers and no duplicates, find the\n",
    "number of possible combinations that add up to a positive integer target.\n",
    "\n",
    "**Example:**\n",
    "\n",
    "\n",
    "\n",
    "    _**nums**_ = [1, 2, 3]\n",
    "    _**target**_ = 4\n",
    "\n",
    "    The possible combination ways are:\n",
    "    (1, 1, 1, 1)\n",
    "    (1, 1, 2)\n",
    "    (1, 2, 1)\n",
    "    (1, 3)\n",
    "    (2, 1, 1)\n",
    "    (2, 2)\n",
    "    (3, 1)\n",
    "\n",
    "    Note that different sequences are counted as different combinations.\n",
    "\n",
    "    Therefore the output is _**7**_.\n",
    "\n",
    "\n",
    "\n",
    "\n",
    "**Follow up:**\n",
    "What if negative numbers are allowed in the given array?\n",
    "How does it change the problem?\n",
    "What limitation we need to add to the question to allow negative numbers?\n",
    "\n",
    "**Credits:**\n",
    "Special thanks to [@pbrother](https://leetcode.com/pbrother/) for adding this\n",
    "problem and creating all test cases."
   ],
   "metadata": {}
  },
  {
   "outputs": [
    {
     "output_type": "execute_result",
     "data": {
      "text/plain": "combination_sum4 (generic function with 1 method)"
     },
     "metadata": {},
     "execution_count": 1
    }
   ],
   "cell_type": "code",
   "source": [
    "# @lc code=start\n",
    "using LeetCode\n",
    "\n",
    "function combination_sum4(nums::Vector{Int}, target::Int)\n",
    "    dp = OffsetArray(fill(0, target + 1), -1)\n",
    "    dp[0] = 1\n",
    "    for i in 1:target, num in nums\n",
    "        (num <= i) && (dp[i] += dp[i - num])\n",
    "    end\n",
    "    return dp[end]\n",
    "end\n",
    "# @lc code=end"
   ],
   "metadata": {},
   "execution_count": 1
  },
  {
   "cell_type": "markdown",
   "source": [
    "---\n",
    "\n",
    "*This notebook was generated using [Literate.jl](https://github.com/fredrikekre/Literate.jl).*"
   ],
   "metadata": {}
  }
 ],
 "nbformat_minor": 3,
 "metadata": {
  "language_info": {
   "file_extension": ".jl",
   "mimetype": "application/julia",
   "name": "julia",
   "version": "1.9.1"
  },
  "kernelspec": {
   "name": "julia-1.9",
   "display_name": "Julia 1.9.1",
   "language": "julia"
  }
 },
 "nbformat": 4
}
