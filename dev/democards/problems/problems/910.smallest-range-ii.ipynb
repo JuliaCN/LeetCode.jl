{
 "cells": [
  {
   "cell_type": "markdown",
   "source": [
    "Given an array `A` of integers, for each integer `A[i]` we need to choose\n",
    "**either  `x = -K` or `x = K`**, and add `x` to `A[i] **(only once)**`.\n",
    "\n",
    "After this process, we have some array `B`.\n",
    "\n",
    "Return the smallest possible difference between the maximum value of `B` and\n",
    "the minimum value of `B`.\n",
    "\n",
    "\n",
    "\n",
    "**Example 1:**\n",
    "\n",
    "\n",
    "\n",
    "    Input: A = [1], K = 0\n",
    "    Output: 0\n",
    "    **Explanation** : B = [1]\n",
    "\n",
    "\n",
    "**Example 2:**\n",
    "\n",
    "\n",
    "\n",
    "    Input: A = [0,10], K = 2\n",
    "    Output: 6\n",
    "    **Explanation** : B = [2,8]\n",
    "\n",
    "\n",
    "**Example 3:**\n",
    "\n",
    "\n",
    "\n",
    "    Input: A = [1,3,6], K = 3\n",
    "    Output: 3\n",
    "    **Explanation** : B = [4,6,3]\n",
    "\n",
    "\n",
    "\n",
    "\n",
    "**Note:**\n",
    "\n",
    "  1. `1 <= A.length <= 10000`\n",
    "  2. `0 <= A[i] <= 10000`\n",
    "  3. `0 <= K <= 10000`"
   ],
   "metadata": {}
  },
  {
   "outputs": [
    {
     "output_type": "execute_result",
     "data": {
      "text/plain": "smallest_rangeII (generic function with 1 method)"
     },
     "metadata": {},
     "execution_count": 1
    }
   ],
   "cell_type": "code",
   "source": [
    "# @lc code=start\n",
    "using LeetCode\n",
    "\n",
    "function smallest_rangeII(nums::Vector{Int}, k::Integer)\n",
    "    sort!(nums)\n",
    "    res = nums[end] - nums[1]\n",
    "    for i in 2:length(nums)\n",
    "        res = min(res, max(nums[end] - k, nums[i - 1] + k) - min(nums[1] + k, nums[i] - k))\n",
    "    end\n",
    "    return res\n",
    "end\n",
    "# @lc code=end"
   ],
   "metadata": {},
   "execution_count": 1
  },
  {
   "cell_type": "markdown",
   "source": [
    "---\n",
    "\n",
    "*This notebook was generated using [Literate.jl](https://github.com/fredrikekre/Literate.jl).*"
   ],
   "metadata": {}
  }
 ],
 "nbformat_minor": 3,
 "metadata": {
  "language_info": {
   "file_extension": ".jl",
   "mimetype": "application/julia",
   "name": "julia",
   "version": "1.10.4"
  },
  "kernelspec": {
   "name": "julia-1.10",
   "display_name": "Julia 1.10.4",
   "language": "julia"
  }
 },
 "nbformat": 4
}
