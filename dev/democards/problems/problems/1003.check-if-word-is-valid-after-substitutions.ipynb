{
 "cells": [
  {
   "cell_type": "markdown",
   "source": [
    "Given a string `s`, determine if it is **valid**.\n",
    "\n",
    "A string `s` is **valid** if, starting with an empty string `t = \"\"`, you can\n",
    "**transform**`t` **into**`s` after performing the following operation **any\n",
    "number of times** :\n",
    "\n",
    "  * Insert string `\"abc\"` into any position in `t`. More formally, `t` becomes `tleft + \"abc\" + tright`, where `t == tleft + tright`. Note that `tleft` and `tright` may be **empty**.\n",
    "\n",
    "Return `true` _if_`s` _is a **valid** string, otherwise, return_ `false`.\n",
    "\n",
    "\n",
    "\n",
    "**Example 1:**\n",
    "\n",
    "\n",
    "\n",
    "    Input: s = \"aabcbc\"\n",
    "    Output: true\n",
    "    Explanation:\n",
    "    \"\" -> \" _abc_ \" -> \"a _abc_ bc\"\n",
    "    Thus, \"aabcbc\" is valid.\n",
    "\n",
    "**Example 2:**\n",
    "\n",
    "\n",
    "\n",
    "    Input: s = \"abcabcababcc\"\n",
    "    Output: true\n",
    "    Explanation:\n",
    "    \"\" -> \" _abc_ \" -> \"abc _abc_ \" -> \"abcabc _abc_ \" -> \"abcabcab _abc_ c\"\n",
    "    Thus, \"abcabcababcc\" is valid.\n",
    "\n",
    "\n",
    "**Example 3:**\n",
    "\n",
    "\n",
    "\n",
    "    Input: s = \"abccba\"\n",
    "    Output: false\n",
    "    Explanation: It is impossible to get \"abccba\" using the operation.\n",
    "\n",
    "\n",
    "**Example 4:**\n",
    "\n",
    "\n",
    "\n",
    "    Input: s = \"cababc\"\n",
    "    Output: false\n",
    "    Explanation: It is impossible to get \"cababc\" using the operation.\n",
    "\n",
    "\n",
    "\n",
    "\n",
    "**Constraints:**\n",
    "\n",
    "  * `1 <= s.length <= 2 * 104`\n",
    "  * `s` consists of letters `'a'`, `'b'`, and `'c'`"
   ],
   "metadata": {}
  },
  {
   "outputs": [
    {
     "output_type": "execute_result",
     "data": {
      "text/plain": "is_valid_abc_str (generic function with 1 method)"
     },
     "metadata": {},
     "execution_count": 1
    }
   ],
   "cell_type": "code",
   "source": [
    "# @lc code=start\n",
    "using LeetCode\n",
    "\n",
    "function is_valid_abc_str(s::String)\n",
    "    while occursin(\"abc\", s)\n",
    "        s = replace(s, \"abc\" => \"\")\n",
    "    end\n",
    "    return s == \"\"\n",
    "end\n",
    "# @lc code=end"
   ],
   "metadata": {},
   "execution_count": 1
  },
  {
   "cell_type": "markdown",
   "source": [
    "---\n",
    "\n",
    "*This notebook was generated using [Literate.jl](https://github.com/fredrikekre/Literate.jl).*"
   ],
   "metadata": {}
  }
 ],
 "nbformat_minor": 3,
 "metadata": {
  "language_info": {
   "file_extension": ".jl",
   "mimetype": "application/julia",
   "name": "julia",
   "version": "1.7.0"
  },
  "kernelspec": {
   "name": "julia-1.7",
   "display_name": "Julia 1.7.0",
   "language": "julia"
  }
 },
 "nbformat": 4
}
