{
 "cells": [
  {
   "cell_type": "markdown",
   "source": [
    "Consider the string `s` to be the infinite wraparound string of\n",
    "\"abcdefghijklmnopqrstuvwxyz\", so `s` will look like this:\n",
    "\"...zabcdefghijklmnopqrstuvwxyzabcdefghijklmnopqrstuvwxyzabcd....\".\n",
    "\n",
    "Now we have another string `p`. Your job is to find out how many unique non-\n",
    "empty substrings of `p` are present in `s`. In particular, your input is the\n",
    "string `p` and you need to output the number of different non-empty substrings\n",
    "of `p` in the string `s`.\n",
    "\n",
    "**Note:** `p` consists of only lowercase English letters and the size of p\n",
    "might be over 10000.\n",
    "\n",
    "**Example 1:**\n",
    "\n",
    "\n",
    "\n",
    "    Input: \"a\"\n",
    "    Output: 1\n",
    "\n",
    "    Explanation: Only the substring \"a\" of string \"a\" is in the string \u0010s.\n",
    "\n",
    "\n",
    "**Example 2:**\n",
    "\n",
    "\n",
    "\n",
    "    Input: \"cac\"\n",
    "    Output: 2\n",
    "    Explanation: There are two substrings \"a\", \"c\" of string \"cac\" in the string s.\n",
    "\n",
    "\n",
    "**Example 3:**\n",
    "\n",
    "\n",
    "\n",
    "    Input: \"zab\"\n",
    "    Output: 6\n",
    "    Explanation: There are six substrings \"z\", \"a\", \"b\", \"za\", \"ab\", \"zab\" of string \"zab\" in the string s."
   ],
   "metadata": {}
  },
  {
   "outputs": [
    {
     "output_type": "execute_result",
     "data": {
      "text/plain": "find_substring_in_wrapround_string (generic function with 1 method)"
     },
     "metadata": {},
     "execution_count": 1
    }
   ],
   "cell_type": "code",
   "source": [
    "# @lc code=start\n",
    "using LeetCode\n",
    "\n",
    "function find_substring_in_wrapround_string(p::String)\n",
    "    dp = fill(0, 26)\n",
    "    k = 0\n",
    "    iscont(prev, cur) = cur == (prev == 'z' ? 'a' : prev + 1)\n",
    "    for i in 1:length(p)\n",
    "        k = (i > 1 && iscont(p[i - 1], p[i])) ? k + 1 : 1\n",
    "        dp[p[i] - 'a' + 1] = dp[p[i] - 'a' + 1] > k ? dp[p[i] - 'a' + 1] : k\n",
    "    end\n",
    "    return sum(dp)\n",
    "end\n",
    "# @lc code=end"
   ],
   "metadata": {},
   "execution_count": 1
  },
  {
   "cell_type": "markdown",
   "source": [
    "---\n",
    "\n",
    "*This notebook was generated using [Literate.jl](https://github.com/fredrikekre/Literate.jl).*"
   ],
   "metadata": {}
  }
 ],
 "nbformat_minor": 3,
 "metadata": {
  "language_info": {
   "file_extension": ".jl",
   "mimetype": "application/julia",
   "name": "julia",
   "version": "1.6.1"
  },
  "kernelspec": {
   "name": "julia-1.6",
   "display_name": "Julia 1.6.1",
   "language": "julia"
  }
 },
 "nbformat": 4
}
