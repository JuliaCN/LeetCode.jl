{
 "cells": [
  {
   "cell_type": "markdown",
   "source": [
    "Given an array `nums` with `n` objects colored red, white, or blue, sort them\n",
    "**[in-place](https://en.wikipedia.org/wiki/In-place_algorithm) **so that\n",
    "objects of the same color are adjacent, with the colors in the order red,\n",
    "white, and blue.\n",
    "\n",
    "Here, we will use the integers `0`, `1`, and `2` to represent the color red,\n",
    "white, and blue respectively.\n",
    "\n",
    "**Follow up:**\n",
    "\n",
    "  * Could you solve this problem without using the library's sort function?\n",
    "  * Could you come up with a one-pass algorithm using only `O(1)` constant space?\n",
    "\n",
    "\n",
    "\n",
    "**Example 1:**\n",
    "\n",
    "\n",
    "\n",
    "    Input: nums = [2,0,2,1,1,0]\n",
    "    Output: [0,0,1,1,2,2]\n",
    "\n",
    "\n",
    "**Example 2:**\n",
    "\n",
    "\n",
    "\n",
    "    Input: nums = [2,0,1]\n",
    "    Output: [0,1,2]\n",
    "\n",
    "\n",
    "**Example 3:**\n",
    "\n",
    "\n",
    "\n",
    "    Input: nums = [0]\n",
    "    Output: [0]\n",
    "\n",
    "\n",
    "**Example 4:**\n",
    "\n",
    "\n",
    "\n",
    "    Input: nums = [1]\n",
    "    Output: [1]\n",
    "\n",
    "\n",
    "\n",
    "\n",
    "**Constraints:**\n",
    "\n",
    "  * `n == nums.length`\n",
    "  * `1 <= n <= 300`\n",
    "  * `nums[i]` is `0`, `1`, or `2`."
   ],
   "metadata": {}
  },
  {
   "outputs": [
    {
     "output_type": "execute_result",
     "data": {
      "text/plain": "sort_colors! (generic function with 1 method)"
     },
     "metadata": {},
     "execution_count": 1
    }
   ],
   "cell_type": "code",
   "source": [
    "# @lc code=start\n",
    "using LeetCode\n",
    "\n",
    "function sort_colors!(nums::Vector{Int})\n",
    "    left = 1\n",
    "    for i in eachindex(nums)\n",
    "        if nums[i] == 0\n",
    "            nums[i], nums[left] = nums[left], nums[i]\n",
    "            left += 1\n",
    "        end\n",
    "    end\n",
    "    for i in (left + 1):length(nums)\n",
    "        if nums[i] == 1\n",
    "            nums[i], nums[left] = nums[left], nums[i]\n",
    "            left += 1\n",
    "        end\n",
    "    end\n",
    "end\n",
    "\n",
    "# @lc code=end"
   ],
   "metadata": {},
   "execution_count": 1
  },
  {
   "cell_type": "markdown",
   "source": [
    "---\n",
    "\n",
    "*This notebook was generated using [Literate.jl](https://github.com/fredrikekre/Literate.jl).*"
   ],
   "metadata": {}
  }
 ],
 "nbformat_minor": 3,
 "metadata": {
  "language_info": {
   "file_extension": ".jl",
   "mimetype": "application/julia",
   "name": "julia",
   "version": "1.10.1"
  },
  "kernelspec": {
   "name": "julia-1.10",
   "display_name": "Julia 1.10.1",
   "language": "julia"
  }
 },
 "nbformat": 4
}
