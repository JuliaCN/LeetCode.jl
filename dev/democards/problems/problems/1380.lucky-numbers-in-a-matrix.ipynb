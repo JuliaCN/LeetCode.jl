{
 "cells": [
  {
   "cell_type": "markdown",
   "source": [
    "Given a `m * n` matrix of **distinct** numbers, return all lucky numbers in\n",
    "the matrix in **any** order.\n",
    "\n",
    "A lucky number is an element of the matrix such that it is the minimum element\n",
    "in its row and maximum in its column.\n",
    "\n",
    "\n",
    "\n",
    "**Example 1:**\n",
    "\n",
    "\n",
    "\n",
    "    Input: matrix = [[3,7,8],[9,11,13],[15,16,17]]\n",
    "    Output: [15]\n",
    "    Explanation: 15 is the only lucky number since it is the minimum in its row and the maximum in its column\n",
    "\n",
    "\n",
    "**Example 2:**\n",
    "\n",
    "\n",
    "\n",
    "    Input: matrix = [[1,10,4,2],[9,3,8,7],[15,16,17,12]]\n",
    "    Output: [12]\n",
    "    Explanation: 12 is the only lucky number since it is the minimum in its row and the maximum in its column.\n",
    "\n",
    "\n",
    "**Example 3:**\n",
    "\n",
    "\n",
    "\n",
    "    Input: matrix = [[7,8],[1,2]]\n",
    "    Output: [7]\n",
    "\n",
    "\n",
    "\n",
    "\n",
    "**Constraints:**\n",
    "\n",
    "  * `m == mat.length`\n",
    "  * `n == mat[i].length`\n",
    "  * `1 <= n, m <= 50`\n",
    "  * `1 <= matrix[i][j] <= 10^5`.\n",
    "  * All elements in the matrix are distinct."
   ],
   "metadata": {}
  },
  {
   "outputs": [
    {
     "output_type": "execute_result",
     "data": {
      "text/plain": "lucky_numbers (generic function with 1 method)"
     },
     "metadata": {},
     "execution_count": 1
    }
   ],
   "cell_type": "code",
   "source": [
    "# @lc code=start\n",
    "using LeetCode\n",
    "\n",
    "function lucky_numbers(mat::Matrix{Int})::Vector{Int}\n",
    "    amax = argmin(mat; dims=1)\n",
    "    amin = argmax(mat; dims=2)\n",
    "    return mat[intersect(amax, amin)]\n",
    "end\n",
    "# @lc code=end"
   ],
   "metadata": {},
   "execution_count": 1
  },
  {
   "cell_type": "markdown",
   "source": [
    "---\n",
    "\n",
    "*This notebook was generated using [Literate.jl](https://github.com/fredrikekre/Literate.jl).*"
   ],
   "metadata": {}
  }
 ],
 "nbformat_minor": 3,
 "metadata": {
  "language_info": {
   "file_extension": ".jl",
   "mimetype": "application/julia",
   "name": "julia",
   "version": "1.7.2"
  },
  "kernelspec": {
   "name": "julia-1.7",
   "display_name": "Julia 1.7.2",
   "language": "julia"
  }
 },
 "nbformat": 4
}
