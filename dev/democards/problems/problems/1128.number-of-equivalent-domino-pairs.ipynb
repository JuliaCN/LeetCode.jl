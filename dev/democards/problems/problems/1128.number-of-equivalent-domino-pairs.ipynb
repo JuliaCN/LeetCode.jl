{
 "cells": [
  {
   "cell_type": "markdown",
   "source": [
    "Given a list of `dominoes`, `dominoes[i] = [a, b]` is _equivalent_ to\n",
    "`dominoes[j] = [c, d]` if and only if either (`a==c` and `b==d`), or (`a==d`\n",
    "and `b==c`) - that is, one domino can be rotated to be equal to another\n",
    "domino.\n",
    "\n",
    "Return the number of pairs `(i, j)` for which `0 <= i < j < dominoes.length`,\n",
    "and `dominoes[i]` is equivalent to `dominoes[j]`.\n",
    "\n",
    "\n",
    "\n",
    "**Example 1:**\n",
    "\n",
    "\n",
    "\n",
    "    Input: dominoes = [[1,2],[2,1],[3,4],[5,6]]\n",
    "    Output: 1\n",
    "\n",
    "\n",
    "\n",
    "\n",
    "**Constraints:**\n",
    "\n",
    "  * `1 <= dominoes.length <= 40000`\n",
    "  * `1 <= dominoes[i][j] <= 9`"
   ],
   "metadata": {}
  },
  {
   "outputs": [
    {
     "output_type": "execute_result",
     "data": {
      "text/plain": "num_equiv_domino_pairs (generic function with 1 method)"
     },
     "metadata": {},
     "execution_count": 1
    }
   ],
   "cell_type": "code",
   "source": [
    "# @lc code=start\n",
    "using LeetCode\n",
    "\n",
    "function num_equiv_domino_pairs(dominoes::Vector{Tuple{Int,Int}})::Int\n",
    "    counts = Dict{Tuple{Int,Int},Int}()\n",
    "    n = 0\n",
    "    for (k, v) in dominoes\n",
    "        p = minmax(k, v)\n",
    "        if haskey(counts, p)\n",
    "            n += counts[p]\n",
    "            counts[p] += 1\n",
    "        else\n",
    "            counts[p] = 1\n",
    "        end\n",
    "    end\n",
    "    return n\n",
    "end\n",
    "# @lc code=end"
   ],
   "metadata": {},
   "execution_count": 1
  },
  {
   "cell_type": "markdown",
   "source": [
    "---\n",
    "\n",
    "*This notebook was generated using [Literate.jl](https://github.com/fredrikekre/Literate.jl).*"
   ],
   "metadata": {}
  }
 ],
 "nbformat_minor": 3,
 "metadata": {
  "language_info": {
   "file_extension": ".jl",
   "mimetype": "application/julia",
   "name": "julia",
   "version": "1.6.3"
  },
  "kernelspec": {
   "name": "julia-1.6",
   "display_name": "Julia 1.6.3",
   "language": "julia"
  }
 },
 "nbformat": 4
}
