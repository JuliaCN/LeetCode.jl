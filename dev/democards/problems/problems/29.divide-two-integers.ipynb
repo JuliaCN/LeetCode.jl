{
 "cells": [
  {
   "cell_type": "markdown",
   "source": [
    "Given two integers `dividend` and `divisor`, divide two integers without using\n",
    "multiplication, division, and mod operator.\n",
    "\n",
    "Return the quotient after dividing `dividend` by `divisor`.\n",
    "\n",
    "The integer division should truncate toward zero, which means losing its\n",
    "fractional part. For example, `truncate(8.345) = 8` and `truncate(-2.7335) =\n",
    "-2`.\n",
    "\n",
    "**Note:**\n",
    "\n",
    "  * Assume we are dealing with an environment that could only store integers within the 32-bit signed integer range: [−231,  231 − 1]. For this problem, assume that your function **returns 2 31 − 1 when the division result overflows**.\n",
    "\n",
    "\n",
    "\n",
    "**Example 1:**\n",
    "\n",
    "\n",
    "\n",
    "    Input: dividend = 10, divisor = 3\n",
    "    Output: 3\n",
    "    Explanation: 10/3 = truncate(3.33333..) = 3.\n",
    "\n",
    "\n",
    "**Example 2:**\n",
    "\n",
    "\n",
    "\n",
    "    Input: dividend = 7, divisor = -3\n",
    "    Output: -2\n",
    "    Explanation: 7/-3 = truncate(-2.33333..) = -2.\n",
    "\n",
    "\n",
    "**Example 3:**\n",
    "\n",
    "\n",
    "\n",
    "    Input: dividend = 0, divisor = 1\n",
    "    Output: 0\n",
    "\n",
    "\n",
    "**Example 4:**\n",
    "\n",
    "\n",
    "\n",
    "    Input: dividend = 1, divisor = 1\n",
    "    Output: 1\n",
    "\n",
    "\n",
    "\n",
    "\n",
    "**Constraints:**\n",
    "\n",
    "  * `-231 <= dividend, divisor <= 231 - 1`\n",
    "  * `divisor != 0`"
   ],
   "metadata": {}
  },
  {
   "outputs": [
    {
     "output_type": "execute_result",
     "data": {
      "text/plain": "divide (generic function with 1 method)"
     },
     "metadata": {},
     "execution_count": 1
    }
   ],
   "cell_type": "code",
   "source": [
    "# @lc code=start\n",
    "using LeetCode\n",
    "\n",
    "function divide(dividend::Int, divisor::Int)::Int\n",
    "    sign = (dividend < 0) ⊻ (divisor < 0)\n",
    "    dividend, divisor = abs(dividend), abs(divisor)\n",
    "    result = 0\n",
    "    while dividend >= divisor\n",
    "        shift = 0\n",
    "        while dividend >= (divisor << shift)\n",
    "            shift += 1\n",
    "        end\n",
    "        dividend -= divisor << (shift - 1)\n",
    "        result += 1 << (shift - 1)\n",
    "    end\n",
    "    return sign ? -result : result\n",
    "end\n",
    "# @lc code=end"
   ],
   "metadata": {},
   "execution_count": 1
  },
  {
   "cell_type": "markdown",
   "source": [
    "---\n",
    "\n",
    "*This notebook was generated using [Literate.jl](https://github.com/fredrikekre/Literate.jl).*"
   ],
   "metadata": {}
  }
 ],
 "nbformat_minor": 3,
 "metadata": {
  "language_info": {
   "file_extension": ".jl",
   "mimetype": "application/julia",
   "name": "julia",
   "version": "1.11.6"
  },
  "kernelspec": {
   "name": "julia-1.11",
   "display_name": "Julia 1.11.6",
   "language": "julia"
  }
 },
 "nbformat": 4
}
