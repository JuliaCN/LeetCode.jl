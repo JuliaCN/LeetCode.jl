{
 "cells": [
  {
   "cell_type": "markdown",
   "source": [
    "Students are asked to stand in non-decreasing order of heights for an annual\n",
    "photo.\n",
    "\n",
    "Return the minimum number of students that must move in order for all students\n",
    "to be standing in non-decreasing order of height.\n",
    "\n",
    "Notice that when a group of students is selected they can reorder in any\n",
    "possible way between themselves and the non selected students remain on their\n",
    "seats.\n",
    "\n",
    "\n",
    "\n",
    "**Example 1:**\n",
    "\n",
    "\n",
    "\n",
    "    Input: heights = [1,1,4,2,1,3]\n",
    "    Output: 3\n",
    "    Explanation:\n",
    "    Current array : [1,1,4,2,1,3]\n",
    "    Target array  : [1,1,1,2,3,4]\n",
    "    On index 2 (0-based) we have 4 vs 1 so we have to move this student.\n",
    "    On index 4 (0-based) we have 1 vs 3 so we have to move this student.\n",
    "    On index 5 (0-based) we have 3 vs 4 so we have to move this student.\n",
    "\n",
    "\n",
    "**Example 2:**\n",
    "\n",
    "\n",
    "\n",
    "    Input: heights = [5,1,2,3,4]\n",
    "    Output: 5\n",
    "\n",
    "\n",
    "**Example 3:**\n",
    "\n",
    "\n",
    "\n",
    "    Input: heights = [1,2,3,4,5]\n",
    "    Output: 0\n",
    "\n",
    "\n",
    "\n",
    "\n",
    "**Constraints:**\n",
    "\n",
    "  * `1 <= heights.length <= 100`\n",
    "  * `1 <= heights[i] <= 100`"
   ],
   "metadata": {}
  },
  {
   "outputs": [
    {
     "output_type": "execute_result",
     "data": {
      "text/plain": "height_checker (generic function with 1 method)"
     },
     "metadata": {},
     "execution_count": 1
    }
   ],
   "cell_type": "code",
   "source": [
    "# @lc code=start\n",
    "using LeetCode\n",
    "\n",
    "function height_checker(heights::Vector{Int})\n",
    "    sorted = sort(heights)\n",
    "    return count(i -> heights[i] != sorted[i], 1:length(heights))\n",
    "end\n",
    "# @lc code=end"
   ],
   "metadata": {},
   "execution_count": 1
  },
  {
   "cell_type": "markdown",
   "source": [
    "---\n",
    "\n",
    "*This notebook was generated using [Literate.jl](https://github.com/fredrikekre/Literate.jl).*"
   ],
   "metadata": {}
  }
 ],
 "nbformat_minor": 3,
 "metadata": {
  "language_info": {
   "file_extension": ".jl",
   "mimetype": "application/julia",
   "name": "julia",
   "version": "1.10.4"
  },
  "kernelspec": {
   "name": "julia-1.10",
   "display_name": "Julia 1.10.4",
   "language": "julia"
  }
 },
 "nbformat": 4
}
