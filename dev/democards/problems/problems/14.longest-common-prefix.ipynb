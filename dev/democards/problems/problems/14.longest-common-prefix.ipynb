{
 "cells": [
  {
   "cell_type": "markdown",
   "source": [
    "Write a function to find the longest common prefix string amongst an array of\n",
    "strings.\n",
    "\n",
    "If there is no common prefix, return an empty string `\"\"`.\n",
    "\n",
    "\n",
    "\n",
    "**Example 1:**\n",
    "\n",
    "\n",
    "\n",
    "    Input: strs = [\"flower\",\"flow\",\"flight\"]\n",
    "    Output: \"fl\"\n",
    "\n",
    "\n",
    "**Example 2:**\n",
    "\n",
    "\n",
    "\n",
    "    Input: strs = [\"dog\",\"racecar\",\"car\"]\n",
    "    Output: \"\"\n",
    "    Explanation: There is no common prefix among the input strings.\n",
    "\n",
    "\n",
    "\n",
    "\n",
    "**Constraints:**\n",
    "\n",
    "  * `0 <= strs.length <= 200`\n",
    "  * `0 <= strs[i].length <= 200`\n",
    "  * `strs[i]` consists of only lower-case English letters."
   ],
   "metadata": {}
  },
  {
   "outputs": [
    {
     "output_type": "execute_result",
     "data": {
      "text/plain": "longest_common_prefix (generic function with 1 method)"
     },
     "metadata": {},
     "execution_count": 1
    }
   ],
   "cell_type": "code",
   "source": [
    "# @lc code=start\n",
    "using LeetCode\n",
    "\n",
    "function longest_common_prefix(strs::Vector{String})::String\n",
    "    s1, s2 = minimum(strs), maximum(strs)\n",
    "    pos = findfirst(i -> s1[i] != s2[i], 1:length(s1))\n",
    "    return isnothing(pos) ? \"\" : s1[1:(pos - 1)]\n",
    "end\n",
    "\n",
    "# @lc code=end"
   ],
   "metadata": {},
   "execution_count": 1
  },
  {
   "cell_type": "markdown",
   "source": [
    "---\n",
    "\n",
    "*This notebook was generated using [Literate.jl](https://github.com/fredrikekre/Literate.jl).*"
   ],
   "metadata": {}
  }
 ],
 "nbformat_minor": 3,
 "metadata": {
  "language_info": {
   "file_extension": ".jl",
   "mimetype": "application/julia",
   "name": "julia",
   "version": "1.8.0"
  },
  "kernelspec": {
   "name": "julia-1.8",
   "display_name": "Julia 1.8.0",
   "language": "julia"
  }
 },
 "nbformat": 4
}
