{
 "cells": [
  {
   "cell_type": "markdown",
   "source": [
    "Given a binary tree, determine if it is height-balanced.\n",
    "\n",
    "For this problem, a height-balanced binary tree is defined as:\n",
    "\n",
    "> a binary tree in which the left and right subtrees of _every_ node differ in\n",
    "> height by no more than 1.\n",
    "\n",
    "\n",
    "\n",
    "**Example 1:**\n",
    "\n",
    "![](https://assets.leetcode.com/uploads/2020/10/06/balance_1.jpg)\n",
    "\n",
    "\n",
    "\n",
    "    Input: root = [3,9,20,null,null,15,7]\n",
    "    Output: true\n",
    "\n",
    "\n",
    "**Example 2:**\n",
    "\n",
    "![](https://assets.leetcode.com/uploads/2020/10/06/balance_2.jpg)\n",
    "\n",
    "\n",
    "\n",
    "    Input: root = [1,2,2,3,3,null,null,4,4]\n",
    "    Output: false\n",
    "\n",
    "\n",
    "**Example 3:**\n",
    "\n",
    "\n",
    "\n",
    "    Input: root = []\n",
    "    Output: true\n",
    "\n",
    "\n",
    "\n",
    "\n",
    "**Constraints:**\n",
    "\n",
    "  * The number of nodes in the tree is in the range `[0, 5000]`.\n",
    "  * `-104 <= Node.val <= 104`"
   ],
   "metadata": {}
  },
  {
   "outputs": [
    {
     "output_type": "execute_result",
     "data": {
      "text/plain": "is_balanced_binary_tree (generic function with 2 methods)"
     },
     "metadata": {},
     "execution_count": 1
    }
   ],
   "cell_type": "code",
   "source": [
    "# @lc code=start\n",
    "using LeetCode\n",
    "\n",
    "is_balanced_binary_tree(::Nothing) = true\n",
    "function is_balanced_binary_tree(root::TreeNode)::Bool\n",
    "    tree_depth(::Nothing, depth::Int) = depth\n",
    "    function tree_depth(tree::TreeNode, depth::Int)::Int\n",
    "        # -1 for if tree is not balanceed\n",
    "        (lt = tree_depth(tree.left, depth + 1)) == -1 && return -1\n",
    "        (rt = tree_depth(tree.right, depth + 1)) == -1 && return -1\n",
    "        return abs(lt - rt) <= 1 ? max(lt, rt) : -1\n",
    "    end\n",
    "    return tree_depth(root, 0) != -1\n",
    "end\n",
    "# @lc code=end"
   ],
   "metadata": {},
   "execution_count": 1
  },
  {
   "cell_type": "markdown",
   "source": [
    "---\n",
    "\n",
    "*This notebook was generated using [Literate.jl](https://github.com/fredrikekre/Literate.jl).*"
   ],
   "metadata": {}
  }
 ],
 "nbformat_minor": 3,
 "metadata": {
  "language_info": {
   "file_extension": ".jl",
   "mimetype": "application/julia",
   "name": "julia",
   "version": "1.8.2"
  },
  "kernelspec": {
   "name": "julia-1.8",
   "display_name": "Julia 1.8.2",
   "language": "julia"
  }
 },
 "nbformat": 4
}
