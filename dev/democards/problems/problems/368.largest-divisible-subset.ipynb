{
 "cells": [
  {
   "cell_type": "markdown",
   "source": [
    "Given a set of **distinct** positive integers, find the largest subset such\n",
    "that every pair (Si, Sj) of elements in this subset satisfies:\n",
    "\n",
    "Si % Sj = 0 or Sj % Si = 0.\n",
    "\n",
    "If there are multiple solutions, return any subset is fine.\n",
    "\n",
    "**Example 1:**\n",
    "\n",
    "\n",
    "\n",
    "    Input: [1,2,3]\n",
    "    Output: [1,2] (of course, [1,3] will also be ok)\n",
    "\n",
    "\n",
    "**Example 2:**\n",
    "\n",
    "\n",
    "\n",
    "    Input: [1,2,4,8]\n",
    "    Output: [1,2,4,8]"
   ],
   "metadata": {}
  },
  {
   "outputs": [
    {
     "output_type": "execute_result",
     "data": {
      "text/plain": "largest_divisible_subset (generic function with 1 method)"
     },
     "metadata": {},
     "execution_count": 1
    }
   ],
   "cell_type": "code",
   "source": [
    "# @lc code=start\n",
    "using LeetCode\n",
    "\n",
    "function largest_divisible_subset(nums::Vector{Int})\n",
    "    sort!(nums)\n",
    "    len = length(nums)\n",
    "    dp = fill(1, len)\n",
    "    prev = fill(0, len)\n",
    "    for i in 2:len, j in 1:(i - 1)\n",
    "        if nums[i] % nums[j] == 0 && dp[i] < dp[j] + 1\n",
    "            dp[i] = dp[j] + 1\n",
    "            prev[i] = j\n",
    "        end\n",
    "    end\n",
    "    idx = argmax(dp)\n",
    "    res =  Int[]\n",
    "    while idx != 0\n",
    "        push!(res, nums[idx])\n",
    "        idx = prev[idx]\n",
    "    end\n",
    "    return res\n",
    "end\n",
    "# @lc code=end"
   ],
   "metadata": {},
   "execution_count": 1
  },
  {
   "cell_type": "markdown",
   "source": [
    "---\n",
    "\n",
    "*This notebook was generated using [Literate.jl](https://github.com/fredrikekre/Literate.jl).*"
   ],
   "metadata": {}
  }
 ],
 "nbformat_minor": 3,
 "metadata": {
  "language_info": {
   "file_extension": ".jl",
   "mimetype": "application/julia",
   "name": "julia",
   "version": "1.8.0"
  },
  "kernelspec": {
   "name": "julia-1.8",
   "display_name": "Julia 1.8.0",
   "language": "julia"
  }
 },
 "nbformat": 4
}
