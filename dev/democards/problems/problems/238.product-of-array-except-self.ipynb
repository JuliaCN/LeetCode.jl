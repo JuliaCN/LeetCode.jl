{
 "cells": [
  {
   "cell_type": "markdown",
   "source": [
    "Given an array `nums` of _n_ integers where _n_ > 1,  return an array `output`\n",
    "such that `output[i]` is equal to the product of all the elements of `nums`\n",
    "except `nums[i]`.\n",
    "\n",
    "**Example:**\n",
    "\n",
    "\n",
    "\n",
    "    Input:  [1,2,3,4]\n",
    "    Output: [24,12,8,6]\n",
    "\n",
    "\n",
    "**Constraint:**  It's guaranteed that the product of the elements of any\n",
    "prefix or suffix of the array (including the whole array) fits in a 32 bit\n",
    "integer.\n",
    "\n",
    "**Note:** Please solve it **without division** and in O( _n_ ).\n",
    "\n",
    "**Follow up:**\n",
    "Could you solve it with constant space complexity? (The output array **does\n",
    "not** count as extra space for the purpose of space complexity analysis.)"
   ],
   "metadata": {}
  },
  {
   "outputs": [
    {
     "output_type": "execute_result",
     "data": {
      "text/plain": "product_except_self (generic function with 1 method)"
     },
     "metadata": {},
     "execution_count": 1
    }
   ],
   "cell_type": "code",
   "source": [
    "# @lc code=start\n",
    "using LeetCode\n",
    "\n",
    "function product_except_self(nums::Vector{Int})\n",
    "    n = length(nums)\n",
    "    left = right = 1\n",
    "    res = fill(1, n)\n",
    "    @inbounds for i in 1:n\n",
    "        res[i] *= left\n",
    "        left *= nums[i]\n",
    "        res[n - i + 1] *= right\n",
    "        right *= nums[n - i + 1]\n",
    "    end\n",
    "    return res\n",
    "end\n",
    "# @lc code=end"
   ],
   "metadata": {},
   "execution_count": 1
  },
  {
   "cell_type": "markdown",
   "source": [
    "---\n",
    "\n",
    "*This notebook was generated using [Literate.jl](https://github.com/fredrikekre/Literate.jl).*"
   ],
   "metadata": {}
  }
 ],
 "nbformat_minor": 3,
 "metadata": {
  "language_info": {
   "file_extension": ".jl",
   "mimetype": "application/julia",
   "name": "julia",
   "version": "1.6.1"
  },
  "kernelspec": {
   "name": "julia-1.6",
   "display_name": "Julia 1.6.1",
   "language": "julia"
  }
 },
 "nbformat": 4
}
