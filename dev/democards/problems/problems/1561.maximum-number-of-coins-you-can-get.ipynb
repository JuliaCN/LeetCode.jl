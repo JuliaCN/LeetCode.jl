{
 "cells": [
  {
   "cell_type": "markdown",
   "source": [
    "There are 3n piles of coins of varying size, you and your friends will take\n",
    "piles of coins as follows:\n",
    "\n",
    "  * In each step, you will choose **any  **3 piles of coins (not necessarily consecutive).\n",
    "  * Of your choice, Alice will pick the pile with the maximum number of coins.\n",
    "  * You will pick the next pile with maximum number of coins.\n",
    "  * Your friend Bob will pick the last pile.\n",
    "  * Repeat until there are no more piles of coins.\n",
    "\n",
    "Given an array of integers `piles` where `piles[i]` is the number of coins in\n",
    "the `ith` pile.\n",
    "\n",
    "Return the maximum number of coins which you can have.\n",
    "\n",
    "\n",
    "\n",
    "**Example 1:**\n",
    "\n",
    "\n",
    "\n",
    "    Input: piles = [2,4,1,2,7,8]\n",
    "    Output: 9\n",
    "    Explanation: Choose the triplet (2, 7, 8), Alice Pick the pile with 8 coins, you the pile with **7** coins and Bob the last one.\n",
    "    Choose the triplet (1, 2, 4), Alice Pick the pile with 4 coins, you the pile with **2** coins and Bob the last one.\n",
    "    The maximum number of coins which you can have are: 7 + 2 = 9.\n",
    "    On the other hand if we choose this arrangement (1, **2** , 8), (2, **4** , 7) you only get 2 + 4 = 6 coins which is not optimal.\n",
    "\n",
    "\n",
    "**Example 2:**\n",
    "\n",
    "\n",
    "\n",
    "    Input: piles = [2,4,5]\n",
    "    Output: 4\n",
    "\n",
    "\n",
    "**Example 3:**\n",
    "\n",
    "\n",
    "\n",
    "    Input: piles = [9,8,7,6,5,1,2,3,4]\n",
    "    Output: 18\n",
    "\n",
    "\n",
    "\n",
    "\n",
    "**Constraints:**\n",
    "\n",
    "  * `3 <= piles.length <= 10^5`\n",
    "  * `piles.length % 3 == 0`\n",
    "  * `1 <= piles[i] <= 10^4`"
   ],
   "metadata": {}
  },
  {
   "outputs": [
    {
     "output_type": "execute_result",
     "data": {
      "text/plain": "max_coins (generic function with 1 method)"
     },
     "metadata": {},
     "execution_count": 1
    }
   ],
   "cell_type": "code",
   "source": [
    "# @lc code=start\n",
    "using LeetCode\n",
    "\n",
    "function max_coins(piles::Vector{Int})\n",
    "    len = length(sort!(piles))\n",
    "    return sum(piles[i] for i in len ÷ 3 + 1 : 2 : len - 1)\n",
    "end\n",
    "# @lc code=end"
   ],
   "metadata": {},
   "execution_count": 1
  },
  {
   "cell_type": "markdown",
   "source": [
    "---\n",
    "\n",
    "*This notebook was generated using [Literate.jl](https://github.com/fredrikekre/Literate.jl).*"
   ],
   "metadata": {}
  }
 ],
 "nbformat_minor": 3,
 "metadata": {
  "language_info": {
   "file_extension": ".jl",
   "mimetype": "application/julia",
   "name": "julia",
   "version": "1.5.4"
  },
  "kernelspec": {
   "name": "julia-1.5",
   "display_name": "Julia 1.5.4",
   "language": "julia"
  }
 },
 "nbformat": 4
}
