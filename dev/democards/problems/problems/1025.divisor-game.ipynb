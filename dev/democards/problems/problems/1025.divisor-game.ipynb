{
 "cells": [
  {
   "cell_type": "markdown",
   "source": [
    "Alice and Bob take turns playing a game, with Alice starting first.\n",
    "\n",
    "Initially, there is a number `N` on the chalkboard.  On each player's turn,\n",
    "that player makes a _move_  consisting of:\n",
    "\n",
    "  * Choosing any `x` with `0 < x < N` and `N % x == 0`.\n",
    "  * Replacing the number `N` on the chalkboard with `N - x`.\n",
    "\n",
    "Also, if a player cannot make a move, they lose the game.\n",
    "\n",
    "Return `True` if and only if Alice wins the game, assuming both players play\n",
    "optimally.\n",
    "\n",
    "\n",
    "\n",
    "**Example 1:**\n",
    "\n",
    "\n",
    "\n",
    "    Input: 2\n",
    "    Output: true\n",
    "    Explanation: Alice chooses 1, and Bob has no more moves.\n",
    "\n",
    "\n",
    "**Example 2:**\n",
    "\n",
    "\n",
    "\n",
    "    Input: 3\n",
    "    Output: false\n",
    "    Explanation: Alice chooses 1, Bob chooses 1, and Alice has no more moves.\n",
    "\n",
    "\n",
    "\n",
    "\n",
    "**Note:**\n",
    "\n",
    "  1. `1 <= N <= 1000`"
   ],
   "metadata": {}
  },
  {
   "outputs": [
    {
     "output_type": "execute_result",
     "data": {
      "text/plain": "divisor_game (generic function with 1 method)"
     },
     "metadata": {},
     "execution_count": 1
    }
   ],
   "cell_type": "code",
   "source": [
    "# @lc code=start\n",
    "using LeetCode\n",
    "\n",
    "divisor_game(n::Int) = iseven(n)\n",
    "# @lc code=end"
   ],
   "metadata": {},
   "execution_count": 1
  },
  {
   "cell_type": "markdown",
   "source": [
    "---\n",
    "\n",
    "*This notebook was generated using [Literate.jl](https://github.com/fredrikekre/Literate.jl).*"
   ],
   "metadata": {}
  }
 ],
 "nbformat_minor": 3,
 "metadata": {
  "language_info": {
   "file_extension": ".jl",
   "mimetype": "application/julia",
   "name": "julia",
   "version": "1.10.1"
  },
  "kernelspec": {
   "name": "julia-1.10",
   "display_name": "Julia 1.10.1",
   "language": "julia"
  }
 },
 "nbformat": 4
}
