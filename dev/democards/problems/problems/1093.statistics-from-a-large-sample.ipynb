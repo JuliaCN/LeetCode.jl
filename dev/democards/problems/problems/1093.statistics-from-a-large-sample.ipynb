{
 "cells": [
  {
   "cell_type": "markdown",
   "source": [
    "We sampled integers between `0` and `255`, and stored the results in an array\n",
    "`count`:  `count[k]` is the number of integers we sampled equal to `k`.\n",
    "\n",
    "Return the minimum, maximum, mean, median, and mode of the sample\n",
    "respectively, as an array of **floating point numbers**.  The mode is\n",
    "guaranteed to be unique.\n",
    "\n",
    "_(Recall that the median of a sample is:_\n",
    "\n",
    "  * _The middle element, if the elements of the sample were sorted and the number of elements is odd;_\n",
    "  * _The average of the middle two elements, if the elements of the sample were sorted and the number of elements is even.)_\n",
    "\n",
    "\n",
    "\n",
    "**Example 1:**\n",
    "\n",
    "\n",
    "\n",
    "    Input: count = [0,1,3,4,0,0,0,0,0,0,0,0,0,0,0,0,0,0,0,0,0,0,0,0,0,0,0,0,0,0,0,0,0,0,0,0,0,0,0,0,0,0,0,0,0,0,0,0,0,0,0,0,0,0,0,0,0,0,0,0,0,0,0,0,0,0,0,0,0,0,0,0,0,0,0,0,0,0,0,0,0,0,0,0,0,0,0,0,0,0,0,0,0,0,0,0,0,0,0,0,0,0,0,0,0,0,0,0,0,0,0,0,0,0,0,0,0,0,0,0,0,0,0,0,0,0,0,0,0,0,0,0,0,0,0,0,0,0,0,0,0,0,0,0,0,0,0,0,0,0,0,0,0,0,0,0,0,0,0,0,0,0,0,0,0,0,0,0,0,0,0,0,0,0,0,0,0,0,0,0,0,0,0,0,0,0,0,0,0,0,0,0,0,0,0,0,0,0,0,0,0,0,0,0,0,0,0,0,0,0,0,0,0,0,0,0,0,0,0,0,0,0,0,0,0,0,0,0,0,0,0,0,0,0,0,0,0,0,0,0,0,0,0,0,0,0,0,0,0,0,0,0,0,0,0,0]\n",
    "    Output: [1.00000,3.00000,2.37500,2.50000,3.00000]\n",
    "\n",
    "\n",
    "**Example 2:**\n",
    "\n",
    "\n",
    "\n",
    "    Input: count = [0,4,3,2,2,0,0,0,0,0,0,0,0,0,0,0,0,0,0,0,0,0,0,0,0,0,0,0,0,0,0,0,0,0,0,0,0,0,0,0,0,0,0,0,0,0,0,0,0,0,0,0,0,0,0,0,0,0,0,0,0,0,0,0,0,0,0,0,0,0,0,0,0,0,0,0,0,0,0,0,0,0,0,0,0,0,0,0,0,0,0,0,0,0,0,0,0,0,0,0,0,0,0,0,0,0,0,0,0,0,0,0,0,0,0,0,0,0,0,0,0,0,0,0,0,0,0,0,0,0,0,0,0,0,0,0,0,0,0,0,0,0,0,0,0,0,0,0,0,0,0,0,0,0,0,0,0,0,0,0,0,0,0,0,0,0,0,0,0,0,0,0,0,0,0,0,0,0,0,0,0,0,0,0,0,0,0,0,0,0,0,0,0,0,0,0,0,0,0,0,0,0,0,0,0,0,0,0,0,0,0,0,0,0,0,0,0,0,0,0,0,0,0,0,0,0,0,0,0,0,0,0,0,0,0,0,0,0,0,0,0,0,0,0,0,0,0,0,0,0,0,0,0,0,0,0]\n",
    "    Output: [1.00000,4.00000,2.18182,2.00000,1.00000]\n",
    "\n",
    "\n",
    "\n",
    "\n",
    "**Constraints:**\n",
    "\n",
    "  1. `count.length == 256`\n",
    "  2. `1 <= sum(count) <= 10^9`\n",
    "  3. The mode of the sample that count represents is unique.\n",
    "  4. Answers within `10^-5` of the true value will be accepted as correct."
   ],
   "metadata": {}
  },
  {
   "outputs": [
    {
     "output_type": "execute_result",
     "data": {
      "text/plain": "sample_stats (generic function with 1 method)"
     },
     "metadata": {},
     "execution_count": 1
    }
   ],
   "cell_type": "code",
   "source": [
    "# @lc code=start\n",
    "using LeetCode\n",
    "\n",
    "function sample_stats(count::Vector{Int})\n",
    "    res = fill(0.0, 5)\n",
    "    total = sum(count)\n",
    "    half = total >> 1\n",
    "    res[1] = findfirst(!=(0), count) - 1\n",
    "    res[2] = findlast(!=(0), count) - 1\n",
    "    res[3] = sum(x * y for (x, y) in zip(count, 0:255)) / total\n",
    "    res[5] = argmax(count) - 1\n",
    "    s = 0\n",
    "    for i in eachindex(count)\n",
    "        s += count[i]\n",
    "        s < half && continue\n",
    "\n",
    "        res[4] = i - 1\n",
    "        s > half && break\n",
    "\n",
    "        nnz = findnext(!=(0), count, i + 1)\n",
    "        res[4] = iseven(total) ? (i + nnz) / 2 - 1 : nnz\n",
    "        break\n",
    "    end\n",
    "    res\n",
    "end\n",
    "# @lc code=end"
   ],
   "metadata": {},
   "execution_count": 1
  },
  {
   "cell_type": "markdown",
   "source": [
    "---\n",
    "\n",
    "*This notebook was generated using [Literate.jl](https://github.com/fredrikekre/Literate.jl).*"
   ],
   "metadata": {}
  }
 ],
 "nbformat_minor": 3,
 "metadata": {
  "language_info": {
   "file_extension": ".jl",
   "mimetype": "application/julia",
   "name": "julia",
   "version": "1.11.6"
  },
  "kernelspec": {
   "name": "julia-1.11",
   "display_name": "Julia 1.11.6",
   "language": "julia"
  }
 },
 "nbformat": 4
}
