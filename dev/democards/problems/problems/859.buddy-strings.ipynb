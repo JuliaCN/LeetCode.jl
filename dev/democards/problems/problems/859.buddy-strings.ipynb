{
 "cells": [
  {
   "cell_type": "markdown",
   "source": [
    "Given two strings `A` and `B` of lowercase letters, return `true` _if you can\n",
    "swap two letters in_`A` _so the result is equal to_`B` _, otherwise,\n",
    "return_`false` _._\n",
    "\n",
    "Swapping letters is defined as taking two indices `i` and `j` (0-indexed) such\n",
    "that `i != j` and swapping the characters at `A[i]` and `A[j]`. For example,\n",
    "swapping at indices `0` and `2` in `\"abcd\"` results in `\"cbad\"`.\n",
    "\n",
    "\n",
    "\n",
    "**Example 1:**\n",
    "\n",
    "\n",
    "\n",
    "    Input: A = \"ab\", B = \"ba\"\n",
    "    Output: true\n",
    "    **Explanation** **:** You can swap A[0] = 'a' and A[1] = 'b' to get \"ba\", which is equal to B.\n",
    "\n",
    "\n",
    "**Example 2:**\n",
    "\n",
    "\n",
    "\n",
    "    Input: A = \"ab\", B = \"ab\"\n",
    "    Output: false\n",
    "    **Explanation** **:** The only letters you can swap are A[0] = 'a' and A[1] = 'b', which results in \"ba\" != B.\n",
    "\n",
    "\n",
    "**Example 3:**\n",
    "\n",
    "\n",
    "\n",
    "    Input: A = \"aa\", B = \"aa\"\n",
    "    Output: true\n",
    "    **Explanation** **:** You can swap A[0] = 'a' and A[1] = 'a' to get \"aa\", which is equal to B.\n",
    "\n",
    "\n",
    "**Example 4:**\n",
    "\n",
    "\n",
    "\n",
    "    Input: A = \"aaaaaaabc\", B = \"aaaaaaacb\"\n",
    "    Output: true\n",
    "\n",
    "\n",
    "**Example 5:**\n",
    "\n",
    "\n",
    "\n",
    "    Input: A = \"\", B = \"aa\"\n",
    "    Output: false\n",
    "\n",
    "\n",
    "\n",
    "\n",
    "**Constraints:**\n",
    "\n",
    "  * `0 <= A.length <= 20000`\n",
    "  * `0 <= B.length <= 20000`\n",
    "  * `A` and `B` consist of lowercase letters."
   ],
   "metadata": {}
  },
  {
   "outputs": [
    {
     "output_type": "execute_result",
     "data": {
      "text/plain": "buddy_strings (generic function with 1 method)"
     },
     "metadata": {},
     "execution_count": 1
    }
   ],
   "cell_type": "code",
   "source": [
    "# @lc code=start\n",
    "using LeetCode\n",
    "\n",
    "function buddy_strings(A::String, B::String)::Bool\n",
    "    if length(A) == length(B)\n",
    "        different_pairs = Pair{Char,Char}[]\n",
    "        for (a, b) in zip(A, B)\n",
    "            if a != b\n",
    "                push!(different_pairs, a => b)\n",
    "            end\n",
    "        end\n",
    "        if length(different_pairs) == 0\n",
    "            # check if A contains at least 2 duplicate letters\n",
    "            length(Set(A)) < length(A)\n",
    "        elseif length(different_pairs) == 2\n",
    "            ((x, y), (z, w)) = different_pairs\n",
    "            x == w && y == z\n",
    "        else\n",
    "            false\n",
    "        end\n",
    "    else\n",
    "        false\n",
    "    end\n",
    "end\n",
    "# @lc code=end"
   ],
   "metadata": {},
   "execution_count": 1
  },
  {
   "cell_type": "markdown",
   "source": [
    "---\n",
    "\n",
    "*This notebook was generated using [Literate.jl](https://github.com/fredrikekre/Literate.jl).*"
   ],
   "metadata": {}
  }
 ],
 "nbformat_minor": 3,
 "metadata": {
  "language_info": {
   "file_extension": ".jl",
   "mimetype": "application/julia",
   "name": "julia",
   "version": "1.6.3"
  },
  "kernelspec": {
   "name": "julia-1.6",
   "display_name": "Julia 1.6.3",
   "language": "julia"
  }
 },
 "nbformat": 4
}
