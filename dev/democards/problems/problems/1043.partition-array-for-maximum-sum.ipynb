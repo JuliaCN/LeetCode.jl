{
 "cells": [
  {
   "cell_type": "markdown",
   "source": [
    "Given an integer array `arr`, you should partition the array into (contiguous)\n",
    "subarrays of length at most `k`. After partitioning, each subarray has their\n",
    "values changed to become the maximum value of that subarray.\n",
    "\n",
    "Return _the largest sum of the given array after partitioning._\n",
    "\n",
    "\n",
    "\n",
    "**Example 1:**\n",
    "\n",
    "\n",
    "\n",
    "    Input: arr = [1,15,7,9,2,5,10], k = 3\n",
    "    Output: 84\n",
    "    Explanation: arr becomes [15,15,15,9,10,10,10]\n",
    "\n",
    "\n",
    "**Example 2:**\n",
    "\n",
    "\n",
    "\n",
    "    Input: arr = [1,4,1,5,7,3,6,1,9,9,3], k = 4\n",
    "    Output: 83\n",
    "\n",
    "\n",
    "**Example 3:**\n",
    "\n",
    "\n",
    "\n",
    "    Input: arr = [1], k = 1\n",
    "    Output: 1\n",
    "\n",
    "\n",
    "\n",
    "\n",
    "**Constraints:**\n",
    "\n",
    "  * `1 <= arr.length <= 500`\n",
    "  * `0 <= arr[i] <= 109`\n",
    "  * `1 <= k <= arr.length`"
   ],
   "metadata": {}
  },
  {
   "outputs": [
    {
     "output_type": "execute_result",
     "data": {
      "text/plain": "max_sum_after_partitioning (generic function with 1 method)"
     },
     "metadata": {},
     "execution_count": 1
    }
   ],
   "cell_type": "code",
   "source": [
    "# @lc code=start\n",
    "using LeetCode\n",
    "\n",
    "function max_sum_after_partitioning(arr::Vector{Int}, k::Int)\n",
    "    n = length(arr)\n",
    "    dp = OffsetArray(zeros(Int, n + 1), -1)\n",
    "    for i in 1:n\n",
    "        maxn = arr[i]\n",
    "        dp[i] = maxn + dp[i - 1]\n",
    "        for j in (i - 1):-1:max(1, i - k + 1)\n",
    "            maxn = max(maxn, arr[j])\n",
    "            dp[i] = max(dp[i], (i - j + 1) * maxn + dp[j - 1])\n",
    "        end\n",
    "    end\n",
    "    return dp[n]\n",
    "end\n",
    "\n",
    "# @lc code=end"
   ],
   "metadata": {},
   "execution_count": 1
  },
  {
   "cell_type": "markdown",
   "source": [
    "---\n",
    "\n",
    "*This notebook was generated using [Literate.jl](https://github.com/fredrikekre/Literate.jl).*"
   ],
   "metadata": {}
  }
 ],
 "nbformat_minor": 3,
 "metadata": {
  "language_info": {
   "file_extension": ".jl",
   "mimetype": "application/julia",
   "name": "julia",
   "version": "1.11.6"
  },
  "kernelspec": {
   "name": "julia-1.11",
   "display_name": "Julia 1.11.6",
   "language": "julia"
  }
 },
 "nbformat": 4
}
