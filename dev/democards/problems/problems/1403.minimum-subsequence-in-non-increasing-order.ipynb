{
 "cells": [
  {
   "cell_type": "markdown",
   "source": [
    "Given the array `nums`, obtain a subsequence of the array whose sum of\n",
    "elements is **strictly greater** than the sum of the non included elements in\n",
    "such subsequence.\n",
    "\n",
    "If there are multiple solutions, return the subsequence with **minimum size**\n",
    "and if there still exist multiple solutions, return the subsequence with the\n",
    "**maximum total sum** of all its elements. A subsequence of an array can be\n",
    "obtained by erasing some (possibly zero) elements from the array.\n",
    "\n",
    "Note that the solution with the given constraints is guaranteed to be\n",
    "**unique**. Also return the answer sorted in **non-increasing** order.\n",
    "\n",
    "\n",
    "\n",
    "**Example 1:**\n",
    "\n",
    "\n",
    "\n",
    "    Input: nums = [4,3,10,9,8]\n",
    "    Output: [10,9]\n",
    "    Explanation: The subsequences [10,9] and [10,8] are minimal such that the sum of their elements is strictly greater than the sum of elements not included, however, the subsequence [10,9] has the maximum total sum of its elements.\n",
    "\n",
    "\n",
    "**Example 2:**\n",
    "\n",
    "\n",
    "\n",
    "    Input: nums = [4,4,7,6,7]\n",
    "    Output: [7,7,6]\n",
    "    Explanation: The subsequence [7,7] has the sum of its elements equal to 14 which is not strictly greater than the sum of elements not included (14 = 4 + 4 + 6). Therefore, the subsequence [7,6,7] is the minimal satisfying the conditions. Note the subsequence has to returned in non-decreasing order.\n",
    "\n",
    "\n",
    "**Example 3:**\n",
    "\n",
    "\n",
    "\n",
    "    Input: nums = [6]\n",
    "    Output: [6]\n",
    "\n",
    "\n",
    "\n",
    "\n",
    "**Constraints:**\n",
    "\n",
    "  * `1 <= nums.length <= 500`\n",
    "  * `1 <= nums[i] <= 100`"
   ],
   "metadata": {}
  },
  {
   "outputs": [
    {
     "output_type": "execute_result",
     "data": {
      "text/plain": "min_subsequence (generic function with 1 method)"
     },
     "metadata": {},
     "execution_count": 1
    }
   ],
   "cell_type": "code",
   "source": [
    "# @lc code=start\n",
    "using LeetCode\n",
    "function min_subsequence(nums::Vector{Int})\n",
    "    sort!(nums; rev=true)\n",
    "    half = sum(nums) >> 1\n",
    "    res, total = Int[], 0\n",
    "    for num in nums\n",
    "        total += num\n",
    "        push!(res, num)\n",
    "        total > half && return res\n",
    "    end\n",
    "end\n",
    "\n",
    "# @lc code=end"
   ],
   "metadata": {},
   "execution_count": 1
  },
  {
   "cell_type": "markdown",
   "source": [
    "---\n",
    "\n",
    "*This notebook was generated using [Literate.jl](https://github.com/fredrikekre/Literate.jl).*"
   ],
   "metadata": {}
  }
 ],
 "nbformat_minor": 3,
 "metadata": {
  "language_info": {
   "file_extension": ".jl",
   "mimetype": "application/julia",
   "name": "julia",
   "version": "1.8.2"
  },
  "kernelspec": {
   "name": "julia-1.8",
   "display_name": "Julia 1.8.2",
   "language": "julia"
  }
 },
 "nbformat": 4
}
