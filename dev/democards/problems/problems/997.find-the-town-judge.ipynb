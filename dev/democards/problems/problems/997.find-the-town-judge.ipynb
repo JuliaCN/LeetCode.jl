{
 "cells": [
  {
   "cell_type": "markdown",
   "source": [
    "In a town, there are `N` people labelled from `1` to `N`.  There is a rumor\n",
    "that one of these people is secretly the town judge.\n",
    "\n",
    "If the town judge exists, then:\n",
    "\n",
    "  1. The town judge trusts nobody.\n",
    "  2. Everybody (except for the town judge) trusts the town judge.\n",
    "  3. There is exactly one person that satisfies properties 1 and 2.\n",
    "\n",
    "You are given `trust`, an array of pairs `trust[i] = [a, b]` representing that\n",
    "the person labelled `a` trusts the person labelled `b`.\n",
    "\n",
    "If the town judge exists and can be identified, return the label of the town\n",
    "judge.  Otherwise, return `-1`.\n",
    "\n",
    "\n",
    "\n",
    "**Example 1:**\n",
    "\n",
    "\n",
    "\n",
    "    Input: N = 2, trust = [[1,2]]\n",
    "    Output: 2\n",
    "\n",
    "\n",
    "**Example 2:**\n",
    "\n",
    "\n",
    "\n",
    "    Input: N = 3, trust = [[1,3],[2,3]]\n",
    "    Output: 3\n",
    "\n",
    "\n",
    "**Example 3:**\n",
    "\n",
    "\n",
    "\n",
    "    Input: N = 3, trust = [[1,3],[2,3],[3,1]]\n",
    "    Output: -1\n",
    "\n",
    "\n",
    "**Example 4:**\n",
    "\n",
    "\n",
    "\n",
    "    Input: N = 3, trust = [[1,2],[2,3]]\n",
    "    Output: -1\n",
    "\n",
    "\n",
    "**Example 5:**\n",
    "\n",
    "\n",
    "\n",
    "    Input: N = 4, trust = [[1,3],[1,4],[2,3],[2,4],[4,3]]\n",
    "    Output: 3\n",
    "\n",
    "\n",
    "\n",
    "\n",
    "**Constraints:**\n",
    "\n",
    "  * `1 <= N <= 1000`\n",
    "  * `0 <= trust.length <= 10^4`\n",
    "  * `trust[i].length == 2`\n",
    "  * `trust[i]` are all different\n",
    "  * `trust[i][0] != trust[i][1]`\n",
    "  * `1 <= trust[i][0], trust[i][1] <= N`"
   ],
   "metadata": {}
  },
  {
   "outputs": [
    {
     "output_type": "execute_result",
     "data": {
      "text/plain": "find_judge (generic function with 1 method)"
     },
     "metadata": {},
     "execution_count": 1
    }
   ],
   "cell_type": "code",
   "source": [
    "# @lc code=start\n",
    "using LeetCode\n",
    "\n",
    "function find_judge(N::Int, trust::Vector{Vector{Int}})\n",
    "    cnt = fill(0, N)\n",
    "    for t in trust\n",
    "        cnt[t[1]] -= 1\n",
    "        cnt[t[2]] += 1\n",
    "    end\n",
    "    res = findfirst(==(N - 1), cnt)\n",
    "    return isnothing(res) ? -1 : res\n",
    "end\n",
    "# @lc code=end"
   ],
   "metadata": {},
   "execution_count": 1
  },
  {
   "cell_type": "markdown",
   "source": [
    "---\n",
    "\n",
    "*This notebook was generated using [Literate.jl](https://github.com/fredrikekre/Literate.jl).*"
   ],
   "metadata": {}
  }
 ],
 "nbformat_minor": 3,
 "metadata": {
  "language_info": {
   "file_extension": ".jl",
   "mimetype": "application/julia",
   "name": "julia",
   "version": "1.9.1"
  },
  "kernelspec": {
   "name": "julia-1.9",
   "display_name": "Julia 1.9.1",
   "language": "julia"
  }
 },
 "nbformat": 4
}
