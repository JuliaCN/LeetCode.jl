{
 "cells": [
  {
   "cell_type": "markdown",
   "source": [
    "In a binary tree, the root node is at depth `0`, and children of each depth\n",
    "`k` node are at depth `k+1`.\n",
    "\n",
    "Two nodes of a binary tree are _cousins_ if they have the same depth, but have\n",
    "**different parents**.\n",
    "\n",
    "We are given the `root` of a binary tree with unique values, and the values\n",
    "`x` and `y` of two different nodes in the tree.\n",
    "\n",
    "Return `true` if and only if the nodes corresponding to the values `x` and `y`\n",
    "are cousins.\n",
    "\n",
    "\n",
    "\n",
    "**Example 1:\n",
    "![](https://assets.leetcode.com/uploads/2019/02/12/q1248-01.png)**\n",
    "\n",
    "\n",
    "\n",
    "    Input: root = [1,2,3,4], x = 4, y = 3\n",
    "    Output: false\n",
    "\n",
    "\n",
    "**Example 2:\n",
    "![](https://assets.leetcode.com/uploads/2019/02/12/q1248-02.png)**\n",
    "\n",
    "\n",
    "\n",
    "    Input: root = [1,2,3,null,4,null,5], x = 5, y = 4\n",
    "    Output: true\n",
    "\n",
    "\n",
    "**Example 3:**\n",
    "\n",
    "**![](https://assets.leetcode.com/uploads/2019/02/13/q1248-03.png)**\n",
    "\n",
    "\n",
    "\n",
    "    Input: root = [1,2,3,null,4], x = 2, y = 3\n",
    "    Output: false\n",
    "\n",
    "\n",
    "\n",
    "\n",
    "**Constraints:**\n",
    "\n",
    "  * The number of nodes in the tree will be between `2` and `100`.\n",
    "  * Each node has a unique integer value from `1` to `100`."
   ],
   "metadata": {}
  },
  {
   "outputs": [
    {
     "output_type": "execute_result",
     "data": {
      "text/plain": "is_cousins (generic function with 1 method)"
     },
     "metadata": {},
     "execution_count": 1
    }
   ],
   "cell_type": "code",
   "source": [
    "# @lc code=start\n",
    "using LeetCode\n",
    "\n",
    "function is_cousins(root::TreeNode{Int}, x, y)\n",
    "    q = NTuple{2, Union{Nothing, TreeNode}}[]\n",
    "    push!(q, (root, nothing))\n",
    "    while !isempty(q)\n",
    "        n = length(q)\n",
    "        rec_parent = TreeNode{Int}[]\n",
    "        for i in 1:n\n",
    "            cur, par = popfirst!(q)\n",
    "            if cur.val == x || cur.val == y\n",
    "                push!(rec_parent, par)\n",
    "            end\n",
    "            isnothing(cur.left) || push!(q, (cur.left, cur))\n",
    "            isnothing(cur.right) || push!(q, (cur.right, cur))\n",
    "        end\n",
    "        length(rec_parent) == 0 && continue\n",
    "        length(rec_parent) == 1 && return false\n",
    "        length(rec_parent) == 2 && return rec_parent[1] != rec_parent[2]\n",
    "    end\n",
    "end\n",
    "# @lc code=end"
   ],
   "metadata": {},
   "execution_count": 1
  },
  {
   "cell_type": "markdown",
   "source": [
    "---\n",
    "\n",
    "*This notebook was generated using [Literate.jl](https://github.com/fredrikekre/Literate.jl).*"
   ],
   "metadata": {}
  }
 ],
 "nbformat_minor": 3,
 "metadata": {
  "language_info": {
   "file_extension": ".jl",
   "mimetype": "application/julia",
   "name": "julia",
   "version": "1.10.1"
  },
  "kernelspec": {
   "name": "julia-1.10",
   "display_name": "Julia 1.10.1",
   "language": "julia"
  }
 },
 "nbformat": 4
}
