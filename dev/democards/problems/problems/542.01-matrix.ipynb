{
 "cells": [
  {
   "cell_type": "markdown",
   "source": [
    "Given a matrix consists of 0 and 1, find the distance of the nearest 0 for\n",
    "each cell.\n",
    "\n",
    "The distance between two adjacent cells is 1.\n",
    "\n",
    "\n",
    "\n",
    "**Example 1:**\n",
    "\n",
    "\n",
    "\n",
    "    Input:\n",
    "    [[0,0,0],\n",
    "     [0,1,0],\n",
    "     [0,0,0]]\n",
    "\n",
    "    Output:\n",
    "    [[0,0,0],\n",
    "     [0,1,0],\n",
    "     [0,0,0]]\n",
    "\n",
    "\n",
    "**Example 2:**\n",
    "\n",
    "\n",
    "\n",
    "    Input:\n",
    "    [[0,0,0],\n",
    "     [0,1,0],\n",
    "     [1,1,1]]\n",
    "\n",
    "    Output:\n",
    "    [[0,0,0],\n",
    "     [0,1,0],\n",
    "     [1,2,1]]\n",
    "\n",
    "\n",
    "\n",
    "\n",
    "**Note:**\n",
    "\n",
    "  1. The number of elements of the given matrix will not exceed 10,000.\n",
    "  2. There are at least one 0 in the given matrix.\n",
    "  3. The cells are adjacent in only four directions: up, down, left and right."
   ],
   "metadata": {}
  },
  {
   "outputs": [
    {
     "output_type": "execute_result",
     "data": {
      "text/plain": "update_matrix (generic function with 1 method)"
     },
     "metadata": {},
     "execution_count": 1
    }
   ],
   "cell_type": "code",
   "source": [
    "# @lc code=start\n",
    "using LeetCode\n",
    "\n",
    "function update_matrix(mat::Matrix{Int})\n",
    "    m, n = size(mat)\n",
    "    dist = fill(typemax(Int) >> 1, m, n)\n",
    "    for I in CartesianIndices(mat)\n",
    "        (mat[I] == 0) && (dist[I] = 0)\n",
    "    end\n",
    "    for i in 1:m, j in 1:n\n",
    "        (i - 1 >= 1) && (dist[i, j] = min(dist[i, j], dist[i - 1, j] + 1))\n",
    "        (j - 1 >= 1) && (dist[i, j] = min(dist[i, j], dist[i, j - 1] + 1))\n",
    "    end\n",
    "    for i in m:-1:1, j in n:-1:1\n",
    "        (i + 1 <= m) && (dist[i, j] = min(dist[i, j], dist[i + 1, j] + 1))\n",
    "        (j + 1 <= n) && (dist[i, j] = min(dist[i, j], dist[i, j + 1] + 1))\n",
    "    end\n",
    "    return dist\n",
    "end\n",
    "# @lc code=end"
   ],
   "metadata": {},
   "execution_count": 1
  },
  {
   "cell_type": "markdown",
   "source": [
    "---\n",
    "\n",
    "*This notebook was generated using [Literate.jl](https://github.com/fredrikekre/Literate.jl).*"
   ],
   "metadata": {}
  }
 ],
 "nbformat_minor": 3,
 "metadata": {
  "language_info": {
   "file_extension": ".jl",
   "mimetype": "application/julia",
   "name": "julia",
   "version": "1.8.0"
  },
  "kernelspec": {
   "name": "julia-1.8",
   "display_name": "Julia 1.8.0",
   "language": "julia"
  }
 },
 "nbformat": 4
}
