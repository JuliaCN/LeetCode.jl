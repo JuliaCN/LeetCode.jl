{
 "cells": [
  {
   "cell_type": "markdown",
   "source": [
    "Given an integer n, count the total number of digit 1 appearing in all non-\n",
    "negative integers less than or equal to n.\n",
    "\n",
    "**Example:**\n",
    "\n",
    "\n",
    "\n",
    "    Input: 13\n",
    "    Output: 6\n",
    "    Explanation: Digit 1 occurred in the following numbers: 1, 10, 11, 12, 13."
   ],
   "metadata": {}
  },
  {
   "outputs": [
    {
     "output_type": "execute_result",
     "data": {
      "text/plain": "count_digit_one (generic function with 1 method)"
     },
     "metadata": {},
     "execution_count": 1
    }
   ],
   "cell_type": "code",
   "source": [
    "# @lc code=start\n",
    "using LeetCode\n",
    "\n",
    "function count_digit_one(n::Int)::Int\n",
    "    nums = reverse!([parse(Int, i) for i in string(n + 1)])\n",
    "    res, ones = 0, count(==(1), nums)\n",
    "    for (i, num) in enumerate(nums)\n",
    "        num == 1 && (ones -= 1)\n",
    "        res += 10^(i - 1) * (num * ones + (num > 1))\n",
    "        res += i > 1 && (10^(i - 2) * (i - 1) * num)\n",
    "    end\n",
    "    return res\n",
    "end\n",
    "\n",
    "# example: reduce 21413 to 0\n",
    "# num: step => reduced num\n",
    "# 2141|4|-1: 4*2*1 + 4*0 + (4>1)*10 => 21410-1\n",
    "# 214|1|0-1: 1*1*10 + 1*1*1 + (1>1)*10 => 21400-1\n",
    "# 21|4|00-1: 4*1*100 + 4*2*10 + (4>1)*100 => 21000-1\n",
    "# 2|1|000-1: 1*0*1000 + 1*3*100 + (1>1)*1000 => 20000-1\n",
    "# |2|0000-1: 2*0*10000 + 2*4*10000 + (2>1)*10000 => 0\n",
    "\n",
    "# @lc code=end"
   ],
   "metadata": {},
   "execution_count": 1
  },
  {
   "cell_type": "markdown",
   "source": [
    "---\n",
    "\n",
    "*This notebook was generated using [Literate.jl](https://github.com/fredrikekre/Literate.jl).*"
   ],
   "metadata": {}
  }
 ],
 "nbformat_minor": 3,
 "metadata": {
  "language_info": {
   "file_extension": ".jl",
   "mimetype": "application/julia",
   "name": "julia",
   "version": "1.7.2"
  },
  "kernelspec": {
   "name": "julia-1.7",
   "display_name": "Julia 1.7.2",
   "language": "julia"
  }
 },
 "nbformat": 4
}
