{
 "cells": [
  {
   "cell_type": "markdown",
   "source": [
    "You are given an array of `k` linked-lists `lists`, each linked-list is sorted\n",
    "in ascending order.\n",
    "\n",
    "_Merge all the linked-lists into one sorted linked-list and return it._\n",
    "\n",
    "\n",
    "\n",
    "**Example 1:**\n",
    "\n",
    "\n",
    "\n",
    "    Input: lists = [[1,4,5],[1,3,4],[2,6]]\n",
    "    Output: [1,1,2,3,4,4,5,6]\n",
    "    Explanation: The linked-lists are:\n",
    "    [\n",
    "      1->4->5,\n",
    "      1->3->4,\n",
    "      2->6\n",
    "    ]\n",
    "    merging them into one sorted list:\n",
    "    1->1->2->3->4->4->5->6\n",
    "\n",
    "\n",
    "**Example 2:**\n",
    "\n",
    "\n",
    "\n",
    "    Input: lists = []\n",
    "    Output: []\n",
    "\n",
    "\n",
    "**Example 3:**\n",
    "\n",
    "\n",
    "\n",
    "    Input: lists = [[]]\n",
    "    Output: []\n",
    "\n",
    "\n",
    "\n",
    "\n",
    "**Constraints:**\n",
    "\n",
    "  * `k == lists.length`\n",
    "  * `0 <= k <= 10^4`\n",
    "  * `0 <= lists[i].length <= 500`\n",
    "  * `-10^4 <= lists[i][j] <= 10^4`\n",
    "  * `lists[i]` is sorted in **ascending order**.\n",
    "  * The sum of `lists[i].length` won't exceed `10^4`."
   ],
   "metadata": {}
  },
  {
   "outputs": [
    {
     "output_type": "execute_result",
     "data": {
      "text/plain": "merge_k_lists (generic function with 1 method)"
     },
     "metadata": {},
     "execution_count": 1
    }
   ],
   "cell_type": "code",
   "source": [
    "# @lc code=start\n",
    "using LeetCode\n",
    "\n",
    "Base.isless(l1::ListNode, l2::ListNode) = l1.val < l2.val\n",
    "\n",
    "function merge_k_lists(lists::Vector{T}) where {T<:Union{ListNode{Int},Nothing}}\n",
    "    pq = BinaryMinHeap{ListNode{Int}}()\n",
    "    for l in lists\n",
    "        isnothing(l) || push!(pq, l)\n",
    "    end\n",
    "    res = ListNode{Int}()\n",
    "    p = res\n",
    "    while !isempty(pq)\n",
    "        tp_list = pop!(pq)\n",
    "        p = p.next = tp_list\n",
    "        tp_list = tp_list.next\n",
    "        isnothing(tp_list) || push!(pq, tp_list)\n",
    "    end\n",
    "    return res.next\n",
    "end\n",
    "# @lc code=end"
   ],
   "metadata": {},
   "execution_count": 1
  },
  {
   "cell_type": "markdown",
   "source": [
    "---\n",
    "\n",
    "*This notebook was generated using [Literate.jl](https://github.com/fredrikekre/Literate.jl).*"
   ],
   "metadata": {}
  }
 ],
 "nbformat_minor": 3,
 "metadata": {
  "language_info": {
   "file_extension": ".jl",
   "mimetype": "application/julia",
   "name": "julia",
   "version": "1.9.1"
  },
  "kernelspec": {
   "name": "julia-1.9",
   "display_name": "Julia 1.9.1",
   "language": "julia"
  }
 },
 "nbformat": 4
}
