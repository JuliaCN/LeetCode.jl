{
 "cells": [
  {
   "cell_type": "markdown",
   "source": [
    "Given `n` non-negative integers representing an elevation map where the width\n",
    "of each bar is `1`, compute how much water it can trap after raining.\n",
    "\n",
    "\n",
    "\n",
    "**Example 1:**\n",
    "\n",
    "![](https://assets.leetcode.com/uploads/2018/10/22/rainwatertrap.png)\n",
    "\n",
    "\n",
    "\n",
    "    Input: height = [0,1,0,2,1,0,1,3,2,1,2,1]\n",
    "    Output: 6\n",
    "    Explanation: The above elevation map (black section) is represented by array [0,1,0,2,1,0,1,3,2,1,2,1]. In this case, 6 units of rain water (blue section) are being trapped.\n",
    "\n",
    "\n",
    "**Example 2:**\n",
    "\n",
    "\n",
    "\n",
    "    Input: height = [4,2,0,3,2,5]\n",
    "    Output: 9\n",
    "\n",
    "\n",
    "\n",
    "\n",
    "**Constraints:**\n",
    "\n",
    "  * `n == height.length`\n",
    "  * `0 <= n <= 3 * 104`\n",
    "  * `0 <= height[i] <= 105`"
   ],
   "metadata": {}
  },
  {
   "outputs": [
    {
     "output_type": "execute_result",
     "data": {
      "text/plain": "trap_rain (generic function with 1 method)"
     },
     "metadata": {},
     "execution_count": 1
    }
   ],
   "cell_type": "code",
   "source": [
    "# @lc code=start\n",
    "using LeetCode\n",
    "\n",
    "function trap_rain(height::Vector{Int})::Int\n",
    "    csum = cumsum(height)\n",
    "    pushfirst!(csum, 0)\n",
    "    max_pos = argmax(height)\n",
    "    len = length(height)\n",
    "    res = 0\n",
    "    r = 1\n",
    "    for i in 2:max_pos\n",
    "        if height[i] >= height[r]\n",
    "            res += (i > r + 1) * (height[r] * (i - r) - (csum[i] - csum[r]))\n",
    "            r = i\n",
    "        end\n",
    "    end\n",
    "    l = len\n",
    "    for j in (len - 1):-1:max_pos\n",
    "        if height[j] >= height[l]\n",
    "            res += (j < l - 1) * (height[l] * (l - j) - (csum[l + 1] - csum[j + 1]))\n",
    "            l = j\n",
    "        end\n",
    "    end\n",
    "    return res\n",
    "end\n",
    "# @lc code=end"
   ],
   "metadata": {},
   "execution_count": 1
  },
  {
   "cell_type": "markdown",
   "source": [
    "---\n",
    "\n",
    "*This notebook was generated using [Literate.jl](https://github.com/fredrikekre/Literate.jl).*"
   ],
   "metadata": {}
  }
 ],
 "nbformat_minor": 3,
 "metadata": {
  "language_info": {
   "file_extension": ".jl",
   "mimetype": "application/julia",
   "name": "julia",
   "version": "1.10.1"
  },
  "kernelspec": {
   "name": "julia-1.10",
   "display_name": "Julia 1.10.1",
   "language": "julia"
  }
 },
 "nbformat": 4
}
