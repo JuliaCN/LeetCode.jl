{
 "cells": [
  {
   "cell_type": "markdown",
   "source": [
    "Given two arrays `arr1` and `arr2`, the elements of `arr2` are distinct, and\n",
    "all elements in `arr2` are also in `arr1`.\n",
    "\n",
    "Sort the elements of `arr1` such that the relative ordering of items in `arr1`\n",
    "are the same as in `arr2`.  Elements that don't appear in `arr2` should be\n",
    "placed at the end of `arr1` in **ascending** order.\n",
    "\n",
    "\n",
    "\n",
    "**Example 1:**\n",
    "\n",
    "\n",
    "\n",
    "    Input: arr1 = [2,3,1,3,2,4,6,7,9,2,19], arr2 = [2,1,4,3,9,6]\n",
    "    Output: [2,2,2,1,4,3,3,9,6,7,19]\n",
    "\n",
    "\n",
    "\n",
    "\n",
    "**Constraints:**\n",
    "\n",
    "  * `1 <= arr1.length, arr2.length <= 1000`\n",
    "  * `0 <= arr1[i], arr2[i] <= 1000`\n",
    "  * All the elements of `arr2` are **distinct**.\n",
    "  * Each `arr2[i]` is in `arr1`."
   ],
   "metadata": {}
  },
  {
   "outputs": [
    {
     "output_type": "execute_result",
     "data": {
      "text/plain": "relative_sort_array (generic function with 1 method)"
     },
     "metadata": {},
     "execution_count": 1
    }
   ],
   "cell_type": "code",
   "source": [
    "# @lc code=start\n",
    "using LeetCode\n",
    "\n",
    "function relative_sort_array(arr1::Vector{Int}, arr2::Vector{Int})\n",
    "    res = Vector{Int}(undef, length(arr1))\n",
    "    idx = length(res)\n",
    "    dc = Dict{Int,Int}((k => 0) for k in arr2)\n",
    "    for i in arr1\n",
    "        if haskey(dc, i)\n",
    "            dc[i] += 1\n",
    "        else\n",
    "            res[idx] = i\n",
    "            idx -= 1\n",
    "        end\n",
    "    end\n",
    "    sort!(@view(res[(idx + 1):end]))\n",
    "    idx = 1\n",
    "    for item in arr2\n",
    "        res[idx:(idx + dc[item] - 1)] .= item\n",
    "        idx += dc[item]\n",
    "    end\n",
    "    return res\n",
    "end\n",
    "# @lc code=end"
   ],
   "metadata": {},
   "execution_count": 1
  },
  {
   "cell_type": "markdown",
   "source": [
    "---\n",
    "\n",
    "*This notebook was generated using [Literate.jl](https://github.com/fredrikekre/Literate.jl).*"
   ],
   "metadata": {}
  }
 ],
 "nbformat_minor": 3,
 "metadata": {
  "language_info": {
   "file_extension": ".jl",
   "mimetype": "application/julia",
   "name": "julia",
   "version": "1.11.6"
  },
  "kernelspec": {
   "name": "julia-1.11",
   "display_name": "Julia 1.11.6",
   "language": "julia"
  }
 },
 "nbformat": 4
}
