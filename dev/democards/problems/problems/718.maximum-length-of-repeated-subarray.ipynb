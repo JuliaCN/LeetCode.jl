{
 "cells": [
  {
   "cell_type": "markdown",
   "source": [
    "Given two integer arrays `A` and `B`, return the maximum length of an subarray\n",
    "that appears in both arrays.\n",
    "\n",
    "**Example 1:**\n",
    "\n",
    "\n",
    "\n",
    "    Input:\n",
    "    A: [1,2,3,2,1]\n",
    "    B: [3,2,1,4,7]\n",
    "    Output: 3\n",
    "    Explanation:\n",
    "    The repeated subarray with maximum length is [3, 2, 1].\n",
    "\n",
    "\n",
    "\n",
    "\n",
    "**Note:**\n",
    "\n",
    "  1. 1 <= len(A), len(B) <= 1000\n",
    "  2. 0 <= A[i], B[i] < 100"
   ],
   "metadata": {}
  },
  {
   "outputs": [
    {
     "output_type": "execute_result",
     "data": {
      "text/plain": "find_length718 (generic function with 1 method)"
     },
     "metadata": {},
     "execution_count": 1
    }
   ],
   "cell_type": "code",
   "source": [
    "# @lc code=start\n",
    "using LeetCode\n",
    "\n",
    "function longest_common_substring(itr1, itr2)\n",
    "    m, n = length(itr1) + 1, length(itr2) + 1\n",
    "    dp = fill(0, m, n)\n",
    "    for i in 2: m, j in 2: n\n",
    "        (itr1[i - 1] == itr2[j - 1]) && (dp[i, j] = dp[i - 1, j - 1] + 1)\n",
    "    end\n",
    "    return maximum(dp)\n",
    "end\n",
    "\n",
    "find_length718(nums1::Vector{Int}, nums2::Vector{Int}) = longest_common_substring(nums1, nums2)\n",
    "# @lc code=end"
   ],
   "metadata": {},
   "execution_count": 1
  },
  {
   "cell_type": "markdown",
   "source": [
    "---\n",
    "\n",
    "*This notebook was generated using [Literate.jl](https://github.com/fredrikekre/Literate.jl).*"
   ],
   "metadata": {}
  }
 ],
 "nbformat_minor": 3,
 "metadata": {
  "language_info": {
   "file_extension": ".jl",
   "mimetype": "application/julia",
   "name": "julia",
   "version": "1.7.0"
  },
  "kernelspec": {
   "name": "julia-1.7",
   "display_name": "Julia 1.7.0",
   "language": "julia"
  }
 },
 "nbformat": 4
}
