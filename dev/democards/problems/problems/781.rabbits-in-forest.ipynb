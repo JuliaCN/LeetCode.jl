{
 "cells": [
  {
   "cell_type": "markdown",
   "source": [
    "In a forest, each rabbit has some color. Some subset of rabbits (possibly all\n",
    "of them) tell you how many other rabbits have the same color as them. Those\n",
    "`answers` are placed in an array.\n",
    "\n",
    "Return the minimum number of rabbits that could be in the forest.\n",
    "\n",
    "\n",
    "\n",
    "    **Examples:**\n",
    "    Input: answers = [1, 1, 2]\n",
    "    Output: 5\n",
    "    Explanation:\n",
    "    The two rabbits that answered \"1\" could both be the same color, say red.\n",
    "    The rabbit than answered \"2\" can't be red or the answers would be inconsistent.\n",
    "    Say the rabbit that answered \"2\" was blue.\n",
    "    Then there should be 2 other blue rabbits in the forest that didn't answer into the array.\n",
    "    The smallest possible number of rabbits in the forest is therefore 5: 3 that answered plus 2 that didn't.\n",
    "\n",
    "    Input: answers = [10, 10, 10]\n",
    "    Output: 11\n",
    "\n",
    "    Input: answers = []\n",
    "    Output: 0\n",
    "\n",
    "\n",
    "**Note:**\n",
    "\n",
    "  1. `answers` will have length at most `1000`.\n",
    "  2. Each `answers[i]` will be an integer in the range `[0, 999]`."
   ],
   "metadata": {}
  },
  {
   "outputs": [
    {
     "output_type": "execute_result",
     "data": {
      "text/plain": "num_rabbits (generic function with 1 method)"
     },
     "metadata": {},
     "execution_count": 1
    }
   ],
   "cell_type": "code",
   "source": [
    "# @lc code=start\n",
    "using LeetCode\n",
    "\n",
    "function num_rabbits(answer::Vector{Int})\n",
    "    cnt = counter(answer)\n",
    "    res = 0\n",
    "    for (key, v) in cnt\n",
    "        res += ((v - 1) ÷ (key + 1) + 1) * (key + 1)\n",
    "    end\n",
    "    res\n",
    "end\n",
    "# @lc code=end"
   ],
   "metadata": {},
   "execution_count": 1
  },
  {
   "cell_type": "markdown",
   "source": [
    "---\n",
    "\n",
    "*This notebook was generated using [Literate.jl](https://github.com/fredrikekre/Literate.jl).*"
   ],
   "metadata": {}
  }
 ],
 "nbformat_minor": 3,
 "metadata": {
  "language_info": {
   "file_extension": ".jl",
   "mimetype": "application/julia",
   "name": "julia",
   "version": "1.5.4"
  },
  "kernelspec": {
   "name": "julia-1.5",
   "display_name": "Julia 1.5.4",
   "language": "julia"
  }
 },
 "nbformat": 4
}
