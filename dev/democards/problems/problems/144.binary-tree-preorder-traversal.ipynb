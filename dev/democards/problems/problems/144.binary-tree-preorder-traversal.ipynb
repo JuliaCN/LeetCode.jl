{
 "cells": [
  {
   "cell_type": "markdown",
   "source": [
    "Given the `root` of a binary tree, return _the preorder traversal of its nodes\n",
    "' values_.\n",
    "\n",
    "\n",
    "\n",
    "**Example 1:**\n",
    "\n",
    "![](https://assets.leetcode.com/uploads/2020/09/15/inorder_1.jpg)\n",
    "\n",
    "\n",
    "\n",
    "    Input: root = [1,null,2,3]\n",
    "    Output: [1,2,3]\n",
    "\n",
    "\n",
    "**Example 2:**\n",
    "\n",
    "\n",
    "\n",
    "    Input: root = []\n",
    "    Output: []\n",
    "\n",
    "\n",
    "**Example 3:**\n",
    "\n",
    "\n",
    "\n",
    "    Input: root = [1]\n",
    "    Output: [1]\n",
    "\n",
    "\n",
    "**Example 4:**\n",
    "\n",
    "![](https://assets.leetcode.com/uploads/2020/09/15/inorder_5.jpg)\n",
    "\n",
    "\n",
    "\n",
    "    Input: root = [1,2]\n",
    "    Output: [1,2]\n",
    "\n",
    "\n",
    "**Example 5:**\n",
    "\n",
    "![](https://assets.leetcode.com/uploads/2020/09/15/inorder_4.jpg)\n",
    "\n",
    "\n",
    "\n",
    "    Input: root = [1,null,2]\n",
    "    Output: [1,2]\n",
    "\n",
    "\n",
    "\n",
    "\n",
    "**Constraints:**\n",
    "\n",
    "  * The number of nodes in the tree is in the range `[0, 100]`.\n",
    "  * `-100 <= Node.val <= 100`\n",
    "\n",
    "\n",
    "\n",
    "**Follow up:**\n",
    "\n",
    "Recursive solution is trivial, could you do it iteratively?"
   ],
   "metadata": {}
  },
  {
   "outputs": [
    {
     "output_type": "execute_result",
     "data": {
      "text/plain": "preorder_traversal (generic function with 2 methods)"
     },
     "metadata": {},
     "execution_count": 1
    }
   ],
   "cell_type": "code",
   "source": [
    "# @lc code=start\n",
    "using LeetCode\n",
    "preorder_traversal(::Nothing) = Int[]\n",
    "function preorder_traversal(root::TreeNode)::Vector{Int}\n",
    "    res, stack = Int[], []\n",
    "    while !isempty(stack) || !isnothing(root)\n",
    "        while !isnothing(root)\n",
    "            push!(stack, root)\n",
    "            push!(res, root.val) ## preorder search\n",
    "            root = root.left\n",
    "        end\n",
    "        root = pop!(stack)\n",
    "        root = root.right\n",
    "    end\n",
    "    return res\n",
    "end\n",
    "\n",
    "##### code template for inorder traversal and preorder traversal #####\n",
    "# traversal(::Nothing) = Int[]\n",
    "# function traversal(root::TreeNode)::Vector{Int}\n",
    "#     res, stack = Int[], []\n",
    "#     while !isempty(stack) || !isnothing(root)\n",
    "#         while !isnothing(root)\n",
    "#             push!(stack, root)\n",
    "#             ## preorder traversal: put codes here\n",
    "#             root = root.left\n",
    "#         end\n",
    "#         root = pop!(stack)\n",
    "#         ## inorder traversal: put codes here\n",
    "#         root = root.right\n",
    "#     end\n",
    "#     res\n",
    "# end\n",
    "\n",
    "# @lc code=end"
   ],
   "metadata": {},
   "execution_count": 1
  },
  {
   "cell_type": "markdown",
   "source": [
    "---\n",
    "\n",
    "*This notebook was generated using [Literate.jl](https://github.com/fredrikekre/Literate.jl).*"
   ],
   "metadata": {}
  }
 ],
 "nbformat_minor": 3,
 "metadata": {
  "language_info": {
   "file_extension": ".jl",
   "mimetype": "application/julia",
   "name": "julia",
   "version": "1.11.6"
  },
  "kernelspec": {
   "name": "julia-1.11",
   "display_name": "Julia 1.11.6",
   "language": "julia"
  }
 },
 "nbformat": 4
}
