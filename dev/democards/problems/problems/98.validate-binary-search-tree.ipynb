{
 "cells": [
  {
   "cell_type": "markdown",
   "source": [
    "Given the `root` of a binary tree, _determine if it is a valid binary search\n",
    "tree (BST)_.\n",
    "\n",
    "A **valid BST** is defined as follows:\n",
    "\n",
    "  * The left subtree of a node contains only nodes with keys **less than** the node's key.\n",
    "  * The right subtree of a node contains only nodes with keys **greater than** the node's key.\n",
    "  * Both the left and right subtrees must also be binary search trees.\n",
    "\n",
    "\n",
    "\n",
    "**Example 1:**\n",
    "\n",
    "![](https://assets.leetcode.com/uploads/2020/12/01/tree1.jpg)\n",
    "\n",
    "\n",
    "\n",
    "    Input: root = [2,1,3]\n",
    "    Output: true\n",
    "\n",
    "\n",
    "**Example 2:**\n",
    "\n",
    "![](https://assets.leetcode.com/uploads/2020/12/01/tree2.jpg)\n",
    "\n",
    "\n",
    "\n",
    "    Input: root = [5,1,4,null,null,3,6]\n",
    "    Output: false\n",
    "    Explanation: The root node's value is 5 but its right child's value is 4.\n",
    "\n",
    "\n",
    "\n",
    "\n",
    "**Constraints:**\n",
    "\n",
    "  * The number of nodes in the tree is in the range `[1, 104]`.\n",
    "  * `-231 <= Node.val <= 231 - 1`"
   ],
   "metadata": {}
  },
  {
   "outputs": [
    {
     "output_type": "execute_result",
     "data": {
      "text/plain": "is_valid_BST (generic function with 1 method)"
     },
     "metadata": {},
     "execution_count": 1
    }
   ],
   "cell_type": "code",
   "source": [
    "# @lc code=start\n",
    "using LeetCode\n",
    "\n",
    "function is_valid_BST(root)\n",
    "    isnothing(root) && return true\n",
    "    arr = Int[]\n",
    "    function pre_tra(root::TreeNode{Int})\n",
    "        pre_tra(root.left)\n",
    "        push!(arr, root.val)\n",
    "        return pre_tra(root.right)\n",
    "    end\n",
    "    pre_tra(::Nothing) = nothing\n",
    "    pre_tra(root)\n",
    "    return issorted(arr; lt=!isless, rev=true)\n",
    "end\n",
    "# @lc code=end"
   ],
   "metadata": {},
   "execution_count": 1
  },
  {
   "cell_type": "markdown",
   "source": [
    "---\n",
    "\n",
    "*This notebook was generated using [Literate.jl](https://github.com/fredrikekre/Literate.jl).*"
   ],
   "metadata": {}
  }
 ],
 "nbformat_minor": 3,
 "metadata": {
  "language_info": {
   "file_extension": ".jl",
   "mimetype": "application/julia",
   "name": "julia",
   "version": "1.9.1"
  },
  "kernelspec": {
   "name": "julia-1.9",
   "display_name": "Julia 1.9.1",
   "language": "julia"
  }
 },
 "nbformat": 4
}
