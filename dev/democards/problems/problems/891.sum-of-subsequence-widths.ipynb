{
 "cells": [
  {
   "cell_type": "markdown",
   "source": [
    "Given an array of integers `A`, consider all non-empty subsequences of `A`.\n",
    "\n",
    "For any sequence S, let the  _width_  of S be the difference between the\n",
    "maximum and minimum element of S.\n",
    "\n",
    "Return the sum of the widths of all subsequences of A.\n",
    "\n",
    "As the answer may be very large, **return the answer modulo 10^9 + 7**.\n",
    "\n",
    "\n",
    "\n",
    "**Example 1:**\n",
    "\n",
    "\n",
    "\n",
    "    Input: [2,1,3]\n",
    "    Output: 6\n",
    "    Explanation: Subsequences are [1], [2], [3], [2,1], [2,3], [1,3], [2,1,3].\n",
    "    The corresponding widths are 0, 0, 0, 1, 1, 2, 2.\n",
    "    The sum of these widths is 6.\n",
    "\n",
    "\n",
    "\n",
    "\n",
    "**Note:**\n",
    "\n",
    "  * `1 <= A.length <= 20000`\n",
    "  * `1 <= A[i] <= 20000`"
   ],
   "metadata": {}
  },
  {
   "outputs": [
    {
     "output_type": "execute_result",
     "data": {
      "text/plain": "sum_subseq_widths (generic function with 1 method)"
     },
     "metadata": {},
     "execution_count": 1
    }
   ],
   "cell_type": "code",
   "source": [
    "# @lc code=start\n",
    "using LeetCode\n",
    "\n",
    "function sum_subseq_widths(A::Vector{Int})\n",
    "    MOD = Int(1e9 + 7)\n",
    "    len = length(A)\n",
    "    sort!(A)\n",
    "    pow = fill(2, len)\n",
    "    for i in 2:len\n",
    "        pow[i] = (pow[i - 1] << 1) % MOD\n",
    "    end\n",
    "    res = 0\n",
    "    for i in 2:(len - 1)\n",
    "        res += (A[i]) * ((pow[i - 1] - pow[len - i])) % MOD\n",
    "    end\n",
    "    return mod1((res + (A[end] - A[1]) * (pow[len - 1] - 1) % MOD), MOD)\n",
    "end\n",
    "# @lc code=end"
   ],
   "metadata": {},
   "execution_count": 1
  },
  {
   "cell_type": "markdown",
   "source": [
    "---\n",
    "\n",
    "*This notebook was generated using [Literate.jl](https://github.com/fredrikekre/Literate.jl).*"
   ],
   "metadata": {}
  }
 ],
 "nbformat_minor": 3,
 "metadata": {
  "language_info": {
   "file_extension": ".jl",
   "mimetype": "application/julia",
   "name": "julia",
   "version": "1.7.2"
  },
  "kernelspec": {
   "name": "julia-1.7",
   "display_name": "Julia 1.7.2",
   "language": "julia"
  }
 },
 "nbformat": 4
}
