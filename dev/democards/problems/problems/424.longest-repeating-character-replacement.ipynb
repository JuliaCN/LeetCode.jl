{
 "cells": [
  {
   "cell_type": "markdown",
   "source": [
    "Given a string `s` that consists of only uppercase English letters, you can\n",
    "perform at most `k` operations on that string.\n",
    "\n",
    "In one operation, you can choose **any** character of the string and change it\n",
    "to any other uppercase English character.\n",
    "\n",
    "Find the length of the longest sub-string containing all repeating letters you\n",
    "can get after performing the above operations.\n",
    "\n",
    "**Note:**\n",
    "Both the string's length and _k_ will not exceed 104.\n",
    "\n",
    "**Example 1:**\n",
    "\n",
    "\n",
    "\n",
    "    Input:\n",
    "    s = \"ABAB\", k = 2\n",
    "\n",
    "    Output:\n",
    "    4\n",
    "\n",
    "    Explanation:\n",
    "    Replace the two 'A's with two 'B's or vice versa.\n",
    "\n",
    "\n",
    "\n",
    "\n",
    "**Example 2:**\n",
    "\n",
    "\n",
    "\n",
    "    Input:\n",
    "    s = \"AABABBA\", k = 1\n",
    "\n",
    "    Output:\n",
    "    4\n",
    "\n",
    "    Explanation:\n",
    "    Replace the one 'A' in the middle with 'B' and form \"AABBBBA\".\n",
    "    The substring \"BBBB\" has the longest repeating letters, which is 4."
   ],
   "metadata": {}
  },
  {
   "outputs": [
    {
     "output_type": "execute_result",
     "data": {
      "text/plain": "character_replacement (generic function with 1 method)"
     },
     "metadata": {},
     "execution_count": 1
    }
   ],
   "cell_type": "code",
   "source": [
    "# @lc code=start\n",
    "using LeetCode\n",
    "\n",
    "function character_replacement(s::String, k::Int)\n",
    "    i, j, len, maxn = 1, 1, length(s), 0\n",
    "    cntr = fill(0, 26)\n",
    "    while j ≤ len\n",
    "        maxn = max(maxn, cntr[s[j] - 'A' + 1] += 1)\n",
    "        if maxn + k < j - i + 1\n",
    "            cntr[s[i] - 'A' + 1] -= 1\n",
    "            i += 1\n",
    "        end\n",
    "        j += 1\n",
    "    end\n",
    "    j - i\n",
    "end\n",
    "# @lc code=end"
   ],
   "metadata": {},
   "execution_count": 1
  },
  {
   "cell_type": "markdown",
   "source": [
    "---\n",
    "\n",
    "*This notebook was generated using [Literate.jl](https://github.com/fredrikekre/Literate.jl).*"
   ],
   "metadata": {}
  }
 ],
 "nbformat_minor": 3,
 "metadata": {
  "language_info": {
   "file_extension": ".jl",
   "mimetype": "application/julia",
   "name": "julia",
   "version": "1.9.1"
  },
  "kernelspec": {
   "name": "julia-1.9",
   "display_name": "Julia 1.9.1",
   "language": "julia"
  }
 },
 "nbformat": 4
}
