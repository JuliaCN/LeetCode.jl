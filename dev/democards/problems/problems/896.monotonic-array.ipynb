{
 "cells": [
  {
   "cell_type": "markdown",
   "source": [
    "An array is _monotonic_ if it is either monotone increasing or monotone\n",
    "decreasing.\n",
    "\n",
    "An array `A` is monotone increasing if for all `i <= j`, `A[i] <= A[j]`.  An\n",
    "array `A` is monotone decreasing if for all `i <= j`, `A[i] >= A[j]`.\n",
    "\n",
    "Return `true` if and only if the given array `A` is monotonic.\n",
    "\n",
    "\n",
    "\n",
    "**Example 1:**\n",
    "\n",
    "\n",
    "\n",
    "    Input: [1,2,2,3]\n",
    "    Output: true\n",
    "\n",
    "\n",
    "**Example 2:**\n",
    "\n",
    "\n",
    "\n",
    "    Input: [6,5,4,4]\n",
    "    Output: true\n",
    "\n",
    "\n",
    "**Example 3:**\n",
    "\n",
    "\n",
    "\n",
    "    Input: [1,3,2]\n",
    "    Output: false\n",
    "\n",
    "\n",
    "**Example 4:**\n",
    "\n",
    "\n",
    "\n",
    "    Input: [1,2,4,5]\n",
    "    Output: true\n",
    "\n",
    "\n",
    "**Example 5:**\n",
    "\n",
    "\n",
    "\n",
    "    Input: [1,1,1]\n",
    "    Output: true\n",
    "\n",
    "\n",
    "\n",
    "\n",
    "**Note:**\n",
    "\n",
    "  1. `1 <= A.length <= 50000`\n",
    "  2. `-100000 <= A[i] <= 100000`"
   ],
   "metadata": {}
  },
  {
   "outputs": [
    {
     "output_type": "execute_result",
     "data": {
      "text/plain": "is_monotonic (generic function with 1 method)"
     },
     "metadata": {},
     "execution_count": 1
    }
   ],
   "cell_type": "code",
   "source": [
    "# @lc code=start\n",
    "using LeetCode\n",
    "\n",
    "function is_monotonic(A::Vector{Int})\n",
    "    return issorted(A) || issorted(A; rev = true)\n",
    "end\n",
    "# @lc code=end"
   ],
   "metadata": {},
   "execution_count": 1
  },
  {
   "cell_type": "markdown",
   "source": [
    "---\n",
    "\n",
    "*This notebook was generated using [Literate.jl](https://github.com/fredrikekre/Literate.jl).*"
   ],
   "metadata": {}
  }
 ],
 "nbformat_minor": 3,
 "metadata": {
  "language_info": {
   "file_extension": ".jl",
   "mimetype": "application/julia",
   "name": "julia",
   "version": "1.6.0"
  },
  "kernelspec": {
   "name": "julia-1.6",
   "display_name": "Julia 1.6.0",
   "language": "julia"
  }
 },
 "nbformat": 4
}
