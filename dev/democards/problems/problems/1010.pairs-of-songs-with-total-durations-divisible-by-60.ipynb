{
 "cells": [
  {
   "cell_type": "markdown",
   "source": [
    "You are given a list of songs where the ith song has a duration of `time[i]`\n",
    "seconds.\n",
    "\n",
    "Return _the number of pairs of songs for which their total duration in seconds\n",
    "is divisible by_ `60`. Formally, we want the number of indices `i`, `j` such\n",
    "that `i < j` with `(time[i] + time[j]) % 60 == 0`.\n",
    "\n",
    "\n",
    "\n",
    "**Example 1:**\n",
    "\n",
    "\n",
    "\n",
    "    Input: time = [30,20,150,100,40]\n",
    "    Output: 3\n",
    "    Explanation: Three pairs have a total duration divisible by 60:\n",
    "    (time[0] = 30, time[2] = 150): total duration 180\n",
    "    (time[1] = 20, time[3] = 100): total duration 120\n",
    "    (time[1] = 20, time[4] = 40): total duration 60\n",
    "\n",
    "\n",
    "**Example 2:**\n",
    "\n",
    "\n",
    "\n",
    "    Input: time = [60,60,60]\n",
    "    Output: 3\n",
    "    Explanation: All three pairs have a total duration of 120, which is divisible by 60.\n",
    "\n",
    "\n",
    "\n",
    "\n",
    "**Constraints:**\n",
    "\n",
    "  * `1 <= time.length <= 6 * 104`\n",
    "  * `1 <= time[i] <= 500`"
   ],
   "metadata": {}
  },
  {
   "outputs": [
    {
     "output_type": "execute_result",
     "data": {
      "text/plain": "num_pairs_divisible_by60 (generic function with 1 method)"
     },
     "metadata": {},
     "execution_count": 1
    }
   ],
   "cell_type": "code",
   "source": [
    "# @lc code=start\n",
    "using LeetCode\n",
    "\n",
    "function num_pairs_divisible_by60(time::Vector{Int})\n",
    "    res = 0\n",
    "    dct = fill(0, 60)\n",
    "    for t in time\n",
    "        (t % 60 == 0) ? (dct[60] += 1) : (dct[t % 60] += 1)\n",
    "    end\n",
    "    for i in 1:29\n",
    "        res += dct[i] * dct[60 - i]\n",
    "    end\n",
    "    res += sum(1:(dct[30] - 1)) + sum(1:(dct[60] - 1))\n",
    "    return res\n",
    "end\n",
    "# @lc code=end"
   ],
   "metadata": {},
   "execution_count": 1
  },
  {
   "cell_type": "markdown",
   "source": [
    "---\n",
    "\n",
    "*This notebook was generated using [Literate.jl](https://github.com/fredrikekre/Literate.jl).*"
   ],
   "metadata": {}
  }
 ],
 "nbformat_minor": 3,
 "metadata": {
  "language_info": {
   "file_extension": ".jl",
   "mimetype": "application/julia",
   "name": "julia",
   "version": "1.9.1"
  },
  "kernelspec": {
   "name": "julia-1.9",
   "display_name": "Julia 1.9.1",
   "language": "julia"
  }
 },
 "nbformat": 4
}
