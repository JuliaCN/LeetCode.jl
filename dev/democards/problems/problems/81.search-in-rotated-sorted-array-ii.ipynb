{
 "cells": [
  {
   "cell_type": "markdown",
   "source": [
    "Suppose an array sorted in ascending order is rotated at some pivot unknown to\n",
    "you beforehand.\n",
    "\n",
    "(i.e., `[0,0,1,2,2,5,6]` might become `[2,5,6,0,0,1,2]`).\n",
    "\n",
    "You are given a target value to search. If found in the array return `true`,\n",
    "otherwise return `false`.\n",
    "\n",
    "**Example 1:**\n",
    "\n",
    "\n",
    "\n",
    "    Input: nums = [2,5,6,0,0,1,2], target = 0\n",
    "    Output: true\n",
    "\n",
    "\n",
    "**Example 2:**\n",
    "\n",
    "\n",
    "\n",
    "    Input: nums = [2,5,6,0,0,1,2], target = 3\n",
    "    Output: false\n",
    "\n",
    "**Follow up:**\n",
    "\n",
    "  * This is a follow up problem to [Search in Rotated Sorted Array](https://leetcode.com/problems/search-in-rotated-sorted-array/description/), where `nums` may contain duplicates.\n",
    "  * Would this affect the run-time complexity? How and why?"
   ],
   "metadata": {}
  },
  {
   "outputs": [
    {
     "output_type": "execute_result",
     "data": {
      "text/plain": "search_rotate (generic function with 1 method)"
     },
     "metadata": {},
     "execution_count": 1
    }
   ],
   "cell_type": "code",
   "source": [
    "# @lc code=start\n",
    "using LeetCode\n",
    "\n",
    "function search_rotate(nums::Vector{Int}, target::Int)::Bool\n",
    "    left, right = 1, length(nums)\n",
    "    while left <= right\n",
    "        mid = (left + right) >> 1\n",
    "        (nums[mid] == target) && return true\n",
    "        if nums[mid] == nums[left]\n",
    "            left += 1\n",
    "        elseif nums[mid] <= nums[right]\n",
    "            if nums[mid] < target <= nums[right]\n",
    "                left = mid + 1\n",
    "            else\n",
    "                right = mid - 1\n",
    "            end\n",
    "        else\n",
    "            if nums[left] <= target < nums[mid]\n",
    "                right = mid - 1\n",
    "            else\n",
    "                left = mid + 1\n",
    "            end\n",
    "        end\n",
    "    end\n",
    "\n",
    "    return false\n",
    "end\n",
    "# @lc code=end"
   ],
   "metadata": {},
   "execution_count": 1
  },
  {
   "cell_type": "markdown",
   "source": [
    "---\n",
    "\n",
    "*This notebook was generated using [Literate.jl](https://github.com/fredrikekre/Literate.jl).*"
   ],
   "metadata": {}
  }
 ],
 "nbformat_minor": 3,
 "metadata": {
  "language_info": {
   "file_extension": ".jl",
   "mimetype": "application/julia",
   "name": "julia",
   "version": "1.6.2"
  },
  "kernelspec": {
   "name": "julia-1.6",
   "display_name": "Julia 1.6.2",
   "language": "julia"
  }
 },
 "nbformat": 4
}
