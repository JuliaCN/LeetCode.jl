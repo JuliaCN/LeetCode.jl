{
 "cells": [
  {
   "cell_type": "markdown",
   "source": [
    "Given the `root` of a binary tree with `N` nodes, each `node` in the tree has\n",
    "`node.val` coins, and there are `N` coins total.\n",
    "\n",
    "In one move, we may choose two adjacent nodes and move one coin from one node\n",
    "to another.  (The move may be from parent to child, or from child to parent.)\n",
    "\n",
    "Return the number of moves required to make every node have exactly one coin.\n",
    "\n",
    "\n",
    "\n",
    "**Example 1:**\n",
    "\n",
    "**![](https://assets.leetcode.com/uploads/2019/01/18/tree1.png)**\n",
    "\n",
    "\n",
    "\n",
    "    Input: [3,0,0]\n",
    "    Output: 2\n",
    "    Explanation: From the root of the tree, we move one coin to its left child, and one coin to its right child.\n",
    "\n",
    "\n",
    "**Example 2:**\n",
    "\n",
    "**![](https://assets.leetcode.com/uploads/2019/01/18/tree2.png)**\n",
    "\n",
    "\n",
    "\n",
    "    Input: [0,3,0]\n",
    "    Output: 3\n",
    "    Explanation: From the left child of the root, we move two coins to the root [taking two moves].  Then, we move one coin from the root of the tree to the right child.\n",
    "\n",
    "\n",
    "**Example 3:**\n",
    "\n",
    "**![](https://assets.leetcode.com/uploads/2019/01/18/tree3.png)**\n",
    "\n",
    "\n",
    "\n",
    "    Input: [1,0,2]\n",
    "    Output: 2\n",
    "\n",
    "\n",
    "**Example 4:**\n",
    "\n",
    "**![](https://assets.leetcode.com/uploads/2019/01/18/tree4.png)**\n",
    "\n",
    "\n",
    "\n",
    "    Input: [1,0,0,null,3]\n",
    "    Output: 4\n",
    "\n",
    "\n",
    "\n",
    "\n",
    "**Note:**\n",
    "\n",
    "  1. `1<= N <= 100`\n",
    "  2. `0 <= node.val <= N`"
   ],
   "metadata": {}
  },
  {
   "outputs": [
    {
     "output_type": "execute_result",
     "data": {
      "text/plain": "distribute_coins (generic function with 1 method)"
     },
     "metadata": {},
     "execution_count": 1
    }
   ],
   "cell_type": "code",
   "source": [
    "# @lc code=start\n",
    "using LeetCode\n",
    "\n",
    "function distribute_coins(root::TreeNode{Int})\n",
    "    dfs(::Nothing) = 0\n",
    "    function dfs(root::TreeNode{Int})\n",
    "        l = dfs(root.left)\n",
    "        r = dfs(root.right)\n",
    "        res = res + abs(l) + abs(r)\n",
    "        root.val + l + r - 1\n",
    "    end\n",
    "    res = 0\n",
    "    dfs(root)\n",
    "    res\n",
    "end\n",
    "# @lc code=end"
   ],
   "metadata": {},
   "execution_count": 1
  },
  {
   "cell_type": "markdown",
   "source": [
    "---\n",
    "\n",
    "*This notebook was generated using [Literate.jl](https://github.com/fredrikekre/Literate.jl).*"
   ],
   "metadata": {}
  }
 ],
 "nbformat_minor": 3,
 "metadata": {
  "language_info": {
   "file_extension": ".jl",
   "mimetype": "application/julia",
   "name": "julia",
   "version": "1.6.2"
  },
  "kernelspec": {
   "name": "julia-1.6",
   "display_name": "Julia 1.6.2",
   "language": "julia"
  }
 },
 "nbformat": 4
}
