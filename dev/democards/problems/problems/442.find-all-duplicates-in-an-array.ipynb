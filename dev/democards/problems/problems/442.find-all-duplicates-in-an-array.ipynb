{
 "cells": [
  {
   "cell_type": "markdown",
   "source": [
    "Given an array of integers, 1 ≤ a[i] ≤ _n_ ( _n_ = size of array), some\n",
    "elements appear **twice** and others appear **once**.\n",
    "\n",
    "Find all the elements that appear **twice** in this array.\n",
    "\n",
    "Could you do it without extra space and in O( _n_ ) runtime?\n",
    "\n",
    "**Example:**\n",
    "\n",
    "\n",
    "\n",
    "    Input:\n",
    "    [4,3,2,7,8,2,3,1]\n",
    "\n",
    "    Output:\n",
    "    [2,3]"
   ],
   "metadata": {}
  },
  {
   "outputs": [
    {
     "output_type": "execute_result",
     "data": {
      "text/plain": "find_duplicates_442 (generic function with 1 method)"
     },
     "metadata": {},
     "execution_count": 1
    }
   ],
   "cell_type": "code",
   "source": [
    "# @lc code=start\n",
    "using LeetCode\n",
    "\n",
    "function find_duplicates_442(nums::Vector{Int})\n",
    "    res = Int[]\n",
    "    for num in nums\n",
    "        absn = abs(num)\n",
    "        nums[absn] < 0 ? push!(res, absn) : (nums[absn] = -nums[absn])\n",
    "    end\n",
    "    return res\n",
    "end\n",
    "# @lc code=end"
   ],
   "metadata": {},
   "execution_count": 1
  },
  {
   "cell_type": "markdown",
   "source": [
    "---\n",
    "\n",
    "*This notebook was generated using [Literate.jl](https://github.com/fredrikekre/Literate.jl).*"
   ],
   "metadata": {}
  }
 ],
 "nbformat_minor": 3,
 "metadata": {
  "language_info": {
   "file_extension": ".jl",
   "mimetype": "application/julia",
   "name": "julia",
   "version": "1.7.2"
  },
  "kernelspec": {
   "name": "julia-1.7",
   "display_name": "Julia 1.7.2",
   "language": "julia"
  }
 },
 "nbformat": 4
}
