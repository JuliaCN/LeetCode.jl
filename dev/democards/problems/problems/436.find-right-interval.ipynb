{
 "cells": [
  {
   "cell_type": "markdown",
   "source": [
    "You are given an array of `intervals`, where `intervals[i] = [starti, endi]`\n",
    "and each `starti` is **unique**.\n",
    "\n",
    "The **r** **ight** **  interval** for an interval `i` is an interval `j` such\n",
    "that `startj`` >= endi` and `startj` is  **minimized**.\n",
    "\n",
    "Return  _an array of   **right interval**  indices for each interval `i`_. If\n",
    "no  **right interval**  exists for interval `i`, then put `-1` at index `i`.\n",
    "\n",
    "\n",
    "\n",
    "**Example 1:**\n",
    "\n",
    "\n",
    "\n",
    "    Input: intervals = [[1,2]]\n",
    "    Output: [-1]\n",
    "    Explanation: There is only one interval in the collection, so it outputs -1.\n",
    "\n",
    "\n",
    "**Example 2:**\n",
    "\n",
    "\n",
    "\n",
    "    Input: intervals = [[3,4],[2,3],[1,2]]\n",
    "    Output: [-1,0,1]\n",
    "    Explanation: There is no right interval for [3,4].\n",
    "    The right interval for [2,3] is [3,4] since start0 = 3 is the smallest start that is >= end1 = 3.\n",
    "    The right interval for [1,2] is [2,3] since start1 = 2 is the smallest start that is >= end2 = 2.\n",
    "\n",
    "\n",
    "**Example 3:**\n",
    "\n",
    "\n",
    "\n",
    "    Input: intervals = [[1,4],[2,3],[3,4]]\n",
    "    Output: [-1,2,-1]\n",
    "    Explanation: There is no right interval for [1,4] and [3,4].\n",
    "    The right interval for [2,3] is [3,4] since start2 = 3 is the smallest start that is >= end1 = 3.\n",
    "\n",
    "\n",
    "\n",
    "\n",
    "**Constraints:**\n",
    "\n",
    "  * `1 <= intervals.length <= 2 * 104`\n",
    "  * `intervals[i].length == 2`\n",
    "  * `-106 <= starti <= endi <= 106`\n",
    "  * The start point of each interval is **unique**."
   ],
   "metadata": {}
  },
  {
   "outputs": [
    {
     "output_type": "execute_result",
     "data": {
      "text/plain": "find_right_interval (generic function with 1 method)"
     },
     "metadata": {},
     "execution_count": 1
    }
   ],
   "cell_type": "code",
   "source": [
    "# @lc code=start\n",
    "using LeetCode\n",
    "\n",
    "function find_right_interval(intervals::Vector{Tuple{Int,Int}})\n",
    "    perm = sortperm(intervals; by = x -> x[1])\n",
    "    maxb = intervals[perm[end]][1]\n",
    "    res = fill(0, length(intervals))\n",
    "    for (idx, intv) in intervals |> enumerate\n",
    "        res[idx] = intv[2] > maxb ? -1 : searchsortedfirst(perm, intv[2]; by = i -> intervals[i][1])\n",
    "    end\n",
    "    return res\n",
    "end\n",
    "# @lc code=end"
   ],
   "metadata": {},
   "execution_count": 1
  },
  {
   "cell_type": "markdown",
   "source": [
    "---\n",
    "\n",
    "*This notebook was generated using [Literate.jl](https://github.com/fredrikekre/Literate.jl).*"
   ],
   "metadata": {}
  }
 ],
 "nbformat_minor": 3,
 "metadata": {
  "language_info": {
   "file_extension": ".jl",
   "mimetype": "application/julia",
   "name": "julia",
   "version": "1.7.3"
  },
  "kernelspec": {
   "name": "julia-1.7",
   "display_name": "Julia 1.7.3",
   "language": "julia"
  }
 },
 "nbformat": 4
}
