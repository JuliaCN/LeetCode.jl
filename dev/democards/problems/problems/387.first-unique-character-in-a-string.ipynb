{
 "cells": [
  {
   "cell_type": "markdown",
   "source": [
    "Given a string, find the first non-repeating character in it and return its\n",
    "index. If it doesn't exist, return -1.\n",
    "\n",
    "**Examples:**\n",
    "\n",
    "\n",
    "\n",
    "    s = \"leetcode\"\n",
    "    return 0.\n",
    "\n",
    "    s = \"loveleetcode\"\n",
    "    return 2.\n",
    "\n",
    "\n",
    "\n",
    "\n",
    "**Note:** You may assume the string contains only lowercase English letters."
   ],
   "metadata": {}
  },
  {
   "outputs": [
    {
     "output_type": "execute_result",
     "data": {
      "text/plain": "first_unique_char (generic function with 1 method)"
     },
     "metadata": {},
     "execution_count": 1
    }
   ],
   "cell_type": "code",
   "source": [
    "# @lc code=start\n",
    "using LeetCode\n",
    "\n",
    "function first_unique_char(s::String)::Int\n",
    "    table = Dict{Char,Bool}()\n",
    "    for i in s\n",
    "        table[i] = !haskey(table, i)\n",
    "    end\n",
    "    for (i, st) in enumerate(s)\n",
    "        table[st] && return i\n",
    "    end\n",
    "    -1\n",
    "end\n",
    "\n",
    "# @lc code=end"
   ],
   "metadata": {},
   "execution_count": 1
  },
  {
   "cell_type": "markdown",
   "source": [
    "---\n",
    "\n",
    "*This notebook was generated using [Literate.jl](https://github.com/fredrikekre/Literate.jl).*"
   ],
   "metadata": {}
  }
 ],
 "nbformat_minor": 3,
 "metadata": {
  "language_info": {
   "file_extension": ".jl",
   "mimetype": "application/julia",
   "name": "julia",
   "version": "1.7.3"
  },
  "kernelspec": {
   "name": "julia-1.7",
   "display_name": "Julia 1.7.3",
   "language": "julia"
  }
 },
 "nbformat": 4
}
