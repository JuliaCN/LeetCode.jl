{
 "cells": [
  {
   "cell_type": "markdown",
   "source": [
    "Given a non-negative integer  _numRows_ , generate the first _numRows_ of\n",
    "Pascal's triangle.\n",
    "\n",
    "![](https://upload.wikimedia.org/wikipedia/commons/0/0d/PascalTriangleAnimated2.gif)\n",
    "In Pascal's triangle, each number is the sum of the two numbers directly above\n",
    "it.\n",
    "\n",
    "**Example:**\n",
    "\n",
    "\n",
    "\n",
    "    Input: 5\n",
    "    Output:\n",
    "    [\n",
    "         [1],\n",
    "        [1,1],\n",
    "       [1,2,1],\n",
    "      [1,3,3,1],\n",
    "     [1,4,6,4,1]\n",
    "    ]"
   ],
   "metadata": {}
  },
  {
   "outputs": [
    {
     "output_type": "execute_result",
     "data": {
      "text/plain": "pascals_triangle (generic function with 1 method)"
     },
     "metadata": {},
     "execution_count": 1
    }
   ],
   "cell_type": "code",
   "source": [
    "# @lc code=start\n",
    "using LeetCode\n",
    "\n",
    "pascals_triangle(numRows::Int) = [[binomial(k, i) for i in 0:k] for k in 0:(numRows - 1)]\n",
    "# @lc code=end"
   ],
   "metadata": {},
   "execution_count": 1
  },
  {
   "cell_type": "markdown",
   "source": [
    "---\n",
    "\n",
    "*This notebook was generated using [Literate.jl](https://github.com/fredrikekre/Literate.jl).*"
   ],
   "metadata": {}
  }
 ],
 "nbformat_minor": 3,
 "metadata": {
  "language_info": {
   "file_extension": ".jl",
   "mimetype": "application/julia",
   "name": "julia",
   "version": "1.11.6"
  },
  "kernelspec": {
   "name": "julia-1.11",
   "display_name": "Julia 1.11.6",
   "language": "julia"
  }
 },
 "nbformat": 4
}
