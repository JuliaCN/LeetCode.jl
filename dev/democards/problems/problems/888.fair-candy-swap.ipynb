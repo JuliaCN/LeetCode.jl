{
 "cells": [
  {
   "cell_type": "markdown",
   "source": [
    "Alice and Bob have candy bars of different sizes: `A[i]` is the size of the\n",
    "`i`-th bar of candy that Alice has, and `B[j]` is the size of the `j`-th bar\n",
    "of candy that Bob has.\n",
    "\n",
    "Since they are friends, they would like to exchange one candy bar each so that\n",
    "after the exchange, they both have the same total amount of candy.  ( _The\n",
    "total amount of candy  a person has is the sum of the sizes of candy bars they\n",
    "have._)\n",
    "\n",
    "Return an integer array `ans` where `ans[0]` is the size of the candy bar that\n",
    "Alice must exchange, and `ans[1]` is the size of the candy bar that Bob must\n",
    "exchange.\n",
    "\n",
    "If there are multiple answers, you may return any one of them.  It is\n",
    "guaranteed an answer exists.\n",
    "\n",
    "\n",
    "\n",
    "**Example 1:**\n",
    "\n",
    "\n",
    "\n",
    "    Input: A = [1,1], B = [2,2]\n",
    "    Output: [1,2]\n",
    "\n",
    "\n",
    "**Example 2:**\n",
    "\n",
    "\n",
    "\n",
    "    Input: A = [1,2], B = [2,3]\n",
    "    Output: [1,2]\n",
    "\n",
    "\n",
    "**Example 3:**\n",
    "\n",
    "\n",
    "\n",
    "    Input: A = [2], B = [1,3]\n",
    "    Output: [2,3]\n",
    "\n",
    "\n",
    "**Example 4:**\n",
    "\n",
    "\n",
    "\n",
    "    Input: A = [1,2,5], B = [2,4]\n",
    "    Output: [5,4]\n",
    "\n",
    "\n",
    "\n",
    "\n",
    "**Note:**\n",
    "\n",
    "  * `1 <= A.length <= 10000`\n",
    "  * `1 <= B.length <= 10000`\n",
    "  * `1 <= A[i] <= 100000`\n",
    "  * `1 <= B[i] <= 100000`\n",
    "  * It is guaranteed that Alice and Bob have different total amounts of candy.\n",
    "  * It is guaranteed there exists an answer."
   ],
   "metadata": {}
  },
  {
   "outputs": [
    {
     "output_type": "execute_result",
     "data": {
      "text/plain": "fair_candy_swap (generic function with 1 method)"
     },
     "metadata": {},
     "execution_count": 1
    }
   ],
   "cell_type": "code",
   "source": [
    "# @lc code=start\n",
    "using LeetCode\n",
    "\n",
    "function fair_candy_swap(A::Vector{Int}, B::Vector{Int})\n",
    "    set_a, set_b = Set(A), Set(B)\n",
    "    dif = (sum(A) - sum(B)) ÷ 2\n",
    "    for num_a in set_a\n",
    "        if (num_a - dif) in set_b\n",
    "            return [num_a, num_a - dif]\n",
    "        end\n",
    "    end\n",
    "    Int[]\n",
    "end\n",
    "# @lc code=end"
   ],
   "metadata": {},
   "execution_count": 1
  },
  {
   "cell_type": "markdown",
   "source": [
    "---\n",
    "\n",
    "*This notebook was generated using [Literate.jl](https://github.com/fredrikekre/Literate.jl).*"
   ],
   "metadata": {}
  }
 ],
 "nbformat_minor": 3,
 "metadata": {
  "language_info": {
   "file_extension": ".jl",
   "mimetype": "application/julia",
   "name": "julia",
   "version": "1.6.1"
  },
  "kernelspec": {
   "name": "julia-1.6",
   "display_name": "Julia 1.6.1",
   "language": "julia"
  }
 },
 "nbformat": 4
}
