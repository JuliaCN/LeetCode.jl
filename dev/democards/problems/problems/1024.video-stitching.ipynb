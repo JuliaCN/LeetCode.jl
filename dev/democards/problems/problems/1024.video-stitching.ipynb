{
 "cells": [
  {
   "cell_type": "markdown",
   "source": [
    "You are given a series of video clips from a sporting event that lasted `T`\n",
    "seconds.  These video clips can be overlapping with each other and have varied\n",
    "lengths.\n",
    "\n",
    "Each video clip `clips[i]` is an interval: it starts at time `clips[i][0]` and\n",
    "ends at time `clips[i][1]`.  We can cut these clips into segments freely: for\n",
    "example, a clip `[0, 7]` can be cut into segments `[0, 1] + [1, 3] + [3, 7]`.\n",
    "\n",
    "Return the minimum number of clips needed so that we can cut the clips into\n",
    "segments that cover the entire sporting event (`[0, T]`).  If the task is\n",
    "impossible, return `-1`.\n",
    "\n",
    "\n",
    "\n",
    "**Example 1:**\n",
    "\n",
    "\n",
    "\n",
    "    Input: clips = [[0,2],[4,6],[8,10],[1,9],[1,5],[5,9]], T = 10\n",
    "    Output: 3\n",
    "    Explanation:\n",
    "    We take the clips [0,2], [8,10], [1,9]; a total of 3 clips.\n",
    "    Then, we can reconstruct the sporting event as follows:\n",
    "    We cut [1,9] into segments [1,2] + [2,8] + [8,9].\n",
    "    Now we have segments [0,2] + [2,8] + [8,10] which cover the sporting event [0, 10].\n",
    "\n",
    "\n",
    "**Example 2:**\n",
    "\n",
    "\n",
    "\n",
    "    Input: clips = [[0,1],[1,2]], T = 5\n",
    "    Output: -1\n",
    "    Explanation:\n",
    "    We can't cover [0,5] with only [0,1] and [1,2].\n",
    "\n",
    "\n",
    "**Example 3:**\n",
    "\n",
    "\n",
    "\n",
    "    Input: clips = [[0,1],[6,8],[0,2],[5,6],[0,4],[0,3],[6,7],[1,3],[4,7],[1,4],[2,5],[2,6],[3,4],[4,5],[5,7],[6,9]], T = 9\n",
    "    Output: 3\n",
    "    Explanation:\n",
    "    We can take clips [0,4], [4,7], and [6,9].\n",
    "\n",
    "\n",
    "**Example 4:**\n",
    "\n",
    "\n",
    "\n",
    "    Input: clips = [[0,4],[2,8]], T = 5\n",
    "    Output: 2\n",
    "    Explanation:\n",
    "    Notice you can have extra video after the event ends.\n",
    "\n",
    "\n",
    "\n",
    "\n",
    "**Constraints:**\n",
    "\n",
    "  * `1 <= clips.length <= 100`\n",
    "  * `0 <= clips[i][0] <= clips[i][1] <= 100`\n",
    "  * `0 <= T <= 100`"
   ],
   "metadata": {}
  },
  {
   "outputs": [
    {
     "output_type": "execute_result",
     "data": {
      "text/plain": "video_stitching (generic function with 1 method)"
     },
     "metadata": {},
     "execution_count": 1
    }
   ],
   "cell_type": "code",
   "source": [
    "# @lc code=start\n",
    "using LeetCode\n",
    "\n",
    "function video_stitching(clips::Vector{Vector{Int}}, time::Int)\n",
    "    max_next = fill(0, time)\n",
    "    last, prev, res = 1, 1, 0\n",
    "    for it in clips\n",
    "        max_next[it[1] + 1] = max(max_next[it[1] + 1], it[2] + 1)\n",
    "    end\n",
    "    for i in 1:time\n",
    "        last = max(last, max_next[i])\n",
    "        i == last && return -1\n",
    "        if i == prev\n",
    "            res += 1\n",
    "            prev = last\n",
    "        end\n",
    "    end\n",
    "    return res\n",
    "end\n",
    "# @lc code=end"
   ],
   "metadata": {},
   "execution_count": 1
  },
  {
   "cell_type": "markdown",
   "source": [
    "---\n",
    "\n",
    "*This notebook was generated using [Literate.jl](https://github.com/fredrikekre/Literate.jl).*"
   ],
   "metadata": {}
  }
 ],
 "nbformat_minor": 3,
 "metadata": {
  "language_info": {
   "file_extension": ".jl",
   "mimetype": "application/julia",
   "name": "julia",
   "version": "1.11.6"
  },
  "kernelspec": {
   "name": "julia-1.11",
   "display_name": "Julia 1.11.6",
   "language": "julia"
  }
 },
 "nbformat": 4
}
