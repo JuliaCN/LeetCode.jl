{
 "cells": [
  {
   "cell_type": "markdown",
   "source": [
    "Given an array of integers `A`, find the sum of `min(B)`, where `B` ranges\n",
    "over every (contiguous) subarray of `A`.\n",
    "\n",
    "Since the answer may be large, **return the answer modulo`10^9 + 7`.**\n",
    "\n",
    "\n",
    "\n",
    "**Example 1:**\n",
    "\n",
    "\n",
    "\n",
    "    Input: [3,1,2,4]\n",
    "    Output: 17\n",
    "    Explanation: Subarrays are [3], [1], [2], [4], [3,1], [1,2], [2,4], [3,1,2], [1,2,4], [3,1,2,4].\n",
    "    Minimums are 3, 1, 2, 4, 1, 1, 2, 1, 1, 1.  Sum is 17.\n",
    "\n",
    "\n",
    "\n",
    "**Note:**\n",
    "\n",
    "  1. `1 <= A.length <= 30000`\n",
    "  2. `1 <= A[i] <= 30000`\n",
    "\n",
    "\n",
    "\n",
    "\n",
    "\n",
    "**Example 1:**\n",
    "\n",
    "\n",
    "\n",
    "    Input: arr = [3,1,2,4]\n",
    "    Output: 17\n",
    "    Explanation:\n",
    "    Subarrays are [3], [1], [2], [4], [3,1], [1,2], [2,4], [3,1,2], [1,2,4], [3,1,2,4].\n",
    "    Minimums are 3, 1, 2, 4, 1, 1, 2, 1, 1, 1.\n",
    "    Sum is 17.\n",
    "\n",
    "\n",
    "**Example 2:**\n",
    "\n",
    "\n",
    "\n",
    "    Input: arr = [11,81,94,43,3]\n",
    "    Output: 444\n",
    "\n",
    "\n",
    "\n",
    "\n",
    "**Constraints:**\n",
    "\n",
    "  * `1 <= arr.length <= 3 * 104`\n",
    "  * `1 <= arr[i] <= 3 * 104`"
   ],
   "metadata": {}
  },
  {
   "outputs": [
    {
     "output_type": "execute_result",
     "data": {
      "text/plain": "sum_subarray_mins (generic function with 1 method)"
     },
     "metadata": {},
     "execution_count": 1
    }
   ],
   "cell_type": "code",
   "source": [
    "# @lc code=start\n",
    "using LeetCode\n",
    "\n",
    "function sum_subarray_mins(arr::Vector{Int})\n",
    "    csum, res, md = 0, 0, Int(1e9) + 7\n",
    "    stk = Int[]\n",
    "    for i in eachindex(arr)\n",
    "        while !isempty(stk) && arr[stk[end]] >= arr[i]\n",
    "            tp = pop!(stk)\n",
    "            ntop = isempty(stk) ? 0 : stk[end]\n",
    "            csum += (arr[i] - arr[tp]) * (tp - ntop);\n",
    "        end\n",
    "        csum += arr[i]\n",
    "        push!(stk, i)\n",
    "        res += csum\n",
    "    end\n",
    "    return res % md\n",
    "end\n",
    "# @lc code=end"
   ],
   "metadata": {},
   "execution_count": 1
  },
  {
   "cell_type": "markdown",
   "source": [
    "---\n",
    "\n",
    "*This notebook was generated using [Literate.jl](https://github.com/fredrikekre/Literate.jl).*"
   ],
   "metadata": {}
  }
 ],
 "nbformat_minor": 3,
 "metadata": {
  "language_info": {
   "file_extension": ".jl",
   "mimetype": "application/julia",
   "name": "julia",
   "version": "1.8.2"
  },
  "kernelspec": {
   "name": "julia-1.8",
   "display_name": "Julia 1.8.2",
   "language": "julia"
  }
 },
 "nbformat": 4
}
