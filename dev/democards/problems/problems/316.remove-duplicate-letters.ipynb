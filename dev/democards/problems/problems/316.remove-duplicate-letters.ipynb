{
 "cells": [
  {
   "cell_type": "markdown",
   "source": [
    "Given a string `s`, remove duplicate letters so that every letter appears once\n",
    "and only once. You must make sure your result is **the smallest in\n",
    "lexicographical order** among all possible results.\n",
    "\n",
    "**Note:** This question is the same as 1081:\n",
    "<https://leetcode.comhttps://leetcode.com/problems/smallest-subsequence-of-distinct-characters/>\n",
    "\n",
    "\n",
    "\n",
    "**Example 1:**\n",
    "\n",
    "\n",
    "\n",
    "    Input: s = \"bcabc\"\n",
    "    Output: \"abc\"\n",
    "\n",
    "\n",
    "**Example 2:**\n",
    "\n",
    "\n",
    "\n",
    "    Input: s = \"cbacdcbc\"\n",
    "    Output: \"acdb\"\n",
    "\n",
    "\n",
    "\n",
    "\n",
    "**Constraints:**\n",
    "\n",
    "  * `1 <= s.length <= 104`\n",
    "  * `s` consists of lowercase English letters."
   ],
   "metadata": {}
  },
  {
   "outputs": [
    {
     "output_type": "execute_result",
     "data": {
      "text/plain": "remove_duplicate_letters (generic function with 1 method)"
     },
     "metadata": {},
     "execution_count": 1
    }
   ],
   "cell_type": "code",
   "source": [
    "# @lc code=start\n",
    "using LeetCode\n",
    "\n",
    "function remove_duplicate_letters(s::String)::String\n",
    "    stk = Char[]\n",
    "    added = Set{Char}()\n",
    "    remain = fill(0, 26)\n",
    "    for ch in s\n",
    "        remain[ch - 'a' + 1] += 1\n",
    "    end\n",
    "    for ch in s\n",
    "        if !(ch in added)\n",
    "            while !isempty(stk) && stk[end] > ch && remain[stk[end] - 'a' + 1] > 0\n",
    "                pop!(added, pop!(stk))\n",
    "            end\n",
    "            push!(added, ch)\n",
    "            push!(stk, ch)\n",
    "        end\n",
    "        remain[ch - 'a' + 1] -= 1\n",
    "    end\n",
    "    return join(stk)\n",
    "end\n",
    "# @lc code=end"
   ],
   "metadata": {},
   "execution_count": 1
  },
  {
   "cell_type": "markdown",
   "source": [
    "---\n",
    "\n",
    "*This notebook was generated using [Literate.jl](https://github.com/fredrikekre/Literate.jl).*"
   ],
   "metadata": {}
  }
 ],
 "nbformat_minor": 3,
 "metadata": {
  "language_info": {
   "file_extension": ".jl",
   "mimetype": "application/julia",
   "name": "julia",
   "version": "1.11.6"
  },
  "kernelspec": {
   "name": "julia-1.11",
   "display_name": "Julia 1.11.6",
   "language": "julia"
  }
 },
 "nbformat": 4
}
