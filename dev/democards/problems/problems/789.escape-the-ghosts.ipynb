{
 "cells": [
  {
   "cell_type": "markdown",
   "source": [
    "You are playing a simplified PAC-MAN game on an infinite 2-D grid. You start\n",
    "at the point `[0, 0]`, and you are given a destination point `target =\n",
    "[xtarget, ytarget]`, which you are trying to get to. There are several ghosts\n",
    "on the map with their starting positions given as an array `ghosts`, where\n",
    "`ghosts[i] = [xi, yi]` represents the starting position of the `ith` ghost.\n",
    "All inputs are **integral coordinates**.\n",
    "\n",
    "Each turn, you and all the ghosts may independently choose to either **move 1\n",
    "unit** in any of the four cardinal directions: north, east, south, or west or\n",
    "**stay still**. All actions happen **simultaneously**.\n",
    "\n",
    "You escape if and only if you can reach the target **before** any ghost\n",
    "reaches you. If you reach any square (including the target) at the **same\n",
    "time** as a ghost, it **does not** count as an escape.\n",
    "\n",
    "Return `true` _if it is possible to escape, otherwise return_`false` _._\n",
    "\n",
    "\n",
    "\n",
    "**Example 1:**\n",
    "\n",
    "\n",
    "\n",
    "    Input: ghosts = [[1,0],[0,3]], target = [0,1]\n",
    "    Output: true\n",
    "    Explanation: You can reach the destination (0, 1) after 1 turn, while the ghosts located at (1, 0) and (0, 3) cannot catch up with you.\n",
    "\n",
    "\n",
    "**Example 2:**\n",
    "\n",
    "\n",
    "\n",
    "    Input: ghosts = [[1,0]], target = [2,0]\n",
    "    Output: false\n",
    "    Explanation: You need to reach the destination (2, 0), but the ghost at (1, 0) lies between you and the destination.\n",
    "\n",
    "\n",
    "**Example 3:**\n",
    "\n",
    "\n",
    "\n",
    "    Input: ghosts = [[2,0]], target = [1,0]\n",
    "    Output: false\n",
    "    Explanation: The ghost can reach the target at the same time as you.\n",
    "\n",
    "\n",
    "**Example 4:**\n",
    "\n",
    "\n",
    "\n",
    "    Input: ghosts = [[5,0],[-10,-2],[0,-5],[-2,-2],[-7,1]], target = [7,7]\n",
    "    Output: false\n",
    "\n",
    "\n",
    "**Example 5:**\n",
    "\n",
    "\n",
    "\n",
    "    Input: ghosts = [[-1,0],[0,1],[-1,0],[0,1],[-1,0]], target = [0,0]\n",
    "    Output: true\n",
    "\n",
    "\n",
    "\n",
    "\n",
    "**Constraints:**\n",
    "\n",
    "  * `1 <= ghosts.length <= 100`\n",
    "  * `ghosts[i].length == 2`\n",
    "  * `-104 <= xi, yi <= 104`\n",
    "  * There can be **multiple ghosts** in the same location.\n",
    "  * `target.length == 2`\n",
    "  * `-104 <= xtarget, ytarget <= 104`"
   ],
   "metadata": {}
  },
  {
   "outputs": [
    {
     "output_type": "execute_result",
     "data": {
      "text/plain": "escape_ghosts (generic function with 1 method)"
     },
     "metadata": {},
     "execution_count": 1
    }
   ],
   "cell_type": "code",
   "source": [
    "# @lc code=start\n",
    "using LeetCode\n",
    "\n",
    "function escape_ghosts(ghosts::Vector{Vector{Int}}, target::Vector{Int})\n",
    "    dist1 = sum(abs, target)\n",
    "    dist2 = minimum(sum(abs, g .- target) for g in ghosts)\n",
    "    return dist1 < dist2\n",
    "end\n",
    "# @lc code=end"
   ],
   "metadata": {},
   "execution_count": 1
  },
  {
   "cell_type": "markdown",
   "source": [
    "---\n",
    "\n",
    "*This notebook was generated using [Literate.jl](https://github.com/fredrikekre/Literate.jl).*"
   ],
   "metadata": {}
  }
 ],
 "nbformat_minor": 3,
 "metadata": {
  "language_info": {
   "file_extension": ".jl",
   "mimetype": "application/julia",
   "name": "julia",
   "version": "1.10.1"
  },
  "kernelspec": {
   "name": "julia-1.10",
   "display_name": "Julia 1.10.1",
   "language": "julia"
  }
 },
 "nbformat": 4
}
