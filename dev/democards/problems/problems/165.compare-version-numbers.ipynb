{
 "cells": [
  {
   "cell_type": "markdown",
   "source": [
    "Given two version numbers, `version1` and `version2`, compare them.\n",
    "\n",
    "Version numbers consist of **one or more revisions** joined by a dot `'.'`.\n",
    "Each revision consists of **digits**  and may contain leading **zeros**. Every\n",
    "revision contains **at least one character**. Revisions are **0-indexed from\n",
    "left to right** , with the leftmost revision being revision 0, the next\n",
    "revision being revision 1, and so on. For example `2.5.33` and `0.1` are valid\n",
    "version numbers.\n",
    "\n",
    "To compare version numbers, compare their revisions in **left-to-right\n",
    "order**. Revisions are compared using their  **integer value ignoring any\n",
    "leading zeros**. This means that revisions `1` and `001` are considered\n",
    "**equal**. If a version number does not specify a revision at an index, then\n",
    "**treat the revision as  `0`**. For example, version `1.0` is less than\n",
    "version `1.1` because their revision 0s are the same, but their revision 1s\n",
    "are `0` and `1` respectively, and `0 < 1`.\n",
    "\n",
    "_Return the following:_\n",
    "\n",
    "  * If `version1 < version2`, return `-1`.\n",
    "  * If `version1 > version2`, return `1`.\n",
    "  * Otherwise, return `0`.\n",
    "\n",
    "\n",
    "\n",
    "**Example 1:**\n",
    "\n",
    "\n",
    "\n",
    "    Input: version1 = \"1.01\", version2 = \"1.001\"\n",
    "    Output: 0\n",
    "    Explanation: Ignoring leading zeroes, both \"01\" and \"001\" represent the same integer \"1\".\n",
    "\n",
    "\n",
    "**Example 2:**\n",
    "\n",
    "\n",
    "\n",
    "    Input: version1 = \"1.0\", version2 = \"1.0.0\"\n",
    "    Output: 0\n",
    "    Explanation: version1 does not specify revision 2, which means it is treated as \"0\".\n",
    "\n",
    "\n",
    "**Example 3:**\n",
    "\n",
    "\n",
    "\n",
    "    Input: version1 = \"0.1\", version2 = \"1.1\"\n",
    "    Output: -1\n",
    "    Explanation:  version1's revision 0 is \"0\", while version2's revision 0 is \"1\". 0 < 1, so version1 < version2.\n",
    "\n",
    "\n",
    "**Example 4:**\n",
    "\n",
    "\n",
    "\n",
    "    Input: version1 = \"1.0.1\", version2 = \"1\"\n",
    "    Output: 1\n",
    "\n",
    "\n",
    "**Example 5:**\n",
    "\n",
    "\n",
    "\n",
    "    Input: version1 = \"7.5.2.4\", version2 = \"7.5.3\"\n",
    "    Output: -1\n",
    "\n",
    "\n",
    "\n",
    "\n",
    "**Constraints:**\n",
    "\n",
    "  * `1 <= version1.length, version2.length <= 500`\n",
    "  * `version1` and `version2` only contain digits and `'.'`.\n",
    "  * `version1` and `version2`  **are valid version numbers**.\n",
    "  * All the given revisions in `version1` and `version2` can be stored in a  **32-bit integer**."
   ],
   "metadata": {}
  },
  {
   "outputs": [
    {
     "output_type": "execute_result",
     "data": {
      "text/plain": "compare_version (generic function with 1 method)"
     },
     "metadata": {},
     "execution_count": 1
    }
   ],
   "cell_type": "code",
   "source": [
    "# @lc code=start\n",
    "using LeetCode\n",
    "\n",
    "function compare_version(version1::String, version2::String)\n",
    "    s_v1 = parse.(Int, split(version1, \".\"))\n",
    "    s_v2 = parse.(Int, split(version2, \".\"))\n",
    "    if length(s_v1) > length(s_v2)\n",
    "        append!(s_v2, fill(0, length(s_v1) - length(s_v2)))\n",
    "    else\n",
    "        append!(s_v1, fill(0, length(s_v2) - length(s_v1)))\n",
    "    end\n",
    "    for i in 1:length(s_v1)\n",
    "        if s_v1 > s_v2\n",
    "            return 1\n",
    "        elseif s_v1 < s_v2\n",
    "            return -1\n",
    "        end\n",
    "    end\n",
    "    return 0\n",
    "end\n",
    "# @lc code=end"
   ],
   "metadata": {},
   "execution_count": 1
  },
  {
   "cell_type": "markdown",
   "source": [
    "---\n",
    "\n",
    "*This notebook was generated using [Literate.jl](https://github.com/fredrikekre/Literate.jl).*"
   ],
   "metadata": {}
  }
 ],
 "nbformat_minor": 3,
 "metadata": {
  "language_info": {
   "file_extension": ".jl",
   "mimetype": "application/julia",
   "name": "julia",
   "version": "1.6.0"
  },
  "kernelspec": {
   "name": "julia-1.6",
   "display_name": "Julia 1.6.0",
   "language": "julia"
  }
 },
 "nbformat": 4
}
