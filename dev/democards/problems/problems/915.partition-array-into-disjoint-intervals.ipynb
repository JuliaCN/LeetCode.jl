{
 "cells": [
  {
   "cell_type": "markdown",
   "source": [
    "Given an array `A`, partition it into two (contiguous) subarrays `left` and\n",
    "`right` so that:\n",
    "\n",
    "  * Every element in `left` is less than or equal to every element in `right`.\n",
    "  * `left` and `right` are non-empty.\n",
    "  * `left` has the smallest possible size.\n",
    "\n",
    "Return the **length** of `left` after such a partitioning.  It is guaranteed\n",
    "that such a partitioning exists.\n",
    "\n",
    "\n",
    "\n",
    "**Example 1:**\n",
    "\n",
    "\n",
    "\n",
    "    Input: [5,0,3,8,6]\n",
    "    Output: 3\n",
    "    Explanation: left = [5,0,3], right = [8,6]\n",
    "\n",
    "\n",
    "**Example 2:**\n",
    "\n",
    "\n",
    "\n",
    "    Input: [1,1,1,0,6,12]\n",
    "    Output: 4\n",
    "    Explanation: left = [1,1,1,0], right = [6,12]\n",
    "\n",
    "\n",
    "\n",
    "\n",
    "**Note:**\n",
    "\n",
    "  1. `2 <= A.length <= 30000`\n",
    "  2. `0 <= A[i] <= 10^6`\n",
    "  3. It is guaranteed there is at least one way to partition `A` as described."
   ],
   "metadata": {}
  },
  {
   "outputs": [
    {
     "output_type": "execute_result",
     "data": {
      "text/plain": "partition_disjoint (generic function with 1 method)"
     },
     "metadata": {},
     "execution_count": 1
    }
   ],
   "cell_type": "code",
   "source": [
    "# @lc code=start\n",
    "using LeetCode\n",
    "\n",
    "function partition_disjoint(nums::Vector{Int})\n",
    "    n, pos = length(nums), 0\n",
    "    maxn = leftm = nums[1]\n",
    "    for i in 2:n\n",
    "        maxn = max(maxn, nums[i])\n",
    "        if nums[i] < leftm\n",
    "            leftm = maxn\n",
    "            pos = i\n",
    "        end\n",
    "    end\n",
    "    return pos\n",
    "end\n",
    "# @lc code=end"
   ],
   "metadata": {},
   "execution_count": 1
  },
  {
   "cell_type": "markdown",
   "source": [
    "---\n",
    "\n",
    "*This notebook was generated using [Literate.jl](https://github.com/fredrikekre/Literate.jl).*"
   ],
   "metadata": {}
  }
 ],
 "nbformat_minor": 3,
 "metadata": {
  "language_info": {
   "file_extension": ".jl",
   "mimetype": "application/julia",
   "name": "julia",
   "version": "1.9.1"
  },
  "kernelspec": {
   "name": "julia-1.9",
   "display_name": "Julia 1.9.1",
   "language": "julia"
  }
 },
 "nbformat": 4
}
