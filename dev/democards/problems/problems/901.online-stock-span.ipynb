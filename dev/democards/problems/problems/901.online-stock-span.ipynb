{
 "cells": [
  {
   "cell_type": "markdown",
   "source": [
    "Write a class `StockSpanner` which collects daily price quotes for some stock,\n",
    "and returns the _span_  of that stock's price for the current day.\n",
    "\n",
    "The span of the stock's price today is defined as the maximum number of\n",
    "consecutive days (starting from today and going backwards) for which the price\n",
    "of the stock was less than or equal to today's price.\n",
    "\n",
    "For example, if the price of a stock over the next 7 days were `[100, 80, 60,\n",
    "70, 60, 75, 85]`, then the stock spans would be `[1, 1, 1, 2, 1, 4, 6]`.\n",
    "\n",
    "\n",
    "\n",
    "**Example 1:**\n",
    "\n",
    "\n",
    "\n",
    "    Input: [\"StockSpanner\",\"next\",\"next\",\"next\",\"next\",\"next\",\"next\",\"next\"], [[],[100],[80],[60],[70],[60],[75],[85]]\n",
    "    Output: [null,1,1,1,2,1,4,6]\n",
    "    Explanation:\n",
    "    First, S = StockSpanner() is initialized.  Then:\n",
    "    S.next(100) is called and returns 1,\n",
    "    S.next(80) is called and returns 1,\n",
    "    S.next(60) is called and returns 1,\n",
    "    S.next(70) is called and returns 2,\n",
    "    S.next(60) is called and returns 1,\n",
    "    S.next(75) is called and returns 4,\n",
    "    S.next(85) is called and returns 6.\n",
    "\n",
    "    Note that (for example) S.next(75) returned 4, because the last 4 prices\n",
    "    (including today's price of 75) were less than or equal to today's price.\n",
    "\n",
    "\n",
    "\n",
    "\n",
    "**Note:**\n",
    "\n",
    "  1. Calls to `StockSpanner.next(int price)` will have `1 <= price <= 10^5`.\n",
    "  2. There will be at most `10000` calls to `StockSpanner.next` per test case.\n",
    "  3. There will be at most `150000` calls to `StockSpanner.next` across all test cases.\n",
    "  4. The total time limit for this problem has been reduced by 75% for C++, and 50% for all other languages."
   ],
   "metadata": {}
  },
  {
   "outputs": [
    {
     "output_type": "execute_result",
     "data": {
      "text/plain": "next! (generic function with 1 method)"
     },
     "metadata": {},
     "execution_count": 1
    }
   ],
   "cell_type": "code",
   "source": [
    "# @lc code=start\n",
    "using LeetCode\n",
    "\n",
    "Base.@kwdef struct StockSpanner\n",
    "    history::Vector{Pair{Int,Int}} = []\n",
    "end\n",
    "\n",
    "function next!(s::StockSpanner, price::Int)\n",
    "    span = 1\n",
    "    while !isempty(s.history) && s.history[end][1] <= price\n",
    "        span += s.history[end][2]\n",
    "        pop!(s.history)\n",
    "    end\n",
    "    push!(s.history, price => span)\n",
    "    return span\n",
    "end\n",
    "# @lc code=end"
   ],
   "metadata": {},
   "execution_count": 1
  },
  {
   "cell_type": "markdown",
   "source": [
    "---\n",
    "\n",
    "*This notebook was generated using [Literate.jl](https://github.com/fredrikekre/Literate.jl).*"
   ],
   "metadata": {}
  }
 ],
 "nbformat_minor": 3,
 "metadata": {
  "language_info": {
   "file_extension": ".jl",
   "mimetype": "application/julia",
   "name": "julia",
   "version": "1.8.2"
  },
  "kernelspec": {
   "name": "julia-1.8",
   "display_name": "Julia 1.8.2",
   "language": "julia"
  }
 },
 "nbformat": 4
}
