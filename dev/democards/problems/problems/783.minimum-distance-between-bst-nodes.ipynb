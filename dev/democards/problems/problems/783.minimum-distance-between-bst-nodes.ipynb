{
 "cells": [
  {
   "cell_type": "markdown",
   "source": [
    "Given a Binary Search Tree (BST) with the root node `root`, return the minimum\n",
    "difference between the values of any two different nodes in the tree.\n",
    "\n",
    "**Example :**\n",
    "\n",
    "\n",
    "\n",
    "    Input: root = [4,2,6,1,3,null,null]\n",
    "    Output: 1\n",
    "    Explanation:\n",
    "    Note that root is a TreeNode object, not an array.\n",
    "\n",
    "    The given tree [4,2,6,1,3,null,null] is represented by the following diagram:\n",
    "\n",
    "              4\n",
    "            /   \\\n",
    "          2      6\n",
    "         / \\\n",
    "        1   3\n",
    "\n",
    "    while the minimum difference in this tree is 1, it occurs between node 1 and node 2, also between node 3 and node 2.\n",
    "\n",
    "\n",
    "**Note:**\n",
    "\n",
    "  1. The size of the BST will be between 2 and `100`.\n",
    "  2. The BST is always valid, each node's value is an integer, and each node's value is different.\n",
    "  3. This question is the same as 530: <https://leetcode.comhttps://leetcode.com/problems/minimum-absolute-difference-in-bst/>"
   ],
   "metadata": {}
  },
  {
   "outputs": [
    {
     "output_type": "execute_result",
     "data": {
      "text/plain": "min_diff_in_bst (generic function with 1 method)"
     },
     "metadata": {},
     "execution_count": 1
    }
   ],
   "cell_type": "code",
   "source": [
    "# @lc code=start\n",
    "using LeetCode\n",
    "\n",
    "function min_diff_in_bst(root::TreeNode)\n",
    "    prev, ans = typemin(Int) >> 1, typemax(Int)\n",
    "    function dfs(root::TreeNode)\n",
    "        (root.left !== nothing) && (dfs(root.left))\n",
    "        ans = min(root.val - prev, ans)\n",
    "        prev = root.val\n",
    "        (root.right !== nothing) && (dfs(root.right))\n",
    "    end\n",
    "    dfs(root)\n",
    "    ans\n",
    "end\n",
    "# @lc code=end"
   ],
   "metadata": {},
   "execution_count": 1
  },
  {
   "cell_type": "markdown",
   "source": [
    "---\n",
    "\n",
    "*This notebook was generated using [Literate.jl](https://github.com/fredrikekre/Literate.jl).*"
   ],
   "metadata": {}
  }
 ],
 "nbformat_minor": 3,
 "metadata": {
  "language_info": {
   "file_extension": ".jl",
   "mimetype": "application/julia",
   "name": "julia",
   "version": "1.6.0"
  },
  "kernelspec": {
   "name": "julia-1.6",
   "display_name": "Julia 1.6.0",
   "language": "julia"
  }
 },
 "nbformat": 4
}
