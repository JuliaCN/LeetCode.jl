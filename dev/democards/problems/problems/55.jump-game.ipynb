{
 "cells": [
  {
   "cell_type": "markdown",
   "source": [
    "Given an array of non-negative integers, you are initially positioned at the\n",
    "first index of the array.\n",
    "\n",
    "Each element in the array represents your maximum jump length at that\n",
    "position.\n",
    "\n",
    "Determine if you are able to reach the last index.\n",
    "\n",
    "\n",
    "\n",
    "**Example 1:**\n",
    "\n",
    "\n",
    "\n",
    "    Input: nums = [2,3,1,1,4]\n",
    "    Output: true\n",
    "    Explanation: Jump 1 step from index 0 to 1, then 3 steps to the last index.\n",
    "\n",
    "\n",
    "**Example 2:**\n",
    "\n",
    "\n",
    "\n",
    "    Input: nums = [3,2,1,0,4]\n",
    "    Output: false\n",
    "    Explanation: You will always arrive at index 3 no matter what. Its maximum jump length is 0, which makes it impossible to reach the last index.\n",
    "\n",
    "\n",
    "\n",
    "\n",
    "**Constraints:**\n",
    "\n",
    "  * `1 <= nums.length <= 3 * 10^4`\n",
    "  * `0 <= nums[i][j] <= 10^5`"
   ],
   "metadata": {}
  },
  {
   "outputs": [
    {
     "output_type": "execute_result",
     "data": {
      "text/plain": "can_jump (generic function with 1 method)"
     },
     "metadata": {},
     "execution_count": 1
    }
   ],
   "cell_type": "code",
   "source": [
    "# @lc code=start\n",
    "using LeetCode\n",
    "\n",
    "function can_jump(nums::Vector{Int})::Bool\n",
    "    n, rightmost = length(nums), 1\n",
    "    for (i, num) in enumerate(nums)\n",
    "        i > rightmost && return false\n",
    "        rightmost = max(rightmost, i + num)\n",
    "        rightmost >= n && return true\n",
    "    end\n",
    "    false\n",
    "end\n",
    "\n",
    "# @lc code=end"
   ],
   "metadata": {},
   "execution_count": 1
  },
  {
   "cell_type": "markdown",
   "source": [
    "---\n",
    "\n",
    "*This notebook was generated using [Literate.jl](https://github.com/fredrikekre/Literate.jl).*"
   ],
   "metadata": {}
  }
 ],
 "nbformat_minor": 3,
 "metadata": {
  "language_info": {
   "file_extension": ".jl",
   "mimetype": "application/julia",
   "name": "julia",
   "version": "1.8.2"
  },
  "kernelspec": {
   "name": "julia-1.8",
   "display_name": "Julia 1.8.2",
   "language": "julia"
  }
 },
 "nbformat": 4
}
