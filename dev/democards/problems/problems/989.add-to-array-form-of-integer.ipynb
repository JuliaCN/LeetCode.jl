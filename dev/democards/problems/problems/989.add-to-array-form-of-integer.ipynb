{
 "cells": [
  {
   "cell_type": "markdown",
   "source": [
    "For a non-negative integer `X`, the  _array-form of`X`_ is an array of its\n",
    "digits in left to right order.  For example, if `X = 1231`, then the array\n",
    "form is `[1,2,3,1]`.\n",
    "\n",
    "Given the array-form `A` of a non-negative integer `X`, return the array-form\n",
    "of the integer `X+K`.\n",
    "\n",
    "\n",
    "\n",
    "**Example 1:**\n",
    "\n",
    "\n",
    "\n",
    "    Input: A = [1,2,0,0], K = 34\n",
    "    Output: [1,2,3,4]\n",
    "    Explanation: 1200 + 34 = 1234\n",
    "\n",
    "\n",
    "**Example 2:**\n",
    "\n",
    "\n",
    "\n",
    "    Input: A = [2,7,4], K = 181\n",
    "    Output: [4,5,5]\n",
    "    Explanation: 274 + 181 = 455\n",
    "\n",
    "\n",
    "**Example 3:**\n",
    "\n",
    "\n",
    "\n",
    "    Input: A = [2,1,5], K = 806\n",
    "    Output: [1,0,2,1]\n",
    "    Explanation: 215 + 806 = 1021\n",
    "\n",
    "\n",
    "**Example 4:**\n",
    "\n",
    "\n",
    "\n",
    "    Input: A = [9,9,9,9,9,9,9,9,9,9], K = 1\n",
    "    Output: [1,0,0,0,0,0,0,0,0,0,0]\n",
    "    Explanation: 9999999999 + 1 = 10000000000\n",
    "\n",
    "\n",
    "\n",
    "\n",
    "**Note：**\n",
    "\n",
    "  1. `1 <= A.length <= 10000`\n",
    "  2. `0 <= A[i] <= 9`\n",
    "  3. `0 <= K <= 10000`\n",
    "  4. If `A.length > 1`, then `A[0] != 0`"
   ],
   "metadata": {}
  },
  {
   "outputs": [
    {
     "output_type": "execute_result",
     "data": {
      "text/plain": "add_to_array_form (generic function with 1 method)"
     },
     "metadata": {},
     "execution_count": 1
    }
   ],
   "cell_type": "code",
   "source": [
    "# @lc code=start\n",
    "using LeetCode\n",
    "\n",
    "function add_to_array_form(num::Vector{Int}, k::Int)::Vector{Int}\n",
    "    n = length(num)\n",
    "    i, val, carry = n, 0, 0\n",
    "    res = Int[]\n",
    "\n",
    "    while i > 0 || k != 0\n",
    "        x = i > 0 ? num[i] : 0\n",
    "        y = k != 0 ? k % 10 : 0\n",
    "\n",
    "        val = x + y + carry\n",
    "        append!(res, val % 10)\n",
    "        carry = val ÷ 10\n",
    "        i, k = i - 1, k ÷ 10\n",
    "    end\n",
    "\n",
    "    if carry > 0\n",
    "        append!(res, carry)\n",
    "    end\n",
    "\n",
    "    return reverse(res)\n",
    "end"
   ],
   "metadata": {},
   "execution_count": 1
  },
  {
   "cell_type": "markdown",
   "source": [
    "---\n",
    "\n",
    "*This notebook was generated using [Literate.jl](https://github.com/fredrikekre/Literate.jl).*"
   ],
   "metadata": {}
  }
 ],
 "nbformat_minor": 3,
 "metadata": {
  "language_info": {
   "file_extension": ".jl",
   "mimetype": "application/julia",
   "name": "julia",
   "version": "1.7.2"
  },
  "kernelspec": {
   "name": "julia-1.7",
   "display_name": "Julia 1.7.2",
   "language": "julia"
  }
 },
 "nbformat": 4
}
