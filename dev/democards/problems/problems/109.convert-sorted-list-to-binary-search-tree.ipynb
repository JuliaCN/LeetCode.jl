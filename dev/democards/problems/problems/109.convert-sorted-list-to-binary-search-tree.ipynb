{
 "cells": [
  {
   "cell_type": "markdown",
   "source": [
    "Given the `head` of a singly linked list where elements are **sorted in\n",
    "ascending order** , convert it to a height balanced BST.\n",
    "\n",
    "For this problem, a height-balanced binary tree is defined as a binary tree in\n",
    "which the depth of the two subtrees of _every_ node never differ by more than\n",
    "1.\n",
    "\n",
    "\n",
    "\n",
    "**Example 1:**\n",
    "\n",
    "![](https://assets.leetcode.com/uploads/2020/08/17/linked.jpg)\n",
    "\n",
    "\n",
    "\n",
    "    Input: head = [-10,-3,0,5,9]\n",
    "    Output: [0,-3,9,-10,null,5]\n",
    "    Explanation: One possible answer is [0,-3,9,-10,null,5], which represents the shown height balanced BST.\n",
    "\n",
    "\n",
    "**Example 2:**\n",
    "\n",
    "\n",
    "\n",
    "    Input: head = []\n",
    "    Output: []\n",
    "\n",
    "\n",
    "**Example 3:**\n",
    "\n",
    "\n",
    "\n",
    "    Input: head = [0]\n",
    "    Output: [0]\n",
    "\n",
    "\n",
    "**Example 4:**\n",
    "\n",
    "\n",
    "\n",
    "    Input: head = [1,3]\n",
    "    Output: [3,1]\n",
    "\n",
    "\n",
    "\n",
    "\n",
    "**Constraints:**\n",
    "\n",
    "  * The number of nodes in `head` is in the range `[0, 2 * 104]`.\n",
    "  * `-10^5 <= Node.val <= 10^5`"
   ],
   "metadata": {}
  },
  {
   "outputs": [
    {
     "output_type": "execute_result",
     "data": {
      "text/plain": "sorted_list_to_bst (generic function with 1 method)"
     },
     "metadata": {},
     "execution_count": 1
    }
   ],
   "cell_type": "code",
   "source": [
    "# @lc code=start\n",
    "using LeetCode\n",
    "\n",
    "function sorted_list_to_bst(head::Union{ListNode, Nothing})::Union{TreeNode, Nothing}\n",
    "    isnothing(head) && return\n",
    "    isnothing(head.next) && return TreeNode(head.val)\n",
    "\n",
    "    slow, fast = head, head.next.next\n",
    "    while !isnothing(fast) && !isnothing(fast.next)\n",
    "        fast = fast.next.next\n",
    "        slow = slow.next\n",
    "    end\n",
    "\n",
    "    tmp = slow.next\n",
    "    slow.next = nothing\n",
    "\n",
    "    root = TreeNode(tmp.val)\n",
    "    root.left = sorted_list_to_bst(head)\n",
    "    root.right = sorted_list_to_bst(tmp.next)\n",
    "\n",
    "    return root\n",
    "end\n",
    "\n",
    "# @lc code=end"
   ],
   "metadata": {},
   "execution_count": 1
  },
  {
   "cell_type": "markdown",
   "source": [
    "---\n",
    "\n",
    "*This notebook was generated using [Literate.jl](https://github.com/fredrikekre/Literate.jl).*"
   ],
   "metadata": {}
  }
 ],
 "nbformat_minor": 3,
 "metadata": {
  "language_info": {
   "file_extension": ".jl",
   "mimetype": "application/julia",
   "name": "julia",
   "version": "1.9.1"
  },
  "kernelspec": {
   "name": "julia-1.9",
   "display_name": "Julia 1.9.1",
   "language": "julia"
  }
 },
 "nbformat": 4
}
