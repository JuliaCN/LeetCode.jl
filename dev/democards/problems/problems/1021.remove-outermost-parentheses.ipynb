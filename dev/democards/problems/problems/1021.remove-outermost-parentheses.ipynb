{
 "cells": [
  {
   "cell_type": "markdown",
   "source": [
    "A valid parentheses string is either empty `(\"\")`, `\"(\" + A + \")\"`, or `A +\n",
    "B`, where `A` and `B` are valid parentheses strings, and `+` represents string\n",
    "concatenation.  For example, `\"\"`, `\"()\"`, `\"(())()\"`, and `\"(()(()))\"` are\n",
    "all valid parentheses strings.\n",
    "\n",
    "A valid parentheses string `S` is **primitive** if it is nonempty, and there\n",
    "does not exist a way to split it into `S = A+B`, with `A` and `B` nonempty\n",
    "valid parentheses strings.\n",
    "\n",
    "Given a valid parentheses string `S`, consider its primitive decomposition: `S\n",
    "= P_1 + P_2 + ... + P_k`, where `P_i` are primitive valid parentheses strings.\n",
    "\n",
    "Return `S` after removing the outermost parentheses of every primitive string\n",
    "in the primitive decomposition of `S`.\n",
    "\n",
    "\n",
    "\n",
    "**Example 1:**\n",
    "\n",
    "\n",
    "\n",
    "    Input: \"(()())(())\"\n",
    "    Output: \"()()()\"\n",
    "    Explanation:\n",
    "    The input string is \"(()())(())\", with primitive decomposition \"(()())\" + \"(())\".\n",
    "    After removing outer parentheses of each part, this is \"()()\" + \"()\" = \"()()()\".\n",
    "\n",
    "\n",
    "**Example 2:**\n",
    "\n",
    "\n",
    "\n",
    "    Input: \"(()())(())(()(()))\"\n",
    "    Output: \"()()()()(())\"\n",
    "    Explanation:\n",
    "    The input string is \"(()())(())(()(()))\", with primitive decomposition \"(()())\" + \"(())\" + \"(()(()))\".\n",
    "    After removing outer parentheses of each part, this is \"()()\" + \"()\" + \"()(())\" = \"()()()()(())\".\n",
    "\n",
    "\n",
    "**Example 3:**\n",
    "\n",
    "\n",
    "\n",
    "    Input: \"()()\"\n",
    "    Output: \"\"\n",
    "    Explanation:\n",
    "    The input string is \"()()\", with primitive decomposition \"()\" + \"()\".\n",
    "    After removing outer parentheses of each part, this is \"\" + \"\" = \"\".\n",
    "\n",
    "\n",
    "\n",
    "\n",
    "**Note:**\n",
    "\n",
    "  1. `S.length <= 10000`\n",
    "  2. `S[i]` is `\"(\"` or `\")\"`\n",
    "  3. `S` is a valid parentheses string"
   ],
   "metadata": {}
  },
  {
   "outputs": [
    {
     "output_type": "execute_result",
     "data": {
      "text/plain": "remove_outer_parentheses (generic function with 1 method)"
     },
     "metadata": {},
     "execution_count": 1
    }
   ],
   "cell_type": "code",
   "source": [
    "# @lc code=start\n",
    "using LeetCode\n",
    "\n",
    "function remove_outer_parentheses(s::String)\n",
    "    res = \"\"\n",
    "    cnt = 0\n",
    "    for ch in s\n",
    "        flg = cnt < 0\n",
    "        cnt += ch == '(' ? -1 : 1\n",
    "        (flg && cnt < 0) && (res *= ch)\n",
    "    end\n",
    "    return res\n",
    "end\n",
    "# @lc code=end"
   ],
   "metadata": {},
   "execution_count": 1
  },
  {
   "cell_type": "markdown",
   "source": [
    "---\n",
    "\n",
    "*This notebook was generated using [Literate.jl](https://github.com/fredrikekre/Literate.jl).*"
   ],
   "metadata": {}
  }
 ],
 "nbformat_minor": 3,
 "metadata": {
  "language_info": {
   "file_extension": ".jl",
   "mimetype": "application/julia",
   "name": "julia",
   "version": "1.7.2"
  },
  "kernelspec": {
   "name": "julia-1.7",
   "display_name": "Julia 1.7.2",
   "language": "julia"
  }
 },
 "nbformat": 4
}
