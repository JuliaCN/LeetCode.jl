{
 "cells": [
  {
   "cell_type": "markdown",
   "source": [
    "Write an algorithm to determine if a number `n` is \"happy\".\n",
    "\n",
    "A happy number is a number defined by the following process: Starting with any\n",
    "positive integer, replace the number by the sum of the squares of its digits,\n",
    "and repeat the process until the number equals 1 (where it will stay), or it\n",
    "**loops endlessly in a cycle** which does not include 1. Those numbers for\n",
    "which this process **ends in 1** are happy numbers.\n",
    "\n",
    "Return True if `n` is a happy number, and False if not.\n",
    "\n",
    "**Example:  **\n",
    "\n",
    "\n",
    "\n",
    "    Input: 19\n",
    "    Output: true\n",
    "    Explanation: 12 + 92 = 82\n",
    "    82 + 22 = 68\n",
    "    62 + 82 = 100\n",
    "    12 + 02 + 02 = 1"
   ],
   "metadata": {}
  },
  {
   "outputs": [
    {
     "output_type": "execute_result",
     "data": {
      "text/plain": "ishappy (generic function with 1 method)"
     },
     "metadata": {},
     "execution_count": 1
    }
   ],
   "cell_type": "code",
   "source": [
    "# @lc code=start\n",
    "using LeetCode\n",
    "function ishappy(n::Int)::Bool\n",
    "    while n != 1\n",
    "        n == 4 && return false ## all loops must contain 4\n",
    "        n = sum(digits(n) .^ 2)\n",
    "    end\n",
    "    return true\n",
    "end\n",
    "# @lc code=end"
   ],
   "metadata": {},
   "execution_count": 1
  },
  {
   "cell_type": "markdown",
   "source": [
    "---\n",
    "\n",
    "*This notebook was generated using [Literate.jl](https://github.com/fredrikekre/Literate.jl).*"
   ],
   "metadata": {}
  }
 ],
 "nbformat_minor": 3,
 "metadata": {
  "language_info": {
   "file_extension": ".jl",
   "mimetype": "application/julia",
   "name": "julia",
   "version": "1.10.4"
  },
  "kernelspec": {
   "name": "julia-1.10",
   "display_name": "Julia 1.10.4",
   "language": "julia"
  }
 },
 "nbformat": 4
}
