{
 "cells": [
  {
   "cell_type": "markdown",
   "source": [
    "Median is the middle value in an ordered integer list. If the size of the list\n",
    "is even, there is no middle value. So the median is the mean of the two middle\n",
    "value.\n",
    "\n",
    "For example,\n",
    "\n",
    "`[2,3,4]`, the median is `3`\n",
    "\n",
    "`[2,3]`, the median is `(2 + 3) / 2 = 2.5`\n",
    "\n",
    "Design a data structure that supports the following two operations:\n",
    "\n",
    "  * void addNum(int num) - Add a integer number from the data stream to the data structure.\n",
    "  * double findMedian() - Return the median of all elements so far.\n",
    "\n",
    "\n",
    "\n",
    "**Example:**\n",
    "\n",
    "\n",
    "\n",
    "    addNum(1)\n",
    "    addNum(2)\n",
    "    findMedian() -> 1.5\n",
    "    addNum(3)\n",
    "    findMedian() -> 2\n",
    "\n",
    "\n",
    "\n",
    "\n",
    "**Follow up:**\n",
    "\n",
    "  1. If all integer numbers from the stream are between 0 and 100, how would you optimize it?\n",
    "  2. If 99% of all integer numbers from the stream are between 0 and 100, how would you optimize it?"
   ],
   "metadata": {}
  },
  {
   "outputs": [
    {
     "output_type": "execute_result",
     "data": {
      "text/plain": "find_median (generic function with 1 method)"
     },
     "metadata": {},
     "execution_count": 1
    }
   ],
   "cell_type": "code",
   "source": [
    "# @lc code=start\n",
    "using LeetCode\n",
    "\n",
    "using DataStructures\n",
    "\n",
    "Base.@kwdef struct MedianFinder\n",
    "    maxheap::BinaryMaxHeap{Int} = BinaryMaxHeap{Int}()\n",
    "    minheap::BinaryMinHeap{Int} = BinaryMinHeap{Int}()\n",
    "end\n",
    "# function Base.show(io::IO, heap::MedianFinder)\n",
    "#     return print(io, \"$(heap.maxheap.valtree):max -- min:$(reverse(heap.minheap.valtree))\")\n",
    "# end\n",
    "\n",
    "function add_num!(heap::MedianFinder, num::Int)\n",
    "    # maximal element of maxheap <= minimal element of minheap\n",
    "    # length of maxheap <= length of minheap\n",
    "    hi, ha = heap.minheap, heap.maxheap\n",
    "    if length(ha) < length(hi)\n",
    "        # e.g. [2]--[4,5] =6> [2]--[4,5,6] => [2,4]--[5,6]\n",
    "        push!(hi, num)\n",
    "        push!(ha, pop!(hi))\n",
    "    else\n",
    "        # e.g. [4]--[5] =2> [2,4]--[5] => [2]--[4,5]\n",
    "        push!(ha, num)\n",
    "        push!(hi, pop!(ha))\n",
    "    end\n",
    "    return nothing\n",
    "end\n",
    "\n",
    "function find_median(heap::MedianFinder)::Float64\n",
    "    hi, ha = heap.minheap, heap.maxheap\n",
    "    return length(hi) == length(ha) ? (first(hi) + first(ha)) / 2 : first(hi)\n",
    "end\n",
    "# @lc code=end"
   ],
   "metadata": {},
   "execution_count": 1
  },
  {
   "cell_type": "markdown",
   "source": [
    "---\n",
    "\n",
    "*This notebook was generated using [Literate.jl](https://github.com/fredrikekre/Literate.jl).*"
   ],
   "metadata": {}
  }
 ],
 "nbformat_minor": 3,
 "metadata": {
  "language_info": {
   "file_extension": ".jl",
   "mimetype": "application/julia",
   "name": "julia",
   "version": "1.7.3"
  },
  "kernelspec": {
   "name": "julia-1.7",
   "display_name": "Julia 1.7.3",
   "language": "julia"
  }
 },
 "nbformat": 4
}
