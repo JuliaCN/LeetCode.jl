{
 "cells": [
  {
   "cell_type": "markdown",
   "source": [
    "Every non-negative integer `N` has a binary representation.  For example, `5`\n",
    "can be represented as `\"101\"` in binary, `11` as `\"1011\"` in binary, and so\n",
    "on.  Note that except for `N = 0`, there are no leading zeroes in any binary\n",
    "representation.\n",
    "\n",
    "The _complement_  of a binary representation is the number in binary you get\n",
    "when changing every `1` to a `0` and `0` to a `1`.  For example, the\n",
    "complement of `\"101\"` in binary is `\"010\"` in binary.\n",
    "\n",
    "For a given number `N` in base-10, return the complement of it's binary\n",
    "representation as a base-10 integer.\n",
    "\n",
    "\n",
    "\n",
    "**Example 1:**\n",
    "\n",
    "\n",
    "\n",
    "    Input: 5\n",
    "    Output: 2\n",
    "    Explanation: 5 is \"101\" in binary, with complement \"010\" in binary, which is 2 in base-10.\n",
    "\n",
    "\n",
    "**Example 2:**\n",
    "\n",
    "\n",
    "\n",
    "    Input: 7\n",
    "    Output: 0\n",
    "    Explanation: 7 is \"111\" in binary, with complement \"000\" in binary, which is 0 in base-10.\n",
    "\n",
    "\n",
    "**Example 3:**\n",
    "\n",
    "\n",
    "\n",
    "    Input: 10\n",
    "    Output: 5\n",
    "    Explanation: 10 is \"1010\" in binary, with complement \"0101\" in binary, which is 5 in base-10.\n",
    "\n",
    "\n",
    "\n",
    "\n",
    "**Note:**\n",
    "\n",
    "  1. `0 <= N < 10^9`\n",
    "  2. This question is the same as 476: <https://leetcode.comhttps://leetcode.com/problems/number-complement/>"
   ],
   "metadata": {}
  },
  {
   "outputs": [
    {
     "output_type": "execute_result",
     "data": {
      "text/plain": "bitwise_complement (generic function with 1 method)"
     },
     "metadata": {},
     "execution_count": 1
    }
   ],
   "cell_type": "code",
   "source": [
    "# @lc code=start\n",
    "using LeetCode\n",
    "\n",
    "function bitwise_complement(N::Int)\n",
    "    res = 0\n",
    "    for i in 0:31\n",
    "        if N > 0\n",
    "            res += ((1 - (N & 1)) << i)\n",
    "            N >>= 1\n",
    "        else\n",
    "            return res\n",
    "        end\n",
    "    end\n",
    "    res\n",
    "end\n",
    "# @lc code=end"
   ],
   "metadata": {},
   "execution_count": 1
  },
  {
   "cell_type": "markdown",
   "source": [
    "---\n",
    "\n",
    "*This notebook was generated using [Literate.jl](https://github.com/fredrikekre/Literate.jl).*"
   ],
   "metadata": {}
  }
 ],
 "nbformat_minor": 3,
 "metadata": {
  "language_info": {
   "file_extension": ".jl",
   "mimetype": "application/julia",
   "name": "julia",
   "version": "1.6.1"
  },
  "kernelspec": {
   "name": "julia-1.6",
   "display_name": "Julia 1.6.1",
   "language": "julia"
  }
 },
 "nbformat": 4
}
