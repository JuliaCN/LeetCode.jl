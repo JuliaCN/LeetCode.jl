{
 "cells": [
  {
   "cell_type": "markdown",
   "source": [
    "Given strings `s1`, `s2`, and `s3`, find whether `s3` is formed by an\n",
    "**interleaving** of `s1` and `s2`.\n",
    "\n",
    "An **interleaving** of two strings `s` and `t` is a configuration where they\n",
    "are divided into **non-empty** substrings such that:\n",
    "\n",
    "  * `s = s1 + s2 + ... + sn`\n",
    "  * `t = t1 + t2 + ... + tm`\n",
    "  * `|n - m| <= 1`\n",
    "  * The **interleaving** is `s1 + t1 + s2 + t2 + s3 + t3 + ...` or `t1 + s1 + t2 + s2 + t3 + s3 + ...`\n",
    "\n",
    "**Note:** `a + b` is the concatenation of strings `a` and `b`.\n",
    "\n",
    "\n",
    "\n",
    "**Example 1:**\n",
    "\n",
    "![](https://assets.leetcode.com/uploads/2020/09/02/interleave.jpg)\n",
    "\n",
    "\n",
    "\n",
    "    Input: s1 = \"aabcc\", s2 = \"dbbca\", s3 = \"aadbbcbcac\"\n",
    "    Output: true\n",
    "\n",
    "\n",
    "**Example 2:**\n",
    "\n",
    "\n",
    "\n",
    "    Input: s1 = \"aabcc\", s2 = \"dbbca\", s3 = \"aadbbbaccc\"\n",
    "    Output: false\n",
    "\n",
    "\n",
    "**Example 3:**\n",
    "\n",
    "\n",
    "\n",
    "    Input: s1 = \"\", s2 = \"\", s3 = \"\"\n",
    "    Output: true\n",
    "\n",
    "\n",
    "\n",
    "\n",
    "**Constraints:**\n",
    "\n",
    "  * `0 <= s1.length, s2.length <= 100`\n",
    "  * `0 <= s3.length <= 200`\n",
    "  * `s1`, `s2`, and `s3` consist of lower-case English letters."
   ],
   "metadata": {}
  },
  {
   "outputs": [
    {
     "output_type": "execute_result",
     "data": {
      "text/plain": "is_interleave (generic function with 1 method)"
     },
     "metadata": {},
     "execution_count": 1
    }
   ],
   "cell_type": "code",
   "source": [
    "# @lc code=start\n",
    "using LeetCode\n",
    "\n",
    "function is_interleave(s1::String, s2::String, s3::String)\n",
    "    len1, len2, len3 = length(s1), length(s2), length(s3)\n",
    "    len1 + len2 != len3 && return false\n",
    "    dp = OffsetArray(fill(false, len1 + 1, len2 + 1), -1, -1)\n",
    "    dp[0, 0] = true\n",
    "    for i in 0:len1, j in 0:len2\n",
    "        p = i + j\n",
    "        i > 0 && (dp[i, j] |= dp[i - 1, j] && s1[i] == s3[p])\n",
    "        j > 0 && (dp[i, j] |= dp[i, j - 1] && s2[j] == s3[p])\n",
    "    end\n",
    "    return dp[end, end]\n",
    "end\n",
    "# @lc code=end"
   ],
   "metadata": {},
   "execution_count": 1
  },
  {
   "cell_type": "markdown",
   "source": [
    "---\n",
    "\n",
    "*This notebook was generated using [Literate.jl](https://github.com/fredrikekre/Literate.jl).*"
   ],
   "metadata": {}
  }
 ],
 "nbformat_minor": 3,
 "metadata": {
  "language_info": {
   "file_extension": ".jl",
   "mimetype": "application/julia",
   "name": "julia",
   "version": "1.10.4"
  },
  "kernelspec": {
   "name": "julia-1.10",
   "display_name": "Julia 1.10.4",
   "language": "julia"
  }
 },
 "nbformat": 4
}
