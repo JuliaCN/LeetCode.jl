{
 "cells": [
  {
   "cell_type": "markdown",
   "source": [
    "Given an array of `n` integers `nums`, a **132 pattern** is a subsequence of\n",
    "three integers `nums[i]`, `nums[j]` and `nums[k]` such that `i < j < k` and\n",
    "`nums[i] < nums[k] < nums[j]`.\n",
    "\n",
    "Return _`true` if there is a **132 pattern** in `nums`, otherwise, return\n",
    "`false`._\n",
    "\n",
    "**Follow up:** The `O(n^2)` is trivial, could you come up with the `O(n logn)`\n",
    "or the `O(n)` solution?\n",
    "\n",
    "\n",
    "\n",
    "**Example 1:**\n",
    "\n",
    "\n",
    "\n",
    "    Input: nums = [1,2,3,4]\n",
    "    Output: false\n",
    "    Explanation: There is no 132 pattern in the sequence.\n",
    "\n",
    "\n",
    "**Example 2:**\n",
    "\n",
    "\n",
    "\n",
    "    Input: nums = [3,1,4,2]\n",
    "    Output: true\n",
    "    Explanation: There is a 132 pattern in the sequence: [1, 4, 2].\n",
    "\n",
    "\n",
    "**Example 3:**\n",
    "\n",
    "\n",
    "\n",
    "    Input: nums = [-1,3,2,0]\n",
    "    Output: true\n",
    "    Explanation: There are three 132 patterns in the sequence: [-1, 3, 2], [-1, 3, 0] and [-1, 2, 0].\n",
    "\n",
    "\n",
    "\n",
    "\n",
    "**Constraints:**\n",
    "\n",
    "  * `n == nums.length`\n",
    "  * `1 <= n <= 104`\n",
    "  * `-109 <= nums[i] <= 109`"
   ],
   "metadata": {}
  },
  {
   "outputs": [
    {
     "output_type": "execute_result",
     "data": {
      "text/plain": "find132pattern (generic function with 1 method)"
     },
     "metadata": {},
     "execution_count": 1
    }
   ],
   "cell_type": "code",
   "source": [
    "# @lc code=start\n",
    "using LeetCode\n",
    "\n",
    "function find132pattern(nums::Vector{Int})\n",
    "    stk = Int[]\n",
    "    second_great = typemin(Int)\n",
    "    for num in Iterators.reverse(nums)\n",
    "        second_great > num && return true\n",
    "        while !isempty(stk) && stk[end] < num\n",
    "            second_great = pop!(stk)\n",
    "        end\n",
    "        push!(stk, num)\n",
    "    end\n",
    "    return false\n",
    "end\n",
    "# @lc code=end"
   ],
   "metadata": {},
   "execution_count": 1
  },
  {
   "cell_type": "markdown",
   "source": [
    "---\n",
    "\n",
    "*This notebook was generated using [Literate.jl](https://github.com/fredrikekre/Literate.jl).*"
   ],
   "metadata": {}
  }
 ],
 "nbformat_minor": 3,
 "metadata": {
  "language_info": {
   "file_extension": ".jl",
   "mimetype": "application/julia",
   "name": "julia",
   "version": "1.10.4"
  },
  "kernelspec": {
   "name": "julia-1.10",
   "display_name": "Julia 1.10.4",
   "language": "julia"
  }
 },
 "nbformat": 4
}
