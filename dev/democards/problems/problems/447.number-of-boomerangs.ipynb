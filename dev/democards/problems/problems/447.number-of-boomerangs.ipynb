{
 "cells": [
  {
   "cell_type": "markdown",
   "source": [
    "You are given `n` `points` in the plane that are all **distinct** , where\n",
    "`points[i] = [xi, yi]`. A **boomerang**  is a tuple of points `(i, j, k)` such\n",
    "that the distance between `i` and `j` equals the distance between `i` and `k`\n",
    "**(the order of the tuple matters)**.\n",
    "\n",
    "Return  _the number of boomerangs_.\n",
    "\n",
    "\n",
    "\n",
    "**Example 1:**\n",
    "\n",
    "\n",
    "\n",
    "    Input: points = [[0,0],[1,0],[2,0]]\n",
    "    Output: 2\n",
    "    Explanation: The two boomerangs are [[1,0],[0,0],[2,0]] and [[1,0],[2,0],[0,0]].\n",
    "\n",
    "\n",
    "**Example 2:**\n",
    "\n",
    "\n",
    "\n",
    "    Input: points = [[1,1],[2,2],[3,3]]\n",
    "    Output: 2\n",
    "\n",
    "\n",
    "**Example 3:**\n",
    "\n",
    "\n",
    "\n",
    "    Input: points = [[1,1]]\n",
    "    Output: 0\n",
    "\n",
    "\n",
    "\n",
    "\n",
    "**Constraints:**\n",
    "\n",
    "  * `n == points.length`\n",
    "  * `1 <= n <= 500`\n",
    "  * `points[i].length == 2`\n",
    "  * `-104 <= xi, yi <= 104`\n",
    "  * All the points are **unique**."
   ],
   "metadata": {}
  },
  {
   "outputs": [
    {
     "output_type": "execute_result",
     "data": {
      "text/plain": "number_of_boomerangs (generic function with 1 method)"
     },
     "metadata": {},
     "execution_count": 1
    }
   ],
   "cell_type": "code",
   "source": [
    "# @lc code=start\n",
    "using LeetCode\n",
    "\n",
    "function number_of_boomerangs(points::Vector{Vector{Int}})::Int\n",
    "    res = 0\n",
    "    for p in points\n",
    "        distance_frequency = DefaultDict(0)\n",
    "        for q in points\n",
    "            p == q && continue\n",
    "            dis = (p[1] - q[1])^2 + (p[2] - q[2])^2\n",
    "            distance_frequency[dis] += 1\n",
    "        end\n",
    "\n",
    "        for k in values(distance_frequency)\n",
    "            k > 1 && (res += k * (k - 1))\n",
    "        end\n",
    "    end\n",
    "\n",
    "    return res\n",
    "end\n",
    "# @lc code=end"
   ],
   "metadata": {},
   "execution_count": 1
  },
  {
   "cell_type": "markdown",
   "source": [
    "---\n",
    "\n",
    "*This notebook was generated using [Literate.jl](https://github.com/fredrikekre/Literate.jl).*"
   ],
   "metadata": {}
  }
 ],
 "nbformat_minor": 3,
 "metadata": {
  "language_info": {
   "file_extension": ".jl",
   "mimetype": "application/julia",
   "name": "julia",
   "version": "1.8.2"
  },
  "kernelspec": {
   "name": "julia-1.8",
   "display_name": "Julia 1.8.2",
   "language": "julia"
  }
 },
 "nbformat": 4
}
