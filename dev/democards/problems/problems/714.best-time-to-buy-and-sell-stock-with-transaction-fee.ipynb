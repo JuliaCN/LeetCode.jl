{
 "cells": [
  {
   "cell_type": "markdown",
   "source": [
    "Your are given an array of integers `prices`, for which the `i`-th element is\n",
    "the price of a given stock on day `i`; and a non-negative integer `fee`\n",
    "representing a transaction fee.\n",
    "\n",
    "You may complete as many transactions as you like, but you need to pay the\n",
    "transaction fee for each transaction. You may not buy more than 1 share of a\n",
    "stock at a time (ie. you must sell the stock share before you buy again.)\n",
    "\n",
    "Return the maximum profit you can make.\n",
    "\n",
    "**Example 1:**\n",
    "\n",
    "\n",
    "\n",
    "    Input: prices = [1, 3, 2, 8, 4, 9], fee = 2\n",
    "    Output: 8\n",
    "    Explanation: The maximum profit can be achieved by:\n",
    "\n",
    "    * Buying at prices[0] = 1\n",
    "    * Selling at prices[3] = 8\n",
    "    * Buying at prices[4] = 4\n",
    "    * Selling at prices[5] = 9\n",
    "    The total profit is ((8 - 1) - 2) + ((9 - 4) - 2) = 8.\n",
    "\n",
    "\n",
    "**Note:**\n",
    "\n",
    "* `0 < prices.length <= 50000`.\n",
    "* `0 < prices[i] < 50000`.\n",
    "* `0 <= fee < 50000`."
   ],
   "metadata": {}
  },
  {
   "outputs": [
    {
     "output_type": "execute_result",
     "data": {
      "text/plain": "max_profit714 (generic function with 1 method)"
     },
     "metadata": {},
     "execution_count": 1
    }
   ],
   "cell_type": "code",
   "source": [
    "# @lc code=start\n",
    "using LeetCode\n",
    "function max_profit714(price::Vector{Int}, fee::Int)::Int\n",
    "    dp1, dp2 = 0, -50000\n",
    "    for p in price\n",
    "        dp1, dp2 = max(dp1, dp2 + p - fee), max(dp2, dp1 - p)\n",
    "    end\n",
    "    return dp1\n",
    "end\n",
    "# @lc code=end"
   ],
   "metadata": {},
   "execution_count": 1
  },
  {
   "cell_type": "markdown",
   "source": [
    "---\n",
    "\n",
    "*This notebook was generated using [Literate.jl](https://github.com/fredrikekre/Literate.jl).*"
   ],
   "metadata": {}
  }
 ],
 "nbformat_minor": 3,
 "metadata": {
  "language_info": {
   "file_extension": ".jl",
   "mimetype": "application/julia",
   "name": "julia",
   "version": "1.9.1"
  },
  "kernelspec": {
   "name": "julia-1.9",
   "display_name": "Julia 1.9.1",
   "language": "julia"
  }
 },
 "nbformat": 4
}
