{
 "cells": [
  {
   "cell_type": "markdown",
   "source": [
    "In a array `A` of size `2N`, there are `N+1` unique elements, and exactly one\n",
    "of these elements is repeated `N` times.\n",
    "\n",
    "Return the element repeated `N` times.\n",
    "\n",
    "\n",
    "\n",
    "**Example 1:**\n",
    "\n",
    "\n",
    "\n",
    "    Input: [1,2,3,3]\n",
    "    Output: 3\n",
    "\n",
    "\n",
    "**Example 2:**\n",
    "\n",
    "\n",
    "\n",
    "    Input: [2,1,2,5,3,2]\n",
    "    Output: 2\n",
    "\n",
    "\n",
    "**Example 3:**\n",
    "\n",
    "\n",
    "\n",
    "    Input: [5,1,5,2,5,3,5,4]\n",
    "    Output: 5\n",
    "\n",
    "\n",
    "\n",
    "\n",
    "**Note:**\n",
    "\n",
    "  * `4 <= A.length <= 10000`\n",
    "  * `0 <= A[i] < 10000`\n",
    "  * `A.length` is even"
   ],
   "metadata": {}
  },
  {
   "outputs": [
    {
     "output_type": "execute_result",
     "data": {
      "text/plain": "repeated_n_times (generic function with 1 method)"
     },
     "metadata": {},
     "execution_count": 1
    }
   ],
   "cell_type": "code",
   "source": [
    "# @lc code=start\n",
    "using LeetCode\n",
    "\n",
    "function repeated_n_times(A::Vector{Int})\n",
    "    for i in 2:length(A)\n",
    "        if A[i] == A[i - 1]\n",
    "            return A[i]\n",
    "        end\n",
    "    end\n",
    "    \"\"\"\n",
    "    3X3X OR 3XX3 OR X3X3\n",
    "    \"\"\"\n",
    "    return (A[1] == A[3] || A[1] == A[4]) ? A[1] : A[2]\n",
    "end\n",
    "# @lc code=end"
   ],
   "metadata": {},
   "execution_count": 1
  },
  {
   "cell_type": "markdown",
   "source": [
    "---\n",
    "\n",
    "*This notebook was generated using [Literate.jl](https://github.com/fredrikekre/Literate.jl).*"
   ],
   "metadata": {}
  }
 ],
 "nbformat_minor": 3,
 "metadata": {
  "language_info": {
   "file_extension": ".jl",
   "mimetype": "application/julia",
   "name": "julia",
   "version": "1.6.0"
  },
  "kernelspec": {
   "name": "julia-1.6",
   "display_name": "Julia 1.6.0",
   "language": "julia"
  }
 },
 "nbformat": 4
}
