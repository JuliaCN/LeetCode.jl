{
 "cells": [
  {
   "cell_type": "markdown",
   "source": [
    "Given the `root` of a binary search tree and the lowest and highest boundaries\n",
    "as `low` and `high`, trim the tree so that all its elements lies in `[low,\n",
    "high]`. Trimming the tree should **not** change the relative structure of the\n",
    "elements that will remain in the tree (i.e., any node's descendant should\n",
    "remain a descendant). It can be proven that there is a **unique answer**.\n",
    "\n",
    "Return _the root of the trimmed binary search tree_. Note that the root may\n",
    "change depending on the given bounds.\n",
    "\n",
    "\n",
    "\n",
    "**Example 1:**\n",
    "\n",
    "![](https://assets.leetcode.com/uploads/2020/09/09/trim1.jpg)\n",
    "\n",
    "\n",
    "\n",
    "    Input: root = [1,0,2], low = 1, high = 2\n",
    "    Output: [1,null,2]\n",
    "\n",
    "\n",
    "**Example 2:**\n",
    "\n",
    "![](https://assets.leetcode.com/uploads/2020/09/09/trim2.jpg)\n",
    "\n",
    "\n",
    "\n",
    "    Input: root = [3,0,4,null,2,null,null,1], low = 1, high = 3\n",
    "    Output: [3,2,null,1]\n",
    "\n",
    "\n",
    "**Example 3:**\n",
    "\n",
    "\n",
    "\n",
    "    Input: root = [1], low = 1, high = 2\n",
    "    Output: [1]\n",
    "\n",
    "\n",
    "**Example 4:**\n",
    "\n",
    "\n",
    "\n",
    "    Input: root = [1,null,2], low = 1, high = 3\n",
    "    Output: [1,null,2]\n",
    "\n",
    "\n",
    "**Example 5:**\n",
    "\n",
    "\n",
    "\n",
    "    Input: root = [1,null,2], low = 2, high = 4\n",
    "    Output: [2]\n",
    "\n",
    "\n",
    "\n",
    "\n",
    "**Constraints:**\n",
    "\n",
    "  * The number of nodes in the tree in the range `[1, 104]`.\n",
    "  * `0 <= Node.val <= 104`\n",
    "  * The value of each node in the tree is **unique**.\n",
    "  * `root` is guaranteed to be a valid binary search tree.\n",
    "  * `0 <= low <= high <= 104`"
   ],
   "metadata": {}
  },
  {
   "outputs": [
    {
     "output_type": "execute_result",
     "data": {
      "text/plain": "trim_BST (generic function with 2 methods)"
     },
     "metadata": {},
     "execution_count": 1
    }
   ],
   "cell_type": "code",
   "source": [
    "# @lc code=start\n",
    "using LeetCode\n",
    "\n",
    "trim_BST(::Nothing, L::Int, R::Int) = nothing\n",
    "\n",
    "function trim_BST(root::TreeNode{Int}, L::Int, R::Int)\n",
    "    root.val > R && return trim_BST(root.left, L, R)\n",
    "    root.val < L && return trim_BST(root.right, L, R)\n",
    "    root.left = trim_BST(root.left, L, R)\n",
    "    root.right = trim_BST(root.right, L, R)\n",
    "    return root\n",
    "end\n",
    "# @lc code=end"
   ],
   "metadata": {},
   "execution_count": 1
  },
  {
   "cell_type": "markdown",
   "source": [
    "---\n",
    "\n",
    "*This notebook was generated using [Literate.jl](https://github.com/fredrikekre/Literate.jl).*"
   ],
   "metadata": {}
  }
 ],
 "nbformat_minor": 3,
 "metadata": {
  "language_info": {
   "file_extension": ".jl",
   "mimetype": "application/julia",
   "name": "julia",
   "version": "1.11.6"
  },
  "kernelspec": {
   "name": "julia-1.11",
   "display_name": "Julia 1.11.6",
   "language": "julia"
  }
 },
 "nbformat": 4
}
