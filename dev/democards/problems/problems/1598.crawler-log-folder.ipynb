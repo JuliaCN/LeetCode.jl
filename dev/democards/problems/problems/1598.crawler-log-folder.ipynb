{
 "cells": [
  {
   "cell_type": "markdown",
   "source": [
    "The Leetcode file system keeps a log each time some user performs a _change\n",
    "folder_ operation.\n",
    "\n",
    "The operations are described below:\n",
    "\n",
    "  * `\"../\"` : Move to the parent folder of the current folder. (If you are already in the main folder, **remain in the same folder** ).\n",
    "  * `\"./\"` : Remain in the same folder.\n",
    "  * `\"x/\"` : Move to the child folder named `x` (This folder is **guaranteed to always exist** ).\n",
    "\n",
    "You are given a list of strings `logs` where `logs[i]` is the operation\n",
    "performed by the user at the `ith` step.\n",
    "\n",
    "The file system starts in the main folder, then the operations in `logs` are\n",
    "performed.\n",
    "\n",
    "Return _the minimum number of operations needed to go back to the main folder\n",
    "after the change folder operations._\n",
    "\n",
    "\n",
    "\n",
    "**Example 1:**\n",
    "\n",
    "![](https://assets.leetcode.com/uploads/2020/09/09/sample_11_1957.png)\n",
    "\n",
    "\n",
    "\n",
    "    Input: logs = [\"d1/\",\"d2/\",\"../\",\"d21/\",\"./\"]\n",
    "    Output: 2\n",
    "    Explanation: Use this change folder operation \"../\" 2 times and go back to the main folder.\n",
    "\n",
    "\n",
    "**Example 2:**\n",
    "\n",
    "![](https://assets.leetcode.com/uploads/2020/09/09/sample_22_1957.png)\n",
    "\n",
    "\n",
    "\n",
    "    Input: logs = [\"d1/\",\"d2/\",\"./\",\"d3/\",\"../\",\"d31/\"]\n",
    "    Output: 3\n",
    "\n",
    "\n",
    "**Example 3:**\n",
    "\n",
    "\n",
    "\n",
    "    Input: logs = [\"d1/\",\"../\",\"../\",\"../\"]\n",
    "    Output: 0\n",
    "\n",
    "\n",
    "\n",
    "\n",
    "**Constraints:**\n",
    "\n",
    "  * `1 <= logs.length <= 103`\n",
    "  * `2 <= logs[i].length <= 10`\n",
    "  * `logs[i]` contains lowercase English letters, digits, `'.'`, and `'/'`.\n",
    "  * `logs[i]` follows the format described in the statement.\n",
    "  * Folder names consist of lowercase English letters and digits."
   ],
   "metadata": {}
  },
  {
   "outputs": [
    {
     "output_type": "execute_result",
     "data": {
      "text/plain": "min_operations_1198 (generic function with 1 method)"
     },
     "metadata": {},
     "execution_count": 1
    }
   ],
   "cell_type": "code",
   "source": [
    "# @lc code=start\n",
    "using LeetCode\n",
    "\n",
    "function min_operations_1198(logs::Vector{String})\n",
    "    res = 0\n",
    "    for lg in logs\n",
    "        if lg == \"../\"\n",
    "            res = max(0, res - 1)\n",
    "        elseif lg != \"./\"\n",
    "            res += 1\n",
    "        end\n",
    "    end\n",
    "    return res\n",
    "end\n",
    "# @lc code=end"
   ],
   "metadata": {},
   "execution_count": 1
  },
  {
   "cell_type": "markdown",
   "source": [
    "---\n",
    "\n",
    "*This notebook was generated using [Literate.jl](https://github.com/fredrikekre/Literate.jl).*"
   ],
   "metadata": {}
  }
 ],
 "nbformat_minor": 3,
 "metadata": {
  "language_info": {
   "file_extension": ".jl",
   "mimetype": "application/julia",
   "name": "julia",
   "version": "1.7.2"
  },
  "kernelspec": {
   "name": "julia-1.7",
   "display_name": "Julia 1.7.2",
   "language": "julia"
  }
 },
 "nbformat": 4
}
