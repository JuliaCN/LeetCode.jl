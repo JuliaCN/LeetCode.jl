{
 "cells": [
  {
   "cell_type": "markdown",
   "source": [
    "A sequence of numbers is called a **wiggle sequence** if the differences\n",
    "between successive numbers strictly alternate between positive and negative.\n",
    "The first difference (if one exists) may be either positive or negative. A\n",
    "sequence with fewer than two elements is trivially a wiggle sequence.\n",
    "\n",
    "For example, `[1,7,4,9,2,5]` is a wiggle sequence because the differences\n",
    "`(6,-3,5,-7,3)` are alternately positive and negative. In contrast,\n",
    "`[1,4,7,2,5]` and `[1,7,4,5,5]` are not wiggle sequences, the first because\n",
    "its first two differences are positive and the second because its last\n",
    "difference is zero.\n",
    "\n",
    "Given a sequence of integers, return the length of the longest subsequence\n",
    "that is a wiggle sequence. A subsequence is obtained by deleting some number\n",
    "of elements (eventually, also zero) from the original sequence, leaving the\n",
    "remaining elements in their original order.\n",
    "\n",
    "**Example 1:**\n",
    "\n",
    "\n",
    "\n",
    "    Input: [1,7,4,9,2,5]\n",
    "    Output: 6\n",
    "    Explanation: The entire sequence is a wiggle sequence.\n",
    "\n",
    "**Example 2:**\n",
    "\n",
    "\n",
    "\n",
    "    Input: [1,17,5,10,13,15,10,5,16,8]\n",
    "    Output: 7\n",
    "    Explanation: There are several subsequences that achieve this length. One is [1,17,10,13,10,16,8].\n",
    "\n",
    "**Example 3:**\n",
    "\n",
    "\n",
    "\n",
    "    Input: [1,2,3,4,5,6,7,8,9]\n",
    "    Output: 2\n",
    "\n",
    "**Follow up:**\n",
    "Can you do it in O( _n_ ) time?"
   ],
   "metadata": {}
  },
  {
   "outputs": [
    {
     "output_type": "execute_result",
     "data": {
      "text/plain": "wiggle_max_length (generic function with 1 method)"
     },
     "metadata": {},
     "execution_count": 1
    }
   ],
   "cell_type": "code",
   "source": [
    "# @lc code=start\n",
    "using LeetCode\n",
    "function wiggle_max_length(nums::Vector{Int})::Int\n",
    "    len = length(nums)\n",
    "    (len < 2) && return len\n",
    "\n",
    "    pre_diff = nums[2] - nums[1]\n",
    "    res = (pre_diff == 0 ? 1 : 2)\n",
    "    for i in 3:len\n",
    "        diff = nums[i] - nums[i - 1]\n",
    "        if diff > 0 && pre_diff <= 0 || diff < 0 && pre_diff > 0\n",
    "            res += 1\n",
    "            pre_diff = diff\n",
    "        end\n",
    "    end\n",
    "    return res\n",
    "end\n",
    "# @lc code=end"
   ],
   "metadata": {},
   "execution_count": 1
  },
  {
   "cell_type": "markdown",
   "source": [
    "---\n",
    "\n",
    "*This notebook was generated using [Literate.jl](https://github.com/fredrikekre/Literate.jl).*"
   ],
   "metadata": {}
  }
 ],
 "nbformat_minor": 3,
 "metadata": {
  "language_info": {
   "file_extension": ".jl",
   "mimetype": "application/julia",
   "name": "julia",
   "version": "1.6.2"
  },
  "kernelspec": {
   "name": "julia-1.6",
   "display_name": "Julia 1.6.2",
   "language": "julia"
  }
 },
 "nbformat": 4
}
