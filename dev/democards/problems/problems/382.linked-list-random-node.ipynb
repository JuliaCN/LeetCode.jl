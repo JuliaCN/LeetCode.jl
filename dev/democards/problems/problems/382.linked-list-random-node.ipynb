{
 "cells": [
  {
   "cell_type": "markdown",
   "source": [
    "Given a singly linked list, return a random node's value from the linked list.\n",
    "Each node must have the **same probability** of being chosen.\n",
    "\n",
    "**Follow up:**\n",
    "What if the linked list is extremely large and its length is unknown to you?\n",
    "Could you solve this efficiently without using extra space?\n",
    "\n",
    "**Example:**\n",
    "\n",
    "\n",
    "\n",
    "    // Init a singly linked list [1,2,3].\n",
    "    ListNode head = new ListNode(1);\n",
    "    head.next = new ListNode(2);\n",
    "    head.next.next = new ListNode(3);\n",
    "    Solution solution = new Solution(head);\n",
    "\n",
    "    // getRandom() should return either 1, 2, or 3 randomly. Each element should have equal probability of returning.\n",
    "    solution.getRandom();"
   ],
   "metadata": {}
  },
  {
   "outputs": [
    {
     "output_type": "execute_result",
     "data": {
      "text/plain": "get_random (generic function with 1 method)"
     },
     "metadata": {},
     "execution_count": 1
    }
   ],
   "cell_type": "code",
   "source": [
    "# @lc code=start\n",
    "using LeetCode\n",
    "\n",
    "function get_random(head::ListNode)::Int\n",
    "    node, i, res = head, 1, 0\n",
    "    while !isnothing(node)\n",
    "        if rand(1:i) == 1  ## 1/i prob for value change\n",
    "            res = node.val\n",
    "        end\n",
    "        node = node.next\n",
    "        i += 1\n",
    "    end\n",
    "    return res\n",
    "end\n",
    "# @lc code=end"
   ],
   "metadata": {},
   "execution_count": 1
  },
  {
   "cell_type": "markdown",
   "source": [
    "---\n",
    "\n",
    "*This notebook was generated using [Literate.jl](https://github.com/fredrikekre/Literate.jl).*"
   ],
   "metadata": {}
  }
 ],
 "nbformat_minor": 3,
 "metadata": {
  "language_info": {
   "file_extension": ".jl",
   "mimetype": "application/julia",
   "name": "julia",
   "version": "1.11.6"
  },
  "kernelspec": {
   "name": "julia-1.11",
   "display_name": "Julia 1.11.6",
   "language": "julia"
  }
 },
 "nbformat": 4
}
