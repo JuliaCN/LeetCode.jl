{
 "cells": [
  {
   "cell_type": "markdown",
   "source": [
    "Given two positive integers `x` and `y`, an integer is _powerful_  if it is\n",
    "equal to `x^i + y^j` for some integers `i >= 0` and `j >= 0`.\n",
    "\n",
    "Return a list of all _powerful_ integers that have value less than or equal to\n",
    "`bound`.\n",
    "\n",
    "You may return the answer in any order.  In your answer, each value should\n",
    "occur at most once.\n",
    "\n",
    "\n",
    "\n",
    "**Example 1:**\n",
    "\n",
    "\n",
    "\n",
    "    Input: x = 2, y = 3, bound = 10\n",
    "    Output: [2,3,4,5,7,9,10]\n",
    "    Explanation:\n",
    "    2 = 2^0 + 3^0\n",
    "    3 = 2^1 + 3^0\n",
    "    4 = 2^0 + 3^1\n",
    "    5 = 2^1 + 3^1\n",
    "    7 = 2^2 + 3^1\n",
    "    9 = 2^3 + 3^0\n",
    "    10 = 2^0 + 3^2\n",
    "\n",
    "\n",
    "**Example 2:**\n",
    "\n",
    "\n",
    "\n",
    "    Input: x = 3, y = 5, bound = 15\n",
    "    Output: [2,4,6,8,10,14]\n",
    "\n",
    "\n",
    "\n",
    "\n",
    "**Note:**\n",
    "\n",
    "  * `1 <= x <= 100`\n",
    "  * `1 <= y <= 100`\n",
    "  * `0 <= bound <= 10^6`"
   ],
   "metadata": {}
  },
  {
   "outputs": [
    {
     "output_type": "execute_result",
     "data": {
      "text/plain": "powerful_integers (generic function with 1 method)"
     },
     "metadata": {},
     "execution_count": 1
    }
   ],
   "cell_type": "code",
   "source": [
    "# @lc code=start\n",
    "using LeetCode\n",
    "\n",
    "function powerful_integers(x::Int, y::Int, bound::Int)\n",
    "    res = Set{Int}()\n",
    "    i = 1\n",
    "    while i < bound\n",
    "        j = 1\n",
    "        while i + j ≤ bound\n",
    "            push!(res, i + j)\n",
    "            j *= y\n",
    "            (y == 1) && break\n",
    "        end\n",
    "        i *= x\n",
    "        (x == 1) && break\n",
    "    end\n",
    "    res\n",
    "end\n",
    "# @lc code=end"
   ],
   "metadata": {},
   "execution_count": 1
  },
  {
   "cell_type": "markdown",
   "source": [
    "---\n",
    "\n",
    "*This notebook was generated using [Literate.jl](https://github.com/fredrikekre/Literate.jl).*"
   ],
   "metadata": {}
  }
 ],
 "nbformat_minor": 3,
 "metadata": {
  "language_info": {
   "file_extension": ".jl",
   "mimetype": "application/julia",
   "name": "julia",
   "version": "1.6.0"
  },
  "kernelspec": {
   "name": "julia-1.6",
   "display_name": "Julia 1.6.0",
   "language": "julia"
  }
 },
 "nbformat": 4
}
