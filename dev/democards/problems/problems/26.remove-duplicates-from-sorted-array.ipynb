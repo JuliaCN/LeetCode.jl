{
 "cells": [
  {
   "cell_type": "markdown",
   "source": [
    "Given a sorted array _nums_ , remove the duplicates [**in-\n",
    "place**](https://en.wikipedia.org/wiki/In-place_algorithm) such that each\n",
    "element appears only _once_ and returns the new length.\n",
    "\n",
    "Do not allocate extra space for another array, you must do this by **modifying\n",
    "the input array[in-place](https://en.wikipedia.org/wiki/In-place_algorithm)**\n",
    "with O(1) extra memory.\n",
    "\n",
    "**Clarification:**\n",
    "\n",
    "Confused why the returned value is an integer but your answer is an array?\n",
    "\n",
    "Note that the input array is passed in by **reference** , which means a\n",
    "modification to the input array will be known to the caller as well.\n",
    "\n",
    "Internally you can think of this:\n",
    "\n",
    "\n",
    "\n",
    "    // **nums** is passed in by reference. (i.e., without making a copy)\n",
    "    int len = removeDuplicates(nums);\n",
    "\n",
    "    // any modification to **nums** in your function would be known by the caller.\n",
    "    // using the length returned by your function, it prints the first **len** elements.\n",
    "    for (int i = 0; i < len; i++) {\n",
    "        print(nums[i]);\n",
    "    }\n",
    "\n",
    "\n",
    "\n",
    "**Example 1:**\n",
    "\n",
    "\n",
    "\n",
    "    Input: nums = [1,1,2]\n",
    "    Output: 2, nums = [1,2]\n",
    "    Explanation:  Your function should return length = **2** , with the first two elements of _nums_ being **1** and **2** respectively. It doesn't matter what you leave beyond the returned length.\n",
    "\n",
    "\n",
    "**Example 2:**\n",
    "\n",
    "\n",
    "\n",
    "    Input: nums = [0,0,1,1,1,2,2,3,3,4]\n",
    "    Output: 5, nums = [0,1,2,3,4]\n",
    "    Explanation:  Your function should return length = **5** , with the first five elements of _nums_ being modified to  **0** , **1** , **2** , **3** , and  **4** respectively. It doesn't matter what values are set beyond the returned length.\n",
    "\n",
    "\n",
    "\n",
    "\n",
    "**Constraints:**\n",
    "\n",
    "  * `0 <= nums.length <= 3 * 104`\n",
    "  * `-104 <= nums[i] <= 104`\n",
    "  * `nums` is sorted in ascending order."
   ],
   "metadata": {}
  },
  {
   "outputs": [
    {
     "output_type": "execute_result",
     "data": {
      "text/plain": "remove_duplicates1! (generic function with 1 method)"
     },
     "metadata": {},
     "execution_count": 1
    }
   ],
   "cell_type": "code",
   "source": [
    "# @lc code=start\n",
    "using LeetCode\n",
    "\n",
    "function remove_duplicates1!(nums::Vector{Int})::Int\n",
    "    j = 2\n",
    "    for i in 2: length(nums)\n",
    "        if nums[i] != nums[j - 1]\n",
    "            nums[j] = nums[i]\n",
    "            j += 1\n",
    "        end\n",
    "    end\n",
    "\n",
    "    return j - 1\n",
    "end\n",
    "\n",
    "# @lc code=end"
   ],
   "metadata": {},
   "execution_count": 1
  },
  {
   "cell_type": "markdown",
   "source": [
    "---\n",
    "\n",
    "*This notebook was generated using [Literate.jl](https://github.com/fredrikekre/Literate.jl).*"
   ],
   "metadata": {}
  }
 ],
 "nbformat_minor": 3,
 "metadata": {
  "language_info": {
   "file_extension": ".jl",
   "mimetype": "application/julia",
   "name": "julia",
   "version": "1.8.0"
  },
  "kernelspec": {
   "name": "julia-1.8",
   "display_name": "Julia 1.8.0",
   "language": "julia"
  }
 },
 "nbformat": 4
}
