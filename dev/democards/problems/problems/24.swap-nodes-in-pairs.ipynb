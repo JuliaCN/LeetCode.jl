{
 "cells": [
  {
   "cell_type": "markdown",
   "source": [
    "Given a linked list, swap every two adjacent nodes and return its head.\n",
    "\n",
    "You may **not** modify the values in the list's nodes. Only nodes itself may\n",
    "be changed.\n",
    "\n",
    "\n",
    "\n",
    "**Example 1:**\n",
    "\n",
    "![](https://assets.leetcode.com/uploads/2020/10/03/swap_ex1.jpg)\n",
    "\n",
    "\n",
    "\n",
    "    Input: head = [1,2,3,4]\n",
    "    Output: [2,1,4,3]\n",
    "\n",
    "\n",
    "**Example 2:**\n",
    "\n",
    "\n",
    "\n",
    "    Input: head = []\n",
    "    Output: []\n",
    "\n",
    "\n",
    "**Example 3:**\n",
    "\n",
    "\n",
    "\n",
    "    Input: head = [1]\n",
    "    Output: [1]\n",
    "\n",
    "\n",
    "\n",
    "\n",
    "**Constraints:**\n",
    "\n",
    "  * The number of nodes in the list is in the range `[0, 100]`.\n",
    "  * `0 <= Node.val <= 100`"
   ],
   "metadata": {}
  },
  {
   "outputs": [
    {
     "output_type": "execute_result",
     "data": {
      "text/plain": "swap_pairs (generic function with 1 method)"
     },
     "metadata": {},
     "execution_count": 1
    }
   ],
   "cell_type": "code",
   "source": [
    "# @lc code=start\n",
    "using LeetCode\n",
    "\n",
    "function swap_pairs(head::ListNode)::ListNode\n",
    "    pre = dummpy = ListNode()\n",
    "    pre.next = head\n",
    "\n",
    "    while !isnothing(next(pre)) && !isnothing(next(next(pre)))\n",
    "        a = pre.next\n",
    "        b = a.next\n",
    "\n",
    "        # `pre->a->b->b.next` => `pre->b->a->b.next`\n",
    "        pre.next, b.next, a.next = b, a, b.next\n",
    "\n",
    "        pre = a\n",
    "    end\n",
    "\n",
    "    return dummpy.next\n",
    "end\n",
    "\n",
    "# @lc code=end"
   ],
   "metadata": {},
   "execution_count": 1
  },
  {
   "cell_type": "markdown",
   "source": [
    "---\n",
    "\n",
    "*This notebook was generated using [Literate.jl](https://github.com/fredrikekre/Literate.jl).*"
   ],
   "metadata": {}
  }
 ],
 "nbformat_minor": 3,
 "metadata": {
  "language_info": {
   "file_extension": ".jl",
   "mimetype": "application/julia",
   "name": "julia",
   "version": "1.10.1"
  },
  "kernelspec": {
   "name": "julia-1.10",
   "display_name": "Julia 1.10.1",
   "language": "julia"
  }
 },
 "nbformat": 4
}
