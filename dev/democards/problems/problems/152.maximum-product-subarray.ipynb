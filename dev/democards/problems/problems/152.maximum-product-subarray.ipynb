{
 "cells": [
  {
   "cell_type": "markdown",
   "source": [
    "Given an integer array `nums`, find the contiguous subarray within an array\n",
    "(containing at least one number) which has the largest product.\n",
    "\n",
    "**Example 1:**\n",
    "\n",
    "\n",
    "\n",
    "    Input: [2,3,-2,4]\n",
    "    Output: 6\n",
    "    Explanation:  [2,3] has the largest product 6.\n",
    "\n",
    "\n",
    "**Example 2:**\n",
    "\n",
    "\n",
    "\n",
    "    Input: [-2,0,-1]\n",
    "    Output: 0\n",
    "    Explanation:  The result cannot be 2, because [-2,-1] is not a subarray."
   ],
   "metadata": {}
  },
  {
   "outputs": [
    {
     "output_type": "execute_result",
     "data": {
      "text/plain": "max_product (generic function with 1 method)"
     },
     "metadata": {},
     "execution_count": 1
    }
   ],
   "cell_type": "code",
   "source": [
    "# @lc code=start\n",
    "using LeetCode\n",
    "\n",
    "function max_product(nums::Vector{Int})\n",
    "    maxF = minF = res = nums[1]\n",
    "    for num in @view nums[2:end]\n",
    "        maxF, minF = max(maxF * num, minF * num, num), min(minF * num, maxF * num, num)\n",
    "        res = max(res, maxF)\n",
    "    end\n",
    "    res\n",
    "end\n",
    "# @lc code=end"
   ],
   "metadata": {},
   "execution_count": 1
  },
  {
   "cell_type": "markdown",
   "source": [
    "---\n",
    "\n",
    "*This notebook was generated using [Literate.jl](https://github.com/fredrikekre/Literate.jl).*"
   ],
   "metadata": {}
  }
 ],
 "nbformat_minor": 3,
 "metadata": {
  "language_info": {
   "file_extension": ".jl",
   "mimetype": "application/julia",
   "name": "julia",
   "version": "1.6.0"
  },
  "kernelspec": {
   "name": "julia-1.6",
   "display_name": "Julia 1.6.0",
   "language": "julia"
  }
 },
 "nbformat": 4
}
