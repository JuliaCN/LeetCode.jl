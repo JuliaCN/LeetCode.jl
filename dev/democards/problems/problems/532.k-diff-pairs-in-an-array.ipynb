{
 "cells": [
  {
   "cell_type": "markdown",
   "source": [
    "Given an array of integers `nums` and an integer `k`, return _the number of\n",
    "**unique** k-diff pairs in the array_.\n",
    "\n",
    "A **k-diff** pair is an integer pair `(nums[i], nums[j])`, where the following\n",
    "are true:\n",
    "\n",
    "  * `0 <= i, j < nums.length`\n",
    "  * `i != j`\n",
    "  * `|nums[i] - nums[j]| == k`\n",
    "\n",
    "**Notice**  that `|val|` denotes the absolute value of `val`.\n",
    "\n",
    "\n",
    "\n",
    "**Example 1:**\n",
    "\n",
    "\n",
    "\n",
    "    Input: nums = [3,1,4,1,5], k = 2\n",
    "    Output: 2\n",
    "    Explanation: There are two 2-diff pairs in the array, (1, 3) and (3, 5).\n",
    "    Although we have two 1s in the input, we should only return the number of **unique** pairs.\n",
    "\n",
    "\n",
    "**Example 2:**\n",
    "\n",
    "\n",
    "\n",
    "    Input: nums = [1,2,3,4,5], k = 1\n",
    "    Output: 4\n",
    "    Explanation: There are four 1-diff pairs in the array, (1, 2), (2, 3), (3, 4) and (4, 5).\n",
    "\n",
    "\n",
    "**Example 3:**\n",
    "\n",
    "\n",
    "\n",
    "    Input: nums = [1,3,1,5,4], k = 0\n",
    "    Output: 1\n",
    "    Explanation: There is one 0-diff pair in the array, (1, 1).\n",
    "\n",
    "\n",
    "**Example 4:**\n",
    "\n",
    "\n",
    "\n",
    "    Input: nums = [1,2,4,4,3,3,0,9,2,3], k = 3\n",
    "    Output: 2\n",
    "\n",
    "\n",
    "**Example 5:**\n",
    "\n",
    "\n",
    "\n",
    "    Input: nums = [-1,-2,-3], k = 1\n",
    "    Output: 2\n",
    "\n",
    "\n",
    "\n",
    "\n",
    "**Constraints:**\n",
    "\n",
    "  * `1 <= nums.length <= 104`\n",
    "  * `-107 <= nums[i] <= 107`\n",
    "  * `0 <= k <= 107`"
   ],
   "metadata": {}
  },
  {
   "outputs": [
    {
     "output_type": "execute_result",
     "data": {
      "text/plain": "find_kpairs (generic function with 1 method)"
     },
     "metadata": {},
     "execution_count": 1
    }
   ],
   "cell_type": "code",
   "source": [
    "# @lc code=start\n",
    "using LeetCode\n",
    "\n",
    "function find_kpairs(nums::Vector{Int}, k::Int)\n",
    "    cntr = counter(nums)\n",
    "    res = 0\n",
    "    if k > 0\n",
    "        for (ky, vl) in cntr\n",
    "            res += (ky - k in keys(cntr)) ? 1 : 0\n",
    "        end\n",
    "    else\n",
    "        for (ky, vl) in cntr\n",
    "            res += ifelse(vl > 1, 1, 0)\n",
    "        end\n",
    "    end\n",
    "    return res\n",
    "end\n",
    "# @lc code=end"
   ],
   "metadata": {},
   "execution_count": 1
  },
  {
   "cell_type": "markdown",
   "source": [
    "---\n",
    "\n",
    "*This notebook was generated using [Literate.jl](https://github.com/fredrikekre/Literate.jl).*"
   ],
   "metadata": {}
  }
 ],
 "nbformat_minor": 3,
 "metadata": {
  "language_info": {
   "file_extension": ".jl",
   "mimetype": "application/julia",
   "name": "julia",
   "version": "1.7.3"
  },
  "kernelspec": {
   "name": "julia-1.7",
   "display_name": "Julia 1.7.3",
   "language": "julia"
  }
 },
 "nbformat": 4
}
