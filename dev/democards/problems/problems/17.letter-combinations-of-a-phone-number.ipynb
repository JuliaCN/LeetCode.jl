{
 "cells": [
  {
   "cell_type": "markdown",
   "source": [
    "Given a string containing digits from `2-9` inclusive, return all possible\n",
    "letter combinations that the number could represent. Return the answer in\n",
    "**any order**.\n",
    "\n",
    "A mapping of digit to letters (just like on the telephone buttons) is given\n",
    "below. Note that 1 does not map to any letters.\n",
    "\n",
    "![](https://upload.wikimedia.org/wikipedia/commons/thumb/7/73/Telephone-\n",
    "keypad2.svg/200px-Telephone-keypad2.svg.png)\n",
    "\n",
    "\n",
    "\n",
    "**Example 1:**\n",
    "\n",
    "\n",
    "\n",
    "    Input: digits = \"23\"\n",
    "    Output: [\"ad\",\"ae\",\"af\",\"bd\",\"be\",\"bf\",\"cd\",\"ce\",\"cf\"]\n",
    "\n",
    "\n",
    "**Example 2:**\n",
    "\n",
    "\n",
    "\n",
    "    Input: digits = \"\"\n",
    "    Output: []\n",
    "\n",
    "\n",
    "**Example 3:**\n",
    "\n",
    "\n",
    "\n",
    "    Input: digits = \"2\"\n",
    "    Output: [\"a\",\"b\",\"c\"]\n",
    "\n",
    "\n",
    "\n",
    "\n",
    "**Constraints:**\n",
    "\n",
    "  * `0 <= digits.length <= 4`\n",
    "  * `digits[i]` is a digit in the range `['2', '9']`."
   ],
   "metadata": {}
  },
  {
   "outputs": [
    {
     "output_type": "execute_result",
     "data": {
      "text/plain": "letter_combinations (generic function with 1 method)"
     },
     "metadata": {},
     "execution_count": 1
    }
   ],
   "cell_type": "code",
   "source": [
    "# @lc code=start\n",
    "using LeetCode\n",
    "\n",
    "function letter_combinations(digits::String)::Vector{String}\n",
    "    isempty(digits) && return String[]\n",
    "    table = Dict{Char,String}(\n",
    "        '2' => \"abc\",\n",
    "        '3' => \"def\",\n",
    "        '4' => \"ghi\",\n",
    "        '5' => \"jkl\",\n",
    "        '6' => \"mno\",\n",
    "        '7' => \"pqrs\",\n",
    "        '8' => \"tuv\",\n",
    "        '9' => \"wxyz\",\n",
    "    )\n",
    "    res = [\"\"]\n",
    "    for i in digits\n",
    "        res = [s1 * s2 for s1 in res for s2 in table[i]]\n",
    "    end\n",
    "    return res\n",
    "end\n",
    "# @lc code=end"
   ],
   "metadata": {},
   "execution_count": 1
  },
  {
   "cell_type": "markdown",
   "source": [
    "---\n",
    "\n",
    "*This notebook was generated using [Literate.jl](https://github.com/fredrikekre/Literate.jl).*"
   ],
   "metadata": {}
  }
 ],
 "nbformat_minor": 3,
 "metadata": {
  "language_info": {
   "file_extension": ".jl",
   "mimetype": "application/julia",
   "name": "julia",
   "version": "1.7.2"
  },
  "kernelspec": {
   "name": "julia-1.7",
   "display_name": "Julia 1.7.2",
   "language": "julia"
  }
 },
 "nbformat": 4
}
