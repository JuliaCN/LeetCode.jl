{
 "cells": [
  {
   "cell_type": "markdown",
   "source": [
    "Reverse a singly linked list.\n",
    "\n",
    "**Example:**\n",
    "\n",
    "\n",
    "\n",
    "    Input: 1->2->3->4->5->NULL\n",
    "    Output: 5->4->3->2->1->NULL\n",
    "\n",
    "\n",
    "**Follow up:**\n",
    "\n",
    "A linked list can be reversed either iteratively or recursively. Could you\n",
    "implement both?"
   ],
   "metadata": {}
  },
  {
   "outputs": [
    {
     "output_type": "execute_result",
     "data": {
      "text/plain": "reverse_list (generic function with 2 methods)"
     },
     "metadata": {},
     "execution_count": 1
    }
   ],
   "cell_type": "code",
   "source": [
    "# @lc code=start\n",
    "using LeetCode\n",
    "\n",
    "reverse_list(head::Nothing) = head\n",
    "function reverse_list(head::ListNode)::ListNode\n",
    "    new_head = pre_node = nothing\n",
    "    while !isnothing(head)\n",
    "        new_head = ListNode(head.val)\n",
    "        pre_node, new_head.next = new_head, pre_node\n",
    "        head = head.next\n",
    "    end\n",
    "    return new_head\n",
    "end\n",
    "# @lc code=end"
   ],
   "metadata": {},
   "execution_count": 1
  },
  {
   "cell_type": "markdown",
   "source": [
    "---\n",
    "\n",
    "*This notebook was generated using [Literate.jl](https://github.com/fredrikekre/Literate.jl).*"
   ],
   "metadata": {}
  }
 ],
 "nbformat_minor": 3,
 "metadata": {
  "language_info": {
   "file_extension": ".jl",
   "mimetype": "application/julia",
   "name": "julia",
   "version": "1.9.1"
  },
  "kernelspec": {
   "name": "julia-1.9",
   "display_name": "Julia 1.9.1",
   "language": "julia"
  }
 },
 "nbformat": 4
}
