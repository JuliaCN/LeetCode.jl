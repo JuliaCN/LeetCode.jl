{
 "cells": [
  {
   "cell_type": "markdown",
   "source": [
    "Given the root of a binary tree, then value `v` and depth `d`, you need to add\n",
    "a row of nodes with value `v` at the given depth `d`. The root node is at\n",
    "depth 1.\n",
    "\n",
    "The adding rule is: given a positive integer depth `d`, for each NOT null tree\n",
    "nodes `N` in depth `d-1`, create two tree nodes with value `v` as `N's` left\n",
    "subtree root and right subtree root. And `N's` **original left subtree**\n",
    "should be the left subtree of the new left subtree root, its **original right\n",
    "subtree** should be the right subtree of the new right subtree root. If depth\n",
    "`d` is 1 that means there is no depth d-1 at all, then create a tree node with\n",
    "value **v** as the new root of the whole original tree, and the original tree\n",
    "is the new root's left subtree.\n",
    "\n",
    "**Example 1:**\n",
    "\n",
    "\n",
    "\n",
    "    Input:\n",
    "    A binary tree as following:\n",
    "           4\n",
    "         /   \\\n",
    "        2     6\n",
    "       / \\   /\n",
    "      3   1 5\n",
    "\n",
    "    **v = 1**\n",
    "\n",
    "    **d = 2**\n",
    "\n",
    "    Output:\n",
    "           4\n",
    "          / \\\n",
    "         1   1\n",
    "        /     \\\n",
    "       2       6\n",
    "      / \\     /\n",
    "     3   1   5\n",
    "\n",
    "\n",
    "\n",
    "**Example 2:**\n",
    "\n",
    "\n",
    "\n",
    "    Input:\n",
    "    A binary tree as following:\n",
    "          4\n",
    "         /\n",
    "        2\n",
    "       / \\\n",
    "      3   1\n",
    "\n",
    "    **v = 1**\n",
    "\n",
    "    **d = 3**\n",
    "\n",
    "    Output:\n",
    "          4\n",
    "         /\n",
    "        2\n",
    "       / \\\n",
    "      1   1\n",
    "     /     \\\n",
    "    3       1\n",
    "\n",
    "\n",
    "**Note:**\n",
    "\n",
    "  1. The given d is in range [1, maximum depth of the given tree + 1].\n",
    "  2. The given binary tree has at least one tree node."
   ],
   "metadata": {}
  },
  {
   "outputs": [
    {
     "output_type": "execute_result",
     "data": {
      "text/plain": "add_one_row! (generic function with 1 method)"
     },
     "metadata": {},
     "execution_count": 1
    }
   ],
   "cell_type": "code",
   "source": [
    "# @lc code=start\n",
    "using LeetCode\n",
    "\n",
    "function add_one_row!(root::TreeNode, val::Int, depth::Int)\n",
    "    if depth == 1\n",
    "        node = TreeNode(val)\n",
    "        node.left = root\n",
    "        node\n",
    "    else\n",
    "        queue = [root]\n",
    "        for _ in 1:(depth - 2), _ in eachindex(queue)\n",
    "            node = popfirst!(queue)\n",
    "            isnothing(node.left) || push!(queue, node.left)\n",
    "            isnothing(node.right) || push!(queue, node.right)\n",
    "        end\n",
    "        for node in queue\n",
    "            left, right = node.left, node.right\n",
    "            node.left = TreeNode(val)\n",
    "            node.left.left = left\n",
    "            node.right = TreeNode(val)\n",
    "            node.right.right = right\n",
    "        end\n",
    "        root\n",
    "    end\n",
    "end\n",
    "\n",
    "# @lc code=end"
   ],
   "metadata": {},
   "execution_count": 1
  },
  {
   "cell_type": "markdown",
   "source": [
    "---\n",
    "\n",
    "*This notebook was generated using [Literate.jl](https://github.com/fredrikekre/Literate.jl).*"
   ],
   "metadata": {}
  }
 ],
 "nbformat_minor": 3,
 "metadata": {
  "language_info": {
   "file_extension": ".jl",
   "mimetype": "application/julia",
   "name": "julia",
   "version": "1.10.4"
  },
  "kernelspec": {
   "name": "julia-1.10",
   "display_name": "Julia 1.10.4",
   "language": "julia"
  }
 },
 "nbformat": 4
}
