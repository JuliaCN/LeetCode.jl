{
 "cells": [
  {
   "cell_type": "markdown",
   "source": [
    "Given two strings `text1` and `text2`, return the length of their longest\n",
    "common subsequence.\n",
    "\n",
    "A _subsequence_ of a string is a new string generated from the original string\n",
    "with some characters(can be none) deleted without changing the relative order\n",
    "of the remaining characters. (eg, \"ace\" is a subsequence of \"abcde\" while\n",
    "\"aec\" is not). A _common subsequence_  of two strings is a subsequence that is\n",
    "common to both strings.\n",
    "\n",
    "\n",
    "\n",
    "If there is no common subsequence, return 0.\n",
    "\n",
    "\n",
    "\n",
    "**Example 1:**\n",
    "\n",
    "\n",
    "\n",
    "    Input: text1 = \"abcde\", text2 = \"ace\"\n",
    "    Output: 3\n",
    "    Explanation: The longest common subsequence is \"ace\" and its length is 3.\n",
    "\n",
    "\n",
    "**Example 2:**\n",
    "\n",
    "\n",
    "\n",
    "    Input: text1 = \"abc\", text2 = \"abc\"\n",
    "    Output: 3\n",
    "    Explanation: The longest common subsequence is \"abc\" and its length is 3.\n",
    "\n",
    "\n",
    "**Example 3:**\n",
    "\n",
    "\n",
    "\n",
    "    Input: text1 = \"abc\", text2 = \"def\"\n",
    "    Output: 0\n",
    "    Explanation: There is no such common subsequence, so the result is 0.\n",
    "\n",
    "\n",
    "\n",
    "\n",
    "**Constraints:**\n",
    "\n",
    "  * `1 <= text1.length <= 1000`\n",
    "  * `1 <= text2.length <= 1000`\n",
    "  * The input strings consist of lowercase English characters only."
   ],
   "metadata": {}
  },
  {
   "outputs": [
    {
     "output_type": "execute_result",
     "data": {
      "text/plain": "longest_common_subsequence (generic function with 1 method)"
     },
     "metadata": {},
     "execution_count": 1
    }
   ],
   "cell_type": "code",
   "source": [
    "# @lc code=start\n",
    "using LeetCode\n",
    "\n",
    "function longest_common_subsequence(itr1, itr2)::Int32\n",
    "    m, n = length(itr1) + 1, length(itr2) + 1\n",
    "    dp = fill(0, m, n)\n",
    "\n",
    "    for i in 2: m, j in 2: n\n",
    "        dp[i, j] = (itr1[i - 1] == itr2[j - 1]) ? (dp[i - 1, j - 1] + 1) : max(dp[i - 1, j], dp[i, j - 1])\n",
    "    end\n",
    "\n",
    "    return dp[m, n]\n",
    "end\n",
    "# @lc code=end"
   ],
   "metadata": {},
   "execution_count": 1
  },
  {
   "cell_type": "markdown",
   "source": [
    "---\n",
    "\n",
    "*This notebook was generated using [Literate.jl](https://github.com/fredrikekre/Literate.jl).*"
   ],
   "metadata": {}
  }
 ],
 "nbformat_minor": 3,
 "metadata": {
  "language_info": {
   "file_extension": ".jl",
   "mimetype": "application/julia",
   "name": "julia",
   "version": "1.7.2"
  },
  "kernelspec": {
   "name": "julia-1.7",
   "display_name": "Julia 1.7.2",
   "language": "julia"
  }
 },
 "nbformat": 4
}
