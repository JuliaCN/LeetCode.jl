{
 "cells": [
  {
   "cell_type": "markdown",
   "source": [
    "Given a string `s` and an integer `k`, return _the length of the longest\n",
    "substring of_ `s` _such that the frequency of each character in this substring\n",
    "is greater than or equal to_ `k`.\n",
    "\n",
    "\n",
    "\n",
    "**Example 1:**\n",
    "\n",
    "\n",
    "\n",
    "    Input: s = \"aaabb\", k = 3\n",
    "    Output: 3\n",
    "    Explanation: The longest substring is \"aaa\", as 'a' is repeated 3 times.\n",
    "\n",
    "\n",
    "**Example 2:**\n",
    "\n",
    "\n",
    "\n",
    "    Input: s = \"ababbc\", k = 2\n",
    "    Output: 5\n",
    "    Explanation: The longest substring is \"ababb\", as 'a' is repeated 2 times and 'b' is repeated 3 times.\n",
    "\n",
    "\n",
    "\n",
    "\n",
    "**Constraints:**\n",
    "\n",
    "  * `1 <= s.length <= 104`\n",
    "  * `s` consists of only lowercase English letters.\n",
    "  * `1 <= k <= 105`"
   ],
   "metadata": {}
  },
  {
   "outputs": [
    {
     "output_type": "execute_result",
     "data": {
      "text/plain": "longest_substring_395 (generic function with 1 method)"
     },
     "metadata": {},
     "execution_count": 1
    }
   ],
   "cell_type": "code",
   "source": [
    "# @lc code=start\n",
    "using LeetCode\n",
    "\n",
    "function longest_substring_395(s::String, k::Int)\n",
    "    function dfs(l::Int, r::Int)\n",
    "        l > r && return 0\n",
    "        cnt = counter(SubString(s, l, r))\n",
    "        split_set = Int[]\n",
    "        for i in l:r\n",
    "            (cnt[s[i]] < k) && push!(split_set, i)\n",
    "        end\n",
    "        isempty(split_set) && return r - l + 1\n",
    "        lft, res = l, 0\n",
    "        for rt in split_set\n",
    "            res = max(res, dfs(lft, rt - 1))\n",
    "            lft = rt + 1\n",
    "        end\n",
    "        res\n",
    "    end\n",
    "    dfs(1, length(s))\n",
    "end\n",
    "# @lc code=end"
   ],
   "metadata": {},
   "execution_count": 1
  },
  {
   "cell_type": "markdown",
   "source": [
    "---\n",
    "\n",
    "*This notebook was generated using [Literate.jl](https://github.com/fredrikekre/Literate.jl).*"
   ],
   "metadata": {}
  }
 ],
 "nbformat_minor": 3,
 "metadata": {
  "language_info": {
   "file_extension": ".jl",
   "mimetype": "application/julia",
   "name": "julia",
   "version": "1.6.3"
  },
  "kernelspec": {
   "name": "julia-1.6",
   "display_name": "Julia 1.6.3",
   "language": "julia"
  }
 },
 "nbformat": 4
}
