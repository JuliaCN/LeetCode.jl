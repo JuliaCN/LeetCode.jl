{
 "cells": [
  {
   "cell_type": "markdown",
   "source": [
    "Given a (singly) linked list with head node `root`, write a function to split\n",
    "the linked list into `k` consecutive linked list \"parts\".\n",
    "\n",
    "The length of each part should be as equal as possible: no two parts should\n",
    "have a size differing by more than 1. This may lead to some parts being null.\n",
    "\n",
    "The parts should be in order of occurrence in the input list, and parts\n",
    "occurring earlier should always have a size greater than or equal parts\n",
    "occurring later.\n",
    "\n",
    "Return a List of ListNode's representing the linked list parts that are\n",
    "formed.\n",
    "\n",
    "Examples 1->2->3->4, k = 5 // 5 equal parts [ [1], [2], [3], [4], null ]\n",
    "\n",
    "**Example 1:**\n",
    "\n",
    "\n",
    "\n",
    "    Input:\n",
    "    root = [1, 2, 3], k = 5\n",
    "    Output: [[1],[2],[3],[],[]]\n",
    "    Explanation:\n",
    "    The input and each element of the output are ListNodes, not arrays.\n",
    "    For example, the input root has root.val = 1, root.next.val = 2, \\root.next.next.val = 3, and root.next.next.next = null.\n",
    "    The first element output[0] has output[0].val = 1, output[0].next = null.\n",
    "    The last element output[4] is null, but it's string representation as a ListNode is [].\n",
    "\n",
    "\n",
    "**Example 2:**\n",
    "\n",
    "\n",
    "\n",
    "    Input:\n",
    "    root = [1, 2, 3, 4, 5, 6, 7, 8, 9, 10], k = 3\n",
    "    Output: [[1, 2, 3, 4], [5, 6, 7], [8, 9, 10]]\n",
    "    Explanation:\n",
    "    The input has been split into consecutive parts with size difference at most 1, and earlier parts are a larger size than the later parts.\n",
    "\n",
    "\n",
    "**Note:**\n",
    "\n",
    "* The length of `root` will be in the range `[0, 1000]`.\n",
    "* Each value of a node in the input will be an integer in the range `[0, 999]`.\n",
    "* `k` will be an integer in the range `[1, 50]`."
   ],
   "metadata": {}
  },
  {
   "outputs": [
    {
     "output_type": "execute_result",
     "data": {
      "text/plain": "split_list_to_parts (generic function with 2 methods)"
     },
     "metadata": {},
     "execution_count": 1
    }
   ],
   "cell_type": "code",
   "source": [
    "# @lc code=start\n",
    "using LeetCode\n",
    "\n",
    "split_list_to_parts(::Nothing, k::Int)::Vector{Union{ListNode{Int},Nothing}} =\n",
    "    fill(nothing, k)\n",
    "\n",
    "function split_list_to_parts(\n",
    "    head::ListNode{Int}, k::Int\n",
    ")::Vector{Union{ListNode{Int},Nothing}}\n",
    "    p = head\n",
    "    len = length_of_list(head)\n",
    "    first_m = mod(len, k)\n",
    "    base_n = len ÷ k\n",
    "    res = Vector{Union{ListNode{Int},Nothing}}(undef, k)\n",
    "    for i in 1:k\n",
    "        for _ in 1:(base_n - (i > first_m))\n",
    "            p = p.next\n",
    "        end\n",
    "        res[i] = head\n",
    "        if !isnothing(p)\n",
    "            head = p.next\n",
    "            p.next = nothing\n",
    "        end\n",
    "        p = head\n",
    "    end\n",
    "    return res\n",
    "end\n",
    "# @lc code=end"
   ],
   "metadata": {},
   "execution_count": 1
  },
  {
   "cell_type": "markdown",
   "source": [
    "---\n",
    "\n",
    "*This notebook was generated using [Literate.jl](https://github.com/fredrikekre/Literate.jl).*"
   ],
   "metadata": {}
  }
 ],
 "nbformat_minor": 3,
 "metadata": {
  "language_info": {
   "file_extension": ".jl",
   "mimetype": "application/julia",
   "name": "julia",
   "version": "1.9.1"
  },
  "kernelspec": {
   "name": "julia-1.9",
   "display_name": "Julia 1.9.1",
   "language": "julia"
  }
 },
 "nbformat": 4
}
