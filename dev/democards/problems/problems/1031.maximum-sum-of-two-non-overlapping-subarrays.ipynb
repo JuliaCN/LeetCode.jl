{
 "cells": [
  {
   "cell_type": "markdown",
   "source": [
    "Given an array `A` of non-negative integers, return the maximum sum of\n",
    "elements in two non-overlapping (contiguous) subarrays, which have lengths `L`\n",
    "and `M`.  (For clarification, the `L`-length subarray could occur before or\n",
    "after the `M`-length subarray.)\n",
    "\n",
    "Formally, return the largest `V` for which `V = (A[i] + A[i+1] + ... +\n",
    "A[i+L-1]) + (A[j] + A[j+1] + ... + A[j+M-1])` and either:\n",
    "\n",
    "  * `0 <= i < i + L - 1 < j < j + M - 1 < A.length`, **or**\n",
    "  * `0 <= j < j + M - 1 < i < i + L - 1 < A.length`.\n",
    "\n",
    "\n",
    "\n",
    "**Example 1:**\n",
    "\n",
    "\n",
    "\n",
    "    Input: A = [0,6,5,2,2,5,1,9,4], L = 1, M = 2\n",
    "    Output: 20\n",
    "    Explanation: One choice of subarrays is [9] with length 1, and [6,5] with length 2.\n",
    "\n",
    "\n",
    "**Example 2:**\n",
    "\n",
    "\n",
    "\n",
    "    Input: A = [3,8,1,3,2,1,8,9,0], L = 3, M = 2\n",
    "    Output: 29\n",
    "    Explanation: One choice of subarrays is [3,8,1] with length 3, and [8,9] with length 2.\n",
    "\n",
    "\n",
    "**Example 3:**\n",
    "\n",
    "\n",
    "\n",
    "    Input: A = [2,1,5,6,0,9,5,0,3,8], L = 4, M = 3\n",
    "    Output: 31\n",
    "    Explanation: One choice of subarrays is [5,6,0,9] with length 4, and [3,8] with length 3.\n",
    "\n",
    "\n",
    "\n",
    "\n",
    "**Note:**\n",
    "\n",
    "  1. `L >= 1`\n",
    "  2. `M >= 1`\n",
    "  3. `L + M <= A.length <= 1000`\n",
    "  4. `0 <= A[i] <= 1000`"
   ],
   "metadata": {}
  },
  {
   "outputs": [
    {
     "output_type": "execute_result",
     "data": {
      "text/plain": "max_sum_two_no_overlap (generic function with 1 method)"
     },
     "metadata": {},
     "execution_count": 1
    }
   ],
   "cell_type": "code",
   "source": [
    "# @lc code=start\n",
    "using LeetCode\n",
    "\n",
    "function window_sum(nums::Vector{Int}, l::Int)\n",
    "    res = fill(0, length(nums))\n",
    "    return window_sum!(res, nums, l)\n",
    "end\n",
    "\n",
    "function window_sum!(res::Vector{Int}, nums::Vector{Int}, l::Int)\n",
    "    res[1] = sum(@view(nums[1:l]))\n",
    "    cur_sum = res[1]\n",
    "    for i in 2:(length(nums) - l + 1)\n",
    "        cur_sum += nums[i + l - 1] - nums[i - 1]\n",
    "        res[i] = cur_sum\n",
    "    end\n",
    "    return res\n",
    "end\n",
    "\n",
    "function max_win_sum(nums::Vector{Int}, l::Int)\n",
    "    res = fill(0, length(nums))\n",
    "    return max_win_sum!(res, nums, l)\n",
    "end\n",
    "\n",
    "function max_win_sum!(res::Vector{Int}, nums::Vector{Int}, l::Int)\n",
    "    window_sum!(res, nums, l)\n",
    "    for i in (length(nums) - l):-1:1\n",
    "        res[i] = max(res[i], res[i + 1])\n",
    "    end\n",
    "    return res\n",
    "end\n",
    "\n",
    "function max_sum_two_no_overlap(nums::Vector{Int}, first_len::Int, second_len::Int)\n",
    "    n = length(nums)\n",
    "    tlen = first_len + second_len\n",
    "    flen_sums = window_sum(nums, first_len)\n",
    "    slen_sums = window_sum(nums, second_len)\n",
    "\n",
    "    fmax_win = max_win_sum(nums, first_len)\n",
    "    smax_win = max_win_sum(nums, second_len)\n",
    "    return max(\n",
    "        maximum(flen_sums[i] + smax_win[i + first_len] for i in 1:(n - tlen + 1)),\n",
    "        maximum(slen_sums[i] + fmax_win[i + second_len] for i in 1:(n - tlen + 1)),\n",
    "    )\n",
    "end\n",
    "\n",
    "# @lc code=end"
   ],
   "metadata": {},
   "execution_count": 1
  },
  {
   "cell_type": "markdown",
   "source": [
    "---\n",
    "\n",
    "*This notebook was generated using [Literate.jl](https://github.com/fredrikekre/Literate.jl).*"
   ],
   "metadata": {}
  }
 ],
 "nbformat_minor": 3,
 "metadata": {
  "language_info": {
   "file_extension": ".jl",
   "mimetype": "application/julia",
   "name": "julia",
   "version": "1.8.2"
  },
  "kernelspec": {
   "name": "julia-1.8",
   "display_name": "Julia 1.8.2",
   "language": "julia"
  }
 },
 "nbformat": 4
}
