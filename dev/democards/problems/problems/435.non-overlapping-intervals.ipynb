{
 "cells": [
  {
   "cell_type": "markdown",
   "source": [
    "Given a collection of intervals, find the minimum number of intervals you need\n",
    "to remove to make the rest of the intervals non-overlapping.\n",
    "\n",
    "\n",
    "\n",
    "**Example 1:**\n",
    "\n",
    "\n",
    "\n",
    "    Input: [[1,2],[2,3],[3,4],[1,3]]\n",
    "    Output: 1\n",
    "    Explanation: [1,3] can be removed and the rest of intervals are non-overlapping.\n",
    "\n",
    "\n",
    "**Example 2:**\n",
    "\n",
    "\n",
    "\n",
    "    Input: [[1,2],[1,2],[1,2]]\n",
    "    Output: 2\n",
    "    Explanation: You need to remove two [1,2] to make the rest of intervals non-overlapping.\n",
    "\n",
    "\n",
    "**Example 3:**\n",
    "\n",
    "\n",
    "\n",
    "    Input: [[1,2],[2,3]]\n",
    "    Output: 0\n",
    "    Explanation: You don't need to remove any of the intervals since they're already non-overlapping.\n",
    "\n",
    "\n",
    "\n",
    "\n",
    "**Note:**\n",
    "\n",
    "  1. You may assume the interval's end point is always bigger than its start point.\n",
    "  2. Intervals like [1,2] and [2,3] have borders \"touching\" but they don't overlap each other."
   ],
   "metadata": {}
  },
  {
   "outputs": [
    {
     "output_type": "execute_result",
     "data": {
      "text/plain": "erase_overlap_intervals (generic function with 1 method)"
     },
     "metadata": {},
     "execution_count": 1
    }
   ],
   "cell_type": "code",
   "source": [
    "# @lc code=start\n",
    "using LeetCode\n",
    "\n",
    "function erase_overlap_intervals(intervals::Vector{Tuple{Int,Int}})\n",
    "    isempty(intervals) && return 0\n",
    "    sort!(intervals; by=x -> x[2])\n",
    "    lst, res = intervals[1][2], -1\n",
    "    for intv in intervals\n",
    "        intv[1] < lst ? res += 1 : lst = intv[2]\n",
    "    end\n",
    "    return res\n",
    "end\n",
    "# @lc code=end"
   ],
   "metadata": {},
   "execution_count": 1
  },
  {
   "cell_type": "markdown",
   "source": [
    "---\n",
    "\n",
    "*This notebook was generated using [Literate.jl](https://github.com/fredrikekre/Literate.jl).*"
   ],
   "metadata": {}
  }
 ],
 "nbformat_minor": 3,
 "metadata": {
  "language_info": {
   "file_extension": ".jl",
   "mimetype": "application/julia",
   "name": "julia",
   "version": "1.9.1"
  },
  "kernelspec": {
   "name": "julia-1.9",
   "display_name": "Julia 1.9.1",
   "language": "julia"
  }
 },
 "nbformat": 4
}
