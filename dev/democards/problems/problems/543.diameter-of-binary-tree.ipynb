{
 "cells": [
  {
   "cell_type": "markdown",
   "source": [
    "Given a binary tree, you need to compute the length of the diameter of the\n",
    "tree. The diameter of a binary tree is the length of the **longest** path\n",
    "between any two nodes in a tree. This path may or may not pass through the\n",
    "root.\n",
    "\n",
    "**Example:**\n",
    "Given a binary tree\n",
    "\n",
    "\n",
    "\n",
    "              1\n",
    "             / \\\n",
    "            2   3\n",
    "           / \\\n",
    "          4   5\n",
    "\n",
    "\n",
    "Return **3** , which is the length of the path [4,2,1,3] or [5,2,1,3].\n",
    "\n",
    "**Note:** The length of path between two nodes is represented by the number of\n",
    "edges between them."
   ],
   "metadata": {}
  },
  {
   "outputs": [
    {
     "output_type": "execute_result",
     "data": {
      "text/plain": "_max_depth_to_leaf (generic function with 2 methods)"
     },
     "metadata": {},
     "execution_count": 1
    }
   ],
   "cell_type": "code",
   "source": [
    "# @lc code=start\n",
    "using LeetCode\n",
    "\n",
    "function diameter_of_binary_tree(root::TreeNode)::Int\n",
    "    return max(\n",
    "        diameter_of_binary_tree(root.left),\n",
    "        diameter_of_binary_tree(root.right),\n",
    "        _max_depth_to_leaf(root.left) + _max_depth_to_leaf(root.right) + 1,\n",
    "    ) - 1\n",
    "end\n",
    "\n",
    "diameter_of_binary_tree(root::Nothing) = 0\n",
    "\n",
    "function _max_depth_to_leaf(root::TreeNode)\n",
    "    return max(1 + _max_depth_to_leaf(root.left), 1 + _max_depth_to_leaf(root.right))\n",
    "end\n",
    "\n",
    "_max_depth_to_leaf(::Nothing) = 0\n",
    "# @lc code=end"
   ],
   "metadata": {},
   "execution_count": 1
  },
  {
   "cell_type": "markdown",
   "source": [
    "---\n",
    "\n",
    "*This notebook was generated using [Literate.jl](https://github.com/fredrikekre/Literate.jl).*"
   ],
   "metadata": {}
  }
 ],
 "nbformat_minor": 3,
 "metadata": {
  "language_info": {
   "file_extension": ".jl",
   "mimetype": "application/julia",
   "name": "julia",
   "version": "1.7.0"
  },
  "kernelspec": {
   "name": "julia-1.7",
   "display_name": "Julia 1.7.0",
   "language": "julia"
  }
 },
 "nbformat": 4
}
