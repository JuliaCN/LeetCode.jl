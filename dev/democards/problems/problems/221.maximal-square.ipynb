{
 "cells": [
  {
   "cell_type": "markdown",
   "source": [
    "Given an `m x n` binary `matrix` filled with `0`'s and `1`'s, _find the\n",
    "largest square containing only_ `1`'s _and return its area_.\n",
    "\n",
    "\n",
    "\n",
    "**Example 1:**\n",
    "\n",
    "![](https://assets.leetcode.com/uploads/2020/11/26/max1grid.jpg)\n",
    "\n",
    "\n",
    "\n",
    "    Input: matrix = [[\"1\",\"0\",\"1\",\"0\",\"0\"],[\"1\",\"0\",\"1\",\"1\",\"1\"],[\"1\",\"1\",\"1\",\"1\",\"1\"],[\"1\",\"0\",\"0\",\"1\",\"0\"]]\n",
    "    Output: 4\n",
    "\n",
    "\n",
    "**Example 2:**\n",
    "\n",
    "![](https://assets.leetcode.com/uploads/2020/11/26/max2grid.jpg)\n",
    "\n",
    "\n",
    "\n",
    "    Input: matrix = [[\"0\",\"1\"],[\"1\",\"0\"]]\n",
    "    Output: 1\n",
    "\n",
    "\n",
    "**Example 3:**\n",
    "\n",
    "\n",
    "\n",
    "    Input: matrix = [[\"0\"]]\n",
    "    Output: 0\n",
    "\n",
    "\n",
    "\n",
    "\n",
    "**Constraints:**\n",
    "\n",
    "  * `m == matrix.length`\n",
    "  * `n == matrix[i].length`\n",
    "  * `1 <= m, n <= 300`\n",
    "  * `matrix[i][j]` is `'0'` or `'1'`."
   ],
   "metadata": {}
  },
  {
   "outputs": [
    {
     "output_type": "execute_result",
     "data": {
      "text/plain": "maximal_square (generic function with 1 method)"
     },
     "metadata": {},
     "execution_count": 1
    }
   ],
   "cell_type": "code",
   "source": [
    "# @lc code=start\n",
    "using LeetCode\n",
    "\n",
    "function maximal_square(matrix::Matrix{Char})\n",
    "    length(matrix) == 0 && return 0\n",
    "    maxs = any(==('1'), matrix)\n",
    "    maxs == 0 && return 0\n",
    "    m, n = size(matrix)\n",
    "    dp = fill(0, size(matrix))\n",
    "    for i in 1:m\n",
    "        dp[i, 1] = matrix[i, 1] == '1'\n",
    "    end\n",
    "    for j in 1:n\n",
    "        dp[1, j] = matrix[1, j] == '1'\n",
    "    end\n",
    "    for i in 2:m, j in 2:n\n",
    "        if matrix[i, j] == '1'\n",
    "            dp[i, j] = min(dp[i, j - 1], dp[i - 1, j], dp[i - 1, j - 1]) + 1\n",
    "            maxs = max(maxs, dp[i, j])\n",
    "        end\n",
    "    end\n",
    "    return maxs * maxs\n",
    "end\n",
    "# @lc code=end"
   ],
   "metadata": {},
   "execution_count": 1
  },
  {
   "cell_type": "markdown",
   "source": [
    "---\n",
    "\n",
    "*This notebook was generated using [Literate.jl](https://github.com/fredrikekre/Literate.jl).*"
   ],
   "metadata": {}
  }
 ],
 "nbformat_minor": 3,
 "metadata": {
  "language_info": {
   "file_extension": ".jl",
   "mimetype": "application/julia",
   "name": "julia",
   "version": "1.7.3"
  },
  "kernelspec": {
   "name": "julia-1.7",
   "display_name": "Julia 1.7.3",
   "language": "julia"
  }
 },
 "nbformat": 4
}
