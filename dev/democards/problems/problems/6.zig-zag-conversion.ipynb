{
 "cells": [
  {
   "cell_type": "markdown",
   "source": [
    "The string `\"PAYPALISHIRING\"` is written in a zigzag pattern on a given number\n",
    "of rows like this: (you may want to display this pattern in a fixed font for\n",
    "better legibility)\n",
    "\n",
    "\n",
    "\n",
    "    P   A   H   N\n",
    "    A P L S I I G\n",
    "    Y   I   R\n",
    "\n",
    "\n",
    "And then read line by line: `\"PAHNAPLSIIGYIR\"`\n",
    "\n",
    "Write the code that will take a string and make this conversion given a number\n",
    "of rows:\n",
    "\n",
    "\n",
    "\n",
    "    string convert(string s, int numRows);\n",
    "\n",
    "\n",
    "\n",
    "\n",
    "**Example 1:**\n",
    "\n",
    "\n",
    "\n",
    "    Input: s = \"PAYPALISHIRING\", numRows = 3\n",
    "    Output: \"PAHNAPLSIIGYIR\"\n",
    "\n",
    "\n",
    "**Example 2:**\n",
    "\n",
    "\n",
    "\n",
    "    Input: s = \"PAYPALISHIRING\", numRows = 4\n",
    "    Output: \"PINALSIGYAHRPI\"\n",
    "    Explanation:\n",
    "    P     I    N\n",
    "    A   L S  I G\n",
    "    Y A   H R\n",
    "    P     I\n",
    "\n",
    "\n",
    "**Example 3:**\n",
    "\n",
    "\n",
    "\n",
    "    Input: s = \"A\", numRows = 1\n",
    "    Output: \"A\"\n",
    "\n",
    "\n",
    "\n",
    "\n",
    "**Constraints:**\n",
    "\n",
    "  * `1 <= s.length <= 1000`\n",
    "  * `s` consists of English letters (lower-case and upper-case), `','` and `'.'`.\n",
    "  * `1 <= numRows <= 1000`"
   ],
   "metadata": {}
  },
  {
   "outputs": [
    {
     "output_type": "execute_result",
     "data": {
      "text/plain": "zig_zag_convert (generic function with 1 method)"
     },
     "metadata": {},
     "execution_count": 1
    }
   ],
   "cell_type": "code",
   "source": [
    "# @lc code=start\n",
    "using LeetCode\n",
    "\n",
    "function zig_zag_convert(s::String, num_rows::Int)::String\n",
    "    if num_rows == 1 || num_rows >= length(s)\n",
    "        s\n",
    "    else\n",
    "        table = [Char[] for _ in 1:num_rows]\n",
    "        i, dir = 1, 1\n",
    "        for x in s\n",
    "            push!(table[i], x)\n",
    "            if i == 1\n",
    "                dir = 1\n",
    "            elseif i == num_rows\n",
    "                dir = -1\n",
    "            end\n",
    "            i += dir\n",
    "        end\n",
    "        join(Iterators.flatten(table))\n",
    "    end\n",
    "end\n",
    "# @lc code=end"
   ],
   "metadata": {},
   "execution_count": 1
  },
  {
   "cell_type": "markdown",
   "source": [
    "---\n",
    "\n",
    "*This notebook was generated using [Literate.jl](https://github.com/fredrikekre/Literate.jl).*"
   ],
   "metadata": {}
  }
 ],
 "nbformat_minor": 3,
 "metadata": {
  "language_info": {
   "file_extension": ".jl",
   "mimetype": "application/julia",
   "name": "julia",
   "version": "1.6.2"
  },
  "kernelspec": {
   "name": "julia-1.6",
   "display_name": "Julia 1.6.2",
   "language": "julia"
  }
 },
 "nbformat": 4
}
