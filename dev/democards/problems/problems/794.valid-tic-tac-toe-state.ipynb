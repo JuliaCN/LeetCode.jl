{
 "cells": [
  {
   "cell_type": "markdown",
   "source": [
    "A Tic-Tac-Toe board is given as a string array `board`. Return True if and\n",
    "only if it is possible to reach this board position during the course of a\n",
    "valid tic-tac-toe game.\n",
    "\n",
    "The `board` is a 3 x 3 array, and consists of characters `\" \"`, `\"X\"`, and\n",
    "`\"O\"`.  The \" \" character represents an empty square.\n",
    "\n",
    "Here are the rules of Tic-Tac-Toe:\n",
    "\n",
    "  * Players take turns placing characters into empty squares (\" \").\n",
    "  * The first player always places \"X\" characters, while the second player always places \"O\" characters.\n",
    "  * \"X\" and \"O\" characters are always placed into empty squares, never filled ones.\n",
    "  * The game ends when there are 3 of the same (non-empty) character filling any row, column, or diagonal.\n",
    "  * The game also ends if all squares are non-empty.\n",
    "  * No more moves can be played if the game is over.\n",
    "\n",
    "\n",
    "\n",
    "    **Example 1:**\n",
    "    Input: board = [\"O  \", \"   \", \"   \"]\n",
    "    Output: false\n",
    "    Explanation: The first player always plays \"X\".\n",
    "\n",
    "    **Example 2:**\n",
    "    Input: board = [\"XOX\", \" X \", \"   \"]\n",
    "    Output: false\n",
    "    Explanation: Players take turns making moves.\n",
    "\n",
    "    **Example 3:**\n",
    "    Input: board = [\"XXX\", \"   \", \"OOO\"]\n",
    "    Output: false\n",
    "\n",
    "    **Example 4:**\n",
    "    Input: board = [\"XOX\", \"O O\", \"XOX\"]\n",
    "    Output: true\n",
    "\n",
    "\n",
    "**Note:**\n",
    "\n",
    "  * `board` is a length-3 array of strings, where each string `board[i]` has length 3.\n",
    "  * Each `board[i][j]` is a character in the set `{\" \", \"X\", \"O\"}`."
   ],
   "metadata": {}
  },
  {
   "outputs": [
    {
     "output_type": "execute_result",
     "data": {
      "text/plain": "is_win (generic function with 1 method)"
     },
     "metadata": {},
     "execution_count": 1
    }
   ],
   "cell_type": "code",
   "source": [
    "# @lc code=start\n",
    "using LeetCode\n",
    "\n",
    "function validTicTacToe(board::Array{Char})::Bool\n",
    "    n_X, n_O = 0, 0\n",
    "\n",
    "    for x in board\n",
    "        if x == 'X'\n",
    "            n_X += 1\n",
    "        elseif x == 'O'\n",
    "            n_O += 1\n",
    "        end\n",
    "    end\n",
    "\n",
    "    if n_O > n_X || n_X >= n_O + 2\n",
    "        false\n",
    "    elseif n_X >= 3\n",
    "        if n_X == n_O\n",
    "            if is_win(board, 'X')\n",
    "                false  ## Impossible! n_X should == x_O + 1\n",
    "            else\n",
    "                true\n",
    "            end\n",
    "        else\n",
    "            # @assert n_X == n_O + 1\n",
    "            if is_win(board, 'O')\n",
    "                false  ## Impossible!\n",
    "            else\n",
    "                true\n",
    "            end\n",
    "        end\n",
    "    else\n",
    "        true\n",
    "    end\n",
    "end\n",
    "\n",
    "function is_win(b, x)\n",
    "    return b[1] == b[2] == b[3] == x ||\n",
    "           b[4] == b[5] == b[6] == x ||\n",
    "           b[7] == b[8] == b[9] == x ||\n",
    "           b[1] == b[4] == b[7] == x ||\n",
    "           b[2] == b[5] == b[8] == x ||\n",
    "           b[3] == b[6] == b[9] == x ||\n",
    "           b[1] == b[5] == b[9] == x ||\n",
    "           b[3] == b[5] == b[7] == x\n",
    "end\n",
    "# @lc code=end"
   ],
   "metadata": {},
   "execution_count": 1
  },
  {
   "cell_type": "markdown",
   "source": [
    "---\n",
    "\n",
    "*This notebook was generated using [Literate.jl](https://github.com/fredrikekre/Literate.jl).*"
   ],
   "metadata": {}
  }
 ],
 "nbformat_minor": 3,
 "metadata": {
  "language_info": {
   "file_extension": ".jl",
   "mimetype": "application/julia",
   "name": "julia",
   "version": "1.6.1"
  },
  "kernelspec": {
   "name": "julia-1.6",
   "display_name": "Julia 1.6.1",
   "language": "julia"
  }
 },
 "nbformat": 4
}
