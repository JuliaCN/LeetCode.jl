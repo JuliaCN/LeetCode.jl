{
 "cells": [
  {
   "cell_type": "markdown",
   "source": [
    "There are a total of `numCourses` courses you have to take, labeled from `0`\n",
    "to `numCourses-1`.\n",
    "\n",
    "Some courses may have prerequisites, for example to take course 0 you have to\n",
    "first take course 1, which is expressed as a pair: `[0,1]`\n",
    "\n",
    "Given the total number of courses and a list of prerequisite **pairs** , is it\n",
    "possible for you to finish all courses?\n",
    "\n",
    "\n",
    "\n",
    "**Example 1:**\n",
    "\n",
    "\n",
    "\n",
    "    Input: numCourses = 2, prerequisites = [[1,0]]\n",
    "    Output: true\n",
    "    Explanation:  There are a total of 2 courses to take.\n",
    "                 To take course 1 you should have finished course 0. So it is possible.\n",
    "\n",
    "\n",
    "**Example 2:**\n",
    "\n",
    "\n",
    "\n",
    "    Input: numCourses = 2, prerequisites = [[1,0],[0,1]]\n",
    "    Output: false\n",
    "    Explanation:  There are a total of 2 courses to take.\n",
    "                 To take course 1 you should have finished course 0, and to take course 0 you should\n",
    "                 also have finished course 1. So it is impossible.\n",
    "\n",
    "\n",
    "\n",
    "\n",
    "**Constraints:**\n",
    "\n",
    "  * The input prerequisites is a graph represented by **a list of edges** , not adjacency matrices. Read more about [how a graph is represented](https://www.khanacademy.org/computing/computer-science/algorithms/graph-representation/a/representing-graphs).\n",
    "  * You may assume that there are no duplicate edges in the input prerequisites.\n",
    "  * `1 <= numCourses <= 10^5`"
   ],
   "metadata": {}
  },
  {
   "outputs": [
    {
     "output_type": "execute_result",
     "data": {
      "text/plain": "can_finish_courses (generic function with 1 method)"
     },
     "metadata": {},
     "execution_count": 1
    }
   ],
   "cell_type": "code",
   "source": [
    "# @lc code=start\n",
    "using LeetCode\n",
    "function can_finish_courses(num_courses, prerequisites::Vector{Vector{Int}})\n",
    "    in_deg = fill(0, num_courses)\n",
    "    point_to = [Int[] for _ in 1:num_courses] # fill(Int[], num_courses) is not proper!\n",
    "    for edge in prerequisites\n",
    "        in_deg[edge[1]] += 1\n",
    "        push!(point_to[edge[2]], edge[1])\n",
    "    end\n",
    "    q = Queue{Int}()\n",
    "    for idx in 1:length(in_deg)\n",
    "        (in_deg[idx] == 0) && (enqueue!(q, idx))\n",
    "    end\n",
    "    while !isempty(q)\n",
    "        frt = dequeue!(q)\n",
    "        for pt in point_to[frt]\n",
    "            (in_deg[pt] -= 1) == 0 && enqueue!(q, pt)\n",
    "        end\n",
    "    end\n",
    "    return all(==(0), in_deg)\n",
    "end\n",
    "# @lc code=end"
   ],
   "metadata": {},
   "execution_count": 1
  },
  {
   "cell_type": "markdown",
   "source": [
    "---\n",
    "\n",
    "*This notebook was generated using [Literate.jl](https://github.com/fredrikekre/Literate.jl).*"
   ],
   "metadata": {}
  }
 ],
 "nbformat_minor": 3,
 "metadata": {
  "language_info": {
   "file_extension": ".jl",
   "mimetype": "application/julia",
   "name": "julia",
   "version": "1.5.3"
  },
  "kernelspec": {
   "name": "julia-1.5",
   "display_name": "Julia 1.5.3",
   "language": "julia"
  }
 },
 "nbformat": 4
}
