{
 "cells": [
  {
   "cell_type": "markdown",
   "source": [
    "Given the root node of a binary search tree (BST) and a value. You need to\n",
    "find the node in the BST that the node's value equals the given value. Return\n",
    "the subtree rooted with that node. If such node doesn't exist, you should\n",
    "return NULL.\n",
    "\n",
    "For example,\n",
    "\n",
    "\n",
    "\n",
    "    Given the tree:\n",
    "            4\n",
    "           / \\\n",
    "          2   7\n",
    "         / \\\n",
    "        1   3\n",
    "\n",
    "    And the value to search: 2\n",
    "\n",
    "\n",
    "You should return this subtree:\n",
    "\n",
    "\n",
    "\n",
    "          2\n",
    "         / \\\n",
    "        1   3\n",
    "\n",
    "\n",
    "In the example above, if we want to search the value `5`, since there is no\n",
    "node with value `5`, we should return `NULL`.\n",
    "\n",
    "Note that an empty tree is represented by `NULL`, therefore you would see the\n",
    "expected output (serialized tree format) as `[]`, not `null`."
   ],
   "metadata": {}
  },
  {
   "outputs": [
    {
     "output_type": "execute_result",
     "data": {
      "text/plain": "search_bst (generic function with 1 method)"
     },
     "metadata": {},
     "execution_count": 1
    }
   ],
   "cell_type": "code",
   "source": [
    "# @lc code=start\n",
    "using LeetCode\n",
    "\n",
    "function search_bst(root::TreeNode, val::Int)::Union{TreeNode,Nothing}\n",
    "    while !isnothing(root)\n",
    "        root.val == val && return root\n",
    "        root = (root.val > val) ? root.left : root.right\n",
    "    end\n",
    "end\n",
    "# @lc code=end"
   ],
   "metadata": {},
   "execution_count": 1
  },
  {
   "cell_type": "markdown",
   "source": [
    "---\n",
    "\n",
    "*This notebook was generated using [Literate.jl](https://github.com/fredrikekre/Literate.jl).*"
   ],
   "metadata": {}
  }
 ],
 "nbformat_minor": 3,
 "metadata": {
  "language_info": {
   "file_extension": ".jl",
   "mimetype": "application/julia",
   "name": "julia",
   "version": "1.8.0"
  },
  "kernelspec": {
   "name": "julia-1.8",
   "display_name": "Julia 1.8.0",
   "language": "julia"
  }
 },
 "nbformat": 4
}
