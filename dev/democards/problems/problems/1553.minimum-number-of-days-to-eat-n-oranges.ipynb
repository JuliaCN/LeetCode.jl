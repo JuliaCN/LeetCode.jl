{
 "cells": [
  {
   "cell_type": "markdown",
   "source": [
    "There are `n` oranges in the kitchen and you decided to eat some of these\n",
    "oranges every day as follows:\n",
    "\n",
    "  * Eat one orange.\n",
    "  * If the number of remaining oranges (`n`) is divisible by 2 then you can eat  n/2 oranges.\n",
    "  * If the number of remaining oranges (`n`) is divisible by 3 then you can eat  2*(n/3) oranges.\n",
    "\n",
    "You can only choose one of the actions per day.\n",
    "\n",
    "Return the minimum number of days to eat `n` oranges.\n",
    "\n",
    "\n",
    "\n",
    "**Example 1:**\n",
    "\n",
    "\n",
    "\n",
    "    Input: n = 10\n",
    "    Output: 4\n",
    "    Explanation: You have 10 oranges.\n",
    "    Day 1: Eat 1 orange,  10 - 1 = 9.\n",
    "    Day 2: Eat 6 oranges, 9 - 2*(9/3) = 9 - 6 = 3. (Since 9 is divisible by 3)\n",
    "    Day 3: Eat 2 oranges, 3 - 2*(3/3) = 3 - 2 = 1.\n",
    "    Day 4: Eat the last orange  1 - 1  = 0.\n",
    "    You need at least 4 days to eat the 10 oranges.\n",
    "\n",
    "\n",
    "**Example 2:**\n",
    "\n",
    "\n",
    "\n",
    "    Input: n = 6\n",
    "    Output: 3\n",
    "    Explanation: You have 6 oranges.\n",
    "    Day 1: Eat 3 oranges, 6 - 6/2 = 6 - 3 = 3. (Since 6 is divisible by 2).\n",
    "    Day 2: Eat 2 oranges, 3 - 2*(3/3) = 3 - 2 = 1. (Since 3 is divisible by 3)\n",
    "    Day 3: Eat the last orange  1 - 1  = 0.\n",
    "    You need at least 3 days to eat the 6 oranges.\n",
    "\n",
    "\n",
    "**Example 3:**\n",
    "\n",
    "\n",
    "\n",
    "    Input: n = 1\n",
    "    Output: 1\n",
    "\n",
    "\n",
    "**Example 4:**\n",
    "\n",
    "\n",
    "\n",
    "    Input: n = 56\n",
    "    Output: 6\n",
    "\n",
    "\n",
    "\n",
    "\n",
    "**Constraints:**\n",
    "\n",
    "  * `1 <= n <= 2*10^9`"
   ],
   "metadata": {}
  },
  {
   "outputs": [
    {
     "output_type": "execute_result",
     "data": {
      "text/plain": "min_days_1553 (generic function with 1 method)"
     },
     "metadata": {},
     "execution_count": 1
    }
   ],
   "cell_type": "code",
   "source": [
    "# @lc code=start\n",
    "using LeetCode\n",
    "\n",
    "function min_days_1553(n::Int)\n",
    "    memo = Dict{Int, Int}()\n",
    "    memo[0] = 0\n",
    "    memo[1] = 1\n",
    "    function min_days(n::Int)\n",
    "        if haskey(memo, n)\n",
    "            return memo[n]\n",
    "        end\n",
    "        return memo[n] = 1 + min(min_days(n ÷ 2) + n % 2, min_days(n ÷ 3) + n % 3)\n",
    "    end\n",
    "    min_days(n)\n",
    "end\n",
    "# @lc code=end"
   ],
   "metadata": {},
   "execution_count": 1
  },
  {
   "cell_type": "markdown",
   "source": [
    "---\n",
    "\n",
    "*This notebook was generated using [Literate.jl](https://github.com/fredrikekre/Literate.jl).*"
   ],
   "metadata": {}
  }
 ],
 "nbformat_minor": 3,
 "metadata": {
  "language_info": {
   "file_extension": ".jl",
   "mimetype": "application/julia",
   "name": "julia",
   "version": "1.7.3"
  },
  "kernelspec": {
   "name": "julia-1.7",
   "display_name": "Julia 1.7.3",
   "language": "julia"
  }
 },
 "nbformat": 4
}
