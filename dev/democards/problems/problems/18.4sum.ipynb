{
 "cells": [
  {
   "cell_type": "markdown",
   "source": [
    "Given an array `nums` of _n_ integers and an integer `target`, are there\n",
    "elements _a_ , _b_ , _c_ , and _d_ in `nums` such that _a_ \\+ _b_ \\+ _c_ \\+\n",
    "_d_ = `target`? Find all unique quadruplets in the array which gives the sum\n",
    "of `target`.\n",
    "\n",
    "**Notice**  that the solution set must not contain duplicate quadruplets.\n",
    "\n",
    "\n",
    "\n",
    "**Example 1:**\n",
    "\n",
    "\n",
    "\n",
    "    Input: nums = [1,0,-1,0,-2,2], target = 0\n",
    "    Output: [[-2,-1,1,2],[-2,0,0,2],[-1,0,0,1]]\n",
    "\n",
    "\n",
    "**Example 2:**\n",
    "\n",
    "\n",
    "\n",
    "    Input: nums = [], target = 0\n",
    "    Output: []\n",
    "\n",
    "\n",
    "\n",
    "\n",
    "**Constraints:**\n",
    "\n",
    "  * `0 <= nums.length <= 200`\n",
    "  * `-109 <= nums[i] <= 109`\n",
    "  * `-109 <= target <= 109`"
   ],
   "metadata": {}
  },
  {
   "outputs": [
    {
     "output_type": "execute_result",
     "data": {
      "text/plain": "four_sum! (generic function with 1 method)"
     },
     "metadata": {},
     "execution_count": 1
    }
   ],
   "cell_type": "code",
   "source": [
    "# @lc code=start\n",
    "using LeetCode\n",
    "\n",
    "four_sum(nums::Vector{Int}, target::Int) = four_sum!(copy(nums), target)\n",
    "function four_sum!(nums::Vector{Int}, target::Int)::Vector{NTuple{4,Int}}\n",
    "    n, res = length(sort!(nums)), NTuple{4,Int}[]\n",
    "    n <= 3 && return NTuple{4,Int}[]\n",
    "    for (i, first) in enumerate(@view(nums[1:(end - 3)]))\n",
    "        i > 1 && first == nums[i - 1] && continue ## avoid repetition\n",
    "        sum(@view(nums[i:(i + 3)])) > target && return res ## pruning\n",
    "        first + sum(@view(nums[(end - 3):end])) < target && continue ## pruning\n",
    "        for j in (i + 1):(n - 2)\n",
    "            j > i + 1 && nums[j] == nums[j - 1] && continue ## avoid repetition\n",
    "            first + sum(@view(nums[j:(j + 2)])) > target && break ## pruning\n",
    "            first + nums[j] + nums[end - 1] + nums[end] < target && continue ## pruning\n",
    "            newtarget = target - first - nums[j]\n",
    "            left, right = j + 1, n\n",
    "            while left < right\n",
    "                newsum = nums[left] + nums[right]\n",
    "                if newsum < newtarget\n",
    "                    left += 1\n",
    "                elseif newsum > newtarget\n",
    "                    right -= 1\n",
    "                else\n",
    "                    push!(res, (first, nums[j], nums[left], nums[right]))\n",
    "                    pos = findfirst(!=(nums[left]), @view(nums[(left + 1):right]))\n",
    "                    isnothing(pos) ? break : (left += pos)\n",
    "                    pos = findfirst(!=(nums[right]), @view(nums[(right - 1):-1:left]))\n",
    "                    isnothing(pos) ? break : (right -= pos)\n",
    "                end\n",
    "            end\n",
    "        end\n",
    "    end\n",
    "    return res\n",
    "end\n",
    "# @lc code=end"
   ],
   "metadata": {},
   "execution_count": 1
  },
  {
   "cell_type": "markdown",
   "source": [
    "---\n",
    "\n",
    "*This notebook was generated using [Literate.jl](https://github.com/fredrikekre/Literate.jl).*"
   ],
   "metadata": {}
  }
 ],
 "nbformat_minor": 3,
 "metadata": {
  "language_info": {
   "file_extension": ".jl",
   "mimetype": "application/julia",
   "name": "julia",
   "version": "1.11.6"
  },
  "kernelspec": {
   "name": "julia-1.11",
   "display_name": "Julia 1.11.6",
   "language": "julia"
  }
 },
 "nbformat": 4
}
