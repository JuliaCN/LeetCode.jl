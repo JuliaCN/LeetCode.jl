{
 "cells": [
  {
   "cell_type": "markdown",
   "source": [
    "Given an array `nums` of distinct integers, return _all the possible\n",
    "permutations_. You can return the answer in **any order**.\n",
    "\n",
    "\n",
    "\n",
    "**Example 1:**\n",
    "\n",
    "\n",
    "\n",
    "    Input: nums = [1,2,3]\n",
    "    Output: [[1,2,3],[1,3,2],[2,1,3],[2,3,1],[3,1,2],[3,2,1]]\n",
    "\n",
    "\n",
    "**Example 2:**\n",
    "\n",
    "\n",
    "\n",
    "    Input: nums = [0,1]\n",
    "    Output: [[0,1],[1,0]]\n",
    "\n",
    "\n",
    "**Example 3:**\n",
    "\n",
    "\n",
    "\n",
    "    Input: nums = [1]\n",
    "    Output: [[1]]\n",
    "\n",
    "\n",
    "\n",
    "\n",
    "**Constraints:**\n",
    "\n",
    "  * `1 <= nums.length <= 6`\n",
    "  * `-10 <= nums[i] <= 10`\n",
    "  * All the integers of `nums` are **unique**."
   ],
   "metadata": {}
  },
  {
   "outputs": [
    {
     "output_type": "execute_result",
     "data": {
      "text/plain": "permutation! (generic function with 1 method)"
     },
     "metadata": {},
     "execution_count": 1
    }
   ],
   "cell_type": "code",
   "source": [
    "# @lc code=start\n",
    "using LeetCode\n",
    "\n",
    "permutation(nums::Vector{Int}) = permutation!(copy(nums))\n",
    "function permutation!(nums::Vector{Int})\n",
    "    sort!(nums)\n",
    "    res = Vector{Vector{Int}}()\n",
    "    n = length(nums)\n",
    "    sizehint!(res, factorial(n))\n",
    "    function dfs(nums::Vector{Int}, path::Vector{Int}, used::Vector{Bool}, len::Int)\n",
    "        if len == n # alternatively, len = sum(used)\n",
    "            push!(res, copy(path))\n",
    "            return nothing\n",
    "        end\n",
    "        for i in 1:n\n",
    "            used[i] && continue\n",
    "            used[i] = true\n",
    "            path[len + 1] = nums[i]\n",
    "            dfs(nums, path, used, len + 1)\n",
    "            used[i] = false\n",
    "        end\n",
    "    end\n",
    "    dfs(nums, Vector{Int}(undef, n), fill(false, n), 0)\n",
    "    return res\n",
    "end\n",
    "# @lc code=end"
   ],
   "metadata": {},
   "execution_count": 1
  },
  {
   "cell_type": "markdown",
   "source": [
    "---\n",
    "\n",
    "*This notebook was generated using [Literate.jl](https://github.com/fredrikekre/Literate.jl).*"
   ],
   "metadata": {}
  }
 ],
 "nbformat_minor": 3,
 "metadata": {
  "language_info": {
   "file_extension": ".jl",
   "mimetype": "application/julia",
   "name": "julia",
   "version": "1.10.4"
  },
  "kernelspec": {
   "name": "julia-1.10",
   "display_name": "Julia 1.10.4",
   "language": "julia"
  }
 },
 "nbformat": 4
}
