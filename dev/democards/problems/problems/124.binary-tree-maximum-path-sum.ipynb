{
 "cells": [
  {
   "cell_type": "markdown",
   "source": [
    "Given a **non-empty** binary tree, find the maximum path sum.\n",
    "\n",
    "For this problem, a path is defined as any node sequence from some starting\n",
    "node to any node in the tree along the parent-child connections. The path must\n",
    "contain **at least one node** and does not need to go through the root.\n",
    "\n",
    "\n",
    "\n",
    "**Example 1:**\n",
    "\n",
    "![](https://assets.leetcode.com/uploads/2020/10/13/exx1.jpg)\n",
    "\n",
    "\n",
    "\n",
    "    Input: root = [1,2,3]\n",
    "    Output: 6\n",
    "\n",
    "\n",
    "**Example 2:**\n",
    "\n",
    "![](https://assets.leetcode.com/uploads/2020/10/13/exx2.jpg)\n",
    "\n",
    "\n",
    "\n",
    "    Input: root = [-10,9,20,null,null,15,7]\n",
    "    Output: 42\n",
    "\n",
    "\n",
    "\n",
    "\n",
    "**Constraints:**\n",
    "\n",
    "  * The number of nodes in the tree is in the range `[0, 3 * 104]`.\n",
    "  * `-1000 <= Node.val <= 1000`"
   ],
   "metadata": {}
  },
  {
   "outputs": [
    {
     "output_type": "execute_result",
     "data": {
      "text/plain": "max_path_sum (generic function with 1 method)"
     },
     "metadata": {},
     "execution_count": 1
    }
   ],
   "cell_type": "code",
   "source": [
    "# @lc code=start\n",
    "using LeetCode\n",
    "\n",
    "function max_path_sum(root::TreeNode)\n",
    "    max_val = typemin(Int)\n",
    "\n",
    "    function max_sum_to_leaf(x)\n",
    "        isnothing(x) && return 0\n",
    "        left = max_sum_to_leaf(x.left)\n",
    "        right = max_sum_to_leaf(x.right)\n",
    "        max_val = max(max_val, left + x.val + right)\n",
    "        return max(0, x.val + max(left, right))\n",
    "    end\n",
    "\n",
    "    max_sum_to_leaf(root)\n",
    "    return max_val\n",
    "end\n",
    "# @lc code=end"
   ],
   "metadata": {},
   "execution_count": 1
  },
  {
   "cell_type": "markdown",
   "source": [
    "---\n",
    "\n",
    "*This notebook was generated using [Literate.jl](https://github.com/fredrikekre/Literate.jl).*"
   ],
   "metadata": {}
  }
 ],
 "nbformat_minor": 3,
 "metadata": {
  "language_info": {
   "file_extension": ".jl",
   "mimetype": "application/julia",
   "name": "julia",
   "version": "1.9.1"
  },
  "kernelspec": {
   "name": "julia-1.9",
   "display_name": "Julia 1.9.1",
   "language": "julia"
  }
 },
 "nbformat": 4
}
