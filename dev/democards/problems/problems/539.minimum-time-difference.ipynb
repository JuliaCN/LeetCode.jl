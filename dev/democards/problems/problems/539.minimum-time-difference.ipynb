{
 "cells": [
  {
   "cell_type": "markdown",
   "source": [
    "Given a list of 24-hour clock time points in **\" HH:MM\"** format, return _the\n",
    "minimum **minutes** difference between any two time-points in the list_.\n",
    "\n",
    "\n",
    "\n",
    "**Example 1:**\n",
    "\n",
    "\n",
    "\n",
    "    Input: timePoints = [\"23:59\",\"00:00\"]\n",
    "    Output: 1\n",
    "\n",
    "\n",
    "**Example 2:**\n",
    "\n",
    "\n",
    "\n",
    "    Input: timePoints = [\"00:00\",\"23:59\",\"00:00\"]\n",
    "    Output: 0\n",
    "\n",
    "\n",
    "\n",
    "\n",
    "**Constraints:**\n",
    "\n",
    "  * `2 <= timePoints <= 2 * 104`\n",
    "  * `timePoints[i]` is in the format **\" HH:MM\"**."
   ],
   "metadata": {}
  },
  {
   "outputs": [
    {
     "output_type": "execute_result",
     "data": {
      "text/plain": "find_min_difference (generic function with 1 method)"
     },
     "metadata": {},
     "execution_count": 1
    }
   ],
   "cell_type": "code",
   "source": [
    "# @lc code=start\n",
    "using LeetCode\n",
    "\n",
    "function find_min_difference(time_points::Vector{String})\n",
    "    ttp = Tuple{Int, Int}[]\n",
    "    for t in time_points\n",
    "        st = split(t, ':')\n",
    "        push!(ttp, (parse(Int, st[1]), parse(Int, st[2])))\n",
    "    end\n",
    "    sort!(ttp)\n",
    "    push!(ttp, (ttp[1][1] + 24, ttp[1][2]))\n",
    "    return minimum((ttp[i][1] - ttp[i-1][1]) * 60 + (ttp[i][2] - ttp[i-1][2]) for i in 2:length(ttp))\n",
    "end\n",
    "# @lc code=end"
   ],
   "metadata": {},
   "execution_count": 1
  },
  {
   "cell_type": "markdown",
   "source": [
    "---\n",
    "\n",
    "*This notebook was generated using [Literate.jl](https://github.com/fredrikekre/Literate.jl).*"
   ],
   "metadata": {}
  }
 ],
 "nbformat_minor": 3,
 "metadata": {
  "language_info": {
   "file_extension": ".jl",
   "mimetype": "application/julia",
   "name": "julia",
   "version": "1.7.3"
  },
  "kernelspec": {
   "name": "julia-1.7",
   "display_name": "Julia 1.7.3",
   "language": "julia"
  }
 },
 "nbformat": 4
}
