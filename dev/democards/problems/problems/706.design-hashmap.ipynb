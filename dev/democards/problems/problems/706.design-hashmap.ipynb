{
 "cells": [
  {
   "cell_type": "markdown",
   "source": [
    "Design a HashMap without using any built-in hash table libraries.\n",
    "\n",
    "To be specific, your design should include these functions:\n",
    "\n",
    "  * `put(key, value)` : Insert a (key, value) pair into the HashMap. If the value already exists in the HashMap, update the value.\n",
    "  * `get(key)`: Returns the value to which the specified key is mapped, or -1 if this map contains no mapping for the key.\n",
    "  * `remove(key)` : Remove the mapping for the value key if this map contains the mapping for the key.\n",
    "\n",
    "\n",
    "**Example:**\n",
    "\n",
    "\n",
    "\n",
    "    MyHashMap hashMap = new MyHashMap();\n",
    "    hashMap.put(1, 1);\n",
    "    hashMap.put(2, 2);\n",
    "    hashMap.get(1);            // returns 1\n",
    "    hashMap.get(3);            // returns -1 (not found)\n",
    "    hashMap.put(2, 1);          // update the existing value\n",
    "    hashMap.get(2);            // returns 1\n",
    "    hashMap.remove(2);          // remove the mapping for 2\n",
    "    hashMap.get(2);            // returns -1 (not found)\n",
    "\n",
    "\n",
    "\n",
    "**Note:**\n",
    "\n",
    "  * All keys and values will be in the range of `[0, 1000000]`.\n",
    "  * The number of operations will be in the range of `[1, 10000]`.\n",
    "  * Please do not use the built-in HashMap library."
   ],
   "metadata": {}
  },
  {
   "outputs": [
    {
     "output_type": "execute_result",
     "data": {
      "text/plain": "get_706 (generic function with 1 method)"
     },
     "metadata": {},
     "execution_count": 1
    }
   ],
   "cell_type": "code",
   "source": [
    "# @lc code=start\n",
    "using LeetCode\n",
    "\n",
    "struct MyHashMap\n",
    "    buckets::Int\n",
    "    table::Vector{Vector{T}} where {T}\n",
    "    MyHashMap() = new(1009, [Tuple{Int,Int}[] for _ = 1:1009])\n",
    "end\n",
    "\n",
    "hash_706(hash_map::MyHashMap, key::Int) = mod1(key, hash_map.buckets)\n",
    "\n",
    "function put_706!(hash_map::MyHashMap, key::Int, value::Int)\n",
    "    hash_key = hash_706(hash_map, key)\n",
    "\n",
    "    if !isempty(hash_map.table[hash_key])\n",
    "        for (i, item) in enumerate(hash_map.table[hash_key])\n",
    "            if item[1] == key\n",
    "                hash_map.table[hash_key][i] = (key, value)\n",
    "                return\n",
    "            end\n",
    "        end\n",
    "    end\n",
    "\n",
    "    push!(hash_map.table[hash_key], (key, value))\n",
    "    return\n",
    "end\n",
    "\n",
    "function remove_706!(hash_map::MyHashMap, key)\n",
    "    hash_key = hash_706(hash_map, key)\n",
    "\n",
    "    if !isempty(hash_map.table[hash_key])\n",
    "        for (i, item) in enumerate(hash_map.table[hash_key])\n",
    "            if item[1] == key\n",
    "                deleteat!(hash_map.table[hash_key], i)\n",
    "                return\n",
    "            end\n",
    "        end\n",
    "    end\n",
    "end\n",
    "\n",
    "function get_706(hash_map::MyHashMap, key)\n",
    "    hash_key = hash_706(hash_map, key)\n",
    "\n",
    "    for item in hash_map.table[hash_key]\n",
    "        !isempty(item) && item[1] == key && return item[2]\n",
    "    end\n",
    "\n",
    "    return -1\n",
    "end\n",
    "# @lc code=end"
   ],
   "metadata": {},
   "execution_count": 1
  },
  {
   "cell_type": "markdown",
   "source": [
    "---\n",
    "\n",
    "*This notebook was generated using [Literate.jl](https://github.com/fredrikekre/Literate.jl).*"
   ],
   "metadata": {}
  }
 ],
 "nbformat_minor": 3,
 "metadata": {
  "language_info": {
   "file_extension": ".jl",
   "mimetype": "application/julia",
   "name": "julia",
   "version": "1.8.0"
  },
  "kernelspec": {
   "name": "julia-1.8",
   "display_name": "Julia 1.8.0",
   "language": "julia"
  }
 },
 "nbformat": 4
}
