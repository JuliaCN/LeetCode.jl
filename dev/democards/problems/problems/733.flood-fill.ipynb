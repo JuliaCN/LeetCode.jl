{
 "cells": [
  {
   "cell_type": "markdown",
   "source": [
    "An `image` is represented by a 2-D array of integers, each integer\n",
    "representing the pixel value of the image (from 0 to 65535).\n",
    "\n",
    "Given a coordinate `(sr, sc)` representing the starting pixel (row and column)\n",
    "of the flood fill, and a pixel value `newColor`, \"flood fill\" the image.\n",
    "\n",
    "To perform a \"flood fill\", consider the starting pixel, plus any pixels\n",
    "connected 4-directionally to the starting pixel of the same color as the\n",
    "starting pixel, plus any pixels connected 4-directionally to those pixels\n",
    "(also with the same color as the starting pixel), and so on. Replace the color\n",
    "of all of the aforementioned pixels with the newColor.\n",
    "\n",
    "At the end, return the modified image.\n",
    "\n",
    "**Example 1:**\n",
    "\n",
    "\n",
    "\n",
    "    Input:\n",
    "    image = [[1,1,1],[1,1,0],[1,0,1]]\n",
    "    sr = 1, sc = 1, newColor = 2\n",
    "    Output: [[2,2,2],[2,2,0],[2,0,1]]\n",
    "    Explanation:\n",
    "    From the center of the image (with position (sr, sc) = (1, 1)), all pixels connected\n",
    "    by a path of the same color as the starting pixel are colored with the new color.\n",
    "    Note the bottom corner is not colored 2, because it is not 4-directionally connected\n",
    "    to the starting pixel.\n",
    "\n",
    "\n",
    "**Note:**\n",
    "\n",
    "* The length of `image` and `image[0]` will be in the range `[1, 50]`.\n",
    "* The given starting pixel will satisfy `0 <= sr < image.length` and `0 <= sc < image[0].length`.\n",
    "* The value of each color in `image[i][j]` and `newColor` will be an integer in `[0, 65535]`."
   ],
   "metadata": {}
  },
  {
   "outputs": [
    {
     "output_type": "execute_result",
     "data": {
      "text/plain": "flood_fill! (generic function with 1 method)"
     },
     "metadata": {},
     "execution_count": 1
    }
   ],
   "cell_type": "code",
   "source": [
    "# @lc code=start\n",
    "using LeetCode\n",
    "\n",
    "function flood_fill!(image::Matrix{Int}, sr::Int, sc::Int, new_color::Int)::Matrix{Int}\n",
    "    ind = CartesianIndex((sr + 1, sc + 1)) ## index correction\n",
    "    old_color, image[ind] = image[ind], new_color\n",
    "    old_color == new_color && return image\n",
    "    inds, queue = CartesianIndices(image), [ind]\n",
    "    while !isempty(queue)\n",
    "        ind = popfirst!(queue)\n",
    "        for I in [(-1, 0), (1, 0), (0, -1), (0, 1)]\n",
    "            new_I = ind + CartesianIndex(I)\n",
    "            if new_I ∈ inds && image[new_I] == old_color\n",
    "                image[new_I] = new_color\n",
    "                push!(queue, new_I)\n",
    "            end\n",
    "        end\n",
    "    end\n",
    "    return image\n",
    "end\n",
    "\n",
    "# @lc code=end"
   ],
   "metadata": {},
   "execution_count": 1
  },
  {
   "cell_type": "markdown",
   "source": [
    "---\n",
    "\n",
    "*This notebook was generated using [Literate.jl](https://github.com/fredrikekre/Literate.jl).*"
   ],
   "metadata": {}
  }
 ],
 "nbformat_minor": 3,
 "metadata": {
  "language_info": {
   "file_extension": ".jl",
   "mimetype": "application/julia",
   "name": "julia",
   "version": "1.8.0"
  },
  "kernelspec": {
   "name": "julia-1.8",
   "display_name": "Julia 1.8.0",
   "language": "julia"
  }
 },
 "nbformat": 4
}
