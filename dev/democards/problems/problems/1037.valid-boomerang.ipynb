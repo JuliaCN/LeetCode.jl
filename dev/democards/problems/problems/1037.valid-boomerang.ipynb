{
 "cells": [
  {
   "cell_type": "markdown",
   "source": [
    "A _boomerang_ is a set of 3 points that are all distinct and **not** in a\n",
    "straight line.\n",
    "\n",
    "Given a list of three points in the plane, return whether these points are a\n",
    "boomerang.\n",
    "\n",
    "\n",
    "\n",
    "**Example 1:**\n",
    "\n",
    "\n",
    "\n",
    "    Input: [[1,1],[2,3],[3,2]]\n",
    "    Output: true\n",
    "\n",
    "\n",
    "**Example 2:**\n",
    "\n",
    "\n",
    "\n",
    "    Input: [[1,1],[2,2],[3,3]]\n",
    "    Output: false\n",
    "\n",
    "\n",
    "\n",
    "**Note:**\n",
    "\n",
    "  1. `points.length == 3`\n",
    "  2. `points[i].length == 2`\n",
    "  3. `0 <= points[i][j] <= 100`"
   ],
   "metadata": {}
  },
  {
   "outputs": [
    {
     "output_type": "execute_result",
     "data": {
      "text/plain": "is_boomerang (generic function with 1 method)"
     },
     "metadata": {},
     "execution_count": 1
    }
   ],
   "cell_type": "code",
   "source": [
    "# @lc code=start\n",
    "using LeetCode\n",
    "\n",
    "function is_boomerang(points::Vector{Vector{Int}})\n",
    "    p1, p2, p3 = points\n",
    "    return (p1[1] - p2[1]) * (p1[2] - p3[2]) != (p1[1] - p3[1]) * (p1[2] - p2[2])\n",
    "end\n",
    "# @lc code=end"
   ],
   "metadata": {},
   "execution_count": 1
  },
  {
   "cell_type": "markdown",
   "source": [
    "---\n",
    "\n",
    "*This notebook was generated using [Literate.jl](https://github.com/fredrikekre/Literate.jl).*"
   ],
   "metadata": {}
  }
 ],
 "nbformat_minor": 3,
 "metadata": {
  "language_info": {
   "file_extension": ".jl",
   "mimetype": "application/julia",
   "name": "julia",
   "version": "1.8.2"
  },
  "kernelspec": {
   "name": "julia-1.8",
   "display_name": "Julia 1.8.2",
   "language": "julia"
  }
 },
 "nbformat": 4
}
