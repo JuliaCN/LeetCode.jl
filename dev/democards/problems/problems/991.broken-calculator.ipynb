{
 "cells": [
  {
   "cell_type": "markdown",
   "source": [
    "On a broken calculator that has a number showing on its display, we can\n",
    "perform two operations:\n",
    "\n",
    "  * **Double** : Multiply the number on the display by 2, or;\n",
    "  * **Decrement** : Subtract 1 from the number on the display.\n",
    "\n",
    "Initially, the calculator is displaying the number `X`.\n",
    "\n",
    "Return the minimum number of operations needed to display the number `Y`.\n",
    "\n",
    "\n",
    "\n",
    "**Example 1:**\n",
    "\n",
    "\n",
    "\n",
    "    Input: X = 2, Y = 3\n",
    "    Output: 2\n",
    "    Explanation: Use double operation and then decrement operation {2 -> 4 -> 3}.\n",
    "\n",
    "\n",
    "**Example 2:**\n",
    "\n",
    "\n",
    "\n",
    "    Input: X = 5, Y = 8\n",
    "    Output: 2\n",
    "    Explanation: Use decrement and then double {5 -> 4 -> 8}.\n",
    "\n",
    "\n",
    "**Example 3:**\n",
    "\n",
    "\n",
    "\n",
    "    Input: X = 3, Y = 10\n",
    "    Output: 3\n",
    "    Explanation: Use double, decrement and double {3 -> 6 -> 5 -> 10}.\n",
    "\n",
    "\n",
    "**Example 4:**\n",
    "\n",
    "\n",
    "\n",
    "    Input: X = 1024, Y = 1\n",
    "    Output: 1023\n",
    "    Explanation: Use decrement operations 1023 times.\n",
    "\n",
    "\n",
    "\n",
    "\n",
    "**Note:**\n",
    "\n",
    "  1. `1 <= X <= 10^9`\n",
    "  2. `1 <= Y <= 10^9`"
   ],
   "metadata": {}
  },
  {
   "outputs": [
    {
     "output_type": "execute_result",
     "data": {
      "text/plain": "broken_calc (generic function with 1 method)"
     },
     "metadata": {},
     "execution_count": 1
    }
   ],
   "cell_type": "code",
   "source": [
    "# @lc code=start\n",
    "using LeetCode\n",
    "\n",
    "function broken_calc(x::Integer, y::Integer)\n",
    "    cnt = 0\n",
    "    while x < y\n",
    "        isodd(y) ? (y += 1) : y >>= 1\n",
    "        cnt += 1\n",
    "    end\n",
    "    return cnt + x - y\n",
    "end\n",
    "# @lc code=end"
   ],
   "metadata": {},
   "execution_count": 1
  },
  {
   "cell_type": "markdown",
   "source": [
    "---\n",
    "\n",
    "*This notebook was generated using [Literate.jl](https://github.com/fredrikekre/Literate.jl).*"
   ],
   "metadata": {}
  }
 ],
 "nbformat_minor": 3,
 "metadata": {
  "language_info": {
   "file_extension": ".jl",
   "mimetype": "application/julia",
   "name": "julia",
   "version": "1.11.6"
  },
  "kernelspec": {
   "name": "julia-1.11",
   "display_name": "Julia 1.11.6",
   "language": "julia"
  }
 },
 "nbformat": 4
}
