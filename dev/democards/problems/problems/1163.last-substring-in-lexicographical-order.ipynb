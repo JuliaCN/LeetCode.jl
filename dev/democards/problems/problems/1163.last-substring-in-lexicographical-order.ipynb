{
 "cells": [
  {
   "cell_type": "markdown",
   "source": [
    "Given a string `s`, return the last substring of `s` in lexicographical order.\n",
    "\n",
    "\n",
    "\n",
    "**Example 1:**\n",
    "\n",
    "\n",
    "\n",
    "    Input: \"abab\"\n",
    "    Output: \"bab\"\n",
    "    Explanation: The substrings are [\"a\", \"ab\", \"aba\", \"abab\", \"b\", \"ba\", \"bab\"]. The lexicographically maximum substring is \"bab\".\n",
    "\n",
    "\n",
    "**Example 2:**\n",
    "\n",
    "\n",
    "\n",
    "    Input: \"leetcode\"\n",
    "    Output: \"tcode\"\n",
    "\n",
    "\n",
    "\n",
    "\n",
    "**Note:**\n",
    "\n",
    "  1. `1 <= s.length <= 4 * 10^5`\n",
    "  2. s contains only lowercase English letters."
   ],
   "metadata": {}
  },
  {
   "outputs": [
    {
     "output_type": "execute_result",
     "data": {
      "text/plain": "last_substring (generic function with 1 method)"
     },
     "metadata": {},
     "execution_count": 1
    }
   ],
   "cell_type": "code",
   "source": [
    "# @lc code=start\n",
    "using LeetCode\n",
    "\n",
    "function last_substring(s::String)\n",
    "    m_ch = maximum(s)\n",
    "    mc_pos = findall(==(m_ch), s)\n",
    "    pos, window_len, new_window_len = first(mc_pos), 1, 1\n",
    "    for idx in 2:length(mc_pos)\n",
    "        if mc_pos[idx] == mc_pos[idx - 1] + 1\n",
    "            new_window_len += 1\n",
    "        else\n",
    "            if new_window_len > window_len\n",
    "                window_len = new_window_len\n",
    "                pos = mc_pos[idx - 1] - new_window_len + 1\n",
    "            end\n",
    "            new_window_len = 1\n",
    "        end\n",
    "    end\n",
    "    if new_window_len > window_len\n",
    "        window_len = new_window_len\n",
    "        pos = mc_pos[end] - new_window_len + 1\n",
    "    end\n",
    "    return s[pos:end]\n",
    "end\n",
    "# @lc code=end"
   ],
   "metadata": {},
   "execution_count": 1
  },
  {
   "cell_type": "markdown",
   "source": [
    "---\n",
    "\n",
    "*This notebook was generated using [Literate.jl](https://github.com/fredrikekre/Literate.jl).*"
   ],
   "metadata": {}
  }
 ],
 "nbformat_minor": 3,
 "metadata": {
  "language_info": {
   "file_extension": ".jl",
   "mimetype": "application/julia",
   "name": "julia",
   "version": "1.10.4"
  },
  "kernelspec": {
   "name": "julia-1.10",
   "display_name": "Julia 1.10.4",
   "language": "julia"
  }
 },
 "nbformat": 4
}
