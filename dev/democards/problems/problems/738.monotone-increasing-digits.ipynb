{
 "cells": [
  {
   "cell_type": "markdown",
   "source": [
    "Given a non-negative integer `N`, find the largest number that is less than or\n",
    "equal to `N` with monotone increasing digits.\n",
    "\n",
    "(Recall that an integer has _monotone increasing digits_ if and only if each\n",
    "pair of adjacent digits `x` and `y` satisfy `x <= y`.)\n",
    "\n",
    "**Example 1:**\n",
    "\n",
    "\n",
    "\n",
    "    Input: N = 10\n",
    "    Output: 9\n",
    "\n",
    "\n",
    "**Example 2:**\n",
    "\n",
    "\n",
    "\n",
    "    Input: N = 1234\n",
    "    Output: 1234\n",
    "\n",
    "\n",
    "**Example 3:**\n",
    "\n",
    "\n",
    "\n",
    "    Input: N = 332\n",
    "    Output: 299\n",
    "\n",
    "\n",
    "**Note:** `N` is an integer in the range `[0, 10^9]`."
   ],
   "metadata": {}
  },
  {
   "outputs": [
    {
     "output_type": "execute_result",
     "data": {
      "text/plain": "monotone_increasing_digits (generic function with 1 method)"
     },
     "metadata": {},
     "execution_count": 1
    }
   ],
   "cell_type": "code",
   "source": [
    "# @lc code=start\n",
    "using LeetCode\n",
    "\n",
    "function monotone_increasing_digits(N::Int)::Int\n",
    "    some_ones = 111111111\n",
    "    res = 0\n",
    "    for _ in 1:9\n",
    "        while res + some_ones > N\n",
    "            some_ones ÷= 10\n",
    "        end\n",
    "        res += some_ones\n",
    "    end\n",
    "    return res\n",
    "end\n",
    "\n",
    "# @lc code=end"
   ],
   "metadata": {},
   "execution_count": 1
  },
  {
   "cell_type": "markdown",
   "source": [
    "---\n",
    "\n",
    "*This notebook was generated using [Literate.jl](https://github.com/fredrikekre/Literate.jl).*"
   ],
   "metadata": {}
  }
 ],
 "nbformat_minor": 3,
 "metadata": {
  "language_info": {
   "file_extension": ".jl",
   "mimetype": "application/julia",
   "name": "julia",
   "version": "1.10.1"
  },
  "kernelspec": {
   "name": "julia-1.10",
   "display_name": "Julia 1.10.1",
   "language": "julia"
  }
 },
 "nbformat": 4
}
