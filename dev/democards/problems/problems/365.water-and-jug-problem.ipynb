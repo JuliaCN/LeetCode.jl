{
 "cells": [
  {
   "cell_type": "markdown",
   "source": [
    "You are given two jugs with capacities _x_ and _y_ litres. There is an\n",
    "infinite amount of water supply available. You need to determine whether it is\n",
    "possible to measure exactly _z_ litres using these two jugs.\n",
    "\n",
    "If _z_ liters of water is measurable, you must have _z_ liters of water\n",
    "contained within **one or both buckets** by the end.\n",
    "\n",
    "Operations allowed:\n",
    "\n",
    "  * Fill any of the jugs completely with water.\n",
    "  * Empty any of the jugs.\n",
    "  * Pour water from one jug into another till the other jug is completely full or the first jug itself is empty.\n",
    "\n",
    "**Example 1:** (From the famous [_\" Die Hard\"_\n",
    "example](https://www.youtube.com/watch?v=BVtQNK_ZUJg))\n",
    "\n",
    "\n",
    "\n",
    "    Input: x = 3, y = 5, z = 4\n",
    "    Output: True\n",
    "\n",
    "\n",
    "**Example 2:**\n",
    "\n",
    "\n",
    "\n",
    "    Input: x = 2, y = 6, z = 5\n",
    "    Output: False\n",
    "\n",
    "\n",
    "\n",
    "\n",
    "**Constraints:**\n",
    "\n",
    "  * `0 <= x <= 10^6`\n",
    "  * `0 <= y <= 10^6`\n",
    "  * `0 <= z <= 10^6`"
   ],
   "metadata": {}
  },
  {
   "outputs": [
    {
     "output_type": "execute_result",
     "data": {
      "text/plain": "can_measure_water (generic function with 1 method)"
     },
     "metadata": {},
     "execution_count": 1
    }
   ],
   "cell_type": "code",
   "source": [
    "# @lc code=start\n",
    "using LeetCode\n",
    "\n",
    "function can_measure_water(jug1_cap::Int, jug2_cap::Int, target::Int)\n",
    "    target > jug1_cap + jug2_cap && return false\n",
    "    return target % gcd(jug2_cap, jug1_cap) == 0 ? true : false\n",
    "end\n",
    "# @lc code=end"
   ],
   "metadata": {},
   "execution_count": 1
  },
  {
   "cell_type": "markdown",
   "source": [
    "---\n",
    "\n",
    "*This notebook was generated using [Literate.jl](https://github.com/fredrikekre/Literate.jl).*"
   ],
   "metadata": {}
  }
 ],
 "nbformat_minor": 3,
 "metadata": {
  "language_info": {
   "file_extension": ".jl",
   "mimetype": "application/julia",
   "name": "julia",
   "version": "1.6.1"
  },
  "kernelspec": {
   "name": "julia-1.6",
   "display_name": "Julia 1.6.1",
   "language": "julia"
  }
 },
 "nbformat": 4
}
