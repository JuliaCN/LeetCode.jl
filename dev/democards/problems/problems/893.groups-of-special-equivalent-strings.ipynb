{
 "cells": [
  {
   "cell_type": "markdown",
   "source": [
    "You are given an array `A` of strings.\n",
    "\n",
    "A _move  onto `S`_ consists of swapping any two even indexed characters of\n",
    "`S`, or any two odd indexed characters of `S`.\n",
    "\n",
    "Two strings `S` and `T` are  _special-equivalent_  if after any number of\n",
    "_moves onto`S`_, `S == T`.\n",
    "\n",
    "For example, `S = \"zzxy\"` and `T = \"xyzz\"` are special-equivalent because we\n",
    "may make the moves `\"zzxy\" -> \"xzzy\" -> \"xyzz\"` that swap `S[0]` and `S[2]`,\n",
    "then `S[1]` and `S[3]`.\n",
    "\n",
    "Now, a _group of special-equivalent strings from`A`_ is a non-empty subset of\n",
    "A such that:\n",
    "\n",
    "  1. Every pair of strings in the group are special equivalent, and;\n",
    "  2. The group is the largest size possible (ie., there isn't a string S not in the group such that S is special equivalent to every string in the group)\n",
    "\n",
    "Return the number of groups of special-equivalent strings from `A`.\n",
    "\n",
    "\n",
    "\n",
    "**Example 1:**\n",
    "\n",
    "\n",
    "\n",
    "    Input: [\"abcd\",\"cdab\",\"cbad\",\"xyzz\",\"zzxy\",\"zzyx\"]\n",
    "    Output: 3\n",
    "    Explanation:\n",
    "    One group is [\"abcd\", \"cdab\", \"cbad\"], since they are all pairwise special equivalent, and none of the other strings are all pairwise special equivalent to these.\n",
    "\n",
    "    The other two groups are [\"xyzz\", \"zzxy\"] and [\"zzyx\"].  Note that in particular, \"zzxy\" is not special equivalent to \"zzyx\".\n",
    "\n",
    "\n",
    "**Example 2:**\n",
    "\n",
    "\n",
    "\n",
    "    Input: [\"abc\",\"acb\",\"bac\",\"bca\",\"cab\",\"cba\"]\n",
    "    Output: 3\n",
    "\n",
    "\n",
    "\n",
    "**Note:**\n",
    "\n",
    "  * `1 <= A.length <= 1000`\n",
    "  * `1 <= A[i].length <= 20`\n",
    "  * All `A[i]` have the same length.\n",
    "  * All `A[i]` consist of only lowercase letters."
   ],
   "metadata": {}
  },
  {
   "outputs": [
    {
     "output_type": "execute_result",
     "data": {
      "text/plain": "num_special_equiv_groups (generic function with 1 method)"
     },
     "metadata": {},
     "execution_count": 1
    }
   ],
   "cell_type": "code",
   "source": [
    "# @lc code=start\n",
    "using LeetCode\n",
    "\n",
    "function num_special_equiv_groups(A::Vector{String})\n",
    "    st = Set{Vector{Int}}()\n",
    "    res = 0\n",
    "    for s in A\n",
    "        cnt = fill(0, 26 * 2)\n",
    "        for i in 1:length(s)\n",
    "            cnt[s[i] - 'a' + 1 + (i % 2)] += 1\n",
    "        end\n",
    "        !(cnt in st) && push!(st, cnt)\n",
    "    end\n",
    "    length(st)\n",
    "end\n",
    "# @lc code=end"
   ],
   "metadata": {},
   "execution_count": 1
  },
  {
   "cell_type": "markdown",
   "source": [
    "---\n",
    "\n",
    "*This notebook was generated using [Literate.jl](https://github.com/fredrikekre/Literate.jl).*"
   ],
   "metadata": {}
  }
 ],
 "nbformat_minor": 3,
 "metadata": {
  "language_info": {
   "file_extension": ".jl",
   "mimetype": "application/julia",
   "name": "julia",
   "version": "1.7.2"
  },
  "kernelspec": {
   "name": "julia-1.7",
   "display_name": "Julia 1.7.2",
   "language": "julia"
  }
 },
 "nbformat": 4
}
