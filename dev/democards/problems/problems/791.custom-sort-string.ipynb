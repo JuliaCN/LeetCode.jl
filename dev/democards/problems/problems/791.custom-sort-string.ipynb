{
 "cells": [
  {
   "cell_type": "markdown",
   "source": [
    "`S` and `T` are strings composed of lowercase letters. In `S`, no letter\n",
    "occurs more than once.\n",
    "\n",
    "`S` was sorted in some custom order previously. We want to permute the\n",
    "characters of `T` so that they match the order that `S` was sorted. More\n",
    "specifically, if `x` occurs before `y` in `S`, then `x` should occur before\n",
    "`y` in the returned string.\n",
    "\n",
    "Return any permutation of `T` (as a string) that satisfies this property.\n",
    "\n",
    "\n",
    "\n",
    "    **Example :**\n",
    "    Input:\n",
    "    S = \"cba\"\n",
    "    T = \"abcd\"\n",
    "    Output: \"cbad\"\n",
    "    Explanation:\n",
    "    \"a\", \"b\", \"c\" appear in S, so the order of \"a\", \"b\", \"c\" should be \"c\", \"b\", and \"a\".\n",
    "    Since \"d\" does not appear in S, it can be at any position in T. \"dcba\", \"cdba\", \"cbda\" are also valid outputs.\n",
    "\n",
    "\n",
    "\n",
    "\n",
    "**Note:**\n",
    "\n",
    "  * `S` has length at most `26`, and no character is repeated in `S`.\n",
    "  * `T` has length at most `200`.\n",
    "  * `S` and `T` consist of lowercase letters only."
   ],
   "metadata": {}
  },
  {
   "outputs": [
    {
     "output_type": "execute_result",
     "data": {
      "text/plain": "custom_sort_string (generic function with 1 method)"
     },
     "metadata": {},
     "execution_count": 1
    }
   ],
   "cell_type": "code",
   "source": [
    "# @lc code=start\n",
    "using LeetCode\n",
    "\n",
    "function custom_sort_string(S::String, T::String)\n",
    "    letter_rank = fill(0, 128)\n",
    "    for (idx, ch) in enumerate(codeunits(S))\n",
    "        letter_rank[ch] = idx\n",
    "    end\n",
    "    u = codeunits(T)[:]\n",
    "    sort!(u, by = x -> letter_rank[x])\n",
    "    String(u)\n",
    "end\n",
    "# @lc code=end"
   ],
   "metadata": {},
   "execution_count": 1
  },
  {
   "cell_type": "markdown",
   "source": [
    "---\n",
    "\n",
    "*This notebook was generated using [Literate.jl](https://github.com/fredrikekre/Literate.jl).*"
   ],
   "metadata": {}
  }
 ],
 "nbformat_minor": 3,
 "metadata": {
  "language_info": {
   "file_extension": ".jl",
   "mimetype": "application/julia",
   "name": "julia",
   "version": "1.10.4"
  },
  "kernelspec": {
   "name": "julia-1.10",
   "display_name": "Julia 1.10.4",
   "language": "julia"
  }
 },
 "nbformat": 4
}
