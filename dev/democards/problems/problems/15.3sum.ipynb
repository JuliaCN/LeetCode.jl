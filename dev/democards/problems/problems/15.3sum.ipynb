{
 "cells": [
  {
   "cell_type": "markdown",
   "source": [
    "Given an array `nums` of _n_ integers, are there elements _a_ , _b_ , _c_ in\n",
    "`nums` such that _a_ \\+ _b_ \\+ _c_ = 0? Find all unique triplets in the array\n",
    "which gives the sum of zero.\n",
    "\n",
    "Notice that the solution set must not contain duplicate triplets.\n",
    "\n",
    "\n",
    "\n",
    "**Example 1:**\n",
    "\n",
    "\n",
    "\n",
    "    Input: nums = [-1,0,1,2,-1,-4]\n",
    "    Output: [[-1,-1,2],[-1,0,1]]\n",
    "\n",
    "\n",
    "**Example 2:**\n",
    "\n",
    "\n",
    "\n",
    "    Input: nums = []\n",
    "    Output: []\n",
    "\n",
    "\n",
    "**Example 3:**\n",
    "\n",
    "\n",
    "\n",
    "    Input: nums = [0]\n",
    "    Output: []\n",
    "\n",
    "\n",
    "\n",
    "\n",
    "**Constraints:**\n",
    "\n",
    "  * `0 <= nums.length <= 3000`\n",
    "  * `-105 <= nums[i] <= 105`"
   ],
   "metadata": {}
  },
  {
   "outputs": [
    {
     "output_type": "execute_result",
     "data": {
      "text/plain": "three_sum (generic function with 1 method)"
     },
     "metadata": {},
     "execution_count": 1
    }
   ],
   "cell_type": "code",
   "source": [
    "# @lc code=start\n",
    "using LeetCode\n",
    "\n",
    "function three_sum!(nums::Vector{Int})::Vector{NTuple{3,Int}}\n",
    "    sort!(nums)\n",
    "    n, res, pre = length(nums), NTuple{3,Int}[], NaN\n",
    "    for (i, first) in enumerate(nums)\n",
    "        first == pre && continue\n",
    "        pre, left, right = first, i + 1, n\n",
    "        while left < right\n",
    "            total = nums[left] + nums[right]\n",
    "            if total < -first\n",
    "                left += 1\n",
    "            elseif total > -first\n",
    "                right -= 1\n",
    "            else\n",
    "                push!(res, (first, nums[left], nums[right]))\n",
    "                pos = findfirst(!=(nums[left]), @view(nums[(left + 1):right]))\n",
    "                isnothing(pos) ? break : left += pos\n",
    "                pos = findfirst(!=(nums[right]), @view(nums[(right - 1):-1:left]))\n",
    "                isnothing(pos) ? break : right -= pos\n",
    "            end\n",
    "        end\n",
    "    end\n",
    "    return res\n",
    "end\n",
    "three_sum(nums::Vector{Int}) = three_sum!(copy(nums))\n",
    "\n",
    "# @lc code=end"
   ],
   "metadata": {},
   "execution_count": 1
  },
  {
   "cell_type": "markdown",
   "source": [
    "---\n",
    "\n",
    "*This notebook was generated using [Literate.jl](https://github.com/fredrikekre/Literate.jl).*"
   ],
   "metadata": {}
  }
 ],
 "nbformat_minor": 3,
 "metadata": {
  "language_info": {
   "file_extension": ".jl",
   "mimetype": "application/julia",
   "name": "julia",
   "version": "1.7.3"
  },
  "kernelspec": {
   "name": "julia-1.7",
   "display_name": "Julia 1.7.3",
   "language": "julia"
  }
 },
 "nbformat": 4
}
