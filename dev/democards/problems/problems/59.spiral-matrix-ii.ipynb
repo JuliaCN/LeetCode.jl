{
 "cells": [
  {
   "cell_type": "markdown",
   "source": [
    "Given a positive integer `n`, generate an `n x n` `matrix` filled with\n",
    "elements from `1` to `n2` in spiral order.\n",
    "\n",
    "\n",
    "\n",
    "**Example 1:**\n",
    "\n",
    "![](https://assets.leetcode.com/uploads/2020/11/13/spiraln.jpg)\n",
    "\n",
    "\n",
    "\n",
    "    Input: n = 3\n",
    "    Output: [[1,2,3],[8,9,4],[7,6,5]]\n",
    "\n",
    "\n",
    "**Example 2:**\n",
    "\n",
    "\n",
    "\n",
    "    Input: n = 1\n",
    "    Output: [[1]]\n",
    "\n",
    "\n",
    "\n",
    "\n",
    "**Constraints:**\n",
    "\n",
    "  * `1 <= n <= 20`"
   ],
   "metadata": {}
  },
  {
   "outputs": [
    {
     "output_type": "execute_result",
     "data": {
      "text/plain": "generate_matrix (generic function with 1 method)"
     },
     "metadata": {},
     "execution_count": 1
    }
   ],
   "cell_type": "code",
   "source": [
    "# @lc code=start\n",
    "using LeetCode\n",
    "\n",
    "function generate_matrix(n::Int)::Vector{Vector{Int}}\n",
    "    mat = [fill(0, n) for _ = 1:n]\n",
    "    i, j, di, dj = 1, 1, 0, 1\n",
    "\n",
    "    for k = 1:n*n\n",
    "        mat[i][j] = k\n",
    "        if mat[mod1(i + di, n)][mod1(j + dj, n)] != 0\n",
    "            di, dj = dj, -di\n",
    "        end\n",
    "\n",
    "        i += di\n",
    "        j += dj\n",
    "    end\n",
    "\n",
    "    return mat\n",
    "end\n",
    "# @lc code=end"
   ],
   "metadata": {},
   "execution_count": 1
  },
  {
   "cell_type": "markdown",
   "source": [
    "---\n",
    "\n",
    "*This notebook was generated using [Literate.jl](https://github.com/fredrikekre/Literate.jl).*"
   ],
   "metadata": {}
  }
 ],
 "nbformat_minor": 3,
 "metadata": {
  "language_info": {
   "file_extension": ".jl",
   "mimetype": "application/julia",
   "name": "julia",
   "version": "1.8.0"
  },
  "kernelspec": {
   "name": "julia-1.8",
   "display_name": "Julia 1.8.0",
   "language": "julia"
  }
 },
 "nbformat": 4
}
