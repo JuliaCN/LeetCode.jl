{
 "cells": [
  {
   "cell_type": "markdown",
   "source": [
    "One way to serialize a binary tree is to use pre-order traversal. When we\n",
    "encounter a non-null node, we record the node's value. If it is a null node,\n",
    "we record using a sentinel value such as `#`.\n",
    "\n",
    "\n",
    "\n",
    "         _9_\n",
    "        /   \\\n",
    "       3     2\n",
    "      / \\   / \\\n",
    "     4   1  #  6\n",
    "    / \\ / \\   / \\\n",
    "    # # # #   # #\n",
    "\n",
    "\n",
    "For example, the above binary tree can be serialized to the string\n",
    "`\"9,3,4,#,#,1,#,#,2,#,6,#,#\"`, where `#` represents a null node.\n",
    "\n",
    "Given a string of comma separated values, verify whether it is a correct\n",
    "preorder traversal serialization of a binary tree. Find an algorithm without\n",
    "reconstructing the tree.\n",
    "\n",
    "Each comma separated value in the string must be either an integer or a\n",
    "character `'#'` representing `null` pointer.\n",
    "\n",
    "You may assume that the input format is always valid, for example it could\n",
    "never contain two consecutive commas such as `\"1,,3\"`.\n",
    "\n",
    "**Example 1:**\n",
    "\n",
    "\n",
    "\n",
    "    Input:\"9,3,4,#,#,1,#,#,2,#,6,#,#\"\n",
    "    Output:true\n",
    "\n",
    "**Example 2:**\n",
    "\n",
    "\n",
    "\n",
    "    Input:\"1,#\"\n",
    "    Output:false\n",
    "\n",
    "\n",
    "**Example 3:**\n",
    "\n",
    "\n",
    "\n",
    "    Input:\"9,#,#,1\"\n",
    "    Output:false"
   ],
   "metadata": {}
  },
  {
   "outputs": [
    {
     "output_type": "execute_result",
     "data": {
      "text/plain": "is_valid_serialization (generic function with 1 method)"
     },
     "metadata": {},
     "execution_count": 1
    }
   ],
   "cell_type": "code",
   "source": [
    "# @lc code=start\n",
    "using LeetCode\n",
    "\n",
    "function is_valid_serialization(preorder::String)::Bool\n",
    "    p = split(preorder, \",\")\n",
    "    slot = 1\n",
    "\n",
    "    for node in p\n",
    "        slot == 0 && return false\n",
    "\n",
    "        slot = (node == \"#\") ? (slot - 1) : (slot + 1)\n",
    "    end\n",
    "\n",
    "    return slot == 0\n",
    "end\n",
    "\n",
    "# @lc code=end"
   ],
   "metadata": {},
   "execution_count": 1
  },
  {
   "cell_type": "markdown",
   "source": [
    "---\n",
    "\n",
    "*This notebook was generated using [Literate.jl](https://github.com/fredrikekre/Literate.jl).*"
   ],
   "metadata": {}
  }
 ],
 "nbformat_minor": 3,
 "metadata": {
  "language_info": {
   "file_extension": ".jl",
   "mimetype": "application/julia",
   "name": "julia",
   "version": "1.7.0"
  },
  "kernelspec": {
   "name": "julia-1.7",
   "display_name": "Julia 1.7.0",
   "language": "julia"
  }
 },
 "nbformat": 4
}
