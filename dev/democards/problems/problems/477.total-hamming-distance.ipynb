{
 "cells": [
  {
   "cell_type": "markdown",
   "source": [
    "The [Hamming distance](https://en.wikipedia.org/wiki/Hamming_distance) between\n",
    "two integers is the number of positions at which the corresponding bits are\n",
    "different.\n",
    "\n",
    "Now your job is to find the total Hamming distance between all pairs of the\n",
    "given numbers.\n",
    "\n",
    "**Example:**\n",
    "\n",
    "\n",
    "\n",
    "    Input: 4, 14, 2\n",
    "\n",
    "    Output: 6\n",
    "\n",
    "    Explanation: In binary representation, the 4 is 0100, 14 is 1110, and 2 is 0010 (just\n",
    "    showing the four bits relevant in this case). So the answer will be:\n",
    "    HammingDistance(4, 14) + HammingDistance(4, 2) + HammingDistance(14, 2) = 2 + 2 + 2 = 6.\n",
    "\n",
    "\n",
    "**Note:**\n",
    "\n",
    "  1. Elements of the given array are in the range of `0 ` to `10^9`\n",
    "  2. Length of the array will not exceed `10^4`."
   ],
   "metadata": {}
  },
  {
   "outputs": [
    {
     "output_type": "execute_result",
     "data": {
      "text/plain": "total_hamming_distance (generic function with 1 method)"
     },
     "metadata": {},
     "execution_count": 1
    }
   ],
   "cell_type": "code",
   "source": [
    "# @lc code=start\n",
    "using LeetCode\n",
    "\n",
    "function total_hamming_distance(nums)\n",
    "    res, n = 0, length(nums)\n",
    "    for i in 0:30\n",
    "        c = 0\n",
    "        for num in nums\n",
    "            c += (num >> i) & 1\n",
    "        end\n",
    "        res += c * (n - c)\n",
    "    end\n",
    "    return res\n",
    "end\n",
    "# @lc code=end"
   ],
   "metadata": {},
   "execution_count": 1
  },
  {
   "cell_type": "markdown",
   "source": [
    "---\n",
    "\n",
    "*This notebook was generated using [Literate.jl](https://github.com/fredrikekre/Literate.jl).*"
   ],
   "metadata": {}
  }
 ],
 "nbformat_minor": 3,
 "metadata": {
  "language_info": {
   "file_extension": ".jl",
   "mimetype": "application/julia",
   "name": "julia",
   "version": "1.6.2"
  },
  "kernelspec": {
   "name": "julia-1.6",
   "display_name": "Julia 1.6.2",
   "language": "julia"
  }
 },
 "nbformat": 4
}
