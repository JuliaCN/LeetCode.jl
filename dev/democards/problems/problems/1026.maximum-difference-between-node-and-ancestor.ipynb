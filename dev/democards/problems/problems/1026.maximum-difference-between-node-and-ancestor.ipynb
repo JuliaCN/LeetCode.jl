{
 "cells": [
  {
   "cell_type": "markdown",
   "source": [
    "Given the `root` of a binary tree, find the maximum value `V` for which there\n",
    "exist **different** nodes `A` and `B` where `V = |A.val - B.val|` and `A` is\n",
    "an ancestor of `B`.\n",
    "\n",
    "A node `A` is an ancestor of `B` if either: any child of `A` is equal to `B`,\n",
    "or any child of `A` is an ancestor of `B`.\n",
    "\n",
    "\n",
    "\n",
    "**Example 1:**\n",
    "\n",
    "![](https://assets.leetcode.com/uploads/2020/11/09/tmp-tree.jpg)\n",
    "\n",
    "\n",
    "\n",
    "    Input: root = [8,3,10,1,6,null,14,null,null,4,7,13]\n",
    "    Output: 7\n",
    "    Explanation: We have various ancestor-node differences, some of which are given below :\n",
    "    |8 - 3| = 5\n",
    "    |3 - 7| = 4\n",
    "    |8 - 1| = 7\n",
    "    |10 - 13| = 3\n",
    "    Among all possible differences, the maximum value of 7 is obtained by |8 - 1| = 7.\n",
    "\n",
    "**Example 2:**\n",
    "\n",
    "![](https://assets.leetcode.com/uploads/2020/11/09/tmp-tree-1.jpg)\n",
    "\n",
    "\n",
    "\n",
    "    Input: root = [1,null,2,null,0,3]\n",
    "    Output: 3\n",
    "\n",
    "\n",
    "\n",
    "\n",
    "**Constraints:**\n",
    "\n",
    "  * The number of nodes in the tree is in the range `[2, 5000]`.\n",
    "  * `0 <= Node.val <= 105`"
   ],
   "metadata": {}
  },
  {
   "outputs": [
    {
     "output_type": "execute_result",
     "data": {
      "text/plain": "max_ancestor_diff (generic function with 1 method)"
     },
     "metadata": {},
     "execution_count": 1
    }
   ],
   "cell_type": "code",
   "source": [
    "# @lc code=start\n",
    "using LeetCode\n",
    "\n",
    "function max_ancestor_diff(root::TreeNode{Int})\n",
    "    res = 0\n",
    "    function min_max_descendant(root::TreeNode{Int})\n",
    "        minres, maxres = root.val, root.val\n",
    "        for child in (:left, :right)\n",
    "            cd_node = getproperty(root, child)\n",
    "            isnothing(cd_node) && continue\n",
    "            minl, maxl = min_max_descendant(cd_node)\n",
    "            res = max(res, abs(root.val - minl), abs(root.val - maxl))\n",
    "            minres = min(minres, minl)\n",
    "            maxres = max(maxres, maxl)\n",
    "        end\n",
    "        return minres, maxres\n",
    "    end\n",
    "    min_max_descendant(root)\n",
    "    return res\n",
    "end\n",
    "# @lc code=end"
   ],
   "metadata": {},
   "execution_count": 1
  },
  {
   "cell_type": "markdown",
   "source": [
    "---\n",
    "\n",
    "*This notebook was generated using [Literate.jl](https://github.com/fredrikekre/Literate.jl).*"
   ],
   "metadata": {}
  }
 ],
 "nbformat_minor": 3,
 "metadata": {
  "language_info": {
   "file_extension": ".jl",
   "mimetype": "application/julia",
   "name": "julia",
   "version": "1.8.0"
  },
  "kernelspec": {
   "name": "julia-1.8",
   "display_name": "Julia 1.8.0",
   "language": "julia"
  }
 },
 "nbformat": 4
}
