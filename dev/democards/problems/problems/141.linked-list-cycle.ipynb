{
 "cells": [
  {
   "cell_type": "markdown",
   "source": [
    "Given `head`, the head of a linked list, determine if the linked list has a\n",
    "cycle in it.\n",
    "\n",
    "There is a cycle in a linked list if there is some node in the list that can\n",
    "be reached again by continuously following the `next` pointer. Internally,\n",
    "`pos` is used to denote the index of the node that tail's `next` pointer is\n",
    "connected to.  **Note that  `pos` is not passed as a parameter**.\n",
    "\n",
    "Return `true` _if there is a cycle in the linked list_. Otherwise, return\n",
    "`false`.\n",
    "\n",
    "\n",
    "\n",
    "**Example 1:**\n",
    "\n",
    "![](https://assets.leetcode.com/uploads/2018/12/07/circularlinkedlist.png)\n",
    "\n",
    "\n",
    "\n",
    "    Input: head = [3,2,0,-4], pos = 1\n",
    "    Output: true\n",
    "    Explanation: There is a cycle in the linked list, where the tail connects to the 1st node (0-indexed).\n",
    "\n",
    "\n",
    "**Example 2:**\n",
    "\n",
    "![](https://assets.leetcode.com/uploads/2018/12/07/circularlinkedlist_test2.png)\n",
    "\n",
    "\n",
    "\n",
    "    Input: head = [1,2], pos = 0\n",
    "    Output: true\n",
    "    Explanation: There is a cycle in the linked list, where the tail connects to the 0th node.\n",
    "\n",
    "\n",
    "**Example 3:**\n",
    "\n",
    "![](https://assets.leetcode.com/uploads/2018/12/07/circularlinkedlist_test3.png)\n",
    "\n",
    "\n",
    "\n",
    "    Input: head = [1], pos = -1\n",
    "    Output: false\n",
    "    Explanation: There is no cycle in the linked list.\n",
    "\n",
    "\n",
    "\n",
    "\n",
    "**Constraints:**\n",
    "\n",
    "  * The number of the nodes in the list is in the range `[0, 104]`.\n",
    "  * `-105 <= Node.val <= 105`\n",
    "  * `pos` is `-1` or a **valid index** in the linked-list.\n",
    "\n",
    "\n",
    "\n",
    "**Follow up:** Can you solve it using `O(1)` (i.e. constant) memory?"
   ],
   "metadata": {}
  },
  {
   "outputs": [
    {
     "output_type": "execute_result",
     "data": {
      "text/plain": "has_cycle (generic function with 1 method)"
     },
     "metadata": {},
     "execution_count": 1
    }
   ],
   "cell_type": "code",
   "source": [
    "# @lc code=start\n",
    "using LeetCode\n",
    "function has_cycle(head::Union{ListNode,Nothing})::Bool\n",
    "    isnothing(head) && return false\n",
    "    swift = slow = head\n",
    "    while !isnothing(swift.next) && !isnothing(swift.next.next)\n",
    "        slow, swift = slow.next, swift.next.next\n",
    "        slow === swift && return true\n",
    "    end\n",
    "    return false\n",
    "end\n",
    "# @lc code=end"
   ],
   "metadata": {},
   "execution_count": 1
  },
  {
   "cell_type": "markdown",
   "source": [
    "---\n",
    "\n",
    "*This notebook was generated using [Literate.jl](https://github.com/fredrikekre/Literate.jl).*"
   ],
   "metadata": {}
  }
 ],
 "nbformat_minor": 3,
 "metadata": {
  "language_info": {
   "file_extension": ".jl",
   "mimetype": "application/julia",
   "name": "julia",
   "version": "1.7.3"
  },
  "kernelspec": {
   "name": "julia-1.7",
   "display_name": "Julia 1.7.3",
   "language": "julia"
  }
 },
 "nbformat": 4
}
