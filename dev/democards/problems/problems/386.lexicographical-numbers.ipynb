{
 "cells": [
  {
   "cell_type": "markdown",
   "source": [
    "Given an integer _n_ , return 1 - _n_ in lexicographical order.\n",
    "\n",
    "For example, given 13, return: [1,10,11,12,13,2,3,4,5,6,7,8,9].\n",
    "\n",
    "Please optimize your algorithm to use less time and space. The input size may\n",
    "be as large as 5,000,000."
   ],
   "metadata": {}
  },
  {
   "outputs": [
    {
     "output_type": "execute_result",
     "data": {
      "text/plain": "lexical_order (generic function with 1 method)"
     },
     "metadata": {},
     "execution_count": 1
    }
   ],
   "cell_type": "code",
   "source": [
    "# @lc code=start\n",
    "using LeetCode\n",
    "\n",
    "function lexical_order(n)\n",
    "    res = Vector{Int}(undef, n)\n",
    "    cur = 1\n",
    "    for i in 1:n\n",
    "        res[i] = cur\n",
    "        if 10cur <= n\n",
    "            cur *= 10\n",
    "        else\n",
    "            (cur >= n) && (cur ÷= 10)\n",
    "            cur += 1\n",
    "            while cur % 10 == 0\n",
    "                cur ÷= 10\n",
    "            end\n",
    "        end\n",
    "    end\n",
    "    return res\n",
    "end\n",
    "# @lc code=end"
   ],
   "metadata": {},
   "execution_count": 1
  },
  {
   "cell_type": "markdown",
   "source": [
    "---\n",
    "\n",
    "*This notebook was generated using [Literate.jl](https://github.com/fredrikekre/Literate.jl).*"
   ],
   "metadata": {}
  }
 ],
 "nbformat_minor": 3,
 "metadata": {
  "language_info": {
   "file_extension": ".jl",
   "mimetype": "application/julia",
   "name": "julia",
   "version": "1.6.3"
  },
  "kernelspec": {
   "name": "julia-1.6",
   "display_name": "Julia 1.6.3",
   "language": "julia"
  }
 },
 "nbformat": 4
}
