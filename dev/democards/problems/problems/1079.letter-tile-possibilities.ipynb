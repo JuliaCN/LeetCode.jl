{
 "cells": [
  {
   "cell_type": "markdown",
   "source": [
    "You have `n`  `tiles`, where each tile has one letter `tiles[i]` printed on\n",
    "it.\n",
    "\n",
    "Return _the number of possible non-empty sequences of letters_ you can make\n",
    "using the letters printed on those `tiles`.\n",
    "\n",
    "\n",
    "\n",
    "**Example 1:**\n",
    "\n",
    "\n",
    "\n",
    "    Input: tiles = \"AAB\"\n",
    "    Output: 8\n",
    "    Explanation: The possible sequences are \"A\", \"B\", \"AA\", \"AB\", \"BA\", \"AAB\", \"ABA\", \"BAA\".\n",
    "\n",
    "\n",
    "**Example 2:**\n",
    "\n",
    "\n",
    "\n",
    "    Input: tiles = \"AAABBC\"\n",
    "    Output: 188\n",
    "\n",
    "\n",
    "**Example 3:**\n",
    "\n",
    "\n",
    "\n",
    "    Input: tiles = \"V\"\n",
    "    Output: 1\n",
    "\n",
    "\n",
    "\n",
    "\n",
    "**Constraints:**\n",
    "\n",
    "  * `1 <= tiles.length <= 7`\n",
    "  * `tiles` consists of uppercase English letters."
   ],
   "metadata": {}
  },
  {
   "outputs": [
    {
     "output_type": "execute_result",
     "data": {
      "text/plain": "letter_tile_possibilities (generic function with 1 method)"
     },
     "metadata": {},
     "execution_count": 1
    }
   ],
   "cell_type": "code",
   "source": [
    "# @lc code=start\n",
    "using LeetCode\n",
    "\n",
    "function letter_tile_possibilities(tiles::String)\n",
    "    cnt = zeros(Int, 26)\n",
    "    for c in tiles\n",
    "        cnt[c - 'A' + 1] += 1\n",
    "    end\n",
    "    function dfs(cnt::Vector{Int})\n",
    "        res = 0\n",
    "        for i in 1:26\n",
    "            cnt[i] == 0 && continue\n",
    "            res += 1\n",
    "            cnt[i] -= 1\n",
    "            res += dfs(cnt)\n",
    "            cnt[i] += 1\n",
    "        end\n",
    "        res\n",
    "    end\n",
    "    dfs(cnt)\n",
    "end\n",
    "# @lc code=end"
   ],
   "metadata": {},
   "execution_count": 1
  },
  {
   "cell_type": "markdown",
   "source": [
    "---\n",
    "\n",
    "*This notebook was generated using [Literate.jl](https://github.com/fredrikekre/Literate.jl).*"
   ],
   "metadata": {}
  }
 ],
 "nbformat_minor": 3,
 "metadata": {
  "language_info": {
   "file_extension": ".jl",
   "mimetype": "application/julia",
   "name": "julia",
   "version": "1.8.2"
  },
  "kernelspec": {
   "name": "julia-1.8",
   "display_name": "Julia 1.8.2",
   "language": "julia"
  }
 },
 "nbformat": 4
}
