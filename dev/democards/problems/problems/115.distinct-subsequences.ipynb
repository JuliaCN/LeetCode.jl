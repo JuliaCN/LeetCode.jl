{
 "cells": [
  {
   "cell_type": "markdown",
   "source": [
    "Given two strings `s` and `t`, return _the  number of distinct subsequences of\n",
    "`s` which equals `t`_.\n",
    "\n",
    "A string's **subsequence** is a new string formed from the original string by\n",
    "deleting some (can be none) of the characters without disturbing the relative\n",
    "positions of the remaining characters. (i.e., `\"ACE\"` is a subsequence of\n",
    "`\"ABCDE\"` while `\"AEC\"` is not).\n",
    "\n",
    "It's guaranteed the answer fits on a 32-bit signed integer.\n",
    "\n",
    "\n",
    "\n",
    "**Example 1:**\n",
    "\n",
    "\n",
    "\n",
    "    Input: s = \"rabbbit\", t = \"rabbit\"\n",
    "    Output: 3\n",
    "    Explanation:\n",
    "    As shown below, there are 3 ways you can generate \"rabbit\" from S.\n",
    "    **_rabb_** b ** _it_**\n",
    "    **_ra_** b ** _bbit_**\n",
    "    **_rab_** b ** _bit_**\n",
    "\n",
    "\n",
    "**Example 2:**\n",
    "\n",
    "\n",
    "\n",
    "    Input: s = \"babgbag\", t = \"bag\"\n",
    "    Output: 5\n",
    "    Explanation:\n",
    "    As shown below, there are 5 ways you can generate \"bag\" from S.\n",
    "    **_ba_** b _ **g**_ bag\n",
    "    **_ba_** bgba ** _g_**\n",
    "    _**b**_ abgb ** _ag_**\n",
    "    ba _ **b**_ gb _ **ag**_\n",
    "    babg ** _bag_**\n",
    "\n",
    "\n",
    "\n",
    "**Constraints:**\n",
    "\n",
    "  * `0 <= s.length, t.length <= 1000`\n",
    "  * `s` and `t` consist of English letters."
   ],
   "metadata": {}
  },
  {
   "outputs": [
    {
     "output_type": "execute_result",
     "data": {
      "text/plain": "num_distinct (generic function with 1 method)"
     },
     "metadata": {},
     "execution_count": 1
    }
   ],
   "cell_type": "code",
   "source": [
    "# @lc code=start\n",
    "using LeetCode\n",
    "\n",
    "function num_distinct(s::String, t::String)::Int32\n",
    "    m, n = length(s) + 1, length(t) + 1\n",
    "    dp = fill(0, m, n)\n",
    "\n",
    "    dp[:, 1] .= 1\n",
    "\n",
    "    for i = 2:m, j = 2:n\n",
    "        dp[i, j] = (s[i-1] == t[j-1]) ? (dp[i-1, j-1] + dp[i-1, j]) : dp[i-1, j]\n",
    "    end\n",
    "\n",
    "    return dp[m, n]\n",
    "end\n",
    "# @lc code=end"
   ],
   "metadata": {},
   "execution_count": 1
  },
  {
   "cell_type": "markdown",
   "source": [
    "---\n",
    "\n",
    "*This notebook was generated using [Literate.jl](https://github.com/fredrikekre/Literate.jl).*"
   ],
   "metadata": {}
  }
 ],
 "nbformat_minor": 3,
 "metadata": {
  "language_info": {
   "file_extension": ".jl",
   "mimetype": "application/julia",
   "name": "julia",
   "version": "1.7.2"
  },
  "kernelspec": {
   "name": "julia-1.7",
   "display_name": "Julia 1.7.2",
   "language": "julia"
  }
 },
 "nbformat": 4
}
