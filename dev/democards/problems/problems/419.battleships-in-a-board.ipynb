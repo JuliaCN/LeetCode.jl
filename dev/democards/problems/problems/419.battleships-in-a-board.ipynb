{
 "cells": [
  {
   "cell_type": "markdown",
   "source": [
    "Given an 2D board, count how many battleships are in it. The battleships are\n",
    "represented with `'X'`s, empty slots are represented with `'.'`s. You may\n",
    "assume the following rules:\n",
    "\n",
    "  * You receive a valid board, made of only battleships or empty slots.\n",
    "  * Battleships can only be placed horizontally or vertically. In other words, they can only be made of the shape `1xN` (1 row, N columns) or `Nx1` (N rows, 1 column), where N can be of any size.\n",
    "  * At least one horizontal or vertical cell separates between two battleships - there are no adjacent battleships.\n",
    "\n",
    "**Example:**\n",
    "\n",
    "\n",
    "\n",
    "    X..X\n",
    "    ...X\n",
    "    ...X\n",
    "\n",
    "\n",
    "In the above board there are 2 battleships.\n",
    "\n",
    "**Invalid Example:**\n",
    "\n",
    "\n",
    "\n",
    "    ...X\n",
    "    XXXX\n",
    "    ...X\n",
    "\n",
    "\n",
    "This is an invalid board that you will not receive - as battleships will\n",
    "always have a cell separating between them.\n",
    "\n",
    "**Follow up:**\n",
    "Could you do it in **one-pass** , using only **O(1) extra memory** and\n",
    "**without modifying** the value of the board?"
   ],
   "metadata": {}
  },
  {
   "outputs": [
    {
     "output_type": "execute_result",
     "data": {
      "text/plain": "count_battleships (generic function with 1 method)"
     },
     "metadata": {},
     "execution_count": 1
    }
   ],
   "cell_type": "code",
   "source": [
    "# @lc code=start\n",
    "using LeetCode\n",
    "\n",
    "function count_battleships(board::Matrix{Char})\n",
    "    res = 0\n",
    "    for I in CartesianIndices(board)\n",
    "        board[I] == '.' && continue\n",
    "        i, j = I.I\n",
    "        (i == 1 || board[i - 1, j] == '.') &&\n",
    "            (j == 1 || board[i, j - 1] == '.') &&\n",
    "            (res += 1)\n",
    "    end\n",
    "    return res\n",
    "end\n",
    "# @lc code=end"
   ],
   "metadata": {},
   "execution_count": 1
  },
  {
   "cell_type": "markdown",
   "source": [
    "---\n",
    "\n",
    "*This notebook was generated using [Literate.jl](https://github.com/fredrikekre/Literate.jl).*"
   ],
   "metadata": {}
  }
 ],
 "nbformat_minor": 3,
 "metadata": {
  "language_info": {
   "file_extension": ".jl",
   "mimetype": "application/julia",
   "name": "julia",
   "version": "1.8.0"
  },
  "kernelspec": {
   "name": "julia-1.8",
   "display_name": "Julia 1.8.0",
   "language": "julia"
  }
 },
 "nbformat": 4
}
