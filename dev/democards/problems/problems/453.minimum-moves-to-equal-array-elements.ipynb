{
 "cells": [
  {
   "cell_type": "markdown",
   "source": [
    "Given a **non-empty** integer array of size _n_ , find the minimum number of\n",
    "moves required to make all array elements equal, where a move is incrementing\n",
    "_n_ \\- 1 elements by 1.\n",
    "\n",
    "**Example:**\n",
    "\n",
    "\n",
    "\n",
    "    Input:\n",
    "    [1,2,3]\n",
    "\n",
    "    Output:\n",
    "    3\n",
    "\n",
    "    Explanation:\n",
    "    Only three moves are needed (remember each move increments two elements):\n",
    "\n",
    "    [1,2,3]  =>  [2,3,3]  =>  [3,4,3]  =>  [4,4,4]"
   ],
   "metadata": {}
  },
  {
   "outputs": [
    {
     "output_type": "execute_result",
     "data": {
      "text/plain": "min_moves_453 (generic function with 1 method)"
     },
     "metadata": {},
     "execution_count": 1
    }
   ],
   "cell_type": "code",
   "source": [
    "# @lc code=start\n",
    "using LeetCode\n",
    "\n",
    "function min_moves_453(nums::Vector{Int})\n",
    "    sum(nums) - minimum(nums) * length(nums)\n",
    "end\n",
    "# @lc code=end"
   ],
   "metadata": {},
   "execution_count": 1
  },
  {
   "cell_type": "markdown",
   "source": [
    "---\n",
    "\n",
    "*This notebook was generated using [Literate.jl](https://github.com/fredrikekre/Literate.jl).*"
   ],
   "metadata": {}
  }
 ],
 "nbformat_minor": 3,
 "metadata": {
  "language_info": {
   "file_extension": ".jl",
   "mimetype": "application/julia",
   "name": "julia",
   "version": "1.7.2"
  },
  "kernelspec": {
   "name": "julia-1.7",
   "display_name": "Julia 1.7.2",
   "language": "julia"
  }
 },
 "nbformat": 4
}
