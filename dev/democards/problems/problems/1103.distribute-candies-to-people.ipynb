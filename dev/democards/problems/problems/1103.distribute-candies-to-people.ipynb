{
 "cells": [
  {
   "cell_type": "markdown",
   "source": [
    "We distribute some number of `candies`, to a row of **`n = num_people`**\n",
    "people in the following way:\n",
    "\n",
    "We then give 1 candy to the first person, 2 candies to the second person, and\n",
    "so on until we give `n` candies to the last person.\n",
    "\n",
    "Then, we go back to the start of the row, giving `n + 1` candies to the first\n",
    "person, `n + 2` candies to the second person, and so on until we give `2 * n`\n",
    "candies to the last person.\n",
    "\n",
    "This process repeats (with us giving one more candy each time, and moving to\n",
    "the start of the row after we reach the end) until we run out of candies.  The\n",
    "last person will receive all of our remaining candies (not necessarily one\n",
    "more than the previous gift).\n",
    "\n",
    "Return an array (of length `num_people` and sum `candies`) that represents the\n",
    "final distribution of candies.\n",
    "\n",
    "\n",
    "\n",
    "**Example 1:**\n",
    "\n",
    "\n",
    "\n",
    "    Input: candies = 7, num_people = 4\n",
    "    Output: [1,2,3,1]\n",
    "    Explanation:\n",
    "    On the first turn, ans[0] += 1, and the array is [1,0,0,0].\n",
    "    On the second turn, ans[1] += 2, and the array is [1,2,0,0].\n",
    "    On the third turn, ans[2] += 3, and the array is [1,2,3,0].\n",
    "    On the fourth turn, ans[3] += 1 (because there is only one candy left), and the final array is [1,2,3,1].\n",
    "\n",
    "\n",
    "**Example 2:**\n",
    "\n",
    "\n",
    "\n",
    "    Input: candies = 10, num_people = 3\n",
    "    Output: [5,2,3]\n",
    "    Explanation:\n",
    "    On the first turn, ans[0] += 1, and the array is [1,0,0].\n",
    "    On the second turn, ans[1] += 2, and the array is [1,2,0].\n",
    "    On the third turn, ans[2] += 3, and the array is [1,2,3].\n",
    "    On the fourth turn, ans[0] += 4, and the final array is [5,2,3].\n",
    "\n",
    "\n",
    "\n",
    "\n",
    "**Constraints:**\n",
    "\n",
    "  * 1 <= candies <= 10^9\n",
    "  * 1 <= num_people <= 1000"
   ],
   "metadata": {}
  },
  {
   "outputs": [
    {
     "output_type": "execute_result",
     "data": {
      "text/plain": "distribute_candies (generic function with 1 method)"
     },
     "metadata": {},
     "execution_count": 1
    }
   ],
   "cell_type": "code",
   "source": [
    "# @lc code=start\n",
    "using LeetCode\n",
    "\n",
    "function distribute_candies(candies::Int, npeople::Int)\n",
    "    res = fill(0, npeople)\n",
    "    cur = 1\n",
    "    while candies != 0\n",
    "        tmp = min(cur, candies)\n",
    "        res[mod1(cur, npeople)] += tmp\n",
    "        candies -= tmp\n",
    "        cur += 1\n",
    "    end\n",
    "    return res\n",
    "end\n",
    "# @lc code=end"
   ],
   "metadata": {},
   "execution_count": 1
  },
  {
   "cell_type": "markdown",
   "source": [
    "---\n",
    "\n",
    "*This notebook was generated using [Literate.jl](https://github.com/fredrikekre/Literate.jl).*"
   ],
   "metadata": {}
  }
 ],
 "nbformat_minor": 3,
 "metadata": {
  "language_info": {
   "file_extension": ".jl",
   "mimetype": "application/julia",
   "name": "julia",
   "version": "1.11.6"
  },
  "kernelspec": {
   "name": "julia-1.11",
   "display_name": "Julia 1.11.6",
   "language": "julia"
  }
 },
 "nbformat": 4
}
