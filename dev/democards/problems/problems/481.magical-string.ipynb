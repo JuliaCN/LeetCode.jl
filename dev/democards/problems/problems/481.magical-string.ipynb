{
 "cells": [
  {
   "cell_type": "markdown",
   "source": [
    "A magical string **S** consists of only '1' and '2' and obeys the following\n",
    "rules:\n",
    "\n",
    "The string **S** is magical because concatenating the number of contiguous\n",
    "occurrences of characters '1' and '2' generates the string **S** itself.\n",
    "\n",
    "The first few elements of string **S** is the following: **S** =\n",
    "\"1221121221221121122……\"\n",
    "\n",
    "If we group the consecutive '1's and '2's in **S** , it will be:\n",
    "\n",
    "1 22 11 2 1 22 1 22 11 2 11 22 ......\n",
    "\n",
    "and the occurrences of '1's or '2's in each group are:\n",
    "\n",
    "1 2 2 1 1 2 1 2 2 1 2 2 ......\n",
    "\n",
    "You can see that the occurrence sequence above is the **S** itself.\n",
    "\n",
    "Given an integer N as input, return the number of '1's in the first N number\n",
    "in the magical string **S**.\n",
    "\n",
    "**Note:** N will not exceed 100,000.\n",
    "\n",
    "**Example 1:**\n",
    "\n",
    "\n",
    "\n",
    "    Input: 6\n",
    "    Output: 3\n",
    "    Explanation: The first 6 elements of magical string S is \"12211\" and it contains three 1's, so return 3."
   ],
   "metadata": {}
  },
  {
   "outputs": [
    {
     "output_type": "execute_result",
     "data": {
      "text/plain": "magical_string (generic function with 1 method)"
     },
     "metadata": {},
     "execution_count": 1
    }
   ],
   "cell_type": "code",
   "source": [
    "# @lc code=start\n",
    "using LeetCode\n",
    "\n",
    "function magical_string(n::Int)\n",
    "    res = \"122\"\n",
    "    idx = 2\n",
    "    while length(res) < n\n",
    "        res *= '1'^(res[idx+=1] - '0')\n",
    "        res *= '2'^(res[idx += 1] - '0')\n",
    "    end\n",
    "    return count(==('1'), SubString(res, 1, n))\n",
    "end\n",
    "# @lc code=end"
   ],
   "metadata": {},
   "execution_count": 1
  },
  {
   "cell_type": "markdown",
   "source": [
    "---\n",
    "\n",
    "*This notebook was generated using [Literate.jl](https://github.com/fredrikekre/Literate.jl).*"
   ],
   "metadata": {}
  }
 ],
 "nbformat_minor": 3,
 "metadata": {
  "language_info": {
   "file_extension": ".jl",
   "mimetype": "application/julia",
   "name": "julia",
   "version": "1.5.3"
  },
  "kernelspec": {
   "name": "julia-1.5",
   "display_name": "Julia 1.5.3",
   "language": "julia"
  }
 },
 "nbformat": 4
}
