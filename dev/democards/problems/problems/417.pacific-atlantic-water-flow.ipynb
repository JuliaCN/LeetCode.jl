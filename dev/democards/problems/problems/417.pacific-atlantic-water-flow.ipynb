{
 "cells": [
  {
   "cell_type": "markdown",
   "source": [
    "Given an `m x n` matrix of non-negative integers representing the height of\n",
    "each unit cell in a continent, the \"Pacific ocean\" touches the left and top\n",
    "edges of the matrix and the \"Atlantic ocean\" touches the right and bottom\n",
    "edges.\n",
    "\n",
    "Water can only flow in four directions (up, down, left, or right) from a cell\n",
    "to another one with height equal or lower.\n",
    "\n",
    "Find the list of grid coordinates where water can flow to both the Pacific and\n",
    "Atlantic ocean.\n",
    "\n",
    "**Note:**\n",
    "\n",
    "  1. The order of returned grid coordinates does not matter.\n",
    "  2. Both _m_ and _n_ are less than 150.\n",
    "\n",
    "\n",
    "\n",
    "**Example:**\n",
    "\n",
    "\n",
    "\n",
    "    Given the following 5x5 matrix:\n",
    "\n",
    "      Pacific ~   ~   ~   ~   ~\n",
    "           ~  1   2   2   3  (5) *\n",
    "           ~  3   2   3  (4) (4) *\n",
    "           ~  2   4  (5)  3   1  *\n",
    "           ~ (6) (7)  1   4   5  *\n",
    "           ~ (5)  1   1   2   4  *\n",
    "              *   *   *   *   * Atlantic\n",
    "\n",
    "    Return:\n",
    "\n",
    "    [[0, 4], [1, 3], [1, 4], [2, 2], [3, 0], [3, 1], [4, 0]] (positions with parentheses in above matrix)."
   ],
   "metadata": {}
  },
  {
   "outputs": [
    {
     "output_type": "execute_result",
     "data": {
      "text/plain": "pacific_atlantic (generic function with 1 method)"
     },
     "metadata": {},
     "execution_count": 1
    }
   ],
   "cell_type": "code",
   "source": [
    "# @lc code=start\n",
    "using LeetCode\n",
    "\n",
    "function pacific_atlantic(heights::Matrix{Int})\n",
    "    r, c = size(heights)\n",
    "    visited = fill(false, r, c)\n",
    "    res = fill(0x0, r, c)\n",
    "    res[1:end, 1] .= 0x1\n",
    "    res[1, 1:end] .= 0x1\n",
    "    res[end, 1:end] .= 0x2\n",
    "    res[1:end, end] .= 0x2\n",
    "    res[1, end] = res[end, 1] = 0x3\n",
    "    dirs = [(1, 0), (-1, 0), (0, 1), (0, -1)]\n",
    "\n",
    "    function dfs(x, y)\n",
    "        visited[x, y] = true\n",
    "        for dir in dirs\n",
    "            nx, ny = x + dir[1], y + dir[2]\n",
    "            (0 < nx <= r && 0 < ny <= c) || continue\n",
    "            if heights[x, y] <= heights[nx, ny]\n",
    "                res[nx, ny] |= res[x, y]\n",
    "                !visited[nx, ny] && dfs(nx, ny)\n",
    "            end\n",
    "        end\n",
    "    end\n",
    "    for i in 1:r\n",
    "        dfs(i, 1), dfs(i, c)\n",
    "    end\n",
    "    for j in 1:c\n",
    "        dfs(1, j), dfs(r, j)\n",
    "    end\n",
    "    r = Set{Tuple{Int, Int}}()\n",
    "    for cidx in CartesianIndices(res)\n",
    "        res[cidx] == 0x3 && push!(r, cidx.I)\n",
    "    end\n",
    "    return r\n",
    "end\n",
    "# @lc code=end"
   ],
   "metadata": {},
   "execution_count": 1
  },
  {
   "cell_type": "markdown",
   "source": [
    "---\n",
    "\n",
    "*This notebook was generated using [Literate.jl](https://github.com/fredrikekre/Literate.jl).*"
   ],
   "metadata": {}
  }
 ],
 "nbformat_minor": 3,
 "metadata": {
  "language_info": {
   "file_extension": ".jl",
   "mimetype": "application/julia",
   "name": "julia",
   "version": "1.8.0"
  },
  "kernelspec": {
   "name": "julia-1.8",
   "display_name": "Julia 1.8.0",
   "language": "julia"
  }
 },
 "nbformat": 4
}
