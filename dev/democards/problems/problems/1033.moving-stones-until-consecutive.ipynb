{
 "cells": [
  {
   "cell_type": "markdown",
   "source": [
    "Three stones are on a number line at positions `a`, `b`, and `c`.\n",
    "\n",
    "Each turn, you pick up a stone at an endpoint (ie., either the lowest or\n",
    "highest position stone), and move it to an unoccupied position between those\n",
    "endpoints.  Formally, let's say the stones are currently at positions `x, y,\n",
    "z` with `x < y < z`.  You pick up the stone at either position `x` or position\n",
    "`z`, and move that stone to an integer position `k`, with `x < k < z` and `k\n",
    "!= y`.\n",
    "\n",
    "The game ends when you cannot make any more moves, ie. the stones are in\n",
    "consecutive positions.\n",
    "\n",
    "When the game ends, what is the minimum and maximum number of moves that you\n",
    "could have made?  Return the answer as an length 2 array: `answer =\n",
    "[minimum_moves, maximum_moves]`\n",
    "\n",
    "\n",
    "\n",
    "**Example 1:**\n",
    "\n",
    "\n",
    "\n",
    "    Input: a = 1, b = 2, c = 5\n",
    "    Output: [1,2]\n",
    "    Explanation: Move the stone from 5 to 3, or move the stone from 5 to 4 to 3.\n",
    "\n",
    "\n",
    "**Example 2:**\n",
    "\n",
    "\n",
    "\n",
    "    Input: a = 4, b = 3, c = 2\n",
    "    Output: [0,0]\n",
    "    Explanation: We cannot make any moves.\n",
    "\n",
    "\n",
    "**Example 3:**\n",
    "\n",
    "\n",
    "\n",
    "    Input: a = 3, b = 5, c = 1\n",
    "    Output: [1,2]\n",
    "    Explanation: Move the stone from 1 to 4; or move the stone from 1 to 2 to 4.\n",
    "\n",
    "\n",
    "\n",
    "\n",
    "**Note:**\n",
    "\n",
    "  1. `1 <= a <= 100`\n",
    "  2. `1 <= b <= 100`\n",
    "  3. `1 <= c <= 100`\n",
    "  4. `a != b, b != c, c != a`"
   ],
   "metadata": {}
  },
  {
   "outputs": [
    {
     "output_type": "execute_result",
     "data": {
      "text/plain": "num_moves_stones (generic function with 1 method)"
     },
     "metadata": {},
     "execution_count": 1
    }
   ],
   "cell_type": "code",
   "source": [
    "# @lc code=start\n",
    "using LeetCode\n",
    "\n",
    "function num_moves_stones(a::Int, b::Int, c::Int)\n",
    "    a, b, c = sort([a, b, c])\n",
    "    return (min(1, b - a - 1) + min(1, c - b - 1), c - a - 2)\n",
    "end\n",
    "# @lc code=end"
   ],
   "metadata": {},
   "execution_count": 1
  },
  {
   "cell_type": "markdown",
   "source": [
    "---\n",
    "\n",
    "*This notebook was generated using [Literate.jl](https://github.com/fredrikekre/Literate.jl).*"
   ],
   "metadata": {}
  }
 ],
 "nbformat_minor": 3,
 "metadata": {
  "language_info": {
   "file_extension": ".jl",
   "mimetype": "application/julia",
   "name": "julia",
   "version": "1.11.6"
  },
  "kernelspec": {
   "name": "julia-1.11",
   "display_name": "Julia 1.11.6",
   "language": "julia"
  }
 },
 "nbformat": 4
}
