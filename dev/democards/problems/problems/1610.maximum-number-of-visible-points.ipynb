{
 "cells": [
  {
   "cell_type": "markdown",
   "source": [
    "You are given an array `points`, an integer `angle`, and your `location`,\n",
    "where `location = [posx, posy]` and `points[i] = [xi, yi]` both denote\n",
    "**integral coordinates** on the X-Y plane.\n",
    "\n",
    "Initially, you are facing directly east from your position. You **cannot\n",
    "move** from your position, but you can **rotate**. In other words, `posx` and\n",
    "`posy` cannot be changed. Your field of view in **degrees** is represented by\n",
    "`angle`, determining how wide you can see from any given view direction. Let\n",
    "`d` be the amount in degrees that you rotate counterclockwise. Then, your\n",
    "field of view is the **inclusive** range of angles `[d - angle/2, d +\n",
    "angle/2]`.\n",
    "\n",
    "Your browser does not support the video tag or this video format.\n",
    "\n",
    "You can **see** some set of points if, for each point, the **angle** formed by\n",
    "the point, your position, and the immediate east direction from your position\n",
    "is **in your field of view**.\n",
    "\n",
    "There can be multiple points at one coordinate. There may be points at your\n",
    "location, and you can always see these points regardless of your rotation.\n",
    "Points do not obstruct your vision to other points.\n",
    "\n",
    "Return _the maximum number of points you can see_.\n",
    "\n",
    "\n",
    "\n",
    "**Example 1:**\n",
    "\n",
    "![](https://assets.leetcode.com/uploads/2020/09/30/89a07e9b-00ab-4967-976a-c723b2aa8656.png)\n",
    "\n",
    "\n",
    "\n",
    "    Input: points = [[2,1],[2,2],[3,3]], angle = 90, location = [1,1]\n",
    "    Output: 3\n",
    "    Explanation: The shaded region represents your field of view. All points can be made visible in your field of view, including [3,3] even though [2,2] is in front and in the same line of sight.\n",
    "\n",
    "\n",
    "**Example 2:**\n",
    "\n",
    "\n",
    "\n",
    "    Input: points = [[2,1],[2,2],[3,4],[1,1]], angle = 90, location = [1,1]\n",
    "    Output: 4\n",
    "    Explanation: All points can be made visible in your field of view, including the one at your location.\n",
    "\n",
    "\n",
    "**Example 3:**\n",
    "\n",
    "![](https://assets.leetcode.com/uploads/2020/09/30/5010bfd3-86e6-465f-ac64-e9df941d2e49.png)\n",
    "\n",
    "\n",
    "\n",
    "    Input: points = [[1,0],[2,1]], angle = 13, location = [1,1]\n",
    "    Output: 1\n",
    "    Explanation: You can only see one of the two points, as shown above.\n",
    "\n",
    "\n",
    "\n",
    "\n",
    "**Constraints:**\n",
    "\n",
    "  * `1 <= points.length <= 105`\n",
    "  * `points[i].length == 2`\n",
    "  * `location.length == 2`\n",
    "  * `0 <= angle < 360`\n",
    "  * `0 <= posx, posy, xi, yi <= 109`"
   ],
   "metadata": {}
  },
  {
   "outputs": [
    {
     "output_type": "execute_result",
     "data": {
      "text/plain": "max_visible_points (generic function with 1 method)"
     },
     "metadata": {},
     "execution_count": 1
    }
   ],
   "cell_type": "code",
   "source": [
    "# @lc code=start\n",
    "using LeetCode\n",
    "\n",
    "function max_visible_points(points::Vector{Vector{Int}}, view_angle::Int,\n",
    "                            location::Vector{Int})\n",
    "    points .-= Ref(location)\n",
    "    len = length(points)\n",
    "    angles = [atand(point...) for point in points if point != [0, 0]]\n",
    "    res, samen = 0, len - length(angles)\n",
    "    sort!(angles)\n",
    "    angles = vcat(angles, angles .+ 360)\n",
    "    for i in 1:length(angles)÷2\n",
    "        idx = searchsortedlast(@view(angles[i+1:end]), angles[i] + view_angle)\n",
    "        res = max(res, idx+1+samen)\n",
    "    end\n",
    "    res\n",
    "end\n",
    "# @lc code=end"
   ],
   "metadata": {},
   "execution_count": 1
  },
  {
   "cell_type": "markdown",
   "source": [
    "---\n",
    "\n",
    "*This notebook was generated using [Literate.jl](https://github.com/fredrikekre/Literate.jl).*"
   ],
   "metadata": {}
  }
 ],
 "nbformat_minor": 3,
 "metadata": {
  "language_info": {
   "file_extension": ".jl",
   "mimetype": "application/julia",
   "name": "julia",
   "version": "1.6.3"
  },
  "kernelspec": {
   "name": "julia-1.6",
   "display_name": "Julia 1.6.3",
   "language": "julia"
  }
 },
 "nbformat": 4
}
