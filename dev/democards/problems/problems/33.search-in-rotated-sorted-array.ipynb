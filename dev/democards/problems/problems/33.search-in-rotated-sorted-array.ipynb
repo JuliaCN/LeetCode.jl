{
 "cells": [
  {
   "cell_type": "markdown",
   "source": [
    "You are given an integer array `nums` sorted in ascending order, and an\n",
    "integer `target`.\n",
    "\n",
    "Suppose that `nums` is rotated at some pivot unknown to you beforehand (i.e.,\n",
    "`[0,1,2,4,5,6,7]` might become `[4,5,6,7,0,1,2]`).\n",
    "\n",
    "_If`target` is found in the array return its index, otherwise, return `-1`._\n",
    "\n",
    "\n",
    "\n",
    "**Example 1:**\n",
    "\n",
    "\n",
    "\n",
    "    Input: nums = [4,5,6,7,0,1,2], target = 0\n",
    "    Output: 4\n",
    "\n",
    "\n",
    "**Example 2:**\n",
    "\n",
    "\n",
    "\n",
    "    Input: nums = [4,5,6,7,0,1,2], target = 3\n",
    "    Output: -1\n",
    "\n",
    "\n",
    "**Example 3:**\n",
    "\n",
    "\n",
    "\n",
    "    Input: nums = [1], target = 0\n",
    "    Output: -1\n",
    "\n",
    "\n",
    "\n",
    "\n",
    "**Constraints:**\n",
    "\n",
    "  * `1 <= nums.length <= 5000`\n",
    "  * `-10^4 <= nums[i] <= 10^4`\n",
    "  * All values of `nums` are **unique**.\n",
    "  * `nums` is guranteed to be rotated at some pivot.\n",
    "  * `-10^4 <= target <= 10^4`"
   ],
   "metadata": {}
  },
  {
   "outputs": [
    {
     "output_type": "execute_result",
     "data": {
      "text/plain": "search_in_rotated_array (generic function with 1 method)"
     },
     "metadata": {},
     "execution_count": 1
    }
   ],
   "cell_type": "code",
   "source": [
    "# @lc code=start\n",
    "using LeetCode\n",
    "\n",
    "function search_left_border(left::Int, right::Int, key::Function)\n",
    "    # e.g. search_left_border(1, 10, >(3)) | returns 4\n",
    "    while left <= right\n",
    "        mid = left + (right - left) >> 1\n",
    "        if key(mid) ## lies in the right part\n",
    "            right = mid - 1\n",
    "        else\n",
    "            left = mid + 1\n",
    "        end\n",
    "    end\n",
    "    return left\n",
    "end\n",
    "\n",
    "function search_in_rotated_array(nums::Vector{Int}, target::Int)::Int\n",
    "    n, rightmost = length(nums), last(nums)\n",
    "    if target > rightmost ## lies in the right side\n",
    "        pos = search_left_border(1, n, i -> (nums[i] <= rightmost || nums[i] >= target))\n",
    "        return pos <= n && nums[pos] == target ? pos - 1 : -1\n",
    "    else\n",
    "        pos = search_left_border(1, n, i -> (target <= nums[i] <= rightmost))\n",
    "        return pos <= n && nums[pos] == target ? pos - 1 : -1\n",
    "    end\n",
    "end\n",
    "# @lc code=end"
   ],
   "metadata": {},
   "execution_count": 1
  },
  {
   "cell_type": "markdown",
   "source": [
    "---\n",
    "\n",
    "*This notebook was generated using [Literate.jl](https://github.com/fredrikekre/Literate.jl).*"
   ],
   "metadata": {}
  }
 ],
 "nbformat_minor": 3,
 "metadata": {
  "language_info": {
   "file_extension": ".jl",
   "mimetype": "application/julia",
   "name": "julia",
   "version": "1.11.6"
  },
  "kernelspec": {
   "name": "julia-1.11",
   "display_name": "Julia 1.11.6",
   "language": "julia"
  }
 },
 "nbformat": 4
}
