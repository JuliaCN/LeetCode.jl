{
 "cells": [
  {
   "cell_type": "markdown",
   "source": [
    "Suppose Andy and Doris want to choose a restaurant for dinner, and they both\n",
    "have a list of favorite restaurants represented by strings.\n",
    "\n",
    "You need to help them find out their **common interest** with the **least list\n",
    "index sum**. If there is a choice tie between answers, output all of them with\n",
    "no order requirement. You could assume there always exists an answer.\n",
    "\n",
    "\n",
    "\n",
    "**Example 1:**\n",
    "\n",
    "\n",
    "\n",
    "    Input: list1 = [\"Shogun\",\"Tapioca Express\",\"Burger King\",\"KFC\"], list2 = [\"Piatti\",\"The Grill at Torrey Pines\",\"Hungry Hunter Steakhouse\",\"Shogun\"]\n",
    "    Output: [\"Shogun\"]\n",
    "    Explanation: The only restaurant they both like is \"Shogun\".\n",
    "\n",
    "\n",
    "**Example 2:**\n",
    "\n",
    "\n",
    "\n",
    "    Input: list1 = [\"Shogun\",\"Tapioca Express\",\"Burger King\",\"KFC\"], list2 = [\"KFC\",\"Shogun\",\"Burger King\"]\n",
    "    Output: [\"Shogun\"]\n",
    "    Explanation: The restaurant they both like and have the least index sum is \"Shogun\" with index sum 1 (0+1).\n",
    "\n",
    "\n",
    "**Example 3:**\n",
    "\n",
    "\n",
    "\n",
    "    Input: list1 = [\"Shogun\",\"Tapioca Express\",\"Burger King\",\"KFC\"], list2 = [\"KFC\",\"Burger King\",\"Tapioca Express\",\"Shogun\"]\n",
    "    Output: [\"KFC\",\"Burger King\",\"Tapioca Express\",\"Shogun\"]\n",
    "\n",
    "\n",
    "**Example 4:**\n",
    "\n",
    "\n",
    "\n",
    "    Input: list1 = [\"Shogun\",\"Tapioca Express\",\"Burger King\",\"KFC\"], list2 = [\"KNN\",\"KFC\",\"Burger King\",\"Tapioca Express\",\"Shogun\"]\n",
    "    Output: [\"KFC\",\"Burger King\",\"Tapioca Express\",\"Shogun\"]\n",
    "\n",
    "\n",
    "**Example 5:**\n",
    "\n",
    "\n",
    "\n",
    "    Input: list1 = [\"KFC\"], list2 = [\"KFC\"]\n",
    "    Output: [\"KFC\"]\n",
    "\n",
    "\n",
    "\n",
    "\n",
    "**Constraints:**\n",
    "\n",
    "  * `1 <= list1.length, list2.length <= 1000`\n",
    "  * `1 <= list1[i].length, list2[i].length <= 30`\n",
    "  * `list1[i]` and `list2[i]` consist of spaces `' '` and English letters.\n",
    "  * All the stings of `list1` are **unique**.\n",
    "  * All the stings of `list2` are **unique**."
   ],
   "metadata": {}
  },
  {
   "outputs": [
    {
     "output_type": "execute_result",
     "data": {
      "text/plain": "find_restaurant (generic function with 1 method)"
     },
     "metadata": {},
     "execution_count": 1
    }
   ],
   "cell_type": "code",
   "source": [
    "# @lc code=start\n",
    "using LeetCode\n",
    "\n",
    "function find_restaurant(list1::Vector{String}, list2::Vector{String})::Vector{String}\n",
    "    dic = Dict(st => (i - 1) for (i, st) in enumerate(list1))\n",
    "    cost, res = typemax(1), String[]\n",
    "    for (i, s) in enumerate(list2)\n",
    "        !haskey(dic, s) && continue\n",
    "        newcost = i - 1 + dic[s]\n",
    "        if newcost < cost\n",
    "            cost, res = newcost, [s]\n",
    "        elseif newcost == cost\n",
    "            push!(res, s)\n",
    "        end\n",
    "    end\n",
    "    return res\n",
    "end\n",
    "\n",
    "# @lc code=end"
   ],
   "metadata": {},
   "execution_count": 1
  },
  {
   "cell_type": "markdown",
   "source": [
    "---\n",
    "\n",
    "*This notebook was generated using [Literate.jl](https://github.com/fredrikekre/Literate.jl).*"
   ],
   "metadata": {}
  }
 ],
 "nbformat_minor": 3,
 "metadata": {
  "language_info": {
   "file_extension": ".jl",
   "mimetype": "application/julia",
   "name": "julia",
   "version": "1.11.6"
  },
  "kernelspec": {
   "name": "julia-1.11",
   "display_name": "Julia 1.11.6",
   "language": "julia"
  }
 },
 "nbformat": 4
}
