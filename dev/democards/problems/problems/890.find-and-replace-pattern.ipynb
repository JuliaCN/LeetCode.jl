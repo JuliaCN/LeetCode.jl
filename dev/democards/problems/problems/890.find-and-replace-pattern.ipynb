{
 "cells": [
  {
   "cell_type": "markdown",
   "source": [
    "You have a list of `words` and a `pattern`, and you want to know which words\n",
    "in `words` matches the pattern.\n",
    "\n",
    "A word matches the pattern if there exists a permutation of letters `p` so\n",
    "that after replacing every letter `x` in the pattern with `p(x)`, we get the\n",
    "desired word.\n",
    "\n",
    "( _Recall that a permutation of letters is a bijection from letters to\n",
    "letters: every letter maps to another letter, and no two letters map to the\n",
    "same letter._ )\n",
    "\n",
    "Return a list of the words in `words` that match the given pattern.\n",
    "\n",
    "You may return the answer in any order.\n",
    "\n",
    "\n",
    "\n",
    "**Example 1:**\n",
    "\n",
    "\n",
    "\n",
    "    Input: words = [\"abc\",\"deq\",\"mee\",\"aqq\",\"dkd\",\"ccc\"], pattern = \"abb\"\n",
    "    Output: [\"mee\",\"aqq\"]\n",
    "    Explanation: \"mee\" matches the pattern because there is a permutation {a -> m, b -> e, ...}.\n",
    "    \"ccc\" does not match the pattern because {a -> c, b -> c, ...} is not a permutation,\n",
    "    since a and b map to the same letter.\n",
    "\n",
    "\n",
    "\n",
    "**Note:**\n",
    "\n",
    "  * `1 <= words.length <= 50`\n",
    "  * `1 <= pattern.length = words[i].length <= 20`"
   ],
   "metadata": {}
  },
  {
   "outputs": [
    {
     "output_type": "execute_result",
     "data": {
      "text/plain": "find_and_replace_pattern (generic function with 1 method)"
     },
     "metadata": {},
     "execution_count": 1
    }
   ],
   "cell_type": "code",
   "source": [
    "# @lc code=start\n",
    "using LeetCode\n",
    "\n",
    "function find_and_replace_pattern(words::Vector{String}, pattern::String)\n",
    "    function arr_pattern(s::String)\n",
    "        arr_pt = Char[]\n",
    "        dct = Dict{Char, Char}()\n",
    "        cur_ch = 'a'\n",
    "        for ch in s\n",
    "            if !haskey(dct, ch)\n",
    "                dct[ch] = cur_ch\n",
    "                cur_ch += 1\n",
    "            end\n",
    "            push!(arr_pt, dct[ch])\n",
    "        end\n",
    "        arr_pt\n",
    "    end\n",
    "    res = String[]\n",
    "    a_pt = arr_pattern(pattern)\n",
    "    for w in words\n",
    "        if a_pt == arr_pattern(w)\n",
    "            push!(res, w)\n",
    "        end\n",
    "    end\n",
    "    res\n",
    "end\n",
    "# @lc code=end"
   ],
   "metadata": {},
   "execution_count": 1
  },
  {
   "cell_type": "markdown",
   "source": [
    "---\n",
    "\n",
    "*This notebook was generated using [Literate.jl](https://github.com/fredrikekre/Literate.jl).*"
   ],
   "metadata": {}
  }
 ],
 "nbformat_minor": 3,
 "metadata": {
  "language_info": {
   "file_extension": ".jl",
   "mimetype": "application/julia",
   "name": "julia",
   "version": "1.6.0"
  },
  "kernelspec": {
   "name": "julia-1.6",
   "display_name": "Julia 1.6.0",
   "language": "julia"
  }
 },
 "nbformat": 4
}
