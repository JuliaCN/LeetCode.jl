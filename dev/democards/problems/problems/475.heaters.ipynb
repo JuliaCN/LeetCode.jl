{
 "cells": [
  {
   "cell_type": "markdown",
   "source": [
    "Winter is coming! During the contest, your first job is to design a standard\n",
    "heater with a fixed warm radius to warm all the houses.\n",
    "\n",
    "Every house can be warmed, as long as the house is within the heater's warm\n",
    "radius range.\n",
    "\n",
    "Given the positions of `houses` and `heaters` on a horizontal line, return\n",
    "_the minimum radius standard of heaters  so that those heaters could cover all\n",
    "houses._\n",
    "\n",
    "**Notice** that all the `heaters` follow your radius standard, and the warm\n",
    "radius will the same.\n",
    "\n",
    "\n",
    "\n",
    "**Example 1:**\n",
    "\n",
    "\n",
    "\n",
    "    Input: houses = [1,2,3], heaters = [2]\n",
    "    Output: 1\n",
    "    Explanation: The only heater was placed in the position 2, and if we use the radius 1 standard, then all the houses can be warmed.\n",
    "\n",
    "\n",
    "**Example 2:**\n",
    "\n",
    "\n",
    "\n",
    "    Input: houses = [1,2,3,4], heaters = [1,4]\n",
    "    Output: 1\n",
    "    Explanation: The two heater was placed in the position 1 and 4. We need to use radius 1 standard, then all the houses can be warmed.\n",
    "\n",
    "\n",
    "**Example 3:**\n",
    "\n",
    "\n",
    "\n",
    "    Input: houses = [1,5], heaters = [2]\n",
    "    Output: 3\n",
    "\n",
    "\n",
    "\n",
    "\n",
    "**Constraints:**\n",
    "\n",
    "  * `1 <= houses.length, heaters.length <= 3 * 104`\n",
    "  * `1 <= houses[i], heaters[i] <= 109`"
   ],
   "metadata": {}
  },
  {
   "outputs": [
    {
     "output_type": "execute_result",
     "data": {
      "text/plain": "find_radius (generic function with 1 method)"
     },
     "metadata": {},
     "execution_count": 1
    }
   ],
   "cell_type": "code",
   "source": [
    "# @lc code=start\n",
    "using LeetCode\n",
    "\n",
    "function find_radius(houses::Vector{Int}, heaters::Vector{Int})::Int\n",
    "    sort!(heaters)\n",
    "    heaters = [-Inf; heaters; Inf]\n",
    "    res = 0\n",
    "    for house in houses\n",
    "        loc = searchsortedfirst(heaters, house)\n",
    "        res = max(res, min(house - heaters[loc - 1], heaters[loc] - house))\n",
    "    end\n",
    "\n",
    "    return convert(Int, res)\n",
    "end\n",
    "\n",
    "# @lc code=end"
   ],
   "metadata": {},
   "execution_count": 1
  },
  {
   "cell_type": "markdown",
   "source": [
    "---\n",
    "\n",
    "*This notebook was generated using [Literate.jl](https://github.com/fredrikekre/Literate.jl).*"
   ],
   "metadata": {}
  }
 ],
 "nbformat_minor": 3,
 "metadata": {
  "language_info": {
   "file_extension": ".jl",
   "mimetype": "application/julia",
   "name": "julia",
   "version": "1.6.0"
  },
  "kernelspec": {
   "name": "julia-1.6",
   "display_name": "Julia 1.6.0",
   "language": "julia"
  }
 },
 "nbformat": 4
}
