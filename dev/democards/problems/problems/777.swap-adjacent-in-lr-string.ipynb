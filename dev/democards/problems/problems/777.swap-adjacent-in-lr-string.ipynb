{
 "cells": [
  {
   "cell_type": "markdown",
   "source": [
    "In a string composed of `'L'`, `'R'`, and `'X'` characters, like\n",
    "`\"RXXLRXRXL\"`, a move consists of either replacing one occurrence of `\"XL\"`\n",
    "with `\"LX\"`, or replacing one occurrence of `\"RX\"` with `\"XR\"`. Given the\n",
    "starting string `start` and the ending string `end`, return `True` if and only\n",
    "if there exists a sequence of moves to transform one string to the other.\n",
    "\n",
    "\n",
    "\n",
    "**Example 1:**\n",
    "\n",
    "\n",
    "\n",
    "    Input: start = \"RXXLRXRXL\", end = \"XRLXXRRLX\"\n",
    "    Output: true\n",
    "    Explanation: We can transform start to end following these steps:\n",
    "    RXXLRXRXL ->\n",
    "    XRXLRXRXL ->\n",
    "    XRLXRXRXL ->\n",
    "    XRLXXRRXL ->\n",
    "    XRLXXRRLX\n",
    "\n",
    "\n",
    "**Example 2:**\n",
    "\n",
    "\n",
    "\n",
    "    Input: start = \"X\", end = \"L\"\n",
    "    Output: false\n",
    "\n",
    "\n",
    "**Example 3:**\n",
    "\n",
    "\n",
    "\n",
    "    Input: start = \"LLR\", end = \"RRL\"\n",
    "    Output: false\n",
    "\n",
    "\n",
    "**Example 4:**\n",
    "\n",
    "\n",
    "\n",
    "    Input: start = \"XL\", end = \"LX\"\n",
    "    Output: true\n",
    "\n",
    "\n",
    "**Example 5:**\n",
    "\n",
    "\n",
    "\n",
    "    Input: start = \"XLLR\", end = \"LXLX\"\n",
    "    Output: false\n",
    "\n",
    "\n",
    "\n",
    "\n",
    "**Constraints:**\n",
    "\n",
    "  * `1 <= start.length <= 104`\n",
    "  * `start.length == end.length`\n",
    "  * Both `start` and `end` will only consist of characters in `'L'`, `'R'`, and `'X'`."
   ],
   "metadata": {}
  },
  {
   "outputs": [
    {
     "output_type": "execute_result",
     "data": {
      "text/plain": "can_transform (generic function with 1 method)"
     },
     "metadata": {},
     "execution_count": 1
    }
   ],
   "cell_type": "code",
   "source": [
    "# @lc code=start\n",
    "using LeetCode\n",
    "\n",
    "function can_transform(s::String, t::String)\n",
    "    i, j = 1, 1\n",
    "    len = length(s)\n",
    "    len != length(t) && return false\n",
    "    while i <= len || j <= len\n",
    "        while i <= len && s[i] == 'X'; i += 1; end\n",
    "        while j <= len && t[j] == 'X' ; j += 1; end\n",
    "        ((i <= len) ⊻ (j <= len)) && return false\n",
    "        if i <= len && j <= len\n",
    "            (s[i] != t[j] || (s[i] == 'L' && i < j) || (s[i] == 'R' && i > j)) && return false\n",
    "        end\n",
    "        i += 1; j += 1\n",
    "    end\n",
    "    return true\n",
    "end\n",
    "# @lc code=end"
   ],
   "metadata": {},
   "execution_count": 1
  },
  {
   "cell_type": "markdown",
   "source": [
    "---\n",
    "\n",
    "*This notebook was generated using [Literate.jl](https://github.com/fredrikekre/Literate.jl).*"
   ],
   "metadata": {}
  }
 ],
 "nbformat_minor": 3,
 "metadata": {
  "language_info": {
   "file_extension": ".jl",
   "mimetype": "application/julia",
   "name": "julia",
   "version": "1.8.2"
  },
  "kernelspec": {
   "name": "julia-1.8",
   "display_name": "Julia 1.8.2",
   "language": "julia"
  }
 },
 "nbformat": 4
}
