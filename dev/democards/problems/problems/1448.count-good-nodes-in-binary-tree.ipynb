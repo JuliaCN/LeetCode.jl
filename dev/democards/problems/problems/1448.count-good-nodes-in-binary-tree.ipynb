{
 "cells": [
  {
   "cell_type": "markdown",
   "source": [
    "Given a binary tree `root`, a node _X_ in the tree is named  **good** if in\n",
    "the path from root to _X_ there are no nodes with a value _greater than_ X.\n",
    "\n",
    "Return the number of **good** nodes in the binary tree.\n",
    "\n",
    "\n",
    "\n",
    "**Example 1:**\n",
    "\n",
    "**![](https://assets.leetcode.com/uploads/2020/04/02/test_sample_1.png)**\n",
    "\n",
    "\n",
    "\n",
    "    Input: root = [3,1,4,3,null,1,5]\n",
    "    Output: 4\n",
    "    Explanation: Nodes in blue are **good**.\n",
    "    Root Node (3) is always a good node.\n",
    "    Node 4 -> (3,4) is the maximum value in the path starting from the root.\n",
    "    Node 5 -> (3,4,5) is the maximum value in the path\n",
    "    Node 3 -> (3,1,3) is the maximum value in the path.\n",
    "\n",
    "**Example 2:**\n",
    "\n",
    "**![](https://assets.leetcode.com/uploads/2020/04/02/test_sample_2.png)**\n",
    "\n",
    "\n",
    "\n",
    "    Input: root = [3,3,null,4,2]\n",
    "    Output: 3\n",
    "    Explanation: Node 2 -> (3, 3, 2) is not good, because \"3\" is higher than it.\n",
    "\n",
    "**Example 3:**\n",
    "\n",
    "\n",
    "\n",
    "    Input: root = [1]\n",
    "    Output: 1\n",
    "    Explanation: Root is considered as **good**.\n",
    "\n",
    "\n",
    "\n",
    "**Constraints:**\n",
    "\n",
    "  * The number of nodes in the binary tree is in the range `[1, 10^5]`.\n",
    "  * Each node's value is between `[-10^4, 10^4]`."
   ],
   "metadata": {}
  },
  {
   "outputs": [
    {
     "output_type": "execute_result",
     "data": {
      "text/plain": "good_nodes (generic function with 1 method)"
     },
     "metadata": {},
     "execution_count": 1
    }
   ],
   "cell_type": "code",
   "source": [
    "# @lc code=start\n",
    "using LeetCode\n",
    "\n",
    "function good_nodes(root::TreeNode)::Int\n",
    "    dfs(::Nothing, args...) = 0\n",
    "    function dfs(n::TreeNode, mval::Int)::Int\n",
    "        res = 0\n",
    "        (n.val >= mval) && (res += 1)\n",
    "        n_max = max(mval, n.val)\n",
    "        res += dfs(n.left, n_max)\n",
    "        res += dfs(n.right, n_max)\n",
    "        return res\n",
    "    end\n",
    "    return dfs(root, typemin(Int))\n",
    "end\n",
    "# @lc code=end"
   ],
   "metadata": {},
   "execution_count": 1
  },
  {
   "cell_type": "markdown",
   "source": [
    "---\n",
    "\n",
    "*This notebook was generated using [Literate.jl](https://github.com/fredrikekre/Literate.jl).*"
   ],
   "metadata": {}
  }
 ],
 "nbformat_minor": 3,
 "metadata": {
  "language_info": {
   "file_extension": ".jl",
   "mimetype": "application/julia",
   "name": "julia",
   "version": "1.11.6"
  },
  "kernelspec": {
   "name": "julia-1.11",
   "display_name": "Julia 1.11.6",
   "language": "julia"
  }
 },
 "nbformat": 4
}
