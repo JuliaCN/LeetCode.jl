{
 "cells": [
  {
   "cell_type": "markdown",
   "source": [
    "X is a good number if after rotating each digit individually by 180 degrees,\n",
    "we get a valid number that is different from X.  Each digit must be rotated -\n",
    "we cannot choose to leave it alone.\n",
    "\n",
    "A number is valid if each digit remains a digit after rotation. 0, 1, and 8\n",
    "rotate to themselves; 2 and 5 rotate to each other (on this case they are\n",
    "rotated in a different direction, in other words 2 or 5 gets mirrored); 6 and\n",
    "9 rotate to each other, and the rest of the numbers do not rotate to any other\n",
    "number and become invalid.\n",
    "\n",
    "Now given a positive number `N`, how many numbers X from `1` to `N` are good?\n",
    "\n",
    "\n",
    "\n",
    "    **Example:**\n",
    "    Input: 10\n",
    "    Output: 4\n",
    "    Explanation:\n",
    "    There are four good numbers in the range [1, 10] : 2, 5, 6, 9.\n",
    "    Note that 1 and 10 are not good numbers, since they remain unchanged after rotating.\n",
    "\n",
    "\n",
    "**Note:**\n",
    "\n",
    "  * N  will be in range `[1, 10000]`."
   ],
   "metadata": {}
  },
  {
   "outputs": [
    {
     "output_type": "execute_result",
     "data": {
      "text/plain": "rotated_digits (generic function with 1 method)"
     },
     "metadata": {},
     "execution_count": 1
    }
   ],
   "cell_type": "code",
   "source": [
    "# @lc code=start\n",
    "using LeetCode\n",
    "\n",
    "function rotated_digits(N::Int)\n",
    "    if N <= 9\n",
    "        return count(==(1), [0, 1, -1, -1, 1, 1, -1, 0, 1][1:N])\n",
    "    end\n",
    "    ans, dp = 0, vcat([0, 0, 1, -1, -1, 1, 1, -1, 0, 1], fill(0, N - 9))\n",
    "    for i in 1:N-1\n",
    "        dp[i + 1] = (-1 in [dp[i ÷ 10 + 1], dp[i % 10 + 1]]) ? -1 : (dp[i ÷ 10 + 1] | dp[i % 10 + 1])\n",
    "        ans += (dp[i + 1] == 1)\n",
    "    end\n",
    "    ans\n",
    "end\n",
    "# @lc code=end"
   ],
   "metadata": {},
   "execution_count": 1
  },
  {
   "cell_type": "markdown",
   "source": [
    "---\n",
    "\n",
    "*This notebook was generated using [Literate.jl](https://github.com/fredrikekre/Literate.jl).*"
   ],
   "metadata": {}
  }
 ],
 "nbformat_minor": 3,
 "metadata": {
  "language_info": {
   "file_extension": ".jl",
   "mimetype": "application/julia",
   "name": "julia",
   "version": "1.6.2"
  },
  "kernelspec": {
   "name": "julia-1.6",
   "display_name": "Julia 1.6.2",
   "language": "julia"
  }
 },
 "nbformat": 4
}
