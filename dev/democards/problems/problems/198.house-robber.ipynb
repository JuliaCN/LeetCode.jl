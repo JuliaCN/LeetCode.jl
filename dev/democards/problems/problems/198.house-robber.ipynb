{
 "cells": [
  {
   "cell_type": "markdown",
   "source": [
    "You are a professional robber planning to rob houses along a street. Each\n",
    "house has a certain amount of money stashed, the only constraint stopping you\n",
    "from robbing each of them is that adjacent houses have security system\n",
    "connected and **it will automatically contact the police if two adjacent\n",
    "houses were broken into on the same night**.\n",
    "\n",
    "Given a list of non-negative integers representing the amount of money of each\n",
    "house, determine the maximum amount of money you can rob tonight **without\n",
    "alerting the police**.\n",
    "\n",
    "\n",
    "\n",
    "**Example 1:**\n",
    "\n",
    "\n",
    "\n",
    "    Input: nums = [1,2,3,1]\n",
    "    Output: 4\n",
    "    Explanation: Rob house 1 (money = 1) and then rob house 3 (money = 3).\n",
    "                 Total amount you can rob = 1 + 3 = 4.\n",
    "\n",
    "\n",
    "**Example 2:**\n",
    "\n",
    "\n",
    "\n",
    "    Input: nums = [2,7,9,3,1]\n",
    "    Output: 12\n",
    "    Explanation: Rob house 1 (money = 2), rob house 3 (money = 9) and rob house 5 (money = 1).\n",
    "                 Total amount you can rob = 2 + 9 + 1 = 12.\n",
    "\n",
    "\n",
    "\n",
    "\n",
    "**Constraints:**\n",
    "\n",
    "  * `0 <= nums.length <= 100`\n",
    "  * `0 <= nums[i] <= 400`"
   ],
   "metadata": {}
  },
  {
   "outputs": [
    {
     "output_type": "execute_result",
     "data": {
      "text/plain": "rob_198 (generic function with 1 method)"
     },
     "metadata": {},
     "execution_count": 1
    }
   ],
   "cell_type": "code",
   "source": [
    "# @lc code=start\n",
    "using LeetCode\n",
    "\n",
    "function rob_198(nums::Vector{Int})::Int\n",
    "    n = length(nums)\n",
    "    n == 1 && return nums[1]\n",
    "    first, second = nums[1], max(nums[1], nums[2])\n",
    "    for num in @view nums[3:end]\n",
    "        first, second = second, max(second, first + num)\n",
    "    end\n",
    "    return second\n",
    "end\n",
    "\n",
    "# @lc code=end"
   ],
   "metadata": {},
   "execution_count": 1
  },
  {
   "cell_type": "markdown",
   "source": [
    "---\n",
    "\n",
    "*This notebook was generated using [Literate.jl](https://github.com/fredrikekre/Literate.jl).*"
   ],
   "metadata": {}
  }
 ],
 "nbformat_minor": 3,
 "metadata": {
  "language_info": {
   "file_extension": ".jl",
   "mimetype": "application/julia",
   "name": "julia",
   "version": "1.8.2"
  },
  "kernelspec": {
   "name": "julia-1.8",
   "display_name": "Julia 1.8.2",
   "language": "julia"
  }
 },
 "nbformat": 4
}
