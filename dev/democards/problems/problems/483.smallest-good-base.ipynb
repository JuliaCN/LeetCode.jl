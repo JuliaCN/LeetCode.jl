{
 "cells": [
  {
   "cell_type": "markdown",
   "source": [
    "For an integer n, we call k>=2 a _**good base**_ of n, if all digits of n base\n",
    "k are 1.\n",
    "\n",
    "Now given a string representing n, you should return the smallest good base of\n",
    "n in string format.\n",
    "\n",
    "**Example 1:**\n",
    "\n",
    "\n",
    "\n",
    "    Input: \"13\"\n",
    "    Output: \"3\"\n",
    "    Explanation: 13 base 3 is 111.\n",
    "\n",
    "\n",
    "\n",
    "\n",
    "**Example 2:**\n",
    "\n",
    "\n",
    "\n",
    "    Input: \"4681\"\n",
    "    Output: \"8\"\n",
    "    Explanation: 4681 base 8 is 11111.\n",
    "\n",
    "\n",
    "\n",
    "\n",
    "**Example 3:**\n",
    "\n",
    "\n",
    "\n",
    "    Input: \"1000000000000000000\"\n",
    "    Output: \"999999999999999999\"\n",
    "    Explanation: 1000000000000000000 base 999999999999999999 is 11.\n",
    "\n",
    "\n",
    "\n",
    "\n",
    "**Note:**\n",
    "\n",
    "  1. The range of n is [3, 10^18].\n",
    "  2. The string representing n is always valid and will not have leading zeros."
   ],
   "metadata": {}
  },
  {
   "outputs": [
    {
     "output_type": "execute_result",
     "data": {
      "text/plain": "smallest_good_base (generic function with 1 method)"
     },
     "metadata": {},
     "execution_count": 1
    }
   ],
   "cell_type": "code",
   "source": [
    "# @lc code=start\n",
    "using LeetCode\n",
    "\n",
    "function smallest_good_base(n::Int)\n",
    "    for m in 62:-1:2\n",
    "        k = floor(Int, n^(1 / m))\n",
    "        k ≤ 1 && continue\n",
    "        s = (Int128(k)^(m + 1) - 1) ÷ (k - 1)\n",
    "        (s == n) && return k\n",
    "    end\n",
    "    n - 1\n",
    "end\n",
    "# @lc code=end"
   ],
   "metadata": {},
   "execution_count": 1
  },
  {
   "cell_type": "markdown",
   "source": [
    "---\n",
    "\n",
    "*This notebook was generated using [Literate.jl](https://github.com/fredrikekre/Literate.jl).*"
   ],
   "metadata": {}
  }
 ],
 "nbformat_minor": 3,
 "metadata": {
  "language_info": {
   "file_extension": ".jl",
   "mimetype": "application/julia",
   "name": "julia",
   "version": "1.5.3"
  },
  "kernelspec": {
   "name": "julia-1.5",
   "display_name": "Julia 1.5.3",
   "language": "julia"
  }
 },
 "nbformat": 4
}
