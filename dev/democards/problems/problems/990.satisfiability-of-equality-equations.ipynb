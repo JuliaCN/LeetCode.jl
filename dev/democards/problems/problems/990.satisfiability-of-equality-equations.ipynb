{
 "cells": [
  {
   "cell_type": "markdown",
   "source": [
    "Given an array equations of strings that represent relationships between\n",
    "variables, each string `equations[i]` has length `4` and takes one of two\n",
    "different forms: `\"a==b\"` or `\"a!=b\"`.  Here, `a` and `b` are lowercase\n",
    "letters (not necessarily different) that represent one-letter variable names.\n",
    "\n",
    "Return `true` if and only if it is possible to assign integers to variable\n",
    "names so as to satisfy all the given equations.\n",
    "\n",
    "\n",
    "\n",
    "**Example 1:**\n",
    "\n",
    "\n",
    "\n",
    "    Input: [\"a==b\",\"b!=a\"]\n",
    "    Output: false\n",
    "    Explanation: If we assign say, a = 1 and b = 1, then the first equation is satisfied, but not the second.  There is no way to assign the variables to satisfy both equations.\n",
    "\n",
    "\n",
    "**Example 2:**\n",
    "\n",
    "\n",
    "\n",
    "    Input: [\"b==a\",\"a==b\"]\n",
    "    Output: true\n",
    "    Explanation: We could assign a = 1 and b = 1 to satisfy both equations.\n",
    "\n",
    "\n",
    "**Example 3:**\n",
    "\n",
    "\n",
    "\n",
    "    Input: [\"a==b\",\"b==c\",\"a==c\"]\n",
    "    Output: true\n",
    "\n",
    "\n",
    "**Example 4:**\n",
    "\n",
    "\n",
    "\n",
    "    Input: [\"a==b\",\"b!=c\",\"c==a\"]\n",
    "    Output: false\n",
    "\n",
    "\n",
    "**Example 5:**\n",
    "\n",
    "\n",
    "\n",
    "    Input: [\"c==c\",\"b==d\",\"x!=z\"]\n",
    "    Output: true\n",
    "\n",
    "\n",
    "\n",
    "\n",
    "**Note:**\n",
    "\n",
    "  1. `1 <= equations.length <= 500`\n",
    "  2. `equations[i].length == 4`\n",
    "  3. `equations[i][0]` and `equations[i][3]` are lowercase letters\n",
    "  4. `equations[i][1]` is either `'='` or `'!'`\n",
    "  5. `equations[i][2]` is `'='`"
   ],
   "metadata": {}
  },
  {
   "outputs": [
    {
     "output_type": "execute_result",
     "data": {
      "text/plain": "equations_possible (generic function with 1 method)"
     },
     "metadata": {},
     "execution_count": 1
    }
   ],
   "cell_type": "code",
   "source": [
    "# @lc code=start\n",
    "using LeetCode\n",
    "\n",
    "function equations_possible(equations::Vector{String})\n",
    "    disjs = DisjointSets{Char}('a':'z')\n",
    "    for eq in equations\n",
    "        eq[2] == '!' && continue\n",
    "        union!(disjs, eq[1], eq[4])\n",
    "    end\n",
    "    for eq in equations\n",
    "        eq[2] == '=' && continue\n",
    "        in_same_set(disjs, eq[1], eq[4]) && return false\n",
    "    end\n",
    "    return true\n",
    "end\n",
    "# @lc code=end"
   ],
   "metadata": {},
   "execution_count": 1
  },
  {
   "cell_type": "markdown",
   "source": [
    "---\n",
    "\n",
    "*This notebook was generated using [Literate.jl](https://github.com/fredrikekre/Literate.jl).*"
   ],
   "metadata": {}
  }
 ],
 "nbformat_minor": 3,
 "metadata": {
  "language_info": {
   "file_extension": ".jl",
   "mimetype": "application/julia",
   "name": "julia",
   "version": "1.7.0"
  },
  "kernelspec": {
   "name": "julia-1.7",
   "display_name": "Julia 1.7.0",
   "language": "julia"
  }
 },
 "nbformat": 4
}
