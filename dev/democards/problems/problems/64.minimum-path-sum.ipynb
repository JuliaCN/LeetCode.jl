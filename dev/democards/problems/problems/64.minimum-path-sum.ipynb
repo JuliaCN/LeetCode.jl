{
 "cells": [
  {
   "cell_type": "markdown",
   "source": [
    "Given a `m x n` `grid` filled with non-negative numbers, find a path from top\n",
    "left to bottom right, which minimizes the sum of all numbers along its path.\n",
    "\n",
    "**Note:** You can only move either down or right at any point in time.\n",
    "\n",
    "\n",
    "\n",
    "**Example 1:**\n",
    "\n",
    "![](https://assets.leetcode.com/uploads/2020/11/05/minpath.jpg)\n",
    "\n",
    "\n",
    "\n",
    "    Input: grid = [[1,3,1],[1,5,1],[4,2,1]]\n",
    "    Output: 7\n",
    "    Explanation: Because the path 1 -> 3 -> 1 -> 1 -> 1 minimizes the sum.\n",
    "\n",
    "\n",
    "**Example 2:**\n",
    "\n",
    "\n",
    "\n",
    "    Input: grid = [[1,2,3],[4,5,6]]\n",
    "    Output: 12\n",
    "\n",
    "\n",
    "\n",
    "\n",
    "**Constraints:**\n",
    "\n",
    "  * `m == grid.length`\n",
    "  * `n == grid[i].length`\n",
    "  * `1 <= m, n <= 200`\n",
    "  * `0 <= grid[i][j] <= 100`"
   ],
   "metadata": {}
  },
  {
   "outputs": [
    {
     "output_type": "execute_result",
     "data": {
      "text/plain": "min_path_sum (generic function with 1 method)"
     },
     "metadata": {},
     "execution_count": 1
    }
   ],
   "cell_type": "code",
   "source": [
    "# @lc code=start\n",
    "using LeetCode\n",
    "\n",
    "function min_path_sum!(grid::Vector{Vector{Int}})::Int\n",
    "    m, n = length(grid), length(grid[1])\n",
    "    for i in 2:n\n",
    "        grid[1][i] += grid[1][i - 1]\n",
    "    end\n",
    "    for i in 2:m\n",
    "        grid[i][1] += grid[i - 1][1]\n",
    "    end\n",
    "    for i in 2:m\n",
    "        for j in 2:n\n",
    "            grid[i][j] += min(grid[i - 1][j], grid[i][j - 1])\n",
    "        end\n",
    "    end\n",
    "    return grid[end][end]\n",
    "end\n",
    "min_path_sum(grid::Vector{Vector{Int}}) = min_path_sum!(copy(grid))\n",
    "# @lc code=end"
   ],
   "metadata": {},
   "execution_count": 1
  },
  {
   "cell_type": "markdown",
   "source": [
    "---\n",
    "\n",
    "*This notebook was generated using [Literate.jl](https://github.com/fredrikekre/Literate.jl).*"
   ],
   "metadata": {}
  }
 ],
 "nbformat_minor": 3,
 "metadata": {
  "language_info": {
   "file_extension": ".jl",
   "mimetype": "application/julia",
   "name": "julia",
   "version": "1.10.1"
  },
  "kernelspec": {
   "name": "julia-1.10",
   "display_name": "Julia 1.10.1",
   "language": "julia"
  }
 },
 "nbformat": 4
}
