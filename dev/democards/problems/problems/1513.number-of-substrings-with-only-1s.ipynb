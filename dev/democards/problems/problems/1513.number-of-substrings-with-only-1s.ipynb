{
 "cells": [
  {
   "cell_type": "markdown",
   "source": [
    "Given a binary string `s` (a string consisting only of '0' and '1's).\n",
    "\n",
    "Return the number of substrings with all characters 1's.\n",
    "\n",
    "Since the answer may be too large, return it modulo 10^9 + 7.\n",
    "\n",
    "\n",
    "\n",
    "**Example 1:**\n",
    "\n",
    "\n",
    "\n",
    "    Input: s = \"0110111\"\n",
    "    Output: 9\n",
    "    Explanation: There are 9 substring in total with only 1's characters.\n",
    "    \"1\" -> 5 times.\n",
    "    \"11\" -> 3 times.\n",
    "    \"111\" -> 1 time.\n",
    "\n",
    "**Example 2:**\n",
    "\n",
    "\n",
    "\n",
    "    Input: s = \"101\"\n",
    "    Output: 2\n",
    "    Explanation: Substring \"1\" is shown 2 times in s.\n",
    "\n",
    "\n",
    "**Example 3:**\n",
    "\n",
    "\n",
    "\n",
    "    Input: s = \"111111\"\n",
    "    Output: 21\n",
    "    Explanation: Each substring contains only 1's characters.\n",
    "\n",
    "\n",
    "**Example 4:**\n",
    "\n",
    "\n",
    "\n",
    "    Input: s = \"000\"\n",
    "    Output: 0\n",
    "\n",
    "\n",
    "\n",
    "\n",
    "**Constraints:**\n",
    "\n",
    "  * `s[i] == '0'` or `s[i] == '1'`\n",
    "  * `1 <= s.length <= 10^5`"
   ],
   "metadata": {}
  },
  {
   "outputs": [
    {
     "output_type": "execute_result",
     "data": {
      "text/plain": "num_sub (generic function with 1 method)"
     },
     "metadata": {},
     "execution_count": 1
    }
   ],
   "cell_type": "code",
   "source": [
    "# @lc code=start\n",
    "using LeetCode\n",
    "\n",
    "function num_sub(s::String)\n",
    "    ss = split(s, '0')\n",
    "    sum(binomial(length(subs) + 1, 2) for subs in ss)\n",
    "end\n",
    "# @lc code=end"
   ],
   "metadata": {},
   "execution_count": 1
  },
  {
   "cell_type": "markdown",
   "source": [
    "---\n",
    "\n",
    "*This notebook was generated using [Literate.jl](https://github.com/fredrikekre/Literate.jl).*"
   ],
   "metadata": {}
  }
 ],
 "nbformat_minor": 3,
 "metadata": {
  "language_info": {
   "file_extension": ".jl",
   "mimetype": "application/julia",
   "name": "julia",
   "version": "1.8.2"
  },
  "kernelspec": {
   "name": "julia-1.8",
   "display_name": "Julia 1.8.2",
   "language": "julia"
  }
 },
 "nbformat": 4
}
