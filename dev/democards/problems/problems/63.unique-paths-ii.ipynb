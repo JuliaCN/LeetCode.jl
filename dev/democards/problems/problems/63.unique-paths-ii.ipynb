{
 "cells": [
  {
   "cell_type": "markdown",
   "source": [
    "A robot is located at the top-left corner of a `m x n` grid (marked 'Start' in\n",
    "the diagram below).\n",
    "\n",
    "The robot can only move either down or right at any point in time. The robot\n",
    "is trying to reach the bottom-right corner of the grid (marked 'Finish' in the\n",
    "diagram below).\n",
    "\n",
    "Now consider if some obstacles are added to the grids. How many unique paths\n",
    "would there be?\n",
    "\n",
    "An obstacle and space is marked as `1` and `0` respectively in the grid.\n",
    "\n",
    "\n",
    "\n",
    "**Example 1:**\n",
    "\n",
    "![](https://assets.leetcode.com/uploads/2020/11/04/robot1.jpg)\n",
    "\n",
    "\n",
    "\n",
    "    Input: obstacleGrid = [[0,0,0],[0,1,0],[0,0,0]]\n",
    "    Output: 2\n",
    "    Explanation: There is one obstacle in the middle of the 3x3 grid above.\n",
    "    There are two ways to reach the bottom-right corner:\n",
    "    1. Right -> Right -> Down -> Down\n",
    "    2. Down -> Down -> Right -> Right\n",
    "\n",
    "\n",
    "**Example 2:**\n",
    "\n",
    "![](https://assets.leetcode.com/uploads/2020/11/04/robot2.jpg)\n",
    "\n",
    "\n",
    "\n",
    "    Input: obstacleGrid = [[0,1],[0,0]]\n",
    "    Output: 1\n",
    "\n",
    "\n",
    "\n",
    "\n",
    "**Constraints:**\n",
    "\n",
    "  * `m == obstacleGrid.length`\n",
    "  * `n == obstacleGrid[i].length`\n",
    "  * `1 <= m, n <= 100`\n",
    "  * `obstacleGrid[i][j]` is `0` or `1`."
   ],
   "metadata": {}
  },
  {
   "outputs": [
    {
     "output_type": "execute_result",
     "data": {
      "text/plain": "unique_path_with_obstacles_63 (generic function with 1 method)"
     },
     "metadata": {},
     "execution_count": 1
    }
   ],
   "cell_type": "code",
   "source": [
    "# @lc code=start\n",
    "using LeetCode\n",
    "\n",
    "function unique_path_with_obstacles_63!(obstacleGrid::Vector{Vector{Int}})::Int\n",
    "    m, n = length(obstacleGrid), length(obstacleGrid[1])\n",
    "    obstacleGrid[1][1] = 1 - obstacleGrid[1][1]\n",
    "    for i in 2:n\n",
    "        obstacleGrid[1][i] = obstacleGrid[1][i] == 1 ? 0 : obstacleGrid[1][i - 1]\n",
    "    end\n",
    "    for i in 2:m\n",
    "        obstacleGrid[i][1] = obstacleGrid[i][1] == 1 ? 0 : obstacleGrid[i - 1][1]\n",
    "    end\n",
    "    for i in 2:m\n",
    "        for j in 2:n\n",
    "            obstacleGrid[i][j] = if obstacleGrid[i][j] == 1\n",
    "                0\n",
    "            else\n",
    "                obstacleGrid[i - 1][j] + obstacleGrid[i][j - 1]\n",
    "            end\n",
    "        end\n",
    "    end\n",
    "    return obstacleGrid[end][end]\n",
    "end\n",
    "function unique_path_with_obstacles_63(obstacleGrid::Vector{Vector{Int}})\n",
    "    return unique_path_with_obstacles_63!(copy(obstacleGrid))\n",
    "end\n",
    "# @lc code=end"
   ],
   "metadata": {},
   "execution_count": 1
  },
  {
   "cell_type": "markdown",
   "source": [
    "---\n",
    "\n",
    "*This notebook was generated using [Literate.jl](https://github.com/fredrikekre/Literate.jl).*"
   ],
   "metadata": {}
  }
 ],
 "nbformat_minor": 3,
 "metadata": {
  "language_info": {
   "file_extension": ".jl",
   "mimetype": "application/julia",
   "name": "julia",
   "version": "1.10.4"
  },
  "kernelspec": {
   "name": "julia-1.10",
   "display_name": "Julia 1.10.4",
   "language": "julia"
  }
 },
 "nbformat": 4
}
