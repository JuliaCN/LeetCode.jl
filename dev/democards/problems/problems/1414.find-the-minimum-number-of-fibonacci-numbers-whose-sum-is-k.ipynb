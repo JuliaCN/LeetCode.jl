{
 "cells": [
  {
   "cell_type": "markdown",
   "source": [
    "Given an integer `k`, _return the minimum number of Fibonacci numbers whose\n",
    "sum is equal to_`k`. The same Fibonacci number can be used multiple times.\n",
    "\n",
    "The Fibonacci numbers are defined as:\n",
    "\n",
    "  * `F1 = 1`\n",
    "  * `F2 = 1`\n",
    "  * `Fn = Fn-1 + Fn-2` for `n > 2.`\n",
    "\n",
    "It is guaranteed that for the given constraints we can always find such\n",
    "Fibonacci numbers that sum up to `k`.\n",
    "\n",
    "\n",
    "\n",
    "**Example 1:**\n",
    "\n",
    "\n",
    "\n",
    "    Input: k = 7\n",
    "    Output: 2\n",
    "    Explanation: The Fibonacci numbers are: 1, 1, 2, 3, 5, 8, 13, ...\n",
    "    For k = 7 we can use 2 + 5 = 7.\n",
    "\n",
    "**Example 2:**\n",
    "\n",
    "\n",
    "\n",
    "    Input: k = 10\n",
    "    Output: 2\n",
    "    Explanation: For k = 10 we can use 2 + 8 = 10.\n",
    "\n",
    "\n",
    "**Example 3:**\n",
    "\n",
    "\n",
    "\n",
    "    Input: k = 19\n",
    "    Output: 3\n",
    "    Explanation: For k = 19 we can use 1 + 5 + 13 = 19.\n",
    "\n",
    "\n",
    "\n",
    "\n",
    "**Constraints:**\n",
    "\n",
    "  * `1 <= k <= 10^9`"
   ],
   "metadata": {}
  },
  {
   "outputs": [
    {
     "output_type": "execute_result",
     "data": {
      "text/plain": "find_min_fibonacci_numbers (generic function with 1 method)"
     },
     "metadata": {},
     "execution_count": 1
    }
   ],
   "cell_type": "code",
   "source": [
    "# @lc code=start\n",
    "using LeetCode\n",
    "\n",
    "function find_min_fibonacci_numbers(k::Int)\n",
    "    fibs = [0, 1, 1]\n",
    "    while fibs[end] <= k\n",
    "        push!(fibs, fibs[end] + fibs[end - 1])\n",
    "    end\n",
    "    \"\"\"\n",
    "    If we need 2 or more fib_i's,\n",
    "    we can always use fib_{i+1} and fib_{i-2} to replace them:\n",
    "    2fib_i = fib_i + fib_{i-1} + fib_{i-2} = fib_{i+1} + fib_{i-2}.\n",
    "\n",
    "    So greedy algorithm can be performed.\n",
    "    \"\"\"\n",
    "    pop!(fibs)\n",
    "    res = 0\n",
    "    idx = length(fibs) + 1\n",
    "    while k != 0\n",
    "        idx -= 1\n",
    "        k >= fibs[idx] || continue\n",
    "        k -= fibs[idx]\n",
    "        res += 1\n",
    "    end\n",
    "    return res\n",
    "end\n",
    "# @lc code=end"
   ],
   "metadata": {},
   "execution_count": 1
  },
  {
   "cell_type": "markdown",
   "source": [
    "---\n",
    "\n",
    "*This notebook was generated using [Literate.jl](https://github.com/fredrikekre/Literate.jl).*"
   ],
   "metadata": {}
  }
 ],
 "nbformat_minor": 3,
 "metadata": {
  "language_info": {
   "file_extension": ".jl",
   "mimetype": "application/julia",
   "name": "julia",
   "version": "1.8.0"
  },
  "kernelspec": {
   "name": "julia-1.8",
   "display_name": "Julia 1.8.0",
   "language": "julia"
  }
 },
 "nbformat": 4
}
