{
 "cells": [
  {
   "cell_type": "markdown",
   "source": [
    "The Tribonacci sequence Tn is defined as follows:\n",
    "\n",
    "T0 = 0, T1 = 1, T2 = 1, and Tn+3 = Tn \\+ Tn+1 \\+ Tn+2 for n >= 0.\n",
    "\n",
    "Given `n`, return the value of Tn.\n",
    "\n",
    "\n",
    "\n",
    "**Example 1:**\n",
    "\n",
    "\n",
    "\n",
    "    Input: n = 4\n",
    "    Output: 4\n",
    "    Explanation:\n",
    "    T_3 = 0 + 1 + 1 = 2\n",
    "    T_4 = 1 + 1 + 2 = 4\n",
    "\n",
    "\n",
    "**Example 2:**\n",
    "\n",
    "\n",
    "\n",
    "    Input: n = 25\n",
    "    Output: 1389537\n",
    "\n",
    "\n",
    "\n",
    "\n",
    "**Constraints:**\n",
    "\n",
    "  * `0 <= n <= 37`\n",
    "  * The answer is guaranteed to fit within a 32-bit integer, ie. `answer <= 2^31 - 1`."
   ],
   "metadata": {}
  },
  {
   "outputs": [
    {
     "output_type": "execute_result",
     "data": {
      "text/plain": "tribonacci_1137 (generic function with 1 method)"
     },
     "metadata": {},
     "execution_count": 1
    }
   ],
   "cell_type": "code",
   "source": [
    "# @lc code=start\n",
    "using LeetCode\n",
    "\n",
    "function tribonacci_1137(n::Int)::Int\n",
    "    n <= 1 && return n\n",
    "    a, b, c = 0, 1, 1\n",
    "    for _ in 1:(n - 2)\n",
    "        a, b, c = b, c, a + b + c\n",
    "    end\n",
    "    return c\n",
    "end\n",
    "# @lc code=end"
   ],
   "metadata": {},
   "execution_count": 1
  },
  {
   "cell_type": "markdown",
   "source": [
    "---\n",
    "\n",
    "*This notebook was generated using [Literate.jl](https://github.com/fredrikekre/Literate.jl).*"
   ],
   "metadata": {}
  }
 ],
 "nbformat_minor": 3,
 "metadata": {
  "language_info": {
   "file_extension": ".jl",
   "mimetype": "application/julia",
   "name": "julia",
   "version": "1.8.2"
  },
  "kernelspec": {
   "name": "julia-1.8",
   "display_name": "Julia 1.8.2",
   "language": "julia"
  }
 },
 "nbformat": 4
}
