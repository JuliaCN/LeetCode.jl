{
 "cells": [
  {
   "cell_type": "markdown",
   "source": [
    "There are `n` flights, and they are labeled from `1` to `n`.\n",
    "\n",
    "We have a list of flight bookings.  The `i`-th booking `bookings[i] = [i, j,\n",
    "k]` means that we booked `k` seats from flights labeled `i` to `j` inclusive.\n",
    "\n",
    "Return an array `answer` of length `n`, representing the number of seats\n",
    "booked on each flight in order of their label.\n",
    "\n",
    "\n",
    "\n",
    "**Example 1:**\n",
    "\n",
    "\n",
    "\n",
    "    Input: bookings = [[1,2,10],[2,3,20],[2,5,25]], n = 5\n",
    "    Output: [10,55,45,25,25]\n",
    "\n",
    "\n",
    "\n",
    "\n",
    "**Constraints:**\n",
    "\n",
    "  * `1 <= bookings.length <= 20000`\n",
    "  * `1 <= bookings[i][0] <= bookings[i][1] <= n <= 20000`\n",
    "  * `1 <= bookings[i][2] <= 10000`"
   ],
   "metadata": {}
  },
  {
   "outputs": [
    {
     "output_type": "execute_result",
     "data": {
      "text/plain": "corp_flight_bookings (generic function with 1 method)"
     },
     "metadata": {},
     "execution_count": 1
    }
   ],
   "cell_type": "code",
   "source": [
    "# @lc code=start\n",
    "using LeetCode\n",
    "\n",
    "function corp_flight_bookings(bookings::Vector{Vector{Int}}, n::Int)\n",
    "    res = fill(0, n + 1)\n",
    "    for b in bookings\n",
    "        res[b[1]] += b[3]\n",
    "        res[b[2] + 1] -= b[3]\n",
    "    end\n",
    "    cumsum!(res, res)\n",
    "    @view(res[1:n])\n",
    "end\n",
    "# @lc code=end"
   ],
   "metadata": {},
   "execution_count": 1
  },
  {
   "cell_type": "markdown",
   "source": [
    "---\n",
    "\n",
    "*This notebook was generated using [Literate.jl](https://github.com/fredrikekre/Literate.jl).*"
   ],
   "metadata": {}
  }
 ],
 "nbformat_minor": 3,
 "metadata": {
  "language_info": {
   "file_extension": ".jl",
   "mimetype": "application/julia",
   "name": "julia",
   "version": "1.10.4"
  },
  "kernelspec": {
   "name": "julia-1.10",
   "display_name": "Julia 1.10.4",
   "language": "julia"
  }
 },
 "nbformat": 4
}
