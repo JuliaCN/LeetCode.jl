{
 "cells": [
  {
   "cell_type": "markdown",
   "source": [
    "Given an array of **unique** integers `salary` where `salary[i]` is the salary\n",
    "of the employee `i`.\n",
    "\n",
    "Return the average salary of employees excluding the minimum and maximum\n",
    "salary.\n",
    "\n",
    "\n",
    "\n",
    "**Example 1:**\n",
    "\n",
    "\n",
    "\n",
    "    Input: salary = [4000,3000,1000,2000]\n",
    "    Output: 2500.00000\n",
    "    Explanation: Minimum salary and maximum salary are 1000 and 4000 respectively.\n",
    "    Average salary excluding minimum and maximum salary is (2000+3000)/2= 2500\n",
    "\n",
    "\n",
    "**Example 2:**\n",
    "\n",
    "\n",
    "\n",
    "    Input: salary = [1000,2000,3000]\n",
    "    Output: 2000.00000\n",
    "    Explanation: Minimum salary and maximum salary are 1000 and 3000 respectively.\n",
    "    Average salary excluding minimum and maximum salary is (2000)/1= 2000\n",
    "\n",
    "\n",
    "**Example 3:**\n",
    "\n",
    "\n",
    "\n",
    "    Input: salary = [6000,5000,4000,3000,2000,1000]\n",
    "    Output: 3500.00000\n",
    "\n",
    "\n",
    "**Example 4:**\n",
    "\n",
    "\n",
    "\n",
    "    Input: salary = [8000,9000,2000,3000,6000,1000]\n",
    "    Output: 4750.00000\n",
    "\n",
    "\n",
    "\n",
    "\n",
    "**Constraints:**\n",
    "\n",
    "  * `3 <= salary.length <= 100`\n",
    "  * `10^3 <= salary[i] <= 10^6`\n",
    "  * `salary[i]` is unique.\n",
    "  * Answers within `10^-5` of the actual value will be accepted as correct."
   ],
   "metadata": {}
  },
  {
   "outputs": [
    {
     "output_type": "execute_result",
     "data": {
      "text/plain": "average_salary_excluding_mami (generic function with 1 method)"
     },
     "metadata": {},
     "execution_count": 1
    }
   ],
   "cell_type": "code",
   "source": [
    "# @lc code=start\n",
    "using LeetCode\n",
    "\n",
    "function average_salary_excluding_mami(salary::Vector{Int})\n",
    "    return (sum(salary) - minimum(salary) - maximum(salary)) / (length(salary) - 2)\n",
    "end\n",
    "# @lc code=end"
   ],
   "metadata": {},
   "execution_count": 1
  },
  {
   "cell_type": "markdown",
   "source": [
    "---\n",
    "\n",
    "*This notebook was generated using [Literate.jl](https://github.com/fredrikekre/Literate.jl).*"
   ],
   "metadata": {}
  }
 ],
 "nbformat_minor": 3,
 "metadata": {
  "language_info": {
   "file_extension": ".jl",
   "mimetype": "application/julia",
   "name": "julia",
   "version": "1.7.2"
  },
  "kernelspec": {
   "name": "julia-1.7",
   "display_name": "Julia 1.7.2",
   "language": "julia"
  }
 },
 "nbformat": 4
}
