{
 "cells": [
  {
   "cell_type": "markdown",
   "source": [
    "Given a string `s` containing only lower case English letters and the '?'\n",
    "character, convert **all** the '?' characters into lower case letters such\n",
    "that the final string does not contain any **consecutive repeating\n",
    "**characters. You **cannot** modify the non '?' characters.\n",
    "\n",
    "It is **guaranteed** that there are no consecutive repeating characters in the\n",
    "given string **except** for '?'.\n",
    "\n",
    "Return the final string after all the conversions (possibly zero) have been\n",
    "made. If there is more than one solution, return any of them. It can be shown\n",
    "that an answer is always possible with the given constraints.\n",
    "\n",
    "\n",
    "\n",
    "**Example 1:**\n",
    "\n",
    "\n",
    "\n",
    "    Input: s = \"?zs\"\n",
    "    Output: \"azs\"\n",
    "    **Explanation** : There are 25 solutions for this problem. From \"azs\" to \"yzs\", all are valid. Only \"z\" is an invalid modification as the string will consist of consecutive repeating characters in \"zzs\".\n",
    "\n",
    "**Example 2:**\n",
    "\n",
    "\n",
    "\n",
    "    Input: s = \"ubv?w\"\n",
    "    Output: \"ubvaw\"\n",
    "    **Explanation** : There are 24 solutions for this problem. Only \"v\" and \"w\" are invalid modifications as the strings will consist of consecutive repeating characters in \"ubvvw\" and \"ubvww\".\n",
    "\n",
    "\n",
    "**Example 3:**\n",
    "\n",
    "\n",
    "\n",
    "    Input: s = \"j?qg??b\"\n",
    "    Output: \"jaqgacb\"\n",
    "\n",
    "\n",
    "**Example 4:**\n",
    "\n",
    "\n",
    "\n",
    "    Input: s = \"??yw?ipkj?\"\n",
    "    Output: \"acywaipkja\"\n",
    "\n",
    "\n",
    "\n",
    "\n",
    "**Constraints:**\n",
    "\n",
    "  * `1 <= s.length <= 100`\n",
    "  * `s` contains only lower case English letters and `'?'`."
   ],
   "metadata": {}
  },
  {
   "outputs": [
    {
     "output_type": "execute_result",
     "data": {
      "text/plain": "modify_string (generic function with 1 method)"
     },
     "metadata": {},
     "execution_count": 1
    }
   ],
   "cell_type": "code",
   "source": [
    "# @lc code=start\n",
    "using LeetCode\n",
    "\n",
    "function modify_string(s::String)\n",
    "    char_vec = collect(s)\n",
    "    for i in 1:length(char_vec)\n",
    "        if char_vec[i] == '?'\n",
    "            char_vec[i] = 'a'\n",
    "            (i > 1 && char_vec[i - 1] == 'a') && (char_vec[i] += 1)\n",
    "            (i < length(char_vec) && char_vec[i + 1] == char_vec[i]) && (char_vec[i] += 1)\n",
    "            (i > 1 && char_vec[i - 1] == char_vec[i]) && (char_vec[i] += 1)\n",
    "        end\n",
    "    end\n",
    "    return join(char_vec)\n",
    "end\n",
    "# @lc code=end"
   ],
   "metadata": {},
   "execution_count": 1
  },
  {
   "cell_type": "markdown",
   "source": [
    "---\n",
    "\n",
    "*This notebook was generated using [Literate.jl](https://github.com/fredrikekre/Literate.jl).*"
   ],
   "metadata": {}
  }
 ],
 "nbformat_minor": 3,
 "metadata": {
  "language_info": {
   "file_extension": ".jl",
   "mimetype": "application/julia",
   "name": "julia",
   "version": "1.11.6"
  },
  "kernelspec": {
   "name": "julia-1.11",
   "display_name": "Julia 1.11.6",
   "language": "julia"
  }
 },
 "nbformat": 4
}
