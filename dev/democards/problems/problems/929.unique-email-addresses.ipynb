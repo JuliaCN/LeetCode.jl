{
 "cells": [
  {
   "cell_type": "markdown",
   "source": [
    "Every email consists of a local name and a domain name, separated by the @\n",
    "sign.\n",
    "\n",
    "For example, in `alice@leetcode.com`, `alice` is the local name, and\n",
    "`leetcode.com` is the domain name.\n",
    "\n",
    "Besides lowercase letters, these emails may contain `'.'`s or `'+'`s.\n",
    "\n",
    "If you add periods (`'.'`) between some characters in the **local name** part\n",
    "of an email address, mail sent there will be forwarded to the same address\n",
    "without dots in the local name.  For example, `\"alice.z@leetcode.com\"` and\n",
    "`\"alicez@leetcode.com\"` forward to the same email address.  (Note that this\n",
    "rule does not apply for domain names.)\n",
    "\n",
    "If you add a plus (`'+'`) in the **local name** , everything after the first\n",
    "plus sign will be  **ignored**. This allows certain emails to be filtered, for\n",
    "example `m.y+name@email.com` will be forwarded to `my@email.com`.  (Again,\n",
    "this rule does not apply for domain names.)\n",
    "\n",
    "It is possible to use both of these rules at the same time.\n",
    "\n",
    "Given a list of `emails`, we send one email to each address in the list.  How\n",
    "many different addresses actually receive mails?\n",
    "\n",
    "\n",
    "\n",
    "**Example 1:**\n",
    "\n",
    "\n",
    "\n",
    "    Input: [\"test.email+alex@leetcode.com\",\"test.e.mail+bob.cathy@leetcode.com\",\"testemail+david@lee.tcode.com\"]\n",
    "    Output: 2\n",
    "    Explanation:  \"testemail@leetcode.com\" and \"testemail@lee.tcode.com\" actually receive mails\n",
    "\n",
    "\n",
    "\n",
    "\n",
    "**Note:**\n",
    "\n",
    "  * `1 <= emails[i].length <= 100`\n",
    "  * `1 <= emails.length <= 100`\n",
    "  * Each `emails[i]` contains exactly one `'@'` character.\n",
    "  * All local and domain names are non-empty.\n",
    "  * Local names do not start with a `'+'` character."
   ],
   "metadata": {}
  },
  {
   "outputs": [
    {
     "output_type": "execute_result",
     "data": {
      "text/plain": "num_unique_emails (generic function with 1 method)"
     },
     "metadata": {},
     "execution_count": 1
    }
   ],
   "cell_type": "code",
   "source": [
    "# @lc code=start\n",
    "using LeetCode\n",
    "\n",
    "function actual_email(email)\n",
    "    name, domain = split(email, '@')\n",
    "    name = first(split(replace(name, \".\" => \"\"), \"+\"))\n",
    "    return name * \"@\" * domain\n",
    "end\n",
    "\n",
    "function num_unique_emails(emails::Vector{String})\n",
    "    return length(unique(actual_email(email) for email in emails))\n",
    "end\n",
    "# @lc code=end"
   ],
   "metadata": {},
   "execution_count": 1
  },
  {
   "cell_type": "markdown",
   "source": [
    "---\n",
    "\n",
    "*This notebook was generated using [Literate.jl](https://github.com/fredrikekre/Literate.jl).*"
   ],
   "metadata": {}
  }
 ],
 "nbformat_minor": 3,
 "metadata": {
  "language_info": {
   "file_extension": ".jl",
   "mimetype": "application/julia",
   "name": "julia",
   "version": "1.8.2"
  },
  "kernelspec": {
   "name": "julia-1.8",
   "display_name": "Julia 1.8.2",
   "language": "julia"
  }
 },
 "nbformat": 4
}
