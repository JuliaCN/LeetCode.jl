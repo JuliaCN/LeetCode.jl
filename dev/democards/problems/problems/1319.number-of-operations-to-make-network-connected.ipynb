{
 "cells": [
  {
   "cell_type": "markdown",
   "source": [
    "There are `n` computers numbered from `0` to `n-1` connected by ethernet\n",
    "cables `connections` forming a network where `connections[i] = [a, b]`\n",
    "represents a connection between computers `a` and `b`. Any computer can reach\n",
    "any other computer directly or indirectly through the network.\n",
    "\n",
    "Given an initial computer network `connections`. You can extract certain\n",
    "cables between two directly connected computers, and place them between any\n",
    "pair of disconnected computers to make them directly connected. Return the\n",
    "_minimum number of times_ you need to do this in order to make all the\n",
    "computers connected. If it's not possible, return -1.\n",
    "\n",
    "\n",
    "\n",
    "**Example 1:**\n",
    "\n",
    "**![](https://assets.leetcode.com/uploads/2020/01/02/sample_1_1677.png)**\n",
    "\n",
    "\n",
    "\n",
    "    Input: n = 4, connections = [[0,1],[0,2],[1,2]]\n",
    "    Output: 1\n",
    "    Explanation: Remove cable between computer 1 and 2 and place between computers 1 and 3.\n",
    "\n",
    "\n",
    "**Example 2:**\n",
    "\n",
    "**![](https://assets.leetcode.com/uploads/2020/01/02/sample_2_1677.png)**\n",
    "\n",
    "\n",
    "\n",
    "    Input: n = 6, connections = [[0,1],[0,2],[0,3],[1,2],[1,3]]\n",
    "    Output: 2\n",
    "\n",
    "\n",
    "**Example 3:**\n",
    "\n",
    "\n",
    "\n",
    "    Input: n = 6, connections = [[0,1],[0,2],[0,3],[1,2]]\n",
    "    Output: -1\n",
    "    Explanation: There are not enough cables.\n",
    "\n",
    "\n",
    "**Example 4:**\n",
    "\n",
    "\n",
    "\n",
    "    Input: n = 5, connections = [[0,1],[0,2],[3,4],[2,3]]\n",
    "    Output: 0\n",
    "\n",
    "\n",
    "\n",
    "\n",
    "**Constraints:**\n",
    "\n",
    "  * `1 <= n <= 10^5`\n",
    "  * `1 <= connections.length <= min(n*(n-1)/2, 10^5)`\n",
    "  * `connections[i].length == 2`\n",
    "  * `0 <= connections[i][0], connections[i][1] < n`\n",
    "  * `connections[i][0] != connections[i][1]`\n",
    "  * There are no repeated connections.\n",
    "  * No two computers are connected by more than one cable."
   ],
   "metadata": {}
  },
  {
   "outputs": [
    {
     "output_type": "execute_result",
     "data": {
      "text/plain": "make_connected (generic function with 1 method)"
     },
     "metadata": {},
     "execution_count": 1
    }
   ],
   "cell_type": "code",
   "source": [
    "# @lc code=start\n",
    "using LeetCode\n",
    "\n",
    "function make_connected(n::Int, connections::Vector{Vector{Int}})\n",
    "    if length(connections) < n - 1\n",
    "        return - 1\n",
    "    end\n",
    "    find_root(u::Int)::Int = (father[u] == u) ? u : (father[u] = find_root(father[u]))\n",
    "    issame_root(u::Int, v::Int)::Bool = find_root(u) == find_root(v)\n",
    "    function merge(u::Int, v::Int)\n",
    "        u_root = find_root(u)\n",
    "        v_root = find_root(v)\n",
    "        if u_root != v_root\n",
    "            n -= 1\n",
    "            father[u_root] = v_root\n",
    "        end\n",
    "    end\n",
    "    father = collect(1:n)\n",
    "    for connection in connections\n",
    "        merge(connection[1], connection[2])\n",
    "    end\n",
    "    return n - 1\n",
    "end\n",
    "# @lc code=end"
   ],
   "metadata": {},
   "execution_count": 1
  },
  {
   "cell_type": "markdown",
   "source": [
    "---\n",
    "\n",
    "*This notebook was generated using [Literate.jl](https://github.com/fredrikekre/Literate.jl).*"
   ],
   "metadata": {}
  }
 ],
 "nbformat_minor": 3,
 "metadata": {
  "language_info": {
   "file_extension": ".jl",
   "mimetype": "application/julia",
   "name": "julia",
   "version": "1.5.3"
  },
  "kernelspec": {
   "name": "julia-1.5",
   "display_name": "Julia 1.5.3",
   "language": "julia"
  }
 },
 "nbformat": 4
}
