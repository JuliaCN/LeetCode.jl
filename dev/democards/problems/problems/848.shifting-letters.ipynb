{
 "cells": [
  {
   "cell_type": "markdown",
   "source": [
    "We have a string `S` of lowercase letters, and an integer array `shifts`.\n",
    "\n",
    "Call the _shift_ of a letter, the next letter in the alphabet, (wrapping\n",
    "around so that `'z'` becomes `'a'`).\n",
    "\n",
    "For example, `shift('a') = 'b'`, `shift('t') = 'u'`, and `shift('z') = 'a'`.\n",
    "\n",
    "Now for each `shifts[i] = x`, we want to shift the first `i+1` letters of `S`,\n",
    "`x` times.\n",
    "\n",
    "Return the final string after all such shifts to `S` are applied.\n",
    "\n",
    "**Example 1:**\n",
    "\n",
    "\n",
    "\n",
    "    Input: S = \"abc\", shifts = [3,5,9]\n",
    "    Output: \"rpl\"\n",
    "    Explanation:\n",
    "    We start with \"abc\".\n",
    "    After shifting the first 1 letters of S by 3, we have \"dbc\".\n",
    "    After shifting the first 2 letters of S by 5, we have \"igc\".\n",
    "    After shifting the first 3 letters of S by 9, we have \"rpl\", the answer.\n",
    "\n",
    "\n",
    "**Note:**\n",
    "\n",
    "  1. `1 <= S.length = shifts.length <= 20000`\n",
    "  2. `0 <= shifts[i] <= 10 ^ 9`"
   ],
   "metadata": {}
  },
  {
   "outputs": [
    {
     "output_type": "execute_result",
     "data": {
      "text/plain": "shifting_letters (generic function with 1 method)"
     },
     "metadata": {},
     "execution_count": 1
    }
   ],
   "cell_type": "code",
   "source": [
    "# @lc code=start\n",
    "using LeetCode\n",
    "\n",
    "function shifting_letters(s::String, shift::Vector{Int})::String\n",
    "    for i in length(shift):-1:2\n",
    "        shift[i - 1] += shift[i]\n",
    "    end\n",
    "    res = codeunits(s)[:]\n",
    "    for i in 1:length(shift)\n",
    "        res[i] += shift[i]\n",
    "    end\n",
    "    return String(res)\n",
    "end\n",
    "# @lc code=end"
   ],
   "metadata": {},
   "execution_count": 1
  },
  {
   "cell_type": "markdown",
   "source": [
    "---\n",
    "\n",
    "*This notebook was generated using [Literate.jl](https://github.com/fredrikekre/Literate.jl).*"
   ],
   "metadata": {}
  }
 ],
 "nbformat_minor": 3,
 "metadata": {
  "language_info": {
   "file_extension": ".jl",
   "mimetype": "application/julia",
   "name": "julia",
   "version": "1.8.0"
  },
  "kernelspec": {
   "name": "julia-1.8",
   "display_name": "Julia 1.8.0",
   "language": "julia"
  }
 },
 "nbformat": 4
}
