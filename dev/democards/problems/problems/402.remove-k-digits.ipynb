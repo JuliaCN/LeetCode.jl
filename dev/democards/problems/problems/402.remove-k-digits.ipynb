{
 "cells": [
  {
   "cell_type": "markdown",
   "source": [
    "Given a non-negative integer _num_ represented as a string, remove _k_ digits\n",
    "from the number so that the new number is the smallest possible.\n",
    "\n",
    "**Note:**\n",
    "\n",
    "  * The length of _num_ is less than 10002 and will be ≥ _k_.\n",
    "  * The given _num_ does not contain any leading zero.\n",
    "\n",
    "**\n",
    "\n",
    "**Example 1:**\n",
    "\n",
    "\n",
    "\n",
    "    Input: num = \"1432219\", k = 3\n",
    "    Output: \"1219\"\n",
    "    Explanation: Remove the three digits 4, 3, and 2 to form the new number 1219 which is the smallest.\n",
    "\n",
    "\n",
    "**Example 2:**\n",
    "\n",
    "\n",
    "\n",
    "    Input: num = \"10200\", k = 1\n",
    "    Output: \"200\"\n",
    "    Explanation: Remove the leading 1 and the number is 200. Note that the output must not contain leading zeroes.\n",
    "\n",
    "\n",
    "**Example 3:**\n",
    "\n",
    "\n",
    "\n",
    "    Input: num = \"10\", k = 2\n",
    "    Output: \"0\"\n",
    "    Explanation: Remove all the digits from the number and it is left with nothing which is 0."
   ],
   "metadata": {}
  },
  {
   "outputs": [
    {
     "output_type": "execute_result",
     "data": {
      "text/plain": "remove_kdigits (generic function with 1 method)"
     },
     "metadata": {},
     "execution_count": 1
    }
   ],
   "cell_type": "code",
   "source": [
    "# @lc code=start\n",
    "using LeetCode\n",
    "\n",
    "function remove_kdigits(num::String, k::Int)::String\n",
    "    num_code = codeunits(num)\n",
    "    stk = UInt8[]\n",
    "    for ch in num_code\n",
    "        if k == 0 || isempty(stk)\n",
    "            push!(stk, ch)\n",
    "        else\n",
    "            while !isempty(stk) && stk[end] > ch && k > 0\n",
    "                pop!(stk)\n",
    "                k -= 1\n",
    "            end\n",
    "            push!(stk, ch)\n",
    "        end\n",
    "    end\n",
    "    idx = findfirst(x -> x != UInt8('0'), stk)\n",
    "    if idx === nothing\n",
    "        return \"0\"\n",
    "    end\n",
    "    return String(@view stk[idx:(end - k)])\n",
    "end\n",
    "# @lc code=end"
   ],
   "metadata": {},
   "execution_count": 1
  },
  {
   "cell_type": "markdown",
   "source": [
    "---\n",
    "\n",
    "*This notebook was generated using [Literate.jl](https://github.com/fredrikekre/Literate.jl).*"
   ],
   "metadata": {}
  }
 ],
 "nbformat_minor": 3,
 "metadata": {
  "language_info": {
   "file_extension": ".jl",
   "mimetype": "application/julia",
   "name": "julia",
   "version": "1.6.3"
  },
  "kernelspec": {
   "name": "julia-1.6",
   "display_name": "Julia 1.6.3",
   "language": "julia"
  }
 },
 "nbformat": 4
}
