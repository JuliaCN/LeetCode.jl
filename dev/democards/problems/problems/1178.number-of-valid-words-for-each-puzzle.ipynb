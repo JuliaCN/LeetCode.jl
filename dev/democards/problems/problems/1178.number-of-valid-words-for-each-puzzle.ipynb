{
 "cells": [
  {
   "cell_type": "markdown",
   "source": [
    "With respect to a given `puzzle` string, a `word` is _valid_  if both the\n",
    "following conditions are satisfied:\n",
    "\n",
    "  * `word` contains the first letter of `puzzle`.\n",
    "  * For each letter in `word`, that letter is in `puzzle`.\n",
    "For example, if the puzzle is \"abcdefg\", then valid words are \"faced\",\n",
    "\"cabbage\", and \"baggage\"; while invalid words are \"beefed\" (doesn't include\n",
    "\"a\") and \"based\" (includes \"s\" which isn't in the puzzle).\n",
    "\n",
    "Return an array `answer`, where `answer[i]` is the number of words in the\n",
    "given word list `words` that are valid with respect to the puzzle\n",
    "`puzzles[i]`.\n",
    "\n",
    "\n",
    "\n",
    "**Example :**\n",
    "\n",
    "\n",
    "\n",
    "    Input:\n",
    "    words = [\"aaaa\",\"asas\",\"able\",\"ability\",\"actt\",\"actor\",\"access\"],\n",
    "    puzzles = [\"aboveyz\",\"abrodyz\",\"abslute\",\"absoryz\",\"actresz\",\"gaswxyz\"]\n",
    "    Output: [1,1,3,2,4,0]\n",
    "    Explanation:\n",
    "    1 valid word for \"aboveyz\" : \"aaaa\"\n",
    "    1 valid word for \"abrodyz\" : \"aaaa\"\n",
    "    3 valid words for \"abslute\" : \"aaaa\", \"asas\", \"able\"\n",
    "    2 valid words for \"absoryz\" : \"aaaa\", \"asas\"\n",
    "    4 valid words for \"actresz\" : \"aaaa\", \"asas\", \"actt\", \"access\"\n",
    "    There're no valid words for \"gaswxyz\" cause none of the words in the list contains letter 'g'.\n",
    "\n",
    "\n",
    "\n",
    "\n",
    "**Constraints:**\n",
    "\n",
    "  * `1 <= words.length <= 10^5`\n",
    "  * `4 <= words[i].length <= 50`\n",
    "  * `1 <= puzzles.length <= 10^4`\n",
    "  * `puzzles[i].length == 7`\n",
    "  * `words[i][j]`, `puzzles[i][j]` are English lowercase letters.\n",
    "  * Each `puzzles[i] `doesn't contain repeated characters."
   ],
   "metadata": {}
  },
  {
   "outputs": [
    {
     "output_type": "execute_result",
     "data": {
      "text/plain": "find_num_of_valid_words (generic function with 1 method)"
     },
     "metadata": {},
     "execution_count": 1
    }
   ],
   "cell_type": "code",
   "source": [
    "# @lc code=start\n",
    "using LeetCode\n",
    "\n",
    "function get_bit_mask(word::String)::Int\n",
    "    mask = 0\n",
    "\n",
    "    for c in word\n",
    "        i = Int(c) - Int('a')\n",
    "        mask |= 1 << i\n",
    "    end\n",
    "\n",
    "    return mask\n",
    "end\n",
    "\n",
    "function find_num_of_valid_words(\n",
    "    words::Vector{String},\n",
    "    puzzles::Vector{String},\n",
    ")::Vector{Int}\n",
    "    letter_frequencies = Dict{Int,Int}()\n",
    "\n",
    "    for word in words\n",
    "        mask = get_bit_mask(word)\n",
    "        letter_frequencies[mask] = get(letter_frequencies, mask, 0) + 1\n",
    "    end\n",
    "\n",
    "    solution = fill(0, length(puzzles))\n",
    "\n",
    "    for (i, puzzle) in enumerate(puzzles)\n",
    "        mask = get_bit_mask(puzzle)\n",
    "        sub_mask = mask\n",
    "        first_bit_index = Int(puzzle[1]) - Int('a')\n",
    "\n",
    "        while true\n",
    "            if (sub_mask >> first_bit_index & 1) == 1\n",
    "                solution[i] += get(letter_frequencies, sub_mask, 0)\n",
    "            end\n",
    "            (sub_mask == 0) && break\n",
    "\n",
    "            sub_mask = (sub_mask - 1) & mask\n",
    "        end\n",
    "    end\n",
    "\n",
    "    return solution\n",
    "end\n",
    "# @lc code=end"
   ],
   "metadata": {},
   "execution_count": 1
  },
  {
   "cell_type": "markdown",
   "source": [
    "---\n",
    "\n",
    "*This notebook was generated using [Literate.jl](https://github.com/fredrikekre/Literate.jl).*"
   ],
   "metadata": {}
  }
 ],
 "nbformat_minor": 3,
 "metadata": {
  "language_info": {
   "file_extension": ".jl",
   "mimetype": "application/julia",
   "name": "julia",
   "version": "1.10.1"
  },
  "kernelspec": {
   "name": "julia-1.10",
   "display_name": "Julia 1.10.1",
   "language": "julia"
  }
 },
 "nbformat": 4
}
