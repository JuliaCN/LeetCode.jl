{
 "cells": [
  {
   "cell_type": "markdown",
   "source": [
    "Given two strings `s1, s2`, find the lowest ASCII sum of deleted characters to\n",
    "make two strings equal.\n",
    "\n",
    "**Example 1:**\n",
    "\n",
    "\n",
    "\n",
    "    Input: s1 = \"sea\", s2 = \"eat\"\n",
    "    Output: 231\n",
    "    Explanation: Deleting \"s\" from \"sea\" adds the ASCII value of \"s\" (115) to the sum.\n",
    "    Deleting \"t\" from \"eat\" adds 116 to the sum.\n",
    "    At the end, both strings are equal, and 115 + 116 = 231 is the minimum sum possible to achieve this.\n",
    "\n",
    "\n",
    "**Example 2:**\n",
    "\n",
    "\n",
    "\n",
    "    Input: s1 = \"delete\", s2 = \"leet\"\n",
    "    Output: 403\n",
    "    Explanation: Deleting \"dee\" from \"delete\" to turn the string into \"let\",\n",
    "    adds 100[d]+101[e]+101[e] to the sum.  Deleting \"e\" from \"leet\" adds 101[e] to the sum.\n",
    "    At the end, both strings are equal to \"let\", and the answer is 100+101+101+101 = 403.\n",
    "    If instead we turned both strings into \"lee\" or \"eet\", we would get answers of 433 or 417, which are higher.\n",
    "\n",
    "\n",
    "**Note:**\n",
    "\n",
    "* `0 < s1.length, s2.length <= 1000`.\n",
    "* All elements of each string will have an ASCII value in `[97, 122]`."
   ],
   "metadata": {}
  },
  {
   "outputs": [
    {
     "output_type": "execute_result",
     "data": {
      "text/plain": "minimum_delete_sum (generic function with 1 method)"
     },
     "metadata": {},
     "execution_count": 1
    }
   ],
   "cell_type": "code",
   "source": [
    "# @lc code=start\n",
    "using LeetCode\n",
    "\n",
    "function minimum_delete_sum(s1::String, s2::String)\n",
    "    m, n = length(s1) + 1, length(s2) + 1\n",
    "    dp = fill(0, m, n)\n",
    "    dp[2:end, 1] .= cumsum(codeunits(s1))\n",
    "    dp[1, 2:end] .= cumsum(codeunits(s2))\n",
    "    for i in 2:m, j in 2:n\n",
    "        dp[i, j] = (s1[i - 1] == s2[j - 1]) ? (dp[i - 1, j - 1]) :\n",
    "                   min(dp[i - 1, j] + Int(s1[i - 1]), dp[i, j - 1] + Int(s2[j - 1]))\n",
    "    end\n",
    "    return dp[m, n]\n",
    "end\n",
    "# @lc code=end"
   ],
   "metadata": {},
   "execution_count": 1
  },
  {
   "cell_type": "markdown",
   "source": [
    "---\n",
    "\n",
    "*This notebook was generated using [Literate.jl](https://github.com/fredrikekre/Literate.jl).*"
   ],
   "metadata": {}
  }
 ],
 "nbformat_minor": 3,
 "metadata": {
  "language_info": {
   "file_extension": ".jl",
   "mimetype": "application/julia",
   "name": "julia",
   "version": "1.6.4"
  },
  "kernelspec": {
   "name": "julia-1.6",
   "display_name": "Julia 1.6.4",
   "language": "julia"
  }
 },
 "nbformat": 4
}
