{
 "cells": [
  {
   "cell_type": "markdown",
   "source": [
    "A query word matches a given `pattern` if we can insert **lowercase** letters\n",
    "to the pattern word so that it equals the `query`. (We may insert each\n",
    "character at any position, and may insert 0 characters.)\n",
    "\n",
    "Given a list of `queries`, and a `pattern`, return an `answer` list of\n",
    "booleans, where `answer[i]` is true if and only if `queries[i]` matches the\n",
    "`pattern`.\n",
    "\n",
    "\n",
    "\n",
    "**Example 1:**\n",
    "\n",
    "\n",
    "\n",
    "    Input: queries = [\"FooBar\",\"FooBarTest\",\"FootBall\",\"FrameBuffer\",\"ForceFeedBack\"], pattern = \"FB\"\n",
    "    Output: [true,false,true,true,false]\n",
    "    Explanation:\n",
    "    \"FooBar\" can be generated like this \"F\" + \"oo\" + \"B\" + \"ar\".\n",
    "    \"FootBall\" can be generated like this \"F\" + \"oot\" + \"B\" + \"all\".\n",
    "    \"FrameBuffer\" can be generated like this \"F\" + \"rame\" + \"B\" + \"uffer\".\n",
    "\n",
    "**Example 2:**\n",
    "\n",
    "\n",
    "\n",
    "    Input: queries = [\"FooBar\",\"FooBarTest\",\"FootBall\",\"FrameBuffer\",\"ForceFeedBack\"], pattern = \"FoBa\"\n",
    "    Output: [true,false,true,false,false]\n",
    "    Explanation:\n",
    "    \"FooBar\" can be generated like this \"Fo\" + \"o\" + \"Ba\" + \"r\".\n",
    "    \"FootBall\" can be generated like this \"Fo\" + \"ot\" + \"Ba\" + \"ll\".\n",
    "\n",
    "\n",
    "**Example 3:**\n",
    "\n",
    "\n",
    "\n",
    "    Input: queries = [\"FooBar\",\"FooBarTest\",\"FootBall\",\"FrameBuffer\",\"ForceFeedBack\"], pattern = \"FoBaT\"\n",
    "    Output: [false,true,false,false,false]\n",
    "    Explanation:\n",
    "    \"FooBarTest\" can be generated like this \"Fo\" + \"o\" + \"Ba\" + \"r\" + \"T\" + \"est\".\n",
    "\n",
    "\n",
    "\n",
    "\n",
    "**Note:**\n",
    "\n",
    "  1. `1 <= queries.length <= 100`\n",
    "  2. `1 <= queries[i].length <= 100`\n",
    "  3. `1 <= pattern.length <= 100`\n",
    "  4. All strings consists only of lower and upper case English letters."
   ],
   "metadata": {}
  },
  {
   "outputs": [
    {
     "output_type": "execute_result",
     "data": {
      "text/plain": "camelMatch (generic function with 1 method)"
     },
     "metadata": {},
     "execution_count": 1
    }
   ],
   "cell_type": "code",
   "source": [
    "# @lc code=start\n",
    "using LeetCode\n",
    "\n",
    "function matches(query, pattern)\n",
    "    i, j = 1, 1\n",
    "    while i <= length(query) && j <= length(pattern)\n",
    "        if query[i] == pattern[j]\n",
    "            j += 1\n",
    "        elseif isuppercase(query[i])\n",
    "            return false\n",
    "        end\n",
    "        i += 1\n",
    "    end\n",
    "    return j > length(pattern) && all(islowercase, @view(query[i:end]))\n",
    "end\n",
    "\n",
    "camelMatch(queries, pattern) = matches.(queries, Ref(pattern))\n",
    "\n",
    "# @lc code=end"
   ],
   "metadata": {},
   "execution_count": 1
  },
  {
   "cell_type": "markdown",
   "source": [
    "---\n",
    "\n",
    "*This notebook was generated using [Literate.jl](https://github.com/fredrikekre/Literate.jl).*"
   ],
   "metadata": {}
  }
 ],
 "nbformat_minor": 3,
 "metadata": {
  "language_info": {
   "file_extension": ".jl",
   "mimetype": "application/julia",
   "name": "julia",
   "version": "1.10.4"
  },
  "kernelspec": {
   "name": "julia-1.10",
   "display_name": "Julia 1.10.4",
   "language": "julia"
  }
 },
 "nbformat": 4
}
