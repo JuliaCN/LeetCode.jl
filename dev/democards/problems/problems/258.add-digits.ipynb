{
 "cells": [
  {
   "cell_type": "markdown",
   "source": [
    "Given a non-negative integer `num`, repeatedly add all its digits until the\n",
    "result has only one digit.\n",
    "\n",
    "**Example:**\n",
    "\n",
    "\n",
    "\n",
    "    Input: 38\n",
    "    Output: 2\n",
    "    Explanation: The process is like: 3 + 8 = 11, 1 + 1 = 2.\n",
    "                 Since 2 has only one digit, return it.\n",
    "\n",
    "\n",
    "**Follow up:**\n",
    "Could you do it without any loop/recursion in O(1) runtime?"
   ],
   "metadata": {}
  },
  {
   "outputs": [
    {
     "output_type": "execute_result",
     "data": {
      "text/plain": "add_digits (generic function with 1 method)"
     },
     "metadata": {},
     "execution_count": 1
    }
   ],
   "cell_type": "code",
   "source": [
    "# @lc code=start\n",
    "using LeetCode\n",
    "\n",
    "function add_digits(num::Int)::Int\n",
    "    num <= 9 && return num\n",
    "    return iszero(num % 9) ? 9 : num % 9\n",
    "end\n",
    "# @lc code=end"
   ],
   "metadata": {},
   "execution_count": 1
  },
  {
   "cell_type": "markdown",
   "source": [
    "---\n",
    "\n",
    "*This notebook was generated using [Literate.jl](https://github.com/fredrikekre/Literate.jl).*"
   ],
   "metadata": {}
  }
 ],
 "nbformat_minor": 3,
 "metadata": {
  "language_info": {
   "file_extension": ".jl",
   "mimetype": "application/julia",
   "name": "julia",
   "version": "1.11.6"
  },
  "kernelspec": {
   "name": "julia-1.11",
   "display_name": "Julia 1.11.6",
   "language": "julia"
  }
 },
 "nbformat": 4
}
