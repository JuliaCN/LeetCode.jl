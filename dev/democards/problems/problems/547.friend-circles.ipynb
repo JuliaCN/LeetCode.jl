{
 "cells": [
  {
   "outputs": [],
   "cell_type": "code",
   "source": [
    "using DataStructures: merge"
   ],
   "metadata": {},
   "execution_count": 1
  },
  {
   "cell_type": "markdown",
   "source": [
    "---\n",
    "title: 547. Friend Circles\n",
    "id: problem547\n",
    "author: Indigo\n",
    "date: 2021-01-17\n",
    "difficulty: Medium\n",
    "categories: Depth-first Search, Union Find\n",
    "link: <https://leetcode.com/problems/friend-circles/description/>\n",
    "hidden: true\n",
    "---\n",
    "\n",
    "There are **N** students in a class. Some of them are friends, while some are\n",
    "not. Their friendship is transitive in nature. For example, if A is a\n",
    "**direct** friend of B, and B is a **direct** friend of C, then A is an\n",
    "**indirect** friend of C. And we defined a friend circle is a group of\n",
    "students who are direct or indirect friends.\n",
    "\n",
    "Given a **N*N** matrix **M** representing the friend relationship between\n",
    "students in the class. If M[i][j] = 1, then the ith and jth students are\n",
    "**direct** friends with each other, otherwise not. And you have to output the\n",
    "total number of friend circles among all the students.\n",
    "\n",
    "**Example 1:**\n",
    "\n",
    "\n",
    "\n",
    "    Input:\n",
    "    [[1,1,0],\n",
    "     [1,1,0],\n",
    "     [0,0,1]]\n",
    "    Output: 2\n",
    "    Explanation: The 0th and 1st students are direct friends, so they are in a friend circle.\n",
    "    The 2nd student himself is in a friend circle. So return 2.\n",
    "\n",
    "\n",
    "\n",
    "\n",
    "**Example 2:**\n",
    "\n",
    "\n",
    "\n",
    "    Input:\n",
    "    [[1,1,0],\n",
    "     [1,1,1],\n",
    "     [0,1,1]]\n",
    "    Output: 1\n",
    "    Explanation: The 0th and 1st students are direct friends, the 1st and 2nd students are direct friends,\n",
    "    so the 0th and 2nd students are indirect friends. All of them are in the same friend circle, so return 1.\n",
    "\n",
    "\n",
    "\n",
    "\n",
    "\n",
    "**Constraints:**\n",
    "\n",
    "  * `1 <= N <= 200`\n",
    "  * `M[i][i] == 1`\n",
    "  * `M[i][j] == M[j][i]`"
   ],
   "metadata": {}
  },
  {
   "outputs": [
    {
     "output_type": "execute_result",
     "data": {
      "text/plain": "find_circle_num (generic function with 1 method)"
     },
     "metadata": {},
     "execution_count": 2
    }
   ],
   "cell_type": "code",
   "source": [
    "# @lc code=start\n",
    "using LeetCode\n",
    "\n",
    "function find_circle_num(is_connected::Vector{Vector{Int}})\n",
    "    len = length(is_connected)\n",
    "    djst = IntDisjointSets(len)\n",
    "    for i in 1:len, j in (i + 1):len\n",
    "        (is_connected[i][j] == 1) && (root_union!(djst, i, j))\n",
    "    end\n",
    "    return djst.ngroups\n",
    "end\n",
    "# @lc code=end"
   ],
   "metadata": {},
   "execution_count": 2
  },
  {
   "cell_type": "markdown",
   "source": [
    "---\n",
    "\n",
    "*This notebook was generated using [Literate.jl](https://github.com/fredrikekre/Literate.jl).*"
   ],
   "metadata": {}
  }
 ],
 "nbformat_minor": 3,
 "metadata": {
  "language_info": {
   "file_extension": ".jl",
   "mimetype": "application/julia",
   "name": "julia",
   "version": "1.6.1"
  },
  "kernelspec": {
   "name": "julia-1.6",
   "display_name": "Julia 1.6.1",
   "language": "julia"
  }
 },
 "nbformat": 4
}
