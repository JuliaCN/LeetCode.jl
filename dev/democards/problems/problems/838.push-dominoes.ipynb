{
 "cells": [
  {
   "cell_type": "markdown",
   "source": [
    "There are `N` dominoes in a line, and we place each domino vertically upright.\n",
    "\n",
    "In the beginning, we simultaneously push some of the dominoes either to the\n",
    "left or to the right.\n",
    "\n",
    "![](https://s3-lc-upload.s3.amazonaws.com/uploads/2018/05/18/domino.png)\n",
    "\n",
    "After each second, each domino that is falling to the left pushes the adjacent\n",
    "domino on the left.\n",
    "\n",
    "Similarly, the dominoes falling to the right push their adjacent dominoes\n",
    "standing on the right.\n",
    "\n",
    "When a vertical domino has dominoes falling on it from both sides, it stays\n",
    "still due to the balance of the forces.\n",
    "\n",
    "For the purposes of this question, we will consider that a falling domino\n",
    "expends no additional force to a falling or already fallen domino.\n",
    "\n",
    "Given a string \"S\" representing the initial state. `S[i] = 'L'`, if the i-th\n",
    "domino has been pushed to the left; `S[i] = 'R'`, if the i-th domino has been\n",
    "pushed to the right; `S[i] = '.'`, if the `i`-th domino has not been pushed.\n",
    "\n",
    "Return a string representing the final state.\n",
    "\n",
    "**Example 1:**\n",
    "\n",
    "\n",
    "\n",
    "    Input: \".L.R...LR..L..\"\n",
    "    Output: \"LL.RR.LLRRLL..\"\n",
    "\n",
    "\n",
    "**Example 2:**\n",
    "\n",
    "\n",
    "\n",
    "    Input: \"RR.L\"\n",
    "    Output: \"RR.L\"\n",
    "    Explanation: The first domino expends no additional force on the second domino.\n",
    "\n",
    "\n",
    "**Note:**\n",
    "\n",
    "  1. `0 <= N <= 10^5`\n",
    "  2. String `dominoes` contains only `'L`', `'R'` and `'.'`"
   ],
   "metadata": {}
  },
  {
   "outputs": [
    {
     "output_type": "execute_result",
     "data": {
      "text/plain": "push_dominoes (generic function with 1 method)"
     },
     "metadata": {},
     "execution_count": 1
    }
   ],
   "cell_type": "code",
   "source": [
    "# @lc code=start\n",
    "using LeetCode\n",
    "\n",
    "function push_dominoes(dominoes::String)::String\n",
    "    ans = \"\"\n",
    "    rules = (\"R.L\" => \"T\", \".L\" => \"LL\", \"R.\" => \"RR\", \"T\" => \"R.L\")\n",
    "    while dominoes != ans\n",
    "        ans = dominoes\n",
    "        dominoes = foldl(replace, [dominoes, rules...])\n",
    "    end\n",
    "    return ans\n",
    "end\n",
    "# @lc code=end"
   ],
   "metadata": {},
   "execution_count": 1
  },
  {
   "cell_type": "markdown",
   "source": [
    "---\n",
    "\n",
    "*This notebook was generated using [Literate.jl](https://github.com/fredrikekre/Literate.jl).*"
   ],
   "metadata": {}
  }
 ],
 "nbformat_minor": 3,
 "metadata": {
  "language_info": {
   "file_extension": ".jl",
   "mimetype": "application/julia",
   "name": "julia",
   "version": "1.8.0"
  },
  "kernelspec": {
   "name": "julia-1.8",
   "display_name": "Julia 1.8.0",
   "language": "julia"
  }
 },
 "nbformat": 4
}
