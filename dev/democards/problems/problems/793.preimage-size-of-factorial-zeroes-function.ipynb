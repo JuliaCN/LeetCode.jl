{
 "cells": [
  {
   "cell_type": "markdown",
   "source": [
    "Let `f(x)` be the number of zeroes at the end of `x!`. (Recall that `x! = 1 *\n",
    "2 * 3 * ... * x`, and by convention, `0! = 1`.)\n",
    "\n",
    "For example, `f(3) = 0` because 3! = 6 has no zeroes at the end, while `f(11)\n",
    "= 2` because 11! = 39916800 has 2 zeroes at the end. Given `K`, find how many\n",
    "non-negative integers `x` have the property that `f(x) = K`.\n",
    "\n",
    "\n",
    "\n",
    "    **Example 1:**\n",
    "    Input: K = 0\n",
    "    Output: 5\n",
    "    Explanation: 0!, 1!, 2!, 3!, and 4! end with K = 0 zeroes.\n",
    "\n",
    "    **Example 2:**\n",
    "    Input: K = 5\n",
    "    Output: 0\n",
    "    Explanation: There is no x such that x! ends in K = 5 zeroes.\n",
    "\n",
    "\n",
    "**Note:**\n",
    "\n",
    "  * `K` will be an integer in the range `[0, 10^9]`."
   ],
   "metadata": {}
  },
  {
   "outputs": [
    {
     "output_type": "execute_result",
     "data": {
      "text/plain": "preimage_size_fzf (generic function with 1 method)"
     },
     "metadata": {},
     "execution_count": 1
    }
   ],
   "cell_type": "code",
   "source": [
    "# @lc code=start\n",
    "using LeetCode\n",
    "\n",
    "function preimage_size_fzf(K::Int)\n",
    "    zeta(x) = x > 0 ? x ÷ 5 + zeta(x ÷ 5) : 0\n",
    "    lo, hi = K, 5 * K + 1\n",
    "    while lo < hi\n",
    "        mid = (lo + hi) ÷ 2\n",
    "        z_mid = zeta(mid)\n",
    "        if z_mid == K\n",
    "            return 5\n",
    "        elseif z_mid < K\n",
    "            lo = mid + 1\n",
    "        else\n",
    "            hi = mid\n",
    "        end\n",
    "    end\n",
    "    return 0\n",
    "end\n",
    "# @lc code=end"
   ],
   "metadata": {},
   "execution_count": 1
  },
  {
   "cell_type": "markdown",
   "source": [
    "---\n",
    "\n",
    "*This notebook was generated using [Literate.jl](https://github.com/fredrikekre/Literate.jl).*"
   ],
   "metadata": {}
  }
 ],
 "nbformat_minor": 3,
 "metadata": {
  "language_info": {
   "file_extension": ".jl",
   "mimetype": "application/julia",
   "name": "julia",
   "version": "1.6.3"
  },
  "kernelspec": {
   "name": "julia-1.6",
   "display_name": "Julia 1.6.3",
   "language": "julia"
  }
 },
 "nbformat": 4
}
