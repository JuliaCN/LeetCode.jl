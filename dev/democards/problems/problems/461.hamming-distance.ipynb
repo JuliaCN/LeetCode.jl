{
 "cells": [
  {
   "cell_type": "markdown",
   "source": [
    "The [Hamming distance](https://en.wikipedia.org/wiki/Hamming_distance) between\n",
    "two integers is the number of positions at which the corresponding bits are\n",
    "different.\n",
    "\n",
    "Given two integers `x` and `y`, calculate the Hamming distance.\n",
    "\n",
    "**Note:**\n",
    "0 ≤ `x`, `y` < 231.\n",
    "\n",
    "**Example:**\n",
    "\n",
    "\n",
    "\n",
    "    Input: x = 1, y = 4\n",
    "\n",
    "    Output: 2\n",
    "\n",
    "    Explanation:\n",
    "    1   (0 0 0 1)\n",
    "    4   (0 1 0 0)\n",
    "           ↑   ↑\n",
    "\n",
    "    The above arrows point to positions where the corresponding bits are different."
   ],
   "metadata": {}
  },
  {
   "outputs": [
    {
     "output_type": "execute_result",
     "data": {
      "text/plain": "hamming_distance (generic function with 1 method)"
     },
     "metadata": {},
     "execution_count": 1
    }
   ],
   "cell_type": "code",
   "source": [
    "# @lc code=start\n",
    "using LeetCode\n",
    "\n",
    "function hamming_distance(x::Int, y::Int)\n",
    "    res = 0\n",
    "    while x != 0 || y != 0\n",
    "        res += (x & 1) ⊻ (y & 1)\n",
    "        x >>= 1\n",
    "        y >>= 1\n",
    "    end\n",
    "    res\n",
    "end\n",
    "# @lc code=end"
   ],
   "metadata": {},
   "execution_count": 1
  },
  {
   "cell_type": "markdown",
   "source": [
    "---\n",
    "\n",
    "*This notebook was generated using [Literate.jl](https://github.com/fredrikekre/Literate.jl).*"
   ],
   "metadata": {}
  }
 ],
 "nbformat_minor": 3,
 "metadata": {
  "language_info": {
   "file_extension": ".jl",
   "mimetype": "application/julia",
   "name": "julia",
   "version": "1.7.0"
  },
  "kernelspec": {
   "name": "julia-1.7",
   "display_name": "Julia 1.7.0",
   "language": "julia"
  }
 },
 "nbformat": 4
}
