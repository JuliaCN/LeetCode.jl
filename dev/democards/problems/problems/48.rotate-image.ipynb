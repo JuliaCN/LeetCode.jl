{
 "cells": [
  {
   "cell_type": "markdown",
   "source": [
    "You are given an _n_ x _n_ 2D `matrix` representing an image, rotate the image\n",
    "by 90 degrees (clockwise).\n",
    "\n",
    "You have to rotate the image [**in-place**](https://en.wikipedia.org/wiki/In-\n",
    "place_algorithm), which means you have to modify the input 2D matrix directly.\n",
    "**DO NOT** allocate another 2D matrix and do the rotation.\n",
    "\n",
    "\n",
    "\n",
    "**Example 1:**\n",
    "\n",
    "![](https://assets.leetcode.com/uploads/2020/08/28/mat1.jpg)\n",
    "\n",
    "\n",
    "\n",
    "    Input: matrix = [[1,2,3],[4,5,6],[7,8,9]]\n",
    "    Output: [[7,4,1],[8,5,2],[9,6,3]]\n",
    "\n",
    "\n",
    "**Example 2:**\n",
    "\n",
    "![](https://assets.leetcode.com/uploads/2020/08/28/mat2.jpg)\n",
    "\n",
    "\n",
    "\n",
    "    Input: matrix = [[5,1,9,11],[2,4,8,10],[13,3,6,7],[15,14,12,16]]\n",
    "    Output: [[15,13,2,5],[14,3,4,1],[12,6,8,9],[16,7,10,11]]\n",
    "\n",
    "\n",
    "**Example 3:**\n",
    "\n",
    "\n",
    "\n",
    "    Input: matrix = [[1]]\n",
    "    Output: [[1]]\n",
    "\n",
    "\n",
    "**Example 4:**\n",
    "\n",
    "\n",
    "\n",
    "    Input: matrix = [[1,2],[3,4]]\n",
    "    Output: [[3,1],[4,2]]\n",
    "\n",
    "\n",
    "\n",
    "\n",
    "**Constraints:**\n",
    "\n",
    "  * `matrix.length == n`\n",
    "  * `matrix[i].length == n`\n",
    "  * `1 <= n <= 20`\n",
    "  * `-1000 <= matrix[i][j] <= 1000`"
   ],
   "metadata": {}
  },
  {
   "outputs": [
    {
     "output_type": "execute_result",
     "data": {
      "text/plain": "rotate_48 (generic function with 1 method)"
     },
     "metadata": {},
     "execution_count": 1
    }
   ],
   "cell_type": "code",
   "source": [
    "# @lc code=start\n",
    "using LeetCode\n",
    "\n",
    "function rotate_48(matrix::Matrix{Int})\n",
    "    n = size(matrix, 1)\n",
    "    for i in 1:div(n, 2), j in i:(n - i)\n",
    "        matrix[i, j], matrix[j, n + 1 - i], matrix[n + 1 - i, n + 1 - j], matrix[n + 1 - j, i] = matrix[\n",
    "            n + 1 - j, i\n",
    "        ],\n",
    "        matrix[i, j], matrix[j, n + 1 - i],\n",
    "        matrix[n + 1 - i, n + 1 - j]\n",
    "    end\n",
    "    return matrix\n",
    "end\n",
    "# @lc code=end"
   ],
   "metadata": {},
   "execution_count": 1
  },
  {
   "cell_type": "markdown",
   "source": [
    "---\n",
    "\n",
    "*This notebook was generated using [Literate.jl](https://github.com/fredrikekre/Literate.jl).*"
   ],
   "metadata": {}
  }
 ],
 "nbformat_minor": 3,
 "metadata": {
  "language_info": {
   "file_extension": ".jl",
   "mimetype": "application/julia",
   "name": "julia",
   "version": "1.8.2"
  },
  "kernelspec": {
   "name": "julia-1.8",
   "display_name": "Julia 1.8.2",
   "language": "julia"
  }
 },
 "nbformat": 4
}
