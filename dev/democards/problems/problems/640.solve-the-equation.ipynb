{
 "cells": [
  {
   "cell_type": "markdown",
   "source": [
    "Solve a given equation and return the value of `x` in the form of string\n",
    "\"x=#value\". The equation contains only '+', '-' operation, the variable `x`\n",
    "and its coefficient.\n",
    "\n",
    "If there is no solution for the equation, return \"No solution\".\n",
    "\n",
    "If there are infinite solutions for the equation, return \"Infinite solutions\".\n",
    "\n",
    "If there is exactly one solution for the equation, we ensure that the value of\n",
    "`x` is an integer.\n",
    "\n",
    "**Example 1:**\n",
    "\n",
    "\n",
    "\n",
    "    Input: \"x+5-3+x=6+x-2\"\n",
    "    Output: \"x=2\"\n",
    "\n",
    "\n",
    "**Example 2:**\n",
    "\n",
    "\n",
    "\n",
    "    Input: \"x=x\"\n",
    "    Output: \"Infinite solutions\"\n",
    "\n",
    "\n",
    "**Example 3:**\n",
    "\n",
    "\n",
    "\n",
    "    Input: \"2x=x\"\n",
    "    Output: \"x=0\"\n",
    "\n",
    "\n",
    "**Example 4:**\n",
    "\n",
    "\n",
    "\n",
    "    Input: \"2x+3x-6x=x+2\"\n",
    "    Output: \"x=-1\"\n",
    "\n",
    "\n",
    "**Example 5:**\n",
    "\n",
    "\n",
    "\n",
    "    Input: \"x=x+2\"\n",
    "    Output: \"No solution\""
   ],
   "metadata": {}
  },
  {
   "outputs": [
    {
     "output_type": "execute_result",
     "data": {
      "text/plain": "solve_equation (generic function with 1 method)"
     },
     "metadata": {},
     "execution_count": 1
    }
   ],
   "cell_type": "code",
   "source": [
    "# @lc code=start\n",
    "using LeetCode\n",
    "\n",
    "function solve_equation(equation::AbstractString)\n",
    "    function removex(expr)\n",
    "        isempty(expr) && return [0, 0]\n",
    "        last(expr) == 'x' || return [parse(Int, expr), 0]\n",
    "        expr == \"x\" && return [0, 1]\n",
    "        return [0, parse(Int, expr[1:(end - 1)])]\n",
    "    end\n",
    "\n",
    "    function removesub(expr)\n",
    "        exprs = split(expr, '-')\n",
    "        pos = removex(first(exprs))\n",
    "        return length(exprs) == 1 ? pos : pos - sum(removex.(@view(exprs[2:end])))\n",
    "    end\n",
    "\n",
    "    removeplus(expr) = sum(removesub.(split(expr, '+')))\n",
    "    left, right = removeplus.(split(equation, '='))\n",
    "    num, den = left - right\n",
    "    # 0x + b = 0\n",
    "    den == 0 && return num == 0 ? \"Infinite solutions\" : \"No solution\"\n",
    "    return \"x=$(-Int(num/den))\"\n",
    "end\n",
    "\n",
    "# @lc code=end"
   ],
   "metadata": {},
   "execution_count": 1
  },
  {
   "cell_type": "markdown",
   "source": [
    "---\n",
    "\n",
    "*This notebook was generated using [Literate.jl](https://github.com/fredrikekre/Literate.jl).*"
   ],
   "metadata": {}
  }
 ],
 "nbformat_minor": 3,
 "metadata": {
  "language_info": {
   "file_extension": ".jl",
   "mimetype": "application/julia",
   "name": "julia",
   "version": "1.10.4"
  },
  "kernelspec": {
   "name": "julia-1.10",
   "display_name": "Julia 1.10.4",
   "language": "julia"
  }
 },
 "nbformat": 4
}
