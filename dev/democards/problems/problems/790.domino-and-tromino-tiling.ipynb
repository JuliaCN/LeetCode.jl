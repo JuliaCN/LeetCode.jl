{
 "cells": [
  {
   "cell_type": "markdown",
   "source": [
    "We have two types of tiles: a 2x1 domino shape, and an \"L\" tromino shape.\n",
    "These shapes may be rotated.\n",
    "\n",
    "\n",
    "\n",
    "    XX  <- domino\n",
    "\n",
    "    XX  <- \"L\" tromino\n",
    "    X\n",
    "\n",
    "\n",
    "Given N, how many ways are there to tile a 2 x N board? **Return your answer\n",
    "modulo 10^9 + 7**.\n",
    "\n",
    "(In a tiling, every square must be covered by a tile. Two tilings are\n",
    "different if and only if there are two 4-directionally adjacent cells on the\n",
    "board such that exactly one of the tilings has both squares occupied by a\n",
    "tile.)\n",
    "\n",
    "\n",
    "\n",
    "    **Example:**\n",
    "    Input: 3\n",
    "    Output: 5\n",
    "    Explanation:\n",
    "    The five different ways are listed below, different letters indicates different tiles:\n",
    "    XYZ XXZ XYY XXY XYY\n",
    "    XYZ YYZ XZZ XYY XXY\n",
    "\n",
    "**Note:**\n",
    "\n",
    "  * N  will be in range `[1, 1000]`."
   ],
   "metadata": {}
  },
  {
   "outputs": [
    {
     "output_type": "execute_result",
     "data": {
      "text/plain": "num_tilings (generic function with 1 method)"
     },
     "metadata": {},
     "execution_count": 1
    }
   ],
   "cell_type": "code",
   "source": [
    "# @lc code=start\n",
    "using LeetCode\n",
    "\n",
    "function num_tilings(N::Int)\n",
    "    f0, f1= 1, 1\n",
    "    g0, g1 = 0, 1\n",
    "    for i in 1:N-1\n",
    "        f0, f1, g0, g1 = f1, f0 + f1 + 2 * g0, g1, g1 + f1\n",
    "    end\n",
    "    f1\n",
    "end\n",
    "# @lc code=end"
   ],
   "metadata": {},
   "execution_count": 1
  },
  {
   "cell_type": "markdown",
   "source": [
    "---\n",
    "\n",
    "*This notebook was generated using [Literate.jl](https://github.com/fredrikekre/Literate.jl).*"
   ],
   "metadata": {}
  }
 ],
 "nbformat_minor": 3,
 "metadata": {
  "language_info": {
   "file_extension": ".jl",
   "mimetype": "application/julia",
   "name": "julia",
   "version": "1.6.2"
  },
  "kernelspec": {
   "name": "julia-1.6",
   "display_name": "Julia 1.6.2",
   "language": "julia"
  }
 },
 "nbformat": 4
}
