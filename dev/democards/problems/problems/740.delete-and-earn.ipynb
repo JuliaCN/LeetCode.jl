{
 "cells": [
  {
   "cell_type": "markdown",
   "source": [
    "Given an array `nums` of integers, you can perform operations on the array.\n",
    "\n",
    "In each operation, you pick any `nums[i]` and delete it to earn `nums[i]`\n",
    "points. After, you must delete **every** element equal to `nums[i] - 1` or\n",
    "`nums[i] + 1`.\n",
    "\n",
    "You start with 0 points. Return the maximum number of points you can earn by\n",
    "applying such operations.\n",
    "\n",
    "**Example 1:**\n",
    "\n",
    "\n",
    "\n",
    "    Input: nums = [3, 4, 2]\n",
    "    Output: 6\n",
    "    Explanation:\n",
    "    Delete 4 to earn 4 points, consequently 3 is also deleted.\n",
    "    Then, delete 2 to earn 2 points. 6 total points are earned.\n",
    "\n",
    "\n",
    "\n",
    "\n",
    "**Example 2:**\n",
    "\n",
    "\n",
    "\n",
    "    Input: nums = [2, 2, 3, 3, 3, 4]\n",
    "    Output: 9\n",
    "    Explanation:\n",
    "    Delete 3 to earn 3 points, deleting both 2's and the 4.\n",
    "    Then, delete 3 again to earn 3 points, and 3 again to earn 3 points.\n",
    "    9 total points are earned.\n",
    "\n",
    "\n",
    "\n",
    "\n",
    "**Note:**\n",
    "\n",
    "  * The length of `nums` is at most `20000`.\n",
    "  * Each element `nums[i]` is an integer in the range `[1, 10000]`."
   ],
   "metadata": {}
  },
  {
   "outputs": [
    {
     "output_type": "execute_result",
     "data": {
      "text/plain": "delete_and_earn (generic function with 1 method)"
     },
     "metadata": {},
     "execution_count": 1
    }
   ],
   "cell_type": "code",
   "source": [
    "# @lc code=start\n",
    "using LeetCode\n",
    "\n",
    "function delete_and_earn(nums::Vector{Int})\n",
    "    if length(nums) == 0\n",
    "        return 0\n",
    "    elseif length(nums) == 1\n",
    "        return nums[1]\n",
    "    end\n",
    "    cntr = fill(0, maximum(nums))\n",
    "    for num in nums\n",
    "        cntr[num] += num\n",
    "    end\n",
    "    fst, scd = cntr[1], max(cntr[2], cntr[1])\n",
    "    for i in 3:length(cntr)\n",
    "        fst, scd = scd, max(fst + cntr[i], scd)\n",
    "    end\n",
    "    return scd\n",
    "end\n",
    "# @lc code=end"
   ],
   "metadata": {},
   "execution_count": 1
  },
  {
   "cell_type": "markdown",
   "source": [
    "---\n",
    "\n",
    "*This notebook was generated using [Literate.jl](https://github.com/fredrikekre/Literate.jl).*"
   ],
   "metadata": {}
  }
 ],
 "nbformat_minor": 3,
 "metadata": {
  "language_info": {
   "file_extension": ".jl",
   "mimetype": "application/julia",
   "name": "julia",
   "version": "1.6.3"
  },
  "kernelspec": {
   "name": "julia-1.6",
   "display_name": "Julia 1.6.3",
   "language": "julia"
  }
 },
 "nbformat": 4
}
