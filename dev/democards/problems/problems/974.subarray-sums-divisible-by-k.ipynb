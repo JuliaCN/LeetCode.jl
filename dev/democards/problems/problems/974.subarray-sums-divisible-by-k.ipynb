{
 "cells": [
  {
   "cell_type": "markdown",
   "source": [
    "Given an array `A` of integers, return the number of (contiguous, non-empty)\n",
    "subarrays that have a sum divisible by `K`.\n",
    "\n",
    "\n",
    "\n",
    "**Example 1:**\n",
    "\n",
    "\n",
    "\n",
    "    Input: A = [4,5,0,-2,-3,1], K = 5\n",
    "    Output: 7\n",
    "    Explanation: There are 7 subarrays with a sum divisible by K = 5:\n",
    "    [4, 5, 0, -2, -3, 1], [5], [5, 0], [5, 0, -2, -3], [0], [0, -2, -3], [-2, -3]\n",
    "\n",
    "\n",
    "\n",
    "\n",
    "**Note:**\n",
    "\n",
    "  1. `1 <= A.length <= 30000`\n",
    "  2. `-10000 <= A[i] <= 10000`\n",
    "  3. `2 <= K <= 10000`"
   ],
   "metadata": {}
  },
  {
   "outputs": [
    {
     "output_type": "execute_result",
     "data": {
      "text/plain": "subarrays_div_by_k (generic function with 1 method)"
     },
     "metadata": {},
     "execution_count": 1
    }
   ],
   "cell_type": "code",
   "source": [
    "# @lc code=start\n",
    "using LeetCode\n",
    "\n",
    "function subarrays_div_by_k(A::Vector{Int}, K::Int)\n",
    "    dct = DefaultDict{Int,Int}(0)\n",
    "    dct[0] = 1\n",
    "    prex = res = 0\n",
    "    for num in A\n",
    "        prex = mod(num + prex, K)\n",
    "        res += dct[prex]\n",
    "        dct[prex] += 1\n",
    "    end\n",
    "    res\n",
    "end\n",
    "# @lc code=end"
   ],
   "metadata": {},
   "execution_count": 1
  },
  {
   "cell_type": "markdown",
   "source": [
    "---\n",
    "\n",
    "*This notebook was generated using [Literate.jl](https://github.com/fredrikekre/Literate.jl).*"
   ],
   "metadata": {}
  }
 ],
 "nbformat_minor": 3,
 "metadata": {
  "language_info": {
   "file_extension": ".jl",
   "mimetype": "application/julia",
   "name": "julia",
   "version": "1.8.0"
  },
  "kernelspec": {
   "name": "julia-1.8",
   "display_name": "Julia 1.8.0",
   "language": "julia"
  }
 },
 "nbformat": 4
}
