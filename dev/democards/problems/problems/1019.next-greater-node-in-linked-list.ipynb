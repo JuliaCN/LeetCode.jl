{
 "cells": [
  {
   "cell_type": "markdown",
   "source": [
    "We are given a linked list with `head` as the first node.  Let's number the\n",
    "nodes in the list: `node_1, node_2, node_3, ...` etc.\n",
    "\n",
    "Each node may have a _next larger_ **value** : for `node_i`,\n",
    "`next_larger(node_i)` is the `node_j.val` such that `j > i`, `node_j.val >\n",
    "node_i.val`, and `j` is the smallest possible choice.  If such a `j` does not\n",
    "exist, the next larger value is `0`.\n",
    "\n",
    "Return an array of integers `answer`, where `answer[i] =\n",
    "next_larger(node_{i+1})`.\n",
    "\n",
    "Note that in the example **inputs**  (not outputs) below, arrays such as\n",
    "`[2,1,5]` represent the serialization of a linked list with a head node value\n",
    "of 2, second node value of 1, and third node value of 5.\n",
    "\n",
    "\n",
    "\n",
    "**Example 1:**\n",
    "\n",
    "\n",
    "\n",
    "    Input: [2,1,5]\n",
    "    Output: [5,5,0]\n",
    "\n",
    "\n",
    "**Example 2:**\n",
    "\n",
    "\n",
    "\n",
    "    Input: [2,7,4,3,5]\n",
    "    Output: [7,0,5,5,0]\n",
    "\n",
    "\n",
    "**Example 3:**\n",
    "\n",
    "\n",
    "\n",
    "    Input: [1,7,5,1,9,2,5,1]\n",
    "    Output: [7,9,9,9,0,5,0,0]\n",
    "\n",
    "\n",
    "\n",
    "\n",
    "**Note:**\n",
    "\n",
    "  1. `1 <= node.val <= 10^9` for each node in the linked list.\n",
    "  2. The given list has length in the range `[0, 10000]`."
   ],
   "metadata": {}
  },
  {
   "outputs": [
    {
     "output_type": "execute_result",
     "data": {
      "text/plain": "next_larger_nodes (generic function with 1 method)"
     },
     "metadata": {},
     "execution_count": 1
    }
   ],
   "cell_type": "code",
   "source": [
    "# @lc code=start\n",
    "using LeetCode\n",
    "\n",
    "function next_larger_nodes(head::ListNode{Int})\n",
    "    head = reverse_list(head)\n",
    "    stk = Int[]\n",
    "    res = Int[]\n",
    "    while !isnothing(head)\n",
    "        while !isempty(stk) && stk[end] <= val(head)\n",
    "            pop!(stk)\n",
    "        end\n",
    "        pushfirst!(res, isempty(stk) ? 0 : stk[end])\n",
    "        push!(stk, val(head))\n",
    "        head = next(head)\n",
    "    end\n",
    "    return res\n",
    "end\n",
    "# @lc code=end"
   ],
   "metadata": {},
   "execution_count": 1
  },
  {
   "cell_type": "markdown",
   "source": [
    "---\n",
    "\n",
    "*This notebook was generated using [Literate.jl](https://github.com/fredrikekre/Literate.jl).*"
   ],
   "metadata": {}
  }
 ],
 "nbformat_minor": 3,
 "metadata": {
  "language_info": {
   "file_extension": ".jl",
   "mimetype": "application/julia",
   "name": "julia",
   "version": "1.10.1"
  },
  "kernelspec": {
   "name": "julia-1.10",
   "display_name": "Julia 1.10.1",
   "language": "julia"
  }
 },
 "nbformat": 4
}
