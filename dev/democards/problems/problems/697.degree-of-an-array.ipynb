{
 "cells": [
  {
   "cell_type": "markdown",
   "source": [
    "Given a non-empty array of non-negative integers `nums`, the **degree** of\n",
    "this array is defined as the maximum frequency of any one of its elements.\n",
    "\n",
    "Your task is to find the smallest possible length of a (contiguous) subarray\n",
    "of `nums`, that has the same degree as `nums`.\n",
    "\n",
    "\n",
    "\n",
    "**Example 1:**\n",
    "\n",
    "\n",
    "\n",
    "    Input: nums = [1,2,2,3,1]\n",
    "    Output: 2\n",
    "    Explanation:\n",
    "    The input array has a degree of 2 because both elements 1 and 2 appear twice.\n",
    "    Of the subarrays that have the same degree:\n",
    "    [1, 2, 2, 3, 1], [1, 2, 2, 3], [2, 2, 3, 1], [1, 2, 2], [2, 2, 3], [2, 2]\n",
    "    The shortest length is 2. So return 2.\n",
    "\n",
    "\n",
    "**Example 2:**\n",
    "\n",
    "\n",
    "\n",
    "    Input: nums = [1,2,2,3,1,4,2]\n",
    "    Output: 6\n",
    "    Explanation:\n",
    "    The degree is 3 because the element 2 is repeated 3 times.\n",
    "    So [2,2,3,1,4,2] is the shortest subarray, therefore returning 6.\n",
    "\n",
    "\n",
    "\n",
    "\n",
    "**Constraints:**\n",
    "\n",
    "  * `nums.length` will be between 1 and 50,000.\n",
    "  * `nums[i]` will be an integer between 0 and 49,999."
   ],
   "metadata": {}
  },
  {
   "outputs": [
    {
     "output_type": "execute_result",
     "data": {
      "text/plain": "find_shortest_sub_array (generic function with 1 method)"
     },
     "metadata": {},
     "execution_count": 1
    }
   ],
   "cell_type": "code",
   "source": [
    "# @lc code=start\n",
    "using LeetCode\n",
    "\n",
    "function find_shortest_sub_array(nums::Vector{Int})\n",
    "    mp = Dict{Int,Vector{Int}}()\n",
    "\n",
    "    for (idx, num) in enumerate(nums)\n",
    "        if num in keys(mp)\n",
    "            mp[num][1] += 1\n",
    "            mp[num][3] = idx\n",
    "        else\n",
    "            mp[num] = [1, idx, idx]\n",
    "        end\n",
    "    end\n",
    "    maxn = minlen = 0\n",
    "    for (cnt, l, r) in values(mp)\n",
    "        if maxn < cnt\n",
    "            maxn = cnt\n",
    "            minlen = r - l + 1\n",
    "        elseif maxn == cnt\n",
    "            minlen = min(minlen, r - l + 1)\n",
    "        end\n",
    "    end\n",
    "    minlen\n",
    "end\n",
    "# @lc code=end"
   ],
   "metadata": {},
   "execution_count": 1
  },
  {
   "cell_type": "markdown",
   "source": [
    "---\n",
    "\n",
    "*This notebook was generated using [Literate.jl](https://github.com/fredrikekre/Literate.jl).*"
   ],
   "metadata": {}
  }
 ],
 "nbformat_minor": 3,
 "metadata": {
  "language_info": {
   "file_extension": ".jl",
   "mimetype": "application/julia",
   "name": "julia",
   "version": "1.6.1"
  },
  "kernelspec": {
   "name": "julia-1.6",
   "display_name": "Julia 1.6.1",
   "language": "julia"
  }
 },
 "nbformat": 4
}
