{
 "cells": [
  {
   "cell_type": "markdown",
   "source": [
    "Given an integer array `nums`, in which exactly two elements appear only once\n",
    "and all the other elements appear exactly twice. Find the two elements that\n",
    "appear only once. You can return the answer in **any order**.\n",
    "\n",
    "**Follow up:  **Your algorithm should run in linear runtime complexity. Could\n",
    "you implement it using only constant space complexity?\n",
    "\n",
    "\n",
    "\n",
    "**Example 1:**\n",
    "\n",
    "\n",
    "\n",
    "    Input: nums = [1,2,1,3,2,5]\n",
    "    Output: [3,5]\n",
    "    Explanation: [5, 3] is also a valid answer.\n",
    "\n",
    "\n",
    "**Example 2:**\n",
    "\n",
    "\n",
    "\n",
    "    Input: nums = [-1,0]\n",
    "    Output: [-1,0]\n",
    "\n",
    "\n",
    "**Example 3:**\n",
    "\n",
    "\n",
    "\n",
    "    Input: nums = [0,1]\n",
    "    Output: [1,0]\n",
    "\n",
    "\n",
    "\n",
    "\n",
    "**Constraints:**\n",
    "\n",
    "  * `1 <= nums.length <= 30000`\n",
    "  *  Each integer in `nums` will appear twice, only two integers will appear once."
   ],
   "metadata": {}
  },
  {
   "outputs": [
    {
     "output_type": "execute_result",
     "data": {
      "text/plain": "single_number_iii (generic function with 1 method)"
     },
     "metadata": {},
     "execution_count": 1
    }
   ],
   "cell_type": "code",
   "source": [
    "# @lc code=start\n",
    "using LeetCode\n",
    "\n",
    "function single_number_iii(nums::Vector{T}) where T <: Integer\n",
    "    res = reduce(⊻, nums; init = zero(T))\n",
    "    div = one(T)\n",
    "    while (div & res) == 0\n",
    "        div <<= one(T)\n",
    "    end\n",
    "    a = b = 0\n",
    "    for n in nums\n",
    "        (div & n == 0) ? a ⊻= n : b ⊻= n\n",
    "    end\n",
    "    return a, b\n",
    "end\n",
    "# @lc code=end"
   ],
   "metadata": {},
   "execution_count": 1
  },
  {
   "cell_type": "markdown",
   "source": [
    "---\n",
    "\n",
    "*This notebook was generated using [Literate.jl](https://github.com/fredrikekre/Literate.jl).*"
   ],
   "metadata": {}
  }
 ],
 "nbformat_minor": 3,
 "metadata": {
  "language_info": {
   "file_extension": ".jl",
   "mimetype": "application/julia",
   "name": "julia",
   "version": "1.6.3"
  },
  "kernelspec": {
   "name": "julia-1.6",
   "display_name": "Julia 1.6.3",
   "language": "julia"
  }
 },
 "nbformat": 4
}
