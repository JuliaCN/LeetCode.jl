{
 "cells": [
  {
   "cell_type": "markdown",
   "source": [
    "Given an array `nums`, write a function to move all `0`'s to the end of it\n",
    "while maintaining the relative order of the non-zero elements.\n",
    "\n",
    "**Example:**\n",
    "\n",
    "\n",
    "\n",
    "    Input: [0,1,0,3,12]\n",
    "    Output: [1,3,12,0,0]\n",
    "\n",
    "**Note** :\n",
    "\n",
    "  1. You must do this **in-place** without making a copy of the array.\n",
    "  2. Minimize the total number of operations."
   ],
   "metadata": {}
  },
  {
   "outputs": [
    {
     "output_type": "execute_result",
     "data": {
      "text/plain": "move_zeros! (generic function with 1 method)"
     },
     "metadata": {},
     "execution_count": 1
    }
   ],
   "cell_type": "code",
   "source": [
    "# @lc code=start\n",
    "using LeetCode\n",
    "\n",
    "# use double pointers\n",
    "function move_zeros!(nums::Vector{Int})::Nothing\n",
    "    p2 = 1\n",
    "    for p1 in 1:length(nums)\n",
    "        if nums[p1] != 0\n",
    "            nums[p1], nums[p2] = nums[p2], nums[p1]\n",
    "            p2 += 1\n",
    "        end\n",
    "    end\n",
    "    return nothing\n",
    "end\n",
    "\n",
    "# @lc code=end"
   ],
   "metadata": {},
   "execution_count": 1
  },
  {
   "cell_type": "markdown",
   "source": [
    "---\n",
    "\n",
    "*This notebook was generated using [Literate.jl](https://github.com/fredrikekre/Literate.jl).*"
   ],
   "metadata": {}
  }
 ],
 "nbformat_minor": 3,
 "metadata": {
  "language_info": {
   "file_extension": ".jl",
   "mimetype": "application/julia",
   "name": "julia",
   "version": "1.8.0"
  },
  "kernelspec": {
   "name": "julia-1.8",
   "display_name": "Julia 1.8.0",
   "language": "julia"
  }
 },
 "nbformat": 4
}
