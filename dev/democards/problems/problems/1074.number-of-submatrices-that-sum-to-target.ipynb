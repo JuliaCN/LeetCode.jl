{
 "cells": [
  {
   "cell_type": "markdown",
   "source": [
    "Given a `matrix` and a `target`, return the number of non-empty submatrices\n",
    "that sum to target.\n",
    "\n",
    "A submatrix `x1, y1, x2, y2` is the set of all cells `matrix[x][y]` with `x1\n",
    "<= x <= x2` and `y1 <= y <= y2`.\n",
    "\n",
    "Two submatrices `(x1, y1, x2, y2)` and `(x1', y1', x2', y2')` are different if\n",
    "they have some coordinate that is different: for example, if `x1 != x1'`.\n",
    "\n",
    "\n",
    "\n",
    "**Example 1:**\n",
    "\n",
    "![](https://assets.leetcode.com/uploads/2020/09/02/mate1.jpg)\n",
    "\n",
    "\n",
    "\n",
    "    Input: matrix = [[0,1,0],[1,1,1],[0,1,0]], target = 0\n",
    "    Output: 4\n",
    "    Explanation: The four 1x1 submatrices that only contain 0.\n",
    "\n",
    "\n",
    "**Example 2:**\n",
    "\n",
    "\n",
    "\n",
    "    Input: matrix = [[1,-1],[-1,1]], target = 0\n",
    "    Output: 5\n",
    "    Explanation: The two 1x2 submatrices, plus the two 2x1 submatrices, plus the 2x2 submatrix.\n",
    "\n",
    "\n",
    "**Example 3:**\n",
    "\n",
    "\n",
    "\n",
    "    Input: matrix = [[904]], target = 0\n",
    "    Output: 0\n",
    "\n",
    "\n",
    "\n",
    "\n",
    "**Constraints:**\n",
    "\n",
    "  * `1 <= matrix.length <= 100`\n",
    "  * `1 <= matrix[0].length <= 100`\n",
    "  * `-1000 <= matrix[i] <= 1000`\n",
    "  * `-10^8 <= target <= 10^8`"
   ],
   "metadata": {}
  },
  {
   "outputs": [
    {
     "output_type": "execute_result",
     "data": {
      "text/plain": "num_submatrix_sum_target (generic function with 1 method)"
     },
     "metadata": {},
     "execution_count": 1
    }
   ],
   "cell_type": "code",
   "source": [
    "# @lc code=start\n",
    "using LeetCode\n",
    "\n",
    "function num_submatrix_sum_target(matrix::AbstractMatrix{Int}, target::Int)\n",
    "    m, n = size(matrix)\n",
    "    m > n && return num_submatrix_sum_target(matrix', target)\n",
    "    pref_sum = OffsetArray(fill(0, m + 1, n + 1), -1, -1)\n",
    "\n",
    "    for i in 1:m, j in 1:n\n",
    "        pref_sum[i, j] = pref_sum[i - 1, j] + pref_sum[i, j - 1] + matrix[i, j] - pref_sum[i - 1, j - 1]\n",
    "    end\n",
    "    res = 0\n",
    "    for tp in 1:m, bot in tp:m\n",
    "        sum_cnt = Dict{Int, Int}()\n",
    "        for r in 1:n\n",
    "            rows_sum = pref_sum[bot, r] - pref_sum[tp - 1, r]\n",
    "            rows_sum == target && (res += 1)\n",
    "            res += get(sum_cnt, rows_sum - target, 0)\n",
    "            sum_cnt[rows_sum] = get(sum_cnt, rows_sum, 0) + 1\n",
    "        end\n",
    "    end\n",
    "    return res\n",
    "end\n",
    "# @lc code=end"
   ],
   "metadata": {},
   "execution_count": 1
  },
  {
   "cell_type": "markdown",
   "source": [
    "---\n",
    "\n",
    "*This notebook was generated using [Literate.jl](https://github.com/fredrikekre/Literate.jl).*"
   ],
   "metadata": {}
  }
 ],
 "nbformat_minor": 3,
 "metadata": {
  "language_info": {
   "file_extension": ".jl",
   "mimetype": "application/julia",
   "name": "julia",
   "version": "1.7.2"
  },
  "kernelspec": {
   "name": "julia-1.7",
   "display_name": "Julia 1.7.2",
   "language": "julia"
  }
 },
 "nbformat": 4
}
