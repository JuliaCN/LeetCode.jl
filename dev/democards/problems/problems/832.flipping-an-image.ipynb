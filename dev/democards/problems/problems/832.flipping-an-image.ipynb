{
 "cells": [
  {
   "cell_type": "markdown",
   "source": [
    "Given a binary matrix `A`, we want to flip the image horizontally, then invert\n",
    "it, and return the resulting image.\n",
    "\n",
    "To flip an image horizontally means that each row of the image is reversed.\n",
    "For example, flipping `[1, 1, 0]` horizontally results in `[0, 1, 1]`.\n",
    "\n",
    "To invert an image means that each `0` is replaced by `1`, and each `1` is\n",
    "replaced by `0`. For example, inverting `[0, 1, 1]` results in `[1, 0, 0]`.\n",
    "\n",
    "**Example 1:**\n",
    "\n",
    "\n",
    "\n",
    "    Input: [[1,1,0],[1,0,1],[0,0,0]]\n",
    "    Output: [[1,0,0],[0,1,0],[1,1,1]]\n",
    "    Explanation: First reverse each row: [[0,1,1],[1,0,1],[0,0,0]].\n",
    "    Then, invert the image: [[1,0,0],[0,1,0],[1,1,1]]\n",
    "\n",
    "\n",
    "**Example 2:**\n",
    "\n",
    "\n",
    "\n",
    "    Input: [[1,1,0,0],[1,0,0,1],[0,1,1,1],[1,0,1,0]]\n",
    "    Output: [[1,1,0,0],[0,1,1,0],[0,0,0,1],[1,0,1,0]]\n",
    "    Explanation: First reverse each row: [[0,0,1,1],[1,0,0,1],[1,1,1,0],[0,1,0,1]].\n",
    "    Then invert the image: [[1,1,0,0],[0,1,1,0],[0,0,0,1],[1,0,1,0]]\n",
    "\n",
    "\n",
    "**Notes:**\n",
    "\n",
    "  * `1 <= A.length = A[0].length <= 20`\n",
    "  * `0 <= A[i][j] <= 1`"
   ],
   "metadata": {}
  },
  {
   "outputs": [
    {
     "output_type": "execute_result",
     "data": {
      "text/plain": "flip_and_invert_image (generic function with 1 method)"
     },
     "metadata": {},
     "execution_count": 1
    }
   ],
   "cell_type": "code",
   "source": [
    "# @lc code=start\n",
    "using LeetCode\n",
    "\n",
    "function flip_and_invert_image(A::Vector{Vector{Int}})::Vector{Vector{Int}}\n",
    "    m = length(A)\n",
    "    for i = 1:m\n",
    "        reverse!(A[i]) .⊻= 1\n",
    "    end\n",
    "\n",
    "    return A\n",
    "end\n",
    "\n",
    "# @lc code=end"
   ],
   "metadata": {},
   "execution_count": 1
  },
  {
   "cell_type": "markdown",
   "source": [
    "---\n",
    "\n",
    "*This notebook was generated using [Literate.jl](https://github.com/fredrikekre/Literate.jl).*"
   ],
   "metadata": {}
  }
 ],
 "nbformat_minor": 3,
 "metadata": {
  "language_info": {
   "file_extension": ".jl",
   "mimetype": "application/julia",
   "name": "julia",
   "version": "1.6.4"
  },
  "kernelspec": {
   "name": "julia-1.6",
   "display_name": "Julia 1.6.4",
   "language": "julia"
  }
 },
 "nbformat": 4
}
