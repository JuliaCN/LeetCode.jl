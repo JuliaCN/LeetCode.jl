{
 "cells": [
  {
   "cell_type": "markdown",
   "source": [
    "Given the `root` of a Binary Search Tree (BST), convert it to a Greater Tree\n",
    "such that every key of the original BST is changed to the original key plus\n",
    "sum of all keys greater than the original key in BST.\n",
    "\n",
    "As a reminder, a _binary search tree_ is a tree that satisfies these\n",
    "constraints:\n",
    "\n",
    "  * The left subtree of a node contains only nodes with keys  **less than**  the node's key.\n",
    "  * The right subtree of a node contains only nodes with keys  **greater than**  the node's key.\n",
    "  * Both the left and right subtrees must also be binary search trees.\n",
    "\n",
    "**Note:** This question is the same as 538:\n",
    "<https://leetcode.comhttps://leetcode.com/problems/convert-bst-to-greater-tree/>\n",
    "\n",
    "\n",
    "\n",
    "**Example 1:**\n",
    "\n",
    "![](https://assets.leetcode.com/uploads/2019/05/02/tree.png)\n",
    "\n",
    "\n",
    "\n",
    "    Input: root = [4,1,6,0,2,5,7,null,null,null,3,null,null,null,8]\n",
    "    Output: [30,36,21,36,35,26,15,null,null,null,33,null,null,null,8]\n",
    "\n",
    "\n",
    "**Example 2:**\n",
    "\n",
    "\n",
    "\n",
    "    Input: root = [0,null,1]\n",
    "    Output: [1,null,1]\n",
    "\n",
    "\n",
    "**Example 3:**\n",
    "\n",
    "\n",
    "\n",
    "    Input: root = [1,0,2]\n",
    "    Output: [3,3,2]\n",
    "\n",
    "\n",
    "**Example 4:**\n",
    "\n",
    "\n",
    "\n",
    "    Input: root = [3,2,4,1]\n",
    "    Output: [7,9,4,10]\n",
    "\n",
    "\n",
    "\n",
    "\n",
    "**Constraints:**\n",
    "\n",
    "  * The number of nodes in the tree is in the range `[1, 100]`.\n",
    "  * `0 <= Node.val <= 100`\n",
    "  * All the values in the tree are **unique**.\n",
    "  * `root` is guaranteed to be a valid binary search tree."
   ],
   "metadata": {}
  },
  {
   "outputs": [
    {
     "output_type": "execute_result",
     "data": {
      "text/plain": "bst_to_gst (generic function with 2 methods)"
     },
     "metadata": {},
     "execution_count": 1
    }
   ],
   "cell_type": "code",
   "source": [
    "# @lc code=start\n",
    "using LeetCode\n",
    "\n",
    "bst_to_gst(::Nothing) = nothing\n",
    "function bst_to_gst(root::TreeNode{Int})::TreeNode{Int}\n",
    "    s = 0\n",
    "    rev_first_ord(::Nothing) = nothing\n",
    "    function rev_first_ord(node::TreeNode{Int})\n",
    "        rev_first_ord(node.right)\n",
    "        s += node.val\n",
    "        node.val = s\n",
    "        return rev_first_ord(node.left)\n",
    "    end\n",
    "    !isnothing(root) && rev_first_ord(root)\n",
    "    return root\n",
    "end\n",
    "# @lc code=end"
   ],
   "metadata": {},
   "execution_count": 1
  },
  {
   "cell_type": "markdown",
   "source": [
    "---\n",
    "\n",
    "*This notebook was generated using [Literate.jl](https://github.com/fredrikekre/Literate.jl).*"
   ],
   "metadata": {}
  }
 ],
 "nbformat_minor": 3,
 "metadata": {
  "language_info": {
   "file_extension": ".jl",
   "mimetype": "application/julia",
   "name": "julia",
   "version": "1.6.4"
  },
  "kernelspec": {
   "name": "julia-1.6",
   "display_name": "Julia 1.6.4",
   "language": "julia"
  }
 },
 "nbformat": 4
}
