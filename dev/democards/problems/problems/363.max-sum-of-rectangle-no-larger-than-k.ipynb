{
 "cells": [
  {
   "cell_type": "markdown",
   "source": [
    "Given a non-empty 2D matrix _matrix_ and an integer _k_ , find the max sum of\n",
    "a rectangle in the _matrix_ such that its sum is no larger than _k_.\n",
    "\n",
    "**Example:**\n",
    "\n",
    "\n",
    "\n",
    "    Input: matrix = [[1,0,1],[0,-2,3]], k = 2\n",
    "    Output: 2\n",
    "    Explanation:  Because the sum of rectangle [[0, 1], [-2, 3]] is 2,\n",
    "                 and 2 is the max number no larger than k (k = 2).\n",
    "\n",
    "**Note:**\n",
    "\n",
    "  1. The rectangle inside the matrix must have an area > 0.\n",
    "  2. What if the number of rows is much larger than the number of columns?"
   ],
   "metadata": {}
  },
  {
   "outputs": [
    {
     "output_type": "execute_result",
     "data": {
      "text/plain": "max_sum_submatrix (generic function with 1 method)"
     },
     "metadata": {},
     "execution_count": 1
    }
   ],
   "cell_type": "code",
   "source": [
    "# @lc code=start\n",
    "using LeetCode\n",
    "\n",
    "function max_sum_submatrix(matrix::AbstractMatrix{Int}, k::Int)\n",
    "    m, n = size(matrix)\n",
    "    m > n && return max_sum_submatrix(matrix', k)\n",
    "    pref_sum = OffsetArray(fill(0, m + 1, n + 1), -1, -1)\n",
    "\n",
    "    for i in 1:m, j in 1:n\n",
    "        pref_sum[i, j] = pref_sum[i - 1, j] + pref_sum[i, j - 1] + matrix[i, j] -\n",
    "                         pref_sum[i - 1, j - 1]\n",
    "    end\n",
    "    res = typemin(Int)\n",
    "    for tp in 1:m, bot in tp:m\n",
    "        ss = SortedSet{Int}()\n",
    "        push!(ss, 0)\n",
    "        for r in 1:n\n",
    "            rows_sum = pref_sum[bot, r] - pref_sum[tp - 1, r]\n",
    "            tk = searchsortedfirst(ss, rows_sum - k)\n",
    "            tk != pastendsemitoken(ss) && (res = max(res, rows_sum - deref((ss, tk))))\n",
    "            push!(ss, rows_sum)\n",
    "        end\n",
    "    end\n",
    "    return res\n",
    "end\n",
    "# @lc code=end"
   ],
   "metadata": {},
   "execution_count": 1
  },
  {
   "cell_type": "markdown",
   "source": [
    "---\n",
    "\n",
    "*This notebook was generated using [Literate.jl](https://github.com/fredrikekre/Literate.jl).*"
   ],
   "metadata": {}
  }
 ],
 "nbformat_minor": 3,
 "metadata": {
  "language_info": {
   "file_extension": ".jl",
   "mimetype": "application/julia",
   "name": "julia",
   "version": "1.9.1"
  },
  "kernelspec": {
   "name": "julia-1.9",
   "display_name": "Julia 1.9.1",
   "language": "julia"
  }
 },
 "nbformat": 4
}
