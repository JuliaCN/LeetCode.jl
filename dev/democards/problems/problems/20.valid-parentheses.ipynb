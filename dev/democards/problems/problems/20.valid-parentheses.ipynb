{
 "cells": [
  {
   "cell_type": "markdown",
   "source": [
    "Given a string `s` containing just the characters `'('`, `')'`, `'{'`, `'}'`,\n",
    "`'['` and `']'`, determine if the input string is valid.\n",
    "\n",
    "An input string is valid if:\n",
    "\n",
    "  1. Open brackets must be closed by the same type of brackets.\n",
    "  2. Open brackets must be closed in the correct order.\n",
    "\n",
    "\n",
    "\n",
    "**Example 1:**\n",
    "\n",
    "\n",
    "\n",
    "    Input: s = \"()\"\n",
    "    Output: true\n",
    "\n",
    "\n",
    "**Example 2:**\n",
    "\n",
    "\n",
    "\n",
    "    Input: s = \"()[]{}\"\n",
    "    Output: true\n",
    "\n",
    "\n",
    "**Example 3:**\n",
    "\n",
    "\n",
    "\n",
    "    Input: s = \"(]\"\n",
    "    Output: false\n",
    "\n",
    "\n",
    "**Example 4:**\n",
    "\n",
    "\n",
    "\n",
    "    Input: s = \"([)]\"\n",
    "    Output: false\n",
    "\n",
    "\n",
    "**Example 5:**\n",
    "\n",
    "\n",
    "\n",
    "    Input: s = \"{[]}\"\n",
    "    Output: true\n",
    "\n",
    "\n",
    "\n",
    "\n",
    "**Constraints:**\n",
    "\n",
    "  * `1 <= s.length <= 104`\n",
    "  * `s` consists of parentheses only `'()[]{}'`."
   ],
   "metadata": {}
  },
  {
   "outputs": [
    {
     "output_type": "execute_result",
     "data": {
      "text/plain": "is_valid_parentheses (generic function with 1 method)"
     },
     "metadata": {},
     "execution_count": 1
    }
   ],
   "cell_type": "code",
   "source": [
    "# @lc code=start\n",
    "using LeetCode\n",
    "\n",
    "function is_valid_parentheses(s::String)::Bool\n",
    "    unclose, left_side = Char[], Dict{Char,Char}(')' => '(', ']' => '[', '}' => '{')\n",
    "    for i in s\n",
    "        if i in \"([{\"\n",
    "            push!(unclose, i)\n",
    "        else\n",
    "            (isempty(unclose) || left_side[i] != unclose[end]) && return false\n",
    "            pop!(unclose)\n",
    "        end\n",
    "    end\n",
    "    return isempty(unclose)\n",
    "end\n",
    "\n",
    "# @lc code=end"
   ],
   "metadata": {},
   "execution_count": 1
  },
  {
   "cell_type": "markdown",
   "source": [
    "---\n",
    "\n",
    "*This notebook was generated using [Literate.jl](https://github.com/fredrikekre/Literate.jl).*"
   ],
   "metadata": {}
  }
 ],
 "nbformat_minor": 3,
 "metadata": {
  "language_info": {
   "file_extension": ".jl",
   "mimetype": "application/julia",
   "name": "julia",
   "version": "1.7.3"
  },
  "kernelspec": {
   "name": "julia-1.7",
   "display_name": "Julia 1.7.3",
   "language": "julia"
  }
 },
 "nbformat": 4
}
