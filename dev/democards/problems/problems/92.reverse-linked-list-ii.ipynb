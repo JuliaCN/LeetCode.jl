{
 "cells": [
  {
   "cell_type": "markdown",
   "source": [
    "Reverse a linked list from position _m_ to _n_. Do it in one-pass.\n",
    "\n",
    "**Note:  **1 ≤ _m_ ≤ _n_ ≤ length of list.\n",
    "\n",
    "**Example:**\n",
    "\n",
    "\n",
    "\n",
    "    Input: 1->2->3->4->5->NULL, _m_ = 2, _n_ = 4\n",
    "    Output: 1->4->3->2->5->NULL"
   ],
   "metadata": {}
  },
  {
   "outputs": [
    {
     "output_type": "execute_result",
     "data": {
      "text/plain": "reverse_between (generic function with 1 method)"
     },
     "metadata": {},
     "execution_count": 1
    }
   ],
   "cell_type": "code",
   "source": [
    "# @lc code=start\n",
    "using LeetCode\n",
    "\n",
    "function reverse_between(head::ListNode{Int}, m::Int, n::Int)::ListNode\n",
    "    (isnothing(head) || m == n) && return head\n",
    "    p = dummy = ListNode()\n",
    "    next!(dummy, head)\n",
    "    for _ = 1:m-1\n",
    "        p = next(p)\n",
    "    end\n",
    "\n",
    "    tail = next(p)\n",
    "\n",
    "    for _ = 1:n-m\n",
    "        tmp = next(p)\n",
    "        next!(p, next(tail))\n",
    "        next!(tail, next(next(tail)))\n",
    "        next!(next(p), tmp)\n",
    "    end\n",
    "\n",
    "    return next(dummy)\n",
    "end\n",
    "# @lc code=end"
   ],
   "metadata": {},
   "execution_count": 1
  },
  {
   "cell_type": "markdown",
   "source": [
    "---\n",
    "\n",
    "*This notebook was generated using [Literate.jl](https://github.com/fredrikekre/Literate.jl).*"
   ],
   "metadata": {}
  }
 ],
 "nbformat_minor": 3,
 "metadata": {
  "language_info": {
   "file_extension": ".jl",
   "mimetype": "application/julia",
   "name": "julia",
   "version": "1.10.4"
  },
  "kernelspec": {
   "name": "julia-1.10",
   "display_name": "Julia 1.10.4",
   "language": "julia"
  }
 },
 "nbformat": 4
}
