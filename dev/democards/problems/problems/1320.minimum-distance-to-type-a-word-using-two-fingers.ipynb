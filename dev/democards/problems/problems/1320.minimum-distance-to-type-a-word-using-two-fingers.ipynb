{
 "cells": [
  {
   "cell_type": "markdown",
   "source": [
    "![](https://assets.leetcode.com/uploads/2020/01/02/leetcode_keyboard.png)\n",
    "\n",
    "You have a keyboard layout as shown above in the XY plane, where each English\n",
    "uppercase letter is located at some coordinate, for example, the letter **A**\n",
    "is located at coordinate **(0,0)** , the letter **B** is located at coordinate\n",
    "**(0,1)** , the letter **P** is located at coordinate **(2,3)** and the letter\n",
    "**Z** is located at coordinate **(4,1)**.\n",
    "\n",
    "Given the string `word`, return the minimum total distance to type such string\n",
    "using only two fingers. The distance between coordinates **(x 1,y1)** and **(x\n",
    "2,y2)** is **|x 1 \\- x2| + |y1 \\- y2|**.\n",
    "\n",
    "Note that the initial positions of your two fingers are considered free so\n",
    "don't count towards your total distance, also your two fingers do not have to\n",
    "start at the first letter or the first two letters.\n",
    "\n",
    "\n",
    "\n",
    "**Example 1:**\n",
    "\n",
    "\n",
    "\n",
    "    Input: word = \"CAKE\"\n",
    "    Output: 3\n",
    "    Explanation: Using two fingers, one optimal way to type \"CAKE\" is:\n",
    "    Finger 1 on letter 'C' -> cost = 0\n",
    "    Finger 1 on letter 'A' -> cost = Distance from letter 'C' to letter 'A' = 2\n",
    "    Finger 2 on letter 'K' -> cost = 0\n",
    "    Finger 2 on letter 'E' -> cost = Distance from letter 'K' to letter 'E' = 1\n",
    "    Total distance = 3\n",
    "\n",
    "\n",
    "**Example 2:**\n",
    "\n",
    "\n",
    "\n",
    "    Input: word = \"HAPPY\"\n",
    "    Output: 6\n",
    "    Explanation:\n",
    "    Using two fingers, one optimal way to type \"HAPPY\" is:\n",
    "    Finger 1 on letter 'H' -> cost = 0\n",
    "    Finger 1 on letter 'A' -> cost = Distance from letter 'H' to letter 'A' = 2\n",
    "    Finger 2 on letter 'P' -> cost = 0\n",
    "    Finger 2 on letter 'P' -> cost = Distance from letter 'P' to letter 'P' = 0\n",
    "    Finger 1 on letter 'Y' -> cost = Distance from letter 'A' to letter 'Y' = 4\n",
    "    Total distance = 6\n",
    "\n",
    "\n",
    "**Example 3:**\n",
    "\n",
    "\n",
    "\n",
    "    Input: word = \"NEW\"\n",
    "    Output: 3\n",
    "\n",
    "\n",
    "**Example 4:**\n",
    "\n",
    "\n",
    "\n",
    "    Input: word = \"YEAR\"\n",
    "    Output: 7\n",
    "\n",
    "\n",
    "\n",
    "\n",
    "**Constraints:**\n",
    "\n",
    "  * `2 <= word.length <= 300`\n",
    "  * Each `word[i]` is an English uppercase letter."
   ],
   "metadata": {}
  },
  {
   "outputs": [
    {
     "output_type": "execute_result",
     "data": {
      "text/plain": "minimum_distance (generic function with 1 method)"
     },
     "metadata": {},
     "execution_count": 1
    }
   ],
   "cell_type": "code",
   "source": [
    "# @lc code=start\n",
    "using LeetCode\n",
    "\n",
    "function minimum_distance(word::String)\n",
    "    distance(p, q) = abs(p ÷ 6 - q ÷ 6) + abs(p % 6 - q % 6)\n",
    "    len = length(word)\n",
    "    dp = fill(typemax(Int) >> 1, len, 26, 26)\n",
    "    dp[1, :, word[1] - 'A' + 1] .= dp[1, word[1] - 'A' + 1, :] .= 0\n",
    "    for i in 2:len\n",
    "        cur = word[i] - 'A' + 1\n",
    "        prev = word[i - 1] - 'A' + 1\n",
    "        d = distance(cur - 1, prev - 1)\n",
    "        for j in 1:26\n",
    "            dp[i, cur, j] = min(dp[i, cur, j], dp[i - 1, prev, j] + d)\n",
    "            dp[i, j, cur] = min(dp[i, j, cur], dp[i - 1, j, prev] + d)\n",
    "            if prev == j\n",
    "                for k in 1:26\n",
    "                    d0 = distance(k - 1, cur - 1)\n",
    "                    dp[i, cur, prev] = min(dp[i, cur, prev], dp[i - 1, k, prev] + d0)\n",
    "                    dp[i, prev, cur] = min(dp[i, prev, cur], dp[i - 1, prev, k] + d0)\n",
    "                end\n",
    "            end\n",
    "        end\n",
    "    end\n",
    "    min(minimum(dp[len, :, word[end] - 'A' + 1]), minimum(dp[len, word[end] - 'A' + 1, :]))\n",
    "end\n",
    "# @lc code=end"
   ],
   "metadata": {},
   "execution_count": 1
  },
  {
   "cell_type": "markdown",
   "source": [
    "---\n",
    "\n",
    "*This notebook was generated using [Literate.jl](https://github.com/fredrikekre/Literate.jl).*"
   ],
   "metadata": {}
  }
 ],
 "nbformat_minor": 3,
 "metadata": {
  "language_info": {
   "file_extension": ".jl",
   "mimetype": "application/julia",
   "name": "julia",
   "version": "1.6.0"
  },
  "kernelspec": {
   "name": "julia-1.6",
   "display_name": "Julia 1.6.0",
   "language": "julia"
  }
 },
 "nbformat": 4
}
