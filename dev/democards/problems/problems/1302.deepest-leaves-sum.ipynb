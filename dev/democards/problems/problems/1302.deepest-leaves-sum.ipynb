{
 "cells": [
  {
   "cell_type": "markdown",
   "source": [
    "Given a binary tree, return the sum of values of its deepest leaves.\n",
    "\n",
    "\n",
    "\n",
    "**Example 1:**\n",
    "\n",
    "**![](https://assets.leetcode.com/uploads/2019/07/31/1483_ex1.png)**\n",
    "\n",
    "\n",
    "\n",
    "    Input: root = [1,2,3,4,5,null,6,7,null,null,null,null,8]\n",
    "    Output: 15\n",
    "\n",
    "\n",
    "\n",
    "\n",
    "**Constraints:**\n",
    "\n",
    "  * The number of nodes in the tree is between `1` and `10^4`.\n",
    "  * The value of nodes is between `1` and `100`."
   ],
   "metadata": {}
  },
  {
   "outputs": [
    {
     "output_type": "execute_result",
     "data": {
      "text/plain": "deepest_leaves_sum (generic function with 1 method)"
     },
     "metadata": {},
     "execution_count": 1
    }
   ],
   "cell_type": "code",
   "source": [
    "# @lc code=start\n",
    "using LeetCode\n",
    "\n",
    "function deepest_leaves_sum(root::TreeNode)::Int\n",
    "    nodes = [root]\n",
    "    while true\n",
    "        val = 0\n",
    "        for _ in eachindex(nodes)\n",
    "            node = popfirst!(nodes)\n",
    "            val += node.val\n",
    "            isnothing(node.left) || push!(nodes, node.left)\n",
    "            isnothing(node.right) || push!(nodes, node.right)\n",
    "        end\n",
    "        isempty(nodes) && return val\n",
    "    end\n",
    "end\n",
    "\n",
    "# @lc code=end"
   ],
   "metadata": {},
   "execution_count": 1
  },
  {
   "cell_type": "markdown",
   "source": [
    "---\n",
    "\n",
    "*This notebook was generated using [Literate.jl](https://github.com/fredrikekre/Literate.jl).*"
   ],
   "metadata": {}
  }
 ],
 "nbformat_minor": 3,
 "metadata": {
  "language_info": {
   "file_extension": ".jl",
   "mimetype": "application/julia",
   "name": "julia",
   "version": "1.11.6"
  },
  "kernelspec": {
   "name": "julia-1.11",
   "display_name": "Julia 1.11.6",
   "language": "julia"
  }
 },
 "nbformat": 4
}
