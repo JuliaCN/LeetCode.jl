{
 "cells": [
  {
   "cell_type": "markdown",
   "source": [
    "Let's call an array `arr` a **mountain**  if the following properties hold:\n",
    "\n",
    "  * `arr.length >= 3`\n",
    "  * There exists some `i` with `0 < i < arr.length - 1` such that:\n",
    "    * `arr[0] < arr[1] < ... arr[i-1] < arr[i] `\n",
    "    * `arr[i] > arr[i+1] > ... > arr[arr.length - 1]`\n",
    "\n",
    "Given an integer array arr that is **guaranteed** to be a mountain, return any\n",
    "`i` such that `arr[0] < arr[1] < ... arr[i - 1] < arr[i] > arr[i + 1] > ... >\n",
    "arr[arr.length - 1]`.\n",
    "\n",
    "\n",
    "\n",
    "**Example 1:**\n",
    "\n",
    "\n",
    "\n",
    "    Input: arr = [0,1,0]\n",
    "    Output: 1\n",
    "\n",
    "\n",
    "**Example 2:**\n",
    "\n",
    "\n",
    "\n",
    "    Input: arr = [0,2,1,0]\n",
    "    Output: 1\n",
    "\n",
    "\n",
    "**Example 3:**\n",
    "\n",
    "\n",
    "\n",
    "    Input: arr = [0,10,5,2]\n",
    "    Output: 1\n",
    "\n",
    "\n",
    "**Example 4:**\n",
    "\n",
    "\n",
    "\n",
    "    Input: arr = [3,4,5,1]\n",
    "    Output: 2\n",
    "\n",
    "\n",
    "**Example 5:**\n",
    "\n",
    "\n",
    "\n",
    "    Input: arr = [24,69,100,99,79,78,67,36,26,19]\n",
    "    Output: 2\n",
    "\n",
    "\n",
    "\n",
    "\n",
    "**Constraints:**\n",
    "\n",
    "  * `3 <= arr.length <= 104`\n",
    "  * `0 <= arr[i] <= 106`\n",
    "  * `arr` is **guaranteed** to be a mountain array."
   ],
   "metadata": {}
  },
  {
   "outputs": [
    {
     "output_type": "execute_result",
     "data": {
      "text/plain": "peak_index_in_mountain_array (generic function with 1 method)"
     },
     "metadata": {},
     "execution_count": 1
    }
   ],
   "cell_type": "code",
   "source": [
    "# @lc code=start\n",
    "using LeetCode\n",
    "\n",
    "peak_index_in_mountain_array(arr) =\n",
    "    searchsortedfirst(1:(length(arr) - 1), length(arr) - 1; by=i -> arr[i] > arr[i + 1])\n",
    "\n",
    "# @lc code=end"
   ],
   "metadata": {},
   "execution_count": 1
  },
  {
   "cell_type": "markdown",
   "source": [
    "---\n",
    "\n",
    "*This notebook was generated using [Literate.jl](https://github.com/fredrikekre/Literate.jl).*"
   ],
   "metadata": {}
  }
 ],
 "nbformat_minor": 3,
 "metadata": {
  "language_info": {
   "file_extension": ".jl",
   "mimetype": "application/julia",
   "name": "julia",
   "version": "1.10.1"
  },
  "kernelspec": {
   "name": "julia-1.10",
   "display_name": "Julia 1.10.1",
   "language": "julia"
  }
 },
 "nbformat": 4
}
