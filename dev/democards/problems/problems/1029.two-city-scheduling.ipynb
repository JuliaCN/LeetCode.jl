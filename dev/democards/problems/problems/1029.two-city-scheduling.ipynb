{
 "cells": [
  {
   "cell_type": "markdown",
   "source": [
    "A company is planning to interview `2n` people. Given the array `costs` where\n",
    "`costs[i] = [aCosti, bCosti]`, the cost of flying the `ith` person to city `a`\n",
    "is `aCosti`, and the cost of flying the `ith` person to city `b` is `bCosti`.\n",
    "\n",
    "Return _the minimum cost to fly every person to a city_ such that exactly `n`\n",
    "people arrive in each city.\n",
    "\n",
    "\n",
    "\n",
    "**Example 1:**\n",
    "\n",
    "\n",
    "\n",
    "    Input: costs = [[10,20],[30,200],[400,50],[30,20]]\n",
    "    Output: 110\n",
    "    Explanation:\n",
    "    The first person goes to city A for a cost of 10.\n",
    "    The second person goes to city A for a cost of 30.\n",
    "    The third person goes to city B for a cost of 50.\n",
    "    The fourth person goes to city B for a cost of 20.\n",
    "\n",
    "    The total minimum cost is 10 + 30 + 50 + 20 = 110 to have half the people interviewing in each city.\n",
    "\n",
    "\n",
    "**Example 2:**\n",
    "\n",
    "\n",
    "\n",
    "    Input: costs = [[259,770],[448,54],[926,667],[184,139],[840,118],[577,469]]\n",
    "    Output: 1859\n",
    "\n",
    "\n",
    "**Example 3:**\n",
    "\n",
    "\n",
    "\n",
    "    Input: costs = [[515,563],[451,713],[537,709],[343,819],[855,779],[457,60],[650,359],[631,42]]\n",
    "    Output: 3086\n",
    "\n",
    "\n",
    "\n",
    "\n",
    "**Constraints:**\n",
    "\n",
    "  * `2 * n == costs.length`\n",
    "  * `2 <= costs.length <= 100`\n",
    "  * `costs.length` is even.\n",
    "  * `1 <= aCosti, bCosti <= 1000`"
   ],
   "metadata": {}
  },
  {
   "outputs": [
    {
     "output_type": "execute_result",
     "data": {
      "text/plain": "two_city_sched_cost (generic function with 1 method)"
     },
     "metadata": {},
     "execution_count": 1
    }
   ],
   "cell_type": "code",
   "source": [
    "# @lc code=start\n",
    "using LeetCode\n",
    "\n",
    "function two_city_sched_cost(costs::Vector{Vector{Int}})::Int\n",
    "    sort!(costs; by = x -> x[1] - x[2])\n",
    "    n = length(costs) ÷ 2\n",
    "    res = 0\n",
    "    for i in 1:n\n",
    "        res += costs[i][1] + costs[i + n][2]\n",
    "    end\n",
    "    res\n",
    "end\n",
    "# @lc code=end"
   ],
   "metadata": {},
   "execution_count": 1
  },
  {
   "cell_type": "markdown",
   "source": [
    "---\n",
    "\n",
    "*This notebook was generated using [Literate.jl](https://github.com/fredrikekre/Literate.jl).*"
   ],
   "metadata": {}
  }
 ],
 "nbformat_minor": 3,
 "metadata": {
  "language_info": {
   "file_extension": ".jl",
   "mimetype": "application/julia",
   "name": "julia",
   "version": "1.7.3"
  },
  "kernelspec": {
   "name": "julia-1.7",
   "display_name": "Julia 1.7.3",
   "language": "julia"
  }
 },
 "nbformat": 4
}
