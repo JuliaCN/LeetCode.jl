{
 "cells": [
  {
   "cell_type": "markdown",
   "source": [
    "We are given a matrix with `R` rows and `C` columns has cells with integer\n",
    "coordinates `(r, c)`, where `0 <= r < R` and `0 <= c < C`.\n",
    "\n",
    "Additionally, we are given a cell in that matrix with coordinates `(r0, c0)`.\n",
    "\n",
    "Return the coordinates of all cells in the matrix, sorted by their distance\n",
    "from `(r0, c0)` from smallest distance to largest distance.  Here, the\n",
    "distance between two cells `(r1, c1)` and `(r2, c2)` is the Manhattan\n",
    "distance, `|r1 - r2| + |c1 - c2|`.  (You may return the answer in any order\n",
    "that satisfies this condition.)\n",
    "\n",
    "\n",
    "\n",
    "**Example 1:**\n",
    "\n",
    "\n",
    "\n",
    "    Input: R = 1, C = 2, r0 = 0, c0 = 0\n",
    "    Output: [[0,0],[0,1]]\n",
    "    Explanation: The distances from (r0, c0) to other cells are: [0,1]\n",
    "\n",
    "\n",
    "**Example 2:**\n",
    "\n",
    "\n",
    "\n",
    "    Input: R = 2, C = 2, r0 = 0, c0 = 1\n",
    "    Output: [[0,1],[0,0],[1,1],[1,0]]\n",
    "    Explanation: The distances from (r0, c0) to other cells are: [0,1,1,2]\n",
    "    The answer [[0,1],[1,1],[0,0],[1,0]] would also be accepted as correct.\n",
    "\n",
    "\n",
    "**Example 3:**\n",
    "\n",
    "\n",
    "\n",
    "    Input: R = 2, C = 3, r0 = 1, c0 = 2\n",
    "    Output: [[1,2],[0,2],[1,1],[0,1],[1,0],[0,0]]\n",
    "    Explanation: The distances from (r0, c0) to other cells are: [0,1,1,2,2,3]\n",
    "    There are other answers that would also be accepted as correct, such as [[1,2],[1,1],[0,2],[1,0],[0,1],[0,0]].\n",
    "\n",
    "\n",
    "\n",
    "\n",
    "**Note:**\n",
    "\n",
    "  1. `1 <= R <= 100`\n",
    "  2. `1 <= C <= 100`\n",
    "  3. `0 <= r0 < R`\n",
    "  4. `0 <= c0 < C`"
   ],
   "metadata": {}
  },
  {
   "outputs": [
    {
     "output_type": "execute_result",
     "data": {
      "text/plain": "all_cells_dist_order (generic function with 1 method)"
     },
     "metadata": {},
     "execution_count": 1
    }
   ],
   "cell_type": "code",
   "source": [
    "# @lc code=start\n",
    "using LeetCode\n",
    "\n",
    "function all_cells_dist_order(rows::Int, cols::Int, rcenter::Int, ccenter::Int)\n",
    "    rs = max(rcenter - 1, rows - rcenter)\n",
    "    cs = max(ccenter - 1, cols - ccenter)\n",
    "    iters = rs + cs\n",
    "    res = Vector{Tuple{Int,Int}}(undef, rows * cols)\n",
    "    res[1] = (rcenter, ccenter)\n",
    "    idx = 2\n",
    "    cidx = CartesianIndex(1, 1):CartesianIndex(rows, cols)\n",
    "    for i in 1:iters\n",
    "        for j in (-i):i\n",
    "            for k in (i - abs(j), abs(j) - i)\n",
    "                cur_idx = CartesianIndex(rcenter + j, ccenter + k)\n",
    "                if cur_idx in cidx\n",
    "                    res[idx] = cur_idx.I\n",
    "                    idx += 1\n",
    "                end\n",
    "                k == 0 && break\n",
    "            end\n",
    "        end\n",
    "    end\n",
    "    return res\n",
    "end\n",
    "# @lc code=end"
   ],
   "metadata": {},
   "execution_count": 1
  },
  {
   "cell_type": "markdown",
   "source": [
    "---\n",
    "\n",
    "*This notebook was generated using [Literate.jl](https://github.com/fredrikekre/Literate.jl).*"
   ],
   "metadata": {}
  }
 ],
 "nbformat_minor": 3,
 "metadata": {
  "language_info": {
   "file_extension": ".jl",
   "mimetype": "application/julia",
   "name": "julia",
   "version": "1.8.0"
  },
  "kernelspec": {
   "name": "julia-1.8",
   "display_name": "Julia 1.8.0",
   "language": "julia"
  }
 },
 "nbformat": 4
}
