{
 "cells": [
  {
   "cell_type": "markdown",
   "source": [
    "Initially on a notepad only one character 'A' is present. You can perform two\n",
    "operations on this notepad for each step:\n",
    "\n",
    "  1. `Copy All`: You can copy all the characters present on the notepad (partial copy is not allowed).\n",
    "  2. `Paste`: You can paste the characters which are copied **last time**.\n",
    "\n",
    "\n",
    "\n",
    "Given a number `n`. You have to get **exactly** `n` 'A' on the notepad by\n",
    "performing the minimum number of steps permitted. Output the minimum number of\n",
    "steps to get `n` 'A'.\n",
    "\n",
    "**Example 1:**\n",
    "\n",
    "\n",
    "\n",
    "    Input: 3\n",
    "    Output: 3\n",
    "    Explanation:\n",
    "    Intitally, we have one character 'A'.\n",
    "    In step 1, we use **Copy All** operation.\n",
    "    In step 2, we use **Paste** operation to get 'AA'.\n",
    "    In step 3, we use **Paste** operation to get 'AAA'.\n",
    "\n",
    "\n",
    "\n",
    "\n",
    "**Note:**\n",
    "\n",
    "  1. The `n` will be in the range [1, 1000]."
   ],
   "metadata": {}
  },
  {
   "outputs": [
    {
     "output_type": "execute_result",
     "data": {
      "text/plain": "min_steps650 (generic function with 1 method)"
     },
     "metadata": {},
     "execution_count": 1
    }
   ],
   "cell_type": "code",
   "source": [
    "# @lc code=start\n",
    "using LeetCode\n",
    "\n",
    "function min_steps650(n::Int)\n",
    "    res, k = 0, 2\n",
    "    while n != 1\n",
    "        while n % k == 0\n",
    "            res += k\n",
    "            n ÷= k\n",
    "        end\n",
    "        k += 1\n",
    "    end\n",
    "    return res\n",
    "end\n",
    "# @lc code=end"
   ],
   "metadata": {},
   "execution_count": 1
  },
  {
   "cell_type": "markdown",
   "source": [
    "---\n",
    "\n",
    "*This notebook was generated using [Literate.jl](https://github.com/fredrikekre/Literate.jl).*"
   ],
   "metadata": {}
  }
 ],
 "nbformat_minor": 3,
 "metadata": {
  "language_info": {
   "file_extension": ".jl",
   "mimetype": "application/julia",
   "name": "julia",
   "version": "1.8.2"
  },
  "kernelspec": {
   "name": "julia-1.8",
   "display_name": "Julia 1.8.2",
   "language": "julia"
  }
 },
 "nbformat": 4
}
