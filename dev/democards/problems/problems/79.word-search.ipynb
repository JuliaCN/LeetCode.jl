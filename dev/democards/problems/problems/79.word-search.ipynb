{
 "cells": [
  {
   "cell_type": "markdown",
   "source": [
    "Given an `m x n` `board` and a `word`, find if the word exists in the grid.\n",
    "\n",
    "The word can be constructed from letters of sequentially adjacent cells, where\n",
    "\"adjacent\" cells are horizontally or vertically neighboring. The same letter\n",
    "cell may not be used more than once.\n",
    "\n",
    "\n",
    "\n",
    "**Example 1:**\n",
    "\n",
    "![](https://assets.leetcode.com/uploads/2020/11/04/word2.jpg)\n",
    "\n",
    "\n",
    "\n",
    "    Input: board = [[\"A\",\"B\",\"C\",\"E\"],[\"S\",\"F\",\"C\",\"S\"],[\"A\",\"D\",\"E\",\"E\"]], word = \"ABCCED\"\n",
    "    Output: true\n",
    "\n",
    "\n",
    "**Example 2:**\n",
    "\n",
    "![](https://assets.leetcode.com/uploads/2020/11/04/word-1.jpg)\n",
    "\n",
    "\n",
    "\n",
    "    Input: board = [[\"A\",\"B\",\"C\",\"E\"],[\"S\",\"F\",\"C\",\"S\"],[\"A\",\"D\",\"E\",\"E\"]], word = \"SEE\"\n",
    "    Output: true\n",
    "\n",
    "\n",
    "**Example 3:**\n",
    "\n",
    "![](https://assets.leetcode.com/uploads/2020/10/15/word3.jpg)\n",
    "\n",
    "\n",
    "\n",
    "    Input: board = [[\"A\",\"B\",\"C\",\"E\"],[\"S\",\"F\",\"C\",\"S\"],[\"A\",\"D\",\"E\",\"E\"]], word = \"ABCB\"\n",
    "    Output: false\n",
    "\n",
    "\n",
    "\n",
    "\n",
    "**Constraints:**\n",
    "\n",
    "  * `m == board.length`\n",
    "  * `n = board[i].length`\n",
    "  * `1 <= m, n <= 200`\n",
    "  * `1 <= word.length <= 103`\n",
    "  * `board` and `word` consists only of lowercase and uppercase English letters."
   ],
   "metadata": {}
  },
  {
   "outputs": [
    {
     "output_type": "execute_result",
     "data": {
      "text/plain": "is_word_exist (generic function with 1 method)"
     },
     "metadata": {},
     "execution_count": 1
    }
   ],
   "cell_type": "code",
   "source": [
    "# @lc code=start\n",
    "using LeetCode\n",
    "\n",
    "function is_word_exist(board::Matrix{Char}, word::String)\n",
    "    function _backtracking_search(board::Matrix{Char}, word::String, pos::CartesianIndex{2},\n",
    "                                  depth::Int)::Bool\n",
    "        depth > length(word) && return true\n",
    "        (pos ∉ CartesianIndices(board) || board[pos] != word[depth]) && return false\n",
    "        board[pos] += 256\n",
    "        res = _backtracking_search(board, word, pos + CartesianIndex(1, 0), depth + 1) ||\n",
    "              _backtracking_search(board, word, pos + CartesianIndex(-1, 0), depth + 1) ||\n",
    "              _backtracking_search(board, word, pos + CartesianIndex(0, 1), depth + 1) ||\n",
    "              _backtracking_search(board, word, pos + CartesianIndex(0, -1), depth + 1)\n",
    "        board[pos] -= 256\n",
    "        return res\n",
    "    end\n",
    "    for idx in CartesianIndices(board)\n",
    "        _backtracking_search(board, word, idx, 1) && return true\n",
    "    end\n",
    "    return false\n",
    "end\n",
    "\n",
    "# @lc code=end"
   ],
   "metadata": {},
   "execution_count": 1
  },
  {
   "cell_type": "markdown",
   "source": [
    "---\n",
    "\n",
    "*This notebook was generated using [Literate.jl](https://github.com/fredrikekre/Literate.jl).*"
   ],
   "metadata": {}
  }
 ],
 "nbformat_minor": 3,
 "metadata": {
  "language_info": {
   "file_extension": ".jl",
   "mimetype": "application/julia",
   "name": "julia",
   "version": "1.6.4"
  },
  "kernelspec": {
   "name": "julia-1.6",
   "display_name": "Julia 1.6.4",
   "language": "julia"
  }
 },
 "nbformat": 4
}
