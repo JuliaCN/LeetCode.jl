{
 "cells": [
  {
   "cell_type": "markdown",
   "source": [
    "Given an array `A` of positive integers, `A[i]` represents the value of the\n",
    "`i`-th sightseeing spot, and two sightseeing spots `i` and `j` have distance\n",
    "`j - i` between them.\n",
    "\n",
    "The _score_  of a pair (`i < j`) of sightseeing spots is (`A[i] + A[j] + i -\n",
    "j)` : the sum of the values of the sightseeing spots, **minus** the distance\n",
    "between them.\n",
    "\n",
    "Return the maximum score of a pair of sightseeing spots.\n",
    "\n",
    "\n",
    "\n",
    "**Example 1:**\n",
    "\n",
    "\n",
    "\n",
    "    Input: [8,1,5,2,6]\n",
    "    Output: 11\n",
    "    Explanation: i = 0, j = 2, A[i] + A[j] + i - j = 8 + 5 + 0 - 2 = 11\n",
    "\n",
    "\n",
    "\n",
    "\n",
    "**Note:**\n",
    "\n",
    "  1. `2 <= A.length <= 50000`\n",
    "  2. `1 <= A[i] <= 1000`"
   ],
   "metadata": {}
  },
  {
   "outputs": [
    {
     "output_type": "execute_result",
     "data": {
      "text/plain": "max_score_sightseeing_pair (generic function with 1 method)"
     },
     "metadata": {},
     "execution_count": 1
    }
   ],
   "cell_type": "code",
   "source": [
    "# @lc code=start\n",
    "using LeetCode\n",
    "\n",
    "function max_score_sightseeing_pair(A::Vector{Int})\n",
    "    res, mx = 0, A[1] + 0\n",
    "    for j in 2:length(A)\n",
    "        res = max(res, A[j] - j + 1 + mx)\n",
    "        mx = max(mx, A[j] + j - 1)\n",
    "    end\n",
    "    res\n",
    "end\n",
    "# @lc code=end"
   ],
   "metadata": {},
   "execution_count": 1
  },
  {
   "cell_type": "markdown",
   "source": [
    "---\n",
    "\n",
    "*This notebook was generated using [Literate.jl](https://github.com/fredrikekre/Literate.jl).*"
   ],
   "metadata": {}
  }
 ],
 "nbformat_minor": 3,
 "metadata": {
  "language_info": {
   "file_extension": ".jl",
   "mimetype": "application/julia",
   "name": "julia",
   "version": "1.10.4"
  },
  "kernelspec": {
   "name": "julia-1.10",
   "display_name": "Julia 1.10.4",
   "language": "julia"
  }
 },
 "nbformat": 4
}
