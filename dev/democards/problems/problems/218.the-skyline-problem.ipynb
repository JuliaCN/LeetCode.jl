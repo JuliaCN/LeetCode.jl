{
 "cells": [
  {
   "cell_type": "markdown",
   "source": [
    "A city's **skyline** is the outer contour of the silhouette formed by all the\n",
    "buildings in that city when viewed from a distance. Given the locations and\n",
    "heights of all the buildings, return _the **skyline** formed by these\n",
    "buildings collectively_.\n",
    "\n",
    "The geometric information of each building is given in the array `buildings`\n",
    "where `buildings[i] = [lefti, righti, heighti]`:\n",
    "\n",
    "  * `lefti` is the x coordinate of the left edge of the `ith` building.\n",
    "  * `righti` is the x coordinate of the right edge of the `ith` building.\n",
    "  * `heighti` is the height of the `ith` building.\n",
    "\n",
    "You may assume all buildings are perfect rectangles grounded on an absolutely\n",
    "flat surface at height `0`.\n",
    "\n",
    "The **skyline** should be represented as a list of \"key points\" **sorted by\n",
    "their x-coordinate** in the form `[[x1,y1],[x2,y2],...]`. Each key point is\n",
    "the left endpoint of some horizontal segment in the skyline except the last\n",
    "point in the list, which always has a y-coordinate  `0` and is used to mark\n",
    "the skyline's termination where the rightmost building ends. Any ground\n",
    "between the leftmost and rightmost buildings should be part of the skyline's\n",
    "contour.\n",
    "\n",
    "**Note:** There must be no consecutive horizontal lines of equal height in the\n",
    "output skyline. For instance, `[...,[2 3],[4 5],[7 5],[11 5],[12 7],...]` is\n",
    "not acceptable; the three lines of height 5 should be merged into one in the\n",
    "final output as such: `[...,[2 3],[4 5],[12 7],...]`\n",
    "\n",
    "\n",
    "\n",
    "**Example 1:**\n",
    "\n",
    "![](https://assets.leetcode.com/uploads/2020/12/01/merged.jpg)\n",
    "\n",
    "\n",
    "\n",
    "    Input: buildings = [[2,9,10],[3,7,15],[5,12,12],[15,20,10],[19,24,8]]\n",
    "    Output: [[2,10],[3,15],[7,12],[12,0],[15,10],[20,8],[24,0]]\n",
    "    Explanation:\n",
    "    Figure A shows the buildings of the input.\n",
    "    Figure B shows the skyline formed by those buildings. The red points in figure B represent the key points in the output list.\n",
    "\n",
    "\n",
    "**Example 2:**\n",
    "\n",
    "\n",
    "\n",
    "    Input: buildings = [[0,2,3],[2,5,3]]\n",
    "    Output: [[0,3],[5,0]]\n",
    "\n",
    "\n",
    "\n",
    "\n",
    "**Constraints:**\n",
    "\n",
    "  * `1 <= buildings.length <= 104`\n",
    "  * `0 <= lefti < righti <= 231 - 1`\n",
    "  * `1 <= heighti <= 231 - 1`\n",
    "  * `buildings` is sorted by `lefti` in non-decreasing order."
   ],
   "metadata": {}
  },
  {
   "outputs": [
    {
     "output_type": "execute_result",
     "data": {
      "text/plain": "get_skyline (generic function with 1 method)"
     },
     "metadata": {},
     "execution_count": 1
    }
   ],
   "cell_type": "code",
   "source": [
    "# @lc code=start\n",
    "using LeetCode\n",
    "\n",
    "function get_skyline(buildings::Vector{Vector{Int}})\n",
    "    all = Tuple{Int, Int}[]\n",
    "    res = Tuple{Int, Int}[]\n",
    "    @inbounds for b in buildings\n",
    "        push!(all, (b[1], -b[3]))\n",
    "        push!(all, (b[2], b[3]))\n",
    "    end\n",
    "    sort!(all)\n",
    "\n",
    "    heights = SortedMultiDict{Int, Nothing}()\n",
    "    push!(heights, 0 => nothing)\n",
    "    lst = (0, 0)\n",
    "    for p in all\n",
    "        p[2] < 0 ? push!(heights, -p[2] => nothing) : delete!((heights, searchsortedfirst(heights, p[2])))\n",
    "        mh = last(heights).first\n",
    "        if lst[2] != mh\n",
    "            lst = (p[1], mh)\n",
    "            push!(res, lst)\n",
    "        end\n",
    "    end\n",
    "    return res\n",
    "end\n",
    "# @lc code=end"
   ],
   "metadata": {},
   "execution_count": 1
  },
  {
   "cell_type": "markdown",
   "source": [
    "---\n",
    "\n",
    "*This notebook was generated using [Literate.jl](https://github.com/fredrikekre/Literate.jl).*"
   ],
   "metadata": {}
  }
 ],
 "nbformat_minor": 3,
 "metadata": {
  "language_info": {
   "file_extension": ".jl",
   "mimetype": "application/julia",
   "name": "julia",
   "version": "1.6.2"
  },
  "kernelspec": {
   "name": "julia-1.6",
   "display_name": "Julia 1.6.2",
   "language": "julia"
  }
 },
 "nbformat": 4
}
