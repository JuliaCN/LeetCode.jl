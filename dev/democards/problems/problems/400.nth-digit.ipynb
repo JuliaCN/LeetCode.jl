{
 "cells": [
  {
   "cell_type": "markdown",
   "source": [
    "Find the _n_ th digit of the infinite integer sequence 1, 2, 3, 4, 5, 6, 7, 8,\n",
    "9, 10, 11, ...\n",
    "\n",
    "**Note:**\n",
    "_n_ is positive and will fit within the range of a 32-bit signed integer ( _n_\n",
    "< 231).\n",
    "\n",
    "**Example 1:**\n",
    "\n",
    "\n",
    "\n",
    "    Input:\n",
    "    3\n",
    "\n",
    "    Output:\n",
    "    3\n",
    "\n",
    "\n",
    "**Example 2:**\n",
    "\n",
    "\n",
    "\n",
    "    Input:\n",
    "    11\n",
    "\n",
    "    Output:\n",
    "    0\n",
    "\n",
    "    Explanation:\n",
    "    The 11th digit of the sequence 1, 2, 3, 4, 5, 6, 7, 8, 9, 10, 11, ... is a 0, which is part of the number 10."
   ],
   "metadata": {}
  },
  {
   "outputs": [
    {
     "output_type": "execute_result",
     "data": {
      "text/plain": "find_nth_digit (generic function with 1 method)"
     },
     "metadata": {},
     "execution_count": 1
    }
   ],
   "cell_type": "code",
   "source": [
    "# @lc code=start\n",
    "using LeetCode\n",
    "\n",
    "function find_nth_digit(n::Int)\n",
    "    ant = [0, 10, 190, 2890, 38890, 488890, 5888890, 68888890, 788888890]\n",
    "    num_begin = [0, 10, 100, 1000, 10000, 100000, 1000000, 10000000, 100000000]\n",
    "    idx = searchsortedlast(ant, n)\n",
    "    num = (n - ant[idx]) ÷ idx + num_begin[idx]\n",
    "    posi = (n - ant[idx]) % idx\n",
    "    return num % (10^(idx - posi)) ÷ 10^(idx - posi - 1)\n",
    "end\n",
    "# @lc code=end"
   ],
   "metadata": {},
   "execution_count": 1
  },
  {
   "cell_type": "markdown",
   "source": [
    "---\n",
    "\n",
    "*This notebook was generated using [Literate.jl](https://github.com/fredrikekre/Literate.jl).*"
   ],
   "metadata": {}
  }
 ],
 "nbformat_minor": 3,
 "metadata": {
  "language_info": {
   "file_extension": ".jl",
   "mimetype": "application/julia",
   "name": "julia",
   "version": "1.9.1"
  },
  "kernelspec": {
   "name": "julia-1.9",
   "display_name": "Julia 1.9.1",
   "language": "julia"
  }
 },
 "nbformat": 4
}
