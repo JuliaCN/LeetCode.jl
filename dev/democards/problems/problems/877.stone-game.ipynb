{
 "cells": [
  {
   "cell_type": "markdown",
   "source": [
    "Alex and Lee play a game with piles of stones.  There are an even number of\n",
    "piles **arranged in a row** , and each pile has a positive integer number of\n",
    "stones `piles[i]`.\n",
    "\n",
    "The objective of the game is to end with the most stones.  The total number of\n",
    "stones is odd, so there are no ties.\n",
    "\n",
    "Alex and Lee take turns, with Alex starting first.  Each turn, a player takes\n",
    "the entire pile of stones from either the beginning or the end of the row.\n",
    "This continues until there are no more piles left, at which point the person\n",
    "with the most stones wins.\n",
    "\n",
    "Assuming Alex and Lee play optimally, return `True` if and only if Alex wins\n",
    "the game.\n",
    "\n",
    "\n",
    "\n",
    "**Example 1:**\n",
    "\n",
    "\n",
    "\n",
    "    Input: piles = [5,3,4,5]\n",
    "    Output: true\n",
    "    Explanation:\n",
    "    Alex starts first, and can only take the first 5 or the last 5.\n",
    "    Say he takes the first 5, so that the row becomes [3, 4, 5].\n",
    "    If Lee takes 3, then the board is [4, 5], and Alex takes 5 to win with 10 points.\n",
    "    If Lee takes the last 5, then the board is [3, 4], and Alex takes 4 to win with 9 points.\n",
    "    This demonstrated that taking the first 5 was a winning move for Alex, so we return true.\n",
    "\n",
    "\n",
    "\n",
    "\n",
    "**Constraints:**\n",
    "\n",
    "  * `2 <= piles.length <= 500`\n",
    "  * `piles.length` is even.\n",
    "  * `1 <= piles[i] <= 500`\n",
    "  * `sum(piles)` is odd."
   ],
   "metadata": {}
  },
  {
   "outputs": [
    {
     "output_type": "execute_result",
     "data": {
      "text/plain": "Main.##1250.stone_game"
     },
     "metadata": {},
     "execution_count": 1
    }
   ],
   "cell_type": "code",
   "source": [
    "# @lc code=start\n",
    "using LeetCode\n",
    "\"\"\"\n",
    "function stone_game(piles::Vector{Int})\n",
    "    len = length(piles)\n",
    "    dp = Matrix{Int}(undef, len, len)\n",
    "    for i in 1:len\n",
    "        dp[i, i] = piles[i]\n",
    "    end\n",
    "    for i in (len - 1):-1:1, j in (i + 1):len\n",
    "        dp[i, j] = max(piles[i] - dp[i + 1, j], piles[j] - dp[i, j - 1])\n",
    "    end\n",
    "    return dp[1, end] > 0\n",
    "end\n",
    "\"\"\"\n",
    "stone_game(::Vector{Int}) = true\n",
    "# @lc code=end"
   ],
   "metadata": {},
   "execution_count": 1
  },
  {
   "cell_type": "markdown",
   "source": [
    "---\n",
    "\n",
    "*This notebook was generated using [Literate.jl](https://github.com/fredrikekre/Literate.jl).*"
   ],
   "metadata": {}
  }
 ],
 "nbformat_minor": 3,
 "metadata": {
  "language_info": {
   "file_extension": ".jl",
   "mimetype": "application/julia",
   "name": "julia",
   "version": "1.7.2"
  },
  "kernelspec": {
   "name": "julia-1.7",
   "display_name": "Julia 1.7.2",
   "language": "julia"
  }
 },
 "nbformat": 4
}
