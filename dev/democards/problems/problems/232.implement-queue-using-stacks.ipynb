{
 "cells": [
  {
   "cell_type": "markdown",
   "source": [
    "Implement a first in first out (FIFO) queue using only two stacks. The\n",
    "implemented queue should support all the functions of a normal queue (`push`,\n",
    "`peek`, `pop`, and `empty`).\n",
    "\n",
    "Implement the `MyQueue` class:\n",
    "\n",
    "  * `void push(int x)` Pushes element x to the back of the queue.\n",
    "  * `int pop()` Removes the element from the front of the queue and returns it.\n",
    "  * `int peek()` Returns the element at the front of the queue.\n",
    "  * `boolean empty()` Returns `true` if the queue is empty, `false` otherwise.\n",
    "\n",
    "**Notes:**\n",
    "\n",
    "  * You must use **only** standard operations of a stack, which means only `push to top`, `peek/pop from top`, `size`, and `is empty` operations are valid.\n",
    "  * Depending on your language, the stack may not be supported natively. You may simulate a stack using a list or deque (double-ended queue) as long as you use only a stack's standard operations.\n",
    "\n",
    "**Follow-up:** Can you implement the queue such that each operation is\n",
    "**[amortized](https://en.wikipedia.org/wiki/Amortized_analysis)** `O(1)` time\n",
    "complexity? In other words, performing `n` operations will take overall `O(n)`\n",
    "time even if one of those operations may take longer.\n",
    "\n",
    "\n",
    "\n",
    "**Example 1:**\n",
    "\n",
    "\n",
    "\n",
    "    **Input**\n",
    "    [\"MyQueue\", \"push\", \"push\", \"peek\", \"pop\", \"empty\"]\n",
    "    [[], [1], [2], [], [], []]\n",
    "    **Output**\n",
    "    [null, null, null, 1, 1, false]\n",
    "\n",
    "    **Explanation**\n",
    "    MyQueue myQueue = new MyQueue();\n",
    "    myQueue.push(1); // queue is: [1]\n",
    "    myQueue.push(2); // queue is: [1, 2] (leftmost is front of the queue)\n",
    "    myQueue.peek(); // return 1\n",
    "    myQueue.pop(); // return 1, queue is [2]\n",
    "    myQueue.empty(); // return false\n",
    "\n",
    "\n",
    "\n",
    "\n",
    "**Constraints:**\n",
    "\n",
    "  * `1 <= x <= 9`\n",
    "  * At most `100` calls will be made to `push`, `pop`, `peek`, and `empty`.\n",
    "  * All the calls to `pop` and `peek` are valid."
   ],
   "metadata": {}
  },
  {
   "outputs": [
    {
     "output_type": "execute_result",
     "data": {
      "text/plain": "myqueue_move! (generic function with 1 method)"
     },
     "metadata": {},
     "execution_count": 1
    }
   ],
   "cell_type": "code",
   "source": [
    "# @lc code=start\n",
    "using LeetCode\n",
    "using DataStructures\n",
    "\n",
    "struct MyQueue\n",
    "    in_stack::Vector{Int}\n",
    "    out_stack::Vector{Int}\n",
    "    MyQueue() = new(Int[], Int[])\n",
    "end\n",
    "\n",
    "\n",
    "# Push element x to the back of queue.\n",
    "myqueue_push!(queue::MyQueue, x::Int) = push!(queue.in_stack, x)\n",
    "\n",
    "# Removes the element from in front of queue and returns that element.\n",
    "function myqueue_pop!(queue::MyQueue)\n",
    "    myqueue_move!(queue)\n",
    "\n",
    "    return pop!(queue.out_stack)\n",
    "end\n",
    "\n",
    "# Get the front element.\n",
    "function myqueue_peek(queue::MyQueue)\n",
    "    myqueue_move!(queue)\n",
    "    return queue.out_stack[end]\n",
    "end\n",
    "\n",
    "# Returns whether the queue is empty.\n",
    "myqueue_isempty(queue::MyQueue) = isempty(queue.in_stack) && isempty(queue.out_stack)\n",
    "\n",
    "function myqueue_move!(queue::MyQueue)\n",
    "    if isempty(queue.out_stack)\n",
    "        while !isempty(queue.in_stack)\n",
    "            push!(queue.out_stack, pop!(queue.in_stack))\n",
    "        end\n",
    "    end\n",
    "end\n",
    "# @lc code=end"
   ],
   "metadata": {},
   "execution_count": 1
  },
  {
   "cell_type": "markdown",
   "source": [
    "---\n",
    "\n",
    "*This notebook was generated using [Literate.jl](https://github.com/fredrikekre/Literate.jl).*"
   ],
   "metadata": {}
  }
 ],
 "nbformat_minor": 3,
 "metadata": {
  "language_info": {
   "file_extension": ".jl",
   "mimetype": "application/julia",
   "name": "julia",
   "version": "1.7.0"
  },
  "kernelspec": {
   "name": "julia-1.7",
   "display_name": "Julia 1.7.0",
   "language": "julia"
  }
 },
 "nbformat": 4
}
