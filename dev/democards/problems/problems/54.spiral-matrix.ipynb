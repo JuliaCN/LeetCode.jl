{
 "cells": [
  {
   "cell_type": "markdown",
   "source": [
    "Given an `m x n` `matrix`, return _all elements of the_ `matrix` _in spiral\n",
    "order_.\n",
    "\n",
    "\n",
    "\n",
    "**Example 1:**\n",
    "\n",
    "![](https://assets.leetcode.com/uploads/2020/11/13/spiral1.jpg)\n",
    "\n",
    "\n",
    "\n",
    "    Input: matrix = [[1,2,3],[4,5,6],[7,8,9]]\n",
    "    Output: [1,2,3,6,9,8,7,4,5]\n",
    "\n",
    "\n",
    "**Example 2:**\n",
    "\n",
    "![](https://assets.leetcode.com/uploads/2020/11/13/spiral.jpg)\n",
    "\n",
    "\n",
    "\n",
    "    Input: matrix = [[1,2,3,4],[5,6,7,8],[9,10,11,12]]\n",
    "    Output: [1,2,3,4,8,12,11,10,9,5,6,7]\n",
    "\n",
    "\n",
    "\n",
    "\n",
    "**Constraints:**\n",
    "\n",
    "  * `m == matrix.length`\n",
    "  * `n == matrix[i].length`\n",
    "  * `1 <= m, n <= 10`\n",
    "  * `-100 <= matrix[i][j] <= 100`"
   ],
   "metadata": {}
  },
  {
   "outputs": [
    {
     "output_type": "execute_result",
     "data": {
      "text/plain": "spiral_order (generic function with 1 method)"
     },
     "metadata": {},
     "execution_count": 1
    }
   ],
   "cell_type": "code",
   "source": [
    "# @lc code=start\n",
    "using LeetCode\n",
    "\n",
    "function spiral_order(matrix::Vector{Vector{Int}})::Vector{Int}\n",
    "    res = Int[]\n",
    "    while !isempty(matrix)\n",
    "        for each in popfirst!(matrix)\n",
    "            push!(res, each)\n",
    "        end\n",
    "\n",
    "        if !isempty(matrix) && !isempty(matrix[1])\n",
    "            for row in matrix\n",
    "                push!(res, pop!(row))\n",
    "            end\n",
    "        end\n",
    "\n",
    "        if !isempty(matrix)\n",
    "            for each in pop!(matrix)[end:-1:1]\n",
    "                push!(res, each)\n",
    "            end\n",
    "        end\n",
    "\n",
    "        if !isempty(matrix) && !isempty(matrix[1])\n",
    "            for row in matrix[end:-1:1]\n",
    "                push!(res, popfirst!(row))\n",
    "            end\n",
    "        end\n",
    "    end\n",
    "\n",
    "    return res\n",
    "end\n",
    "# @lc code=end"
   ],
   "metadata": {},
   "execution_count": 1
  },
  {
   "cell_type": "markdown",
   "source": [
    "---\n",
    "\n",
    "*This notebook was generated using [Literate.jl](https://github.com/fredrikekre/Literate.jl).*"
   ],
   "metadata": {}
  }
 ],
 "nbformat_minor": 3,
 "metadata": {
  "language_info": {
   "file_extension": ".jl",
   "mimetype": "application/julia",
   "name": "julia",
   "version": "1.8.0"
  },
  "kernelspec": {
   "name": "julia-1.8",
   "display_name": "Julia 1.8.0",
   "language": "julia"
  }
 },
 "nbformat": 4
}
