{
 "cells": [
  {
   "cell_type": "markdown",
   "source": [
    "Given an array of integers and an integer _k_ , find out whether there are two\n",
    "distinct indices _i_ and _j_ in the array such that **nums[i] = nums[j]** and\n",
    "the **absolute** difference between _i_ and _j_ is at most _k_.\n",
    "\n",
    "**Example 1:**\n",
    "\n",
    "\n",
    "\n",
    "    Input: nums = [1,2,3,1], k = 3\n",
    "    Output: true\n",
    "\n",
    "\n",
    "**Example 2:**\n",
    "\n",
    "\n",
    "\n",
    "    Input: nums = [1,0,1,1], k = 1\n",
    "    Output: true\n",
    "\n",
    "\n",
    "**Example 3:**\n",
    "\n",
    "\n",
    "\n",
    "    Input: nums = [1,2,3,1,2,3], k = 2\n",
    "    Output: false"
   ],
   "metadata": {}
  },
  {
   "outputs": [
    {
     "output_type": "execute_result",
     "data": {
      "text/plain": "contains_nearby_duplicate (generic function with 1 method)"
     },
     "metadata": {},
     "execution_count": 1
    }
   ],
   "cell_type": "code",
   "source": [
    "# @lc code=start\n",
    "using LeetCode\n",
    "\n",
    "function contains_nearby_duplicate(nums::Vector{Int}, k::Int)::Bool\n",
    "    pos = Dict{Int,Int}()\n",
    "    for (i, num) in enumerate(nums)\n",
    "        haskey(pos, num) && i - pos[num] <= k && return true\n",
    "        pos[num] = i\n",
    "    end\n",
    "    return false\n",
    "end\n",
    "\n",
    "# @lc code=end"
   ],
   "metadata": {},
   "execution_count": 1
  },
  {
   "cell_type": "markdown",
   "source": [
    "---\n",
    "\n",
    "*This notebook was generated using [Literate.jl](https://github.com/fredrikekre/Literate.jl).*"
   ],
   "metadata": {}
  }
 ],
 "nbformat_minor": 3,
 "metadata": {
  "language_info": {
   "file_extension": ".jl",
   "mimetype": "application/julia",
   "name": "julia",
   "version": "1.7.2"
  },
  "kernelspec": {
   "name": "julia-1.7",
   "display_name": "Julia 1.7.2",
   "language": "julia"
  }
 },
 "nbformat": 4
}
