{
 "cells": [
  {
   "cell_type": "markdown",
   "source": [
    "Given a binary search tree (BST), find the lowest common ancestor (LCA) of two\n",
    "given nodes in the BST.\n",
    "\n",
    "According to the [definition of LCA on\n",
    "Wikipedia](https://en.wikipedia.org/wiki/Lowest_common_ancestor): \"The lowest\n",
    "common ancestor is defined between two nodes p and q as the lowest node in T\n",
    "that has both p and q as descendants (where we allow **a node to be a\n",
    "descendant of itself** ).\"\n",
    "\n",
    "\n",
    "\n",
    "**Example 1:**\n",
    "\n",
    "![](https://assets.leetcode.com/uploads/2018/12/14/binarysearchtree_improved.png)\n",
    "\n",
    "\n",
    "\n",
    "    Input: root = [6,2,8,0,4,7,9,null,null,3,5], p = 2, q = 8\n",
    "    Output: 6\n",
    "    Explanation: The LCA of nodes 2 and 8 is 6.\n",
    "\n",
    "\n",
    "**Example 2:**\n",
    "\n",
    "![](https://assets.leetcode.com/uploads/2018/12/14/binarysearchtree_improved.png)\n",
    "\n",
    "\n",
    "\n",
    "    Input: root = [6,2,8,0,4,7,9,null,null,3,5], p = 2, q = 4\n",
    "    Output: 2\n",
    "    Explanation: The LCA of nodes 2 and 4 is 2, since a node can be a descendant of itself according to the LCA definition.\n",
    "\n",
    "\n",
    "**Example 3:**\n",
    "\n",
    "\n",
    "\n",
    "    Input: root = [2,1], p = 2, q = 1\n",
    "    Output: 2\n",
    "\n",
    "\n",
    "\n",
    "\n",
    "**Constraints:**\n",
    "\n",
    "  * The number of nodes in the tree is in the range `[2, 105]`.\n",
    "  * `-109 <= Node.val <= 109`\n",
    "  * All `Node.val` are **unique**.\n",
    "  * `p != q`\n",
    "  * `p` and `q` will exist in the BST."
   ],
   "metadata": {}
  },
  {
   "outputs": [
    {
     "output_type": "execute_result",
     "data": {
      "text/plain": "lowest_common_ancestor_235 (generic function with 1 method)"
     },
     "metadata": {},
     "execution_count": 1
    }
   ],
   "cell_type": "code",
   "source": [
    "# @lc code=start\n",
    "using LeetCode\n",
    "\n",
    "function lowest_common_ancestor_235(root::TreeNode, p::TreeNode, q::TreeNode)::TreeNode\n",
    "    lv, gv = p.val < q.val ? (p.val, q.val) : (q.val, p.val)\n",
    "    while true\n",
    "        lv <= root.val <= gv && return root\n",
    "        root = root.val < lv ? root.right : root.left\n",
    "    end\n",
    "end\n",
    "# @lc code=end"
   ],
   "metadata": {},
   "execution_count": 1
  },
  {
   "cell_type": "markdown",
   "source": [
    "---\n",
    "\n",
    "*This notebook was generated using [Literate.jl](https://github.com/fredrikekre/Literate.jl).*"
   ],
   "metadata": {}
  }
 ],
 "nbformat_minor": 3,
 "metadata": {
  "language_info": {
   "file_extension": ".jl",
   "mimetype": "application/julia",
   "name": "julia",
   "version": "1.7.2"
  },
  "kernelspec": {
   "name": "julia-1.7",
   "display_name": "Julia 1.7.2",
   "language": "julia"
  }
 },
 "nbformat": 4
}
