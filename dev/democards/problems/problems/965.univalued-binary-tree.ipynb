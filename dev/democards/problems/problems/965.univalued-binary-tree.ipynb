{
 "cells": [
  {
   "cell_type": "markdown",
   "source": [
    "A binary tree is _univalued_ if every node in the tree has the same value.\n",
    "\n",
    "Return `true` if and only if the given tree is univalued.\n",
    "\n",
    "\n",
    "\n",
    "**Example 1:**\n",
    "\n",
    "![](https://assets.leetcode.com/uploads/2018/12/28/unival_bst_1.png)\n",
    "\n",
    "\n",
    "\n",
    "    Input: [1,1,1,1,1,null,1]\n",
    "    Output: true\n",
    "\n",
    "\n",
    "**Example 2:**\n",
    "\n",
    "![](https://assets.leetcode.com/uploads/2018/12/28/unival_bst_2.png)\n",
    "\n",
    "\n",
    "\n",
    "    Input: [2,2,2,5,2]\n",
    "    Output: false\n",
    "\n",
    "\n",
    "\n",
    "\n",
    "**Note:**\n",
    "\n",
    "  1. The number of nodes in the given tree will be in the range `[1, 100]`.\n",
    "  2. Each node's value will be an integer in the range `[0, 99]`."
   ],
   "metadata": {}
  },
  {
   "outputs": [
    {
     "output_type": "execute_result",
     "data": {
      "text/plain": "is_unival_tree (generic function with 1 method)"
     },
     "metadata": {},
     "execution_count": 1
    }
   ],
   "cell_type": "code",
   "source": [
    "# @lc code=start\n",
    "using LeetCode\n",
    "\n",
    "function is_unival_tree(root::TreeNode)\n",
    "    is_unival_tree(::Nothing, ::Int) = true\n",
    "    is_unival_tree(root::TreeNode, val::Int) =\n",
    "        (root.val != val) ? false :\n",
    "               is_unival_tree(root.left, val) && is_unival_tree(root.right, val)\n",
    "    return is_unival_tree(root, root.val)\n",
    "end\n",
    "# @lc code=end"
   ],
   "metadata": {},
   "execution_count": 1
  },
  {
   "cell_type": "markdown",
   "source": [
    "---\n",
    "\n",
    "*This notebook was generated using [Literate.jl](https://github.com/fredrikekre/Literate.jl).*"
   ],
   "metadata": {}
  }
 ],
 "nbformat_minor": 3,
 "metadata": {
  "language_info": {
   "file_extension": ".jl",
   "mimetype": "application/julia",
   "name": "julia",
   "version": "1.5.4"
  },
  "kernelspec": {
   "name": "julia-1.5",
   "display_name": "Julia 1.5.4",
   "language": "julia"
  }
 },
 "nbformat": 4
}
