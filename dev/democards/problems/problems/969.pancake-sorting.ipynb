{
 "cells": [
  {
   "cell_type": "markdown",
   "source": [
    "Given an array of integers `arr`, sort the array by performing a series of\n",
    "**pancake flips**.\n",
    "\n",
    "In one pancake flip we do the following steps:\n",
    "\n",
    "  * Choose an integer `k` where `1 <= k <= arr.length`.\n",
    "  * Reverse the sub-array `arr[1...k]`.\n",
    "\n",
    "For example, if `arr = [3,2,1,4]` and we performed a pancake flip choosing `k\n",
    "= 3`, we reverse the sub-array `[3,2,1]`, so `arr = [ **1,2,3** ,4]` after the\n",
    "pancake flip at `k = 3`.\n",
    "\n",
    "Return _the`k`-values corresponding to a sequence of pancake flips that sort\n",
    "`arr`_. Any valid answer that sorts the array within `10 * arr.length` flips\n",
    "will be judged as correct.\n",
    "\n",
    "\n",
    "\n",
    "**Example 1:**\n",
    "\n",
    "\n",
    "\n",
    "    Input: arr = [3,2,4,1]\n",
    "    Output: [4,2,4,3]\n",
    "    Explanation:\n",
    "    We perform 4 pancake flips, with k values 4, 2, 4, and 3.\n",
    "    Starting state: arr = [3, 2, 4, 1]\n",
    "    After 1st flip (k = 4): arr = [ **1, 4, 2, 3** ]\n",
    "    After 2nd flip (k = 2): arr = [ **4, 1** , 2, 3]\n",
    "    After 3rd flip (k = 4): arr = [ **3, 2, 1, 4** ]\n",
    "    After 4th flip (k = 3): arr = [ **1, 2, 3** , 4], which is sorted.\n",
    "    Notice that we return an array of the chosen k values of the pancake flips.\n",
    "\n",
    "\n",
    "**Example 2:**\n",
    "\n",
    "\n",
    "\n",
    "    Input: arr = [1,2,3]\n",
    "    Output: []\n",
    "    Explanation: The input is already sorted, so there is no need to flip anything.\n",
    "    Note that other answers, such as [3, 3], would also be accepted.\n",
    "\n",
    "\n",
    "\n",
    "\n",
    "**Constraints:**\n",
    "\n",
    "  * `1 <= arr.length <= 100`\n",
    "  * `1 <= arr[i] <= arr.length`\n",
    "  * All integers in `arr` are unique (i.e. `arr` is a permutation of the integers from `1` to `arr.length`)."
   ],
   "metadata": {}
  },
  {
   "outputs": [
    {
     "output_type": "execute_result",
     "data": {
      "text/plain": "pancake_sort! (generic function with 1 method)"
     },
     "metadata": {},
     "execution_count": 1
    }
   ],
   "cell_type": "code",
   "source": [
    "# @lc code=start\n",
    "using LeetCode\n",
    "\n",
    "function pancake_sort(arr::Vector{Int})\n",
    "    len = length(arr)\n",
    "    res = Int[]\n",
    "    for i in len:-1:1\n",
    "        v = @view(arr[1:i])\n",
    "        agm = argmax(v)\n",
    "        if i != agm\n",
    "            append!(res, (agm, i))\n",
    "            pancake_sort!(arr, (agm, i))\n",
    "        end\n",
    "    end\n",
    "    return res\n",
    "end\n",
    "function pancake_sort!(arr::Vector{Int}, ops)\n",
    "    for op in ops\n",
    "        reverse!(@view(arr[1:op]))\n",
    "    end\n",
    "    return arr\n",
    "end\n",
    "\n",
    "# @lc code=end"
   ],
   "metadata": {},
   "execution_count": 1
  },
  {
   "cell_type": "markdown",
   "source": [
    "---\n",
    "\n",
    "*This notebook was generated using [Literate.jl](https://github.com/fredrikekre/Literate.jl).*"
   ],
   "metadata": {}
  }
 ],
 "nbformat_minor": 3,
 "metadata": {
  "language_info": {
   "file_extension": ".jl",
   "mimetype": "application/julia",
   "name": "julia",
   "version": "1.6.3"
  },
  "kernelspec": {
   "name": "julia-1.6",
   "display_name": "Julia 1.6.3",
   "language": "julia"
  }
 },
 "nbformat": 4
}
