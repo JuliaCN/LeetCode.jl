{
 "cells": [
  {
   "cell_type": "markdown",
   "source": [
    "Given an input string (`s`) and a pattern (`p`), implement regular expression\n",
    "matching with support for `'.'` and `'*'` where:` `\n",
    "\n",
    "  * `'.'` Matches any single character.​​​​\n",
    "  * `'*'` Matches zero or more of the preceding element.\n",
    "\n",
    "The matching should cover the **entire** input string (not partial).\n",
    "\n",
    "\n",
    "\n",
    "**Example 1:**\n",
    "\n",
    "\n",
    "\n",
    "    Input: s = \"aa\", p = \"a\"\n",
    "    Output: false\n",
    "    Explanation: \"a\" does not match the entire string \"aa\".\n",
    "\n",
    "\n",
    "**Example 2:**\n",
    "\n",
    "\n",
    "\n",
    "    Input: s = \"aa\", p = \"a*\"\n",
    "    Output: true\n",
    "    Explanation:  '*' means zero or more of the preceding element, 'a'. Therefore, by repeating 'a' once, it becomes \"aa\".\n",
    "\n",
    "\n",
    "**Example 3:**\n",
    "\n",
    "\n",
    "\n",
    "    Input: s = \"ab\", p = \".*\"\n",
    "    Output: true\n",
    "    Explanation:  \".*\" means \"zero or more (*) of any character (.)\".\n",
    "\n",
    "\n",
    "**Example 4:**\n",
    "\n",
    "\n",
    "\n",
    "    Input: s = \"aab\", p = \"c*a*b\"\n",
    "    Output: true\n",
    "    Explanation:  c can be repeated 0 times, a can be repeated 1 time. Therefore, it matches \"aab\".\n",
    "\n",
    "\n",
    "**Example 5:**\n",
    "\n",
    "\n",
    "\n",
    "    Input: s = \"mississippi\", p = \"mis*is*p*.\"\n",
    "    Output: false\n",
    "\n",
    "\n",
    "\n",
    "\n",
    "**Constraints:**\n",
    "\n",
    "  * `0 <= s.length <= 20`\n",
    "  * `0 <= p.length <= 30`\n",
    "  * `s` contains only lowercase English letters.\n",
    "  * `p` contains only lowercase English letters, `'.'`, and `'*'`.\n",
    "  * It is guaranteed for each appearance of the character `'*'`, there will be a previous valid character to match."
   ],
   "metadata": {}
  },
  {
   "outputs": [
    {
     "output_type": "execute_result",
     "data": {
      "text/plain": "is_match (generic function with 1 method)"
     },
     "metadata": {},
     "execution_count": 1
    }
   ],
   "cell_type": "code",
   "source": [
    "# @lc code=start\n",
    "using LeetCode\n",
    "\n",
    "function is_match(s::AbstractString, p::AbstractString)::Bool\n",
    "    if isempty(p)\n",
    "        isempty(s)\n",
    "    elseif length(p) >= 2 && p[2] == '*'\n",
    "        if !isempty(s) && (s[1] == p[1] || p[1] == '.')\n",
    "            # case 1: * means 1 or more of previous char, then the first char of `s` and `p` must match.\n",
    "            is_match(SubString(s, 2), p)\n",
    "        else\n",
    "            # case 2: * means zero of previous char, ignore it and match the rest\n",
    "            is_match(s, SubString(p, 3))\n",
    "        end\n",
    "    else\n",
    "        if isempty(s)\n",
    "            false  ## length mismatch\n",
    "        elseif (s[1] == p[1] || p[1] == '.')\n",
    "            is_match(SubString(s, 2), SubString(p, 2))\n",
    "        else\n",
    "            false  ## first char mismatch\n",
    "        end\n",
    "    end\n",
    "end\n",
    "# @lc code=end"
   ],
   "metadata": {},
   "execution_count": 1
  },
  {
   "cell_type": "markdown",
   "source": [
    "---\n",
    "\n",
    "*This notebook was generated using [Literate.jl](https://github.com/fredrikekre/Literate.jl).*"
   ],
   "metadata": {}
  }
 ],
 "nbformat_minor": 3,
 "metadata": {
  "language_info": {
   "file_extension": ".jl",
   "mimetype": "application/julia",
   "name": "julia",
   "version": "1.6.4"
  },
  "kernelspec": {
   "name": "julia-1.6",
   "display_name": "Julia 1.6.4",
   "language": "julia"
  }
 },
 "nbformat": 4
}
