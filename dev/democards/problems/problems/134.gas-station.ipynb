{
 "cells": [
  {
   "cell_type": "markdown",
   "source": [
    "There are _N_ gas stations along a circular route, where the amount of gas at\n",
    "station _i_ is `gas[i]`.\n",
    "\n",
    "You have a car with an unlimited gas tank and it costs `cost[i]` of gas to\n",
    "travel from station _i_ to its next station ( _i_ +1). You begin the journey\n",
    "with an empty tank at one of the gas stations.\n",
    "\n",
    "Return the starting gas station's index if you can travel around the circuit\n",
    "once in the clockwise direction, otherwise return -1.\n",
    "\n",
    "**Note:**\n",
    "\n",
    "  * If there exists a solution, it is guaranteed to be unique.\n",
    "  * Both input arrays are non-empty and have the same length.\n",
    "  * Each element in the input arrays is a non-negative integer.\n",
    "\n",
    "**Example 1:**\n",
    "\n",
    "\n",
    "\n",
    "    Input:\n",
    "    gas  = [1,2,3,4,5]\n",
    "    cost = [3,4,5,1,2]\n",
    "\n",
    "    Output: 3\n",
    "\n",
    "    Explanation: Start at station 3 (index 3) and fill up with 4 unit of gas. Your tank = 0 + 4 = 4\n",
    "    Travel to station 4. Your tank = 4 - 1 + 5 = 8\n",
    "    Travel to station 0. Your tank = 8 - 2 + 1 = 7\n",
    "    Travel to station 1. Your tank = 7 - 3 + 2 = 6\n",
    "    Travel to station 2. Your tank = 6 - 4 + 3 = 5\n",
    "    Travel to station 3. The cost is 5. Your gas is just enough to travel back to station 3.\n",
    "    Therefore, return 3 as the starting index.\n",
    "\n",
    "\n",
    "**Example 2:**\n",
    "\n",
    "\n",
    "\n",
    "    Input:\n",
    "    gas  = [2,3,4]\n",
    "    cost = [3,4,3]\n",
    "\n",
    "    Output: -1\n",
    "\n",
    "    Explanation: You can't start at station 0 or 1, as there is not enough gas to travel to the next station.\n",
    "    Let's start at station 2 and fill up with 4 unit of gas. Your tank = 0 + 4 = 4\n",
    "    Travel to station 0. Your tank = 4 - 3 + 2 = 3\n",
    "    Travel to station 1. Your tank = 3 - 3 + 3 = 3\n",
    "    You cannot travel back to station 2, as it requires 4 unit of gas but you only have 3.\n",
    "    Therefore, you can't travel around the circuit once no matter where you start."
   ],
   "metadata": {}
  },
  {
   "outputs": [
    {
     "output_type": "execute_result",
     "data": {
      "text/plain": "can_complete_circuit (generic function with 1 method)"
     },
     "metadata": {},
     "execution_count": 1
    }
   ],
   "cell_type": "code",
   "source": [
    "# @lc code=start\n",
    "using LeetCode\n",
    "\n",
    "function can_complete_circuit(gas::Vector{Int}, cost::Vector{Int})\n",
    "    gas .-= cost\n",
    "    accumulate!(+, gas, gas)\n",
    "    if gas[end] < 0\n",
    "        return -1\n",
    "    end\n",
    "    return argmin(gas) % length(gas)\n",
    "end\n",
    "# @lc code=end"
   ],
   "metadata": {},
   "execution_count": 1
  },
  {
   "cell_type": "markdown",
   "source": [
    "---\n",
    "\n",
    "*This notebook was generated using [Literate.jl](https://github.com/fredrikekre/Literate.jl).*"
   ],
   "metadata": {}
  }
 ],
 "nbformat_minor": 3,
 "metadata": {
  "language_info": {
   "file_extension": ".jl",
   "mimetype": "application/julia",
   "name": "julia",
   "version": "1.10.1"
  },
  "kernelspec": {
   "name": "julia-1.10",
   "display_name": "Julia 1.10.1",
   "language": "julia"
  }
 },
 "nbformat": 4
}
