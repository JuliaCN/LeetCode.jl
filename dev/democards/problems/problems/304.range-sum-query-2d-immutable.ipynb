{
 "cells": [
  {
   "cell_type": "markdown",
   "source": [
    "Given a 2D matrix _matrix_ , find the sum of the elements inside the rectangle\n",
    "defined by its upper left corner ( _row_ 1, _col_ 1) and lower right corner (\n",
    "_row_ 2, _col_ 2).\n",
    "\n",
    "![Range Sum Query 2D](https://assets.leetcode.com/static/images/courses/range_sum_query_2d.png)\n",
    "The above rectangle (with the red border) is defined by (row1, col1) = **(2,\n",
    "1)** and (row2, col2) = **(4, 3)** , which contains sum = **8**.\n",
    "\n",
    "**Example:**\n",
    "\n",
    "\n",
    "\n",
    "    Given matrix = [\n",
    "      [3, 0, 1, 4, 2],\n",
    "      [5, 6, 3, 2, 1],\n",
    "      [1, 2, 0, 1, 5],\n",
    "      [4, 1, 0, 1, 7],\n",
    "      [1, 0, 3, 0, 5]\n",
    "    ]\n",
    "\n",
    "    sumRegion(2, 1, 4, 3) -> 8\n",
    "    sumRegion(1, 1, 2, 2) -> 11\n",
    "    sumRegion(1, 2, 2, 4) -> 12\n",
    "\n",
    "\n",
    "**Note:**\n",
    "\n",
    "  1. You may assume that the matrix does not change.\n",
    "  2. There are many calls to _sumRegion_ function.\n",
    "  3. You may assume that _row_ 1 ≤ _row_ 2 and _col_ 1 ≤ _col_ 2."
   ],
   "metadata": {}
  },
  {
   "outputs": [
    {
     "output_type": "execute_result",
     "data": {
      "text/plain": "sum_region (generic function with 1 method)"
     },
     "metadata": {},
     "execution_count": 1
    }
   ],
   "cell_type": "code",
   "source": [
    "# @lc code=start\n",
    "using LeetCode\n",
    "\n",
    "struct NumMatrix\n",
    "    sums::Vector{Vector{Int}}\n",
    "    function NumMatrix(matrix::Vector{Vector{Int}})\n",
    "        m, n = length(matrix), length(matrix[1])\n",
    "        sums = [fill(0, n + 1) for _ = 1:m]\n",
    "\n",
    "        for i = 1:m, j = 1:n\n",
    "            sums[i][j+1] = sums[i][j] + matrix[i][j]\n",
    "        end\n",
    "\n",
    "        new(sums)\n",
    "    end\n",
    "end\n",
    "\n",
    "sum_region(matrix::NumMatrix, row1::Int, col1::Int, row2::Int, col2::Int) =\n",
    "    sum(matrix.sums[i][col2+1] - matrix.sums[i][col1] for i = row1:row2)\n",
    "\n",
    "# @lc code=end"
   ],
   "metadata": {},
   "execution_count": 1
  },
  {
   "cell_type": "markdown",
   "source": [
    "---\n",
    "\n",
    "*This notebook was generated using [Literate.jl](https://github.com/fredrikekre/Literate.jl).*"
   ],
   "metadata": {}
  }
 ],
 "nbformat_minor": 3,
 "metadata": {
  "language_info": {
   "file_extension": ".jl",
   "mimetype": "application/julia",
   "name": "julia",
   "version": "1.6.1"
  },
  "kernelspec": {
   "name": "julia-1.6",
   "display_name": "Julia 1.6.1",
   "language": "julia"
  }
 },
 "nbformat": 4
}
