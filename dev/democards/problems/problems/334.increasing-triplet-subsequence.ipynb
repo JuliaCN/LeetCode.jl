{
 "cells": [
  {
   "cell_type": "markdown",
   "source": [
    "Given an unsorted array return whether an increasing subsequence of length 3\n",
    "exists or not in the array.\n",
    "\n",
    "Formally the function should:\n",
    "\n",
    "> Return true if there exists _i, j, k_\n",
    ">  such that _arr[i]_ < _arr[j]_ < _arr[k]_ given 0 ≤ _i_ < _j_ < _k_ ≤ _n_ -1\n",
    "> else return false.\n",
    "\n",
    "**Note:** Your algorithm should run in O( _n_ ) time complexity and O( _1_ )\n",
    "space complexity.\n",
    "\n",
    "**Example 1:**\n",
    "\n",
    "\n",
    "\n",
    "    Input: [1,2,3,4,5]\n",
    "    Output: true\n",
    "\n",
    "\n",
    "**Example 2:**\n",
    "\n",
    "\n",
    "\n",
    "    Input: [5,4,3,2,1]\n",
    "    Output: false"
   ],
   "metadata": {}
  },
  {
   "outputs": [
    {
     "output_type": "execute_result",
     "data": {
      "text/plain": "increasing_triplet (generic function with 1 method)"
     },
     "metadata": {},
     "execution_count": 1
    }
   ],
   "cell_type": "code",
   "source": [
    "# @lc code=start\n",
    "using LeetCode\n",
    "\n",
    "function increasing_triplet(nums::Vector{Int})\n",
    "    fst_min = scd_min = nums[1]\n",
    "    len = length(nums)\n",
    "    idx = 2\n",
    "    while idx <= len\n",
    "        (nums[idx] != fst_min) && break\n",
    "        idx += 1\n",
    "    end\n",
    "    (idx >= len) && return false\n",
    "    fst_min, scd_min = minmax(fst_min, nums[idx])\n",
    "    for num in @view(nums[(idx + 1):end])\n",
    "        (num > scd_min) && return true\n",
    "        scd_min = num\n",
    "        fst_min, scd_min = minmax(fst_min, scd_min)\n",
    "    end\n",
    "    return false\n",
    "end\n",
    "# @lc code=end"
   ],
   "metadata": {},
   "execution_count": 1
  },
  {
   "cell_type": "markdown",
   "source": [
    "---\n",
    "\n",
    "*This notebook was generated using [Literate.jl](https://github.com/fredrikekre/Literate.jl).*"
   ],
   "metadata": {}
  }
 ],
 "nbformat_minor": 3,
 "metadata": {
  "language_info": {
   "file_extension": ".jl",
   "mimetype": "application/julia",
   "name": "julia",
   "version": "1.10.1"
  },
  "kernelspec": {
   "name": "julia-1.10",
   "display_name": "Julia 1.10.1",
   "language": "julia"
  }
 },
 "nbformat": 4
}
