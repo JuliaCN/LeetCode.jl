{
 "cells": [
  {
   "cell_type": "markdown",
   "source": [
    "Remove all elements from a linked list of integers that have value **_val_**.\n",
    "\n",
    "**Example:**\n",
    "\n",
    "\n",
    "\n",
    "    Input:  1->2->6->3->4->5->6, _**val**_ = 6\n",
    "    Output: 1->2->3->4->5"
   ],
   "metadata": {}
  },
  {
   "outputs": [
    {
     "output_type": "execute_result",
     "data": {
      "text/plain": "remove_elements! (generic function with 1 method)"
     },
     "metadata": {},
     "execution_count": 1
    }
   ],
   "cell_type": "code",
   "source": [
    "# @lc code=start\n",
    "using LeetCode\n",
    "\n",
    "function remove_elements!(\n",
    "    head::Union{ListNode,Nothing}, value::Int\n",
    ")::Union{ListNode,Nothing}\n",
    "    cur = fake_head = ListNode()\n",
    "    fake_head.next = head\n",
    "    while !isnothing(cur.next)\n",
    "        if cur.next.val == value\n",
    "            cur.next = cur.next.next\n",
    "        else\n",
    "            cur = cur.next\n",
    "        end\n",
    "    end\n",
    "    return fake_head.next\n",
    "end\n",
    "# @lc code=end"
   ],
   "metadata": {},
   "execution_count": 1
  },
  {
   "cell_type": "markdown",
   "source": [
    "---\n",
    "\n",
    "*This notebook was generated using [Literate.jl](https://github.com/fredrikekre/Literate.jl).*"
   ],
   "metadata": {}
  }
 ],
 "nbformat_minor": 3,
 "metadata": {
  "language_info": {
   "file_extension": ".jl",
   "mimetype": "application/julia",
   "name": "julia",
   "version": "1.10.4"
  },
  "kernelspec": {
   "name": "julia-1.10",
   "display_name": "Julia 1.10.4",
   "language": "julia"
  }
 },
 "nbformat": 4
}
