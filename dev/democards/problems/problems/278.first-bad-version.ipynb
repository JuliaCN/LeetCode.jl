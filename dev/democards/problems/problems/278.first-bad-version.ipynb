{
 "cells": [
  {
   "cell_type": "markdown",
   "source": [
    "You are a product manager and currently leading a team to develop a new\n",
    "product. Unfortunately, the latest version of your product fails the quality\n",
    "check. Since each version is developed based on the previous version, all the\n",
    "versions after a bad version are also bad.\n",
    "\n",
    "Suppose you have `n` versions `[1, 2, ..., n]` and you want to find out the\n",
    "first bad one, which causes all the following ones to be bad.\n",
    "\n",
    "You are given an API `bool isBadVersion(version)` which returns whether\n",
    "`version` is bad. Implement a function to find the first bad version. You\n",
    "should minimize the number of calls to the API.\n",
    "\n",
    "\n",
    "\n",
    "**Example 1:**\n",
    "\n",
    "\n",
    "\n",
    "    Input: n = 5, bad = 4\n",
    "    Output: 4\n",
    "    Explanation:\n",
    "    call isBadVersion(3) -> false\n",
    "    call isBadVersion(5) -> true\n",
    "    call isBadVersion(4) -> true\n",
    "    Then 4 is the first bad version.\n",
    "\n",
    "\n",
    "**Example 2:**\n",
    "\n",
    "\n",
    "\n",
    "    Input: n = 1, bad = 1\n",
    "    Output: 1\n",
    "\n",
    "\n",
    "\n",
    "\n",
    "**Constraints:**\n",
    "\n",
    "  * `1 <= bad <= n <= 231 - 1`"
   ],
   "metadata": {}
  },
  {
   "outputs": [
    {
     "output_type": "execute_result",
     "data": {
      "text/plain": "first_bad_version (generic function with 1 method)"
     },
     "metadata": {},
     "execution_count": 1
    }
   ],
   "cell_type": "code",
   "source": [
    "# @lc code=start\n",
    "using LeetCode\n",
    "\n",
    "function first_bad_version(n::Int, is_bad_version::Function)::Int\n",
    "    left, right = 1, n\n",
    "    while left <= right\n",
    "        mid = (left + right) >> 1\n",
    "        if is_bad_version(mid)\n",
    "            right = mid - 1\n",
    "        else\n",
    "            left = mid + 1\n",
    "        end\n",
    "    end\n",
    "    return left\n",
    "end\n",
    "\n",
    "# @lc code=end"
   ],
   "metadata": {},
   "execution_count": 1
  },
  {
   "cell_type": "markdown",
   "source": [
    "---\n",
    "\n",
    "*This notebook was generated using [Literate.jl](https://github.com/fredrikekre/Literate.jl).*"
   ],
   "metadata": {}
  }
 ],
 "nbformat_minor": 3,
 "metadata": {
  "language_info": {
   "file_extension": ".jl",
   "mimetype": "application/julia",
   "name": "julia",
   "version": "1.7.3"
  },
  "kernelspec": {
   "name": "julia-1.7",
   "display_name": "Julia 1.7.3",
   "language": "julia"
  }
 },
 "nbformat": 4
}
