{
 "cells": [
  {
   "cell_type": "markdown",
   "source": [
    "Design a HashSet without using any built-in hash table libraries.\n",
    "\n",
    "To be specific, your design should include these functions:\n",
    "\n",
    "  * `add(value)`: Insert a value into the HashSet.\n",
    "  * `contains(value)` : Return whether the value exists in the HashSet or not.\n",
    "  * `remove(value)`: Remove a value in the HashSet. If the value does not exist in the HashSet, do nothing.\n",
    "\n",
    "\n",
    "**Example:**\n",
    "\n",
    "\n",
    "\n",
    "    MyHashSet hashSet = new MyHashSet();\n",
    "    hashSet.add(1);\n",
    "    hashSet.add(2);\n",
    "    hashSet.contains(1);    // returns true\n",
    "    hashSet.contains(3);    // returns false (not found)\n",
    "    hashSet.add(2);\n",
    "    hashSet.contains(2);    // returns true\n",
    "    hashSet.remove(2);\n",
    "    hashSet.contains(2);    // returns false (already removed)\n",
    "\n",
    "\n",
    "\n",
    "**Note:**\n",
    "\n",
    "  * All values will be in the range of `[0, 1000000]`.\n",
    "  * The number of operations will be in the range of `[1, 10000]`.\n",
    "  * Please do not use the built-in HashSet library."
   ],
   "metadata": {}
  },
  {
   "outputs": [
    {
     "output_type": "execute_result",
     "data": {
      "text/plain": "contains_705 (generic function with 1 method)"
     },
     "metadata": {},
     "execution_count": 1
    }
   ],
   "cell_type": "code",
   "source": [
    "# @lc code=start\n",
    "using LeetCode\n",
    "\n",
    "struct MyHashSet\n",
    "    buckets::Int\n",
    "    table::Vector{Vector{T}} where {T}\n",
    "    MyHashSet() = new(1009, [[] for _ = 1:1009])\n",
    "end\n",
    "\n",
    "hash_705(hash_set::MyHashSet, key::Int) = mod1(key, hash_set.buckets)\n",
    "\n",
    "function add_705!(hash_set::MyHashSet, key)\n",
    "    hash_key = hash_705(hash_set, key)\n",
    "\n",
    "    key ∈ hash_set.table[hash_key] && return\n",
    "\n",
    "    push!(hash_set.table[hash_key], key)\n",
    "    return\n",
    "end\n",
    "\n",
    "function remove_705!(hash_set::MyHashSet, key::Int)\n",
    "    hash_key = hash_705(hash_set, key)\n",
    "\n",
    "    key ∉ hash_set.table[hash_key] && return\n",
    "\n",
    "    deleteat!(hash_set.table[hash_key], hash_set.table[hash_key] .== key)\n",
    "end\n",
    "\n",
    "function contains_705(hash_set::MyHashSet, key::Int)\n",
    "    hash_key = hash_705(hash_set, key)\n",
    "\n",
    "    return key ∈ hash_set.table[hash_key]\n",
    "end\n",
    "# @lc code=end"
   ],
   "metadata": {},
   "execution_count": 1
  },
  {
   "cell_type": "markdown",
   "source": [
    "---\n",
    "\n",
    "*This notebook was generated using [Literate.jl](https://github.com/fredrikekre/Literate.jl).*"
   ],
   "metadata": {}
  }
 ],
 "nbformat_minor": 3,
 "metadata": {
  "language_info": {
   "file_extension": ".jl",
   "mimetype": "application/julia",
   "name": "julia",
   "version": "1.10.1"
  },
  "kernelspec": {
   "name": "julia-1.10",
   "display_name": "Julia 1.10.1",
   "language": "julia"
  }
 },
 "nbformat": 4
}
