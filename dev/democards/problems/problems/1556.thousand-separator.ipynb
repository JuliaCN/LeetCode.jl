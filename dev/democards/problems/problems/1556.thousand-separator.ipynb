{
 "cells": [
  {
   "cell_type": "markdown",
   "source": [
    "Given an integer `n`, add a dot (\".\") as the thousands separator and return it\n",
    "in string format.\n",
    "\n",
    "\n",
    "\n",
    "**Example 1:**\n",
    "\n",
    "\n",
    "\n",
    "    Input: n = 987\n",
    "    Output: \"987\"\n",
    "\n",
    "\n",
    "**Example 2:**\n",
    "\n",
    "\n",
    "\n",
    "    Input: n = 1234\n",
    "    Output: \"1.234\"\n",
    "\n",
    "\n",
    "**Example 3:**\n",
    "\n",
    "\n",
    "\n",
    "    Input: n = 123456789\n",
    "    Output: \"123.456.789\"\n",
    "\n",
    "\n",
    "**Example 4:**\n",
    "\n",
    "\n",
    "\n",
    "    Input: n = 0\n",
    "    Output: \"0\"\n",
    "\n",
    "\n",
    "\n",
    "\n",
    "**Constraints:**\n",
    "\n",
    "  * `0 <= n < 2^31`"
   ],
   "metadata": {}
  },
  {
   "outputs": [
    {
     "output_type": "execute_result",
     "data": {
      "text/plain": "thousand_separator (generic function with 1 method)"
     },
     "metadata": {},
     "execution_count": 1
    }
   ],
   "cell_type": "code",
   "source": [
    "# @lc code=start\n",
    "using LeetCode\n",
    "\n",
    "function thousand_separator(n::Int)\n",
    "    s = string(n)\n",
    "    r = length(s) % 3\n",
    "    ed = 0\n",
    "    if r == 0\n",
    "        r += 3\n",
    "        ed += 1\n",
    "    end\n",
    "    res = s[1:r]\n",
    "    for i in 1 : length(s) ÷ 3 - ed\n",
    "        res *= \".\" * s[r + i * 3 - 2 : r + i * 3]\n",
    "    end\n",
    "    res\n",
    "end\n",
    "# @lc code=end"
   ],
   "metadata": {},
   "execution_count": 1
  },
  {
   "cell_type": "markdown",
   "source": [
    "---\n",
    "\n",
    "*This notebook was generated using [Literate.jl](https://github.com/fredrikekre/Literate.jl).*"
   ],
   "metadata": {}
  }
 ],
 "nbformat_minor": 3,
 "metadata": {
  "language_info": {
   "file_extension": ".jl",
   "mimetype": "application/julia",
   "name": "julia",
   "version": "1.9.1"
  },
  "kernelspec": {
   "name": "julia-1.9",
   "display_name": "Julia 1.9.1",
   "language": "julia"
  }
 },
 "nbformat": 4
}
