{
 "cells": [
  {
   "cell_type": "markdown",
   "source": [
    "There are `N` piles of stones arranged in a row.  The `i`-th pile has\n",
    "`stones[i]` stones.\n",
    "\n",
    "A _move_ consists of merging **exactly  `K` consecutive** piles into one pile,\n",
    "and the cost of this move is equal to the total number of stones in these `K`\n",
    "piles.\n",
    "\n",
    "Find the minimum cost to merge all piles of stones into one pile.  If it is\n",
    "impossible, return `-1`.\n",
    "\n",
    "\n",
    "\n",
    "**Example 1:**\n",
    "\n",
    "\n",
    "\n",
    "    Input: stones = [3,2,4,1], K = 2\n",
    "    Output: 20\n",
    "    Explanation:\n",
    "    We start with [3, 2, 4, 1].\n",
    "    We merge [3, 2] for a cost of 5, and we are left with [5, 4, 1].\n",
    "    We merge [4, 1] for a cost of 5, and we are left with [5, 5].\n",
    "    We merge [5, 5] for a cost of 10, and we are left with [10].\n",
    "    The total cost was 20, and this is the minimum possible.\n",
    "\n",
    "\n",
    "**Example 2:**\n",
    "\n",
    "\n",
    "\n",
    "    Input: stones = [3,2,4,1], K = 3\n",
    "    Output: -1\n",
    "    Explanation: After any merge operation, there are 2 piles left, and we can't merge anymore.  So the task is impossible.\n",
    "\n",
    "\n",
    "**Example 3:**\n",
    "\n",
    "\n",
    "\n",
    "    Input: stones = [3,5,1,2,6], K = 3\n",
    "    Output: 25\n",
    "    Explanation:\n",
    "    We start with [3, 5, 1, 2, 6].\n",
    "    We merge [5, 1, 2] for a cost of 8, and we are left with [3, 8, 6].\n",
    "    We merge [3, 8, 6] for a cost of 17, and we are left with [17].\n",
    "    The total cost was 25, and this is the minimum possible.\n",
    "\n",
    "\n",
    "\n",
    "\n",
    "**Note:**\n",
    "\n",
    "  * `1 <= stones.length <= 30`\n",
    "  * `2 <= K <= 30`\n",
    "  * `1 <= stones[i] <= 100`"
   ],
   "metadata": {}
  },
  {
   "outputs": [
    {
     "output_type": "execute_result",
     "data": {
      "text/plain": "merge_stones (generic function with 1 method)"
     },
     "metadata": {},
     "execution_count": 1
    }
   ],
   "cell_type": "code",
   "source": [
    "# @lc code=start\n",
    "using LeetCode\n",
    "\n",
    "function merge_stones(stones::Vector{Int}, K::Int)\n",
    "    len = length(stones)\n",
    "    (len - 1) % (K - 1) != 0 && return -1\n",
    "    pre = fill(0, len + 1)\n",
    "    cumsum!(@view(pre[2:len + 1]), stones)\n",
    "    dp = fill(0, len, len)\n",
    "    for m in K:len, i in 1:(len - m + 1)\n",
    "        dp[i, i + m - 1] = minimum(dp[i, k] + dp[k + 1, i + m - 1]\n",
    "                               for k in i:(K - 1):(i + m - 2)) +\n",
    "                           ((m - 1) % (K - 1) == 0 ? pre[i + m] - pre[i] : 0)\n",
    "    end\n",
    "    return dp[1, len]\n",
    "end\n",
    "# @lc code=end"
   ],
   "metadata": {},
   "execution_count": 1
  },
  {
   "cell_type": "markdown",
   "source": [
    "---\n",
    "\n",
    "*This notebook was generated using [Literate.jl](https://github.com/fredrikekre/Literate.jl).*"
   ],
   "metadata": {}
  }
 ],
 "nbformat_minor": 3,
 "metadata": {
  "language_info": {
   "file_extension": ".jl",
   "mimetype": "application/julia",
   "name": "julia",
   "version": "1.6.3"
  },
  "kernelspec": {
   "name": "julia-1.6",
   "display_name": "Julia 1.6.3",
   "language": "julia"
  }
 },
 "nbformat": 4
}
