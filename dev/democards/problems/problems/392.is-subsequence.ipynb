{
 "cells": [
  {
   "cell_type": "markdown",
   "source": [
    "Given a string **s** and a string **t** , check if **s** is subsequence of\n",
    "**t**.\n",
    "\n",
    "A subsequence of a string is a new string which is formed from the original\n",
    "string by deleting some (can be none) of the characters without disturbing the\n",
    "relative positions of the remaining characters. (ie, `\"ace\"` is a subsequence\n",
    "of `\"abcde\"` while `\"aec\"` is not).\n",
    "\n",
    "**Follow up:**\n",
    "If there are lots of incoming S, say S1, S2, ... , Sk where k >= 1B, and you\n",
    "want to check one by one to see if T has its subsequence. In this scenario,\n",
    "how would you change your code?\n",
    "\n",
    "**Credits:**\n",
    "Special thanks to [@pbrother](https://leetcode.com/pbrother/) for adding this\n",
    "problem and creating all test cases.\n",
    "\n",
    "\n",
    "\n",
    "**Example 1:**\n",
    "\n",
    "\n",
    "\n",
    "    Input: s = \"abc\", t = \"ahbgdc\"\n",
    "    Output: true\n",
    "\n",
    "\n",
    "**Example 2:**\n",
    "\n",
    "\n",
    "\n",
    "    Input: s = \"axc\", t = \"ahbgdc\"\n",
    "    Output: false\n",
    "\n",
    "\n",
    "\n",
    "\n",
    "**Constraints:**\n",
    "\n",
    "  * `0 <= s.length <= 100`\n",
    "  * `0 <= t.length <= 10^4`\n",
    "  * Both strings consists only of lowercase characters."
   ],
   "metadata": {}
  },
  {
   "outputs": [
    {
     "output_type": "execute_result",
     "data": {
      "text/plain": "is_subsequence (generic function with 1 method)"
     },
     "metadata": {},
     "execution_count": 1
    }
   ],
   "cell_type": "code",
   "source": [
    "# @lc code=start\n",
    "using LeetCode\n",
    "\n",
    "function is_subsequence(s::String, t::String)::Bool\n",
    "    if length(s) == 0\n",
    "        true\n",
    "    else\n",
    "        i, j = 1, 1\n",
    "        while j <= length(t)\n",
    "            if s[i] == t[j]\n",
    "                i += 1\n",
    "                if i > length(s)\n",
    "                    return true\n",
    "                end\n",
    "            end\n",
    "            j += 1\n",
    "        end\n",
    "        false\n",
    "    end\n",
    "end\n",
    "# @lc code=end"
   ],
   "metadata": {},
   "execution_count": 1
  },
  {
   "cell_type": "markdown",
   "source": [
    "---\n",
    "\n",
    "*This notebook was generated using [Literate.jl](https://github.com/fredrikekre/Literate.jl).*"
   ],
   "metadata": {}
  }
 ],
 "nbformat_minor": 3,
 "metadata": {
  "language_info": {
   "file_extension": ".jl",
   "mimetype": "application/julia",
   "name": "julia",
   "version": "1.11.6"
  },
  "kernelspec": {
   "name": "julia-1.11",
   "display_name": "Julia 1.11.6",
   "language": "julia"
  }
 },
 "nbformat": 4
}
