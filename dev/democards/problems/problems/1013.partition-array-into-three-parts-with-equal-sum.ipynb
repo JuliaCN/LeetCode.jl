{
 "cells": [
  {
   "cell_type": "markdown",
   "source": [
    "Given an array `A` of integers, return `true` if and only if we can partition\n",
    "the array into three **non-empty** parts with equal sums.\n",
    "\n",
    "Formally, we can partition the array if we can find indexes `i+1 < j` with\n",
    "`(A[0] + A[1] + ... + A[i] == A[i+1] + A[i+2] + ... + A[j-1] == A[j] + A[j-1]\n",
    "+ ... + A[A.length - 1])`\n",
    "\n",
    "\n",
    "\n",
    "**Example 1:**\n",
    "\n",
    "\n",
    "\n",
    "    Input: A = [0,2,1,-6,6,-7,9,1,2,0,1]\n",
    "    Output: true\n",
    "    Explanation: 0 + 2 + 1 = -6 + 6 - 7 + 9 + 1 = 2 + 0 + 1\n",
    "\n",
    "\n",
    "**Example 2:**\n",
    "\n",
    "\n",
    "\n",
    "    Input: A = [0,2,1,-6,6,7,9,-1,2,0,1]\n",
    "    Output: false\n",
    "\n",
    "\n",
    "**Example 3:**\n",
    "\n",
    "\n",
    "\n",
    "    Input: A = [3,3,6,5,-2,2,5,1,-9,4]\n",
    "    Output: true\n",
    "    Explanation: 3 + 3 = 6 = 5 - 2 + 2 + 5 + 1 - 9 + 4\n",
    "\n",
    "\n",
    "\n",
    "\n",
    "**Constraints:**\n",
    "\n",
    "  * `3 <= A.length <= 50000`\n",
    "  * `-10^4 <= A[i] <= 10^4`"
   ],
   "metadata": {}
  },
  {
   "outputs": [
    {
     "output_type": "execute_result",
     "data": {
      "text/plain": "can_three_parts_equal_sum (generic function with 1 method)"
     },
     "metadata": {},
     "execution_count": 1
    }
   ],
   "cell_type": "code",
   "source": [
    "# @lc code=start\n",
    "using LeetCode\n",
    "\n",
    "function can_three_parts_equal_sum(arr::Vector{Int})\n",
    "    function can_three_parts_equal_sum(arr::AbstractVector{Int}, n::Int)\n",
    "        targ = sum(arr)\n",
    "        if targ % n != 0 || length(arr) == 0\n",
    "            return false\n",
    "        elseif n == 1\n",
    "            return true\n",
    "        end\n",
    "        targ ÷= n\n",
    "        acc = 0\n",
    "        for i in 1:length(arr)\n",
    "            acc += arr[i]\n",
    "            targ == acc && return can_three_parts_equal_sum(@view(arr[(i + 1):end]), n - 1)\n",
    "        end\n",
    "        return false\n",
    "    end\n",
    "    return can_three_parts_equal_sum(arr, 3)\n",
    "end\n",
    "# @lc code=end"
   ],
   "metadata": {},
   "execution_count": 1
  },
  {
   "cell_type": "markdown",
   "source": [
    "---\n",
    "\n",
    "*This notebook was generated using [Literate.jl](https://github.com/fredrikekre/Literate.jl).*"
   ],
   "metadata": {}
  }
 ],
 "nbformat_minor": 3,
 "metadata": {
  "language_info": {
   "file_extension": ".jl",
   "mimetype": "application/julia",
   "name": "julia",
   "version": "1.6.3"
  },
  "kernelspec": {
   "name": "julia-1.6",
   "display_name": "Julia 1.6.3",
   "language": "julia"
  }
 },
 "nbformat": 4
}
