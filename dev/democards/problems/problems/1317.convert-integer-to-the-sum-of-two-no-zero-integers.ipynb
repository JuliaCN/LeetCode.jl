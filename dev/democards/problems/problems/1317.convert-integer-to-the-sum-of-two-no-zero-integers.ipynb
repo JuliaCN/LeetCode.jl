{
 "cells": [
  {
   "cell_type": "markdown",
   "source": [
    "Given an integer `n`. No-Zero integer is a positive integer which **doesn 't\n",
    "contain any 0** in its decimal representation.\n",
    "\n",
    "Return _a list of two integers_ `[A, B]` where:\n",
    "\n",
    "  * `A` and `B` are No-Zero integers.\n",
    "  * `A + B = n`\n",
    "\n",
    "It's guarateed that there is at least one valid solution. If there are many\n",
    "valid solutions you can return any of them.\n",
    "\n",
    "\n",
    "\n",
    "**Example 1:**\n",
    "\n",
    "\n",
    "\n",
    "    Input: n = 2\n",
    "    Output: [1,1]\n",
    "    Explanation: A = 1, B = 1. A + B = n and both A and B don't contain any 0 in their decimal representation.\n",
    "\n",
    "\n",
    "**Example 2:**\n",
    "\n",
    "\n",
    "\n",
    "    Input: n = 11\n",
    "    Output: [2,9]\n",
    "\n",
    "\n",
    "**Example 3:**\n",
    "\n",
    "\n",
    "\n",
    "    Input: n = 10000\n",
    "    Output: [1,9999]\n",
    "\n",
    "\n",
    "**Example 4:**\n",
    "\n",
    "\n",
    "\n",
    "    Input: n = 69\n",
    "    Output: [1,68]\n",
    "\n",
    "\n",
    "**Example 5:**\n",
    "\n",
    "\n",
    "\n",
    "    Input: n = 1010\n",
    "    Output: [11,999]\n",
    "\n",
    "\n",
    "\n",
    "\n",
    "**Constraints:**\n",
    "\n",
    "  * `2 <= n <= 10^4`"
   ],
   "metadata": {}
  },
  {
   "outputs": [
    {
     "output_type": "execute_result",
     "data": {
      "text/plain": "get_no_zero_integers (generic function with 1 method)"
     },
     "metadata": {},
     "execution_count": 1
    }
   ],
   "cell_type": "code",
   "source": [
    "# @lc code=start\n",
    "using LeetCode\n",
    "\n",
    "function get_no_zero_integers(n::Int)::Vector{Int}\n",
    "    for i in 1:(n - 1)\n",
    "        if !('0' in string(i)) && !('0' in string(n - i))\n",
    "            return [i, n - i]\n",
    "        end\n",
    "    end\n",
    "end\n",
    "# @lc code=end"
   ],
   "metadata": {},
   "execution_count": 1
  },
  {
   "cell_type": "markdown",
   "source": [
    "---\n",
    "\n",
    "*This notebook was generated using [Literate.jl](https://github.com/fredrikekre/Literate.jl).*"
   ],
   "metadata": {}
  }
 ],
 "nbformat_minor": 3,
 "metadata": {
  "language_info": {
   "file_extension": ".jl",
   "mimetype": "application/julia",
   "name": "julia",
   "version": "1.7.2"
  },
  "kernelspec": {
   "name": "julia-1.7",
   "display_name": "Julia 1.7.2",
   "language": "julia"
  }
 },
 "nbformat": 4
}
