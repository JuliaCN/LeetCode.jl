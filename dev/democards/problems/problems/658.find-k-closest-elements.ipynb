{
 "cells": [
  {
   "cell_type": "markdown",
   "source": [
    "Given a **sorted** integer array `arr`, two integers `k` and `x`, return the\n",
    "`k` closest integers to `x` in the array. The result should also be sorted in\n",
    "ascending order.\n",
    "\n",
    "An integer `a` is closer to `x` than an integer `b` if:\n",
    "\n",
    "  * `|a - x| < |b - x|`, or\n",
    "  * `|a - x| == |b - x|` and `a < b`\n",
    "\n",
    "\n",
    "\n",
    "**Example 1:**\n",
    "\n",
    "\n",
    "\n",
    "    Input: arr = [1,2,3,4,5], k = 4, x = 3\n",
    "    Output: [1,2,3,4]\n",
    "\n",
    "\n",
    "**Example 2:**\n",
    "\n",
    "\n",
    "\n",
    "    Input: arr = [1,2,3,4,5], k = 4, x = -1\n",
    "    Output: [1,2,3,4]\n",
    "\n",
    "\n",
    "\n",
    "\n",
    "**Constraints:**\n",
    "\n",
    "  * `1 <= k <= arr.length`\n",
    "  * `1 <= arr.length <= 104`\n",
    "  * Absolute value of elements in the array and `x` will not exceed `104`"
   ],
   "metadata": {}
  },
  {
   "outputs": [
    {
     "output_type": "execute_result",
     "data": {
      "text/plain": "find_closest_elements (generic function with 1 method)"
     },
     "metadata": {},
     "execution_count": 1
    }
   ],
   "cell_type": "code",
   "source": [
    "# @lc code=start\n",
    "using LeetCode\n",
    "\n",
    "function find_closest_elements(arr::Vector{Int}, k::Int, x::Int)\n",
    "    res = Int[]\n",
    "    j = searchsortedfirst(arr, x)\n",
    "    i = j - 1\n",
    "    for _ in 1:k\n",
    "        if i == 0 || (j <= length(arr) && arr[j] - x < x - arr[i])\n",
    "            push!(res, arr[j])\n",
    "            j += 1\n",
    "        else\n",
    "            pushfirst!(res, arr[i])\n",
    "            i -= 1\n",
    "        end\n",
    "    end\n",
    "    return res\n",
    "end\n",
    "# @lc code=end"
   ],
   "metadata": {},
   "execution_count": 1
  },
  {
   "cell_type": "markdown",
   "source": [
    "---\n",
    "\n",
    "*This notebook was generated using [Literate.jl](https://github.com/fredrikekre/Literate.jl).*"
   ],
   "metadata": {}
  }
 ],
 "nbformat_minor": 3,
 "metadata": {
  "language_info": {
   "file_extension": ".jl",
   "mimetype": "application/julia",
   "name": "julia",
   "version": "1.8.2"
  },
  "kernelspec": {
   "name": "julia-1.8",
   "display_name": "Julia 1.8.2",
   "language": "julia"
  }
 },
 "nbformat": 4
}
