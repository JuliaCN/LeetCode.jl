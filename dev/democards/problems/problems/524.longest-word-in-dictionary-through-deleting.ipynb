{
 "cells": [
  {
   "cell_type": "markdown",
   "source": [
    "Given a string and a string dictionary, find the longest string in the\n",
    "dictionary that can be formed by deleting some characters of the given string.\n",
    "If there are more than one possible results, return the longest word with the\n",
    "smallest lexicographical order. If there is no possible result, return the\n",
    "empty string.\n",
    "\n",
    "**Example 1:**\n",
    "\n",
    "\n",
    "\n",
    "    Input:\n",
    "    s = \"abpcplea\", d = [\"ale\",\"apple\",\"monkey\",\"plea\"]\n",
    "\n",
    "    Output:\n",
    "    \"apple\"\n",
    "\n",
    "\n",
    "**Example 2:**\n",
    "\n",
    "\n",
    "\n",
    "    Input:\n",
    "    s = \"abpcplea\", d = [\"a\",\"b\",\"c\"]\n",
    "\n",
    "    Output:\n",
    "    \"a\"\n",
    "\n",
    "\n",
    "**Note:**\n",
    "\n",
    "  1. All the strings in the input will only contain lower-case letters.\n",
    "  2. The size of the dictionary won't exceed 1,000.\n",
    "  3. The length of all the strings in the input won't exceed 1,000."
   ],
   "metadata": {}
  },
  {
   "outputs": [
    {
     "output_type": "execute_result",
     "data": {
      "text/plain": "find_longest_word (generic function with 1 method)"
     },
     "metadata": {},
     "execution_count": 1
    }
   ],
   "cell_type": "code",
   "source": [
    "# @lc code=start\n",
    "using LeetCode\n",
    "\n",
    "function find_longest_word(s::String, dictionary::Vector{String})\n",
    "    function is_subsequence(s::String, t::String)::Bool\n",
    "        i, j = 1, 1\n",
    "        lens, lent = length(s), length(t)\n",
    "        while j <= lent\n",
    "            if s[i] == t[j]\n",
    "                i += 1\n",
    "                i > lens && return true\n",
    "            end\n",
    "            j += 1\n",
    "        end\n",
    "        return false\n",
    "    end\n",
    "    res = \"\"\n",
    "    for str in dictionary\n",
    "        (is_subsequence(str, s) && (length(res) < length(str) || res > str)) && (res = str)\n",
    "    end\n",
    "    return res\n",
    "end\n",
    "# @lc code=end"
   ],
   "metadata": {},
   "execution_count": 1
  },
  {
   "cell_type": "markdown",
   "source": [
    "---\n",
    "\n",
    "*This notebook was generated using [Literate.jl](https://github.com/fredrikekre/Literate.jl).*"
   ],
   "metadata": {}
  }
 ],
 "nbformat_minor": 3,
 "metadata": {
  "language_info": {
   "file_extension": ".jl",
   "mimetype": "application/julia",
   "name": "julia",
   "version": "1.10.4"
  },
  "kernelspec": {
   "name": "julia-1.10",
   "display_name": "Julia 1.10.4",
   "language": "julia"
  }
 },
 "nbformat": 4
}
