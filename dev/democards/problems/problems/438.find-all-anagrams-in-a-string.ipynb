{
 "cells": [
  {
   "cell_type": "markdown",
   "source": [
    "Given a string **s** and a **non-empty** string **p** , find all the start\n",
    "indices of **p** 's anagrams in **s**.\n",
    "\n",
    "Strings consists of lowercase English letters only and the length of both\n",
    "strings **s** and **p** will not be larger than 20,100.\n",
    "\n",
    "The order of output does not matter.\n",
    "\n",
    "**Example 1:**\n",
    "\n",
    "\n",
    "\n",
    "    Input:\n",
    "    s: \"cbaebabacd\" p: \"abc\"\n",
    "\n",
    "    Output:\n",
    "    [0, 6]\n",
    "\n",
    "    Explanation:\n",
    "    The substring with start index = 0 is \"cba\", which is an anagram of \"abc\".\n",
    "    The substring with start index = 6 is \"bac\", which is an anagram of \"abc\".\n",
    "\n",
    "\n",
    "**Example 2:**\n",
    "\n",
    "\n",
    "\n",
    "    Input:\n",
    "    s: \"abab\" p: \"ab\"\n",
    "\n",
    "    Output:\n",
    "    [0, 1, 2]\n",
    "\n",
    "    Explanation:\n",
    "    The substring with start index = 0 is \"ab\", which is an anagram of \"ab\".\n",
    "    The substring with start index = 1 is \"ba\", which is an anagram of \"ab\".\n",
    "    The substring with start index = 2 is \"ab\", which is an anagram of \"ab\"."
   ],
   "metadata": {}
  },
  {
   "outputs": [
    {
     "output_type": "execute_result",
     "data": {
      "text/plain": "find_anagrams (generic function with 1 method)"
     },
     "metadata": {},
     "execution_count": 1
    }
   ],
   "cell_type": "code",
   "source": [
    "# @lc code=start\n",
    "using LeetCode\n",
    "\n",
    "function find_anagrams(s::String, p::String)\n",
    "    len = length(p)\n",
    "    cntp = fill(0, 26)\n",
    "    cnts = cntp[:]\n",
    "    res = Int[]\n",
    "    for c in p\n",
    "        cntp[c - 'a' + 1] += 1\n",
    "    end\n",
    "    for i in 1:len-1\n",
    "        cnts[s[i] - 'a' + 1] += 1\n",
    "    end\n",
    "    for i in len:length(s)\n",
    "        cnts[s[i] - 'a' + 1] += 1\n",
    "        cnts == cntp && push!(res, i - len + 1)\n",
    "        cnts[s[i - len + 1] - 'a' + 1] -= 1\n",
    "    end\n",
    "    return res\n",
    "end\n",
    "# @lc code=end"
   ],
   "metadata": {},
   "execution_count": 1
  },
  {
   "cell_type": "markdown",
   "source": [
    "---\n",
    "\n",
    "*This notebook was generated using [Literate.jl](https://github.com/fredrikekre/Literate.jl).*"
   ],
   "metadata": {}
  }
 ],
 "nbformat_minor": 3,
 "metadata": {
  "language_info": {
   "file_extension": ".jl",
   "mimetype": "application/julia",
   "name": "julia",
   "version": "1.6.2"
  },
  "kernelspec": {
   "name": "julia-1.6",
   "display_name": "Julia 1.6.2",
   "language": "julia"
  }
 },
 "nbformat": 4
}
