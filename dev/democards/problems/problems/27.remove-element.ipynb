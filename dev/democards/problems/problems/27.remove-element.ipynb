{
 "cells": [
  {
   "cell_type": "markdown",
   "source": [
    "Given an array _nums_ and a value _val_ , remove all instances of that value\n",
    "[**in-place**](https://en.wikipedia.org/wiki/In-place_algorithm) and return\n",
    "the new length.\n",
    "\n",
    "Do not allocate extra space for another array, you must do this by **modifying\n",
    "the input array[in-place](https://en.wikipedia.org/wiki/In-place_algorithm)**\n",
    "with O(1) extra memory.\n",
    "\n",
    "The order of elements can be changed. It doesn't matter what you leave beyond\n",
    "the new length.\n",
    "\n",
    "**Clarification:**\n",
    "\n",
    "Confused why the returned value is an integer but your answer is an array?\n",
    "\n",
    "Note that the input array is passed in by **reference** , which means a\n",
    "modification to the input array will be known to the caller as well.\n",
    "\n",
    "Internally you can think of this:\n",
    "\n",
    "\n",
    "\n",
    "    // **nums** is passed in by reference. (i.e., without making a copy)\n",
    "    int len = removeElement(nums, val);\n",
    "\n",
    "    // any modification to **nums** in your function would be known by the caller.\n",
    "    // using the length returned by your function, it prints the first **len** elements.\n",
    "    for (int i = 0; i < len; i++) {\n",
    "        print(nums[i]);\n",
    "    }\n",
    "\n",
    "\n",
    "\n",
    "**Example 1:**\n",
    "\n",
    "\n",
    "\n",
    "    Input: nums = [3,2,2,3], val = 3\n",
    "    Output: 2, nums = [2,2]\n",
    "    Explanation: Your function should return length = **2** , with the first two elements of _nums_ being **2**.\n",
    "    It doesn't matter what you leave beyond the returned length. For example if you return 2 with nums = [2,2,3,3] or nums = [2,3,0,0], your answer will be accepted.\n",
    "\n",
    "\n",
    "**Example 2:**\n",
    "\n",
    "\n",
    "\n",
    "    Input: nums = [0,1,2,2,3,0,4,2], val = 2\n",
    "    Output: 5, nums = [0,1,4,0,3]\n",
    "    Explanation: Your function should return length = **5** , with the first five elements of _nums_ containing  **0** , **1** , **3** , **0** , and  **4**. Note that the order of those five elements can be arbitrary. It doesn't matter what values are set beyond the returned length.\n",
    "\n",
    "\n",
    "\n",
    "\n",
    "**Constraints:**\n",
    "\n",
    "  * `0 <= nums.length <= 100`\n",
    "  * `0 <= nums[i] <= 50`\n",
    "  * `0 <= val <= 100`"
   ],
   "metadata": {}
  },
  {
   "outputs": [
    {
     "output_type": "execute_result",
     "data": {
      "text/plain": "remove_element! (generic function with 1 method)"
     },
     "metadata": {},
     "execution_count": 1
    }
   ],
   "cell_type": "code",
   "source": [
    "# @lc code=start\n",
    "using LeetCode\n",
    "\n",
    "remove_element!(nums::Vector{Int}, val::Int) = length(filter!(!=(val), nums))\n",
    "# @lc code=end"
   ],
   "metadata": {},
   "execution_count": 1
  },
  {
   "cell_type": "markdown",
   "source": [
    "---\n",
    "\n",
    "*This notebook was generated using [Literate.jl](https://github.com/fredrikekre/Literate.jl).*"
   ],
   "metadata": {}
  }
 ],
 "nbformat_minor": 3,
 "metadata": {
  "language_info": {
   "file_extension": ".jl",
   "mimetype": "application/julia",
   "name": "julia",
   "version": "1.8.0"
  },
  "kernelspec": {
   "name": "julia-1.8",
   "display_name": "Julia 1.8.0",
   "language": "julia"
  }
 },
 "nbformat": 4
}
