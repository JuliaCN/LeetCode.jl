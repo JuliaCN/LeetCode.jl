{
 "cells": [
  {
   "cell_type": "markdown",
   "source": [
    "Given an array of integers `A` and let _n_ to be its length.\n",
    "\n",
    "Assume `Bk` to be an array obtained by rotating the array `A` _k_ positions\n",
    "clock-wise, we define a \"rotation function\" `F` on `A` as follow:\n",
    "\n",
    "`F(k) = 0 * Bk[0] + 1 * Bk[1] + ... + (n-1) * Bk[n-1]`.\n",
    "\n",
    "Calculate the maximum value of `F(0), F(1), ..., F(n-1)`.\n",
    "\n",
    "**Note:**\n",
    "_n_ is guaranteed to be less than 105.\n",
    "\n",
    "**Example:**\n",
    "\n",
    "\n",
    "\n",
    "    A = [4, 3, 2, 6]\n",
    "\n",
    "    F(0) = (0 * 4) + (1 * 3) + (2 * 2) + (3 * 6) = 0 + 3 + 4 + 18 = 25\n",
    "    F(1) = (0 * 6) + (1 * 4) + (2 * 3) + (3 * 2) = 0 + 4 + 6 + 6 = 16\n",
    "    F(2) = (0 * 2) + (1 * 6) + (2 * 4) + (3 * 3) = 0 + 6 + 8 + 9 = 23\n",
    "    F(3) = (0 * 3) + (1 * 2) + (2 * 6) + (3 * 4) = 0 + 2 + 12 + 12 = 26\n",
    "\n",
    "    So the maximum value of F(0), F(1), F(2), F(3) is F(3) = 26."
   ],
   "metadata": {}
  },
  {
   "outputs": [
    {
     "output_type": "execute_result",
     "data": {
      "text/plain": "max_rotate_function (generic function with 1 method)"
     },
     "metadata": {},
     "execution_count": 1
    }
   ],
   "cell_type": "code",
   "source": [
    "# @lc code=start\n",
    "using LeetCode\n",
    "\n",
    "function max_rotate_function(A::Vector{Int})::Int\n",
    "    # f(i+1) = f(i) + ∑(A) - A[i] * length(A)\n",
    "    s = sum(A)\n",
    "    n = length(A)\n",
    "    cur = sum(k -> (k - 1) * A[k], 1:n)\n",
    "    res = cur\n",
    "    for i in n:-1:2\n",
    "        cur += s - n * A[i]\n",
    "        res = max(res, cur)\n",
    "    end\n",
    "    return res\n",
    "end\n",
    "# @lc code=end"
   ],
   "metadata": {},
   "execution_count": 1
  },
  {
   "cell_type": "markdown",
   "source": [
    "---\n",
    "\n",
    "*This notebook was generated using [Literate.jl](https://github.com/fredrikekre/Literate.jl).*"
   ],
   "metadata": {}
  }
 ],
 "nbformat_minor": 3,
 "metadata": {
  "language_info": {
   "file_extension": ".jl",
   "mimetype": "application/julia",
   "name": "julia",
   "version": "1.6.4"
  },
  "kernelspec": {
   "name": "julia-1.6",
   "display_name": "Julia 1.6.4",
   "language": "julia"
  }
 },
 "nbformat": 4
}
