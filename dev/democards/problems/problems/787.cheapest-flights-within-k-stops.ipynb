{
 "cells": [
  {
   "cell_type": "markdown",
   "source": [
    "There are `n` cities connected by `m` flights. Each flight starts from city\n",
    "`u` and arrives at `v` with a price `w`.\n",
    "\n",
    "Now given all the cities and flights, together with starting city `src` and\n",
    "the destination `dst`, your task is to find the cheapest price from `src` to\n",
    "`dst` with up to `k` stops. If there is no such route, output `-1`.\n",
    "\n",
    "\n",
    "\n",
    "    **Example 1:**\n",
    "    Input:\n",
    "    n = 3, edges = [[0,1,100],[1,2,100],[0,2,500]]\n",
    "    src = 0, dst = 2, k = 1\n",
    "    Output: 200\n",
    "    Explanation:\n",
    "    The graph looks like this:\n",
    "    ![](https://s3-lc-upload.s3.amazonaws.com/uploads/2018/02/16/995.png)\n",
    "\n",
    "    The cheapest price from city 0 to city 2 with at most 1 stop costs 200, as marked red in the picture.\n",
    "\n",
    "\n",
    "    **Example 2:**\n",
    "    Input:\n",
    "    n = 3, edges = [[0,1,100],[1,2,100],[0,2,500]]\n",
    "    src = 0, dst = 2, k = 0\n",
    "    Output: 500\n",
    "    Explanation:\n",
    "    The graph looks like this:\n",
    "    ![](https://s3-lc-upload.s3.amazonaws.com/uploads/2018/02/16/995.png)\n",
    "\n",
    "    The cheapest price from city 0 to city 2 with at most 0 stop costs 500, as marked blue in the picture.\n",
    "\n",
    "\n",
    "\n",
    "\n",
    "**Constraints:**\n",
    "\n",
    "  * The number of nodes `n` will be in range `[1, 100]`, with nodes labeled from `0` to `n`` - 1`.\n",
    "  * The size of `flights` will be in range `[0, n * (n - 1) / 2]`.\n",
    "  * The format of each flight will be `(src, ``dst``, price)`.\n",
    "  * The price of each flight will be in the range `[1, 10000]`.\n",
    "  * `k` is in the range of `[0, n - 1]`.\n",
    "  * There will not be any duplicated flights or self cycles."
   ],
   "metadata": {}
  },
  {
   "outputs": [
    {
     "output_type": "execute_result",
     "data": {
      "text/plain": "find_cheapest_price (generic function with 1 method)"
     },
     "metadata": {},
     "execution_count": 1
    }
   ],
   "cell_type": "code",
   "source": [
    "# @lc code=start\n",
    "using LeetCode\n",
    "\n",
    "function find_cheapest_price(n::Int, flights::Vector{Vector{Int}}, src::Int, dst::Int, K::Int)\n",
    "    graph = [Dict{Int, Int}() for i in 1:n]\n",
    "    for flight in flights\n",
    "        graph[flight[1]][flight[2]] = flight[3]\n",
    "    end\n",
    "    cost = fill(typemax(Int) >> 1, n)\n",
    "    cost[src] = 0\n",
    "    changed = [src]\n",
    "    for i in 1:K+1\n",
    "        tmp = Int[]\n",
    "        for new_s in changed\n",
    "            for (s_to_t, st_cost) in graph[new_s]\n",
    "                if cost[s_to_t] > st_cost + cost[new_s]\n",
    "                    cost[s_to_t] = st_cost + cost[new_s]\n",
    "                    push!(tmp, s_to_t)\n",
    "                end\n",
    "            end\n",
    "        end\n",
    "        changed = tmp\n",
    "    end\n",
    "    return (cost[dst] == typemax(Int) >> 1) ? -1 : cost[dst]\n",
    "end\n",
    "# @lc code=end"
   ],
   "metadata": {},
   "execution_count": 1
  },
  {
   "cell_type": "markdown",
   "source": [
    "---\n",
    "\n",
    "*This notebook was generated using [Literate.jl](https://github.com/fredrikekre/Literate.jl).*"
   ],
   "metadata": {}
  }
 ],
 "nbformat_minor": 3,
 "metadata": {
  "language_info": {
   "file_extension": ".jl",
   "mimetype": "application/julia",
   "name": "julia",
   "version": "1.8.2"
  },
  "kernelspec": {
   "name": "julia-1.8",
   "display_name": "Julia 1.8.2",
   "language": "julia"
  }
 },
 "nbformat": 4
}
