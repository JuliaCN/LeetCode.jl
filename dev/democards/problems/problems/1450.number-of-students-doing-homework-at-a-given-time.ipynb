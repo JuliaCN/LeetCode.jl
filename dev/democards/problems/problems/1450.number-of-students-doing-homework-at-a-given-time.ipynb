{
 "cells": [
  {
   "cell_type": "markdown",
   "source": [
    "Given two integer arrays `startTime` and `endTime` and given an integer\n",
    "`queryTime`.\n",
    "\n",
    "The `ith` student started doing their homework at the time `startTime[i]` and\n",
    "finished it at time `endTime[i]`.\n",
    "\n",
    "Return _the number of students_ doing their homework at time `queryTime`. More\n",
    "formally, return the number of students where `queryTime` lays in the interval\n",
    "`[startTime[i], endTime[i]]` inclusive.\n",
    "\n",
    "\n",
    "\n",
    "**Example 1:**\n",
    "\n",
    "\n",
    "\n",
    "    Input: startTime = [1,2,3], endTime = [3,2,7], queryTime = 4\n",
    "    Output: 1\n",
    "    Explanation: We have 3 students where:\n",
    "    The first student started doing homework at time 1 and finished at time 3 and wasn't doing anything at time 4.\n",
    "    The second student started doing homework at time 2 and finished at time 2 and also wasn't doing anything at time 4.\n",
    "    The third student started doing homework at time 3 and finished at time 7 and was the only student doing homework at time 4.\n",
    "\n",
    "\n",
    "**Example 2:**\n",
    "\n",
    "\n",
    "\n",
    "    Input: startTime = [4], endTime = [4], queryTime = 4\n",
    "    Output: 1\n",
    "    Explanation: The only student was doing their homework at the queryTime.\n",
    "\n",
    "\n",
    "**Example 3:**\n",
    "\n",
    "\n",
    "\n",
    "    Input: startTime = [4], endTime = [4], queryTime = 5\n",
    "    Output: 0\n",
    "\n",
    "\n",
    "**Example 4:**\n",
    "\n",
    "\n",
    "\n",
    "    Input: startTime = [1,1,1,1], endTime = [1,3,2,4], queryTime = 7\n",
    "    Output: 0\n",
    "\n",
    "\n",
    "**Example 5:**\n",
    "\n",
    "\n",
    "\n",
    "    Input: startTime = [9,8,7,6,5,4,3,2,1], endTime = [10,10,10,10,10,10,10,10,10], queryTime = 5\n",
    "    Output: 5\n",
    "\n",
    "\n",
    "\n",
    "\n",
    "**Constraints:**\n",
    "\n",
    "  * `startTime.length == endTime.length`\n",
    "  * `1 <= startTime.length <= 100`\n",
    "  * `1 <= startTime[i] <= endTime[i] <= 1000`\n",
    "  * `1 <= queryTime <= 1000`"
   ],
   "metadata": {}
  },
  {
   "outputs": [
    {
     "output_type": "execute_result",
     "data": {
      "text/plain": "busystudent (generic function with 1 method)"
     },
     "metadata": {},
     "execution_count": 1
    }
   ],
   "cell_type": "code",
   "source": [
    "# @lc code=start\n",
    "using LeetCode\n",
    "\n",
    "function busystudent(starttime::AbstractVector, endtime::AbstractVector, query::Int)\n",
    "    return count(s ≤ query ≤ e for (s, e) in zip(starttime, endtime))\n",
    "end\n",
    "\n",
    "# @lc code=end"
   ],
   "metadata": {},
   "execution_count": 1
  },
  {
   "cell_type": "markdown",
   "source": [
    "---\n",
    "\n",
    "*This notebook was generated using [Literate.jl](https://github.com/fredrikekre/Literate.jl).*"
   ],
   "metadata": {}
  }
 ],
 "nbformat_minor": 3,
 "metadata": {
  "language_info": {
   "file_extension": ".jl",
   "mimetype": "application/julia",
   "name": "julia",
   "version": "1.10.1"
  },
  "kernelspec": {
   "name": "julia-1.10",
   "display_name": "Julia 1.10.1",
   "language": "julia"
  }
 },
 "nbformat": 4
}
