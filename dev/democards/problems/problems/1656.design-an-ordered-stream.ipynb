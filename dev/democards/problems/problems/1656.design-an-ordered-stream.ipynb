{
 "cells": [
  {
   "cell_type": "markdown",
   "source": [
    "There is a stream of `n` `(id, value)` pairs arriving in an **arbitrary**\n",
    "order, where `id` is an integer between `1` and `n` and `value` is a string.\n",
    "No two pairs have the same `id`.\n",
    "\n",
    "Design a stream that returns the values in **increasing order of their IDs**\n",
    "by returning a **chunk** (list) of values after each insertion. The\n",
    "concatenation of all the **chunks** should result in a list of the sorted\n",
    "values.\n",
    "\n",
    "Implement the `OrderedStream` class:\n",
    "\n",
    "  * `OrderedStream(int n)` Constructs the stream to take `n` values.\n",
    "  * `String[] insert(int id, String value)` Inserts the pair `(id, value``)` into the stream, then returns the **largest possible chunk** of currently inserted values that appear next in the order.\n",
    "\n",
    "\n",
    "\n",
    "**Example:**\n",
    "\n",
    "**![](https://assets.leetcode.com/uploads/2020/11/10/q1.gif)**\n",
    "\n",
    "\n",
    "\n",
    "    **Input**\n",
    "    [\"OrderedStream\", \"insert\", \"insert\", \"insert\", \"insert\", \"insert\"]\n",
    "    [[5], [3, \"ccccc\"], [1, \"aaaaa\"], [2, \"bbbbb\"], [5, \"eeeee\"], [4, \"ddddd\"]]\n",
    "    **Output**\n",
    "    [null, [], [\"aaaaa\"], [\"bbbbb\", \"ccccc\"], [], [\"ddddd\", \"eeeee\"]]\n",
    "\n",
    "    **Explanation**\n",
    "    // Note that the values ordered by ID is [\"aaaaa\", \"bbbbb\", \"ccccc\", \"ddddd\", \"eeeee\"].\n",
    "    OrderedStream os = new OrderedStream(5);\n",
    "    os.insert(3, \"ccccc\"); // Inserts (3, \"ccccc\"), returns [].\n",
    "    os.insert(1, \"aaaaa\"); // Inserts (1, \"aaaaa\"), returns [\"aaaaa\"].\n",
    "    os.insert(2, \"bbbbb\"); // Inserts (2, \"bbbbb\"), returns [\"bbbbb\", \"ccccc\"].\n",
    "    os.insert(5, \"eeeee\"); // Inserts (5, \"eeeee\"), returns [].\n",
    "    os.insert(4, \"ddddd\"); // Inserts (4, \"ddddd\"), returns [\"ddddd\", \"eeeee\"].\n",
    "    // Concatentating all the chunks returned:\n",
    "    // [] + [\"aaaaa\"] + [\"bbbbb\", \"ccccc\"] + [] + [\"ddddd\", \"eeeee\"] = [\"aaaaa\", \"bbbbb\", \"ccccc\", \"ddddd\", \"eeeee\"]\n",
    "    // The resulting order is the same as the order above.\n",
    "\n",
    "\n",
    "\n",
    "\n",
    "**Constraints:**\n",
    "\n",
    "  * `1 <= n <= 1000`\n",
    "  * `1 <= id <= n`\n",
    "  * `value.length == 5`\n",
    "  * `value` consists only of lowercase letters.\n",
    "  * Each call to `insert` will have a unique `id.`\n",
    "  * Exactly `n` calls will be made to `insert`."
   ],
   "metadata": {}
  },
  {
   "outputs": [
    {
     "output_type": "execute_result",
     "data": {
      "text/plain": "insertdata! (generic function with 1 method)"
     },
     "metadata": {},
     "execution_count": 1
    }
   ],
   "cell_type": "code",
   "source": [
    "# @lc code=start\n",
    "using LeetCode\n",
    "\n",
    "mutable struct OrderStream\n",
    "    data::AbstractVector{T} where {T<:AbstractString}\n",
    "    n::Int\n",
    "    ptr::Int\n",
    "    # initialize\n",
    "    OrderStream(n::Int) = new(fill(\"\", n), n, 1)\n",
    "end\n",
    "\n",
    "function insertdata!(stream::OrderStream, idkey::Int, val::String)\n",
    "    stream.data[idkey] = val\n",
    "    res = String[]\n",
    "    isempty(stream.data[stream.ptr]) && return res\n",
    "    for i in (stream.ptr):(stream.n)\n",
    "        if isempty(stream.data[i])\n",
    "            stream.ptr = i\n",
    "            return res\n",
    "        else\n",
    "            push!(res, stream.data[i])\n",
    "        end\n",
    "    end\n",
    "    return res\n",
    "end\n",
    "\n",
    "# @lc code=end"
   ],
   "metadata": {},
   "execution_count": 1
  },
  {
   "cell_type": "markdown",
   "source": [
    "---\n",
    "\n",
    "*This notebook was generated using [Literate.jl](https://github.com/fredrikekre/Literate.jl).*"
   ],
   "metadata": {}
  }
 ],
 "nbformat_minor": 3,
 "metadata": {
  "language_info": {
   "file_extension": ".jl",
   "mimetype": "application/julia",
   "name": "julia",
   "version": "1.9.1"
  },
  "kernelspec": {
   "name": "julia-1.9",
   "display_name": "Julia 1.9.1",
   "language": "julia"
  }
 },
 "nbformat": 4
}
