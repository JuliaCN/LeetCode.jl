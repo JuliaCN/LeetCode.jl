{
 "cells": [
  {
   "cell_type": "markdown",
   "source": [
    "You are given a **sorted unique** integer array `nums`.\n",
    "\n",
    "Return _the **smallest sorted** list of ranges that **cover all the numbers in\n",
    "the array exactly**_. That is, each element of `nums` is covered by exactly\n",
    "one of the ranges, and there is no integer `x` such that `x` is in one of the\n",
    "ranges but not in `nums`.\n",
    "\n",
    "Each range `[a,b]` in the list should be output as:\n",
    "\n",
    "  * `\"a->b\"` if `a != b`\n",
    "  * `\"a\"` if `a == b`\n",
    "\n",
    "\n",
    "\n",
    "**Example 1:**\n",
    "\n",
    "\n",
    "\n",
    "    Input: nums = [0,1,2,4,5,7]\n",
    "    Output: [\"0->2\",\"4->5\",\"7\"]\n",
    "    Explanation: The ranges are:\n",
    "    [0,2] --> \"0->2\"\n",
    "    [4,5] --> \"4->5\"\n",
    "    [7,7] --> \"7\"\n",
    "\n",
    "\n",
    "**Example 2:**\n",
    "\n",
    "\n",
    "\n",
    "    Input: nums = [0,2,3,4,6,8,9]\n",
    "    Output: [\"0\",\"2->4\",\"6\",\"8->9\"]\n",
    "    Explanation: The ranges are:\n",
    "    [0,0] --> \"0\"\n",
    "    [2,4] --> \"2->4\"\n",
    "    [6,6] --> \"6\"\n",
    "    [8,9] --> \"8->9\"\n",
    "\n",
    "\n",
    "**Example 3:**\n",
    "\n",
    "\n",
    "\n",
    "    Input: nums = []\n",
    "    Output: []\n",
    "\n",
    "\n",
    "**Example 4:**\n",
    "\n",
    "\n",
    "\n",
    "    Input: nums = [-1]\n",
    "    Output: [\"-1\"]\n",
    "\n",
    "\n",
    "**Example 5:**\n",
    "\n",
    "\n",
    "\n",
    "    Input: nums = [0]\n",
    "    Output: [\"0\"]\n",
    "\n",
    "\n",
    "\n",
    "\n",
    "**Constraints:**\n",
    "\n",
    "  * `0 <= nums.length <= 20`\n",
    "  * `-231 <= nums[i] <= 231 - 1`\n",
    "  * All the values of `nums` are **unique**.\n",
    "  * `nums` is sorted in ascending order."
   ],
   "metadata": {}
  },
  {
   "outputs": [
    {
     "output_type": "execute_result",
     "data": {
      "text/plain": "summary_ranges (generic function with 1 method)"
     },
     "metadata": {},
     "execution_count": 1
    }
   ],
   "cell_type": "code",
   "source": [
    "# @lc code=start\n",
    "using LeetCode\n",
    "\n",
    "function summary_ranges(nums::Vector{Int})::Vector{String}\n",
    "    if length(nums) < 1\n",
    "        return String[]\n",
    "    end\n",
    "    res = String[]\n",
    "    bg = ed = nums[1]\n",
    "    for i in 2:length(nums)\n",
    "        if nums[i] - ed == 1\n",
    "            ed += 1\n",
    "        else\n",
    "            (bg == ed) ? (push!(res, \"$(bg)\")) : (push!(res, \"$bg->$ed\"))\n",
    "            bg = ed = nums[i]\n",
    "        end\n",
    "    end\n",
    "    (bg == ed) ? (push!(res, \"$(bg)\")) : (push!(res, \"$bg->$ed\"))\n",
    "    res\n",
    "end\n",
    "# @lc code=end"
   ],
   "metadata": {},
   "execution_count": 1
  },
  {
   "cell_type": "markdown",
   "source": [
    "---\n",
    "\n",
    "*This notebook was generated using [Literate.jl](https://github.com/fredrikekre/Literate.jl).*"
   ],
   "metadata": {}
  }
 ],
 "nbformat_minor": 3,
 "metadata": {
  "language_info": {
   "file_extension": ".jl",
   "mimetype": "application/julia",
   "name": "julia",
   "version": "1.7.2"
  },
  "kernelspec": {
   "name": "julia-1.7",
   "display_name": "Julia 1.7.2",
   "language": "julia"
  }
 },
 "nbformat": 4
}
