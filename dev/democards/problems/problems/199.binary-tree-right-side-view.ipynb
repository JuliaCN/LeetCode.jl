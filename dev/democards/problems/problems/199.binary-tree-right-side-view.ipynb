{
 "cells": [
  {
   "cell_type": "markdown",
   "source": [
    "Given a binary tree, imagine yourself standing on the _right_ side of it,\n",
    "return the values of the nodes you can see ordered from top to bottom.\n",
    "\n",
    "**Example:**\n",
    "\n",
    "\n",
    "\n",
    "    Input:  [1,2,3,null,5,null,4]\n",
    "    Output:  [1, 3, 4]\n",
    "    Explanation:\n",
    "       1            <---\n",
    "     /   \\\n",
    "    2     3         <---\n",
    "     \\     \\\n",
    "      5     4       <---"
   ],
   "metadata": {}
  },
  {
   "outputs": [
    {
     "output_type": "execute_result",
     "data": {
      "text/plain": "right_side_view (generic function with 1 method)"
     },
     "metadata": {},
     "execution_count": 1
    }
   ],
   "cell_type": "code",
   "source": [
    "# @lc code=start\n",
    "using LeetCode\n",
    "\n",
    "function right_side_view(root::TreeNode{Int})::Vector{Int}\n",
    "    q = Queue{Pair{TreeNode{Int}, Int}}()\n",
    "    res = Int[]\n",
    "    enqueue!(q, Pair(root, 1))\n",
    "    while !isempty(q)\n",
    "        nd, layer = dequeue!(q)\n",
    "        (nd.left !== nothing) && enqueue!(q, Pair(nd.left, layer + 1))\n",
    "        (nd.right !== nothing) && enqueue!(q, Pair(nd.right, layer + 1))\n",
    "        (isempty(q) || layer < first(q).second) && (push!(res, nd.val))\n",
    "    end\n",
    "    res\n",
    "end\n",
    "# @lc code=end"
   ],
   "metadata": {},
   "execution_count": 1
  },
  {
   "cell_type": "markdown",
   "source": [
    "---\n",
    "\n",
    "*This notebook was generated using [Literate.jl](https://github.com/fredrikekre/Literate.jl).*"
   ],
   "metadata": {}
  }
 ],
 "nbformat_minor": 3,
 "metadata": {
  "language_info": {
   "file_extension": ".jl",
   "mimetype": "application/julia",
   "name": "julia",
   "version": "1.8.0"
  },
  "kernelspec": {
   "name": "julia-1.8",
   "display_name": "Julia 1.8.0",
   "language": "julia"
  }
 },
 "nbformat": 4
}
