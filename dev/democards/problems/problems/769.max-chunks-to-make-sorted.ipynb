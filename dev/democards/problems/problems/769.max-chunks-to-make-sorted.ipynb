{
 "cells": [
  {
   "cell_type": "markdown",
   "source": [
    "Given an array `arr` that is a permutation of `[0, 1, ..., arr.length - 1]`,\n",
    "we split the array into some number of \"chunks\" (partitions), and individually\n",
    "sort each chunk.  After concatenating them, the result equals the sorted\n",
    "array.\n",
    "\n",
    "What is the most number of chunks we could have made?\n",
    "\n",
    "**Example 1:**\n",
    "\n",
    "\n",
    "\n",
    "    Input: arr = [4,3,2,1,0]\n",
    "    Output: 1\n",
    "    Explanation:\n",
    "    Splitting into two or more chunks will not return the required result.\n",
    "    For example, splitting into [4, 3], [2, 1, 0] will result in [3, 4, 0, 1, 2], which isn't sorted.\n",
    "\n",
    "\n",
    "**Example 2:**\n",
    "\n",
    "\n",
    "\n",
    "    Input: arr = [1,0,2,3,4]\n",
    "    Output: 4\n",
    "    Explanation:\n",
    "    We can split into two chunks, such as [1, 0], [2, 3, 4].\n",
    "    However, splitting into [1, 0], [2], [3], [4] is the highest number of chunks possible.\n",
    "\n",
    "\n",
    "**Note:**\n",
    "\n",
    "  * `arr` will have length in range `[1, 10]`.\n",
    "  * `arr[i]` will be a permutation of `[0, 1, ..., arr.length - 1]`."
   ],
   "metadata": {}
  },
  {
   "outputs": [
    {
     "output_type": "execute_result",
     "data": {
      "text/plain": "max_chunks_to_sorted_ii (generic function with 1 method)"
     },
     "metadata": {},
     "execution_count": 1
    }
   ],
   "cell_type": "code",
   "source": [
    "# @lc code=start\n",
    "using LeetCode\n",
    "\n",
    "function max_chunks_to_sorted_ii(arr::Vector{Int})\n",
    "    return count(i == num + 1 for (i, num) in enumerate(accumulate(max, arr)))\n",
    "end\n",
    "# @lc code=end"
   ],
   "metadata": {},
   "execution_count": 1
  },
  {
   "cell_type": "markdown",
   "source": [
    "---\n",
    "\n",
    "*This notebook was generated using [Literate.jl](https://github.com/fredrikekre/Literate.jl).*"
   ],
   "metadata": {}
  }
 ],
 "nbformat_minor": 3,
 "metadata": {
  "language_info": {
   "file_extension": ".jl",
   "mimetype": "application/julia",
   "name": "julia",
   "version": "1.11.6"
  },
  "kernelspec": {
   "name": "julia-1.11",
   "display_name": "Julia 1.11.6",
   "language": "julia"
  }
 },
 "nbformat": 4
}
