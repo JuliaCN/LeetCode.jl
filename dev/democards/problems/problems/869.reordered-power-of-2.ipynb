{
 "cells": [
  {
   "cell_type": "markdown",
   "source": [
    "Starting with a positive integer `N`, we reorder the digits in any order\n",
    "(including the original order) such that the leading digit is not zero.\n",
    "\n",
    "Return `true` if and only if we can do this in a way such that the resulting\n",
    "number is a power of 2.\n",
    "\n",
    "\n",
    "\n",
    "**Example 1:**\n",
    "\n",
    "\n",
    "\n",
    "    Input: 1\n",
    "    Output: true\n",
    "\n",
    "\n",
    "**Example 2:**\n",
    "\n",
    "\n",
    "\n",
    "    Input: 10\n",
    "    Output: false\n",
    "\n",
    "\n",
    "**Example 3:**\n",
    "\n",
    "\n",
    "\n",
    "    Input: 16\n",
    "    Output: true\n",
    "\n",
    "\n",
    "**Example 4:**\n",
    "\n",
    "\n",
    "\n",
    "    Input: 24\n",
    "    Output: false\n",
    "\n",
    "\n",
    "**Example 5:**\n",
    "\n",
    "\n",
    "\n",
    "    Input: 46\n",
    "    Output: true\n",
    "\n",
    "\n",
    "\n",
    "\n",
    "**Note:**\n",
    "\n",
    "  1. `1 <= N <= 10^9`"
   ],
   "metadata": {}
  },
  {
   "outputs": [
    {
     "output_type": "execute_result",
     "data": {
      "text/plain": "reordered_power_of2 (generic function with 1 method)"
     },
     "metadata": {},
     "execution_count": 1
    }
   ],
   "cell_type": "code",
   "source": [
    "# @lc code=start\n",
    "using LeetCode\n",
    "\n",
    "function reordered_power_of2(n::Integer)\n",
    "    cntr1 = OffsetArray(fill(0, 10), -1)\n",
    "    cntr2 = OffsetArray(fill(0, 10), -1)\n",
    "    function count_num!(cntr, n::Integer)\n",
    "        fill!(cntr, 0)\n",
    "        for d in digits(n)\n",
    "            cntr[d] += 1\n",
    "        end\n",
    "        cntr\n",
    "    end\n",
    "    count_num!(cntr1, n)\n",
    "    for i in 0:31\n",
    "        (cntr1 == count_num!(cntr2, 1 << i)) && return true\n",
    "    end\n",
    "    return false\n",
    "end\n",
    "# @lc code=end"
   ],
   "metadata": {},
   "execution_count": 1
  },
  {
   "cell_type": "markdown",
   "source": [
    "---\n",
    "\n",
    "*This notebook was generated using [Literate.jl](https://github.com/fredrikekre/Literate.jl).*"
   ],
   "metadata": {}
  }
 ],
 "nbformat_minor": 3,
 "metadata": {
  "language_info": {
   "file_extension": ".jl",
   "mimetype": "application/julia",
   "name": "julia",
   "version": "1.8.2"
  },
  "kernelspec": {
   "name": "julia-1.8",
   "display_name": "Julia 1.8.2",
   "language": "julia"
  }
 },
 "nbformat": 4
}
