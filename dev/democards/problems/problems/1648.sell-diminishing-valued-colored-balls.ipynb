{
 "cells": [
  {
   "cell_type": "markdown",
   "source": [
    "You have an `inventory` of different colored balls, and there is a customer\n",
    "that wants `orders` balls of **any** color.\n",
    "\n",
    "The customer weirdly values the colored balls. Each colored ball's value is\n",
    "the number of balls **of that color  **you currently have in your `inventory`.\n",
    "For example, if you own `6` yellow balls, the customer would pay `6` for the\n",
    "first yellow ball. After the transaction, there are only `5` yellow balls\n",
    "left, so the next yellow ball is then valued at `5` (i.e., the value of the\n",
    "balls decreases as you sell more to the customer).\n",
    "\n",
    "You are given an integer array, `inventory`, where `inventory[i]` represents\n",
    "the number of balls of the `ith` color that you initially own. You are also\n",
    "given an integer `orders`, which represents the total number of balls that the\n",
    "customer wants. You can sell the balls **in any order**.\n",
    "\n",
    "Return _the **maximum** total value that you can attain after selling\n",
    "_`orders` _colored balls_. As the answer may be too large, return it\n",
    "**modulo**`109 + 7`.\n",
    "\n",
    "\n",
    "\n",
    "**Example 1:**\n",
    "\n",
    "![](https://assets.leetcode.com/uploads/2020/11/05/jj.gif)\n",
    "\n",
    "\n",
    "\n",
    "    Input: inventory = [2,5], orders = 4\n",
    "    Output: 14\n",
    "    Explanation: Sell the 1st color 1 time (2) and the 2nd color 3 times (5 + 4 + 3).\n",
    "    The maximum total value is 2 + 5 + 4 + 3 = 14.\n",
    "\n",
    "\n",
    "**Example 2:**\n",
    "\n",
    "\n",
    "\n",
    "    Input: inventory = [3,5], orders = 6\n",
    "    Output: 19\n",
    "    Explanation: Sell the 1st color 2 times (3 + 2) and the 2nd color 4 times (5 + 4 + 3 + 2).\n",
    "    The maximum total value is 3 + 2 + 5 + 4 + 3 + 2 = 19.\n",
    "\n",
    "\n",
    "**Example 3:**\n",
    "\n",
    "\n",
    "\n",
    "    Input: inventory = [2,8,4,10,6], orders = 20\n",
    "    Output: 110\n",
    "\n",
    "\n",
    "**Example 4:**\n",
    "\n",
    "\n",
    "\n",
    "    Input: inventory = [1000000000], orders = 1000000000\n",
    "    Output: 21\n",
    "    Explanation: Sell the 1st color 1000000000 times for a total value of 500000000500000000. 500000000500000000 modulo 109 + 7 = 21.\n",
    "\n",
    "\n",
    "\n",
    "\n",
    "**Constraints:**\n",
    "\n",
    "  * `1 <= inventory.length <= 105`\n",
    "  * `1 <= inventory[i] <= 109`\n",
    "  * `1 <= orders <= min(sum(inventory[i]), 109)`"
   ],
   "metadata": {}
  },
  {
   "outputs": [
    {
     "output_type": "execute_result",
     "data": {
      "text/plain": "max_profit (generic function with 1 method)"
     },
     "metadata": {},
     "execution_count": 1
    }
   ],
   "cell_type": "code",
   "source": [
    "# @lc code=start\n",
    "using LeetCode\n",
    "\n",
    "function max_profit(inventory::Vector{Int}, orders::Int)\n",
    "    rest = sum(inventory) - orders\n",
    "    sort!(inventory)\n",
    "    len = length(inventory)\n",
    "    for n in inventory\n",
    "        if rest ÷ len >= n\n",
    "            len -= 1\n",
    "            rest -= n\n",
    "        else\n",
    "            break\n",
    "        end\n",
    "    end\n",
    "    q = rest ÷ len\n",
    "    r = rest - q * len\n",
    "    ret = 0\n",
    "    for i in (length(inventory) - len + 1):length(inventory)\n",
    "        ret += sum((q + 2):inventory[i])\n",
    "    end\n",
    "    ret += (q + 1) * (len - r)\n",
    "    return ret % (10^9 + 7)\n",
    "end\n",
    "# @lc code=end"
   ],
   "metadata": {},
   "execution_count": 1
  },
  {
   "cell_type": "markdown",
   "source": [
    "---\n",
    "\n",
    "*This notebook was generated using [Literate.jl](https://github.com/fredrikekre/Literate.jl).*"
   ],
   "metadata": {}
  }
 ],
 "nbformat_minor": 3,
 "metadata": {
  "language_info": {
   "file_extension": ".jl",
   "mimetype": "application/julia",
   "name": "julia",
   "version": "1.7.3"
  },
  "kernelspec": {
   "name": "julia-1.7",
   "display_name": "Julia 1.7.3",
   "language": "julia"
  }
 },
 "nbformat": 4
}
