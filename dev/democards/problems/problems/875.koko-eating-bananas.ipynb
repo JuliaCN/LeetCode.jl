{
 "cells": [
  {
   "cell_type": "markdown",
   "source": [
    "Koko loves to eat bananas.  There are `N` piles of bananas, the `i`-th pile\n",
    "has `piles[i]` bananas.  The guards have gone and will come back in `H` hours.\n",
    "\n",
    "Koko can decide her bananas-per-hour eating speed of `K`.  Each hour, she\n",
    "chooses some pile of bananas, and eats K bananas from that pile.  If the pile\n",
    "has less than `K` bananas, she eats all of them instead, and won't eat any\n",
    "more bananas during this hour.\n",
    "\n",
    "Koko likes to eat slowly, but still wants to finish eating all the bananas\n",
    "before the guards come back.\n",
    "\n",
    "Return the minimum integer `K` such that she can eat all the bananas within\n",
    "`H` hours.\n",
    "\n",
    "\n",
    "\n",
    "**Example 1:**\n",
    "\n",
    "\n",
    "\n",
    "    Input: piles = [3,6,7,11], H = 8\n",
    "    Output: 4\n",
    "\n",
    "\n",
    "**Example 2:**\n",
    "\n",
    "\n",
    "\n",
    "    Input: piles = [30,11,23,4,20], H = 5\n",
    "    Output: 30\n",
    "\n",
    "\n",
    "**Example 3:**\n",
    "\n",
    "\n",
    "\n",
    "    Input: piles = [30,11,23,4,20], H = 6\n",
    "    Output: 23\n",
    "\n",
    "\n",
    "\n",
    "\n",
    "**Constraints:**\n",
    "\n",
    "  * `1 <= piles.length <= 10^4`\n",
    "  * `piles.length <= H <= 10^9`\n",
    "  * `1 <= piles[i] <= 10^9`"
   ],
   "metadata": {}
  },
  {
   "outputs": [
    {
     "output_type": "execute_result",
     "data": {
      "text/plain": "min_eating_speed (generic function with 1 method)"
     },
     "metadata": {},
     "execution_count": 1
    }
   ],
   "cell_type": "code",
   "source": [
    "# @lc code=start\n",
    "using LeetCode\n",
    "\n",
    "function min_eating_speed(piles::Vector{Int}, h::Int)::Int\n",
    "    function possible(mid)\n",
    "        t = 0\n",
    "        for pile in piles\n",
    "            t += cld(pile, mid)\n",
    "        end\n",
    "        return t <= h\n",
    "    end\n",
    "\n",
    "    left, right = 1, maximum(piles)\n",
    "    while left <= right\n",
    "        mid = (left + right) >> 1\n",
    "        if possible(mid)\n",
    "            right = mid - 1\n",
    "        else\n",
    "            left = mid + 1\n",
    "        end\n",
    "    end\n",
    "\n",
    "    return left\n",
    "end\n",
    "# @lc code=end"
   ],
   "metadata": {},
   "execution_count": 1
  },
  {
   "cell_type": "markdown",
   "source": [
    "---\n",
    "\n",
    "*This notebook was generated using [Literate.jl](https://github.com/fredrikekre/Literate.jl).*"
   ],
   "metadata": {}
  }
 ],
 "nbformat_minor": 3,
 "metadata": {
  "language_info": {
   "file_extension": ".jl",
   "mimetype": "application/julia",
   "name": "julia",
   "version": "1.6.1"
  },
  "kernelspec": {
   "name": "julia-1.6",
   "display_name": "Julia 1.6.1",
   "language": "julia"
  }
 },
 "nbformat": 4
}
