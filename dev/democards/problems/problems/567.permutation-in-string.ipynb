{
 "cells": [
  {
   "cell_type": "markdown",
   "source": [
    "Given two strings **s1** and **s2** , write a function to return true if\n",
    "**s2** contains the permutation of **s1**. In other words, one of the first\n",
    "string's permutations is the **substring** of the second string.\n",
    "\n",
    "\n",
    "\n",
    "**Example 1:**\n",
    "\n",
    "\n",
    "\n",
    "    Input: s1 = \"ab\" s2 = \"eidbaooo\"\n",
    "    Output: True\n",
    "    Explanation: s2 contains one permutation of s1 (\"ba\").\n",
    "\n",
    "\n",
    "**Example 2:**\n",
    "\n",
    "\n",
    "\n",
    "    Input: s1= \"ab\" s2 = \"eidboaoo\"\n",
    "    Output: False\n",
    "\n",
    "\n",
    "\n",
    "\n",
    "**Constraints:**\n",
    "\n",
    "  * The input strings only contain lower case letters.\n",
    "  * The length of both given strings is in range [1, 10,000]."
   ],
   "metadata": {}
  },
  {
   "outputs": [
    {
     "output_type": "execute_result",
     "data": {
      "text/plain": "check_inclusion (generic function with 1 method)"
     },
     "metadata": {},
     "execution_count": 1
    }
   ],
   "cell_type": "code",
   "source": [
    "# @lc code=start\n",
    "using LeetCode\n",
    "using DataStructures\n",
    "\n",
    "# Double Pointers\n",
    "function check_inclusion(s1::String, s2::String)::Bool\n",
    "    equal2c1(c::Accumulator) = all(c[i] == c1[i] for i in keys(c1))\n",
    "    c1, n1, n2 = counter(s1), length(s1), length(s2)\n",
    "    n2 < n1 && return false\n",
    "    c2 = counter(s2[1:n1])\n",
    "    equal2c1(c2) && return true\n",
    "    for (i, j) in zip(1:(n2 - n1), (n1 + 1):n2)\n",
    "        c2[s2[i]] -= 1\n",
    "        c2[s2[j]] += 1\n",
    "        equal2c1(c2) && return true\n",
    "    end\n",
    "    return false\n",
    "end\n",
    "# @lc code=end"
   ],
   "metadata": {},
   "execution_count": 1
  },
  {
   "cell_type": "markdown",
   "source": [
    "---\n",
    "\n",
    "*This notebook was generated using [Literate.jl](https://github.com/fredrikekre/Literate.jl).*"
   ],
   "metadata": {}
  }
 ],
 "nbformat_minor": 3,
 "metadata": {
  "language_info": {
   "file_extension": ".jl",
   "mimetype": "application/julia",
   "name": "julia",
   "version": "1.9.1"
  },
  "kernelspec": {
   "name": "julia-1.9",
   "display_name": "Julia 1.9.1",
   "language": "julia"
  }
 },
 "nbformat": 4
}
