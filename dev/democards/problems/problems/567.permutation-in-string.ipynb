{
 "cells": [
  {
   "cell_type": "markdown",
   "source": [
    "Given two strings **s1** and **s2** , write a function to return true if\n",
    "**s2** contains the permutation of **s1**. In other words, one of the first\n",
    "string's permutations is the **substring** of the second string.\n",
    "\n",
    "\n",
    "\n",
    "**Example 1:**\n",
    "\n",
    "\n",
    "\n",
    "    Input: s1 = \"ab\" s2 = \"eidbaooo\"\n",
    "    Output: True\n",
    "    Explanation: s2 contains one permutation of s1 (\"ba\").\n",
    "\n",
    "\n",
    "**Example 2:**\n",
    "\n",
    "\n",
    "\n",
    "    Input: s1= \"ab\" s2 = \"eidboaoo\"\n",
    "    Output: False\n",
    "\n",
    "\n",
    "\n",
    "\n",
    "**Constraints:**\n",
    "\n",
    "  * The input strings only contain lower case letters.\n",
    "  * The length of both given strings is in range [1, 10,000]."
   ],
   "metadata": {}
  },
  {
   "outputs": [
    {
     "output_type": "execute_result",
     "data": {
      "text/plain": "check_inclusion (generic function with 1 method)"
     },
     "metadata": {},
     "execution_count": 1
    }
   ],
   "cell_type": "code",
   "source": [
    "# @lc code=start\n",
    "using LeetCode\n",
    "\n",
    "# Double Pointers\n",
    "function check_inclusion(s1::String, s2::String)::Bool\n",
    "    empty!(d::Dict{Char,Int}) =\n",
    "        for i in 'a':'z'\n",
    "            d[i] = 0\n",
    "        end\n",
    "    count1, count2 = Dict{Char,Int}(), Dict{Char,Int}(i => 0 for i in 'a':'z')\n",
    "    start, left = true, 1\n",
    "    for i in s1\n",
    "        count1[i] = haskey(count1, i) ? count1[i] + 1 : 1\n",
    "    end\n",
    "    for (i, c) in enumerate(s2)\n",
    "        if !haskey(count1, c)\n",
    "            start = true\n",
    "            empty!(count2)\n",
    "        elseif count2[c] >= count1[c]\n",
    "            for j in left:i\n",
    "                s2[j] == c && (left = j + 1; break)\n",
    "                count2[s2[j]] -= 1\n",
    "            end\n",
    "        else\n",
    "            start && (start = false; left = i)\n",
    "            count2[c] += 1\n",
    "            all(count1[key] == count2[key] for key in keys(count1)) && return true\n",
    "        end\n",
    "    end\n",
    "    return false\n",
    "end\n",
    "# @lc code=end"
   ],
   "metadata": {},
   "execution_count": 1
  },
  {
   "cell_type": "markdown",
   "source": [
    "---\n",
    "\n",
    "*This notebook was generated using [Literate.jl](https://github.com/fredrikekre/Literate.jl).*"
   ],
   "metadata": {}
  }
 ],
 "nbformat_minor": 3,
 "metadata": {
  "language_info": {
   "file_extension": ".jl",
   "mimetype": "application/julia",
   "name": "julia",
   "version": "1.7.2"
  },
  "kernelspec": {
   "name": "julia-1.7",
   "display_name": "Julia 1.7.2",
   "language": "julia"
  }
 },
 "nbformat": 4
}
