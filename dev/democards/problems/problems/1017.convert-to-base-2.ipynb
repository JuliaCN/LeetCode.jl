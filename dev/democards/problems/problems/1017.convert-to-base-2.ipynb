{
 "cells": [
  {
   "cell_type": "markdown",
   "source": [
    "Given a number `N`, return a string consisting of `\"0\"`s and `\"1\"`s that\n",
    "represents its value in base `**-2**` (negative two).\n",
    "\n",
    "The returned string must have no leading zeroes, unless the string is `\"0\"`.\n",
    "\n",
    "\n",
    "\n",
    "**Example 1:**\n",
    "\n",
    "\n",
    "\n",
    "    Input: 2\n",
    "    Output: \"110\"\n",
    "    **Explantion:** (-2) ^ 2 + (-2) ^ 1 = 2\n",
    "\n",
    "\n",
    "**Example 2:**\n",
    "\n",
    "\n",
    "\n",
    "    Input: 3\n",
    "    Output: \"111\"\n",
    "    **Explantion:** (-2) ^ 2 + (-2) ^ 1 + (-2) ^ 0 = 3\n",
    "\n",
    "\n",
    "**Example 3:**\n",
    "\n",
    "\n",
    "\n",
    "    Input: 4\n",
    "    Output: \"100\"\n",
    "    **Explantion:** (-2) ^ 2 = 4\n",
    "\n",
    "\n",
    "\n",
    "\n",
    "**Note:**\n",
    "\n",
    "  1. `0 <= N <= 10^9`"
   ],
   "metadata": {}
  },
  {
   "outputs": [
    {
     "output_type": "execute_result",
     "data": {
      "text/plain": "base_neg2 (generic function with 1 method)"
     },
     "metadata": {},
     "execution_count": 1
    }
   ],
   "cell_type": "code",
   "source": [
    "# @lc code=start\n",
    "using LeetCode\n",
    "\n",
    "function base_neg2(N::Int)\n",
    "    cnt = 0\n",
    "    res = \"\"\n",
    "    while N > 0\n",
    "        bit = (N & 1)\n",
    "        N -= bit * (-1) ^ cnt\n",
    "        N >>= 1\n",
    "        cnt += 1\n",
    "        res = string(bit) * res\n",
    "    end\n",
    "    res\n",
    "end\n",
    "# @lc code=end"
   ],
   "metadata": {},
   "execution_count": 1
  },
  {
   "cell_type": "markdown",
   "source": [
    "---\n",
    "\n",
    "*This notebook was generated using [Literate.jl](https://github.com/fredrikekre/Literate.jl).*"
   ],
   "metadata": {}
  }
 ],
 "nbformat_minor": 3,
 "metadata": {
  "language_info": {
   "file_extension": ".jl",
   "mimetype": "application/julia",
   "name": "julia",
   "version": "1.6.1"
  },
  "kernelspec": {
   "name": "julia-1.6",
   "display_name": "Julia 1.6.1",
   "language": "julia"
  }
 },
 "nbformat": 4
}
