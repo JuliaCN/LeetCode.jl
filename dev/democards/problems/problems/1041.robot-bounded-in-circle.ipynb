{
 "cells": [
  {
   "cell_type": "markdown",
   "source": [
    "On an infinite plane, a robot initially stands at `(0, 0)` and faces north.\n",
    "The robot can receive one of three instructions:\n",
    "\n",
    "  * `\"G\"`: go straight 1 unit;\n",
    "  * `\"L\"`: turn 90 degrees to the left;\n",
    "  * `\"R\"`: turn 90 degress to the right.\n",
    "\n",
    "The robot performs the `instructions` given in order, and repeats them\n",
    "forever.\n",
    "\n",
    "Return `true` if and only if there exists a circle in the plane such that the\n",
    "robot never leaves the circle.\n",
    "\n",
    "\n",
    "\n",
    "**Example 1:**\n",
    "\n",
    "\n",
    "\n",
    "    Input: \"GGLLGG\"\n",
    "    Output: true\n",
    "    Explanation:\n",
    "    The robot moves from (0,0) to (0,2), turns 180 degrees, and then returns to (0,0).\n",
    "    When repeating these instructions, the robot remains in the circle of radius 2 centered at the origin.\n",
    "\n",
    "\n",
    "**Example 2:**\n",
    "\n",
    "\n",
    "\n",
    "    Input: \"GG\"\n",
    "    Output: false\n",
    "    Explanation:\n",
    "    The robot moves north indefinitely.\n",
    "\n",
    "\n",
    "**Example 3:**\n",
    "\n",
    "\n",
    "\n",
    "    Input: \"GL\"\n",
    "    Output: true\n",
    "    Explanation:\n",
    "    The robot moves from (0, 0) -> (0, 1) -> (-1, 1) -> (-1, 0) -> (0, 0) -> ...\n",
    "\n",
    "\n",
    "\n",
    "\n",
    "**Note:**\n",
    "\n",
    "  1. `1 <= instructions.length <= 100`\n",
    "  2. `instructions[i]` is in `{'G', 'L', 'R'}`"
   ],
   "metadata": {}
  },
  {
   "outputs": [
    {
     "output_type": "execute_result",
     "data": {
      "text/plain": "is_robot_bounded (generic function with 1 method)"
     },
     "metadata": {},
     "execution_count": 1
    }
   ],
   "cell_type": "code",
   "source": [
    "# @lc code=start\n",
    "using LeetCode\n",
    "\n",
    "function is_robot_bounded(instructions::String)::Bool\n",
    "    pos = CartesianIndex(0, 0)\n",
    "    dirs = CartesianIndex.([(0, 1), (1, 0), (0, -1), (-1, 0)])\n",
    "    st = 1\n",
    "    for ch in instructions\n",
    "        if ch == 'G'\n",
    "            pos += dirs[st]\n",
    "        else\n",
    "            st = mod1(st + (ch == 'R' ? 1 : -1), 4)\n",
    "        end\n",
    "    end\n",
    "    return pos.I == (0, 0) || st != 1\n",
    "end\n",
    "# @lc code=end"
   ],
   "metadata": {},
   "execution_count": 1
  },
  {
   "cell_type": "markdown",
   "source": [
    "---\n",
    "\n",
    "*This notebook was generated using [Literate.jl](https://github.com/fredrikekre/Literate.jl).*"
   ],
   "metadata": {}
  }
 ],
 "nbformat_minor": 3,
 "metadata": {
  "language_info": {
   "file_extension": ".jl",
   "mimetype": "application/julia",
   "name": "julia",
   "version": "1.10.1"
  },
  "kernelspec": {
   "name": "julia-1.10",
   "display_name": "Julia 1.10.1",
   "language": "julia"
  }
 },
 "nbformat": 4
}
