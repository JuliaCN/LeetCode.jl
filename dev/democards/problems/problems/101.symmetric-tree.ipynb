{
 "cells": [
  {
   "cell_type": "markdown",
   "source": [
    "Given a binary tree, check whether it is a mirror of itself (ie, symmetric\n",
    "around its center).\n",
    "\n",
    "For example, this binary tree `[1,2,2,3,4,4,3]` is symmetric:\n",
    "\n",
    "\n",
    "\n",
    "        1\n",
    "       / \\\n",
    "      2   2\n",
    "     / \\ / \\\n",
    "    3  4 4  3\n",
    "\n",
    "\n",
    "\n",
    "\n",
    "But the following `[1,2,2,null,3,null,3]` is not:\n",
    "\n",
    "\n",
    "\n",
    "        1\n",
    "       / \\\n",
    "      2   2\n",
    "       \\   \\\n",
    "       3    3\n",
    "\n",
    "\n",
    "\n",
    "\n",
    "**Follow up:** Solve it both recursively and iteratively."
   ],
   "metadata": {}
  },
  {
   "outputs": [
    {
     "output_type": "execute_result",
     "data": {
      "text/plain": "is_mirror_tree (generic function with 1 method)"
     },
     "metadata": {},
     "execution_count": 1
    }
   ],
   "cell_type": "code",
   "source": [
    "# @lc code=start\n",
    "using LeetCode\n",
    "\n",
    "is_symmetric_tree(root::TreeNode{Int})::Bool = is_mirror_tree(root.left, root.right)\n",
    "function is_mirror_tree(\n",
    "    t1::Union{TreeNode{Int},Nothing}, t2::Union{TreeNode{Int},Nothing}\n",
    ")::Bool\n",
    "    isnothing(t1) && isnothing(t2) && return true\n",
    "    (isnothing(t1) || isnothing(t2)) && return false\n",
    "    t1.val != t2.val && return false\n",
    "    return is_mirror_tree(t1.left, t2.right) && is_mirror_tree(t1.right, t2.left)\n",
    "end\n",
    "# @lc code=end"
   ],
   "metadata": {},
   "execution_count": 1
  },
  {
   "cell_type": "markdown",
   "source": [
    "---\n",
    "\n",
    "*This notebook was generated using [Literate.jl](https://github.com/fredrikekre/Literate.jl).*"
   ],
   "metadata": {}
  }
 ],
 "nbformat_minor": 3,
 "metadata": {
  "language_info": {
   "file_extension": ".jl",
   "mimetype": "application/julia",
   "name": "julia",
   "version": "1.10.4"
  },
  "kernelspec": {
   "name": "julia-1.10",
   "display_name": "Julia 1.10.4",
   "language": "julia"
  }
 },
 "nbformat": 4
}
