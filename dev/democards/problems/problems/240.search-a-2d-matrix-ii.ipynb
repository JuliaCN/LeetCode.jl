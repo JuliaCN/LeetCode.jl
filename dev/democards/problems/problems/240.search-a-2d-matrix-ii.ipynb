{
 "cells": [
  {
   "cell_type": "markdown",
   "source": [
    "Write an efficient algorithm that searches for a `target` value in an `m x n`\n",
    "integer `matrix`. The `matrix` has the following properties:\n",
    "\n",
    "  * Integers in each row are sorted in ascending from left to right.\n",
    "  * Integers in each column are sorted in ascending from top to bottom.\n",
    "\n",
    "\n",
    "\n",
    "**Example 1:**\n",
    "\n",
    "![](https://assets.leetcode.com/uploads/2020/11/24/searchgrid2.jpg)\n",
    "\n",
    "\n",
    "\n",
    "    Input: matrix = [[1,4,7,11,15],[2,5,8,12,19],[3,6,9,16,22],[10,13,14,17,24],[18,21,23,26,30]], target = 5\n",
    "    Output: true\n",
    "\n",
    "\n",
    "**Example 2:**\n",
    "\n",
    "![](https://assets.leetcode.com/uploads/2020/11/24/searchgrid.jpg)\n",
    "\n",
    "\n",
    "\n",
    "    Input: matrix = [[1,4,7,11,15],[2,5,8,12,19],[3,6,9,16,22],[10,13,14,17,24],[18,21,23,26,30]], target = 20\n",
    "    Output: false\n",
    "\n",
    "\n",
    "\n",
    "\n",
    "**Constraints:**\n",
    "\n",
    "  * `m == matrix.length`\n",
    "  * `n == matrix[i].length`\n",
    "  * `1 <= n, m <= 300`\n",
    "  * `-109 <= matix[i][j] <= 109`\n",
    "  * All the integers in each row are **sorted** in ascending order.\n",
    "  * All the integers in each column are **sorted** in ascending order.\n",
    "  * `-109 <= target <= 109`"
   ],
   "metadata": {}
  },
  {
   "outputs": [
    {
     "output_type": "execute_result",
     "data": {
      "text/plain": "search_matrix (generic function with 1 method)"
     },
     "metadata": {},
     "execution_count": 1
    }
   ],
   "cell_type": "code",
   "source": [
    "# @lc code=start\n",
    "using LeetCode\n",
    "\n",
    "function search_matrix(matrix::Matrix{Int}, target::Int)::Bool\n",
    "    row, col = size(matrix)\n",
    "    i, j = row, 1\n",
    "\n",
    "    while (i > 0 && j <= col)\n",
    "        last = matrix[i, j]\n",
    "\n",
    "        if (last == target)\n",
    "            return true\n",
    "        elseif last > target\n",
    "            i -= 1\n",
    "        else\n",
    "            j += 1\n",
    "        end\n",
    "    end\n",
    "\n",
    "    return false\n",
    "end\n",
    "# @lc code=end"
   ],
   "metadata": {},
   "execution_count": 1
  },
  {
   "cell_type": "markdown",
   "source": [
    "---\n",
    "\n",
    "*This notebook was generated using [Literate.jl](https://github.com/fredrikekre/Literate.jl).*"
   ],
   "metadata": {}
  }
 ],
 "nbformat_minor": 3,
 "metadata": {
  "language_info": {
   "file_extension": ".jl",
   "mimetype": "application/julia",
   "name": "julia",
   "version": "1.6.0"
  },
  "kernelspec": {
   "name": "julia-1.6",
   "display_name": "Julia 1.6.0",
   "language": "julia"
  }
 },
 "nbformat": 4
}
