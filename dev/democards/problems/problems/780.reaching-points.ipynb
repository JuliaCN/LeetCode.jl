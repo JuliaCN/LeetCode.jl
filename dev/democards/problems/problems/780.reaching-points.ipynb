{
 "cells": [
  {
   "cell_type": "markdown",
   "source": [
    "A move consists of taking a point `(x, y)` and transforming it to either `(x,\n",
    "x+y)` or `(x+y, y)`.\n",
    "\n",
    "Given a starting point `(sx, sy)` and a target point `(tx, ty)`, return `True`\n",
    "if and only if a sequence of moves exists to transform the point `(sx, sy)` to\n",
    "`(tx, ty)`. Otherwise, return `False`.\n",
    "\n",
    "\n",
    "\n",
    "    **Examples:**\n",
    "    Input: sx = 1, sy = 1, tx = 3, ty = 5\n",
    "    Output: True\n",
    "    Explanation:\n",
    "    One series of moves that transforms the starting point to the target is:\n",
    "    (1, 1) -> (1, 2)\n",
    "    (1, 2) -> (3, 2)\n",
    "    (3, 2) -> (3, 5)\n",
    "\n",
    "    Input: sx = 1, sy = 1, tx = 2, ty = 2\n",
    "    Output: False\n",
    "\n",
    "    Input: sx = 1, sy = 1, tx = 1, ty = 1\n",
    "    Output: True\n",
    "\n",
    "\n",
    "\n",
    "**Note:**\n",
    "\n",
    "  * `sx, sy, tx, ty` will all be integers in the range `[1, 10^9]`."
   ],
   "metadata": {}
  },
  {
   "outputs": [
    {
     "output_type": "execute_result",
     "data": {
      "text/plain": "reaching_points (generic function with 1 method)"
     },
     "metadata": {},
     "execution_count": 1
    }
   ],
   "cell_type": "code",
   "source": [
    "# @lc code=start\n",
    "using LeetCode\n",
    "\n",
    "function reaching_points(sx, sy, tx, ty)\n",
    "    while tx >= sx && ty >= sy\n",
    "        if tx == ty\n",
    "            break\n",
    "        end\n",
    "        if tx > ty\n",
    "            if ty > sy\n",
    "                tx %= ty;\n",
    "            else\n",
    "                return (tx - sx) % ty == 0;\n",
    "            end\n",
    "        else\n",
    "            if tx > sx\n",
    "                ty %= tx;\n",
    "            else\n",
    "                return (ty - sy) % tx == 0;\n",
    "            end\n",
    "        end\n",
    "    end\n",
    "    tx == sx && ty == sy\n",
    "end\n",
    "# @lc code=end"
   ],
   "metadata": {},
   "execution_count": 1
  },
  {
   "cell_type": "markdown",
   "source": [
    "---\n",
    "\n",
    "*This notebook was generated using [Literate.jl](https://github.com/fredrikekre/Literate.jl).*"
   ],
   "metadata": {}
  }
 ],
 "nbformat_minor": 3,
 "metadata": {
  "language_info": {
   "file_extension": ".jl",
   "mimetype": "application/julia",
   "name": "julia",
   "version": "1.8.0"
  },
  "kernelspec": {
   "name": "julia-1.8",
   "display_name": "Julia 1.8.0",
   "language": "julia"
  }
 },
 "nbformat": 4
}
