{
 "cells": [
  {
   "cell_type": "markdown",
   "source": [
    "Given a **non-negative** integer n, count all numbers with unique digits, x,\n",
    "where 0 ≤ x < 10n.\n",
    "\n",
    "**Example:**\n",
    "\n",
    "\n",
    "\n",
    "    Input: 2\n",
    "    Output: 91\n",
    "    Explanation: The answer should be the total numbers in the range of 0 ≤ x < 100,\n",
    "                 excluding 11,22,33,44,55,66,77,88,99\n",
    "\n",
    "\n",
    "\n",
    "\n",
    "**Constraints:**\n",
    "\n",
    "  * `0 <= n <= 8`"
   ],
   "metadata": {}
  },
  {
   "outputs": [
    {
     "output_type": "execute_result",
     "data": {
      "text/plain": "count_numbers_with_unique_digits (generic function with 1 method)"
     },
     "metadata": {},
     "execution_count": 1
    }
   ],
   "cell_type": "code",
   "source": [
    "# @lc code=start\n",
    "using LeetCode\n",
    "\n",
    "function count_numbers_with_unique_digits(n::Int)\n",
    "    n > 10 && return count_numbers_with_unique_digits(10)\n",
    "    n == 0 && return 1\n",
    "    return 9 * binomial(9, n - 1) * factorial(n - 1) +\n",
    "           count_numbers_with_unique_digits(n - 1)\n",
    "end\n",
    "# @lc code=end"
   ],
   "metadata": {},
   "execution_count": 1
  },
  {
   "cell_type": "markdown",
   "source": [
    "---\n",
    "\n",
    "*This notebook was generated using [Literate.jl](https://github.com/fredrikekre/Literate.jl).*"
   ],
   "metadata": {}
  }
 ],
 "nbformat_minor": 3,
 "metadata": {
  "language_info": {
   "file_extension": ".jl",
   "mimetype": "application/julia",
   "name": "julia",
   "version": "1.8.0"
  },
  "kernelspec": {
   "name": "julia-1.8",
   "display_name": "Julia 1.8.0",
   "language": "julia"
  }
 },
 "nbformat": 4
}
