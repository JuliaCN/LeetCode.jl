{
 "cells": [
  {
   "cell_type": "markdown",
   "source": [
    "Write a program to find the `n`-th ugly number.\n",
    "\n",
    "Ugly numbers are **positive numbers** whose prime factors only include `2, 3,\n",
    "5`.\n",
    "\n",
    "**Example:**\n",
    "\n",
    "\n",
    "\n",
    "    Input: n = 10\n",
    "    Output: 12\n",
    "    Explanation:1, 2, 3, 4, 5, 6, 8, 9, 10, 12 is the sequence of the first 10 ugly numbers.\n",
    "\n",
    "**Note:**\n",
    "\n",
    "  1. `1` is typically treated as an ugly number.\n",
    "  2. `n` **does not exceed 1690**."
   ],
   "metadata": {}
  },
  {
   "outputs": [
    {
     "output_type": "execute_result",
     "data": {
      "text/plain": "nth_ugly_number (generic function with 1 method)"
     },
     "metadata": {},
     "execution_count": 1
    }
   ],
   "cell_type": "code",
   "source": [
    "# @lc code=start\n",
    "using LeetCode\n",
    "\n",
    "function nth_ugly_number(n::Int)\n",
    "    dp = Vector{Int}(undef, n)\n",
    "    p2 = p3 = p5 = dp[1] = 1\n",
    "    for i in 2:n\n",
    "        nums = dp[p2] * 2, dp[p3] * 3, dp[p5] * 5\n",
    "        dp[i] = minimum(nums)\n",
    "        p2 += dp[i] == nums[1]\n",
    "        p3 += dp[i] == nums[2]\n",
    "        p5 += dp[i] == nums[3]\n",
    "    end\n",
    "    return dp[n]\n",
    "end\n",
    "# @lc code=end"
   ],
   "metadata": {},
   "execution_count": 1
  },
  {
   "cell_type": "markdown",
   "source": [
    "---\n",
    "\n",
    "*This notebook was generated using [Literate.jl](https://github.com/fredrikekre/Literate.jl).*"
   ],
   "metadata": {}
  }
 ],
 "nbformat_minor": 3,
 "metadata": {
  "language_info": {
   "file_extension": ".jl",
   "mimetype": "application/julia",
   "name": "julia",
   "version": "1.10.4"
  },
  "kernelspec": {
   "name": "julia-1.10",
   "display_name": "Julia 1.10.4",
   "language": "julia"
  }
 },
 "nbformat": 4
}
