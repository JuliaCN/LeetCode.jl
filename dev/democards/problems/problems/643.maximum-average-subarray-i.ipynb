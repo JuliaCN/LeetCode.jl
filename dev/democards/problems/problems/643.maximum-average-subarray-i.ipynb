{
 "cells": [
  {
   "cell_type": "markdown",
   "source": [
    "Given an array consisting of `n` integers, find the contiguous subarray of\n",
    "given length `k` that has the maximum average value. And you need to output\n",
    "the maximum average value.\n",
    "\n",
    "**Example 1:**\n",
    "\n",
    "\n",
    "\n",
    "    Input: [1,12,-5,-6,50,3], k = 4\n",
    "    Output: 12.75\n",
    "    Explanation: Maximum average is (12-5-6+50)/4 = 51/4 = 12.75\n",
    "\n",
    "\n",
    "\n",
    "\n",
    "**Note:**\n",
    "\n",
    "  1. 1 <= `k` <= `n` <= 30,000.\n",
    "  2. Elements of the given array will be in the range [-10,000, 10,000]."
   ],
   "metadata": {}
  },
  {
   "outputs": [
    {
     "output_type": "execute_result",
     "data": {
      "text/plain": "find_max_average (generic function with 1 method)"
     },
     "metadata": {},
     "execution_count": 1
    }
   ],
   "cell_type": "code",
   "source": [
    "# @lc code=start\n",
    "using LeetCode\n",
    "\n",
    "function find_max_average(nums::Vector{Int}, K::Int)\n",
    "    res = sum(@view(nums[1:K]))\n",
    "    tmp = res\n",
    "    i, j = 1, K + 1\n",
    "    while j ≤ length(nums)\n",
    "        tmp += nums[j] - nums[i]\n",
    "        res = max(tmp, res)\n",
    "        i += 1\n",
    "        j += 1\n",
    "    end\n",
    "    res / K\n",
    "end\n",
    "# @lc code=end"
   ],
   "metadata": {},
   "execution_count": 1
  },
  {
   "cell_type": "markdown",
   "source": [
    "---\n",
    "\n",
    "*This notebook was generated using [Literate.jl](https://github.com/fredrikekre/Literate.jl).*"
   ],
   "metadata": {}
  }
 ],
 "nbformat_minor": 3,
 "metadata": {
  "language_info": {
   "file_extension": ".jl",
   "mimetype": "application/julia",
   "name": "julia",
   "version": "1.6.3"
  },
  "kernelspec": {
   "name": "julia-1.6",
   "display_name": "Julia 1.6.3",
   "language": "julia"
  }
 },
 "nbformat": 4
}
