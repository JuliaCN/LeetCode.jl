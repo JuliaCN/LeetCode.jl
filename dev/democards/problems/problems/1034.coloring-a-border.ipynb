{
 "cells": [
  {
   "cell_type": "markdown",
   "source": [
    "Given a 2-dimensional `grid` of integers, each value in the grid represents\n",
    "the color of the grid square at that location.\n",
    "\n",
    "Two squares belong to the same _connected component_ if and only if they have\n",
    "the same color and are next to each other in any of the 4 directions.\n",
    "\n",
    "The  _border_ of a connected component is all the squares in the connected\n",
    "component that are either 4-directionally adjacent to a square not in the\n",
    "component, or on the boundary of the grid (the first or last row or column).\n",
    "\n",
    "Given a square at location `(r0, c0)` in the grid and a `color`, color the\n",
    "border of the connected component of that square with the given `color`, and\n",
    "return the final `grid`.\n",
    "\n",
    "\n",
    "\n",
    "**Example 1:**\n",
    "\n",
    "\n",
    "\n",
    "    Input: grid = [[1,1],[1,2]], r0 = 0, c0 = 0, color = 3\n",
    "    Output: [[3, 3], [3, 2]]\n",
    "\n",
    "\n",
    "**Example 2:**\n",
    "\n",
    "\n",
    "\n",
    "    Input: grid = [[1,2,2],[2,3,2]], r0 = 0, c0 = 1, color = 3\n",
    "    Output: [[1, 3, 3], [2, 3, 3]]\n",
    "\n",
    "\n",
    "**Example 3:**\n",
    "\n",
    "\n",
    "\n",
    "    Input: grid = [[1,1,1],[1,1,1],[1,1,1]], r0 = 1, c0 = 1, color = 2\n",
    "    Output: [[2, 2, 2], [2, 1, 2], [2, 2, 2]]\n",
    "\n",
    "\n",
    "\n",
    "**Note:**\n",
    "\n",
    "  1. `1 <= grid.length <= 50`\n",
    "  2. `1 <= grid[0].length <= 50`\n",
    "  3. `1 <= grid[i][j] <= 1000`\n",
    "  4. `0 <= r0 < grid.length`\n",
    "  5. `0 <= c0 < grid[0].length`\n",
    "  6. `1 <= color <= 1000`"
   ],
   "metadata": {}
  },
  {
   "outputs": [
    {
     "output_type": "execute_result",
     "data": {
      "text/plain": "color_border (generic function with 1 method)"
     },
     "metadata": {},
     "execution_count": 1
    }
   ],
   "cell_type": "code",
   "source": [
    "# @lc code=start\n",
    "using LeetCode\n",
    "\n",
    "function color_border(grid::Matrix{Int}, r0::Int, c0::Int, color::Int)\n",
    "    visited = fill(false, size(grid))\n",
    "    cis = CartesianIndices(grid)\n",
    "    dirs = CartesianIndex.(((-1, 0), (1, 0), (0, -1), (0, 1)))\n",
    "    cs = CartesianIndex{2}[]\n",
    "    function dfs(grid::Matrix{Int}, pos)\n",
    "        visited[pos] = true\n",
    "        cnt = 0\n",
    "        for d in dirs\n",
    "            I = pos + d\n",
    "            if I ∈ cis && grid[I] == grid[pos]\n",
    "                cnt += 1\n",
    "                !visited[I] && dfs(grid, I)\n",
    "            end\n",
    "        end\n",
    "        (cnt != 4) && push!(cs, pos)\n",
    "    end\n",
    "    dfs(grid, CartesianIndex(r0, c0))\n",
    "    for I in cs\n",
    "        grid[I] = color\n",
    "    end\n",
    "    grid\n",
    "end\n",
    "# @lc code=end"
   ],
   "metadata": {},
   "execution_count": 1
  },
  {
   "cell_type": "markdown",
   "source": [
    "---\n",
    "\n",
    "*This notebook was generated using [Literate.jl](https://github.com/fredrikekre/Literate.jl).*"
   ],
   "metadata": {}
  }
 ],
 "nbformat_minor": 3,
 "metadata": {
  "language_info": {
   "file_extension": ".jl",
   "mimetype": "application/julia",
   "name": "julia",
   "version": "1.10.4"
  },
  "kernelspec": {
   "name": "julia-1.10",
   "display_name": "Julia 1.10.4",
   "language": "julia"
  }
 },
 "nbformat": 4
}
