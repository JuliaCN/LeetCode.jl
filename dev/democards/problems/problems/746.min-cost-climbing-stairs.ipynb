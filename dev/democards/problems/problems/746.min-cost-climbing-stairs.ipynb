{
 "cells": [
  {
   "cell_type": "markdown",
   "source": [
    "On a staircase, the `i`-th step has some non-negative cost `cost[i]` assigned\n",
    "(0 indexed).\n",
    "\n",
    "Once you pay the cost, you can either climb one or two steps. You need to find\n",
    "minimum cost to reach the top of the floor, and you can either start from the\n",
    "step with index 0, or the step with index 1.\n",
    "\n",
    "**Example 1:**\n",
    "\n",
    "\n",
    "\n",
    "    Input: cost = [10, 15, 20]\n",
    "    Output: 15\n",
    "    Explanation: Cheapest is start on cost[1], pay that cost and go to the top.\n",
    "\n",
    "\n",
    "**Example 2:**\n",
    "\n",
    "\n",
    "\n",
    "    Input: cost = [1, 100, 1, 1, 1, 100, 1, 1, 100, 1]\n",
    "    Output: 6\n",
    "    Explanation: Cheapest is start on cost[0], and only step on 1s, skipping cost[3].\n",
    "\n",
    "\n",
    "**Note:**\n",
    "\n",
    "  1. `cost` will have a length in the range `[2, 1000]`.\n",
    "  2. Every `cost[i]` will be an integer in the range `[0, 999]`."
   ],
   "metadata": {}
  },
  {
   "outputs": [
    {
     "output_type": "execute_result",
     "data": {
      "text/plain": "min_cost_climbing_stairs (generic function with 1 method)"
     },
     "metadata": {},
     "execution_count": 1
    }
   ],
   "cell_type": "code",
   "source": [
    "# @lc code=start\n",
    "using LeetCode\n",
    "\n",
    "# Dynamic Programming\n",
    "function min_cost_climbing_stairs(cost::Vector{Int})::Int\n",
    "    first, second = cost[1], cost[2]\n",
    "    for c in @view cost[3:end]\n",
    "        first, second = second, min(first, second) + c\n",
    "    end\n",
    "    return min(first, second)\n",
    "end\n",
    "\n",
    "# @lc code=end"
   ],
   "metadata": {},
   "execution_count": 1
  },
  {
   "cell_type": "markdown",
   "source": [
    "---\n",
    "\n",
    "*This notebook was generated using [Literate.jl](https://github.com/fredrikekre/Literate.jl).*"
   ],
   "metadata": {}
  }
 ],
 "nbformat_minor": 3,
 "metadata": {
  "language_info": {
   "file_extension": ".jl",
   "mimetype": "application/julia",
   "name": "julia",
   "version": "1.7.2"
  },
  "kernelspec": {
   "name": "julia-1.7",
   "display_name": "Julia 1.7.2",
   "language": "julia"
  }
 },
 "nbformat": 4
}
