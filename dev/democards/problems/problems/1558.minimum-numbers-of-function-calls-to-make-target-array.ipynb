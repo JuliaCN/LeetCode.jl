{
 "cells": [
  {
   "cell_type": "markdown",
   "source": [
    "![](https://assets.leetcode.com/uploads/2020/07/10/sample_2_1887.png)\n",
    "\n",
    "Your task is to form an integer array `nums` from an initial array of zeros\n",
    "`arr` that is the same size as `nums`.\n",
    "\n",
    "Return the minimum number of function calls to make `nums` from `arr`.\n",
    "\n",
    "The answer is guaranteed to fit in a 32-bit signed integer.\n",
    "\n",
    "\n",
    "\n",
    "**Example 1:**\n",
    "\n",
    "\n",
    "\n",
    "    Input: nums = [1,5]\n",
    "    Output: 5\n",
    "    Explanation: Increment by 1 (second element): [0, 0] to get [0, 1] (1 operation).\n",
    "    Double all the elements: [0, 1] -> [0, 2] -> [0, 4] (2 operations).\n",
    "    Increment by 1 (both elements)  [0, 4] -> [1, 4] -> **[1, 5]** (2 operations).\n",
    "    Total of operations: 1 + 2 + 2 = 5.\n",
    "\n",
    "\n",
    "**Example 2:**\n",
    "\n",
    "\n",
    "\n",
    "    Input: nums = [2,2]\n",
    "    Output: 3\n",
    "    Explanation: Increment by 1 (both elements) [0, 0] -> [0, 1] -> [1, 1] (2 operations).\n",
    "    Double all the elements: [1, 1] -> **[2, 2]** (1 operation).\n",
    "    Total of operations: 2 + 1 = 3.\n",
    "\n",
    "\n",
    "**Example 3:**\n",
    "\n",
    "\n",
    "\n",
    "    Input: nums = [4,2,5]\n",
    "    Output: 6\n",
    "    Explanation: (initial)[0,0,0] -> [1,0,0] -> [1,0,1] -> [2,0,2] -> [2,1,2] -> [4,2,4] -> **[4,2,5]** (nums).\n",
    "\n",
    "\n",
    "**Example 4:**\n",
    "\n",
    "\n",
    "\n",
    "    Input: nums = [3,2,2,4]\n",
    "    Output: 7\n",
    "\n",
    "\n",
    "**Example 5:**\n",
    "\n",
    "\n",
    "\n",
    "    Input: nums = [2,4,8,16]\n",
    "    Output: 8\n",
    "\n",
    "\n",
    "\n",
    "\n",
    "**Constraints:**\n",
    "\n",
    "  * `1 <= nums.length <= 10^5`\n",
    "  * `0 <= nums[i] <= 10^9`"
   ],
   "metadata": {}
  },
  {
   "outputs": [
    {
     "output_type": "execute_result",
     "data": {
      "text/plain": "min_operations1558 (generic function with 1 method)"
     },
     "metadata": {},
     "execution_count": 1
    }
   ],
   "cell_type": "code",
   "source": [
    "# @lc code=start\n",
    "using LeetCode\n",
    "\n",
    "function min_operations1558(nums::Vector{Int})\n",
    "    m = maximum(nums)\n",
    "    res = 0\n",
    "    for num in nums\n",
    "        while num > 0\n",
    "            num &= (num - 1)\n",
    "            res += 1\n",
    "        end\n",
    "    end\n",
    "    while m > 1\n",
    "        m >>= 1\n",
    "        res += 1\n",
    "    end\n",
    "    res\n",
    "end\n",
    "# @lc code=end"
   ],
   "metadata": {},
   "execution_count": 1
  },
  {
   "cell_type": "markdown",
   "source": [
    "---\n",
    "\n",
    "*This notebook was generated using [Literate.jl](https://github.com/fredrikekre/Literate.jl).*"
   ],
   "metadata": {}
  }
 ],
 "nbformat_minor": 3,
 "metadata": {
  "language_info": {
   "file_extension": ".jl",
   "mimetype": "application/julia",
   "name": "julia",
   "version": "1.8.0"
  },
  "kernelspec": {
   "name": "julia-1.8",
   "display_name": "Julia 1.8.0",
   "language": "julia"
  }
 },
 "nbformat": 4
}
