{
 "cells": [
  {
   "cell_type": "markdown",
   "source": [
    "Given words `first` and `second`, consider occurrences in some `text` of the\n",
    "form \"`first second third`\", where `second` comes immediately after `first`,\n",
    "and `third` comes immediately after `second`.\n",
    "\n",
    "For each such occurrence, add \"`third`\" to the answer, and return the answer.\n",
    "\n",
    "\n",
    "\n",
    "**Example 1:**\n",
    "\n",
    "\n",
    "\n",
    "    Input: text = \"alice is a good girl she is a good student\", first = \"a\", second = \"good\"\n",
    "    Output: [\"girl\",\"student\"]\n",
    "\n",
    "\n",
    "**Example 2:**\n",
    "\n",
    "\n",
    "\n",
    "    Input: text = \"we will we will rock you\", first = \"we\", second = \"will\"\n",
    "    Output: [\"we\",\"rock\"]\n",
    "\n",
    "\n",
    "\n",
    "\n",
    "**Note:**\n",
    "\n",
    "  1. `1 <= text.length <= 1000`\n",
    "  2. `text` consists of space separated words, where each word consists of lowercase English letters.\n",
    "  3. `1 <= first.length, second.length <= 10`\n",
    "  4. `first` and `second` consist of lowercase English letters."
   ],
   "metadata": {}
  },
  {
   "outputs": [
    {
     "output_type": "execute_result",
     "data": {
      "text/plain": "occurrences_after_bigram (generic function with 1 method)"
     },
     "metadata": {},
     "execution_count": 1
    }
   ],
   "cell_type": "code",
   "source": [
    "# @lc code=start\n",
    "using LeetCode\n",
    "\n",
    "function occurrences_after_bigram(text::String, first::String, second::String)\n",
    "    words = split(text)\n",
    "    res = String[]\n",
    "    for i in 1:length(words)-2\n",
    "        if words[i] == first && words[i+1] == second\n",
    "            push!(res, words[i+2])\n",
    "        end\n",
    "    end\n",
    "    return res\n",
    "end\n",
    "# @lc code=end"
   ],
   "metadata": {},
   "execution_count": 1
  },
  {
   "cell_type": "markdown",
   "source": [
    "---\n",
    "\n",
    "*This notebook was generated using [Literate.jl](https://github.com/fredrikekre/Literate.jl).*"
   ],
   "metadata": {}
  }
 ],
 "nbformat_minor": 3,
 "metadata": {
  "language_info": {
   "file_extension": ".jl",
   "mimetype": "application/julia",
   "name": "julia",
   "version": "1.8.2"
  },
  "kernelspec": {
   "name": "julia-1.8",
   "display_name": "Julia 1.8.2",
   "language": "julia"
  }
 },
 "nbformat": 4
}
