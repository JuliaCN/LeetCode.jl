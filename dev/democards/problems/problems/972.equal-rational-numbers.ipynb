{
 "cells": [
  {
   "cell_type": "markdown",
   "source": [
    "Given two strings `S` and `T`, each of which represents a non-negative\n",
    "rational number, return **True** if and only if they represent the same\n",
    "number. The strings may use parentheses to denote the repeating part of the\n",
    "rational number.\n",
    "\n",
    "In general a rational number can be represented using up to three parts: an\n",
    "_integer part_ , a  _non-repeating part,_ and a  _repeating part_. The number\n",
    "will be represented in one of the following three ways:\n",
    "\n",
    "  * `<IntegerPart>` (e.g. 0, 12, 123)\n",
    "  * `<IntegerPart><.><NonRepeatingPart>`  (e.g. 0.5, 1., 2.12, 2.0001)\n",
    "  * `<IntegerPart><.><NonRepeatingPart><(><RepeatingPart><)>` (e.g. 0.1(6), 0.9(9), 0.00(1212))\n",
    "\n",
    "The repeating portion of a decimal expansion is conventionally denoted within\n",
    "a pair of round brackets.  For example:\n",
    "\n",
    "1 / 6 = 0.16666666... = 0.1(6) = 0.1666(6) = 0.166(66)\n",
    "\n",
    "Both 0.1(6) or 0.1666(6) or 0.166(66) are correct representations of 1 / 6.\n",
    "\n",
    "\n",
    "\n",
    "**Example 1:**\n",
    "\n",
    "\n",
    "\n",
    "    Input: S = \"0.(52)\", T = \"0.5(25)\"\n",
    "    Output: true\n",
    "    Explanation: Because \"0.(52)\" represents 0.52525252..., and \"0.5(25)\" represents 0.52525252525..... , the strings represent the same number.\n",
    "\n",
    "\n",
    "**Example 2:**\n",
    "\n",
    "\n",
    "\n",
    "    Input: S = \"0.1666(6)\", T = \"0.166(66)\"\n",
    "    Output: true\n",
    "\n",
    "\n",
    "**Example 3:**\n",
    "\n",
    "\n",
    "\n",
    "    Input: S = \"0.9(9)\", T = \"1.\"\n",
    "    Output: true\n",
    "    Explanation:\n",
    "    \"0.9(9)\" represents 0.999999999... repeated forever, which equals 1.  [[See this link for an explanation.](https://en.wikipedia.org/wiki/0.999...)]\n",
    "    \"1.\" represents the number 1, which is formed correctly: (IntegerPart) = \"1\" and (NonRepeatingPart) = \"\".\n",
    "\n",
    "\n",
    "\n",
    "**Note:**\n",
    "\n",
    "  1. Each part consists only of digits.\n",
    "  2. The `<IntegerPart>` will not begin with 2 or more zeros.  (There is no other restriction on the digits of each part.)\n",
    "  3. `1 <= <IntegerPart>.length <= 4 `\n",
    "  4. `0 <= <NonRepeatingPart>.length <= 4 `\n",
    "  5. `1 <= <RepeatingPart>.length <= 4`"
   ],
   "metadata": {}
  },
  {
   "outputs": [
    {
     "output_type": "execute_result",
     "data": {
      "text/plain": "true"
     },
     "metadata": {},
     "execution_count": 1
    }
   ],
   "cell_type": "code",
   "source": [
    "# @lc code=start\n",
    "using LeetCode\n",
    "\n",
    "function is_rational_equal(s::String, t::String)\n",
    "    function to_rational(s::String)::Rational\n",
    "        pos1, pos2 = findfirst('.', s), findfirst('(', s)\n",
    "        (pos1 === nothing) && return parse(Int, s)\n",
    "        (pos1 == length(s)) && return parse(Int, s[1:end-1])\n",
    "        pos2 === nothing && return parse(Int, s[1:pos1-1]) + parse(Int, s[pos1 + 1:end]) // 10 ^ (length(s) - pos1)\n",
    "        pos3 = findlast(')', s)\n",
    "        int_part = parse(Int, s[1:pos1-1]) |> Rational\n",
    "        nr_part = pos1 == pos2 - 1 ? 0 : parse(Int, s[pos1+1:pos2-1]) // 10 ^ (pos2 - pos1 - 1)\n",
    "        rp_part = parse(Int, s[pos2+1:pos3-1]) // (10 ^ (pos3 - pos2 - 1) - 1) // 10 ^ (pos2 - pos1 - 1)\n",
    "        int_part + nr_part + rp_part\n",
    "    end\n",
    "    to_rational(s) == to_rational(t)\n",
    "end\n",
    "# @lc code=end\n",
    "is_rational_equal(\"0.9(9)\", \"1.\")"
   ],
   "metadata": {},
   "execution_count": 1
  },
  {
   "cell_type": "markdown",
   "source": [
    "---\n",
    "\n",
    "*This notebook was generated using [Literate.jl](https://github.com/fredrikekre/Literate.jl).*"
   ],
   "metadata": {}
  }
 ],
 "nbformat_minor": 3,
 "metadata": {
  "language_info": {
   "file_extension": ".jl",
   "mimetype": "application/julia",
   "name": "julia",
   "version": "1.5.4"
  },
  "kernelspec": {
   "name": "julia-1.5",
   "display_name": "Julia 1.5.4",
   "language": "julia"
  }
 },
 "nbformat": 4
}
