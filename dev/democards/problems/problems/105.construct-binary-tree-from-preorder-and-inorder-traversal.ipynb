{
 "cells": [
  {
   "cell_type": "markdown",
   "source": [
    "Given preorder and inorder traversal of a tree, construct the binary tree.\n",
    "\n",
    "**Note:**\n",
    "You may assume that duplicates do not exist in the tree.\n",
    "\n",
    "For example, given\n",
    "\n",
    "\n",
    "\n",
    "    preorder = [3,9,20,15,7]\n",
    "    inorder = [9,3,15,20,7]\n",
    "\n",
    "Return the following binary tree:\n",
    "\n",
    "\n",
    "\n",
    "        3\n",
    "       / \\\n",
    "      9  20\n",
    "        /  \\\n",
    "       15   7"
   ],
   "metadata": {}
  },
  {
   "outputs": [
    {
     "output_type": "execute_result",
     "data": {
      "text/plain": "build_tree_105 (generic function with 1 method)"
     },
     "metadata": {},
     "execution_count": 1
    }
   ],
   "cell_type": "code",
   "source": [
    "# @lc code=start\n",
    "using LeetCode\n",
    "\n",
    "# using @view macro\n",
    "function build_tree_105(preorder::AbstractArray, inorder::AbstractArray)::TreeNode\n",
    "    root = TreeNode(first(preorder))\n",
    "    pos = findfirst(==(root.val), inorder)\n",
    "    pos != 1 &&\n",
    "        (root.left = build_tree_105(@view(preorder[2:pos]), @view(inorder[1:(pos - 1)])))\n",
    "    pos != length(preorder) && (\n",
    "        root.right = build_tree_105(\n",
    "            @view(preorder[(pos + 1):end]), @view(inorder[(pos + 1):end])\n",
    "        )\n",
    "    )\n",
    "    return root\n",
    "end\n",
    "# @lc code=end"
   ],
   "metadata": {},
   "execution_count": 1
  },
  {
   "cell_type": "markdown",
   "source": [
    "---\n",
    "\n",
    "*This notebook was generated using [Literate.jl](https://github.com/fredrikekre/Literate.jl).*"
   ],
   "metadata": {}
  }
 ],
 "nbformat_minor": 3,
 "metadata": {
  "language_info": {
   "file_extension": ".jl",
   "mimetype": "application/julia",
   "name": "julia",
   "version": "1.11.6"
  },
  "kernelspec": {
   "name": "julia-1.11",
   "display_name": "Julia 1.11.6",
   "language": "julia"
  }
 },
 "nbformat": 4
}
