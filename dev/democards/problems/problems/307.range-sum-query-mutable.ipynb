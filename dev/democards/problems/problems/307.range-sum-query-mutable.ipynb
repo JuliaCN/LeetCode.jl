{
 "cells": [
  {
   "cell_type": "markdown",
   "source": [
    "Given an integer array _nums_ , find the sum of the elements between indices\n",
    "_i_ and _j_ ( _i_ ≤ _j_ ), inclusive.\n",
    "\n",
    "The _update(i, val)_ function modifies _nums_ by updating the element at index\n",
    "_i_ to _val_.\n",
    "\n",
    "**Example:**\n",
    "\n",
    "\n",
    "\n",
    "    Given nums = [1, 3, 5]\n",
    "\n",
    "    sumRange(0, 2) -> 9\n",
    "    update(1, 2)\n",
    "    sumRange(0, 2) -> 8\n",
    "\n",
    "\n",
    "\n",
    "\n",
    "**Constraints:**\n",
    "\n",
    "  * The array is only modifiable by the _update_ function.\n",
    "  * You may assume the number of calls to _update_ and _sumRange_ function is distributed evenly.\n",
    "  * `0 <= i <= j <= nums.length - 1`"
   ],
   "metadata": {}
  },
  {
   "outputs": [
    {
     "output_type": "execute_result",
     "data": {
      "text/plain": "sum_range (generic function with 1 method)"
     },
     "metadata": {},
     "execution_count": 1
    }
   ],
   "cell_type": "code",
   "source": [
    "# @lc code=start\n",
    "using LeetCode\n",
    "\n",
    "mutable struct SegmentTree{T<:Real}\n",
    "    n::Int\n",
    "    tree::Vector{T}\n",
    "\n",
    "    function SegmentTree(nums::Vector{T}) where {T}\n",
    "        n = length(nums)\n",
    "        tree = append!(zeros(Int, n - 1), nums)\n",
    "        for i in (n - 1):-1:1\n",
    "            tree[i] = tree[i << 1] + tree[i << 1 | 1]\n",
    "        end\n",
    "        return new{T}(n, tree)\n",
    "    end\n",
    "end\n",
    "\n",
    "function update!(ST::SegmentTree, ind::Int, val::Int)::Nothing\n",
    "    tree = ST.tree\n",
    "    ind += ST.n - 1\n",
    "    delta = val - tree[ind]\n",
    "    while ind > 0\n",
    "        tree[ind] += delta\n",
    "        ind >>= 1\n",
    "    end\n",
    "end\n",
    "\n",
    "function sum_range(ST::SegmentTree, left::Int, right::Int)::Int\n",
    "    left += ST.n - 1\n",
    "    right += ST.n - 1\n",
    "    res, tree = 0, ST.tree\n",
    "    while left <= right\n",
    "        if isodd(left) ## right child\n",
    "            res += tree[left] ## record outside value\n",
    "            left += 1\n",
    "        end\n",
    "        left >>= 1\n",
    "        if iseven(right) ## left child\n",
    "            res += tree[right] ## record outside value\n",
    "            right -= 1\n",
    "        end\n",
    "        right >>= 1\n",
    "    end\n",
    "    return res\n",
    "end\n",
    "# @lc code=end"
   ],
   "metadata": {},
   "execution_count": 1
  },
  {
   "cell_type": "markdown",
   "source": [
    "---\n",
    "\n",
    "*This notebook was generated using [Literate.jl](https://github.com/fredrikekre/Literate.jl).*"
   ],
   "metadata": {}
  }
 ],
 "nbformat_minor": 3,
 "metadata": {
  "language_info": {
   "file_extension": ".jl",
   "mimetype": "application/julia",
   "name": "julia",
   "version": "1.10.1"
  },
  "kernelspec": {
   "name": "julia-1.10",
   "display_name": "Julia 1.10.1",
   "language": "julia"
  }
 },
 "nbformat": 4
}
