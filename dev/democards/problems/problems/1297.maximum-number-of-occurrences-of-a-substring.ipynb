{
 "cells": [
  {
   "cell_type": "markdown",
   "source": [
    "Given a string `s`, return the maximum number of ocurrences of **any**\n",
    "substring under the following rules:\n",
    "\n",
    "  * The number of unique characters in the substring must be less than or equal to `maxLetters`.\n",
    "  * The substring size must be between `minSize` and `maxSize` inclusive.\n",
    "\n",
    "\n",
    "\n",
    "**Example 1:**\n",
    "\n",
    "\n",
    "\n",
    "    Input: s = \"aababcaab\", maxLetters = 2, minSize = 3, maxSize = 4\n",
    "    Output: 2\n",
    "    Explanation: Substring \"aab\" has 2 ocurrences in the original string.\n",
    "    It satisfies the conditions, 2 unique letters and size 3 (between minSize and maxSize).\n",
    "\n",
    "\n",
    "**Example 2:**\n",
    "\n",
    "\n",
    "\n",
    "    Input: s = \"aaaa\", maxLetters = 1, minSize = 3, maxSize = 3\n",
    "    Output: 2\n",
    "    Explanation: Substring \"aaa\" occur 2 times in the string. It can overlap.\n",
    "\n",
    "\n",
    "**Example 3:**\n",
    "\n",
    "\n",
    "\n",
    "    Input: s = \"aabcabcab\", maxLetters = 2, minSize = 2, maxSize = 3\n",
    "    Output: 3\n",
    "\n",
    "\n",
    "**Example 4:**\n",
    "\n",
    "\n",
    "\n",
    "    Input: s = \"abcde\", maxLetters = 2, minSize = 3, maxSize = 3\n",
    "    Output: 0\n",
    "\n",
    "\n",
    "\n",
    "\n",
    "**Constraints:**\n",
    "\n",
    "  * `1 <= s.length <= 10^5`\n",
    "  * `1 <= maxLetters <= 26`\n",
    "  * `1 <= minSize <= maxSize <= min(26, s.length)`\n",
    "  * `s` only contains lowercase English letters."
   ],
   "metadata": {}
  },
  {
   "outputs": [
    {
     "output_type": "execute_result",
     "data": {
      "text/plain": "max_freq (generic function with 1 method)"
     },
     "metadata": {},
     "execution_count": 1
    }
   ],
   "cell_type": "code",
   "source": [
    "# @lc code=start\n",
    "using LeetCode\n",
    "\n",
    "function max_freq(s::String, max_letters::Int, min_size::Int, max_size::Int)::Int\n",
    "    counts = Dict{SubString,Int}()\n",
    "\n",
    "    for i in 1:(length(s) - min_size + 1),\n",
    "        j in (i + min_size - 1):min(length(s), i + max_size + 1)\n",
    "\n",
    "        ŝ = SubString(s, i, j)\n",
    "        if length(Set(ŝ)) <= max_letters\n",
    "            counts[ŝ] = get(counts, ŝ, 0) + 1\n",
    "        end\n",
    "    end\n",
    "    return length(counts) > 0 ? maximum(values(counts)) : 0\n",
    "end\n",
    "# @lc code=end"
   ],
   "metadata": {},
   "execution_count": 1
  },
  {
   "cell_type": "markdown",
   "source": [
    "---\n",
    "\n",
    "*This notebook was generated using [Literate.jl](https://github.com/fredrikekre/Literate.jl).*"
   ],
   "metadata": {}
  }
 ],
 "nbformat_minor": 3,
 "metadata": {
  "language_info": {
   "file_extension": ".jl",
   "mimetype": "application/julia",
   "name": "julia",
   "version": "1.11.6"
  },
  "kernelspec": {
   "name": "julia-1.11",
   "display_name": "Julia 1.11.6",
   "language": "julia"
  }
 },
 "nbformat": 4
}
