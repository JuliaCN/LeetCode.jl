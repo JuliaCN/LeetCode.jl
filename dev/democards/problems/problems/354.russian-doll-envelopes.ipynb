{
 "cells": [
  {
   "cell_type": "markdown",
   "source": [
    "You have a number of envelopes with widths and heights given as a pair of\n",
    "integers `(w, h)`. One envelope can fit into another if and only if both the\n",
    "width and height of one envelope is greater than the width and height of the\n",
    "other envelope.\n",
    "\n",
    "What is the maximum number of envelopes can you Russian doll? (put one inside\n",
    "other)\n",
    "\n",
    "**Note:**\n",
    "Rotation is not allowed.\n",
    "\n",
    "**Example:**\n",
    "\n",
    "\n",
    "\n",
    "    Input: [[5,4],[6,4],[6,7],[2,3]]\n",
    "    Output: 3\n",
    "    **Explanation: T** he maximum number of envelopes you can Russian doll is 3 ([2,3] => [5,4] => [6,7])."
   ],
   "metadata": {}
  },
  {
   "outputs": [
    {
     "output_type": "execute_result",
     "data": {
      "text/plain": "max_envelopes (generic function with 1 method)"
     },
     "metadata": {},
     "execution_count": 1
    }
   ],
   "cell_type": "code",
   "source": [
    "# @lc code=start\n",
    "using LeetCode\n",
    "\n",
    "function max_envelopes(envelopes::Vector{Vector{Int}})\n",
    "    isempty(envelopes) && return 0\n",
    "    sort!(envelopes, by = x -> (x[1], -x[2]))\n",
    "    dp = [envelopes[1][2]]\n",
    "    for envo in @view(envelopes[2:end])\n",
    "        if envo[2] > dp[end]\n",
    "            push!(dp, envo[2])\n",
    "        else\n",
    "            dp[searchsortedfirst(dp, envo[2])] = envo[2]\n",
    "        end\n",
    "    end\n",
    "    length(dp)\n",
    "end\n",
    "# @lc code=end"
   ],
   "metadata": {},
   "execution_count": 1
  },
  {
   "cell_type": "markdown",
   "source": [
    "---\n",
    "\n",
    "*This notebook was generated using [Literate.jl](https://github.com/fredrikekre/Literate.jl).*"
   ],
   "metadata": {}
  }
 ],
 "nbformat_minor": 3,
 "metadata": {
  "language_info": {
   "file_extension": ".jl",
   "mimetype": "application/julia",
   "name": "julia",
   "version": "1.11.6"
  },
  "kernelspec": {
   "name": "julia-1.11",
   "display_name": "Julia 1.11.6",
   "language": "julia"
  }
 },
 "nbformat": 4
}
