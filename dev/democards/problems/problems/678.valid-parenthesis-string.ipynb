{
 "cells": [
  {
   "cell_type": "markdown",
   "source": [
    "Given a string containing only three types of characters: '(', ')' and '*',\n",
    "write a function to check whether this string is valid. We define the validity\n",
    "of a string by these rules:\n",
    "\n",
    "  1. Any left parenthesis `'('` must have a corresponding right parenthesis `')'`.\n",
    "  2. Any right parenthesis `')'` must have a corresponding left parenthesis `'('`.\n",
    "  3. Left parenthesis `'('` must go before the corresponding right parenthesis `')'`.\n",
    "  4. `'*'` could be treated as a single right parenthesis `')'` or a single left parenthesis `'('` or an empty string.\n",
    "  5. An empty string is also valid.\n",
    "\n",
    "**Example 1:**\n",
    "\n",
    "\n",
    "\n",
    "    Input: \"()\"\n",
    "    Output: True\n",
    "\n",
    "\n",
    "**Example 2:**\n",
    "\n",
    "\n",
    "\n",
    "    Input: \"(*)\"\n",
    "    Output: True\n",
    "\n",
    "\n",
    "**Example 3:**\n",
    "\n",
    "\n",
    "\n",
    "    Input: \"(*))\"\n",
    "    Output: True\n",
    "\n",
    "\n",
    "**Note:**\n",
    "\n",
    "  1. The string size will be in the range [1, 100]."
   ],
   "metadata": {}
  },
  {
   "outputs": [
    {
     "output_type": "execute_result",
     "data": {
      "text/plain": "check_valid_string (generic function with 1 method)"
     },
     "metadata": {},
     "execution_count": 1
    }
   ],
   "cell_type": "code",
   "source": [
    "# @lc code=start\n",
    "using LeetCode\n",
    "\n",
    "function check_valid_string(s::String)\n",
    "    lo, hi = 0, 0\n",
    "    for ch in s\n",
    "        if ch == '('\n",
    "            lo += 1\n",
    "            hi += 1\n",
    "        elseif ch == ')'\n",
    "            (lo > 0) && (lo -= 1)\n",
    "            hi -= 1\n",
    "        else\n",
    "            (lo > 0) && (lo -= 1)\n",
    "            hi += 1\n",
    "        end\n",
    "        if hi < 0\n",
    "            return false\n",
    "        end\n",
    "    end\n",
    "    return lo == 0\n",
    "end\n",
    "# @lc code=end"
   ],
   "metadata": {},
   "execution_count": 1
  },
  {
   "cell_type": "markdown",
   "source": [
    "---\n",
    "\n",
    "*This notebook was generated using [Literate.jl](https://github.com/fredrikekre/Literate.jl).*"
   ],
   "metadata": {}
  }
 ],
 "nbformat_minor": 3,
 "metadata": {
  "language_info": {
   "file_extension": ".jl",
   "mimetype": "application/julia",
   "name": "julia",
   "version": "1.7.2"
  },
  "kernelspec": {
   "name": "julia-1.7",
   "display_name": "Julia 1.7.2",
   "language": "julia"
  }
 },
 "nbformat": 4
}
