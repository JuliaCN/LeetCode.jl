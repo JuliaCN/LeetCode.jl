{
 "cells": [
  {
   "cell_type": "markdown",
   "source": [
    "You are a professional robber planning to rob houses along a street. Each\n",
    "house has a certain amount of money stashed. All houses at this place are\n",
    "**arranged in a circle.** That means the first house is the neighbor of the\n",
    "last one. Meanwhile, adjacent houses have a security system connected, and\n",
    "**it will automatically contact the police if two adjacent houses were broken\n",
    "into on the same night**.\n",
    "\n",
    "Given a list of non-negative integers `nums` representing the amount of money\n",
    "of each house, return _the maximum amount of money you can rob tonight\n",
    "**without alerting the police**_.\n",
    "\n",
    "\n",
    "\n",
    "**Example 1:**\n",
    "\n",
    "\n",
    "\n",
    "    Input: nums = [2,3,2]\n",
    "    Output: 3\n",
    "    Explanation: You cannot rob house 1 (money = 2) and then rob house 3 (money = 2), because they are adjacent houses.\n",
    "\n",
    "\n",
    "**Example 2:**\n",
    "\n",
    "\n",
    "\n",
    "    Input: nums = [1,2,3,1]\n",
    "    Output: 4\n",
    "    Explanation: Rob house 1 (money = 1) and then rob house 3 (money = 3).\n",
    "    Total amount you can rob = 1 + 3 = 4.\n",
    "\n",
    "\n",
    "**Example 3:**\n",
    "\n",
    "\n",
    "\n",
    "    Input: nums = [0]\n",
    "    Output: 0\n",
    "\n",
    "\n",
    "\n",
    "\n",
    "**Constraints:**\n",
    "\n",
    "  * `1 <= nums.length <= 100`\n",
    "  * `0 <= nums[i] <= 1000`"
   ],
   "metadata": {}
  },
  {
   "outputs": [
    {
     "output_type": "execute_result",
     "data": {
      "text/plain": "rob_213 (generic function with 1 method)"
     },
     "metadata": {},
     "execution_count": 1
    }
   ],
   "cell_type": "code",
   "source": [
    "# @lc code=start\n",
    "using LeetCode\n",
    "\n",
    "function rob_213(nums::Vector{Int})::Int\n",
    "    length(nums) <= 3 && return max(nums...)\n",
    "    # start from house 1\n",
    "    a, b1 = nums[1], nums[1] + nums[3]\n",
    "    for num in @view nums[4:(end - 1)]\n",
    "        a, b1 = b1, max(b1, a + num)\n",
    "    end\n",
    "    # start from house 2\n",
    "    a, b2 = nums[2], max(nums[2], nums[3])\n",
    "    for num in @view nums[4:end]\n",
    "        a, b2 = b2, max(b2, a + num)\n",
    "    end\n",
    "    return max(b1, b2)\n",
    "end\n",
    "\n",
    "# @lc code=end"
   ],
   "metadata": {},
   "execution_count": 1
  },
  {
   "cell_type": "markdown",
   "source": [
    "---\n",
    "\n",
    "*This notebook was generated using [Literate.jl](https://github.com/fredrikekre/Literate.jl).*"
   ],
   "metadata": {}
  }
 ],
 "nbformat_minor": 3,
 "metadata": {
  "language_info": {
   "file_extension": ".jl",
   "mimetype": "application/julia",
   "name": "julia",
   "version": "1.8.0"
  },
  "kernelspec": {
   "name": "julia-1.8",
   "display_name": "Julia 1.8.0",
   "language": "julia"
  }
 },
 "nbformat": 4
}
