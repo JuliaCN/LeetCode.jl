{
 "cells": [
  {
   "cell_type": "markdown",
   "source": [
    "Given a string, sort it in decreasing order based on the frequency of\n",
    "characters.\n",
    "\n",
    "**Example 1:**\n",
    "\n",
    "\n",
    "\n",
    "    Input:\n",
    "    \"tree\"\n",
    "\n",
    "    Output:\n",
    "    \"eert\"\n",
    "\n",
    "    Explanation:\n",
    "    'e' appears twice while 'r' and 't' both appear once.\n",
    "    So 'e' must appear before both 'r' and 't'. Therefore \"eetr\" is also a valid answer.\n",
    "\n",
    "\n",
    "**Example 2:**\n",
    "\n",
    "\n",
    "\n",
    "    Input:\n",
    "    \"cccaaa\"\n",
    "\n",
    "    Output:\n",
    "    \"cccaaa\"\n",
    "\n",
    "    Explanation:\n",
    "    Both 'c' and 'a' appear three times, so \"aaaccc\" is also a valid answer.\n",
    "    Note that \"cacaca\" is incorrect, as the same characters must be together.\n",
    "\n",
    "\n",
    "**Example 3:**\n",
    "\n",
    "\n",
    "\n",
    "    Input:\n",
    "    \"Aabb\"\n",
    "\n",
    "    Output:\n",
    "    \"bbAa\"\n",
    "\n",
    "    Explanation:\n",
    "    \"bbaA\" is also a valid answer, but \"Aabb\" is incorrect.\n",
    "    Note that 'A' and 'a' are treated as two different characters."
   ],
   "metadata": {}
  },
  {
   "outputs": [
    {
     "output_type": "execute_result",
     "data": {
      "text/plain": "frequency_sort (generic function with 1 method)"
     },
     "metadata": {},
     "execution_count": 1
    }
   ],
   "cell_type": "code",
   "source": [
    "# @lc code=start\n",
    "using LeetCode\n",
    "\n",
    "function frequency_sort(s::String)\n",
    "    u_vec = codeunits(s)[:]\n",
    "    freq = fill(0, 128)\n",
    "    for n in codeunits(s)\n",
    "        freq[n] += 1\n",
    "    end\n",
    "    sort!(u_vec; by=x -> (freq[x], x), rev = true)\n",
    "    String(u_vec)\n",
    "end\n",
    "# @lc code=end"
   ],
   "metadata": {},
   "execution_count": 1
  },
  {
   "cell_type": "markdown",
   "source": [
    "---\n",
    "\n",
    "*This notebook was generated using [Literate.jl](https://github.com/fredrikekre/Literate.jl).*"
   ],
   "metadata": {}
  }
 ],
 "nbformat_minor": 3,
 "metadata": {
  "language_info": {
   "file_extension": ".jl",
   "mimetype": "application/julia",
   "name": "julia",
   "version": "1.10.1"
  },
  "kernelspec": {
   "name": "julia-1.10",
   "display_name": "Julia 1.10.1",
   "language": "julia"
  }
 },
 "nbformat": 4
}
