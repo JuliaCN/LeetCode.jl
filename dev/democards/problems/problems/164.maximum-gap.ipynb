{
 "cells": [
  {
   "cell_type": "markdown",
   "source": [
    "Given an unsorted array, find the maximum difference between the successive\n",
    "elements in its sorted form.\n",
    "\n",
    "Return 0 if the array contains less than 2 elements.\n",
    "\n",
    "**Example 1:**\n",
    "\n",
    "\n",
    "\n",
    "    Input: [3,6,9,1]\n",
    "    Output: 3\n",
    "    Explanation: The sorted form of the array is [1,3,6,9], either\n",
    "                 (3,6) or (6,9) has the maximum difference 3.\n",
    "\n",
    "**Example 2:**\n",
    "\n",
    "\n",
    "\n",
    "    Input: [10]\n",
    "    Output: 0\n",
    "    Explanation: The array contains less than 2 elements, therefore return 0.\n",
    "\n",
    "**Note:**\n",
    "\n",
    "  * You may assume all elements in the array are non-negative integers and fit in the 32-bit signed integer range.\n",
    "  * Try to solve it in linear time/space."
   ],
   "metadata": {}
  },
  {
   "outputs": [
    {
     "output_type": "execute_result",
     "data": {
      "text/plain": "maximum_gap (generic function with 1 method)"
     },
     "metadata": {},
     "execution_count": 1
    }
   ],
   "cell_type": "code",
   "source": [
    "# @lc code=start\n",
    "using LeetCode\n",
    "\n",
    "function maximum_gap(nums::Vector{Int})::Int\n",
    "    sort!(nums)\n",
    "    return length(nums) < 2 ? 0 : maximum(@view(nums[2:end]) - @view(nums[1:(end - 1)]))\n",
    "end\n",
    "# @lc code=end"
   ],
   "metadata": {},
   "execution_count": 1
  },
  {
   "cell_type": "markdown",
   "source": [
    "---\n",
    "\n",
    "*This notebook was generated using [Literate.jl](https://github.com/fredrikekre/Literate.jl).*"
   ],
   "metadata": {}
  }
 ],
 "nbformat_minor": 3,
 "metadata": {
  "language_info": {
   "file_extension": ".jl",
   "mimetype": "application/julia",
   "name": "julia",
   "version": "1.8.0"
  },
  "kernelspec": {
   "name": "julia-1.8",
   "display_name": "Julia 1.8.0",
   "language": "julia"
  }
 },
 "nbformat": 4
}
