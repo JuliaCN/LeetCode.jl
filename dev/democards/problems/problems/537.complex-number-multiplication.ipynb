{
 "cells": [
  {
   "cell_type": "markdown",
   "source": [
    "Given two strings representing two [complex\n",
    "numbers](https://en.wikipedia.org/wiki/Complex_number).\n",
    "\n",
    "You need to return a string representing their multiplication. Note i2 = -1\n",
    "according to the definition.\n",
    "\n",
    "**Example 1:**\n",
    "\n",
    "\n",
    "\n",
    "    Input: \"1+1i\", \"1+1i\"\n",
    "    Output: \"0+2i\"\n",
    "    Explanation: (1 + i) * (1 + i) = 1 + i2 + 2 * i = 2i, and you need convert it to the form of 0+2i.\n",
    "\n",
    "\n",
    "**Example 2:**\n",
    "\n",
    "\n",
    "\n",
    "    Input: \"1+-1i\", \"1+-1i\"\n",
    "    Output: \"0+-2i\"\n",
    "    Explanation: (1 - i) * (1 - i) = 1 + i2 - 2 * i = -2i, and you need convert it to the form of 0+-2i.\n",
    "\n",
    "\n",
    "**Note:**\n",
    "\n",
    "  1. The input strings will not have extra blank.\n",
    "  2. The input strings will be given in the form of **a+bi** , where the integer **a** and **b** will both belong to the range of [-100, 100]. And **the output should be also in this form**."
   ],
   "metadata": {}
  },
  {
   "outputs": [
    {
     "output_type": "execute_result",
     "data": {
      "text/plain": "complex_number_multiply (generic function with 1 method)"
     },
     "metadata": {},
     "execution_count": 1
    }
   ],
   "cell_type": "code",
   "source": [
    "# @lc code=start\n",
    "using LeetCode\n",
    "\n",
    "function complex_number_multiply(num1::String, num2::String)\n",
    "    num1 = replace(num1, \"i\" => \"im\")\n",
    "    num2 = replace(num2, \"i\" => \"im\")\n",
    "    mult = eval(Meta.parse(num1)) * eval(Meta.parse(num2))\n",
    "    return \"$(mult.re)+$(mult.im)i\"\n",
    "end\n",
    "# @lc code=end"
   ],
   "metadata": {},
   "execution_count": 1
  },
  {
   "cell_type": "markdown",
   "source": [
    "---\n",
    "\n",
    "*This notebook was generated using [Literate.jl](https://github.com/fredrikekre/Literate.jl).*"
   ],
   "metadata": {}
  }
 ],
 "nbformat_minor": 3,
 "metadata": {
  "language_info": {
   "file_extension": ".jl",
   "mimetype": "application/julia",
   "name": "julia",
   "version": "1.6.3"
  },
  "kernelspec": {
   "name": "julia-1.6",
   "display_name": "Julia 1.6.3",
   "language": "julia"
  }
 },
 "nbformat": 4
}
