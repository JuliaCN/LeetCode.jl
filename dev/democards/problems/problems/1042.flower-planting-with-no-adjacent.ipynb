{
 "cells": [
  {
   "cell_type": "markdown",
   "source": [
    "You have `n` gardens, labeled from `1` to `n`, and an array `paths` where\n",
    "`paths[i] = [xi, yi]` describes a bidirectional path between garden `xi` to\n",
    "garden `yi`. In each garden, you want to plant one of 4 types of flowers.\n",
    "\n",
    "All gardens have **at most 3** paths coming into or leaving it.\n",
    "\n",
    "Your task is to choose a flower type for each garden such that, for any two\n",
    "gardens connected by a path, they have different types of flowers.\n",
    "\n",
    "Return _**any** such a choice as an array _`answer` _, where_`answer[i]` _is\n",
    "the type of flower planted in the_`(i+1)th` _garden. The flower types are\n",
    "denoted_`1` _,_`2` _,_`3` _, or_`4` _. It is guaranteed an answer exists._\n",
    "\n",
    "\n",
    "\n",
    "**Example 1:**\n",
    "\n",
    "\n",
    "\n",
    "    Input: n = 3, paths = [[1,2],[2,3],[3,1]]\n",
    "    Output: [1,2,3]\n",
    "    Explanation:\n",
    "    Gardens 1 and 2 have different types.\n",
    "    Gardens 2 and 3 have different types.\n",
    "    Gardens 3 and 1 have different types.\n",
    "    Hence, [1,2,3] is a valid answer. Other valid answers include [1,2,4], [1,4,2], and [3,2,1].\n",
    "\n",
    "\n",
    "**Example 2:**\n",
    "\n",
    "\n",
    "\n",
    "    Input: n = 4, paths = [[1,2],[3,4]]\n",
    "    Output: [1,2,1,2]\n",
    "\n",
    "\n",
    "**Example 3:**\n",
    "\n",
    "\n",
    "\n",
    "    Input: n = 4, paths = [[1,2],[2,3],[3,4],[4,1],[1,3],[2,4]]\n",
    "    Output: [1,2,3,4]\n",
    "\n",
    "\n",
    "\n",
    "\n",
    "**Constraints:**\n",
    "\n",
    "  * `1 <= n <= 104`\n",
    "  * `0 <= paths.length <= 2 * 104`\n",
    "  * `paths[i].length == 2`\n",
    "  * `1 <= xi, yi <= n`\n",
    "  * `xi != yi`\n",
    "  * Every garden has **at most 3** paths coming into or leaving it."
   ],
   "metadata": {}
  },
  {
   "outputs": [
    {
     "output_type": "execute_result",
     "data": {
      "text/plain": "garden_no_adj (generic function with 1 method)"
     },
     "metadata": {},
     "execution_count": 1
    }
   ],
   "cell_type": "code",
   "source": [
    "# @lc code=start\n",
    "using LeetCode\n",
    "\n",
    "function garden_no_adj(n::Int, path::Vector{Vector{Int}})\n",
    "    G = Dict{Int,Set{Int}}()\n",
    "    for (u, v) in path\n",
    "        push!(get!(G, u, Set{Int}()), v)\n",
    "        push!(get!(G, v, Set{Int}()), u)\n",
    "    end\n",
    "    res = zeros(Int, n)\n",
    "    for i in 1:n\n",
    "        res[i] = first(setdiff(1:4, [res[j] for j in G[i]]))\n",
    "    end\n",
    "    return res\n",
    "end\n",
    "\n",
    "# @lc code=end"
   ],
   "metadata": {},
   "execution_count": 1
  },
  {
   "cell_type": "markdown",
   "source": [
    "---\n",
    "\n",
    "*This notebook was generated using [Literate.jl](https://github.com/fredrikekre/Literate.jl).*"
   ],
   "metadata": {}
  }
 ],
 "nbformat_minor": 3,
 "metadata": {
  "language_info": {
   "file_extension": ".jl",
   "mimetype": "application/julia",
   "name": "julia",
   "version": "1.8.2"
  },
  "kernelspec": {
   "name": "julia-1.8",
   "display_name": "Julia 1.8.2",
   "language": "julia"
  }
 },
 "nbformat": 4
}
