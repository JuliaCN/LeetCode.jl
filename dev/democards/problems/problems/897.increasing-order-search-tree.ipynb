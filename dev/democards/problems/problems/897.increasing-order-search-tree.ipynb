{
 "cells": [
  {
   "cell_type": "markdown",
   "source": [
    "Given the `root` of a binary search tree, rearrange the tree in **in-order**\n",
    "so that the leftmost node in the tree is now the root of the tree, and every\n",
    "node has no left child and only one right child.\n",
    "\n",
    "\n",
    "\n",
    "**Example 1:**\n",
    "\n",
    "![](https://assets.leetcode.com/uploads/2020/11/17/ex1.jpg)\n",
    "\n",
    "\n",
    "\n",
    "    Input: root = [5,3,6,2,4,null,8,1,null,null,null,7,9]\n",
    "    Output: [1,null,2,null,3,null,4,null,5,null,6,null,7,null,8,null,9]\n",
    "\n",
    "\n",
    "**Example 2:**\n",
    "\n",
    "![](https://assets.leetcode.com/uploads/2020/11/17/ex2.jpg)\n",
    "\n",
    "\n",
    "\n",
    "    Input: root = [5,1,7]\n",
    "    Output: [1,null,5,null,7]\n",
    "\n",
    "\n",
    "\n",
    "\n",
    "**Constraints:**\n",
    "\n",
    "  * The number of nodes in the given tree will be in the range `[1, 100]`.\n",
    "  * `0 <= Node.val <= 1000`"
   ],
   "metadata": {}
  },
  {
   "outputs": [
    {
     "output_type": "execute_result",
     "data": {
      "text/plain": "increasing_bst (generic function with 1 method)"
     },
     "metadata": {},
     "execution_count": 1
    }
   ],
   "cell_type": "code",
   "source": [
    "# @lc code=start\n",
    "using LeetCode\n",
    "\n",
    "function increasing_bst(root::TreeNode{Int})\n",
    "    p = TreeNode(0)\n",
    "    q = p\n",
    "    function mid_tranv(root::TreeNode{Int})\n",
    "        (root.left !== nothing) && mid_tranv(root.left)\n",
    "        q.right = TreeNode(root.val)\n",
    "        q = q.right\n",
    "        (root.right !== nothing) && mid_tranv(root.right)\n",
    "        nothing\n",
    "    end\n",
    "    mid_tranv(root)\n",
    "    p.right\n",
    "end\n",
    "# @lc code=end"
   ],
   "metadata": {},
   "execution_count": 1
  },
  {
   "cell_type": "markdown",
   "source": [
    "---\n",
    "\n",
    "*This notebook was generated using [Literate.jl](https://github.com/fredrikekre/Literate.jl).*"
   ],
   "metadata": {}
  }
 ],
 "nbformat_minor": 3,
 "metadata": {
  "language_info": {
   "file_extension": ".jl",
   "mimetype": "application/julia",
   "name": "julia",
   "version": "1.8.0"
  },
  "kernelspec": {
   "name": "julia-1.8",
   "display_name": "Julia 1.8.0",
   "language": "julia"
  }
 },
 "nbformat": 4
}
