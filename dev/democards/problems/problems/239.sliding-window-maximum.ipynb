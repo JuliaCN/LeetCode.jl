{
 "cells": [
  {
   "cell_type": "markdown",
   "source": [
    "You are given an array of integers `nums`, there is a sliding window of size\n",
    "`k` which is moving from the very left of the array to the very right. You can\n",
    "only see the `k` numbers in the window. Each time the sliding window moves\n",
    "right by one position.\n",
    "\n",
    "Return _the max sliding window_.\n",
    "\n",
    "\n",
    "\n",
    "**Example 1:**\n",
    "\n",
    "\n",
    "\n",
    "    Input: nums = [1,3,-1,-3,5,3,6,7], k = 3\n",
    "    Output: [3,3,5,5,6,7]\n",
    "    Explanation:\n",
    "    Window position                Max\n",
    "    ---------------               -----\n",
    "    [1  3  -1] -3  5  3  6  7       **3**\n",
    "     1 [3  -1  -3] 5  3  6  7       **3**\n",
    "     1  3 [-1  -3  5] 3  6  7      **5**\n",
    "     1  3  -1 [-3  5  3] 6  7       **5**\n",
    "     1  3  -1  -3 [5  3  6] 7       **6**\n",
    "     1  3  -1  -3  5 [3  6  7]      **7**\n",
    "\n",
    "\n",
    "**Example 2:**\n",
    "\n",
    "\n",
    "\n",
    "    Input: nums = [1], k = 1\n",
    "    Output: [1]\n",
    "\n",
    "\n",
    "**Example 3:**\n",
    "\n",
    "\n",
    "\n",
    "    Input: nums = [1,-1], k = 1\n",
    "    Output: [1,-1]\n",
    "\n",
    "\n",
    "**Example 4:**\n",
    "\n",
    "\n",
    "\n",
    "    Input: nums = [9,11], k = 2\n",
    "    Output: [11]\n",
    "\n",
    "\n",
    "**Example 5:**\n",
    "\n",
    "\n",
    "\n",
    "    Input: nums = [4,-2], k = 2\n",
    "    Output: [4]\n",
    "\n",
    "\n",
    "\n",
    "\n",
    "**Constraints:**\n",
    "\n",
    "  * `1 <= nums.length <= 105`\n",
    "  * `-104 <= nums[i] <= 104`\n",
    "  * `1 <= k <= nums.length`"
   ],
   "metadata": {}
  },
  {
   "outputs": [
    {
     "output_type": "execute_result",
     "data": {
      "text/plain": "max_sliding_window (generic function with 1 method)"
     },
     "metadata": {},
     "execution_count": 1
    }
   ],
   "cell_type": "code",
   "source": [
    "# @lc code=start\n",
    "using LeetCode\n",
    "function max_sliding_window(nums::Vector{Int}, k::Int)::Vector{Int}\n",
    "    q = Deque{Int}()\n",
    "    len = length(nums)\n",
    "    res = fill(0, len - k + 1)\n",
    "    for i in 1:k-1\n",
    "        num = nums[i]\n",
    "        while !isempty(q) && nums[first(q)] < num\n",
    "            popfirst!(q)\n",
    "        end\n",
    "        push!(q, i)\n",
    "    end\n",
    "    for i in k:len\n",
    "        num = nums[i]\n",
    "        while !isempty(q) && (nums[first(q)] < num || first(q) < i - k + 1)\n",
    "            popfirst!(q)\n",
    "        end\n",
    "        while !isempty(q) && nums[last(q)] < num\n",
    "            pop!(q)\n",
    "        end\n",
    "        push!(q, i)\n",
    "        res[i - k + 1] = nums[first(q)]\n",
    "    end\n",
    "    res\n",
    "end\n",
    "# @lc code=end"
   ],
   "metadata": {},
   "execution_count": 1
  },
  {
   "cell_type": "markdown",
   "source": [
    "---\n",
    "\n",
    "*This notebook was generated using [Literate.jl](https://github.com/fredrikekre/Literate.jl).*"
   ],
   "metadata": {}
  }
 ],
 "nbformat_minor": 3,
 "metadata": {
  "language_info": {
   "file_extension": ".jl",
   "mimetype": "application/julia",
   "name": "julia",
   "version": "1.10.4"
  },
  "kernelspec": {
   "name": "julia-1.10",
   "display_name": "Julia 1.10.4",
   "language": "julia"
  }
 },
 "nbformat": 4
}
