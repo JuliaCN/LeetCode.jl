{
 "cells": [
  {
   "cell_type": "markdown",
   "source": [
    "Given an array of citations **sorted  in ascending order **(each citation is a\n",
    "non-negative integer) of a researcher, write a function to compute the\n",
    "researcher's h-index.\n",
    "\n",
    "According to the [definition of h-index on\n",
    "Wikipedia](https://en.wikipedia.org/wiki/H-index): \"A scientist has index  _h_\n",
    "if  _h_  of his/her  _N_  papers have  **at least**   _h_  citations each, and\n",
    "the other  _N − h_ papers have  **no more than**   _h  _citations each.\"\n",
    "\n",
    "**Example:**\n",
    "\n",
    "\n",
    "\n",
    "    Input: citations = [0,1,3,5,6]\n",
    "    Output: 3\n",
    "    Explanation:[0,1,3,5,6] means the researcher has 5 papers in total and each of them had\n",
    "                 received 0, 1, 3, 5, 6 citations respectively.\n",
    "                 Since the researcher has 3 papers with **at least** 3 citations each and the remaining\n",
    "                 two with **no more than** 3 citations each, her h-index is 3.\n",
    "\n",
    "**Note:**\n",
    "\n",
    "If there are several possible values for  _h_ , the maximum one is taken as\n",
    "the h-index.\n",
    "\n",
    "**Follow up:**\n",
    "\n",
    "  * This is a follow up problem to [H-Index](https://leetcode.com/problems/h-index/description/), where `citations` is now guaranteed to be sorted in ascending order.\n",
    "  * Could you solve it in logarithmic time complexity?"
   ],
   "metadata": {}
  },
  {
   "outputs": [
    {
     "output_type": "execute_result",
     "data": {
      "text/plain": "h_index_ii (generic function with 1 method)"
     },
     "metadata": {},
     "execution_count": 1
    }
   ],
   "cell_type": "code",
   "source": [
    "# @lc code=start\n",
    "using LeetCode\n",
    "\n",
    "function h_index_ii(citations::Vector{Int})\n",
    "    l, r = 1, length(citations) + 1\n",
    "    while l < r\n",
    "        mid = l + r >> 1\n",
    "        if citations[end + 1 - mid] >= mid\n",
    "            l = mid\n",
    "        else\n",
    "            r = mid - 1\n",
    "        end\n",
    "    end\n",
    "    return r\n",
    "end\n",
    "# @lc code=end"
   ],
   "metadata": {},
   "execution_count": 1
  },
  {
   "cell_type": "markdown",
   "source": [
    "---\n",
    "\n",
    "*This notebook was generated using [Literate.jl](https://github.com/fredrikekre/Literate.jl).*"
   ],
   "metadata": {}
  }
 ],
 "nbformat_minor": 3,
 "metadata": {
  "language_info": {
   "file_extension": ".jl",
   "mimetype": "application/julia",
   "name": "julia",
   "version": "1.6.1"
  },
  "kernelspec": {
   "name": "julia-1.6",
   "display_name": "Julia 1.6.1",
   "language": "julia"
  }
 },
 "nbformat": 4
}
