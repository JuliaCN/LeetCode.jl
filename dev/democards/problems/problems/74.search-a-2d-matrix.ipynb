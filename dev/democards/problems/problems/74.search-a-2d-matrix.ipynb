{
 "cells": [
  {
   "cell_type": "markdown",
   "source": [
    "Write an efficient algorithm that searches for a value in an `m x n` matrix.\n",
    "This matrix has the following properties:\n",
    "\n",
    "  * Integers in each row are sorted from left to right.\n",
    "  * The first integer of each row is greater than the last integer of the previous row.\n",
    "\n",
    "\n",
    "\n",
    "**Example 1:**\n",
    "\n",
    "![](https://assets.leetcode.com/uploads/2020/10/05/mat.jpg)\n",
    "\n",
    "\n",
    "\n",
    "    Input: matrix = [[1,3,5,7],[10,11,16,20],[23,30,34,50]], target = 3\n",
    "    Output: true\n",
    "\n",
    "\n",
    "**Example 2:**\n",
    "\n",
    "![](https://assets.leetcode.com/uploads/2020/10/05/mat2.jpg)\n",
    "\n",
    "\n",
    "\n",
    "    Input: matrix = [[1,3,5,7],[10,11,16,20],[23,30,34,50]], target = 13\n",
    "    Output: false\n",
    "\n",
    "\n",
    "**Example 3:**\n",
    "\n",
    "\n",
    "\n",
    "    Input: matrix = [], target = 0\n",
    "    Output: false\n",
    "\n",
    "\n",
    "\n",
    "\n",
    "**Constraints:**\n",
    "\n",
    "  * `m == matrix.length`\n",
    "  * `n == matrix[i].length`\n",
    "  * `0 <= m, n <= 100`\n",
    "  * `-104 <= matrix[i][j], target <= 104`"
   ],
   "metadata": {}
  },
  {
   "outputs": [
    {
     "output_type": "execute_result",
     "data": {
      "text/plain": "search_matrix (generic function with 1 method)"
     },
     "metadata": {},
     "execution_count": 1
    }
   ],
   "cell_type": "code",
   "source": [
    "# @lc code=start\n",
    "using LeetCode\n",
    "\n",
    "function search_matrix(matrix::Vector{Vector{Int}}, target::Int)::Bool\n",
    "    m, n = length(matrix), length(matrix[1])\n",
    "\n",
    "    (m == 0 || n == 0) && return false\n",
    "    left, right = 1, m * n\n",
    "\n",
    "    while left <= right\n",
    "        mid = left + (right - left) ÷ 2\n",
    "        num = matrix[mid ÷ n][mod1(mid, n)]\n",
    "        if num == target\n",
    "            return true\n",
    "        elseif num < target\n",
    "            left = mid + 1\n",
    "        else\n",
    "            right = mid - 1\n",
    "        end\n",
    "    end\n",
    "\n",
    "    return false\n",
    "end\n",
    "# @lc code=end"
   ],
   "metadata": {},
   "execution_count": 1
  },
  {
   "cell_type": "markdown",
   "source": [
    "---\n",
    "\n",
    "*This notebook was generated using [Literate.jl](https://github.com/fredrikekre/Literate.jl).*"
   ],
   "metadata": {}
  }
 ],
 "nbformat_minor": 3,
 "metadata": {
  "language_info": {
   "file_extension": ".jl",
   "mimetype": "application/julia",
   "name": "julia",
   "version": "1.9.1"
  },
  "kernelspec": {
   "name": "julia-1.9",
   "display_name": "Julia 1.9.1",
   "language": "julia"
  }
 },
 "nbformat": 4
}
