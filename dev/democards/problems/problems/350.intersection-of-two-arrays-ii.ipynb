{
 "cells": [
  {
   "cell_type": "markdown",
   "source": [
    "Given two arrays, write a function to compute their intersection.\n",
    "\n",
    "**Example 1:**\n",
    "\n",
    "\n",
    "\n",
    "    Input: nums1 = [1,2,2,1], nums2 = [2,2]\n",
    "    Output: [2,2]\n",
    "\n",
    "\n",
    "**Example 2:**\n",
    "\n",
    "\n",
    "\n",
    "    Input: nums1 = [4,9,5], nums2 = [9,4,9,8,4]\n",
    "    Output: [4,9]\n",
    "\n",
    "**Note:**\n",
    "\n",
    "  * Each element in the result should appear as many times as it shows in both arrays.\n",
    "  * The result can be in any order.\n",
    "\n",
    "**Follow up:**\n",
    "\n",
    "  * What if the given array is already sorted? How would you optimize your algorithm?\n",
    "  * What if _nums1_ 's size is small compared to _nums2_ 's size? Which algorithm is better?\n",
    "  * What if elements of _nums2_ are stored on disk, and the memory is limited such that you cannot load all elements into the memory at once?"
   ],
   "metadata": {}
  },
  {
   "outputs": [
    {
     "output_type": "execute_result",
     "data": {
      "text/plain": "intersection_of_arrays (generic function with 1 method)"
     },
     "metadata": {},
     "execution_count": 1
    }
   ],
   "cell_type": "code",
   "source": [
    "# @lc code=start\n",
    "using LeetCode\n",
    "\n",
    "function intersection_of_arrays(nums1::Vector{Int}, nums2::Vector{Int})::Vector{Int}\n",
    "    nums1, nums2 = sort(nums1), sort(nums2)\n",
    "    n1, n2 = length(nums1), length(nums2)\n",
    "    i1, i2, res = 1, 1, Int[]\n",
    "    while i1 <= n1 && i2 <= n2\n",
    "        if nums1[i1] > nums2[i2]\n",
    "            i2 += 1\n",
    "        elseif nums1[i1] < nums2[i2]\n",
    "            i1 += 1\n",
    "        else\n",
    "            push!(res, nums1[i1])\n",
    "            i1 += 1\n",
    "            i2 += 1\n",
    "        end\n",
    "    end\n",
    "    return res\n",
    "end\n",
    "\n",
    "# @lc code=end"
   ],
   "metadata": {},
   "execution_count": 1
  },
  {
   "cell_type": "markdown",
   "source": [
    "---\n",
    "\n",
    "*This notebook was generated using [Literate.jl](https://github.com/fredrikekre/Literate.jl).*"
   ],
   "metadata": {}
  }
 ],
 "nbformat_minor": 3,
 "metadata": {
  "language_info": {
   "file_extension": ".jl",
   "mimetype": "application/julia",
   "name": "julia",
   "version": "1.8.2"
  },
  "kernelspec": {
   "name": "julia-1.8",
   "display_name": "Julia 1.8.2",
   "language": "julia"
  }
 },
 "nbformat": 4
}
