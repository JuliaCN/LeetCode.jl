{
 "cells": [
  {
   "cell_type": "markdown",
   "source": [
    "Given a binary search tree, write a function `kthSmallest` to find the **k**\n",
    "th smallest element in it.\n",
    "\n",
    "\n",
    "\n",
    "**Example 1:**\n",
    "\n",
    "\n",
    "\n",
    "    Input: root = [3,1,4,null,2], k = 1\n",
    "       3\n",
    "      / \\\n",
    "     1   4\n",
    "      \\\n",
    "       2\n",
    "    Output: 1\n",
    "\n",
    "**Example 2:**\n",
    "\n",
    "\n",
    "\n",
    "    Input: root = [5,3,6,2,4,null,null,1], k = 3\n",
    "           5\n",
    "          / \\\n",
    "         3   6\n",
    "        / \\\n",
    "       2   4\n",
    "      /\n",
    "     1\n",
    "    Output: 3\n",
    "\n",
    "\n",
    "**Follow up:**\n",
    "What if the BST is modified (insert/delete operations) often and you need to\n",
    "find the kth smallest frequently? How would you optimize the kthSmallest\n",
    "routine?\n",
    "\n",
    "\n",
    "\n",
    "**Constraints:**\n",
    "\n",
    "  * The number of elements of the BST is between `1` to `10^4`.\n",
    "  * You may assume `k` is always valid, `1 ≤ k ≤ BST's total elements`."
   ],
   "metadata": {}
  },
  {
   "outputs": [
    {
     "output_type": "execute_result",
     "data": {
      "text/plain": "kth_smallest_in_BST (generic function with 1 method)"
     },
     "metadata": {},
     "execution_count": 1
    }
   ],
   "cell_type": "code",
   "source": [
    "# @lc code=start\n",
    "using LeetCode\n",
    "\n",
    "function kth_smallest_in_BST(root, k::Int)::Int\n",
    "    isnothing(root) && return true\n",
    "    arr = Int[]\n",
    "    function pre_tra(root::TreeNode{Int})\n",
    "        pre_tra(root.left)\n",
    "        push!(arr, root.val)\n",
    "        pre_tra(root.right)\n",
    "    end\n",
    "    pre_tra(::Nothing) = nothing\n",
    "    pre_tra(root)\n",
    "    arr[k]\n",
    "end\n",
    "# @lc code=end"
   ],
   "metadata": {},
   "execution_count": 1
  },
  {
   "cell_type": "markdown",
   "source": [
    "---\n",
    "\n",
    "*This notebook was generated using [Literate.jl](https://github.com/fredrikekre/Literate.jl).*"
   ],
   "metadata": {}
  }
 ],
 "nbformat_minor": 3,
 "metadata": {
  "language_info": {
   "file_extension": ".jl",
   "mimetype": "application/julia",
   "name": "julia",
   "version": "1.8.2"
  },
  "kernelspec": {
   "name": "julia-1.8",
   "display_name": "Julia 1.8.2",
   "language": "julia"
  }
 },
 "nbformat": 4
}
