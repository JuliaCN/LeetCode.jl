{
 "cells": [
  {
   "cell_type": "markdown",
   "source": [
    "Given an array of integers `nums`, sort the array in **increasing** order\n",
    "based on the frequency of the values. If multiple values have the same\n",
    "frequency, sort them in **decreasing** order.\n",
    "\n",
    "Return the _sorted array_.\n",
    "\n",
    "\n",
    "\n",
    "**Example 1:**\n",
    "\n",
    "\n",
    "\n",
    "    Input: nums = [1,1,2,2,2,3]\n",
    "    Output: [3,1,1,2,2,2]\n",
    "    Explanation: '3' has a frequency of 1, '1' has a frequency of 2, and '2' has a frequency of 3.\n",
    "\n",
    "\n",
    "**Example 2:**\n",
    "\n",
    "\n",
    "\n",
    "    Input: nums = [2,3,1,3,2]\n",
    "    Output: [1,3,3,2,2]\n",
    "    Explanation: '2' and '3' both have a frequency of 2, so they are sorted in decreasing order.\n",
    "\n",
    "\n",
    "**Example 3:**\n",
    "\n",
    "\n",
    "\n",
    "    Input: nums = [-1,1,-6,4,5,-6,1,4,1]\n",
    "    Output: [5,-1,4,4,-6,-6,1,1,1]\n",
    "\n",
    "\n",
    "\n",
    "**Constraints:**\n",
    "\n",
    "  * `1 <= nums.length <= 100`\n",
    "  * `-100 <= nums[i] <= 100`"
   ],
   "metadata": {}
  },
  {
   "outputs": [
    {
     "output_type": "execute_result",
     "data": {
      "text/plain": "frequency_sort (generic function with 1 method)"
     },
     "metadata": {},
     "execution_count": 1
    }
   ],
   "cell_type": "code",
   "source": [
    "# @lc code=start\n",
    "using LeetCode\n",
    "\n",
    "function frequency_sort(nums::Vector{Int})\n",
    "    freq = counter(nums)\n",
    "    sort!(nums, by = x -> (freq[x], -x))\n",
    "end\n",
    "# @lc code=end"
   ],
   "metadata": {},
   "execution_count": 1
  },
  {
   "cell_type": "markdown",
   "source": [
    "---\n",
    "\n",
    "*This notebook was generated using [Literate.jl](https://github.com/fredrikekre/Literate.jl).*"
   ],
   "metadata": {}
  }
 ],
 "nbformat_minor": 3,
 "metadata": {
  "language_info": {
   "file_extension": ".jl",
   "mimetype": "application/julia",
   "name": "julia",
   "version": "1.7.0"
  },
  "kernelspec": {
   "name": "julia-1.7",
   "display_name": "Julia 1.7.0",
   "language": "julia"
  }
 },
 "nbformat": 4
}
