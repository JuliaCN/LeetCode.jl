{
 "cells": [
  {
   "cell_type": "markdown",
   "source": [
    "A sequence of numbers is called arithmetic if it consists of at least three\n",
    "elements and if the difference between any two consecutive elements is the\n",
    "same.\n",
    "\n",
    "For example, these are arithmetic sequences:\n",
    "\n",
    "\n",
    "\n",
    "    1, 3, 5, 7, 9\n",
    "    7, 7, 7, 7\n",
    "    3, -1, -5, -9\n",
    "\n",
    "The following sequence is not arithmetic.\n",
    "\n",
    "\n",
    "\n",
    "    1, 1, 2, 5, 7\n",
    "\n",
    "\n",
    "\n",
    "A zero-indexed array A consisting of N numbers is given. A slice of that array\n",
    "is any pair of integers (P, Q) such that 0 <= P < Q < N.\n",
    "\n",
    "A slice (P, Q) of the array A is called arithmetic if the sequence:\n",
    "A[P], A[P \\+ 1], ..., A[Q - 1], A[Q] is arithmetic. In particular, this means\n",
    "that P + 1 < Q.\n",
    "\n",
    "The function should return the number of arithmetic slices in the array A.\n",
    "\n",
    "\n",
    "\n",
    "**Example:**\n",
    "\n",
    "\n",
    "\n",
    "    A = [1, 2, 3, 4]\n",
    "\n",
    "    return: 3, for 3 arithmetic slices in A: [1, 2, 3], [2, 3, 4] and [1, 2, 3, 4] itself."
   ],
   "metadata": {}
  },
  {
   "outputs": [
    {
     "output_type": "execute_result",
     "data": {
      "text/plain": "number_of_arithmetic_slices (generic function with 1 method)"
     },
     "metadata": {},
     "execution_count": 1
    }
   ],
   "cell_type": "code",
   "source": [
    "# @lc code=start\n",
    "using LeetCode\n",
    "\n",
    "function number_of_arithmetic_slices(nums::Vector{Int})\n",
    "    dp, res = 0, 0\n",
    "    for i in 3:length(nums)\n",
    "        if nums[i] + nums[i - 2] == (nums[i - 1] << 1)\n",
    "            res += (dp += 1)\n",
    "        else\n",
    "            dp = 0\n",
    "        end\n",
    "    end\n",
    "    return res\n",
    "end\n",
    "# @lc code=end"
   ],
   "metadata": {},
   "execution_count": 1
  },
  {
   "cell_type": "markdown",
   "source": [
    "---\n",
    "\n",
    "*This notebook was generated using [Literate.jl](https://github.com/fredrikekre/Literate.jl).*"
   ],
   "metadata": {}
  }
 ],
 "nbformat_minor": 3,
 "metadata": {
  "language_info": {
   "file_extension": ".jl",
   "mimetype": "application/julia",
   "name": "julia",
   "version": "1.10.1"
  },
  "kernelspec": {
   "name": "julia-1.10",
   "display_name": "Julia 1.10.1",
   "language": "julia"
  }
 },
 "nbformat": 4
}
