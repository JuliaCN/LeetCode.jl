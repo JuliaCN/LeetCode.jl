{
 "cells": [
  {
   "cell_type": "markdown",
   "source": [
    "Given two sequences `pushed` and `popped`  **with distinct values** , return\n",
    "`true` if and only if this could have been the result of a sequence of push\n",
    "and pop operations on an initially empty stack.\n",
    "\n",
    "\n",
    "\n",
    "**Example 1:**\n",
    "\n",
    "\n",
    "\n",
    "    Input: pushed = [1,2,3,4,5], popped = [4,5,3,2,1]\n",
    "    Output: true\n",
    "    Explanation: We might do the following sequence:\n",
    "    push(1), push(2), push(3), push(4), pop() -> 4,\n",
    "    push(5), pop() -> 5, pop() -> 3, pop() -> 2, pop() -> 1\n",
    "\n",
    "\n",
    "**Example 2:**\n",
    "\n",
    "\n",
    "\n",
    "    Input: pushed = [1,2,3,4,5], popped = [4,3,5,1,2]\n",
    "    Output: false\n",
    "    Explanation: 1 cannot be popped before 2.\n",
    "\n",
    "\n",
    "\n",
    "\n",
    "**Constraints:**\n",
    "\n",
    "  * `0 <= pushed.length == popped.length <= 1000`\n",
    "  * `0 <= pushed[i], popped[i] < 1000`\n",
    "  * `pushed` is a permutation of `popped`.\n",
    "  * `pushed` and `popped` have distinct values."
   ],
   "metadata": {}
  },
  {
   "outputs": [
    {
     "output_type": "execute_result",
     "data": {
      "text/plain": "validate_stack_sequences! (generic function with 1 method)"
     },
     "metadata": {},
     "execution_count": 1
    }
   ],
   "cell_type": "code",
   "source": [
    "# @lc code=start\n",
    "using LeetCode\n",
    "function validate_stack_sequences(pushed::Vector{Int}, popped::Vector{Int})\n",
    "    return validate_stack_sequences!(copy(pushed), popped)\n",
    "end\n",
    "function validate_stack_sequences!(pushed::Vector{Int}, popped::Vector{Int})::Bool\n",
    "    stack = Int[]\n",
    "    for num in popped\n",
    "        while isempty(stack) || last(stack) != num\n",
    "            isempty(pushed) && return false\n",
    "            push!(stack, popfirst!(pushed))\n",
    "        end\n",
    "        pop!(stack)\n",
    "    end\n",
    "    return true\n",
    "end\n",
    "\n",
    "# @lc code=end"
   ],
   "metadata": {},
   "execution_count": 1
  },
  {
   "cell_type": "markdown",
   "source": [
    "---\n",
    "\n",
    "*This notebook was generated using [Literate.jl](https://github.com/fredrikekre/Literate.jl).*"
   ],
   "metadata": {}
  }
 ],
 "nbformat_minor": 3,
 "metadata": {
  "language_info": {
   "file_extension": ".jl",
   "mimetype": "application/julia",
   "name": "julia",
   "version": "1.7.3"
  },
  "kernelspec": {
   "name": "julia-1.7",
   "display_name": "Julia 1.7.3",
   "language": "julia"
  }
 },
 "nbformat": 4
}
