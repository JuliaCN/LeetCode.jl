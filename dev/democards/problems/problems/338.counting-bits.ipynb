{
 "cells": [
  {
   "cell_type": "markdown",
   "source": [
    "Given a non negative integer number **num**. For every numbers **i** in the\n",
    "range **0 ≤ i ≤ num** calculate the number of 1's in their binary\n",
    "representation and return them as an array.\n",
    "\n",
    "**Example 1:**\n",
    "\n",
    "\n",
    "\n",
    "    Input: 2\n",
    "    Output: [0,1,1]\n",
    "\n",
    "**Example 2:**\n",
    "\n",
    "\n",
    "\n",
    "    Input: 5\n",
    "    Output:[0,1,1,2,1,2]\n",
    "\n",
    "\n",
    "**Follow up:**\n",
    "\n",
    "  * It is very easy to come up with a solution with run time **O(n*sizeof(integer))**. But can you do it in linear time **O(n)** /possibly in a single pass?\n",
    "  * Space complexity should be **O(n)**.\n",
    "  * Can you do it like a boss? Do it without using any builtin function like **__builtin_popcount** in c++ or in any other language."
   ],
   "metadata": {}
  },
  {
   "outputs": [
    {
     "output_type": "execute_result",
     "data": {
      "text/plain": "count_bits (generic function with 1 method)"
     },
     "metadata": {},
     "execution_count": 1
    }
   ],
   "cell_type": "code",
   "source": [
    "# @lc code=start\n",
    "using LeetCode\n",
    "\n",
    "function count_bits(num::Int)\n",
    "    res = fill(1, num)\n",
    "    for i in 2:num\n",
    "        res[i] = res[i >> 1] + (i & 1)\n",
    "    end\n",
    "    pushfirst!(res, 0)\n",
    "end\n",
    "# @lc code=end"
   ],
   "metadata": {},
   "execution_count": 1
  },
  {
   "cell_type": "markdown",
   "source": [
    "---\n",
    "\n",
    "*This notebook was generated using [Literate.jl](https://github.com/fredrikekre/Literate.jl).*"
   ],
   "metadata": {}
  }
 ],
 "nbformat_minor": 3,
 "metadata": {
  "language_info": {
   "file_extension": ".jl",
   "mimetype": "application/julia",
   "name": "julia",
   "version": "1.8.0"
  },
  "kernelspec": {
   "name": "julia-1.8",
   "display_name": "Julia 1.8.0",
   "language": "julia"
  }
 },
 "nbformat": 4
}
