{
 "cells": [
  {
   "cell_type": "markdown",
   "source": [
    "We have two special characters. The first character can be represented by one\n",
    "bit `0`. The second character can be represented by two bits (`10` or `11`).\n",
    "\n",
    "Now given a string represented by several bits. Return whether the last\n",
    "character must be a one-bit character or not. The given string will always end\n",
    "with a zero.\n",
    "\n",
    "**Example 1:**\n",
    "\n",
    "\n",
    "\n",
    "    Input:\n",
    "    bits = [1, 0, 0]\n",
    "    Output: True\n",
    "    Explanation:\n",
    "    The only way to decode it is two-bit character and one-bit character. So the last character is one-bit character.\n",
    "\n",
    "\n",
    "**Example 2:**\n",
    "\n",
    "\n",
    "\n",
    "    Input:\n",
    "    bits = [1, 1, 1, 0]\n",
    "    Output: False\n",
    "    Explanation:\n",
    "    The only way to decode it is two-bit character and two-bit character. So the last character is NOT one-bit character.\n",
    "\n",
    "\n",
    "**Note:**\n",
    "\n",
    "* `1 <= len(bits) <= 1000`.\n",
    "* `bits[i]` is always `0` or `1`."
   ],
   "metadata": {}
  },
  {
   "outputs": [
    {
     "output_type": "execute_result",
     "data": {
      "text/plain": "is_one_bit_character (generic function with 1 method)"
     },
     "metadata": {},
     "execution_count": 1
    }
   ],
   "cell_type": "code",
   "source": [
    "# @lc code=start\n",
    "using LeetCode\n",
    "\n",
    "function is_one_bit_character(bits::Vector{Int})::Bool\n",
    "    pos = findlast(x -> x == 0, @view bits[1:(end - 1)])\n",
    "    pos === nothing && return length(bits) % 2 == 1\n",
    "    return (length(bits) - pos) % 2 == 1\n",
    "end\n",
    "# @lc code=end"
   ],
   "metadata": {},
   "execution_count": 1
  },
  {
   "cell_type": "markdown",
   "source": [
    "---\n",
    "\n",
    "*This notebook was generated using [Literate.jl](https://github.com/fredrikekre/Literate.jl).*"
   ],
   "metadata": {}
  }
 ],
 "nbformat_minor": 3,
 "metadata": {
  "language_info": {
   "file_extension": ".jl",
   "mimetype": "application/julia",
   "name": "julia",
   "version": "1.7.3"
  },
  "kernelspec": {
   "name": "julia-1.7",
   "display_name": "Julia 1.7.3",
   "language": "julia"
  }
 },
 "nbformat": 4
}
