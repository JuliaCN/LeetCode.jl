{
 "cells": [
  {
   "cell_type": "markdown",
   "source": [
    "Given a positive integer **n** , return the number of all possible attendance\n",
    "records with length n, which will be regarded as rewardable. The answer may be\n",
    "very large, return it after mod 109 \\+ 7.\n",
    "\n",
    "A student attendance record is a string that only contains the following three\n",
    "characters:\n",
    "\n",
    "  1. **'A'** : Absent.\n",
    "  2. **'L'** : Late.\n",
    "  3. **'P'** : Present.\n",
    "\n",
    "A record is regarded as rewardable if it doesn't contain **more than one 'A'\n",
    "(absent)** or **more than two continuous 'L' (late)**.\n",
    "\n",
    "**Example 1:**\n",
    "\n",
    "\n",
    "\n",
    "    Input: n = 2\n",
    "    Output: 8\n",
    "    Explanation:\n",
    "    There are 8 records with length 2 will be regarded as rewardable:\n",
    "    \"PP\" , \"AP\", \"PA\", \"LP\", \"PL\", \"AL\", \"LA\", \"LL\"\n",
    "    Only \"AA\" won't be regarded as rewardable owing to more than one absent times.\n",
    "\n",
    "\n",
    "**Note:** The value of **n** won't exceed 100,000."
   ],
   "metadata": {}
  },
  {
   "outputs": [
    {
     "output_type": "execute_result",
     "data": {
      "text/plain": "check_record (generic function with 1 method)"
     },
     "metadata": {},
     "execution_count": 1
    }
   ],
   "cell_type": "code",
   "source": [
    "# @lc code=start\n",
    "using LeetCode\n",
    "\n",
    "function check_record(n::Int)\n",
    "    P = [1 1 0 1 0 0\n",
    "        1 0 1 1 0 0\n",
    "        1 0 0 1 0 0\n",
    "        0 0 0 1 1 0\n",
    "        0 0 0 1 0 1\n",
    "        0 0 0 1 0 0]\n",
    "    res = mat_fast_mul(P, n, Int(1e9 + 7))\n",
    "    sum(@view res[1, :]) % Int(1e9 + 7)\n",
    "end\n",
    "# @lc code=end"
   ],
   "metadata": {},
   "execution_count": 1
  },
  {
   "cell_type": "markdown",
   "source": [
    "---\n",
    "\n",
    "*This notebook was generated using [Literate.jl](https://github.com/fredrikekre/Literate.jl).*"
   ],
   "metadata": {}
  }
 ],
 "nbformat_minor": 3,
 "metadata": {
  "language_info": {
   "file_extension": ".jl",
   "mimetype": "application/julia",
   "name": "julia",
   "version": "1.11.6"
  },
  "kernelspec": {
   "name": "julia-1.11",
   "display_name": "Julia 1.11.6",
   "language": "julia"
  }
 },
 "nbformat": 4
}
