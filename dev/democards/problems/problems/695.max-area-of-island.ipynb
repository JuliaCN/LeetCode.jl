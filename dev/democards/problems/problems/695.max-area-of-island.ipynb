{
 "cells": [
  {
   "cell_type": "markdown",
   "source": [
    "Given a non-empty 2D array `grid` of 0's and 1's, an **island** is a group of\n",
    "`1`'s (representing land) connected 4-directionally (horizontal or vertical.)\n",
    "You may assume all four edges of the grid are surrounded by water.\n",
    "\n",
    "Find the maximum area of an island in the given 2D array. (If there is no\n",
    "island, the maximum area is 0.)\n",
    "\n",
    "**Example 1:**\n",
    "\n",
    "\n",
    "\n",
    "    [[0,0,1,0,0,0,0,1,0,0,0,0,0],\n",
    "     [0,0,0,0,0,0,0,1,1,1,0,0,0],\n",
    "     [0,1,1,0,1,0,0,0,0,0,0,0,0],\n",
    "     [0,1,0,0,1,1,0,0, **1** ,0, **1** ,0,0],\n",
    "     [0,1,0,0,1,1,0,0, **1** , **1** , **1** ,0,0],\n",
    "     [0,0,0,0,0,0,0,0,0,0, **1** ,0,0],\n",
    "     [0,0,0,0,0,0,0,1,1,1,0,0,0],\n",
    "     [0,0,0,0,0,0,0,1,1,0,0,0,0]]\n",
    "\n",
    "\n",
    "Given the above grid, return `6`. Note the answer is not 11, because the\n",
    "island must be connected 4-directionally.\n",
    "\n",
    "**Example 2:**\n",
    "\n",
    "\n",
    "\n",
    "    [[0,0,0,0,0,0,0,0]]\n",
    "\n",
    "Given the above grid, return `0`.\n",
    "\n",
    "**Note:** The length of each dimension in the given `grid` does not exceed 50."
   ],
   "metadata": {}
  },
  {
   "outputs": [
    {
     "output_type": "execute_result",
     "data": {
      "text/plain": "max_area_of_island (generic function with 1 method)"
     },
     "metadata": {},
     "execution_count": 1
    }
   ],
   "cell_type": "code",
   "source": [
    "# @lc code=start\n",
    "using LeetCode\n",
    "\n",
    "function max_area_of_island(grid::Matrix{Int})\n",
    "    function dfs(grid::Matrix{Int}, I)\n",
    "        grid[I] = 0\n",
    "        res = 1\n",
    "        idcs = CartesianIndices(grid)\n",
    "        for neighb in ((1, 0), (0, 1), (-1, 0), (0, -1))\n",
    "            new_I = I + CartesianIndex(neighb)\n",
    "            (new_I ∈ idcs && grid[new_I] == 1) && (res += dfs(grid, new_I))\n",
    "        end\n",
    "        return res\n",
    "    end\n",
    "    res = 0\n",
    "    for I in CartesianIndices(grid)\n",
    "        (grid[I] == 1) && (res = max(res, dfs(grid, I)))\n",
    "    end\n",
    "    return res\n",
    "end\n",
    "# @lc code=end"
   ],
   "metadata": {},
   "execution_count": 1
  },
  {
   "cell_type": "markdown",
   "source": [
    "---\n",
    "\n",
    "*This notebook was generated using [Literate.jl](https://github.com/fredrikekre/Literate.jl).*"
   ],
   "metadata": {}
  }
 ],
 "nbformat_minor": 3,
 "metadata": {
  "language_info": {
   "file_extension": ".jl",
   "mimetype": "application/julia",
   "name": "julia",
   "version": "1.7.3"
  },
  "kernelspec": {
   "name": "julia-1.7",
   "display_name": "Julia 1.7.3",
   "language": "julia"
  }
 },
 "nbformat": 4
}
