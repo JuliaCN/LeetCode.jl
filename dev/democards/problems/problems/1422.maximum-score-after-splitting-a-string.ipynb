{
 "cells": [
  {
   "cell_type": "markdown",
   "source": [
    "Given a string `s` of zeros and ones, _return the maximum score after\n",
    "splitting the string into two **non-empty** substrings_ (i.e. **left**\n",
    "substring and **right** substring).\n",
    "\n",
    "The score after splitting a string is the number of **zeros** in the **left**\n",
    "substring plus the number of **ones** in the **right** substring.\n",
    "\n",
    "\n",
    "\n",
    "**Example 1:**\n",
    "\n",
    "\n",
    "\n",
    "    Input: s = \"011101\"\n",
    "    Output: 5\n",
    "    Explanation:\n",
    "    All possible ways of splitting s into two non-empty substrings are:\n",
    "    left = \"0\" and right = \"11101\", score = 1 + 4 = 5\n",
    "    left = \"01\" and right = \"1101\", score = 1 + 3 = 4\n",
    "    left = \"011\" and right = \"101\", score = 1 + 2 = 3\n",
    "    left = \"0111\" and right = \"01\", score = 1 + 1 = 2\n",
    "    left = \"01110\" and right = \"1\", score = 2 + 1 = 3\n",
    "\n",
    "\n",
    "**Example 2:**\n",
    "\n",
    "\n",
    "\n",
    "    Input: s = \"00111\"\n",
    "    Output: 5\n",
    "    Explanation: When left = \"00\" and right = \"111\", we get the maximum score = 2 + 3 = 5\n",
    "\n",
    "\n",
    "**Example 3:**\n",
    "\n",
    "\n",
    "\n",
    "    Input: s = \"1111\"\n",
    "    Output: 3\n",
    "\n",
    "\n",
    "\n",
    "\n",
    "**Constraints:**\n",
    "\n",
    "  * `2 <= s.length <= 500`\n",
    "  * The string `s` consists of characters '0' and '1' only."
   ],
   "metadata": {}
  },
  {
   "outputs": [
    {
     "output_type": "execute_result",
     "data": {
      "text/plain": "max_score (generic function with 1 method)"
     },
     "metadata": {},
     "execution_count": 1
    }
   ],
   "cell_type": "code",
   "source": [
    "# @lc code=start\n",
    "using LeetCode\n",
    "\n",
    "function max_score(s::AbstractString)\n",
    "    numofones = 0\n",
    "    maxscore = score = (first(s) == '0') + (last(s) == '1')\n",
    "    for i in s[2:(end - 1)]\n",
    "        if i == '1'\n",
    "            numofones += 1\n",
    "            score -= 1\n",
    "        else\n",
    "            score += 1\n",
    "        end\n",
    "        maxscore = max(maxscore, score)\n",
    "    end\n",
    "    return maxscore + numofones\n",
    "end\n",
    "\n",
    "# @lc code=end"
   ],
   "metadata": {},
   "execution_count": 1
  },
  {
   "cell_type": "markdown",
   "source": [
    "---\n",
    "\n",
    "*This notebook was generated using [Literate.jl](https://github.com/fredrikekre/Literate.jl).*"
   ],
   "metadata": {}
  }
 ],
 "nbformat_minor": 3,
 "metadata": {
  "language_info": {
   "file_extension": ".jl",
   "mimetype": "application/julia",
   "name": "julia",
   "version": "1.9.1"
  },
  "kernelspec": {
   "name": "julia-1.9",
   "display_name": "Julia 1.9.1",
   "language": "julia"
  }
 },
 "nbformat": 4
}
