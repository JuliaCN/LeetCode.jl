{
 "cells": [
  {
   "cell_type": "markdown",
   "source": [
    "Consider all the leaves of a binary tree, from left to right order, the values\n",
    "of those leaves form a **leaf value sequence** _._\n",
    "\n",
    "![](https://s3-lc-upload.s3.amazonaws.com/uploads/2018/07/16/tree.png)\n",
    "\n",
    "For example, in the given tree above, the leaf value sequence is `(6, 7, 4, 9,\n",
    "8)`.\n",
    "\n",
    "Two binary trees are considered _leaf-similar_  if their leaf value sequence\n",
    "is the same.\n",
    "\n",
    "Return `true` if and only if the two given trees with head nodes `root1` and\n",
    "`root2` are leaf-similar.\n",
    "\n",
    "\n",
    "\n",
    "**Example 1:**\n",
    "\n",
    "![](https://assets.leetcode.com/uploads/2020/09/03/leaf-similar-1.jpg)\n",
    "\n",
    "\n",
    "\n",
    "    Input: root1 = [3,5,1,6,2,9,8,null,null,7,4], root2 = [3,5,1,6,7,4,2,null,null,null,null,null,null,9,8]\n",
    "    Output: true\n",
    "\n",
    "\n",
    "**Example 2:**\n",
    "\n",
    "\n",
    "\n",
    "    Input: root1 = [1], root2 = [1]\n",
    "    Output: true\n",
    "\n",
    "\n",
    "**Example 3:**\n",
    "\n",
    "\n",
    "\n",
    "    Input: root1 = [1], root2 = [2]\n",
    "    Output: false\n",
    "\n",
    "\n",
    "**Example 4:**\n",
    "\n",
    "\n",
    "\n",
    "    Input: root1 = [1,2], root2 = [2,2]\n",
    "    Output: true\n",
    "\n",
    "\n",
    "**Example 5:**\n",
    "\n",
    "![](https://assets.leetcode.com/uploads/2020/09/03/leaf-similar-2.jpg)\n",
    "\n",
    "\n",
    "\n",
    "    Input: root1 = [1,2,3], root2 = [1,3,2]\n",
    "    Output: false\n",
    "\n",
    "\n",
    "\n",
    "\n",
    "**Constraints:**\n",
    "\n",
    "  * The number of nodes in each tree will be in the range `[1, 200]`.\n",
    "  * Both of the given trees will have values in the range `[0, 200]`."
   ],
   "metadata": {}
  },
  {
   "outputs": [
    {
     "output_type": "execute_result",
     "data": {
      "text/plain": "find_leaves! (generic function with 2 methods)"
     },
     "metadata": {},
     "execution_count": 1
    }
   ],
   "cell_type": "code",
   "source": [
    "# @lc code=start\n",
    "using LeetCode\n",
    "\n",
    "function leaf_similar(root1::TreeNode{V}, root2::TreeNode{V})::Bool where {V}\n",
    "    leaves1 = V[]\n",
    "    leaves2 = V[]\n",
    "    find_leaves!(root1, leaves1)\n",
    "    find_leaves!(root2, leaves2)\n",
    "    return leaves1 == leaves2\n",
    "end\n",
    "\n",
    "function find_leaves!(t::TreeNode, leaves)\n",
    "    if isnothing(t.left) && isnothing(t.right)\n",
    "        push!(leaves, t.val)\n",
    "    else\n",
    "        find_leaves!(t.left, leaves)\n",
    "        find_leaves!(t.right, leaves)\n",
    "    end\n",
    "end\n",
    "\n",
    "find_leaves!(::Nothing, leaves) = nothing\n",
    "# @lc code=end"
   ],
   "metadata": {},
   "execution_count": 1
  },
  {
   "cell_type": "markdown",
   "source": [
    "---\n",
    "\n",
    "*This notebook was generated using [Literate.jl](https://github.com/fredrikekre/Literate.jl).*"
   ],
   "metadata": {}
  }
 ],
 "nbformat_minor": 3,
 "metadata": {
  "language_info": {
   "file_extension": ".jl",
   "mimetype": "application/julia",
   "name": "julia",
   "version": "1.11.6"
  },
  "kernelspec": {
   "name": "julia-1.11",
   "display_name": "Julia 1.11.6",
   "language": "julia"
  }
 },
 "nbformat": 4
}
