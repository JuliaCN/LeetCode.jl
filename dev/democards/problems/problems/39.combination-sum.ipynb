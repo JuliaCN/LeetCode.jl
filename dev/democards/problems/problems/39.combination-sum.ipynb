{
 "cells": [
  {
   "cell_type": "markdown",
   "source": [
    "Given an array of **distinct** integers `candidates` and a target integer\n",
    "`target`, return _a list of all **unique combinations** of _`candidates`\n",
    "_where the chosen numbers sum to_`target` _._ You may return the combinations\n",
    "in **any order**.\n",
    "\n",
    "The **same** number may be chosen from `candidates` an **unlimited number of\n",
    "times**. Two combinations are unique if the frequency of at least one of the\n",
    "chosen numbers is different.\n",
    "\n",
    "It is **guaranteed** that the number of unique combinations that sum up to\n",
    "`target` is less than `150` combinations for the given input.\n",
    "\n",
    "\n",
    "\n",
    "**Example 1:**\n",
    "\n",
    "\n",
    "\n",
    "    Input: candidates = [2,3,6,7], target = 7\n",
    "    Output: [[2,2,3],[7]]\n",
    "    Explanation:\n",
    "    2 and 3 are candidates, and 2 + 2 + 3 = 7. Note that 2 can be used multiple times.\n",
    "    7 is a candidate, and 7 = 7.\n",
    "    These are the only two combinations.\n",
    "\n",
    "\n",
    "**Example 2:**\n",
    "\n",
    "\n",
    "\n",
    "    Input: candidates = [2,3,5], target = 8\n",
    "    Output: [[2,2,2,2],[2,3,3],[3,5]]\n",
    "\n",
    "\n",
    "**Example 3:**\n",
    "\n",
    "\n",
    "\n",
    "    Input: candidates = [2], target = 1\n",
    "    Output: []\n",
    "\n",
    "\n",
    "**Example 4:**\n",
    "\n",
    "\n",
    "\n",
    "    Input: candidates = [1], target = 1\n",
    "    Output: [[1]]\n",
    "\n",
    "\n",
    "**Example 5:**\n",
    "\n",
    "\n",
    "\n",
    "    Input: candidates = [1], target = 2\n",
    "    Output: [[1,1]]\n",
    "\n",
    "\n",
    "\n",
    "\n",
    "**Constraints:**\n",
    "\n",
    "  * `1 <= candidates.length <= 30`\n",
    "  * `1 <= candidates[i] <= 200`\n",
    "  * All elements of `candidates` are **distinct**.\n",
    "  * `1 <= target <= 500`"
   ],
   "metadata": {}
  },
  {
   "outputs": [
    {
     "output_type": "execute_result",
     "data": {
      "text/plain": "combination_sum_39 (generic function with 1 method)"
     },
     "metadata": {},
     "execution_count": 1
    }
   ],
   "cell_type": "code",
   "source": [
    "# @lc code=start\n",
    "using LeetCode\n",
    "\n",
    "function combination_sum_39(\n",
    "    nums::Union{Vector{Int},SubArray}, target::Int\n",
    ")::Vector{Vector{Int}}\n",
    "    target == 0 && return [Int[]]\n",
    "    isempty(nums) && return Vector{Int}[]\n",
    "    res, num = Vector{Int}[], nums[end]\n",
    "    for i in 0:(target ÷ num)\n",
    "        for vec in combination_sum_39(@view(nums[1:(end - 1)]), target - i * num)\n",
    "            append!(res, [append!(vec, fill(num, i))])\n",
    "        end\n",
    "    end\n",
    "    return res\n",
    "end\n",
    "# @lc code=end"
   ],
   "metadata": {},
   "execution_count": 1
  },
  {
   "cell_type": "markdown",
   "source": [
    "---\n",
    "\n",
    "*This notebook was generated using [Literate.jl](https://github.com/fredrikekre/Literate.jl).*"
   ],
   "metadata": {}
  }
 ],
 "nbformat_minor": 3,
 "metadata": {
  "language_info": {
   "file_extension": ".jl",
   "mimetype": "application/julia",
   "name": "julia",
   "version": "1.8.2"
  },
  "kernelspec": {
   "name": "julia-1.8",
   "display_name": "Julia 1.8.2",
   "language": "julia"
  }
 },
 "nbformat": 4
}
