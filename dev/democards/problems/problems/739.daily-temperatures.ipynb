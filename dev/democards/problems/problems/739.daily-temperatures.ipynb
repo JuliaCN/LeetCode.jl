{
 "cells": [
  {
   "cell_type": "markdown",
   "source": [
    "Given a list of daily temperatures `T`, return a list such that, for each day\n",
    "in the input, tells you how many days you would have to wait until a warmer\n",
    "temperature. If there is no future day for which this is possible, put `0`\n",
    "instead.\n",
    "\n",
    "For example, given the list of temperatures `T = [73, 74, 75, 71, 69, 72, 76,\n",
    "73]`, your output should be `[1, 1, 4, 2, 1, 1, 0, 0]`.\n",
    "\n",
    "**Note:** The length of `temperatures` will be in the range `[1, 30000]`. Each\n",
    "temperature will be an integer in the range `[30, 100]`."
   ],
   "metadata": {}
  },
  {
   "outputs": [
    {
     "output_type": "execute_result",
     "data": {
      "text/plain": "daily_temperatures (generic function with 1 method)"
     },
     "metadata": {},
     "execution_count": 1
    }
   ],
   "cell_type": "code",
   "source": [
    "# @lc code=start\n",
    "using LeetCode\n",
    "\n",
    "function daily_temperatures(T::Vector{Int})\n",
    "    res = fill(0, length(T))\n",
    "    stk = Int[]\n",
    "    for i in 1:length(T)\n",
    "        while !isempty(stk) && T[stk[end]] < T[i]\n",
    "            res[stk[end]] = i - stk[end]\n",
    "            pop!(stk)\n",
    "        end\n",
    "        push!(stk, i)\n",
    "    end\n",
    "    res\n",
    "end\n",
    "# @lc code=end"
   ],
   "metadata": {},
   "execution_count": 1
  },
  {
   "cell_type": "markdown",
   "source": [
    "---\n",
    "\n",
    "*This notebook was generated using [Literate.jl](https://github.com/fredrikekre/Literate.jl).*"
   ],
   "metadata": {}
  }
 ],
 "nbformat_minor": 3,
 "metadata": {
  "language_info": {
   "file_extension": ".jl",
   "mimetype": "application/julia",
   "name": "julia",
   "version": "1.6.3"
  },
  "kernelspec": {
   "name": "julia-1.6",
   "display_name": "Julia 1.6.3",
   "language": "julia"
  }
 },
 "nbformat": 4
}
