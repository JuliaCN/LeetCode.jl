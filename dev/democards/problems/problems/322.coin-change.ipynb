{
 "cells": [
  {
   "cell_type": "markdown",
   "source": [
    "You are given coins of different denominations and a total amount of money\n",
    "_amount_. Write a function to compute the fewest number of coins that you need\n",
    "to make up that amount. If that amount of money cannot be made up by any\n",
    "combination of the coins, return `-1`.\n",
    "\n",
    "You may assume that you have an infinite number of each kind of coin.\n",
    "\n",
    "\n",
    "\n",
    "**Example 1:**\n",
    "\n",
    "\n",
    "\n",
    "    Input: coins = [1,2,5], amount = 11\n",
    "    Output: 3\n",
    "    Explanation: 11 = 5 + 5 + 1\n",
    "\n",
    "\n",
    "**Example 2:**\n",
    "\n",
    "\n",
    "\n",
    "    Input: coins = [2], amount = 3\n",
    "    Output: -1\n",
    "\n",
    "\n",
    "**Example 3:**\n",
    "\n",
    "\n",
    "\n",
    "    Input: coins = [1], amount = 0\n",
    "    Output: 0\n",
    "\n",
    "\n",
    "**Example 4:**\n",
    "\n",
    "\n",
    "\n",
    "    Input: coins = [1], amount = 1\n",
    "    Output: 1\n",
    "\n",
    "\n",
    "**Example 5:**\n",
    "\n",
    "\n",
    "\n",
    "    Input: coins = [1], amount = 2\n",
    "    Output: 2\n",
    "\n",
    "\n",
    "\n",
    "\n",
    "**Constraints:**\n",
    "\n",
    "  * `1 <= coins.length <= 12`\n",
    "  * `1 <= coins[i] <= 231 - 1`\n",
    "  * `0 <= amount <= 104`"
   ],
   "metadata": {}
  },
  {
   "outputs": [
    {
     "output_type": "execute_result",
     "data": {
      "text/plain": "coin_change (generic function with 1 method)"
     },
     "metadata": {},
     "execution_count": 1
    }
   ],
   "cell_type": "code",
   "source": [
    "# @lc code=start\n",
    "using LeetCode\n",
    "\n",
    "function coin_change(coins::Vector{Int}, amount::Int)\n",
    "    res = OffsetArray(fill(amount + 1, 1 + amount), -1)\n",
    "    res[0] = 0\n",
    "    @inbounds for coin in coins, i in 0:(amount - coin)\n",
    "        res[i + coin] = min(res[i + coin], res[i] + 1)\n",
    "    end\n",
    "    return res[end] == amount + 1 ? -1 : res[end]\n",
    "end\n",
    "# @lc code=end"
   ],
   "metadata": {},
   "execution_count": 1
  },
  {
   "cell_type": "markdown",
   "source": [
    "---\n",
    "\n",
    "*This notebook was generated using [Literate.jl](https://github.com/fredrikekre/Literate.jl).*"
   ],
   "metadata": {}
  }
 ],
 "nbformat_minor": 3,
 "metadata": {
  "language_info": {
   "file_extension": ".jl",
   "mimetype": "application/julia",
   "name": "julia",
   "version": "1.10.1"
  },
  "kernelspec": {
   "name": "julia-1.10",
   "display_name": "Julia 1.10.1",
   "language": "julia"
  }
 },
 "nbformat": 4
}
