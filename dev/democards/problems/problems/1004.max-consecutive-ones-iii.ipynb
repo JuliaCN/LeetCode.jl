{
 "cells": [
  {
   "cell_type": "markdown",
   "source": [
    "Given an array `A` of 0s and 1s, we may change up to `K` values from 0 to 1.\n",
    "\n",
    "Return the length of the longest (contiguous) subarray that contains only 1s.\n",
    "\n",
    "\n",
    "\n",
    "**Example 1:**\n",
    "\n",
    "\n",
    "\n",
    "    Input: A = [1,1,1,0,0,0,1,1,1,1,0], K = 2\n",
    "    Output: 6\n",
    "    Explanation:\n",
    "    [1,1,1,0,0, _ **1** ,1,1,1,1, **1**_ ]\n",
    "    Bolded numbers were flipped from 0 to 1.  The longest subarray is underlined.\n",
    "\n",
    "**Example 2:**\n",
    "\n",
    "\n",
    "\n",
    "    Input: A = [0,0,1,1,0,0,1,1,1,0,1,1,0,0,0,1,1,1,1], K = 3\n",
    "    Output: 10\n",
    "    Explanation:\n",
    "    [0,0, _1,1, **1** , **1** ,1,1,1, **1** ,1,1_,0,0,0,1,1,1,1]\n",
    "    Bolded numbers were flipped from 0 to 1.  The longest subarray is underlined.\n",
    "\n",
    "\n",
    "\n",
    "\n",
    "**Note:**\n",
    "\n",
    "  1. `1 <= A.length <= 20000`\n",
    "  2. `0 <= K <= A.length`\n",
    "  3. `A[i]` is `0` or `1`"
   ],
   "metadata": {}
  },
  {
   "outputs": [
    {
     "output_type": "execute_result",
     "data": {
      "text/plain": "longest_ones (generic function with 1 method)"
     },
     "metadata": {},
     "execution_count": 1
    }
   ],
   "cell_type": "code",
   "source": [
    "# @lc code=start\n",
    "using LeetCode\n",
    "\n",
    "function longest_ones(A::Vector{Int}, K::Int)\n",
    "    l = r = 1\n",
    "    len = length(A)\n",
    "    cnt = res = 0\n",
    "    while r <= len\n",
    "        (A[r] == 0) && (cnt += 1)\n",
    "        r += 1\n",
    "        while cnt > K\n",
    "            (A[l] == 0) && (cnt -= 1)\n",
    "            l += 1\n",
    "        end\n",
    "        res = max(res, r - l)\n",
    "    end\n",
    "    return res\n",
    "end\n",
    "# @lc code=end"
   ],
   "metadata": {},
   "execution_count": 1
  },
  {
   "cell_type": "markdown",
   "source": [
    "---\n",
    "\n",
    "*This notebook was generated using [Literate.jl](https://github.com/fredrikekre/Literate.jl).*"
   ],
   "metadata": {}
  }
 ],
 "nbformat_minor": 3,
 "metadata": {
  "language_info": {
   "file_extension": ".jl",
   "mimetype": "application/julia",
   "name": "julia",
   "version": "1.6.3"
  },
  "kernelspec": {
   "name": "julia-1.6",
   "display_name": "Julia 1.6.3",
   "language": "julia"
  }
 },
 "nbformat": 4
}
