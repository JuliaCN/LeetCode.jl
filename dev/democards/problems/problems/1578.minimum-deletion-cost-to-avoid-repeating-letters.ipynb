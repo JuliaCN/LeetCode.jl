{
 "cells": [
  {
   "cell_type": "markdown",
   "source": [
    "Given a string `s` and an array of integers `cost` where `cost[i]` is the cost\n",
    "of deleting the `ith` character in `s`.\n",
    "\n",
    "Return the minimum cost of deletions such that there are no two identical\n",
    "letters next to each other.\n",
    "\n",
    "Notice that you will delete the chosen characters at the same time, in other\n",
    "words, after deleting a character, the costs of deleting other characters will\n",
    "not change.\n",
    "\n",
    "\n",
    "\n",
    "**Example 1:**\n",
    "\n",
    "\n",
    "\n",
    "    Input: s = \"abaac\", cost = [1,2,3,4,5]\n",
    "    Output: 3\n",
    "    Explanation: Delete the letter \"a\" with cost 3 to get \"abac\" (String without two identical letters next to each other).\n",
    "\n",
    "\n",
    "**Example 2:**\n",
    "\n",
    "\n",
    "\n",
    "    Input: s = \"abc\", cost = [1,2,3]\n",
    "    Output: 0\n",
    "    Explanation: You don't need to delete any character because there are no identical letters next to each other.\n",
    "\n",
    "\n",
    "**Example 3:**\n",
    "\n",
    "\n",
    "\n",
    "    Input: s = \"aabaa\", cost = [1,2,3,4,1]\n",
    "    Output: 2\n",
    "    Explanation: Delete the first and the last character, getting the string (\"aba\").\n",
    "\n",
    "\n",
    "\n",
    "\n",
    "**Constraints:**\n",
    "\n",
    "  * `s.length == cost.length`\n",
    "  * `1 <= s.length, cost.length <= 10^5`\n",
    "  * `1 <= cost[i] <= 10^4`\n",
    "  * `s` contains only lowercase English letters."
   ],
   "metadata": {}
  },
  {
   "outputs": [
    {
     "output_type": "execute_result",
     "data": {
      "text/plain": "min_cost_1578 (generic function with 1 method)"
     },
     "metadata": {},
     "execution_count": 1
    }
   ],
   "cell_type": "code",
   "source": [
    "# @lc code=start\n",
    "using LeetCode\n",
    "\n",
    "function min_cost_1578(s::String, cost::Vector{Int})\n",
    "    if length(s) == 0\n",
    "        return 0\n",
    "    end\n",
    "    s *= \"0\"\n",
    "    lst_char = s[1]\n",
    "    len, res = 1, 0\n",
    "    for i in 2:length(s)\n",
    "        if s[i] == lst_char\n",
    "            len += 1\n",
    "        else\n",
    "            res += sum(cost[i-len:i-1]) - maximum(cost[i-len:i-1])\n",
    "            len, lst_char = 1, s[i]\n",
    "        end\n",
    "    end\n",
    "    res\n",
    "end\n",
    "# @lc code=end"
   ],
   "metadata": {},
   "execution_count": 1
  },
  {
   "cell_type": "markdown",
   "source": [
    "---\n",
    "\n",
    "*This notebook was generated using [Literate.jl](https://github.com/fredrikekre/Literate.jl).*"
   ],
   "metadata": {}
  }
 ],
 "nbformat_minor": 3,
 "metadata": {
  "language_info": {
   "file_extension": ".jl",
   "mimetype": "application/julia",
   "name": "julia",
   "version": "1.6.1"
  },
  "kernelspec": {
   "name": "julia-1.6",
   "display_name": "Julia 1.6.1",
   "language": "julia"
  }
 },
 "nbformat": 4
}
