{
 "cells": [
  {
   "cell_type": "markdown",
   "source": [
    "Implement a trie with `insert`, `search`, and `startsWith` methods.\n",
    "\n",
    "**Example:**\n",
    "\n",
    "\n",
    "\n",
    "    Trie trie = new Trie();\n",
    "\n",
    "    trie.insert(\"apple\");\n",
    "    trie.search(\"apple\");   // returns true\n",
    "    trie.search(\"app\");     // returns false\n",
    "    trie.startsWith(\"app\"); // returns true\n",
    "    trie.insert(\"app\");\n",
    "    trie.search(\"app\");     // returns true\n",
    "\n",
    "\n",
    "**Note:**\n",
    "\n",
    "  * You may assume that all inputs are consist of lowercase letters `a-z`.\n",
    "  * All inputs are guaranteed to be non-empty strings."
   ],
   "metadata": {}
  },
  {
   "outputs": [
    {
     "output_type": "execute_result",
     "data": {
      "text/plain": "starts_with (generic function with 1 method)"
     },
     "metadata": {},
     "execution_count": 1
    }
   ],
   "cell_type": "code",
   "source": [
    "# @lc code=start\n",
    "using LeetCode\n",
    "\n",
    "Base.@kwdef mutable struct PrefixNode\n",
    "    isend::Bool = false\n",
    "    children = Dict{Char,PrefixNode}()\n",
    "end\n",
    "\n",
    "function insert_node!(node::PrefixNode, word::String)::Nothing\n",
    "    for c in word\n",
    "        children = node.children\n",
    "        haskey(children, c) || (children[c] = PrefixNode())\n",
    "        node = children[c]\n",
    "    end\n",
    "    node.isend = true\n",
    "    return nothing\n",
    "end\n",
    "\n",
    "function search_prefix_node(node::PrefixNode, prefix::String)::Union{Nothing,PrefixNode}\n",
    "    for c in prefix\n",
    "        children = node.children\n",
    "        haskey(children, c) || return nothing\n",
    "        node = children[c]\n",
    "    end\n",
    "    return node\n",
    "end\n",
    "\n",
    "function search_word(node::PrefixNode, word::String)::Bool\n",
    "    node = search_prefix_node(node, word)\n",
    "    return !isnothing(node) && node.isend\n",
    "end\n",
    "\n",
    "starts_with(node::PrefixNode, prefix::String) = !isnothing(search_prefix_node(node, prefix))\n",
    "\n",
    "# @lc code=end"
   ],
   "metadata": {},
   "execution_count": 1
  },
  {
   "cell_type": "markdown",
   "source": [
    "---\n",
    "\n",
    "*This notebook was generated using [Literate.jl](https://github.com/fredrikekre/Literate.jl).*"
   ],
   "metadata": {}
  }
 ],
 "nbformat_minor": 3,
 "metadata": {
  "language_info": {
   "file_extension": ".jl",
   "mimetype": "application/julia",
   "name": "julia",
   "version": "1.11.6"
  },
  "kernelspec": {
   "name": "julia-1.11",
   "display_name": "Julia 1.11.6",
   "language": "julia"
  }
 },
 "nbformat": 4
}
