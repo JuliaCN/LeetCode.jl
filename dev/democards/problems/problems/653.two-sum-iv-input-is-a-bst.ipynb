{
 "cells": [
  {
   "cell_type": "markdown",
   "source": [
    "Given the `root` of a Binary Search Tree and a target number `k`, return\n",
    "_`true` if there exist two elements in the BST such that their sum is equal to\n",
    "the given target_.\n",
    "\n",
    "\n",
    "\n",
    "**Example 1:**\n",
    "\n",
    "![](https://assets.leetcode.com/uploads/2020/09/21/sum_tree_1.jpg)\n",
    "\n",
    "\n",
    "\n",
    "    Input: root = [5,3,6,2,4,null,7], k = 9\n",
    "    Output: true\n",
    "\n",
    "\n",
    "**Example 2:**\n",
    "\n",
    "![](https://assets.leetcode.com/uploads/2020/09/21/sum_tree_2.jpg)\n",
    "\n",
    "\n",
    "\n",
    "    Input: root = [5,3,6,2,4,null,7], k = 28\n",
    "    Output: false\n",
    "\n",
    "\n",
    "**Example 3:**\n",
    "\n",
    "\n",
    "\n",
    "    Input: root = [2,1,3], k = 4\n",
    "    Output: true\n",
    "\n",
    "\n",
    "**Example 4:**\n",
    "\n",
    "\n",
    "\n",
    "    Input: root = [2,1,3], k = 1\n",
    "    Output: false\n",
    "\n",
    "\n",
    "**Example 5:**\n",
    "\n",
    "\n",
    "\n",
    "    Input: root = [2,1,3], k = 3\n",
    "    Output: true\n",
    "\n",
    "\n",
    "\n",
    "\n",
    "**Constraints:**\n",
    "\n",
    "  * The number of nodes in the tree is in the range `[1, 104]`.\n",
    "  * `-104 <= Node.val <= 104`\n",
    "  * `root` is guaranteed to be a **valid** binary search tree.\n",
    "  * `-105 <= k <= 105`"
   ],
   "metadata": {}
  },
  {
   "outputs": [
    {
     "output_type": "execute_result",
     "data": {
      "text/plain": "find_target_inorder_traversal (generic function with 1 method)"
     },
     "metadata": {},
     "execution_count": 1
    }
   ],
   "cell_type": "code",
   "source": [
    "# @lc code=start\n",
    "using LeetCode\n",
    "\n",
    "function find_target_inorder_traversal(root::TreeNode, k::Int)::Bool\n",
    "    stack, nums = TreeNode{Int}[], Real[-Inf32] ## lowest bound\n",
    "    while !isempty(stack) || !isnothing(root)\n",
    "        while !isnothing(root)\n",
    "            push!(stack, root)\n",
    "            root = root.left\n",
    "        end\n",
    "        root = pop!(stack)\n",
    "        while nums[end] + root.val > k\n",
    "            pop!(nums)\n",
    "        end\n",
    "        root.val + nums[end] == k && return true\n",
    "        push!(nums, root.val)\n",
    "        root = root.right\n",
    "    end\n",
    "    return false\n",
    "end\n",
    "# @lc code=end"
   ],
   "metadata": {},
   "execution_count": 1
  },
  {
   "cell_type": "markdown",
   "source": [
    "---\n",
    "\n",
    "*This notebook was generated using [Literate.jl](https://github.com/fredrikekre/Literate.jl).*"
   ],
   "metadata": {}
  }
 ],
 "nbformat_minor": 3,
 "metadata": {
  "language_info": {
   "file_extension": ".jl",
   "mimetype": "application/julia",
   "name": "julia",
   "version": "1.7.3"
  },
  "kernelspec": {
   "name": "julia-1.7",
   "display_name": "Julia 1.7.3",
   "language": "julia"
  }
 },
 "nbformat": 4
}
