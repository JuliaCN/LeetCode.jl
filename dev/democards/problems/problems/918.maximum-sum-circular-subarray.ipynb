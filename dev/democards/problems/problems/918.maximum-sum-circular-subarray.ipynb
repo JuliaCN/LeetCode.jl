{
 "cells": [
  {
   "cell_type": "markdown",
   "source": [
    "Given a **circular  array**  **C** of integers represented by `A`, find the\n",
    "maximum possible sum of a non-empty subarray of **C**.\n",
    "\n",
    "Here, a  _circular  array_ means the end of the array connects to the\n",
    "beginning of the array.  (Formally, `C[i] = A[i]` when `0 <= i < A.length`,\n",
    "and `C[i+A.length] = C[i]` when `i >= 0`.)\n",
    "\n",
    "Also, a subarray may only include each element of the fixed buffer `A` at most\n",
    "once.  (Formally, for a subarray `C[i], C[i+1], ..., C[j]`, there does not\n",
    "exist `i <= k1, k2 <= j` with `k1 % A.length = k2 % A.length`.)\n",
    "\n",
    "\n",
    "\n",
    "**Example 1:**\n",
    "\n",
    "\n",
    "\n",
    "    Input: [1,-2,3,-2]\n",
    "    Output: 3\n",
    "    Explanation: Subarray [3] has maximum sum 3\n",
    "\n",
    "\n",
    "**Example 2:**\n",
    "\n",
    "\n",
    "\n",
    "    Input: [5,-3,5]\n",
    "    Output: 10\n",
    "    Explanation:  Subarray [5,5] has maximum sum 5 + 5 = 10\n",
    "\n",
    "\n",
    "**Example 3:**\n",
    "\n",
    "\n",
    "\n",
    "    Input: [3,-1,2,-1]\n",
    "    Output: 4\n",
    "    Explanation:  Subarray [2,-1,3] has maximum sum 2 + (-1) + 3 = 4\n",
    "\n",
    "\n",
    "**Example 4:**\n",
    "\n",
    "\n",
    "\n",
    "    Input: [3,-2,2,-3]\n",
    "    Output: 3\n",
    "    Explanation:  Subarray [3] and [3,-2,2] both have maximum sum 3\n",
    "\n",
    "\n",
    "**Example 5:**\n",
    "\n",
    "\n",
    "\n",
    "    Input: [-2,-3,-1]\n",
    "    Output: -1\n",
    "    Explanation:  Subarray [-1] has maximum sum -1\n",
    "\n",
    "\n",
    "\n",
    "\n",
    "**Note:**\n",
    "\n",
    "  1. `-30000 <= A[i] <= 30000`\n",
    "  2. `1 <= A.length <= 30000`"
   ],
   "metadata": {}
  },
  {
   "outputs": [
    {
     "output_type": "execute_result",
     "data": {
      "text/plain": "max_subarray_sum_circular (generic function with 1 method)"
     },
     "metadata": {},
     "execution_count": 1
    }
   ],
   "cell_type": "code",
   "source": [
    "# @lc code=start\n",
    "using LeetCode\n",
    "\n",
    "function max_subarray_sum_circular(nums)\n",
    "    length(nums) < 1 && return 0\n",
    "    csum = cur_max = maxn = cur_min = minn = nums[1]\n",
    "    for i in 2:length(nums)\n",
    "        csum += nums[i]\n",
    "        cur_max = (cur_max > 0) ? cur_max + nums[i] : nums[i]\n",
    "        maxn = max(maxn, cur_max)\n",
    "        cur_min = (cur_min < 0) ? cur_min + nums[i] : nums[i]\n",
    "        minn = min(minn, cur_min)\n",
    "    end\n",
    "    return maxn < 0 ? maxn : max(csum - minn, maxn)\n",
    "end\n",
    "# @lc code=end"
   ],
   "metadata": {},
   "execution_count": 1
  },
  {
   "cell_type": "markdown",
   "source": [
    "---\n",
    "\n",
    "*This notebook was generated using [Literate.jl](https://github.com/fredrikekre/Literate.jl).*"
   ],
   "metadata": {}
  }
 ],
 "nbformat_minor": 3,
 "metadata": {
  "language_info": {
   "file_extension": ".jl",
   "mimetype": "application/julia",
   "name": "julia",
   "version": "1.6.2"
  },
  "kernelspec": {
   "name": "julia-1.6",
   "display_name": "Julia 1.6.2",
   "language": "julia"
  }
 },
 "nbformat": 4
}
