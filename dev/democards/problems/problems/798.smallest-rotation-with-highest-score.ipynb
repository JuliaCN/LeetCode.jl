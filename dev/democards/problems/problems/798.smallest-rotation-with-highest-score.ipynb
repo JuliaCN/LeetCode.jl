{
 "cells": [
  {
   "cell_type": "markdown",
   "source": [
    " Given an array `A`, we may rotate it by a non-negative integer `K` so that\n",
    "the array becomes `A[K], A[K+1], A{K+2], ... A[A.length - 1], A[0], A[1], ...,\n",
    "A[K-1]`.  Afterward, any entries that are less than or equal to their index\n",
    "are worth 1 point.\n",
    "\n",
    "For example, if we have `[2, 4, 1, 3, 0]`, and we rotate by `K = 2`, it\n",
    "becomes `[1, 3, 0, 2, 4]`.  This is worth 3 points because 1 > 0 [no points],\n",
    "3 > 1 [no points], 0 <= 2 [one point], 2 <= 3 [one point], 4 <= 4 [one point].\n",
    "\n",
    "Over all possible rotations, return the rotation index K that corresponds to\n",
    "the highest score we could receive.  If there are multiple answers, return the\n",
    "smallest such index K.\n",
    "\n",
    "\n",
    "\n",
    "    **Example 1:**\n",
    "    Input: [2, 3, 1, 4, 0]\n",
    "    Output: 3\n",
    "    Explanation:\n",
    "    Scores for each K are listed below:\n",
    "    K = 0,  A = [2,3,1,4,0],    score 2\n",
    "    K = 1,  A = [3,1,4,0,2],    score 3\n",
    "    K = 2,  A = [1,4,0,2,3],    score 3\n",
    "    K = 3,  A = [4,0,2,3,1],    score 4\n",
    "    K = 4,  A = [0,2,3,1,4],    score 3\n",
    "\n",
    "\n",
    "So we should choose K = 3, which has the highest score.\n",
    "\n",
    "\n",
    "\n",
    "\n",
    "\n",
    "    **Example 2:**\n",
    "    Input: [1, 3, 0, 2, 4]\n",
    "    Output: 0\n",
    "    Explanation: A will always have 3 points no matter how it shifts.\n",
    "    So we will choose the smallest K, which is 0.\n",
    "\n",
    "\n",
    "**Note:**\n",
    "\n",
    "  * `A` will have length at most `20000`.\n",
    "  * `A[i]` will be in the range `[0, A.length]`."
   ],
   "metadata": {}
  },
  {
   "outputs": [
    {
     "output_type": "execute_result",
     "data": {
      "text/plain": "best_rotation (generic function with 1 method)"
     },
     "metadata": {},
     "execution_count": 1
    }
   ],
   "cell_type": "code",
   "source": [
    "# @lc code=start\n",
    "using LeetCode\n",
    "\n",
    "function best_rotation(nums::Vector{Int})::Int\n",
    "    n = length(nums)\n",
    "    diffs = fill(0, n)\n",
    "    for (i, num) in enumerate(nums)\n",
    "        diffs[mod(i - num - 1, n) + 1] -= 1\n",
    "        diffs[i] += 1\n",
    "    end\n",
    "    ans = maxscore = score = 0\n",
    "    for (i, num) in enumerate(@view(diffs[1:(end - 1)]))\n",
    "        score += num\n",
    "        if score > maxscore\n",
    "            maxscore, ans = score, i\n",
    "        end\n",
    "    end\n",
    "    return ans\n",
    "end\n",
    "# @lc code=end"
   ],
   "metadata": {},
   "execution_count": 1
  },
  {
   "cell_type": "markdown",
   "source": [
    "---\n",
    "\n",
    "*This notebook was generated using [Literate.jl](https://github.com/fredrikekre/Literate.jl).*"
   ],
   "metadata": {}
  }
 ],
 "nbformat_minor": 3,
 "metadata": {
  "language_info": {
   "file_extension": ".jl",
   "mimetype": "application/julia",
   "name": "julia",
   "version": "1.11.6"
  },
  "kernelspec": {
   "name": "julia-1.11",
   "display_name": "Julia 1.11.6",
   "language": "julia"
  }
 },
 "nbformat": 4
}
