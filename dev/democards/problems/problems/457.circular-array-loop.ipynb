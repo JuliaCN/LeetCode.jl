{
 "cells": [
  {
   "cell_type": "markdown",
   "source": [
    "You are given a **circular** array `nums` of positive and negative integers.\n",
    "If a number _k_ at an index is positive, then move forward _k_ steps.\n",
    "Conversely, if it's negative (- _k_ ), move backward _k_  steps. Since the\n",
    "array is circular, you may assume that the last element's next element is the\n",
    "first element, and the first element's previous element is the last element.\n",
    "\n",
    "Determine if there is a loop (or a cycle) in `nums`. A cycle must start and\n",
    "end at the same index and the cycle's length > 1\\. Furthermore, movements in a\n",
    "cycle must all follow a single direction. In other words, a cycle must not\n",
    "consist of both forward and backward movements.\n",
    "\n",
    "\n",
    "\n",
    "**Example 1:**\n",
    "\n",
    "\n",
    "\n",
    "    Input: [2,-1,1,2,2]\n",
    "    Output: true\n",
    "    Explanation: There is a cycle, from index 0 -> 2 -> 3 -> 0. The cycle's length is 3.\n",
    "\n",
    "\n",
    "**Example 2:**\n",
    "\n",
    "\n",
    "\n",
    "    Input: [-1,2]\n",
    "    Output: false\n",
    "    Explanation: The movement from index 1 -> 1 -> 1 ... is not a cycle, because the cycle's length is 1. By definition the cycle's length must be greater than 1.\n",
    "\n",
    "\n",
    "**Example 3:**\n",
    "\n",
    "\n",
    "\n",
    "    Input: [-2,1,-1,-2,-2]\n",
    "    Output: false\n",
    "    Explanation: The movement from index 1 -> 2 -> 1 -> ... is not a cycle, because movement from index 1 -> 2 is a forward movement, but movement from index 2 -> 1 is a backward movement. All movements in a cycle must follow a single direction.\n",
    "\n",
    "\n",
    "\n",
    "**Note:**\n",
    "\n",
    "  1. -1000 ≤ nums[i] ≤ 1000\n",
    "  2. nums[i] ≠ 0\n",
    "  3. 1 ≤ nums.length ≤ 5000\n",
    "\n",
    "\n",
    "\n",
    "**Follow up:**\n",
    "\n",
    "Could you solve it in **O(n)** time complexity and  **O(1)** extra space\n",
    "complexity?"
   ],
   "metadata": {}
  },
  {
   "outputs": [
    {
     "output_type": "execute_result",
     "data": {
      "text/plain": "circular_array_loop (generic function with 1 method)"
     },
     "metadata": {},
     "execution_count": 1
    }
   ],
   "cell_type": "code",
   "source": [
    "# @lc code=start\n",
    "using LeetCode\n",
    "\n",
    "function circular_array_loop(nums::Vector{Int})\n",
    "    len = length(nums)\n",
    "    for i in 1:length(nums)\n",
    "        if nums[i] == -2000 || nums[i] == 2000\n",
    "            continue\n",
    "        end\n",
    "        j = mod1(i + nums[i], len)\n",
    "        lst = i\n",
    "        nums[i] = 2000 * sign(nums[i])\n",
    "        while true\n",
    "            if nums[i] * nums[j] < 0 || j == lst\n",
    "                break\n",
    "            elseif abs(nums[j]) == 2000 && j ≥ i\n",
    "                return true\n",
    "            end\n",
    "            nums[j], j, lst = 2000 * sign(nums[j]), mod1(nums[j] + j, len), j\n",
    "        end\n",
    "    end\n",
    "    return false\n",
    "end\n",
    "# @lc code=end"
   ],
   "metadata": {},
   "execution_count": 1
  },
  {
   "cell_type": "markdown",
   "source": [
    "---\n",
    "\n",
    "*This notebook was generated using [Literate.jl](https://github.com/fredrikekre/Literate.jl).*"
   ],
   "metadata": {}
  }
 ],
 "nbformat_minor": 3,
 "metadata": {
  "language_info": {
   "file_extension": ".jl",
   "mimetype": "application/julia",
   "name": "julia",
   "version": "1.7.3"
  },
  "kernelspec": {
   "name": "julia-1.7",
   "display_name": "Julia 1.7.3",
   "language": "julia"
  }
 },
 "nbformat": 4
}
