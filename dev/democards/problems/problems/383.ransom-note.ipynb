{
 "cells": [
  {
   "cell_type": "markdown",
   "source": [
    "Given an arbitrary ransom note string and another string containing letters\n",
    "from all the magazines, write a function that will return true if the ransom\n",
    "note can be constructed from the magazines ; otherwise, it will return false.\n",
    "\n",
    "Each letter in the magazine string can only be used once in your ransom note.\n",
    "\n",
    "\n",
    "\n",
    "**Example 1:**\n",
    "\n",
    "\n",
    "\n",
    "    Input: ransomNote = \"a\", magazine = \"b\"\n",
    "    Output: false\n",
    "\n",
    "\n",
    "**Example 2:**\n",
    "\n",
    "\n",
    "\n",
    "    Input: ransomNote = \"aa\", magazine = \"ab\"\n",
    "    Output: false\n",
    "\n",
    "\n",
    "**Example 3:**\n",
    "\n",
    "\n",
    "\n",
    "    Input: ransomNote = \"aa\", magazine = \"aab\"\n",
    "    Output: true\n",
    "\n",
    "\n",
    "\n",
    "\n",
    "**Constraints:**\n",
    "\n",
    "  * You may assume that both strings contain only lowercase letters."
   ],
   "metadata": {}
  },
  {
   "outputs": [
    {
     "output_type": "execute_result",
     "data": {
      "text/plain": "can_construct (generic function with 1 method)"
     },
     "metadata": {},
     "execution_count": 1
    }
   ],
   "cell_type": "code",
   "source": [
    "# @lc code=start\n",
    "using LeetCode\n",
    "using DataStructures\n",
    "\n",
    "function can_construct(ransom_note::String, magazine::String)::Bool\n",
    "    words = DefaultDict{Char,Int}(0)\n",
    "    for i in magazine\n",
    "        words[i] += 1\n",
    "    end\n",
    "    for i in ransom_note\n",
    "        words[i] == 0 && return false\n",
    "        words[i] -= 1\n",
    "    end\n",
    "    return true\n",
    "end\n",
    "# @lc code=end"
   ],
   "metadata": {},
   "execution_count": 1
  },
  {
   "cell_type": "markdown",
   "source": [
    "---\n",
    "\n",
    "*This notebook was generated using [Literate.jl](https://github.com/fredrikekre/Literate.jl).*"
   ],
   "metadata": {}
  }
 ],
 "nbformat_minor": 3,
 "metadata": {
  "language_info": {
   "file_extension": ".jl",
   "mimetype": "application/julia",
   "name": "julia",
   "version": "1.10.1"
  },
  "kernelspec": {
   "name": "julia-1.10",
   "display_name": "Julia 1.10.1",
   "language": "julia"
  }
 },
 "nbformat": 4
}
