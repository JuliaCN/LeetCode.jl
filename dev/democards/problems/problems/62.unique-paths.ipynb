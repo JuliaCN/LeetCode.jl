{
 "cells": [
  {
   "cell_type": "markdown",
   "source": [
    "A robot is located at the top-left corner of a `m x n` grid (marked 'Start' in\n",
    "the diagram below).\n",
    "\n",
    "The robot can only move either down or right at any point in time. The robot\n",
    "is trying to reach the bottom-right corner of the grid (marked 'Finish' in the\n",
    "diagram below).\n",
    "\n",
    "How many possible unique paths are there?\n",
    "\n",
    "\n",
    "\n",
    "**Example 1:**\n",
    "\n",
    "![](https://assets.leetcode.com/uploads/2018/10/22/robot_maze.png)\n",
    "\n",
    "\n",
    "\n",
    "    Input: m = 3, n = 7\n",
    "    Output: 28\n",
    "\n",
    "\n",
    "**Example 2:**\n",
    "\n",
    "\n",
    "\n",
    "    Input: m = 3, n = 2\n",
    "    Output: 3\n",
    "    Explanation:\n",
    "    From the top-left corner, there are a total of 3 ways to reach the bottom-right corner:\n",
    "    1. Right -> Down -> Down\n",
    "    2. Down -> Down -> Right\n",
    "    3. Down -> Right -> Down\n",
    "\n",
    "\n",
    "**Example 3:**\n",
    "\n",
    "\n",
    "\n",
    "    Input: m = 7, n = 3\n",
    "    Output: 28\n",
    "\n",
    "\n",
    "**Example 4:**\n",
    "\n",
    "\n",
    "\n",
    "    Input: m = 3, n = 3\n",
    "    Output: 6\n",
    "\n",
    "\n",
    "\n",
    "\n",
    "**Constraints:**\n",
    "\n",
    "  * `1 <= m, n <= 100`\n",
    "  * It's guaranteed that the answer will be less than or equal to `2 * 109`."
   ],
   "metadata": {}
  },
  {
   "outputs": [
    {
     "output_type": "execute_result",
     "data": {
      "text/plain": "unique_paths (generic function with 1 method)"
     },
     "metadata": {},
     "execution_count": 1
    }
   ],
   "cell_type": "code",
   "source": [
    "# @lc code=start\n",
    "using LeetCode\n",
    "\n",
    "unique_paths(m::Int, n::Int) = binomial(m + n - 2, n - 1)\n",
    "# @lc code=end"
   ],
   "metadata": {},
   "execution_count": 1
  },
  {
   "cell_type": "markdown",
   "source": [
    "---\n",
    "\n",
    "*This notebook was generated using [Literate.jl](https://github.com/fredrikekre/Literate.jl).*"
   ],
   "metadata": {}
  }
 ],
 "nbformat_minor": 3,
 "metadata": {
  "language_info": {
   "file_extension": ".jl",
   "mimetype": "application/julia",
   "name": "julia",
   "version": "1.6.0"
  },
  "kernelspec": {
   "name": "julia-1.6",
   "display_name": "Julia 1.6.0",
   "language": "julia"
  }
 },
 "nbformat": 4
}
