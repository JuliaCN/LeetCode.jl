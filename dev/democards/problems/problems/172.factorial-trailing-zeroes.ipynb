{
 "cells": [
  {
   "cell_type": "markdown",
   "source": [
    "Given an integer `n`, return _the number of trailing zeroes in`n!`_.\n",
    "\n",
    "**Follow up:** Could you write a solution that works in logarithmic time\n",
    "complexity?\n",
    "\n",
    "\n",
    "\n",
    "**Example 1:**\n",
    "\n",
    "\n",
    "\n",
    "    Input: n = 3\n",
    "    Output: 0\n",
    "    Explanation:  3! = 6, no trailing zero.\n",
    "\n",
    "\n",
    "**Example 2:**\n",
    "\n",
    "\n",
    "\n",
    "    Input: n = 5\n",
    "    Output: 1\n",
    "    Explanation:  5! = 120, one trailing zero.\n",
    "\n",
    "\n",
    "**Example 3:**\n",
    "\n",
    "\n",
    "\n",
    "    Input: n = 0\n",
    "    Output: 0\n",
    "\n",
    "\n",
    "\n",
    "\n",
    "**Constraints:**\n",
    "\n",
    "  * `1 <= n <= 104`"
   ],
   "metadata": {}
  },
  {
   "outputs": [
    {
     "output_type": "execute_result",
     "data": {
      "text/plain": "trailing_zeroes (generic function with 1 method)"
     },
     "metadata": {},
     "execution_count": 1
    }
   ],
   "cell_type": "code",
   "source": [
    "# @lc code=start\n",
    "using LeetCode\n",
    "\n",
    "# simulate Mathematica's function NestWhileList\n",
    "function nest_while_list(f::Function, val::T, chk::Function)::Vector{T} where {T}\n",
    "    res = [val]\n",
    "    while chk(val)\n",
    "        val = f(val)\n",
    "        push!(res, val)\n",
    "    end\n",
    "    return res\n",
    "end\n",
    "\n",
    "trailing_zeroes(n::Int) = sum(nest_while_list(i -> i ÷ 5, n ÷ 5, >(1)))\n",
    "# equivalent to the following\n",
    "# function trailing_zeroes(n::Int)::Int\n",
    "#     res = 0\n",
    "#     while n >=5\n",
    "#         n ÷= 5\n",
    "#         res += n\n",
    "#     end\n",
    "#     res\n",
    "# end\n",
    "\n",
    "# @lc code=end"
   ],
   "metadata": {},
   "execution_count": 1
  },
  {
   "cell_type": "markdown",
   "source": [
    "---\n",
    "\n",
    "*This notebook was generated using [Literate.jl](https://github.com/fredrikekre/Literate.jl).*"
   ],
   "metadata": {}
  }
 ],
 "nbformat_minor": 3,
 "metadata": {
  "language_info": {
   "file_extension": ".jl",
   "mimetype": "application/julia",
   "name": "julia",
   "version": "1.9.1"
  },
  "kernelspec": {
   "name": "julia-1.9",
   "display_name": "Julia 1.9.1",
   "language": "julia"
  }
 },
 "nbformat": 4
}
