{
 "cells": [
  {
   "cell_type": "markdown",
   "source": [
    "A message containing letters from `A-Z` is being encoded to numbers using the\n",
    "following mapping:\n",
    "\n",
    "\n",
    "\n",
    "    'A' -> 1\n",
    "    'B' -> 2\n",
    "    ...\n",
    "    'Z' -> 26\n",
    "\n",
    "\n",
    "Given a **non-empty** string containing only digits, determine the total\n",
    "number of ways to decode it.\n",
    "\n",
    "The answer is guaranteed to fit in a **32-bit** integer.\n",
    "\n",
    "\n",
    "\n",
    "**Example 1:**\n",
    "\n",
    "\n",
    "\n",
    "    Input: s = \"12\"\n",
    "    Output: 2\n",
    "    Explanation: It could be decoded as \"AB\" (1 2) or \"L\" (12).\n",
    "\n",
    "\n",
    "**Example 2:**\n",
    "\n",
    "\n",
    "\n",
    "    Input: s = \"226\"\n",
    "    Output: 3\n",
    "    Explanation: It could be decoded as \"BZ\" (2 26), \"VF\" (22 6), or \"BBF\" (2 2 6).\n",
    "\n",
    "\n",
    "**Example 3:**\n",
    "\n",
    "\n",
    "\n",
    "    Input: s = \"0\"\n",
    "    Output: 0\n",
    "    Explanation: There is no character that is mapped to a number starting with '0'. We cannot ignore a zero when we face it while decoding. So, each '0' should be part of \"10\" --> 'J' or \"20\" --> 'T'.\n",
    "\n",
    "\n",
    "**Example 4:**\n",
    "\n",
    "\n",
    "\n",
    "    Input: s = \"1\"\n",
    "    Output: 1\n",
    "\n",
    "\n",
    "\n",
    "\n",
    "**Constraints:**\n",
    "\n",
    "  * `1 <= s.length <= 100`\n",
    "  * `s` contains only digits and may contain leading zero(s)."
   ],
   "metadata": {}
  },
  {
   "outputs": [
    {
     "output_type": "execute_result",
     "data": {
      "text/plain": "num_decodings (generic function with 1 method)"
     },
     "metadata": {},
     "execution_count": 1
    }
   ],
   "cell_type": "code",
   "source": [
    "# @lc code=start\n",
    "using LeetCode\n",
    "\n",
    "function num_decodings(s)\n",
    "    len = length(s)\n",
    "    dp = fill(0, len + 1)\n",
    "    dp[1] = 1\n",
    "    for i in 1:len\n",
    "        s[i] != '0' && (dp[i + 1] += dp[i])\n",
    "        (i > 1 && s[i - 1] != '0' && parse(Int, s[i-1:i]) <= 26) && (dp[i + 1] += dp[i - 1])\n",
    "    end\n",
    "    dp[end]\n",
    "end\n",
    "# @lc code=end"
   ],
   "metadata": {},
   "execution_count": 1
  },
  {
   "cell_type": "markdown",
   "source": [
    "---\n",
    "\n",
    "*This notebook was generated using [Literate.jl](https://github.com/fredrikekre/Literate.jl).*"
   ],
   "metadata": {}
  }
 ],
 "nbformat_minor": 3,
 "metadata": {
  "language_info": {
   "file_extension": ".jl",
   "mimetype": "application/julia",
   "name": "julia",
   "version": "1.6.1"
  },
  "kernelspec": {
   "name": "julia-1.6",
   "display_name": "Julia 1.6.1",
   "language": "julia"
  }
 },
 "nbformat": 4
}
