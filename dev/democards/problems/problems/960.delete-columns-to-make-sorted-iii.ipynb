{
 "cells": [
  {
   "cell_type": "markdown",
   "source": [
    "We are given an array `A` of `N` lowercase letter strings, all of the same\n",
    "length.\n",
    "\n",
    "Now, we may choose any set of deletion indices, and for each string, we delete\n",
    "all the characters in those indices.\n",
    "\n",
    "For example, if we have an array `A = [\"babca\",\"bbazb\"]` and deletion indices\n",
    "`{0, 1, 4}`, then the final array after deletions is `[\"bc\",\"az\"]`.\n",
    "\n",
    "Suppose we chose a set of deletion indices `D` such that after deletions, the\n",
    "final array has **every element (row) in  lexicographic** order.\n",
    "\n",
    "For clarity, `A[0]` is in lexicographic order (ie. `A[0][0] <= A[0][1] <= ...\n",
    "<= A[0][A[0].length - 1]`), `A[1]` is in lexicographic order (ie. `A[1][0] <=\n",
    "A[1][1] <= ... <= A[1][A[1].length - 1]`), and so on.\n",
    "\n",
    "Return the minimum possible value of `D.length`.\n",
    "\n",
    "\n",
    "\n",
    "**Example 1:**\n",
    "\n",
    "\n",
    "\n",
    "    Input: [\"babca\",\"bbazb\"]\n",
    "    Output: 3\n",
    "    Explanation: After deleting columns 0, 1, and 4, the final array is A = [\"bc\", \"az\"].\n",
    "    Both these rows are individually in lexicographic order (ie. A[0][0] <= A[0][1] and A[1][0] <= A[1][1]).\n",
    "    Note that A[0] > A[1] - the array A isn't necessarily in lexicographic order.\n",
    "\n",
    "\n",
    "**Example 2:**\n",
    "\n",
    "\n",
    "\n",
    "    Input: [\"edcba\"]\n",
    "    Output: 4\n",
    "    Explanation: If we delete less than 4 columns, the only row won't be lexicographically sorted.\n",
    "\n",
    "\n",
    "**Example 3:**\n",
    "\n",
    "\n",
    "\n",
    "    Input: [\"ghi\",\"def\",\"abc\"]\n",
    "    Output: 0\n",
    "    Explanation: All rows are already lexicographically sorted.\n",
    "\n",
    "\n",
    "\n",
    "\n",
    "**Note:**\n",
    "\n",
    "  1. `1 <= A.length <= 100`\n",
    "  2. `1 <= A[i].length <= 100`"
   ],
   "metadata": {}
  },
  {
   "outputs": [
    {
     "output_type": "execute_result",
     "data": {
      "text/plain": "min_deletion_size (generic function with 1 method)"
     },
     "metadata": {},
     "execution_count": 1
    }
   ],
   "cell_type": "code",
   "source": [
    "# @lc code=start\n",
    "using LeetCode\n",
    "\n",
    "function min_deletion_size(A::Vector{String})\n",
    "    word_len = length(A[1])\n",
    "    dp = fill(1, word_len)\n",
    "    for i in word_len - 1 : -1 : 1\n",
    "        for j in i + 1 : word_len\n",
    "            all(word[i] < word[j] for word in A) && (dp[i] = max(dp[i], dp[j] + 1))\n",
    "        end\n",
    "    end\n",
    "    word_len - maximum(dp)\n",
    "end\n",
    "# @lc code=end"
   ],
   "metadata": {},
   "execution_count": 1
  },
  {
   "cell_type": "markdown",
   "source": [
    "---\n",
    "\n",
    "*This notebook was generated using [Literate.jl](https://github.com/fredrikekre/Literate.jl).*"
   ],
   "metadata": {}
  }
 ],
 "nbformat_minor": 3,
 "metadata": {
  "language_info": {
   "file_extension": ".jl",
   "mimetype": "application/julia",
   "name": "julia",
   "version": "1.7.2"
  },
  "kernelspec": {
   "name": "julia-1.7",
   "display_name": "Julia 1.7.2",
   "language": "julia"
  }
 },
 "nbformat": 4
}
