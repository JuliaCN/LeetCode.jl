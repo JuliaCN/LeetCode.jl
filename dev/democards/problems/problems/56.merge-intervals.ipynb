{
 "cells": [
  {
   "cell_type": "markdown",
   "source": [
    "Given an array of `intervals` where `intervals[i] = [starti, endi]`, merge all\n",
    "overlapping intervals, and return _an array of the non-overlapping intervals\n",
    "that cover all the intervals in the input_.\n",
    "\n",
    "\n",
    "\n",
    "**Example 1:**\n",
    "\n",
    "\n",
    "\n",
    "    Input: intervals = [[1,3],[2,6],[8,10],[15,18]]\n",
    "    Output: [[1,6],[8,10],[15,18]]\n",
    "    Explanation: Since intervals [1,3] and [2,6] overlaps, merge them into [1,6].\n",
    "\n",
    "\n",
    "**Example 2:**\n",
    "\n",
    "\n",
    "\n",
    "    Input: intervals = [[1,4],[4,5]]\n",
    "    Output: [[1,5]]\n",
    "    Explanation: Intervals [1,4] and [4,5] are considered overlapping.\n",
    "\n",
    "\n",
    "\n",
    "\n",
    "**Constraints:**\n",
    "\n",
    "  * `1 <= intervals.length <= 104`\n",
    "  * `intervals[i].length == 2`\n",
    "  * `0 <= starti <= endi <= 104`"
   ],
   "metadata": {}
  },
  {
   "outputs": [
    {
     "output_type": "execute_result",
     "data": {
      "text/plain": "merge_intervals (generic function with 1 method)"
     },
     "metadata": {},
     "execution_count": 1
    }
   ],
   "cell_type": "code",
   "source": [
    "# @lc code=start\n",
    "using LeetCode\n",
    "\n",
    "function merge_intervals(intervals::Vector{Vector{Int}})::Vector{Vector{Int}}\n",
    "    result = Vector{Vector{Int}}([])\n",
    "    for (a, b) in sort!(intervals, by = i -> i[1])\n",
    "        if size(result, 1) > 0 && result[end][2] >= a\n",
    "            result[end][2] = max(result[end][2], b)\n",
    "        else\n",
    "            push!(result, [a, b])\n",
    "        end\n",
    "    end\n",
    "    return result\n",
    "end\n",
    "# @lc code=end"
   ],
   "metadata": {},
   "execution_count": 1
  },
  {
   "cell_type": "markdown",
   "source": [
    "---\n",
    "\n",
    "*This notebook was generated using [Literate.jl](https://github.com/fredrikekre/Literate.jl).*"
   ],
   "metadata": {}
  }
 ],
 "nbformat_minor": 3,
 "metadata": {
  "language_info": {
   "file_extension": ".jl",
   "mimetype": "application/julia",
   "name": "julia",
   "version": "1.7.2"
  },
  "kernelspec": {
   "name": "julia-1.7",
   "display_name": "Julia 1.7.2",
   "language": "julia"
  }
 },
 "nbformat": 4
}
