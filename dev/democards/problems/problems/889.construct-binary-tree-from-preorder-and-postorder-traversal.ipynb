{
 "cells": [
  {
   "cell_type": "markdown",
   "source": [
    "Return any binary tree that matches the given preorder and postorder\n",
    "traversals.\n",
    "\n",
    "Values in the traversals `pre` and `post` are distinct positive integers.\n",
    "\n",
    "\n",
    "\n",
    "**Example 1:**\n",
    "\n",
    "\n",
    "\n",
    "    Input: pre = [1,2,4,5,3,6,7], post = [4,5,2,6,7,3,1]\n",
    "    Output: [1,2,3,4,5,6,7]\n",
    "\n",
    "\n",
    "\n",
    "\n",
    "**Note:**\n",
    "\n",
    "  * `1 <= pre.length == post.length <= 30`\n",
    "  * `pre[]` and `post[]` are both permutations of `1, 2, ..., pre.length`.\n",
    "  * It is guaranteed an answer exists. If there exists multiple answers, you can return any of them."
   ],
   "metadata": {}
  },
  {
   "outputs": [
    {
     "output_type": "execute_result",
     "data": {
      "text/plain": "construct_from_pre_post (generic function with 1 method)"
     },
     "metadata": {},
     "execution_count": 1
    }
   ],
   "cell_type": "code",
   "source": [
    "# @lc code=start\n",
    "using LeetCode\n",
    "\n",
    "function construct_from_pre_post(pre::Vector{Int}, post::Vector{Int})\n",
    "    if isempty(pre)\n",
    "        return nothing\n",
    "    end\n",
    "    root = TreeNode(pre[1])\n",
    "    if length(pre) == 1\n",
    "        return root\n",
    "    end\n",
    "    idx = findfirst(==(pre[2]), post)\n",
    "    root.left = construct_from_pre_post(pre[2:1+idx], post[1:idx])\n",
    "    root.right = construct_from_pre_post(pre[2+idx:end], post[1+idx:end-1])\n",
    "    root\n",
    "end\n",
    "# @lc code=end"
   ],
   "metadata": {},
   "execution_count": 1
  },
  {
   "cell_type": "markdown",
   "source": [
    "---\n",
    "\n",
    "*This notebook was generated using [Literate.jl](https://github.com/fredrikekre/Literate.jl).*"
   ],
   "metadata": {}
  }
 ],
 "nbformat_minor": 3,
 "metadata": {
  "language_info": {
   "file_extension": ".jl",
   "mimetype": "application/julia",
   "name": "julia",
   "version": "1.5.4"
  },
  "kernelspec": {
   "name": "julia-1.5",
   "display_name": "Julia 1.5.4",
   "language": "julia"
  }
 },
 "nbformat": 4
}
