{
 "cells": [
  {
   "cell_type": "markdown",
   "source": [
    "Given an input string `s`, reverse the order of the **words**.\n",
    "\n",
    "A **word** is defined as a sequence of non-space characters. The **words** in\n",
    "`s` will be separated by at least one space.\n",
    "\n",
    "Return _a string of the words in reverse order concatenated by a single\n",
    "space._\n",
    "\n",
    "**Note** that `s` may contain leading or trailing spaces or multiple spaces\n",
    "between two words. The returned string should only have a single space\n",
    "separating the words. Do not include any extra spaces.\n",
    "\n",
    "\n",
    "\n",
    "**Example 1:**\n",
    "\n",
    "\n",
    "\n",
    "    Input: s = \"the sky is blue\"\n",
    "    Output: \"blue is sky the\"\n",
    "\n",
    "\n",
    "**Example 2:**\n",
    "\n",
    "\n",
    "\n",
    "    Input: s = \"  hello world  \"\n",
    "    Output: \"world hello\"\n",
    "    Explanation: Your reversed string should not contain leading or trailing spaces.\n",
    "\n",
    "\n",
    "**Example 3:**\n",
    "\n",
    "\n",
    "\n",
    "    Input: s = \"a good   example\"\n",
    "    Output: \"example good a\"\n",
    "    Explanation: You need to reduce multiple spaces between two words to a single space in the reversed string.\n",
    "\n",
    "\n",
    "**Example 4:**\n",
    "\n",
    "\n",
    "\n",
    "    Input: s = \"  Bob    Loves  Alice   \"\n",
    "    Output: \"Alice Loves Bob\"\n",
    "\n",
    "\n",
    "**Example 5:**\n",
    "\n",
    "\n",
    "\n",
    "    Input: s = \"Alice does not even like bob\"\n",
    "    Output: \"bob like even not does Alice\"\n",
    "\n",
    "\n",
    "\n",
    "\n",
    "**Constraints:**\n",
    "\n",
    "  * `1 <= s.length <= 104`\n",
    "  * `s` contains English letters (upper-case and lower-case), digits, and spaces `' '`.\n",
    "  * There is **at least one** word in `s`.\n",
    "\n",
    "\n",
    "\n",
    "**Follow up:**\n",
    "\n",
    "  * Could you solve it **in-place** with `O(1)` extra space?"
   ],
   "metadata": {}
  },
  {
   "outputs": [
    {
     "output_type": "execute_result",
     "data": {
      "text/plain": "reverse_words (generic function with 1 method)"
     },
     "metadata": {},
     "execution_count": 1
    }
   ],
   "cell_type": "code",
   "source": [
    "# @lc code=start\n",
    "using LeetCode\n",
    "\n",
    "function reverse_words(s::String)\n",
    "    s_s = split(s, \" \", keepempty = false)\n",
    "    join(reverse(s_s), \" \")\n",
    "end\n",
    "# @lc code=end"
   ],
   "metadata": {},
   "execution_count": 1
  },
  {
   "cell_type": "markdown",
   "source": [
    "---\n",
    "\n",
    "*This notebook was generated using [Literate.jl](https://github.com/fredrikekre/Literate.jl).*"
   ],
   "metadata": {}
  }
 ],
 "nbformat_minor": 3,
 "metadata": {
  "language_info": {
   "file_extension": ".jl",
   "mimetype": "application/julia",
   "name": "julia",
   "version": "1.8.0"
  },
  "kernelspec": {
   "name": "julia-1.8",
   "display_name": "Julia 1.8.0",
   "language": "julia"
  }
 },
 "nbformat": 4
}
