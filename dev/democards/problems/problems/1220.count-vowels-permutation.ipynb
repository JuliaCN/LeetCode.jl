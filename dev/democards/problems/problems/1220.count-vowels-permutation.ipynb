{
 "cells": [
  {
   "cell_type": "markdown",
   "source": [
    "Given an integer `n`, your task is to count how many strings of length `n` can\n",
    "be formed under the following rules:\n",
    "\n",
    "  * Each character is a lower case vowel (`'a'`, `'e'`, `'i'`, `'o'`, `'u'`)\n",
    "  * Each vowel `'a'` may only be followed by an `'e'`.\n",
    "  * Each vowel `'e'` may only be followed by an `'a'` or an `'i'`.\n",
    "  * Each vowel `'i'` **may not** be followed by another `'i'`.\n",
    "  * Each vowel `'o'` may only be followed by an `'i'` or a `'u'`.\n",
    "  * Each vowel `'u'` may only be followed by an `'a'.`\n",
    "\n",
    "Since the answer may be too large, return it modulo `10^9 + 7.`\n",
    "\n",
    "\n",
    "\n",
    "**Example 1:**\n",
    "\n",
    "\n",
    "\n",
    "    Input: n = 1\n",
    "    Output: 5\n",
    "    Explanation: All possible strings are: \"a\", \"e\", \"i\" , \"o\" and \"u\".\n",
    "\n",
    "\n",
    "**Example 2:**\n",
    "\n",
    "\n",
    "\n",
    "    Input: n = 2\n",
    "    Output: 10\n",
    "    Explanation: All possible strings are: \"ae\", \"ea\", \"ei\", \"ia\", \"ie\", \"io\", \"iu\", \"oi\", \"ou\" and \"ua\".\n",
    "\n",
    "\n",
    "**Example 3:  **\n",
    "\n",
    "\n",
    "\n",
    "    Input: n = 5\n",
    "    Output: 68\n",
    "\n",
    "\n",
    "\n",
    "**Constraints:**\n",
    "\n",
    "  * `1 <= n <= 2 * 10^4`"
   ],
   "metadata": {}
  },
  {
   "outputs": [
    {
     "output_type": "execute_result",
     "data": {
      "text/plain": "count_vowel_permutation (generic function with 1 method)"
     },
     "metadata": {},
     "execution_count": 1
    }
   ],
   "cell_type": "code",
   "source": [
    "# @lc code=start\n",
    "using LeetCode\n",
    "\n",
    "function count_vowel_permutation(n::Int)::Int\n",
    "    table = Dict{Char,Int}(i => 1 for i in \"aeiou\")\n",
    "    quotient = 10^9 + 7\n",
    "    for _ in 1:(n - 1)\n",
    "        a = table['e'] + table['i'] + table['u']\n",
    "        e = table['a'] + table['i']\n",
    "        i = table['e'] + table['o']\n",
    "        o = table['i']\n",
    "        u = table['i'] + table['o']\n",
    "        table['a'], table['e'], table['i'], table['o'], table['u'] = map(\n",
    "            x -> mod(x, quotient), [a, e, i, o, u]\n",
    "        )\n",
    "    end\n",
    "    return mod(sum(values(table)), quotient)\n",
    "end\n",
    "\n",
    "# @lc code=end"
   ],
   "metadata": {},
   "execution_count": 1
  },
  {
   "cell_type": "markdown",
   "source": [
    "---\n",
    "\n",
    "*This notebook was generated using [Literate.jl](https://github.com/fredrikekre/Literate.jl).*"
   ],
   "metadata": {}
  }
 ],
 "nbformat_minor": 3,
 "metadata": {
  "language_info": {
   "file_extension": ".jl",
   "mimetype": "application/julia",
   "name": "julia",
   "version": "1.7.3"
  },
  "kernelspec": {
   "name": "julia-1.7",
   "display_name": "Julia 1.7.3",
   "language": "julia"
  }
 },
 "nbformat": 4
}
