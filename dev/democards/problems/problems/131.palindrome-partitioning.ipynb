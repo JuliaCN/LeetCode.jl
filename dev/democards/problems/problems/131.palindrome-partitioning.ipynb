{
 "cells": [
  {
   "cell_type": "markdown",
   "source": [
    "Given a string _s_ , partition _s_ such that every substring of the partition\n",
    "is a palindrome.\n",
    "\n",
    "Return all possible palindrome partitioning of _s_.\n",
    "\n",
    "**Example:**\n",
    "\n",
    "\n",
    "\n",
    "    Input:  \"aab\"\n",
    "    Output:\n",
    "    [\n",
    "      [\"aa\",\"b\"],\n",
    "      [\"a\",\"a\",\"b\"]\n",
    "    ]"
   ],
   "metadata": {}
  },
  {
   "outputs": [
    {
     "output_type": "execute_result",
     "data": {
      "text/plain": "partition_ps (generic function with 1 method)"
     },
     "metadata": {},
     "execution_count": 1
    }
   ],
   "cell_type": "code",
   "source": [
    "# @lc code=start\n",
    "using LeetCode\n",
    "\n",
    "function partition_ps(s::String)\n",
    "    len = length(s)\n",
    "    is_ps = fill(true, len, len)\n",
    "    for i in len:-1:1, j in (i + 1):len\n",
    "        is_ps[i, j] = (s[i] == s[j]) && is_ps[i + 1, j - 1]\n",
    "    end\n",
    "    function dfs(start::Int)\n",
    "        start == len && return [[SubString(s, len, len)]]\n",
    "        res = Vector{String}[]\n",
    "        for ed in start:len\n",
    "            !is_ps[start, ed] && continue\n",
    "            for it in dfs(ed + 1)\n",
    "                push!(res, pushfirst!(it, SubString(s, start, ed)))\n",
    "            end\n",
    "        end\n",
    "        return res\n",
    "    end\n",
    "    return dfs(1)\n",
    "end\n",
    "# @lc code=end"
   ],
   "metadata": {},
   "execution_count": 1
  },
  {
   "cell_type": "markdown",
   "source": [
    "---\n",
    "\n",
    "*This notebook was generated using [Literate.jl](https://github.com/fredrikekre/Literate.jl).*"
   ],
   "metadata": {}
  }
 ],
 "nbformat_minor": 3,
 "metadata": {
  "language_info": {
   "file_extension": ".jl",
   "mimetype": "application/julia",
   "name": "julia",
   "version": "1.6.0"
  },
  "kernelspec": {
   "name": "julia-1.6",
   "display_name": "Julia 1.6.0",
   "language": "julia"
  }
 },
 "nbformat": 4
}
