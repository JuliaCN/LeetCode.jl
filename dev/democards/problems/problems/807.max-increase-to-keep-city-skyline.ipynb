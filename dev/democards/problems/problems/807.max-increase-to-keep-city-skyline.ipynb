{
 "cells": [
  {
   "cell_type": "markdown",
   "source": [
    "In a 2 dimensional array `grid`, each value `grid[i][j]` represents the height\n",
    "of a building located there. We are allowed to increase the height of any\n",
    "number of buildings, by any amount (the amounts can be different for different\n",
    "buildings). Height 0 is considered to be a building as well.\n",
    "\n",
    "At the end, the \"skyline\" when viewed from all four directions of the grid,\n",
    "i.e. top, bottom, left, and right, must be the same as the skyline of the\n",
    "original grid. A city's skyline is the outer contour of the rectangles formed\n",
    "by all the buildings when viewed from a distance. See the following example.\n",
    "\n",
    "What is the maximum total sum that the height of the buildings can be\n",
    "increased?\n",
    "\n",
    "\n",
    "\n",
    "    **Example:**\n",
    "    Input: grid = [[3,0,8,4],[2,4,5,7],[9,2,6,3],[0,3,1,0]]\n",
    "    Output: 35\n",
    "    Explanation:\n",
    "    The grid is:\n",
    "    [ [3, 0, 8, 4],\n",
    "      [2, 4, 5, 7],\n",
    "      [9, 2, 6, 3],\n",
    "      [0, 3, 1, 0] ]\n",
    "\n",
    "    The skyline viewed from top or bottom is: [9, 4, 8, 7]\n",
    "    The skyline viewed from left or right is: [8, 7, 9, 3]\n",
    "\n",
    "    The grid after increasing the height of buildings without affecting skylines is:\n",
    "\n",
    "    gridNew = [ [8, 4, 8, 7],\n",
    "                [7, 4, 7, 7],\n",
    "                [9, 4, 8, 7],\n",
    "                [3, 3, 3, 3] ]\n",
    "\n",
    "\n",
    "\n",
    "**Notes:**\n",
    "\n",
    "  * `1 < grid.length = grid[0].length <= 50`.\n",
    "  * All heights `grid[i][j]` are in the range `[0, 100]`.\n",
    "  * All buildings in `grid[i][j]` occupy the entire grid cell: that is, they are a `1 x 1 x grid[i][j]` rectangular prism."
   ],
   "metadata": {}
  },
  {
   "outputs": [
    {
     "output_type": "execute_result",
     "data": {
      "text/plain": "max_increase_keeping_skyline (generic function with 1 method)"
     },
     "metadata": {},
     "execution_count": 1
    }
   ],
   "cell_type": "code",
   "source": [
    "# @lc code=start\n",
    "using LeetCode\n",
    "\n",
    "function max_increase_keeping_skyline(grid::Matrix{Int})\n",
    "    n = size(grid, 1)\n",
    "    col_max = maximum(grid; dims=1)\n",
    "    row_max = maximum(grid; dims=2)\n",
    "    res = 0\n",
    "    for i in 1:n, j in 1:n\n",
    "        res += min(row_max[i], col_max[j]) - grid[i, j]\n",
    "    end\n",
    "    return res\n",
    "end\n",
    "# @lc code=end"
   ],
   "metadata": {},
   "execution_count": 1
  },
  {
   "cell_type": "markdown",
   "source": [
    "---\n",
    "\n",
    "*This notebook was generated using [Literate.jl](https://github.com/fredrikekre/Literate.jl).*"
   ],
   "metadata": {}
  }
 ],
 "nbformat_minor": 3,
 "metadata": {
  "language_info": {
   "file_extension": ".jl",
   "mimetype": "application/julia",
   "name": "julia",
   "version": "1.8.2"
  },
  "kernelspec": {
   "name": "julia-1.8",
   "display_name": "Julia 1.8.2",
   "language": "julia"
  }
 },
 "nbformat": 4
}
