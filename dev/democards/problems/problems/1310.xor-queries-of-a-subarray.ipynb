{
 "cells": [
  {
   "cell_type": "markdown",
   "source": [
    "Given the array `arr` of positive integers and the array `queries` where\n",
    "`queries[i] = [Li, Ri]`, for each query `i` compute the **XOR** of elements\n",
    "from `Li` to `Ri` (that is, `arr[Li] **xor** arr[Li+1] **xor** ... **xor**\n",
    "arr[Ri]` ). Return an array containing the result for the given `queries`.\n",
    "\n",
    "\n",
    "\n",
    "**Example 1:**\n",
    "\n",
    "\n",
    "\n",
    "    Input: arr = [1,3,4,8], queries = [[0,1],[1,2],[0,3],[3,3]]\n",
    "    Output: [2,7,14,8]\n",
    "    Explanation:\n",
    "    The binary representation of the elements in the array are:\n",
    "    1 = 0001\n",
    "    3 = 0011\n",
    "    4 = 0100\n",
    "    8 = 1000\n",
    "    The XOR values for queries are:\n",
    "    [0,1] = 1 xor 3 = 2\n",
    "    [1,2] = 3 xor 4 = 7\n",
    "    [0,3] = 1 xor 3 xor 4 xor 8 = 14\n",
    "    [3,3] = 8\n",
    "\n",
    "\n",
    "**Example 2:**\n",
    "\n",
    "\n",
    "\n",
    "    Input: arr = [4,8,2,10], queries = [[2,3],[1,3],[0,0],[0,3]]\n",
    "    Output: [8,0,4,4]\n",
    "\n",
    "\n",
    "\n",
    "\n",
    "**Constraints:**\n",
    "\n",
    "  * `1 <= arr.length <= 3 * 10^4`\n",
    "  * `1 <= arr[i] <= 10^9`\n",
    "  * `1 <= queries.length <= 3 * 10^4`\n",
    "  * `queries[i].length == 2`\n",
    "  * `0 <= queries[i][0] <= queries[i][1] < arr.length`"
   ],
   "metadata": {}
  },
  {
   "outputs": [
    {
     "output_type": "execute_result",
     "data": {
      "text/plain": "xor_queries (generic function with 1 method)"
     },
     "metadata": {},
     "execution_count": 1
    }
   ],
   "cell_type": "code",
   "source": [
    "# @lc code=start\n",
    "using LeetCode\n",
    "\n",
    "function xor_queries(arr::Vector{Int}, queries::Vector{Vector{Int}})\n",
    "    pushfirst!(arr, 0)\n",
    "    off_arr = OffsetArray(arr, -1)\n",
    "    for i in 1:(length(arr) - 1)\n",
    "        @inbounds off_arr[i] = off_arr[i] ⊻ off_arr[i - 1]\n",
    "    end\n",
    "    res = fill(0, length(queries))\n",
    "    for (idx, q) in enumerate(queries)\n",
    "        @inbounds res[idx] = off_arr[q[2] + 1] ⊻ off_arr[q[1]]\n",
    "    end\n",
    "    return res\n",
    "end\n",
    "# @lc code=end"
   ],
   "metadata": {},
   "execution_count": 1
  },
  {
   "cell_type": "markdown",
   "source": [
    "---\n",
    "\n",
    "*This notebook was generated using [Literate.jl](https://github.com/fredrikekre/Literate.jl).*"
   ],
   "metadata": {}
  }
 ],
 "nbformat_minor": 3,
 "metadata": {
  "language_info": {
   "file_extension": ".jl",
   "mimetype": "application/julia",
   "name": "julia",
   "version": "1.11.6"
  },
  "kernelspec": {
   "name": "julia-1.11",
   "display_name": "Julia 1.11.6",
   "language": "julia"
  }
 },
 "nbformat": 4
}
