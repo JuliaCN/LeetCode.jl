{
 "cells": [
  {
   "cell_type": "markdown",
   "source": [
    "Given two strings _s_ and _t  _, write a function to determine if _t_ is an\n",
    "anagram of _s_.\n",
    "\n",
    "**Example 1:**\n",
    "\n",
    "\n",
    "\n",
    "    Input: _s_ = \"anagram\", _t_ = \"nagaram\"\n",
    "    Output: true\n",
    "\n",
    "\n",
    "**Example 2:**\n",
    "\n",
    "\n",
    "\n",
    "    Input: _s_ = \"rat\", _t_ = \"car\"\n",
    "    Output: false\n",
    "\n",
    "\n",
    "**Note:**\n",
    "You may assume the string contains only lowercase alphabets.\n",
    "\n",
    "**Follow up:**\n",
    "What if the inputs contain unicode characters? How would you adapt your\n",
    "solution to such case?"
   ],
   "metadata": {}
  },
  {
   "outputs": [
    {
     "output_type": "execute_result",
     "data": {
      "text/plain": "is_anagram (generic function with 1 method)"
     },
     "metadata": {},
     "execution_count": 1
    }
   ],
   "cell_type": "code",
   "source": [
    "# @lc code=start\n",
    "using LeetCode\n",
    "using DataStructures\n",
    "function is_anagram(s::String, t::String)::Bool\n",
    "    length(s) != length(t) && return false\n",
    "    count_s, count_t = DefaultDict{Char,Int}(0), DefaultDict{Char,Int}(0)\n",
    "    for i in eachindex(s)\n",
    "        count_s[s[i]] += 1\n",
    "        count_t[t[i]] += 1\n",
    "    end\n",
    "    return all(count_s[c] == count_t[c] for c in 'a':'z')\n",
    "end\n",
    "\n",
    "# @lc code=end"
   ],
   "metadata": {},
   "execution_count": 1
  },
  {
   "cell_type": "markdown",
   "source": [
    "---\n",
    "\n",
    "*This notebook was generated using [Literate.jl](https://github.com/fredrikekre/Literate.jl).*"
   ],
   "metadata": {}
  }
 ],
 "nbformat_minor": 3,
 "metadata": {
  "language_info": {
   "file_extension": ".jl",
   "mimetype": "application/julia",
   "name": "julia",
   "version": "1.7.2"
  },
  "kernelspec": {
   "name": "julia-1.7",
   "display_name": "Julia 1.7.2",
   "language": "julia"
  }
 },
 "nbformat": 4
}
