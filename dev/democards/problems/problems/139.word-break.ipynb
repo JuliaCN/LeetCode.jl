{
 "cells": [
  {
   "cell_type": "markdown",
   "source": [
    "Given a **non-empty** string _s_ and a dictionary _wordDict_ containing a list\n",
    "of **non-empty** words, determine if _s_ can be segmented into a space-\n",
    "separated sequence of one or more dictionary words.\n",
    "\n",
    "**Note:**\n",
    "\n",
    "  * The same word in the dictionary may be reused multiple times in the segmentation.\n",
    "  * You may assume the dictionary does not contain duplicate words.\n",
    "\n",
    "**Example 1:**\n",
    "\n",
    "\n",
    "\n",
    "    Input: s = \"leetcode\", wordDict = [\"leet\", \"code\"]\n",
    "    Output: true\n",
    "    Explanation: Return true because \"leetcode\" can be segmented as \"leet code\".\n",
    "\n",
    "\n",
    "**Example 2:**\n",
    "\n",
    "\n",
    "\n",
    "    Input: s = \"applepenapple\", wordDict = [\"apple\", \"pen\"]\n",
    "    Output: true\n",
    "    Explanation: Return true because \"applepenapple\" can be segmented as \"apple pen apple\".\n",
    "                 Note that you are allowed to reuse a dictionary word.\n",
    "\n",
    "\n",
    "**Example 3:**\n",
    "\n",
    "\n",
    "\n",
    "    Input: s = \"catsandog\", wordDict = [\"cats\", \"dog\", \"sand\", \"and\", \"cat\"]\n",
    "    Output: false"
   ],
   "metadata": {}
  },
  {
   "outputs": [
    {
     "output_type": "execute_result",
     "data": {
      "text/plain": "word_break (generic function with 1 method)"
     },
     "metadata": {},
     "execution_count": 1
    }
   ],
   "cell_type": "code",
   "source": [
    "# @lc code=start\n",
    "using LeetCode\n",
    "\n",
    "# BFS\n",
    "function word_break_bfs(s::String, word_dict::Vector{String})::Bool\n",
    "    n, word_dict = length(s), sort!(word_dict; by=x -> length(x))\n",
    "    valids, valid_pos = fill(false, n), [0]\n",
    "    while !isempty(valid_pos)\n",
    "        pos = popfirst!(valid_pos)\n",
    "        for word in word_dict\n",
    "            (new_pos = pos + length(word)) > n && break\n",
    "            new_pos == n && s[(pos + 1):new_pos] == word && return true\n",
    "            if !valids[new_pos] && s[(pos + 1):new_pos] == word\n",
    "                valids[new_pos] = true\n",
    "                push!(valid_pos, new_pos)\n",
    "            end\n",
    "        end\n",
    "    end\n",
    "    return false\n",
    "end\n",
    "\n",
    "# Dynamic Programming\n",
    "function word_break(s::String, word_dict::Vector{String})::Bool\n",
    "    lens = sort!(unique!(length.(word_dict)))\n",
    "    dp = append!([true], fill(false, length(s)))\n",
    "    for i in eachindex(dp)\n",
    "        for len in lens\n",
    "            i > len || break\n",
    "            dp[i - len] && s[(i - len):(i - 1)] ∈ word_dict && (dp[i] = true)\n",
    "        end\n",
    "    end\n",
    "    return last(dp)\n",
    "end\n",
    "# @lc code=end"
   ],
   "metadata": {},
   "execution_count": 1
  },
  {
   "cell_type": "markdown",
   "source": [
    "---\n",
    "\n",
    "*This notebook was generated using [Literate.jl](https://github.com/fredrikekre/Literate.jl).*"
   ],
   "metadata": {}
  }
 ],
 "nbformat_minor": 3,
 "metadata": {
  "language_info": {
   "file_extension": ".jl",
   "mimetype": "application/julia",
   "name": "julia",
   "version": "1.8.2"
  },
  "kernelspec": {
   "name": "julia-1.8",
   "display_name": "Julia 1.8.2",
   "language": "julia"
  }
 },
 "nbformat": 4
}
