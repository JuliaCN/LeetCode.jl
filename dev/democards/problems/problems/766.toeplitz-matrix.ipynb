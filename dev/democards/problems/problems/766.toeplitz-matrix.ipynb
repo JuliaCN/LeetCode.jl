{
 "cells": [
  {
   "cell_type": "markdown",
   "source": [
    "Given an `m x n` `matrix`, return  _`true` if the matrix is Toeplitz.\n",
    "Otherwise, return `false`._\n",
    "\n",
    "A matrix is **Toeplitz** if every diagonal from top-left to bottom-right has\n",
    "the same elements.\n",
    "\n",
    "\n",
    "\n",
    "**Example 1:**\n",
    "\n",
    "![](https://assets.leetcode.com/uploads/2020/11/04/ex1.jpg)\n",
    "\n",
    "\n",
    "\n",
    "    Input: matrix = [[1,2,3,4],[5,1,2,3],[9,5,1,2]]\n",
    "    Output: true\n",
    "    Explanation:\n",
    "    In the above grid, the diagonals are:\n",
    "    \"[9]\", \"[5, 5]\", \"[1, 1, 1]\", \"[2, 2, 2]\", \"[3, 3]\", \"[4]\".\n",
    "    In each diagonal all elements are the same, so the answer is True.\n",
    "\n",
    "\n",
    "**Example 2:**\n",
    "\n",
    "![](https://assets.leetcode.com/uploads/2020/11/04/ex2.jpg)\n",
    "\n",
    "\n",
    "\n",
    "    Input: matrix = [[1,2],[2,2]]\n",
    "    Output: false\n",
    "    Explanation:\n",
    "    The diagonal \"[1, 2]\" has different elements.\n",
    "\n",
    "\n",
    "\n",
    "\n",
    "**Constraints:**\n",
    "\n",
    "  * `m == matrix.length`\n",
    "  * `n == matrix[i].length`\n",
    "  * `1 <= m, n <= 20`\n",
    "  * `0 <= matrix[i][j] <= 99`\n",
    "\n",
    "\n",
    "\n",
    "**Follow up:**\n",
    "\n",
    "  * What if the `matrix` is stored on disk, and the memory is limited such that you can only load at most one row of the matrix into the memory at once?\n",
    "  * What if the `matrix` is so large that you can only load up a partial row into the memory at once?"
   ],
   "metadata": {}
  },
  {
   "outputs": [
    {
     "output_type": "execute_result",
     "data": {
      "text/plain": "is_toeplitz_matrix (generic function with 1 method)"
     },
     "metadata": {},
     "execution_count": 1
    }
   ],
   "cell_type": "code",
   "source": [
    "# @lc code=start\n",
    "using LeetCode\n",
    "\n",
    "function is_toeplitz_matrix(matrix::Vector{Vector{Int}})\n",
    "    m, n = length(matrix), length(matrix[1])\n",
    "\n",
    "    for i in 1:(m - 1)\n",
    "        (matrix[i][1:(end - 1)] != matrix[i + 1][2:end]) && return false\n",
    "    end\n",
    "\n",
    "    return true\n",
    "end\n",
    "\n",
    "# @lc code=end"
   ],
   "metadata": {},
   "execution_count": 1
  },
  {
   "cell_type": "markdown",
   "source": [
    "---\n",
    "\n",
    "*This notebook was generated using [Literate.jl](https://github.com/fredrikekre/Literate.jl).*"
   ],
   "metadata": {}
  }
 ],
 "nbformat_minor": 3,
 "metadata": {
  "language_info": {
   "file_extension": ".jl",
   "mimetype": "application/julia",
   "name": "julia",
   "version": "1.9.1"
  },
  "kernelspec": {
   "name": "julia-1.9",
   "display_name": "Julia 1.9.1",
   "language": "julia"
  }
 },
 "nbformat": 4
}
