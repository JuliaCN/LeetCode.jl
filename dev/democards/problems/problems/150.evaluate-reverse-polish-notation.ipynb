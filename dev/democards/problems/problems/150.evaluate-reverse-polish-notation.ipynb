{
 "cells": [
  {
   "cell_type": "markdown",
   "source": [
    "Evaluate the value of an arithmetic expression in [Reverse Polish\n",
    "Notation](http://en.wikipedia.org/wiki/Reverse_Polish_notation).\n",
    "\n",
    "Valid operators are `+`, `-`, `*`, `/`. Each operand may be an integer or\n",
    "another expression.\n",
    "\n",
    "**Note:**\n",
    "\n",
    "  * Division between two integers should truncate toward zero.\n",
    "  * The given RPN expression is always valid. That means the expression would always evaluate to a result and there won't be any divide by zero operation.\n",
    "\n",
    "**Example 1:**\n",
    "\n",
    "\n",
    "\n",
    "    Input: [\"2\", \"1\", \"+\", \"3\", \"*\"]\n",
    "    Output: 9\n",
    "    Explanation: ((2 + 1) * 3) = 9\n",
    "\n",
    "\n",
    "**Example 2:**\n",
    "\n",
    "\n",
    "\n",
    "    Input: [\"4\", \"13\", \"5\", \"/\", \"+\"]\n",
    "    Output: 6\n",
    "    Explanation: (4 + (13 / 5)) = 6\n",
    "\n",
    "\n",
    "**Example 3:**\n",
    "\n",
    "\n",
    "\n",
    "    Input: [\"10\", \"6\", \"9\", \"3\", \"+\", \"-11\", \"*\", \"/\", \"*\", \"17\", \"+\", \"5\", \"+\"]\n",
    "    Output: 22\n",
    "    Explanation:\n",
    "      ((10 * (6 / ((9 + 3) * -11))) + 17) + 5\n",
    "    = ((10 * (6 / (12 * -11))) + 17) + 5\n",
    "    = ((10 * (6 / -132)) + 17) + 5\n",
    "    = ((10 * 0) + 17) + 5\n",
    "    = (0 + 17) + 5\n",
    "    = 17 + 5\n",
    "    = 22"
   ],
   "metadata": {}
  },
  {
   "outputs": [
    {
     "output_type": "execute_result",
     "data": {
      "text/plain": "eval_rpn (generic function with 1 method)"
     },
     "metadata": {},
     "execution_count": 1
    }
   ],
   "cell_type": "code",
   "source": [
    "# @lc code=start\n",
    "using LeetCode\n",
    "function eval_rpn(tokens::Vector{String})\n",
    "    stk = Stack{Int}()\n",
    "    for token in tokens\n",
    "        if token == \"+\"\n",
    "            num2 = pop!(stk)\n",
    "            num1 = pop!(stk)\n",
    "            push!(stk, num1 + num2)\n",
    "        elseif token == \"-\"\n",
    "            num2 = pop!(stk)\n",
    "            num1 = pop!(stk)\n",
    "            push!(stk, num1 - num2)\n",
    "        elseif token == \"*\"\n",
    "            num2 = pop!(stk)\n",
    "            num1 = pop!(stk)\n",
    "            push!(stk, num1 * num2)\n",
    "        elseif token == \"/\"\n",
    "            num2 = pop!(stk)\n",
    "            num1 = pop!(stk)\n",
    "            push!(stk, num1 ÷ num2)\n",
    "        else\n",
    "            push!(stk, parse(Int, token))\n",
    "        end\n",
    "    end\n",
    "    first(stk)\n",
    "end\n",
    "\n",
    "# @lc code=end"
   ],
   "metadata": {},
   "execution_count": 1
  },
  {
   "cell_type": "markdown",
   "source": [
    "---\n",
    "\n",
    "*This notebook was generated using [Literate.jl](https://github.com/fredrikekre/Literate.jl).*"
   ],
   "metadata": {}
  }
 ],
 "nbformat_minor": 3,
 "metadata": {
  "language_info": {
   "file_extension": ".jl",
   "mimetype": "application/julia",
   "name": "julia",
   "version": "1.9.1"
  },
  "kernelspec": {
   "name": "julia-1.9",
   "display_name": "Julia 1.9.1",
   "language": "julia"
  }
 },
 "nbformat": 4
}
