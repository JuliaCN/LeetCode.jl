{
 "cells": [
  {
   "cell_type": "markdown",
   "source": [
    "Design your implementation of the circular queue. The circular queue is a\n",
    "linear data structure in which the operations are performed based on FIFO\n",
    "(First In First Out) principle and the last position is connected back to the\n",
    "first position to make a circle. It is also called \"Ring Buffer\".\n",
    "\n",
    "One of the benefits of the circular queue is that we can make use of the\n",
    "spaces in front of the queue. In a normal queue, once the queue becomes full,\n",
    "we cannot insert the next element even if there is a space in front of the\n",
    "queue. But using the circular queue, we can use the space to store new values.\n",
    "\n",
    "Your implementation should support following operations:\n",
    "\n",
    "  * `MyCircularQueue(k)`: Constructor, set the size of the queue to be k.\n",
    "  * `Front`: Get the front item from the queue. If the queue is empty, return -1.\n",
    "  * `Rear`: Get the last item from the queue. If the queue is empty, return -1.\n",
    "  * `enQueue(value)`: Insert an element into the circular queue. Return true if the operation is successful.\n",
    "  * `deQueue()`: Delete an element from the circular queue. Return true if the operation is successful.\n",
    "  * `isEmpty()`: Checks whether the circular queue is empty or not.\n",
    "  * `isFull()`: Checks whether the circular queue is full or not.\n",
    "\n",
    "\n",
    "\n",
    "**Example:**\n",
    "\n",
    "\n",
    "\n",
    "    MyCircularQueue circularQueue = new MyCircularQueue(3); // set the size to be 3\n",
    "    circularQueue.enQueue(1);  // return true\n",
    "    circularQueue.enQueue(2);  // return true\n",
    "    circularQueue.enQueue(3);  // return true\n",
    "    circularQueue.enQueue(4);  // return false, the queue is full\n",
    "    circularQueue.Rear();  // return 3\n",
    "    circularQueue.isFull();  // return true\n",
    "    circularQueue.deQueue();  // return true\n",
    "    circularQueue.enQueue(4);  // return true\n",
    "    circularQueue.Rear();  // return 4\n",
    "\n",
    "\n",
    "\n",
    "\n",
    "**Note:**\n",
    "\n",
    "  * All values will be in the range of [0, 1000].\n",
    "  * The number of operations will be in the range of [1, 1000].\n",
    "  * Please do not use the built-in Queue library."
   ],
   "metadata": {}
  },
  {
   "outputs": [
    {
     "output_type": "execute_result",
     "data": {
      "text/plain": "rear (generic function with 1 method)"
     },
     "metadata": {},
     "execution_count": 1
    }
   ],
   "cell_type": "code",
   "source": [
    "# @lc code=start\n",
    "using LeetCode\n",
    "\n",
    "mutable struct MyCircularQueue\n",
    "    len::Int\n",
    "    front::Int\n",
    "    rear::Int\n",
    "    arr::Vector{Int} ## use one extra position\n",
    "    MyCircularQueue(k::Int)  = new(k + 1, 1, 1, Vector{Int}(undef, k + 1))\n",
    "end\n",
    "\n",
    "is_full(que::MyCircularQueue) = (que.rear + 1 - que.front) % que.len == 0\n",
    "\n",
    "function en_queue(que::MyCircularQueue, val::Int)\n",
    "    is_full(que) && return false\n",
    "    que.arr[que.rear] = val\n",
    "    que.rear = que.rear % que.len + 1\n",
    "    return true\n",
    "end\n",
    "\n",
    "is_empty(que::MyCircularQueue) = que.front == que.rear\n",
    "\n",
    "function de_queue(que::MyCircularQueue)\n",
    "    is_empty(que) && return false\n",
    "    que.front = que.front % que.len + 1\n",
    "    return true\n",
    "end\n",
    "\n",
    "front(que::MyCircularQueue) = is_empty(que) ? -1 : que.arr[que.front]\n",
    "function rear(que::MyCircularQueue)\n",
    "    is_empty(que) && return -1\n",
    "    return que.arr[mod(que.rear - 2, que.len) + 1] ## use mod instead of % to avoid negative number\n",
    "end\n",
    "\n",
    "# @lc code=end"
   ],
   "metadata": {},
   "execution_count": 1
  },
  {
   "cell_type": "markdown",
   "source": [
    "---\n",
    "\n",
    "*This notebook was generated using [Literate.jl](https://github.com/fredrikekre/Literate.jl).*"
   ],
   "metadata": {}
  }
 ],
 "nbformat_minor": 3,
 "metadata": {
  "language_info": {
   "file_extension": ".jl",
   "mimetype": "application/julia",
   "name": "julia",
   "version": "1.8.0"
  },
  "kernelspec": {
   "name": "julia-1.8",
   "display_name": "Julia 1.8.0",
   "language": "julia"
  }
 },
 "nbformat": 4
}
