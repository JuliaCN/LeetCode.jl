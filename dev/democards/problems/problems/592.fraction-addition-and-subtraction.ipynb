{
 "cells": [
  {
   "cell_type": "markdown",
   "source": [
    "Given a string representing an expression of fraction addition and\n",
    "subtraction, you need to return the calculation result in string format. The\n",
    "final result should be [irreducible\n",
    "fraction](https://en.wikipedia.org/wiki/Irreducible_fraction). If your final\n",
    "result is an integer, say `2`, you need to change it to the format of fraction\n",
    "that has denominator `1`. So in this case, `2` should be converted to `2/1`.\n",
    "\n",
    "**Example 1:**\n",
    "\n",
    "\n",
    "\n",
    "    Input: \"-1/2+1/2\"\n",
    "    Output: \"0/1\"\n",
    "\n",
    "\n",
    "**Example 2:**\n",
    "\n",
    "\n",
    "\n",
    "    Input: \"-1/2+1/2+1/3\"\n",
    "    Output: \"1/3\"\n",
    "\n",
    "\n",
    "**Example 3:**\n",
    "\n",
    "\n",
    "\n",
    "    Input: \"1/3-1/2\"\n",
    "    Output: \"-1/6\"\n",
    "\n",
    "\n",
    "**Example 4:**\n",
    "\n",
    "\n",
    "\n",
    "    Input: \"5/3+1/3\"\n",
    "    Output: \"2/1\"\n",
    "\n",
    "\n",
    "**Note:**\n",
    "\n",
    "  1. The input string only contains `'0'` to `'9'`, `'/'`, `'+'` and `'-'`. So does the output.\n",
    "  2. Each fraction (input and output) has format `±numerator/denominator`. If the first input fraction or the output is positive, then `'+'` will be omitted.\n",
    "  3. The input only contains valid **irreducible fractions** , where the **numerator** and **denominator** of each fraction will always be in the range [1,10]. If the denominator is 1, it means this fraction is actually an integer in a fraction format defined above.\n",
    "  4. The number of given fractions will be in the range [1,10].\n",
    "  5. The numerator and denominator of the **final result** are guaranteed to be valid and in the range of 32-bit int."
   ],
   "metadata": {}
  },
  {
   "outputs": [
    {
     "output_type": "execute_result",
     "data": {
      "text/plain": "fraction_addition (generic function with 1 method)"
     },
     "metadata": {},
     "execution_count": 1
    }
   ],
   "cell_type": "code",
   "source": [
    "# @lc code=start\n",
    "using LeetCode\n",
    "\n",
    "function fraction_addition(expression::String)\n",
    "    expression = replace(expression, \"/\" => \"//\")\n",
    "    res = eval(Meta.parse(expression))\n",
    "    return \"$(res.num)/$(res.den)\"\n",
    "end\n",
    "# @lc code=end"
   ],
   "metadata": {},
   "execution_count": 1
  },
  {
   "cell_type": "markdown",
   "source": [
    "---\n",
    "\n",
    "*This notebook was generated using [Literate.jl](https://github.com/fredrikekre/Literate.jl).*"
   ],
   "metadata": {}
  }
 ],
 "nbformat_minor": 3,
 "metadata": {
  "language_info": {
   "file_extension": ".jl",
   "mimetype": "application/julia",
   "name": "julia",
   "version": "1.6.2"
  },
  "kernelspec": {
   "name": "julia-1.6",
   "display_name": "Julia 1.6.2",
   "language": "julia"
  }
 },
 "nbformat": 4
}
