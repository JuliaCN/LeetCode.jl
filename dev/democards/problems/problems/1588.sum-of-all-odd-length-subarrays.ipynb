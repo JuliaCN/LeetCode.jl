{
 "cells": [
  {
   "cell_type": "markdown",
   "source": [
    "Given an array of positive integers `arr`, calculate the sum of all possible\n",
    "odd-length subarrays.\n",
    "\n",
    "A subarray is a contiguous subsequence of the array.\n",
    "\n",
    "Return  _the sum of all odd-length subarrays of  _`arr`.\n",
    "\n",
    "\n",
    "\n",
    "**Example 1:**\n",
    "\n",
    "\n",
    "\n",
    "    Input: arr = [1,4,2,5,3]\n",
    "    Output: 58\n",
    "    Explanation: The odd-length subarrays of arr and their sums are:\n",
    "    [1] = 1\n",
    "    [4] = 4\n",
    "    [2] = 2\n",
    "    [5] = 5\n",
    "    [3] = 3\n",
    "    [1,4,2] = 7\n",
    "    [4,2,5] = 11\n",
    "    [2,5,3] = 10\n",
    "    [1,4,2,5,3] = 15\n",
    "    If we add all these together we get 1 + 4 + 2 + 5 + 3 + 7 + 11 + 10 + 15 = 58\n",
    "\n",
    "**Example 2:**\n",
    "\n",
    "\n",
    "\n",
    "    Input: arr = [1,2]\n",
    "    Output: 3\n",
    "    Explanation: There are only 2 subarrays of odd length, [1] and [2]. Their sum is 3.\n",
    "\n",
    "**Example 3:**\n",
    "\n",
    "\n",
    "\n",
    "    Input: arr = [10,11,12]\n",
    "    Output: 66\n",
    "\n",
    "\n",
    "\n",
    "\n",
    "**Constraints:**\n",
    "\n",
    "  * `1 <= arr.length <= 100`\n",
    "  * `1 <= arr[i] <= 1000`"
   ],
   "metadata": {}
  },
  {
   "outputs": [
    {
     "output_type": "execute_result",
     "data": {
      "text/plain": "sum_odd_length_subarrays (generic function with 1 method)"
     },
     "metadata": {},
     "execution_count": 1
    }
   ],
   "cell_type": "code",
   "source": [
    "# @lc code=start\n",
    "using LeetCode\n",
    "\n",
    "function sum_odd_length_subarrays(arr::Vector{Int})::Int\n",
    "    res = 0\n",
    "    len = length(arr)\n",
    "    for i in 1:len\n",
    "        l, r = i - 1, len - i\n",
    "        lodd, rodd = (l + 1) ÷ 2, (r + 1) ÷ 2\n",
    "        leven, reven = l ÷ 2 + 1, r ÷ 2 + 1\n",
    "        res += arr[i] * (lodd * rodd + leven * reven)\n",
    "    end\n",
    "    res\n",
    "end\n",
    "# @lc code=end"
   ],
   "metadata": {},
   "execution_count": 1
  },
  {
   "cell_type": "markdown",
   "source": [
    "---\n",
    "\n",
    "*This notebook was generated using [Literate.jl](https://github.com/fredrikekre/Literate.jl).*"
   ],
   "metadata": {}
  }
 ],
 "nbformat_minor": 3,
 "metadata": {
  "language_info": {
   "file_extension": ".jl",
   "mimetype": "application/julia",
   "name": "julia",
   "version": "1.9.1"
  },
  "kernelspec": {
   "name": "julia-1.9",
   "display_name": "Julia 1.9.1",
   "language": "julia"
  }
 },
 "nbformat": 4
}
