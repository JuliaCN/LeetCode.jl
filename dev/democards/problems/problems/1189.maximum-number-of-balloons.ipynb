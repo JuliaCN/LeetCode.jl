{
 "cells": [
  {
   "cell_type": "markdown",
   "source": [
    "Given a string `text`, you want to use the characters of `text` to form as\n",
    "many instances of the word **\" balloon\"** as possible.\n",
    "\n",
    "You can use each character in `text` **at most once**. Return the maximum\n",
    "number of instances that can be formed.\n",
    "\n",
    "\n",
    "\n",
    "**Example 1:**\n",
    "\n",
    "**![](https://assets.leetcode.com/uploads/2019/09/05/1536_ex1_upd.JPG)**\n",
    "\n",
    "\n",
    "\n",
    "    Input: text = \"nlaebolko\"\n",
    "    Output: 1\n",
    "\n",
    "\n",
    "**Example 2:**\n",
    "\n",
    "**![](https://assets.leetcode.com/uploads/2019/09/05/1536_ex2_upd.JPG)**\n",
    "\n",
    "\n",
    "\n",
    "    Input: text = \"loonbalxballpoon\"\n",
    "    Output: 2\n",
    "\n",
    "\n",
    "**Example 3:**\n",
    "\n",
    "\n",
    "\n",
    "    Input: text = \"leetcode\"\n",
    "    Output: 0\n",
    "\n",
    "\n",
    "\n",
    "\n",
    "**Constraints:**\n",
    "\n",
    "  * `1 <= text.length <= 10^4`\n",
    "  * `text` consists of lower case English letters only."
   ],
   "metadata": {}
  },
  {
   "outputs": [
    {
     "output_type": "execute_result",
     "data": {
      "text/plain": "max_num_of_ballons (generic function with 1 method)"
     },
     "metadata": {},
     "execution_count": 1
    }
   ],
   "cell_type": "code",
   "source": [
    "# @lc code=start\n",
    "using LeetCode\n",
    "\n",
    "function max_num_of_ballons(text::String)::Int\n",
    "    words = Dict{Char,Int}(s => 0 for s in \"balon\")\n",
    "    for s in text\n",
    "        if haskey(words, s)\n",
    "            words[s] += 1\n",
    "        end\n",
    "    end\n",
    "    return min(words['b'], words['a'], words['l'] ÷ 2, words['o'] ÷ 2, words['n'])\n",
    "end\n",
    "# @lc code=end"
   ],
   "metadata": {},
   "execution_count": 1
  },
  {
   "cell_type": "markdown",
   "source": [
    "---\n",
    "\n",
    "*This notebook was generated using [Literate.jl](https://github.com/fredrikekre/Literate.jl).*"
   ],
   "metadata": {}
  }
 ],
 "nbformat_minor": 3,
 "metadata": {
  "language_info": {
   "file_extension": ".jl",
   "mimetype": "application/julia",
   "name": "julia",
   "version": "1.8.2"
  },
  "kernelspec": {
   "name": "julia-1.8",
   "display_name": "Julia 1.8.2",
   "language": "julia"
  }
 },
 "nbformat": 4
}
