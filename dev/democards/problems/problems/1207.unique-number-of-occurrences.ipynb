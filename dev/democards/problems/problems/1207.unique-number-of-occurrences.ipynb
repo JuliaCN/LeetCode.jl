{
 "cells": [
  {
   "cell_type": "markdown",
   "source": [
    "Given an array of integers `arr`, write a function that returns `true` if and\n",
    "only if the number of occurrences of each value in the array is unique.\n",
    "\n",
    "\n",
    "\n",
    "**Example 1:**\n",
    "\n",
    "\n",
    "\n",
    "    Input: arr = [1,2,2,1,1,3]\n",
    "    Output: true\n",
    "    Explanation:  The value 1 has 3 occurrences, 2 has 2 and 3 has 1. No two values have the same number of occurrences.\n",
    "\n",
    "**Example 2:**\n",
    "\n",
    "\n",
    "\n",
    "    Input: arr = [1,2]\n",
    "    Output: false\n",
    "\n",
    "\n",
    "**Example 3:**\n",
    "\n",
    "\n",
    "\n",
    "    Input: arr = [-3,0,1,-3,1,1,1,-3,10,0]\n",
    "    Output: true\n",
    "\n",
    "\n",
    "\n",
    "\n",
    "**Constraints:**\n",
    "\n",
    "  * `1 <= arr.length <= 1000`\n",
    "  * `-1000 <= arr[i] <= 1000`"
   ],
   "metadata": {}
  },
  {
   "outputs": [
    {
     "output_type": "execute_result",
     "data": {
      "text/plain": "unique_number_of_occurrences (generic function with 1 method)"
     },
     "metadata": {},
     "execution_count": 1
    }
   ],
   "cell_type": "code",
   "source": [
    "# @lc code=start\n",
    "using LeetCode\n",
    "\n",
    "function unique_number_of_occurrences(arr::Vector{Int})\n",
    "    counts = Dict{Int, Int}()\n",
    "    for a in arr\n",
    "        counts[a] = get(counts, a, 0) + 1\n",
    "    end\n",
    "    vs = values(counts)\n",
    "    return length(vs) == length(unique(vs))\n",
    "end\n",
    "\n",
    "# add your code here:\n",
    "# @lc code=end"
   ],
   "metadata": {},
   "execution_count": 1
  },
  {
   "cell_type": "markdown",
   "source": [
    "---\n",
    "\n",
    "*This notebook was generated using [Literate.jl](https://github.com/fredrikekre/Literate.jl).*"
   ],
   "metadata": {}
  }
 ],
 "nbformat_minor": 3,
 "metadata": {
  "language_info": {
   "file_extension": ".jl",
   "mimetype": "application/julia",
   "name": "julia",
   "version": "1.7.2"
  },
  "kernelspec": {
   "name": "julia-1.7",
   "display_name": "Julia 1.7.2",
   "language": "julia"
  }
 },
 "nbformat": 4
}
