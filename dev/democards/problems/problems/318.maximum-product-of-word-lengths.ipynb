{
 "cells": [
  {
   "cell_type": "markdown",
   "source": [
    "Given a string array `words`, find the maximum value of `length(word[i]) *\n",
    "length(word[j])` where the two words do not share common letters. You may\n",
    "assume that each word will contain only lower case letters. If no such two\n",
    "words exist, return 0.\n",
    "\n",
    "**Example 1:**\n",
    "\n",
    "\n",
    "\n",
    "    Input: [\"abcw\",\"baz\",\"foo\",\"bar\",\"xtfn\",\"abcdef\"]\n",
    "    Output:16\n",
    "    Explanation:The two words can be \"abcw\", \"xtfn\".\n",
    "\n",
    "**Example 2:**\n",
    "\n",
    "\n",
    "\n",
    "    Input: [\"a\",\"ab\",\"abc\",\"d\",\"cd\",\"bcd\",\"abcd\"]\n",
    "    Output:4\n",
    "    Explanation:The two words can be \"ab\", \"cd\".\n",
    "\n",
    "**Example 3:**\n",
    "\n",
    "\n",
    "\n",
    "    Input: [\"a\",\"aa\",\"aaa\",\"aaaa\"]\n",
    "    Output:0\n",
    "    Explanation:No such pair of words.\n",
    "\n",
    "\n",
    "\n",
    "\n",
    "**Constraints:**\n",
    "\n",
    "  * `0 <= words.length <= 10^3`\n",
    "  * `0 <= words[i].length <= 10^3`\n",
    "  * `words[i]` consists only of lowercase English letters."
   ],
   "metadata": {}
  },
  {
   "outputs": [
    {
     "output_type": "execute_result",
     "data": {
      "text/plain": "max_product (generic function with 1 method)"
     },
     "metadata": {},
     "execution_count": 1
    }
   ],
   "cell_type": "code",
   "source": [
    "# @lc code=start\n",
    "using LeetCode\n",
    "\n",
    "function max_product(words::Vector{String})\n",
    "    mp = Dict{UInt32, Int}()\n",
    "    for word in words\n",
    "        init = zero(UInt32)\n",
    "        for c in word\n",
    "            init |= UInt32(1) << (c - 'a')\n",
    "        end\n",
    "        mp[init] = max(length(word), get(mp, init, 0))\n",
    "    end\n",
    "    res = 0\n",
    "    for x in keys(mp), y in keys(mp)\n",
    "        (x & y == 0) && (res = max(res, mp[x] * mp[y]))\n",
    "    end\n",
    "    return res\n",
    "end\n",
    "# @lc code=end"
   ],
   "metadata": {},
   "execution_count": 1
  },
  {
   "cell_type": "markdown",
   "source": [
    "---\n",
    "\n",
    "*This notebook was generated using [Literate.jl](https://github.com/fredrikekre/Literate.jl).*"
   ],
   "metadata": {}
  }
 ],
 "nbformat_minor": 3,
 "metadata": {
  "language_info": {
   "file_extension": ".jl",
   "mimetype": "application/julia",
   "name": "julia",
   "version": "1.6.4"
  },
  "kernelspec": {
   "name": "julia-1.6",
   "display_name": "Julia 1.6.4",
   "language": "julia"
  }
 },
 "nbformat": 4
}
