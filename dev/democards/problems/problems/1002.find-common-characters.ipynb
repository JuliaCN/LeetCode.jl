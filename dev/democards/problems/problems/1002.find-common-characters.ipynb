{
 "cells": [
  {
   "cell_type": "markdown",
   "source": [
    "Given an array `A` of strings made only from lowercase letters, return a list\n",
    "of all characters that show up in all strings within the list **(including\n",
    "duplicates)**.  For example, if a character occurs 3 times in all strings but\n",
    "not 4 times, you need to include that character three times in the final\n",
    "answer.\n",
    "\n",
    "You may return the answer in any order.\n",
    "\n",
    "\n",
    "\n",
    "**Example 1:**\n",
    "\n",
    "\n",
    "\n",
    "    Input: [\"bella\",\"label\",\"roller\"]\n",
    "    Output: [\"e\",\"l\",\"l\"]\n",
    "\n",
    "\n",
    "**Example 2:**\n",
    "\n",
    "\n",
    "\n",
    "    Input: [\"cool\",\"lock\",\"cook\"]\n",
    "    Output: [\"c\",\"o\"]\n",
    "\n",
    "\n",
    "\n",
    "\n",
    "**Note:**\n",
    "\n",
    "  1. `1 <= A.length <= 100`\n",
    "  2. `1 <= A[i].length <= 100`\n",
    "  3. `A[i][j]` is a lowercase letter"
   ],
   "metadata": {}
  },
  {
   "outputs": [
    {
     "output_type": "execute_result",
     "data": {
      "text/plain": "common_chars (generic function with 1 method)"
     },
     "metadata": {},
     "execution_count": 1
    }
   ],
   "cell_type": "code",
   "source": [
    "# @lc code=start\n",
    "using LeetCode\n",
    "\n",
    "function common_chars(A::Vector{String})\n",
    "    cnt = counter(A[1])\n",
    "    for i in 2:length(A)\n",
    "        tmp_cnt = counter(A[i])\n",
    "        for k in union(keys(tmp_cnt), keys(cnt))\n",
    "            cnt[k] = min(cnt[k], tmp_cnt[k])\n",
    "        end\n",
    "    end\n",
    "    vcat([fill(k, v) for (k, v) in cnt if v > 0]...)\n",
    "end\n",
    "# @lc code=end"
   ],
   "metadata": {},
   "execution_count": 1
  },
  {
   "cell_type": "markdown",
   "source": [
    "---\n",
    "\n",
    "*This notebook was generated using [Literate.jl](https://github.com/fredrikekre/Literate.jl).*"
   ],
   "metadata": {}
  }
 ],
 "nbformat_minor": 3,
 "metadata": {
  "language_info": {
   "file_extension": ".jl",
   "mimetype": "application/julia",
   "name": "julia",
   "version": "1.8.0"
  },
  "kernelspec": {
   "name": "julia-1.8",
   "display_name": "Julia 1.8.0",
   "language": "julia"
  }
 },
 "nbformat": 4
}
