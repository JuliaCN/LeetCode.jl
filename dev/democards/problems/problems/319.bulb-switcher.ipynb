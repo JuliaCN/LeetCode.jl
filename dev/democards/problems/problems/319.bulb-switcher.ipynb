{
 "cells": [
  {
   "cell_type": "markdown",
   "source": [
    "There are `n` bulbs that are initially off. You first turn on all the bulbs,\n",
    "then you turn off every second bulb.\n",
    "\n",
    "On the third round, you toggle every third bulb (turning on if it's off or\n",
    "turning off if it's on). For the `ith` round, you toggle every `i` bulb. For\n",
    "the `nth` round, you only toggle the last bulb.\n",
    "\n",
    "Return _the number of bulbs that are on after`n` rounds_.\n",
    "\n",
    "\n",
    "\n",
    "**Example 1:**\n",
    "\n",
    "![](https://assets.leetcode.com/uploads/2020/11/05/bulb.jpg)\n",
    "\n",
    "\n",
    "\n",
    "    Input: n = 3\n",
    "    Output: 1\n",
    "    Explanation: At first, the three bulbs are [off, off, off].\n",
    "    After the first round, the three bulbs are [on, on, on].\n",
    "    After the second round, the three bulbs are [on, off, on].\n",
    "    After the third round, the three bulbs are [on, off, off].\n",
    "    So you should return 1 because there is only one bulb is on.\n",
    "\n",
    "**Example 2:**\n",
    "\n",
    "\n",
    "\n",
    "    Input: n = 0\n",
    "    Output: 0\n",
    "\n",
    "\n",
    "**Example 3:**\n",
    "\n",
    "\n",
    "\n",
    "    Input: n = 1\n",
    "    Output: 1\n",
    "\n",
    "\n",
    "\n",
    "\n",
    "**Constraints:**\n",
    "\n",
    "  * `0 <= n <= 109`"
   ],
   "metadata": {}
  },
  {
   "outputs": [
    {
     "output_type": "execute_result",
     "data": {
      "text/plain": "bulb_switch (generic function with 1 method)"
     },
     "metadata": {},
     "execution_count": 1
    }
   ],
   "cell_type": "code",
   "source": [
    "# @lc code=start\n",
    "using LeetCode\n",
    "\n",
    "bulb_switch(n::Int) = isqrt(n)\n",
    "\n",
    "# @lc code=end"
   ],
   "metadata": {},
   "execution_count": 1
  },
  {
   "cell_type": "markdown",
   "source": [
    "---\n",
    "\n",
    "*This notebook was generated using [Literate.jl](https://github.com/fredrikekre/Literate.jl).*"
   ],
   "metadata": {}
  }
 ],
 "nbformat_minor": 3,
 "metadata": {
  "language_info": {
   "file_extension": ".jl",
   "mimetype": "application/julia",
   "name": "julia",
   "version": "1.7.3"
  },
  "kernelspec": {
   "name": "julia-1.7",
   "display_name": "Julia 1.7.3",
   "language": "julia"
  }
 },
 "nbformat": 4
}
