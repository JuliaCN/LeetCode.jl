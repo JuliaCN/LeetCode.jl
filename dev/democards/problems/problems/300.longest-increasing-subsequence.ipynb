{
 "cells": [
  {
   "cell_type": "markdown",
   "source": [
    "Given an integer array `nums`, return the length of the longest strictly\n",
    "increasing subsequence.\n",
    "\n",
    "A **subsequence** is a sequence that can be derived from an array by deleting\n",
    "some or no elements without changing the order of the remaining elements. For\n",
    "example, `[3,6,2,7]` is a subsequence of the array `[0,3,1,6,2,2,7]`.\n",
    "\n",
    "\n",
    "\n",
    "**Example 1:**\n",
    "\n",
    "\n",
    "\n",
    "    Input: nums = [10,9,2,5,3,7,101,18]\n",
    "    Output: 4\n",
    "    Explanation: The longest increasing subsequence is [2,3,7,101], therefore the length is 4.\n",
    "\n",
    "\n",
    "**Example 2:**\n",
    "\n",
    "\n",
    "\n",
    "    Input: nums = [0,1,0,3,2,3]\n",
    "    Output: 4\n",
    "\n",
    "\n",
    "**Example 3:**\n",
    "\n",
    "\n",
    "\n",
    "    Input: nums = [7,7,7,7,7,7,7]\n",
    "    Output: 1\n",
    "\n",
    "\n",
    "\n",
    "\n",
    "**Constraints:**\n",
    "\n",
    "  * `1 <= nums.length <= 2500`\n",
    "  * `-104 <= nums[i] <= 104`\n",
    "\n",
    "\n",
    "\n",
    "**Follow up:**\n",
    "\n",
    "  * Could you come up with the `O(n2)` solution?\n",
    "  * Could you improve it to `O(n log(n))` time complexity?"
   ],
   "metadata": {}
  },
  {
   "outputs": [
    {
     "output_type": "execute_result",
     "data": {
      "text/plain": "length_of_LIS (generic function with 1 method)"
     },
     "metadata": {},
     "execution_count": 1
    }
   ],
   "cell_type": "code",
   "source": [
    "# @lc code=start\n",
    "using LeetCode\n",
    "\n",
    "function length_of_LIS(nums::Vector{Int})\n",
    "    f = [first(nums)]\n",
    "    for num in @view(nums[2:end])\n",
    "        if num > f[end]\n",
    "            push!(f, num)\n",
    "        else\n",
    "            f[searchsortedfirst(f, num)] = num\n",
    "        end\n",
    "    end\n",
    "    length(f)\n",
    "end\n",
    "# @lc code=end"
   ],
   "metadata": {},
   "execution_count": 1
  },
  {
   "cell_type": "markdown",
   "source": [
    "---\n",
    "\n",
    "*This notebook was generated using [Literate.jl](https://github.com/fredrikekre/Literate.jl).*"
   ],
   "metadata": {}
  }
 ],
 "nbformat_minor": 3,
 "metadata": {
  "language_info": {
   "file_extension": ".jl",
   "mimetype": "application/julia",
   "name": "julia",
   "version": "1.8.0"
  },
  "kernelspec": {
   "name": "julia-1.8",
   "display_name": "Julia 1.8.0",
   "language": "julia"
  }
 },
 "nbformat": 4
}
