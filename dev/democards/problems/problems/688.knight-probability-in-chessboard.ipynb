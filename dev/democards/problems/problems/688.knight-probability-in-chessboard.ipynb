{
 "cells": [
  {
   "cell_type": "markdown",
   "source": [
    "On an `N`x`N` chessboard, a knight starts at the `r`-th row and `c`-th column\n",
    "and attempts to make exactly `K` moves. The rows and columns are 0 indexed, so\n",
    "the top-left square is `(0, 0)`, and the bottom-right square is `(N-1, N-1)`.\n",
    "\n",
    "A chess knight has 8 possible moves it can make, as illustrated below. Each\n",
    "move is two squares in a cardinal direction, then one square in an orthogonal\n",
    "direction.\n",
    "\n",
    "\n",
    "\n",
    "![](https://assets.leetcode.com/uploads/2018/10/12/knight.png)\n",
    "\n",
    "\n",
    "\n",
    "Each time the knight is to move, it chooses one of eight possible moves\n",
    "uniformly at random (even if the piece would go off the chessboard) and moves\n",
    "there.\n",
    "\n",
    "The knight continues moving until it has made exactly `K` moves or has moved\n",
    "off the chessboard. Return the probability that the knight remains on the\n",
    "board after it has stopped moving.\n",
    "\n",
    "\n",
    "\n",
    "**Example:**\n",
    "\n",
    "\n",
    "\n",
    "    Input: 3, 2, 0, 0\n",
    "    Output: 0.0625\n",
    "    Explanation: There are two moves (to (1,2), (2,1)) that will keep the knight on the board.\n",
    "    From each of those positions, there are also two moves that will keep the knight on the board.\n",
    "    The total probability the knight stays on the board is 0.0625.\n",
    "\n",
    "\n",
    "\n",
    "\n",
    "**Note:**\n",
    "\n",
    "  * `N` will be between 1 and 25.\n",
    "  * `K` will be between 0 and 100.\n",
    "  * The knight always initially starts on the board."
   ],
   "metadata": {}
  },
  {
   "outputs": [
    {
     "output_type": "execute_result",
     "data": {
      "text/plain": "knight_probability (generic function with 1 method)"
     },
     "metadata": {},
     "execution_count": 1
    }
   ],
   "cell_type": "code",
   "source": [
    "# @lc code=start\n",
    "using LeetCode\n",
    "\n",
    "function knight_probability(n::Int, k::Int, row::Int, col::Int)\n",
    "    dp = fill(0, n, n, 2)\n",
    "    dp[row + 1, col + 1, 1] = 1\n",
    "    for i in 1:k\n",
    "        dp1 = @view(dp[:, :, mod1(i, 2)])\n",
    "        dp2 = @view(dp[:, :, mod1(i + 1, 2)])\n",
    "        idcs = CartesianIndices(dp2)\n",
    "        for I in idcs, hop in ((1, 2), (2, 1), (-1, 2), (2, -1), (1, -2), (-2, 1), (-1, -2), (-2, -1))\n",
    "            new_I = I + CartesianIndex(hop)\n",
    "            new_I ∈ idcs && (dp2[new_I] += dp1[I])\n",
    "        end\n",
    "        fill!(dp1, 0)\n",
    "    end\n",
    "    return sum(dp) / 8 ^ k\n",
    "end\n",
    "# @lc code=end"
   ],
   "metadata": {},
   "execution_count": 1
  },
  {
   "cell_type": "markdown",
   "source": [
    "---\n",
    "\n",
    "*This notebook was generated using [Literate.jl](https://github.com/fredrikekre/Literate.jl).*"
   ],
   "metadata": {}
  }
 ],
 "nbformat_minor": 3,
 "metadata": {
  "language_info": {
   "file_extension": ".jl",
   "mimetype": "application/julia",
   "name": "julia",
   "version": "1.8.2"
  },
  "kernelspec": {
   "name": "julia-1.8",
   "display_name": "Julia 1.8.2",
   "language": "julia"
  }
 },
 "nbformat": 4
}
