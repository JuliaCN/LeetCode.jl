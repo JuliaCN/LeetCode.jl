{
 "cells": [
  {
   "cell_type": "markdown",
   "source": [
    "Given two non-negative integers `num1` and `num2` represented as strings,\n",
    "return the product of `num1` and `num2`, also represented as a string.\n",
    "\n",
    "**Note:**  You must not use any built-in BigInteger library or convert the\n",
    "inputs to integer directly.\n",
    "\n",
    "\n",
    "\n",
    "**Example 1:**\n",
    "\n",
    "\n",
    "\n",
    "    Input: num1 = \"2\", num2 = \"3\"\n",
    "    Output: \"6\"\n",
    "\n",
    "\n",
    "**Example 2:**\n",
    "\n",
    "\n",
    "\n",
    "    Input: num1 = \"123\", num2 = \"456\"\n",
    "    Output: \"56088\"\n",
    "\n",
    "\n",
    "\n",
    "\n",
    "**Constraints:**\n",
    "\n",
    "  * `1 <= num1.length, num2.length <= 200`\n",
    "  * `num1` and `num2` consist of digits only.\n",
    "  * Both `num1` and `num2` do not contain any leading zero, except the number `0` itself."
   ],
   "metadata": {}
  },
  {
   "outputs": [
    {
     "output_type": "execute_result",
     "data": {
      "text/plain": "trap (generic function with 1 method)"
     },
     "metadata": {},
     "execution_count": 1
    }
   ],
   "cell_type": "code",
   "source": [
    "# @lc code=start\n",
    "using LeetCode\n",
    "\n",
    "function trap(height::Vector{Int})::Int32\n",
    "    left, right = 1, length(height)\n",
    "    left_max, right_max = 0, 0\n",
    "    res = 0\n",
    "\n",
    "    while left <= right\n",
    "        if height[left] < height[right]\n",
    "            if (span = left_max - height[left]) > 0\n",
    "                res += span\n",
    "            else\n",
    "                left_max = height[left]\n",
    "            end\n",
    "\n",
    "            left += 1\n",
    "        else\n",
    "            if (span = right_max - height[right]) > 0\n",
    "                res += span\n",
    "            else\n",
    "                right_max = height[right]\n",
    "            end\n",
    "\n",
    "            right -= 1\n",
    "        end\n",
    "    end\n",
    "\n",
    "    return res\n",
    "end\n",
    "# @lc code=end"
   ],
   "metadata": {},
   "execution_count": 1
  },
  {
   "cell_type": "markdown",
   "source": [
    "---\n",
    "\n",
    "*This notebook was generated using [Literate.jl](https://github.com/fredrikekre/Literate.jl).*"
   ],
   "metadata": {}
  }
 ],
 "nbformat_minor": 3,
 "metadata": {
  "language_info": {
   "file_extension": ".jl",
   "mimetype": "application/julia",
   "name": "julia",
   "version": "1.6.3"
  },
  "kernelspec": {
   "name": "julia-1.6",
   "display_name": "Julia 1.6.3",
   "language": "julia"
  }
 },
 "nbformat": 4
}
