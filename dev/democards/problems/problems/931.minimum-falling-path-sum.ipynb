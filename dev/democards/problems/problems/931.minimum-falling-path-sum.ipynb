{
 "cells": [
  {
   "cell_type": "markdown",
   "source": [
    "Given a **square** array of integers `A`, we want the **minimum** sum of a\n",
    "_falling path_ through `A`.\n",
    "\n",
    "A falling path starts at any element in the first row, and chooses one element\n",
    "from each row.  The next row's choice must be in a column that is different\n",
    "from the previous row's column by at most one.\n",
    "\n",
    "\n",
    "\n",
    "**Example 1:**\n",
    "\n",
    "\n",
    "\n",
    "    Input: [[1,2,3],[4,5,6],[7,8,9]]\n",
    "    Output: 12\n",
    "    Explanation:\n",
    "    The possible falling paths are:\n",
    "\n",
    "\n",
    "  * `[1,4,7], [1,4,8], [1,5,7], [1,5,8], [1,5,9]`\n",
    "  * `[2,4,7], [2,4,8], [2,5,7], [2,5,8], [2,5,9], [2,6,8], [2,6,9]`\n",
    "  * `[3,5,7], [3,5,8], [3,5,9], [3,6,8], [3,6,9]`\n",
    "\n",
    "The falling path with the smallest sum is `[1,4,7]`, so the answer is `12`.\n",
    "\n",
    "\n",
    "\n",
    "**Constraints:**\n",
    "\n",
    "  * `1 <= A.length == A[0].length <= 100`\n",
    "  * `-100 <= A[i][j] <= 100`"
   ],
   "metadata": {}
  },
  {
   "outputs": [
    {
     "output_type": "execute_result",
     "data": {
      "text/plain": "min_falling_path_sum (generic function with 1 method)"
     },
     "metadata": {},
     "execution_count": 1
    }
   ],
   "cell_type": "code",
   "source": [
    "# @lc code=start\n",
    "using LeetCode\n",
    "\n",
    "function min_falling_path_sum(matrix::Vector{Vector{Int}})::Int\n",
    "    n = length(matrix)\n",
    "    function f(l1, l2)\n",
    "        return [\n",
    "            num + minimum(l1[max(i - 1, 1):min(i + 1, n)]) for (i, num) in enumerate(l2)\n",
    "        ]\n",
    "    end\n",
    "    return minimum(foldl(f, matrix))\n",
    "end\n",
    "\n",
    "# @lc code=end"
   ],
   "metadata": {},
   "execution_count": 1
  },
  {
   "cell_type": "markdown",
   "source": [
    "---\n",
    "\n",
    "*This notebook was generated using [Literate.jl](https://github.com/fredrikekre/Literate.jl).*"
   ],
   "metadata": {}
  }
 ],
 "nbformat_minor": 3,
 "metadata": {
  "language_info": {
   "file_extension": ".jl",
   "mimetype": "application/julia",
   "name": "julia",
   "version": "1.10.1"
  },
  "kernelspec": {
   "name": "julia-1.10",
   "display_name": "Julia 1.10.1",
   "language": "julia"
  }
 },
 "nbformat": 4
}
