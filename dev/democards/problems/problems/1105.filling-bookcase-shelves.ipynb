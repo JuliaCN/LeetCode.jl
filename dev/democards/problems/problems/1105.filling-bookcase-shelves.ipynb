{
 "cells": [
  {
   "cell_type": "markdown",
   "source": [
    "We have a sequence of `books`: the `i`-th book has thickness `books[i][0]` and\n",
    "height `books[i][1]`.\n",
    "\n",
    "We want to place these books **in order**  onto bookcase shelves that have\n",
    "total width `shelf_width`.\n",
    "\n",
    "We choose some of the books to place on this shelf (such that the sum of their\n",
    "thickness is `<= shelf_width`), then build another level of shelf of the\n",
    "bookcase so that the total height of the bookcase has increased by the maximum\n",
    "height of the books we just put down.  We repeat this process until there are\n",
    "no more books to place.\n",
    "\n",
    "Note again that at each step of the above process, _the order of the books we\n",
    "place is the same order as the given sequence of books_.  For example, if we\n",
    "have an ordered list of 5 books, we might place the first and second book onto\n",
    "the first shelf, the third book on the second shelf, and the fourth and fifth\n",
    "book on the last shelf.\n",
    "\n",
    "Return the minimum possible height that the total bookshelf can be after\n",
    "placing shelves in this manner.\n",
    "\n",
    "\n",
    "\n",
    "**Example 1:**\n",
    "\n",
    "![](https://assets.leetcode.com/uploads/2019/06/24/shelves.png)\n",
    "\n",
    "\n",
    "\n",
    "    Input: books = [[1,1],[2,3],[2,3],[1,1],[1,1],[1,1],[1,2]], shelf_width = 4\n",
    "    Output: 6\n",
    "    Explanation:\n",
    "    The sum of the heights of the 3 shelves are 1 + 3 + 2 = 6.\n",
    "    Notice that book number 2 does not have to be on the first shelf.\n",
    "\n",
    "\n",
    "\n",
    "\n",
    "**Constraints:**\n",
    "\n",
    "  * `1 <= books.length <= 1000`\n",
    "  * `1 <= books[i][0] <= shelf_width <= 1000`\n",
    "  * `1 <= books[i][1] <= 1000`"
   ],
   "metadata": {}
  },
  {
   "outputs": [
    {
     "output_type": "execute_result",
     "data": {
      "text/plain": "min_height_shelves (generic function with 1 method)"
     },
     "metadata": {},
     "execution_count": 1
    }
   ],
   "cell_type": "code",
   "source": [
    "# @lc code=start\n",
    "using LeetCode\n",
    "\n",
    "function min_height_shelves(books::Vector{Vector{Int}}, shelf_width::Int)\n",
    "    n = length(books)\n",
    "    dp = OffsetArray(fill(typemax(Int) >> 1, n + 1), -1)\n",
    "    dp[0] = 0\n",
    "    for i in 1:n\n",
    "        idx, width, height = i - 1, books[i][1], books[i][2]\n",
    "        while width <= shelf_width\n",
    "            dp[i] = min(dp[i], dp[idx] + height)\n",
    "            idx == 0 && break\n",
    "            height = max(height, books[idx][2])\n",
    "            width += books[idx][1]\n",
    "            idx -= 1\n",
    "        end\n",
    "    end\n",
    "    dp[end]\n",
    "end\n",
    "# @lc code=end"
   ],
   "metadata": {},
   "execution_count": 1
  },
  {
   "cell_type": "markdown",
   "source": [
    "---\n",
    "\n",
    "*This notebook was generated using [Literate.jl](https://github.com/fredrikekre/Literate.jl).*"
   ],
   "metadata": {}
  }
 ],
 "nbformat_minor": 3,
 "metadata": {
  "language_info": {
   "file_extension": ".jl",
   "mimetype": "application/julia",
   "name": "julia",
   "version": "1.7.3"
  },
  "kernelspec": {
   "name": "julia-1.7",
   "display_name": "Julia 1.7.3",
   "language": "julia"
  }
 },
 "nbformat": 4
}
