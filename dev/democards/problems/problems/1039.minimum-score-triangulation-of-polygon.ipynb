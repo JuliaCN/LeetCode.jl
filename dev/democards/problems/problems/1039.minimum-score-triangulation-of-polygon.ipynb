{
 "cells": [
  {
   "cell_type": "markdown",
   "source": [
    "Given `N`, consider a convex `N`-sided polygon with vertices labelled `A[0],\n",
    "A[i], ..., A[N-1]` in clockwise order.\n",
    "\n",
    "Suppose you triangulate the polygon into `N-2` triangles.  For each triangle,\n",
    "the value of that triangle is the **product**  of the labels of the vertices,\n",
    "and the _total score_ of the triangulation is the sum of these values over all\n",
    "`N-2` triangles in the triangulation.\n",
    "\n",
    "Return the smallest possible total score that you can achieve with some\n",
    "triangulation of the polygon.\n",
    "\n",
    "\n",
    "\n",
    "**Example 1:**\n",
    "\n",
    "\n",
    "\n",
    "    Input: [1,2,3]\n",
    "    Output: 6\n",
    "    Explanation: The polygon is already triangulated, and the score of the only triangle is 6.\n",
    "\n",
    "\n",
    "**Example 2:**\n",
    "\n",
    "![](https://assets.leetcode.com/uploads/2019/05/01/minimum-score-\n",
    "triangulation-of-polygon-1.png)\n",
    "\n",
    "\n",
    "\n",
    "    Input: [3,7,4,5]\n",
    "    Output: 144\n",
    "    Explanation: There are two triangulations, with possible scores: 3*7*5 + 4*5*7 = 245, or 3*4*5 + 3*4*7 = 144.  The minimum score is 144.\n",
    "\n",
    "\n",
    "**Example 3:**\n",
    "\n",
    "\n",
    "\n",
    "    Input: [1,3,1,4,1,5]\n",
    "    Output: 13\n",
    "    Explanation: The minimum score triangulation has score 1*1*3 + 1*1*4 + 1*1*5 + 1*1*1 = 13.\n",
    "\n",
    "\n",
    "\n",
    "\n",
    "**Note:**\n",
    "\n",
    "  1. `3 <= A.length <= 50`\n",
    "  2. `1 <= A[i] <= 100`"
   ],
   "metadata": {}
  },
  {
   "outputs": [
    {
     "output_type": "execute_result",
     "data": {
      "text/plain": "min_score_triangulation (generic function with 1 method)"
     },
     "metadata": {},
     "execution_count": 1
    }
   ],
   "cell_type": "code",
   "source": [
    "# @lc code=start\n",
    "using LeetCode\n",
    "\n",
    "function min_score_triangulation(values::Vector{Int})\n",
    "    dp = fill(0, 50, 50)\n",
    "    function dfs!(dp, i, j)\n",
    "        j - i < 2 && return 0\n",
    "        dp[i, j] > 0 && return dp[i, j]\n",
    "        j - i == 2 && (return dp[i, j] = values[i] * values[i + 1] * values[j])\n",
    "        v = values[i] * values[j]\n",
    "        dp[i, j] = minimum(v * values[k] + dfs!(dp, i, k) + dfs!(dp, k, j) for k in i + 1:j - 1)\n",
    "    end\n",
    "    dfs!(dp, 1, length(values))\n",
    "end\n",
    "# @lc code=end"
   ],
   "metadata": {},
   "execution_count": 1
  },
  {
   "cell_type": "markdown",
   "source": [
    "---\n",
    "\n",
    "*This notebook was generated using [Literate.jl](https://github.com/fredrikekre/Literate.jl).*"
   ],
   "metadata": {}
  }
 ],
 "nbformat_minor": 3,
 "metadata": {
  "language_info": {
   "file_extension": ".jl",
   "mimetype": "application/julia",
   "name": "julia",
   "version": "1.8.2"
  },
  "kernelspec": {
   "name": "julia-1.8",
   "display_name": "Julia 1.8.2",
   "language": "julia"
  }
 },
 "nbformat": 4
}
