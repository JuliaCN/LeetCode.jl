{
 "cells": [
  {
   "cell_type": "markdown",
   "source": [
    "In an N by N square grid, each cell is either empty (0) or blocked (1).\n",
    "\n",
    "A  _clear  path from top-left to bottom-right_ has length `k` if and only if\n",
    "it is composed of cells `C_1, C_2, ..., C_k` such that:\n",
    "\n",
    "  * Adjacent cells `C_i` and `C_{i+1}` are connected 8-directionally (ie., they are different and share an edge or corner)\n",
    "  * `C_1` is at location `(0, 0)` (ie. has value `grid[0][0]`)\n",
    "  * `C_k` is at location `(N-1, N-1)` (ie. has value `grid[N-1][N-1]`)\n",
    "  * If `C_i` is located at `(r, c)`, then `grid[r][c]` is empty (ie. `grid[r][c] == 0`).\n",
    "\n",
    "Return the length of the shortest such clear path from top-left to bottom-\n",
    "right.  If such a path does not exist, return -1.\n",
    "\n",
    "\n",
    "\n",
    "**Example 1:**\n",
    "\n",
    "\n",
    "\n",
    "    Input: [[0,1],[1,0]]\n",
    "    ![](https://assets.leetcode.com/uploads/2019/08/04/example1_1.png)\n",
    "\n",
    "    Output: 2\n",
    "    ![](https://assets.leetcode.com/uploads/2019/08/04/example1_2.png)\n",
    "\n",
    "\n",
    "**Example 2:**\n",
    "\n",
    "\n",
    "\n",
    "    Input: [[0,0,0],[1,1,0],[1,1,0]]\n",
    "    ![](https://assets.leetcode.com/uploads/2019/08/04/example2_1.png)\n",
    "\n",
    "    Output: 4\n",
    "    ![](https://assets.leetcode.com/uploads/2019/08/04/example2_2.png)\n",
    "\n",
    "\n",
    "\n",
    "\n",
    "**Note:**\n",
    "\n",
    "  1. `1 <= grid.length == grid[0].length <= 100`\n",
    "  2. `grid[r][c]` is `0` or `1`"
   ],
   "metadata": {}
  },
  {
   "outputs": [
    {
     "output_type": "execute_result",
     "data": {
      "text/plain": "shortest_path_binary_matrix (generic function with 1 method)"
     },
     "metadata": {},
     "execution_count": 1
    }
   ],
   "cell_type": "code",
   "source": [
    "# @lc code=start\n",
    "using LeetCode\n",
    "\n",
    "function shortest_path_binary_matrix(mat::Matrix{Int})\n",
    "    visited = fill(false, size(mat))\n",
    "    q = [CartesianIndex(1, 1)]\n",
    "    dist = [1]\n",
    "    visited[1, 1] = true\n",
    "    directions = [CartesianIndex(i, j) for i in -1:1, j in -1:1 if i != 0 || j != 0]\n",
    "    res = 0\n",
    "    while !visited[end, end]\n",
    "        frt = popfirst!(q)\n",
    "        dst = popfirst!(dist)\n",
    "        for dir in directions\n",
    "            next_coord = frt + dir\n",
    "            next_coord ∉ CartesianIndices(mat) && continue\n",
    "            visited[next_coord] && continue\n",
    "            visited[next_coord] = true\n",
    "            if mat[next_coord] == 0\n",
    "                push!(q, next_coord)\n",
    "                push!(dist, dst + 1)\n",
    "                res = dst + 1\n",
    "            end\n",
    "        end\n",
    "    end\n",
    "    return res\n",
    "end\n",
    "\n",
    "# @lc code=end"
   ],
   "metadata": {},
   "execution_count": 1
  },
  {
   "cell_type": "markdown",
   "source": [
    "---\n",
    "\n",
    "*This notebook was generated using [Literate.jl](https://github.com/fredrikekre/Literate.jl).*"
   ],
   "metadata": {}
  }
 ],
 "nbformat_minor": 3,
 "metadata": {
  "language_info": {
   "file_extension": ".jl",
   "mimetype": "application/julia",
   "name": "julia",
   "version": "1.8.0"
  },
  "kernelspec": {
   "name": "julia-1.8",
   "display_name": "Julia 1.8.0",
   "language": "julia"
  }
 },
 "nbformat": 4
}
