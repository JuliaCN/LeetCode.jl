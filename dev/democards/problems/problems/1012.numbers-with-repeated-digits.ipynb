{
 "cells": [
  {
   "cell_type": "markdown",
   "source": [
    "Given a positive integer `N`, return the number of positive integers less than\n",
    "or equal to `N` that have at least 1 repeated digit.\n",
    "\n",
    "\n",
    "\n",
    "**Example 1:**\n",
    "\n",
    "\n",
    "\n",
    "    Input: 20\n",
    "    Output: 1\n",
    "    Explanation: The only positive number (<= 20) with at least 1 repeated digit is 11.\n",
    "\n",
    "\n",
    "**Example 2:**\n",
    "\n",
    "\n",
    "\n",
    "    Input: 100\n",
    "    Output: 10\n",
    "    Explanation: The positive numbers (<= 100) with atleast 1 repeated digit are 11, 22, 33, 44, 55, 66, 77, 88, 99, and 100.\n",
    "\n",
    "\n",
    "**Example 3:**\n",
    "\n",
    "\n",
    "\n",
    "    Input: 1000\n",
    "    Output: 262\n",
    "\n",
    "\n",
    "\n",
    "\n",
    "**Note:**\n",
    "\n",
    "  1. `1 <= N <= 10^9`"
   ],
   "metadata": {}
  },
  {
   "outputs": [
    {
     "output_type": "execute_result",
     "data": {
      "text/plain": "num_dup_digits_at_most_n (generic function with 1 method)"
     },
     "metadata": {},
     "execution_count": 1
    }
   ],
   "cell_type": "code",
   "source": [
    "# @lc code=start\n",
    "using LeetCode\n",
    "\n",
    "function num_dup_digits_at_most_n(N::Int)\n",
    "    ori = N\n",
    "    b = 9\n",
    "    while 10^b > N\n",
    "        b -= 1\n",
    "    end\n",
    "    res = sum(binomial(9, i) * factorial(i) * 9 for i in 0:(b - 1))\n",
    "    num_bits = Set{Int}()\n",
    "    k = b\n",
    "    while b >= 0\n",
    "        num_bit = N ÷ 10^b\n",
    "        N %= 10^b\n",
    "        if !(num_bit in num_bits)\n",
    "            if isempty(num_bits)\n",
    "                le_num = num_bit - 1\n",
    "            else\n",
    "                le_num = num_bit - sum(nb < num_bit for nb in num_bits)\n",
    "            end\n",
    "            res += binomial(9 - k + b, b) * factorial(b) * (le_num)\n",
    "            push!(num_bits, num_bit)\n",
    "        else\n",
    "            return ori - res\n",
    "        end\n",
    "        b -= 1\n",
    "    end\n",
    "    ori - res - 1\n",
    "end\n",
    "# @lc code=end"
   ],
   "metadata": {},
   "execution_count": 1
  },
  {
   "cell_type": "markdown",
   "source": [
    "---\n",
    "\n",
    "*This notebook was generated using [Literate.jl](https://github.com/fredrikekre/Literate.jl).*"
   ],
   "metadata": {}
  }
 ],
 "nbformat_minor": 3,
 "metadata": {
  "language_info": {
   "file_extension": ".jl",
   "mimetype": "application/julia",
   "name": "julia",
   "version": "1.7.3"
  },
  "kernelspec": {
   "name": "julia-1.7",
   "display_name": "Julia 1.7.3",
   "language": "julia"
  }
 },
 "nbformat": 4
}
