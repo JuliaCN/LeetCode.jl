{
 "cells": [
  {
   "cell_type": "markdown",
   "source": [
    "In an array `A` of `0`s and `1`s, how many **non-empty** subarrays have sum\n",
    "`S`?\n",
    "\n",
    "\n",
    "\n",
    "**Example 1:**\n",
    "\n",
    "\n",
    "\n",
    "    Input: A = [1,0,1,0,1], S = 2\n",
    "    Output: 4\n",
    "    Explanation:\n",
    "    The 4 subarrays are bolded below:\n",
    "    [ **1,0,1** ,0,1]\n",
    "    [ **1,0,1,0** ,1]\n",
    "    [1, **0,1,0,1** ]\n",
    "    [1,0, **1,0,1** ]\n",
    "\n",
    "\n",
    "\n",
    "\n",
    "**Note:**\n",
    "\n",
    "  1. `A.length <= 30000`\n",
    "  2. `0 <= S <= A.length`\n",
    "  3. `A[i]` is either `0` or `1`."
   ],
   "metadata": {}
  },
  {
   "outputs": [
    {
     "output_type": "execute_result",
     "data": {
      "text/plain": "num_subarrays_with_sum (generic function with 1 method)"
     },
     "metadata": {},
     "execution_count": 1
    }
   ],
   "cell_type": "code",
   "source": [
    "# @lc code=start\n",
    "using LeetCode\n",
    "\n",
    "function num_subarrays_with_sum(nums::Vector{Int}, goal::Int)\n",
    "    cnt = OffsetArray(fill(0, length(nums) + 1), -1)\n",
    "    s, res = 0, 0\n",
    "    for num in nums\n",
    "        cnt[s] += 1\n",
    "        s += num\n",
    "        res += get(cnt, s - goal, 0)\n",
    "    end\n",
    "    res\n",
    "end\n",
    "# @lc code=end"
   ],
   "metadata": {},
   "execution_count": 1
  },
  {
   "cell_type": "markdown",
   "source": [
    "---\n",
    "\n",
    "*This notebook was generated using [Literate.jl](https://github.com/fredrikekre/Literate.jl).*"
   ],
   "metadata": {}
  }
 ],
 "nbformat_minor": 3,
 "metadata": {
  "language_info": {
   "file_extension": ".jl",
   "mimetype": "application/julia",
   "name": "julia",
   "version": "1.6.1"
  },
  "kernelspec": {
   "name": "julia-1.6",
   "display_name": "Julia 1.6.1",
   "language": "julia"
  }
 },
 "nbformat": 4
}
