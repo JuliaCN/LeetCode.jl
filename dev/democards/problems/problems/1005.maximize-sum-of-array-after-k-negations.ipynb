{
 "cells": [
  {
   "cell_type": "markdown",
   "source": [
    "Given an array `A` of integers, we **must**  modify the array in the following\n",
    "way: we choose an `i` and replace `A[i]` with `-A[i]`, and we repeat this\n",
    "process `K` times in total.  (We may choose the same index `i` multiple\n",
    "times.)\n",
    "\n",
    "Return the largest possible sum of the array after modifying it in this way.\n",
    "\n",
    "\n",
    "\n",
    "**Example 1:**\n",
    "\n",
    "\n",
    "\n",
    "    Input: A = [4,2,3], K = 1\n",
    "    Output: 5\n",
    "    Explanation: Choose indices (1,) and A becomes [4,-2,3].\n",
    "\n",
    "\n",
    "**Example 2:**\n",
    "\n",
    "\n",
    "\n",
    "    Input: A = [3,-1,0,2], K = 3\n",
    "    Output: 6\n",
    "    Explanation: Choose indices (1, 2, 2) and A becomes [3,1,0,2].\n",
    "\n",
    "\n",
    "**Example 3:**\n",
    "\n",
    "\n",
    "\n",
    "    Input: A = [2,-3,-1,5,-4], K = 2\n",
    "    Output: 13\n",
    "    Explanation: Choose indices (1, 4) and A becomes [2,3,-1,5,4].\n",
    "\n",
    "\n",
    "\n",
    "\n",
    "**Note:**\n",
    "\n",
    "  1. `1 <= A.length <= 10000`\n",
    "  2. `1 <= K <= 10000`\n",
    "  3. `-100 <= A[i] <= 100`"
   ],
   "metadata": {}
  },
  {
   "outputs": [
    {
     "output_type": "execute_result",
     "data": {
      "text/plain": "largest_sum_after_k_negations (generic function with 1 method)"
     },
     "metadata": {},
     "execution_count": 1
    }
   ],
   "cell_type": "code",
   "source": [
    "# @lc code=start\n",
    "using LeetCode\n",
    "\n",
    "using DataStructures\n",
    "function largest_sum_after_k_negations(A::Vector{Int}, K::Int)\n",
    "    total = sum(A)\n",
    "    pq = BinaryMinHeap(A)\n",
    "    for _ in 1:K\n",
    "        m = pop!(pq)\n",
    "        total -= 2 * m\n",
    "        push!(pq, -m)\n",
    "    end\n",
    "    total\n",
    "end\n",
    "# @lc code=end"
   ],
   "metadata": {},
   "execution_count": 1
  },
  {
   "cell_type": "markdown",
   "source": [
    "---\n",
    "\n",
    "*This notebook was generated using [Literate.jl](https://github.com/fredrikekre/Literate.jl).*"
   ],
   "metadata": {}
  }
 ],
 "nbformat_minor": 3,
 "metadata": {
  "language_info": {
   "file_extension": ".jl",
   "mimetype": "application/julia",
   "name": "julia",
   "version": "1.5.3"
  },
  "kernelspec": {
   "name": "julia-1.5",
   "display_name": "Julia 1.5.3",
   "language": "julia"
  }
 },
 "nbformat": 4
}
