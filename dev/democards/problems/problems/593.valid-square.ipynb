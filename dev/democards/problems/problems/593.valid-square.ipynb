{
 "cells": [
  {
   "cell_type": "markdown",
   "source": [
    "Given the coordinates of four points in 2D space `p1`, `p2`, `p3` and `p4`,\n",
    "return `true` _if  the four points construct a square_.\n",
    "\n",
    "The coordinate of a point `pi` is represented as `[xi, yi]`. The input is\n",
    "**not** given in any order.\n",
    "\n",
    "A **valid square** has four equal sides with positive length and four equal\n",
    "angles (90-degree angles).\n",
    "\n",
    "\n",
    "\n",
    "**Example 1:**\n",
    "\n",
    "\n",
    "\n",
    "    Input: p1 = [0,0], p2 = [1,1], p3 = [1,0], p4 = [0,1]\n",
    "    Output: true\n",
    "\n",
    "\n",
    "**Example 2:**\n",
    "\n",
    "\n",
    "\n",
    "    Input: p1 = [0,0], p2 = [1,1], p3 = [1,0], p4 = [0,12]\n",
    "    Output: false\n",
    "\n",
    "\n",
    "**Example 3:**\n",
    "\n",
    "\n",
    "\n",
    "    Input: p1 = [1,0], p2 = [-1,0], p3 = [0,1], p4 = [0,-1]\n",
    "    Output: true\n",
    "\n",
    "\n",
    "\n",
    "\n",
    "**Constraints:**\n",
    "\n",
    "  * `p1.length == p2.length == p3.length == p4.length == 2`\n",
    "  * `-104 <= xi, yi <= 104`"
   ],
   "metadata": {}
  },
  {
   "outputs": [
    {
     "output_type": "execute_result",
     "data": {
      "text/plain": "valid_square (generic function with 1 method)"
     },
     "metadata": {},
     "execution_count": 1
    }
   ],
   "cell_type": "code",
   "source": [
    "# @lc code=start\n",
    "using LeetCode\n",
    "\n",
    "function valid_square(ps::Vector{Vector{Int}})\n",
    "    sort!(ps)\n",
    "    ps[1] + ps[4] != ps[2] + ps[3] && return false\n",
    "    sum((ps[1] .- ps[2]) .^ 2) != sum((ps[1] .- ps[3]) .^ 2) && return false\n",
    "    return true\n",
    "end\n",
    "# @lc code=end"
   ],
   "metadata": {},
   "execution_count": 1
  },
  {
   "cell_type": "markdown",
   "source": [
    "---\n",
    "\n",
    "*This notebook was generated using [Literate.jl](https://github.com/fredrikekre/Literate.jl).*"
   ],
   "metadata": {}
  }
 ],
 "nbformat_minor": 3,
 "metadata": {
  "language_info": {
   "file_extension": ".jl",
   "mimetype": "application/julia",
   "name": "julia",
   "version": "1.6.1"
  },
  "kernelspec": {
   "name": "julia-1.6",
   "display_name": "Julia 1.6.1",
   "language": "julia"
  }
 },
 "nbformat": 4
}
