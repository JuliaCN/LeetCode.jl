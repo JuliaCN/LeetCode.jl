{
 "cells": [
  {
   "cell_type": "markdown",
   "source": [
    "In the world of Dota2, there are two parties: the `Radiant` and the `Dire`.\n",
    "\n",
    "The Dota2 senate consists of senators coming from two parties. Now the senate\n",
    "wants to make a decision about a change in the Dota2 game. The voting for this\n",
    "change is a round-based procedure. In each round, each senator can exercise\n",
    "`one` of the two rights:\n",
    "\n",
    "  1. `Ban one senator's right`:\n",
    "A senator can make another senator lose **all his rights** in this and all the\n",
    "following rounds.\n",
    "\n",
    "  2. `Announce the victory`:\n",
    "If this senator found the senators who still have rights to vote are all from\n",
    "**the same party** , he can announce the victory and make the decision about\n",
    "the change in the game.\n",
    "\n",
    "\n",
    "\n",
    "Given a string representing each senator's party belonging. The character 'R'\n",
    "and 'D' represent the `Radiant` party and the `Dire` party respectively. Then\n",
    "if there are `n` senators, the size of the given string will be `n`.\n",
    "\n",
    "The round-based procedure starts from the first senator to the last senator in\n",
    "the given order. This procedure will last until the end of voting. All the\n",
    "senators who have lost their rights will be skipped during the procedure.\n",
    "\n",
    "Suppose every senator is smart enough and will play the best strategy for his\n",
    "own party, you need to predict which party will finally announce the victory\n",
    "and make the change in the Dota2 game. The output should be `Radiant` or\n",
    "`Dire`.\n",
    "\n",
    "**Example 1:**\n",
    "\n",
    "\n",
    "\n",
    "    Input: \"RD\"\n",
    "    Output: \"Radiant\"\n",
    "    Explanation: The first senator comes from Radiant and he can just ban the next senator's right in the round 1.\n",
    "    And the second senator can't exercise any rights any more since his right has been banned.\n",
    "    And in the round 2, the first senator can just announce the victory since he is the only guy in the senate who can vote.\n",
    "\n",
    "\n",
    "\n",
    "\n",
    "**Example 2:**\n",
    "\n",
    "\n",
    "\n",
    "    Input: \"RDD\"\n",
    "    Output: \"Dire\"\n",
    "    Explanation:\n",
    "    The first senator comes from Radiant and he can just ban the next senator's right in the round 1.\n",
    "    And the second senator can't exercise any rights anymore since his right has been banned.\n",
    "    And the third senator comes from Dire and he can ban the first senator's right in the round 1.\n",
    "    And in the round 2, the third senator can just announce the victory since he is the only guy in the senate who can vote.\n",
    "\n",
    "\n",
    "\n",
    "\n",
    "**Note:**\n",
    "\n",
    "  1. The length of the given string will in the range [1, 10,000]."
   ],
   "metadata": {}
  },
  {
   "outputs": [
    {
     "output_type": "execute_result",
     "data": {
      "text/plain": "predict_party_victory (generic function with 1 method)"
     },
     "metadata": {},
     "execution_count": 1
    }
   ],
   "cell_type": "code",
   "source": [
    "# @lc code=start\n",
    "using LeetCode\n",
    "function predict_party_victory(senate::String)\n",
    "    len = length(senate)\n",
    "    radiant, dire = Queue{Int}(), Queue{Int}()\n",
    "    for (idx, ch) in enumerate(senate)\n",
    "        (ch == 'R') ? enqueue!(radiant, idx) : enqueue!(dire, idx)\n",
    "    end\n",
    "    while !isempty(radiant) && !isempty(dire)\n",
    "        r_front, d_fromt = dequeue!(radiant), dequeue!(dire)\n",
    "        (r_front < d_fromt) ? enqueue!(radiant, r_front + len) : enqueue!(dire, d_fromt + len)\n",
    "\n",
    "    end\n",
    "    return isempty(dire) ? \"Radiant\" : \"Dire\"\n",
    "end\n",
    "# @lc code=end"
   ],
   "metadata": {},
   "execution_count": 1
  },
  {
   "cell_type": "markdown",
   "source": [
    "---\n",
    "\n",
    "*This notebook was generated using [Literate.jl](https://github.com/fredrikekre/Literate.jl).*"
   ],
   "metadata": {}
  }
 ],
 "nbformat_minor": 3,
 "metadata": {
  "language_info": {
   "file_extension": ".jl",
   "mimetype": "application/julia",
   "name": "julia",
   "version": "1.8.0"
  },
  "kernelspec": {
   "name": "julia-1.8",
   "display_name": "Julia 1.8.0",
   "language": "julia"
  }
 },
 "nbformat": 4
}
