{
 "cells": [
  {
   "cell_type": "markdown",
   "source": [
    "Given `n` pairs of parentheses, write a function to _generate all combinations\n",
    "of well-formed parentheses_.\n",
    "\n",
    "\n",
    "\n",
    "**Example 1:**\n",
    "\n",
    "\n",
    "\n",
    "    Input: n = 3\n",
    "    Output: [\"((()))\",\"(()())\",\"(())()\",\"()(())\",\"()()()\"]\n",
    "\n",
    "\n",
    "**Example 2:**\n",
    "\n",
    "\n",
    "\n",
    "    Input: n = 1\n",
    "    Output: [\"()\"]\n",
    "\n",
    "\n",
    "\n",
    "\n",
    "**Constraints:**\n",
    "\n",
    "  * `1 <= n <= 8`"
   ],
   "metadata": {}
  },
  {
   "outputs": [
    {
     "output_type": "execute_result",
     "data": {
      "text/plain": "generate_parenthesis (generic function with 1 method)"
     },
     "metadata": {},
     "execution_count": 1
    }
   ],
   "cell_type": "code",
   "source": [
    "# @lc code=start\n",
    "using LeetCode\n",
    "\n",
    "function _generate!(p::String, left::Int, right::Int, res::Vector{String})\n",
    "    if right == 0\n",
    "        push!(res, p)\n",
    "    else\n",
    "        if left > 0\n",
    "            _generate!(string(p, \"(\"), left - 1, right, res)\n",
    "        end\n",
    "\n",
    "        if right > left\n",
    "            _generate!(string(p, \")\"), left, right - 1, res)\n",
    "        end\n",
    "    end\n",
    "end\n",
    "\n",
    "function generate_parenthesis(n::Int)::Vector{String}\n",
    "    res = String[]\n",
    "    _generate!(\"\", n, n, res)\n",
    "    return res\n",
    "end\n",
    "\n",
    "\n",
    "# @lc code=end"
   ],
   "metadata": {},
   "execution_count": 1
  },
  {
   "cell_type": "markdown",
   "source": [
    "---\n",
    "\n",
    "*This notebook was generated using [Literate.jl](https://github.com/fredrikekre/Literate.jl).*"
   ],
   "metadata": {}
  }
 ],
 "nbformat_minor": 3,
 "metadata": {
  "language_info": {
   "file_extension": ".jl",
   "mimetype": "application/julia",
   "name": "julia",
   "version": "1.6.1"
  },
  "kernelspec": {
   "name": "julia-1.6",
   "display_name": "Julia 1.6.1",
   "language": "julia"
  }
 },
 "nbformat": 4
}
