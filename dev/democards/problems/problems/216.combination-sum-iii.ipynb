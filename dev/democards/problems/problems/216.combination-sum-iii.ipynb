{
 "cells": [
  {
   "cell_type": "markdown",
   "source": [
    "Find all valid combinations of `k` numbers that sum up to `n` such that the\n",
    "following conditions are true:\n",
    "\n",
    "  * Only numbers `1` through `9` are used.\n",
    "  * Each number is used **at most once**.\n",
    "\n",
    "Return _a list of all possible valid combinations_. The list must not contain\n",
    "the same combination twice, and the combinations may be returned in any order.\n",
    "\n",
    "\n",
    "\n",
    "**Example 1:**\n",
    "\n",
    "\n",
    "\n",
    "    Input: k = 3, n = 7\n",
    "    Output: [[1,2,4]]\n",
    "    Explanation:\n",
    "    1 + 2 + 4 = 7\n",
    "    There are no other valid combinations.\n",
    "\n",
    "**Example 2:**\n",
    "\n",
    "\n",
    "\n",
    "    Input: k = 3, n = 9\n",
    "    Output: [[1,2,6],[1,3,5],[2,3,4]]\n",
    "    Explanation:\n",
    "    1 + 2 + 6 = 9\n",
    "    1 + 3 + 5 = 9\n",
    "    2 + 3 + 4 = 9\n",
    "    There are no other valid combinations.\n",
    "\n",
    "\n",
    "**Example 3:**\n",
    "\n",
    "\n",
    "\n",
    "    Input: k = 4, n = 1\n",
    "    Output: []\n",
    "    Explanation: There are no valid combinations. [1,2,1] is not valid because 1 is used twice.\n",
    "\n",
    "\n",
    "**Example 4:**\n",
    "\n",
    "\n",
    "\n",
    "    Input: k = 3, n = 2\n",
    "    Output: []\n",
    "    Explanation: There are no valid combinations.\n",
    "\n",
    "\n",
    "**Example 5:**\n",
    "\n",
    "\n",
    "\n",
    "    Input: k = 9, n = 45\n",
    "    Output: [[1,2,3,4,5,6,7,8,9]]\n",
    "    Explanation:\n",
    "    1 + 2 + 3 + 4 + 5 + 6 + 7 + 8 + 9 = 45\n",
    "    ​​​​​​​There are no other valid combinations.\n",
    "\n",
    "\n",
    "\n",
    "\n",
    "**Constraints:**\n",
    "\n",
    "  * `2 <= k <= 9`\n",
    "  * `1 <= n <= 60`"
   ],
   "metadata": {}
  },
  {
   "outputs": [
    {
     "output_type": "execute_result",
     "data": {
      "text/plain": "combination_sum3 (generic function with 1 method)"
     },
     "metadata": {},
     "execution_count": 1
    }
   ],
   "cell_type": "code",
   "source": [
    "# @lc code=start\n",
    "using LeetCode\n",
    "\n",
    "function combination_sum3(k::Int, n::Int)\n",
    "    function combination_sum3(k::Int, n::Int, s::Int)::Vector{Vector{Int}}\n",
    "        if s + k - 1 > 9 || sum(s:(s + k - 1)) > n\n",
    "            return []\n",
    "        elseif k == 1 && s == n\n",
    "            return [[n]]\n",
    "        end\n",
    "        choose_s = combination_sum3(k - 1, n - s, s + 1)\n",
    "        notchoose_s = combination_sum3(k, n, s + 1)\n",
    "        return [[[s, cs...] for cs in choose_s]..., notchoose_s...]\n",
    "    end\n",
    "    return combination_sum3(k, n, 1)\n",
    "end\n",
    "# @lc code=end"
   ],
   "metadata": {},
   "execution_count": 1
  },
  {
   "cell_type": "markdown",
   "source": [
    "---\n",
    "\n",
    "*This notebook was generated using [Literate.jl](https://github.com/fredrikekre/Literate.jl).*"
   ],
   "metadata": {}
  }
 ],
 "nbformat_minor": 3,
 "metadata": {
  "language_info": {
   "file_extension": ".jl",
   "mimetype": "application/julia",
   "name": "julia",
   "version": "1.6.4"
  },
  "kernelspec": {
   "name": "julia-1.6",
   "display_name": "Julia 1.6.4",
   "language": "julia"
  }
 },
 "nbformat": 4
}
