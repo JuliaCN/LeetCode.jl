{
 "cells": [
  {
   "cell_type": "markdown",
   "source": [
    "Given an array `nums` of _n_ integers and an integer `target`, find three\n",
    "integers in `nums` such that the sum is closest to `target`. Return the sum of\n",
    "the three integers. You may assume that each input would have exactly one\n",
    "solution.\n",
    "\n",
    "\n",
    "\n",
    "**Example 1:**\n",
    "\n",
    "\n",
    "\n",
    "    Input: nums = [-1,2,1,-4], target = 1\n",
    "    Output: 2\n",
    "    Explanation: The sum that is closest to the target is 2. (-1 + 2 + 1 = 2).\n",
    "\n",
    "\n",
    "\n",
    "\n",
    "**Constraints:**\n",
    "\n",
    "  * `3 <= nums.length <= 10^3`\n",
    "  * `-10^3 <= nums[i] <= 10^3`\n",
    "  * `-10^4 <= target <= 10^4`"
   ],
   "metadata": {}
  },
  {
   "outputs": [
    {
     "output_type": "execute_result",
     "data": {
      "text/plain": "three_sum_closest! (generic function with 1 method)"
     },
     "metadata": {},
     "execution_count": 1
    }
   ],
   "cell_type": "code",
   "source": [
    "# @lc code=start\n",
    "using LeetCode\n",
    "\n",
    "three_sum_closest(nums::Vector{Int}, target::Int) = three_sum_closest!(copy(nums), target)\n",
    "function three_sum_closest!(nums::Vector{Int}, target::Int)::Int\n",
    "    mindiff, n, res = Inf, length(sort!(nums)), 0\n",
    "    for (i, first) in enumerate(nums)\n",
    "        i > 1 && nums[i - 1] == first && continue\n",
    "        left, right, newtarget = i + 1, n, target - first\n",
    "        while left < right\n",
    "            newsum = nums[left] + nums[right]\n",
    "            newdiff = abs(newsum - newtarget)\n",
    "            if newdiff < mindiff ## updates minimal difference\n",
    "                newdiff == 0 && return target\n",
    "                mindiff, res = newdiff, newsum + first\n",
    "            elseif newsum > newtarget\n",
    "                right -= 1\n",
    "            else\n",
    "                left += 1\n",
    "            end\n",
    "        end\n",
    "    end\n",
    "    return res\n",
    "end\n",
    "# @lc code=end"
   ],
   "metadata": {},
   "execution_count": 1
  },
  {
   "cell_type": "markdown",
   "source": [
    "---\n",
    "\n",
    "*This notebook was generated using [Literate.jl](https://github.com/fredrikekre/Literate.jl).*"
   ],
   "metadata": {}
  }
 ],
 "nbformat_minor": 3,
 "metadata": {
  "language_info": {
   "file_extension": ".jl",
   "mimetype": "application/julia",
   "name": "julia",
   "version": "1.11.6"
  },
  "kernelspec": {
   "name": "julia-1.11",
   "display_name": "Julia 1.11.6",
   "language": "julia"
  }
 },
 "nbformat": 4
}
