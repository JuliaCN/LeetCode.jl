{
 "cells": [
  {
   "cell_type": "markdown",
   "source": [
    "A zero-indexed array A of length N contains all integers from 0 to N-1. Find\n",
    "and return the longest length of set S, where S[i] = {A[i], A[A[i]],\n",
    "A[A[A[i]]], ... } subjected to the rule below.\n",
    "\n",
    "Suppose the first element in S starts with the selection of element A[i] of\n",
    "index = i, the next element in S should be A[A[i]], and then A[A[A[i]]]… By\n",
    "that analogy, we stop adding right before a duplicate element occurs in S.\n",
    "\n",
    "\n",
    "\n",
    "**Example 1:**\n",
    "\n",
    "\n",
    "\n",
    "    Input: A = [5,4,0,3,1,6,2]\n",
    "    Output: 4\n",
    "    Explanation:\n",
    "    A[0] = 5, A[1] = 4, A[2] = 0, A[3] = 3, A[4] = 1, A[5] = 6, A[6] = 2.\n",
    "\n",
    "    One of the longest S[K]:\n",
    "    S[0] = {A[0], A[5], A[6], A[2]} = {5, 6, 2, 0}\n",
    "\n",
    "\n",
    "\n",
    "\n",
    "**Note:**\n",
    "\n",
    "  1. N is an integer within the range [1, 20,000].\n",
    "  2. The elements of A are all distinct.\n",
    "  3. Each element of A is an integer within the range [0, N-1]."
   ],
   "metadata": {}
  },
  {
   "outputs": [
    {
     "output_type": "execute_result",
     "data": {
      "text/plain": "array_nesting (generic function with 1 method)"
     },
     "metadata": {},
     "execution_count": 1
    }
   ],
   "cell_type": "code",
   "source": [
    "# @lc code=start\n",
    "using LeetCode\n",
    "\n",
    "function array_nesting(nums::Vector{Int})\n",
    "    visited = fill(false, length(nums))\n",
    "    res = 0\n",
    "    for (idx, num) in enumerate(nums)\n",
    "        num += 1\n",
    "        visited[idx] && continue\n",
    "        tmp = 1\n",
    "        visited[idx] = true\n",
    "        while !visited[num]\n",
    "            visited[num] = true\n",
    "            num = nums[num] + 1\n",
    "            tmp += 1\n",
    "        end\n",
    "        res = max(res, tmp)\n",
    "    end\n",
    "    return res\n",
    "end\n",
    "# @lc code=end"
   ],
   "metadata": {},
   "execution_count": 1
  },
  {
   "cell_type": "markdown",
   "source": [
    "---\n",
    "\n",
    "*This notebook was generated using [Literate.jl](https://github.com/fredrikekre/Literate.jl).*"
   ],
   "metadata": {}
  }
 ],
 "nbformat_minor": 3,
 "metadata": {
  "language_info": {
   "file_extension": ".jl",
   "mimetype": "application/julia",
   "name": "julia",
   "version": "1.6.1"
  },
  "kernelspec": {
   "name": "julia-1.6",
   "display_name": "Julia 1.6.1",
   "language": "julia"
  }
 },
 "nbformat": 4
}
