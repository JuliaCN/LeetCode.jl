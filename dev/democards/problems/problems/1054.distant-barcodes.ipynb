{
 "cells": [
  {
   "cell_type": "markdown",
   "source": [
    "In a warehouse, there is a row of barcodes, where the `ith` barcode is\n",
    "`barcodes[i]`.\n",
    "\n",
    "Rearrange the barcodes so that no two adjacent barcodes are equal. You may\n",
    "return any answer, and it is guaranteed an answer exists.\n",
    "\n",
    "\n",
    "\n",
    "**Example 1:**\n",
    "\n",
    "\n",
    "\n",
    "    Input: barcodes = [1,1,1,2,2,2]\n",
    "    Output: [2,1,2,1,2,1]\n",
    "\n",
    "\n",
    "**Example 2:**\n",
    "\n",
    "\n",
    "\n",
    "    Input: barcodes = [1,1,1,1,2,2,3,3]\n",
    "    Output: [1,3,1,3,1,2,1,2]\n",
    "\n",
    "\n",
    "\n",
    "\n",
    "**Constraints:**\n",
    "\n",
    "  * `1 <= barcodes.length <= 10000`\n",
    "  * `1 <= barcodes[i] <= 10000`"
   ],
   "metadata": {}
  },
  {
   "outputs": [
    {
     "output_type": "execute_result",
     "data": {
      "text/plain": "rearrange_barcodes (generic function with 1 method)"
     },
     "metadata": {},
     "execution_count": 1
    }
   ],
   "cell_type": "code",
   "source": [
    "# @lc code=start\n",
    "using LeetCode\n",
    "\n",
    "function rearrange_barcodes(barcodes::Vector{Int})\n",
    "    len = length(barcodes)\n",
    "    res = zeros(Int, len)\n",
    "    cnt = counter(barcodes)\n",
    "    hp = heapify!([(v, k) for (k, v) in cnt])\n",
    "    idx = 1\n",
    "    while !isempty(hp)\n",
    "        v, k = heappop!(hp)\n",
    "        for _ in 1:v\n",
    "            res[idx] = k\n",
    "            idx += 2\n",
    "            idx > len && (idx = 2)\n",
    "        end\n",
    "    end\n",
    "    return res\n",
    "end\n",
    "# @lc code=end"
   ],
   "metadata": {},
   "execution_count": 1
  },
  {
   "cell_type": "markdown",
   "source": [
    "---\n",
    "\n",
    "*This notebook was generated using [Literate.jl](https://github.com/fredrikekre/Literate.jl).*"
   ],
   "metadata": {}
  }
 ],
 "nbformat_minor": 3,
 "metadata": {
  "language_info": {
   "file_extension": ".jl",
   "mimetype": "application/julia",
   "name": "julia",
   "version": "1.10.4"
  },
  "kernelspec": {
   "name": "julia-1.10",
   "display_name": "Julia 1.10.4",
   "language": "julia"
  }
 },
 "nbformat": 4
}
