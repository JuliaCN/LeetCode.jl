{
 "cells": [
  {
   "cell_type": "markdown",
   "source": [
    "There is a brick wall in front of you. The wall is rectangular and has several\n",
    "rows of bricks. The bricks have the same height but different width. You want\n",
    "to draw a vertical line from the **top** to the **bottom** and cross the\n",
    "**least** bricks.\n",
    "\n",
    "The brick wall is represented by a list of rows. Each row is a list of\n",
    "integers representing the width of each brick in this row from left to right.\n",
    "\n",
    "If your line go through the edge of a brick, then the brick is not considered\n",
    "as crossed. You need to find out how to draw the line to cross the least\n",
    "bricks and return the number of crossed bricks.\n",
    "\n",
    "**You cannot draw a line just along one of the two vertical edges of the wall,\n",
    "in which case the line will obviously cross no bricks.**\n",
    "\n",
    "\n",
    "\n",
    "**Example:**\n",
    "\n",
    "\n",
    "\n",
    "    Input: [[1,2,2,1],\n",
    "            [3,1,2],\n",
    "            [1,3,2],\n",
    "            [2,4],\n",
    "            [3,1,2],\n",
    "            [1,3,1,1]]\n",
    "\n",
    "    Output: 2\n",
    "\n",
    "    Explanation:\n",
    "    ![](https://assets.leetcode.com/uploads/2018/10/12/brick_wall.png)\n",
    "\n",
    "\n",
    "\n",
    "\n",
    "**Note:**\n",
    "\n",
    "  1. The width sum of bricks in different rows are the same and won't exceed INT_MAX.\n",
    "  2. The number of bricks in each row is in range [1,10,000]. The height of wall is in range [1,10,000]. Total number of bricks of the wall won't exceed 20,000."
   ],
   "metadata": {}
  },
  {
   "outputs": [
    {
     "output_type": "execute_result",
     "data": {
      "text/plain": "least_bricks (generic function with 1 method)"
     },
     "metadata": {},
     "execution_count": 1
    }
   ],
   "cell_type": "code",
   "source": [
    "# @lc code=start\n",
    "using LeetCode\n",
    "\n",
    "function least_bricks(wall::Vector{Vector{Int}})\n",
    "    tb = Dict{Int, Int}()\n",
    "    for row in wall\n",
    "        acc = 0\n",
    "        for i in @view(row[1:end-1])\n",
    "            acc += i\n",
    "            haskey(tb, acc) ? tb[acc] += 1 : tb[acc] = 1\n",
    "        end\n",
    "    end\n",
    "    isempty(tb) && return length(wall)\n",
    "    length(wall) - maximum(values(tb))\n",
    "end\n",
    "# @lc code=end"
   ],
   "metadata": {},
   "execution_count": 1
  },
  {
   "cell_type": "markdown",
   "source": [
    "---\n",
    "\n",
    "*This notebook was generated using [Literate.jl](https://github.com/fredrikekre/Literate.jl).*"
   ],
   "metadata": {}
  }
 ],
 "nbformat_minor": 3,
 "metadata": {
  "language_info": {
   "file_extension": ".jl",
   "mimetype": "application/julia",
   "name": "julia",
   "version": "1.6.1"
  },
  "kernelspec": {
   "name": "julia-1.6",
   "display_name": "Julia 1.6.1",
   "language": "julia"
  }
 },
 "nbformat": 4
}
