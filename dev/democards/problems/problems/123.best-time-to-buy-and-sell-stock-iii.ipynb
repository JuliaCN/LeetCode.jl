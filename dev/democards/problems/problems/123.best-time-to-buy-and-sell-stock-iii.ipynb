{
 "cells": [
  {
   "cell_type": "markdown",
   "source": [
    "Say you have an array for which the _i_ th element is the price of a given\n",
    "stock on day _i_.\n",
    "\n",
    "Design an algorithm to find the maximum profit. You may complete at most _two_\n",
    "transactions.\n",
    "\n",
    "**Note:  **You may not engage in multiple transactions at the same time (i.e.,\n",
    "you must sell the stock before you buy again).\n",
    "\n",
    "\n",
    "\n",
    "**Example 1:**\n",
    "\n",
    "\n",
    "\n",
    "    Input: prices = [3,3,5,0,0,3,1,4]\n",
    "    Output: 6\n",
    "    Explanation: Buy on day 4 (price = 0) and sell on day 6 (price = 3), profit = 3-0 = 3.\n",
    "    Then buy on day 7 (price = 1) and sell on day 8 (price = 4), profit = 4-1 = 3.\n",
    "\n",
    "**Example 2:**\n",
    "\n",
    "\n",
    "\n",
    "    Input: prices = [1,2,3,4,5]\n",
    "    Output: 4\n",
    "    Explanation: Buy on day 1 (price = 1) and sell on day 5 (price = 5), profit = 5-1 = 4.\n",
    "    Note that you cannot buy on day 1, buy on day 2 and sell them later, as you are engaging multiple transactions at the same time. You must sell before buying again.\n",
    "\n",
    "\n",
    "**Example 3:**\n",
    "\n",
    "\n",
    "\n",
    "    Input: prices = [7,6,4,3,1]\n",
    "    Output: 0\n",
    "    Explanation: In this case, no transaction is done, i.e. max profit = 0.\n",
    "\n",
    "\n",
    "**Example 4:**\n",
    "\n",
    "\n",
    "\n",
    "    Input: prices = [1]\n",
    "    Output: 0\n",
    "\n",
    "\n",
    "\n",
    "\n",
    "**Constraints:**\n",
    "\n",
    "  * `1 <= prices.length <= 105`\n",
    "  * `0 <= prices[i] <= 105`"
   ],
   "metadata": {}
  },
  {
   "outputs": [
    {
     "output_type": "execute_result",
     "data": {
      "text/plain": "max_profit_iii (generic function with 1 method)"
     },
     "metadata": {},
     "execution_count": 1
    }
   ],
   "cell_type": "code",
   "source": [
    "# @lc code=start\n",
    "using LeetCode\n",
    "\n",
    "function max_profit_iii(prices::Vector{Int})::Int\n",
    "    sell1 = sell2 = 0\n",
    "    buy2 = buy1 = -prices[1]\n",
    "    for i in 2:length(prices)\n",
    "        sell2 = max(buy2 + prices[i], sell2)\n",
    "        buy2 = max(sell1 - prices[i], buy2)\n",
    "        sell1 = max(buy1 + prices[i], sell1)\n",
    "        buy1 = max(buy1, -prices[i])\n",
    "    end\n",
    "    sell2\n",
    "end\n",
    "# @lc code=end"
   ],
   "metadata": {},
   "execution_count": 1
  },
  {
   "cell_type": "markdown",
   "source": [
    "---\n",
    "\n",
    "*This notebook was generated using [Literate.jl](https://github.com/fredrikekre/Literate.jl).*"
   ],
   "metadata": {}
  }
 ],
 "nbformat_minor": 3,
 "metadata": {
  "language_info": {
   "file_extension": ".jl",
   "mimetype": "application/julia",
   "name": "julia",
   "version": "1.8.0"
  },
  "kernelspec": {
   "name": "julia-1.8",
   "display_name": "Julia 1.8.0",
   "language": "julia"
  }
 },
 "nbformat": 4
}
