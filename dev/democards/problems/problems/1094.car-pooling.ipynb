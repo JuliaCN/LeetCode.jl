{
 "cells": [
  {
   "cell_type": "markdown",
   "source": [
    "You are driving a vehicle that has `capacity` empty seats initially available\n",
    "for passengers.  The vehicle **only** drives east (ie. it **cannot** turn\n",
    "around and drive west.)\n",
    "\n",
    "Given a list of `trips`, `trip[i] = [num_passengers, start_location,\n",
    "end_location]` contains information about the `i`-th trip: the number of\n",
    "passengers that must be picked up, and the locations to pick them up and drop\n",
    "them off.  The locations are given as the number of kilometers due east from\n",
    "your vehicle's initial location.\n",
    "\n",
    "Return `true` if and only if it is possible to pick up and drop off all\n",
    "passengers for all the given trips.\n",
    "\n",
    "\n",
    "\n",
    "**Example 1:**\n",
    "\n",
    "\n",
    "\n",
    "    Input: trips = [[2,1,5],[3,3,7]], capacity = 4\n",
    "    Output: false\n",
    "\n",
    "\n",
    "**Example 2:**\n",
    "\n",
    "\n",
    "\n",
    "    Input: trips = [[2,1,5],[3,3,7]], capacity = 5\n",
    "    Output: true\n",
    "\n",
    "\n",
    "**Example 3:**\n",
    "\n",
    "\n",
    "\n",
    "    Input: trips = [[2,1,5],[3,5,7]], capacity = 3\n",
    "    Output: true\n",
    "\n",
    "\n",
    "**Example 4:**\n",
    "\n",
    "\n",
    "\n",
    "    Input: trips = [[3,2,7],[3,7,9],[8,3,9]], capacity = 11\n",
    "    Output: true\n",
    "\n",
    "\n",
    "\n",
    "\n",
    "\n",
    "\n",
    "**Constraints:**\n",
    "\n",
    "  1. `trips.length <= 1000`\n",
    "  2. `trips[i].length == 3`\n",
    "  3. `1 <= trips[i][0] <= 100`\n",
    "  4. `0 <= trips[i][1] < trips[i][2] <= 1000`\n",
    "  5. `1 <= capacity <= 100000`"
   ],
   "metadata": {}
  },
  {
   "outputs": [
    {
     "output_type": "execute_result",
     "data": {
      "text/plain": "car_pooling (generic function with 1 method)"
     },
     "metadata": {},
     "execution_count": 1
    }
   ],
   "cell_type": "code",
   "source": [
    "# @lc code=start\n",
    "using LeetCode\n",
    "\n",
    "function car_pooling(trips::Vector{Vector{Int}}, cap::Int)::Bool\n",
    "    sort!(trips; by = x -> x[2])\n",
    "    hp = Tuple{Int, Int}[]\n",
    "    res = 0\n",
    "    for trip in trips\n",
    "        heappush!(hp, (trip[3], trip[1]))\n",
    "        res += trip[1]\n",
    "        hp[1][1] <= trip[2] && (res -= heappop!(hp)[1])\n",
    "        res > cap && return false\n",
    "    end\n",
    "    true\n",
    "end\n",
    "# @lc code=end"
   ],
   "metadata": {},
   "execution_count": 1
  },
  {
   "cell_type": "markdown",
   "source": [
    "---\n",
    "\n",
    "*This notebook was generated using [Literate.jl](https://github.com/fredrikekre/Literate.jl).*"
   ],
   "metadata": {}
  }
 ],
 "nbformat_minor": 3,
 "metadata": {
  "language_info": {
   "file_extension": ".jl",
   "mimetype": "application/julia",
   "name": "julia",
   "version": "1.10.4"
  },
  "kernelspec": {
   "name": "julia-1.10",
   "display_name": "Julia 1.10.4",
   "language": "julia"
  }
 },
 "nbformat": 4
}
