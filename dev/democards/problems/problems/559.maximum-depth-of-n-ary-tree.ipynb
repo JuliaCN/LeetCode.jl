{
 "cells": [
  {
   "cell_type": "markdown",
   "source": [
    "Given a n-ary tree, find its maximum depth.\n",
    "\n",
    "The maximum depth is the number of nodes along the longest path from the root\n",
    "node down to the farthest leaf node.\n",
    "\n",
    "_Nary-Tree input serialization  is represented in their level order traversal,\n",
    "each group of children is separated by the null value (See examples)._\n",
    "\n",
    "\n",
    "\n",
    "**Example 1:**\n",
    "\n",
    "![](https://assets.leetcode.com/uploads/2018/10/12/narytreeexample.png)\n",
    "\n",
    "\n",
    "\n",
    "    Input: root = [1,null,3,2,4,null,5,6]\n",
    "    Output: 3\n",
    "\n",
    "\n",
    "**Example 2:**\n",
    "\n",
    "![](https://assets.leetcode.com/uploads/2019/11/08/sample_4_964.png)\n",
    "\n",
    "\n",
    "\n",
    "    Input: root = [1,null,2,3,4,5,null,null,6,7,null,8,null,9,10,null,null,11,null,12,null,13,null,null,14]\n",
    "    Output: 5\n",
    "\n",
    "\n",
    "\n",
    "\n",
    "**Constraints:**\n",
    "\n",
    "  * The depth of the n-ary tree is less than or equal to `1000`.\n",
    "  * The total number of nodes is between `[0, 104]`."
   ],
   "metadata": {}
  },
  {
   "outputs": [
    {
     "output_type": "execute_result",
     "data": {
      "text/plain": "max_depth_559 (generic function with 1 method)"
     },
     "metadata": {},
     "execution_count": 1
    }
   ],
   "cell_type": "code",
   "source": [
    "# @lc code=start\n",
    "using LeetCode\n",
    "\n",
    "function max_depth_559(tree::Vector{Vector{Int}})\n",
    "    isempty(tree) && return 0\n",
    "    q = Queue{Tuple{Int, Int}}()\n",
    "    enqueue!(q, (1, 1))\n",
    "    res = 1\n",
    "    while !isempty(q)\n",
    "        frt = dequeue!(q)\n",
    "        res = frt[2]\n",
    "        for son in tree[frt[1]]\n",
    "            enqueue!(q, (son, res + 1))\n",
    "        end\n",
    "    end\n",
    "    res\n",
    "end\n",
    "# @lc code=end"
   ],
   "metadata": {},
   "execution_count": 1
  },
  {
   "cell_type": "markdown",
   "source": [
    "---\n",
    "\n",
    "*This notebook was generated using [Literate.jl](https://github.com/fredrikekre/Literate.jl).*"
   ],
   "metadata": {}
  }
 ],
 "nbformat_minor": 3,
 "metadata": {
  "language_info": {
   "file_extension": ".jl",
   "mimetype": "application/julia",
   "name": "julia",
   "version": "1.8.2"
  },
  "kernelspec": {
   "name": "julia-1.8",
   "display_name": "Julia 1.8.2",
   "language": "julia"
  }
 },
 "nbformat": 4
}
