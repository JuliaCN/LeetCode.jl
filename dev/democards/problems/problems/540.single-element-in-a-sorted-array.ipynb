{
 "cells": [
  {
   "cell_type": "markdown",
   "source": [
    "You are given a sorted array consisting of only integers where every element\n",
    "appears exactly twice, except for one element which appears exactly once. Find\n",
    "this single element that appears only once.\n",
    "\n",
    "**Follow up:** Your solution should run in O(log n) time and O(1) space.\n",
    "\n",
    "\n",
    "\n",
    "**Example 1:**\n",
    "\n",
    "\n",
    "\n",
    "    Input: nums = [1,1,2,3,3,4,4,8,8]\n",
    "    Output: 2\n",
    "\n",
    "\n",
    "**Example 2:**\n",
    "\n",
    "\n",
    "\n",
    "    Input: nums = [3,3,7,7,10,11,11]\n",
    "    Output: 10\n",
    "\n",
    "\n",
    "\n",
    "\n",
    "**Constraints:**\n",
    "\n",
    "  * `1 <= nums.length <= 10^5`\n",
    "  * `0 <= nums[i] <= 10^5`"
   ],
   "metadata": {}
  },
  {
   "outputs": [
    {
     "output_type": "execute_result",
     "data": {
      "text/plain": "single_non_duplicate (generic function with 1 method)"
     },
     "metadata": {},
     "execution_count": 1
    }
   ],
   "cell_type": "code",
   "source": [
    "# @lc code=start\n",
    "using LeetCode\n",
    "\n",
    "function single_non_duplicate(nums::Vector{Int})\n",
    "    i, j = 1, length(nums)\n",
    "    while i < j\n",
    "        mid = (i + j) >> 1\n",
    "        if isodd(mid)\n",
    "            nums[mid] == nums[mid + 1] ? (i = mid + 2) : (j = mid)\n",
    "        else\n",
    "            nums[mid] == nums[mid + 1] ? (j = mid - 1) : (i = mid + 1)\n",
    "        end\n",
    "    end\n",
    "    return nums[i]\n",
    "end\n",
    "# @lc code=end"
   ],
   "metadata": {},
   "execution_count": 1
  },
  {
   "cell_type": "markdown",
   "source": [
    "---\n",
    "\n",
    "*This notebook was generated using [Literate.jl](https://github.com/fredrikekre/Literate.jl).*"
   ],
   "metadata": {}
  }
 ],
 "nbformat_minor": 3,
 "metadata": {
  "language_info": {
   "file_extension": ".jl",
   "mimetype": "application/julia",
   "name": "julia",
   "version": "1.8.2"
  },
  "kernelspec": {
   "name": "julia-1.8",
   "display_name": "Julia 1.8.2",
   "language": "julia"
  }
 },
 "nbformat": 4
}
