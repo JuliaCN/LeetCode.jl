{
 "cells": [
  {
   "cell_type": "markdown",
   "source": [
    "The demons had captured the princess ( **P** ) and imprisoned her in the\n",
    "bottom-right corner of a dungeon. The dungeon consists of M x N rooms laid out\n",
    "in a 2D grid. Our valiant knight ( **K** ) was initially positioned in the\n",
    "top-left room and must fight his way through the dungeon to rescue the\n",
    "princess.\n",
    "\n",
    "The knight has an initial health point represented by a positive integer. If\n",
    "at any point his health point drops to 0 or below, he dies immediately.\n",
    "\n",
    "Some of the rooms are guarded by demons, so the knight loses health (\n",
    "_negative_ integers) upon entering these rooms; other rooms are either empty (\n",
    "_0 's_) or contain magic orbs that increase the knight's health ( _positive_\n",
    "integers).\n",
    "\n",
    "In order to reach the princess as quickly as possible, the knight decides to\n",
    "move only rightward or downward in each step.\n",
    "\n",
    "\n",
    "\n",
    "**Write a function to determine the knight 's minimum initial health so that\n",
    "he is able to rescue the princess.**\n",
    "\n",
    "For example, given the dungeon below, the initial health of the knight must be\n",
    "at least **7** if he follows the optimal path `RIGHT-> RIGHT -> DOWN -> DOWN`.\n",
    "\n",
    "-2 (K) | -3 | 3\n",
    "---|---|---\n",
    "-5 | -10 | 1\n",
    "10 | 30 | -5 (P)\n",
    "\n",
    "\n",
    "\n",
    "**Note:**\n",
    "\n",
    "  * The knight's health has no upper bound.\n",
    "  * Any room can contain threats or power-ups, even the first room the knight enters and the bottom-right room where the princess is imprisoned."
   ],
   "metadata": {}
  },
  {
   "outputs": [
    {
     "output_type": "execute_result",
     "data": {
      "text/plain": "calculate_minimum_hp (generic function with 1 method)"
     },
     "metadata": {},
     "execution_count": 1
    }
   ],
   "cell_type": "code",
   "source": [
    "# @lc code=start\n",
    "using LeetCode\n",
    "\n",
    "function calculate_minimum_hp(dungeon::Vector{Vector{Int}})\n",
    "    m, n = length(dungeon), length(dungeon[1])\n",
    "    dp = fill(typemax(Int) , m + 1, n + 1)\n",
    "    dp[m+1, n] = dp[m, n+1] = 1\n",
    "    for j in n:-1:1\n",
    "        for i in m:-1:1\n",
    "            dp[i, j] = max(min(dp[i+1, j], dp[i, j+1]) - dungeon[i][j], 1)\n",
    "        end\n",
    "    end\n",
    "    dp[1, 1]\n",
    "end\n",
    "# @lc code=end"
   ],
   "metadata": {},
   "execution_count": 1
  },
  {
   "cell_type": "markdown",
   "source": [
    "---\n",
    "\n",
    "*This notebook was generated using [Literate.jl](https://github.com/fredrikekre/Literate.jl).*"
   ],
   "metadata": {}
  }
 ],
 "nbformat_minor": 3,
 "metadata": {
  "language_info": {
   "file_extension": ".jl",
   "mimetype": "application/julia",
   "name": "julia",
   "version": "1.10.1"
  },
  "kernelspec": {
   "name": "julia-1.10",
   "display_name": "Julia 1.10.1",
   "language": "julia"
  }
 },
 "nbformat": 4
}
