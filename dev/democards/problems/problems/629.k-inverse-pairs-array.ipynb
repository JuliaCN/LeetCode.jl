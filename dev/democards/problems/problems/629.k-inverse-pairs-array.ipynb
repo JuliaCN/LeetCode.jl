{
 "cells": [
  {
   "cell_type": "markdown",
   "source": [
    "Given two integers `n` and `k`, find how many different arrays consist of\n",
    "numbers from `1` to `n` such that there are exactly `k` inverse pairs.\n",
    "\n",
    "We define an inverse pair as following: For `ith` and `jth` element in the\n",
    "array, if `i` < `j` and `a[i]` > `a[j]` then it's an inverse pair; Otherwise,\n",
    "it's not.\n",
    "\n",
    "Since the answer may be very large, the answer should be modulo 109 \\+ 7.\n",
    "\n",
    "**Example 1:**\n",
    "\n",
    "\n",
    "\n",
    "    Input: n = 3, k = 0\n",
    "    Output: 1\n",
    "    Explanation:\n",
    "    Only the array [1,2,3] which consists of numbers from 1 to 3 has exactly 0 inverse pair.\n",
    "\n",
    "\n",
    "\n",
    "\n",
    "**Example 2:**\n",
    "\n",
    "\n",
    "\n",
    "    Input: n = 3, k = 1\n",
    "    Output: 2\n",
    "    Explanation:\n",
    "    The array [1,3,2] and [2,1,3] have exactly 1 inverse pair.\n",
    "\n",
    "\n",
    "\n",
    "\n",
    "**Note:**\n",
    "\n",
    "  1. The integer `n` is in the range [1, 1000] and `k` is in the range [0, 1000]."
   ],
   "metadata": {}
  },
  {
   "outputs": [
    {
     "output_type": "execute_result",
     "data": {
      "text/plain": "k_inverse_pairs (generic function with 1 method)"
     },
     "metadata": {},
     "execution_count": 1
    }
   ],
   "cell_type": "code",
   "source": [
    "# @lc code=start\n",
    "using LeetCode\n",
    "\n",
    "function k_inverse_pairs(n::Int, k::Int)\n",
    "    dp = OffsetArray(fill(0, n + 1, k + 1), -1, -1)\n",
    "    dp[:, 0] .= 1\n",
    "    m = 1000000007\n",
    "    @inbounds for i in 1:n, j in 1:min(k, i * (i - 1) ÷ 2)\n",
    "        val = dp[i - 1, j] - ((j - i) >= 0 ? dp[i - 1, j - i] : 0)\n",
    "        dp[i, j] = (dp[i, j - 1] + val) % m\n",
    "    end\n",
    "    return (dp[n, k] + m) % m\n",
    "end\n",
    "# @lc code=end"
   ],
   "metadata": {},
   "execution_count": 1
  },
  {
   "cell_type": "markdown",
   "source": [
    "---\n",
    "\n",
    "*This notebook was generated using [Literate.jl](https://github.com/fredrikekre/Literate.jl).*"
   ],
   "metadata": {}
  }
 ],
 "nbformat_minor": 3,
 "metadata": {
  "language_info": {
   "file_extension": ".jl",
   "mimetype": "application/julia",
   "name": "julia",
   "version": "1.10.4"
  },
  "kernelspec": {
   "name": "julia-1.10",
   "display_name": "Julia 1.10.4",
   "language": "julia"
  }
 },
 "nbformat": 4
}
