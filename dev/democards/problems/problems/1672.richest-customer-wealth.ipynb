{
 "cells": [
  {
   "cell_type": "markdown",
   "source": [
    "You are given an `m x n` integer grid `accounts` where `accounts[i][j]` is the\n",
    "amount of money the `i​​​​​​​​​​​th​​​​` customer has in the\n",
    "`j​​​​​​​​​​​th`​​​​ bank. Return _the **wealth** that the richest customer\n",
    "has._\n",
    "\n",
    "A customer's **wealth** is the amount of money they have in all their bank\n",
    "accounts. The richest customer is the customer that has the maximum\n",
    "**wealth**.\n",
    "\n",
    "\n",
    "\n",
    "**Example 1:**\n",
    "\n",
    "\n",
    "\n",
    "    Input: accounts = [[1,2,3],[3,2,1]]\n",
    "    Output: 6\n",
    "    **Explanation** **:**\n",
    "    1st customer has wealth = 1 + 2 + 3 = 6\n",
    "    2nd customer has wealth = 3 + 2 + 1 = 6\n",
    "    Both customers are considered the richest with a wealth of 6 each, so return 6.\n",
    "\n",
    "\n",
    "**Example 2:**\n",
    "\n",
    "\n",
    "\n",
    "    Input: accounts = [[1,5],[7,3],[3,5]]\n",
    "    Output: 10\n",
    "    **Explanation** :\n",
    "    1st customer has wealth = 6\n",
    "    2nd customer has wealth = 10\n",
    "    3rd customer has wealth = 8\n",
    "    The 2nd customer is the richest with a wealth of 10.\n",
    "\n",
    "**Example 3:**\n",
    "\n",
    "\n",
    "\n",
    "    Input: accounts = [[2,8,7],[7,1,3],[1,9,5]]\n",
    "    Output: 17\n",
    "\n",
    "\n",
    "\n",
    "\n",
    "**Constraints:**\n",
    "\n",
    "  * `m == accounts.length`\n",
    "  * `n == accounts[i].length`\n",
    "  * `1 <= m, n <= 50`\n",
    "  * `1 <= accounts[i][j] <= 100`"
   ],
   "metadata": {}
  },
  {
   "outputs": [
    {
     "output_type": "execute_result",
     "data": {
      "text/plain": "maximumWealth (generic function with 1 method)"
     },
     "metadata": {},
     "execution_count": 1
    }
   ],
   "cell_type": "code",
   "source": [
    "# @lc code=start\n",
    "using LeetCode\n",
    "\n",
    "function maximumWealth(accounts::Array{<:Integer,2})::Int\n",
    "    return maximum(sum(accounts; dims=2))\n",
    "end\n",
    "\n",
    "# @lc code=end"
   ],
   "metadata": {},
   "execution_count": 1
  },
  {
   "cell_type": "markdown",
   "source": [
    "---\n",
    "\n",
    "*This notebook was generated using [Literate.jl](https://github.com/fredrikekre/Literate.jl).*"
   ],
   "metadata": {}
  }
 ],
 "nbformat_minor": 3,
 "metadata": {
  "language_info": {
   "file_extension": ".jl",
   "mimetype": "application/julia",
   "name": "julia",
   "version": "1.11.6"
  },
  "kernelspec": {
   "name": "julia-1.11",
   "display_name": "Julia 1.11.6",
   "language": "julia"
  }
 },
 "nbformat": 4
}
