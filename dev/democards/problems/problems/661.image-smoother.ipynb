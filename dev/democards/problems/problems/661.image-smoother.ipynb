{
 "cells": [
  {
   "cell_type": "markdown",
   "source": [
    "Given a 2D integer matrix M representing the gray scale of an image, you need\n",
    "to design a smoother to make the gray scale of each cell becomes the average\n",
    "gray scale (rounding down) of all the 8 surrounding cells and itself. If a\n",
    "cell has less than 8 surrounding cells, then use as many as you can.\n",
    "\n",
    "**Example 1:**\n",
    "\n",
    "\n",
    "\n",
    "    Input:\n",
    "    [[1,1,1],\n",
    "     [1,0,1],\n",
    "     [1,1,1]]\n",
    "    Output:\n",
    "    [[0, 0, 0],\n",
    "     [0, 0, 0],\n",
    "     [0, 0, 0]]\n",
    "    Explanation:\n",
    "    For the point (0,0), (0,2), (2,0), (2,2): floor(3/4) = floor(0.75) = 0\n",
    "    For the point (0,1), (1,0), (1,2), (2,1): floor(5/6) = floor(0.83333333) = 0\n",
    "    For the point (1,1): floor(8/9) = floor(0.88888889) = 0\n",
    "\n",
    "\n",
    "**Note:**\n",
    "\n",
    "  1. The value in the given matrix is in the range of [0, 255].\n",
    "  2. The length and width of the given matrix are in the range of [1, 150]."
   ],
   "metadata": {}
  },
  {
   "outputs": [
    {
     "output_type": "execute_result",
     "data": {
      "text/plain": "image_smoother (generic function with 1 method)"
     },
     "metadata": {},
     "execution_count": 1
    }
   ],
   "cell_type": "code",
   "source": [
    "# @lc code=start\n",
    "using LeetCode\n",
    "\n",
    "function image_smoother(img::Matrix{Int})::Matrix{Int}\n",
    "    presum, (m, n) = similar(img), size(img)\n",
    "    presum[1, 1] = img[1, 1]\n",
    "    for i in 2:m\n",
    "        presum[i, 1] = presum[i - 1, 1] + img[i, 1]\n",
    "    end\n",
    "    for j in 2:n\n",
    "        presum[1, j] = presum[1, j - 1] + img[1, j]\n",
    "    end\n",
    "    for i in 2:m, j in 2:n\n",
    "        presum[i, j] =\n",
    "            img[i, j] + presum[i - 1, j] + presum[i, j - 1] - presum[i - 1, j - 1]\n",
    "    end\n",
    "    # obtain results from 2-dim presum\n",
    "    res, indices = similar(img), CartesianIndices(img)\n",
    "    for i in 1:m, j in 1:n\n",
    "        x1 = i > 1 ? i - 2 : i - 1\n",
    "        y1 = j > 1 ? j - 2 : j - 1\n",
    "        x2 = i < m ? i + 1 : i\n",
    "        y2 = j < n ? j + 1 : j\n",
    "        idx1, idx2, idx3, idx4 = CartesianIndex.([(x1, y1), (x1, y2), (x2, y1), (x2, y2)])\n",
    "        area =\n",
    "            presum[idx4] - (idx2 ∈ indices && presum[idx2]) -\n",
    "            (idx3 ∈ indices && presum[idx3]) + (idx1 ∈ indices && presum[idx1])\n",
    "        res[i, j] = area ÷ prod((idx4 - idx1).I)\n",
    "    end\n",
    "    return res\n",
    "end\n",
    "# @lc code=end"
   ],
   "metadata": {},
   "execution_count": 1
  },
  {
   "cell_type": "markdown",
   "source": [
    "---\n",
    "\n",
    "*This notebook was generated using [Literate.jl](https://github.com/fredrikekre/Literate.jl).*"
   ],
   "metadata": {}
  }
 ],
 "nbformat_minor": 3,
 "metadata": {
  "language_info": {
   "file_extension": ".jl",
   "mimetype": "application/julia",
   "name": "julia",
   "version": "1.7.3"
  },
  "kernelspec": {
   "name": "julia-1.7",
   "display_name": "Julia 1.7.3",
   "language": "julia"
  }
 },
 "nbformat": 4
}
