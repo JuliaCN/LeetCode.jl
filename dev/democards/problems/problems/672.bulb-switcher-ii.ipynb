{
 "cells": [
  {
   "cell_type": "markdown",
   "source": [
    "There is a room with `n` lights which are turned on initially and 4 buttons on\n",
    "the wall. After performing exactly `m` unknown operations towards buttons, you\n",
    "need to return how many different kinds of status of the `n` lights could be.\n",
    "\n",
    "Suppose `n` lights are labeled as number [1, 2, 3 ..., n], function of these 4\n",
    "buttons are given below:\n",
    "\n",
    "  1. Flip all the lights.\n",
    "  2. Flip lights with even numbers.\n",
    "  3. Flip lights with odd numbers.\n",
    "  4. Flip lights with (3k + 1) numbers, k = 0, 1, 2, ...\n",
    "\n",
    "\n",
    "\n",
    "**Example 1:**\n",
    "\n",
    "\n",
    "\n",
    "    Input: n = 1, m = 1.\n",
    "    Output: 2\n",
    "    Explanation: Status can be: [on], [off]\n",
    "\n",
    "\n",
    "\n",
    "\n",
    "**Example 2:**\n",
    "\n",
    "\n",
    "\n",
    "    Input: n = 2, m = 1.\n",
    "    Output: 3\n",
    "    Explanation: Status can be: [on, off], [off, on], [off, off]\n",
    "\n",
    "\n",
    "\n",
    "\n",
    "**Example 3:**\n",
    "\n",
    "\n",
    "\n",
    "    Input: n = 3, m = 1.\n",
    "    Output: 4\n",
    "    Explanation: Status can be: [off, on, off], [on, off, on], [off, off, off], [off, on, on].\n",
    "\n",
    "\n",
    "\n",
    "\n",
    "**Note:** `n` and `m` both fit in range [0, 1000]."
   ],
   "metadata": {}
  },
  {
   "outputs": [
    {
     "output_type": "execute_result",
     "data": {
      "text/plain": "flip_lights (generic function with 1 method)"
     },
     "metadata": {},
     "execution_count": 1
    }
   ],
   "cell_type": "code",
   "source": [
    "# @lc code=start\n",
    "using LeetCode\n",
    "\n",
    "function flip_lights(n::Int, m::Int)\n",
    "    n = min(n, 3)\n",
    "    m == 0 && return 1\n",
    "    m == 1 && return [2, 3, 4][n]\n",
    "    m == 2 && return [2, 4, 7][n]\n",
    "    return [2, 4, 8][n]\n",
    "end\n",
    "# @lc code=end"
   ],
   "metadata": {},
   "execution_count": 1
  },
  {
   "cell_type": "markdown",
   "source": [
    "---\n",
    "\n",
    "*This notebook was generated using [Literate.jl](https://github.com/fredrikekre/Literate.jl).*"
   ],
   "metadata": {}
  }
 ],
 "nbformat_minor": 3,
 "metadata": {
  "language_info": {
   "file_extension": ".jl",
   "mimetype": "application/julia",
   "name": "julia",
   "version": "1.7.3"
  },
  "kernelspec": {
   "name": "julia-1.7",
   "display_name": "Julia 1.7.3",
   "language": "julia"
  }
 },
 "nbformat": 4
}
