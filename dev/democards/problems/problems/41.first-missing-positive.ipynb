{
 "cells": [
  {
   "cell_type": "markdown",
   "source": [
    "Given an unsorted integer array `nums`, find the smallest missing positive\n",
    "integer.\n",
    "\n",
    "**Follow up:**  Could you implement an algorithm that runs in `O(n)` time and\n",
    "uses constant extra space.?\n",
    "\n",
    "\n",
    "\n",
    "**Example 1:**\n",
    "\n",
    "\n",
    "\n",
    "    Input: nums = [1,2,0]\n",
    "    Output: 3\n",
    "\n",
    "\n",
    "**Example 2:**\n",
    "\n",
    "\n",
    "\n",
    "    Input: nums = [3,4,-1,1]\n",
    "    Output: 2\n",
    "\n",
    "\n",
    "**Example 3:**\n",
    "\n",
    "\n",
    "\n",
    "    Input: nums = [7,8,9,11,12]\n",
    "    Output: 1\n",
    "\n",
    "\n",
    "\n",
    "\n",
    "**Constraints:**\n",
    "\n",
    "  * `0 <= nums.length <= 300`\n",
    "  * `-231 <= nums[i] <= 231 - 1`"
   ],
   "metadata": {}
  },
  {
   "outputs": [
    {
     "output_type": "execute_result",
     "data": {
      "text/plain": "first_missing_positive (generic function with 1 method)"
     },
     "metadata": {},
     "execution_count": 1
    }
   ],
   "cell_type": "code",
   "source": [
    "# @lc code=start\n",
    "using LeetCode\n",
    "\n",
    "function first_missing_positive(nums::Vector{Int})\n",
    "    len = length(nums)\n",
    "    for idx in 1:len\n",
    "        while nums[idx] <= len && nums[idx] > 0 && nums[nums[idx]] != nums[idx]\n",
    "            num = nums[idx]\n",
    "            nums[idx], nums[num] = nums[num], nums[idx]\n",
    "        end\n",
    "    end\n",
    "    for i in 1:len\n",
    "        (nums[i] != i) && return i\n",
    "    end\n",
    "end\n",
    "# @lc code=end"
   ],
   "metadata": {},
   "execution_count": 1
  },
  {
   "cell_type": "markdown",
   "source": [
    "---\n",
    "\n",
    "*This notebook was generated using [Literate.jl](https://github.com/fredrikekre/Literate.jl).*"
   ],
   "metadata": {}
  }
 ],
 "nbformat_minor": 3,
 "metadata": {
  "language_info": {
   "file_extension": ".jl",
   "mimetype": "application/julia",
   "name": "julia",
   "version": "1.9.1"
  },
  "kernelspec": {
   "name": "julia-1.9",
   "display_name": "Julia 1.9.1",
   "language": "julia"
  }
 },
 "nbformat": 4
}
