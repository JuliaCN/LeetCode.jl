{
 "cells": [
  {
   "cell_type": "markdown",
   "source": [
    "Given two strings `a` and `b`, return the minimum number of times you should\n",
    "repeat string `a` so that string `b` is a substring of it. If it is impossible\n",
    "for `b`​​​​​​ to be a substring of `a` after repeating it, return `-1`.\n",
    "\n",
    "**Notice:**  string `\"abc\"` repeated 0 times is `\"\"`,  repeated 1 time is\n",
    "`\"abc\"` and repeated 2 times is `\"abcabc\"`.\n",
    "\n",
    "\n",
    "\n",
    "**Example 1:**\n",
    "\n",
    "\n",
    "\n",
    "    Input: a = \"abcd\", b = \"cdabcdab\"\n",
    "    Output: 3\n",
    "    Explanation: We return 3 because by repeating a three times \"ab **cdabcdab** cd\", b is a substring of it.\n",
    "\n",
    "\n",
    "**Example 2:**\n",
    "\n",
    "\n",
    "\n",
    "    Input: a = \"a\", b = \"aa\"\n",
    "    Output: 2\n",
    "\n",
    "\n",
    "**Example 3:**\n",
    "\n",
    "\n",
    "\n",
    "    Input: a = \"a\", b = \"a\"\n",
    "    Output: 1\n",
    "\n",
    "\n",
    "**Example 4:**\n",
    "\n",
    "\n",
    "\n",
    "    Input: a = \"abc\", b = \"wxyz\"\n",
    "    Output: -1\n",
    "\n",
    "\n",
    "\n",
    "\n",
    "**Constraints:**\n",
    "\n",
    "  * `1 <= a.length <= 104`\n",
    "  * `1 <= b.length <= 104`\n",
    "  * `a` and `b` consist of lower-case English letters."
   ],
   "metadata": {}
  },
  {
   "outputs": [
    {
     "output_type": "execute_result",
     "data": {
      "text/plain": "repeated_string_match (generic function with 1 method)"
     },
     "metadata": {},
     "execution_count": 1
    }
   ],
   "cell_type": "code",
   "source": [
    "# @lc code=start\n",
    "using LeetCode\n",
    "\n",
    "function repeated_string_match(a::String, b::String)\n",
    "    minres = (length(b) - 1) ÷ length(a) + 1\n",
    "    s = a ^ minres\n",
    "    for i in 0:2\n",
    "        occursin(b, s) && return minres + i\n",
    "        s *= a\n",
    "    end\n",
    "    return -1\n",
    "end\n",
    "# @lc code=end"
   ],
   "metadata": {},
   "execution_count": 1
  },
  {
   "cell_type": "markdown",
   "source": [
    "---\n",
    "\n",
    "*This notebook was generated using [Literate.jl](https://github.com/fredrikekre/Literate.jl).*"
   ],
   "metadata": {}
  }
 ],
 "nbformat_minor": 3,
 "metadata": {
  "language_info": {
   "file_extension": ".jl",
   "mimetype": "application/julia",
   "name": "julia",
   "version": "1.6.2"
  },
  "kernelspec": {
   "name": "julia-1.6",
   "display_name": "Julia 1.6.2",
   "language": "julia"
  }
 },
 "nbformat": 4
}
