{
 "cells": [
  {
   "cell_type": "markdown",
   "source": [
    "Given an integer array, return the k-th smallest **distance** among all the\n",
    "pairs. The distance of a pair (A, B) is defined as the absolute difference\n",
    "between A and B.\n",
    "\n",
    "**Example 1:**\n",
    "\n",
    "\n",
    "\n",
    "    Input:\n",
    "    nums = [1,3,1]\n",
    "    k = 1\n",
    "    **Output: 0**\n",
    "    Explanation:\n",
    "    Here are all the pairs:\n",
    "    (1,3) -> 2\n",
    "    (1,1) -> 0\n",
    "    (3,1) -> 2\n",
    "    Then the 1st smallest distance pair is (1,1), and its distance is 0.\n",
    "\n",
    "\n",
    "**Note:**\n",
    "\n",
    "  1. `2 <= len(nums) <= 10000`.\n",
    "  2. `0 <= nums[i] < 1000000`.\n",
    "  3. `1 <= k <= len(nums) * (len(nums) - 1) / 2`."
   ],
   "metadata": {}
  },
  {
   "outputs": [
    {
     "output_type": "execute_result",
     "data": {
      "text/plain": "smallest_distance_pair (generic function with 1 method)"
     },
     "metadata": {},
     "execution_count": 1
    }
   ],
   "cell_type": "code",
   "source": [
    "# @lc code=start\n",
    "using LeetCode\n",
    "\n",
    "function smallest_distance_pair(nums::Vector{Int}, k::Int)::Int\n",
    "    sort!(nums)\n",
    "    n = length(nums)\n",
    "    function count_not_greater(diff)\n",
    "        i, ans = 1, 0\n",
    "        for j in 2: n\n",
    "            while nums[j] - nums[i] > diff\n",
    "                i += 1\n",
    "            ans += j - i\n",
    "            end\n",
    "        end\n",
    "\n",
    "        return ans\n",
    "    end\n",
    "\n",
    "    left, right = 0, nums[end] - nums[1]\n",
    "    while left <= right\n",
    "        mid = (left + right) >> 1\n",
    "        if count_not_greater(mid) >= k\n",
    "            right = mid - 1\n",
    "        else\n",
    "            left = mid + 1\n",
    "        end\n",
    "    end\n",
    "\n",
    "    return left\n",
    "end\n",
    "# @lc code=end"
   ],
   "metadata": {},
   "execution_count": 1
  },
  {
   "cell_type": "markdown",
   "source": [
    "---\n",
    "\n",
    "*This notebook was generated using [Literate.jl](https://github.com/fredrikekre/Literate.jl).*"
   ],
   "metadata": {}
  }
 ],
 "nbformat_minor": 3,
 "metadata": {
  "language_info": {
   "file_extension": ".jl",
   "mimetype": "application/julia",
   "name": "julia",
   "version": "1.10.1"
  },
  "kernelspec": {
   "name": "julia-1.10",
   "display_name": "Julia 1.10.1",
   "language": "julia"
  }
 },
 "nbformat": 4
}
