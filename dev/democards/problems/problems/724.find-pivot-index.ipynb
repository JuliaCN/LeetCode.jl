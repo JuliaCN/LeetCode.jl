{
 "cells": [
  {
   "cell_type": "markdown",
   "source": [
    "Given an array of integers `nums`, write a method that returns the \"pivot\"\n",
    "index of this array.\n",
    "\n",
    "We define the pivot index as the index where the sum of all the numbers to the\n",
    "left of the index is equal to the sum of all the numbers to the right of the\n",
    "index.\n",
    "\n",
    "If no such index exists, we should return -1. If there are multiple pivot\n",
    "indexes, you should return the left-most pivot index.\n",
    "\n",
    "\n",
    "\n",
    "**Example 1:**\n",
    "\n",
    "\n",
    "\n",
    "    Input: nums = [1,7,3,6,5,6]\n",
    "    Output: 3\n",
    "    Explanation:\n",
    "    The sum of the numbers to the left of index 3 (nums[3] = 6) is equal to the sum of numbers to the right of index 3.\n",
    "    Also, 3 is the first index where this occurs.\n",
    "\n",
    "\n",
    "**Example 2:**\n",
    "\n",
    "\n",
    "\n",
    "    Input: nums = [1,2,3]\n",
    "    Output: -1\n",
    "    Explanation:\n",
    "    There is no index that satisfies the conditions in the problem statement.\n",
    "\n",
    "\n",
    "\n",
    "\n",
    "**Constraints:**\n",
    "\n",
    "  * The length of `nums` will be in the range `[0, 10000]`.\n",
    "  * Each element `nums[i]` will be an integer in the range `[-1000, 1000]`."
   ],
   "metadata": {}
  },
  {
   "outputs": [
    {
     "output_type": "execute_result",
     "data": {
      "text/plain": "pivot_index (generic function with 1 method)"
     },
     "metadata": {},
     "execution_count": 1
    }
   ],
   "cell_type": "code",
   "source": [
    "# @lc code=start\n",
    "using LeetCode\n",
    "\n",
    "function pivot_index(nums::Vector{Int})\n",
    "    if isempty(nums)\n",
    "        return 0\n",
    "    end\n",
    "    total = sum(nums)\n",
    "    left, right = 0, total\n",
    "    for i in 1:length(nums)\n",
    "        right -= nums[i]\n",
    "        if left == right\n",
    "            return i\n",
    "        end\n",
    "        left += nums[i]\n",
    "    end\n",
    "    return (left == nums[end]) ? length(nums) : 0\n",
    "end\n",
    "# @lc code=end"
   ],
   "metadata": {},
   "execution_count": 1
  },
  {
   "cell_type": "markdown",
   "source": [
    "---\n",
    "\n",
    "*This notebook was generated using [Literate.jl](https://github.com/fredrikekre/Literate.jl).*"
   ],
   "metadata": {}
  }
 ],
 "nbformat_minor": 3,
 "metadata": {
  "language_info": {
   "file_extension": ".jl",
   "mimetype": "application/julia",
   "name": "julia",
   "version": "1.9.1"
  },
  "kernelspec": {
   "name": "julia-1.9",
   "display_name": "Julia 1.9.1",
   "language": "julia"
  }
 },
 "nbformat": 4
}
