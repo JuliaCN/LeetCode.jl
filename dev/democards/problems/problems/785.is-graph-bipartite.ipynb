{
 "cells": [
  {
   "cell_type": "markdown",
   "source": [
    "Given an undirected `graph`, return `true` if and only if it is bipartite.\n",
    "\n",
    "Recall that a graph is _bipartite_ if we can split its set of nodes into two\n",
    "independent subsets A and B, such that every edge in the graph has one node in\n",
    "A and another node in B.\n",
    "\n",
    "The graph is given in the following form: `graph[i]` is a list of indexes `j`\n",
    "for which the edge between nodes `i` and `j` exists.  Each node is an integer\n",
    "between `0` and `graph.length - 1`.  There are no self edges or parallel\n",
    "edges: `graph[i]` does not contain `i`, and it doesn't contain any element\n",
    "twice.\n",
    "\n",
    "\n",
    "\n",
    "**Example 1:**\n",
    "\n",
    "![](https://assets.leetcode.com/uploads/2020/10/21/bi1.jpg)\n",
    "\n",
    "\n",
    "\n",
    "    Input: graph = [[1,3],[0,2],[1,3],[0,2]]\n",
    "    Output: true\n",
    "    Explanation: We can divide the vertices into two groups: {0, 2} and {1, 3}.\n",
    "\n",
    "\n",
    "\n",
    "**Example 2:**\n",
    "\n",
    "![](https://assets.leetcode.com/uploads/2020/10/21/bi2.jpg)\n",
    "\n",
    "\n",
    "\n",
    "    Input: graph = [[1,2,3],[0,2],[0,1,3],[0,2]]\n",
    "    Output: false\n",
    "    Explanation: We cannot find a way to divide the set of nodes into two independent subsets.\n",
    "\n",
    "\n",
    "\n",
    "\n",
    "\n",
    "**Constraints:**\n",
    "\n",
    "  * `1 <= graph.length <= 100`\n",
    "  * `0 <= graph[i].length < 100`\n",
    "  * `0 <= graph[i][j] <= graph.length - 1`\n",
    "  * `graph[i][j] != i`\n",
    "  * All the values of `graph[i]` are **unique**.\n",
    "  * The graph is **guaranteed** to be **undirected**."
   ],
   "metadata": {}
  },
  {
   "outputs": [
    {
     "output_type": "execute_result",
     "data": {
      "text/plain": "is_bipartite (generic function with 1 method)"
     },
     "metadata": {},
     "execution_count": 1
    }
   ],
   "cell_type": "code",
   "source": [
    "# @lc code=start\n",
    "using LeetCode\n",
    "\n",
    "function is_bipartite(graph::Vector{Vector{Int}})\n",
    "    for edge in graph\n",
    "        edge .+= 1\n",
    "    end\n",
    "    color = fill(0, length(graph))\n",
    "    q = Queue{Int}()\n",
    "    for i in 1:length(graph)\n",
    "        if color[i] != 0\n",
    "            continue\n",
    "        end\n",
    "        color[i] = 1\n",
    "        enqueue!(q, i)\n",
    "        while !isempty(q)\n",
    "            root = dequeue!(q)\n",
    "            for neighbor in graph[root]\n",
    "                if color[neighbor] == 0\n",
    "                    color[neighbor] = -color[root]\n",
    "                    enqueue!(q, neighbor)\n",
    "                elseif color[neighbor] == color[root]\n",
    "                    return false\n",
    "                end\n",
    "            end\n",
    "        end\n",
    "    end\n",
    "    return true\n",
    "end\n",
    "# @lc code=end"
   ],
   "metadata": {},
   "execution_count": 1
  },
  {
   "cell_type": "markdown",
   "source": [
    "---\n",
    "\n",
    "*This notebook was generated using [Literate.jl](https://github.com/fredrikekre/Literate.jl).*"
   ],
   "metadata": {}
  }
 ],
 "nbformat_minor": 3,
 "metadata": {
  "language_info": {
   "file_extension": ".jl",
   "mimetype": "application/julia",
   "name": "julia",
   "version": "1.5.4"
  },
  "kernelspec": {
   "name": "julia-1.5",
   "display_name": "Julia 1.5.4",
   "language": "julia"
  }
 },
 "nbformat": 4
}
