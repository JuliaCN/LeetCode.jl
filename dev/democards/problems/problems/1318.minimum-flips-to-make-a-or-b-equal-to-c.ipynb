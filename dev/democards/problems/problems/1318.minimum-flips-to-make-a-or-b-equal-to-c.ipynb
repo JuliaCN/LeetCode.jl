{
 "cells": [
  {
   "cell_type": "markdown",
   "source": [
    "Given 3 positives numbers `a`, `b` and `c`. Return the minimum flips required\n",
    "in some bits of `a` and `b` to make ( `a` OR `b` == `c` ). (bitwise OR\n",
    "operation).\n",
    "Flip operation consists of change  **any**  single bit 1 to 0 or change the\n",
    "bit 0 to 1 in their binary representation.\n",
    "\n",
    "\n",
    "\n",
    "**Example 1:**\n",
    "\n",
    "![](https://assets.leetcode.com/uploads/2020/01/06/sample_3_1676.png)\n",
    "\n",
    "\n",
    "\n",
    "    Input: a = 2, b = 6, c = 5\n",
    "    Output: 3\n",
    "    Explanation: After flips a = 1 , b = 4 , c = 5 such that (a OR b == c)\n",
    "\n",
    "**Example 2:**\n",
    "\n",
    "\n",
    "\n",
    "    Input: a = 4, b = 2, c = 7\n",
    "    Output: 1\n",
    "\n",
    "\n",
    "**Example 3:**\n",
    "\n",
    "\n",
    "\n",
    "    Input: a = 1, b = 2, c = 3\n",
    "    Output: 0\n",
    "\n",
    "\n",
    "\n",
    "\n",
    "**Constraints:**\n",
    "\n",
    "  * `1 <= a <= 10^9`\n",
    "  * `1 <= b <= 10^9`\n",
    "  * `1 <= c <= 10^9`"
   ],
   "metadata": {}
  },
  {
   "outputs": [
    {
     "output_type": "execute_result",
     "data": {
      "text/plain": "min_flip (generic function with 2 methods)"
     },
     "metadata": {},
     "execution_count": 1
    }
   ],
   "cell_type": "code",
   "source": [
    "# @lc code=start\n",
    "using LeetCode\n",
    "\n",
    "min_flip(a, b, c) = min_flip(a|>Int32, b|>Int32, c|>Int32)\n",
    "function min_flip(a::Int32, b::Int32, c::Int32)\n",
    "    sa, sb, sc = bitstring.([a, b, c])\n",
    "    res = 0\n",
    "    for i in 1:32\n",
    "        if sc[i] == '1'\n",
    "            (sa[i] == '0' == sb[i]) && (res += 1)\n",
    "        else\n",
    "            res += (sa[i] == '1') + (sb[i] == '1')\n",
    "        end\n",
    "    end\n",
    "    res\n",
    "end\n",
    "# @lc code=end"
   ],
   "metadata": {},
   "execution_count": 1
  },
  {
   "cell_type": "markdown",
   "source": [
    "---\n",
    "\n",
    "*This notebook was generated using [Literate.jl](https://github.com/fredrikekre/Literate.jl).*"
   ],
   "metadata": {}
  }
 ],
 "nbformat_minor": 3,
 "metadata": {
  "language_info": {
   "file_extension": ".jl",
   "mimetype": "application/julia",
   "name": "julia",
   "version": "1.7.2"
  },
  "kernelspec": {
   "name": "julia-1.7",
   "display_name": "Julia 1.7.2",
   "language": "julia"
  }
 },
 "nbformat": 4
}
